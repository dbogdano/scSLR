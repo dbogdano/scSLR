{
 "cells": [
  {
   "cell_type": "markdown",
   "id": "fefc8fc5-fb33-4f78-8d0f-463586121027",
   "metadata": {},
   "source": [
    "## scQuint Data annotation"
   ]
  },
  {
   "cell_type": "code",
   "execution_count": 1,
   "id": "b5c4bc37-5972-4d45-9a5d-98e1da7d3267",
   "metadata": {
    "tags": []
   },
   "outputs": [],
   "source": [
    "##processing pipeline of cellxSJ matric StarSolo output for use with scQuint. Scripts by Gonzalo Benegas"
   ]
  },
  {
   "cell_type": "code",
   "execution_count": 2,
   "id": "2c95220b-e96a-452d-b6d8-01e56f4ecd65",
   "metadata": {
    "tags": []
   },
   "outputs": [
    {
     "name": "stdout",
     "output_type": "stream",
     "text": [
      "Wed Oct 25 15:36:33 PDT 2023\n"
     ]
    }
   ],
   "source": [
    "!date"
   ]
  },
  {
   "cell_type": "code",
   "execution_count": 3,
   "id": "07292884-176b-4a93-be11-f54b5c3dec0d",
   "metadata": {
    "tags": []
   },
   "outputs": [
    {
     "name": "stdout",
     "output_type": "stream",
     "text": [
      "/c4/home/derek/miniconda3/envs/scquint_4\n"
     ]
    }
   ],
   "source": [
    "!echo $CONDA_PREFIX"
   ]
  },
  {
   "cell_type": "code",
   "execution_count": 4,
   "id": "b81472c9-615a-4ed4-8901-6daeeddd9fa2",
   "metadata": {
    "tags": []
   },
   "outputs": [],
   "source": [
    "import matplotlib.pyplot as plt\n",
    "import numpy as np\n",
    "import os\n",
    "import pandas as pd\n",
    "import seaborn as sns\n",
    "\n",
    "import re\n",
    "from pyliftover import LiftOver"
   ]
  },
  {
   "cell_type": "code",
   "execution_count": 5,
   "id": "2ffb8238-8f84-4c5c-86b9-4055d8aff86f",
   "metadata": {
    "tags": []
   },
   "outputs": [],
   "source": [
    "import warnings\n",
    "from pandas.errors import SettingWithCopyWarning\n",
    "\n",
    "warnings.simplefilter(action=\"ignore\", category=SettingWithCopyWarning)"
   ]
  },
  {
   "cell_type": "code",
   "execution_count": 6,
   "id": "15529919-48de-448f-bb8c-30a19fedc72d",
   "metadata": {
    "tags": []
   },
   "outputs": [],
   "source": [
    "output_dir = '/c4/home/derek/data1/derek/data_scSLR/prenatal_brain/'"
   ]
  },
  {
   "cell_type": "markdown",
   "id": "00380636-0c20-4a0d-9041-98617bfd562f",
   "metadata": {},
   "source": [
    "## load data from scquint differntial splicing"
   ]
  },
  {
   "cell_type": "code",
   "execution_count": 7,
   "id": "87b00d46-839f-4374-af44-b21a5a0b52f0",
   "metadata": {},
   "outputs": [],
   "source": [
    "diff_spl_introns = pd.read_csv(output_dir+ 'diff_spliced_introns_all_equal.csv',index_col=0)\n",
    "diff_spl_intron_groups = pd.read_csv(output_dir+'diff_spliced_intron_groups_all_equal.csv',index_col=0)"
   ]
  },
  {
   "cell_type": "code",
   "execution_count": 8,
   "id": "dcdd2744-9982-49bf-9bc8-900ef19b06d9",
   "metadata": {
    "tags": []
   },
   "outputs": [
    {
     "data": {
      "text/plain": [
       "57218"
      ]
     },
     "execution_count": 8,
     "metadata": {},
     "output_type": "execute_result"
    }
   ],
   "source": [
    "diff_spl_introns.name.nunique()"
   ]
  },
  {
   "cell_type": "code",
   "execution_count": 9,
   "id": "ad859089-47fc-4931-92b5-aff4284b4200",
   "metadata": {
    "tags": []
   },
   "outputs": [
    {
     "data": {
      "text/plain": [
       "(4877, 12)"
      ]
     },
     "execution_count": 9,
     "metadata": {},
     "output_type": "execute_result"
    }
   ],
   "source": [
    "sig_diff_spl_intron_groups = diff_spl_intron_groups.query('p_value_adj < 0.05')\n",
    "\n",
    "sig_diff_spl_introns = diff_spl_introns[diff_spl_introns.intron_group.isin(sig_diff_spl_intron_groups.name)]\n",
    "\n",
    "\n",
    "sig_diff_spl_intron_groups.shape"
   ]
  },
  {
   "cell_type": "code",
   "execution_count": 10,
   "id": "23e0ea92-ea8a-4a03-979e-8af42e57bdd2",
   "metadata": {
    "tags": []
   },
   "outputs": [
    {
     "data": {
      "text/plain": [
       "7151"
      ]
     },
     "execution_count": 10,
     "metadata": {},
     "output_type": "execute_result"
    }
   ],
   "source": [
    "sig_diff_spl_introns.name.nunique()"
   ]
  },
  {
   "cell_type": "code",
   "execution_count": null,
   "id": "d9e6cef0-1159-4dcb-984f-2547a8fc3645",
   "metadata": {},
   "outputs": [],
   "source": []
  },
  {
   "cell_type": "code",
   "execution_count": 11,
   "id": "415c2b87-accb-483b-8473-e8c50e08d0fd",
   "metadata": {},
   "outputs": [],
   "source": [
    "introns = pd.read_csv('sig_dfc_introns_PT.csv',index_col=0)"
   ]
  },
  {
   "cell_type": "code",
   "execution_count": 12,
   "id": "695e0fc2-13d1-45d4-858f-5ebfe86f349a",
   "metadata": {
    "tags": []
   },
   "outputs": [],
   "source": [
    "introns = sig_diff_spl_introns.drop_duplicates(['chromosome', 'start', 'end', 'strand', 'intron_motif', 'n_cells',\n",
    "       'gene_id_start', 'gene_id_end', 'n_genes', 'gene_id', 'gene_name',\n",
    "        'intron_group',\n",
    "        'intron_group_size',\n",
    "       'n_genes_per_intron_group']).drop(['psi_a','psi_b','delta_psi','lfc_psi','abs_delta_psi','abs_lfc_psi','test_group'],axis=1).reset_index(drop=True)"
   ]
  },
  {
   "cell_type": "markdown",
   "id": "1f45434b-096a-4714-a2f6-3209921ebcda",
   "metadata": {
    "tags": []
   },
   "source": [
    "## annotate exons"
   ]
  },
  {
   "cell_type": "code",
   "execution_count": 13,
   "id": "402cbfbc-4e9f-4452-ba97-e4f08bd90db6",
   "metadata": {
    "tags": []
   },
   "outputs": [],
   "source": [
    "##get HEXEvent database \n",
    "\n",
    "db = pd.read_csv('/c4/home/derek/data1/derek/reference/HEXEvent/result-2.txt',sep='\\t')\n",
    "\n",
    "##shift start coordinate to 1 based \n",
    "db['start'] = db['start'] +1\n",
    "\n",
    "db['exon'] = db['chromo'].astype(str)+':'+db['start'].astype(str)+'-'+db['end'].astype(str)+':'+db['strand'].astype(str)"
   ]
  },
  {
   "cell_type": "code",
   "execution_count": null,
   "id": "1cbf75fe-3b61-4c08-b5b2-b90edf4af18f",
   "metadata": {},
   "outputs": [],
   "source": []
  },
  {
   "cell_type": "code",
   "execution_count": 14,
   "id": "27996f45-9f57-49d5-950f-8aa0ad28cfa3",
   "metadata": {
    "tags": []
   },
   "outputs": [
    {
     "name": "stderr",
     "output_type": "stream",
     "text": [
      "/scratch/derek/ipykernel_36471/3190734895.py:3: DtypeWarning: Columns (0) have mixed types. Specify dtype option on import or set low_memory=False.\n",
      "  gtf = pd.read_csv(\n"
     ]
    }
   ],
   "source": [
    "gtf_path = '/c4/home/derek/data1/derek/reference/Homo_sapiens.GRCh38.109.introns.gtf' #human_hp3_reference/genes/genes.gtf'\n",
    "    \n",
    "gtf = pd.read_csv(\n",
    "    gtf_path,\n",
    "    sep=\"\\t\",\n",
    "    header=None,\n",
    "    comment=\"#\",\n",
    "    names=[\n",
    "        \"chromosome\",\n",
    "        \"source\",\n",
    "        \"feature\",\n",
    "        \"start\",\n",
    "        \"end\",\n",
    "        \"score\",\n",
    "        \"strand\",\n",
    "        \"frame\",\n",
    "        \"attribute\",\n",
    "    ],\n",
    ")"
   ]
  },
  {
   "cell_type": "code",
   "execution_count": 15,
   "id": "f2b4ba05-e490-422f-8641-8167f7e9a4e3",
   "metadata": {
    "tags": []
   },
   "outputs": [],
   "source": [
    "gtf_exon = gtf[gtf['feature'] == 'exon']"
   ]
  },
  {
   "cell_type": "code",
   "execution_count": 16,
   "id": "15697dfc-3213-45af-8fd2-82c7ffcecd41",
   "metadata": {
    "tags": []
   },
   "outputs": [],
   "source": [
    "gtf_exon['transcript'] = gtf_exon.attribute.str.extract(r'Parent=([A-Za-z0-9]+);')"
   ]
  },
  {
   "cell_type": "code",
   "execution_count": null,
   "id": "c3046683-16aa-4529-a4e0-fe70ea9ec4a3",
   "metadata": {
    "tags": []
   },
   "outputs": [],
   "source": []
  },
  {
   "cell_type": "code",
   "execution_count": 17,
   "id": "6d35fe1f-c476-4b82-b48c-1c62d2436d06",
   "metadata": {},
   "outputs": [],
   "source": [
    "##get annotated mutually exclusive exons\n",
    "\n",
    "gtf_path = '/c4/home/derek/data1/derek/reference/Hs_MXE_validated.gtf'\n",
    "    \n",
    "gtf_MXE = pd.read_csv(\n",
    "    gtf_path,\n",
    "    sep=\"\\t\",\n",
    "    header=None,\n",
    "    comment=\"#\",\n",
    "    names=[\n",
    "        \"chromosome\",\n",
    "        \"source\",\n",
    "        \"feature\",\n",
    "        \"start\",\n",
    "        \"end\",\n",
    "        \"score\",\n",
    "        \"strand\",\n",
    "        \"frame\",\n",
    "        \"attribute\",\n",
    "    ],\n",
    ")"
   ]
  },
  {
   "cell_type": "code",
   "execution_count": 18,
   "id": "90332ce3-5a28-4717-b826-78187a3b80b5",
   "metadata": {},
   "outputs": [],
   "source": [
    "##liftover MXE coordinates from hg19 to hg38\n",
    "\n",
    "lo = LiftOver('hg19', 'hg38')\n",
    "\n",
    "new_coords = pd.DataFrame()\n",
    "\n",
    "for index, row in gtf_MXE.iterrows():\n",
    "    start = lo.convert_coordinate(row['chromosome'], row['start'])\n",
    "    end = lo.convert_coordinate(row['chromosome'], row['end'])\n",
    "    \n",
    "    \n",
    "    new_coords = pd.concat([new_coords,pd.DataFrame([start[0][1],end[0][1]]).T])\n",
    "    \n",
    "new_coords = new_coords.reset_index(drop=True)\n",
    "\n",
    "gtf_MXE['start'] = new_coords[0]\n",
    "gtf_MXE['end'] = new_coords[1]"
   ]
  },
  {
   "cell_type": "code",
   "execution_count": 19,
   "id": "682008da-c5b4-46e2-a31f-5dc3fd318a07",
   "metadata": {},
   "outputs": [],
   "source": [
    "gtf_MXE['gene_name'] = gtf_MXE.attribute.str.extract(r'gene_id \"([A-Za-z0-9]+)\";')\n",
    "\n",
    "gtf_MXE['exon'] = gtf_MXE['chromosome'].astype(str)+':'+gtf_MXE['start'].astype(str)+'-'+gtf_MXE['end'].astype(str)+':'+gtf_MXE['strand'].astype(str)"
   ]
  },
  {
   "cell_type": "code",
   "execution_count": null,
   "id": "f11ab32e-c06d-4d56-bbeb-7f1be6d70bc2",
   "metadata": {},
   "outputs": [],
   "source": []
  },
  {
   "cell_type": "code",
   "execution_count": 22,
   "id": "dfd8bb57-528a-48cd-9723-f0f39b1c6c54",
   "metadata": {
    "tags": []
   },
   "outputs": [
    {
     "data": {
      "text/html": [
       "<div>\n",
       "<style scoped>\n",
       "    .dataframe tbody tr th:only-of-type {\n",
       "        vertical-align: middle;\n",
       "    }\n",
       "\n",
       "    .dataframe tbody tr th {\n",
       "        vertical-align: top;\n",
       "    }\n",
       "\n",
       "    .dataframe thead th {\n",
       "        text-align: right;\n",
       "    }\n",
       "</style>\n",
       "<table border=\"1\" class=\"dataframe\">\n",
       "  <thead>\n",
       "    <tr style=\"text-align: right;\">\n",
       "      <th></th>\n",
       "      <th>chromosome</th>\n",
       "      <th>source</th>\n",
       "      <th>feature</th>\n",
       "      <th>start</th>\n",
       "      <th>end</th>\n",
       "      <th>score</th>\n",
       "      <th>strand</th>\n",
       "      <th>frame</th>\n",
       "      <th>attribute</th>\n",
       "      <th>gene_name</th>\n",
       "      <th>exon</th>\n",
       "    </tr>\n",
       "  </thead>\n",
       "  <tbody>\n",
       "    <tr>\n",
       "      <th>781</th>\n",
       "      <td>chr18</td>\n",
       "      <td>kassiopeia</td>\n",
       "      <td>CDS</td>\n",
       "      <td>55403454</td>\n",
       "      <td>55403518</td>\n",
       "      <td>13.533835</td>\n",
       "      <td>-</td>\n",
       "      <td>1</td>\n",
       "      <td>exon_id \"hsap00002418\"; gene_id \"TCF4\"; cluste...</td>\n",
       "      <td>TCF4</td>\n",
       "      <td>chr18:55403454-55403518:-</td>\n",
       "    </tr>\n",
       "    <tr>\n",
       "      <th>1106</th>\n",
       "      <td>chr18</td>\n",
       "      <td>kassiopeia</td>\n",
       "      <td>CDS</td>\n",
       "      <td>55398894</td>\n",
       "      <td>55398967</td>\n",
       "      <td>15.126050</td>\n",
       "      <td>-</td>\n",
       "      <td>1</td>\n",
       "      <td>exon_id \"hsapMXE24881738\"; gene_id \"TCF4\"; clu...</td>\n",
       "      <td>TCF4</td>\n",
       "      <td>chr18:55398894-55398967:-</td>\n",
       "    </tr>\n",
       "  </tbody>\n",
       "</table>\n",
       "</div>"
      ],
      "text/plain": [
       "     chromosome      source feature     start       end      score strand  \\\n",
       "781       chr18  kassiopeia     CDS  55403454  55403518  13.533835      -   \n",
       "1106      chr18  kassiopeia     CDS  55398894  55398967  15.126050      -   \n",
       "\n",
       "      frame                                          attribute gene_name  \\\n",
       "781       1  exon_id \"hsap00002418\"; gene_id \"TCF4\"; cluste...      TCF4   \n",
       "1106      1  exon_id \"hsapMXE24881738\"; gene_id \"TCF4\"; clu...      TCF4   \n",
       "\n",
       "                           exon  \n",
       "781   chr18:55403454-55403518:-  \n",
       "1106  chr18:55398894-55398967:-  "
      ]
     },
     "execution_count": 22,
     "metadata": {},
     "output_type": "execute_result"
    }
   ],
   "source": [
    "gtf_MXE[gtf_MXE.gene_name == 'TCF4']"
   ]
  },
  {
   "cell_type": "code",
   "execution_count": null,
   "id": "9564a6c0-efa4-4622-9124-08ba9ee20758",
   "metadata": {},
   "outputs": [],
   "source": []
  },
  {
   "cell_type": "code",
   "execution_count": null,
   "id": "708c21d0-d62c-4609-b312-492c3925620c",
   "metadata": {},
   "outputs": [],
   "source": []
  },
  {
   "cell_type": "code",
   "execution_count": null,
   "id": "0393b664-f6e4-4187-8c38-93f0f29996b1",
   "metadata": {},
   "outputs": [],
   "source": []
  },
  {
   "cell_type": "markdown",
   "id": "48938dd6-0595-41bf-ae36-fa75c0465264",
   "metadata": {},
   "source": [
    "### get alt first and last exon annotations"
   ]
  },
  {
   "cell_type": "code",
   "execution_count": 20,
   "id": "ff898d86-a6ee-4149-a979-9eb29491df11",
   "metadata": {
    "tags": []
   },
   "outputs": [],
   "source": [
    "gb = gtf_exon.groupby('transcript')"
   ]
  },
  {
   "cell_type": "code",
   "execution_count": 21,
   "id": "e14aab3b-60b1-4c04-9f29-436bd750691c",
   "metadata": {},
   "outputs": [
    {
     "name": "stdout",
     "output_type": "stream",
     "text": [
      "CPU times: user 1min 37s, sys: 2.19 s, total: 1min 39s\n",
      "Wall time: 1min 39s\n"
     ]
    }
   ],
   "source": [
    "%%time\n",
    "gtf_first_exon = gb.apply(lambda x: x.sort_values(by='start').iloc[0] if x.strand.iloc[0] == '+' \\\n",
    "                          else x.sort_values(by='end',ascending=False).iloc[0]\n",
    ")"
   ]
  },
  {
   "cell_type": "code",
   "execution_count": null,
   "id": "da46ade6-c3ee-4f89-9c89-28b9beb4dce4",
   "metadata": {
    "tags": []
   },
   "outputs": [],
   "source": []
  },
  {
   "cell_type": "code",
   "execution_count": 22,
   "id": "922653a9-9aee-4dca-b15e-a80f607c2a9e",
   "metadata": {
    "tags": []
   },
   "outputs": [],
   "source": [
    "gtf_first_exon.loc[:,'chromo'] = 'chr'+gtf_first_exon['chromosome'].astype(str)\n",
    "gtf_first_exon.loc[:,'end'] = gtf_first_exon.end\n",
    "gtf_first_exon.loc[:,\"genename\"] = gtf_first_exon.attribute.str.extract(r'gene_name=([A-Za-z0-9]+);')\n",
    "gtf_first_exon.loc[:,'exon'] = gtf_first_exon['chromo'].astype(str)+':'+gtf_first_exon['start'].astype(str)+'-'+gtf_first_exon['end'].astype(str)+':'+gtf_first_exon['strand'].astype(str)"
   ]
  },
  {
   "cell_type": "code",
   "execution_count": 23,
   "id": "515e675a-f825-45cd-9c6d-513591936ea5",
   "metadata": {
    "tags": []
   },
   "outputs": [
    {
     "name": "stdout",
     "output_type": "stream",
     "text": [
      "CPU times: user 1min 37s, sys: 1.3 s, total: 1min 39s\n",
      "Wall time: 1min 38s\n"
     ]
    }
   ],
   "source": [
    "%%time\n",
    "gtf_last_exon = gb.apply(lambda x: x.sort_values(by='start').iloc[-1] if x.strand.iloc[0] == '+' \\\n",
    "                          else x.sort_values(by='end',ascending=False).iloc[-1]\n",
    ")"
   ]
  },
  {
   "cell_type": "code",
   "execution_count": 24,
   "id": "ff4353af-8477-4f6e-b990-49d0b6eee9e2",
   "metadata": {},
   "outputs": [],
   "source": [
    "\n",
    "gtf_last_exon.loc[:,'chromo'] = 'chr'+gtf_last_exon['chromosome'].astype(str)\n",
    "gtf_last_exon.loc[:,'start'] = gtf_last_exon.start\n",
    "gtf_last_exon.loc[:,\"genename\"] = gtf_last_exon.attribute.str.extract(r'gene_name=([A-Za-z0-9]+);')\n",
    "gtf_last_exon.loc[:,'exon'] = gtf_last_exon['chromo'].astype(str)+':'+gtf_last_exon['start'].astype(str)+'-'+gtf_last_exon['end'].astype(str)+':'+gtf_last_exon['strand'].astype(str)\n"
   ]
  },
  {
   "cell_type": "code",
   "execution_count": 25,
   "id": "a951f605-bdc4-4614-9905-0e1c51bd9c52",
   "metadata": {},
   "outputs": [
    {
     "name": "stdout",
     "output_type": "stream",
     "text": [
      "CPU times: user 2min 13s, sys: 681 ms, total: 2min 13s\n",
      "Wall time: 2min 13s\n"
     ]
    }
   ],
   "source": [
    "%%time\n",
    "\n",
    "exon_dict = {}\n",
    "event_type_dict = {}\n",
    "length_dict = {}\n",
    "\n",
    "db_count_dict = {}\n",
    "constit_level_dict = {}\n",
    "\n",
    "\n",
    "\n",
    "for index, row in introns.iterrows():\n",
    "\n",
    "    if (((row['strand'] == '+') & (row['grouping'] == 'five_prime')) or ((row['strand'] == '-') & (row['grouping'] == 'three_prime'))):\n",
    "\n",
    "        coord = row['end']+1 \n",
    "        \n",
    "\n",
    "        ##check for MXEs\n",
    "        if coord in gtf_MXE['start'].values:\n",
    "            exon = gtf_MXE[gtf_MXE['start'] == coord]\n",
    "            \n",
    "            call= exon['exon'].iloc[0]\n",
    "            event_type = 'MXE'\n",
    "            \n",
    "            length = int(call.split(':')[1].split('-')[1]) -int(call.split(':')[1].split('-')[0]) \n",
    "            \n",
    "            constit_level = 0\n",
    "                    \n",
    "        \n",
    "        ##check for cassette exons\n",
    "        elif coord in db['start'].values:\n",
    "            exon = db[db['start'] == coord]\n",
    "            \n",
    "            call= exon['exon'].iloc[0]\n",
    "            event_type = 'cassette'\n",
    "            \n",
    "            length = int(call.split(':')[1].split('-')[1]) -int(call.split(':')[1].split('-')[0])  \n",
    "            \n",
    "            constit_level = exon['constitLevel'].iloc[0]\n",
    "            \n",
    "            \n",
    "        ##check for alt5s    \n",
    "        elif coord in db[db['alt5singleLoc'] != '#']['alt5singleLoc'].str.split(',',expand=True).stack().reset_index()[0].values.astype(int)+1:   \n",
    "            \n",
    "            ind = db[db['alt5singleLoc'] != '#']['alt5singleLoc'].str.split(',',expand=True).stack(\n",
    "            ).reset_index()[db[db['alt5singleLoc'] != '#']['alt5singleLoc'].str.split(',',expand=True).stack(\n",
    "            ).reset_index()[0].values.astype(int) == (coord-1)]['level_0'].values[0]\n",
    "            \n",
    "            exon = db.iloc[ind]   \n",
    "            \n",
    "            call = exon['chromo']+':'+str(coord)+'-'+exon['end'].astype(str)+':'+exon['strand']\n",
    "            \n",
    "            if exon['strand'] == '+':\n",
    "                event_type = None\n",
    "            else:    \n",
    "                event_type = 'alt5'\n",
    "                \n",
    "            length = int(call.split(':')[1].split('-')[1]) -int(call.split(':')[1].split('-')[0])  \n",
    "            \n",
    "            constit_level = 0\n",
    "\n",
    "            \n",
    "        #check for alt3s\n",
    "        elif coord in db[db['alt3singleLoc'] != '#']['alt3singleLoc'].str.split(',',expand=True).stack().reset_index()[0].values.astype(int)+1:\n",
    "            \n",
    "            ind = db[db['alt3singleLoc'] != '#']['alt3singleLoc'].str.split(',',expand=True).stack(\n",
    "            ).reset_index()[db[db['alt3singleLoc'] != '#']['alt3singleLoc'].str.split(',',expand=True).stack(\n",
    "            ).reset_index()[0].values.astype(int) == (coord-1)]['level_0'].values[0]\n",
    "            \n",
    "            exon = db.iloc[ind]\n",
    "            \n",
    "            call = exon['chromo']+':'+str(coord)+'-'+exon['end'].astype(str)+':'+exon['strand']\n",
    "            \n",
    "            if exon['strand'] == '+':\n",
    "                event_type = 'alt3'\n",
    "            else:\n",
    "                event_type = None\n",
    "            \n",
    "            length = int(call.split(':')[1].split('-')[1]) -int(call.split(':')[1].split('-')[0]) \n",
    "\n",
    "            constit_level = 0\n",
    "        \n",
    "        #check for alt35 & 5 - as cassette exons\n",
    "        elif coord in db[db['alt3and5singleLoc'] != '#']['alt3and5singleLoc'].str.split(',',expand=True).stack().reset_index()[0].str.split('-',expand=True)[0].values.astype(int)+1:   ###+1\n",
    "        \n",
    "            ind = db[db['alt3and5singleLoc'] != '#']['alt3and5singleLoc'].str.split(',',expand=True).stack(\n",
    "            ).reset_index()[db[db['alt3and5singleLoc'] != '#']['alt3and5singleLoc'].str.split(',',expand=True).stack(\n",
    "            ).reset_index()[0].str.split('-',expand=True)[0].values.astype(int) == (coord-1)]['level_0'].iloc[0]\n",
    "        \n",
    "            \n",
    "            exon = db.iloc[ind]\n",
    "            \n",
    "            for item in exon['alt3and5singleLoc'].split(','):\n",
    "                if str(coord-1) in item.split('-'):\n",
    "                    call_ = item\n",
    "            \n",
    "            call = exon['chromo']+':'+call_+':'+exon['strand']\n",
    "            \n",
    "            if exon['strand'] == '+':\n",
    "                event_type = None\n",
    "            else:    \n",
    "                event_type = 'cassette'\n",
    "                \n",
    "            length = int(call.split(':')[1].split('-')[1]) -int(call.split(':')[1].split('-')[0])\n",
    "            \n",
    "            constit_level = 0\n",
    "        \n",
    "        #check for alt first exons\n",
    "        elif coord in gtf_first_exon['start'].values:\n",
    "            event_type = 'first_exon'\n",
    "            \n",
    "            call = gtf_first_exon[gtf_first_exon['start'] == coord]['exon'].iloc[0]\n",
    "            \n",
    "            length = int(call.split(':')[1].split('-')[1]) -int(call.split(':')[1].split('-')[0]) \n",
    "        \n",
    "            constit_level = 0\n",
    "            \n",
    "        ##check for alt last exons\n",
    "        elif coord in gtf_last_exon['start'].values:\n",
    "            event_type = 'last_exon'\n",
    "            call = gtf_last_exon[gtf_last_exon['start'] == coord]['exon'].iloc[0]\n",
    "            \n",
    "            length = int(call.split(':')[1].split('-')[1]) -int(call.split(':')[1].split('-')[0]) \n",
    "        \n",
    "            constit_level = 0\n",
    "        else:\n",
    "            call = None\n",
    "            event_type = None\n",
    "            \n",
    "            length = None\n",
    "            \n",
    "            constit_level = None\n",
    "            \n",
    "          \n",
    "            \n",
    "    else:\n",
    "        coord = row['start']-1\n",
    "        \n",
    "        \n",
    "        ##check for MXEs\n",
    "        if coord in gtf_MXE['end'].values:\n",
    "            exon = gtf_MXE[gtf_MXE['end'] == coord]\n",
    "            \n",
    "            call= exon['exon'].iloc[0]\n",
    "            event_type = 'MXE'\n",
    "            \n",
    "            length = int(call.split(':')[1].split('-')[1]) -int(call.split(':')[1].split('-')[0]) \n",
    "\n",
    "            constit_level = 0\n",
    "        #note cassette exons\n",
    "        elif coord in db['end'].values:\n",
    "            exon = db[db['end'] == coord]\n",
    "            \n",
    "            call= exon['exon'].iloc[0]\n",
    "            event_type = 'cassette'\n",
    "            \n",
    "            length = int(call.split(':')[1].split('-')[1]) -int(call.split(':')[1].split('-')[0])\n",
    "            \n",
    "            constit_level = exon['constitLevel'].iloc[0]\n",
    "            \n",
    "        #check for alt5s \n",
    "        elif coord in db[db['alt3singleLoc'] != '#']['alt3singleLoc'].str.split(',',expand=True).stack().reset_index()[0].values.astype(int):\n",
    "            \n",
    "            ind = db[db['alt3singleLoc'] != '#']['alt3singleLoc'].str.split(',',expand=True).stack(\n",
    "            ).reset_index()[db[db['alt3singleLoc'] != '#']['alt3singleLoc'].str.split(',',expand=True).stack(\n",
    "            ).reset_index()[0].values.astype(int) == coord]['level_0'].iloc[0]\n",
    "            \n",
    "            exon = db.iloc[ind]\n",
    "            \n",
    "            call = exon['chromo']+':'+exon['start'].astype(str)+'-'+str(coord)+':'+exon['strand']\n",
    "            \n",
    "            if exon['strand'] == '+':\n",
    "                event_type = None\n",
    "            else:\n",
    "                event_type = 'alt3'\n",
    "            \n",
    "            length = int(call.split(':')[1].split('-')[1]) -int(call.split(':')[1].split('-')[0])\n",
    "            \n",
    "            constit_level = 0\n",
    "            \n",
    "        #check for alt3s \n",
    "        elif coord in db[db['alt5singleLoc'] != '#']['alt5singleLoc'].str.split(',',expand=True).stack().reset_index()[0].values.astype(int):\n",
    "            \n",
    "            ind = db[db['alt5singleLoc'] != '#']['alt5singleLoc'].str.split(',',expand=True).stack(\n",
    "            ).reset_index()[db[db['alt5singleLoc'] != '#']['alt5singleLoc'].str.split(',',expand=True).stack(\n",
    "            ).reset_index()[0].values.astype(int) == coord]['level_0'].iloc[0]\n",
    "            \n",
    "            exon = db.iloc[ind]\n",
    "            \n",
    "            call = exon['chromo']+':'+exon['start'].astype(str)+'-'+str(coord)+':'+exon['strand']\n",
    "            \n",
    "            if exon['strand'] == '+':\n",
    "                event_type = 'alt5'\n",
    "            else:\n",
    "                event_type = None\n",
    "            \n",
    "            length = int(call.split(':')[1].split('-')[1]) -int(call.split(':')[1].split('-')[0])\n",
    "        \n",
    "            constit_level = 0\n",
    "            \n",
    "        #check for alt35 & 5 - as cassette exons\n",
    "        elif coord in db[db['alt3and5singleLoc'] != '#']['alt3and5singleLoc'].str.split(',',expand=True).stack().reset_index()[0].str.split('-',expand=True)[1].values.astype(int):\n",
    "        \n",
    "            ind = db[db['alt3and5singleLoc'] != '#']['alt3and5singleLoc'].str.split(',',expand=True).stack(\n",
    "            ).reset_index()[db[db['alt3and5singleLoc'] != '#']['alt3and5singleLoc'].str.split(',',expand=True).stack(\n",
    "            ).reset_index()[0].str.split('-',expand=True)[1].values.astype(int) == coord]['level_0'].iloc[0]\n",
    "        \n",
    "            \n",
    "            exon = db.iloc[ind]\n",
    "            \n",
    "            for item in exon['alt3and5singleLoc'].split(','):\n",
    "                if str(coord) in item.split('-'):\n",
    "                    call_ = item\n",
    "                \n",
    "            \n",
    "            call = exon['chromo']+':'+call_+':'+exon['strand']\n",
    "\n",
    "            \n",
    "            if exon['strand'] == '+':\n",
    "                event_type = 'cassette'\n",
    "            else:    \n",
    "                event_type = None\n",
    "            \n",
    "            length = int(call.split(':')[1].split('-')[1]) -int(call.split(':')[1].split('-')[0])\n",
    "        \n",
    "            constit_level = 0\n",
    "        \n",
    "        elif coord in gtf_last_exon['end'].values:\n",
    "            event_type = 'last_exon'\n",
    "            call = gtf_last_exon[gtf_last_exon['end'] == coord]['exon'].iloc[0]\n",
    "            \n",
    "            length = int(call.split(':')[1].split('-')[1]) -int(call.split(':')[1].split('-')[0])\n",
    "            \n",
    "            constit_level = 0\n",
    "            \n",
    "        elif coord in gtf_first_exon['end'].values:\n",
    "            event_type = 'first_exon'\n",
    "            call = gtf_first_exon[gtf_first_exon['end'] == coord]['exon'].iloc[0]\n",
    "            \n",
    "            length = int(call.split(':')[1].split('-')[1]) -int(call.split(':')[1].split('-')[0])\n",
    "        \n",
    "            constit_level = 0\n",
    "        else:\n",
    "            call = None\n",
    "            event_type = None\n",
    "            \n",
    "            length = None\n",
    "            \n",
    "            constit_level = None\n",
    "            \n",
    "            \n",
    "    exon_dict[index] = call\n",
    "    event_type_dict[index]= event_type\n",
    "    length_dict[index] = length\n",
    "    constit_level_dict[index] = constit_level"
   ]
  },
  {
   "cell_type": "code",
   "execution_count": null,
   "id": "b800a491-0ee5-408f-8521-792b7eedb4d3",
   "metadata": {},
   "outputs": [],
   "source": []
  },
  {
   "cell_type": "code",
   "execution_count": null,
   "id": "f7df3de3-5eec-4ca5-ab36-a95e9a15b915",
   "metadata": {},
   "outputs": [],
   "source": []
  },
  {
   "cell_type": "code",
   "execution_count": 26,
   "id": "1605ed39-2b8a-4ec6-83a2-f6e5be1df24d",
   "metadata": {
    "tags": []
   },
   "outputs": [],
   "source": [
    "introns['exon'] = introns.index.map(exon_dict)\n",
    "\n",
    "introns['event_type'] = introns.index.map(event_type_dict)\n",
    "\n",
    "introns['exon_length'] = introns.index.map(length_dict)\n",
    "\n",
    "introns['constit_level'] = introns.index.map(constit_level_dict)"
   ]
  },
  {
   "cell_type": "code",
   "execution_count": null,
   "id": "62729f9a-f53e-4021-a6e2-aea144d597bc",
   "metadata": {},
   "outputs": [],
   "source": []
  },
  {
   "cell_type": "markdown",
   "id": "148dd752-e1e3-4df3-9847-a2497e11ae84",
   "metadata": {
    "tags": []
   },
   "source": [
    "## refine annotations"
   ]
  },
  {
   "cell_type": "code",
   "execution_count": null,
   "id": "3845a63d-76d7-4fd7-b38b-b63ebda3599d",
   "metadata": {
    "tags": []
   },
   "outputs": [],
   "source": []
  },
  {
   "cell_type": "code",
   "execution_count": 160,
   "id": "ade02eb7-1417-46d1-b895-0f31afea8b66",
   "metadata": {
    "tags": []
   },
   "outputs": [],
   "source": [
    "constit_dict = {}\n",
    "\n",
    "for name, group in introns.groupby('intron_group'):\n",
    "    \n",
    "    constit_idx = group['constit_level'].idxmax()\n",
    "    \n",
    "    constit_dict[name] = constit_idx\n",
    "    \n",
    "    "
   ]
  },
  {
   "cell_type": "code",
   "execution_count": null,
   "id": "fb0373a7-8c4d-4e54-a071-476a9f619ba4",
   "metadata": {
    "tags": []
   },
   "outputs": [],
   "source": []
  },
  {
   "cell_type": "code",
   "execution_count": 162,
   "id": "480dbd5f-97b9-4fb1-abbc-c96e7c28bd98",
   "metadata": {
    "tags": []
   },
   "outputs": [],
   "source": [
    "df = pd.DataFrame()\n",
    "\n",
    "for index, row in introns.iterrows():\n",
    "    if index in constit_dict.values():\n",
    "        row['event_type'] = 'constitutive'\n",
    "\n",
    "    \n",
    "    df=pd.concat([df,pd.DataFrame(row).T])"
   ]
  },
  {
   "cell_type": "code",
   "execution_count": null,
   "id": "8a2b6c67-c47e-4664-a19e-ae32a1c1072a",
   "metadata": {
    "tags": []
   },
   "outputs": [],
   "source": []
  },
  {
   "cell_type": "code",
   "execution_count": 28,
   "id": "47817287-3f61-4561-8704-ea64bb174d21",
   "metadata": {},
   "outputs": [],
   "source": [
    "outer_dict = {}\n",
    "\n",
    "for group in introns['intron_group'].unique():\n",
    "    #print(group)\n",
    "    \n",
    "    \n",
    "    #define outer, encompassing splicing event, which will not have an alt exon associated, as the largest \n",
    "    #intron in the group \n",
    "    \n",
    "    if group[-1] == '+':\n",
    "        outer = introns.loc[[introns[introns['intron_group'] == group]['start'].idxmin()]]\n",
    "        \n",
    "    elif group[-1] == '-':\n",
    "        outer = introns.loc[[introns[introns['intron_group'] == group]['end'].idxmax()]]\n",
    "    \n",
    "    \n",
    "    \n",
    "    outer_dict[group] = outer.index[0]"
   ]
  },
  {
   "cell_type": "code",
   "execution_count": 29,
   "id": "90e2a24b-9279-4968-862d-c35ed21ae813",
   "metadata": {
    "tags": []
   },
   "outputs": [],
   "source": [
    "df = pd.DataFrame()\n",
    "\n",
    "for index, row in introns.iterrows():\n",
    "    if (index in outer_dict.values())  & (\n",
    "        (row['event_type'] == 'cassette') | (row['event_type'] == 'first_exon') | (row['event_type'] == 'last_exon')):\n",
    "        row['event_type'] = 'exclusion'\n",
    "\n",
    "    \n",
    "    df=pd.concat([df,pd.DataFrame(row).T])"
   ]
  },
  {
   "cell_type": "code",
   "execution_count": 32,
   "id": "6af258ce-b09e-4b57-a7a3-5aabc6e7b05e",
   "metadata": {},
   "outputs": [],
   "source": [
    "df.to_csv('sig_dfc_introns_PT_annotated.csv')"
   ]
  },
  {
   "cell_type": "code",
   "execution_count": null,
   "id": "0952e7cf-1962-4863-8edd-3f2c9663c581",
   "metadata": {},
   "outputs": [],
   "source": []
  },
  {
   "cell_type": "code",
   "execution_count": null,
   "id": "3152a55e-bbec-43f0-bdf6-280558f2e521",
   "metadata": {},
   "outputs": [],
   "source": []
  },
  {
   "cell_type": "code",
   "execution_count": null,
   "id": "72dc45b5-c9b2-45fe-b1c4-804178820568",
   "metadata": {},
   "outputs": [],
   "source": []
  },
  {
   "cell_type": "code",
   "execution_count": null,
   "id": "b3230db2-5dcb-4825-b480-d061b0159bfc",
   "metadata": {},
   "outputs": [],
   "source": []
  },
  {
   "cell_type": "code",
   "execution_count": null,
   "id": "8862d64e-c087-4b68-a12d-3149b80778b3",
   "metadata": {},
   "outputs": [],
   "source": []
  },
  {
   "cell_type": "code",
   "execution_count": null,
   "id": "05a48a52-d2d8-48ca-90eb-28a98667a8fb",
   "metadata": {},
   "outputs": [],
   "source": []
  },
  {
   "cell_type": "code",
   "execution_count": 114,
   "id": "3db590d7-68a5-41f0-818a-6bca05b164e4",
   "metadata": {
    "tags": []
   },
   "outputs": [],
   "source": [
    "threeprime_groupings = pd.read_csv('3prime_grouped_introns.csv',index_col=0)\n",
    "fiveprime_groupings = pd.read_csv('5prime_grouped_introns.csv',index_col=0)\n",
    "\n",
    "threeprime_groupings['intron'] = threeprime_groupings.index.to_frame()[0].str.split('_',expand=True)[1]\n",
    "fiveprime_groupings['intron'] = fiveprime_groupings.index.to_frame()[0].str.split('_',expand=True)[1]"
   ]
  },
  {
   "cell_type": "code",
   "execution_count": 41,
   "id": "99ce5052-c6a7-4378-b0f3-d24ba9a5161c",
   "metadata": {
    "tags": []
   },
   "outputs": [
    {
     "data": {
      "text/html": [
       "<div>\n",
       "<style scoped>\n",
       "    .dataframe tbody tr th:only-of-type {\n",
       "        vertical-align: middle;\n",
       "    }\n",
       "\n",
       "    .dataframe tbody tr th {\n",
       "        vertical-align: top;\n",
       "    }\n",
       "\n",
       "    .dataframe thead th {\n",
       "        text-align: right;\n",
       "    }\n",
       "</style>\n",
       "<table border=\"1\" class=\"dataframe\">\n",
       "  <thead>\n",
       "    <tr style=\"text-align: right;\">\n",
       "      <th></th>\n",
       "      <th>chromosome</th>\n",
       "      <th>start</th>\n",
       "      <th>end</th>\n",
       "      <th>strand</th>\n",
       "      <th>intron_motif</th>\n",
       "      <th>n_cells</th>\n",
       "      <th>gene_id_start</th>\n",
       "      <th>gene_id_end</th>\n",
       "      <th>n_genes</th>\n",
       "      <th>gene_id</th>\n",
       "      <th>gene_name</th>\n",
       "      <th>intron_group</th>\n",
       "      <th>intron_group_size</th>\n",
       "      <th>n_genes_per_intron_group</th>\n",
       "      <th>grouping</th>\n",
       "      <th>intron</th>\n",
       "    </tr>\n",
       "  </thead>\n",
       "  <tbody>\n",
       "    <tr>\n",
       "      <th>STX2_chr12:130798636-130799167</th>\n",
       "      <td>chr12</td>\n",
       "      <td>130798636</td>\n",
       "      <td>130799167</td>\n",
       "      <td>-</td>\n",
       "      <td>2</td>\n",
       "      <td>611</td>\n",
       "      <td>ENSG00000111450</td>\n",
       "      <td>NaN</td>\n",
       "      <td>1</td>\n",
       "      <td>ENSG00000111450</td>\n",
       "      <td>STX2</td>\n",
       "      <td>STX2_chr12_130798636_-</td>\n",
       "      <td>2</td>\n",
       "      <td>1</td>\n",
       "      <td>three_prime</td>\n",
       "      <td>chr12:130798636-130799167</td>\n",
       "    </tr>\n",
       "    <tr>\n",
       "      <th>STX2_chr12:130798636-130801152</th>\n",
       "      <td>chr12</td>\n",
       "      <td>130798636</td>\n",
       "      <td>130801152</td>\n",
       "      <td>-</td>\n",
       "      <td>2</td>\n",
       "      <td>1403</td>\n",
       "      <td>ENSG00000111450</td>\n",
       "      <td>ENSG00000111450</td>\n",
       "      <td>1</td>\n",
       "      <td>ENSG00000111450</td>\n",
       "      <td>STX2</td>\n",
       "      <td>STX2_chr12_130798636_-</td>\n",
       "      <td>2</td>\n",
       "      <td>1</td>\n",
       "      <td>three_prime</td>\n",
       "      <td>chr12:130798636-130801152</td>\n",
       "    </tr>\n",
       "  </tbody>\n",
       "</table>\n",
       "</div>"
      ],
      "text/plain": [
       "                               chromosome      start        end strand  \\\n",
       "STX2_chr12:130798636-130799167      chr12  130798636  130799167      -   \n",
       "STX2_chr12:130798636-130801152      chr12  130798636  130801152      -   \n",
       "\n",
       "                                intron_motif  n_cells    gene_id_start  \\\n",
       "STX2_chr12:130798636-130799167             2      611  ENSG00000111450   \n",
       "STX2_chr12:130798636-130801152             2     1403  ENSG00000111450   \n",
       "\n",
       "                                    gene_id_end  n_genes          gene_id  \\\n",
       "STX2_chr12:130798636-130799167              NaN        1  ENSG00000111450   \n",
       "STX2_chr12:130798636-130801152  ENSG00000111450        1  ENSG00000111450   \n",
       "\n",
       "                               gene_name            intron_group  \\\n",
       "STX2_chr12:130798636-130799167      STX2  STX2_chr12_130798636_-   \n",
       "STX2_chr12:130798636-130801152      STX2  STX2_chr12_130798636_-   \n",
       "\n",
       "                                intron_group_size  n_genes_per_intron_group  \\\n",
       "STX2_chr12:130798636-130799167                  2                         1   \n",
       "STX2_chr12:130798636-130801152                  2                         1   \n",
       "\n",
       "                                   grouping                     intron  \n",
       "STX2_chr12:130798636-130799167  three_prime  chr12:130798636-130799167  \n",
       "STX2_chr12:130798636-130801152  three_prime  chr12:130798636-130801152  "
      ]
     },
     "execution_count": 41,
     "metadata": {},
     "output_type": "execute_result"
    }
   ],
   "source": [
    "threeprime_groupings[threeprime_groupings.gene_name == 'STX2']"
   ]
  },
  {
   "cell_type": "code",
   "execution_count": 42,
   "id": "ff274a99-1963-4de1-abfb-95f452c17175",
   "metadata": {
    "tags": []
   },
   "outputs": [
    {
     "data": {
      "text/html": [
       "<div>\n",
       "<style scoped>\n",
       "    .dataframe tbody tr th:only-of-type {\n",
       "        vertical-align: middle;\n",
       "    }\n",
       "\n",
       "    .dataframe tbody tr th {\n",
       "        vertical-align: top;\n",
       "    }\n",
       "\n",
       "    .dataframe thead th {\n",
       "        text-align: right;\n",
       "    }\n",
       "</style>\n",
       "<table border=\"1\" class=\"dataframe\">\n",
       "  <thead>\n",
       "    <tr style=\"text-align: right;\">\n",
       "      <th></th>\n",
       "      <th>chromosome</th>\n",
       "      <th>start</th>\n",
       "      <th>end</th>\n",
       "      <th>strand</th>\n",
       "      <th>intron_motif</th>\n",
       "      <th>n_cells</th>\n",
       "      <th>gene_id_start</th>\n",
       "      <th>gene_id_end</th>\n",
       "      <th>n_genes</th>\n",
       "      <th>gene_id</th>\n",
       "      <th>gene_name</th>\n",
       "      <th>intron_group</th>\n",
       "      <th>intron_group_size</th>\n",
       "      <th>n_genes_per_intron_group</th>\n",
       "      <th>grouping</th>\n",
       "      <th>intron</th>\n",
       "    </tr>\n",
       "  </thead>\n",
       "  <tbody>\n",
       "    <tr>\n",
       "      <th>STX2_chr12:130798636-130801152</th>\n",
       "      <td>chr12</td>\n",
       "      <td>130798636</td>\n",
       "      <td>130801152</td>\n",
       "      <td>-</td>\n",
       "      <td>2</td>\n",
       "      <td>1403</td>\n",
       "      <td>ENSG00000111450</td>\n",
       "      <td>ENSG00000111450</td>\n",
       "      <td>1</td>\n",
       "      <td>ENSG00000111450</td>\n",
       "      <td>STX2</td>\n",
       "      <td>STX2_chr12_130801152_-</td>\n",
       "      <td>2</td>\n",
       "      <td>1</td>\n",
       "      <td>five_prime</td>\n",
       "      <td>chr12:130798636-130801152</td>\n",
       "    </tr>\n",
       "    <tr>\n",
       "      <th>STX2_chr12:130799191-130801152</th>\n",
       "      <td>chr12</td>\n",
       "      <td>130799191</td>\n",
       "      <td>130801152</td>\n",
       "      <td>-</td>\n",
       "      <td>2</td>\n",
       "      <td>532</td>\n",
       "      <td>NaN</td>\n",
       "      <td>ENSG00000111450</td>\n",
       "      <td>1</td>\n",
       "      <td>ENSG00000111450</td>\n",
       "      <td>STX2</td>\n",
       "      <td>STX2_chr12_130801152_-</td>\n",
       "      <td>2</td>\n",
       "      <td>1</td>\n",
       "      <td>five_prime</td>\n",
       "      <td>chr12:130799191-130801152</td>\n",
       "    </tr>\n",
       "  </tbody>\n",
       "</table>\n",
       "</div>"
      ],
      "text/plain": [
       "                               chromosome      start        end strand  \\\n",
       "STX2_chr12:130798636-130801152      chr12  130798636  130801152      -   \n",
       "STX2_chr12:130799191-130801152      chr12  130799191  130801152      -   \n",
       "\n",
       "                                intron_motif  n_cells    gene_id_start  \\\n",
       "STX2_chr12:130798636-130801152             2     1403  ENSG00000111450   \n",
       "STX2_chr12:130799191-130801152             2      532              NaN   \n",
       "\n",
       "                                    gene_id_end  n_genes          gene_id  \\\n",
       "STX2_chr12:130798636-130801152  ENSG00000111450        1  ENSG00000111450   \n",
       "STX2_chr12:130799191-130801152  ENSG00000111450        1  ENSG00000111450   \n",
       "\n",
       "                               gene_name            intron_group  \\\n",
       "STX2_chr12:130798636-130801152      STX2  STX2_chr12_130801152_-   \n",
       "STX2_chr12:130799191-130801152      STX2  STX2_chr12_130801152_-   \n",
       "\n",
       "                                intron_group_size  n_genes_per_intron_group  \\\n",
       "STX2_chr12:130798636-130801152                  2                         1   \n",
       "STX2_chr12:130799191-130801152                  2                         1   \n",
       "\n",
       "                                  grouping                     intron  \n",
       "STX2_chr12:130798636-130801152  five_prime  chr12:130798636-130801152  \n",
       "STX2_chr12:130799191-130801152  five_prime  chr12:130799191-130801152  "
      ]
     },
     "execution_count": 42,
     "metadata": {},
     "output_type": "execute_result"
    }
   ],
   "source": [
    "fiveprime_groupings[fiveprime_groupings.gene_name == 'STX2']"
   ]
  },
  {
   "cell_type": "code",
   "execution_count": null,
   "id": "29f61de6-10dc-4a30-827c-d536568ad34d",
   "metadata": {},
   "outputs": [],
   "source": []
  },
  {
   "cell_type": "code",
   "execution_count": null,
   "id": "07ec2da2-cf68-418e-8ed3-93569cc7f8e3",
   "metadata": {},
   "outputs": [],
   "source": []
  },
  {
   "cell_type": "code",
   "execution_count": null,
   "id": "4862291d-134f-49d1-b86b-61bbb831e8c9",
   "metadata": {},
   "outputs": [],
   "source": []
  },
  {
   "cell_type": "code",
   "execution_count": null,
   "id": "0c9c8d7c-8f4d-43ee-86c5-146c7c8cf89d",
   "metadata": {},
   "outputs": [],
   "source": []
  },
  {
   "cell_type": "code",
   "execution_count": null,
   "id": "5cf751f8-55ec-42d5-8feb-508a5d9a301e",
   "metadata": {},
   "outputs": [],
   "source": []
  },
  {
   "cell_type": "code",
   "execution_count": null,
   "id": "5dc27f2b-3afb-4cca-a808-9a57dfd8b2b8",
   "metadata": {},
   "outputs": [],
   "source": []
  },
  {
   "cell_type": "code",
   "execution_count": 43,
   "id": "d1b23ebc-3b9a-4490-8eb4-4344192a1853",
   "metadata": {
    "tags": []
   },
   "outputs": [],
   "source": [
    "# #introns['annotated'] = \n",
    "# introns.event_type.apply(lambda x: 'constitutive' if db[db.exon == x].constitLevel == 1 \\\n",
    "#                                                 else 'variable')\n",
    "\n"
   ]
  },
  {
   "cell_type": "code",
   "execution_count": 44,
   "id": "421aee9e-e499-40fa-9143-426eb4decd0c",
   "metadata": {
    "tags": []
   },
   "outputs": [
    {
     "data": {
      "text/plain": [
       "[(0.12156862745098039, 0.4666666666666667, 0.7058823529411765),\n",
       " (1.0, 0.4980392156862745, 0.054901960784313725),\n",
       " (0.17254901960784313, 0.6274509803921569, 0.17254901960784313),\n",
       " (0.8392156862745098, 0.15294117647058825, 0.1568627450980392),\n",
       " (0.5803921568627451, 0.403921568627451, 0.7411764705882353),\n",
       " (0.5490196078431373, 0.33725490196078434, 0.29411764705882354),\n",
       " 'w']"
      ]
     },
     "execution_count": 44,
     "metadata": {},
     "output_type": "execute_result"
    }
   ],
   "source": [
    "sns.color_palette(palette='tab10')[:6]+['w']"
   ]
  },
  {
   "cell_type": "code",
   "execution_count": 45,
   "id": "2e68fea7-ee85-4816-84d4-104fdbb0accb",
   "metadata": {
    "tags": []
   },
   "outputs": [
    {
     "data": {
      "image/png": "[encoded data removed]",
      "text/plain": [
       "<Figure size 600x600 with 1 Axes>"
      ]
     },
     "metadata": {},
     "output_type": "display_data"
    }
   ],
   "source": [
    "fig, ax = plt.subplots(figsize=(6, 6))\n",
    "\n",
    "\n",
    "size = 0.4\n",
    "\n",
    "ax.pie(introns['event_type'].value_counts(),\n",
    "       radius=size, \n",
    "       colors=sns.color_palette(palette='Greys'),\n",
    "       wedgeprops={'linewidth': 1.0, 'edgecolor': 'white'},\n",
    "       startangle=0\n",
    "      )\n",
    "\n",
    "\n",
    "ax.pie(introns['event_type'].value_counts().loc[['cassette','first_exon','last_exon','alt5','alt3','MXE']],\n",
    "     # labels=introns['event_type'].value_counts().loc[['cassette','first_exon','last_exon','alt5','alt3','MXE','unannotated']].index,\n",
    "      radius = 1-size,\n",
    "      wedgeprops={'linewidth': 1.0, 'edgecolor': 'white', 'width':.2},\n",
    "      textprops={'size': 'large'},\n",
    "      colors=sns.color_palette(palette='tab10')[:6]+['w'],\n",
    " \n",
    "      )\n",
    "\n",
    "ax.set(aspect=\"equal\")\n",
    "fig.show()"
   ]
  },
  {
   "cell_type": "code",
   "execution_count": null,
   "id": "88d12ee6-fac2-4e8a-9111-1338cf148aae",
   "metadata": {},
   "outputs": [],
   "source": [
    "for group in introns['intron_group'].unique():\n"
   ]
  },
  {
   "cell_type": "code",
   "execution_count": null,
   "id": "bdf29b7f-faa0-4bb7-9e12-074bc42ff743",
   "metadata": {},
   "outputs": [],
   "source": []
  },
  {
   "cell_type": "code",
   "execution_count": 90,
   "id": "f9809b8c-b49f-40d2-a749-74d6e36c01d6",
   "metadata": {
    "tags": []
   },
   "outputs": [
    {
     "data": {
      "text/plain": [
       "2"
      ]
     },
     "execution_count": 90,
     "metadata": {},
     "output_type": "execute_result"
    }
   ],
   "source": [
    "introns[introns['intron_group'] == 'RPL22_chr1_6186817_-']['event_type']"
   ]
  },
  {
   "cell_type": "code",
   "execution_count": null,
   "id": "f19f5d2b-b600-41fb-b9fb-25096dcfe9dc",
   "metadata": {},
   "outputs": [],
   "source": []
  },
  {
   "cell_type": "code",
   "execution_count": 94,
   "id": "5e25da6a-fa44-4367-8847-af7631063629",
   "metadata": {
    "tags": []
   },
   "outputs": [
    {
     "name": "stdout",
     "output_type": "stream",
     "text": [
      "2\n",
      "2\n",
      "2\n",
      "4\n",
      "6\n",
      "4\n",
      "5\n",
      "2\n",
      "3\n",
      "14\n",
      "5\n",
      "5\n",
      "3\n",
      "4\n",
      "3\n",
      "3\n",
      "3\n",
      "4\n",
      "4\n",
      "7\n",
      "4\n",
      "2\n",
      "2\n",
      "2\n",
      "2\n",
      "2\n",
      "2\n",
      "5\n",
      "5\n",
      "3\n",
      "3\n",
      "2\n",
      "3\n",
      "4\n",
      "4\n",
      "4\n",
      "3\n"
     ]
    }
   ],
   "source": [
    "\n",
    "for index, row in introns.head(1000).iterrows():\n",
    "    if (row['event_type'] == 'alt3') | (row['event_type'] == 'alt5'):\n",
    "        intron_group = row['intron_group']\n",
    "        print(introns[introns['intron_group'] == intron_group]['event_type'].size)"
   ]
  },
  {
   "cell_type": "code",
   "execution_count": 92,
   "id": "0752e18c-a25e-4470-8e5e-4b1bc0e9f2ca",
   "metadata": {
    "tags": []
   },
   "outputs": [
    {
     "data": {
      "text/html": [
       "<div>\n",
       "<style scoped>\n",
       "    .dataframe tbody tr th:only-of-type {\n",
       "        vertical-align: middle;\n",
       "    }\n",
       "\n",
       "    .dataframe tbody tr th {\n",
       "        vertical-align: top;\n",
       "    }\n",
       "\n",
       "    .dataframe thead th {\n",
       "        text-align: right;\n",
       "    }\n",
       "</style>\n",
       "<table border=\"1\" class=\"dataframe\">\n",
       "  <thead>\n",
       "    <tr style=\"text-align: right;\">\n",
       "      <th></th>\n",
       "      <th>chromosome</th>\n",
       "      <th>start</th>\n",
       "      <th>end</th>\n",
       "      <th>strand</th>\n",
       "      <th>intron_motif</th>\n",
       "      <th>n_cells</th>\n",
       "      <th>gene_id_start</th>\n",
       "      <th>gene_id_end</th>\n",
       "      <th>n_genes</th>\n",
       "      <th>gene_id</th>\n",
       "      <th>gene_name</th>\n",
       "      <th>size</th>\n",
       "      <th>intron_group</th>\n",
       "      <th>intron_group_size</th>\n",
       "      <th>n_genes_per_intron_group</th>\n",
       "      <th>grouping</th>\n",
       "      <th>name</th>\n",
       "      <th>exon</th>\n",
       "      <th>event_type</th>\n",
       "      <th>exon_length</th>\n",
       "    </tr>\n",
       "  </thead>\n",
       "  <tbody>\n",
       "    <tr>\n",
       "      <th>84</th>\n",
       "      <td>chr1</td>\n",
       "      <td>37891455</td>\n",
       "      <td>37931672</td>\n",
       "      <td>-</td>\n",
       "      <td>2</td>\n",
       "      <td>32</td>\n",
       "      <td>ENSG00000204084</td>\n",
       "      <td>ENSG00000204084</td>\n",
       "      <td>1</td>\n",
       "      <td>ENSG00000204084</td>\n",
       "      <td>INPP5B</td>\n",
       "      <td>40217</td>\n",
       "      <td>INPP5B_chr1_37891455_-</td>\n",
       "      <td>2</td>\n",
       "      <td>1</td>\n",
       "      <td>three_prime</td>\n",
       "      <td>INPP5B_chr1:37891455-37931672</td>\n",
       "      <td>chr1:37931673-37932053:-</td>\n",
       "      <td>alt5</td>\n",
       "      <td>380.0</td>\n",
       "    </tr>\n",
       "    <tr>\n",
       "      <th>85</th>\n",
       "      <td>chr1</td>\n",
       "      <td>37891455</td>\n",
       "      <td>37931912</td>\n",
       "      <td>-</td>\n",
       "      <td>4</td>\n",
       "      <td>31</td>\n",
       "      <td>ENSG00000204084</td>\n",
       "      <td>ENSG00000204084</td>\n",
       "      <td>1</td>\n",
       "      <td>ENSG00000204084</td>\n",
       "      <td>INPP5B</td>\n",
       "      <td>40457</td>\n",
       "      <td>INPP5B_chr1_37891455_-</td>\n",
       "      <td>2</td>\n",
       "      <td>1</td>\n",
       "      <td>three_prime</td>\n",
       "      <td>INPP5B_chr1:37891455-37931912</td>\n",
       "      <td>chr1:37931913-37932053:-</td>\n",
       "      <td>cassette</td>\n",
       "      <td>140.0</td>\n",
       "    </tr>\n",
       "  </tbody>\n",
       "</table>\n",
       "</div>"
      ],
      "text/plain": [
       "   chromosome     start       end strand  intron_motif  n_cells  \\\n",
       "84       chr1  37891455  37931672      -             2       32   \n",
       "85       chr1  37891455  37931912      -             4       31   \n",
       "\n",
       "      gene_id_start      gene_id_end  n_genes          gene_id gene_name  \\\n",
       "84  ENSG00000204084  ENSG00000204084        1  ENSG00000204084    INPP5B   \n",
       "85  ENSG00000204084  ENSG00000204084        1  ENSG00000204084    INPP5B   \n",
       "\n",
       "     size            intron_group  intron_group_size  \\\n",
       "84  40217  INPP5B_chr1_37891455_-                  2   \n",
       "85  40457  INPP5B_chr1_37891455_-                  2   \n",
       "\n",
       "    n_genes_per_intron_group     grouping                           name  \\\n",
       "84                         1  three_prime  INPP5B_chr1:37891455-37931672   \n",
       "85                         1  three_prime  INPP5B_chr1:37891455-37931912   \n",
       "\n",
       "                        exon event_type  exon_length  \n",
       "84  chr1:37931673-37932053:-       alt5        380.0  \n",
       "85  chr1:37931913-37932053:-   cassette        140.0  "
      ]
     },
     "execution_count": 92,
     "metadata": {},
     "output_type": "execute_result"
    }
   ],
   "source": [
    "introns[introns['intron_group'] == intron_group]"
   ]
  },
  {
   "cell_type": "code",
   "execution_count": null,
   "id": "58bdc990-dce0-4a20-8e52-52b26a4a3983",
   "metadata": {},
   "outputs": [],
   "source": []
  },
  {
   "cell_type": "code",
   "execution_count": null,
   "id": "b419bb0d-93b2-496e-ba8b-00c1bdae47da",
   "metadata": {},
   "outputs": [],
   "source": []
  },
  {
   "cell_type": "code",
   "execution_count": 46,
   "id": "54423ca2-0e7d-441e-b4f9-5aaa202d9532",
   "metadata": {},
   "outputs": [],
   "source": []
  },
  {
   "cell_type": "code",
   "execution_count": null,
   "id": "9bcf8ed9-64fc-4d7b-9c0a-8785e472ed28",
   "metadata": {},
   "outputs": [],
   "source": []
  },
  {
   "cell_type": "code",
   "execution_count": null,
   "id": "910b8372-0dfd-4ccd-bcef-a124a9a7e49f",
   "metadata": {},
   "outputs": [],
   "source": []
  },
  {
   "cell_type": "code",
   "execution_count": 49,
   "id": "ee3b668e-ac22-4148-a14e-2b885c4aa5a3",
   "metadata": {},
   "outputs": [],
   "source": []
  },
  {
   "cell_type": "code",
   "execution_count": 50,
   "id": "bed7694d-2278-4af0-b60e-165eaf2e1936",
   "metadata": {
    "tags": []
   },
   "outputs": [
    {
     "data": {
      "text/plain": [
       "cassette      2381\n",
       "exclusion     2128\n",
       "first_exon     994\n",
       "last_exon      257\n",
       "alt3           201\n",
       "alt5           142\n",
       "MXE             67\n",
       "Name: event_type, dtype: int64"
      ]
     },
     "execution_count": 50,
     "metadata": {},
     "output_type": "execute_result"
    }
   ],
   "source": [
    "df.event_type.value_counts()"
   ]
  },
  {
   "cell_type": "code",
   "execution_count": 51,
   "id": "8056a745-dea1-4b7d-8808-010d3c4db450",
   "metadata": {},
   "outputs": [],
   "source": [
    "#df.to_csv('introns_annotated.csv')"
   ]
  },
  {
   "cell_type": "code",
   "execution_count": null,
   "id": "77d7f2c2-4697-4c57-8ac9-03e9cf006491",
   "metadata": {},
   "outputs": [],
   "source": []
  },
  {
   "cell_type": "code",
   "execution_count": null,
   "id": "85d35ba0-b465-4ef8-b737-15ca8581ce4f",
   "metadata": {},
   "outputs": [],
   "source": []
  },
  {
   "cell_type": "code",
   "execution_count": null,
   "id": "19c446da-5b36-437a-8a00-7ef10b310344",
   "metadata": {},
   "outputs": [],
   "source": []
  },
  {
   "cell_type": "code",
   "execution_count": 53,
   "id": "c08c8a91-53ab-4331-a24f-3f78c3470739",
   "metadata": {
    "tags": []
   },
   "outputs": [],
   "source": [
    "df_ = df[df['event_type'] != 'exclusion']"
   ]
  },
  {
   "cell_type": "code",
   "execution_count": 164,
   "id": "92848b66-959e-4757-b80b-87a37a2a48b4",
   "metadata": {
    "tags": []
   },
   "outputs": [
    {
     "data": {
      "image/png": "[encoded data removed]",
      "text/plain": [
       "<Figure size 600x600 with 1 Axes>"
      ]
     },
     "metadata": {},
     "output_type": "display_data"
    }
   ],
   "source": [
    "fig, ax = plt.subplots(figsize=(6, 6))\n",
    "\n",
    "\n",
    "size = 0.4\n",
    "\n",
    "# ax.pie(df_['annotated'].value_counts(),\n",
    "#        radius=size, \n",
    "#        colors=sns.color_palette(palette='Greys'),\n",
    "#        wedgeprops={'linewidth': 1.0, 'edgecolor': 'white', 'width':.2},\n",
    "#        startangle=0\n",
    "#       )\n",
    "\n",
    "\n",
    "ax.pie(df['event_type'].value_counts().loc[['cassette','constitutive','first_exon','last_exon','alt5','alt3','MXE']],\n",
    "      labels=df['event_type'].value_counts().loc[['cassette','constitutive','first_exon','last_exon','alt5','alt3','MXE']].index,\n",
    "      radius = 1,\n",
    "      wedgeprops={'linewidth': 1.0, 'edgecolor': 'white', 'width':1},\n",
    "      textprops={'size': 'large'},\n",
    "      colors=sns.color_palette(palette='tab10')[:7]+['w'],\n",
    " \n",
    "      )\n",
    "\n",
    "ax.set(aspect=\"equal\")\n",
    "fig.show()"
   ]
  },
  {
   "cell_type": "code",
   "execution_count": null,
   "id": "532b027b-f2a4-4cab-b271-5a8f40cdd240",
   "metadata": {},
   "outputs": [],
   "source": []
  },
  {
   "cell_type": "code",
   "execution_count": null,
   "id": "ea4b59a1-fbe8-411a-8d92-4e1a48a5e4e3",
   "metadata": {},
   "outputs": [],
   "source": []
  },
  {
   "cell_type": "code",
   "execution_count": null,
   "id": "f7857443-7703-4ae6-853d-eeb99f771527",
   "metadata": {},
   "outputs": [],
   "source": []
  },
  {
   "cell_type": "code",
   "execution_count": 55,
   "id": "4d8d0b4a-ff00-4b64-94b8-406f02011ee5",
   "metadata": {
    "tags": []
   },
   "outputs": [],
   "source": [
    "cassette = df[df['event_type'] == 'cassette']"
   ]
  },
  {
   "cell_type": "code",
   "execution_count": 56,
   "id": "db9a2483-4542-4b27-b9a4-f8a01df3873e",
   "metadata": {},
   "outputs": [
    {
     "data": {
      "text/html": [
       "<div>\n",
       "<style scoped>\n",
       "    .dataframe tbody tr th:only-of-type {\n",
       "        vertical-align: middle;\n",
       "    }\n",
       "\n",
       "    .dataframe tbody tr th {\n",
       "        vertical-align: top;\n",
       "    }\n",
       "\n",
       "    .dataframe thead th {\n",
       "        text-align: right;\n",
       "    }\n",
       "</style>\n",
       "<table border=\"1\" class=\"dataframe\">\n",
       "  <thead>\n",
       "    <tr style=\"text-align: right;\">\n",
       "      <th></th>\n",
       "      <th>chromosome</th>\n",
       "      <th>start</th>\n",
       "      <th>end</th>\n",
       "      <th>strand</th>\n",
       "      <th>intron_motif</th>\n",
       "      <th>n_cells</th>\n",
       "      <th>gene_id_start</th>\n",
       "      <th>gene_id_end</th>\n",
       "      <th>n_genes</th>\n",
       "      <th>gene_id</th>\n",
       "      <th>gene_name</th>\n",
       "      <th>size</th>\n",
       "      <th>intron_group</th>\n",
       "      <th>intron_group_size</th>\n",
       "      <th>n_genes_per_intron_group</th>\n",
       "      <th>grouping</th>\n",
       "      <th>name</th>\n",
       "      <th>exon</th>\n",
       "      <th>event_type</th>\n",
       "      <th>exon_length</th>\n",
       "    </tr>\n",
       "  </thead>\n",
       "  <tbody>\n",
       "    <tr>\n",
       "      <th>2</th>\n",
       "      <td>chr1</td>\n",
       "      <td>1655485</td>\n",
       "      <td>1657255</td>\n",
       "      <td>-</td>\n",
       "      <td>2</td>\n",
       "      <td>51</td>\n",
       "      <td>ENSG00000248333</td>\n",
       "      <td>ENSG00000248333</td>\n",
       "      <td>1</td>\n",
       "      <td>ENSG00000248333</td>\n",
       "      <td>CDK11B</td>\n",
       "      <td>1770</td>\n",
       "      <td>CDK11B_chr1_1655485_-</td>\n",
       "      <td>2</td>\n",
       "      <td>1</td>\n",
       "      <td>three_prime</td>\n",
       "      <td>CDK11B_chr1:1655485-1657255</td>\n",
       "      <td>chr1:1657256-1657302:-</td>\n",
       "      <td>cassette</td>\n",
       "      <td>46.0</td>\n",
       "    </tr>\n",
       "    <tr>\n",
       "      <th>4</th>\n",
       "      <td>chr1</td>\n",
       "      <td>6186817</td>\n",
       "      <td>6192929</td>\n",
       "      <td>-</td>\n",
       "      <td>2</td>\n",
       "      <td>2925</td>\n",
       "      <td>ENSG00000116251</td>\n",
       "      <td>ENSG00000116251</td>\n",
       "      <td>1</td>\n",
       "      <td>ENSG00000116251</td>\n",
       "      <td>RPL22</td>\n",
       "      <td>6112</td>\n",
       "      <td>RPL22_chr1_6186817_-</td>\n",
       "      <td>3</td>\n",
       "      <td>1</td>\n",
       "      <td>three_prime</td>\n",
       "      <td>RPL22_chr1:6186817-6192929</td>\n",
       "      <td>chr1:6192930-6193054:-</td>\n",
       "      <td>cassette</td>\n",
       "      <td>124.0</td>\n",
       "    </tr>\n",
       "    <tr>\n",
       "      <th>9</th>\n",
       "      <td>chr1</td>\n",
       "      <td>7749792</td>\n",
       "      <td>7751198</td>\n",
       "      <td>+</td>\n",
       "      <td>1</td>\n",
       "      <td>538</td>\n",
       "      <td>ENSG00000171735</td>\n",
       "      <td>ENSG00000171735</td>\n",
       "      <td>1</td>\n",
       "      <td>ENSG00000171735</td>\n",
       "      <td>CAMTA1</td>\n",
       "      <td>1406</td>\n",
       "      <td>CAMTA1_chr1_7751198_+</td>\n",
       "      <td>2</td>\n",
       "      <td>1</td>\n",
       "      <td>three_prime</td>\n",
       "      <td>CAMTA1_chr1:7749792-7751198</td>\n",
       "      <td>chr1:7749771-7749791:+</td>\n",
       "      <td>cassette</td>\n",
       "      <td>20.0</td>\n",
       "    </tr>\n",
       "    <tr>\n",
       "      <th>12</th>\n",
       "      <td>chr1</td>\n",
       "      <td>7961736</td>\n",
       "      <td>7962762</td>\n",
       "      <td>+</td>\n",
       "      <td>1</td>\n",
       "      <td>6147</td>\n",
       "      <td>ENSG00000116288</td>\n",
       "      <td>ENSG00000116288</td>\n",
       "      <td>1</td>\n",
       "      <td>ENSG00000116288</td>\n",
       "      <td>PARK7</td>\n",
       "      <td>1026</td>\n",
       "      <td>PARK7_chr1_7962762_+</td>\n",
       "      <td>4</td>\n",
       "      <td>1</td>\n",
       "      <td>three_prime</td>\n",
       "      <td>PARK7_chr1:7961736-7962762</td>\n",
       "      <td>chr1:7961679-7961735:+</td>\n",
       "      <td>cassette</td>\n",
       "      <td>56.0</td>\n",
       "    </tr>\n",
       "    <tr>\n",
       "      <th>18</th>\n",
       "      <td>chr1</td>\n",
       "      <td>8656442</td>\n",
       "      <td>8792403</td>\n",
       "      <td>-</td>\n",
       "      <td>2</td>\n",
       "      <td>82</td>\n",
       "      <td>ENSG00000142599</td>\n",
       "      <td>ENSG00000142599</td>\n",
       "      <td>1</td>\n",
       "      <td>ENSG00000142599</td>\n",
       "      <td>RERE</td>\n",
       "      <td>135961</td>\n",
       "      <td>RERE_chr1_8656442_-</td>\n",
       "      <td>6</td>\n",
       "      <td>1</td>\n",
       "      <td>three_prime</td>\n",
       "      <td>RERE_chr1:8656442-8792403</td>\n",
       "      <td>chr1:8792404-8792588:-</td>\n",
       "      <td>cassette</td>\n",
       "      <td>184.0</td>\n",
       "    </tr>\n",
       "    <tr>\n",
       "      <th>...</th>\n",
       "      <td>...</td>\n",
       "      <td>...</td>\n",
       "      <td>...</td>\n",
       "      <td>...</td>\n",
       "      <td>...</td>\n",
       "      <td>...</td>\n",
       "      <td>...</td>\n",
       "      <td>...</td>\n",
       "      <td>...</td>\n",
       "      <td>...</td>\n",
       "      <td>...</td>\n",
       "      <td>...</td>\n",
       "      <td>...</td>\n",
       "      <td>...</td>\n",
       "      <td>...</td>\n",
       "      <td>...</td>\n",
       "      <td>...</td>\n",
       "      <td>...</td>\n",
       "      <td>...</td>\n",
       "      <td>...</td>\n",
       "    </tr>\n",
       "    <tr>\n",
       "      <th>7137</th>\n",
       "      <td>chr7</td>\n",
       "      <td>134962935</td>\n",
       "      <td>134965305</td>\n",
       "      <td>+</td>\n",
       "      <td>1</td>\n",
       "      <td>11</td>\n",
       "      <td>ENSG00000122786</td>\n",
       "      <td>ENSG00000122786</td>\n",
       "      <td>1</td>\n",
       "      <td>ENSG00000122786</td>\n",
       "      <td>CALD1</td>\n",
       "      <td>2370</td>\n",
       "      <td>CALD1_chr7_134965305_+</td>\n",
       "      <td>2</td>\n",
       "      <td>1</td>\n",
       "      <td>three_prime</td>\n",
       "      <td>CALD1_chr7:134962935-134965305</td>\n",
       "      <td>chr7:134962820-134962934:+</td>\n",
       "      <td>cassette</td>\n",
       "      <td>114.0</td>\n",
       "    </tr>\n",
       "    <tr>\n",
       "      <th>7140</th>\n",
       "      <td>chr5</td>\n",
       "      <td>138319375</td>\n",
       "      <td>138328483</td>\n",
       "      <td>-</td>\n",
       "      <td>2</td>\n",
       "      <td>30</td>\n",
       "      <td>ENSG00000158402</td>\n",
       "      <td>ENSG00000158402</td>\n",
       "      <td>1</td>\n",
       "      <td>ENSG00000158402</td>\n",
       "      <td>CDC25C</td>\n",
       "      <td>9108</td>\n",
       "      <td>CDC25C_chr5_138328483_-</td>\n",
       "      <td>2</td>\n",
       "      <td>1</td>\n",
       "      <td>five_prime</td>\n",
       "      <td>CDC25C_chr5:138319375-138328483</td>\n",
       "      <td>chr5:138319219-138319374:-</td>\n",
       "      <td>cassette</td>\n",
       "      <td>155.0</td>\n",
       "    </tr>\n",
       "    <tr>\n",
       "      <th>7143</th>\n",
       "      <td>chr5</td>\n",
       "      <td>132487131</td>\n",
       "      <td>132487925</td>\n",
       "      <td>-</td>\n",
       "      <td>2</td>\n",
       "      <td>95</td>\n",
       "      <td>ENSG00000125347</td>\n",
       "      <td>ENSG00000125347</td>\n",
       "      <td>1</td>\n",
       "      <td>ENSG00000125347</td>\n",
       "      <td>IRF1</td>\n",
       "      <td>794</td>\n",
       "      <td>IRF1_chr5_132487131_-</td>\n",
       "      <td>2</td>\n",
       "      <td>1</td>\n",
       "      <td>three_prime</td>\n",
       "      <td>IRF1_chr5:132487131-132487925</td>\n",
       "      <td>chr5:132487926-132488025:-</td>\n",
       "      <td>cassette</td>\n",
       "      <td>99.0</td>\n",
       "    </tr>\n",
       "    <tr>\n",
       "      <th>7148</th>\n",
       "      <td>chr2</td>\n",
       "      <td>164722523</td>\n",
       "      <td>164727968</td>\n",
       "      <td>-</td>\n",
       "      <td>2</td>\n",
       "      <td>71</td>\n",
       "      <td>ENSG00000082438</td>\n",
       "      <td>ENSG00000082438</td>\n",
       "      <td>1</td>\n",
       "      <td>ENSG00000082438</td>\n",
       "      <td>COBLL1</td>\n",
       "      <td>5445</td>\n",
       "      <td>COBLL1_chr2_164727968_-</td>\n",
       "      <td>2</td>\n",
       "      <td>1</td>\n",
       "      <td>five_prime</td>\n",
       "      <td>COBLL1_chr2:164722523-164727968</td>\n",
       "      <td>chr2:164722425-164722522:-</td>\n",
       "      <td>cassette</td>\n",
       "      <td>97.0</td>\n",
       "    </tr>\n",
       "    <tr>\n",
       "      <th>7150</th>\n",
       "      <td>chr16</td>\n",
       "      <td>80543352</td>\n",
       "      <td>80549483</td>\n",
       "      <td>+</td>\n",
       "      <td>1</td>\n",
       "      <td>26</td>\n",
       "      <td>ENSG00000168589</td>\n",
       "      <td>ENSG00000168589</td>\n",
       "      <td>1</td>\n",
       "      <td>ENSG00000168589</td>\n",
       "      <td>DYNLRB2</td>\n",
       "      <td>6131</td>\n",
       "      <td>DYNLRB2_chr16_80543352_+</td>\n",
       "      <td>2</td>\n",
       "      <td>1</td>\n",
       "      <td>five_prime</td>\n",
       "      <td>DYNLRB2_chr16:80543352-80549483</td>\n",
       "      <td>chr16:80549484-80549651:+</td>\n",
       "      <td>cassette</td>\n",
       "      <td>167.0</td>\n",
       "    </tr>\n",
       "  </tbody>\n",
       "</table>\n",
       "<p>2381 rows × 20 columns</p>\n",
       "</div>"
      ],
      "text/plain": [
       "     chromosome      start        end strand intron_motif n_cells  \\\n",
       "2          chr1    1655485    1657255      -            2      51   \n",
       "4          chr1    6186817    6192929      -            2    2925   \n",
       "9          chr1    7749792    7751198      +            1     538   \n",
       "12         chr1    7961736    7962762      +            1    6147   \n",
       "18         chr1    8656442    8792403      -            2      82   \n",
       "...         ...        ...        ...    ...          ...     ...   \n",
       "7137       chr7  134962935  134965305      +            1      11   \n",
       "7140       chr5  138319375  138328483      -            2      30   \n",
       "7143       chr5  132487131  132487925      -            2      95   \n",
       "7148       chr2  164722523  164727968      -            2      71   \n",
       "7150      chr16   80543352   80549483      +            1      26   \n",
       "\n",
       "        gene_id_start      gene_id_end n_genes          gene_id gene_name  \\\n",
       "2     ENSG00000248333  ENSG00000248333       1  ENSG00000248333    CDK11B   \n",
       "4     ENSG00000116251  ENSG00000116251       1  ENSG00000116251     RPL22   \n",
       "9     ENSG00000171735  ENSG00000171735       1  ENSG00000171735    CAMTA1   \n",
       "12    ENSG00000116288  ENSG00000116288       1  ENSG00000116288     PARK7   \n",
       "18    ENSG00000142599  ENSG00000142599       1  ENSG00000142599      RERE   \n",
       "...               ...              ...     ...              ...       ...   \n",
       "7137  ENSG00000122786  ENSG00000122786       1  ENSG00000122786     CALD1   \n",
       "7140  ENSG00000158402  ENSG00000158402       1  ENSG00000158402    CDC25C   \n",
       "7143  ENSG00000125347  ENSG00000125347       1  ENSG00000125347      IRF1   \n",
       "7148  ENSG00000082438  ENSG00000082438       1  ENSG00000082438    COBLL1   \n",
       "7150  ENSG00000168589  ENSG00000168589       1  ENSG00000168589   DYNLRB2   \n",
       "\n",
       "        size              intron_group intron_group_size  \\\n",
       "2       1770     CDK11B_chr1_1655485_-                 2   \n",
       "4       6112      RPL22_chr1_6186817_-                 3   \n",
       "9       1406     CAMTA1_chr1_7751198_+                 2   \n",
       "12      1026      PARK7_chr1_7962762_+                 4   \n",
       "18    135961       RERE_chr1_8656442_-                 6   \n",
       "...      ...                       ...               ...   \n",
       "7137    2370    CALD1_chr7_134965305_+                 2   \n",
       "7140    9108   CDC25C_chr5_138328483_-                 2   \n",
       "7143     794     IRF1_chr5_132487131_-                 2   \n",
       "7148    5445   COBLL1_chr2_164727968_-                 2   \n",
       "7150    6131  DYNLRB2_chr16_80543352_+                 2   \n",
       "\n",
       "     n_genes_per_intron_group     grouping                             name  \\\n",
       "2                           1  three_prime      CDK11B_chr1:1655485-1657255   \n",
       "4                           1  three_prime       RPL22_chr1:6186817-6192929   \n",
       "9                           1  three_prime      CAMTA1_chr1:7749792-7751198   \n",
       "12                          1  three_prime       PARK7_chr1:7961736-7962762   \n",
       "18                          1  three_prime        RERE_chr1:8656442-8792403   \n",
       "...                       ...          ...                              ...   \n",
       "7137                        1  three_prime   CALD1_chr7:134962935-134965305   \n",
       "7140                        1   five_prime  CDC25C_chr5:138319375-138328483   \n",
       "7143                        1  three_prime    IRF1_chr5:132487131-132487925   \n",
       "7148                        1   five_prime  COBLL1_chr2:164722523-164727968   \n",
       "7150                        1   five_prime  DYNLRB2_chr16:80543352-80549483   \n",
       "\n",
       "                            exon event_type exon_length  \n",
       "2         chr1:1657256-1657302:-   cassette        46.0  \n",
       "4         chr1:6192930-6193054:-   cassette       124.0  \n",
       "9         chr1:7749771-7749791:+   cassette        20.0  \n",
       "12        chr1:7961679-7961735:+   cassette        56.0  \n",
       "18        chr1:8792404-8792588:-   cassette       184.0  \n",
       "...                          ...        ...         ...  \n",
       "7137  chr7:134962820-134962934:+   cassette       114.0  \n",
       "7140  chr5:138319219-138319374:-   cassette       155.0  \n",
       "7143  chr5:132487926-132488025:-   cassette        99.0  \n",
       "7148  chr2:164722425-164722522:-   cassette        97.0  \n",
       "7150   chr16:80549484-80549651:+   cassette       167.0  \n",
       "\n",
       "[2381 rows x 20 columns]"
      ]
     },
     "execution_count": 56,
     "metadata": {},
     "output_type": "execute_result"
    }
   ],
   "source": [
    "cassette"
   ]
  },
  {
   "cell_type": "code",
   "execution_count": 57,
   "id": "9ddb1bbc-bc33-4452-8afb-3bcbf963aac2",
   "metadata": {},
   "outputs": [],
   "source": [
    "#cassette.to_csv('introns_cassette_only.csv')"
   ]
  },
  {
   "cell_type": "code",
   "execution_count": null,
   "id": "a0ad0acc-4ffb-449d-99e7-406818750c97",
   "metadata": {},
   "outputs": [],
   "source": []
  },
  {
   "cell_type": "code",
   "execution_count": 58,
   "id": "21e0f15f-9fd9-4399-ae7f-1b4d23a58243",
   "metadata": {
    "tags": []
   },
   "outputs": [
    {
     "name": "stdout",
     "output_type": "stream",
     "text": [
      "# packages in environment at /c4/home/derek/miniconda3/envs/scquint_4:\n",
      "#\n",
      "# Name                    Version                   Build  Channel\n",
      "_libgcc_mutex             0.1                 conda_forge    conda-forge\n",
      "_openmp_mutex             4.5                       2_gnu    conda-forge\n",
      "aiofiles                  22.1.0             pyhd8ed1ab_0    conda-forge\n",
      "aiosqlite                 0.18.0             pyhd8ed1ab_0    conda-forge\n",
      "anndata                   0.8.0                    pypi_0    pypi\n",
      "anyio                     3.6.2              pyhd8ed1ab_0    conda-forge\n",
      "appdirs                   1.4.4                    pypi_0    pypi\n",
      "argon2-cffi               21.3.0             pyhd8ed1ab_0    conda-forge\n",
      "argon2-cffi-bindings      21.2.0          py310h5764c6d_3    conda-forge\n",
      "asttokens                 2.2.1              pyhd8ed1ab_0    conda-forge\n",
      "attrs                     22.2.0             pyh71513ae_0    conda-forge\n",
      "babel                     2.12.1             pyhd8ed1ab_1    conda-forge\n",
      "backcall                  0.2.0              pyh9f0ad1d_0    conda-forge\n",
      "backports                 1.0                pyhd8ed1ab_3    conda-forge\n",
      "backports.functools_lru_cache 1.6.4              pyhd8ed1ab_0    conda-forge\n",
      "beautifulsoup4            4.11.2             pyha770c72_0    conda-forge\n",
      "bedtools                  2.30.0               h468198e_3    bioconda\n",
      "bleach                    6.0.0              pyhd8ed1ab_0    conda-forge\n",
      "brotlipy                  0.7.0           py310h5764c6d_1004    conda-forge\n",
      "bzip2                     1.0.8                h7b6447c_0  \n",
      "c-ares                    1.18.1               h7f98852_0    conda-forge\n",
      "ca-certificates           2023.01.10           h06a4308_0    anaconda\n",
      "cached-property           1.5.2                hd8ed1ab_1    conda-forge\n",
      "cached_property           1.5.2              pyha770c72_1    conda-forge\n",
      "certifi                   2022.12.7       py310h06a4308_0    anaconda\n",
      "cffi                      1.15.0          py310h0fdd8cc_0    conda-forge\n",
      "charset-normalizer        2.1.1              pyhd8ed1ab_0    conda-forge\n",
      "click                     8.1.3           unix_pyhd8ed1ab_2    conda-forge\n",
      "colorama                  0.4.6              pyhd8ed1ab_0    conda-forge\n",
      "comm                      0.1.2              pyhd8ed1ab_0    conda-forge\n",
      "conda                     23.1.0          py310hff52083_0    conda-forge\n",
      "conda-package-handling    2.0.2              pyh38be061_0    conda-forge\n",
      "conda-package-streaming   0.7.0              pyhd8ed1ab_1    conda-forge\n",
      "configargparse            1.5.3                    pypi_0    pypi\n",
      "connection-pool           0.0.3                    pypi_0    pypi\n",
      "contourpy                 1.0.7                    pypi_0    pypi\n",
      "cryptography              39.0.0          py310h65dfdc0_0    conda-forge\n",
      "cycler                    0.11.0                   pypi_0    pypi\n",
      "datrie                    0.8.2                    pypi_0    pypi\n",
      "debugpy                   1.6.6           py310heca2aa9_0    conda-forge\n",
      "decorator                 5.1.1              pyhd8ed1ab_0    conda-forge\n",
      "defusedxml                0.7.1              pyhd8ed1ab_0    conda-forge\n",
      "docutils                  0.19                     pypi_0    pypi\n",
      "dpath                     2.1.4                    pypi_0    pypi\n",
      "entrypoints               0.4                pyhd8ed1ab_0    conda-forge\n",
      "et-xmlfile                1.1.0                    pypi_0    pypi\n",
      "executing                 1.2.0              pyhd8ed1ab_0    conda-forge\n",
      "fastcluster               1.2.6                    pypi_0    pypi\n",
      "flit-core                 3.8.0              pyhd8ed1ab_0    conda-forge\n",
      "fmt                       9.1.0                h924138e_0    conda-forge\n",
      "fonttools                 4.39.0                   pypi_0    pypi\n",
      "gitdb                     4.0.10                   pypi_0    pypi\n",
      "gitpython                 3.1.31                   pypi_0    pypi\n",
      "gseapy                    1.0.4                    pypi_0    pypi\n",
      "h5py                      3.8.0           nompi_py310ha66b2ad_101    conda-forge\n",
      "hdf5                      1.14.0          nompi_h5231ba7_103    conda-forge\n",
      "htseq                     2.0.2                    pypi_0    pypi\n",
      "humanfriendly             10.0                     pypi_0    pypi\n",
      "icu                       68.2                 h9c3ff4c_0    conda-forge\n",
      "idna                      3.4                pyhd8ed1ab_0    conda-forge\n",
      "importlib-metadata        6.0.0              pyha770c72_0    conda-forge\n",
      "importlib_metadata        6.0.0                hd8ed1ab_0    conda-forge\n",
      "importlib_resources       5.12.0             pyhd8ed1ab_0    conda-forge\n",
      "ipykernel                 6.21.3             pyh210e3f2_0    conda-forge\n",
      "ipython                   8.11.0             pyh41d4057_0    conda-forge\n",
      "ipython_genutils          0.2.0                      py_1    conda-forge\n",
      "jedi                      0.18.2             pyhd8ed1ab_0    conda-forge\n",
      "jinja2                    3.1.2              pyhd8ed1ab_1    conda-forge\n",
      "joblib                    1.2.0                    pypi_0    pypi\n",
      "json5                     0.9.5              pyh9f0ad1d_0    conda-forge\n",
      "jsonschema                4.17.3             pyhd8ed1ab_0    conda-forge\n",
      "jupyter_client            8.0.3              pyhd8ed1ab_0    conda-forge\n",
      "jupyter_core              5.2.0           py310hff52083_0    conda-forge\n",
      "jupyter_events            0.6.3              pyhd8ed1ab_0    conda-forge\n",
      "jupyter_server            2.4.0              pyhd8ed1ab_0    conda-forge\n",
      "jupyter_server_fileid     0.8.0              pyhd8ed1ab_0    conda-forge\n",
      "jupyter_server_terminals  0.4.4              pyhd8ed1ab_1    conda-forge\n",
      "jupyter_server_ydoc       0.6.1              pyhd8ed1ab_0    conda-forge\n",
      "jupyter_ydoc              0.2.2              pyhd8ed1ab_0    conda-forge\n",
      "jupyterlab                3.6.1              pyhd8ed1ab_0    conda-forge\n",
      "jupyterlab_pygments       0.2.2              pyhd8ed1ab_0    conda-forge\n",
      "jupyterlab_server         2.20.0             pyhd8ed1ab_0    conda-forge\n",
      "keyutils                  1.6.1                h166bdaf_0    conda-forge\n",
      "kiwisolver                1.4.4                    pypi_0    pypi\n",
      "krb5                      1.20.1               hf9c8cef_0    conda-forge\n",
      "ld_impl_linux-64          2.38                 h1181459_1  \n",
      "libaec                    1.0.6                hcb278e6_1    conda-forge\n",
      "libarchive                3.5.2                hccf745f_1    conda-forge\n",
      "libblas                   3.9.0           16_linux64_openblas    conda-forge\n",
      "libcblas                  3.9.0           16_linux64_openblas    conda-forge\n",
      "libcurl                   7.87.0               h6312ad2_0    conda-forge\n",
      "libdeflate                1.13                 h166bdaf_0    conda-forge\n",
      "libedit                   3.1.20191231         he28a2e2_2    conda-forge\n",
      "libev                     4.33                 h516909a_1    conda-forge\n",
      "libffi                    3.4.2                h6a678d5_6  \n",
      "libgcc-ng                 12.2.0              h65d4601_19    conda-forge\n",
      "libgfortran-ng            12.2.0              h69a702a_19    conda-forge\n",
      "libgfortran5              12.2.0              h337968e_19    conda-forge\n",
      "libgomp                   12.2.0              h65d4601_19    conda-forge\n",
      "libiconv                  1.17                 h166bdaf_0    conda-forge\n",
      "liblapack                 3.9.0           16_linux64_openblas    conda-forge\n",
      "libllvm11                 11.1.0               he0ac6c6_5    conda-forge\n",
      "libmamba                  1.1.0                h2c5f835_2    conda-forge\n",
      "libmambapy                1.1.0           py310h5976e0f_2    conda-forge\n",
      "libnghttp2                1.51.0               hdcd2b5c_0    conda-forge\n",
      "libnsl                    2.0.0                h7f98852_0    conda-forge\n",
      "libopenblas               0.3.21          pthreads_h78a6416_3    conda-forge\n",
      "libsodium                 1.0.18               h36c2ea0_1    conda-forge\n",
      "libsolv                   0.7.22               he621ea3_0  \n",
      "libsqlite                 3.40.0               h753d276_0    conda-forge\n",
      "libssh2                   1.10.0               haa6b8db_3    conda-forge\n",
      "libstdcxx-ng              12.2.0              h46fd767_19    conda-forge\n",
      "libuuid                   2.32.1            h7f98852_1000    conda-forge\n",
      "libxml2                   2.9.12               h72842e0_0    conda-forge\n",
      "libzlib                   1.2.13               h166bdaf_4    conda-forge\n",
      "llvmlite                  0.39.1                   pypi_0    pypi\n",
      "loompy                    3.0.6                      py_0    conda-forge\n",
      "lz4-c                     1.9.3                h9c3ff4c_1    conda-forge\n",
      "lzo                       2.10              h516909a_1000    conda-forge\n",
      "mamba                     1.1.0           py310hf87f941_2    conda-forge\n",
      "markupsafe                2.1.2           py310h1fa729e_0    conda-forge\n",
      "matplotlib                3.7.1                    pypi_0    pypi\n",
      "matplotlib-inline         0.1.6              pyhd8ed1ab_0    conda-forge\n",
      "mistune                   2.0.5              pyhd8ed1ab_0    conda-forge\n",
      "natsort                   8.3.1                    pypi_0    pypi\n",
      "nbclassic                 0.5.3              pyhb4ecaf3_3    conda-forge\n",
      "nbclient                  0.7.2              pyhd8ed1ab_0    conda-forge\n",
      "nbconvert                 7.2.9              pyhd8ed1ab_0    conda-forge\n",
      "nbconvert-core            7.2.9              pyhd8ed1ab_0    conda-forge\n",
      "nbconvert-pandoc          7.2.9              pyhd8ed1ab_0    conda-forge\n",
      "nbformat                  5.7.3              pyhd8ed1ab_0    conda-forge\n",
      "ncurses                   6.4                  h6a678d5_0  \n",
      "nest-asyncio              1.5.6              pyhd8ed1ab_0    conda-forge\n",
      "networkx                  3.0                      pypi_0    pypi\n",
      "notebook                  6.5.3              pyha770c72_0    conda-forge\n",
      "notebook-shim             0.2.2              pyhd8ed1ab_0    conda-forge\n",
      "numba                     0.56.4          py310ha5257ce_0    conda-forge\n",
      "numpy                     1.23.5          py310h53a5b5f_0    conda-forge\n",
      "numpy_groupies            0.9.20             pyhd8ed1ab_0    conda-forge\n",
      "nvidia-cublas-cu11        11.10.3.66               pypi_0    pypi\n",
      "nvidia-cuda-nvrtc-cu11    11.7.99                  pypi_0    pypi\n",
      "nvidia-cuda-runtime-cu11  11.7.99                  pypi_0    pypi\n",
      "nvidia-cudnn-cu11         8.5.0.96                 pypi_0    pypi\n",
      "openpyxl                  3.1.2                    pypi_0    pypi\n",
      "openssl                   1.1.1t               h7f8727e_0  \n",
      "opt-einsum                3.3.0                    pypi_0    pypi\n",
      "packaging                 23.0               pyhd8ed1ab_0    conda-forge\n",
      "pandas                    1.5.3                    pypi_0    pypi\n",
      "pandoc                    2.19.2               h32600fe_2    conda-forge\n",
      "pandocfilters             1.5.0              pyhd8ed1ab_0    conda-forge\n",
      "parso                     0.8.3              pyhd8ed1ab_0    conda-forge\n",
      "patsy                     0.5.3                    pypi_0    pypi\n",
      "pcre2                     10.37                h032f7d1_0    conda-forge\n",
      "pexpect                   4.8.0              pyh1a96a4e_2    conda-forge\n",
      "pickleshare               0.7.5                   py_1003    conda-forge\n",
      "pillow                    9.4.0                    pypi_0    pypi\n",
      "pip                       23.0.1          py310h06a4308_0  \n",
      "pkgutil-resolve-name      1.3.10             pyhd8ed1ab_0    conda-forge\n",
      "plac                      1.3.5                    pypi_0    pypi\n",
      "platformdirs              3.1.0              pyhd8ed1ab_0    conda-forge\n",
      "plotly                    5.14.1                   pypi_0    pypi\n",
      "plotly-express            0.4.1                    pypi_0    pypi\n",
      "pluggy                    1.0.0              pyhd8ed1ab_5    conda-forge\n",
      "pooch                     1.7.0              pyhd8ed1ab_0    conda-forge\n",
      "prometheus_client         0.16.0             pyhd8ed1ab_0    conda-forge\n",
      "prompt-toolkit            3.0.38             pyha770c72_0    conda-forge\n",
      "prompt_toolkit            3.0.38               hd8ed1ab_0    conda-forge\n",
      "psutil                    5.9.4           py310h5764c6d_0    conda-forge\n",
      "ptyprocess                0.7.0              pyhd3deb0d_0    conda-forge\n",
      "pulp                      2.7.0                    pypi_0    pypi\n",
      "pure_eval                 0.2.2              pyhd8ed1ab_0    conda-forge\n",
      "pybedtools                0.9.0                    pypi_0    pypi\n",
      "pybind11-abi              4                    hd8ed1ab_3    conda-forge\n",
      "pycosat                   0.6.3           py310h5764c6d_1010    conda-forge\n",
      "pycparser                 2.21               pyhd8ed1ab_0    conda-forge\n",
      "pygments                  2.14.0             pyhd8ed1ab_0    conda-forge\n",
      "pyliftover                0.4                      pypi_0    pypi\n",
      "pynndescent               0.5.8                    pypi_0    pypi\n",
      "pyopenssl                 23.0.0             pyhd8ed1ab_0    conda-forge\n",
      "pyparsing                 3.0.9                    pypi_0    pypi\n",
      "pyro-api                  0.1.2                    pypi_0    pypi\n",
      "pyro-ppl                  1.8.4                    pypi_0    pypi\n",
      "pyrsistent                0.19.3          py310h1fa729e_0    conda-forge\n",
      "pysam                     0.20.0                   pypi_0    pypi\n",
      "pysocks                   1.7.1              pyha2e5f31_6    conda-forge\n",
      "python                    3.10.8          h257c98d_0_cpython    conda-forge\n",
      "python-dateutil           2.8.2              pyhd8ed1ab_0    conda-forge\n",
      "python-fastjsonschema     2.16.3             pyhd8ed1ab_0    conda-forge\n",
      "python-json-logger        2.0.7              pyhd8ed1ab_0    conda-forge\n",
      "python_abi                3.10                    2_cp310    conda-forge\n",
      "pytz                      2022.7.1           pyhd8ed1ab_0    conda-forge\n",
      "pyyaml                    6.0             py310h5764c6d_5    conda-forge\n",
      "pyzmq                     25.0.0          py310h059b190_0    conda-forge\n",
      "readline                  8.2                  h5eee18b_0  \n",
      "reproc                    14.2.3               h7f98852_0    conda-forge\n",
      "reproc-cpp                14.2.3               h9c3ff4c_0    conda-forge\n",
      "requests                  2.28.2             pyhd8ed1ab_0    conda-forge\n",
      "reretry                   0.11.8                   pypi_0    pypi\n",
      "rfc3339-validator         0.1.4              pyhd8ed1ab_0    conda-forge\n",
      "rfc3986-validator         0.1.1              pyh9f0ad1d_0    conda-forge\n",
      "ruamel.yaml               0.17.21         py310h1fa729e_3    conda-forge\n",
      "ruamel.yaml.clib          0.2.7           py310h1fa729e_1    conda-forge\n",
      "ruamel_yaml               0.15.80         py310h6acc77f_1006    conda-forge\n",
      "scanpy                    1.9.3                    pypi_0    pypi\n",
      "scikit-learn              1.2.1                    pypi_0    pypi\n",
      "scipy                     1.10.1                   pypi_0    pypi\n",
      "scquint                   0.3.3                     dev_0    <develop>\n",
      "seaborn                   0.12.2                   pypi_0    pypi\n",
      "send2trash                1.8.0              pyhd8ed1ab_0    conda-forge\n",
      "session-info              1.0.0                    pypi_0    pypi\n",
      "setuptools                65.6.3          py310h06a4308_0  \n",
      "six                       1.16.0             pyh6c4a22f_0    conda-forge\n",
      "slurm-magic               0.0.5                    pypi_0    pypi\n",
      "smart-open                6.3.0                    pypi_0    pypi\n",
      "smmap                     5.0.0                    pypi_0    pypi\n",
      "snakemake                 7.24.0                   pypi_0    pypi\n",
      "sniffio                   1.3.0              pyhd8ed1ab_0    conda-forge\n",
      "soupsieve                 2.3.2.post1        pyhd8ed1ab_0    conda-forge\n",
      "sqlite                    3.40.1               h5082296_0    anaconda\n",
      "stack_data                0.6.2              pyhd8ed1ab_0    conda-forge\n",
      "statsmodels               0.13.5                   pypi_0    pypi\n",
      "stdlib-list               0.8.0                    pypi_0    pypi\n",
      "stopit                    1.1.2                    pypi_0    pypi\n",
      "tabulate                  0.9.0                    pypi_0    pypi\n",
      "tenacity                  8.2.2                    pypi_0    pypi\n",
      "terminado                 0.17.1             pyh41d4057_0    conda-forge\n",
      "threadpoolctl             3.1.0                    pypi_0    pypi\n",
      "throttler                 1.2.2                    pypi_0    pypi\n",
      "tinycss2                  1.2.1              pyhd8ed1ab_0    conda-forge\n",
      "tk                        8.6.12               h1ccaba5_0  \n",
      "tomli                     2.0.1              pyhd8ed1ab_0    conda-forge\n",
      "toolz                     0.12.0             pyhd8ed1ab_0    conda-forge\n",
      "toposort                  1.10                     pypi_0    pypi\n",
      "torch                     1.13.1                   pypi_0    pypi\n",
      "tornado                   6.2             py310h5764c6d_1    conda-forge\n",
      "tqdm                      4.65.0             pyhd8ed1ab_1    conda-forge\n",
      "traitlets                 5.9.0              pyhd8ed1ab_0    conda-forge\n",
      "typing-extensions         4.4.0                hd8ed1ab_0    conda-forge\n",
      "typing_extensions         4.4.0              pyha770c72_0    conda-forge\n",
      "tzdata                    2022g                h04d1e81_0  \n",
      "umap-learn                0.5.3                    pypi_0    pypi\n",
      "upsetplot                 0.8.0                    pypi_0    pypi\n",
      "urllib3                   1.26.14            pyhd8ed1ab_0    conda-forge\n",
      "wcwidth                   0.2.6              pyhd8ed1ab_0    conda-forge\n",
      "webencodings              0.5.1                      py_1    conda-forge\n",
      "websocket-client          1.5.1              pyhd8ed1ab_0    conda-forge\n",
      "wheel                     0.38.4          py310h06a4308_0  \n",
      "wrapt                     1.15.0                   pypi_0    pypi\n",
      "xz                        5.2.10               h5eee18b_1  \n",
      "y-py                      0.5.9           py310h4426083_0    conda-forge\n",
      "yaml                      0.2.5                h7f98852_2    conda-forge\n",
      "yaml-cpp                  0.7.0                h27087fc_2    conda-forge\n",
      "ypy-websocket             0.8.2              pyhd8ed1ab_0    conda-forge\n",
      "yte                       1.5.1                    pypi_0    pypi\n",
      "zeromq                    4.3.4                h9c3ff4c_1    conda-forge\n",
      "zipp                      3.15.0             pyhd8ed1ab_0    conda-forge\n",
      "zlib                      1.2.13               h166bdaf_4    conda-forge\n",
      "zstandard                 0.17.0          py310h5764c6d_1    conda-forge\n",
      "zstd                      1.5.0                ha95c52a_0    conda-forge\n"
     ]
    }
   ],
   "source": [
    "!conda list"
   ]
  },
  {
   "cell_type": "code",
   "execution_count": null,
   "id": "73c20183-53a5-47da-a2e7-a301551fbbd2",
   "metadata": {},
   "outputs": [],
   "source": []
  }
 ],
 "metadata": {
  "kernelspec": {
   "display_name": "Python 3 (ipykernel)",
   "language": "python",
   "name": "python3"
  },
  "language_info": {
   "codemirror_mode": {
    "name": "ipython",
    "version": 3
   },
   "file_extension": ".py",
   "mimetype": "text/x-python",
   "name": "python",
   "nbconvert_exporter": "python",
   "pygments_lexer": "ipython3",
   "version": "3.10.15"
  }
 },
 "nbformat": 4,
 "nbformat_minor": 5
}
