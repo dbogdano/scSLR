{
 "cells": [
  {
   "cell_type": "code",
   "execution_count": 1,
   "id": "5ae9577c-5d80-4bba-97fe-91274ae43ccf",
   "metadata": {
    "tags": []
   },
   "outputs": [
    {
     "name": "stdout",
     "output_type": "stream",
     "text": [
      "Sat May 27 17:27:11 PDT 2023\n"
     ]
    }
   ],
   "source": [
    "!date"
   ]
  },
  {
   "cell_type": "code",
   "execution_count": 2,
   "id": "9ef4f186-dd1e-4227-8358-199a6209953b",
   "metadata": {
    "tags": []
   },
   "outputs": [
    {
     "name": "stdout",
     "output_type": "stream",
     "text": [
      "/c4/home/derek/miniconda3/envs/py39\n"
     ]
    }
   ],
   "source": [
    "!echo $CONDA_PREFIX"
   ]
  },
  {
   "cell_type": "code",
   "execution_count": null,
   "id": "8916c5fe-631c-4d44-9ee5-5b0ef94f48a6",
   "metadata": {},
   "outputs": [],
   "source": []
  },
  {
   "cell_type": "code",
   "execution_count": 3,
   "id": "9aa54f36-11a0-45e2-b30a-0e0c440f6f1c",
   "metadata": {
    "tags": []
   },
   "outputs": [],
   "source": [
    "import pandas as pd\n",
    "import sqlite3"
   ]
  },
  {
   "cell_type": "code",
   "execution_count": 4,
   "id": "75f8a883-e1c6-431a-b8fb-9874621bb5ae",
   "metadata": {
    "tags": []
   },
   "outputs": [],
   "source": [
    "import scanpy as sc"
   ]
  },
  {
   "cell_type": "code",
   "execution_count": null,
   "id": "dd24fdba-3577-4b2f-b29d-f8b7a69a96c7",
   "metadata": {},
   "outputs": [],
   "source": []
  },
  {
   "cell_type": "code",
   "execution_count": 5,
   "id": "54e407c7-c53d-450b-b0b8-0e3cb8d383c5",
   "metadata": {},
   "outputs": [],
   "source": [
    "##read in all introns\n",
    "introns = pd.read_csv('introns.csv',index_col=0)"
   ]
  },
  {
   "cell_type": "code",
   "execution_count": 6,
   "id": "b49f7c68-4909-456d-9edd-7746084e6a60",
   "metadata": {
    "tags": []
   },
   "outputs": [
    {
     "data": {
      "text/plain": [
       "193402"
      ]
     },
     "execution_count": 6,
     "metadata": {},
     "output_type": "execute_result"
    }
   ],
   "source": [
    "len(introns)"
   ]
  },
  {
   "cell_type": "code",
   "execution_count": 7,
   "id": "75b1eea8-750c-47da-a43e-4168db2ac262",
   "metadata": {
    "tags": []
   },
   "outputs": [
    {
     "data": {
      "text/html": [
       "<div>\n",
       "<style scoped>\n",
       "    .dataframe tbody tr th:only-of-type {\n",
       "        vertical-align: middle;\n",
       "    }\n",
       "\n",
       "    .dataframe tbody tr th {\n",
       "        vertical-align: top;\n",
       "    }\n",
       "\n",
       "    .dataframe thead th {\n",
       "        text-align: right;\n",
       "    }\n",
       "</style>\n",
       "<table border=\"1\" class=\"dataframe\">\n",
       "  <thead>\n",
       "    <tr style=\"text-align: right;\">\n",
       "      <th></th>\n",
       "      <th>chromosome</th>\n",
       "      <th>start</th>\n",
       "      <th>end</th>\n",
       "      <th>strand</th>\n",
       "      <th>intron_motif</th>\n",
       "      <th>n_cells</th>\n",
       "      <th>gene_id_start</th>\n",
       "      <th>gene_id_end</th>\n",
       "      <th>n_genes</th>\n",
       "      <th>gene_id</th>\n",
       "      <th>gene_name</th>\n",
       "      <th>intron_coordinates</th>\n",
       "      <th>introverse_annotated</th>\n",
       "    </tr>\n",
       "  </thead>\n",
       "  <tbody>\n",
       "    <tr>\n",
       "      <th>AL627309.3_chr1:90051-90286</th>\n",
       "      <td>chr1</td>\n",
       "      <td>90051</td>\n",
       "      <td>90286</td>\n",
       "      <td>-</td>\n",
       "      <td>2</td>\n",
       "      <td>5</td>\n",
       "      <td>ENSG00000239945</td>\n",
       "      <td>ENSG00000239945</td>\n",
       "      <td>1</td>\n",
       "      <td>ENSG00000239945</td>\n",
       "      <td>AL627309.3</td>\n",
       "      <td>chr1:90051-90286:-</td>\n",
       "      <td>False</td>\n",
       "    </tr>\n",
       "    <tr>\n",
       "      <th>AL627309.5_chr1:172689-173752</th>\n",
       "      <td>chr1</td>\n",
       "      <td>172689</td>\n",
       "      <td>173752</td>\n",
       "      <td>-</td>\n",
       "      <td>2</td>\n",
       "      <td>12</td>\n",
       "      <td>ENSG00000241860</td>\n",
       "      <td>ENSG00000241860</td>\n",
       "      <td>1</td>\n",
       "      <td>ENSG00000241860</td>\n",
       "      <td>AL627309.5</td>\n",
       "      <td>chr1:172689-173752:-</td>\n",
       "      <td>False</td>\n",
       "    </tr>\n",
       "    <tr>\n",
       "      <th>AL627309.5_chr1:173863-181036</th>\n",
       "      <td>chr1</td>\n",
       "      <td>173863</td>\n",
       "      <td>181036</td>\n",
       "      <td>-</td>\n",
       "      <td>2</td>\n",
       "      <td>27</td>\n",
       "      <td>ENSG00000241860</td>\n",
       "      <td>NaN</td>\n",
       "      <td>1</td>\n",
       "      <td>ENSG00000241860</td>\n",
       "      <td>AL627309.5</td>\n",
       "      <td>chr1:173863-181036:-</td>\n",
       "      <td>False</td>\n",
       "    </tr>\n",
       "    <tr>\n",
       "      <th>LINC01409_chr1:779093-786392</th>\n",
       "      <td>chr1</td>\n",
       "      <td>779093</td>\n",
       "      <td>786392</td>\n",
       "      <td>+</td>\n",
       "      <td>1</td>\n",
       "      <td>1</td>\n",
       "      <td>ENSG00000237491</td>\n",
       "      <td>ENSG00000237491</td>\n",
       "      <td>1</td>\n",
       "      <td>ENSG00000237491</td>\n",
       "      <td>LINC01409</td>\n",
       "      <td>chr1:779093-786392:+</td>\n",
       "      <td>False</td>\n",
       "    </tr>\n",
       "    <tr>\n",
       "      <th>LINC01409_chr1:779093-803918</th>\n",
       "      <td>chr1</td>\n",
       "      <td>779093</td>\n",
       "      <td>803918</td>\n",
       "      <td>+</td>\n",
       "      <td>1</td>\n",
       "      <td>8</td>\n",
       "      <td>ENSG00000237491</td>\n",
       "      <td>ENSG00000237491</td>\n",
       "      <td>1</td>\n",
       "      <td>ENSG00000237491</td>\n",
       "      <td>LINC01409</td>\n",
       "      <td>chr1:779093-803918:+</td>\n",
       "      <td>False</td>\n",
       "    </tr>\n",
       "  </tbody>\n",
       "</table>\n",
       "</div>"
      ],
      "text/plain": [
       "                              chromosome   start     end strand  intron_motif  \\\n",
       "AL627309.3_chr1:90051-90286         chr1   90051   90286      -             2   \n",
       "AL627309.5_chr1:172689-173752       chr1  172689  173752      -             2   \n",
       "AL627309.5_chr1:173863-181036       chr1  173863  181036      -             2   \n",
       "LINC01409_chr1:779093-786392        chr1  779093  786392      +             1   \n",
       "LINC01409_chr1:779093-803918        chr1  779093  803918      +             1   \n",
       "\n",
       "                               n_cells    gene_id_start      gene_id_end  \\\n",
       "AL627309.3_chr1:90051-90286          5  ENSG00000239945  ENSG00000239945   \n",
       "AL627309.5_chr1:172689-173752       12  ENSG00000241860  ENSG00000241860   \n",
       "AL627309.5_chr1:173863-181036       27  ENSG00000241860              NaN   \n",
       "LINC01409_chr1:779093-786392         1  ENSG00000237491  ENSG00000237491   \n",
       "LINC01409_chr1:779093-803918         8  ENSG00000237491  ENSG00000237491   \n",
       "\n",
       "                               n_genes          gene_id   gene_name  \\\n",
       "AL627309.3_chr1:90051-90286          1  ENSG00000239945  AL627309.3   \n",
       "AL627309.5_chr1:172689-173752        1  ENSG00000241860  AL627309.5   \n",
       "AL627309.5_chr1:173863-181036        1  ENSG00000241860  AL627309.5   \n",
       "LINC01409_chr1:779093-786392         1  ENSG00000237491   LINC01409   \n",
       "LINC01409_chr1:779093-803918         1  ENSG00000237491   LINC01409   \n",
       "\n",
       "                                 intron_coordinates  introverse_annotated  \n",
       "AL627309.3_chr1:90051-90286      chr1:90051-90286:-                 False  \n",
       "AL627309.5_chr1:172689-173752  chr1:172689-173752:-                 False  \n",
       "AL627309.5_chr1:173863-181036  chr1:173863-181036:-                 False  \n",
       "LINC01409_chr1:779093-786392   chr1:779093-786392:+                 False  \n",
       "LINC01409_chr1:779093-803918   chr1:779093-803918:+                 False  "
      ]
     },
     "execution_count": 7,
     "metadata": {},
     "output_type": "execute_result"
    }
   ],
   "source": [
    "introns.head()"
   ]
  },
  {
   "cell_type": "code",
   "execution_count": 8,
   "id": "f081c3ca-e6be-49d3-8ab6-9e6015fe2219",
   "metadata": {
    "tags": []
   },
   "outputs": [],
   "source": [
    "introns['intron_coordinates'] = introns['chromosome']+':'+introns['start'].values.astype(str)+'-'+introns['end'].values.astype(str)+':'+introns['strand']\n",
    "\n"
   ]
  },
  {
   "cell_type": "code",
   "execution_count": 9,
   "id": "f7850510-3cb3-41fb-97ff-3d32d04dd87f",
   "metadata": {
    "tags": []
   },
   "outputs": [
    {
     "data": {
      "text/plain": [
       "AL627309.3_chr1:90051-90286            chr1:90051-90286:-\n",
       "AL627309.5_chr1:172689-173752        chr1:172689-173752:-\n",
       "AL627309.5_chr1:173863-181036        chr1:173863-181036:-\n",
       "LINC01409_chr1:779093-786392         chr1:779093-786392:+\n",
       "LINC01409_chr1:779093-803918         chr1:779093-803918:+\n",
       "                                           ...           \n",
       "EIF1AY_chrY:20579692-20582589    chrY:20579692-20582589:+\n",
       "EIF1AY_chrY:20582694-20584473    chrY:20582694-20584473:+\n",
       "EIF1AY_chrY:20584525-20588023    chrY:20584525-20588023:+\n",
       "EIF1AY_chrY:20588106-20589483    chrY:20588106-20589483:+\n",
       "EIF1AY_chrY:20589576-20592340    chrY:20589576-20592340:+\n",
       "Name: intron_coordinates, Length: 193402, dtype: object"
      ]
     },
     "execution_count": 9,
     "metadata": {},
     "output_type": "execute_result"
    }
   ],
   "source": [
    "introns['intron_coordinates']"
   ]
  },
  {
   "cell_type": "code",
   "execution_count": 10,
   "id": "71d2d730-3578-43c7-ac87-7f4c1646469f",
   "metadata": {},
   "outputs": [],
   "source": [
    "##open introverse database\n",
    "con = sqlite3.connect(\"/c4/home/derek/data1/derek/reference/introverse/introverse.sqlite\")"
   ]
  },
  {
   "cell_type": "code",
   "execution_count": 11,
   "id": "723c676a-4baa-4592-8641-a37263de28dc",
   "metadata": {},
   "outputs": [],
   "source": [
    "#pd.read_sql_query('SELECT * FROM INFORMATION_SCHEMA.COLUMNS WHERE TABLE_NAME = tableName',con)"
   ]
  },
  {
   "cell_type": "code",
   "execution_count": 12,
   "id": "e06caa6f-a408-48dc-bd4b-fbe06641b035",
   "metadata": {},
   "outputs": [],
   "source": [
    "df_intron = pd.read_sql_query('SELECT * FROM intron', con)"
   ]
  },
  {
   "cell_type": "code",
   "execution_count": 13,
   "id": "4c36f0fc-87a1-4c59-baf3-e497f9b108b2",
   "metadata": {},
   "outputs": [],
   "source": [
    "df_novel = pd.read_sql_query('SELECT * FROM novel', con)"
   ]
  },
  {
   "cell_type": "code",
   "execution_count": 14,
   "id": "feaade35-a6a5-4340-b3f4-0a97a1141833",
   "metadata": {},
   "outputs": [
    {
     "data": {
      "text/plain": [
       "332571"
      ]
     },
     "execution_count": 14,
     "metadata": {},
     "output_type": "execute_result"
    }
   ],
   "source": [
    "len(df_intron)"
   ]
  },
  {
   "cell_type": "code",
   "execution_count": 15,
   "id": "5a0b57b4-78a3-4622-bd3a-7b9e5e8f682c",
   "metadata": {},
   "outputs": [
    {
     "data": {
      "text/plain": [
       "4679474"
      ]
     },
     "execution_count": 15,
     "metadata": {},
     "output_type": "execute_result"
    }
   ],
   "source": [
    "len(df_novel)"
   ]
  },
  {
   "cell_type": "code",
   "execution_count": 16,
   "id": "6d9326fb-c6c0-4138-8b2d-afd8fb54b7a8",
   "metadata": {},
   "outputs": [
    {
     "data": {
      "text/plain": [
       "153182"
      ]
     },
     "execution_count": 16,
     "metadata": {},
     "output_type": "execute_result"
    }
   ],
   "source": [
    "len(set(df_intron['ref_coordinates']).intersection(introns['intron_coordinates']))"
   ]
  },
  {
   "cell_type": "code",
   "execution_count": 17,
   "id": "3aa01cae-6a01-4368-9d95-2db13503c209",
   "metadata": {},
   "outputs": [
    {
     "data": {
      "text/plain": [
       "193402"
      ]
     },
     "execution_count": 17,
     "metadata": {},
     "output_type": "execute_result"
    }
   ],
   "source": [
    "len(introns)"
   ]
  },
  {
   "cell_type": "code",
   "execution_count": null,
   "id": "a9d0343b-fe49-48f8-b302-d931bb0f53ae",
   "metadata": {},
   "outputs": [],
   "source": []
  },
  {
   "cell_type": "code",
   "execution_count": 18,
   "id": "d2b6cc9d-02a0-441e-8ae0-ee1bbfb8756c",
   "metadata": {
    "tags": []
   },
   "outputs": [
    {
     "data": {
      "text/plain": [
       "0.7920393791170722"
      ]
     },
     "execution_count": 18,
     "metadata": {},
     "output_type": "execute_result"
    }
   ],
   "source": [
    "153182/193402"
   ]
  },
  {
   "cell_type": "code",
   "execution_count": 2,
   "id": "e98808e0-5873-4fb5-9350-5c86c65776c3",
   "metadata": {
    "tags": []
   },
   "outputs": [
    {
     "ename": "NameError",
     "evalue": "name 'df_intron' is not defined",
     "output_type": "error",
     "traceback": [
      "\u001b[0;31m---------------------------------------------------------------------------\u001b[0m",
      "\u001b[0;31mNameError\u001b[0m                                 Traceback (most recent call last)",
      "Cell \u001b[0;32mIn[2], line 1\u001b[0m\n\u001b[0;32m----> 1\u001b[0m \u001b[43mdf_intron\u001b[49m\n",
      "\u001b[0;31mNameError\u001b[0m: name 'df_intron' is not defined"
     ]
    }
   ],
   "source": [
    "df_intron"
   ]
  },
  {
   "cell_type": "code",
   "execution_count": 23,
   "id": "08e4c7bd-f4e7-469e-9505-64b9b541e6ce",
   "metadata": {},
   "outputs": [
    {
     "data": {
      "text/plain": [
       "AL627309.3_chr1:90051-90286      False\n",
       "AL627309.5_chr1:172689-173752    False\n",
       "AL627309.5_chr1:173863-181036    False\n",
       "LINC01409_chr1:779093-786392     False\n",
       "LINC01409_chr1:779093-803918     False\n",
       "                                 ...  \n",
       "EIF1AY_chrY:20579692-20582589     True\n",
       "EIF1AY_chrY:20582694-20584473     True\n",
       "EIF1AY_chrY:20584525-20588023     True\n",
       "EIF1AY_chrY:20588106-20589483     True\n",
       "EIF1AY_chrY:20589576-20592340     True\n",
       "Name: intron_coordinates, Length: 193402, dtype: bool"
      ]
     },
     "execution_count": 23,
     "metadata": {},
     "output_type": "execute_result"
    }
   ],
   "source": [
    "introns.intron_coordinates.isin(set(df_intron['ref_coordinates']))"
   ]
  },
  {
   "cell_type": "code",
   "execution_count": 24,
   "id": "4996ce50-5c7c-4ac7-8621-2e3b73fbaee3",
   "metadata": {
    "tags": []
   },
   "outputs": [],
   "source": [
    "introns['introverse_annotated'] = introns.intron_coordinates.isin(set(df_intron['ref_coordinates']))"
   ]
  },
  {
   "cell_type": "code",
   "execution_count": 25,
   "id": "87725369-0ef0-44ed-93d3-fd9f5dc08b38",
   "metadata": {
    "tags": []
   },
   "outputs": [
    {
     "data": {
      "text/plain": [
       "True     153182\n",
       "False     40220\n",
       "Name: introverse_annotated, dtype: int64"
      ]
     },
     "execution_count": 25,
     "metadata": {},
     "output_type": "execute_result"
    }
   ],
   "source": [
    "introns['introverse_annotated'].value_counts()"
   ]
  },
  {
   "cell_type": "code",
   "execution_count": 26,
   "id": "785132a9-0df0-4eaa-ada1-eb08f1fcaadf",
   "metadata": {
    "tags": []
   },
   "outputs": [],
   "source": [
    "introns['introverse_annotated'] = introns.intron_coordinates.isin(set(df_novel['novel_coordinates']))"
   ]
  },
  {
   "cell_type": "code",
   "execution_count": null,
   "id": "bec11159-50cf-40e1-abd9-99b117f27200",
   "metadata": {},
   "outputs": [],
   "source": []
  },
  {
   "cell_type": "code",
   "execution_count": null,
   "id": "f0455cd3-cc3a-4164-bb18-d5e43240ebb8",
   "metadata": {},
   "outputs": [],
   "source": []
  },
  {
   "cell_type": "code",
   "execution_count": 19,
   "id": "02024d13-ffd7-4721-93c9-9218394cb2cf",
   "metadata": {
    "tags": []
   },
   "outputs": [
    {
     "data": {
      "text/html": [
       "<div>\n",
       "<style scoped>\n",
       "    .dataframe tbody tr th:only-of-type {\n",
       "        vertical-align: middle;\n",
       "    }\n",
       "\n",
       "    .dataframe tbody tr th {\n",
       "        vertical-align: top;\n",
       "    }\n",
       "\n",
       "    .dataframe thead th {\n",
       "        text-align: right;\n",
       "    }\n",
       "</style>\n",
       "<table border=\"1\" class=\"dataframe\">\n",
       "  <thead>\n",
       "    <tr style=\"text-align: right;\">\n",
       "      <th></th>\n",
       "      <th>novel_junID</th>\n",
       "      <th>ref_junID</th>\n",
       "      <th>novel_coordinates</th>\n",
       "      <th>novel_ss5score</th>\n",
       "      <th>novel_ss3score</th>\n",
       "      <th>novel_type</th>\n",
       "      <th>distance</th>\n",
       "    </tr>\n",
       "  </thead>\n",
       "  <tbody>\n",
       "    <tr>\n",
       "      <th>0</th>\n",
       "      <td>1</td>\n",
       "      <td>38522</td>\n",
       "      <td>chr1:10007090-10007569:+</td>\n",
       "      <td>9.80</td>\n",
       "      <td>8.37</td>\n",
       "      <td>novel_donor</td>\n",
       "      <td>-9758</td>\n",
       "    </tr>\n",
       "    <tr>\n",
       "      <th>1</th>\n",
       "      <td>2</td>\n",
       "      <td>38523</td>\n",
       "      <td>chr1:10011634-10015781:+</td>\n",
       "      <td>6.95</td>\n",
       "      <td>10.46</td>\n",
       "      <td>novel_donor</td>\n",
       "      <td>-3359</td>\n",
       "    </tr>\n",
       "    <tr>\n",
       "      <th>2</th>\n",
       "      <td>3</td>\n",
       "      <td>38524</td>\n",
       "      <td>chr1:100729295-100731197:+</td>\n",
       "      <td>7.21</td>\n",
       "      <td>6.96</td>\n",
       "      <td>novel_donor</td>\n",
       "      <td>88</td>\n",
       "    </tr>\n",
       "    <tr>\n",
       "      <th>3</th>\n",
       "      <td>4</td>\n",
       "      <td>38525</td>\n",
       "      <td>chr1:100906670-100906851:+</td>\n",
       "      <td>8.65</td>\n",
       "      <td>9.97</td>\n",
       "      <td>novel_donor</td>\n",
       "      <td>-9998</td>\n",
       "    </tr>\n",
       "    <tr>\n",
       "      <th>4</th>\n",
       "      <td>5</td>\n",
       "      <td>38526</td>\n",
       "      <td>chr1:100910413-100911062:+</td>\n",
       "      <td>7.51</td>\n",
       "      <td>12.07</td>\n",
       "      <td>novel_donor</td>\n",
       "      <td>-3447</td>\n",
       "    </tr>\n",
       "    <tr>\n",
       "      <th>...</th>\n",
       "      <td>...</td>\n",
       "      <td>...</td>\n",
       "      <td>...</td>\n",
       "      <td>...</td>\n",
       "      <td>...</td>\n",
       "      <td>...</td>\n",
       "      <td>...</td>\n",
       "    </tr>\n",
       "    <tr>\n",
       "      <th>4679469</th>\n",
       "      <td>4679470</td>\n",
       "      <td>93990</td>\n",
       "      <td>chr8:141366323-141367200:-</td>\n",
       "      <td>11.37</td>\n",
       "      <td>11.12</td>\n",
       "      <td>novel_acceptor</td>\n",
       "      <td>-8375</td>\n",
       "    </tr>\n",
       "    <tr>\n",
       "      <th>4679470</th>\n",
       "      <td>4679471</td>\n",
       "      <td>253963</td>\n",
       "      <td>chr9:104837308-104837427:-</td>\n",
       "      <td>9.85</td>\n",
       "      <td>4.39</td>\n",
       "      <td>novel_acceptor</td>\n",
       "      <td>-211</td>\n",
       "    </tr>\n",
       "    <tr>\n",
       "      <th>4679471</th>\n",
       "      <td>4679472</td>\n",
       "      <td>46003</td>\n",
       "      <td>chr9:133354875-133375921:-</td>\n",
       "      <td>9.13</td>\n",
       "      <td>4.14</td>\n",
       "      <td>novel_acceptor</td>\n",
       "      <td>12571</td>\n",
       "    </tr>\n",
       "    <tr>\n",
       "      <th>4679472</th>\n",
       "      <td>4679473</td>\n",
       "      <td>101859</td>\n",
       "      <td>chrX:16699088-16702736:-</td>\n",
       "      <td>9.65</td>\n",
       "      <td>-5.62</td>\n",
       "      <td>novel_acceptor</td>\n",
       "      <td>6</td>\n",
       "    </tr>\n",
       "    <tr>\n",
       "      <th>4679473</th>\n",
       "      <td>4679474</td>\n",
       "      <td>76256</td>\n",
       "      <td>chrX:23905861-23907693:-</td>\n",
       "      <td>8.68</td>\n",
       "      <td>6.73</td>\n",
       "      <td>novel_acceptor</td>\n",
       "      <td>-24908</td>\n",
       "    </tr>\n",
       "  </tbody>\n",
       "</table>\n",
       "<p>4679474 rows × 7 columns</p>\n",
       "</div>"
      ],
      "text/plain": [
       "         novel_junID  ref_junID           novel_coordinates  novel_ss5score  \\\n",
       "0                  1      38522    chr1:10007090-10007569:+            9.80   \n",
       "1                  2      38523    chr1:10011634-10015781:+            6.95   \n",
       "2                  3      38524  chr1:100729295-100731197:+            7.21   \n",
       "3                  4      38525  chr1:100906670-100906851:+            8.65   \n",
       "4                  5      38526  chr1:100910413-100911062:+            7.51   \n",
       "...              ...        ...                         ...             ...   \n",
       "4679469      4679470      93990  chr8:141366323-141367200:-           11.37   \n",
       "4679470      4679471     253963  chr9:104837308-104837427:-            9.85   \n",
       "4679471      4679472      46003  chr9:133354875-133375921:-            9.13   \n",
       "4679472      4679473     101859    chrX:16699088-16702736:-            9.65   \n",
       "4679473      4679474      76256    chrX:23905861-23907693:-            8.68   \n",
       "\n",
       "         novel_ss3score      novel_type  distance  \n",
       "0                  8.37     novel_donor     -9758  \n",
       "1                 10.46     novel_donor     -3359  \n",
       "2                  6.96     novel_donor        88  \n",
       "3                  9.97     novel_donor     -9998  \n",
       "4                 12.07     novel_donor     -3447  \n",
       "...                 ...             ...       ...  \n",
       "4679469           11.12  novel_acceptor     -8375  \n",
       "4679470            4.39  novel_acceptor      -211  \n",
       "4679471            4.14  novel_acceptor     12571  \n",
       "4679472           -5.62  novel_acceptor         6  \n",
       "4679473            6.73  novel_acceptor    -24908  \n",
       "\n",
       "[4679474 rows x 7 columns]"
      ]
     },
     "execution_count": 19,
     "metadata": {},
     "output_type": "execute_result"
    }
   ],
   "source": [
    "for index, row in introns.itterows:\n",
    "    if row['intron_coordinates'].isin(set(df_novel['novel_coordinates']):\n",
    "        novel_type = df_novel[df_novel['novel_coordinates'] == row['intron_coordinates']]['novel_type']"
   ]
  },
  {
   "cell_type": "code",
   "execution_count": 22,
   "id": "02894a4d-d37b-41b4-8eb2-2a86e694db32",
   "metadata": {
    "tags": []
   },
   "outputs": [],
   "source": [
    "unannot = introns[introns['introverse_annotated'] == False]"
   ]
  },
  {
   "cell_type": "code",
   "execution_count": null,
   "id": "1888fd7b-e249-4b0d-924f-47f552019d8f",
   "metadata": {
    "tags": []
   },
   "outputs": [],
   "source": [
    "annot = []\n",
    "\n",
    "for index, row in unannot.iterrows():\n",
    "    if row['intron_coordinates'] in set(df_novel['novel_coordinates']):\n",
    "                                      novel_type = df_novel[df_novel['novel_coordinates'] == row['intron_coordinates']]['novel_type']\n",
    "                                      annot.append(novel_type)\n",
    "    else:\n",
    "                                      annot.append('unannotated')"
   ]
  },
  {
   "cell_type": "code",
   "execution_count": null,
   "id": "bc0efe38-5a5d-4346-a90c-017eef262a43",
   "metadata": {
    "tags": []
   },
   "outputs": [],
   "source": [
    "annot"
   ]
  },
  {
   "cell_type": "code",
   "execution_count": null,
   "id": "94fc6925-11cc-42de-b5f2-70a4fd4ce4b9",
   "metadata": {
    "tags": []
   },
   "outputs": [],
   "source": []
  },
  {
   "cell_type": "code",
   "execution_count": 34,
   "id": "b3877280-70c1-4d34-b1f4-a30a16b30fd6",
   "metadata": {
    "tags": []
   },
   "outputs": [],
   "source": [
    "introns.to_csv('introns.csv')"
   ]
  },
  {
   "cell_type": "code",
   "execution_count": 36,
   "id": "75b2d470-973b-4cc1-a24c-c6fa3f482300",
   "metadata": {
    "tags": []
   },
   "outputs": [
    {
     "data": {
      "text/plain": [
       "False    183368\n",
       "True      10034\n",
       "Name: intron_coordinates, dtype: int64"
      ]
     },
     "execution_count": 36,
     "metadata": {},
     "output_type": "execute_result"
    }
   ],
   "source": [
    "introns.intron_coordinates.isin(set(df_novel['novel_coordinates'])).value_counts()"
   ]
  },
  {
   "cell_type": "code",
   "execution_count": null,
   "id": "426a124b-13db-42a1-9ee1-30668db689d5",
   "metadata": {},
   "outputs": [],
   "source": []
  },
  {
   "cell_type": "code",
   "execution_count": 38,
   "id": "16878142-6c05-4114-b056-c909d61ba924",
   "metadata": {},
   "outputs": [
    {
     "data": {
      "text/html": [
       "<div>\n",
       "<style scoped>\n",
       "    .dataframe tbody tr th:only-of-type {\n",
       "        vertical-align: middle;\n",
       "    }\n",
       "\n",
       "    .dataframe tbody tr th {\n",
       "        vertical-align: top;\n",
       "    }\n",
       "\n",
       "    .dataframe thead th {\n",
       "        text-align: right;\n",
       "    }\n",
       "</style>\n",
       "<table border=\"1\" class=\"dataframe\">\n",
       "  <thead>\n",
       "    <tr style=\"text-align: right;\">\n",
       "      <th></th>\n",
       "      <th>ref_junID</th>\n",
       "      <th>ref_coordinates</th>\n",
       "      <th>ref_length</th>\n",
       "      <th>ref_ss5score</th>\n",
       "      <th>ref_ss3score</th>\n",
       "      <th>ref_cons5score</th>\n",
       "      <th>ref_cons3score</th>\n",
       "      <th>ref_CDTS5score</th>\n",
       "      <th>ref_CDTS3score</th>\n",
       "      <th>u2_intron</th>\n",
       "      <th>u12_intron</th>\n",
       "      <th>clinvar</th>\n",
       "      <th>MANE</th>\n",
       "      <th>TSL</th>\n",
       "      <th>lncRNA</th>\n",
       "      <th>protein_coding</th>\n",
       "      <th>misspliced</th>\n",
       "      <th>gene_id</th>\n",
       "    </tr>\n",
       "  </thead>\n",
       "  <tbody>\n",
       "    <tr>\n",
       "      <th>0</th>\n",
       "      <td>1</td>\n",
       "      <td>chr10:102362629-102363255:+</td>\n",
       "      <td>627</td>\n",
       "      <td>1.65</td>\n",
       "      <td>10.06</td>\n",
       "      <td>0.70868</td>\n",
       "      <td>0.48946</td>\n",
       "      <td>-6.050238</td>\n",
       "      <td>-7.908514</td>\n",
       "      <td>0</td>\n",
       "      <td>0</td>\n",
       "      <td>-</td>\n",
       "      <td>0</td>\n",
       "      <td>1</td>\n",
       "      <td>0.0</td>\n",
       "      <td>50.000000</td>\n",
       "      <td>0</td>\n",
       "      <td>3389</td>\n",
       "    </tr>\n",
       "    <tr>\n",
       "      <th>1</th>\n",
       "      <td>2</td>\n",
       "      <td>chr10:110596551-110598138:+</td>\n",
       "      <td>1588</td>\n",
       "      <td>-6.88</td>\n",
       "      <td>-6.07</td>\n",
       "      <td>0.48090</td>\n",
       "      <td>0.63430</td>\n",
       "      <td>-4.059466</td>\n",
       "      <td>-3.231614</td>\n",
       "      <td>0</td>\n",
       "      <td>1</td>\n",
       "      <td>-</td>\n",
       "      <td>1</td>\n",
       "      <td>1</td>\n",
       "      <td>0.0</td>\n",
       "      <td>100.000000</td>\n",
       "      <td>0</td>\n",
       "      <td>3414</td>\n",
       "    </tr>\n",
       "    <tr>\n",
       "      <th>2</th>\n",
       "      <td>3</td>\n",
       "      <td>chr10:119792037-119792156:+</td>\n",
       "      <td>120</td>\n",
       "      <td>7.87</td>\n",
       "      <td>10.20</td>\n",
       "      <td>0.27304</td>\n",
       "      <td>0.53412</td>\n",
       "      <td>-2.997100</td>\n",
       "      <td>-6.134342</td>\n",
       "      <td>1</td>\n",
       "      <td>0</td>\n",
       "      <td>-</td>\n",
       "      <td>1</td>\n",
       "      <td>10</td>\n",
       "      <td>0.0</td>\n",
       "      <td>46.153846</td>\n",
       "      <td>0</td>\n",
       "      <td>16372</td>\n",
       "    </tr>\n",
       "    <tr>\n",
       "      <th>3</th>\n",
       "      <td>4</td>\n",
       "      <td>chr10:125731926-125733403:+</td>\n",
       "      <td>1478</td>\n",
       "      <td>9.10</td>\n",
       "      <td>10.11</td>\n",
       "      <td>0.47946</td>\n",
       "      <td>0.57058</td>\n",
       "      <td>-8.175714</td>\n",
       "      <td>-1.288132</td>\n",
       "      <td>0</td>\n",
       "      <td>0</td>\n",
       "      <td>-</td>\n",
       "      <td>0</td>\n",
       "      <td>1</td>\n",
       "      <td>0.0</td>\n",
       "      <td>28.571429</td>\n",
       "      <td>0</td>\n",
       "      <td>3400</td>\n",
       "    </tr>\n",
       "    <tr>\n",
       "      <th>4</th>\n",
       "      <td>5</td>\n",
       "      <td>chr10:128047684-128047763:+</td>\n",
       "      <td>80</td>\n",
       "      <td>6.29</td>\n",
       "      <td>6.82</td>\n",
       "      <td>0.39326</td>\n",
       "      <td>0.26668</td>\n",
       "      <td>-9.239486</td>\n",
       "      <td>-9.483006</td>\n",
       "      <td>0</td>\n",
       "      <td>0</td>\n",
       "      <td>-</td>\n",
       "      <td>0</td>\n",
       "      <td>1</td>\n",
       "      <td>0.0</td>\n",
       "      <td>71.428571</td>\n",
       "      <td>0</td>\n",
       "      <td>6362</td>\n",
       "    </tr>\n",
       "    <tr>\n",
       "      <th>...</th>\n",
       "      <td>...</td>\n",
       "      <td>...</td>\n",
       "      <td>...</td>\n",
       "      <td>...</td>\n",
       "      <td>...</td>\n",
       "      <td>...</td>\n",
       "      <td>...</td>\n",
       "      <td>...</td>\n",
       "      <td>...</td>\n",
       "      <td>...</td>\n",
       "      <td>...</td>\n",
       "      <td>...</td>\n",
       "      <td>...</td>\n",
       "      <td>...</td>\n",
       "      <td>...</td>\n",
       "      <td>...</td>\n",
       "      <td>...</td>\n",
       "      <td>...</td>\n",
       "    </tr>\n",
       "    <tr>\n",
       "      <th>332566</th>\n",
       "      <td>332567</td>\n",
       "      <td>chr5:62398537-62398645:-</td>\n",
       "      <td>109</td>\n",
       "      <td>9.80</td>\n",
       "      <td>7.65</td>\n",
       "      <td>0.97202</td>\n",
       "      <td>0.33396</td>\n",
       "      <td>-6.910916</td>\n",
       "      <td>-7.865316</td>\n",
       "      <td>0</td>\n",
       "      <td>0</td>\n",
       "      <td>-</td>\n",
       "      <td>0</td>\n",
       "      <td>1</td>\n",
       "      <td>0.0</td>\n",
       "      <td>37.500000</td>\n",
       "      <td>1</td>\n",
       "      <td>1659</td>\n",
       "    </tr>\n",
       "    <tr>\n",
       "      <th>332567</th>\n",
       "      <td>332568</td>\n",
       "      <td>chr19:9621050-9621161:-</td>\n",
       "      <td>112</td>\n",
       "      <td>8.95</td>\n",
       "      <td>8.42</td>\n",
       "      <td>0.00182</td>\n",
       "      <td>0.01054</td>\n",
       "      <td>-0.480855</td>\n",
       "      <td>-0.231491</td>\n",
       "      <td>0</td>\n",
       "      <td>0</td>\n",
       "      <td>-</td>\n",
       "      <td>0</td>\n",
       "      <td>1</td>\n",
       "      <td>0.0</td>\n",
       "      <td>29.411765</td>\n",
       "      <td>1</td>\n",
       "      <td>12530</td>\n",
       "    </tr>\n",
       "    <tr>\n",
       "      <th>332568</th>\n",
       "      <td>332569</td>\n",
       "      <td>chr5:82178588-82242796:+</td>\n",
       "      <td>64209</td>\n",
       "      <td>5.59</td>\n",
       "      <td>4.84</td>\n",
       "      <td>0.12400</td>\n",
       "      <td>0.13348</td>\n",
       "      <td>2.693006</td>\n",
       "      <td>-4.120638</td>\n",
       "      <td>0</td>\n",
       "      <td>0</td>\n",
       "      <td>-</td>\n",
       "      <td>0</td>\n",
       "      <td>1</td>\n",
       "      <td>0.0</td>\n",
       "      <td>50.000000</td>\n",
       "      <td>1</td>\n",
       "      <td>9183</td>\n",
       "    </tr>\n",
       "    <tr>\n",
       "      <th>332569</th>\n",
       "      <td>332570</td>\n",
       "      <td>chr2:206605881-206617578:+</td>\n",
       "      <td>11698</td>\n",
       "      <td>6.31</td>\n",
       "      <td>1.80</td>\n",
       "      <td>0.71498</td>\n",
       "      <td>0.78548</td>\n",
       "      <td>-1.746988</td>\n",
       "      <td>-7.019962</td>\n",
       "      <td>0</td>\n",
       "      <td>0</td>\n",
       "      <td>-</td>\n",
       "      <td>0</td>\n",
       "      <td>1</td>\n",
       "      <td>0.0</td>\n",
       "      <td>100.000000</td>\n",
       "      <td>1</td>\n",
       "      <td>4251</td>\n",
       "    </tr>\n",
       "    <tr>\n",
       "      <th>332570</th>\n",
       "      <td>332571</td>\n",
       "      <td>chr12:47079066-47079141:-</td>\n",
       "      <td>76</td>\n",
       "      <td>9.26</td>\n",
       "      <td>6.18</td>\n",
       "      <td>0.40556</td>\n",
       "      <td>0.47838</td>\n",
       "      <td>-8.160252</td>\n",
       "      <td>-8.454262</td>\n",
       "      <td>0</td>\n",
       "      <td>0</td>\n",
       "      <td>-</td>\n",
       "      <td>1</td>\n",
       "      <td>1</td>\n",
       "      <td>0.0</td>\n",
       "      <td>100.000000</td>\n",
       "      <td>1</td>\n",
       "      <td>7539</td>\n",
       "    </tr>\n",
       "  </tbody>\n",
       "</table>\n",
       "<p>332571 rows × 18 columns</p>\n",
       "</div>"
      ],
      "text/plain": [
       "        ref_junID              ref_coordinates  ref_length  ref_ss5score  \\\n",
       "0               1  chr10:102362629-102363255:+         627          1.65   \n",
       "1               2  chr10:110596551-110598138:+        1588         -6.88   \n",
       "2               3  chr10:119792037-119792156:+         120          7.87   \n",
       "3               4  chr10:125731926-125733403:+        1478          9.10   \n",
       "4               5  chr10:128047684-128047763:+          80          6.29   \n",
       "...           ...                          ...         ...           ...   \n",
       "332566     332567     chr5:62398537-62398645:-         109          9.80   \n",
       "332567     332568      chr19:9621050-9621161:-         112          8.95   \n",
       "332568     332569     chr5:82178588-82242796:+       64209          5.59   \n",
       "332569     332570   chr2:206605881-206617578:+       11698          6.31   \n",
       "332570     332571    chr12:47079066-47079141:-          76          9.26   \n",
       "\n",
       "        ref_ss3score  ref_cons5score  ref_cons3score  ref_CDTS5score  \\\n",
       "0              10.06         0.70868         0.48946       -6.050238   \n",
       "1              -6.07         0.48090         0.63430       -4.059466   \n",
       "2              10.20         0.27304         0.53412       -2.997100   \n",
       "3              10.11         0.47946         0.57058       -8.175714   \n",
       "4               6.82         0.39326         0.26668       -9.239486   \n",
       "...              ...             ...             ...             ...   \n",
       "332566          7.65         0.97202         0.33396       -6.910916   \n",
       "332567          8.42         0.00182         0.01054       -0.480855   \n",
       "332568          4.84         0.12400         0.13348        2.693006   \n",
       "332569          1.80         0.71498         0.78548       -1.746988   \n",
       "332570          6.18         0.40556         0.47838       -8.160252   \n",
       "\n",
       "        ref_CDTS3score  u2_intron  u12_intron clinvar  MANE  TSL  lncRNA  \\\n",
       "0            -7.908514          0           0       -     0    1     0.0   \n",
       "1            -3.231614          0           1       -     1    1     0.0   \n",
       "2            -6.134342          1           0       -     1   10     0.0   \n",
       "3            -1.288132          0           0       -     0    1     0.0   \n",
       "4            -9.483006          0           0       -     0    1     0.0   \n",
       "...                ...        ...         ...     ...   ...  ...     ...   \n",
       "332566       -7.865316          0           0       -     0    1     0.0   \n",
       "332567       -0.231491          0           0       -     0    1     0.0   \n",
       "332568       -4.120638          0           0       -     0    1     0.0   \n",
       "332569       -7.019962          0           0       -     0    1     0.0   \n",
       "332570       -8.454262          0           0       -     1    1     0.0   \n",
       "\n",
       "        protein_coding  misspliced  gene_id  \n",
       "0            50.000000           0     3389  \n",
       "1           100.000000           0     3414  \n",
       "2            46.153846           0    16372  \n",
       "3            28.571429           0     3400  \n",
       "4            71.428571           0     6362  \n",
       "...                ...         ...      ...  \n",
       "332566       37.500000           1     1659  \n",
       "332567       29.411765           1    12530  \n",
       "332568       50.000000           1     9183  \n",
       "332569      100.000000           1     4251  \n",
       "332570      100.000000           1     7539  \n",
       "\n",
       "[332571 rows x 18 columns]"
      ]
     },
     "execution_count": 38,
     "metadata": {},
     "output_type": "execute_result"
    }
   ],
   "source": [
    "df_intron"
   ]
  },
  {
   "cell_type": "code",
   "execution_count": null,
   "id": "65c8abc8-4507-4213-b190-e2a6d7ef518c",
   "metadata": {},
   "outputs": [],
   "source": []
  },
  {
   "cell_type": "code",
   "execution_count": null,
   "id": "16dd6597-e3b8-4c76-ad54-abc19e064893",
   "metadata": {},
   "outputs": [],
   "source": []
  },
  {
   "cell_type": "code",
   "execution_count": null,
   "id": "4f76ee3b-ff03-4884-844a-cb337c94b340",
   "metadata": {},
   "outputs": [],
   "source": []
  },
  {
   "cell_type": "code",
   "execution_count": null,
   "id": "5c34f1ba-be3e-47c5-b53c-ca0d1da5f428",
   "metadata": {},
   "outputs": [],
   "source": []
  },
  {
   "cell_type": "code",
   "execution_count": null,
   "id": "8f36e958-f28e-4bb6-be20-8f980a243e89",
   "metadata": {},
   "outputs": [],
   "source": []
  },
  {
   "cell_type": "code",
   "execution_count": null,
   "id": "8fea811d-af76-4c1c-bb56-bda2d9e039ee",
   "metadata": {},
   "outputs": [],
   "source": []
  },
  {
   "cell_type": "code",
   "execution_count": null,
   "id": "0855b8da-179a-4151-bd3d-c3447eb6ce45",
   "metadata": {},
   "outputs": [],
   "source": []
  },
  {
   "cell_type": "code",
   "execution_count": null,
   "id": "70f5d4f2-a651-4784-91d4-2997139834a1",
   "metadata": {},
   "outputs": [],
   "source": []
  },
  {
   "cell_type": "code",
   "execution_count": null,
   "id": "f95a5317-3416-44b1-9876-9aa233404e9f",
   "metadata": {},
   "outputs": [],
   "source": []
  },
  {
   "cell_type": "code",
   "execution_count": null,
   "id": "330c2399-b51e-4eab-95b6-f4d07b10bb6f",
   "metadata": {},
   "outputs": [],
   "source": []
  },
  {
   "cell_type": "code",
   "execution_count": null,
   "id": "760a2310-f827-470f-a834-21be08b2563e",
   "metadata": {},
   "outputs": [],
   "source": []
  },
  {
   "cell_type": "code",
   "execution_count": null,
   "id": "a033577b-8d35-4b0e-ac9f-51c64650f7cf",
   "metadata": {},
   "outputs": [],
   "source": []
  },
  {
   "cell_type": "code",
   "execution_count": null,
   "id": "406d528a-4716-482b-b774-c95e5d8ae098",
   "metadata": {},
   "outputs": [],
   "source": []
  },
  {
   "cell_type": "code",
   "execution_count": null,
   "id": "3167497b-a23c-4883-843f-2158f8612c45",
   "metadata": {},
   "outputs": [],
   "source": []
  },
  {
   "cell_type": "code",
   "execution_count": null,
   "id": "25cdb8cd-09c7-4f06-8a97-f904b79019ce",
   "metadata": {},
   "outputs": [],
   "source": []
  },
  {
   "cell_type": "code",
   "execution_count": null,
   "id": "c3cce72a-4f10-4e2d-8403-748fbd9fced0",
   "metadata": {},
   "outputs": [],
   "source": []
  },
  {
   "cell_type": "code",
   "execution_count": null,
   "id": "ae3405ce-5842-4874-abeb-1e461f7c5ad4",
   "metadata": {},
   "outputs": [],
   "source": []
  },
  {
   "cell_type": "code",
   "execution_count": null,
   "id": "d6c973ce-2851-4e63-8e67-be1d97317a72",
   "metadata": {},
   "outputs": [],
   "source": []
  },
  {
   "cell_type": "code",
   "execution_count": null,
   "id": "0d765a21-9912-42fb-8a60-1cdfe25a26bb",
   "metadata": {},
   "outputs": [],
   "source": []
  },
  {
   "cell_type": "code",
   "execution_count": null,
   "id": "97f7cf24-8d3e-454e-bb75-fcec52cdc29a",
   "metadata": {},
   "outputs": [],
   "source": []
  },
  {
   "cell_type": "code",
   "execution_count": null,
   "id": "9aba2daa-fe46-4cf3-9823-d3048a92d61c",
   "metadata": {},
   "outputs": [],
   "source": []
  },
  {
   "cell_type": "code",
   "execution_count": null,
   "id": "2e1ac634-8c68-4ae3-878c-96d90ac62b95",
   "metadata": {},
   "outputs": [],
   "source": []
  },
  {
   "cell_type": "code",
   "execution_count": null,
   "id": "0c197124-38ae-4da9-b800-90741d3ada5b",
   "metadata": {},
   "outputs": [],
   "source": []
  },
  {
   "cell_type": "code",
   "execution_count": 18,
   "id": "9beeceb6-6e47-475d-a7d1-e64f96c014f0",
   "metadata": {
    "tags": []
   },
   "outputs": [],
   "source": [
    "ribo_SJ = pd.read_csv('/c4/home/derek/data1/derek/reference/greenberg_ribo_data/SJ.out.tab'\n",
    "                      ,sep='\\t',header=None)\n",
    "\n",
    "ribo_SJ.replace({3: {1:'+',2:'-'}}, inplace=True)\n",
    "\n",
    "SJ_ORFs = ribo_SJ[0]+':'+ribo_SJ[1].astype(str)+'-'+ribo_SJ[2].astype(str)+':'+ribo_SJ[3].astype(str)"
   ]
  },
  {
   "cell_type": "code",
   "execution_count": null,
   "id": "0077b306-9c19-4a52-9e75-bf6a44e6235a",
   "metadata": {},
   "outputs": [],
   "source": []
  },
  {
   "cell_type": "code",
   "execution_count": 19,
   "id": "60d8d5a5-ffa1-449c-9630-279d25f6bf8a",
   "metadata": {
    "tags": []
   },
   "outputs": [
    {
     "data": {
      "text/plain": [
       "False    9086\n",
       "True      948\n",
       "Name: intron_coordinates, dtype: int64"
      ]
     },
     "execution_count": 19,
     "metadata": {},
     "output_type": "execute_result"
    }
   ],
   "source": [
    "introns[introns['introverse_annotated'] == True].intron_coordinates.isin(SJ_ORFs).value_counts()"
   ]
  },
  {
   "cell_type": "code",
   "execution_count": 20,
   "id": "d118f094-7693-47e5-9175-67739e22f48b",
   "metadata": {
    "tags": []
   },
   "outputs": [
    {
     "data": {
      "text/plain": [
       "True     121631\n",
       "False     61737\n",
       "Name: intron_coordinates, dtype: int64"
      ]
     },
     "execution_count": 20,
     "metadata": {},
     "output_type": "execute_result"
    }
   ],
   "source": [
    "introns[introns['introverse_annotated'] == False].intron_coordinates.isin(SJ_ORFs).value_counts()"
   ]
  },
  {
   "cell_type": "code",
   "execution_count": null,
   "id": "a681cb98-3b83-447a-9f99-44a52ee9dd7a",
   "metadata": {},
   "outputs": [],
   "source": []
  },
  {
   "cell_type": "code",
   "execution_count": 21,
   "id": "0e978644-f580-4c1d-b01e-d03538f77484",
   "metadata": {
    "tags": []
   },
   "outputs": [
    {
     "data": {
      "text/plain": [
       "True     121631\n",
       "False     61737\n",
       "Name: intron_coordinates, dtype: int64"
      ]
     },
     "execution_count": 21,
     "metadata": {},
     "output_type": "execute_result"
    }
   ],
   "source": [
    "introns[introns['introverse_annotated'] == False].intron_coordinates.isin(SJ_ORFs).value_counts()"
   ]
  },
  {
   "cell_type": "code",
   "execution_count": 22,
   "id": "a605c6d1-09d6-4a3c-9854-9e5e90ecc62d",
   "metadata": {
    "tags": []
   },
   "outputs": [
    {
     "data": {
      "text/plain": [
       "False    9086\n",
       "True      948\n",
       "dtype: int64"
      ]
     },
     "execution_count": 22,
     "metadata": {},
     "output_type": "execute_result"
    }
   ],
   "source": [
    "pd.Series(list(set(df_novel['novel_coordinates']).intersection(introns['intron_coordinates']))).isin(SJ_ORFs).value_counts()"
   ]
  },
  {
   "cell_type": "code",
   "execution_count": null,
   "id": "f19637f4-d2ec-49e7-a054-56aa295adeee",
   "metadata": {
    "tags": []
   },
   "outputs": [],
   "source": []
  },
  {
   "cell_type": "code",
   "execution_count": null,
   "id": "010e1e48-d0db-4439-8ba5-0bcd63cf5d7f",
   "metadata": {},
   "outputs": [],
   "source": []
  },
  {
   "cell_type": "code",
   "execution_count": 24,
   "id": "c33690ca-592f-4eee-8304-22ab3e6323e6",
   "metadata": {},
   "outputs": [],
   "source": [
    "def group_introns(introns, by=\"three_prime\", filter_unique_gene_per_group=True):\n",
    "    if by == \"three_prime\":\n",
    "        introns[\"intron_group\"] = introns.apply(\n",
    "            lambda intron: intron.chromosome\n",
    "            + \"_\"\n",
    "            + (str(intron.end) if intron.strand == \"+\" else str(intron.start))\n",
    "            + \"_\"\n",
    "            + intron.strand,\n",
    "            axis=1,\n",
    "        )\n",
    "    elif by == \"five_prime\":\n",
    "        introns[\"intron_group\"] = introns.apply(\n",
    "            lambda intron: intron.chromosome\n",
    "            + \"_\"\n",
    "            + (str(intron.start) if intron.strand == \"+\" else str(intron.end))\n",
    "            + \"_\"\n",
    "            + intron.strand,\n",
    "            axis=1,\n",
    "        )\n",
    "\n",
    "    intron_group_sizes = (\n",
    "        introns.intron_group.value_counts()\n",
    "        .to_frame()\n",
    "        .rename(columns={\"intron_group\": \"intron_group_size\"})\n",
    "    )\n",
    "    introns = introns.merge(\n",
    "        intron_group_sizes, how=\"left\", left_on=\"intron_group\", right_index=True\n",
    "    ).set_index(introns.index)\n",
    "    print(\"Filtering singletons.\")\n",
    "    introns = introns[introns.intron_group_size > 1]\n",
    "\n",
    "\n",
    "    return introns"
   ]
  },
  {
   "cell_type": "code",
   "execution_count": 25,
   "id": "39947b64-aaf9-40d4-b9cb-104bec969a80",
   "metadata": {},
   "outputs": [
    {
     "name": "stdout",
     "output_type": "stream",
     "text": [
      "Filtering singletons.\n"
     ]
    }
   ],
   "source": [
    "introns_3 = group_introns(introns, by=\"three_prime\")\n",
    "introns_3[\"grouping\"] = \"three_prime\""
   ]
  },
  {
   "cell_type": "code",
   "execution_count": null,
   "id": "b5e856e4-2c64-4e4c-8e65-95ba5113a6f9",
   "metadata": {
    "tags": []
   },
   "outputs": [],
   "source": []
  },
  {
   "cell_type": "code",
   "execution_count": 26,
   "id": "f4c6905f-7064-4a15-a991-3da03b9a176f",
   "metadata": {
    "tags": []
   },
   "outputs": [
    {
     "name": "stdout",
     "output_type": "stream",
     "text": [
      "Filtering singletons.\n"
     ]
    }
   ],
   "source": [
    "introns_5 = group_introns(introns, by=\"five_prime\")\n",
    "introns_5[\"grouping\"] = \"five_prime\""
   ]
  },
  {
   "cell_type": "code",
   "execution_count": null,
   "id": "5ab43337-3e35-4a93-8aaa-fc14c9c44c94",
   "metadata": {},
   "outputs": [],
   "source": []
  },
  {
   "cell_type": "code",
   "execution_count": null,
   "id": "873d2ab2-a766-455b-a7d6-290bc39169ce",
   "metadata": {},
   "outputs": [],
   "source": []
  },
  {
   "cell_type": "code",
   "execution_count": null,
   "id": "4ce81099-2ba4-4e92-814c-6f57c3c0755f",
   "metadata": {},
   "outputs": [],
   "source": []
  },
  {
   "cell_type": "code",
   "execution_count": 30,
   "id": "c4b41115-1926-4203-8c1c-bed0b57148c3",
   "metadata": {},
   "outputs": [],
   "source": [
    "#get dataframe of all splice junctions\n",
    "\n",
    "all_junctions = pd.concat([introns_3.copy(), introns_5.copy()])\n",
    "\n",
    "all_junctions = all_junctions.sort_values(['chromosome','start'])"
   ]
  },
  {
   "cell_type": "code",
   "execution_count": 31,
   "id": "d39c0e1e-7b89-4edd-aa0a-cfd7ec8057a2",
   "metadata": {},
   "outputs": [],
   "source": [
    "#get dataframe of splice junctions shared between 3' and 5' intron clusterings\n",
    "\n",
    "shared_junctions = all_junctions[all_junctions.duplicated(subset=all_junctions.columns[:11],keep=False)]\n",
    "\n"
   ]
  },
  {
   "cell_type": "code",
   "execution_count": null,
   "id": "8fe3549c-037e-4eab-8eef-de0a06ecd464",
   "metadata": {
    "tags": []
   },
   "outputs": [],
   "source": []
  },
  {
   "cell_type": "code",
   "execution_count": 32,
   "id": "dd43baef-6f28-415c-8a3f-0fcdba9b9b67",
   "metadata": {},
   "outputs": [],
   "source": [
    "#get dataframe of splice junctions shared between 3' and 5' intron clusterings\n",
    "\n",
    "shared_clusters = shared_junctions.groupby(['chromosome', 'start', 'end'])['intron_group'].apply(lambda x: ','.join(x.astype(str))).reset_index()\n",
    "\n",
    "shared_clusters[['intron_group_1','intron_group_2']] = shared_clusters['intron_group'].str.split(',',expand=True)"
   ]
  },
  {
   "cell_type": "code",
   "execution_count": 33,
   "id": "12c812f0-3ad2-4b39-8d87-9d57b2d9276f",
   "metadata": {},
   "outputs": [],
   "source": [
    "#add strand info\n",
    "\n",
    "shared_clusters['strand'] = shared_clusters['intron_group'].str.split('_',expand=True)[4]"
   ]
  },
  {
   "cell_type": "code",
   "execution_count": null,
   "id": "d69b95e8-1621-4e44-b002-7612a1a97aae",
   "metadata": {
    "tags": []
   },
   "outputs": [],
   "source": []
  },
  {
   "cell_type": "code",
   "execution_count": 36,
   "id": "6208737e-13b6-4a89-8cb6-48869e022e07",
   "metadata": {
    "tags": []
   },
   "outputs": [
    {
     "data": {
      "text/html": [
       "<div>\n",
       "<style scoped>\n",
       "    .dataframe tbody tr th:only-of-type {\n",
       "        vertical-align: middle;\n",
       "    }\n",
       "\n",
       "    .dataframe tbody tr th {\n",
       "        vertical-align: top;\n",
       "    }\n",
       "\n",
       "    .dataframe thead th {\n",
       "        text-align: right;\n",
       "    }\n",
       "</style>\n",
       "<table border=\"1\" class=\"dataframe\">\n",
       "  <thead>\n",
       "    <tr style=\"text-align: right;\">\n",
       "      <th></th>\n",
       "      <th>chromosome</th>\n",
       "      <th>start</th>\n",
       "      <th>end</th>\n",
       "      <th>intron_group</th>\n",
       "      <th>intron_group_1</th>\n",
       "      <th>intron_group_2</th>\n",
       "      <th>strand</th>\n",
       "    </tr>\n",
       "  </thead>\n",
       "  <tbody>\n",
       "    <tr>\n",
       "      <th>0</th>\n",
       "      <td>chr1</td>\n",
       "      <td>829105</td>\n",
       "      <td>851926</td>\n",
       "      <td>chr1_851926_+,chr1_829105_+</td>\n",
       "      <td>chr1_851926_+</td>\n",
       "      <td>chr1_829105_+</td>\n",
       "      <td>+</td>\n",
       "    </tr>\n",
       "    <tr>\n",
       "      <th>1</th>\n",
       "      <td>chr1</td>\n",
       "      <td>847807</td>\n",
       "      <td>851926</td>\n",
       "      <td>chr1_851926_+,chr1_847807_+</td>\n",
       "      <td>chr1_851926_+</td>\n",
       "      <td>chr1_847807_+</td>\n",
       "      <td>+</td>\n",
       "    </tr>\n",
       "    <tr>\n",
       "      <th>2</th>\n",
       "      <td>chr1</td>\n",
       "      <td>852111</td>\n",
       "      <td>853390</td>\n",
       "      <td>chr1_853390_+,chr1_852111_+</td>\n",
       "      <td>chr1_853390_+</td>\n",
       "      <td>chr1_852111_+</td>\n",
       "      <td>+</td>\n",
       "    </tr>\n",
       "    <tr>\n",
       "      <th>3</th>\n",
       "      <td>chr1</td>\n",
       "      <td>960801</td>\n",
       "      <td>961628</td>\n",
       "      <td>chr1_961628_+,chr1_960801_+</td>\n",
       "      <td>chr1_961628_+</td>\n",
       "      <td>chr1_960801_+</td>\n",
       "      <td>+</td>\n",
       "    </tr>\n",
       "    <tr>\n",
       "      <th>4</th>\n",
       "      <td>chr1</td>\n",
       "      <td>999433</td>\n",
       "      <td>999691</td>\n",
       "      <td>chr1_999433_-,chr1_999691_-</td>\n",
       "      <td>chr1_999433_-</td>\n",
       "      <td>chr1_999691_-</td>\n",
       "      <td>-</td>\n",
       "    </tr>\n",
       "    <tr>\n",
       "      <th>...</th>\n",
       "      <td>...</td>\n",
       "      <td>...</td>\n",
       "      <td>...</td>\n",
       "      <td>...</td>\n",
       "      <td>...</td>\n",
       "      <td>...</td>\n",
       "      <td>...</td>\n",
       "    </tr>\n",
       "    <tr>\n",
       "      <th>30770</th>\n",
       "      <td>chrY</td>\n",
       "      <td>12662707</td>\n",
       "      <td>12686512</td>\n",
       "      <td>chrY_12686512_+,chrY_12662707_+</td>\n",
       "      <td>chrY_12686512_+</td>\n",
       "      <td>chrY_12662707_+</td>\n",
       "      <td>+</td>\n",
       "    </tr>\n",
       "    <tr>\n",
       "      <th>30771</th>\n",
       "      <td>chrY</td>\n",
       "      <td>12664687</td>\n",
       "      <td>12686512</td>\n",
       "      <td>chrY_12686512_+,chrY_12664687_+</td>\n",
       "      <td>chrY_12686512_+</td>\n",
       "      <td>chrY_12664687_+</td>\n",
       "      <td>+</td>\n",
       "    </tr>\n",
       "    <tr>\n",
       "      <th>30772</th>\n",
       "      <td>chrY</td>\n",
       "      <td>12664687</td>\n",
       "      <td>12702009</td>\n",
       "      <td>chrY_12702009_+,chrY_12664687_+</td>\n",
       "      <td>chrY_12702009_+</td>\n",
       "      <td>chrY_12664687_+</td>\n",
       "      <td>+</td>\n",
       "    </tr>\n",
       "    <tr>\n",
       "      <th>30773</th>\n",
       "      <td>chrY</td>\n",
       "      <td>12686607</td>\n",
       "      <td>12702009</td>\n",
       "      <td>chrY_12702009_+,chrY_12686607_+</td>\n",
       "      <td>chrY_12702009_+</td>\n",
       "      <td>chrY_12686607_+</td>\n",
       "      <td>+</td>\n",
       "    </tr>\n",
       "    <tr>\n",
       "      <th>30774</th>\n",
       "      <td>chrY</td>\n",
       "      <td>12702056</td>\n",
       "      <td>12709387</td>\n",
       "      <td>chrY_12709387_+,chrY_12702056_+</td>\n",
       "      <td>chrY_12709387_+</td>\n",
       "      <td>chrY_12702056_+</td>\n",
       "      <td>+</td>\n",
       "    </tr>\n",
       "  </tbody>\n",
       "</table>\n",
       "<p>30775 rows × 7 columns</p>\n",
       "</div>"
      ],
      "text/plain": [
       "      chromosome     start       end                     intron_group  \\\n",
       "0           chr1    829105    851926      chr1_851926_+,chr1_829105_+   \n",
       "1           chr1    847807    851926      chr1_851926_+,chr1_847807_+   \n",
       "2           chr1    852111    853390      chr1_853390_+,chr1_852111_+   \n",
       "3           chr1    960801    961628      chr1_961628_+,chr1_960801_+   \n",
       "4           chr1    999433    999691      chr1_999433_-,chr1_999691_-   \n",
       "...          ...       ...       ...                              ...   \n",
       "30770       chrY  12662707  12686512  chrY_12686512_+,chrY_12662707_+   \n",
       "30771       chrY  12664687  12686512  chrY_12686512_+,chrY_12664687_+   \n",
       "30772       chrY  12664687  12702009  chrY_12702009_+,chrY_12664687_+   \n",
       "30773       chrY  12686607  12702009  chrY_12702009_+,chrY_12686607_+   \n",
       "30774       chrY  12702056  12709387  chrY_12709387_+,chrY_12702056_+   \n",
       "\n",
       "        intron_group_1   intron_group_2 strand  \n",
       "0        chr1_851926_+    chr1_829105_+      +  \n",
       "1        chr1_851926_+    chr1_847807_+      +  \n",
       "2        chr1_853390_+    chr1_852111_+      +  \n",
       "3        chr1_961628_+    chr1_960801_+      +  \n",
       "4        chr1_999433_-    chr1_999691_-      -  \n",
       "...                ...              ...    ...  \n",
       "30770  chrY_12686512_+  chrY_12662707_+      +  \n",
       "30771  chrY_12686512_+  chrY_12664687_+      +  \n",
       "30772  chrY_12702009_+  chrY_12664687_+      +  \n",
       "30773  chrY_12702009_+  chrY_12686607_+      +  \n",
       "30774  chrY_12709387_+  chrY_12702056_+      +  \n",
       "\n",
       "[30775 rows x 7 columns]"
      ]
     },
     "execution_count": 36,
     "metadata": {},
     "output_type": "execute_result"
    }
   ],
   "source": [
    "shared_clusters"
   ]
  },
  {
   "cell_type": "code",
   "execution_count": 35,
   "id": "735bd3ff-0b69-4597-bae3-090f65ee5a1e",
   "metadata": {
    "tags": []
   },
   "outputs": [],
   "source": [
    "exons_total = pd.DataFrame()"
   ]
  },
  {
   "cell_type": "code",
   "execution_count": 38,
   "id": "f86c4248-c9e1-4a1b-8034-3d5d1f296e27",
   "metadata": {},
   "outputs": [
    {
     "name": "stdout",
     "output_type": "stream",
     "text": [
      "CPU times: user 18min 53s, sys: 1.24 s, total: 18min 55s\n",
      "Wall time: 18min 55s\n"
     ]
    }
   ],
   "source": [
    "%%time\n",
    "\n",
    "import itertools\n",
    "\n",
    "introns = all_junctions\n",
    "\n",
    "exons_cas = pd.DataFrame(columns=['start','end'])\n",
    "\n",
    "for index, row in shared_clusters.iterrows():   # for each shared intron cluster ...\n",
    "    \n",
    "    \n",
    "    cluster_3prime = row['intron_group_1']\n",
    "    cluster_5prime = row['intron_group_2']\n",
    "    \n",
    "\n",
    "    introns_3prime = introns[(introns['intron_group'] == cluster_3prime) & (introns['grouping'] == 'three_prime')]\n",
    "    introns_5prime = introns[(introns['intron_group'] == cluster_5prime) & (introns['grouping'] == 'five_prime')]\n",
    "    \n",
    "\n",
    "    \n",
    "    if row['strand'] == '+':\n",
    "        exon_coordinate_start = introns_5prime['end']\n",
    "        \n",
    "        exon_coordinate_end = introns_3prime['start']\n",
    "\n",
    "        \n",
    "        cluster_start = row['start']\n",
    "\n",
    "        cluster_end = row['end']        \n",
    "        \n",
    "        # print(str(cluster_start)+ '_' + str(cluster_end))\n",
    "        # print(exon_coordinate_start[exon_coordinate_start.between(cluster_start, cluster_end, inclusive='neither')])\n",
    "        # print(exon_coordinate_end[exon_coordinate_end.between(cluster_start, cluster_end, inclusive='neither')])\n",
    "        # print()\n",
    "        \n",
    "        exon_coordinate_start = exon_coordinate_start[exon_coordinate_start.between(cluster_start, cluster_end, inclusive='neither')]\n",
    "        exon_coordinate_end = exon_coordinate_end[exon_coordinate_end.between(cluster_start, cluster_end, inclusive='neither')]\n",
    "        \n",
    "        associated_intron_start = introns_5prime[introns_5prime['end'].isin(exon_coordinate_start)].index\n",
    "        associated_intron_end = introns_3prime[introns_3prime['start'].isin(exon_coordinate_end)].index\n",
    "                \n",
    "    \n",
    "    else:\n",
    "        exon_coordinate_start = introns_3prime['end']\n",
    "        \n",
    "        exon_coordinate_end = introns_5prime['start']\n",
    "        \n",
    "        cluster_start = row['start']\n",
    "\n",
    "        cluster_end = row['end']\n",
    "   \n",
    "        \n",
    "        exon_coordinate_start = exon_coordinate_start[exon_coordinate_start.between(cluster_start, cluster_end, inclusive='neither')]\n",
    "        exon_coordinate_end = exon_coordinate_end[exon_coordinate_end.between(cluster_start, cluster_end, inclusive='neither')]\n",
    "        \n",
    "        associated_intron_start = introns_3prime[introns_3prime['end'].isin(exon_coordinate_start)].index\n",
    "        associated_intron_end = introns_5prime[introns_5prime['start'].isin(exon_coordinate_end)].index\n",
    "\n",
    "\n",
    "    \n",
    "    #change junctions coordinates from STAR, intronic bases to exonic bases: start + 1, end - 1\n",
    "    \n",
    "    exon_coordinate_start = exon_coordinate_start+1\n",
    "    exon_coordinate_end = exon_coordinate_end-1\n",
    "    \n",
    "\n",
    "        \n",
    "    \n",
    "    df = pd.DataFrame(list(itertools.product(exon_coordinate_start,exon_coordinate_end)),columns=['start','end'])\n",
    "\n",
    "    df['chromosome'] = row['chromosome']\n",
    "    df['intron_start'] = df['start'].map(dict(zip(exon_coordinate_start,associated_intron_start)))\n",
    "    df['intron_end'] = df['end'].map(dict(zip(exon_coordinate_end,associated_intron_end)))\n",
    "#    df['intron_group'] = row['intron']\n",
    "    \n",
    "    exons = pd.concat([exons,df])\n",
    "\n",
    "    exons_cas['length'] = exons_cas['end'] - (exons['start'] -1 )    \n",
    "    exons_cas = exons_cas[exons_cas['length'] > 0 ]\n",
    "    exons_cas = exons_cas.reset_index(drop = True)\n",
    "\n",
    "    exons_cas['class'] = 'cassette'"
   ]
  },
  {
   "cell_type": "code",
   "execution_count": 39,
   "id": "e32589d8-5b7b-40bf-8db9-7bb3ec310f0a",
   "metadata": {},
   "outputs": [
    {
     "data": {
      "text/html": [
       "<div>\n",
       "<style scoped>\n",
       "    .dataframe tbody tr th:only-of-type {\n",
       "        vertical-align: middle;\n",
       "    }\n",
       "\n",
       "    .dataframe tbody tr th {\n",
       "        vertical-align: top;\n",
       "    }\n",
       "\n",
       "    .dataframe thead th {\n",
       "        text-align: right;\n",
       "    }\n",
       "</style>\n",
       "<table border=\"1\" class=\"dataframe\">\n",
       "  <thead>\n",
       "    <tr style=\"text-align: right;\">\n",
       "      <th></th>\n",
       "      <th>start</th>\n",
       "      <th>end</th>\n",
       "      <th>chromosome</th>\n",
       "      <th>intron_start</th>\n",
       "      <th>intron_end</th>\n",
       "    </tr>\n",
       "  </thead>\n",
       "  <tbody>\n",
       "    <tr>\n",
       "      <th>0</th>\n",
       "      <td>841200</td>\n",
       "      <td>847806</td>\n",
       "      <td>chr1</td>\n",
       "      <td>LINC01128_chr1:829105-841199</td>\n",
       "      <td>LINC01128_chr1:847807-851926</td>\n",
       "    </tr>\n",
       "    <tr>\n",
       "      <th>1</th>\n",
       "      <td>841200</td>\n",
       "      <td>849602</td>\n",
       "      <td>chr1</td>\n",
       "      <td>LINC01128_chr1:829105-841199</td>\n",
       "      <td>LINC01128_chr1:849603-851926</td>\n",
       "    </tr>\n",
       "    <tr>\n",
       "      <th>2</th>\n",
       "      <td>841200</td>\n",
       "      <td>850351</td>\n",
       "      <td>chr1</td>\n",
       "      <td>LINC01128_chr1:829105-841199</td>\n",
       "      <td>LINC01128_chr1:850352-851926</td>\n",
       "    </tr>\n",
       "    <tr>\n",
       "      <th>3</th>\n",
       "      <td>847654</td>\n",
       "      <td>847806</td>\n",
       "      <td>chr1</td>\n",
       "      <td>LINC01128_chr1:829105-847653</td>\n",
       "      <td>LINC01128_chr1:847807-851926</td>\n",
       "    </tr>\n",
       "    <tr>\n",
       "      <th>4</th>\n",
       "      <td>847654</td>\n",
       "      <td>849602</td>\n",
       "      <td>chr1</td>\n",
       "      <td>LINC01128_chr1:829105-847653</td>\n",
       "      <td>LINC01128_chr1:849603-851926</td>\n",
       "    </tr>\n",
       "    <tr>\n",
       "      <th>...</th>\n",
       "      <td>...</td>\n",
       "      <td>...</td>\n",
       "      <td>...</td>\n",
       "      <td>...</td>\n",
       "      <td>...</td>\n",
       "    </tr>\n",
       "    <tr>\n",
       "      <th>7</th>\n",
       "      <td>12699417</td>\n",
       "      <td>12699640</td>\n",
       "      <td>chrY</td>\n",
       "      <td>USP9Y_chrY:12686607-12699416</td>\n",
       "      <td>USP9Y_chrY:12699641-12702009</td>\n",
       "    </tr>\n",
       "    <tr>\n",
       "      <th>0</th>\n",
       "      <td>12707760</td>\n",
       "      <td>12707881</td>\n",
       "      <td>chrY</td>\n",
       "      <td>USP9Y_chrY:12702056-12707759</td>\n",
       "      <td>USP9Y_chrY:12707882-12709387</td>\n",
       "    </tr>\n",
       "    <tr>\n",
       "      <th>1</th>\n",
       "      <td>12707760</td>\n",
       "      <td>12708693</td>\n",
       "      <td>chrY</td>\n",
       "      <td>USP9Y_chrY:12702056-12707759</td>\n",
       "      <td>USP9Y_chrY:12708694-12709387</td>\n",
       "    </tr>\n",
       "    <tr>\n",
       "      <th>2</th>\n",
       "      <td>12708634</td>\n",
       "      <td>12707881</td>\n",
       "      <td>chrY</td>\n",
       "      <td>USP9Y_chrY:12702056-12708633</td>\n",
       "      <td>USP9Y_chrY:12707882-12709387</td>\n",
       "    </tr>\n",
       "    <tr>\n",
       "      <th>3</th>\n",
       "      <td>12708634</td>\n",
       "      <td>12708693</td>\n",
       "      <td>chrY</td>\n",
       "      <td>USP9Y_chrY:12702056-12708633</td>\n",
       "      <td>USP9Y_chrY:12708694-12709387</td>\n",
       "    </tr>\n",
       "  </tbody>\n",
       "</table>\n",
       "<p>61837 rows × 5 columns</p>\n",
       "</div>"
      ],
      "text/plain": [
       "       start       end chromosome                  intron_start  \\\n",
       "0     841200    847806       chr1  LINC01128_chr1:829105-841199   \n",
       "1     841200    849602       chr1  LINC01128_chr1:829105-841199   \n",
       "2     841200    850351       chr1  LINC01128_chr1:829105-841199   \n",
       "3     847654    847806       chr1  LINC01128_chr1:829105-847653   \n",
       "4     847654    849602       chr1  LINC01128_chr1:829105-847653   \n",
       "..       ...       ...        ...                           ...   \n",
       "7   12699417  12699640       chrY  USP9Y_chrY:12686607-12699416   \n",
       "0   12707760  12707881       chrY  USP9Y_chrY:12702056-12707759   \n",
       "1   12707760  12708693       chrY  USP9Y_chrY:12702056-12707759   \n",
       "2   12708634  12707881       chrY  USP9Y_chrY:12702056-12708633   \n",
       "3   12708634  12708693       chrY  USP9Y_chrY:12702056-12708633   \n",
       "\n",
       "                      intron_end  \n",
       "0   LINC01128_chr1:847807-851926  \n",
       "1   LINC01128_chr1:849603-851926  \n",
       "2   LINC01128_chr1:850352-851926  \n",
       "3   LINC01128_chr1:847807-851926  \n",
       "4   LINC01128_chr1:849603-851926  \n",
       "..                           ...  \n",
       "7   USP9Y_chrY:12699641-12702009  \n",
       "0   USP9Y_chrY:12707882-12709387  \n",
       "1   USP9Y_chrY:12708694-12709387  \n",
       "2   USP9Y_chrY:12707882-12709387  \n",
       "3   USP9Y_chrY:12708694-12709387  \n",
       "\n",
       "[61837 rows x 5 columns]"
      ]
     },
     "execution_count": 39,
     "metadata": {},
     "output_type": "execute_result"
    }
   ],
   "source": [
    "exons"
   ]
  },
  {
   "cell_type": "code",
   "execution_count": null,
   "id": "c03667ce-0bee-443d-be69-f85f68b34744",
   "metadata": {},
   "outputs": [],
   "source": []
  },
  {
   "cell_type": "code",
   "execution_count": null,
   "id": "8b7e0dc5-5b5b-4c98-ae1d-ed03e3d740c4",
   "metadata": {},
   "outputs": [],
   "source": [
    "exons_cas['annotated'] = (exons_cas['chromosome']+':'\n",
    "                      +exons_cas['start'].astype(str)+'-'\n",
    "                      +exons_cas['end'].astype(str)).isin(gtf['chromosome']+':'\n",
    "                      +gtf['start'].astype(str)+'-'+gtf['end'].astype(str)) "
   ]
  },
  {
   "cell_type": "code",
   "execution_count": null,
   "id": "6afd09dc-c517-41a7-ad78-c24762e2c718",
   "metadata": {},
   "outputs": [],
   "source": []
  },
  {
   "cell_type": "code",
   "execution_count": null,
   "id": "545f91fd-fb11-455c-be7e-59c813f69338",
   "metadata": {},
   "outputs": [],
   "source": [
    "%%time\n",
    "##annotate threeprime \n",
    "\n",
    "\n",
    "introns_3prime = adata_spl_3p.var[~adata_spl_3p.var.intron_group.isin(shared_junctions[shared_junctions.grouping == 'three_prime'].intron_group)]\n",
    "\n",
    "exons_3prime = pd.DataFrame(columns=['start','end','chromosome'])\n",
    "\n",
    "for group in introns_3prime.intron_group.unique():\n",
    "    \n",
    "    chromosome = group.split('_')[1]\n",
    "    strand = group.split('_')[3]\n",
    "    \n",
    "    introns = introns_3prime[introns_3prime.intron_group == group]\n",
    "    \n",
    "    if strand == '-': \n",
    "        terminal_coordinate = np.max(introns['end'])\n",
    "    \n",
    "        df = pd.DataFrame([[coord,terminal_coordinate] for coord in introns['end']],columns=['start','end'])\n",
    "        \n",
    "        \n",
    "        df['chromosome'] = chromosome\n",
    "    #    df['intron_group'] = group\n",
    "        \n",
    "        df['intron_start'] = np.NaN\n",
    "        df['intron_end'] = introns[introns['end'].isin(df['start'])].index \n",
    "        \n",
    "        df['start'] = df['start'] +1\n",
    "        df['end'] = df['end'] -1\n",
    "    \n",
    "    else:\n",
    "        terminal_coordinate = np.min(introns['start'])\n",
    "    \n",
    "        df = pd.DataFrame([[terminal_coordinate, coord] for coord in introns['start']],columns=['start','end'])\n",
    "        \n",
    "        \n",
    "        \n",
    "        df['chromosome'] = chromosome\n",
    "   #     df['intron_group'] = group\n",
    "        \n",
    "        df['intron_start'] = np.NaN\n",
    "        df['intron_end'] = introns[introns['start'].isin(df['end'])].index \n",
    "        \n",
    "        df['start'] = df['start'] +1\n",
    "        df['end'] = df['end'] -1\n",
    "    \n",
    "    \n",
    "    exons_3prime = pd.concat([exons_3prime,df])\n",
    "    \n",
    "    \n",
    "    \n",
    "exons_3prime['length'] = exons_3prime['end'] - (exons_3prime['start']-1)\n",
    "exons_3prime = exons_3prime[exons_3prime['length'] > 0]\n",
    "exons_3prime['class'] = 'alt_3'\n",
    "\n",
    "exons_3prime = exons_3prime.reset_index(drop=True)"
   ]
  },
  {
   "cell_type": "code",
   "execution_count": null,
   "id": "ed3bc583-3bf0-416b-80a5-c1e4defbdab5",
   "metadata": {},
   "outputs": [],
   "source": []
  },
  {
   "cell_type": "code",
   "execution_count": null,
   "id": "a11487a5-6635-436b-ac04-5ac3a8bf6428",
   "metadata": {},
   "outputs": [],
   "source": [
    "exons_3prime['annotated'] = (exons_3prime['chromosome']+':'\n",
    "                      +exons_3prime['start'].astype(str)+'-'\n",
    "                      +exons_3prime['end'].astype(str)).isin(gtf['chromosome']+':'\n",
    "                      +gtf['start'].astype(str)+'-'+gtf['end'].astype(str)) "
   ]
  },
  {
   "cell_type": "code",
   "execution_count": null,
   "id": "2ce1c094-aa9e-4ee0-b84b-6dd2a3a54b2c",
   "metadata": {},
   "outputs": [],
   "source": [
    "exons_3prime.annotated.value_counts()"
   ]
  },
  {
   "cell_type": "code",
   "execution_count": null,
   "id": "3b27bef7-912d-4dba-840a-9e6874c3404f",
   "metadata": {},
   "outputs": [],
   "source": []
  },
  {
   "cell_type": "code",
   "execution_count": null,
   "id": "30cc4630-f752-487f-8f2c-37fb95edd1c1",
   "metadata": {},
   "outputs": [],
   "source": []
  },
  {
   "cell_type": "code",
   "execution_count": null,
   "id": "d61a5ba4-6436-4780-87fa-4d91f9d67f0b",
   "metadata": {},
   "outputs": [],
   "source": []
  },
  {
   "cell_type": "code",
   "execution_count": null,
   "id": "57487c6e-d673-4ffe-9f70-ca53fc338979",
   "metadata": {},
   "outputs": [],
   "source": [
    "%%time\n",
    "##annotate fiveprime \n",
    "\n",
    "introns_5prime = adata_spl_5p.var[~adata_spl_5p.var.intron_group.isin(shared_junctions[shared_junctions.grouping == 'five_prime'].intron_group)]\n",
    "\n",
    "\n",
    "exons_5prime = pd.DataFrame(columns=['start','end','chromosome'])\n",
    "\n",
    "for group in introns_5prime.intron_group.unique():\n",
    "    \n",
    "    chromosome = group.split('_')[1]\n",
    "    strand = group.split('_')[3]\n",
    "    \n",
    "    introns = introns_5prime[introns_5prime.intron_group == group]\n",
    "    \n",
    "    if strand == '+':\n",
    "        terminal_coordinate = np.max(introns['end'])\n",
    "    \n",
    "        df = pd.DataFrame([[coord,terminal_coordinate] for coord in introns['end']],columns=['start','end'])\n",
    "        \n",
    "        df['chromosome'] = chromosome\n",
    "     #   df['intron_group'] = group\n",
    "        \n",
    "        df['intron_start'] = introns[introns['end'].isin(df['start'])].index\n",
    "        df['intron_end'] = np.NaN\n",
    "        \n",
    "        df['start'] = df['start'] +1\n",
    "        df['end'] = df['end'] -1\n",
    "        \n",
    "        \n",
    "    else:\n",
    "        terminal_coordinate = np.min(introns['start'])\n",
    "\n",
    "        df = pd.DataFrame([[terminal_coordinate, coord] for coord in introns['start']],columns=['start','end'])\n",
    "        \n",
    "        \n",
    "        df['chromosome'] = chromosome\n",
    "      #  df['intron_group'] = group\n",
    "        \n",
    "        df['intron_start'] = introns[introns['start'].isin(df['end'])].index\n",
    "        df['intron_end'] = np.NaN\n",
    "        \n",
    "        df['start'] = df['start'] +1\n",
    "        df['end'] = df['end'] -1\n",
    "        \n",
    "        \n",
    "    exons_5prime = pd.concat([exons_5prime,df])\n",
    "    \n",
    "    \n",
    "    \n",
    "exons_5prime['length'] = exons_5prime['end'] - (exons_5prime['start']-1)\n",
    "exons_5prime = exons_5prime[exons_5prime['length'] >  0]\n",
    "exons_5prime['class'] = 'alt_5'\n",
    "\n",
    "exons_5prime = exons_5prime.reset_index(drop=True)"
   ]
  },
  {
   "cell_type": "code",
   "execution_count": null,
   "id": "412b271d-7da7-4e6f-af59-45131b041081",
   "metadata": {},
   "outputs": [],
   "source": []
  },
  {
   "cell_type": "code",
   "execution_count": null,
   "id": "e6d8453c-1eec-4505-a95b-49e7b8d992cf",
   "metadata": {},
   "outputs": [],
   "source": []
  },
  {
   "cell_type": "code",
   "execution_count": null,
   "id": "9252d108-e721-40a4-b646-b8ca322cd29d",
   "metadata": {},
   "outputs": [],
   "source": []
  },
  {
   "cell_type": "code",
   "execution_count": null,
   "id": "ca6c06c4-0f0c-450d-b7bb-56dbd82a962b",
   "metadata": {},
   "outputs": [],
   "source": []
  },
  {
   "cell_type": "code",
   "execution_count": null,
   "id": "7094261a-7ddf-4b8b-b242-a988d44af07b",
   "metadata": {},
   "outputs": [],
   "source": []
  },
  {
   "cell_type": "code",
   "execution_count": null,
   "id": "16319457-5ec7-4112-a7b1-1d90af4c65c2",
   "metadata": {},
   "outputs": [],
   "source": []
  },
  {
   "cell_type": "code",
   "execution_count": null,
   "id": "770a8424-5eba-4251-8d9b-113047f7b951",
   "metadata": {},
   "outputs": [],
   "source": []
  },
  {
   "cell_type": "code",
   "execution_count": null,
   "id": "f8b807cd-105b-4a5a-8da6-b5667e229353",
   "metadata": {},
   "outputs": [],
   "source": []
  },
  {
   "cell_type": "code",
   "execution_count": null,
   "id": "589179bb-cdde-4b1f-88cb-3a28f54705dd",
   "metadata": {},
   "outputs": [],
   "source": []
  },
  {
   "cell_type": "code",
   "execution_count": null,
   "id": "f8b4188e-d391-44fb-ad28-1b6c30f14dd4",
   "metadata": {},
   "outputs": [],
   "source": []
  },
  {
   "cell_type": "code",
   "execution_count": null,
   "id": "83625bac-a15d-4340-b7c5-83a6b82257df",
   "metadata": {},
   "outputs": [],
   "source": []
  },
  {
   "cell_type": "code",
   "execution_count": null,
   "id": "9130f483-ad83-45da-bac6-5479a55c7a2e",
   "metadata": {},
   "outputs": [],
   "source": []
  },
  {
   "cell_type": "code",
   "execution_count": null,
   "id": "be94628b-1309-4ff7-81d4-8fbfbf0095f7",
   "metadata": {},
   "outputs": [],
   "source": []
  },
  {
   "cell_type": "code",
   "execution_count": null,
   "id": "53f57b20-41f5-44da-9747-35c698cdedaf",
   "metadata": {},
   "outputs": [],
   "source": []
  },
  {
   "cell_type": "code",
   "execution_count": null,
   "id": "992600cb-c7c4-4154-9daa-9bee3444deac",
   "metadata": {},
   "outputs": [],
   "source": []
  },
  {
   "cell_type": "code",
   "execution_count": null,
   "id": "67043f03-7b40-4ad5-9ddc-5837508a183a",
   "metadata": {},
   "outputs": [],
   "source": []
  },
  {
   "cell_type": "code",
   "execution_count": null,
   "id": "2f089837-b995-4ddd-91f9-e66b6851da1d",
   "metadata": {},
   "outputs": [],
   "source": []
  },
  {
   "cell_type": "code",
   "execution_count": null,
   "id": "928ae974-44d3-420e-bf0c-0017db91cb5f",
   "metadata": {},
   "outputs": [],
   "source": []
  },
  {
   "cell_type": "code",
   "execution_count": null,
   "id": "726e6275-3bdd-4dcc-ace6-761ab75fa167",
   "metadata": {},
   "outputs": [],
   "source": []
  },
  {
   "cell_type": "code",
   "execution_count": null,
   "id": "9c8219c5-ad0d-483f-988a-e00a1c3d55b4",
   "metadata": {},
   "outputs": [],
   "source": []
  },
  {
   "cell_type": "code",
   "execution_count": null,
   "id": "65135c7d-1b58-4263-ba34-b998c23a4969",
   "metadata": {},
   "outputs": [],
   "source": []
  },
  {
   "cell_type": "code",
   "execution_count": null,
   "id": "b90ed58a-6ede-4afb-9608-45e881c81740",
   "metadata": {},
   "outputs": [],
   "source": []
  },
  {
   "cell_type": "code",
   "execution_count": null,
   "id": "fcf0f422-4f88-4513-85d2-4ca3142f8c4e",
   "metadata": {},
   "outputs": [],
   "source": []
  },
  {
   "cell_type": "code",
   "execution_count": null,
   "id": "6d7cf1d4-7c7f-40da-b425-19048e7c8bd4",
   "metadata": {},
   "outputs": [],
   "source": []
  },
  {
   "cell_type": "code",
   "execution_count": null,
   "id": "5b097b0f-8a31-41b9-9ccb-b776d01ff162",
   "metadata": {},
   "outputs": [],
   "source": []
  },
  {
   "cell_type": "code",
   "execution_count": null,
   "id": "b77d60f3-560c-4a46-b11a-ed2adcc7e2fe",
   "metadata": {},
   "outputs": [],
   "source": []
  },
  {
   "cell_type": "code",
   "execution_count": null,
   "id": "3fc9d9b2-f18f-428c-8544-c5e168c54cdc",
   "metadata": {},
   "outputs": [],
   "source": []
  },
  {
   "cell_type": "code",
   "execution_count": null,
   "id": "c1788670-58f9-4cc3-9710-ea6ebd68c2cf",
   "metadata": {},
   "outputs": [],
   "source": []
  }
 ],
 "metadata": {
  "kernelspec": {
   "display_name": "Python 3 (ipykernel)",
   "language": "python",
   "name": "python3"
  },
  "language_info": {
   "codemirror_mode": {
    "name": "ipython",
    "version": 3
   },
   "file_extension": ".py",
   "mimetype": "text/x-python",
   "name": "python",
   "nbconvert_exporter": "python",
   "pygments_lexer": "ipython3",
   "version": "3.10.15"
  }
 },
 "nbformat": 4,
 "nbformat_minor": 5
}
