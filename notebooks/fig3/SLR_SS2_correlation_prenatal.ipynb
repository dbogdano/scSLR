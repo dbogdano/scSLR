{
 "cells": [
  {
   "cell_type": "code",
   "execution_count": 1,
   "id": "881223f7-2efd-467b-90f9-53fa63ec997f",
   "metadata": {},
   "outputs": [
    {
     "name": "stdout",
     "output_type": "stream",
     "text": [
      "Sun Jan 22 20:09:25 PST 2023\n"
     ]
    }
   ],
   "source": [
    "!date"
   ]
  },
  {
   "cell_type": "code",
   "execution_count": 2,
   "id": "84ea1f22-7001-4e91-b476-4eeaac139bcc",
   "metadata": {},
   "outputs": [
    {
     "name": "stdout",
     "output_type": "stream",
     "text": [
      "/c4/home/derek/miniconda3/envs/squint_2\n"
     ]
    }
   ],
   "source": [
    "!echo $CONDA_PREFIX"
   ]
  },
  {
   "cell_type": "code",
   "execution_count": 3,
   "id": "9a059a3a-9a71-4414-b7cc-e5669d261c9c",
   "metadata": {},
   "outputs": [],
   "source": [
    "import pandas as pd\n",
    "import scanpy as sc\n",
    "import numpy as np\n",
    "import seaborn as sns\n",
    "import matplotlib.pyplot as plt"
   ]
  },
  {
   "cell_type": "code",
   "execution_count": 4,
   "id": "df49bafe-f3cd-4ce7-b166-f556b282853b",
   "metadata": {},
   "outputs": [],
   "source": [
    "from scquint.data import load_adata_from_starsolo, add_gene_annotation, group_introns"
   ]
  },
  {
   "cell_type": "code",
   "execution_count": null,
   "id": "b65d64d3-288f-4b3e-899b-a5ded48dd5c8",
   "metadata": {},
   "outputs": [],
   "source": []
  },
  {
   "cell_type": "code",
   "execution_count": 5,
   "id": "76ca2e4e-f182-4a37-ac78-8b65637edaf7",
   "metadata": {},
   "outputs": [
    {
     "ename": "FileNotFoundError",
     "evalue": "[Errno 2] Unable to open file (unable to open file: name = 'scQuint.h5ad', errno = 2, error message = 'No such file or directory', flags = 0, o_flags = 0)",
     "output_type": "error",
     "traceback": [
      "\u001b[0;31m---------------------------------------------------------------------------\u001b[0m",
      "\u001b[0;31mFileNotFoundError\u001b[0m                         Traceback (most recent call last)",
      "Cell \u001b[0;32mIn[5], line 1\u001b[0m\n\u001b[0;32m----> 1\u001b[0m adata_SLR \u001b[38;5;241m=\u001b[39m \u001b[43msc\u001b[49m\u001b[38;5;241;43m.\u001b[39;49m\u001b[43mread_h5ad\u001b[49m\u001b[43m(\u001b[49m\u001b[38;5;124;43m'\u001b[39;49m\u001b[38;5;124;43mscQuint.h5ad\u001b[39;49m\u001b[38;5;124;43m'\u001b[39;49m\u001b[43m)\u001b[49m\n",
      "File \u001b[0;32m~/miniconda3/envs/squint_2/lib/python3.10/site-packages/anndata/_io/h5ad.py:224\u001b[0m, in \u001b[0;36mread_h5ad\u001b[0;34m(filename, backed, as_sparse, as_sparse_fmt, chunk_size)\u001b[0m\n\u001b[1;32m    216\u001b[0m         \u001b[38;5;28;01mraise\u001b[39;00m \u001b[38;5;167;01mNotImplementedError\u001b[39;00m(\n\u001b[1;32m    217\u001b[0m             \u001b[38;5;124m\"\u001b[39m\u001b[38;5;124mCurrently only `X` and `raw/X` can be read as sparse.\u001b[39m\u001b[38;5;124m\"\u001b[39m\n\u001b[1;32m    218\u001b[0m         )\n\u001b[1;32m    220\u001b[0m rdasp \u001b[38;5;241m=\u001b[39m partial(\n\u001b[1;32m    221\u001b[0m     read_dense_as_sparse, sparse_format\u001b[38;5;241m=\u001b[39mas_sparse_fmt, axis_chunk\u001b[38;5;241m=\u001b[39mchunk_size\n\u001b[1;32m    222\u001b[0m )\n\u001b[0;32m--> 224\u001b[0m \u001b[38;5;28;01mwith\u001b[39;00m \u001b[43mh5py\u001b[49m\u001b[38;5;241;43m.\u001b[39;49m\u001b[43mFile\u001b[49m\u001b[43m(\u001b[49m\u001b[43mfilename\u001b[49m\u001b[43m,\u001b[49m\u001b[43m \u001b[49m\u001b[38;5;124;43m\"\u001b[39;49m\u001b[38;5;124;43mr\u001b[39;49m\u001b[38;5;124;43m\"\u001b[39;49m\u001b[43m)\u001b[49m \u001b[38;5;28;01mas\u001b[39;00m f:\n\u001b[1;32m    225\u001b[0m     d \u001b[38;5;241m=\u001b[39m {}\n\u001b[1;32m    226\u001b[0m     \u001b[38;5;28;01mfor\u001b[39;00m k \u001b[38;5;129;01min\u001b[39;00m f\u001b[38;5;241m.\u001b[39mkeys():\n\u001b[1;32m    227\u001b[0m         \u001b[38;5;66;03m# Backwards compat for old raw\u001b[39;00m\n",
      "File \u001b[0;32m~/miniconda3/envs/squint_2/lib/python3.10/site-packages/h5py/_hl/files.py:533\u001b[0m, in \u001b[0;36mFile.__init__\u001b[0;34m(self, name, mode, driver, libver, userblock_size, swmr, rdcc_nslots, rdcc_nbytes, rdcc_w0, track_order, fs_strategy, fs_persist, fs_threshold, fs_page_size, page_buf_size, min_meta_keep, min_raw_keep, locking, alignment_threshold, alignment_interval, **kwds)\u001b[0m\n\u001b[1;32m    525\u001b[0m     fapl \u001b[38;5;241m=\u001b[39m make_fapl(driver, libver, rdcc_nslots, rdcc_nbytes, rdcc_w0,\n\u001b[1;32m    526\u001b[0m                      locking, page_buf_size, min_meta_keep, min_raw_keep,\n\u001b[1;32m    527\u001b[0m                      alignment_threshold\u001b[38;5;241m=\u001b[39malignment_threshold,\n\u001b[1;32m    528\u001b[0m                      alignment_interval\u001b[38;5;241m=\u001b[39malignment_interval,\n\u001b[1;32m    529\u001b[0m                      \u001b[38;5;241m*\u001b[39m\u001b[38;5;241m*\u001b[39mkwds)\n\u001b[1;32m    530\u001b[0m     fcpl \u001b[38;5;241m=\u001b[39m make_fcpl(track_order\u001b[38;5;241m=\u001b[39mtrack_order, fs_strategy\u001b[38;5;241m=\u001b[39mfs_strategy,\n\u001b[1;32m    531\u001b[0m                      fs_persist\u001b[38;5;241m=\u001b[39mfs_persist, fs_threshold\u001b[38;5;241m=\u001b[39mfs_threshold,\n\u001b[1;32m    532\u001b[0m                      fs_page_size\u001b[38;5;241m=\u001b[39mfs_page_size)\n\u001b[0;32m--> 533\u001b[0m     fid \u001b[38;5;241m=\u001b[39m \u001b[43mmake_fid\u001b[49m\u001b[43m(\u001b[49m\u001b[43mname\u001b[49m\u001b[43m,\u001b[49m\u001b[43m \u001b[49m\u001b[43mmode\u001b[49m\u001b[43m,\u001b[49m\u001b[43m \u001b[49m\u001b[43muserblock_size\u001b[49m\u001b[43m,\u001b[49m\u001b[43m \u001b[49m\u001b[43mfapl\u001b[49m\u001b[43m,\u001b[49m\u001b[43m \u001b[49m\u001b[43mfcpl\u001b[49m\u001b[43m,\u001b[49m\u001b[43m \u001b[49m\u001b[43mswmr\u001b[49m\u001b[38;5;241;43m=\u001b[39;49m\u001b[43mswmr\u001b[49m\u001b[43m)\u001b[49m\n\u001b[1;32m    535\u001b[0m \u001b[38;5;28;01mif\u001b[39;00m \u001b[38;5;28misinstance\u001b[39m(libver, \u001b[38;5;28mtuple\u001b[39m):\n\u001b[1;32m    536\u001b[0m     \u001b[38;5;28mself\u001b[39m\u001b[38;5;241m.\u001b[39m_libver \u001b[38;5;241m=\u001b[39m libver\n",
      "File \u001b[0;32m~/miniconda3/envs/squint_2/lib/python3.10/site-packages/h5py/_hl/files.py:226\u001b[0m, in \u001b[0;36mmake_fid\u001b[0;34m(name, mode, userblock_size, fapl, fcpl, swmr)\u001b[0m\n\u001b[1;32m    224\u001b[0m     \u001b[38;5;28;01mif\u001b[39;00m swmr \u001b[38;5;129;01mand\u001b[39;00m swmr_support:\n\u001b[1;32m    225\u001b[0m         flags \u001b[38;5;241m|\u001b[39m\u001b[38;5;241m=\u001b[39m h5f\u001b[38;5;241m.\u001b[39mACC_SWMR_READ\n\u001b[0;32m--> 226\u001b[0m     fid \u001b[38;5;241m=\u001b[39m \u001b[43mh5f\u001b[49m\u001b[38;5;241;43m.\u001b[39;49m\u001b[43mopen\u001b[49m\u001b[43m(\u001b[49m\u001b[43mname\u001b[49m\u001b[43m,\u001b[49m\u001b[43m \u001b[49m\u001b[43mflags\u001b[49m\u001b[43m,\u001b[49m\u001b[43m \u001b[49m\u001b[43mfapl\u001b[49m\u001b[38;5;241;43m=\u001b[39;49m\u001b[43mfapl\u001b[49m\u001b[43m)\u001b[49m\n\u001b[1;32m    227\u001b[0m \u001b[38;5;28;01melif\u001b[39;00m mode \u001b[38;5;241m==\u001b[39m \u001b[38;5;124m'\u001b[39m\u001b[38;5;124mr+\u001b[39m\u001b[38;5;124m'\u001b[39m:\n\u001b[1;32m    228\u001b[0m     fid \u001b[38;5;241m=\u001b[39m h5f\u001b[38;5;241m.\u001b[39mopen(name, h5f\u001b[38;5;241m.\u001b[39mACC_RDWR, fapl\u001b[38;5;241m=\u001b[39mfapl)\n",
      "File \u001b[0;32mh5py/_objects.pyx:54\u001b[0m, in \u001b[0;36mh5py._objects.with_phil.wrapper\u001b[0;34m()\u001b[0m\n",
      "File \u001b[0;32mh5py/_objects.pyx:55\u001b[0m, in \u001b[0;36mh5py._objects.with_phil.wrapper\u001b[0;34m()\u001b[0m\n",
      "File \u001b[0;32mh5py/h5f.pyx:106\u001b[0m, in \u001b[0;36mh5py.h5f.open\u001b[0;34m()\u001b[0m\n",
      "\u001b[0;31mFileNotFoundError\u001b[0m: [Errno 2] Unable to open file (unable to open file: name = 'scQuint.h5ad', errno = 2, error message = 'No such file or directory', flags = 0, o_flags = 0)"
     ]
    }
   ],
   "source": [
    "adata_SLR = sc.read_h5ad('scQuint.h5ad')"
   ]
  },
  {
   "cell_type": "code",
   "execution_count": null,
   "id": "667ddbdf-7704-4658-8caf-a7542457fca1",
   "metadata": {},
   "outputs": [],
   "source": [
    "adata_SS2 = sc.read_h5ad('scQuint_SS2.h5ad')"
   ]
  },
  {
   "cell_type": "code",
   "execution_count": null,
   "id": "2bc14379-e648-4016-b523-0b4d03ea4a4d",
   "metadata": {},
   "outputs": [],
   "source": [
    "# Here's a scatter plot of mean PSI where each point corresponds to an intron,cell_type pair, and the x-axis could be mean PSI in \n",
    "# SMARTseq and y-axis in SLR. The introns are those appear in both SMARTseq and SLR data. To make sure the mean of PSI are representative, we only\n",
    "# plot the introns with PSI is defined in more than n=10 cells of thecell cluster. The Pearson correlation here is 0.926. This shows that for matched introns in both datasets, \n",
    "# mean PSIs of intron in each cell type cluster in one dataset are al so highly correlated with another."
   ]
  },
  {
   "cell_type": "code",
   "execution_count": null,
   "id": "01aaab60-5d02-499d-87bf-27852287598e",
   "metadata": {},
   "outputs": [],
   "source": []
  },
  {
   "cell_type": "code",
   "execution_count": null,
   "id": "d0968f0f-3cc6-49cc-8707-42edfb3d0491",
   "metadata": {},
   "outputs": [],
   "source": [
    "adata_SLR"
   ]
  },
  {
   "cell_type": "code",
   "execution_count": null,
   "id": "12e84e50-7075-4cae-b662-28fa002ce2f2",
   "metadata": {},
   "outputs": [],
   "source": [
    "marker_genes = adata_SLR.var.index.intersection(adata_SS2.var.index).tolist()\n",
    "\n",
    "genedf_SLR = sc.get.obs_df(\n",
    "        adata_SLR,\n",
    "        keys=[\"scANVI_simple\", *marker_genes],\n",
    "    layer='PSI_raw'\n",
    ")\n",
    "    \n",
    "    \n"
   ]
  },
  {
   "cell_type": "code",
   "execution_count": null,
   "id": "7664fff1-c261-40eb-a4ac-b82774a9e589",
   "metadata": {
    "tags": []
   },
   "outputs": [],
   "source": [
    "df_SLR=pd.Series()\n",
    "\n",
    "for celltype in genedf_SLR.scANVI_simple.unique():\n",
    "    \n",
    "    genedf_SLR_ = genedf_SLR[genedf_SLR.scANVI_simple == celltype]\n",
    "    \n",
    "    genedf_SLR_.dropna(thresh = 10,\n",
    "                 axis=1,inplace=True)\n",
    "\n",
    "    means = genedf_SLR_.mean(axis=0)\n",
    "    \n",
    "   # means.name = celltype\n",
    "    means.index = means.index.astype(str) + '_' + celltype\n",
    "    \n",
    "    df_SLR = df_SLR.append(means,\n",
    "                  # ignore_index=True\n",
    "                  )\n",
    "    "
   ]
  },
  {
   "cell_type": "code",
   "execution_count": null,
   "id": "7218e9fc-6ab4-4b83-a830-552b882e5320",
   "metadata": {},
   "outputs": [],
   "source": []
  },
  {
   "cell_type": "code",
   "execution_count": null,
   "id": "0b11967d-ff4b-4f89-90b1-62f567db8947",
   "metadata": {},
   "outputs": [],
   "source": []
  },
  {
   "cell_type": "code",
   "execution_count": null,
   "id": "dedc4920-e602-4ce1-8b30-c33f4aa9af1c",
   "metadata": {},
   "outputs": [],
   "source": [
    "marker_genes = adata_SLR.var.index.intersection(adata_SS2.var.index).tolist()\n",
    "\n",
    "genedf_SS2 = sc.get.obs_df(\n",
    "        adata_SS2,\n",
    "        keys=[\"C_scANVI_simple\", *marker_genes],\n",
    "    layer='PSI_raw'\n",
    ")"
   ]
  },
  {
   "cell_type": "code",
   "execution_count": null,
   "id": "b1fcc27a-1b6f-4328-acce-f6b5acbbb77d",
   "metadata": {
    "tags": []
   },
   "outputs": [],
   "source": [
    "df_SS2=pd.Series()\n",
    "\n",
    "for celltype in genedf_SS2.C_scANVI_simple.unique():\n",
    "    \n",
    "    genedf_SS2_ = genedf_SS2[genedf_SS2.C_scANVI_simple == celltype]\n",
    "    \n",
    "    genedf_SS2_.dropna(thresh = 10,\n",
    "                 axis=1,inplace=True)\n",
    "\n",
    "    means = genedf_SS2_.mean(axis=0)\n",
    "    \n",
    "    #means.name = celltype\n",
    "    means.index = means.index.astype(str) + '_' + celltype\n",
    "    \n",
    "    df_SS2 = df_SS2.append(means,\n",
    "                  # ignore_index=True\n",
    "                  )\n",
    "    "
   ]
  },
  {
   "cell_type": "code",
   "execution_count": null,
   "id": "3272b2b7-7e9f-4770-b06c-61e48522d18c",
   "metadata": {},
   "outputs": [],
   "source": [
    "df_SS2 = df_SS2[df_SS2.index.isin(df_SLR.index)]"
   ]
  },
  {
   "cell_type": "code",
   "execution_count": null,
   "id": "c82db28f-e7bf-484b-8864-5423f10b197a",
   "metadata": {},
   "outputs": [],
   "source": [
    "df_SLR = df_SLR[df_SLR.index.isin(df_SS2.index)]"
   ]
  },
  {
   "cell_type": "code",
   "execution_count": null,
   "id": "ad5efc2a-f72a-464b-8dfd-3a8b4faf5a86",
   "metadata": {},
   "outputs": [],
   "source": [
    "df_SLR.corr(df_SS2,method = 'pearson')"
   ]
  },
  {
   "cell_type": "code",
   "execution_count": null,
   "id": "5410ee77-4385-4c5a-aba1-ac19540eb63b",
   "metadata": {},
   "outputs": [],
   "source": [
    "df_SS2"
   ]
  },
  {
   "cell_type": "code",
   "execution_count": null,
   "id": "5a7cfec3-6061-4d9b-a134-a0e625a014f5",
   "metadata": {},
   "outputs": [],
   "source": [
    "df_SLR"
   ]
  },
  {
   "cell_type": "code",
   "execution_count": null,
   "id": "099db024-7213-43b7-b35c-ed86a083d94c",
   "metadata": {},
   "outputs": [],
   "source": [
    "fig, ax = plt.subplots(figsize=(6, 6))\n",
    "\n",
    "sns.scatterplot(x=df_SS2,\n",
    "                y=df_SLR,\n",
    "                s=2,\n",
    "                linewidth=0,\n",
    "                ax=ax\n",
    "                \n",
    "               )\n",
    "\n",
    "ax.spines.right.set_visible(False)\n",
    "ax.spines.top.set_visible(False)\n",
    "\n",
    "ax.set_title('r = 0.950',loc='left')\n",
    "\n",
    "ax.set_xlabel('Ψ SMART-seq II', fontsize=16)\n",
    "ax.set_ylabel('Ψ scSLR-seq', fontsize=16)\n",
    "\n",
    "\n",
    "\n",
    "# sns.kdeplot(\n",
    "#     data=tips,\n",
    "#     x=df_SS2,\n",
    "#     y=df,\n",
    "#     levels=10,\n",
    "#     fill=True,\n",
    "#     alpha=1,#0.6,\n",
    "#     cut=0,\n",
    "#     ax=ax,\n",
    "#    # clip\n",
    "# )"
   ]
  },
  {
   "cell_type": "code",
   "execution_count": null,
   "id": "4e9c991d-4a31-4ce8-92b2-ddce0b9a6926",
   "metadata": {},
   "outputs": [],
   "source": [
    "data = pd.concat([df_SS2,df_SLR],axis=1)"
   ]
  },
  {
   "cell_type": "code",
   "execution_count": null,
   "id": "c7e5fcc3-3d1f-42a0-8bc8-7c682006a125",
   "metadata": {},
   "outputs": [],
   "source": [
    "data.columns = ['SS2','SLR']"
   ]
  },
  {
   "cell_type": "code",
   "execution_count": null,
   "id": "46229f33-97c0-4a43-b3ff-2f7e6f251489",
   "metadata": {},
   "outputs": [],
   "source": [
    "fig, ax = plt.subplots(figsize=(6, 6))\n",
    "\n",
    "sns.regplot(data = data,\n",
    "            x='SS2',\n",
    "            y='SLR',\n",
    "            scatter_kws={'s':2, 'linewidth':0},\n",
    "            line_kws={\"lw\":5, 'color':'black'},\n",
    "            ax=ax\n",
    "                \n",
    "               )\n",
    "\n",
    "ax.spines.right.set_visible(False)\n",
    "ax.spines.top.set_visible(False)\n",
    "\n",
    "ax.set_title('r = 0.950',loc='left')\n",
    "\n",
    "ax.set_ylabel('Ψ SMART-seq II', fontsize=16)\n",
    "ax.set_xlabel('Ψ scSLR-seq', fontsize=16)\n",
    "\n"
   ]
  },
  {
   "cell_type": "code",
   "execution_count": null,
   "id": "39b6236f-6577-4168-aca4-a808bc447455",
   "metadata": {},
   "outputs": [],
   "source": []
  },
  {
   "cell_type": "code",
   "execution_count": null,
   "id": "0d278679-d49f-40fa-9aa9-a756af94c2df",
   "metadata": {},
   "outputs": [],
   "source": [
    "from scipy import stats"
   ]
  },
  {
   "cell_type": "code",
   "execution_count": null,
   "id": "c1cc8888-343b-4580-8cf9-3e1df1085036",
   "metadata": {},
   "outputs": [],
   "source": [
    "values = np.vstack([df_SLR, df_SS2])"
   ]
  },
  {
   "cell_type": "code",
   "execution_count": null,
   "id": "36e467b9-283e-48af-9fcb-b096fe5f4f38",
   "metadata": {},
   "outputs": [],
   "source": [
    "values"
   ]
  },
  {
   "cell_type": "code",
   "execution_count": null,
   "id": "3737be01-43c3-4b07-8d7d-d7a28e40dcb5",
   "metadata": {},
   "outputs": [],
   "source": [
    "kernel = stats.gaussian_kde(values)(values)"
   ]
  },
  {
   "cell_type": "code",
   "execution_count": null,
   "id": "b1284bb4-e773-4351-b0cf-88debd90da1e",
   "metadata": {},
   "outputs": [],
   "source": [
    "idx = kernel.argsort()\n",
    "x, y, z = df_SLR[idx], df_SS2[idx], kernel[idx]"
   ]
  },
  {
   "cell_type": "code",
   "execution_count": null,
   "id": "725f1c99-9734-4f74-8d53-280c753b4c49",
   "metadata": {},
   "outputs": [],
   "source": [
    "fig, ax = plt.subplots(figsize=(6, 6))\n",
    "\n",
    "sns.scatterplot(\n",
    "    x=x,\n",
    "    y=y,\n",
    "    c=z,\n",
    "    s=6,\n",
    "    cmap=\"plasma\",\n",
    "    ax=ax,\n",
    "    linewidth=0,\n",
    "    alpha=.6\n",
    ")\n",
    "\n",
    "# ax.spines.right.set_visible(False)\n",
    "# ax.spines.top.set_visible(False)\n",
    "\n",
    "# ax.spines.bottom.set_linewidth(2)\n",
    "# ax.spines.left.set_linewidth(2)\n",
    "\n",
    "\n",
    "ax.set_title('r = 0.950',loc='left')\n",
    "\n",
    "ax.set_ylabel('Ψ SMART-seq II', fontsize=16)\n",
    "ax.set_xlabel('Ψ scSLR-seq', fontsize=16)"
   ]
  },
  {
   "cell_type": "code",
   "execution_count": null,
   "id": "314e7993-49ad-4788-b3bf-e46bd1101c12",
   "metadata": {},
   "outputs": [],
   "source": []
  },
  {
   "cell_type": "code",
   "execution_count": null,
   "id": "ef65df78-0828-4f5a-96ff-42866888096f",
   "metadata": {},
   "outputs": [],
   "source": []
  },
  {
   "cell_type": "code",
   "execution_count": null,
   "id": "33dc0673-eb8f-4ea3-98ec-dc2441b2bf24",
   "metadata": {},
   "outputs": [],
   "source": [
    "df_SLR"
   ]
  },
  {
   "cell_type": "code",
   "execution_count": null,
   "id": "df850ce1-000d-4c48-abd8-b97a529095d4",
   "metadata": {},
   "outputs": [],
   "source": [
    "df_SLR"
   ]
  },
  {
   "cell_type": "code",
   "execution_count": null,
   "id": "c929e612-3723-42b4-beed-2f4af6c7b2c7",
   "metadata": {},
   "outputs": [],
   "source": []
  },
  {
   "cell_type": "code",
   "execution_count": null,
   "id": "7be9b2c0-8879-42fa-9f1e-f6a4b3680485",
   "metadata": {},
   "outputs": [],
   "source": []
  },
  {
   "cell_type": "code",
   "execution_count": null,
   "id": "67ef8282-3a6f-44ea-aea6-d8d8080bcc97",
   "metadata": {},
   "outputs": [],
   "source": []
  },
  {
   "cell_type": "code",
   "execution_count": null,
   "id": "c8409157-4855-4721-83a7-9bf56e4048db",
   "metadata": {},
   "outputs": [],
   "source": [
    "unique(marker_genes[:10]"
   ]
  },
  {
   "cell_type": "code",
   "execution_count": null,
   "id": "22a14ae8-be73-479d-9663-5afff788dce6",
   "metadata": {},
   "outputs": [],
   "source": [
    "marker_genes_genes = list(set([i.split('_')[0] for i in marker_genes]))"
   ]
  },
  {
   "cell_type": "code",
   "execution_count": null,
   "id": "82ed87fe-531e-4251-ad33-32fb15fe5ca7",
   "metadata": {},
   "outputs": [],
   "source": []
  },
  {
   "cell_type": "code",
   "execution_count": null,
   "id": "cb86bb1f-0d9a-4645-9700-cb4cb24600b0",
   "metadata": {},
   "outputs": [],
   "source": []
  },
  {
   "cell_type": "code",
   "execution_count": null,
   "id": "8da4556a-f125-4910-81cf-068e0d4f6ca9",
   "metadata": {},
   "outputs": [],
   "source": []
  },
  {
   "cell_type": "code",
   "execution_count": null,
   "id": "9a7ead17-cd58-4d4d-a7fc-8131d77e28d5",
   "metadata": {},
   "outputs": [],
   "source": [
    "adata_gene = sc.read_h5ad('/home/derek/analysis_8/SLR/prental_brain/scANVI_label.h5ad')"
   ]
  },
  {
   "cell_type": "code",
   "execution_count": null,
   "id": "38048972-cf45-4bbb-8830-e9b327dbe019",
   "metadata": {},
   "outputs": [],
   "source": []
  },
  {
   "cell_type": "code",
   "execution_count": null,
   "id": "a8471129-5f2f-40de-9eda-769125fc5879",
   "metadata": {},
   "outputs": [],
   "source": []
  },
  {
   "cell_type": "code",
   "execution_count": null,
   "id": "d5a7dfc5-62de-40e6-850a-09f0a9f2a219",
   "metadata": {},
   "outputs": [],
   "source": []
  },
  {
   "cell_type": "code",
   "execution_count": null,
   "id": "87721e22-caad-4a7c-bdb2-8cb49bc0d261",
   "metadata": {},
   "outputs": [],
   "source": [
    "\n",
    "genedf_gene = sc.get.obs_df(\n",
    "        adata_gene,\n",
    "        keys=[\"C_scANVI_simple\", *marker_genes_genes],\n",
    "   # layer='PSI_raw'\n",
    ")"
   ]
  },
  {
   "cell_type": "code",
   "execution_count": null,
   "id": "7995929a-9021-4c69-a33f-020e41874e19",
   "metadata": {},
   "outputs": [],
   "source": []
  },
  {
   "cell_type": "code",
   "execution_count": null,
   "id": "c9a0f642-dee3-4202-bce8-0d572546291e",
   "metadata": {},
   "outputs": [],
   "source": []
  },
  {
   "cell_type": "code",
   "execution_count": null,
   "id": "2ea8c348-d3c2-4385-b2f3-0cdf0f32c34a",
   "metadata": {
    "tags": []
   },
   "outputs": [],
   "source": [
    "df_gene=pd.Series()\n",
    "\n",
    "for celltype in adata_gene.obs.C_scANVI_simple.unique():\n",
    "    \n",
    "    genedf_gene_ = genedf_gene[genedf_gene.C_scANVI_simple == celltype]\n",
    "    \n",
    "    genedf_gene_.dropna(thresh = 10,\n",
    "                 axis=1,inplace=True)\n",
    "\n",
    "    means_gene = genedf_gene_.mean(axis=0)\n",
    "    \n",
    "   # means.name = celltype\n",
    "    means_gene.index = means_gene.index.astype(str) + '_' + celltype\n",
    "    \n",
    "    df_gene = df_gene.append(means,\n",
    "                  # ignore_index=True\n",
    "                  )\n",
    "    "
   ]
  },
  {
   "cell_type": "code",
   "execution_count": null,
   "id": "24b2a874-ea93-4ab5-a45d-0a2bda3fef56",
   "metadata": {},
   "outputs": [],
   "source": [
    "df_gene"
   ]
  },
  {
   "cell_type": "code",
   "execution_count": null,
   "id": "4376fd89-a887-48c7-a45b-09f142f51ab8",
   "metadata": {},
   "outputs": [],
   "source": []
  },
  {
   "cell_type": "code",
   "execution_count": null,
   "id": "65f9bc1f-517f-456c-b000-f75ce1972455",
   "metadata": {},
   "outputs": [],
   "source": []
  },
  {
   "cell_type": "code",
   "execution_count": null,
   "id": "945868d9-da8a-4eb5-9689-f748dc67fd6a",
   "metadata": {},
   "outputs": [],
   "source": []
  },
  {
   "cell_type": "code",
   "execution_count": null,
   "id": "756801de-4459-40e5-a083-e19e1a23d260",
   "metadata": {},
   "outputs": [],
   "source": []
  },
  {
   "cell_type": "code",
   "execution_count": null,
   "id": "8c3d5623-00ac-43fe-a230-a3ab51986668",
   "metadata": {},
   "outputs": [],
   "source": []
  },
  {
   "cell_type": "code",
   "execution_count": null,
   "id": "e5d2b9ae-9bf1-4356-b78b-94d1611c4cd8",
   "metadata": {},
   "outputs": [],
   "source": []
  },
  {
   "cell_type": "code",
   "execution_count": null,
   "id": "ee7e4a56-9e42-4ad5-94ae-11b23caa1c55",
   "metadata": {},
   "outputs": [],
   "source": []
  },
  {
   "cell_type": "code",
   "execution_count": null,
   "id": "f126f0f4-aac0-4820-9f94-5e5c1a70f233",
   "metadata": {},
   "outputs": [],
   "source": []
  },
  {
   "cell_type": "code",
   "execution_count": null,
   "id": "edb9fd8b-15d7-4b78-88c8-2b571d8dac95",
   "metadata": {},
   "outputs": [],
   "source": []
  },
  {
   "cell_type": "code",
   "execution_count": null,
   "id": "f1a407c5-4bc5-4a26-94e5-dcd7267f9ac1",
   "metadata": {},
   "outputs": [],
   "source": []
  },
  {
   "cell_type": "code",
   "execution_count": null,
   "id": "490b5bb6-8479-4993-8979-9dd173276a5e",
   "metadata": {},
   "outputs": [],
   "source": []
  },
  {
   "cell_type": "code",
   "execution_count": null,
   "id": "c1577a8f-7ab1-445d-b09f-c6d898166224",
   "metadata": {},
   "outputs": [],
   "source": []
  },
  {
   "cell_type": "code",
   "execution_count": null,
   "id": "cb2bfdbc-c696-435f-a8f6-0122b0b2a479",
   "metadata": {},
   "outputs": [],
   "source": []
  },
  {
   "cell_type": "code",
   "execution_count": null,
   "id": "471bb845-5a48-4697-9def-61b83d8f9944",
   "metadata": {},
   "outputs": [],
   "source": []
  },
  {
   "cell_type": "code",
   "execution_count": null,
   "id": "cdad62c9-eb01-4490-9888-7456fc678e26",
   "metadata": {},
   "outputs": [],
   "source": []
  }
 ],
 "metadata": {
  "kernelspec": {
   "display_name": "Python 3 (ipykernel)",
   "language": "python",
   "name": "python3"
  },
  "language_info": {
   "codemirror_mode": {
    "name": "ipython",
    "version": 3
   },
   "file_extension": ".py",
   "mimetype": "text/x-python",
   "name": "python",
   "nbconvert_exporter": "python",
   "pygments_lexer": "ipython3",
   "version": "3.10.8"
  }
 },
 "nbformat": 4,
 "nbformat_minor": 5
}
