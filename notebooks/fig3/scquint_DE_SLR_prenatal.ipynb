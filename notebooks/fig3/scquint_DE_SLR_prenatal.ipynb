{
 "cells": [
  {
   "cell_type": "markdown",
   "id": "1bca16f2-dae7-4efa-aeab-9c69668189fa",
   "metadata": {},
   "source": [
    "# sQuint Differential Splicing "
   ]
  },
  {
   "cell_type": "code",
   "execution_count": 1,
   "id": "6eaf9db9-e5f4-4c47-8078-8e0df03aee42",
   "metadata": {
    "tags": []
   },
   "outputs": [
    {
     "name": "stdout",
     "output_type": "stream",
     "text": [
      "/bin/bash: date/: No such file or directory\n"
     ]
    }
   ],
   "source": [
    "!date/"
   ]
  },
  {
   "cell_type": "code",
   "execution_count": 2,
   "id": "ecc857da-f2cf-436a-b4c2-1d215b974727",
   "metadata": {
    "tags": []
   },
   "outputs": [
    {
     "data": {
      "text/plain": [
       "'/c4/home/derek/miniconda3/envs/scquint_4'"
      ]
     },
     "execution_count": 2,
     "metadata": {},
     "output_type": "execute_result"
    }
   ],
   "source": [
    "%env CONDA_PREFIX"
   ]
  },
  {
   "cell_type": "code",
   "execution_count": null,
   "id": "30fa00d2-0baf-447c-b3f2-830f6a7d8aa6",
   "metadata": {
    "tags": []
   },
   "outputs": [],
   "source": []
  },
  {
   "cell_type": "code",
   "execution_count": 3,
   "id": "a8be1158-3a2f-4f61-8f9b-733a8eff393b",
   "metadata": {
    "tags": []
   },
   "outputs": [],
   "source": [
    "#analysis approach from:\n",
    "#https://github.com/songlab-cal/scquint/blob/main/differential_splicing_example.ipynb"
   ]
  },
  {
   "cell_type": "code",
   "execution_count": 4,
   "id": "e3896e7e-5513-43d0-a865-4ad3ad5a1a2b",
   "metadata": {
    "tags": []
   },
   "outputs": [],
   "source": [
    "import anndata\n",
    "\n",
    "import pandas as pd\n",
    "import scanpy as sc\n",
    "import numpy as np\n",
    "import seaborn as sns\n",
    "import matplotlib.pyplot as plt\n",
    "import os\n",
    "\n",
    "pd.set_option('display.max_columns', None)\n",
    "sns.set_style(\"white\")"
   ]
  },
  {
   "cell_type": "code",
   "execution_count": 5,
   "id": "de6bb374-96de-456d-be3a-01fcd55162cc",
   "metadata": {
    "tags": []
   },
   "outputs": [
    {
     "name": "stderr",
     "output_type": "stream",
     "text": [
      "/c4/home/derek/miniconda3/envs/scquint_4/lib/python3.10/site-packages/tqdm/auto.py:21: TqdmWarning: IProgress not found. Please update jupyter and ipywidgets. See https://ipywidgets.readthedocs.io/en/stable/user_install.html\n",
      "  from .autonotebook import tqdm as notebook_tqdm\n"
     ]
    }
   ],
   "source": [
    "from scquint.differential_splicing import run_differential_splicing\n",
    "from scquint.data import calculate_PSI"
   ]
  },
  {
   "cell_type": "code",
   "execution_count": 6,
   "id": "2054dc3f-bd3f-4b5d-8be8-975ff41da978",
   "metadata": {
    "tags": []
   },
   "outputs": [],
   "source": [
    "from scquint.data import calculate_PSI\n",
    "from scquint.differential_splicing import run_differential_splicing, run_differential_splicing_for_each_group, find_marker_introns, mask_PSI\n",
    "from scquint.dimensionality_reduction.pca import run_pca"
   ]
  },
  {
   "cell_type": "code",
   "execution_count": 7,
   "id": "047feabc-04ff-4f1d-a13b-e60b60c318b7",
   "metadata": {
    "tags": []
   },
   "outputs": [],
   "source": [
    "input_dir = '/nowakowskilab/data1/derek/data_scSLR/prenatal_brain/'"
   ]
  },
  {
   "cell_type": "code",
   "execution_count": 8,
   "id": "b6410328-52fd-4118-bbb9-5488339b4773",
   "metadata": {
    "tags": []
   },
   "outputs": [],
   "source": [
    "output_dir = '/c4/home/derek/data1/derek/scSLR/notebooks/fig3/plots/'\n",
    "os.makedirs(output_dir, exist_ok=True)"
   ]
  },
  {
   "cell_type": "code",
   "execution_count": 9,
   "id": "f8ab27ad-cc59-4900-af35-5edc2c489a8b",
   "metadata": {
    "tags": []
   },
   "outputs": [],
   "source": [
    "adata_gene = sc.read_h5ad(input_dir+'scANVI_label.h5ad')"
   ]
  },
  {
   "cell_type": "code",
   "execution_count": 10,
   "id": "62c650d8-9b00-4c0e-bb86-8d5d3fb20615",
   "metadata": {
    "tags": []
   },
   "outputs": [
    {
     "data": {
      "text/plain": [
       "AnnData object with n_obs × n_vars = 74327 × 36385\n",
       "    obs: 'n_counts', 'batch', 'n_genes_by_counts', 'log1p_n_genes_by_counts', 'total_counts', 'log1p_total_counts', 'pct_counts_mito', '_scvi_batch', '_scvi_labels', 'leiden', 'scANVI_simple', 'tech', 'C_scANVI', 'C_scANVI_simple'\n",
       "    var: 'mito', 'n_cells_by_counts', 'mean_counts', 'log1p_mean_counts', 'pct_dropout_by_counts', 'total_counts', 'log1p_total_counts'\n",
       "    uns: 'C_scANVI_simple_colors', '_scvi_manager_uuid', '_scvi_uuid', 'batch_colors', 'hvg', 'leiden', 'leiden_colors', 'log1p', 'neighbors', 'umap'\n",
       "    obsm: 'X_scVI', 'X_umap'\n",
       "    obsp: 'connectivities', 'distances'"
      ]
     },
     "execution_count": 10,
     "metadata": {},
     "output_type": "execute_result"
    }
   ],
   "source": [
    "adata_gene"
   ]
  },
  {
   "cell_type": "code",
   "execution_count": null,
   "id": "96a0b97c-1132-4726-a5fc-8c444b6c37d7",
   "metadata": {
    "tags": []
   },
   "outputs": [],
   "source": []
  },
  {
   "cell_type": "code",
   "execution_count": 12,
   "id": "720ba829-4060-4d77-af3a-4a79129e400f",
   "metadata": {},
   "outputs": [],
   "source": [
    "# adata SCVI batch corrected expression matrix as layer\n",
    "\n",
    "exp_layer = sc.read_h5ad(input_dir+'exp_layers_annot.h5ad')\n",
    "\n",
    "exp_layer = exp_layer[exp_layer.obs_names.isin(adata_gene.obs_names)]\n",
    "\n",
    "adata_gene.layers['nb_sample'] = exp_layer.layers['nb_sample']"
   ]
  },
  {
   "cell_type": "code",
   "execution_count": null,
   "id": "453e163d-272f-43db-b3c8-f23361ce6d7a",
   "metadata": {
    "tags": []
   },
   "outputs": [],
   "source": [
    "plt.rcParams['figure.figsize'] = 4,4\n",
    "sc.pl.umap(adata_gene,\n",
    "          color=[#'scANVI_simple','leiden',\n",
    "                # 'CELF2','RBM20',\n",
    "                 'RBFOX1','RBFOX2','RBFOX3'\n",
    "                ],\n",
    "          #palette='Spectral_r',\n",
    "           size=30,\n",
    "           ncols=3,\n",
    "              vmax='p99.9',\n",
    "           cmap='viridis',\n",
    "           alpha=1,\n",
    "           layer='nb_sample'\n",
    "          )"
   ]
  },
  {
   "cell_type": "code",
   "execution_count": null,
   "id": "02933f17-3cc5-432a-8111-87f47bf7b68b",
   "metadata": {
    "tags": []
   },
   "outputs": [],
   "source": [
    "break"
   ]
  },
  {
   "cell_type": "code",
   "execution_count": null,
   "id": "804c54c1-f052-484f-89cb-13c799bc22f5",
   "metadata": {
    "tags": []
   },
   "outputs": [],
   "source": []
  },
  {
   "cell_type": "code",
   "execution_count": null,
   "id": "fb6be940-930c-44e5-82c5-e1534ef46b98",
   "metadata": {
    "tags": []
   },
   "outputs": [],
   "source": []
  },
  {
   "cell_type": "code",
   "execution_count": null,
   "id": "063130d3-2da4-4ac3-ba58-47b5b3368818",
   "metadata": {
    "tags": []
   },
   "outputs": [],
   "source": [
    "model_dir = '/c4/home/derek/data1/derek/data_scSLR/reference/rbpnet_models/models/'\n",
    "\n",
    "RBPs = [i.split('_')[0] for i in  os.listdir(model_dir)]"
   ]
  },
  {
   "cell_type": "code",
   "execution_count": null,
   "id": "7f7cbe1d-1401-45b7-ab32-be7e0d000751",
   "metadata": {
    "tags": []
   },
   "outputs": [],
   "source": []
  },
  {
   "cell_type": "code",
   "execution_count": null,
   "id": "afab4df6-f3d4-4aed-a78b-6c4c2add1985",
   "metadata": {},
   "outputs": [],
   "source": [
    "len(RBPS)"
   ]
  },
  {
   "cell_type": "code",
   "execution_count": null,
   "id": "0005f574-4ba5-48e2-8cf7-fcfe991e5f49",
   "metadata": {},
   "outputs": [],
   "source": [
    "RBPS = ['EFTUD2', 'LIN28B', 'AGGF1', 'HNRNPL', 'SND1', 'GTF2F1', 'EIF4G2',\n",
    "       'TIA1', 'TARDBP', 'FXR2', 'HNRNPM', 'IGF2BP1', 'PUM2', 'FAM120A',\n",
    "       'DDX3X', 'MATR3', 'FUS', 'GRWD1', 'PABPC4', 'U2AF2', 'AKAP8L', 'METAP2',\n",
    "       'SMNDC1', 'GEMIN5', 'HNRNPK', 'SLTM', 'SRSF1', 'FMR1', 'SAFB2',\n",
    "       'DROSHA', 'RPS3', 'IGF2BP2', 'ILF3', 'RBFOX2', 'QKI', 'PCBP1', 'ZNF800',\n",
    "       'PUM1', 'BUD13', 'PTBP1', 'DDX24', 'EWSR1', 'RBM15', 'SF3B4', 'YBX3',\n",
    "       'UCHL5', 'KHSRP', 'ZNF622', 'NONO', 'EXOSC5', 'PRPF8', 'CSTF2T', 'AQR',\n",
    "       'UPF1', 'MTPAP', 'RBM22', 'DHX30', 'DDX6', 'DDX55', 'TRA2A', 'XRN2',\n",
    "       'U2AF1', 'LSM11', \n",
    "        #'ZC3H11A', \n",
    "        'NOLC1', 'KHDRBS1', 'GPKOW', 'DGCR8',\n",
    "       'AKAP1', 'FXR1', 'DDX52', 'AATF']"
   ]
  },
  {
   "cell_type": "code",
   "execution_count": null,
   "id": "cfbcd032-dded-4043-ab46-a94c8d8ba274",
   "metadata": {},
   "outputs": [],
   "source": [
    "RBPS = [\n",
    "    'RBM22', 'GRSF1', 'CDC40', 'NOLC1', 'FKBP4', 'DGCR8', 'XRN2', 'SLTM', 'DDX55', 'TIA1', 'SRSF1', 'U2AF1', 'RBM15',\n",
    "'LSM11', 'NKRF', 'SUB1', 'NCBP2', 'UCHL5', 'LIN28B', 'IGF2BP3', 'SF3A3', 'AGGF1', 'DROSHA', 'DDX59', 'CSTF2', 'DKC1', 'EIF3H', 'FUBP3', 'SFPQ', 'HNRNPC', 'ILF3', 'TIAL1', 'HLTF', 'ZNF800', 'PABPN1', 'YBX3', 'FXR2',\n",
    "'GTF2F1', 'IGF2BP1', 'HNRNPK', 'XPO5', 'RPS3', 'SF3B4', 'LARP4', 'BUD13', 'SND1', 'G3BP1', 'AKAP1', 'KHSRP',\n",
    "'DDX3X', 'PCBP2', 'FAM120A', 'HNRNPL', 'RBFOX2', 'PTBP1', 'MATR3', 'EFTUD2', 'PRPF4', 'UPF1',\n",
    "'GRWD1', 'PRPF8', 'PPIG', 'CSTF2T', 'QKI', 'U2AF2', 'SUGP2', 'HNRNPM', 'AQR', 'BCLAF1'\n",
    "]"
   ]
  },
  {
   "cell_type": "code",
   "execution_count": null,
   "id": "0d783748-75e6-409d-9a6d-89dcfe0faa1f",
   "metadata": {
    "tags": []
   },
   "outputs": [],
   "source": [
    "RBP_list = set(['MBNL1', 'P53_NONO', 'PUM2', 'QKI', 'AGO3', 'FUS', 'TAF15', 'ZFP36', 'DICER1', 'EIF3A', 'EIF3D', 'EIF3G', 'SSB', 'PAPD5', 'CPSF4','CPSF3', 'RTCB', 'FXR1', 'NOP58', 'NOP56', 'FBL', 'LIN28A', 'LIN28B', 'UPF1', 'G35', 'G45', 'XPO5','TARDBP', 'ELAVL2', 'ELAVL3', 'ELAVL4', 'RBM20', 'IGF2BP1', 'IGF2BP2', 'IGF2BP3', 'EWSR1', 'HNRNPD', 'RBPMS', 'SRRM4', 'AGO2', 'NUDT21', 'FIP1L1', 'CAPRIN1', 'FMR1iso7', 'FXR2', 'AGO1', 'L1RE1', 'ORF1','DND1', 'CPSF7', 'CPSF6', 'CPSF1', 'CSTF2', 'CSTF2T', 'ZC3H7B', 'FMR1iso1', 'RBM10', 'MOV10', 'ELAVL1','RBM22', 'GRSF1', 'CDC40', 'NOLC1', 'FKBP4', 'DGCR8', 'ZC3H11A', 'XRN2', 'SLTM', 'DDX55', 'TIA1', 'SRSF1', 'U2AF1', 'RBM15','LSM11', 'NKRF', 'SUB1', 'NCBP2', 'UCHL5', 'LIN28B', 'IGF2BP3', 'SF3A3', 'AGGF1', 'DROSHA', 'DDX59', 'CSTF2', 'DKC1', 'EIF3H', 'FUBP3','SFPQ', 'HNRNPC', 'ILF3', 'TIAL1', 'HLTF', 'ZNF800', 'PABPN1', 'YBX3', 'FXR2','GTF2F1', 'IGF2BP1', 'HNRNPK', 'XPO5', 'RPS3', 'SF3B4', 'LARP4', 'BUD13', 'SND1', 'G3BP1', 'AKAP1', 'KHSRP','DDX3X', 'PCBP2', 'FAM120A', 'HNRNPL', 'RBFOX2', 'PTBP1', 'MATR3', 'EFTUD2', 'PRPF4', 'UPF1','GRWD1', 'PRPF8', 'PPIG', 'CSTF2T', 'QKI', 'U2AF2', 'SUGP2', 'HNRNPM', 'AQR', 'BCLAF1','MTPAP', 'RBM22', 'DHX30', 'DDX6', 'DDX55', 'TRA2A', 'XRN2', 'U2AF1', 'LSM11', 'ZC3H11A', 'NOLC1', 'KHDRBS1', 'GPKOW', 'DGCR8', 'AKAP1', 'FXR1', 'DDX52', 'AATF','U2AF2', 'AKAP8L', 'METAP2', 'SMNDC1', 'GEMIN5', 'HNRNPK', 'SLTM', 'SRSF1', 'FMR1', 'SAFB2', 'DROSHA', 'RPS3', 'IGF2BP2', 'ILF3', 'RBFOX2', 'QKI', 'PCBP1', 'ZNF800', 'PUM1','EFTUD2', 'LIN28B', 'AGGF1', 'HNRNPL', 'SND1', 'GTF2F1', 'EIF4G2', 'TIA1', 'TARDBP', 'FXR2', 'HNRNPM', 'IGF2BP1', 'PUM2', 'FAM120A', 'DDX3X', 'MATR3', 'FUS', 'GRWD1', 'PABPC4','BUD13', 'PTBP1', 'DDX24', 'EWSR1', 'RBM15','SF3B4', 'YBX3', 'UCHL5', 'KHSRP', 'ZNF622', 'NONO', 'EXOSC5', 'PRPF8', 'CSTF2T', 'AQR', 'UPF1'])"
   ]
  },
  {
   "cell_type": "code",
   "execution_count": null,
   "id": "046266c7-74be-49f3-b5c3-15ed0adb9753",
   "metadata": {
    "tags": []
   },
   "outputs": [],
   "source": [
    "RBP_list_ = [i for i in RBP_list if i in adata_gene.var_names]"
   ]
  },
  {
   "cell_type": "code",
   "execution_count": null,
   "id": "79cb68da-e7dd-4a10-9fe7-0da497edc790",
   "metadata": {},
   "outputs": [],
   "source": [
    "genedf = sc.get.obs_df(\n",
    "    adata_gene,\n",
    "    keys=[*RBP_list_]\n",
    ")\n"
   ]
  },
  {
   "cell_type": "code",
   "execution_count": null,
   "id": "c20c4a46-f7be-440b-97ef-4cc4988cf9ac",
   "metadata": {
    "tags": []
   },
   "outputs": [],
   "source": [
    "genedf.sum(axis=0)"
   ]
  },
  {
   "cell_type": "code",
   "execution_count": null,
   "id": "e5e5edef-7a7a-4dd8-b697-f45c393e4d46",
   "metadata": {
    "tags": []
   },
   "outputs": [],
   "source": [
    "# adata_spl_bac = adata_spl.copy()"
   ]
  },
  {
   "cell_type": "code",
   "execution_count": null,
   "id": "f05323f7-0aea-4ff6-92c7-eeb20be13d6f",
   "metadata": {
    "tags": []
   },
   "outputs": [],
   "source": [
    "# adata_spl = sc.read_h5ad(\n",
    "#     '/nowakowskilab/data1/derek/scSLR/notebooks/fig3/singlets_spl_.h5ad')\n",
    "\n",
    "adata_spl = sc.read_h5ad('/nowakowskilab/data1/derek/data_scSLR/prenatal_brain/adata_spl_equal.h5ad')"
   ]
  },
  {
   "cell_type": "code",
   "execution_count": null,
   "id": "10b2f08c-d559-4aa4-ae62-3f3634f7afee",
   "metadata": {},
   "outputs": [],
   "source": []
  },
  {
   "cell_type": "code",
   "execution_count": null,
   "id": "4ccfea2c-e0a2-4319-ad4d-faf81b281b24",
   "metadata": {},
   "outputs": [],
   "source": []
  },
  {
   "cell_type": "code",
   "execution_count": null,
   "id": "e4056a06-aea6-4ff2-be86-a36e44fa2441",
   "metadata": {},
   "outputs": [],
   "source": []
  },
  {
   "cell_type": "code",
   "execution_count": null,
   "id": "105d9a5a-fc41-4cdc-868c-299846078bbe",
   "metadata": {},
   "outputs": [],
   "source": []
  },
  {
   "cell_type": "code",
   "execution_count": null,
   "id": "b5559efa-bff6-4181-ba9a-709d4c4de8be",
   "metadata": {
    "tags": []
   },
   "outputs": [],
   "source": [
    "# preds = pd.read_csv('../fig3/solo_preds.csv',index_col=0)\n",
    "\n",
    "# ##fix obs names\n",
    "# preds.index = preds.index.str.replace(\n",
    "#     'GW16_1','0').str.replace(\n",
    "#     'GW16_2','1').str.replace(\n",
    "#     'GW17_1','2').str.replace(\n",
    "#     'GW21_1','3').str.replace(\n",
    "#     'GW21_2','4').str.replace(\n",
    "#     'GW23_1','5')\n",
    "\n",
    "\n",
    "# preds = preds[preds.index.isin(adata_spl.obs_names)]\n",
    "\n",
    "# adata_spl.obs['doublet_soft'] = preds['doublet']\n",
    "# adata_spl.obs['singlet_soft'] = preds['singlet']\n",
    "# adata_spl.obs['solo_prediction'] = preds['prediction']"
   ]
  },
  {
   "cell_type": "code",
   "execution_count": null,
   "id": "bf38519d-31f8-4990-bb3e-6869611e1e8a",
   "metadata": {
    "tags": []
   },
   "outputs": [],
   "source": [
    "cat_list = adata_spl.obs.C_scANVI_simple.astype('category').cat.categories.tolist()"
   ]
  },
  {
   "cell_type": "code",
   "execution_count": null,
   "id": "2aa0f879-255c-4728-8736-d1011fb827de",
   "metadata": {
    "tags": []
   },
   "outputs": [],
   "source": [
    "dict(zip(cat_list, cat_list))"
   ]
  },
  {
   "cell_type": "code",
   "execution_count": null,
   "id": "37c15b70-9580-494e-aba6-d5509607e2d5",
   "metadata": {
    "tags": []
   },
   "outputs": [],
   "source": [
    "simplify_dict = {'Astrocyte': 'Astrocyte',\n",
    " 'EN-PFC': 'EN-PFC',\n",
    " 'EN-V1': 'EN-V1',\n",
    " 'Endothelial': 'Endothelial',\n",
    " 'Glyc': 'Glyc',\n",
    " 'IN-CTX-CGE': 'IN-CTX-CGE',\n",
    " 'IN-CTX-MGE': 'IN-CTX-MGE',\n",
    " 'IN-STR': 'IN-STR',\n",
    " 'IPC-div': 'IPC-nEN',\n",
    " 'IPC-nEN': 'IPC-nEN',\n",
    " 'MGE-IPC': 'MGE-IPC',\n",
    " 'MGE-RG': 'MGE-RG',\n",
    " 'MGE-div': 'MGE-RG',\n",
    " 'Microglia': 'Microglia',\n",
    " 'Mural': 'Mural',\n",
    " 'OPC': 'OPC',\n",
    " 'RG': 'RG',\n",
    " 'RG-div': 'RG',\n",
    " 'RBC': 'RBC',\n",
    " 'nEN': 'nEN',\n",
    " 'nIN': 'nIN'}\n",
    "\n",
    "# simplify_dict = {'Astrocyte': 'RG',\n",
    "#  'EN-PFC': 'EN',\n",
    "#  'EN-V1': 'EN',\n",
    "#  'Endothelial': 'Endothelial',\n",
    "#  'Glyc': 'Glyc',\n",
    "#  'IN-CTX-CGE': 'IN',\n",
    "#  'IN-CTX-MGE': 'IN',\n",
    "#  'IN-STR': 'IN',\n",
    "#  'IPC-div': 'IPC-nEN',\n",
    "#  'IPC-nEN': 'IPC-nEN',\n",
    "#  'MGE-IPC': 'MGE-IPC',\n",
    "#  'MGE-RG': 'RG',\n",
    "#  'MGE-div': 'RG',\n",
    "#  'Microglia': 'Microglia',\n",
    "#  'Mural': 'Mural',\n",
    "#  'OPC': 'RG',\n",
    "#  'RG': 'RG',\n",
    "#  'RG-div': 'RG',\n",
    "#  'RBC': 'RBC',\n",
    "#  'nEN': 'EN',\n",
    "#  'nIN': 'nIN'}"
   ]
  },
  {
   "cell_type": "code",
   "execution_count": null,
   "id": "e6d91cc3-b407-4f0e-85b3-8270b4ad5f43",
   "metadata": {
    "tags": []
   },
   "outputs": [],
   "source": [
    "adata_spl.obs['C_scANVI_simple'] = adata_spl.obs.C_scANVI_simple.map(simplify_dict)\n",
    "adata_gene.obs['C_scANVI_simple'] = adata_gene.obs.C_scANVI_simple.map(simplify_dict)"
   ]
  },
  {
   "cell_type": "code",
   "execution_count": null,
   "id": "7aab89a6-2ae3-4378-940f-6e37dead6378",
   "metadata": {},
   "outputs": [],
   "source": [
    "adata_spl.obs['C_scANVI_simple']"
   ]
  },
  {
   "cell_type": "code",
   "execution_count": null,
   "id": "32950f92-36c7-4792-b183-c4dce1933ec5",
   "metadata": {},
   "outputs": [],
   "source": [
    "break"
   ]
  },
  {
   "cell_type": "code",
   "execution_count": null,
   "id": "49becc19-b2a9-4322-85c7-d071345efca1",
   "metadata": {},
   "outputs": [],
   "source": []
  },
  {
   "cell_type": "code",
   "execution_count": null,
   "id": "ad4c0b82-ffa4-4c8f-a0d2-7166d3fe13ad",
   "metadata": {},
   "outputs": [],
   "source": []
  },
  {
   "cell_type": "code",
   "execution_count": null,
   "id": "8792fe67-6fa0-4102-9977-534465521ea7",
   "metadata": {
    "tags": []
   },
   "outputs": [],
   "source": [
    "adata_gene.obs['C_scANVI_simple'] = adata_gene.obs.C_scANVI_simple.map(simplify_dict)"
   ]
  },
  {
   "cell_type": "code",
   "execution_count": null,
   "id": "6488a125-c5ce-4542-aff2-cabfb0d2d154",
   "metadata": {
    "tags": []
   },
   "outputs": [],
   "source": [
    "adata_gene.obs['C_scANVI_simple'] = adata_spl.obs['C_scANVI_simple']"
   ]
  },
  {
   "cell_type": "code",
   "execution_count": null,
   "id": "e508d68f-0e56-422b-870b-0c728fe05d2a",
   "metadata": {
    "tags": []
   },
   "outputs": [],
   "source": [
    "adata_gene.obs['C_scANVI_simple'].value_counts()"
   ]
  },
  {
   "cell_type": "code",
   "execution_count": null,
   "id": "768b50f1-755e-4ba2-be13-7fdc50dd1f6e",
   "metadata": {
    "tags": []
   },
   "outputs": [],
   "source": [
    "##fix celltype palette \n",
    "\n",
    "cmap = pd.read_csv('celltype_colors.csv')\n",
    "\n",
    "cmap['celltype_simple'] = cmap['0'].map(simplify_dict)\n",
    "\n",
    "cmap = cmap.drop_duplicates(subset='celltype_simple',keep='first')\n",
    "\n",
    "cmap.loc[16], cmap.loc[18] =  cmap.loc[18].copy(), cmap.loc[16].copy()\n",
    "\n",
    "adata_gene.uns['C_scANVI_simple_colors'] = cmap['1']\n",
    "adata_spl.uns['C_scANVI_simple_colors'] = cmap['1']"
   ]
  },
  {
   "cell_type": "code",
   "execution_count": null,
   "id": "9d8b4d4f-76ea-4209-8e4e-63326110bcc6",
   "metadata": {
    "tags": []
   },
   "outputs": [],
   "source": []
  },
  {
   "cell_type": "code",
   "execution_count": null,
   "id": "4ea3bf56-584c-4208-99d2-af3900181ee4",
   "metadata": {
    "tags": []
   },
   "outputs": [],
   "source": [
    "plt.rcParams['figure.figsize'] = 4,4\n",
    "sc.pl.umap(adata_spl,\n",
    "          color=['C_scANVI_simple'],\n",
    "          #palette='Spectral_r',\n",
    "           size=20,\n",
    "           ncols=1,\n",
    "           \n",
    "          )"
   ]
  },
  {
   "cell_type": "code",
   "execution_count": null,
   "id": "f3038bdd-1dd9-483c-9804-f748c164c085",
   "metadata": {
    "tags": []
   },
   "outputs": [],
   "source": [
    "plt.rcParams['figure.figsize'] = 4,4\n",
    "sc.pl.umap(adata_gene,\n",
    "          color=['SCANVI_cell_types_simplified'],\n",
    "          #palette='Spectral_r',\n",
    "           size=20,\n",
    "           ncols=1,\n",
    "           \n",
    "          )"
   ]
  },
  {
   "cell_type": "code",
   "execution_count": null,
   "id": "fde0f6d6-1f4b-4c75-a624-0dab6bb1864e",
   "metadata": {
    "tags": []
   },
   "outputs": [],
   "source": []
  },
  {
   "cell_type": "code",
   "execution_count": null,
   "id": "982878c6-0b92-4db1-b7f2-55c0c702b783",
   "metadata": {
    "tags": []
   },
   "outputs": [],
   "source": []
  },
  {
   "cell_type": "code",
   "execution_count": null,
   "id": "0efebb15-3854-4a63-b73c-4dd60e995bfc",
   "metadata": {
    "tags": []
   },
   "outputs": [],
   "source": []
  },
  {
   "cell_type": "code",
   "execution_count": null,
   "id": "37dc2cc4-0d8c-4e51-b242-597297517c75",
   "metadata": {},
   "outputs": [],
   "source": []
  },
  {
   "cell_type": "code",
   "execution_count": null,
   "id": "cee8ca34-51d4-4d6d-a4a4-f26a42606f5b",
   "metadata": {
    "tags": []
   },
   "outputs": [],
   "source": [
    "adata_gene.write_h5ad('UCSC_CB_scSLR_gene_exp.h5ad')"
   ]
  },
  {
   "cell_type": "code",
   "execution_count": null,
   "id": "d7e4266c-8194-4694-8314-44211987d8d1",
   "metadata": {
    "tags": []
   },
   "outputs": [],
   "source": [
    "adata_spl.var"
   ]
  },
  {
   "cell_type": "code",
   "execution_count": null,
   "id": "d92ea8fc-e896-41ad-9750-2dace5ca694c",
   "metadata": {
    "tags": []
   },
   "outputs": [],
   "source": [
    "#del adata_spl.uns['C_scANVI_simple_colors']"
   ]
  },
  {
   "cell_type": "code",
   "execution_count": null,
   "id": "67f2f454-5aa0-45d3-9915-b964077391fc",
   "metadata": {
    "tags": []
   },
   "outputs": [],
   "source": []
  },
  {
   "cell_type": "code",
   "execution_count": null,
   "id": "23b86b27-754d-49a9-a1c2-4501e8482e44",
   "metadata": {
    "tags": []
   },
   "outputs": [],
   "source": [
    "adata_gene.obs.leiden.cat.categories"
   ]
  },
  {
   "cell_type": "code",
   "execution_count": null,
   "id": "30de994d-883b-4817-bf2c-b728fd65742a",
   "metadata": {
    "tags": []
   },
   "outputs": [],
   "source": [
    "leiden_dict = {'0': 'nEN',\n",
    " '1': 'EN-1', #\n",
    " '2': 'EN-1',\n",
    " '3': 'EN-2',\n",
    " '4': 'IN-CTX-CGE',\n",
    " '5': 'IN-CTX-MGE',\n",
    " '6': 'IPC-nEN',\n",
    " '7': 'EN-2',\n",
    " '8': 'EN-3',\n",
    " '9': 'RG',\n",
    " '10': 'MGE-RG',\n",
    " '11': 'EN-3',\n",
    " '12': 'EN-2',\n",
    " '13': 'IPC-nEN',\n",
    " '14': 'EN-2',\n",
    " '15': 'IN-CTX-MGE',\n",
    " '16': 'EN-2',\n",
    " '17': 'IN-CTX-CGE',\n",
    " '18': 'nIN',\n",
    " '19': 'Astrocyte',\n",
    " '20': 'IN-STR',\n",
    " '21': 'OPC',\n",
    " '22': 'IN-STR',\n",
    " '24': 'IN-CTX-CGE',\n",
    " '25': 'EN-2',\n",
    " '26': 'Microglia',\n",
    " '28': 'Endothelial',\n",
    " '29': 'RBC',}"
   ]
  },
  {
   "cell_type": "code",
   "execution_count": null,
   "id": "e93818bf-eec4-4f27-8676-b92244984f08",
   "metadata": {
    "tags": []
   },
   "outputs": [],
   "source": [
    "adata_spl.obs['leiden_celltypes'] = adata_spl.obs.leiden.map(leiden_dict)\n",
    "adata_gene.obs['leiden_celltypes'] = adata_spl.obs.leiden.map(leiden_dict)"
   ]
  },
  {
   "cell_type": "code",
   "execution_count": null,
   "id": "2279d2a6-3f17-4c02-8a44-eb3147ebae84",
   "metadata": {
    "tags": []
   },
   "outputs": [],
   "source": [
    "plt.rcParams['figure.figsize'] = 4,4\n",
    "sc.pl.umap(adata_spl,\n",
    "          color=['leiden_celltypes'],\n",
    "           size=20,\n",
    "           ncols=1,\n",
    "           palette='Greys'\n",
    "          )"
   ]
  },
  {
   "cell_type": "code",
   "execution_count": null,
   "id": "b14abb6b-90cb-4811-a159-77b8c78a718e",
   "metadata": {
    "tags": []
   },
   "outputs": [],
   "source": []
  },
  {
   "cell_type": "code",
   "execution_count": null,
   "id": "189f7023-1b1e-4236-b394-1c72874d4b33",
   "metadata": {},
   "outputs": [],
   "source": []
  },
  {
   "cell_type": "code",
   "execution_count": null,
   "id": "f3d231f0-a568-4272-b44f-ded1fedd14aa",
   "metadata": {
    "tags": []
   },
   "outputs": [],
   "source": [
    "# singlets = pd.read_csv('singlets.csv',index_col=0)['0']\n",
    "\n",
    "# singlets = singlets.str.replace(\n",
    "#     'GW16_1','0').str.replace(\n",
    "#     'GW16_2','1').str.replace(\n",
    "#     'GW17_1','2').str.replace(\n",
    "#     'GW21_1','3').str.replace(\n",
    "#     'GW21_2','4').str.replace(\n",
    "#     'GW23_1','5')\n",
    "\n"
   ]
  },
  {
   "cell_type": "code",
   "execution_count": null,
   "id": "01248c2c-5fe6-4467-b874-9c42a86a5ce0",
   "metadata": {
    "tags": []
   },
   "outputs": [],
   "source": [
    "# singlets"
   ]
  },
  {
   "cell_type": "code",
   "execution_count": null,
   "id": "8f168e23-f6b2-43e8-87ac-32e53f33768b",
   "metadata": {
    "tags": []
   },
   "outputs": [],
   "source": [
    "# adata_spl = adata_spl[adata_spl.obs_names.isin(singlets)]"
   ]
  },
  {
   "cell_type": "code",
   "execution_count": null,
   "id": "dbe92a2b-e380-44b0-a720-a14414b174bb",
   "metadata": {
    "tags": []
   },
   "outputs": [],
   "source": [
    "adata_spl"
   ]
  },
  {
   "cell_type": "code",
   "execution_count": null,
   "id": "7f05a154-8b29-4b35-9971-706745b04b25",
   "metadata": {
    "tags": []
   },
   "outputs": [],
   "source": [
    "features = [\"C_scANVI_simple\", \"age\", \"batch\"]"
   ]
  },
  {
   "cell_type": "code",
   "execution_count": null,
   "id": "d891945c-fa53-4af3-8549-b446fa6134f9",
   "metadata": {
    "tags": []
   },
   "outputs": [],
   "source": [
    "# # groupby = \"C_scANVI_simple\"\n",
    "# # adata_spl.obs[groupby].value_counts()\n",
    "\n",
    "# groupby = \"leiden_celltypes\"\n",
    "# adata_spl.obs[groupby].value_counts()"
   ]
  },
  {
   "cell_type": "code",
   "execution_count": null,
   "id": "a8e8dcc3-3e4a-4333-af4a-ac476079c489",
   "metadata": {
    "tags": []
   },
   "outputs": [],
   "source": [
    "groupby = \"C_scANVI_simple\"\n",
    "adata_spl.obs[groupby].value_counts()"
   ]
  },
  {
   "cell_type": "code",
   "execution_count": null,
   "id": "690a4b19-aeb3-486a-ad3e-92daa32c4bb7",
   "metadata": {
    "tags": []
   },
   "outputs": [],
   "source": [
    "#groups_test = adata_spl.obs[groupby].value_counts().index.values.astype(str).tolist()\n",
    "\n",
    "groups_test = adata_spl.obs[groupby].value_counts()[:13].index.values.astype(str).tolist()\n"
   ]
  },
  {
   "cell_type": "code",
   "execution_count": null,
   "id": "715ecc71-e50c-4a11-a591-539bbc16673e",
   "metadata": {
    "tags": []
   },
   "outputs": [],
   "source": [
    "groups_test = ['EN','RG']"
   ]
  },
  {
   "cell_type": "code",
   "execution_count": null,
   "id": "e00ebda0-fcb0-4b18-945d-60968b2c8d70",
   "metadata": {
    "tags": []
   },
   "outputs": [],
   "source": []
  },
  {
   "cell_type": "code",
   "execution_count": null,
   "id": "9aa92f01-1c5f-457d-9568-904869dc8696",
   "metadata": {
    "tags": []
   },
   "outputs": [],
   "source": [
    "groupby"
   ]
  },
  {
   "cell_type": "code",
   "execution_count": null,
   "id": "cbf1479f-140a-40ec-9a05-74c6ee034bab",
   "metadata": {},
   "outputs": [],
   "source": []
  },
  {
   "cell_type": "code",
   "execution_count": null,
   "id": "d3089112-db3e-44b1-82cf-007ca5cd9761",
   "metadata": {
    "tags": []
   },
   "outputs": [],
   "source": [
    "%%time\n",
    "#~\n",
    "diff_spl_intron_groups, diff_spl_introns = run_differential_splicing_for_each_group(\n",
    "    adata_spl, \n",
    "    groupby,\n",
    "    groups=groups_test, \n",
    "    subset_to_groups=True,\n",
    "    min_cells_per_intron_group=10, \n",
    "    min_total_cells_per_intron=10,\n",
    "    n_jobs=15,\n",
    ")"
   ]
  },
  {
   "cell_type": "code",
   "execution_count": null,
   "id": "78339cb0-a1a1-4019-a633-7a513bdf96bf",
   "metadata": {
    "tags": []
   },
   "outputs": [],
   "source": [
    "break"
   ]
  },
  {
   "cell_type": "code",
   "execution_count": null,
   "id": "030fd16f-71e7-4556-866d-831fb6ea9a1f",
   "metadata": {},
   "outputs": [],
   "source": [
    "diff_spl_introns"
   ]
  },
  {
   "cell_type": "code",
   "execution_count": null,
   "id": "b62fb7fa-4c69-43a7-9631-08ec695a0236",
   "metadata": {},
   "outputs": [],
   "source": []
  },
  {
   "cell_type": "code",
   "execution_count": null,
   "id": "d7f74093-e90c-4c35-b479-19f230edb2e6",
   "metadata": {},
   "outputs": [],
   "source": [
    "#break"
   ]
  },
  {
   "cell_type": "code",
   "execution_count": null,
   "id": "dd99c8bd-6e99-4446-854f-fde7a6d64356",
   "metadata": {
    "tags": []
   },
   "outputs": [],
   "source": [
    "#diff_spl_introns.to_csv(input_dir+'diff_spliced_introns_shared_CB.csv')\n",
    "#diff_spl_intron_groups.to_csv(input_dir+'diff_spliced_intron_groups_shared_CB.csv')\n",
    "\n",
    "# diff_spl_introns = pd.read_csv(input_dir+ 'diff_spliced_introns_shared_CB.csv',index_col=0)\n",
    "# diff_spl_intron_groups = pd.read_csv(input_dir+'diff_spliced_intron_groups_shared_CB.csv',index_col=0)"
   ]
  },
  {
   "cell_type": "code",
   "execution_count": null,
   "id": "567fb8d0-3dce-4847-a8ba-61949b6278bd",
   "metadata": {
    "tags": []
   },
   "outputs": [],
   "source": [
    "# diff_spl_introns.to_csv(input_dir+'diff_spliced_introns_EN_RG.csv')\n",
    "# diff_spl_intron_groups.to_csv(input_dir+'diff_spliced_intron_groups_EN_RG.csv')\n",
    "\n",
    "diff_spl_introns = pd.read_csv(input_dir+ 'diff_spliced_introns_EN_RG.csv',index_col=0)\n",
    "diff_spl_intron_groups = pd.read_csv(input_dir+'diff_spliced_intron_groups_EN_RG.csv',index_col=0)"
   ]
  },
  {
   "cell_type": "code",
   "execution_count": null,
   "id": "c9e9b181-6dcf-4629-9d64-3a76d5c9314f",
   "metadata": {
    "tags": []
   },
   "outputs": [],
   "source": [
    "diff_spl_introns = pd.read_csv(input_dir+ 'diff_spliced_introns_all_equal.csv',index_col=0)\n",
    "diff_spl_intron_groups = pd.read_csv(input_dir+'diff_spliced_intron_groups_all_equal.csv',index_col=0)"
   ]
  },
  {
   "cell_type": "code",
   "execution_count": null,
   "id": "c9d4c970-3951-4fc0-8cc7-6d26d80e5445",
   "metadata": {
    "tags": []
   },
   "outputs": [],
   "source": [
    "# diff_spl_introns_ = pd.read_csv(input_dir+ 'pseudotime_diff_spliced_introns_all_equal.csv',index_col=0)\n",
    "# diff_spl_intron_groups_ = pd.read_csv(input_dir+'pseudotime_diff_spliced_intron_groups_all_equal.csv',index_col=0)"
   ]
  },
  {
   "cell_type": "code",
   "execution_count": null,
   "id": "cffde1f6-f5e1-40b6-aa5c-6dc68bca9054",
   "metadata": {},
   "outputs": [],
   "source": [
    "diff_spl_introns"
   ]
  },
  {
   "cell_type": "code",
   "execution_count": null,
   "id": "e992933d-304a-4a62-a603-7ade69dfaab4",
   "metadata": {
    "tags": []
   },
   "outputs": [],
   "source": [
    "sig_diff_spl_intron_groups = diff_spl_intron_groups.query('p_value_adj < 0.05')\n",
    "\n",
    "sig_diff_spl_introns = diff_spl_introns[diff_spl_introns.intron_group.isin(sig_diff_spl_intron_groups.name)]\n",
    "\n",
    "print(f'unique introns: {sig_diff_spl_introns[\"name\"].nunique()}')\n",
    "\n",
    "print(f'intron groups: {sig_diff_spl_intron_groups.shape}')\n"
   ]
  },
  {
   "cell_type": "code",
   "execution_count": null,
   "id": "0cafb9ee-27a0-47fe-8032-3d505c042eaa",
   "metadata": {},
   "outputs": [],
   "source": []
  },
  {
   "cell_type": "code",
   "execution_count": null,
   "id": "351fec5f-594d-4614-8786-a8ca4c76f0bc",
   "metadata": {
    "tags": []
   },
   "outputs": [],
   "source": [
    "# diff_spl_introns.to_csv(input_dir+'dif_RG_EN.csv')\n",
    "# diff_spl_intron_groups.to_csv(input_dir+'dif_intron_groups_RG_EN.csv')"
   ]
  },
  {
   "cell_type": "code",
   "execution_count": null,
   "id": "29b22e24-54bd-4cf5-a9e4-5b286a43386b",
   "metadata": {},
   "outputs": [],
   "source": []
  },
  {
   "cell_type": "code",
   "execution_count": null,
   "id": "cf6a14a5-7eab-4f6c-978e-2f6879a8facf",
   "metadata": {},
   "outputs": [],
   "source": [
    "# sig_diff_spl_introns.to_csv(input_dir+'sig_dif_RG_EN.csv')"
   ]
  },
  {
   "cell_type": "code",
   "execution_count": null,
   "id": "6237379b-5c99-481d-b3b6-91b59710de40",
   "metadata": {
    "tags": []
   },
   "outputs": [],
   "source": [
    "# sig_diff_spl_intron_groups.to_csv(input_dir+'sig_dif_intron_groups_RG_EN.csv')"
   ]
  },
  {
   "cell_type": "code",
   "execution_count": null,
   "id": "4bf609a3-522c-4934-8515-a577f2943785",
   "metadata": {
    "tags": []
   },
   "outputs": [],
   "source": [
    "input_dir"
   ]
  },
  {
   "cell_type": "code",
   "execution_count": null,
   "id": "470501ab-61eb-4bd8-acfa-c83e97b1620e",
   "metadata": {},
   "outputs": [],
   "source": [
    "\n",
    "# sig_dif = sig_diff_spl_introns[sig_diff_spl_introns.abs_delta_psi >= 0.1]\n",
    "#sig_dif = sig_diff_spl_introns[sig_diff_spl_introns.abs_delta_psi >= 0.15]"
   ]
  },
  {
   "cell_type": "code",
   "execution_count": null,
   "id": "035f8428-a9bc-4d74-96d2-64a2a243ba5f",
   "metadata": {
    "tags": []
   },
   "outputs": [],
   "source": []
  },
  {
   "cell_type": "code",
   "execution_count": null,
   "id": "417da0cc-4837-4792-943c-6bda47ce49f4",
   "metadata": {
    "tags": []
   },
   "outputs": [],
   "source": [
    "# sig_dif.to_csv('sig_dif_RG_EN.csv')"
   ]
  },
  {
   "cell_type": "code",
   "execution_count": null,
   "id": "1fdd28d3-a348-4439-a5fc-e3b3aa2f4d85",
   "metadata": {
    "tags": []
   },
   "outputs": [],
   "source": [
    "# unsig_dif = sig_diff_spl_introns[sig_diff_spl_introns.abs_delta_psi < 0.1]"
   ]
  },
  {
   "cell_type": "code",
   "execution_count": null,
   "id": "5c6d6b3c-ead5-414d-9922-44524ec4d971",
   "metadata": {
    "tags": []
   },
   "outputs": [],
   "source": [
    "# unsig_dif.to_csv('unsig_dif_RG_EN.csv')"
   ]
  },
  {
   "cell_type": "code",
   "execution_count": null,
   "id": "c51b6f31-467d-415a-9aed-d001672ed62e",
   "metadata": {
    "tags": []
   },
   "outputs": [],
   "source": [
    "adata_spl_ = adata_spl[:,sig_diff_spl_introns.name.unique()]\n",
    "adata_spl_.uns = adata_spl.uns"
   ]
  },
  {
   "cell_type": "code",
   "execution_count": null,
   "id": "79a5825f-f1e4-4683-9f8d-0a4f40d29bc6",
   "metadata": {
    "tags": []
   },
   "outputs": [],
   "source": [
    "adata_spl_.obs"
   ]
  },
  {
   "cell_type": "code",
   "execution_count": null,
   "id": "5cb399ba-384b-4d29-bbb0-38890f65e90a",
   "metadata": {
    "tags": []
   },
   "outputs": [],
   "source": [
    "adata_gene"
   ]
  },
  {
   "cell_type": "code",
   "execution_count": null,
   "id": "dfc499ca-98d0-440e-bd5d-67f27c7db854",
   "metadata": {
    "tags": []
   },
   "outputs": [],
   "source": []
  },
  {
   "cell_type": "code",
   "execution_count": null,
   "id": "6334a1d2-7ae7-40f2-93af-96b8f309a292",
   "metadata": {
    "tags": []
   },
   "outputs": [],
   "source": []
  },
  {
   "cell_type": "code",
   "execution_count": null,
   "id": "5fae0347-dca4-44a4-bdeb-6345b036494d",
   "metadata": {
    "tags": []
   },
   "outputs": [],
   "source": [
    "%%time\n",
    "#calculate PSI per batch separately for memory cap \n",
    "adatas_spl = {}\n",
    "\n",
    "adata_spl_.obs.batch = adata_spl_.obs.batch.astype('category')\n",
    "\n",
    "for batch in adata_spl_.obs.batch.cat.categories:\n",
    "    print(f'processing {batch}')\n",
    "    adata_batch = adata_spl_[adata_spl_.obs['batch'] == batch]\n",
    "    \n",
    "    adata_batch.layers[\"PSI_raw\"] = calculate_PSI(adata_batch, smooth = False)\n",
    "    \n",
    "    adatas_spl[batch] = adata_batch\n",
    "\n",
    "adata_spl_ = anndata.concat(adatas_spl, index_unique=\"-\", merge=\"same\")\n",
    "adata_spl_"
   ]
  },
  {
   "cell_type": "code",
   "execution_count": null,
   "id": "e6136d52-ce06-4e72-a34e-757c6916ac9c",
   "metadata": {
    "tags": []
   },
   "outputs": [],
   "source": [
    "dict(zip(adata_spl.obs.batch.cat.categories, ['GW16','GW16','GW17','GW21','GW21','GW23']))"
   ]
  },
  {
   "cell_type": "code",
   "execution_count": null,
   "id": "dd494d42-7189-435c-a91b-a95d876bf050",
   "metadata": {
    "tags": []
   },
   "outputs": [],
   "source": []
  },
  {
   "cell_type": "code",
   "execution_count": null,
   "id": "eee456a9-37bf-4a21-a83e-b5a9350bb806",
   "metadata": {
    "tags": []
   },
   "outputs": [],
   "source": [
    "adata_gene.obs['gestational_week'] = adata_gene.obs.batch.map(dict(zip(adata_gene.obs.batch.cat.categories, ['GW16','GW16','GW17','GW21','GW21','GW23'])))\n",
    "adata_spl_.obs['gestational_week'] = adata_spl_.obs.batch.map(dict(zip(adata_spl_.obs.batch.cat.categories, ['GW16','GW16','GW17','GW21','GW21','GW23'])))"
   ]
  },
  {
   "cell_type": "code",
   "execution_count": null,
   "id": "d8ac675e-9527-4564-b3e0-b2f952cf4d8a",
   "metadata": {
    "tags": []
   },
   "outputs": [],
   "source": [
    "adata_gene.write_h5ad(input_dir+'/UCSC_CB_scSLR_gene_exp.h5ad')\n",
    "adata_spl_.write_h5ad(input_dir+'/UCSC_CB_scSLR_spl.h5ad')"
   ]
  },
  {
   "cell_type": "code",
   "execution_count": null,
   "id": "d5a72433-6001-4d8a-80d5-1605a8abbe6b",
   "metadata": {
    "tags": []
   },
   "outputs": [],
   "source": [
    "adata_spl_.var"
   ]
  },
  {
   "cell_type": "code",
   "execution_count": null,
   "id": "8eea8e4b-31ee-4484-a103-5f2361eaa694",
   "metadata": {
    "tags": []
   },
   "outputs": [],
   "source": []
  },
  {
   "cell_type": "code",
   "execution_count": null,
   "id": "7bebd320-4fbc-4b79-8717-8e96547dc00e",
   "metadata": {},
   "outputs": [],
   "source": []
  },
  {
   "cell_type": "code",
   "execution_count": null,
   "id": "8505e5d8-ceae-434e-8cb7-ce8181da4907",
   "metadata": {},
   "outputs": [],
   "source": []
  },
  {
   "cell_type": "code",
   "execution_count": null,
   "id": "1e626aeb-e125-44f1-b16d-0ab7ea95ad8b",
   "metadata": {
    "tags": []
   },
   "outputs": [],
   "source": [
    "# adata_spl_.obs = adata_spl_.obs.rename({'C_scANVI_simple':'SCANVI_cell_types_simplified', \n",
    "#                       'C_scANVI':'SCANVI_cell_types'}, axis=1).drop('scANVI_simple', axis=1)\n",
    "\n",
    "\n",
    "adata_spl_.uns['SCANVI_cell_types_simplified_colors'] = adata_spl_.uns['C_scANVI_simple_colors']\n",
    "del adata_spl_.uns['C_scANVI_simple_colors']\n",
    "\n",
    "\n",
    "adata_spl_.uns['SCANVI_cell_types_simplified_colors'] = list(adata_spl_.uns['SCANVI_cell_types_simplified_colors'])"
   ]
  },
  {
   "cell_type": "code",
   "execution_count": null,
   "id": "0973562e-1e26-480f-87c5-51b75ed9e338",
   "metadata": {
    "tags": []
   },
   "outputs": [],
   "source": []
  },
  {
   "cell_type": "code",
   "execution_count": null,
   "id": "285549a0-1670-4442-901b-c64b68df8253",
   "metadata": {},
   "outputs": [],
   "source": [
    "addata_spl_."
   ]
  },
  {
   "cell_type": "code",
   "execution_count": null,
   "id": "b63dc201-0e54-4746-a936-e7444f709efc",
   "metadata": {},
   "outputs": [],
   "source": []
  },
  {
   "cell_type": "code",
   "execution_count": null,
   "id": "d78ea6c8-5c4f-4afb-8041-9eba6a45eaa7",
   "metadata": {},
   "outputs": [],
   "source": []
  },
  {
   "cell_type": "code",
   "execution_count": null,
   "id": "b481357f-ecf5-42f2-96b4-0689a1b14e19",
   "metadata": {
    "tags": []
   },
   "outputs": [],
   "source": [
    "# add Microglia back to groups_list\n",
    "groups_test = groups_test + ['Microglia']"
   ]
  },
  {
   "cell_type": "code",
   "execution_count": null,
   "id": "db9d3a57-f0c6-41e7-8098-d12ba2a3f9e6",
   "metadata": {
    "tags": []
   },
   "outputs": [],
   "source": [
    "# order = ['MGE-RG','MGE-IPC','OPC','Astrocyte','IPC-nEN','RG','nIN','IN-STR','EN-PFC','EN-V1','IN-CTX-CGE','IN-CTX-MGE','nEN']\n",
    "\n",
    "order = ['RG','MGE-RG','OPC','Astrocyte','MGE-IPC','IPC-nEN','nEN','nIN','IN-STR','EN-PFC','EN-V1','IN-CTX-CGE','IN-CTX-MGE', 'Microglia']\n",
    "\n",
    "# order = ['RG', 'MGE-RG', 'OPC', 'Astrocyte', 'MGE-IPC','IPC-nEN','nIN', 'nEN', 'IN-STR', 'EN-PFC', 'EN-V1', 'IN-CTX-CGE', 'IN-CTX-MGE'] "
   ]
  },
  {
   "cell_type": "code",
   "execution_count": null,
   "id": "4b1a556a-629b-4cca-b097-c416fbbc9312",
   "metadata": {
    "tags": []
   },
   "outputs": [],
   "source": [
    "'INTU_chr4:127623492-127643520'"
   ]
  },
  {
   "cell_type": "code",
   "execution_count": null,
   "id": "5b241006-6d1e-4dbf-944e-732f430bdfe1",
   "metadata": {},
   "outputs": [],
   "source": [
    "target = 'INTU_chr4:127623492-127643520'\n",
    "\n",
    "\n",
    "df_barplot = sc.get.obs_df(\n",
    "        adata_spl_[adata_spl_.obs['C_scANVI_simple'].isin( [i for i in groups_test if i not in ('Glyc')] )],\n",
    "        layer = 'PSI_raw',\n",
    "        keys=[\"C_scANVI_simple\", target]\n",
    "\n",
    "    )\n",
    "\n",
    "df_barplot = pd.DataFrame(\n",
    "    df_barplot.groupby('C_scANVI_simple')[target].mean()).T"
   ]
  },
  {
   "cell_type": "code",
   "execution_count": null,
   "id": "270d08f1-b0fc-4283-8859-29b90207522e",
   "metadata": {
    "tags": []
   },
   "outputs": [],
   "source": [
    "df_barplot.shape"
   ]
  },
  {
   "cell_type": "code",
   "execution_count": null,
   "id": "bd1bbaae-65cf-4050-aeec-43c7cb102516",
   "metadata": {},
   "outputs": [],
   "source": []
  },
  {
   "cell_type": "code",
   "execution_count": null,
   "id": "f4f6758c-6598-46e8-ba85-01cee07cbb10",
   "metadata": {
    "tags": []
   },
   "outputs": [],
   "source": [
    "sns.set(font_scale=1)\n",
    "sns.set_style('white')\n",
    "\n",
    "fig, ax = plt.subplots(1, 1, figsize=(2, 10))\n",
    "\n",
    "ax.legend([],frameon=False)\n",
    "\n",
    "\n",
    "ax.spines.right.set_visible(False)\n",
    "ax.spines.top.set_visible(False)\n",
    "\n",
    "ax.set_ylabel('')\n",
    "\n",
    "\n",
    "sns.barplot(data=df_barplot,\n",
    "            orient='h',\n",
    "            order=order,\n",
    "            color='powderblue',\n",
    "            width=0.9\n",
    "        )\n",
    "\n",
    "ax.set(yticklabels=[])\n",
    "ax.set(ylabel=None)\n",
    "\n",
    "ax.set_xlim(0,1)\n",
    "ax.set(xlabel='Mean ψ')\n",
    "\n",
    "ax.grid(visible=True, which ='both', axis='x')\n",
    "\n",
    "fig.savefig('./plots/INTU_PSI_bar.pdf')"
   ]
  },
  {
   "cell_type": "code",
   "execution_count": null,
   "id": "66e371c1-7ada-4568-84bf-4a1ef6238a4d",
   "metadata": {},
   "outputs": [],
   "source": []
  },
  {
   "cell_type": "code",
   "execution_count": null,
   "id": "16e2ab58-6cd6-4cd7-89ed-553359309c39",
   "metadata": {
    "tags": []
   },
   "outputs": [],
   "source": [
    "sns.set(font_scale=1)\n",
    "sns.set_style('white')\n",
    "\n",
    "fig, ax = plt.subplots(1, 1, figsize=(2, 10))\n",
    "\n",
    "ax.legend([],frameon=False)\n",
    "\n",
    "\n",
    "ax.spines.right.set_visible(False)\n",
    "ax.spines.top.set_visible(False)\n",
    "\n",
    "ax.set_ylabel('')\n",
    "\n",
    "\n",
    "sns.violinplot(data=KIF3A_exp,\n",
    "            orient='h',\n",
    "            order=order,\n",
    "            color='powderblue',\n",
    "            width=0.9\n",
    "        )\n",
    "\n",
    "ax.set(yticklabels=[])\n",
    "ax.set(ylabel=None)\n",
    "\n",
    "# ax.set_xlim(0,1)\n",
    "# ax.set(xlabel='Mean ψ')\n",
    "\n",
    "ax.grid(visible=True, which ='both', axis='x')"
   ]
  },
  {
   "cell_type": "code",
   "execution_count": null,
   "id": "2fb07fbd-bb2a-4a68-b675-172fd19d9d18",
   "metadata": {},
   "outputs": [],
   "source": []
  },
  {
   "cell_type": "code",
   "execution_count": null,
   "id": "9c327237-26f1-4f87-af15-c178f6d64a53",
   "metadata": {},
   "outputs": [],
   "source": []
  },
  {
   "cell_type": "code",
   "execution_count": null,
   "id": "6d305293-6c1d-464a-8cb1-e80b7bf5c01b",
   "metadata": {
    "tags": []
   },
   "outputs": [],
   "source": []
  },
  {
   "cell_type": "code",
   "execution_count": null,
   "id": "9f75bd24-e60d-4a00-b5fb-4f569a762590",
   "metadata": {},
   "outputs": [],
   "source": []
  },
  {
   "cell_type": "code",
   "execution_count": null,
   "id": "baad1833-85ea-4e65-9442-9df09cb9ba65",
   "metadata": {
    "tags": []
   },
   "outputs": [],
   "source": [
    "target = 'KIF3A_chr5:132708979-132710958'\n",
    "\n",
    "df = sc.get.obs_df(\n",
    "        adata_spl_[adata_spl_.obs['C_scANVI_simple'].isin( [i for i in groups_test if i not in ('Glyc', 'Microglia')] )],\n",
    "        layer = 'PSI_raw',\n",
    "        keys=[\"C_scANVI_simple\", target,]\n",
    "\n",
    "    )\n",
    "\n",
    "df = pd.DataFrame(\n",
    "    df.groupby('C_scANVI_simple')[target,].mean()).T"
   ]
  },
  {
   "cell_type": "code",
   "execution_count": null,
   "id": "e427f59e-559a-4fa1-ae13-e5777cdccf4e",
   "metadata": {
    "tags": []
   },
   "outputs": [],
   "source": [
    "order = ['RG',\n",
    " 'MGE-RG',\n",
    " 'OPC',\n",
    " 'Astrocyte',\n",
    " 'MGE-IPC',\n",
    " 'IPC-nEN',\n",
    " 'nEN',\n",
    " 'nIN',\n",
    " 'IN-STR',\n",
    " 'EN-PFC',\n",
    " 'EN-V1',\n",
    " 'IN-CTX-CGE',\n",
    " 'IN-CTX-MGE']"
   ]
  },
  {
   "cell_type": "code",
   "execution_count": null,
   "id": "78f9ec53-a040-49ae-a549-8966acc1ca43",
   "metadata": {
    "tags": []
   },
   "outputs": [],
   "source": [
    "sns.set(font_scale=1)\n",
    "sns.set_style('white')\n",
    "\n",
    "fig, ax = plt.subplots(1, 1, figsize=(2, 10))\n",
    "\n",
    "ax.legend([],frameon=False)\n",
    "\n",
    "\n",
    "ax.spines.right.set_visible(False)\n",
    "ax.spines.top.set_visible(False)\n",
    "\n",
    "ax.set_ylabel('')\n",
    "\n",
    "\n",
    "sns.barplot(data=df,\n",
    "            orient='h',\n",
    "            order=order,\n",
    "            color='powderblue',\n",
    "            width=0.9\n",
    "        )\n",
    "\n",
    "ax.set(yticklabels=[])\n",
    "ax.set(ylabel=None)\n",
    "\n",
    "ax.set_xlim(0,1)\n",
    "ax.set(xlabel='Mean ψ')\n",
    "\n",
    "ax.grid(visible=True, which ='both', axis='x')\n",
    "\n",
    "\n",
    "fig.savefig('./plots/INTU_PSI_bar.pdf')"
   ]
  },
  {
   "cell_type": "code",
   "execution_count": null,
   "id": "1e766335-2e2a-47e1-b8e1-a9006a01bb10",
   "metadata": {
    "tags": []
   },
   "outputs": [],
   "source": [
    "groups_test"
   ]
  },
  {
   "cell_type": "code",
   "execution_count": null,
   "id": "7df445fd-7a81-4618-b406-2bf777009480",
   "metadata": {
    "tags": []
   },
   "outputs": [],
   "source": [
    "%%time\n",
    "marker_introns = find_marker_introns(\n",
    "                                    diff_spl_intron_groups,\n",
    "                                    diff_spl_introns,\n",
    "                                    n=50,\n",
    "                                    max_p_value_adj=0.05,\n",
    "                                    min_delta_psi=0.2,\n",
    ")\n",
    "marker_introns = {c: marker_introns[c] for c in groups_test} # just reordering\n",
    "# marker_introns"
   ]
  },
  {
   "cell_type": "code",
   "execution_count": null,
   "id": "96ad6396-f90e-400f-b478-bcbeac522aa1",
   "metadata": {},
   "outputs": [],
   "source": [
    "[i for i in adata_spl_.var_names if i.startswith('SCRIB')]"
   ]
  },
  {
   "cell_type": "code",
   "execution_count": null,
   "id": "cfba4a63-bdac-485a-8237-444f95b416ad",
   "metadata": {},
   "outputs": [],
   "source": [
    "chr9_129915966_129915980_ENSG00000187239"
   ]
  },
  {
   "cell_type": "code",
   "execution_count": null,
   "id": "de3d2294-f9d6-421e-baab-5c595018e565",
   "metadata": {
    "tags": []
   },
   "outputs": [],
   "source": [
    "sc.pl.umap(adata_spl_,\n",
    "           # color= marker_introns['EN-V1'],\n",
    "           color=[i for i in adata_spl_.var_names if i.startswith('SCRIB')],\n",
    "           cmap='coolwarm',\n",
    "           vmax=1,\n",
    "           vmin=0,\n",
    "           size=100,\n",
    "           layer=\"PSI_raw\",\n",
    "           sort_order=True,\n",
    "           ncols=5\n",
    "          )"
   ]
  },
  {
   "cell_type": "code",
   "execution_count": null,
   "id": "46fcad75-5ddf-4ad5-8ac5-097c5afed272",
   "metadata": {
    "tags": []
   },
   "outputs": [],
   "source": [
    "marker_introns['EN-V1']"
   ]
  },
  {
   "cell_type": "code",
   "execution_count": null,
   "id": "f7b2c965-16c9-45d5-91ca-89c3cdcd4e42",
   "metadata": {
    "tags": []
   },
   "outputs": [],
   "source": []
  },
  {
   "cell_type": "code",
   "execution_count": null,
   "id": "b9d77bfc-db4a-4f4b-a75c-ad90236c41d3",
   "metadata": {
    "tags": []
   },
   "outputs": [],
   "source": []
  },
  {
   "cell_type": "code",
   "execution_count": null,
   "id": "58491c9e-89ec-44fa-841d-f885f5016b9f",
   "metadata": {
    "tags": []
   },
   "outputs": [],
   "source": [
    "import matplotlib.pyplot as plt\n",
    "\n",
    "#event =  'GOPC_chr6:117575353-117578899'\n",
    "#event = 'MTUS1_chr8:17715902-17723671'\n",
    "#event =  'DNM3_chr1:172093726-172131174'\n",
    "\n",
    "event='SCRIB_chr8:143791441-143791665'\n",
    "\n",
    "plt.rcParams.update({\n",
    "    \"figure.facecolor\":  (0.0, 0.0, 0.0, 0),  \n",
    "})\n",
    "\n",
    "fig,ax = plt.subplots(1,1, figsize=(5, 5))\n",
    "\n",
    "sc.pl.umap(adata_spl_,\n",
    "           color=event,\n",
    "           cmap='coolwarm',\n",
    "           vmax=1,\n",
    "           vmin=0,\n",
    "           size=50,\n",
    "           layer=\"PSI_raw\",\n",
    "           sort_order=False,\n",
    "           show=False,\n",
    "           ax=ax,\n",
    "           colorbar_loc=None,\n",
    "           \n",
    "          )\n",
    "\n",
    "sc.pl.umap(adata_spl_[~adata_spl_.to_df(layer='PSI_raw')[event].isna()],\n",
    "           color=event,\n",
    "           cmap='coolwarm',\n",
    "           vmax=1,\n",
    "           vmin=0,\n",
    "           size=120,\n",
    "           layer=\"PSI_raw\",\n",
    "           sort_order=False,\n",
    "           show=False,\n",
    "           ax=ax,\n",
    "           colorbar_loc=None,\n",
    "           \n",
    "          )\n",
    "\n",
    "# fig.savefig(f'./plots/{event}_PSI_umap.pdf')"
   ]
  },
  {
   "cell_type": "code",
   "execution_count": null,
   "id": "cae2e365-4b11-43fa-b399-7a31d7c99f06",
   "metadata": {
    "tags": []
   },
   "outputs": [],
   "source": [
    "fig,ax = plt.subplots(1,1, figsize=(5, 5))\n",
    "\n",
    "\n",
    "sc.pl.umap(adata_gene,\n",
    "          color=[#'C_scANVI_simple'\n",
    "              'INTU'\n",
    "                ],\n",
    "          #palette='Spectral_r',\n",
    "           size=50,\n",
    "           ncols=2,\n",
    "              vmax='p99.9',\n",
    "           cmap='viridis',\n",
    "           alpha=1,\n",
    "           layer='nb_sample',\n",
    "           ax=ax, \n",
    "           show=False,\n",
    "                      colorbar_loc=None,\n",
    "           \n",
    "           \n",
    "          )\n",
    "\n",
    "fig.savefig(f'./plots/INTU_exp_umap.pdf')"
   ]
  },
  {
   "cell_type": "code",
   "execution_count": null,
   "id": "45b6a26a-57db-473b-b486-aca48b0e7903",
   "metadata": {},
   "outputs": [],
   "source": []
  },
  {
   "cell_type": "code",
   "execution_count": null,
   "id": "9ac7a71f-1d1a-4428-bb89-b527859ef6ad",
   "metadata": {},
   "outputs": [],
   "source": []
  },
  {
   "cell_type": "code",
   "execution_count": null,
   "id": "28860bcd-dcbc-4aac-a437-930f6db1aeb9",
   "metadata": {},
   "outputs": [],
   "source": []
  },
  {
   "cell_type": "code",
   "execution_count": null,
   "id": "49c6ae47-4112-48d1-8b34-84d643a7955a",
   "metadata": {},
   "outputs": [],
   "source": []
  },
  {
   "cell_type": "code",
   "execution_count": null,
   "id": "6c451233-d41a-4e33-a36e-080ed8e92df3",
   "metadata": {},
   "outputs": [],
   "source": []
  },
  {
   "cell_type": "code",
   "execution_count": null,
   "id": "880d2b72-1565-4cde-af84-bb08f125c240",
   "metadata": {
    "tags": []
   },
   "outputs": [],
   "source": [
    "event[0]"
   ]
  },
  {
   "cell_type": "code",
   "execution_count": null,
   "id": "1ddd2a1f-5060-49d1-a56e-20efd960bd2e",
   "metadata": {
    "tags": []
   },
   "outputs": [],
   "source": [
    "adata_spl_[~adata_spl_.to_df(layer='PSI_raw')[event[0]].isna()]"
   ]
  },
  {
   "cell_type": "code",
   "execution_count": null,
   "id": "59ddb904-9b47-4b77-b658-da13736de1a3",
   "metadata": {
    "tags": []
   },
   "outputs": [],
   "source": []
  },
  {
   "cell_type": "code",
   "execution_count": null,
   "id": "5f602a08-be29-4a5d-924b-75903f0135e9",
   "metadata": {
    "tags": []
   },
   "outputs": [],
   "source": [
    "col_color_dict = dict(zip(adata_spl.obs.C_scANVI_simple.cat.categories,adata_spl.uns['C_scANVI_simple_colors']))\n",
    "\n",
    "col_color_dict_filtered = {key: col_color_dict[key] for key in groups_test}\n",
    "\n",
    "sns.palplot(col_color_dict_filtered.values())"
   ]
  },
  {
   "cell_type": "code",
   "execution_count": null,
   "id": "0eca3df3-eb04-4494-86e7-d615a4b34e4c",
   "metadata": {
    "tags": []
   },
   "outputs": [],
   "source": [
    "groups_test"
   ]
  },
  {
   "cell_type": "code",
   "execution_count": null,
   "id": "5cd41e07-8809-42d5-9630-599363cb4480",
   "metadata": {
    "tags": []
   },
   "outputs": [],
   "source": [
    "# adata_spl = adata_spl_bac.copy()"
   ]
  },
  {
   "cell_type": "code",
   "execution_count": null,
   "id": "b10d0054-31fd-47cf-a291-cf432c7c657e",
   "metadata": {
    "tags": []
   },
   "outputs": [],
   "source": [
    "# Number of significant events per cell type\n",
    "sns.set(font_scale=1)\n",
    "sns.set_style('white')\n",
    "\n",
    "fig, axes = plt.subplots(1, 2, figsize=(5, 10), sharey=True)\n",
    "\n",
    "celltype_anot = 'C_scANVI_simple'\n",
    "\n",
    "##cell type counts\n",
    "\n",
    "sns.countplot(adata_spl[adata_spl.obs.C_scANVI_simple.isin(groups_test)].obs,\n",
    "              y=celltype_anot, \n",
    "              hue=celltype_anot,\n",
    "              palette = col_color_dict_filtered,\n",
    "              saturation=1,\n",
    "              order=groups_test,\n",
    "              ax=axes[0],\n",
    "              **{'width':0.95},\n",
    "              dodge=False,\n",
    "             )\n",
    "\n",
    "#axes[0].set_xscale(\"log\")\n",
    "\n",
    "axes[0].set_title('cell counts \\n per celltype',fontsize=16)\n",
    "axes[0].legend([],frameon=False)\n",
    "axes[0].set_ylabel('')\n",
    "\n",
    "axes[0].spines.right.set_visible(False)\n",
    "axes[0].spines.top.set_visible(False)\n",
    "\n",
    "\n",
    "##number of DS events\n",
    "sns.countplot(sig_diff_spl_intron_groups,\n",
    "              y=\"test_group\",\n",
    "              hue=\"test_group\",\n",
    "              palette = col_color_dict_filtered,\n",
    "              saturation=1,\n",
    "              order=groups_test,\n",
    "              ax=axes[1],\n",
    "             **{'width':0.95},\n",
    "             dodge=False)\n",
    "\n",
    "axes[1].set_xscale(\"log\")\n",
    "\n",
    "axes[1].set_title('sig events \\n per celltype',fontsize=16)\n",
    "axes[1].legend([],frameon=False)\n",
    "axes[1].set_ylabel('')\n",
    "\n",
    "\n",
    "axes[1].spines.right.set_visible(False)\n",
    "axes[1].spines.top.set_visible(False)\n",
    "\n",
    "\n",
    "\n",
    "\n",
    "\n",
    "#fig.savefig(output_dir+'sig_events_percell.pdf',dpi=600)"
   ]
  },
  {
   "cell_type": "code",
   "execution_count": null,
   "id": "91150567-830e-4e50-8017-300fe6a73c18",
   "metadata": {
    "tags": []
   },
   "outputs": [],
   "source": []
  },
  {
   "cell_type": "code",
   "execution_count": null,
   "id": "cd91e142-acf9-42c4-8064-6ab82a6719c5",
   "metadata": {},
   "outputs": [],
   "source": []
  },
  {
   "cell_type": "code",
   "execution_count": null,
   "id": "eac5bd61-ad12-49d4-b084-09241354e85f",
   "metadata": {
    "tags": []
   },
   "outputs": [],
   "source": [
    "# Number of significant events per cell type\n",
    "sns.set(font_scale=1)\n",
    "sns.set_style('white')\n",
    "\n",
    "fig, axes = plt.subplots(1, 1, figsize=(5, 8))\n",
    "\n",
    "\n",
    "##number of DS events\n",
    "sns.countplot(sig_diff_spl_intron_groups[~sig_diff_spl_intron_groups.test_group.isin(['Microglia','Glyc'])],\n",
    "              y=\"test_group\",\n",
    "              hue=\"test_group\",\n",
    "              palette = col_color_dict_filtered,\n",
    "              saturation=1,\n",
    "            #  order=groups_test,\n",
    "              ax=axes,\n",
    "             **{'width':0.90},\n",
    "             dodge=False)\n",
    "\n",
    "axes.set_xscale(\"symlog\")\n",
    "axes.set_xlim(15,12000)\n",
    "#axes.set_xticks(range())\n",
    "\n",
    "#axes.set_title('sig events \\n per celltype',fontsize=16)\n",
    "axes.legend([],frameon=False)\n",
    "axes.set_ylabel('')\n",
    "\n",
    "axes.set_xlabel('significant splicing \\n events (Δψ > 0.1)',fontsize=18)\n",
    "axes.tick_params(axis='both', which='major', labelsize=16)\n",
    "\n",
    "axes.spines.right.set_visible(False)\n",
    "axes.spines.top.set_visible(False)\n",
    "\n",
    "# fig.savefig(output_dir+'sig_events_percell.pdf',dpi=600)"
   ]
  },
  {
   "cell_type": "code",
   "execution_count": null,
   "id": "e8cfa7e1-2f1d-42c5-9285-a2bebc5fcdae",
   "metadata": {},
   "outputs": [],
   "source": []
  },
  {
   "cell_type": "code",
   "execution_count": null,
   "id": "94c68d0a-372b-46d0-93bd-5210114bb47d",
   "metadata": {
    "tags": []
   },
   "outputs": [],
   "source": [
    "df = sig_diff_spl_intron_groups[~sig_diff_spl_intron_groups.test_group.isin(['Microglia','Glyc'])]"
   ]
  },
  {
   "cell_type": "code",
   "execution_count": null,
   "id": "2e41a8fa-7fad-4887-a6eb-aa5770fd89c7",
   "metadata": {
    "tags": []
   },
   "outputs": [],
   "source": [
    "df.head()"
   ]
  },
  {
   "cell_type": "code",
   "execution_count": null,
   "id": "870c7cb1-8fad-4a4c-b290-dfa7d21d1125",
   "metadata": {
    "tags": []
   },
   "outputs": [],
   "source": []
  },
  {
   "cell_type": "code",
   "execution_count": null,
   "id": "70f2072a-5bd5-464b-9180-c63e0cff2f87",
   "metadata": {
    "tags": []
   },
   "outputs": [],
   "source": []
  },
  {
   "cell_type": "code",
   "execution_count": null,
   "id": "5ba73fdb-dc7f-43fc-b929-a6dee86000cf",
   "metadata": {
    "tags": []
   },
   "outputs": [],
   "source": []
  },
  {
   "cell_type": "code",
   "execution_count": null,
   "id": "ddadcae6-d0b7-40a7-a69b-20fd74d31c3a",
   "metadata": {
    "tags": []
   },
   "outputs": [],
   "source": []
  },
  {
   "cell_type": "code",
   "execution_count": null,
   "id": "05f87759-b6d3-4447-b498-c32c0e2c0c05",
   "metadata": {
    "tags": []
   },
   "outputs": [],
   "source": [
    "# Number of significant events per cell type\n",
    "sns.set(font_scale=1)\n",
    "sns.set_style('white')\n",
    "\n",
    "fig, ax = plt.subplots(1, 1, figsize=(5, 8))\n",
    "\n",
    "sns.scatterplot(x=df.test_group.value_counts().reindex(groups_test[:-2]),\n",
    "                y=df['test_group'].unique().tolist(),\n",
    "                hue=df['test_group'].unique().tolist(),\n",
    "                palette=col_color_dict_filtered,\n",
    "                size = adata_spl_[adata_spl_.obs['C_scANVI_simple'].isin(groups_test[:-2])].obs['C_scANVI_simple'].value_counts().tolist(),\n",
    "                sizes=(100, 750),\n",
    "                \n",
    "           )\n",
    "\n",
    "ax.hlines(y=df['test_group'].unique(), \n",
    "          xmin=0,\n",
    "          xmax=df.test_group.value_counts().reindex(groups_test[:-2]), \n",
    "          color=pd.Series(col_color_dict_filtered.values()),#'grey', \n",
    "          alpha=0.4, \n",
    "          lw=4,\n",
    "          zorder=0\n",
    "         )\n",
    "\n",
    "\n",
    "\n",
    "handles, labels  =  ax.get_legend_handles_labels()\n",
    "\n",
    "\n",
    "ax.legend(handles[-6:][::2],labels[-6:][::2], loc='lower right', frameon=False, labelspacing=1.6, title='Number of \\n     cells'), #bbox_to_anchor=(1.01, 0.5))\n",
    "\n",
    "\n",
    "ax.set_xscale(\"symlog\")\n",
    "ax.set_xlim(15,12000)\n",
    "# ax.set_xticks(range())\n",
    "\n",
    "ax.set_ylabel('')\n",
    "\n",
    "ax.set_xlabel('Significant splicing \\n events (Δψ > 0.1)',fontsize=18)\n",
    "ax.tick_params(axis='both', which='major', labelsize=16)\n",
    "\n",
    "ax.spines.right.set_visible(False)\n",
    "ax.spines.top.set_visible(False)\n",
    "\n",
    "fig.savefig(output_dir+'sig_events_percell_lolipop.pdf',dpi=600)"
   ]
  },
  {
   "cell_type": "code",
   "execution_count": null,
   "id": "b3dfe91c-a645-4d34-aafd-bfc7e25713a4",
   "metadata": {},
   "outputs": [],
   "source": [
    "handles[-6:]"
   ]
  },
  {
   "cell_type": "code",
   "execution_count": null,
   "id": "ebfcea0f-eb1f-4870-b3d0-45ea924a99fb",
   "metadata": {
    "tags": []
   },
   "outputs": [],
   "source": [
    "intron_list = sig_diff_spl_introns.copy()\n"
   ]
  },
  {
   "cell_type": "code",
   "execution_count": null,
   "id": "caaeff7c-348b-4687-814f-9a6c0eed0e8e",
   "metadata": {
    "tags": []
   },
   "outputs": [],
   "source": [
    "%%time \n",
    "intron_list_ = []\n",
    "\n",
    "for intron_group in set(intron_list[intron_list.abs_lfc_psi >= 0.25].intron_group):\n",
    "\n",
    "    best_group = sig_diff_spl_intron_groups.loc[sig_diff_spl_intron_groups[sig_diff_spl_intron_groups.name == intron_group]['p_value'].idxmin()]['test_group']\n",
    "\n",
    "    subset = sig_diff_spl_introns[(sig_diff_spl_introns.intron_group == intron_group) & (sig_diff_spl_introns.test_group == best_group)]\n",
    "\n",
    "    intron = subset.loc[subset['abs_delta_psi'].idxmax()]['name']\n",
    "    #intron = subset.sample(n=1)['name'].values[0]\n",
    "\n",
    "    intron_list_.append(intron)"
   ]
  },
  {
   "cell_type": "code",
   "execution_count": null,
   "id": "1b4603f1-7d6b-422f-9747-39794ba8c49d",
   "metadata": {
    "tags": []
   },
   "outputs": [],
   "source": [
    "len(intron_list_)"
   ]
  },
  {
   "cell_type": "code",
   "execution_count": null,
   "id": "5a1d8482-84e9-40e4-ab8e-aa12fad7705f",
   "metadata": {
    "tags": []
   },
   "outputs": [],
   "source": []
  },
  {
   "cell_type": "code",
   "execution_count": null,
   "id": "3e925590-6e2d-4dbe-a927-65ccf58466e3",
   "metadata": {
    "tags": []
   },
   "outputs": [],
   "source": [
    "##exclude exclusion events.\n",
    "\n",
    "#intron_list = intron_list[intron_list.event_type != 'exclusion']"
   ]
  },
  {
   "cell_type": "code",
   "execution_count": null,
   "id": "9ce276a5-9930-49f5-9cb1-9574c15e8b43",
   "metadata": {
    "tags": []
   },
   "outputs": [],
   "source": [
    "groups_test.remove('Microglia')"
   ]
  },
  {
   "cell_type": "code",
   "execution_count": null,
   "id": "573a62f6-e670-460b-8726-997fdd859c24",
   "metadata": {
    "tags": []
   },
   "outputs": [],
   "source": [
    "genedf = sc.get.obs_df(\n",
    "        adata_spl_[adata_spl_.obs['C_scANVI_simple'].isin(groups_test)],\n",
    "        layer = 'PSI_raw',\n",
    "        keys=[\"C_scANVI_simple\", *intron_list[(intron_list['abs_delta_psi'] > 0.4)]['name'].tolist()]\n",
    "\n",
    "    )\n",
    "grouped = genedf.groupby(\"C_scANVI_simple\")\n",
    "mean, var = grouped.mean(), grouped.var()"
   ]
  },
  {
   "cell_type": "code",
   "execution_count": null,
   "id": "9d8a01f3-7d5a-4ed0-9311-c1fadfe39658",
   "metadata": {
    "tags": []
   },
   "outputs": [],
   "source": [
    "mean.shape"
   ]
  },
  {
   "cell_type": "code",
   "execution_count": null,
   "id": "786ebfbb-eff0-4ec8-9dfb-dd2a96d4b947",
   "metadata": {
    "tags": []
   },
   "outputs": [],
   "source": [
    "mean"
   ]
  },
  {
   "cell_type": "code",
   "execution_count": null,
   "id": "39e71eae-a278-4680-abb3-782749c52e07",
   "metadata": {
    "tags": []
   },
   "outputs": [],
   "source": [
    "mean_deduped = mean.T[~mean.T.duplicated()]#.T.fillna(0).T"
   ]
  },
  {
   "cell_type": "code",
   "execution_count": null,
   "id": "29c2f806-1917-45f5-b9cc-55e9198b3690",
   "metadata": {
    "tags": []
   },
   "outputs": [],
   "source": [
    "from scipy.stats import zscore"
   ]
  },
  {
   "cell_type": "code",
   "execution_count": null,
   "id": "735e1d9d-6990-4c03-a5d3-806e2f48fbff",
   "metadata": {
    "tags": []
   },
   "outputs": [],
   "source": [
    "mean_z = mean_deduped.fillna(0).apply(zscore,axis=0)"
   ]
  },
  {
   "cell_type": "markdown",
   "id": "d8700115-8936-48a1-a2e6-7254428e23e6",
   "metadata": {},
   "source": [
    "## define column colors"
   ]
  },
  {
   "cell_type": "code",
   "execution_count": null,
   "id": "88e2190b-2e40-4090-bc2a-406aeb09517e",
   "metadata": {
    "tags": []
   },
   "outputs": [],
   "source": [
    "mean_deduped_ = mean_deduped.fillna(0)"
   ]
  },
  {
   "cell_type": "code",
   "execution_count": null,
   "id": "51468259-6e22-4683-969d-209e9620dce4",
   "metadata": {},
   "outputs": [],
   "source": []
  },
  {
   "cell_type": "markdown",
   "id": "e06a9cf3-3f2b-4bb7-a597-35eda602abff",
   "metadata": {},
   "source": [
    "## define row colors"
   ]
  },
  {
   "cell_type": "code",
   "execution_count": null,
   "id": "94b0e759-7eb3-47bb-8c8f-2bdfe3586b7d",
   "metadata": {
    "tags": []
   },
   "outputs": [],
   "source": [
    "#annotation = pd.read_csv('annotated_introns.csv',index_col=0)"
   ]
  },
  {
   "cell_type": "code",
   "execution_count": null,
   "id": "f7b280e8-0f97-41a2-a559-eaab1cb9824c",
   "metadata": {
    "tags": []
   },
   "outputs": [],
   "source": [
    "#adata_spl.var['event_type'] = adata_spl.var.index.map(dict(zip(annotation['name'],annotation['event_type'])))"
   ]
  },
  {
   "cell_type": "code",
   "execution_count": null,
   "id": "bbd07850-41f0-415c-8589-64bc101c5108",
   "metadata": {
    "tags": []
   },
   "outputs": [],
   "source": [
    "#adata_spl.var['annotated'] = adata_spl.var.event_type.apply(lambda x: True if isinstance(x,str) \\\n",
    "#                                                else False )"
   ]
  },
  {
   "cell_type": "code",
   "execution_count": null,
   "id": "e8a468fa-90a4-4193-8a62-12f909216ff2",
   "metadata": {
    "tags": []
   },
   "outputs": [],
   "source": [
    "#row_color_dict = dict(zip(adata_spl.var.annotated.astype('category').cat.categories.astype(str),sns.color_palette(\"Greys_r\",n_colors=2)))"
   ]
  },
  {
   "cell_type": "code",
   "execution_count": null,
   "id": "afd3d597-2bef-4492-9137-41e00a03a551",
   "metadata": {
    "tags": []
   },
   "outputs": [],
   "source": [
    "#row_color_dict"
   ]
  },
  {
   "cell_type": "code",
   "execution_count": null,
   "id": "88455f3b-446a-4016-b35a-b95006508dbe",
   "metadata": {
    "tags": []
   },
   "outputs": [],
   "source": [
    "#sns.palplot(row_color_dict.values())"
   ]
  },
  {
   "cell_type": "code",
   "execution_count": null,
   "id": "52a4ff63-b014-4301-a093-182b5e4d8f05",
   "metadata": {
    "tags": []
   },
   "outputs": [],
   "source": [
    "#row_ID_dict = dict(zip(adata_spl.var.index,adata_spl.var['annotated'].astype(str).map(row_color_dict)))"
   ]
  },
  {
   "cell_type": "code",
   "execution_count": null,
   "id": "be4f995d-83e1-44e6-90ea-97dbe7130264",
   "metadata": {
    "tags": []
   },
   "outputs": [],
   "source": [
    "#h.ax_heatmap.get_yticklabels()"
   ]
  },
  {
   "cell_type": "code",
   "execution_count": null,
   "id": "3d1ec6a6-27fe-445b-8ec5-bf21cf91910e",
   "metadata": {
    "tags": []
   },
   "outputs": [],
   "source": [
    "h.ax_heatmap.get_xminorticklabels()\n"
   ]
  },
  {
   "cell_type": "code",
   "execution_count": null,
   "id": "c342d2c6-ffab-4a61-b72b-6d9cf328b960",
   "metadata": {
    "tags": []
   },
   "outputs": [],
   "source": [
    "%matplotlib inline\n",
    "sns.set(font_scale=1)\n",
    "\n",
    "cmap =  sns.color_palette('coolwarm', as_cmap=True).copy()\n",
    "cmap.set_bad(\"grey\")\n",
    "\n",
    "h = sns.clustermap(mean_z,\n",
    "           col_colors=mean_deduped.columns.map(col_color_dict_filtered),\n",
    "           cmap=cmap,\n",
    "        #   row_colors=mean_deduped.index.map(row_ID_dict),\n",
    "\n",
    "            colors_ratio=(.05,0.010),\n",
    "            # row_linkage=h.dendrogram_row.linkage,\n",
    "            # col_linkage=h.dendrogram_col.linkage,\n",
    "            # cmap=\"coolwarm\",\n",
    "            figsize=(2,12),\n",
    "            yticklabels=False,\n",
    "            metric='sqeuclidean',\n",
    "            mask=(np.isinf(mean_deduped) |  np.isnan(mean_deduped)),\n",
    "            dendrogram_ratio=(.0,.05),\n",
    "            cbar_pos=(1, .2, .2, .01),\n",
    "            cbar_kws={'orientation':'horizontal','label':'mean Ψ'},  \n",
    "            # tree_kws\n",
    "            xticklabels=1\n",
    "                  )\n",
    "\n",
    "\n",
    "\n",
    "h.ax_heatmap.set_xticklabels(h.ax_heatmap.get_xticklabels(), fontsize = 5,size = 5)\n",
    "plt.show()\n",
    "# h.ax_heatmap.set_yticklabels(\"\")\n",
    "#h.ax_heatmap.set_xticklabels(h.get_xticks(), size = 10)\n",
    "\n",
    "h.savefig('./plots/PSI_clustermap.pdf',dpi=600)"
   ]
  },
  {
   "cell_type": "code",
   "execution_count": null,
   "id": "f1d08d23-1e39-47f0-a845-e4dcc1cadd34",
   "metadata": {},
   "outputs": [],
   "source": []
  },
  {
   "cell_type": "markdown",
   "id": "09189d10-c9bd-4e08-bb22-1b679ecb303d",
   "metadata": {},
   "source": [
    "## plot gene expression"
   ]
  },
  {
   "cell_type": "code",
   "execution_count": null,
   "id": "302023e9-de0d-4508-a62f-bcd2ad90202a",
   "metadata": {
    "tags": []
   },
   "outputs": [],
   "source": [
    "adata_gene.obs"
   ]
  },
  {
   "cell_type": "code",
   "execution_count": null,
   "id": "f9b31c13-1797-41d8-8467-41dd9fc87412",
   "metadata": {},
   "outputs": [],
   "source": [
    "intron_list"
   ]
  },
  {
   "cell_type": "code",
   "execution_count": null,
   "id": "daf7a5ea-b9c9-4bec-bb4e-fceff02140b9",
   "metadata": {},
   "outputs": [],
   "source": [
    "genedf_genes = sc.get.obs_df(\n",
    "        adata_gene[adata_gene.obs['C_scANVI_simple'].isin(groups_test)],\n",
    "        layer = 'nb_sample',\n",
    "        keys=[\"C_scANVI_simple\", *intron_list[intron_list['abs_delta_psi'] > .4]['gene_name'].tolist()]\n",
    "    )\n",
    "grouped_genes = genedf_genes.groupby(\"C_scANVI_simple\")\n",
    "mean_genes, var_genes = grouped_genes.mean(), grouped_genes.var()"
   ]
  },
  {
   "cell_type": "code",
   "execution_count": null,
   "id": "980038eb-bcb0-48a3-8619-8947e52cb812",
   "metadata": {
    "tags": []
   },
   "outputs": [],
   "source": []
  },
  {
   "cell_type": "code",
   "execution_count": null,
   "id": "dd9f20b9-c81d-445a-ba82-b1561ec976b3",
   "metadata": {},
   "outputs": [],
   "source": [
    "mean_genes.shape"
   ]
  },
  {
   "cell_type": "code",
   "execution_count": null,
   "id": "df48a623-11dc-4c46-ac09-4d952746743f",
   "metadata": {},
   "outputs": [],
   "source": [
    "c = sns.clustermap(mean_genes.fillna(0).T,\n",
    "               cmap=\"viridis\",\n",
    "               figsize=(2,12),\n",
    "               yticklabels=False,\n",
    "          #     metric='euclidean',\n",
    "          #     mask=(np.isinf(mean) |  np.isnan(mean))\n",
    "          #     dendrogram_ratio=(0,0),\n",
    "               row_linkage=h.dendrogram_row.linkage,\n",
    "               col_linkage=h.dendrogram_col.linkage,\n",
    "               cbar_pos=(1.02, .2, .2, .01),\n",
    "               cbar_kws={'orientation':'horizontal','label':'mean\\nexpression'},\n",
    "                z_score=0,\n",
    "            #   standard_scale=1,\n",
    "                   # vmax=1,\n",
    "                   # vmin=-1\n",
    "                   xticklabels=1\n",
    "              )\n",
    "\n",
    "\n",
    "c.ax_heatmap.set_xticklabels(c.ax_heatmap.get_xticklabels(), fontsize = 5,size = 5)\n",
    "c.ax_row_dendrogram.set_visible(False)\n",
    "c.ax_col_dendrogram.set_visible(False)\n",
    "\n",
    "c.savefig('./plots/expression_clustermap.pdf',dpi=600)"
   ]
  },
  {
   "cell_type": "code",
   "execution_count": null,
   "id": "84f4229a-6015-443d-96ed-b816fde5639d",
   "metadata": {},
   "outputs": [],
   "source": []
  },
  {
   "cell_type": "code",
   "execution_count": null,
   "id": "e7d50712-77d3-4f00-8bdb-5834fd73c948",
   "metadata": {},
   "outputs": [],
   "source": []
  },
  {
   "cell_type": "code",
   "execution_count": null,
   "id": "e6fbab56-ac3e-4b8e-ad97-5409ae77d4a8",
   "metadata": {},
   "outputs": [],
   "source": []
  },
  {
   "cell_type": "code",
   "execution_count": null,
   "id": "48817f7e-f8c7-4674-bb15-55238960ba46",
   "metadata": {},
   "outputs": [],
   "source": [
    "!conda list"
   ]
  },
  {
   "cell_type": "code",
   "execution_count": null,
   "id": "a3fda39d-0014-43f6-9170-dde1ba3845e1",
   "metadata": {},
   "outputs": [],
   "source": []
  }
 ],
 "metadata": {
  "kernelspec": {
   "display_name": "Python 3 (ipykernel)",
   "language": "python",
   "name": "python3"
  },
  "language_info": {
   "codemirror_mode": {
    "name": "ipython",
    "version": 3
   },
   "file_extension": ".py",
   "mimetype": "text/x-python",
   "name": "python",
   "nbconvert_exporter": "python",
   "pygments_lexer": "ipython3",
   "version": "3.10.10"
  }
 },
 "nbformat": 4,
 "nbformat_minor": 5
}
