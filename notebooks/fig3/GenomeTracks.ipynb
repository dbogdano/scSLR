{
 "cells": [
  {
   "cell_type": "markdown",
   "id": "72c99825-af26-4fd9-acda-479cbff4a117",
   "metadata": {},
   "source": [
    "# Prenatal Brain Genome Tracks"
   ]
  },
  {
   "cell_type": "code",
   "execution_count": 1,
   "id": "a9875f72-f4cd-424b-8db4-28e23520fac6",
   "metadata": {},
   "outputs": [
    {
     "name": "stdout",
     "output_type": "stream",
     "text": [
      "Sun Oct 27 18:48:43 PDT 2024\n",
      "c4-dev3\n"
     ]
    }
   ],
   "source": [
    "!date; hostname"
   ]
  },
  {
   "cell_type": "code",
   "execution_count": 2,
   "id": "739d0a40-a86f-455d-8a23-48bda8867c59",
   "metadata": {},
   "outputs": [
    {
     "name": "stdout",
     "output_type": "stream",
     "text": [
      "/c4/home/derek/miniconda3/envs/pygenometracks\n"
     ]
    }
   ],
   "source": [
    "!echo $CONDA_PREFIX"
   ]
  },
  {
   "cell_type": "code",
   "execution_count": 3,
   "id": "1e85b882-fb8a-4232-944c-2e1d10fef9a0",
   "metadata": {},
   "outputs": [],
   "source": [
    "import os\n",
    "import subprocess\n",
    "#from pybiomart import Dataset\n",
    "from pygenometracks import tracks\n",
    "from IPython.display import Image"
   ]
  },
  {
   "cell_type": "code",
   "execution_count": 4,
   "id": "6e6f0846-04bd-4026-a6b3-c35cc175b194",
   "metadata": {},
   "outputs": [],
   "source": [
    "import pandas as pd\n",
    "import scanpy as sc\n",
    "import numpy as np\n",
    "import seaborn as sns\n",
    "\n",
    "import matplotlib.pyplot as plt"
   ]
  },
  {
   "cell_type": "code",
   "execution_count": 5,
   "id": "6788fb63-00ca-44dc-bacf-f683d3573545",
   "metadata": {
    "tags": []
   },
   "outputs": [],
   "source": [
    "# import sys\n",
    "# !{sys.executable} -m pip install pybiomart\n",
    "\n",
    "from pybiomart import Dataset"
   ]
  },
  {
   "cell_type": "code",
   "execution_count": null,
   "id": "49fb5b6a-79d6-448e-8cba-c7cb4527b4b4",
   "metadata": {},
   "outputs": [],
   "source": []
  },
  {
   "cell_type": "code",
   "execution_count": null,
   "id": "f8e585e3-21a8-47d2-8da3-973693e48887",
   "metadata": {},
   "outputs": [],
   "source": []
  },
  {
   "cell_type": "code",
   "execution_count": 6,
   "id": "30dbbfb4-ae74-4762-93d7-00ee5ec5ce9c",
   "metadata": {},
   "outputs": [],
   "source": [
    "os.makedirs('./sashimi_plots', exist_ok=True)"
   ]
  },
  {
   "cell_type": "code",
   "execution_count": 7,
   "id": "f60525c5-99df-403e-90a3-a0b997607286",
   "metadata": {},
   "outputs": [],
   "source": [
    "input_dir = '/c4/home/derek/data1/derek/data_scSLR/prenatal_brain/'"
   ]
  },
  {
   "cell_type": "code",
   "execution_count": 8,
   "id": "205fdf75-68b8-4c95-aea1-1bca8881c1e2",
   "metadata": {},
   "outputs": [],
   "source": [
    "# diff_spl_introns = pd.read_csv(input_dir+'diff_introns_T4.csv')"
   ]
  },
  {
   "cell_type": "code",
   "execution_count": 9,
   "id": "65a4fee2-f0c5-4d7c-85e6-fd6e48fcc806",
   "metadata": {},
   "outputs": [],
   "source": [
    "# diff_spl_intron_groups = pd.read_csv(input_dir+'diff_intron_groups_T4.csv')"
   ]
  },
  {
   "cell_type": "code",
   "execution_count": null,
   "id": "7438e547-0d3b-443c-8ac0-402951e871e0",
   "metadata": {},
   "outputs": [],
   "source": []
  },
  {
   "cell_type": "code",
   "execution_count": 10,
   "id": "35ee41ca-1333-4c2f-a130-dafbfdfa6190",
   "metadata": {},
   "outputs": [],
   "source": [
    "adata_gene = sc.read_h5ad(input_dir+'scANVI_label.h5ad')"
   ]
  },
  {
   "cell_type": "code",
   "execution_count": 11,
   "id": "47c1c2e7-9fbc-4b1e-8f6f-1e04da6eaefb",
   "metadata": {},
   "outputs": [
    {
     "data": {
      "text/plain": [
       "{'Astrocyte': 'Astrocyte',\n",
       " 'EN-PFC': 'EN-PFC',\n",
       " 'EN-V1': 'EN-V1',\n",
       " 'Endothelial': 'Endothelial',\n",
       " 'Glyc': 'Glyc',\n",
       " 'IN-CTX-CGE': 'IN-CTX-CGE',\n",
       " 'IN-CTX-MGE': 'IN-CTX-MGE',\n",
       " 'IN-STR': 'IN-STR',\n",
       " 'IPC-div': 'IPC-div',\n",
       " 'IPC-nEN': 'IPC-nEN',\n",
       " 'MGE-IPC': 'MGE-IPC',\n",
       " 'MGE-RG': 'MGE-RG',\n",
       " 'MGE-div': 'MGE-div',\n",
       " 'Microglia': 'Microglia',\n",
       " 'Mural': 'Mural',\n",
       " 'OPC': 'OPC',\n",
       " 'RG': 'RG',\n",
       " 'RG-div': 'RG-div',\n",
       " 'RBC': 'RBC',\n",
       " 'nEN': 'nEN',\n",
       " 'nIN': 'nIN'}"
      ]
     },
     "execution_count": 11,
     "metadata": {},
     "output_type": "execute_result"
    }
   ],
   "source": [
    "cat_list = adata_gene.obs.C_scANVI_simple.cat.categories.tolist()\n",
    "dict(zip(cat_list, cat_list))"
   ]
  },
  {
   "cell_type": "code",
   "execution_count": 12,
   "id": "c487417c-372c-429d-a26f-f82a66a662e5",
   "metadata": {},
   "outputs": [],
   "source": [
    "simplify_dict = {'Astrocyte': 'Astrocyte',\n",
    " 'EN-PFC': 'EN-PFC',\n",
    " 'EN-V1': 'EN-V1',\n",
    " 'Endothelial': 'Endothelial',\n",
    " 'Glyc': 'Glyc',\n",
    " 'IN-CTX-CGE': 'IN-CTX-CGE',\n",
    " 'IN-CTX-MGE': 'IN-CTX-MGE',\n",
    " 'IN-STR': 'IN-STR',\n",
    " 'IPC-div': 'IPC-nEN',\n",
    " 'IPC-nEN': 'IPC-nEN',\n",
    " 'MGE-IPC': 'MGE-IPC',\n",
    " 'MGE-RG': 'MGE-RG',\n",
    " 'MGE-div': 'MGE-RG',\n",
    " 'Microglia': 'Microglia',\n",
    " 'Mural': 'Mural',\n",
    " 'OPC': 'OPC',\n",
    " 'RG': 'RG',\n",
    " 'RG-div': 'RG',\n",
    " 'RBC': 'RBC',\n",
    " 'nEN': 'nEN',\n",
    " 'nIN': 'nIN'}"
   ]
  },
  {
   "cell_type": "code",
   "execution_count": 13,
   "id": "4cd605e3-bc86-468f-8575-dce62c0eed8a",
   "metadata": {},
   "outputs": [],
   "source": [
    "adata_gene.obs['C_scANVI_simple'] = adata_gene.obs.C_scANVI_simple.map(simplify_dict)"
   ]
  },
  {
   "cell_type": "code",
   "execution_count": 14,
   "id": "13667258-6d84-45f7-8da0-fac1daf70b30",
   "metadata": {},
   "outputs": [],
   "source": [
    "##fix celltype palette \n",
    "\n",
    "cmap = pd.read_csv('celltype_colors.csv')\n",
    "\n",
    "cmap['celltype_simple'] = cmap['0'].map(simplify_dict)\n",
    "\n",
    "cmap = cmap.drop_duplicates(subset='celltype_simple',keep='first')\n",
    "\n",
    "cmap.loc[16], cmap.loc[18] =  cmap.loc[18].copy(), cmap.loc[16].copy()\n",
    "\n",
    "adata_gene.uns['C_scANVI_simple_colors'] = cmap['1']"
   ]
  },
  {
   "cell_type": "code",
   "execution_count": null,
   "id": "b14a9463-10af-4c1d-85e0-07e333d0e358",
   "metadata": {},
   "outputs": [],
   "source": []
  },
  {
   "cell_type": "code",
   "execution_count": null,
   "id": "3171a633-3d79-4399-a738-f08548859fd5",
   "metadata": {},
   "outputs": [],
   "source": []
  },
  {
   "cell_type": "code",
   "execution_count": null,
   "id": "0370cf03-1a43-45b3-b298-2a99a047dd89",
   "metadata": {},
   "outputs": [],
   "source": []
  },
  {
   "cell_type": "code",
   "execution_count": 15,
   "id": "386c9c9d-93f7-445d-a542-14fef74d06ca",
   "metadata": {
    "tags": []
   },
   "outputs": [
    {
     "name": "stderr",
     "output_type": "stream",
     "text": [
      "... storing 'C_scANVI_simple' as categorical\n"
     ]
    },
    {
     "data": {
      "image/png": "[encoded data removed]",
      "text/plain": [
       "<Figure size 400x400 with 1 Axes>"
      ]
     },
     "metadata": {},
     "output_type": "display_data"
    }
   ],
   "source": [
    "plt.rcParams['figure.figsize'] = 4,4\n",
    "sc.pl.umap(adata_gene,\n",
    "          color='C_scANVI_simple',\n",
    "           size=15,\n",
    "           frameon=False\n",
    "          )"
   ]
  },
  {
   "cell_type": "code",
   "execution_count": 16,
   "id": "4531e895-20fd-40b2-989b-6862c0b834b8",
   "metadata": {},
   "outputs": [],
   "source": [
    "groups_test = adata_gene.obs['C_scANVI_simple'].value_counts()[:15].index.values.astype(str).tolist()"
   ]
  },
  {
   "cell_type": "code",
   "execution_count": 17,
   "id": "6661db82-38a2-4d67-8c6c-b307e1759450",
   "metadata": {},
   "outputs": [
    {
     "data": {
      "image/png": "[encoded data removed]",
      "text/plain": [
       "<Figure size 1800x100 with 1 Axes>"
      ]
     },
     "metadata": {},
     "output_type": "display_data"
    }
   ],
   "source": [
    "sns.palplot(adata_gene.uns['C_scANVI_simple_colors'])"
   ]
  },
  {
   "cell_type": "code",
   "execution_count": 18,
   "id": "c8f38e7e-217f-47df-8547-d5843c806c90",
   "metadata": {},
   "outputs": [],
   "source": [
    "# exp_layer = sc.read_h5ad('exp_layers_annot.h5ad')\n",
    "\n",
    "# exp_layer = exp_layer[exp_layer.obs_names.isin(adata_gene.obs_names)]\n",
    "\n",
    "# adata_gene.layers['nb_sample'] = exp_layer.layers['nb_sample']"
   ]
  },
  {
   "cell_type": "code",
   "execution_count": null,
   "id": "95fdff47-3be7-4d5f-a5ac-969045843c7a",
   "metadata": {},
   "outputs": [],
   "source": []
  },
  {
   "cell_type": "code",
   "execution_count": null,
   "id": "0dab91a7-1ecf-4fa4-a797-b5d5c4c854d0",
   "metadata": {},
   "outputs": [],
   "source": []
  },
  {
   "cell_type": "code",
   "execution_count": 193,
   "id": "2b86f8b3-c70e-4569-bc20-2c34964e7c78",
   "metadata": {},
   "outputs": [],
   "source": [
    "# sig_diff_spl_intron_groups = pd.read_csv(input_dir+'diff_spliced_intron_groups_all_3prime_bias.csv',index_col=0) \n",
    "# sig_diff_spl_introns = pd.read_csv(input_dir+'diff_spliced_introns_all_3prime_bias.csv',index_col=0)\n",
    "\n",
    "\n"
   ]
  },
  {
   "cell_type": "code",
   "execution_count": 194,
   "id": "3ab34fe0-2742-4e81-b680-8b1047b227ee",
   "metadata": {},
   "outputs": [],
   "source": [
    "diff_spl_introns = pd.read_csv(input_dir+ 'diff_spliced_introns_all_equal.csv',index_col=0)\n",
    "diff_spl_intron_groups = pd.read_csv(input_dir+'diff_spliced_intron_groups_all_equal.csv',index_col=0)"
   ]
  },
  {
   "cell_type": "code",
   "execution_count": 195,
   "id": "182d7cc9-ad5e-42d3-896c-1e394dc0abc8",
   "metadata": {},
   "outputs": [],
   "source": [
    "sig_diff_spl_intron_groups = pd.read_csv(\"./sig_diff_spliced_intron_groups.csv\",index_col=0)\n",
    "sig_diff_spl_introns = pd.read_csv(\"./sig_diff_spliced_introns_annotated.csv\",index_col=0)"
   ]
  },
  {
   "cell_type": "code",
   "execution_count": 196,
   "id": "28639edd-f90e-40ac-bbff-615f4ddf151b",
   "metadata": {},
   "outputs": [],
   "source": [
    "# sig_diff_spl_introns.event_type.unique()"
   ]
  },
  {
   "cell_type": "code",
   "execution_count": 197,
   "id": "aa8a1e58-05a2-460f-8bd0-d7070b1c5c49",
   "metadata": {
    "tags": []
   },
   "outputs": [],
   "source": [
    "# sig_diff_spl_introns[sig_diff_spl_introns.event_type == 'MXE'].head(60)"
   ]
  },
  {
   "cell_type": "code",
   "execution_count": 198,
   "id": "ca734961-30f9-474c-8bde-7d5e960f3ada",
   "metadata": {},
   "outputs": [
    {
     "data": {
      "text/plain": [
       "array(['CAST_chr5:96722699-96726753', 'CAST_chr5:96722699-96726793',\n",
       "       'CAST_chr5:96722699-96727488', 'CAST_chr5:96727531-96729152',\n",
       "       'CAST_chr5:96727531-96729611'], dtype=object)"
      ]
     },
     "execution_count": 198,
     "metadata": {},
     "output_type": "execute_result"
    }
   ],
   "source": [
    "sig_diff_spl_introns[sig_diff_spl_introns.gene_name == 'CAST'].name.unique()"
   ]
  },
  {
   "cell_type": "code",
   "execution_count": 199,
   "id": "011a50cf-816d-456e-9700-e8461e0361e9",
   "metadata": {},
   "outputs": [
    {
     "data": {
      "text/plain": [
       "{'CAST'}"
      ]
     },
     "execution_count": 199,
     "metadata": {},
     "output_type": "execute_result"
    }
   ],
   "source": [
    "set([i for i in list(sig_diff_spl_introns.gene_name) if i.startswith('CAST')])"
   ]
  },
  {
   "cell_type": "code",
   "execution_count": 200,
   "id": "db3ccc52-40bb-43a0-a1bb-4616fc1968bc",
   "metadata": {},
   "outputs": [],
   "source": [
    "# sashimi_introns =sig_diff_spl_introns[(\n",
    "#     sig_diff_spl_introns.gene_name == 'DNM3') & \n",
    "#     (sig_diff_spl_introns.n_cells >= 0)]\n",
    "\n",
    "\n",
    "sashimi_introns =diff_spl_introns[(\n",
    "    diff_spl_introns.gene_name == 'CAST') &  \n",
    "    (diff_spl_introns.n_cells >= 0)]\n"
   ]
  },
  {
   "cell_type": "code",
   "execution_count": 201,
   "id": "dfc175ae-3a34-4338-b583-0a6777ca35db",
   "metadata": {},
   "outputs": [
    {
     "data": {
      "text/plain": [
       "21074     CAST_chr5_96722638_+\n",
       "21075     CAST_chr5_96722638_+\n",
       "49045     CAST_chr5_96722699_+\n",
       "49046     CAST_chr5_96722699_+\n",
       "49047     CAST_chr5_96722699_+\n",
       "                  ...         \n",
       "535541    CAST_chr5_96722638_+\n",
       "535542    CAST_chr5_96722638_+\n",
       "540765    CAST_chr5_96722699_+\n",
       "540766    CAST_chr5_96722699_+\n",
       "540767    CAST_chr5_96722699_+\n",
       "Name: intron_group, Length: 78, dtype: object"
      ]
     },
     "execution_count": 201,
     "metadata": {},
     "output_type": "execute_result"
    }
   ],
   "source": [
    "sashimi_introns['intron_group']"
   ]
  },
  {
   "cell_type": "code",
   "execution_count": null,
   "id": "ef7ecaa3-4f49-4c52-9fd6-05f6c2eceda4",
   "metadata": {},
   "outputs": [],
   "source": []
  },
  {
   "cell_type": "code",
   "execution_count": 202,
   "id": "9b189e5a-e031-45a9-bacf-a95b3e831c7f",
   "metadata": {},
   "outputs": [],
   "source": [
    "intron_group = sashimi_introns['intron_group']"
   ]
  },
  {
   "cell_type": "code",
   "execution_count": 203,
   "id": "fe7fe335-8d24-4a2c-9b92-02bcc972b955",
   "metadata": {},
   "outputs": [
    {
     "data": {
      "text/plain": [
       "array(['CAST_chr5_96722638_+', 'CAST_chr5_96722699_+',\n",
       "       'CAST_chr5_96727531_+'], dtype=object)"
      ]
     },
     "execution_count": 203,
     "metadata": {},
     "output_type": "execute_result"
    }
   ],
   "source": [
    "intron_group.unique()"
   ]
  },
  {
   "cell_type": "code",
   "execution_count": null,
   "id": "cf822472-891b-4c51-a6ac-4a908637f18b",
   "metadata": {},
   "outputs": [],
   "source": []
  },
  {
   "cell_type": "code",
   "execution_count": 204,
   "id": "e024d756-e4a0-4ab9-bb1d-d6ace432523b",
   "metadata": {},
   "outputs": [],
   "source": [
    "# sashimi_introns = sashimi_introns[sashimi_introns.intron_group == 'ADD3_chr10_110133325_+']\n",
    "# intron_group = 'ADD3_chr10_110133325_+'\n",
    "\n",
    "# sashimi_introns = sashimi_introns[sashimi_introns.intron_group == 'KIF3A_chr5_132703620_-']\n",
    "# intron_group = 'KIF3A_chr5_132703620_-'\n",
    "\n",
    "sashimi_introns = sashimi_introns[sashimi_introns.intron_group == intron_group.unique()[2]]\n",
    "intron_group = intron_group.unique()[2]\n",
    "\n"
   ]
  },
  {
   "cell_type": "code",
   "execution_count": 205,
   "id": "972de39c-f60d-4cd0-a61b-6f0f2c5f7b24",
   "metadata": {},
   "outputs": [
    {
     "data": {
      "text/plain": [
       "array(['CAST_chr5_96727531_+'], dtype=object)"
      ]
     },
     "execution_count": 205,
     "metadata": {},
     "output_type": "execute_result"
    }
   ],
   "source": [
    "sashimi_introns['intron_group'].unique()"
   ]
  },
  {
   "cell_type": "code",
   "execution_count": 206,
   "id": "45c356ff-dd2b-4d3f-98c5-52118539717e",
   "metadata": {},
   "outputs": [],
   "source": [
    "link_files=[]\n",
    "\n",
    "starts=list()\n",
    "ends=list()\n",
    "\n",
    "for name in groups_test:\n",
    "    if name in sashimi_introns.test_group.unique():\n",
    "        \n",
    "        link_files.append(name)\n",
    "\n",
    "        sashimi_introns_ = sashimi_introns[sashimi_introns.test_group == name]\n",
    "\n",
    "        number_introns = len(sashimi_introns_) #sashimi_introns_.iloc[[0]].intron_group_size.values[0]\n",
    "\n",
    "        os.makedirs(f\"./sashimi_plots/{intron_group}/\",exist_ok=True)\n",
    "\n",
    "        f = open(f\"./sashimi_plots/{intron_group}/link_{name}.txt\", \"w+\")\n",
    "\n",
    "        for intron in range(number_introns):\n",
    "            f.write(str(sashimi_introns_.iloc[[intron]]['chromosome'].values[0])+'\\t'\n",
    "                    +str(sashimi_introns_.iloc[[intron]]['start'].values[0])+'\\t'\n",
    "                    +str(sashimi_introns_.iloc[[intron]]['start'].values[0])+'\\t'\n",
    "                    +str(sashimi_introns_.iloc[[intron]]['chromosome'].values[0])+'\\t'\n",
    "                    +str(sashimi_introns_.iloc[[intron]]['end'].values[0])+'\\t'\n",
    "                    +str(sashimi_introns_.iloc[[intron]]['end'].values[0])+'\\t'\n",
    "                    +str(sashimi_introns_.iloc[[intron]]['psi_a'].values[0])+'\\n'\n",
    "                   )\n",
    "            starts.append(sashimi_introns_.iloc[[intron]]['start'].values[0])\n",
    "            ends.append(sashimi_introns_.iloc[[intron]]['end'].values[0])\n",
    "            chrom = str(sashimi_introns_.iloc[[intron]]['chromosome'].values[0])\n",
    "    else:\n",
    "        \n",
    "        link_files.append(name)\n",
    "\n",
    "        sashimi_introns_ = sashimi_introns.iloc[0]\n",
    "\n",
    "        number_introns = 1 #len(sashimi_introns_) #sashimi_introns_.iloc[[0]].intron_group_size.values[0]\n",
    "\n",
    "        os.makedirs(f\"./sashimi_plots/{intron_group}/\",exist_ok=True)\n",
    "\n",
    "        f = open(f\"./sashimi_plots/{intron_group}/link_{name}.txt\", \"w+\")\n",
    "\n",
    "        # for intron in range(number_introns):\n",
    "        f.write(str(sashimi_introns_['chromosome'])+'\\t'\n",
    "                +str(sashimi_introns_['start'])+'\\t'\n",
    "                +str(sashimi_introns_['start'])+'\\t'\n",
    "                +str(sashimi_introns_['chromosome'])+'\\t'\n",
    "                +str(sashimi_introns_['end'])+'\\t'\n",
    "                +str(sashimi_introns_['end'])+'\\t'\n",
    "                +str(0)+'\\n'\n",
    "               )\n",
    "        starts.append(sashimi_introns_['start'])\n",
    "        ends.append(sashimi_introns_['end'])\n",
    "        chrom = str(sashimi_introns_['chromosome'])\n",
    "            \n",
    "    f.close()"
   ]
  },
  {
   "cell_type": "code",
   "execution_count": null,
   "id": "d92f33f3-99b6-496b-851b-a5c05974a8f7",
   "metadata": {},
   "outputs": [],
   "source": []
  },
  {
   "cell_type": "code",
   "execution_count": 207,
   "id": "031941be-cb1b-406a-a5c7-4e46ba95e078",
   "metadata": {},
   "outputs": [],
   "source": [
    "# intron_group = 'DNM3_chr1_172131174_+'"
   ]
  },
  {
   "cell_type": "code",
   "execution_count": 208,
   "id": "44de14ae-bb49-40c8-a301-3e57a03c7a0c",
   "metadata": {},
   "outputs": [
    {
     "data": {
      "image/png": "[encoded data removed]",
      "text/plain": [
       "<Figure size 1800x100 with 1 Axes>"
      ]
     },
     "metadata": {},
     "output_type": "display_data"
    }
   ],
   "source": [
    "col_color_dict = dict(zip(adata_gene.obs.C_scANVI_simple.cat.categories,adata_gene.uns['C_scANVI_simple_colors']))\n",
    "\n",
    "#col_color_dict_filtered = {key: col_color_dict[key] for key in mean_deduped.columns.tolist()}\n",
    "\n",
    "sns.palplot(col_color_dict.values())\n",
    "\n"
   ]
  },
  {
   "cell_type": "code",
   "execution_count": 209,
   "id": "209572be-18ae-4c5f-9464-f9573ccdb1cf",
   "metadata": {},
   "outputs": [
    {
     "data": {
      "text/plain": [
       "{'Astrocyte': '#e87b22',\n",
       " 'EN-PFC': '#5d69b1',\n",
       " 'EN-V1': '#2f8ac4',\n",
       " 'Endothelial': '#d9d9d9',\n",
       " 'Glyc': '#24796c',\n",
       " 'IN-CTX-CGE': '#338f7e',\n",
       " 'IN-CTX-MGE': '#43a691',\n",
       " 'IN-STR': '#52bca3',\n",
       " 'IPC-nEN': '#cc61b0',\n",
       " 'MGE-IPC': '#daa51b',\n",
       " 'MGE-RG': '#e09610',\n",
       " 'Microglia': '#bdbdbd',\n",
       " 'Mural': '#969696',\n",
       " 'OPC': '#eb6c45',\n",
       " 'RBC': '#737373',\n",
       " 'RG': '#e26377',\n",
       " 'nEN': '#764e9f',\n",
       " 'nIN': '#99c945'}"
      ]
     },
     "execution_count": 209,
     "metadata": {},
     "output_type": "execute_result"
    }
   ],
   "source": [
    "col_color_dict"
   ]
  },
  {
   "cell_type": "code",
   "execution_count": 210,
   "id": "373b7ba8-327f-4602-a4c6-31704a39a7dc",
   "metadata": {},
   "outputs": [],
   "source": [
    "# link_files_ = ['EN-V1','Astrocyte']\n",
    "\n",
    "link_files_ = link_files"
   ]
  },
  {
   "cell_type": "code",
   "execution_count": 211,
   "id": "a9437eb5-bb39-4b92-bc53-585ddb7f5eff",
   "metadata": {},
   "outputs": [],
   "source": [
    "# order = ['RG','MGE-RG',\n",
    "#           'OPC',\n",
    "#          'Astrocyte',\n",
    "#            'MGE-IPC',\n",
    "#          'IPC-nEN','nEN',\n",
    "#          'nIN',\n",
    "#          'IN-STR','EN-PFC','EN-V1','IN-CTX-CGE','IN-CTX-MGE',\n",
    "#         'Microglia']\n",
    "\n",
    "order = ['RG', 'MGE-RG', 'OPC', 'Astrocyte', 'MGE-IPC','IPC-nEN','nIN', 'nEN', 'IN-STR', 'EN-PFC', 'EN-V1', 'IN-CTX-CGE', 'IN-CTX-MGE'] \n",
    "\n",
    "order = ['RG', 'MGE-RG', 'OPC', 'Astrocyte', 'MGE-IPC','IPC-nEN','nIN', 'nEN', 'IN-STR', 'EN-PFC', 'EN-V1', 'IN-CTX-CGE', 'IN-CTX-MGE'] \n",
    "\n",
    "order = ['EN-V1', 'RG']"
   ]
  },
  {
   "cell_type": "code",
   "execution_count": null,
   "id": "9aba4cc3-ff1e-4b2a-9caf-0fa77bb69dd9",
   "metadata": {},
   "outputs": [],
   "source": []
  },
  {
   "cell_type": "code",
   "execution_count": 212,
   "id": "855eb47e-2ee6-4bb1-8703-ad94d8a2afab",
   "metadata": {},
   "outputs": [
    {
     "data": {
      "text/plain": [
       "['EN-V1',\n",
       " 'nEN',\n",
       " 'EN-PFC',\n",
       " 'IN-CTX-MGE',\n",
       " 'IPC-nEN',\n",
       " 'IN-CTX-CGE',\n",
       " 'RG',\n",
       " 'IN-STR',\n",
       " 'nIN',\n",
       " 'MGE-IPC',\n",
       " 'OPC',\n",
       " 'Astrocyte',\n",
       " 'MGE-RG',\n",
       " 'Glyc',\n",
       " 'Microglia']"
      ]
     },
     "execution_count": 212,
     "metadata": {},
     "output_type": "execute_result"
    }
   ],
   "source": [
    "link_files"
   ]
  },
  {
   "cell_type": "code",
   "execution_count": 213,
   "id": "c38b0a40-d187-4788-a5fc-182ea02dbc22",
   "metadata": {},
   "outputs": [],
   "source": [
    "link_files_ = order\n",
    "\n",
    "               #  ['MGE-IPC',\n",
    "               # 'IPC-nEN',\n",
    "               # 'OPC',\n",
    "               # 'MGE-RG',\n",
    "               # 'Astrocyte',\n",
    "               # 'RG',\n",
    "               # 'nIN',\n",
    "               # 'IN-STR',\n",
    "               # 'IN-CTX-CGE',\n",
    "               # 'IN-CTX-MGE',\n",
    "               # 'nEN',\n",
    "               # 'EN-PFC',\n",
    "               # 'EN-V1',]\n",
    "               \n",
    "               "
   ]
  },
  {
   "cell_type": "code",
   "execution_count": 214,
   "id": "85ad6938-b779-49b0-b3a0-38be0cd49333",
   "metadata": {},
   "outputs": [],
   "source": [
    "##write ini file\n",
    "\n",
    "ini_file = \"\"\"\n",
    "[spacer]\n",
    "height = 0.5\n",
    "\"\"\"\n",
    "\n",
    "bw_path = '/c4/home/derek/data1/derek/data_scSLR/prenatal_brain/concat_BAMS/concat/SJ/'\n",
    "\n",
    "for name in link_files_:\n",
    "\n",
    "    ini_file = ini_file + f\"\"\"\n",
    "\n",
    "[sashimi file test]\n",
    "title = {name}\n",
    "link_file = ./sashimi_plots/{intron_group}/link_{name}.txt\n",
    "bw_file = {bw_path}/{name}.bw\n",
    "height = 2\n",
    "bw_color = {col_color_dict[name]}\n",
    "number_of_bins = 500\n",
    "#max_value = 5\n",
    "#scale_factor=1\n",
    "nans_to_zeros = true\n",
    "summary_method = mean\n",
    "show_data_range = true\n",
    "link_color = {col_color_dict[name]}\n",
    "#line_style =\n",
    "fontsize = 20\n",
    "# operation = log(bw_file + 1)\n",
    "scale_link_height = 0.1\n",
    "scale_line_width = 2\n",
    "show_number = True\n",
    "file_type = sashimiBigWig\n",
    "#orientation = inverted\n",
    "\n",
    "[spacer]\n",
    "height = .5\n",
    "\n",
    "\n",
    "\"\"\"\n",
    "\n",
    "ini_file = ini_file + \"\"\"\n",
    "\n",
    "\n",
    "[spacer]\n",
    "height = 1\n",
    "\n",
    "[genes]\n",
    "color = black  \n",
    "file = /c4/home/derek/data1/derek/reference/refdata-gex-GRCh38-2024-A/genes/genes.gtf  \n",
    "height = 7\n",
    "# title = gtf\n",
    "# fontsize = 10\n",
    "file_type = gtf\n",
    "gene_rows = 10\n",
    "\n",
    "[spacer]\n",
    "height = 0.1\n",
    "[x-axis]\n",
    "fontsize=14\n",
    "\n",
    "\n",
    "\"\"\"\n",
    "    \n",
    "print(ini_file, file=open('./sashimi_plots/sashimi.ini','w'))"
   ]
  },
  {
   "cell_type": "code",
   "execution_count": 215,
   "id": "b59d1180-4851-4f2a-9303-e8afa1d356a5",
   "metadata": {
    "jupyter": {
     "source_hidden": true
    },
    "tags": []
   },
   "outputs": [],
   "source": [
    "# ##write ini file\n",
    "# #back up paramters\n",
    "\n",
    "# ini_file = \"\"\"\n",
    "# [spacer]\n",
    "# height = 0.1\n",
    "# \"\"\"\n",
    "\n",
    "# bw_path = '/c4/home/derek/data1/derek/data_scSLR/prenatal_brain/concat_BAMS/concat/SJ/'\n",
    "\n",
    "# for name in link_files_:\n",
    "\n",
    "#     ini_file = ini_file + f\"\"\"\n",
    "\n",
    "# [sashimi file test]\n",
    "# title = {name}\n",
    "# link_file = ./sashimi_plots/{intron_group}/link_{name}.txt\n",
    "# bw_file = {bw_path}/{name}.bw\n",
    "# height = 2\n",
    "# bw_color = {col_color_dict[name]}\n",
    "# number_of_bins = 1000\n",
    "# #max_value = 6\n",
    "# #scale_factor=1\n",
    "# nans_to_zeros = true\n",
    "# summary_method = mean\n",
    "# show_data_range = true\n",
    "# link_color = {col_color_dict[name]}\n",
    "# #line_style =\n",
    "# fontsize = 10\n",
    "# # operation = log(bw_file + 1)\n",
    "# scale_link_height = 1\n",
    "# scale_line_width = 1\n",
    "# show_number = True\n",
    "# file_type = sashimiBigWig\n",
    "\n",
    "# [spacer]\n",
    "# height = .1\n",
    "\n",
    "\n",
    "# \"\"\"\n",
    "\n",
    "# ini_file = ini_file + \"\"\"\n",
    "# [spacer]\n",
    "# height = 1\n",
    "\n",
    "\n",
    "# [spacer]\n",
    "# height = 1\n",
    "\n",
    "# [genes]\n",
    "# color = black  \n",
    "# file = /c4/home/derek/data1/derek/reference/human_hg38_reference/refdata-gex-GRCh38-2020-A/genes/genes.gtf\n",
    "# height = 7\n",
    "# # title = gtf\n",
    "# # fontsize = 10\n",
    "# file_type = gtf\n",
    "# gene_rows = 10\n",
    "\n",
    "# [spacer]\n",
    "# height = 0.5\n",
    "# [x-axis]\n",
    "# fontsize=10\n",
    "\n",
    "\n",
    "# \"\"\"\n",
    "    \n",
    "# print(ini_file, file=open('./sashimi_plots/sashimi.ini','w'))"
   ]
  },
  {
   "cell_type": "code",
   "execution_count": 216,
   "id": "02dc539f-3d32-4438-a7a5-1b987055fff2",
   "metadata": {},
   "outputs": [],
   "source": [
    "#refdata-gex-GRCh38-2020-A/genes/genes.gtf"
   ]
  },
  {
   "cell_type": "code",
   "execution_count": 217,
   "id": "b1dcc290-2125-4e9f-a505-24b17a81f5a9",
   "metadata": {},
   "outputs": [],
   "source": [
    "# from pybiomart import Dataset\n",
    "\n",
    "# dataset = Dataset(name='hsapiens_gene_ensembl',\n",
    "#                   host='http://www.ensembl.org')\n",
    "\n",
    "# genes = dataset.query(attributes=['external_gene_name','chromosome_name','start_position','end_position'],\n",
    "#               )"
   ]
  },
  {
   "cell_type": "code",
   "execution_count": null,
   "id": "d60d1923-a969-4022-93fe-534318b0deb9",
   "metadata": {},
   "outputs": [],
   "source": []
  },
  {
   "cell_type": "code",
   "execution_count": 218,
   "id": "54354195-bf70-45bb-8bcd-e6f646a7d3f2",
   "metadata": {},
   "outputs": [],
   "source": [
    "start = np.min(starts)-300\n",
    "end = np.max(ends)+300\n",
    "\n",
    "region = chrom+':'+start.astype(str)+'-'+end.astype(str)"
   ]
  },
  {
   "cell_type": "code",
   "execution_count": 219,
   "id": "cc0033a7-b9a7-4f39-8709-f1b316a2106c",
   "metadata": {},
   "outputs": [
    {
     "data": {
      "text/plain": [
       "'chr5:96727231-96729911'"
      ]
     },
     "execution_count": 219,
     "metadata": {},
     "output_type": "execute_result"
    }
   ],
   "source": [
    "region"
   ]
  },
  {
   "cell_type": "code",
   "execution_count": null,
   "id": "3efe6325-d1f8-4015-a243-401402bc6f3a",
   "metadata": {},
   "outputs": [],
   "source": []
  },
  {
   "cell_type": "code",
   "execution_count": 220,
   "id": "6f9b2749-2c44-4924-bb74-5bf05cfb2295",
   "metadata": {},
   "outputs": [],
   "source": [
    "#region='chr8:17715000-17730000' #MTUS1"
   ]
  },
  {
   "cell_type": "code",
   "execution_count": 221,
   "id": "82090c4b-5d4d-48f4-8fab-677f43336629",
   "metadata": {},
   "outputs": [],
   "source": [
    "#region = 'chrX:41555000-41561000'#  ##CASK \n",
    "\n",
    "#region = 'chr11:6395000-6411126'# ## APBB1\n",
    "\n",
    "#region = 'chr2:50500000-50535000' ##NRXN1\n",
    "\n",
    "#region = 'chr2:50620000-50624000' ##NRXN1"
   ]
  },
  {
   "cell_type": "code",
   "execution_count": 222,
   "id": "cda18c4c",
   "metadata": {},
   "outputs": [],
   "source": [
    "#region = 'chr6:117575253-117580000'"
   ]
  },
  {
   "cell_type": "code",
   "execution_count": 223,
   "id": "e6536948-d0c1-4e5c-bf42-5066e0e4afd4",
   "metadata": {},
   "outputs": [
    {
     "name": "stderr",
     "output_type": "stream",
     "text": [
      "WARNING:pygenometracks.tracksClass:title not set for section 7. [genes]\n",
      "\n",
      "INFO:pygenometracks.tracksClass:initialize 1. [spacer]\n",
      "INFO:pygenometracks.tracksClass:initialize 2. [sashimi file test]\n",
      "100%|██████████| 2/2 [00:00<00:00, 8035.07it/s]\n",
      "INFO:pygenometracks.tracksClass:initialize 3. [spacer]\n",
      "INFO:pygenometracks.tracksClass:initialize 4. [sashimi file test]\n",
      "100%|██████████| 2/2 [00:00<00:00, 10894.30it/s]\n",
      "INFO:pygenometracks.tracksClass:initialize 5. [spacer]\n",
      "INFO:pygenometracks.tracksClass:initialize 6. [spacer]\n",
      "INFO:pygenometracks.tracksClass:initialize 7. [genes]\n",
      "100%|██████████| 85/85 [00:00<00:00, 965.17it/s]\n",
      "INFO:pygenometracks.tracksClass:initialize 8. [spacer]\n",
      "INFO:pygenometracks.tracksClass:initialize 9. [x-axis]\n",
      "INFO:pygenometracks.tracksClass:time initializing track(s):\n",
      "INFO:pygenometracks.tracksClass:2.5853283405303955\n",
      "DEBUG:pygenometracks.tracksClass:Figure size in cm is 24.3237639553429 x 16.329787234042552. Dpi is set to 72\n",
      "\n",
      "INFO:pygenometracks.tracksClass:plotting 1. [spacer]\n",
      "INFO:pygenometracks.tracksClass:plotting 2. [sashimi file test]\n",
      "DEBUG:pygenometracks.tracks.GenomeTrack:2 links plotted\n",
      "INFO:pygenometracks.tracksClass:plotting 3. [spacer]\n",
      "INFO:pygenometracks.tracksClass:plotting 4. [sashimi file test]\n",
      "DEBUG:pygenometracks.tracks.GenomeTrack:2 links plotted\n",
      "INFO:pygenometracks.tracksClass:plotting 5. [spacer]\n",
      "INFO:pygenometracks.tracksClass:plotting 6. [spacer]\n",
      "INFO:pygenometracks.tracksClass:plotting 7. [genes]\n",
      "DEBUG:pygenometracks.tracks.GenomeTrack:ylim 24.08,-0.08\n",
      "INFO:pygenometracks.tracksClass:plotting 8. [spacer]\n",
      "INFO:pygenometracks.tracksClass:plotting 9. [x-axis]\n"
     ]
    }
   ],
   "source": [
    "%%bash -s \"$region\"\n",
    "pyGenomeTracks \\\n",
    "--tracks ./sashimi_plots/sashimi.ini \\\n",
    "--plotWidth 20 \\\n",
    "--region $1 \\\n",
    "--outFileName ./sashimi_plots/sashimi_test.png \\\n",
    "--decreasingXAxis \\"
   ]
  },
  {
   "cell_type": "code",
   "execution_count": 224,
   "id": "eb9250ba-e7d8-4af0-a3fc-9f8ee25a5208",
   "metadata": {},
   "outputs": [
    {
     "data": {
      "image/png": "[encoded data removed]",
      "text/plain": [
       "<IPython.core.display.Image object>"
      ]
     },
     "execution_count": 224,
     "metadata": {},
     "output_type": "execute_result"
    }
   ],
   "source": [
    "from IPython.display import Image\n",
    "Image(filename='./sashimi_plots/sashimi_test.png',retina=False)"
   ]
  },
  {
   "cell_type": "code",
   "execution_count": null,
   "id": "67644733-1bc8-435c-874f-4657bcb6806f",
   "metadata": {},
   "outputs": [],
   "source": []
  },
  {
   "cell_type": "code",
   "execution_count": null,
   "id": "9be3062e-2965-48e0-84c6-991386da646a",
   "metadata": {},
   "outputs": [],
   "source": []
  },
  {
   "cell_type": "code",
   "execution_count": 51,
   "id": "20e8bb35-61ae-4ced-9c47-f26b9e09770e",
   "metadata": {},
   "outputs": [
    {
     "ename": "SyntaxError",
     "evalue": "'break' outside loop (668683560.py, line 1)",
     "output_type": "error",
     "traceback": [
      "\u001b[0;36m  Cell \u001b[0;32mIn[51], line 1\u001b[0;36m\u001b[0m\n\u001b[0;31m    break\u001b[0m\n\u001b[0m    ^\u001b[0m\n\u001b[0;31mSyntaxError\u001b[0m\u001b[0;31m:\u001b[0m 'break' outside loop\n"
     ]
    }
   ],
   "source": [
    "break"
   ]
  },
  {
   "cell_type": "code",
   "execution_count": null,
   "id": "a30ffb74-d00e-4457-b6b4-4678aeb1b8bf",
   "metadata": {},
   "outputs": [],
   "source": []
  },
  {
   "cell_type": "code",
   "execution_count": 192,
   "id": "48b97c3b-9299-487a-b578-aae3a9b9dbfa",
   "metadata": {},
   "outputs": [
    {
     "name": "stderr",
     "output_type": "stream",
     "text": [
      "WARNING:pygenometracks.tracksClass:title not set for section 7. [genes]\n",
      "\n",
      "INFO:pygenometracks.tracksClass:initialize 1. [spacer]\n",
      "INFO:pygenometracks.tracksClass:initialize 2. [sashimi file test]\n",
      "100%|██████████| 3/3 [00:00<00:00, 13706.88it/s]\n",
      "INFO:pygenometracks.tracksClass:initialize 3. [spacer]\n",
      "INFO:pygenometracks.tracksClass:initialize 4. [sashimi file test]\n",
      "100%|██████████| 3/3 [00:00<00:00, 12972.07it/s]\n",
      "INFO:pygenometracks.tracksClass:initialize 5. [spacer]\n",
      "INFO:pygenometracks.tracksClass:initialize 6. [spacer]\n",
      "INFO:pygenometracks.tracksClass:initialize 7. [genes]\n",
      "100%|██████████| 85/85 [00:00<00:00, 991.61it/s]\n",
      "INFO:pygenometracks.tracksClass:initialize 8. [spacer]\n",
      "INFO:pygenometracks.tracksClass:initialize 9. [x-axis]\n",
      "INFO:pygenometracks.tracksClass:time initializing track(s):\n",
      "INFO:pygenometracks.tracksClass:2.5737435817718506\n",
      "DEBUG:pygenometracks.tracksClass:Figure size in cm is 24.3237639553429 x 16.329787234042552. Dpi is set to 72\n",
      "\n",
      "INFO:pygenometracks.tracksClass:plotting 1. [spacer]\n",
      "INFO:pygenometracks.tracksClass:plotting 2. [sashimi file test]\n",
      "DEBUG:pygenometracks.tracks.GenomeTrack:3 links plotted\n",
      "INFO:pygenometracks.tracksClass:plotting 3. [spacer]\n",
      "INFO:pygenometracks.tracksClass:plotting 4. [sashimi file test]\n",
      "DEBUG:pygenometracks.tracks.GenomeTrack:3 links plotted\n",
      "INFO:pygenometracks.tracksClass:plotting 5. [spacer]\n",
      "INFO:pygenometracks.tracksClass:plotting 6. [spacer]\n",
      "INFO:pygenometracks.tracksClass:plotting 7. [genes]\n",
      "DEBUG:pygenometracks.tracks.GenomeTrack:ylim 24.08,-0.08\n",
      "INFO:pygenometracks.tracksClass:plotting 8. [spacer]\n",
      "INFO:pygenometracks.tracksClass:plotting 9. [x-axis]\n"
     ]
    }
   ],
   "source": [
    "%%bash -s \"$region\"\n",
    "pyGenomeTracks \\\n",
    "--tracks ./sashimi_plots/sashimi.ini \\\n",
    "--plotWidth 20 \\\n",
    "--region $1 \\\n",
    "-o ./sashimi_plots/CAST_sashimi.pdf \\\n",
    "--decreasingXAxis \n"
   ]
  },
  {
   "cell_type": "code",
   "execution_count": null,
   "id": "4d99ddc1-061f-4db4-bf7d-e6a54d531290",
   "metadata": {},
   "outputs": [],
   "source": [
    "#!pyGenomeTracks --tracks ./sashimi_plots/sashimi.ini --plotWidth 15 --region 'chr1:198690000-198705000' -o ./plots/sashimi_T4_PTPRC.pdf"
   ]
  },
  {
   "cell_type": "code",
   "execution_count": null,
   "id": "31a3bcf4-cff8-490d-9985-559575271928",
   "metadata": {},
   "outputs": [],
   "source": []
  },
  {
   "cell_type": "code",
   "execution_count": null,
   "id": "531cdd82-0cee-44ee-b3ea-b287352b26ea",
   "metadata": {},
   "outputs": [],
   "source": []
  },
  {
   "cell_type": "code",
   "execution_count": null,
   "id": "ca587d34-84c9-4001-bae5-5e38650c039c",
   "metadata": {},
   "outputs": [],
   "source": []
  },
  {
   "cell_type": "code",
   "execution_count": null,
   "id": "bb68ab6e-74d5-417d-a8ea-f0b0d4155824",
   "metadata": {},
   "outputs": [],
   "source": []
  },
  {
   "cell_type": "code",
   "execution_count": null,
   "id": "8bd1c2aa-176b-474f-9daf-7d55f92a0d4b",
   "metadata": {},
   "outputs": [],
   "source": []
  },
  {
   "cell_type": "code",
   "execution_count": null,
   "id": "6370af31-02d4-4600-897c-a7c89cd58456",
   "metadata": {},
   "outputs": [],
   "source": []
  },
  {
   "cell_type": "code",
   "execution_count": null,
   "id": "02be0667-3c72-44f8-b4fa-16f8ba65baee",
   "metadata": {},
   "outputs": [],
   "source": []
  },
  {
   "cell_type": "code",
   "execution_count": null,
   "id": "68f5f3ea-8cf1-4014-a60f-7edf3229f646",
   "metadata": {},
   "outputs": [],
   "source": [
    "sig_introns_sort = sig_diff_spl_introns.reindex(\n",
    "    sig_diff_spl_introns.abs_delta_psi.abs().sort_values(ascending=False).index)#.head(50)\n",
    "\n",
    "\n",
    "sig_introns_sort = sig_introns_sort[sig_introns_sort.event_type == 'first_exon']"
   ]
  },
  {
   "cell_type": "code",
   "execution_count": null,
   "id": "0e6d54ab-c4d2-4f8a-a2ed-46a468312f8f",
   "metadata": {},
   "outputs": [],
   "source": [
    "sig_diff_spl_introns.event_type"
   ]
  },
  {
   "cell_type": "code",
   "execution_count": null,
   "id": "3cadc30a-a2b5-4951-a28c-23cceae50be2",
   "metadata": {},
   "outputs": [],
   "source": []
  },
  {
   "cell_type": "code",
   "execution_count": null,
   "id": "e9ae1b05-1d8a-47e3-91c3-780306bc61c7",
   "metadata": {},
   "outputs": [],
   "source": [
    "\n",
    "\n",
    "for gene in sig_introns_sort[200:300]['gene_name']:\n",
    "    print(gene)\n",
    "    \n",
    "    sashimi_introns =sig_diff_spl_introns[(sig_diff_spl_introns.gene_name == gene) & (sig_diff_spl_introns.n_cells >= 50)]\n",
    "    \n",
    "    intron_group = sashimi_introns['intron_group'].iloc[1]\n",
    "    \n",
    "    link_files=[]\n",
    "\n",
    "    starts=list()\n",
    "    ends=list()\n",
    "\n",
    "    for name in groups_test:\n",
    "        if name in sashimi_introns.test_group.unique():\n",
    "\n",
    "            link_files.append(name)\n",
    "\n",
    "            sashimi_introns_ = sashimi_introns[sashimi_introns.test_group == name]\n",
    "\n",
    "            number_introns = len(sashimi_introns_) #sashimi_introns_.iloc[[0]].intron_group_size.values[0]\n",
    "\n",
    "            os.makedirs(f\"./sashimi_plots/{intron_group}/\",exist_ok=True)\n",
    "\n",
    "            f = open(f\"./sashimi_plots/{intron_group}/link_{name}.txt\", \"w+\")\n",
    "\n",
    "            for intron in range(number_introns):\n",
    "                f.write(str(sashimi_introns_.iloc[[intron]]['chromosome'].values[0])+'\\t'\n",
    "                        +str(sashimi_introns_.iloc[[intron]]['start'].values[0])+'\\t'\n",
    "                        +str(sashimi_introns_.iloc[[intron]]['start'].values[0])+'\\t'\n",
    "                        +str(sashimi_introns_.iloc[[intron]]['chromosome'].values[0])+'\\t'\n",
    "                        +str(sashimi_introns_.iloc[[intron]]['end'].values[0])+'\\t'\n",
    "                        +str(sashimi_introns_.iloc[[intron]]['end'].values[0])+'\\t'\n",
    "                        +str(sashimi_introns_.iloc[[intron]]['psi_a'].values[0])+'\\n'\n",
    "                       )\n",
    "                starts.append(sashimi_introns_.iloc[[intron]]['start'].values[0])\n",
    "                ends.append(sashimi_introns_.iloc[[intron]]['end'].values[0])\n",
    "                chrom = str(sashimi_introns_.iloc[[intron]]['chromosome'].values[0])\n",
    "            f.close()\n",
    "            \n",
    "            \n",
    "    link_files_ = link_files[0:2]\n",
    "    \n",
    "    ini_file = \"\"\"[spacer]height = 0.1\"\"\"\n",
    "\n",
    "    bw_path = '/c4/home/derek/data1/derek/data_scSLR/prenatal_brain/concat_BAMS/concat/all_reads/'\n",
    "\n",
    "    for name in link_files_:\n",
    "\n",
    "        ini_file = ini_file + f\"\"\"\n",
    "\n",
    "        [sashimi file test]\n",
    "        title = {name}\n",
    "        link_file = ./sashimi_plots/{intron_group}/link_{name}.txt\n",
    "        bw_file = {bw_path}/{name}.bw\n",
    "        height = 5\n",
    "        bw_color = {col_color_dict[name]}\n",
    "        number_of_bins = 1000\n",
    "        max_value = 6\n",
    "        nans_to_zeros = true\n",
    "        summary_method = mean\n",
    "        show_data_range = true\n",
    "        link_color = {col_color_dict[name]}\n",
    "        fontsize = 10\n",
    "        scale_link_height = 0.5\n",
    "        scale_line_width = 2\n",
    "        show_number = true\n",
    "        file_type = sashimiBigWig\n",
    "\n",
    "        [spacer]\n",
    "        height = 0.1\n",
    "        \n",
    "\n",
    "        \"\"\"\n",
    "\n",
    "        print(ini_file, file=open('./sashimi_plots/sashimi.ini','w'))\n",
    "    \n",
    "    \n",
    "    start = np.min(starts)-100\n",
    "    end = np.max(ends)+100 \n",
    "    \n",
    "    print(region)\n",
    "    region = chrom+':'+start.astype(str)+'-'+end.astype(str)\n",
    "    \n",
    "    FNULL = open(os.devnull, 'w')\n",
    "    cmd = ['pyGenomeTracks', '--tracks', './sashimi_plots/sashimi.ini', '--plotWidth', '10', '-o', './sashimi_plots/sashimi_NECTIN3.png', '--region', region]\n",
    "    subprocess.run(cmd,stdout=FNULL,stderr=subprocess.DEVNULL)\n",
    "    \n",
    "    display(Image(filename='./sashimi_plots/sashimi_NECTIN3.png',retina=False))\n",
    "    \n",
    "    \n",
    "\n",
    "    \n",
    "    \n",
    "            \n",
    "    \n",
    "    \n",
    "    "
   ]
  },
  {
   "cell_type": "code",
   "execution_count": null,
   "id": "c23ddb8e-bde5-4b93-9b40-9256fdcacb93",
   "metadata": {},
   "outputs": [],
   "source": []
  },
  {
   "cell_type": "code",
   "execution_count": null,
   "id": "614635f4-ce71-4793-9916-0c35c742a5c9",
   "metadata": {},
   "outputs": [],
   "source": []
  },
  {
   "cell_type": "code",
   "execution_count": null,
   "id": "341e728d-0300-475b-9a5d-4b27faad36d2",
   "metadata": {},
   "outputs": [],
   "source": []
  },
  {
   "cell_type": "code",
   "execution_count": null,
   "id": "f148bff0-703d-4075-b385-eb282eb2a639",
   "metadata": {},
   "outputs": [],
   "source": [
    "cmd = ['pyGenomeTracks', '--tracks', './sashimi_plots/sashimi.ini', '--plotWidth', '5', '-o', './sashimi_plots/sashimi_NECTIN3.png', '--region', region]"
   ]
  },
  {
   "cell_type": "code",
   "execution_count": null,
   "id": "0164eca5-a515-4c65-9568-ceedc66b50c3",
   "metadata": {},
   "outputs": [],
   "source": [
    "subprocess.run(cmd)"
   ]
  },
  {
   "cell_type": "code",
   "execution_count": null,
   "id": "527f0ad9-9160-4731-940a-fa57348e60cb",
   "metadata": {},
   "outputs": [],
   "source": []
  },
  {
   "cell_type": "code",
   "execution_count": null,
   "id": "0f864ac5-5c42-499e-baab-7ca2a0260962",
   "metadata": {},
   "outputs": [],
   "source": []
  },
  {
   "cell_type": "code",
   "execution_count": null,
   "id": "2909aac4-7928-4c8c-912e-0e82dccbdae4",
   "metadata": {},
   "outputs": [],
   "source": []
  },
  {
   "cell_type": "code",
   "execution_count": null,
   "id": "dee5d388-c12f-4888-ab62-920609a2488f",
   "metadata": {},
   "outputs": [],
   "source": []
  }
 ],
 "metadata": {
  "kernelspec": {
   "display_name": "Python 3 (ipykernel)",
   "language": "python",
   "name": "python3"
  },
  "language_info": {
   "codemirror_mode": {
    "name": "ipython",
    "version": 3
   },
   "file_extension": ".py",
   "mimetype": "text/x-python",
   "name": "python",
   "nbconvert_exporter": "python",
   "pygments_lexer": "ipython3",
   "version": "3.9.15"
  }
 },
 "nbformat": 4,
 "nbformat_minor": 5
}
