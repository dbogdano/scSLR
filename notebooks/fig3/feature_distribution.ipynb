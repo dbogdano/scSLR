{
 "cells": [
  {
   "cell_type": "markdown",
   "id": "2a268f4a-8ba3-4c6d-a9bb-862512dbeb15",
   "metadata": {},
   "source": [
    "# Feature Distribution Prenatal Brain  "
   ]
  },
  {
   "cell_type": "code",
   "execution_count": 1,
   "id": "03411bf6-88ea-43f1-85e0-94c9b09264fd",
   "metadata": {
    "tags": []
   },
   "outputs": [
    {
     "name": "stdout",
     "output_type": "stream",
     "text": [
      "Mon Oct 14 02:50:03 PDT 2024\n"
     ]
    }
   ],
   "source": [
    "!date"
   ]
  },
  {
   "cell_type": "code",
   "execution_count": 2,
   "id": "14e7ef6e-3a0a-4d09-9fa0-1f88da7900d4",
   "metadata": {
    "tags": []
   },
   "outputs": [
    {
     "data": {
      "text/plain": [
       "'/c4/home/derek/miniconda3/envs/py310'"
      ]
     },
     "execution_count": 2,
     "metadata": {},
     "output_type": "execute_result"
    }
   ],
   "source": [
    "%env CONDA_PREFIX"
   ]
  },
  {
   "cell_type": "code",
   "execution_count": 3,
   "id": "9171c44c-ec58-4d57-aeeb-4899435c8bee",
   "metadata": {
    "tags": []
   },
   "outputs": [],
   "source": [
    "import pandas as pd\n",
    "import os\n",
    "\n",
    "import matplotlib.pyplot as plt\n",
    "import matplotlib as mpl\n",
    "import seaborn as sns\n",
    "import numpy as np"
   ]
  },
  {
   "cell_type": "code",
   "execution_count": null,
   "id": "8deca53f-b3e8-4a38-a282-8a1eb57208ad",
   "metadata": {},
   "outputs": [],
   "source": []
  },
  {
   "cell_type": "code",
   "execution_count": 4,
   "id": "0af2095b-3b3f-42eb-900a-4debefaaa880",
   "metadata": {},
   "outputs": [
    {
     "name": "stdout",
     "output_type": "stream",
     "text": [
      "Usage: read_distribution.py [options]\n",
      "\n",
      "Check reads distribution over exon, intron, UTR, intergenic ... etc\n",
      "The following reads will be skipped:\n",
      "\tqc_failed\n",
      "\tPCR duplicate\n",
      "\tUnmapped\n",
      "\tNon-primary (or secondary)\t\n",
      "\n",
      "\n",
      "\n",
      "Options:\n",
      "  --version             show program's version number and exit\n",
      "  -h, --help            show this help message and exit\n",
      "  -i INPUT_FILE, --input-file=INPUT_FILE\n",
      "                        Alignment file in BAM or SAM format.\n",
      "  -r REF_GENE_MODEL, --refgene=REF_GENE_MODEL\n",
      "                        Reference gene model in bed format.\n"
     ]
    }
   ],
   "source": [
    "!read_distribution.py"
   ]
  },
  {
   "cell_type": "code",
   "execution_count": null,
   "id": "37188941-690a-48b8-8a2c-04adea0dd819",
   "metadata": {},
   "outputs": [],
   "source": [
    "!read_distribution.py -i \\\n",
    "                        -r "
   ]
  },
  {
   "cell_type": "code",
   "execution_count": null,
   "id": "7621e8b5-e7e6-4052-a400-73ad939e0dac",
   "metadata": {},
   "outputs": [],
   "source": []
  },
  {
   "cell_type": "code",
   "execution_count": 13,
   "id": "d9b27841-c64b-4031-9caa-24eaca971a43",
   "metadata": {
    "tags": []
   },
   "outputs": [],
   "source": [
    "input_dir = '/c4/home/derek/data1/derek/data_scSLR/prenatal_brain/STAR_outs/GW17_1/StarOut/'\n",
    "\n",
    "output_dir = './plots/'"
   ]
  },
  {
   "cell_type": "code",
   "execution_count": null,
   "id": "3236f9c6-511f-4149-a311-221cca693109",
   "metadata": {},
   "outputs": [],
   "source": []
  },
  {
   "cell_type": "code",
   "execution_count": 14,
   "id": "b93647c4-fb74-413f-bcb5-c84dc57a451a",
   "metadata": {
    "tags": []
   },
   "outputs": [],
   "source": [
    "threeprime = pd.read_fwf(input_dir+'read_distribution_3prime.txt', \n",
    "            skiprows=list(range(0,7))+list(range(12,19)),\n",
    "                       # index_col=0\n",
    "           )\n",
    "\n",
    "internal = pd.read_fwf(input_dir+'read_distribution_internal.txt', \n",
    "            skiprows=list(range(0,7))+list(range(12,19)),\n",
    "                       # index_col=0\n",
    "           )\n",
    "\n",
    "fiveprime = pd.read_fwf(input_dir+'read_distribution_5prime.txt', \n",
    "            skiprows=list(range(0,7))+list(range(12,19)),\n",
    "                        # index_col=0\n",
    "           )"
   ]
  },
  {
   "cell_type": "code",
   "execution_count": null,
   "id": "06867a41-7b88-4a8e-b65f-3990c6b9d8e0",
   "metadata": {},
   "outputs": [],
   "source": []
  },
  {
   "cell_type": "code",
   "execution_count": 23,
   "id": "13cf7370-ee0b-4422-93d7-9b9599ac7563",
   "metadata": {},
   "outputs": [],
   "source": [
    "input_dir = '/c4/home/derek/data1/derek/data_scSLR/prenatal_brain/10X/Lane1/'\n",
    "\n",
    "tenx = pd.read_fwf(input_dir+'read_distribution_10X.txt', \n",
    "            skiprows=list(range(0,4))+list(range(9,16)),\n",
    "                       # index_col=0\n",
    "           )"
   ]
  },
  {
   "cell_type": "code",
   "execution_count": 25,
   "id": "370c95cb-4088-4f95-98b3-9c1404f4852f",
   "metadata": {},
   "outputs": [],
   "source": [
    "# internal.index.name = None\n",
    "# fiveprime.index.name = None"
   ]
  },
  {
   "cell_type": "code",
   "execution_count": 26,
   "id": "7231d680-bd95-402b-8fa6-b0fbfd770329",
   "metadata": {},
   "outputs": [],
   "source": [
    "threeprime['Tag_count_percent'] = threeprime.Tag_count.apply(lambda x: (x) / (threeprime.Tag_count.sum()))\n",
    "\n",
    "internal['Tag_count_percent'] = internal.Tag_count.apply(lambda x: (x) / (internal.Tag_count.sum()))\n",
    "\n",
    "fiveprime['Tag_count_percent'] = fiveprime.Tag_count.apply(lambda x: (x) / (fiveprime.Tag_count.sum()))\n",
    "\n",
    "tenx['Tag_count_percent'] = tenx.Tag_count.apply(lambda x: (x) / (tenx.Tag_count.sum()))\n",
    "\n",
    "\n",
    "\n",
    "\n",
    "threeprime['library'] = '3prime'\n",
    "internal['library'] = 'internal'\n",
    "fiveprime['library'] = '5prime'\n",
    "\n",
    "tenx['library'] = '10X'"
   ]
  },
  {
   "cell_type": "code",
   "execution_count": 32,
   "id": "ef9ccd4a-d980-4de2-8353-559dd5b5b5b5",
   "metadata": {},
   "outputs": [],
   "source": [
    "df = pd.concat([threeprime, internal, fiveprime, tenx])"
   ]
  },
  {
   "cell_type": "code",
   "execution_count": 33,
   "id": "9e64e594-e6ad-4ff7-a403-639dce92d589",
   "metadata": {},
   "outputs": [],
   "source": [
    "pivot = df[['Group','Tag_count_percent','library']].pivot(index='Group',columns='library',values='Tag_count_percent').T"
   ]
  },
  {
   "cell_type": "code",
   "execution_count": 34,
   "id": "0bc5c7d1-9d5b-4e0f-99b9-95a5689e4936",
   "metadata": {
    "tags": []
   },
   "outputs": [],
   "source": [
    "pivot=pivot*100"
   ]
  },
  {
   "cell_type": "code",
   "execution_count": 35,
   "id": "258c4c01-78a6-4c1c-ab38-ffaa8bb44071",
   "metadata": {
    "tags": []
   },
   "outputs": [],
   "source": [
    "pivot=pivot.reindex(['5prime','internal','3prime','10X'])"
   ]
  },
  {
   "cell_type": "code",
   "execution_count": 36,
   "id": "eb51c953-f5b2-4bd9-9bfc-87e83d9c2c2c",
   "metadata": {},
   "outputs": [
    {
     "data": {
      "text/html": [
       "<div>\n",
       "<style scoped>\n",
       "    .dataframe tbody tr th:only-of-type {\n",
       "        vertical-align: middle;\n",
       "    }\n",
       "\n",
       "    .dataframe tbody tr th {\n",
       "        vertical-align: top;\n",
       "    }\n",
       "\n",
       "    .dataframe thead th {\n",
       "        text-align: right;\n",
       "    }\n",
       "</style>\n",
       "<table border=\"1\" class=\"dataframe\">\n",
       "  <thead>\n",
       "    <tr style=\"text-align: right;\">\n",
       "      <th>Group</th>\n",
       "      <th>3'UTR_Exons</th>\n",
       "      <th>5'UTR_Exons</th>\n",
       "      <th>CDS_Exons</th>\n",
       "      <th>Introns</th>\n",
       "    </tr>\n",
       "    <tr>\n",
       "      <th>library</th>\n",
       "      <th></th>\n",
       "      <th></th>\n",
       "      <th></th>\n",
       "      <th></th>\n",
       "    </tr>\n",
       "  </thead>\n",
       "  <tbody>\n",
       "    <tr>\n",
       "      <th>5prime</th>\n",
       "      <td>11.205636</td>\n",
       "      <td>11.329180</td>\n",
       "      <td>29.371211</td>\n",
       "      <td>48.093972</td>\n",
       "    </tr>\n",
       "    <tr>\n",
       "      <th>internal</th>\n",
       "      <td>12.980642</td>\n",
       "      <td>2.809104</td>\n",
       "      <td>26.624896</td>\n",
       "      <td>57.585358</td>\n",
       "    </tr>\n",
       "    <tr>\n",
       "      <th>3prime</th>\n",
       "      <td>19.680112</td>\n",
       "      <td>2.677987</td>\n",
       "      <td>23.254631</td>\n",
       "      <td>54.387270</td>\n",
       "    </tr>\n",
       "    <tr>\n",
       "      <th>10X</th>\n",
       "      <td>18.674296</td>\n",
       "      <td>2.553224</td>\n",
       "      <td>23.019350</td>\n",
       "      <td>55.753130</td>\n",
       "    </tr>\n",
       "  </tbody>\n",
       "</table>\n",
       "</div>"
      ],
      "text/plain": [
       "Group     3'UTR_Exons  5'UTR_Exons  CDS_Exons    Introns\n",
       "library                                                 \n",
       "5prime      11.205636    11.329180  29.371211  48.093972\n",
       "internal    12.980642     2.809104  26.624896  57.585358\n",
       "3prime      19.680112     2.677987  23.254631  54.387270\n",
       "10X         18.674296     2.553224  23.019350  55.753130"
      ]
     },
     "execution_count": 36,
     "metadata": {},
     "output_type": "execute_result"
    }
   ],
   "source": [
    "pivot"
   ]
  },
  {
   "cell_type": "code",
   "execution_count": 37,
   "id": "f5ba2b47-62ee-4b63-82fe-af48a88ccb72",
   "metadata": {},
   "outputs": [
    {
     "ename": "SyntaxError",
     "evalue": "'break' outside loop (668683560.py, line 1)",
     "output_type": "error",
     "traceback": [
      "\u001b[0;36m  Cell \u001b[0;32mIn[37], line 1\u001b[0;36m\u001b[0m\n\u001b[0;31m    break\u001b[0m\n\u001b[0m    ^\u001b[0m\n\u001b[0;31mSyntaxError\u001b[0m\u001b[0;31m:\u001b[0m 'break' outside loop\n"
     ]
    }
   ],
   "source": [
    "break"
   ]
  },
  {
   "cell_type": "code",
   "execution_count": 40,
   "id": "067f9f5e-87c5-4a46-8716-98f6d32def58",
   "metadata": {
    "tags": []
   },
   "outputs": [
    {
     "data": {
      "image/png": "[encoded data removed]",
      "text/plain": [
       "<Figure size 800x400 with 2 Axes>"
      ]
     },
     "metadata": {},
     "output_type": "display_data"
    }
   ],
   "source": [
    "fig, ax = plt.subplots(1, 2, figsize=(8,4), gridspec_kw={'width_ratios': [3, 3]})\n",
    "\n",
    "width = 0.8     # the width of the bars: can also be len(x) sequence\n",
    "\n",
    "palette = sns.color_palette(palette='deep',n_colors=4)\n",
    "\n",
    "\n",
    "ax[0].bar(pivot.index, pivot[\"3'UTR_Exons\"], width, color=palette[0])\n",
    "ax[0].bar(pivot.index, pivot[\"5'UTR_Exons\"], width, bottom=pivot[\"3'UTR_Exons\"], color=palette[1])\n",
    "ax[0].bar(pivot.index, pivot[\"CDS_Exons\"], width, bottom=sum([pivot[\"3'UTR_Exons\"], pivot[\"5'UTR_Exons\"]]), color=palette[2])\n",
    "ax[0].bar(pivot.index, pivot[\"Introns\"], width, bottom=sum([pivot[\"3'UTR_Exons\"], pivot[\"5'UTR_Exons\"],pivot[\"CDS_Exons\"]]), color=palette[3])\n",
    "\n",
    "\n",
    "ax[0].spines.right.set_visible(False)\n",
    "ax[0].spines.top.set_visible(False)\n",
    "\n",
    "ax[0].set_ylabel('Reads %', fontsize=11)\n",
    "\n",
    "colors = {\"3'UTR Exons\":palette[0], \n",
    "          \"5'UTR Exons\":palette[1],\n",
    "          \"CDS Exons\":palette[2],\n",
    "          \"Introns\":palette[3]\n",
    "         }         \n",
    "labels = list(colors.keys())\n",
    "handles = [plt.Rectangle((0,0),1,1, color=colors[label]) for label in labels]\n",
    "\n",
    "ax[1].legend(handles, labels, bbox_to_anchor=(0.05, 0.15, 0.5, 0.5))\n",
    "\n",
    "ax[1].spines.right.set_visible(False)\n",
    "ax[1].spines.top.set_visible(False)\n",
    "ax[1].spines.bottom.set_visible(False)\n",
    "ax[1].spines.left.set_visible(False)\n",
    "\n",
    "ax[1].tick_params( \n",
    "    bottom=False,        \n",
    "    labelbottom=False, \n",
    "    left=False,\n",
    "    labelleft=False, \n",
    "            ) \n",
    "\n",
    "fig.savefig(output_dir+'read_distribution.pdf')\n"
   ]
  },
  {
   "cell_type": "code",
   "execution_count": null,
   "id": "f940cd8e-ee8a-4a6a-91d3-cea95af30e2c",
   "metadata": {
    "tags": []
   },
   "outputs": [],
   "source": []
  },
  {
   "cell_type": "code",
   "execution_count": null,
   "id": "21ecd25b-f2eb-4ffd-bd25-eb1c4d62be8a",
   "metadata": {
    "tags": []
   },
   "outputs": [],
   "source": []
  },
  {
   "cell_type": "code",
   "execution_count": null,
   "id": "d90f6c72-7793-40f3-ae30-4550a49b897d",
   "metadata": {
    "tags": []
   },
   "outputs": [],
   "source": []
  },
  {
   "cell_type": "code",
   "execution_count": null,
   "id": "f1084c74-1844-4dc6-95ad-503a9200be32",
   "metadata": {
    "tags": []
   },
   "outputs": [],
   "source": []
  },
  {
   "cell_type": "code",
   "execution_count": null,
   "id": "858e125b-c47f-4909-bcf3-2004c18ccb65",
   "metadata": {},
   "outputs": [],
   "source": []
  },
  {
   "cell_type": "code",
   "execution_count": null,
   "id": "dba01d49-03a6-4bf1-888d-92b577667a5b",
   "metadata": {},
   "outputs": [],
   "source": []
  },
  {
   "cell_type": "code",
   "execution_count": null,
   "id": "a12e9ab6-8ffd-42cc-9728-22812d3ba28c",
   "metadata": {},
   "outputs": [],
   "source": [
    "\n"
   ]
  }
 ],
 "metadata": {
  "kernelspec": {
   "display_name": "Python 3 (ipykernel)",
   "language": "python",
   "name": "python3"
  },
  "language_info": {
   "codemirror_mode": {
    "name": "ipython",
    "version": 3
   },
   "file_extension": ".py",
   "mimetype": "text/x-python",
   "name": "python",
   "nbconvert_exporter": "python",
   "pygments_lexer": "ipython3",
   "version": "3.10.15"
  }
 },
 "nbformat": 4,
 "nbformat_minor": 5
}
