{
 "cells": [
  {
   "cell_type": "code",
   "execution_count": 1,
   "id": "180a7f8c-252b-42a3-bde0-496a7df68b9f",
   "metadata": {},
   "outputs": [
    {
     "name": "stdout",
     "output_type": "stream",
     "text": [
      "Fri Oct 25 14:43:25 PDT 2024\n"
     ]
    }
   ],
   "source": [
    "!date"
   ]
  },
  {
   "cell_type": "code",
   "execution_count": 2,
   "id": "d7d49486-73c9-436b-9938-2d17990d3733",
   "metadata": {},
   "outputs": [
    {
     "data": {
      "text/plain": [
       "'/c4/home/derek/miniconda3/envs/deepripe'"
      ]
     },
     "execution_count": 2,
     "metadata": {},
     "output_type": "execute_result"
    }
   ],
   "source": [
    "%env CONDA_PREFIX"
   ]
  },
  {
   "cell_type": "code",
   "execution_count": 3,
   "id": "c57d2760-a005-4858-8554-9a17686010ba",
   "metadata": {},
   "outputs": [],
   "source": [
    "%load_ext autoreload\n",
    "%autoreload 2"
   ]
  },
  {
   "cell_type": "markdown",
   "id": "38423ed4-9085-4868-adc2-45165549d723",
   "metadata": {},
   "source": [
    "# ExplaiNN DeepRipe Model Training"
   ]
  },
  {
   "cell_type": "code",
   "execution_count": 4,
   "id": "f6c56aa8-b5c0-4ba5-b64a-15ecdf1f077f",
   "metadata": {},
   "outputs": [],
   "source": [
    "import os\n",
    "import sys\n",
    "import glob\n",
    "\n",
    "import pandas as pd\n",
    "import numpy as np\n",
    "import scipy as sci\n",
    "import seaborn as sns\n",
    "import matplotlib.pyplot as plt\n",
    "\n",
    "\n",
    "from pathlib import Path\n",
    "import json\n",
    "import shutil\n",
    "\n",
    "\n",
    "\n",
    "\n",
    "import pysam \n",
    "from scipy import stats\n",
    "from scipy.stats import pearsonr, spearmanr\n",
    "\n",
    "\n",
    "#import modified basenji modules \n",
    "sys.path.append(\"/nowakowskilab/data1/derek/data_scSLR/prenatal_brain/deep_splicing\")\n",
    "from basenji_.basenji.dna_io import dna_1hot"
   ]
  },
  {
   "cell_type": "code",
   "execution_count": 5,
   "id": "c77f33a4-ea08-4840-b62a-648baa13d93c",
   "metadata": {},
   "outputs": [
    {
     "name": "stdout",
     "output_type": "stream",
     "text": [
      "The history saving thread hit an unexpected error (OperationalError('attempt to write a readonly database')).History will not be written to the database.\n"
     ]
    },
    {
     "name": "stderr",
     "output_type": "stream",
     "text": [
      "2024-10-25 14:43:58.190407: I tensorflow/core/platform/cpu_feature_guard.cc:193] This TensorFlow binary is optimized with oneAPI Deep Neural Network Library (oneDNN) to use the following CPU instructions in performance-critical operations:  SSE4.1 SSE4.2 AVX AVX2 AVX512F AVX512_VNNI FMA\n",
      "To enable them in other operations, rebuild TensorFlow with the appropriate compiler flags.\n",
      "2024-10-25 14:44:00.319467: I tensorflow/core/util/port.cc:104] oneDNN custom operations are on. You may see slightly different numerical results due to floating-point round-off errors from different computation orders. To turn them off, set the environment variable `TF_ENABLE_ONEDNN_OPTS=0`.\n"
     ]
    }
   ],
   "source": [
    "import tensorflow as tf"
   ]
  },
  {
   "cell_type": "code",
   "execution_count": 6,
   "id": "49959161-7fd7-4442-a842-3f6fd926b725",
   "metadata": {},
   "outputs": [
    {
     "name": "stdout",
     "output_type": "stream",
     "text": [
      "Num GPUs Available:  1\n"
     ]
    }
   ],
   "source": [
    "print(\"Num GPUs Available: \", len(tf.config.list_physical_devices('GPU')))"
   ]
  },
  {
   "cell_type": "code",
   "execution_count": 7,
   "id": "c4642e41-d962-47bc-8522-dbf643af566d",
   "metadata": {},
   "outputs": [],
   "source": [
    "##set memory usage \n",
    "\n",
    "gpus = tf.config.experimental.list_physical_devices('GPU')\n",
    "for gpu in gpus:\n",
    "  tf.config.experimental.set_memory_growth(gpu, True)"
   ]
  },
  {
   "cell_type": "code",
   "execution_count": 8,
   "id": "15e5ae2c-da1a-4feb-827b-57e1a74ace8e",
   "metadata": {},
   "outputs": [],
   "source": [
    "#import modified basenji modules \n",
    "sys.path.append(\"/nowakowskilab/data1/derek/data_scSLR/prenatal_brain/deep_splicing/basenji_/\")\n",
    "\n",
    "from basenji_.basenji import dataset\n",
    "\n",
    "from basenji_.basenji.metrics import PearsonR\n"
   ]
  },
  {
   "cell_type": "code",
   "execution_count": null,
   "id": "62f54c88-67d3-432a-8b85-93bb325a093e",
   "metadata": {},
   "outputs": [],
   "source": []
  },
  {
   "cell_type": "code",
   "execution_count": 9,
   "id": "7b8228ad-95b5-439e-aa61-fd851297dfa2",
   "metadata": {},
   "outputs": [],
   "source": [
    "out_dir = '/c4/home/derek/data1/derek/data_scSLR/prenatal_brain/deep_splicing/ExplaiNN/data_out/EN_RG_multitask_DeltaPSI_sig_0.1_train_valid_test_deepripe_repeatKfold/'\n",
    "\n",
    "# out_dir = '/c4/home/derek/data1/derek/data_scSLR/prenatal_brain/deep_splicing/ExplaiNN/data_out/EN_RG_multitask_PSI_sig_0.1_train_valid_deepripe_region/'\n",
    "\n"
   ]
  },
  {
   "cell_type": "code",
   "execution_count": 10,
   "id": "9fbc1b81-e443-484e-a79f-3db847eb696f",
   "metadata": {},
   "outputs": [],
   "source": [
    "# for repeat in os.listdir(out_dir):\n",
    "#     print(repeat)\n",
    "#     for fold in os.listdir(out_dir + repeat):\n",
    "#         print(fold)"
   ]
  },
  {
   "cell_type": "markdown",
   "id": "c6cdfbb9-ba0a-4eb4-b7e2-1d5dae08712b",
   "metadata": {},
   "source": [
    "## build model "
   ]
  },
  {
   "cell_type": "code",
   "execution_count": null,
   "id": "84d0672d-97c2-4ba4-b853-83a46e63aa3a",
   "metadata": {},
   "outputs": [],
   "source": []
  },
  {
   "cell_type": "code",
   "execution_count": 11,
   "id": "b06159a5-1ba2-43bd-b786-50ff7ce5c3a7",
   "metadata": {},
   "outputs": [],
   "source": [
    "model_path = '/nowakowskilab/data1/derek/data_scSLR/prenatal_brain/deep_splicing/DeepRiPe/'\n",
    "\n",
    "sys.path.append(model_path+'Scripts/')\n",
    "from util_funcs import precision, recall"
   ]
  },
  {
   "cell_type": "code",
   "execution_count": 12,
   "id": "3a0cfc69-823d-4e9a-94b0-eb31f55ad43d",
   "metadata": {
    "scrolled": true,
    "tags": []
   },
   "outputs": [
    {
     "name": "stderr",
     "output_type": "stream",
     "text": [
      "2024-10-25 14:45:10.115688: I tensorflow/core/platform/cpu_feature_guard.cc:193] This TensorFlow binary is optimized with oneAPI Deep Neural Network Library (oneDNN) to use the following CPU instructions in performance-critical operations:  SSE4.1 SSE4.2 AVX AVX2 AVX512F AVX512_VNNI FMA\n",
      "To enable them in other operations, rebuild TensorFlow with the appropriate compiler flags.\n",
      "2024-10-25 14:45:10.209114: I tensorflow/core/common_runtime/gpu/gpu_device.cc:1613] Created device /job:localhost/replica:0/task:0/device:GPU:0 with 14402 MB memory:  -> device: 0, name: NVIDIA RTX A4000, pci bus id: 0000:ca:00.0, compute capability: 8.6\n"
     ]
    },
    {
     "name": "stdout",
     "output_type": "stream",
     "text": [
      "/c4/home/derek/data1/derek/data_scSLR/prenatal_brain/deep_splicing/ExplaiNN/data_out/EN_RG_multitask_DeltaPSI_sig_0.1_train_valid_test_deepripe_repeatKfold/repeat_0/fold0/\n"
     ]
    },
    {
     "name": "stderr",
     "output_type": "stream",
     "text": [
      "2024-10-25 14:45:16.804288: I tensorflow/compiler/xla/stream_executor/cuda/cuda_dnn.cc:428] Loaded cuDNN version 8907\n",
      "2024-10-25 14:45:18.069675: I tensorflow/tsl/platform/default/subprocess.cc:304] Start cannot spawn child process: No such file or directory\n",
      "2024-10-25 14:45:19.060229: I tensorflow/compiler/xla/stream_executor/cuda/cuda_blas.cc:630] TensorFloat-32 will be used for the matrix multiplication. This will only be logged once.\n",
      "2024-10-25 14:45:19.342467: I tensorflow/compiler/xla/service/service.cc:173] XLA service 0x55b3c1f44890 initialized for platform CUDA (this does not guarantee that XLA will be used). Devices:\n",
      "2024-10-25 14:45:19.342497: I tensorflow/compiler/xla/service/service.cc:181]   StreamExecutor device (0): NVIDIA RTX A4000, Compute Capability 8.6\n",
      "2024-10-25 14:45:19.435663: I tensorflow/compiler/mlir/tensorflow/utils/dump_mlir_util.cc:268] disabling MLIR crash reproducer, set env var `MLIR_CRASH_REPRODUCER_DIRECTORY` to enable.\n",
      "2024-10-25 14:45:19.630332: I tensorflow/tsl/platform/default/subprocess.cc:304] Start cannot spawn child process: No such file or directory\n",
      "2024-10-25 14:45:19.646612: I tensorflow/compiler/jit/xla_compilation_cache.cc:477] Compiled cluster using XLA!  This line is logged at most once for the lifetime of the process.\n"
     ]
    },
    {
     "name": "stdout",
     "output_type": "stream",
     "text": [
      "Restoring model weights from the end of the best epoch: 44.\n",
      "Epoch 59: early stopping\n",
      "0.40365827083587646\n",
      "3/3 [==============================] - 1s 31ms/step\n",
      "/c4/home/derek/data1/derek/data_scSLR/prenatal_brain/deep_splicing/ExplaiNN/data_out/EN_RG_multitask_DeltaPSI_sig_0.1_train_valid_test_deepripe_repeatKfold/repeat_0/fold1/\n",
      "Restoring model weights from the end of the best epoch: 56.\n",
      "Epoch 71: early stopping\n",
      "0.43029090762138367\n",
      "3/3 [==============================] - 1s 9ms/step\n",
      "/c4/home/derek/data1/derek/data_scSLR/prenatal_brain/deep_splicing/ExplaiNN/data_out/EN_RG_multitask_DeltaPSI_sig_0.1_train_valid_test_deepripe_repeatKfold/repeat_0/fold2/\n",
      "Restoring model weights from the end of the best epoch: 33.\n",
      "Epoch 48: early stopping\n",
      "0.48781150579452515\n",
      "3/3 [==============================] - 1s 10ms/step\n",
      "/c4/home/derek/data1/derek/data_scSLR/prenatal_brain/deep_splicing/ExplaiNN/data_out/EN_RG_multitask_DeltaPSI_sig_0.1_train_valid_test_deepripe_repeatKfold/repeat_0/fold3/\n",
      "Restoring model weights from the end of the best epoch: 19.\n",
      "Epoch 34: early stopping\n",
      "0.42879554629325867\n",
      "3/3 [==============================] - 1s 9ms/step\n",
      "/c4/home/derek/data1/derek/data_scSLR/prenatal_brain/deep_splicing/ExplaiNN/data_out/EN_RG_multitask_DeltaPSI_sig_0.1_train_valid_test_deepripe_repeatKfold/repeat_0/fold4/\n",
      "Restoring model weights from the end of the best epoch: 7.\n",
      "Epoch 22: early stopping\n",
      "0.3458932042121887\n",
      "WARNING:tensorflow:5 out of the last 13 calls to <function Model.make_predict_function.<locals>.predict_function at 0x7ef97c7549d0> triggered tf.function retracing. Tracing is expensive and the excessive number of tracings could be due to (1) creating @tf.function repeatedly in a loop, (2) passing tensors with different shapes, (3) passing Python objects instead of tensors. For (1), please define your @tf.function outside of the loop. For (2), @tf.function has reduce_retracing=True option that can avoid unnecessary retracing. For (3), please refer to https://www.tensorflow.org/guide/function#controlling_retracing and https://www.tensorflow.org/api_docs/python/tf/function for  more details.\n",
      "3/3 [==============================] - 1s 9ms/step\n",
      "/c4/home/derek/data1/derek/data_scSLR/prenatal_brain/deep_splicing/ExplaiNN/data_out/EN_RG_multitask_DeltaPSI_sig_0.1_train_valid_test_deepripe_repeatKfold/repeat_0/fold5/\n",
      "Restoring model weights from the end of the best epoch: 13.\n",
      "Epoch 28: early stopping\n",
      "0.3955908417701721\n",
      "WARNING:tensorflow:5 out of the last 13 calls to <function Model.make_predict_function.<locals>.predict_function at 0x7ef8dc6cb2e0> triggered tf.function retracing. Tracing is expensive and the excessive number of tracings could be due to (1) creating @tf.function repeatedly in a loop, (2) passing tensors with different shapes, (3) passing Python objects instead of tensors. For (1), please define your @tf.function outside of the loop. For (2), @tf.function has reduce_retracing=True option that can avoid unnecessary retracing. For (3), please refer to https://www.tensorflow.org/guide/function#controlling_retracing and https://www.tensorflow.org/api_docs/python/tf/function for  more details.\n",
      "3/3 [==============================] - 1s 9ms/step\n",
      "/c4/home/derek/data1/derek/data_scSLR/prenatal_brain/deep_splicing/ExplaiNN/data_out/EN_RG_multitask_DeltaPSI_sig_0.1_train_valid_test_deepripe_repeatKfold/repeat_0/fold6/\n",
      "Restoring model weights from the end of the best epoch: 31.\n",
      "Epoch 46: early stopping\n",
      "0.4228302836418152\n",
      "3/3 [==============================] - 1s 9ms/step\n",
      "/c4/home/derek/data1/derek/data_scSLR/prenatal_brain/deep_splicing/ExplaiNN/data_out/EN_RG_multitask_DeltaPSI_sig_0.1_train_valid_test_deepripe_repeatKfold/repeat_0/fold7/\n",
      "Restoring model weights from the end of the best epoch: 25.\n",
      "Epoch 40: early stopping\n",
      "0.36573097109794617\n",
      "3/3 [==============================] - 1s 9ms/step\n",
      "/c4/home/derek/data1/derek/data_scSLR/prenatal_brain/deep_splicing/ExplaiNN/data_out/EN_RG_multitask_DeltaPSI_sig_0.1_train_valid_test_deepripe_repeatKfold/repeat_0/fold8/\n",
      "Restoring model weights from the end of the best epoch: 34.\n",
      "Epoch 49: early stopping\n",
      "0.434810072183609\n",
      "3/3 [==============================] - 1s 9ms/step\n",
      "/c4/home/derek/data1/derek/data_scSLR/prenatal_brain/deep_splicing/ExplaiNN/data_out/EN_RG_multitask_DeltaPSI_sig_0.1_train_valid_test_deepripe_repeatKfold/repeat_0/fold9/\n",
      "Restoring model weights from the end of the best epoch: 32.\n",
      "Epoch 47: early stopping\n",
      "0.4185982644557953\n",
      "3/3 [==============================] - 1s 31ms/step\n",
      "/c4/home/derek/data1/derek/data_scSLR/prenatal_brain/deep_splicing/ExplaiNN/data_out/EN_RG_multitask_DeltaPSI_sig_0.1_train_valid_test_deepripe_repeatKfold/repeat_1/fold10/\n",
      "Restoring model weights from the end of the best epoch: 43.\n",
      "Epoch 58: early stopping\n",
      "0.47359567880630493\n",
      "3/3 [==============================] - 2s 8ms/step\n",
      "/c4/home/derek/data1/derek/data_scSLR/prenatal_brain/deep_splicing/ExplaiNN/data_out/EN_RG_multitask_DeltaPSI_sig_0.1_train_valid_test_deepripe_repeatKfold/repeat_1/fold11/\n",
      "Restoring model weights from the end of the best epoch: 21.\n",
      "Epoch 36: early stopping\n",
      "0.4666488766670227\n",
      "3/3 [==============================] - 1s 9ms/step\n",
      "/c4/home/derek/data1/derek/data_scSLR/prenatal_brain/deep_splicing/ExplaiNN/data_out/EN_RG_multitask_DeltaPSI_sig_0.1_train_valid_test_deepripe_repeatKfold/repeat_1/fold12/\n",
      "Restoring model weights from the end of the best epoch: 48.\n",
      "Epoch 63: early stopping\n",
      "0.48295265436172485\n",
      "3/3 [==============================] - 1s 9ms/step\n",
      "/c4/home/derek/data1/derek/data_scSLR/prenatal_brain/deep_splicing/ExplaiNN/data_out/EN_RG_multitask_DeltaPSI_sig_0.1_train_valid_test_deepripe_repeatKfold/repeat_1/fold13/\n",
      "Restoring model weights from the end of the best epoch: 24.\n",
      "Epoch 39: early stopping\n",
      "0.41047197580337524\n",
      "3/3 [==============================] - 1s 9ms/step\n",
      "/c4/home/derek/data1/derek/data_scSLR/prenatal_brain/deep_splicing/ExplaiNN/data_out/EN_RG_multitask_DeltaPSI_sig_0.1_train_valid_test_deepripe_repeatKfold/repeat_1/fold14/\n",
      "Restoring model weights from the end of the best epoch: 50.\n",
      "Epoch 65: early stopping\n",
      "0.4950477182865143\n",
      "3/3 [==============================] - 1s 9ms/step\n",
      "/c4/home/derek/data1/derek/data_scSLR/prenatal_brain/deep_splicing/ExplaiNN/data_out/EN_RG_multitask_DeltaPSI_sig_0.1_train_valid_test_deepripe_repeatKfold/repeat_1/fold15/\n",
      "Restoring model weights from the end of the best epoch: 28.\n",
      "Epoch 43: early stopping\n",
      "0.5195118188858032\n",
      "3/3 [==============================] - 1s 9ms/step\n",
      "/c4/home/derek/data1/derek/data_scSLR/prenatal_brain/deep_splicing/ExplaiNN/data_out/EN_RG_multitask_DeltaPSI_sig_0.1_train_valid_test_deepripe_repeatKfold/repeat_1/fold16/\n",
      "Restoring model weights from the end of the best epoch: 35.\n",
      "Epoch 50: early stopping\n",
      "0.3716776371002197\n",
      "3/3 [==============================] - 1s 9ms/step\n",
      "/c4/home/derek/data1/derek/data_scSLR/prenatal_brain/deep_splicing/ExplaiNN/data_out/EN_RG_multitask_DeltaPSI_sig_0.1_train_valid_test_deepripe_repeatKfold/repeat_1/fold17/\n",
      "Restoring model weights from the end of the best epoch: 30.\n",
      "Epoch 45: early stopping\n",
      "0.496401846408844\n",
      "3/3 [==============================] - 1s 9ms/step\n",
      "/c4/home/derek/data1/derek/data_scSLR/prenatal_brain/deep_splicing/ExplaiNN/data_out/EN_RG_multitask_DeltaPSI_sig_0.1_train_valid_test_deepripe_repeatKfold/repeat_1/fold18/\n",
      "Restoring model weights from the end of the best epoch: 37.\n",
      "Epoch 52: early stopping\n",
      "0.37874293327331543\n",
      "3/3 [==============================] - 1s 9ms/step\n",
      "/c4/home/derek/data1/derek/data_scSLR/prenatal_brain/deep_splicing/ExplaiNN/data_out/EN_RG_multitask_DeltaPSI_sig_0.1_train_valid_test_deepripe_repeatKfold/repeat_1/fold19/\n",
      "Restoring model weights from the end of the best epoch: 16.\n",
      "Epoch 31: early stopping\n",
      "0.3747541308403015\n",
      "3/3 [==============================] - 1s 9ms/step\n",
      "/c4/home/derek/data1/derek/data_scSLR/prenatal_brain/deep_splicing/ExplaiNN/data_out/EN_RG_multitask_DeltaPSI_sig_0.1_train_valid_test_deepripe_repeatKfold/repeat_2/fold20/\n",
      "Restoring model weights from the end of the best epoch: 46.\n",
      "Epoch 61: early stopping\n",
      "0.4224557876586914\n",
      "3/3 [==============================] - 1s 9ms/step\n",
      "/c4/home/derek/data1/derek/data_scSLR/prenatal_brain/deep_splicing/ExplaiNN/data_out/EN_RG_multitask_DeltaPSI_sig_0.1_train_valid_test_deepripe_repeatKfold/repeat_2/fold21/\n",
      "Restoring model weights from the end of the best epoch: 27.\n",
      "Epoch 42: early stopping\n",
      "0.46209365129470825\n",
      "3/3 [==============================] - 2s 9ms/step\n",
      "/c4/home/derek/data1/derek/data_scSLR/prenatal_brain/deep_splicing/ExplaiNN/data_out/EN_RG_multitask_DeltaPSI_sig_0.1_train_valid_test_deepripe_repeatKfold/repeat_2/fold22/\n",
      "Restoring model weights from the end of the best epoch: 22.\n",
      "Epoch 37: early stopping\n",
      "0.4811769127845764\n",
      "3/3 [==============================] - 1s 9ms/step\n",
      "/c4/home/derek/data1/derek/data_scSLR/prenatal_brain/deep_splicing/ExplaiNN/data_out/EN_RG_multitask_DeltaPSI_sig_0.1_train_valid_test_deepripe_repeatKfold/repeat_2/fold23/\n",
      "Restoring model weights from the end of the best epoch: 28.\n",
      "Epoch 43: early stopping\n",
      "0.4058931767940521\n",
      "3/3 [==============================] - 1s 9ms/step\n",
      "/c4/home/derek/data1/derek/data_scSLR/prenatal_brain/deep_splicing/ExplaiNN/data_out/EN_RG_multitask_DeltaPSI_sig_0.1_train_valid_test_deepripe_repeatKfold/repeat_2/fold24/\n",
      "Restoring model weights from the end of the best epoch: 32.\n",
      "Epoch 47: early stopping\n",
      "0.46434587240219116\n",
      "3/3 [==============================] - 1s 9ms/step\n",
      "/c4/home/derek/data1/derek/data_scSLR/prenatal_brain/deep_splicing/ExplaiNN/data_out/EN_RG_multitask_DeltaPSI_sig_0.1_train_valid_test_deepripe_repeatKfold/repeat_2/fold25/\n",
      "Restoring model weights from the end of the best epoch: 40.\n",
      "Epoch 55: early stopping\n",
      "0.427592009305954\n",
      "3/3 [==============================] - 1s 8ms/step\n",
      "/c4/home/derek/data1/derek/data_scSLR/prenatal_brain/deep_splicing/ExplaiNN/data_out/EN_RG_multitask_DeltaPSI_sig_0.1_train_valid_test_deepripe_repeatKfold/repeat_2/fold26/\n",
      "Restoring model weights from the end of the best epoch: 67.\n",
      "Epoch 82: early stopping\n",
      "0.4436449408531189\n",
      "3/3 [==============================] - 1s 9ms/step\n",
      "/c4/home/derek/data1/derek/data_scSLR/prenatal_brain/deep_splicing/ExplaiNN/data_out/EN_RG_multitask_DeltaPSI_sig_0.1_train_valid_test_deepripe_repeatKfold/repeat_2/fold27/\n",
      "Restoring model weights from the end of the best epoch: 51.\n",
      "Epoch 66: early stopping\n",
      "0.5051038265228271\n",
      "3/3 [==============================] - 1s 9ms/step\n",
      "/c4/home/derek/data1/derek/data_scSLR/prenatal_brain/deep_splicing/ExplaiNN/data_out/EN_RG_multitask_DeltaPSI_sig_0.1_train_valid_test_deepripe_repeatKfold/repeat_2/fold28/\n",
      "Restoring model weights from the end of the best epoch: 26.\n",
      "Epoch 41: early stopping\n",
      "0.4512004852294922\n",
      "3/3 [==============================] - 1s 9ms/step\n",
      "/c4/home/derek/data1/derek/data_scSLR/prenatal_brain/deep_splicing/ExplaiNN/data_out/EN_RG_multitask_DeltaPSI_sig_0.1_train_valid_test_deepripe_repeatKfold/repeat_2/fold29/\n",
      "Restoring model weights from the end of the best epoch: 36.\n",
      "Epoch 51: early stopping\n",
      "0.4281507730484009\n",
      "3/3 [==============================] - 1s 9ms/step\n",
      "/c4/home/derek/data1/derek/data_scSLR/prenatal_brain/deep_splicing/ExplaiNN/data_out/EN_RG_multitask_DeltaPSI_sig_0.1_train_valid_test_deepripe_repeatKfold/repeat_3/fold30/\n",
      "Restoring model weights from the end of the best epoch: 38.\n",
      "Epoch 53: early stopping\n",
      "0.4127759337425232\n",
      "3/3 [==============================] - 2s 9ms/step\n",
      "/c4/home/derek/data1/derek/data_scSLR/prenatal_brain/deep_splicing/ExplaiNN/data_out/EN_RG_multitask_DeltaPSI_sig_0.1_train_valid_test_deepripe_repeatKfold/repeat_3/fold31/\n",
      "Restoring model weights from the end of the best epoch: 50.\n",
      "Epoch 65: early stopping\n",
      "0.4152102470397949\n",
      "3/3 [==============================] - 1s 9ms/step\n",
      "/c4/home/derek/data1/derek/data_scSLR/prenatal_brain/deep_splicing/ExplaiNN/data_out/EN_RG_multitask_DeltaPSI_sig_0.1_train_valid_test_deepripe_repeatKfold/repeat_3/fold32/\n",
      "Restoring model weights from the end of the best epoch: 21.\n",
      "Epoch 36: early stopping\n",
      "0.43389731645584106\n",
      "3/3 [==============================] - 1s 9ms/step\n",
      "/c4/home/derek/data1/derek/data_scSLR/prenatal_brain/deep_splicing/ExplaiNN/data_out/EN_RG_multitask_DeltaPSI_sig_0.1_train_valid_test_deepripe_repeatKfold/repeat_3/fold33/\n",
      "Restoring model weights from the end of the best epoch: 34.\n",
      "Epoch 49: early stopping\n",
      "0.4248310923576355\n",
      "3/3 [==============================] - 1s 9ms/step\n",
      "/c4/home/derek/data1/derek/data_scSLR/prenatal_brain/deep_splicing/ExplaiNN/data_out/EN_RG_multitask_DeltaPSI_sig_0.1_train_valid_test_deepripe_repeatKfold/repeat_3/fold34/\n",
      "Restoring model weights from the end of the best epoch: 20.\n",
      "Epoch 35: early stopping\n",
      "0.3635994791984558\n",
      "3/3 [==============================] - 1s 9ms/step\n",
      "/c4/home/derek/data1/derek/data_scSLR/prenatal_brain/deep_splicing/ExplaiNN/data_out/EN_RG_multitask_DeltaPSI_sig_0.1_train_valid_test_deepripe_repeatKfold/repeat_3/fold35/\n",
      "Restoring model weights from the end of the best epoch: 29.\n",
      "Epoch 44: early stopping\n",
      "0.4350673258304596\n",
      "3/3 [==============================] - 1s 9ms/step\n",
      "/c4/home/derek/data1/derek/data_scSLR/prenatal_brain/deep_splicing/ExplaiNN/data_out/EN_RG_multitask_DeltaPSI_sig_0.1_train_valid_test_deepripe_repeatKfold/repeat_3/fold36/\n",
      "Restoring model weights from the end of the best epoch: 37.\n",
      "Epoch 52: early stopping\n",
      "0.48821261525154114\n",
      "3/3 [==============================] - 1s 9ms/step\n",
      "/c4/home/derek/data1/derek/data_scSLR/prenatal_brain/deep_splicing/ExplaiNN/data_out/EN_RG_multitask_DeltaPSI_sig_0.1_train_valid_test_deepripe_repeatKfold/repeat_3/fold37/\n",
      "Restoring model weights from the end of the best epoch: 15.\n",
      "Epoch 30: early stopping\n",
      "0.4366445541381836\n",
      "3/3 [==============================] - 1s 9ms/step\n",
      "/c4/home/derek/data1/derek/data_scSLR/prenatal_brain/deep_splicing/ExplaiNN/data_out/EN_RG_multitask_DeltaPSI_sig_0.1_train_valid_test_deepripe_repeatKfold/repeat_3/fold38/\n",
      "Restoring model weights from the end of the best epoch: 20.\n",
      "Epoch 35: early stopping\n",
      "0.4596928060054779\n",
      "3/3 [==============================] - 1s 9ms/step\n",
      "/c4/home/derek/data1/derek/data_scSLR/prenatal_brain/deep_splicing/ExplaiNN/data_out/EN_RG_multitask_DeltaPSI_sig_0.1_train_valid_test_deepripe_repeatKfold/repeat_3/fold39/\n",
      "Restoring model weights from the end of the best epoch: 31.\n",
      "Epoch 46: early stopping\n",
      "0.46692582964897156\n",
      "3/3 [==============================] - 1s 9ms/step\n",
      "/c4/home/derek/data1/derek/data_scSLR/prenatal_brain/deep_splicing/ExplaiNN/data_out/EN_RG_multitask_DeltaPSI_sig_0.1_train_valid_test_deepripe_repeatKfold/repeat_4/fold40/\n",
      "Restoring model weights from the end of the best epoch: 29.\n",
      "Epoch 44: early stopping\n",
      "0.43981611728668213\n",
      "3/3 [==============================] - 1s 9ms/step\n",
      "/c4/home/derek/data1/derek/data_scSLR/prenatal_brain/deep_splicing/ExplaiNN/data_out/EN_RG_multitask_DeltaPSI_sig_0.1_train_valid_test_deepripe_repeatKfold/repeat_4/fold41/\n",
      "Restoring model weights from the end of the best epoch: 40.\n",
      "Epoch 55: early stopping\n",
      "0.3382067084312439\n",
      "3/3 [==============================] - 1s 9ms/step\n",
      "/c4/home/derek/data1/derek/data_scSLR/prenatal_brain/deep_splicing/ExplaiNN/data_out/EN_RG_multitask_DeltaPSI_sig_0.1_train_valid_test_deepripe_repeatKfold/repeat_4/fold42/\n",
      "Restoring model weights from the end of the best epoch: 21.\n",
      "Epoch 36: early stopping\n",
      "0.36508023738861084\n",
      "3/3 [==============================] - 1s 9ms/step\n",
      "/c4/home/derek/data1/derek/data_scSLR/prenatal_brain/deep_splicing/ExplaiNN/data_out/EN_RG_multitask_DeltaPSI_sig_0.1_train_valid_test_deepripe_repeatKfold/repeat_4/fold43/\n",
      "Restoring model weights from the end of the best epoch: 35.\n",
      "Epoch 50: early stopping\n",
      "0.3593810796737671\n",
      "3/3 [==============================] - 1s 9ms/step\n",
      "/c4/home/derek/data1/derek/data_scSLR/prenatal_brain/deep_splicing/ExplaiNN/data_out/EN_RG_multitask_DeltaPSI_sig_0.1_train_valid_test_deepripe_repeatKfold/repeat_4/fold44/\n",
      "Restoring model weights from the end of the best epoch: 38.\n",
      "Epoch 53: early stopping\n",
      "0.506820023059845\n",
      "3/3 [==============================] - 1s 9ms/step\n",
      "/c4/home/derek/data1/derek/data_scSLR/prenatal_brain/deep_splicing/ExplaiNN/data_out/EN_RG_multitask_DeltaPSI_sig_0.1_train_valid_test_deepripe_repeatKfold/repeat_4/fold45/\n",
      "Restoring model weights from the end of the best epoch: 37.\n",
      "Epoch 52: early stopping\n",
      "0.49694961309432983\n",
      "3/3 [==============================] - 1s 9ms/step\n",
      "/c4/home/derek/data1/derek/data_scSLR/prenatal_brain/deep_splicing/ExplaiNN/data_out/EN_RG_multitask_DeltaPSI_sig_0.1_train_valid_test_deepripe_repeatKfold/repeat_4/fold46/\n",
      "Restoring model weights from the end of the best epoch: 38.\n",
      "Epoch 53: early stopping\n",
      "0.39579957723617554\n",
      "3/3 [==============================] - 1s 9ms/step\n",
      "/c4/home/derek/data1/derek/data_scSLR/prenatal_brain/deep_splicing/ExplaiNN/data_out/EN_RG_multitask_DeltaPSI_sig_0.1_train_valid_test_deepripe_repeatKfold/repeat_4/fold47/\n",
      "Restoring model weights from the end of the best epoch: 35.\n",
      "Epoch 50: early stopping\n",
      "0.46950721740722656\n",
      "3/3 [==============================] - 1s 10ms/step\n",
      "/c4/home/derek/data1/derek/data_scSLR/prenatal_brain/deep_splicing/ExplaiNN/data_out/EN_RG_multitask_DeltaPSI_sig_0.1_train_valid_test_deepripe_repeatKfold/repeat_4/fold48/\n",
      "Restoring model weights from the end of the best epoch: 35.\n",
      "Epoch 50: early stopping\n",
      "0.4074667692184448\n",
      "3/3 [==============================] - 2s 10ms/step\n",
      "/c4/home/derek/data1/derek/data_scSLR/prenatal_brain/deep_splicing/ExplaiNN/data_out/EN_RG_multitask_DeltaPSI_sig_0.1_train_valid_test_deepripe_repeatKfold/repeat_4/fold49/\n",
      "Restoring model weights from the end of the best epoch: 29.\n",
      "Epoch 44: early stopping\n",
      "0.4288140535354614\n",
      "3/3 [==============================] - 1s 10ms/step\n",
      "/c4/home/derek/data1/derek/data_scSLR/prenatal_brain/deep_splicing/ExplaiNN/data_out/EN_RG_multitask_DeltaPSI_sig_0.1_train_valid_test_deepripe_repeatKfold/repeat_5/fold50/\n",
      "Restoring model weights from the end of the best epoch: 41.\n",
      "Epoch 56: early stopping\n",
      "0.42641979455947876\n",
      "3/3 [==============================] - 1s 9ms/step\n",
      "/c4/home/derek/data1/derek/data_scSLR/prenatal_brain/deep_splicing/ExplaiNN/data_out/EN_RG_multitask_DeltaPSI_sig_0.1_train_valid_test_deepripe_repeatKfold/repeat_5/fold51/\n",
      "Restoring model weights from the end of the best epoch: 23.\n",
      "Epoch 38: early stopping\n",
      "0.49022695422172546\n",
      "3/3 [==============================] - 1s 9ms/step\n",
      "/c4/home/derek/data1/derek/data_scSLR/prenatal_brain/deep_splicing/ExplaiNN/data_out/EN_RG_multitask_DeltaPSI_sig_0.1_train_valid_test_deepripe_repeatKfold/repeat_5/fold52/\n",
      "Restoring model weights from the end of the best epoch: 23.\n",
      "Epoch 38: early stopping\n",
      "0.4526393711566925\n",
      "3/3 [==============================] - 1s 9ms/step\n",
      "/c4/home/derek/data1/derek/data_scSLR/prenatal_brain/deep_splicing/ExplaiNN/data_out/EN_RG_multitask_DeltaPSI_sig_0.1_train_valid_test_deepripe_repeatKfold/repeat_5/fold53/\n",
      "Restoring model weights from the end of the best epoch: 96.\n",
      "Epoch 111: early stopping\n",
      "0.45816972851753235\n",
      "3/3 [==============================] - 1s 9ms/step\n",
      "/c4/home/derek/data1/derek/data_scSLR/prenatal_brain/deep_splicing/ExplaiNN/data_out/EN_RG_multitask_DeltaPSI_sig_0.1_train_valid_test_deepripe_repeatKfold/repeat_5/fold54/\n",
      "Restoring model weights from the end of the best epoch: 12.\n",
      "Epoch 27: early stopping\n",
      "0.3745129704475403\n",
      "3/3 [==============================] - 1s 9ms/step\n",
      "/c4/home/derek/data1/derek/data_scSLR/prenatal_brain/deep_splicing/ExplaiNN/data_out/EN_RG_multitask_DeltaPSI_sig_0.1_train_valid_test_deepripe_repeatKfold/repeat_5/fold55/\n",
      "Restoring model weights from the end of the best epoch: 43.\n",
      "Epoch 58: early stopping\n",
      "0.46364885568618774\n",
      "3/3 [==============================] - 1s 9ms/step\n",
      "/c4/home/derek/data1/derek/data_scSLR/prenatal_brain/deep_splicing/ExplaiNN/data_out/EN_RG_multitask_DeltaPSI_sig_0.1_train_valid_test_deepripe_repeatKfold/repeat_5/fold56/\n",
      "Restoring model weights from the end of the best epoch: 32.\n",
      "Epoch 47: early stopping\n",
      "0.38628581166267395\n",
      "3/3 [==============================] - 1s 9ms/step\n",
      "/c4/home/derek/data1/derek/data_scSLR/prenatal_brain/deep_splicing/ExplaiNN/data_out/EN_RG_multitask_DeltaPSI_sig_0.1_train_valid_test_deepripe_repeatKfold/repeat_5/fold57/\n",
      "Restoring model weights from the end of the best epoch: 17.\n",
      "Epoch 32: early stopping\n",
      "0.40766316652297974\n",
      "3/3 [==============================] - 1s 9ms/step\n",
      "/c4/home/derek/data1/derek/data_scSLR/prenatal_brain/deep_splicing/ExplaiNN/data_out/EN_RG_multitask_DeltaPSI_sig_0.1_train_valid_test_deepripe_repeatKfold/repeat_5/fold58/\n",
      "Restoring model weights from the end of the best epoch: 24.\n",
      "Epoch 39: early stopping\n",
      "0.38335782289505005\n",
      "3/3 [==============================] - 1s 9ms/step\n",
      "/c4/home/derek/data1/derek/data_scSLR/prenatal_brain/deep_splicing/ExplaiNN/data_out/EN_RG_multitask_DeltaPSI_sig_0.1_train_valid_test_deepripe_repeatKfold/repeat_5/fold59/\n",
      "Restoring model weights from the end of the best epoch: 12.\n",
      "Epoch 27: early stopping\n",
      "0.41906124353408813\n",
      "3/3 [==============================] - 1s 10ms/step\n",
      "/c4/home/derek/data1/derek/data_scSLR/prenatal_brain/deep_splicing/ExplaiNN/data_out/EN_RG_multitask_DeltaPSI_sig_0.1_train_valid_test_deepripe_repeatKfold/repeat_6/fold60/\n",
      "Restoring model weights from the end of the best epoch: 35.\n",
      "Epoch 50: early stopping\n",
      "0.3722791373729706\n",
      "3/3 [==============================] - 1s 9ms/step\n",
      "/c4/home/derek/data1/derek/data_scSLR/prenatal_brain/deep_splicing/ExplaiNN/data_out/EN_RG_multitask_DeltaPSI_sig_0.1_train_valid_test_deepripe_repeatKfold/repeat_6/fold61/\n",
      "Restoring model weights from the end of the best epoch: 56.\n",
      "Epoch 71: early stopping\n",
      "0.41131699085235596\n",
      "3/3 [==============================] - 1s 9ms/step\n",
      "/c4/home/derek/data1/derek/data_scSLR/prenatal_brain/deep_splicing/ExplaiNN/data_out/EN_RG_multitask_DeltaPSI_sig_0.1_train_valid_test_deepripe_repeatKfold/repeat_6/fold62/\n",
      "Restoring model weights from the end of the best epoch: 18.\n",
      "Epoch 33: early stopping\n",
      "0.3836483359336853\n",
      "3/3 [==============================] - 1s 9ms/step\n",
      "/c4/home/derek/data1/derek/data_scSLR/prenatal_brain/deep_splicing/ExplaiNN/data_out/EN_RG_multitask_DeltaPSI_sig_0.1_train_valid_test_deepripe_repeatKfold/repeat_6/fold63/\n",
      "Restoring model weights from the end of the best epoch: 24.\n",
      "Epoch 39: early stopping\n",
      "0.47747787833213806\n",
      "3/3 [==============================] - 1s 9ms/step\n",
      "/c4/home/derek/data1/derek/data_scSLR/prenatal_brain/deep_splicing/ExplaiNN/data_out/EN_RG_multitask_DeltaPSI_sig_0.1_train_valid_test_deepripe_repeatKfold/repeat_6/fold64/\n",
      "Restoring model weights from the end of the best epoch: 30.\n",
      "Epoch 45: early stopping\n",
      "0.39146292209625244\n",
      "3/3 [==============================] - 2s 10ms/step\n",
      "/c4/home/derek/data1/derek/data_scSLR/prenatal_brain/deep_splicing/ExplaiNN/data_out/EN_RG_multitask_DeltaPSI_sig_0.1_train_valid_test_deepripe_repeatKfold/repeat_6/fold65/\n",
      "Restoring model weights from the end of the best epoch: 53.\n",
      "Epoch 68: early stopping\n",
      "0.40521329641342163\n",
      "3/3 [==============================] - 1s 9ms/step\n",
      "/c4/home/derek/data1/derek/data_scSLR/prenatal_brain/deep_splicing/ExplaiNN/data_out/EN_RG_multitask_DeltaPSI_sig_0.1_train_valid_test_deepripe_repeatKfold/repeat_6/fold66/\n",
      "Restoring model weights from the end of the best epoch: 20.\n",
      "Epoch 35: early stopping\n",
      "0.48066189885139465\n",
      "3/3 [==============================] - 1s 10ms/step\n",
      "/c4/home/derek/data1/derek/data_scSLR/prenatal_brain/deep_splicing/ExplaiNN/data_out/EN_RG_multitask_DeltaPSI_sig_0.1_train_valid_test_deepripe_repeatKfold/repeat_6/fold67/\n",
      "Restoring model weights from the end of the best epoch: 23.\n",
      "Epoch 38: early stopping\n",
      "0.379676878452301\n",
      "3/3 [==============================] - 1s 10ms/step\n",
      "/c4/home/derek/data1/derek/data_scSLR/prenatal_brain/deep_splicing/ExplaiNN/data_out/EN_RG_multitask_DeltaPSI_sig_0.1_train_valid_test_deepripe_repeatKfold/repeat_6/fold68/\n",
      "Restoring model weights from the end of the best epoch: 26.\n",
      "Epoch 41: early stopping\n",
      "0.40160584449768066\n",
      "3/3 [==============================] - 1s 9ms/step\n",
      "/c4/home/derek/data1/derek/data_scSLR/prenatal_brain/deep_splicing/ExplaiNN/data_out/EN_RG_multitask_DeltaPSI_sig_0.1_train_valid_test_deepripe_repeatKfold/repeat_6/fold69/\n",
      "Restoring model weights from the end of the best epoch: 15.\n",
      "Epoch 30: early stopping\n",
      "0.3987680971622467\n",
      "3/3 [==============================] - 1s 9ms/step\n",
      "/c4/home/derek/data1/derek/data_scSLR/prenatal_brain/deep_splicing/ExplaiNN/data_out/EN_RG_multitask_DeltaPSI_sig_0.1_train_valid_test_deepripe_repeatKfold/repeat_7/fold70/\n",
      "Restoring model weights from the end of the best epoch: 37.\n",
      "Epoch 52: early stopping\n",
      "0.33596426248550415\n",
      "3/3 [==============================] - 1s 9ms/step\n",
      "/c4/home/derek/data1/derek/data_scSLR/prenatal_brain/deep_splicing/ExplaiNN/data_out/EN_RG_multitask_DeltaPSI_sig_0.1_train_valid_test_deepripe_repeatKfold/repeat_7/fold71/\n",
      "Restoring model weights from the end of the best epoch: 23.\n",
      "Epoch 38: early stopping\n",
      "0.4629499316215515\n",
      "3/3 [==============================] - 1s 10ms/step\n",
      "/c4/home/derek/data1/derek/data_scSLR/prenatal_brain/deep_splicing/ExplaiNN/data_out/EN_RG_multitask_DeltaPSI_sig_0.1_train_valid_test_deepripe_repeatKfold/repeat_7/fold72/\n",
      "Restoring model weights from the end of the best epoch: 31.\n",
      "Epoch 46: early stopping\n",
      "0.45576342940330505\n",
      "3/3 [==============================] - 1s 9ms/step\n",
      "/c4/home/derek/data1/derek/data_scSLR/prenatal_brain/deep_splicing/ExplaiNN/data_out/EN_RG_multitask_DeltaPSI_sig_0.1_train_valid_test_deepripe_repeatKfold/repeat_7/fold73/\n",
      "Restoring model weights from the end of the best epoch: 16.\n",
      "Epoch 31: early stopping\n",
      "0.4802548885345459\n",
      "3/3 [==============================] - 1s 9ms/step\n",
      "/c4/home/derek/data1/derek/data_scSLR/prenatal_brain/deep_splicing/ExplaiNN/data_out/EN_RG_multitask_DeltaPSI_sig_0.1_train_valid_test_deepripe_repeatKfold/repeat_7/fold74/\n",
      "Restoring model weights from the end of the best epoch: 28.\n",
      "Epoch 43: early stopping\n",
      "0.4292949140071869\n",
      "3/3 [==============================] - 1s 9ms/step\n",
      "/c4/home/derek/data1/derek/data_scSLR/prenatal_brain/deep_splicing/ExplaiNN/data_out/EN_RG_multitask_DeltaPSI_sig_0.1_train_valid_test_deepripe_repeatKfold/repeat_7/fold75/\n",
      "Restoring model weights from the end of the best epoch: 39.\n",
      "Epoch 54: early stopping\n",
      "0.4931478500366211\n",
      "3/3 [==============================] - 1s 9ms/step\n",
      "/c4/home/derek/data1/derek/data_scSLR/prenatal_brain/deep_splicing/ExplaiNN/data_out/EN_RG_multitask_DeltaPSI_sig_0.1_train_valid_test_deepripe_repeatKfold/repeat_7/fold76/\n",
      "Restoring model weights from the end of the best epoch: 26.\n",
      "Epoch 41: early stopping\n",
      "0.4180604815483093\n",
      "3/3 [==============================] - 1s 9ms/step\n",
      "/c4/home/derek/data1/derek/data_scSLR/prenatal_brain/deep_splicing/ExplaiNN/data_out/EN_RG_multitask_DeltaPSI_sig_0.1_train_valid_test_deepripe_repeatKfold/repeat_7/fold77/\n",
      "Restoring model weights from the end of the best epoch: 46.\n",
      "Epoch 61: early stopping\n",
      "0.35544925928115845\n",
      "3/3 [==============================] - 1s 9ms/step\n",
      "/c4/home/derek/data1/derek/data_scSLR/prenatal_brain/deep_splicing/ExplaiNN/data_out/EN_RG_multitask_DeltaPSI_sig_0.1_train_valid_test_deepripe_repeatKfold/repeat_7/fold78/\n",
      "Restoring model weights from the end of the best epoch: 67.\n",
      "Epoch 82: early stopping\n",
      "0.4481402039527893\n",
      "3/3 [==============================] - 1s 9ms/step\n",
      "/c4/home/derek/data1/derek/data_scSLR/prenatal_brain/deep_splicing/ExplaiNN/data_out/EN_RG_multitask_DeltaPSI_sig_0.1_train_valid_test_deepripe_repeatKfold/repeat_7/fold79/\n",
      "Restoring model weights from the end of the best epoch: 31.\n",
      "Epoch 46: early stopping\n",
      "0.449504017829895\n",
      "3/3 [==============================] - 1s 9ms/step\n",
      "/c4/home/derek/data1/derek/data_scSLR/prenatal_brain/deep_splicing/ExplaiNN/data_out/EN_RG_multitask_DeltaPSI_sig_0.1_train_valid_test_deepripe_repeatKfold/repeat_8/fold80/\n",
      "Restoring model weights from the end of the best epoch: 23.\n",
      "Epoch 38: early stopping\n",
      "0.4437754154205322\n",
      "3/3 [==============================] - 1s 9ms/step\n",
      "/c4/home/derek/data1/derek/data_scSLR/prenatal_brain/deep_splicing/ExplaiNN/data_out/EN_RG_multitask_DeltaPSI_sig_0.1_train_valid_test_deepripe_repeatKfold/repeat_8/fold81/\n",
      "Restoring model weights from the end of the best epoch: 24.\n",
      "Epoch 39: early stopping\n",
      "0.4195937514305115\n",
      "3/3 [==============================] - 1s 9ms/step\n",
      "/c4/home/derek/data1/derek/data_scSLR/prenatal_brain/deep_splicing/ExplaiNN/data_out/EN_RG_multitask_DeltaPSI_sig_0.1_train_valid_test_deepripe_repeatKfold/repeat_8/fold82/\n",
      "Restoring model weights from the end of the best epoch: 29.\n",
      "Epoch 44: early stopping\n",
      "0.4222865104675293\n",
      "3/3 [==============================] - 1s 9ms/step\n",
      "/c4/home/derek/data1/derek/data_scSLR/prenatal_brain/deep_splicing/ExplaiNN/data_out/EN_RG_multitask_DeltaPSI_sig_0.1_train_valid_test_deepripe_repeatKfold/repeat_8/fold83/\n",
      "Restoring model weights from the end of the best epoch: 29.\n",
      "Epoch 44: early stopping\n",
      "0.43920403718948364\n",
      "3/3 [==============================] - 1s 9ms/step\n",
      "/c4/home/derek/data1/derek/data_scSLR/prenatal_brain/deep_splicing/ExplaiNN/data_out/EN_RG_multitask_DeltaPSI_sig_0.1_train_valid_test_deepripe_repeatKfold/repeat_8/fold84/\n",
      "Restoring model weights from the end of the best epoch: 19.\n",
      "Epoch 34: early stopping\n",
      "0.3801878094673157\n",
      "3/3 [==============================] - 1s 9ms/step\n",
      "/c4/home/derek/data1/derek/data_scSLR/prenatal_brain/deep_splicing/ExplaiNN/data_out/EN_RG_multitask_DeltaPSI_sig_0.1_train_valid_test_deepripe_repeatKfold/repeat_8/fold85/\n",
      "Restoring model weights from the end of the best epoch: 44.\n",
      "Epoch 59: early stopping\n",
      "0.44853004813194275\n",
      "3/3 [==============================] - 1s 9ms/step\n",
      "/c4/home/derek/data1/derek/data_scSLR/prenatal_brain/deep_splicing/ExplaiNN/data_out/EN_RG_multitask_DeltaPSI_sig_0.1_train_valid_test_deepripe_repeatKfold/repeat_8/fold86/\n",
      "Restoring model weights from the end of the best epoch: 21.\n",
      "Epoch 36: early stopping\n",
      "0.417254775762558\n",
      "3/3 [==============================] - 1s 9ms/step\n",
      "/c4/home/derek/data1/derek/data_scSLR/prenatal_brain/deep_splicing/ExplaiNN/data_out/EN_RG_multitask_DeltaPSI_sig_0.1_train_valid_test_deepripe_repeatKfold/repeat_8/fold87/\n",
      "Restoring model weights from the end of the best epoch: 23.\n",
      "Epoch 38: early stopping\n",
      "0.4258608818054199\n",
      "3/3 [==============================] - 1s 9ms/step\n",
      "/c4/home/derek/data1/derek/data_scSLR/prenatal_brain/deep_splicing/ExplaiNN/data_out/EN_RG_multitask_DeltaPSI_sig_0.1_train_valid_test_deepripe_repeatKfold/repeat_8/fold88/\n",
      "Restoring model weights from the end of the best epoch: 25.\n",
      "Epoch 40: early stopping\n",
      "0.3969671130180359\n",
      "3/3 [==============================] - 1s 9ms/step\n",
      "/c4/home/derek/data1/derek/data_scSLR/prenatal_brain/deep_splicing/ExplaiNN/data_out/EN_RG_multitask_DeltaPSI_sig_0.1_train_valid_test_deepripe_repeatKfold/repeat_8/fold89/\n",
      "Restoring model weights from the end of the best epoch: 28.\n",
      "Epoch 43: early stopping\n",
      "0.48167622089385986\n",
      "3/3 [==============================] - 1s 9ms/step\n",
      "/c4/home/derek/data1/derek/data_scSLR/prenatal_brain/deep_splicing/ExplaiNN/data_out/EN_RG_multitask_DeltaPSI_sig_0.1_train_valid_test_deepripe_repeatKfold/repeat_9/fold90/\n",
      "Restoring model weights from the end of the best epoch: 35.\n",
      "Epoch 50: early stopping\n",
      "0.4064076542854309\n",
      "3/3 [==============================] - 1s 9ms/step\n",
      "/c4/home/derek/data1/derek/data_scSLR/prenatal_brain/deep_splicing/ExplaiNN/data_out/EN_RG_multitask_DeltaPSI_sig_0.1_train_valid_test_deepripe_repeatKfold/repeat_9/fold91/\n",
      "Restoring model weights from the end of the best epoch: 55.\n",
      "Epoch 70: early stopping\n",
      "0.4876847267150879\n",
      "3/3 [==============================] - 1s 9ms/step\n",
      "/c4/home/derek/data1/derek/data_scSLR/prenatal_brain/deep_splicing/ExplaiNN/data_out/EN_RG_multitask_DeltaPSI_sig_0.1_train_valid_test_deepripe_repeatKfold/repeat_9/fold92/\n",
      "Restoring model weights from the end of the best epoch: 28.\n",
      "Epoch 43: early stopping\n",
      "0.4535292983055115\n",
      "3/3 [==============================] - 1s 9ms/step\n",
      "/c4/home/derek/data1/derek/data_scSLR/prenatal_brain/deep_splicing/ExplaiNN/data_out/EN_RG_multitask_DeltaPSI_sig_0.1_train_valid_test_deepripe_repeatKfold/repeat_9/fold93/\n",
      "Restoring model weights from the end of the best epoch: 40.\n",
      "Epoch 55: early stopping\n",
      "0.40426120162010193\n",
      "3/3 [==============================] - 1s 9ms/step\n",
      "/c4/home/derek/data1/derek/data_scSLR/prenatal_brain/deep_splicing/ExplaiNN/data_out/EN_RG_multitask_DeltaPSI_sig_0.1_train_valid_test_deepripe_repeatKfold/repeat_9/fold94/\n",
      "Restoring model weights from the end of the best epoch: 64.\n",
      "Epoch 79: early stopping\n",
      "0.49838823080062866\n",
      "3/3 [==============================] - 1s 9ms/step\n",
      "/c4/home/derek/data1/derek/data_scSLR/prenatal_brain/deep_splicing/ExplaiNN/data_out/EN_RG_multitask_DeltaPSI_sig_0.1_train_valid_test_deepripe_repeatKfold/repeat_9/fold95/\n",
      "Restoring model weights from the end of the best epoch: 24.\n",
      "Epoch 39: early stopping\n",
      "0.41514337062835693\n",
      "3/3 [==============================] - 1s 9ms/step\n",
      "/c4/home/derek/data1/derek/data_scSLR/prenatal_brain/deep_splicing/ExplaiNN/data_out/EN_RG_multitask_DeltaPSI_sig_0.1_train_valid_test_deepripe_repeatKfold/repeat_9/fold96/\n",
      "Restoring model weights from the end of the best epoch: 29.\n",
      "Epoch 44: early stopping\n",
      "0.4552735686302185\n",
      "3/3 [==============================] - 1s 9ms/step\n",
      "/c4/home/derek/data1/derek/data_scSLR/prenatal_brain/deep_splicing/ExplaiNN/data_out/EN_RG_multitask_DeltaPSI_sig_0.1_train_valid_test_deepripe_repeatKfold/repeat_9/fold97/\n",
      "Restoring model weights from the end of the best epoch: 54.\n",
      "Epoch 69: early stopping\n",
      "0.45387643575668335\n",
      "3/3 [==============================] - 1s 9ms/step\n",
      "/c4/home/derek/data1/derek/data_scSLR/prenatal_brain/deep_splicing/ExplaiNN/data_out/EN_RG_multitask_DeltaPSI_sig_0.1_train_valid_test_deepripe_repeatKfold/repeat_9/fold98/\n",
      "Restoring model weights from the end of the best epoch: 16.\n",
      "Epoch 31: early stopping\n",
      "0.5293760299682617\n",
      "3/3 [==============================] - 1s 9ms/step\n",
      "/c4/home/derek/data1/derek/data_scSLR/prenatal_brain/deep_splicing/ExplaiNN/data_out/EN_RG_multitask_DeltaPSI_sig_0.1_train_valid_test_deepripe_repeatKfold/repeat_9/fold99/\n",
      "Restoring model weights from the end of the best epoch: 55.\n",
      "Epoch 70: early stopping\n",
      "0.3998759388923645\n",
      "3/3 [==============================] - 1s 9ms/step\n",
      "CPU times: user 35min 18s, sys: 2min 13s, total: 37min 32s\n",
      "Wall time: 37min 32s\n"
     ]
    }
   ],
   "source": [
    "%%time\n",
    "## repeated KFold Cross validation\n",
    "\n",
    "pred_dict = {}\n",
    "y_dict = {}\n",
    "\n",
    "\n",
    "for repeat in [i for i in os.listdir(out_dir) if i.startswith('repeat')]:\n",
    "\n",
    "    pred_dict[repeat] = pd.DataFrame()\n",
    "    y_dict[repeat] = pd.DataFrame()\n",
    "\n",
    "    for fold in os.listdir(out_dir + repeat):\n",
    "\n",
    "        \n",
    "\n",
    "        custom_objects={'precision':precision,\n",
    "                        'recall':recall,\n",
    "                          }\n",
    "\n",
    "        seq_len = 800\n",
    "        region_len = 1000\n",
    "        input_sequence_split = 4\n",
    "        n_tasks = 2\n",
    "\n",
    "        input_seq = tf.keras.Input(shape=(seq_len, 4), name='input_seq')\n",
    "\n",
    "        input_region = tf.keras.Input(shape=(region_len, 4), name='input_region')\n",
    "\n",
    "\n",
    "\n",
    "        input_seq_1, input_seq_2, input_seq_3, input_seq_4 = tf.split(input_seq, input_sequence_split, axis=1)\n",
    "\n",
    "        input_region_1, input_region_2, input_region_3, input_region_4 = tf.split(input_region, input_sequence_split, axis=1)\n",
    "\n",
    "        inputs_seq = {}\n",
    "        inputs_region = {}\n",
    "\n",
    "\n",
    "        inputs_seq[0] = tf.keras.layers.Masking(mask_value=0)(input_seq_1)\n",
    "        inputs_seq[1] = tf.keras.layers.Masking(mask_value=0)(input_seq_2)\n",
    "        inputs_seq[2] = tf.keras.layers.Masking(mask_value=0)(input_seq_3)\n",
    "        inputs_seq[3] = tf.keras.layers.Masking(mask_value=0)(input_seq_4)\n",
    "\n",
    "        inputs_region[0] = tf.keras.layers.Masking(mask_value=0)(input_region_1)\n",
    "        inputs_region[1] = tf.keras.layers.Masking(mask_value=0)(input_region_2)\n",
    "        inputs_region[2] = tf.keras.layers.Masking(mask_value=0)(input_region_3)\n",
    "        inputs_region[3] = tf.keras.layers.Masking(mask_value=0)(input_region_4)\n",
    "\n",
    "        orig_models = {}\n",
    "        input_layers = {}\n",
    "        output_layers = {}\n",
    "        base_models = {}\n",
    "        currents = {}\n",
    "        # \n",
    "\n",
    "        # for i, model in enumerate(glob.glob(model_path + 'Results/PARCLIP_models/*.h5')):\n",
    "\n",
    "        for i, model in enumerate(([i for i in glob.glob(model_path + 'Results/Encode_models/K562/*.h5') if 'seq' in i]  + \n",
    "                                     [i for i in glob.glob(model_path + 'Results/Encode_models/HepG2/*.h5') if 'seq' in i]\n",
    "                                    )\n",
    "        ):\n",
    "\n",
    "            orig_models[i] = tf.keras.models.load_model(model, custom_objects = custom_objects, compile=False)\n",
    "\n",
    "            for j in range(input_sequence_split):\n",
    "\n",
    "                input_layers[i,j] = orig_models[i].inputs[0]\n",
    "                # input_layers[i,j] = orig_models[i].inputs\n",
    "\n",
    "                output_layers[i,j] = orig_models[i].get_layer('output').output\n",
    "\n",
    "                base_models[i,j] = tf.keras.Model(inputs=input_layers[i,j], outputs=output_layers[i,j])\n",
    "\n",
    "                base_models[i,j].trainable = False\n",
    "\n",
    "                currents[i,j] = base_models[i,j](inputs_seq[j], training=False)\n",
    "\n",
    "                # currents[i,j] = base_models[i,j]([inputs_seq[j], inputs_region[j]], training=False)\n",
    "\n",
    "        current = tf.concat(currents.values(), axis=1)\n",
    "\n",
    "        output = tf.keras.layers.Dense(n_tasks, #kernel_initializer='HeUniform'\n",
    "                                      )(current)\n",
    "\n",
    "        # model = tf.keras.Model((input_seq, input_region), output, name='deepripe_explainn')\n",
    "\n",
    "        model = tf.keras.Model(input_seq, output, name='deepripe_explainn')\n",
    "\n",
    "\n",
    "        data_dir = out_dir+f'{repeat}/{fold}/'\n",
    "        params_file = data_dir+'params.json'\n",
    "\n",
    "\n",
    "        with open(params_file) as params_open:\n",
    "                params = json.load(params_open)\n",
    "        params_model = params['model']\n",
    "        params_train = params['train']\n",
    "\n",
    "\n",
    "        #read datasets\n",
    "        train_data = []\n",
    "        eval_data = []\n",
    "        test_data = []\n",
    "\n",
    "\n",
    "        seq_track=True\n",
    "        print(data_dir)\n",
    "\n",
    "        # for data_dir in data_dir:\n",
    "        # load train data\n",
    "        train_data.append(dataset.ExonDataset(data_dir,\n",
    "            split_label='train',\n",
    "            batch_size=params_train['batch_size'],\n",
    "            shuffle_buffer=params_train.get('shuffle_buffer', params_model['seq_length']),\n",
    "            mode='train',\n",
    "            splice_track=False,\n",
    "               # annotation_tracks=True\n",
    "                                             ))\n",
    "\n",
    "        # load eval data\n",
    "        eval_data.append(dataset.ExonDataset(data_dir,\n",
    "          split_label='valid',\n",
    "          batch_size=params_train['batch_size'],\n",
    "          mode='eval',\n",
    "          splice_track=False,\n",
    "              # annotation_tracks=True\n",
    "                                            ))\n",
    "\n",
    "        # load test data\n",
    "        test_data.append(dataset.ExonDataset(data_dir, \n",
    "            split_label='test',\n",
    "          batch_size=params_train['batch_size'],\n",
    "          mode='eval',\n",
    "          splice_track=False\n",
    "                                             ))\n",
    "\n",
    "\n",
    "\n",
    "        num_targets = model.output_shape[-1]\n",
    "\n",
    "        model_metrics = [PearsonR(num_targets)\n",
    "                        ]\n",
    "\n",
    "        optimizer = tf.keras.optimizers.Adam(learning_rate=0.001,\n",
    "                                            beta_1=0.9, beta_2=0.999)\n",
    "\n",
    "\n",
    "\n",
    "\n",
    "        # define callbacks\n",
    "        save_best=tf.keras.callbacks.ModelCheckpoint('%s/model_best.h5'%out_dir,\n",
    "                                                    save_best_only=True, \n",
    "                                                     monitor='val_pearsonr',\n",
    "                                                     mode='max', \n",
    "                                                     verbose=1)\n",
    "\n",
    "\n",
    "        lradjust = tf.keras.callbacks.ReduceLROnPlateau(monitor='val_loss', factor=0.5, patience=12, cooldown=1)\n",
    "\n",
    "        early_stop=tf.keras.callbacks.EarlyStopping(monitor='val_pearsonr', min_delta=1e-4, patience=15, mode='max',restore_best_weights=True, verbose=1\n",
    "                                                     )\n",
    "\n",
    "\n",
    "\n",
    "\n",
    "        model.compile(optimizer=optimizer, \n",
    "                          loss='mse',\n",
    "                          metrics=model_metrics\n",
    "                         )\n",
    "\n",
    "        history = model.fit(x=train_data[0].numpy()[0][:,0,:,:],\n",
    "                            y=train_data[0].numpy()[1].squeeze(axis=1),\n",
    "                              epochs=1000,\n",
    "                            validation_data=(eval_data[0].numpy()[0][:,0,:,:],\n",
    "                                    eval_data[0].numpy()[1].squeeze(axis=1)),\n",
    "\n",
    "                                callbacks=[\n",
    "                                 #  save_best, \n",
    "                                   early_stop,\n",
    "                                    lradjust, \n",
    "                                         ],\n",
    "                            verbose=0\n",
    "                     )\n",
    "\n",
    "        print(max(history.history['val_pearsonr']))\n",
    "\n",
    "        y = pd.DataFrame(test_data[0].numpy()[1].squeeze(axis=1))\n",
    "\n",
    "\n",
    "\n",
    "        pred = pd.DataFrame(model.predict([test_data[0].numpy()[0][:,0,:,:]]))\n",
    "\n",
    "        y_dict[repeat] = pd.concat([y_dict[repeat],y])\n",
    "        pred_dict[repeat] = pd.concat([pred_dict[repeat],pred])\n"
   ]
  },
  {
   "cell_type": "code",
   "execution_count": 65,
   "id": "0dd2b431-cd47-4ced-8ef9-999c570dc9f5",
   "metadata": {},
   "outputs": [],
   "source": [
    "## plot results"
   ]
  },
  {
   "cell_type": "code",
   "execution_count": 13,
   "id": "cef38fd1-a571-4f7e-be95-c914a83a85db",
   "metadata": {},
   "outputs": [
    {
     "data": {
      "text/plain": [
       "'/nowakowskilab/data1/derek/data_scSLR/prenatal_brain/deep_splicing/ExplaiNN'"
      ]
     },
     "execution_count": 13,
     "metadata": {},
     "output_type": "execute_result"
    }
   ],
   "source": [
    "pwd"
   ]
  },
  {
   "cell_type": "code",
   "execution_count": 17,
   "id": "1e0ed39d-9081-4153-8015-b3776a571450",
   "metadata": {},
   "outputs": [],
   "source": [
    "# bar plots of pearson R values\n",
    "\n",
    "bar_df = pd.DataFrame.from_dict(\n",
    "    dict(zip(\n",
    "    [stats.pearsonr(y_dict[i][1], pred_dict[i][0])[0] for i in pred_dict.keys() if i.startswith('repeat')],\n",
    "    [stats.pearsonr(y_dict[i][0], pred_dict[i][1])[0] for i in pred_dict.keys() if i.startswith('repeat')]\n",
    ")), orient='index').reset_index ()\n",
    "\n",
    "bar_df.columns = ['n','g']"
   ]
  },
  {
   "cell_type": "code",
   "execution_count": 18,
   "id": "348edd65-3011-476c-b819-d86148ea1d3c",
   "metadata": {},
   "outputs": [
    {
     "data": {
      "text/html": [
       "<div>\n",
       "<style scoped>\n",
       "    .dataframe tbody tr th:only-of-type {\n",
       "        vertical-align: middle;\n",
       "    }\n",
       "\n",
       "    .dataframe tbody tr th {\n",
       "        vertical-align: top;\n",
       "    }\n",
       "\n",
       "    .dataframe thead th {\n",
       "        text-align: right;\n",
       "    }\n",
       "</style>\n",
       "<table border=\"1\" class=\"dataframe\">\n",
       "  <thead>\n",
       "    <tr style=\"text-align: right;\">\n",
       "      <th></th>\n",
       "      <th>n</th>\n",
       "      <th>g</th>\n",
       "    </tr>\n",
       "  </thead>\n",
       "  <tbody>\n",
       "    <tr>\n",
       "      <th>0</th>\n",
       "      <td>-0.584367</td>\n",
       "      <td>-0.578478</td>\n",
       "    </tr>\n",
       "    <tr>\n",
       "      <th>1</th>\n",
       "      <td>-0.606719</td>\n",
       "      <td>-0.593902</td>\n",
       "    </tr>\n",
       "    <tr>\n",
       "      <th>2</th>\n",
       "      <td>-0.620931</td>\n",
       "      <td>-0.623759</td>\n",
       "    </tr>\n",
       "    <tr>\n",
       "      <th>3</th>\n",
       "      <td>-0.575156</td>\n",
       "      <td>-0.578133</td>\n",
       "    </tr>\n",
       "    <tr>\n",
       "      <th>4</th>\n",
       "      <td>-0.610068</td>\n",
       "      <td>-0.595949</td>\n",
       "    </tr>\n",
       "    <tr>\n",
       "      <th>5</th>\n",
       "      <td>-0.565083</td>\n",
       "      <td>-0.569902</td>\n",
       "    </tr>\n",
       "    <tr>\n",
       "      <th>6</th>\n",
       "      <td>-0.576966</td>\n",
       "      <td>-0.598840</td>\n",
       "    </tr>\n",
       "    <tr>\n",
       "      <th>7</th>\n",
       "      <td>-0.597335</td>\n",
       "      <td>-0.585102</td>\n",
       "    </tr>\n",
       "    <tr>\n",
       "      <th>8</th>\n",
       "      <td>-0.558211</td>\n",
       "      <td>-0.566623</td>\n",
       "    </tr>\n",
       "    <tr>\n",
       "      <th>9</th>\n",
       "      <td>-0.612269</td>\n",
       "      <td>-0.615947</td>\n",
       "    </tr>\n",
       "  </tbody>\n",
       "</table>\n",
       "</div>"
      ],
      "text/plain": [
       "          n         g\n",
       "0 -0.584367 -0.578478\n",
       "1 -0.606719 -0.593902\n",
       "2 -0.620931 -0.623759\n",
       "3 -0.575156 -0.578133\n",
       "4 -0.610068 -0.595949\n",
       "5 -0.565083 -0.569902\n",
       "6 -0.576966 -0.598840\n",
       "7 -0.597335 -0.585102\n",
       "8 -0.558211 -0.566623\n",
       "9 -0.612269 -0.615947"
      ]
     },
     "execution_count": 18,
     "metadata": {},
     "output_type": "execute_result"
    }
   ],
   "source": [
    "bar_df"
   ]
  },
  {
   "cell_type": "code",
   "execution_count": 19,
   "id": "92e76821-9cee-49d3-b9d6-a1f46431a328",
   "metadata": {},
   "outputs": [
    {
     "name": "stderr",
     "output_type": "stream",
     "text": [
      "/scratch/derek/ipykernel_2823264/957333615.py:15: UserWarning: set_ticklabels() should only be used with a fixed number of ticks, i.e. after set_ticks() or using a FixedLocator.\n",
      "  ax.set(xticklabels=['neuron','glia'])\n"
     ]
    },
    {
     "data": {
      "text/plain": [
       "[[Text(0, 0, 'neuron'), Text(1, 0, 'glia')]]"
      ]
     },
     "execution_count": 19,
     "metadata": {},
     "output_type": "execute_result"
    },
    {
     "data": {
      "image/png": "[encoded data removed]",
      "text/plain": [
       "<Figure size 100x400 with 1 Axes>"
      ]
     },
     "metadata": {},
     "output_type": "display_data"
    }
   ],
   "source": [
    "fig, ax = plt.subplots(1,1,figsize=(1,4))\n",
    "\n",
    "sns.boxplot(bar_df,orient='v', \n",
    "            # palette=sns.palettes.SEABORN_PALETTES['deep'],\n",
    "           ax=ax)\n",
    "\n",
    "ax.spines['right'].set_visible(False)\n",
    "ax.spines['top'].set_visible(False)\n",
    "# To turn off the bottom or left\n",
    "#ax.spines['bottom'].set_visible(False)\n",
    "#ax.spines['left'].set_visible(False)\n",
    "\n",
    "ax.set(ylabel='Pearson correlation \\n on held-out folds', xlabel='')\n",
    "\n",
    "ax.set(xticklabels=['neuron','glia'])\n",
    "\n",
    "# fig.savefig('predcorr_barplot.pdf')"
   ]
  },
  {
   "cell_type": "code",
   "execution_count": null,
   "id": "e5864bca-daa5-4dce-9874-0f39d44dbfcf",
   "metadata": {},
   "outputs": [],
   "source": []
  },
  {
   "cell_type": "code",
   "execution_count": null,
   "id": "5da58260-137b-4d23-adfc-e8ffd493a700",
   "metadata": {},
   "outputs": [],
   "source": []
  },
  {
   "cell_type": "code",
   "execution_count": null,
   "id": "636464da-c0cc-4da4-a85f-54409aeaf63a",
   "metadata": {},
   "outputs": [],
   "source": []
  },
  {
   "cell_type": "code",
   "execution_count": 20,
   "id": "aee88e3d-5efa-4e78-bdd2-9a695c237206",
   "metadata": {},
   "outputs": [
    {
     "data": {
      "image/png": "[encoded data removed]",
      "text/plain": [
       "<Figure size 650x300 with 2 Axes>"
      ]
     },
     "metadata": {},
     "output_type": "display_data"
    }
   ],
   "source": [
    "fig, ax = plt.subplots(1,2, figsize=(6.5,3))\n",
    "\n",
    "axes = ax.ravel()\n",
    "\n",
    "for i in range(2):\n",
    "    \n",
    "\n",
    "    sns.regplot(x=y_dict['repeat_5'][i],\n",
    "               y=pred_dict['repeat_5'][i], \n",
    "               ax=axes[i],\n",
    "                color=sns.palettes.SEABORN_PALETTES['deep'][i+8],\n",
    "                scatter_kws={\"s\": 5}, line_kws={\"lw\":2}\n",
    "               \n",
    "               )\n",
    "               "
   ]
  },
  {
   "cell_type": "code",
   "execution_count": 80,
   "id": "4333998e-c803-4771-a291-6efc2adcc8b2",
   "metadata": {},
   "outputs": [
    {
     "data": {
      "text/plain": [
       "0.623"
      ]
     },
     "execution_count": 80,
     "metadata": {},
     "output_type": "execute_result"
    }
   ],
   "source": []
  },
  {
   "cell_type": "code",
   "execution_count": 24,
   "id": "998703c1-1943-4d29-8c7f-9ee53cf6649e",
   "metadata": {},
   "outputs": [
    {
     "data": {
      "image/png": "[encoded data removed]",
      "text/plain": [
       "<Figure size 300x300 with 1 Axes>"
      ]
     },
     "metadata": {},
     "output_type": "display_data"
    }
   ],
   "source": [
    "fig, ax = plt.subplots(1,1, figsize=(3,3))\n",
    "\n",
    "\n",
    "\n",
    "\n",
    "rval = round(stats.pearsonr(y_dict['repeat_4'][0], pred_dict['repeat_4'][0])[0],4)\n",
    "\n",
    "\n",
    "sns.regplot(x=y_dict['repeat_4'][0],\n",
    "               y=pred_dict['repeat_4'][1], \n",
    "               ax=ax,\n",
    "                color=sns.palettes.SEABORN_PALETTES['deep'][0],\n",
    "                scatter_kws={\"s\": 5}, line_kws={\"lw\":2}\n",
    "               \n",
    "               )\n",
    "\n",
    "ax.spines['right'].set_visible(False)\n",
    "ax.spines['top'].set_visible(False)\n",
    "\n",
    "ax.set(xlabel='ΔΨ measured', ylabel='ΔΨ predicted.pdf')\n",
    "\n",
    "# ax.set_title(f'R = {rval}', loc='left')\n",
    "\n",
    "fig.savefig('deltaPSI_predcorr_neg_glia.pdf')"
   ]
  },
  {
   "cell_type": "code",
   "execution_count": 25,
   "id": "3d0a41a7-4b56-431f-a8de-147e6551c62b",
   "metadata": {},
   "outputs": [
    {
     "data": {
      "image/png": "[encoded data removed]",
      "text/plain": [
       "<Figure size 300x300 with 1 Axes>"
      ]
     },
     "metadata": {},
     "output_type": "display_data"
    }
   ],
   "source": [
    "fig, ax = plt.subplots(1,1, figsize=(3,3))\n",
    "\n",
    "\n",
    "\n",
    "\n",
    "rval = round(stats.pearsonr(y_dict['repeat_4'][0], pred_dict['repeat_4'][0])[0],4)\n",
    "\n",
    "\n",
    "sns.regplot(x=y_dict['repeat_4'][1],\n",
    "               y=pred_dict['repeat_4'][0], \n",
    "               ax=ax,\n",
    "                color=sns.palettes.SEABORN_PALETTES['deep'][0],\n",
    "                scatter_kws={\"s\": 5}, line_kws={\"lw\":2}\n",
    "               \n",
    "               )\n",
    "\n",
    "ax.spines['right'].set_visible(False)\n",
    "ax.spines['top'].set_visible(False)\n",
    "\n",
    "ax.set(xlabel='ΔΨ measured', ylabel='ΔΨ predicted.pdf')\n",
    "\n",
    "# ax.set_title(f'R = {rval}', loc='left')\n",
    "\n",
    "fig.savefig('deltaPSI_predcorr_neg_neur.pdf')"
   ]
  },
  {
   "cell_type": "code",
   "execution_count": null,
   "id": "c3826a83-3b1d-4877-aecf-95e50ca3f4a6",
   "metadata": {},
   "outputs": [],
   "source": []
  },
  {
   "cell_type": "code",
   "execution_count": null,
   "id": "2391fb55-bd9c-466e-a19b-ee93ee19fd0e",
   "metadata": {},
   "outputs": [],
   "source": []
  },
  {
   "cell_type": "code",
   "execution_count": 26,
   "id": "aaf89780-392d-4ead-8968-a2d1ddf5eaee",
   "metadata": {},
   "outputs": [],
   "source": [
    "# sns.jointplot(x=y, \n",
    "#               y=pred, \n",
    "#               kind=\"hex\", \n",
    "#               color=sns.palettes.SEABORN_PALETTES['deep'][0],\n",
    "#               height = 3  \n",
    "#              )"
   ]
  },
  {
   "cell_type": "code",
   "execution_count": 27,
   "id": "9ee506e4-0f1b-4abc-82b6-721274a7faa4",
   "metadata": {},
   "outputs": [],
   "source": [
    "from scipy import stats"
   ]
  },
  {
   "cell_type": "code",
   "execution_count": 28,
   "id": "54e41f0e-d23c-4897-b7c7-5d2a81937094",
   "metadata": {},
   "outputs": [],
   "source": [
    "y = pd.concat(y_dict.values())[1]\n",
    "pred = pd.concat(pred_dict.values())[0]\n",
    "\n",
    "values_ = np.vstack([y,pred])\n",
    "kernel = stats.gaussian_kde(values_)(values_)"
   ]
  },
  {
   "cell_type": "code",
   "execution_count": 31,
   "id": "7d028e56-0f9e-4e70-94de-16d513a2fd96",
   "metadata": {},
   "outputs": [
    {
     "data": {
      "text/plain": [
       "<Axes: xlabel='1', ylabel='0'>"
      ]
     },
     "execution_count": 31,
     "metadata": {},
     "output_type": "execute_result"
    },
    {
     "data": {
      "image/png": "[encoded data removed]",
      "text/plain": [
       "<Figure size 400x400 with 1 Axes>"
      ]
     },
     "metadata": {},
     "output_type": "display_data"
    }
   ],
   "source": [
    "fig, ax = plt.subplots(figsize=(4, 4))\n",
    "\n",
    "sns.scatterplot(\n",
    "    x=y,\n",
    "    y=pred,\n",
    "    c=kernel,\n",
    "    cmap=\"CMRmap\",\n",
    "    ax=ax,\n",
    "    s=20,\n",
    "    linewidth=0\n",
    "    )"
   ]
  },
  {
   "cell_type": "code",
   "execution_count": null,
   "id": "5f90d10e-823c-4ccf-ba91-ce55aa859a4f",
   "metadata": {},
   "outputs": [],
   "source": []
  },
  {
   "cell_type": "code",
   "execution_count": null,
   "id": "227bad02-0236-4d55-b53d-59c0fc785976",
   "metadata": {},
   "outputs": [],
   "source": []
  },
  {
   "cell_type": "markdown",
   "id": "05fb1409-3741-4063-ac9a-1757747e83ea",
   "metadata": {},
   "source": [
    "## Saluki type model .."
   ]
  },
  {
   "cell_type": "code",
   "execution_count": 10,
   "id": "8f53a077-6491-4883-9e38-8e1885363068",
   "metadata": {},
   "outputs": [],
   "source": [
    "from basenji_.basenji import layers"
   ]
  },
  {
   "cell_type": "code",
   "execution_count": 11,
   "id": "207080b6-a7d2-4ab5-8723-dddcafd7a901",
   "metadata": {
    "scrolled": true
   },
   "outputs": [
    {
     "name": "stderr",
     "output_type": "stream",
     "text": [
      "2024-10-06 13:26:33.428524: I tensorflow/core/platform/cpu_feature_guard.cc:193] This TensorFlow binary is optimized with oneAPI Deep Neural Network Library (oneDNN) to use the following CPU instructions in performance-critical operations:  SSE4.1 SSE4.2 AVX AVX2 AVX512F AVX512_VNNI FMA\n",
      "To enable them in other operations, rebuild TensorFlow with the appropriate compiler flags.\n",
      "2024-10-06 13:26:36.301863: I tensorflow/core/common_runtime/gpu/gpu_device.cc:1613] Created device /job:localhost/replica:0/task:0/device:GPU:0 with 13123 MB memory:  -> device: 0, name: NVIDIA RTX A4000, pci bus id: 0000:ca:00.0, compute capability: 8.6\n"
     ]
    },
    {
     "name": "stdout",
     "output_type": "stream",
     "text": [
      "/c4/home/derek/data1/derek/data_scSLR/prenatal_brain/deep_splicing/ExplaiNN/data_out/EN_RG_multitask_DeltaPSI_sig_0.1_train_valid_test_deepripe_repeatKfold/repeat_0/fold0/\n"
     ]
    },
    {
     "name": "stderr",
     "output_type": "stream",
     "text": [
      "2024-10-06 13:26:42.093700: I tensorflow/compiler/xla/stream_executor/cuda/cuda_dnn.cc:428] Loaded cuDNN version 8907\n",
      "2024-10-06 13:26:42.742244: I tensorflow/tsl/platform/default/subprocess.cc:304] Start cannot spawn child process: No such file or directory\n",
      "2024-10-06 13:26:44.209003: I tensorflow/compiler/xla/stream_executor/cuda/cuda_blas.cc:630] TensorFloat-32 will be used for the matrix multiplication. This will only be logged once.\n",
      "2024-10-06 13:26:44.228673: I tensorflow/compiler/xla/service/service.cc:173] XLA service 0x7f8818018010 initialized for platform CUDA (this does not guarantee that XLA will be used). Devices:\n",
      "2024-10-06 13:26:44.228691: I tensorflow/compiler/xla/service/service.cc:181]   StreamExecutor device (0): NVIDIA RTX A4000, Compute Capability 8.6\n",
      "2024-10-06 13:26:44.233304: I tensorflow/compiler/mlir/tensorflow/utils/dump_mlir_util.cc:268] disabling MLIR crash reproducer, set env var `MLIR_CRASH_REPRODUCER_DIRECTORY` to enable.\n",
      "2024-10-06 13:26:44.360895: I tensorflow/tsl/platform/default/subprocess.cc:304] Start cannot spawn child process: No such file or directory\n",
      "2024-10-06 13:26:44.394458: I tensorflow/compiler/jit/xla_compilation_cache.cc:477] Compiled cluster using XLA!  This line is logged at most once for the lifetime of the process.\n"
     ]
    },
    {
     "name": "stdout",
     "output_type": "stream",
     "text": [
      "Restoring model weights from the end of the best epoch: 20.\n",
      "Epoch 35: early stopping\n",
      "0.3871666491031647\n",
      "3/3 [==============================] - 1s 79ms/step\n",
      "/c4/home/derek/data1/derek/data_scSLR/prenatal_brain/deep_splicing/ExplaiNN/data_out/EN_RG_multitask_DeltaPSI_sig_0.1_train_valid_test_deepripe_repeatKfold/repeat_0/fold1/\n",
      "Restoring model weights from the end of the best epoch: 7.\n",
      "Epoch 22: early stopping\n",
      "0.33870285749435425\n",
      "3/3 [==============================] - 0s 3ms/step\n",
      "/c4/home/derek/data1/derek/data_scSLR/prenatal_brain/deep_splicing/ExplaiNN/data_out/EN_RG_multitask_DeltaPSI_sig_0.1_train_valid_test_deepripe_repeatKfold/repeat_0/fold2/\n",
      "Restoring model weights from the end of the best epoch: 9.\n",
      "Epoch 24: early stopping\n",
      "0.39339613914489746\n",
      "3/3 [==============================] - 0s 3ms/step\n",
      "/c4/home/derek/data1/derek/data_scSLR/prenatal_brain/deep_splicing/ExplaiNN/data_out/EN_RG_multitask_DeltaPSI_sig_0.1_train_valid_test_deepripe_repeatKfold/repeat_0/fold3/\n",
      "Restoring model weights from the end of the best epoch: 14.\n",
      "Epoch 29: early stopping\n",
      "0.4001014530658722\n",
      "3/3 [==============================] - 0s 3ms/step\n",
      "/c4/home/derek/data1/derek/data_scSLR/prenatal_brain/deep_splicing/ExplaiNN/data_out/EN_RG_multitask_DeltaPSI_sig_0.1_train_valid_test_deepripe_repeatKfold/repeat_0/fold4/\n",
      "Restoring model weights from the end of the best epoch: 14.\n",
      "Epoch 29: early stopping\n",
      "0.29011839628219604\n",
      "WARNING:tensorflow:5 out of the last 13 calls to <function Model.make_predict_function.<locals>.predict_function at 0x7f8b8812d480> triggered tf.function retracing. Tracing is expensive and the excessive number of tracings could be due to (1) creating @tf.function repeatedly in a loop, (2) passing tensors with different shapes, (3) passing Python objects instead of tensors. For (1), please define your @tf.function outside of the loop. For (2), @tf.function has reduce_retracing=True option that can avoid unnecessary retracing. For (3), please refer to https://www.tensorflow.org/guide/function#controlling_retracing and https://www.tensorflow.org/api_docs/python/tf/function for  more details.\n",
      "3/3 [==============================] - 0s 2ms/step\n",
      "/c4/home/derek/data1/derek/data_scSLR/prenatal_brain/deep_splicing/ExplaiNN/data_out/EN_RG_multitask_DeltaPSI_sig_0.1_train_valid_test_deepripe_repeatKfold/repeat_0/fold5/\n",
      "Restoring model weights from the end of the best epoch: 11.\n",
      "Epoch 26: early stopping\n",
      "0.3404853343963623\n",
      "WARNING:tensorflow:5 out of the last 13 calls to <function Model.make_predict_function.<locals>.predict_function at 0x7f8bb84e6290> triggered tf.function retracing. Tracing is expensive and the excessive number of tracings could be due to (1) creating @tf.function repeatedly in a loop, (2) passing tensors with different shapes, (3) passing Python objects instead of tensors. For (1), please define your @tf.function outside of the loop. For (2), @tf.function has reduce_retracing=True option that can avoid unnecessary retracing. For (3), please refer to https://www.tensorflow.org/guide/function#controlling_retracing and https://www.tensorflow.org/api_docs/python/tf/function for  more details.\n",
      "3/3 [==============================] - 0s 3ms/step\n",
      "/c4/home/derek/data1/derek/data_scSLR/prenatal_brain/deep_splicing/ExplaiNN/data_out/EN_RG_multitask_DeltaPSI_sig_0.1_train_valid_test_deepripe_repeatKfold/repeat_0/fold6/\n",
      "Restoring model weights from the end of the best epoch: 13.\n",
      "Epoch 28: early stopping\n",
      "0.3386635482311249\n",
      "3/3 [==============================] - 0s 3ms/step\n",
      "/c4/home/derek/data1/derek/data_scSLR/prenatal_brain/deep_splicing/ExplaiNN/data_out/EN_RG_multitask_DeltaPSI_sig_0.1_train_valid_test_deepripe_repeatKfold/repeat_0/fold7/\n",
      "Restoring model weights from the end of the best epoch: 19.\n",
      "Epoch 34: early stopping\n",
      "0.2688257694244385\n",
      "3/3 [==============================] - 0s 3ms/step\n",
      "/c4/home/derek/data1/derek/data_scSLR/prenatal_brain/deep_splicing/ExplaiNN/data_out/EN_RG_multitask_DeltaPSI_sig_0.1_train_valid_test_deepripe_repeatKfold/repeat_0/fold8/\n",
      "Restoring model weights from the end of the best epoch: 10.\n",
      "Epoch 25: early stopping\n",
      "0.3779774308204651\n",
      "3/3 [==============================] - 0s 3ms/step\n",
      "/c4/home/derek/data1/derek/data_scSLR/prenatal_brain/deep_splicing/ExplaiNN/data_out/EN_RG_multitask_DeltaPSI_sig_0.1_train_valid_test_deepripe_repeatKfold/repeat_0/fold9/\n",
      "Restoring model weights from the end of the best epoch: 18.\n",
      "Epoch 33: early stopping\n",
      "0.3684174418449402\n",
      "3/3 [==============================] - 1s 77ms/step\n",
      "/c4/home/derek/data1/derek/data_scSLR/prenatal_brain/deep_splicing/ExplaiNN/data_out/EN_RG_multitask_DeltaPSI_sig_0.1_train_valid_test_deepripe_repeatKfold/repeat_1/fold10/\n",
      "Restoring model weights from the end of the best epoch: 13.\n",
      "Epoch 28: early stopping\n",
      "0.4112567901611328\n",
      "3/3 [==============================] - 0s 3ms/step\n",
      "/c4/home/derek/data1/derek/data_scSLR/prenatal_brain/deep_splicing/ExplaiNN/data_out/EN_RG_multitask_DeltaPSI_sig_0.1_train_valid_test_deepripe_repeatKfold/repeat_1/fold11/\n",
      "Restoring model weights from the end of the best epoch: 7.\n",
      "Epoch 22: early stopping\n",
      "0.35203880071640015\n",
      "3/3 [==============================] - 0s 3ms/step\n",
      "/c4/home/derek/data1/derek/data_scSLR/prenatal_brain/deep_splicing/ExplaiNN/data_out/EN_RG_multitask_DeltaPSI_sig_0.1_train_valid_test_deepripe_repeatKfold/repeat_1/fold12/\n",
      "Restoring model weights from the end of the best epoch: 4.\n",
      "Epoch 19: early stopping\n",
      "0.3742384910583496\n",
      "3/3 [==============================] - 0s 4ms/step\n",
      "/c4/home/derek/data1/derek/data_scSLR/prenatal_brain/deep_splicing/ExplaiNN/data_out/EN_RG_multitask_DeltaPSI_sig_0.1_train_valid_test_deepripe_repeatKfold/repeat_1/fold13/\n",
      "Restoring model weights from the end of the best epoch: 21.\n",
      "Epoch 36: early stopping\n",
      "0.40129321813583374\n",
      "3/3 [==============================] - 0s 3ms/step\n",
      "/c4/home/derek/data1/derek/data_scSLR/prenatal_brain/deep_splicing/ExplaiNN/data_out/EN_RG_multitask_DeltaPSI_sig_0.1_train_valid_test_deepripe_repeatKfold/repeat_1/fold14/\n",
      "Restoring model weights from the end of the best epoch: 12.\n",
      "Epoch 27: early stopping\n",
      "0.35356616973876953\n",
      "3/3 [==============================] - 0s 3ms/step\n",
      "/c4/home/derek/data1/derek/data_scSLR/prenatal_brain/deep_splicing/ExplaiNN/data_out/EN_RG_multitask_DeltaPSI_sig_0.1_train_valid_test_deepripe_repeatKfold/repeat_1/fold15/\n",
      "Restoring model weights from the end of the best epoch: 6.\n",
      "Epoch 21: early stopping\n",
      "0.3939386308193207\n",
      "3/3 [==============================] - 0s 3ms/step\n",
      "/c4/home/derek/data1/derek/data_scSLR/prenatal_brain/deep_splicing/ExplaiNN/data_out/EN_RG_multitask_DeltaPSI_sig_0.1_train_valid_test_deepripe_repeatKfold/repeat_1/fold16/\n",
      "Restoring model weights from the end of the best epoch: 10.\n",
      "Epoch 25: early stopping\n",
      "0.33310654759407043\n",
      "3/3 [==============================] - 0s 3ms/step\n",
      "/c4/home/derek/data1/derek/data_scSLR/prenatal_brain/deep_splicing/ExplaiNN/data_out/EN_RG_multitask_DeltaPSI_sig_0.1_train_valid_test_deepripe_repeatKfold/repeat_1/fold17/\n",
      "Restoring model weights from the end of the best epoch: 26.\n",
      "Epoch 41: early stopping\n",
      "0.40555354952812195\n",
      "3/3 [==============================] - 0s 3ms/step\n",
      "/c4/home/derek/data1/derek/data_scSLR/prenatal_brain/deep_splicing/ExplaiNN/data_out/EN_RG_multitask_DeltaPSI_sig_0.1_train_valid_test_deepripe_repeatKfold/repeat_1/fold18/\n",
      "Restoring model weights from the end of the best epoch: 8.\n",
      "Epoch 23: early stopping\n",
      "0.35575857758522034\n",
      "3/3 [==============================] - 0s 3ms/step\n",
      "/c4/home/derek/data1/derek/data_scSLR/prenatal_brain/deep_splicing/ExplaiNN/data_out/EN_RG_multitask_DeltaPSI_sig_0.1_train_valid_test_deepripe_repeatKfold/repeat_1/fold19/\n",
      "Restoring model weights from the end of the best epoch: 17.\n",
      "Epoch 32: early stopping\n",
      "0.39064744114875793\n",
      "3/3 [==============================] - 0s 3ms/step\n",
      "/c4/home/derek/data1/derek/data_scSLR/prenatal_brain/deep_splicing/ExplaiNN/data_out/EN_RG_multitask_DeltaPSI_sig_0.1_train_valid_test_deepripe_repeatKfold/repeat_2/fold20/\n",
      "Restoring model weights from the end of the best epoch: 5.\n",
      "Epoch 20: early stopping\n",
      "0.2822258770465851\n",
      "3/3 [==============================] - 0s 3ms/step\n",
      "/c4/home/derek/data1/derek/data_scSLR/prenatal_brain/deep_splicing/ExplaiNN/data_out/EN_RG_multitask_DeltaPSI_sig_0.1_train_valid_test_deepripe_repeatKfold/repeat_2/fold21/\n",
      "Restoring model weights from the end of the best epoch: 12.\n",
      "Epoch 27: early stopping\n",
      "0.4994021952152252\n",
      "3/3 [==============================] - 0s 3ms/step\n",
      "/c4/home/derek/data1/derek/data_scSLR/prenatal_brain/deep_splicing/ExplaiNN/data_out/EN_RG_multitask_DeltaPSI_sig_0.1_train_valid_test_deepripe_repeatKfold/repeat_2/fold22/\n",
      "Restoring model weights from the end of the best epoch: 10.\n",
      "Epoch 25: early stopping\n",
      "0.4034190773963928\n",
      "3/3 [==============================] - 1s 3ms/step\n",
      "/c4/home/derek/data1/derek/data_scSLR/prenatal_brain/deep_splicing/ExplaiNN/data_out/EN_RG_multitask_DeltaPSI_sig_0.1_train_valid_test_deepripe_repeatKfold/repeat_2/fold23/\n",
      "Restoring model weights from the end of the best epoch: 23.\n",
      "Epoch 38: early stopping\n",
      "0.4271356165409088\n",
      "3/3 [==============================] - 0s 3ms/step\n",
      "/c4/home/derek/data1/derek/data_scSLR/prenatal_brain/deep_splicing/ExplaiNN/data_out/EN_RG_multitask_DeltaPSI_sig_0.1_train_valid_test_deepripe_repeatKfold/repeat_2/fold24/\n",
      "Restoring model weights from the end of the best epoch: 10.\n",
      "Epoch 25: early stopping\n",
      "0.3571797311306\n",
      "3/3 [==============================] - 0s 3ms/step\n",
      "/c4/home/derek/data1/derek/data_scSLR/prenatal_brain/deep_splicing/ExplaiNN/data_out/EN_RG_multitask_DeltaPSI_sig_0.1_train_valid_test_deepripe_repeatKfold/repeat_2/fold25/\n",
      "Restoring model weights from the end of the best epoch: 14.\n",
      "Epoch 29: early stopping\n",
      "0.44963303208351135\n",
      "3/3 [==============================] - 0s 3ms/step\n",
      "/c4/home/derek/data1/derek/data_scSLR/prenatal_brain/deep_splicing/ExplaiNN/data_out/EN_RG_multitask_DeltaPSI_sig_0.1_train_valid_test_deepripe_repeatKfold/repeat_2/fold26/\n",
      "Restoring model weights from the end of the best epoch: 9.\n",
      "Epoch 24: early stopping\n",
      "0.313170462846756\n",
      "3/3 [==============================] - 0s 3ms/step\n",
      "/c4/home/derek/data1/derek/data_scSLR/prenatal_brain/deep_splicing/ExplaiNN/data_out/EN_RG_multitask_DeltaPSI_sig_0.1_train_valid_test_deepripe_repeatKfold/repeat_2/fold27/\n",
      "Restoring model weights from the end of the best epoch: 14.\n",
      "Epoch 29: early stopping\n",
      "0.37662139534950256\n",
      "3/3 [==============================] - 0s 3ms/step\n",
      "/c4/home/derek/data1/derek/data_scSLR/prenatal_brain/deep_splicing/ExplaiNN/data_out/EN_RG_multitask_DeltaPSI_sig_0.1_train_valid_test_deepripe_repeatKfold/repeat_2/fold28/\n",
      "Restoring model weights from the end of the best epoch: 26.\n",
      "Epoch 41: early stopping\n",
      "0.38804712891578674\n",
      "3/3 [==============================] - 0s 4ms/step\n",
      "/c4/home/derek/data1/derek/data_scSLR/prenatal_brain/deep_splicing/ExplaiNN/data_out/EN_RG_multitask_DeltaPSI_sig_0.1_train_valid_test_deepripe_repeatKfold/repeat_2/fold29/\n",
      "Restoring model weights from the end of the best epoch: 21.\n",
      "Epoch 36: early stopping\n",
      "0.3256821632385254\n",
      "3/3 [==============================] - 0s 4ms/step\n",
      "/c4/home/derek/data1/derek/data_scSLR/prenatal_brain/deep_splicing/ExplaiNN/data_out/EN_RG_multitask_DeltaPSI_sig_0.1_train_valid_test_deepripe_repeatKfold/repeat_3/fold30/\n",
      "Restoring model weights from the end of the best epoch: 4.\n",
      "Epoch 19: early stopping\n",
      "0.3502829670906067\n",
      "3/3 [==============================] - 0s 3ms/step\n",
      "/c4/home/derek/data1/derek/data_scSLR/prenatal_brain/deep_splicing/ExplaiNN/data_out/EN_RG_multitask_DeltaPSI_sig_0.1_train_valid_test_deepripe_repeatKfold/repeat_3/fold31/\n",
      "Restoring model weights from the end of the best epoch: 10.\n",
      "Epoch 25: early stopping\n",
      "0.31045272946357727\n",
      "3/3 [==============================] - 0s 3ms/step\n",
      "/c4/home/derek/data1/derek/data_scSLR/prenatal_brain/deep_splicing/ExplaiNN/data_out/EN_RG_multitask_DeltaPSI_sig_0.1_train_valid_test_deepripe_repeatKfold/repeat_3/fold32/\n",
      "Restoring model weights from the end of the best epoch: 7.\n",
      "Epoch 22: early stopping\n",
      "0.33449238538742065\n",
      "3/3 [==============================] - 0s 3ms/step\n",
      "/c4/home/derek/data1/derek/data_scSLR/prenatal_brain/deep_splicing/ExplaiNN/data_out/EN_RG_multitask_DeltaPSI_sig_0.1_train_valid_test_deepripe_repeatKfold/repeat_3/fold33/\n",
      "Restoring model weights from the end of the best epoch: 3.\n",
      "Epoch 18: early stopping\n",
      "0.29530560970306396\n",
      "3/3 [==============================] - 0s 3ms/step\n",
      "/c4/home/derek/data1/derek/data_scSLR/prenatal_brain/deep_splicing/ExplaiNN/data_out/EN_RG_multitask_DeltaPSI_sig_0.1_train_valid_test_deepripe_repeatKfold/repeat_3/fold34/\n",
      "Restoring model weights from the end of the best epoch: 15.\n",
      "Epoch 30: early stopping\n",
      "0.3228045701980591\n",
      "3/3 [==============================] - 0s 3ms/step\n",
      "/c4/home/derek/data1/derek/data_scSLR/prenatal_brain/deep_splicing/ExplaiNN/data_out/EN_RG_multitask_DeltaPSI_sig_0.1_train_valid_test_deepripe_repeatKfold/repeat_3/fold35/\n",
      "Restoring model weights from the end of the best epoch: 9.\n",
      "Epoch 24: early stopping\n",
      "0.33010101318359375\n",
      "3/3 [==============================] - 0s 3ms/step\n",
      "/c4/home/derek/data1/derek/data_scSLR/prenatal_brain/deep_splicing/ExplaiNN/data_out/EN_RG_multitask_DeltaPSI_sig_0.1_train_valid_test_deepripe_repeatKfold/repeat_3/fold36/\n",
      "Restoring model weights from the end of the best epoch: 6.\n",
      "Epoch 21: early stopping\n",
      "0.430972695350647\n",
      "3/3 [==============================] - 0s 3ms/step\n",
      "/c4/home/derek/data1/derek/data_scSLR/prenatal_brain/deep_splicing/ExplaiNN/data_out/EN_RG_multitask_DeltaPSI_sig_0.1_train_valid_test_deepripe_repeatKfold/repeat_3/fold37/\n",
      "Restoring model weights from the end of the best epoch: 9.\n",
      "Epoch 24: early stopping\n",
      "0.370544970035553\n",
      "3/3 [==============================] - 0s 3ms/step\n",
      "/c4/home/derek/data1/derek/data_scSLR/prenatal_brain/deep_splicing/ExplaiNN/data_out/EN_RG_multitask_DeltaPSI_sig_0.1_train_valid_test_deepripe_repeatKfold/repeat_3/fold38/\n",
      "Restoring model weights from the end of the best epoch: 15.\n",
      "Epoch 30: early stopping\n",
      "0.42218923568725586\n",
      "3/3 [==============================] - 0s 3ms/step\n",
      "/c4/home/derek/data1/derek/data_scSLR/prenatal_brain/deep_splicing/ExplaiNN/data_out/EN_RG_multitask_DeltaPSI_sig_0.1_train_valid_test_deepripe_repeatKfold/repeat_3/fold39/\n",
      "Restoring model weights from the end of the best epoch: 9.\n",
      "Epoch 24: early stopping\n",
      "0.39221078157424927\n",
      "3/3 [==============================] - 0s 3ms/step\n",
      "/c4/home/derek/data1/derek/data_scSLR/prenatal_brain/deep_splicing/ExplaiNN/data_out/EN_RG_multitask_DeltaPSI_sig_0.1_train_valid_test_deepripe_repeatKfold/repeat_4/fold40/\n",
      "Restoring model weights from the end of the best epoch: 20.\n",
      "Epoch 35: early stopping\n",
      "0.41258108615875244\n",
      "3/3 [==============================] - 0s 3ms/step\n",
      "/c4/home/derek/data1/derek/data_scSLR/prenatal_brain/deep_splicing/ExplaiNN/data_out/EN_RG_multitask_DeltaPSI_sig_0.1_train_valid_test_deepripe_repeatKfold/repeat_4/fold41/\n",
      "Restoring model weights from the end of the best epoch: 27.\n",
      "Epoch 42: early stopping\n",
      "0.3066556453704834\n",
      "3/3 [==============================] - 0s 3ms/step\n",
      "/c4/home/derek/data1/derek/data_scSLR/prenatal_brain/deep_splicing/ExplaiNN/data_out/EN_RG_multitask_DeltaPSI_sig_0.1_train_valid_test_deepripe_repeatKfold/repeat_4/fold42/\n",
      "Restoring model weights from the end of the best epoch: 18.\n",
      "Epoch 33: early stopping\n",
      "0.3506017327308655\n",
      "3/3 [==============================] - 0s 3ms/step\n",
      "/c4/home/derek/data1/derek/data_scSLR/prenatal_brain/deep_splicing/ExplaiNN/data_out/EN_RG_multitask_DeltaPSI_sig_0.1_train_valid_test_deepripe_repeatKfold/repeat_4/fold43/\n",
      "Restoring model weights from the end of the best epoch: 12.\n",
      "Epoch 27: early stopping\n",
      "0.2648155689239502\n",
      "3/3 [==============================] - 0s 3ms/step\n",
      "/c4/home/derek/data1/derek/data_scSLR/prenatal_brain/deep_splicing/ExplaiNN/data_out/EN_RG_multitask_DeltaPSI_sig_0.1_train_valid_test_deepripe_repeatKfold/repeat_4/fold44/\n",
      "Restoring model weights from the end of the best epoch: 3.\n",
      "Epoch 18: early stopping\n",
      "0.4176442325115204\n",
      "3/3 [==============================] - 0s 3ms/step\n",
      "/c4/home/derek/data1/derek/data_scSLR/prenatal_brain/deep_splicing/ExplaiNN/data_out/EN_RG_multitask_DeltaPSI_sig_0.1_train_valid_test_deepripe_repeatKfold/repeat_4/fold45/\n",
      "Restoring model weights from the end of the best epoch: 9.\n",
      "Epoch 24: early stopping\n",
      "0.42276731133461\n",
      "3/3 [==============================] - 0s 3ms/step\n",
      "/c4/home/derek/data1/derek/data_scSLR/prenatal_brain/deep_splicing/ExplaiNN/data_out/EN_RG_multitask_DeltaPSI_sig_0.1_train_valid_test_deepripe_repeatKfold/repeat_4/fold46/\n",
      "Restoring model weights from the end of the best epoch: 11.\n",
      "Epoch 26: early stopping\n",
      "0.3442879319190979\n",
      "3/3 [==============================] - 0s 3ms/step\n",
      "/c4/home/derek/data1/derek/data_scSLR/prenatal_brain/deep_splicing/ExplaiNN/data_out/EN_RG_multitask_DeltaPSI_sig_0.1_train_valid_test_deepripe_repeatKfold/repeat_4/fold47/\n",
      "Restoring model weights from the end of the best epoch: 7.\n",
      "Epoch 22: early stopping\n",
      "0.36655908823013306\n",
      "3/3 [==============================] - 0s 3ms/step\n",
      "/c4/home/derek/data1/derek/data_scSLR/prenatal_brain/deep_splicing/ExplaiNN/data_out/EN_RG_multitask_DeltaPSI_sig_0.1_train_valid_test_deepripe_repeatKfold/repeat_4/fold48/\n",
      "Restoring model weights from the end of the best epoch: 19.\n",
      "Epoch 34: early stopping\n",
      "0.326022744178772\n",
      "3/3 [==============================] - 0s 3ms/step\n",
      "/c4/home/derek/data1/derek/data_scSLR/prenatal_brain/deep_splicing/ExplaiNN/data_out/EN_RG_multitask_DeltaPSI_sig_0.1_train_valid_test_deepripe_repeatKfold/repeat_4/fold49/\n",
      "Restoring model weights from the end of the best epoch: 7.\n",
      "Epoch 22: early stopping\n",
      "0.26650241017341614\n",
      "3/3 [==============================] - 0s 3ms/step\n",
      "/c4/home/derek/data1/derek/data_scSLR/prenatal_brain/deep_splicing/ExplaiNN/data_out/EN_RG_multitask_DeltaPSI_sig_0.1_train_valid_test_deepripe_repeatKfold/repeat_5/fold50/\n",
      "Restoring model weights from the end of the best epoch: 11.\n",
      "Epoch 26: early stopping\n",
      "0.2759437561035156\n",
      "3/3 [==============================] - 0s 3ms/step\n",
      "/c4/home/derek/data1/derek/data_scSLR/prenatal_brain/deep_splicing/ExplaiNN/data_out/EN_RG_multitask_DeltaPSI_sig_0.1_train_valid_test_deepripe_repeatKfold/repeat_5/fold51/\n",
      "Restoring model weights from the end of the best epoch: 8.\n",
      "Epoch 23: early stopping\n",
      "0.39712512493133545\n",
      "3/3 [==============================] - 0s 3ms/step\n",
      "/c4/home/derek/data1/derek/data_scSLR/prenatal_brain/deep_splicing/ExplaiNN/data_out/EN_RG_multitask_DeltaPSI_sig_0.1_train_valid_test_deepripe_repeatKfold/repeat_5/fold52/\n",
      "Restoring model weights from the end of the best epoch: 12.\n",
      "Epoch 27: early stopping\n",
      "0.3215121924877167\n",
      "3/3 [==============================] - 0s 3ms/step\n",
      "/c4/home/derek/data1/derek/data_scSLR/prenatal_brain/deep_splicing/ExplaiNN/data_out/EN_RG_multitask_DeltaPSI_sig_0.1_train_valid_test_deepripe_repeatKfold/repeat_5/fold53/\n",
      "Restoring model weights from the end of the best epoch: 9.\n",
      "Epoch 24: early stopping\n",
      "0.36445754766464233\n",
      "3/3 [==============================] - 0s 3ms/step\n",
      "/c4/home/derek/data1/derek/data_scSLR/prenatal_brain/deep_splicing/ExplaiNN/data_out/EN_RG_multitask_DeltaPSI_sig_0.1_train_valid_test_deepripe_repeatKfold/repeat_5/fold54/\n",
      "Restoring model weights from the end of the best epoch: 50.\n",
      "Epoch 65: early stopping\n",
      "0.3823961913585663\n",
      "3/3 [==============================] - 0s 3ms/step\n",
      "/c4/home/derek/data1/derek/data_scSLR/prenatal_brain/deep_splicing/ExplaiNN/data_out/EN_RG_multitask_DeltaPSI_sig_0.1_train_valid_test_deepripe_repeatKfold/repeat_5/fold55/\n",
      "Restoring model weights from the end of the best epoch: 9.\n",
      "Epoch 24: early stopping\n",
      "0.3094256520271301\n",
      "3/3 [==============================] - 0s 3ms/step\n",
      "/c4/home/derek/data1/derek/data_scSLR/prenatal_brain/deep_splicing/ExplaiNN/data_out/EN_RG_multitask_DeltaPSI_sig_0.1_train_valid_test_deepripe_repeatKfold/repeat_5/fold56/\n",
      "Restoring model weights from the end of the best epoch: 6.\n",
      "Epoch 21: early stopping\n",
      "0.3066713809967041\n",
      "3/3 [==============================] - 0s 3ms/step\n",
      "/c4/home/derek/data1/derek/data_scSLR/prenatal_brain/deep_splicing/ExplaiNN/data_out/EN_RG_multitask_DeltaPSI_sig_0.1_train_valid_test_deepripe_repeatKfold/repeat_5/fold57/\n",
      "Restoring model weights from the end of the best epoch: 16.\n",
      "Epoch 31: early stopping\n",
      "0.343838095664978\n",
      "3/3 [==============================] - 0s 3ms/step\n",
      "/c4/home/derek/data1/derek/data_scSLR/prenatal_brain/deep_splicing/ExplaiNN/data_out/EN_RG_multitask_DeltaPSI_sig_0.1_train_valid_test_deepripe_repeatKfold/repeat_5/fold58/\n",
      "Restoring model weights from the end of the best epoch: 9.\n",
      "Epoch 24: early stopping\n",
      "0.34854868054389954\n",
      "3/3 [==============================] - 0s 3ms/step\n",
      "/c4/home/derek/data1/derek/data_scSLR/prenatal_brain/deep_splicing/ExplaiNN/data_out/EN_RG_multitask_DeltaPSI_sig_0.1_train_valid_test_deepripe_repeatKfold/repeat_5/fold59/\n",
      "Restoring model weights from the end of the best epoch: 22.\n",
      "Epoch 37: early stopping\n",
      "0.40975943207740784\n",
      "3/3 [==============================] - 0s 3ms/step\n",
      "/c4/home/derek/data1/derek/data_scSLR/prenatal_brain/deep_splicing/ExplaiNN/data_out/EN_RG_multitask_DeltaPSI_sig_0.1_train_valid_test_deepripe_repeatKfold/repeat_6/fold60/\n",
      "Restoring model weights from the end of the best epoch: 10.\n",
      "Epoch 25: early stopping\n",
      "0.3288431763648987\n",
      "3/3 [==============================] - 0s 3ms/step\n",
      "/c4/home/derek/data1/derek/data_scSLR/prenatal_brain/deep_splicing/ExplaiNN/data_out/EN_RG_multitask_DeltaPSI_sig_0.1_train_valid_test_deepripe_repeatKfold/repeat_6/fold61/\n",
      "Restoring model weights from the end of the best epoch: 17.\n",
      "Epoch 32: early stopping\n",
      "0.32590579986572266\n",
      "3/3 [==============================] - 0s 3ms/step\n",
      "/c4/home/derek/data1/derek/data_scSLR/prenatal_brain/deep_splicing/ExplaiNN/data_out/EN_RG_multitask_DeltaPSI_sig_0.1_train_valid_test_deepripe_repeatKfold/repeat_6/fold62/\n",
      "Restoring model weights from the end of the best epoch: 17.\n",
      "Epoch 32: early stopping\n",
      "0.36114275455474854\n",
      "3/3 [==============================] - 0s 3ms/step\n",
      "/c4/home/derek/data1/derek/data_scSLR/prenatal_brain/deep_splicing/ExplaiNN/data_out/EN_RG_multitask_DeltaPSI_sig_0.1_train_valid_test_deepripe_repeatKfold/repeat_6/fold63/\n",
      "Restoring model weights from the end of the best epoch: 13.\n",
      "Epoch 28: early stopping\n",
      "0.36854201555252075\n",
      "3/3 [==============================] - 0s 3ms/step\n",
      "/c4/home/derek/data1/derek/data_scSLR/prenatal_brain/deep_splicing/ExplaiNN/data_out/EN_RG_multitask_DeltaPSI_sig_0.1_train_valid_test_deepripe_repeatKfold/repeat_6/fold64/\n",
      "Restoring model weights from the end of the best epoch: 19.\n",
      "Epoch 34: early stopping\n",
      "0.3351370096206665\n",
      "3/3 [==============================] - 0s 3ms/step\n",
      "/c4/home/derek/data1/derek/data_scSLR/prenatal_brain/deep_splicing/ExplaiNN/data_out/EN_RG_multitask_DeltaPSI_sig_0.1_train_valid_test_deepripe_repeatKfold/repeat_6/fold65/\n",
      "Restoring model weights from the end of the best epoch: 33.\n",
      "Epoch 48: early stopping\n",
      "0.35197168588638306\n",
      "3/3 [==============================] - 0s 3ms/step\n",
      "/c4/home/derek/data1/derek/data_scSLR/prenatal_brain/deep_splicing/ExplaiNN/data_out/EN_RG_multitask_DeltaPSI_sig_0.1_train_valid_test_deepripe_repeatKfold/repeat_6/fold66/\n",
      "Restoring model weights from the end of the best epoch: 3.\n",
      "Epoch 18: early stopping\n",
      "0.4247884750366211\n",
      "3/3 [==============================] - 0s 3ms/step\n",
      "/c4/home/derek/data1/derek/data_scSLR/prenatal_brain/deep_splicing/ExplaiNN/data_out/EN_RG_multitask_DeltaPSI_sig_0.1_train_valid_test_deepripe_repeatKfold/repeat_6/fold67/\n",
      "Restoring model weights from the end of the best epoch: 11.\n",
      "Epoch 26: early stopping\n",
      "0.35711097717285156\n",
      "3/3 [==============================] - 1s 3ms/step\n",
      "/c4/home/derek/data1/derek/data_scSLR/prenatal_brain/deep_splicing/ExplaiNN/data_out/EN_RG_multitask_DeltaPSI_sig_0.1_train_valid_test_deepripe_repeatKfold/repeat_6/fold68/\n",
      "Restoring model weights from the end of the best epoch: 7.\n",
      "Epoch 22: early stopping\n",
      "0.32486844062805176\n",
      "3/3 [==============================] - 0s 3ms/step\n",
      "/c4/home/derek/data1/derek/data_scSLR/prenatal_brain/deep_splicing/ExplaiNN/data_out/EN_RG_multitask_DeltaPSI_sig_0.1_train_valid_test_deepripe_repeatKfold/repeat_6/fold69/\n",
      "Restoring model weights from the end of the best epoch: 10.\n",
      "Epoch 25: early stopping\n",
      "0.2960650324821472\n",
      "3/3 [==============================] - 0s 3ms/step\n",
      "/c4/home/derek/data1/derek/data_scSLR/prenatal_brain/deep_splicing/ExplaiNN/data_out/EN_RG_multitask_DeltaPSI_sig_0.1_train_valid_test_deepripe_repeatKfold/repeat_7/fold70/\n",
      "Restoring model weights from the end of the best epoch: 25.\n",
      "Epoch 40: early stopping\n",
      "0.316648930311203\n",
      "3/3 [==============================] - 0s 3ms/step\n",
      "/c4/home/derek/data1/derek/data_scSLR/prenatal_brain/deep_splicing/ExplaiNN/data_out/EN_RG_multitask_DeltaPSI_sig_0.1_train_valid_test_deepripe_repeatKfold/repeat_7/fold71/\n",
      "Restoring model weights from the end of the best epoch: 7.\n",
      "Epoch 22: early stopping\n",
      "0.363101065158844\n",
      "3/3 [==============================] - 0s 3ms/step\n",
      "/c4/home/derek/data1/derek/data_scSLR/prenatal_brain/deep_splicing/ExplaiNN/data_out/EN_RG_multitask_DeltaPSI_sig_0.1_train_valid_test_deepripe_repeatKfold/repeat_7/fold72/\n",
      "Restoring model weights from the end of the best epoch: 19.\n",
      "Epoch 34: early stopping\n",
      "0.38946473598480225\n",
      "3/3 [==============================] - 0s 3ms/step\n",
      "/c4/home/derek/data1/derek/data_scSLR/prenatal_brain/deep_splicing/ExplaiNN/data_out/EN_RG_multitask_DeltaPSI_sig_0.1_train_valid_test_deepripe_repeatKfold/repeat_7/fold73/\n",
      "Restoring model weights from the end of the best epoch: 7.\n",
      "Epoch 22: early stopping\n",
      "0.36148712038993835\n",
      "3/3 [==============================] - 0s 3ms/step\n",
      "/c4/home/derek/data1/derek/data_scSLR/prenatal_brain/deep_splicing/ExplaiNN/data_out/EN_RG_multitask_DeltaPSI_sig_0.1_train_valid_test_deepripe_repeatKfold/repeat_7/fold74/\n",
      "Restoring model weights from the end of the best epoch: 20.\n",
      "Epoch 35: early stopping\n",
      "0.2972494959831238\n",
      "3/3 [==============================] - 0s 3ms/step\n",
      "/c4/home/derek/data1/derek/data_scSLR/prenatal_brain/deep_splicing/ExplaiNN/data_out/EN_RG_multitask_DeltaPSI_sig_0.1_train_valid_test_deepripe_repeatKfold/repeat_7/fold75/\n",
      "Restoring model weights from the end of the best epoch: 25.\n",
      "Epoch 40: early stopping\n",
      "0.460233211517334\n",
      "3/3 [==============================] - 0s 3ms/step\n",
      "/c4/home/derek/data1/derek/data_scSLR/prenatal_brain/deep_splicing/ExplaiNN/data_out/EN_RG_multitask_DeltaPSI_sig_0.1_train_valid_test_deepripe_repeatKfold/repeat_7/fold76/\n",
      "Restoring model weights from the end of the best epoch: 23.\n",
      "Epoch 38: early stopping\n",
      "0.3820036053657532\n",
      "3/3 [==============================] - 0s 3ms/step\n",
      "/c4/home/derek/data1/derek/data_scSLR/prenatal_brain/deep_splicing/ExplaiNN/data_out/EN_RG_multitask_DeltaPSI_sig_0.1_train_valid_test_deepripe_repeatKfold/repeat_7/fold77/\n",
      "Restoring model weights from the end of the best epoch: 2.\n",
      "Epoch 17: early stopping\n",
      "0.26990842819213867\n",
      "3/3 [==============================] - 0s 3ms/step\n",
      "/c4/home/derek/data1/derek/data_scSLR/prenatal_brain/deep_splicing/ExplaiNN/data_out/EN_RG_multitask_DeltaPSI_sig_0.1_train_valid_test_deepripe_repeatKfold/repeat_7/fold78/\n",
      "Restoring model weights from the end of the best epoch: 8.\n",
      "Epoch 23: early stopping\n",
      "0.32379186153411865\n",
      "3/3 [==============================] - 0s 3ms/step\n",
      "/c4/home/derek/data1/derek/data_scSLR/prenatal_brain/deep_splicing/ExplaiNN/data_out/EN_RG_multitask_DeltaPSI_sig_0.1_train_valid_test_deepripe_repeatKfold/repeat_7/fold79/\n",
      "Restoring model weights from the end of the best epoch: 10.\n",
      "Epoch 25: early stopping\n",
      "0.36892831325531006\n",
      "3/3 [==============================] - 0s 3ms/step\n",
      "/c4/home/derek/data1/derek/data_scSLR/prenatal_brain/deep_splicing/ExplaiNN/data_out/EN_RG_multitask_DeltaPSI_sig_0.1_train_valid_test_deepripe_repeatKfold/repeat_8/fold80/\n",
      "Restoring model weights from the end of the best epoch: 4.\n",
      "Epoch 19: early stopping\n",
      "0.4214814305305481\n",
      "3/3 [==============================] - 0s 3ms/step\n",
      "/c4/home/derek/data1/derek/data_scSLR/prenatal_brain/deep_splicing/ExplaiNN/data_out/EN_RG_multitask_DeltaPSI_sig_0.1_train_valid_test_deepripe_repeatKfold/repeat_8/fold81/\n",
      "Restoring model weights from the end of the best epoch: 9.\n",
      "Epoch 24: early stopping\n",
      "0.31612110137939453\n",
      "3/3 [==============================] - 0s 3ms/step\n",
      "/c4/home/derek/data1/derek/data_scSLR/prenatal_brain/deep_splicing/ExplaiNN/data_out/EN_RG_multitask_DeltaPSI_sig_0.1_train_valid_test_deepripe_repeatKfold/repeat_8/fold82/\n",
      "Restoring model weights from the end of the best epoch: 38.\n",
      "Epoch 53: early stopping\n",
      "0.38802874088287354\n",
      "3/3 [==============================] - 0s 3ms/step\n",
      "/c4/home/derek/data1/derek/data_scSLR/prenatal_brain/deep_splicing/ExplaiNN/data_out/EN_RG_multitask_DeltaPSI_sig_0.1_train_valid_test_deepripe_repeatKfold/repeat_8/fold83/\n",
      "Restoring model weights from the end of the best epoch: 9.\n",
      "Epoch 24: early stopping\n",
      "0.38120776414871216\n",
      "3/3 [==============================] - 0s 3ms/step\n",
      "/c4/home/derek/data1/derek/data_scSLR/prenatal_brain/deep_splicing/ExplaiNN/data_out/EN_RG_multitask_DeltaPSI_sig_0.1_train_valid_test_deepripe_repeatKfold/repeat_8/fold84/\n",
      "Restoring model weights from the end of the best epoch: 14.\n",
      "Epoch 29: early stopping\n",
      "0.3689940273761749\n",
      "3/3 [==============================] - 0s 3ms/step\n",
      "/c4/home/derek/data1/derek/data_scSLR/prenatal_brain/deep_splicing/ExplaiNN/data_out/EN_RG_multitask_DeltaPSI_sig_0.1_train_valid_test_deepripe_repeatKfold/repeat_8/fold85/\n",
      "Restoring model weights from the end of the best epoch: 11.\n",
      "Epoch 26: early stopping\n",
      "0.3327999711036682\n",
      "3/3 [==============================] - 0s 3ms/step\n",
      "/c4/home/derek/data1/derek/data_scSLR/prenatal_brain/deep_splicing/ExplaiNN/data_out/EN_RG_multitask_DeltaPSI_sig_0.1_train_valid_test_deepripe_repeatKfold/repeat_8/fold86/\n",
      "Restoring model weights from the end of the best epoch: 9.\n",
      "Epoch 24: early stopping\n",
      "0.35332533717155457\n",
      "3/3 [==============================] - 0s 3ms/step\n",
      "/c4/home/derek/data1/derek/data_scSLR/prenatal_brain/deep_splicing/ExplaiNN/data_out/EN_RG_multitask_DeltaPSI_sig_0.1_train_valid_test_deepripe_repeatKfold/repeat_8/fold87/\n",
      "Restoring model weights from the end of the best epoch: 14.\n",
      "Epoch 29: early stopping\n",
      "0.39273157715797424\n",
      "3/3 [==============================] - 0s 2ms/step\n",
      "/c4/home/derek/data1/derek/data_scSLR/prenatal_brain/deep_splicing/ExplaiNN/data_out/EN_RG_multitask_DeltaPSI_sig_0.1_train_valid_test_deepripe_repeatKfold/repeat_8/fold88/\n",
      "Restoring model weights from the end of the best epoch: 8.\n",
      "Epoch 23: early stopping\n",
      "0.3657582700252533\n",
      "3/3 [==============================] - 0s 3ms/step\n",
      "/c4/home/derek/data1/derek/data_scSLR/prenatal_brain/deep_splicing/ExplaiNN/data_out/EN_RG_multitask_DeltaPSI_sig_0.1_train_valid_test_deepripe_repeatKfold/repeat_8/fold89/\n",
      "Restoring model weights from the end of the best epoch: 10.\n",
      "Epoch 25: early stopping\n",
      "0.3569667637348175\n",
      "3/3 [==============================] - 0s 3ms/step\n",
      "/c4/home/derek/data1/derek/data_scSLR/prenatal_brain/deep_splicing/ExplaiNN/data_out/EN_RG_multitask_DeltaPSI_sig_0.1_train_valid_test_deepripe_repeatKfold/repeat_9/fold90/\n",
      "Restoring model weights from the end of the best epoch: 3.\n",
      "Epoch 18: early stopping\n",
      "0.29086926579475403\n",
      "3/3 [==============================] - 0s 3ms/step\n",
      "/c4/home/derek/data1/derek/data_scSLR/prenatal_brain/deep_splicing/ExplaiNN/data_out/EN_RG_multitask_DeltaPSI_sig_0.1_train_valid_test_deepripe_repeatKfold/repeat_9/fold91/\n",
      "Restoring model weights from the end of the best epoch: 17.\n",
      "Epoch 32: early stopping\n",
      "0.2831740975379944\n",
      "3/3 [==============================] - 0s 3ms/step\n",
      "/c4/home/derek/data1/derek/data_scSLR/prenatal_brain/deep_splicing/ExplaiNN/data_out/EN_RG_multitask_DeltaPSI_sig_0.1_train_valid_test_deepripe_repeatKfold/repeat_9/fold92/\n",
      "Restoring model weights from the end of the best epoch: 16.\n",
      "Epoch 31: early stopping\n",
      "0.3130626678466797\n",
      "3/3 [==============================] - 0s 3ms/step\n",
      "/c4/home/derek/data1/derek/data_scSLR/prenatal_brain/deep_splicing/ExplaiNN/data_out/EN_RG_multitask_DeltaPSI_sig_0.1_train_valid_test_deepripe_repeatKfold/repeat_9/fold93/\n",
      "Restoring model weights from the end of the best epoch: 21.\n",
      "Epoch 36: early stopping\n",
      "0.2549852132797241\n",
      "3/3 [==============================] - 0s 3ms/step\n",
      "/c4/home/derek/data1/derek/data_scSLR/prenatal_brain/deep_splicing/ExplaiNN/data_out/EN_RG_multitask_DeltaPSI_sig_0.1_train_valid_test_deepripe_repeatKfold/repeat_9/fold94/\n",
      "Restoring model weights from the end of the best epoch: 11.\n",
      "Epoch 26: early stopping\n",
      "0.37934476137161255\n",
      "3/3 [==============================] - 0s 3ms/step\n",
      "/c4/home/derek/data1/derek/data_scSLR/prenatal_brain/deep_splicing/ExplaiNN/data_out/EN_RG_multitask_DeltaPSI_sig_0.1_train_valid_test_deepripe_repeatKfold/repeat_9/fold95/\n",
      "Restoring model weights from the end of the best epoch: 8.\n",
      "Epoch 23: early stopping\n",
      "0.40707963705062866\n",
      "3/3 [==============================] - 0s 3ms/step\n",
      "/c4/home/derek/data1/derek/data_scSLR/prenatal_brain/deep_splicing/ExplaiNN/data_out/EN_RG_multitask_DeltaPSI_sig_0.1_train_valid_test_deepripe_repeatKfold/repeat_9/fold96/\n",
      "Restoring model weights from the end of the best epoch: 13.\n",
      "Epoch 28: early stopping\n",
      "0.3408527374267578\n",
      "3/3 [==============================] - 0s 3ms/step\n",
      "/c4/home/derek/data1/derek/data_scSLR/prenatal_brain/deep_splicing/ExplaiNN/data_out/EN_RG_multitask_DeltaPSI_sig_0.1_train_valid_test_deepripe_repeatKfold/repeat_9/fold97/\n",
      "Restoring model weights from the end of the best epoch: 6.\n",
      "Epoch 21: early stopping\n",
      "0.3602524995803833\n",
      "3/3 [==============================] - 0s 3ms/step\n",
      "/c4/home/derek/data1/derek/data_scSLR/prenatal_brain/deep_splicing/ExplaiNN/data_out/EN_RG_multitask_DeltaPSI_sig_0.1_train_valid_test_deepripe_repeatKfold/repeat_9/fold98/\n",
      "Restoring model weights from the end of the best epoch: 8.\n",
      "Epoch 23: early stopping\n",
      "0.35018259286880493\n",
      "3/3 [==============================] - 0s 3ms/step\n",
      "/c4/home/derek/data1/derek/data_scSLR/prenatal_brain/deep_splicing/ExplaiNN/data_out/EN_RG_multitask_DeltaPSI_sig_0.1_train_valid_test_deepripe_repeatKfold/repeat_9/fold99/\n",
      "Restoring model weights from the end of the best epoch: 8.\n",
      "Epoch 23: early stopping\n",
      "0.29884102940559387\n",
      "3/3 [==============================] - 0s 3ms/step\n",
      "CPU times: user 21min 48s, sys: 1min 21s, total: 23min 9s\n",
      "Wall time: 20min 32s\n"
     ]
    }
   ],
   "source": [
    "%%time\n",
    "## repeated KFold Cross validation\n",
    "\n",
    "pred_dict_saluki = {}\n",
    "y_dict_saluki = {}\n",
    "\n",
    "\n",
    "for repeat in [i for i in os.listdir(out_dir) if i.startswith('repeat')]:\n",
    "\n",
    "    pred_dict_saluki[repeat] = pd.DataFrame()\n",
    "    y_dict_saluki[repeat] = pd.DataFrame()\n",
    "\n",
    "    for fold in os.listdir(out_dir + repeat):\n",
    "\n",
    "\n",
    "        seq_len = 800\n",
    "        n_tasks = 2\n",
    "\n",
    "        input_seq = tf.keras.Input(shape=(seq_len, 4), name='input_seq')\n",
    "\n",
    "        # first convolutions\n",
    "        current = tf.keras.layers.Conv1D(filters=64, kernel_size=5, padding='valid',\n",
    "                                     kernel_initializer='he_normal', use_bias=False,\n",
    "                                     kernel_regularizer=tf.keras.regularizers.l2(0.001))(input_seq)\n",
    "\n",
    "        # middle convolutions\n",
    "        for mi in range(5):\n",
    "            current = tf.keras.layers.LayerNormalization(epsilon=0.007)(current)\n",
    "            current = layers.activate(current, 'relu')\n",
    "            current = tf.keras.layers.Conv1D(filters=64, kernel_size=5, padding='valid',\n",
    "                                               kernel_initializer='he_normal',\n",
    "                                               kernel_regularizer=tf.keras.regularizers.l2(0.001))(current)\n",
    "            current = tf.keras.layers.Dropout(0.03)(current)\n",
    "\n",
    "            current = tf.keras.layers.MaxPooling1D()(current)\n",
    "\n",
    "        # aggregate sequence\n",
    "\n",
    "        current = tf.keras.layers.LayerNormalization(epsilon=0.007)(current)\n",
    "        current = layers.activate(current, 'relu')\n",
    "        rnn_layer = tf.keras.layers.GRU\n",
    "\n",
    "\n",
    "        current = rnn_layer(64, go_backwards=True, kernel_initializer='he_normal',\n",
    "                        kernel_regularizer=tf.keras.regularizers.l2(0.001))(current)\n",
    "\n",
    "        # penultimate\n",
    "        current = tf.keras.layers.BatchNormalization(momentum=0.90)(current)\n",
    "        current = layers.activate(current, 'relu')\n",
    "        current = tf.keras.layers.Dense(64,\n",
    "                                        kernel_initializer='he_normal',\n",
    "                                        kernel_regularizer=tf.keras.regularizers.l2(0.001))(current)\n",
    "        current = tf.keras.layers.Dropout(0.2)(current)\n",
    "\n",
    "        # final representation\n",
    "        current = tf.keras.layers.BatchNormalization(momentum=0.90)(current)\n",
    "        current = layers.activate(current, 'relu')\n",
    "\n",
    "        output = tf.keras.layers.Dense(n_tasks,\n",
    "                                         kernel_initializer='he_normal',\n",
    "                                         activation='sigmoid')(current)\n",
    "\n",
    "\n",
    "    \n",
    "\n",
    "        model = tf.keras.Model(input_seq, output, name='saluki_type')\n",
    "\n",
    "\n",
    "        data_dir = out_dir+f'{repeat}/{fold}/'\n",
    "        params_file = data_dir+'params.json'\n",
    "\n",
    "\n",
    "        with open(params_file) as params_open:\n",
    "                params = json.load(params_open)\n",
    "        params_model = params['model']\n",
    "        params_train = params['train']\n",
    "\n",
    "\n",
    "        #read datasets\n",
    "        train_data = []\n",
    "        eval_data = []\n",
    "        test_data = []\n",
    "\n",
    "\n",
    "        seq_track=True\n",
    "        print(data_dir)\n",
    "\n",
    "        # for data_dir in data_dir:\n",
    "        # load train data\n",
    "        train_data.append(dataset.ExonDataset(data_dir,\n",
    "            split_label='train',\n",
    "            batch_size=params_train['batch_size'],\n",
    "            shuffle_buffer=params_train.get('shuffle_buffer', params_model['seq_length']),\n",
    "            mode='train',\n",
    "            splice_track=False,\n",
    "               # annotation_tracks=True\n",
    "                                             ))\n",
    "\n",
    "        # load eval data\n",
    "        eval_data.append(dataset.ExonDataset(data_dir,\n",
    "          split_label='valid',\n",
    "          batch_size=params_train['batch_size'],\n",
    "          mode='eval',\n",
    "          splice_track=False,\n",
    "              # annotation_tracks=True\n",
    "                                            ))\n",
    "\n",
    "        # load test data\n",
    "        test_data.append(dataset.ExonDataset(data_dir, \n",
    "            split_label='test',\n",
    "          batch_size=params_train['batch_size'],\n",
    "          mode='eval',\n",
    "          splice_track=False\n",
    "                                             ))\n",
    "\n",
    "\n",
    "\n",
    "        num_targets = model.output_shape[-1]\n",
    "\n",
    "        model_metrics = [PearsonR(num_targets)\n",
    "                        ]\n",
    "\n",
    "        optimizer = tf.keras.optimizers.Adam(learning_rate=0.001,\n",
    "                                            beta_1=0.9, beta_2=0.999)\n",
    "\n",
    "\n",
    "\n",
    "\n",
    "        # define callbacks\n",
    "        save_best=tf.keras.callbacks.ModelCheckpoint('%s/model_best.h5'%out_dir,\n",
    "                                                    save_best_only=True, \n",
    "                                                     monitor='val_pearsonr',\n",
    "                                                     mode='max', \n",
    "                                                     verbose=1)\n",
    "\n",
    "\n",
    "        lradjust = tf.keras.callbacks.ReduceLROnPlateau(monitor='val_loss', factor=0.5, patience=12, cooldown=1)\n",
    "\n",
    "        early_stop=tf.keras.callbacks.EarlyStopping(monitor='val_pearsonr', min_delta=1e-4, patience=15, mode='max',restore_best_weights=True, verbose=1\n",
    "                                                     )\n",
    "\n",
    "\n",
    "\n",
    "\n",
    "        model.compile(optimizer=optimizer, \n",
    "                          loss='mse',\n",
    "                          metrics=model_metrics\n",
    "                         )\n",
    "\n",
    "        history = model.fit(x=train_data[0].numpy()[0][:,0,:,:],\n",
    "                            y=train_data[0].numpy()[1].squeeze(axis=1),\n",
    "                              epochs=1000,\n",
    "                            validation_data=(eval_data[0].numpy()[0][:,0,:,:],\n",
    "                                    eval_data[0].numpy()[1].squeeze(axis=1)),\n",
    "\n",
    "                                callbacks=[\n",
    "                                 #  save_best, \n",
    "                                   early_stop,\n",
    "                                    lradjust, \n",
    "                                         ],\n",
    "                            verbose=0\n",
    "                     )\n",
    "        print(max(history.history['val_pearsonr']))\n",
    "\n",
    "        y = pd.DataFrame(test_data[0].numpy()[1].squeeze(axis=1))\n",
    "\n",
    "\n",
    "\n",
    "        pred = pd.DataFrame(model.predict([test_data[0].numpy()[0][:,0,:,:]]))\n",
    "\n",
    "        y_dict_saluki[repeat] = pd.concat([y_dict_saluki[repeat],y])\n",
    "        pred_dict_saluki[repeat] = pd.concat([pred_dict_saluki[repeat],pred])\n",
    "\n"
   ]
  },
  {
   "cell_type": "code",
   "execution_count": 12,
   "id": "d860ef3a-375d-4ad9-8b9e-af1a3bdc7d60",
   "metadata": {},
   "outputs": [],
   "source": [
    "# bar plots of pearson R values\n",
    "\n",
    "bar_df_saluki = pd.DataFrame.from_dict(\n",
    "    dict(zip(\n",
    "    [stats.pearsonr(y_dict_saluki[i][0], pred_dict_saluki[i][0])[0] for i in pred_dict_saluki.keys() if i.startswith('repeat')],\n",
    "    [stats.pearsonr(y_dict_saluki[i][1], pred_dict_saluki[i][1])[0] for i in pred_dict_saluki.keys() if i.startswith('repeat')]\n",
    ")), orient='index').reset_index ()\n",
    "\n",
    "bar_df_saluki.columns = ['n','g']"
   ]
  },
  {
   "cell_type": "code",
   "execution_count": null,
   "id": "c09d68b4-ba04-4b09-bb3c-f8d492a88684",
   "metadata": {},
   "outputs": [],
   "source": []
  },
  {
   "cell_type": "code",
   "execution_count": 13,
   "id": "4ed6016a-51b5-47e4-b912-68e60e2b748e",
   "metadata": {},
   "outputs": [
    {
     "name": "stderr",
     "output_type": "stream",
     "text": [
      "/scratch/derek/ipykernel_772680/1483538250.py:15: UserWarning: set_ticklabels() should only be used with a fixed number of ticks, i.e. after set_ticks() or using a FixedLocator.\n",
      "  ax.set(yticklabels=['neuron','glia'])\n"
     ]
    },
    {
     "data": {
      "text/plain": [
       "[[Text(0, 0, 'neuron'), Text(0, 1, 'glia')]]"
      ]
     },
     "execution_count": 13,
     "metadata": {},
     "output_type": "execute_result"
    },
    {
     "data": {
      "image/png": "[encoded data removed]",
      "text/plain": [
       "<Figure size 500x100 with 1 Axes>"
      ]
     },
     "metadata": {},
     "output_type": "display_data"
    }
   ],
   "source": [
    "fig, ax = plt.subplots(1,1,figsize=(5,1))\n",
    "\n",
    "sns.boxplot(bar_df_saluki,orient='h', \n",
    "            # palette=sns.palettes.SEABORN_PALETTES['deep'],\n",
    "           ax=ax)\n",
    "\n",
    "ax.spines['right'].set_visible(False)\n",
    "ax.spines['top'].set_visible(False)\n",
    "# To turn off the bottom or left\n",
    "#ax.spines['bottom'].set_visible(False)\n",
    "#ax.spines['left'].set_visible(False)\n",
    "\n",
    "ax.set(xlabel='Pearson correlation on held-out folds', ylabel='')\n",
    "\n",
    "ax.set(yticklabels=['neuron','glia'])"
   ]
  },
  {
   "cell_type": "code",
   "execution_count": 20,
   "id": "252ec8d4-b81c-46b5-87e3-da229daa05ff",
   "metadata": {},
   "outputs": [
    {
     "data": {
      "text/plain": [
       "0    0.428033\n",
       "1    0.474953\n",
       "2    0.487233\n",
       "3    0.380049\n",
       "4    0.370257\n",
       "5    0.452361\n",
       "6    0.348723\n",
       "7    0.456287\n",
       "8    0.390073\n",
       "9    0.404205\n",
       "dtype: float64"
      ]
     },
     "execution_count": 20,
     "metadata": {},
     "output_type": "execute_result"
    }
   ],
   "source": [
    "bar_df_saluki.mean(axis=1)"
   ]
  },
  {
   "cell_type": "code",
   "execution_count": 39,
   "id": "f6a916a4-0517-4fae-be03-00cb68ea713c",
   "metadata": {},
   "outputs": [
    {
     "data": {
      "text/plain": [
       "0    0.601450\n",
       "1    0.585200\n",
       "2    0.612307\n",
       "3    0.583815\n",
       "4    0.596597\n",
       "5    0.580045\n",
       "6    0.572864\n",
       "7    0.610055\n",
       "8    0.582564\n",
       "9    0.598190\n",
       "dtype: float64"
      ]
     },
     "execution_count": 39,
     "metadata": {},
     "output_type": "execute_result"
    }
   ],
   "source": [
    "bar_df.mean(axis=1)"
   ]
  },
  {
   "cell_type": "code",
   "execution_count": 41,
   "id": "2e5003b5-cd14-4738-9080-23cfc7ab4c8c",
   "metadata": {},
   "outputs": [
    {
     "data": {
      "text/html": [
       "<div>\n",
       "<style scoped>\n",
       "    .dataframe tbody tr th:only-of-type {\n",
       "        vertical-align: middle;\n",
       "    }\n",
       "\n",
       "    .dataframe tbody tr th {\n",
       "        vertical-align: top;\n",
       "    }\n",
       "\n",
       "    .dataframe thead th {\n",
       "        text-align: right;\n",
       "    }\n",
       "</style>\n",
       "<table border=\"1\" class=\"dataframe\">\n",
       "  <thead>\n",
       "    <tr style=\"text-align: right;\">\n",
       "      <th></th>\n",
       "      <th>0</th>\n",
       "      <th>1</th>\n",
       "    </tr>\n",
       "  </thead>\n",
       "  <tbody>\n",
       "    <tr>\n",
       "      <th>0</th>\n",
       "      <td>0.428033</td>\n",
       "      <td>0.601450</td>\n",
       "    </tr>\n",
       "    <tr>\n",
       "      <th>1</th>\n",
       "      <td>0.474953</td>\n",
       "      <td>0.585200</td>\n",
       "    </tr>\n",
       "    <tr>\n",
       "      <th>2</th>\n",
       "      <td>0.487233</td>\n",
       "      <td>0.612307</td>\n",
       "    </tr>\n",
       "    <tr>\n",
       "      <th>3</th>\n",
       "      <td>0.380049</td>\n",
       "      <td>0.583815</td>\n",
       "    </tr>\n",
       "    <tr>\n",
       "      <th>4</th>\n",
       "      <td>0.370257</td>\n",
       "      <td>0.596597</td>\n",
       "    </tr>\n",
       "    <tr>\n",
       "      <th>5</th>\n",
       "      <td>0.452361</td>\n",
       "      <td>0.580045</td>\n",
       "    </tr>\n",
       "    <tr>\n",
       "      <th>6</th>\n",
       "      <td>0.348723</td>\n",
       "      <td>0.572864</td>\n",
       "    </tr>\n",
       "    <tr>\n",
       "      <th>7</th>\n",
       "      <td>0.456287</td>\n",
       "      <td>0.610055</td>\n",
       "    </tr>\n",
       "    <tr>\n",
       "      <th>8</th>\n",
       "      <td>0.390073</td>\n",
       "      <td>0.582564</td>\n",
       "    </tr>\n",
       "    <tr>\n",
       "      <th>9</th>\n",
       "      <td>0.404205</td>\n",
       "      <td>0.598190</td>\n",
       "    </tr>\n",
       "  </tbody>\n",
       "</table>\n",
       "</div>"
      ],
      "text/plain": [
       "          0         1\n",
       "0  0.428033  0.601450\n",
       "1  0.474953  0.585200\n",
       "2  0.487233  0.612307\n",
       "3  0.380049  0.583815\n",
       "4  0.370257  0.596597\n",
       "5  0.452361  0.580045\n",
       "6  0.348723  0.572864\n",
       "7  0.456287  0.610055\n",
       "8  0.390073  0.582564\n",
       "9  0.404205  0.598190"
      ]
     },
     "execution_count": 41,
     "metadata": {},
     "output_type": "execute_result"
    }
   ],
   "source": [
    "pd.concat([bar_df_saluki.mean(axis=1), bar_df.mean(axis=1)],axis=1)"
   ]
  },
  {
   "cell_type": "code",
   "execution_count": 96,
   "id": "13c463ba-9819-4e8b-b3b3-9ca80d259355",
   "metadata": {},
   "outputs": [
    {
     "name": "stderr",
     "output_type": "stream",
     "text": [
      "/scratch/derek/ipykernel_772680/961654622.py:17: UserWarning: set_ticklabels() should only be used with a fixed number of ticks, i.e. after set_ticks() or using a FixedLocator.\n",
      "  ax.set(xticklabels=['Saluki','Tranfer \\n ExplaiNN'])\n"
     ]
    },
    {
     "data": {
      "image/png": "[encoded data removed]",
      "text/plain": [
       "<Figure size 100x400 with 1 Axes>"
      ]
     },
     "metadata": {},
     "output_type": "display_data"
    }
   ],
   "source": [
    "fig, ax = plt.subplots(1,1,figsize=(1,4))\n",
    "\n",
    "sns.boxplot(pd.concat([bar_df_saluki.mean(axis=1), bar_df.mean(axis=1)],axis=1) ,orient='v', \n",
    "             palette='Greys',\n",
    "           ax=ax)\n",
    "\n",
    "ax.spines['right'].set_visible(False)\n",
    "ax.spines['top'].set_visible(False)\n",
    "# To turn off the bottom or left\n",
    "#ax.spines['bottom'].set_visible(False)\n",
    "#ax.spines['left'].set_visible(False)\n",
    "\n",
    "ax.set(ylabel='Pearson correlation on held-out folds', xlabel='')\n",
    "\n",
    "# ax.set_ylim(bottom=0)\n",
    "\n",
    "ax.set(xticklabels=['Saluki','Tranfer \\n ExplaiNN'])\n",
    "\n",
    "fig.savefig('predcorr_model_barplot.pdf')"
   ]
  },
  {
   "cell_type": "code",
   "execution_count": 97,
   "id": "6a8a9999-c08d-4cc2-aeea-0755d6f5d434",
   "metadata": {},
   "outputs": [
    {
     "data": {
      "text/plain": [
       "'/nowakowskilab/data1/derek/data_scSLR/prenatal_brain/deep_splicing/ExplaiNN'"
      ]
     },
     "execution_count": 97,
     "metadata": {},
     "output_type": "execute_result"
    }
   ],
   "source": [
    "pwd"
   ]
  },
  {
   "cell_type": "code",
   "execution_count": null,
   "id": "bd06ace4-0df0-40d8-821f-12b017a1a802",
   "metadata": {},
   "outputs": [],
   "source": []
  },
  {
   "cell_type": "code",
   "execution_count": null,
   "id": "d1dad12f-3561-4464-8643-65471026003d",
   "metadata": {},
   "outputs": [],
   "source": []
  },
  {
   "cell_type": "code",
   "execution_count": null,
   "id": "b9aca863-0ccd-42d3-87c0-8e9dd2b036d3",
   "metadata": {},
   "outputs": [],
   "source": []
  },
  {
   "cell_type": "code",
   "execution_count": 15,
   "id": "4c2cb497-5009-4f7e-8aca-2d3cc95490c9",
   "metadata": {},
   "outputs": [
    {
     "ename": "SyntaxError",
     "evalue": "'break' outside loop (668683560.py, line 1)",
     "output_type": "error",
     "traceback": [
      "\u001b[0;36m  Cell \u001b[0;32mIn[15], line 1\u001b[0;36m\u001b[0m\n\u001b[0;31m    break\u001b[0m\n\u001b[0m    ^\u001b[0m\n\u001b[0;31mSyntaxError\u001b[0m\u001b[0;31m:\u001b[0m 'break' outside loop\n"
     ]
    }
   ],
   "source": [
    "break"
   ]
  },
  {
   "cell_type": "code",
   "execution_count": 90,
   "id": "27cdc78c-8f55-4f75-8756-2fc44656b00e",
   "metadata": {
    "tags": []
   },
   "outputs": [],
   "source": [
    "model_path = '/nowakowskilab/data1/derek/data_scSLR/prenatal_brain/deep_splicing/DeepRiPe/'"
   ]
  },
  {
   "cell_type": "code",
   "execution_count": 91,
   "id": "5f728423-ebb6-4700-8ef1-e7b0d057c1b3",
   "metadata": {},
   "outputs": [],
   "source": [
    "sys.path.append(model_path+'Scripts/')\n",
    "\n",
    "from util_funcs import precision, recall\n",
    "\n",
    "custom_objects={'precision':precision,\n",
    "                'recall':recall,\n",
    "                  }"
   ]
  },
  {
   "cell_type": "code",
   "execution_count": 92,
   "id": "e59869cc-3c30-49ff-aa64-07380040084d",
   "metadata": {},
   "outputs": [],
   "source": [
    "seq_len = 800\n",
    "region_len = 1000\n",
    "input_sequence_split = 4\n",
    "n_tasks = 2"
   ]
  },
  {
   "cell_type": "code",
   "execution_count": 93,
   "id": "da9001ae-3f3f-40fb-a785-2bb62c688e63",
   "metadata": {},
   "outputs": [],
   "source": [
    "# os.listdir(model_path + 'Results/Encode_models/K562/')"
   ]
  },
  {
   "cell_type": "code",
   "execution_count": null,
   "id": "b82efd02-cd14-4ceb-895c-0372afa9165a",
   "metadata": {},
   "outputs": [],
   "source": []
  },
  {
   "cell_type": "code",
   "execution_count": null,
   "id": "53a65d7f-8959-48a0-a7a0-3f3ca7902770",
   "metadata": {},
   "outputs": [],
   "source": []
  },
  {
   "cell_type": "code",
   "execution_count": 94,
   "id": "ddd5b59f-4c09-4f0b-89aa-e4ca51e6173e",
   "metadata": {},
   "outputs": [],
   "source": [
    "input_seq = tf.keras.Input(shape=(seq_len, 4), name='input_seq')\n",
    "                           \n",
    "input_region = tf.keras.Input(shape=(region_len, 4), name='input_region')\n",
    "\n",
    "input_seq_1, input_seq_2, input_seq_3, input_seq_4 = tf.split(input_seq, input_sequence_split, axis=1)\n",
    "                              \n",
    "input_region_1, input_region_2, input_region_3, input_region_4 = tf.split(input_region, input_sequence_split, axis=1)\n",
    "\n",
    "inputs_seq = {}\n",
    "inputs_region = {}\n",
    "\n",
    "\n",
    "inputs_seq[0] = tf.keras.layers.Masking(mask_value=0)(input_seq_1)\n",
    "inputs_seq[1] = tf.keras.layers.Masking(mask_value=0)(input_seq_2)\n",
    "inputs_seq[2] = tf.keras.layers.Masking(mask_value=0)(input_seq_3)\n",
    "inputs_seq[3] = tf.keras.layers.Masking(mask_value=0)(input_seq_4)\n",
    "                              \n",
    "inputs_region[0] = tf.keras.layers.Masking(mask_value=0)(input_region_1)\n",
    "inputs_region[1] = tf.keras.layers.Masking(mask_value=0)(input_region_2)\n",
    "inputs_region[2] = tf.keras.layers.Masking(mask_value=0)(input_region_3)\n",
    "inputs_region[3] = tf.keras.layers.Masking(mask_value=0)(input_region_4)"
   ]
  },
  {
   "cell_type": "code",
   "execution_count": null,
   "id": "51afffb7-8cdd-476a-954d-7bd6df106503",
   "metadata": {},
   "outputs": [],
   "source": []
  },
  {
   "cell_type": "code",
   "execution_count": 95,
   "id": "de7f5367-e1f3-40a6-ab6f-7da72e4cdc13",
   "metadata": {},
   "outputs": [],
   "source": [
    "orig_models = {}\n",
    "input_layers = {}\n",
    "output_layers = {}\n",
    "base_models = {}\n",
    "currents = {}\n",
    "# \n",
    "\n",
    "# for i, model in enumerate(glob.glob(model_path + 'Results/PARCLIP_models/*.h5')):\n",
    "    \n",
    "for i, model in enumerate(([i for i in glob.glob(model_path + 'Results/Encode_models/K562/*.h5') if 'seq' in i] + \n",
    "                            [i for i in glob.glob(model_path + 'Results/Encode_models/HepG2/*.h5') if 'seq' in i]\n",
    "                            )\n",
    "):\n",
    "    \n",
    "    orig_models[i] = tf.keras.models.load_model(model, custom_objects = custom_objects, compile=False)\n",
    "    \n",
    "    for j in range(input_sequence_split):\n",
    "        \n",
    "        input_layers[i,j] = orig_models[i].inputs[0]\n",
    "        # input_layers[i,j] = orig_models[i].inputs\n",
    "        \n",
    "        output_layers[i,j] = orig_models[i].get_layer('output').output\n",
    "        \n",
    "        base_models[i,j] = tf.keras.Model(inputs=input_layers[i,j], outputs=output_layers[i,j])\n",
    "        \n",
    "        base_models[i,j].trainable = False\n",
    "        \n",
    "        currents[i,j] = base_models[i,j](inputs_seq[j], training=False)\n",
    "        \n",
    "        # currents[i,j] = base_models[i,j]([inputs_seq[j], inputs_region[j]], training=False)\n",
    "        \n",
    "        \n"
   ]
  },
  {
   "cell_type": "code",
   "execution_count": 96,
   "id": "36171d8e-a370-47ab-bd61-b80a822b741a",
   "metadata": {},
   "outputs": [],
   "source": [
    "current = tf.concat(currents.values(), axis=1)\n",
    "\n",
    "output = tf.keras.layers.Dense(n_tasks, #kernel_initializer='HeUniform'\n",
    "                              )(current)\n",
    "\n",
    "# model = tf.keras.Model((input_seq, input_region), output, name='deepripe_explainn')\n",
    "\n",
    "model = tf.keras.Model(input_seq, output, name='deepripe_explainn')"
   ]
  },
  {
   "cell_type": "markdown",
   "id": "1a44e7fe-e576-418d-9df7-73e6c2ff09be",
   "metadata": {},
   "source": [
    "## get data"
   ]
  },
  {
   "cell_type": "code",
   "execution_count": 97,
   "id": "04fec8fa-98bb-4a01-83d3-c720ecec178b",
   "metadata": {},
   "outputs": [],
   "source": [
    "#import modified basenji modules \n",
    "sys.path.append(\"/nowakowskilab/data1/derek/data_scSLR/prenatal_brain/deep_splicing/basenji_/\")\n",
    "\n",
    "from basenji_.basenji import dataset\n",
    "\n",
    "from basenji_.basenji.metrics import PearsonR"
   ]
  },
  {
   "cell_type": "code",
   "execution_count": null,
   "id": "872572fd-5465-4cab-95fb-663f57f48c37",
   "metadata": {},
   "outputs": [],
   "source": []
  },
  {
   "cell_type": "code",
   "execution_count": 98,
   "id": "96f857ba-4e95-4baf-8fb6-229b5510607a",
   "metadata": {},
   "outputs": [],
   "source": [
    "# out_dir = '/c4/home/derek/data1/derek/data_scSLR/prenatal_brain/deep_splicing/ExplaiNN/data_out/EN_RG_multitask_PSI_sig_0.1_train_valid_deepripe_region/'\n",
    "out_dir = '/nowakowskilab/data1/derek/data_scSLR/prenatal_brain/deep_splicing/ExplaiNN/data_out/EN_RG_multitask_DeltaPSI_sig_0.1_train_valid_deepripe_region/'\n",
    "\n",
    "data_dir = [glob.glob(out_dir+'/fold*/')[3]] \n",
    "params_file = data_dir[0]+'params.json'"
   ]
  },
  {
   "cell_type": "code",
   "execution_count": null,
   "id": "6d1cf890-9a59-432b-ba19-46a5f4f89ef6",
   "metadata": {},
   "outputs": [],
   "source": []
  },
  {
   "cell_type": "code",
   "execution_count": 99,
   "id": "ccdab49b-1359-4726-ac02-fcf77c3d4a5c",
   "metadata": {},
   "outputs": [
    {
     "data": {
      "text/plain": [
       "['tfrecords', 'genes.csv', 'statistics.json', 'params.json']"
      ]
     },
     "execution_count": 99,
     "metadata": {},
     "output_type": "execute_result"
    }
   ],
   "source": [
    "os.listdir(data_dir[0])"
   ]
  },
  {
   "cell_type": "code",
   "execution_count": 100,
   "id": "d7c7621e-7d5e-4455-b6b1-4ee3fc06806b",
   "metadata": {},
   "outputs": [],
   "source": [
    "with open(params_file) as params_open:\n",
    "          params = json.load(params_open)\n",
    "params_model = params['model']\n",
    "params_train = params['train']\n",
    "os.makedirs(out_dir, exist_ok=True)\n",
    "if params_file != '%s/params.json' % out_dir:\n",
    "    shutil.copy(params_file, '%s/params.json' % out_dir)"
   ]
  },
  {
   "cell_type": "code",
   "execution_count": 101,
   "id": "41dce804-9f45-4fc4-84e3-cc9635ca422e",
   "metadata": {},
   "outputs": [],
   "source": [
    "# data_dir = '/c4/home/derek/data1/derek/data_scSLR/prenatal_brain/deep_splicing/ExplaiNN/data_out/EN_RG_multitask_DeltaPSI_sig_0.1_train_valid_test_deepripe/fold35/'"
   ]
  },
  {
   "cell_type": "code",
   "execution_count": null,
   "id": "169b4f60-e69e-4162-bac9-4a27649e73fe",
   "metadata": {},
   "outputs": [],
   "source": []
  },
  {
   "cell_type": "code",
   "execution_count": 102,
   "id": "770a73aa-d2c1-4687-81c8-7efceffab260",
   "metadata": {},
   "outputs": [],
   "source": [
    "#read datasets\n",
    "train_data = []\n",
    "eval_data = []\n",
    "test_data = []\n",
    "\n",
    "\n",
    "seq_track=True\n",
    "\n",
    "\n",
    "for data_dir in data_dir:\n",
    "    # load train data\n",
    "    train_data.append(dataset.ExonDataset(data_dir,\n",
    "        split_label='train',\n",
    "        batch_size=params_train['batch_size'],\n",
    "        shuffle_buffer=params_train.get('shuffle_buffer', params_model['seq_length']),\n",
    "        mode='train',\n",
    "        splice_track=False,\n",
    "           # annotation_tracks=True\n",
    "                                         ))\n",
    "\n",
    "    # load eval data\n",
    "    eval_data.append(dataset.ExonDataset(data_dir,\n",
    "      split_label='valid',\n",
    "      batch_size=params_train['batch_size'],\n",
    "      mode='eval',\n",
    "      splice_track=False,\n",
    "          # annotation_tracks=True\n",
    "                                        ))\n",
    "    \n",
    "    # # load test data\n",
    "    # test_data.append(dataset.ExonDataset(data_dir, \n",
    "    #     split_label='test',\n",
    "    #   batch_size=params_train['batch_size'],\n",
    "    #   mode='eval',\n",
    "    #   splice_track=False\n",
    "    #                                      ))\n",
    "            \n",
    "        \n",
    "if seq_track == 0:\n",
    "    params_model['seq_depth'] -= 4\n",
    "# if splice_track == 0:"
   ]
  },
  {
   "cell_type": "code",
   "execution_count": null,
   "id": "5d0d1fa3-84dc-437f-b34c-ab4a3cd1240d",
   "metadata": {},
   "outputs": [],
   "source": []
  },
  {
   "cell_type": "code",
   "execution_count": null,
   "id": "15f64b2a-9ccc-4461-8655-2fdd36ea172f",
   "metadata": {},
   "outputs": [],
   "source": []
  },
  {
   "cell_type": "code",
   "execution_count": null,
   "id": "fac14a43-2f3c-469b-85ab-599d244994de",
   "metadata": {},
   "outputs": [],
   "source": []
  },
  {
   "cell_type": "code",
   "execution_count": null,
   "id": "61f28499-4500-46b4-8cf0-558daae978c9",
   "metadata": {},
   "outputs": [],
   "source": []
  },
  {
   "cell_type": "code",
   "execution_count": 103,
   "id": "924141d6-852a-4356-835d-5129acc4abab",
   "metadata": {},
   "outputs": [],
   "source": [
    "num_targets = model.output_shape[-1]\n",
    "\n",
    "model_metrics = [PearsonR(num_targets)\n",
    "                ]\n",
    "\n",
    "optimizer = tf.keras.optimizers.Adam(learning_rate=0.001,\n",
    "                                    beta_1=0.9, beta_2=0.999)\n"
   ]
  },
  {
   "cell_type": "code",
   "execution_count": 104,
   "id": "0aa97e07-06a6-40e7-9ea0-33e3002d7f7a",
   "metadata": {},
   "outputs": [],
   "source": [
    "# define callbacks\n",
    "save_best=tf.keras.callbacks.ModelCheckpoint('%s/model_best.h5'%out_dir,\n",
    "                                            save_best_only=True, \n",
    "                                             monitor='val_pearsonr',\n",
    "                                             mode='max', \n",
    "                                             verbose=1)\n",
    "\n",
    "\n",
    "lradjust = tf.keras.callbacks.ReduceLROnPlateau(monitor='val_loss', factor=0.5, patience=12, cooldown=1)\n",
    "\n",
    "early_stop=tf.keras.callbacks.EarlyStopping(monitor='val_pearsonr', min_delta=1e-4, patience=15, mode='max',restore_best_weights=True, verbose=1\n",
    "                                             )"
   ]
  },
  {
   "cell_type": "code",
   "execution_count": 105,
   "id": "52c0b9ea-f687-42e4-bca1-3d7d1f9557fe",
   "metadata": {},
   "outputs": [],
   "source": [
    "model.compile(optimizer=optimizer, \n",
    "                  loss='mse',\n",
    "                  metrics=model_metrics\n",
    "                 )"
   ]
  },
  {
   "cell_type": "code",
   "execution_count": null,
   "id": "bd1ec261-a82d-48e9-b9d5-84c45424393e",
   "metadata": {},
   "outputs": [],
   "source": []
  },
  {
   "cell_type": "code",
   "execution_count": 106,
   "id": "9c1ad2ea-e480-46d3-84ac-733ba66f6a51",
   "metadata": {
    "tags": []
   },
   "outputs": [
    {
     "name": "stdout",
     "output_type": "stream",
     "text": [
      "Epoch 1/1000\n",
      "23/23 [==============================] - 5s 68ms/step - loss: 0.1252 - pearsonr: 0.0926 - val_loss: 0.0942 - val_pearsonr: 0.2286 - lr: 0.0010\n",
      "Epoch 2/1000\n",
      "23/23 [==============================] - 0s 14ms/step - loss: 0.1065 - pearsonr: 0.2515 - val_loss: 0.0856 - val_pearsonr: 0.3341 - lr: 0.0010\n",
      "Epoch 3/1000\n",
      "23/23 [==============================] - 0s 14ms/step - loss: 0.0978 - pearsonr: 0.3359 - val_loss: 0.0815 - val_pearsonr: 0.3876 - lr: 0.0010\n",
      "Epoch 4/1000\n",
      "23/23 [==============================] - 0s 14ms/step - loss: 0.0949 - pearsonr: 0.3611 - val_loss: 0.0778 - val_pearsonr: 0.4117 - lr: 0.0010\n",
      "Epoch 5/1000\n",
      "23/23 [==============================] - 0s 14ms/step - loss: 0.0909 - pearsonr: 0.4000 - val_loss: 0.0790 - val_pearsonr: 0.4213 - lr: 0.0010\n",
      "Epoch 6/1000\n",
      "23/23 [==============================] - 0s 14ms/step - loss: 0.0914 - pearsonr: 0.3994 - val_loss: 0.0767 - val_pearsonr: 0.4467 - lr: 0.0010\n",
      "Epoch 7/1000\n",
      "23/23 [==============================] - 0s 14ms/step - loss: 0.0859 - pearsonr: 0.4435 - val_loss: 0.0751 - val_pearsonr: 0.4623 - lr: 0.0010\n",
      "Epoch 8/1000\n",
      "23/23 [==============================] - 0s 14ms/step - loss: 0.0820 - pearsonr: 0.4773 - val_loss: 0.0739 - val_pearsonr: 0.4639 - lr: 0.0010\n",
      "Epoch 9/1000\n",
      "23/23 [==============================] - 0s 13ms/step - loss: 0.0805 - pearsonr: 0.4921 - val_loss: 0.0743 - val_pearsonr: 0.4581 - lr: 0.0010\n",
      "Epoch 10/1000\n",
      "23/23 [==============================] - 0s 14ms/step - loss: 0.0806 - pearsonr: 0.4913 - val_loss: 0.0725 - val_pearsonr: 0.4765 - lr: 0.0010\n",
      "Epoch 11/1000\n",
      "23/23 [==============================] - 0s 14ms/step - loss: 0.0769 - pearsonr: 0.5232 - val_loss: 0.0748 - val_pearsonr: 0.4825 - lr: 0.0010\n",
      "Epoch 12/1000\n",
      "23/23 [==============================] - 0s 13ms/step - loss: 0.0766 - pearsonr: 0.5275 - val_loss: 0.0718 - val_pearsonr: 0.4790 - lr: 0.0010\n",
      "Epoch 13/1000\n",
      "23/23 [==============================] - 0s 14ms/step - loss: 0.0746 - pearsonr: 0.5439 - val_loss: 0.0710 - val_pearsonr: 0.4837 - lr: 0.0010\n",
      "Epoch 14/1000\n",
      "23/23 [==============================] - 0s 14ms/step - loss: 0.0743 - pearsonr: 0.5471 - val_loss: 0.0716 - val_pearsonr: 0.4866 - lr: 0.0010\n",
      "Epoch 15/1000\n",
      "23/23 [==============================] - 0s 14ms/step - loss: 0.0727 - pearsonr: 0.5606 - val_loss: 0.0716 - val_pearsonr: 0.4842 - lr: 0.0010\n",
      "Epoch 16/1000\n",
      "23/23 [==============================] - 0s 14ms/step - loss: 0.0710 - pearsonr: 0.5750 - val_loss: 0.0712 - val_pearsonr: 0.4925 - lr: 0.0010\n",
      "Epoch 17/1000\n",
      "23/23 [==============================] - 0s 14ms/step - loss: 0.0700 - pearsonr: 0.5833 - val_loss: 0.0703 - val_pearsonr: 0.4948 - lr: 0.0010\n",
      "Epoch 18/1000\n",
      "23/23 [==============================] - 0s 13ms/step - loss: 0.0684 - pearsonr: 0.5973 - val_loss: 0.0705 - val_pearsonr: 0.4916 - lr: 0.0010\n",
      "Epoch 19/1000\n",
      "23/23 [==============================] - 0s 13ms/step - loss: 0.0681 - pearsonr: 0.5984 - val_loss: 0.0706 - val_pearsonr: 0.4939 - lr: 0.0010\n",
      "Epoch 20/1000\n",
      "23/23 [==============================] - 0s 13ms/step - loss: 0.0679 - pearsonr: 0.6018 - val_loss: 0.0707 - val_pearsonr: 0.4871 - lr: 0.0010\n",
      "Epoch 21/1000\n",
      "23/23 [==============================] - 0s 13ms/step - loss: 0.0663 - pearsonr: 0.6137 - val_loss: 0.0706 - val_pearsonr: 0.4916 - lr: 0.0010\n",
      "Epoch 22/1000\n",
      "23/23 [==============================] - 0s 13ms/step - loss: 0.0670 - pearsonr: 0.6070 - val_loss: 0.0711 - val_pearsonr: 0.4849 - lr: 0.0010\n",
      "Epoch 23/1000\n",
      "23/23 [==============================] - 0s 14ms/step - loss: 0.0661 - pearsonr: 0.6154 - val_loss: 0.0727 - val_pearsonr: 0.4988 - lr: 0.0010\n",
      "Epoch 24/1000\n",
      "23/23 [==============================] - 0s 13ms/step - loss: 0.0640 - pearsonr: 0.6325 - val_loss: 0.0712 - val_pearsonr: 0.4876 - lr: 0.0010\n",
      "Epoch 25/1000\n",
      "23/23 [==============================] - 0s 13ms/step - loss: 0.0634 - pearsonr: 0.6376 - val_loss: 0.0716 - val_pearsonr: 0.4953 - lr: 0.0010\n",
      "Epoch 26/1000\n",
      "23/23 [==============================] - 0s 13ms/step - loss: 0.0634 - pearsonr: 0.6353 - val_loss: 0.0709 - val_pearsonr: 0.4889 - lr: 0.0010\n",
      "Epoch 27/1000\n",
      "23/23 [==============================] - 0s 14ms/step - loss: 0.0634 - pearsonr: 0.6362 - val_loss: 0.0773 - val_pearsonr: 0.4989 - lr: 0.0010\n",
      "Epoch 28/1000\n",
      "23/23 [==============================] - 0s 13ms/step - loss: 0.0623 - pearsonr: 0.6455 - val_loss: 0.0726 - val_pearsonr: 0.4957 - lr: 0.0010\n",
      "Epoch 29/1000\n",
      "23/23 [==============================] - 0s 13ms/step - loss: 0.0619 - pearsonr: 0.6476 - val_loss: 0.0715 - val_pearsonr: 0.4834 - lr: 0.0010\n",
      "Epoch 30/1000\n",
      "23/23 [==============================] - 0s 13ms/step - loss: 0.0613 - pearsonr: 0.6519 - val_loss: 0.0724 - val_pearsonr: 0.4794 - lr: 5.0000e-04\n",
      "Epoch 31/1000\n",
      "23/23 [==============================] - 0s 13ms/step - loss: 0.0613 - pearsonr: 0.6530 - val_loss: 0.0712 - val_pearsonr: 0.4867 - lr: 5.0000e-04\n",
      "Epoch 32/1000\n",
      "23/23 [==============================] - 0s 13ms/step - loss: 0.0596 - pearsonr: 0.6660 - val_loss: 0.0726 - val_pearsonr: 0.4799 - lr: 5.0000e-04\n",
      "Epoch 33/1000\n",
      "23/23 [==============================] - 0s 13ms/step - loss: 0.0611 - pearsonr: 0.6538 - val_loss: 0.0714 - val_pearsonr: 0.4840 - lr: 5.0000e-04\n",
      "Epoch 34/1000\n",
      "23/23 [==============================] - 0s 13ms/step - loss: 0.0589 - pearsonr: 0.6706 - val_loss: 0.0744 - val_pearsonr: 0.4920 - lr: 5.0000e-04\n",
      "Epoch 35/1000\n",
      "23/23 [==============================] - 0s 13ms/step - loss: 0.0600 - pearsonr: 0.6620 - val_loss: 0.0734 - val_pearsonr: 0.4946 - lr: 5.0000e-04\n",
      "Epoch 36/1000\n",
      "23/23 [==============================] - 0s 14ms/step - loss: 0.0593 - pearsonr: 0.6671 - val_loss: 0.0715 - val_pearsonr: 0.4852 - lr: 5.0000e-04\n",
      "Epoch 37/1000\n",
      "23/23 [==============================] - 0s 13ms/step - loss: 0.0600 - pearsonr: 0.6627 - val_loss: 0.0720 - val_pearsonr: 0.4885 - lr: 5.0000e-04\n",
      "Epoch 38/1000\n",
      "23/23 [==============================] - 0s 13ms/step - loss: 0.0594 - pearsonr: 0.6658 - val_loss: 0.0716 - val_pearsonr: 0.4849 - lr: 5.0000e-04\n",
      "Epoch 39/1000\n",
      "23/23 [==============================] - 0s 13ms/step - loss: 0.0596 - pearsonr: 0.6642 - val_loss: 0.0716 - val_pearsonr: 0.4855 - lr: 5.0000e-04\n",
      "Epoch 40/1000\n",
      "23/23 [==============================] - 0s 13ms/step - loss: 0.0581 - pearsonr: 0.6777 - val_loss: 0.0717 - val_pearsonr: 0.4892 - lr: 5.0000e-04\n",
      "Epoch 41/1000\n",
      "23/23 [==============================] - 0s 14ms/step - loss: 0.0583 - pearsonr: 0.6752 - val_loss: 0.0719 - val_pearsonr: 0.4850 - lr: 5.0000e-04\n",
      "Epoch 42/1000\n",
      "19/23 [=======================>......] - ETA: 0s - loss: 0.0552 - pearsonr: 0.6917Restoring model weights from the end of the best epoch: 27.\n",
      "23/23 [==============================] - 0s 14ms/step - loss: 0.0573 - pearsonr: 0.6825 - val_loss: 0.0718 - val_pearsonr: 0.4861 - lr: 2.5000e-04\n",
      "Epoch 42: early stopping\n",
      "CPU times: user 16.6 s, sys: 945 ms, total: 17.6 s\n",
      "Wall time: 18.5 s\n"
     ]
    }
   ],
   "source": [
    "%%time\n",
    "history = model.fit(x=train_data[0].numpy()[0][:,0,:,:],\n",
    "                    y=train_data[0].numpy()[1].squeeze(axis=1),\n",
    "                      epochs=1000,\n",
    "                    validation_data=(eval_data[0].numpy()[0][:,0,:,:],\n",
    "                            eval_data[0].numpy()[1].squeeze(axis=1)),\n",
    "          \n",
    "                        callbacks=[\n",
    "                         #  save_best, \n",
    "                           early_stop,\n",
    "                            lradjust, \n",
    "                                 ]\n",
    "             )"
   ]
  },
  {
   "cell_type": "code",
   "execution_count": 80,
   "id": "2cc4c493-03e2-4bed-b844-6590c7eaf93a",
   "metadata": {},
   "outputs": [],
   "source": [
    "# %%time\n",
    "# #training with full dataset\n",
    "\n",
    "# history = model.fit(x=np.concatenate([train_data[0].numpy()[0][:,0,:,:],eval_data[0].numpy()[0][:,0,:,:]]),\n",
    "#                     y=np.concatenate([train_data[0].numpy()[1].squeeze(axis=1),eval_data[0].numpy()[1].squeeze(axis=1)]),\n",
    "#                       epochs=300,\n",
    "#                     callbacks=[\n",
    "#                                  ]\n",
    "#              )"
   ]
  },
  {
   "cell_type": "code",
   "execution_count": 475,
   "id": "1be66ddd-3efc-4fc3-85c4-8cd97e717666",
   "metadata": {
    "tags": []
   },
   "outputs": [],
   "source": [
    "# %%time\n",
    "# history = model.fit(x=train_data[0].numpy()[0][:,0,:,:],\n",
    "#                     y=train_data[0].numpy()[1].squeeze(axis=1),\n",
    "#                       epochs=1000,\n",
    "#                     validation_data=(eval_data[0].numpy()[0][:,0,:,:],\n",
    "#                             eval_data[0].numpy()[1].squeeze(axis=1)),\n",
    "#                         callbacks=[\n",
    "#                           # save_best, \n",
    "#                            early_stop,\n",
    "#                            lradjust, \n",
    "#                                  ]\n",
    "#              )"
   ]
  },
  {
   "cell_type": "code",
   "execution_count": 476,
   "id": "61266ea5-541e-48dc-87d8-bbe7c382b0fc",
   "metadata": {},
   "outputs": [],
   "source": [
    "# pred_full = pd.DataFrame()\n",
    "# y_full = pd.DataFrame()"
   ]
  },
  {
   "cell_type": "code",
   "execution_count": 477,
   "id": "d715c406-7914-46a2-be30-61d75ea71f98",
   "metadata": {},
   "outputs": [
    {
     "name": "stderr",
     "output_type": "stream",
     "text": [
      "2024-09-23 14:35:57.683580: I tensorflow/core/common_runtime/executor.cc:1197] [/device:CPU:0] (DEBUG INFO) Executor start aborting (this does not indicate an error and you can ignore this message): INVALID_ARGUMENT: You must feed a value for placeholder tensor 'Placeholder/_0' with dtype string and shape [1]\n",
      "\t [[{{node Placeholder/_0}}]]\n",
      "2024-09-23 14:35:58.026833: I tensorflow/core/common_runtime/executor.cc:1197] [/device:CPU:0] (DEBUG INFO) Executor start aborting (this does not indicate an error and you can ignore this message): INVALID_ARGUMENT: You must feed a value for placeholder tensor 'Placeholder/_0' with dtype string and shape [1]\n",
      "\t [[{{node Placeholder/_0}}]]\n"
     ]
    },
    {
     "name": "stdout",
     "output_type": "stream",
     "text": [
      "2/2 [==============================] - 5s 51ms/step\n"
     ]
    },
    {
     "name": "stderr",
     "output_type": "stream",
     "text": [
      "/scratch/derek/ipykernel_4031604/3837711265.py:6: FutureWarning: The frame.append method is deprecated and will be removed from pandas in a future version. Use pandas.concat instead.\n",
      "  y_full = y_full.append(y)\n",
      "/scratch/derek/ipykernel_4031604/3837711265.py:7: FutureWarning: The frame.append method is deprecated and will be removed from pandas in a future version. Use pandas.concat instead.\n",
      "  pred_full = pred_full.append(pred)\n"
     ]
    }
   ],
   "source": [
    "y=pd.DataFrame(test_data[0].numpy()[1].squeeze(axis=1))\n",
    "\n",
    "\n",
    "pred = pd.DataFrame(model.predict([test_data[0].numpy()[0][:,0,:,:]]))\n",
    "\n",
    "y_full = y_full.append(y)\n",
    "pred_full = pred_full.append(pred)\n",
    "\n",
    "\n",
    "\n",
    "\n",
    "# print(np.corrcoef(y[:,0], pred[:,0]))\n",
    "# print(np.corrcoef(y[:,1], pred[:,1]))"
   ]
  },
  {
   "cell_type": "code",
   "execution_count": 478,
   "id": "cff1bb4d-9045-45a3-bc2c-21d1fba28c93",
   "metadata": {},
   "outputs": [
    {
     "ename": "SyntaxError",
     "evalue": "'break' outside loop (668683560.py, line 1)",
     "output_type": "error",
     "traceback": [
      "\u001b[0;36m  Cell \u001b[0;32mIn[478], line 1\u001b[0;36m\u001b[0m\n\u001b[0;31m    break\u001b[0m\n\u001b[0m    ^\u001b[0m\n\u001b[0;31mSyntaxError\u001b[0m\u001b[0;31m:\u001b[0m 'break' outside loop\n"
     ]
    }
   ],
   "source": [
    "break"
   ]
  },
  {
   "cell_type": "code",
   "execution_count": null,
   "id": "b2b052df-9632-48a6-8bca-8626463207a3",
   "metadata": {},
   "outputs": [],
   "source": []
  },
  {
   "cell_type": "code",
   "execution_count": null,
   "id": "6cad797c-9c58-4e1d-afbf-39f02a54224f",
   "metadata": {},
   "outputs": [],
   "source": []
  },
  {
   "cell_type": "code",
   "execution_count": null,
   "id": "44c13ab2-fad7-4418-bf10-d5a79e655514",
   "metadata": {},
   "outputs": [],
   "source": [
    "# model.save_weights('./deepripe_weights/deepripe_weights_K562.h5')"
   ]
  },
  {
   "cell_type": "markdown",
   "id": "9ce81a4d-2ec8-442b-806a-0729b02c28dd",
   "metadata": {},
   "source": [
    "### ensemble model"
   ]
  },
  {
   "cell_type": "code",
   "execution_count": null,
   "id": "678c2bbd-ab7c-4790-8089-4d11eee26508",
   "metadata": {},
   "outputs": [],
   "source": []
  },
  {
   "cell_type": "code",
   "execution_count": 638,
   "id": "ffcd1db4-eec4-44ab-a998-c8a2628e0970",
   "metadata": {
    "tags": []
   },
   "outputs": [
    {
     "name": "stdout",
     "output_type": "stream",
     "text": [
      "training model 0\n"
     ]
    },
    {
     "name": "stderr",
     "output_type": "stream",
     "text": [
      "2024-09-24 00:49:54.291223: I tensorflow/core/common_runtime/executor.cc:1197] [/device:CPU:0] (DEBUG INFO) Executor start aborting (this does not indicate an error and you can ignore this message): INVALID_ARGUMENT: You must feed a value for placeholder tensor 'Placeholder/_0' with dtype string and shape [3]\n",
      "\t [[{{node Placeholder/_0}}]]\n",
      "2024-09-24 00:49:54.436861: I tensorflow/core/common_runtime/executor.cc:1197] [/device:CPU:0] (DEBUG INFO) Executor start aborting (this does not indicate an error and you can ignore this message): INVALID_ARGUMENT: You must feed a value for placeholder tensor 'Placeholder/_0' with dtype string and shape [3]\n",
      "\t [[{{node Placeholder/_0}}]]\n",
      "2024-09-24 00:49:54.580997: I tensorflow/core/common_runtime/executor.cc:1197] [/device:CPU:0] (DEBUG INFO) Executor start aborting (this does not indicate an error and you can ignore this message): INVALID_ARGUMENT: You must feed a value for placeholder tensor 'Placeholder/_0' with dtype string and shape [1]\n",
      "\t [[{{node Placeholder/_0}}]]\n",
      "2024-09-24 00:49:54.669890: I tensorflow/core/common_runtime/executor.cc:1197] [/device:CPU:0] (DEBUG INFO) Executor start aborting (this does not indicate an error and you can ignore this message): INVALID_ARGUMENT: You must feed a value for placeholder tensor 'Placeholder/_0' with dtype string and shape [1]\n",
      "\t [[{{node Placeholder/_0}}]]\n"
     ]
    },
    {
     "name": "stdout",
     "output_type": "stream",
     "text": [
      "Restoring model weights from the end of the best epoch: 60.\n",
      "Epoch 75: early stopping\n",
      "0.40907198190689087\n",
      "training model 1\n"
     ]
    },
    {
     "name": "stderr",
     "output_type": "stream",
     "text": [
      "2024-09-24 00:50:15.820959: I tensorflow/core/common_runtime/executor.cc:1197] [/device:CPU:0] (DEBUG INFO) Executor start aborting (this does not indicate an error and you can ignore this message): INVALID_ARGUMENT: You must feed a value for placeholder tensor 'Placeholder/_0' with dtype string and shape [3]\n",
      "\t [[{{node Placeholder/_0}}]]\n",
      "2024-09-24 00:50:15.970975: I tensorflow/core/common_runtime/executor.cc:1197] [/device:CPU:0] (DEBUG INFO) Executor start aborting (this does not indicate an error and you can ignore this message): INVALID_ARGUMENT: You must feed a value for placeholder tensor 'Placeholder/_0' with dtype string and shape [3]\n",
      "\t [[{{node Placeholder/_0}}]]\n",
      "2024-09-24 00:50:16.122819: I tensorflow/core/common_runtime/executor.cc:1197] [/device:CPU:0] (DEBUG INFO) Executor start aborting (this does not indicate an error and you can ignore this message): INVALID_ARGUMENT: You must feed a value for placeholder tensor 'Placeholder/_0' with dtype string and shape [1]\n",
      "\t [[{{node Placeholder/_0}}]]\n",
      "2024-09-24 00:50:16.210067: I tensorflow/core/common_runtime/executor.cc:1197] [/device:CPU:0] (DEBUG INFO) Executor start aborting (this does not indicate an error and you can ignore this message): INVALID_ARGUMENT: You must feed a value for placeholder tensor 'Placeholder/_0' with dtype string and shape [1]\n",
      "\t [[{{node Placeholder/_0}}]]\n"
     ]
    },
    {
     "name": "stdout",
     "output_type": "stream",
     "text": [
      "Restoring model weights from the end of the best epoch: 25.\n",
      "Epoch 40: early stopping\n",
      "0.41758912801742554\n",
      "training model 2\n"
     ]
    },
    {
     "name": "stderr",
     "output_type": "stream",
     "text": [
      "2024-09-24 00:50:28.491991: I tensorflow/core/common_runtime/executor.cc:1197] [/device:CPU:0] (DEBUG INFO) Executor start aborting (this does not indicate an error and you can ignore this message): INVALID_ARGUMENT: You must feed a value for placeholder tensor 'Placeholder/_0' with dtype string and shape [3]\n",
      "\t [[{{node Placeholder/_0}}]]\n",
      "2024-09-24 00:50:28.634078: I tensorflow/core/common_runtime/executor.cc:1197] [/device:CPU:0] (DEBUG INFO) Executor start aborting (this does not indicate an error and you can ignore this message): INVALID_ARGUMENT: You must feed a value for placeholder tensor 'Placeholder/_0' with dtype string and shape [3]\n",
      "\t [[{{node Placeholder/_0}}]]\n",
      "2024-09-24 00:50:28.785828: I tensorflow/core/common_runtime/executor.cc:1197] [/device:CPU:0] (DEBUG INFO) Executor start aborting (this does not indicate an error and you can ignore this message): INVALID_ARGUMENT: You must feed a value for placeholder tensor 'Placeholder/_0' with dtype string and shape [1]\n",
      "\t [[{{node Placeholder/_0}}]]\n",
      "2024-09-24 00:50:28.874526: I tensorflow/core/common_runtime/executor.cc:1197] [/device:CPU:0] (DEBUG INFO) Executor start aborting (this does not indicate an error and you can ignore this message): INVALID_ARGUMENT: You must feed a value for placeholder tensor 'Placeholder/_0' with dtype string and shape [1]\n",
      "\t [[{{node Placeholder/_0}}]]\n"
     ]
    },
    {
     "name": "stdout",
     "output_type": "stream",
     "text": [
      "Restoring model weights from the end of the best epoch: 77.\n",
      "Epoch 92: early stopping\n",
      "0.3912607431411743\n",
      "training model 3\n"
     ]
    },
    {
     "name": "stderr",
     "output_type": "stream",
     "text": [
      "2024-09-24 00:50:52.849138: I tensorflow/core/common_runtime/executor.cc:1197] [/device:CPU:0] (DEBUG INFO) Executor start aborting (this does not indicate an error and you can ignore this message): INVALID_ARGUMENT: You must feed a value for placeholder tensor 'Placeholder/_0' with dtype string and shape [3]\n",
      "\t [[{{node Placeholder/_0}}]]\n",
      "2024-09-24 00:50:52.987727: I tensorflow/core/common_runtime/executor.cc:1197] [/device:CPU:0] (DEBUG INFO) Executor start aborting (this does not indicate an error and you can ignore this message): INVALID_ARGUMENT: You must feed a value for placeholder tensor 'Placeholder/_0' with dtype string and shape [3]\n",
      "\t [[{{node Placeholder/_0}}]]\n",
      "2024-09-24 00:50:53.129451: I tensorflow/core/common_runtime/executor.cc:1197] [/device:CPU:0] (DEBUG INFO) Executor start aborting (this does not indicate an error and you can ignore this message): INVALID_ARGUMENT: You must feed a value for placeholder tensor 'Placeholder/_0' with dtype string and shape [1]\n",
      "\t [[{{node Placeholder/_0}}]]\n",
      "2024-09-24 00:50:53.214641: I tensorflow/core/common_runtime/executor.cc:1197] [/device:CPU:0] (DEBUG INFO) Executor start aborting (this does not indicate an error and you can ignore this message): INVALID_ARGUMENT: You must feed a value for placeholder tensor 'Placeholder/_0' with dtype string and shape [1]\n",
      "\t [[{{node Placeholder/_0}}]]\n"
     ]
    },
    {
     "name": "stdout",
     "output_type": "stream",
     "text": [
      "Restoring model weights from the end of the best epoch: 29.\n",
      "Epoch 44: early stopping\n",
      "0.4120391607284546\n",
      "training model 4\n"
     ]
    },
    {
     "name": "stderr",
     "output_type": "stream",
     "text": [
      "2024-09-24 00:51:06.303141: I tensorflow/core/common_runtime/executor.cc:1197] [/device:CPU:0] (DEBUG INFO) Executor start aborting (this does not indicate an error and you can ignore this message): INVALID_ARGUMENT: You must feed a value for placeholder tensor 'Placeholder/_0' with dtype string and shape [3]\n",
      "\t [[{{node Placeholder/_0}}]]\n",
      "2024-09-24 00:51:06.441782: I tensorflow/core/common_runtime/executor.cc:1197] [/device:CPU:0] (DEBUG INFO) Executor start aborting (this does not indicate an error and you can ignore this message): INVALID_ARGUMENT: You must feed a value for placeholder tensor 'Placeholder/_0' with dtype string and shape [3]\n",
      "\t [[{{node Placeholder/_0}}]]\n",
      "2024-09-24 00:51:06.589071: I tensorflow/core/common_runtime/executor.cc:1197] [/device:CPU:0] (DEBUG INFO) Executor start aborting (this does not indicate an error and you can ignore this message): INVALID_ARGUMENT: You must feed a value for placeholder tensor 'Placeholder/_0' with dtype string and shape [1]\n",
      "\t [[{{node Placeholder/_0}}]]\n",
      "2024-09-24 00:51:06.679402: I tensorflow/core/common_runtime/executor.cc:1197] [/device:CPU:0] (DEBUG INFO) Executor start aborting (this does not indicate an error and you can ignore this message): INVALID_ARGUMENT: You must feed a value for placeholder tensor 'Placeholder/_0' with dtype string and shape [1]\n",
      "\t [[{{node Placeholder/_0}}]]\n"
     ]
    },
    {
     "name": "stdout",
     "output_type": "stream",
     "text": [
      "Restoring model weights from the end of the best epoch: 37.\n",
      "Epoch 52: early stopping\n",
      "0.4180794060230255\n",
      "training model 5\n"
     ]
    },
    {
     "name": "stderr",
     "output_type": "stream",
     "text": [
      "2024-09-24 00:51:21.374593: I tensorflow/core/common_runtime/executor.cc:1197] [/device:CPU:0] (DEBUG INFO) Executor start aborting (this does not indicate an error and you can ignore this message): INVALID_ARGUMENT: You must feed a value for placeholder tensor 'Placeholder/_0' with dtype string and shape [3]\n",
      "\t [[{{node Placeholder/_0}}]]\n",
      "2024-09-24 00:51:21.512556: I tensorflow/core/common_runtime/executor.cc:1197] [/device:CPU:0] (DEBUG INFO) Executor start aborting (this does not indicate an error and you can ignore this message): INVALID_ARGUMENT: You must feed a value for placeholder tensor 'Placeholder/_0' with dtype string and shape [3]\n",
      "\t [[{{node Placeholder/_0}}]]\n",
      "2024-09-24 00:51:21.658297: I tensorflow/core/common_runtime/executor.cc:1197] [/device:CPU:0] (DEBUG INFO) Executor start aborting (this does not indicate an error and you can ignore this message): INVALID_ARGUMENT: You must feed a value for placeholder tensor 'Placeholder/_0' with dtype string and shape [1]\n",
      "\t [[{{node Placeholder/_0}}]]\n",
      "2024-09-24 00:51:21.742978: I tensorflow/core/common_runtime/executor.cc:1197] [/device:CPU:0] (DEBUG INFO) Executor start aborting (this does not indicate an error and you can ignore this message): INVALID_ARGUMENT: You must feed a value for placeholder tensor 'Placeholder/_0' with dtype string and shape [1]\n",
      "\t [[{{node Placeholder/_0}}]]\n"
     ]
    },
    {
     "name": "stdout",
     "output_type": "stream",
     "text": [
      "Restoring model weights from the end of the best epoch: 30.\n",
      "Epoch 45: early stopping\n",
      "0.45062294602394104\n",
      "training model 6\n"
     ]
    },
    {
     "name": "stderr",
     "output_type": "stream",
     "text": [
      "2024-09-24 00:51:36.531911: I tensorflow/core/common_runtime/executor.cc:1197] [/device:CPU:0] (DEBUG INFO) Executor start aborting (this does not indicate an error and you can ignore this message): INVALID_ARGUMENT: You must feed a value for placeholder tensor 'Placeholder/_0' with dtype string and shape [3]\n",
      "\t [[{{node Placeholder/_0}}]]\n",
      "2024-09-24 00:51:36.697592: I tensorflow/core/common_runtime/executor.cc:1197] [/device:CPU:0] (DEBUG INFO) Executor start aborting (this does not indicate an error and you can ignore this message): INVALID_ARGUMENT: You must feed a value for placeholder tensor 'Placeholder/_0' with dtype string and shape [3]\n",
      "\t [[{{node Placeholder/_0}}]]\n",
      "2024-09-24 00:51:36.855635: I tensorflow/core/common_runtime/executor.cc:1197] [/device:CPU:0] (DEBUG INFO) Executor start aborting (this does not indicate an error and you can ignore this message): INVALID_ARGUMENT: You must feed a value for placeholder tensor 'Placeholder/_0' with dtype string and shape [1]\n",
      "\t [[{{node Placeholder/_0}}]]\n",
      "2024-09-24 00:51:36.986493: I tensorflow/core/common_runtime/executor.cc:1197] [/device:CPU:0] (DEBUG INFO) Executor start aborting (this does not indicate an error and you can ignore this message): INVALID_ARGUMENT: You must feed a value for placeholder tensor 'Placeholder/_0' with dtype string and shape [1]\n",
      "\t [[{{node Placeholder/_0}}]]\n"
     ]
    },
    {
     "name": "stdout",
     "output_type": "stream",
     "text": [
      "Restoring model weights from the end of the best epoch: 18.\n",
      "Epoch 33: early stopping\n",
      "0.43854743242263794\n",
      "training model 7\n"
     ]
    },
    {
     "name": "stderr",
     "output_type": "stream",
     "text": [
      "2024-09-24 00:51:47.821124: I tensorflow/core/common_runtime/executor.cc:1197] [/device:CPU:0] (DEBUG INFO) Executor start aborting (this does not indicate an error and you can ignore this message): INVALID_ARGUMENT: You must feed a value for placeholder tensor 'Placeholder/_0' with dtype string and shape [3]\n",
      "\t [[{{node Placeholder/_0}}]]\n",
      "2024-09-24 00:51:47.962667: I tensorflow/core/common_runtime/executor.cc:1197] [/device:CPU:0] (DEBUG INFO) Executor start aborting (this does not indicate an error and you can ignore this message): INVALID_ARGUMENT: You must feed a value for placeholder tensor 'Placeholder/_0' with dtype string and shape [3]\n",
      "\t [[{{node Placeholder/_0}}]]\n",
      "2024-09-24 00:51:48.104003: I tensorflow/core/common_runtime/executor.cc:1197] [/device:CPU:0] (DEBUG INFO) Executor start aborting (this does not indicate an error and you can ignore this message): INVALID_ARGUMENT: You must feed a value for placeholder tensor 'Placeholder/_0' with dtype string and shape [1]\n",
      "\t [[{{node Placeholder/_0}}]]\n",
      "2024-09-24 00:51:48.191531: I tensorflow/core/common_runtime/executor.cc:1197] [/device:CPU:0] (DEBUG INFO) Executor start aborting (this does not indicate an error and you can ignore this message): INVALID_ARGUMENT: You must feed a value for placeholder tensor 'Placeholder/_0' with dtype string and shape [1]\n",
      "\t [[{{node Placeholder/_0}}]]\n"
     ]
    },
    {
     "name": "stdout",
     "output_type": "stream",
     "text": [
      "Restoring model weights from the end of the best epoch: 50.\n",
      "Epoch 65: early stopping\n",
      "0.42527538537979126\n",
      "training model 8\n"
     ]
    },
    {
     "name": "stderr",
     "output_type": "stream",
     "text": [
      "2024-09-24 00:52:05.789640: I tensorflow/core/common_runtime/executor.cc:1197] [/device:CPU:0] (DEBUG INFO) Executor start aborting (this does not indicate an error and you can ignore this message): INVALID_ARGUMENT: You must feed a value for placeholder tensor 'Placeholder/_0' with dtype string and shape [3]\n",
      "\t [[{{node Placeholder/_0}}]]\n",
      "2024-09-24 00:52:05.933737: I tensorflow/core/common_runtime/executor.cc:1197] [/device:CPU:0] (DEBUG INFO) Executor start aborting (this does not indicate an error and you can ignore this message): INVALID_ARGUMENT: You must feed a value for placeholder tensor 'Placeholder/_0' with dtype string and shape [3]\n",
      "\t [[{{node Placeholder/_0}}]]\n",
      "2024-09-24 00:52:06.070966: I tensorflow/core/common_runtime/executor.cc:1197] [/device:CPU:0] (DEBUG INFO) Executor start aborting (this does not indicate an error and you can ignore this message): INVALID_ARGUMENT: You must feed a value for placeholder tensor 'Placeholder/_0' with dtype string and shape [1]\n",
      "\t [[{{node Placeholder/_0}}]]\n",
      "2024-09-24 00:52:06.158106: I tensorflow/core/common_runtime/executor.cc:1197] [/device:CPU:0] (DEBUG INFO) Executor start aborting (this does not indicate an error and you can ignore this message): INVALID_ARGUMENT: You must feed a value for placeholder tensor 'Placeholder/_0' with dtype string and shape [1]\n",
      "\t [[{{node Placeholder/_0}}]]\n"
     ]
    },
    {
     "name": "stdout",
     "output_type": "stream",
     "text": [
      "Restoring model weights from the end of the best epoch: 43.\n",
      "Epoch 58: early stopping\n",
      "0.4291011691093445\n",
      "training model 9\n"
     ]
    },
    {
     "name": "stderr",
     "output_type": "stream",
     "text": [
      "2024-09-24 00:52:22.065655: I tensorflow/core/common_runtime/executor.cc:1197] [/device:CPU:0] (DEBUG INFO) Executor start aborting (this does not indicate an error and you can ignore this message): INVALID_ARGUMENT: You must feed a value for placeholder tensor 'Placeholder/_0' with dtype string and shape [3]\n",
      "\t [[{{node Placeholder/_0}}]]\n",
      "2024-09-24 00:52:22.204816: I tensorflow/core/common_runtime/executor.cc:1197] [/device:CPU:0] (DEBUG INFO) Executor start aborting (this does not indicate an error and you can ignore this message): INVALID_ARGUMENT: You must feed a value for placeholder tensor 'Placeholder/_0' with dtype string and shape [3]\n",
      "\t [[{{node Placeholder/_0}}]]\n",
      "2024-09-24 00:52:22.344964: I tensorflow/core/common_runtime/executor.cc:1197] [/device:CPU:0] (DEBUG INFO) Executor start aborting (this does not indicate an error and you can ignore this message): INVALID_ARGUMENT: You must feed a value for placeholder tensor 'Placeholder/_0' with dtype string and shape [1]\n",
      "\t [[{{node Placeholder/_0}}]]\n",
      "2024-09-24 00:52:22.429887: I tensorflow/core/common_runtime/executor.cc:1197] [/device:CPU:0] (DEBUG INFO) Executor start aborting (this does not indicate an error and you can ignore this message): INVALID_ARGUMENT: You must feed a value for placeholder tensor 'Placeholder/_0' with dtype string and shape [1]\n",
      "\t [[{{node Placeholder/_0}}]]\n"
     ]
    },
    {
     "name": "stdout",
     "output_type": "stream",
     "text": [
      "Restoring model weights from the end of the best epoch: 47.\n",
      "Epoch 62: early stopping\n",
      "0.42338454723358154\n",
      "training model 10\n"
     ]
    },
    {
     "name": "stderr",
     "output_type": "stream",
     "text": [
      "2024-09-24 00:52:39.365069: I tensorflow/core/common_runtime/executor.cc:1197] [/device:CPU:0] (DEBUG INFO) Executor start aborting (this does not indicate an error and you can ignore this message): INVALID_ARGUMENT: You must feed a value for placeholder tensor 'Placeholder/_0' with dtype string and shape [3]\n",
      "\t [[{{node Placeholder/_0}}]]\n",
      "2024-09-24 00:52:39.506691: I tensorflow/core/common_runtime/executor.cc:1197] [/device:CPU:0] (DEBUG INFO) Executor start aborting (this does not indicate an error and you can ignore this message): INVALID_ARGUMENT: You must feed a value for placeholder tensor 'Placeholder/_0' with dtype string and shape [3]\n",
      "\t [[{{node Placeholder/_0}}]]\n",
      "2024-09-24 00:52:39.699557: I tensorflow/core/common_runtime/executor.cc:1197] [/device:CPU:0] (DEBUG INFO) Executor start aborting (this does not indicate an error and you can ignore this message): INVALID_ARGUMENT: You must feed a value for placeholder tensor 'Placeholder/_0' with dtype string and shape [1]\n",
      "\t [[{{node Placeholder/_0}}]]\n",
      "2024-09-24 00:52:39.786249: I tensorflow/core/common_runtime/executor.cc:1197] [/device:CPU:0] (DEBUG INFO) Executor start aborting (this does not indicate an error and you can ignore this message): INVALID_ARGUMENT: You must feed a value for placeholder tensor 'Placeholder/_0' with dtype string and shape [1]\n",
      "\t [[{{node Placeholder/_0}}]]\n"
     ]
    },
    {
     "name": "stdout",
     "output_type": "stream",
     "text": [
      "Restoring model weights from the end of the best epoch: 20.\n",
      "Epoch 35: early stopping\n",
      "0.4678376019001007\n",
      "training model 11\n"
     ]
    },
    {
     "name": "stderr",
     "output_type": "stream",
     "text": [
      "2024-09-24 00:52:51.314561: I tensorflow/core/common_runtime/executor.cc:1197] [/device:CPU:0] (DEBUG INFO) Executor start aborting (this does not indicate an error and you can ignore this message): INVALID_ARGUMENT: You must feed a value for placeholder tensor 'Placeholder/_0' with dtype string and shape [3]\n",
      "\t [[{{node Placeholder/_0}}]]\n",
      "2024-09-24 00:52:51.454966: I tensorflow/core/common_runtime/executor.cc:1197] [/device:CPU:0] (DEBUG INFO) Executor start aborting (this does not indicate an error and you can ignore this message): INVALID_ARGUMENT: You must feed a value for placeholder tensor 'Placeholder/_0' with dtype string and shape [3]\n",
      "\t [[{{node Placeholder/_0}}]]\n",
      "2024-09-24 00:52:51.600160: I tensorflow/core/common_runtime/executor.cc:1197] [/device:CPU:0] (DEBUG INFO) Executor start aborting (this does not indicate an error and you can ignore this message): INVALID_ARGUMENT: You must feed a value for placeholder tensor 'Placeholder/_0' with dtype string and shape [1]\n",
      "\t [[{{node Placeholder/_0}}]]\n",
      "2024-09-24 00:52:51.686740: I tensorflow/core/common_runtime/executor.cc:1197] [/device:CPU:0] (DEBUG INFO) Executor start aborting (this does not indicate an error and you can ignore this message): INVALID_ARGUMENT: You must feed a value for placeholder tensor 'Placeholder/_0' with dtype string and shape [1]\n",
      "\t [[{{node Placeholder/_0}}]]\n"
     ]
    },
    {
     "name": "stdout",
     "output_type": "stream",
     "text": [
      "Restoring model weights from the end of the best epoch: 39.\n",
      "Epoch 54: early stopping\n",
      "0.45433151721954346\n",
      "training model 12\n"
     ]
    },
    {
     "name": "stderr",
     "output_type": "stream",
     "text": [
      "2024-09-24 00:53:06.888417: I tensorflow/core/common_runtime/executor.cc:1197] [/device:CPU:0] (DEBUG INFO) Executor start aborting (this does not indicate an error and you can ignore this message): INVALID_ARGUMENT: You must feed a value for placeholder tensor 'Placeholder/_0' with dtype string and shape [3]\n",
      "\t [[{{node Placeholder/_0}}]]\n",
      "2024-09-24 00:53:07.035516: I tensorflow/core/common_runtime/executor.cc:1197] [/device:CPU:0] (DEBUG INFO) Executor start aborting (this does not indicate an error and you can ignore this message): INVALID_ARGUMENT: You must feed a value for placeholder tensor 'Placeholder/_0' with dtype string and shape [3]\n",
      "\t [[{{node Placeholder/_0}}]]\n",
      "2024-09-24 00:53:07.191254: I tensorflow/core/common_runtime/executor.cc:1197] [/device:CPU:0] (DEBUG INFO) Executor start aborting (this does not indicate an error and you can ignore this message): INVALID_ARGUMENT: You must feed a value for placeholder tensor 'Placeholder/_0' with dtype string and shape [1]\n",
      "\t [[{{node Placeholder/_0}}]]\n",
      "2024-09-24 00:53:07.279117: I tensorflow/core/common_runtime/executor.cc:1197] [/device:CPU:0] (DEBUG INFO) Executor start aborting (this does not indicate an error and you can ignore this message): INVALID_ARGUMENT: You must feed a value for placeholder tensor 'Placeholder/_0' with dtype string and shape [1]\n",
      "\t [[{{node Placeholder/_0}}]]\n"
     ]
    },
    {
     "name": "stdout",
     "output_type": "stream",
     "text": [
      "Restoring model weights from the end of the best epoch: 40.\n",
      "Epoch 55: early stopping\n",
      "0.4363223612308502\n",
      "training model 13\n"
     ]
    },
    {
     "name": "stderr",
     "output_type": "stream",
     "text": [
      "2024-09-24 00:53:22.926434: I tensorflow/core/common_runtime/executor.cc:1197] [/device:CPU:0] (DEBUG INFO) Executor start aborting (this does not indicate an error and you can ignore this message): INVALID_ARGUMENT: You must feed a value for placeholder tensor 'Placeholder/_0' with dtype string and shape [3]\n",
      "\t [[{{node Placeholder/_0}}]]\n",
      "2024-09-24 00:53:23.069824: I tensorflow/core/common_runtime/executor.cc:1197] [/device:CPU:0] (DEBUG INFO) Executor start aborting (this does not indicate an error and you can ignore this message): INVALID_ARGUMENT: You must feed a value for placeholder tensor 'Placeholder/_0' with dtype string and shape [3]\n",
      "\t [[{{node Placeholder/_0}}]]\n",
      "2024-09-24 00:53:23.213847: I tensorflow/core/common_runtime/executor.cc:1197] [/device:CPU:0] (DEBUG INFO) Executor start aborting (this does not indicate an error and you can ignore this message): INVALID_ARGUMENT: You must feed a value for placeholder tensor 'Placeholder/_0' with dtype string and shape [1]\n",
      "\t [[{{node Placeholder/_0}}]]\n",
      "2024-09-24 00:53:23.304044: I tensorflow/core/common_runtime/executor.cc:1197] [/device:CPU:0] (DEBUG INFO) Executor start aborting (this does not indicate an error and you can ignore this message): INVALID_ARGUMENT: You must feed a value for placeholder tensor 'Placeholder/_0' with dtype string and shape [1]\n",
      "\t [[{{node Placeholder/_0}}]]\n"
     ]
    },
    {
     "name": "stdout",
     "output_type": "stream",
     "text": [
      "Restoring model weights from the end of the best epoch: 54.\n",
      "Epoch 69: early stopping\n",
      "0.40115851163864136\n",
      "training model 14\n"
     ]
    },
    {
     "name": "stderr",
     "output_type": "stream",
     "text": [
      "2024-09-24 00:53:42.244418: I tensorflow/core/common_runtime/executor.cc:1197] [/device:CPU:0] (DEBUG INFO) Executor start aborting (this does not indicate an error and you can ignore this message): INVALID_ARGUMENT: You must feed a value for placeholder tensor 'Placeholder/_0' with dtype string and shape [3]\n",
      "\t [[{{node Placeholder/_0}}]]\n",
      "2024-09-24 00:53:42.385605: I tensorflow/core/common_runtime/executor.cc:1197] [/device:CPU:0] (DEBUG INFO) Executor start aborting (this does not indicate an error and you can ignore this message): INVALID_ARGUMENT: You must feed a value for placeholder tensor 'Placeholder/_0' with dtype string and shape [3]\n",
      "\t [[{{node Placeholder/_0}}]]\n",
      "2024-09-24 00:53:42.530447: I tensorflow/core/common_runtime/executor.cc:1197] [/device:CPU:0] (DEBUG INFO) Executor start aborting (this does not indicate an error and you can ignore this message): INVALID_ARGUMENT: You must feed a value for placeholder tensor 'Placeholder/_0' with dtype string and shape [1]\n",
      "\t [[{{node Placeholder/_0}}]]\n",
      "2024-09-24 00:53:42.618883: I tensorflow/core/common_runtime/executor.cc:1197] [/device:CPU:0] (DEBUG INFO) Executor start aborting (this does not indicate an error and you can ignore this message): INVALID_ARGUMENT: You must feed a value for placeholder tensor 'Placeholder/_0' with dtype string and shape [1]\n",
      "\t [[{{node Placeholder/_0}}]]\n"
     ]
    },
    {
     "name": "stdout",
     "output_type": "stream",
     "text": [
      "Restoring model weights from the end of the best epoch: 46.\n",
      "Epoch 61: early stopping\n",
      "0.4046750068664551\n",
      "training model 15\n"
     ]
    },
    {
     "name": "stderr",
     "output_type": "stream",
     "text": [
      "2024-09-24 00:53:59.645088: I tensorflow/core/common_runtime/executor.cc:1197] [/device:CPU:0] (DEBUG INFO) Executor start aborting (this does not indicate an error and you can ignore this message): INVALID_ARGUMENT: You must feed a value for placeholder tensor 'Placeholder/_0' with dtype string and shape [3]\n",
      "\t [[{{node Placeholder/_0}}]]\n",
      "2024-09-24 00:53:59.788424: I tensorflow/core/common_runtime/executor.cc:1197] [/device:CPU:0] (DEBUG INFO) Executor start aborting (this does not indicate an error and you can ignore this message): INVALID_ARGUMENT: You must feed a value for placeholder tensor 'Placeholder/_0' with dtype string and shape [3]\n",
      "\t [[{{node Placeholder/_0}}]]\n",
      "2024-09-24 00:53:59.932562: I tensorflow/core/common_runtime/executor.cc:1197] [/device:CPU:0] (DEBUG INFO) Executor start aborting (this does not indicate an error and you can ignore this message): INVALID_ARGUMENT: You must feed a value for placeholder tensor 'Placeholder/_0' with dtype string and shape [1]\n",
      "\t [[{{node Placeholder/_0}}]]\n",
      "2024-09-24 00:54:00.023078: I tensorflow/core/common_runtime/executor.cc:1197] [/device:CPU:0] (DEBUG INFO) Executor start aborting (this does not indicate an error and you can ignore this message): INVALID_ARGUMENT: You must feed a value for placeholder tensor 'Placeholder/_0' with dtype string and shape [1]\n",
      "\t [[{{node Placeholder/_0}}]]\n"
     ]
    },
    {
     "name": "stdout",
     "output_type": "stream",
     "text": [
      "Restoring model weights from the end of the best epoch: 52.\n",
      "Epoch 67: early stopping\n",
      "0.4270956814289093\n",
      "training model 16\n"
     ]
    },
    {
     "name": "stderr",
     "output_type": "stream",
     "text": [
      "2024-09-24 00:54:18.315101: I tensorflow/core/common_runtime/executor.cc:1197] [/device:CPU:0] (DEBUG INFO) Executor start aborting (this does not indicate an error and you can ignore this message): INVALID_ARGUMENT: You must feed a value for placeholder tensor 'Placeholder/_0' with dtype string and shape [3]\n",
      "\t [[{{node Placeholder/_0}}]]\n",
      "2024-09-24 00:54:18.456915: I tensorflow/core/common_runtime/executor.cc:1197] [/device:CPU:0] (DEBUG INFO) Executor start aborting (this does not indicate an error and you can ignore this message): INVALID_ARGUMENT: You must feed a value for placeholder tensor 'Placeholder/_0' with dtype string and shape [3]\n",
      "\t [[{{node Placeholder/_0}}]]\n",
      "2024-09-24 00:54:18.597065: I tensorflow/core/common_runtime/executor.cc:1197] [/device:CPU:0] (DEBUG INFO) Executor start aborting (this does not indicate an error and you can ignore this message): INVALID_ARGUMENT: You must feed a value for placeholder tensor 'Placeholder/_0' with dtype string and shape [1]\n",
      "\t [[{{node Placeholder/_0}}]]\n",
      "2024-09-24 00:54:18.682320: I tensorflow/core/common_runtime/executor.cc:1197] [/device:CPU:0] (DEBUG INFO) Executor start aborting (this does not indicate an error and you can ignore this message): INVALID_ARGUMENT: You must feed a value for placeholder tensor 'Placeholder/_0' with dtype string and shape [1]\n",
      "\t [[{{node Placeholder/_0}}]]\n"
     ]
    },
    {
     "name": "stdout",
     "output_type": "stream",
     "text": [
      "Restoring model weights from the end of the best epoch: 15.\n",
      "Epoch 30: early stopping\n",
      "0.4222641587257385\n",
      "training model 17\n"
     ]
    },
    {
     "name": "stderr",
     "output_type": "stream",
     "text": [
      "2024-09-24 00:54:28.609282: I tensorflow/core/common_runtime/executor.cc:1197] [/device:CPU:0] (DEBUG INFO) Executor start aborting (this does not indicate an error and you can ignore this message): INVALID_ARGUMENT: You must feed a value for placeholder tensor 'Placeholder/_0' with dtype string and shape [3]\n",
      "\t [[{{node Placeholder/_0}}]]\n",
      "2024-09-24 00:54:28.749899: I tensorflow/core/common_runtime/executor.cc:1197] [/device:CPU:0] (DEBUG INFO) Executor start aborting (this does not indicate an error and you can ignore this message): INVALID_ARGUMENT: You must feed a value for placeholder tensor 'Placeholder/_0' with dtype string and shape [3]\n",
      "\t [[{{node Placeholder/_0}}]]\n",
      "2024-09-24 00:54:28.900393: I tensorflow/core/common_runtime/executor.cc:1197] [/device:CPU:0] (DEBUG INFO) Executor start aborting (this does not indicate an error and you can ignore this message): INVALID_ARGUMENT: You must feed a value for placeholder tensor 'Placeholder/_0' with dtype string and shape [1]\n",
      "\t [[{{node Placeholder/_0}}]]\n",
      "2024-09-24 00:54:28.990939: I tensorflow/core/common_runtime/executor.cc:1197] [/device:CPU:0] (DEBUG INFO) Executor start aborting (this does not indicate an error and you can ignore this message): INVALID_ARGUMENT: You must feed a value for placeholder tensor 'Placeholder/_0' with dtype string and shape [1]\n",
      "\t [[{{node Placeholder/_0}}]]\n"
     ]
    },
    {
     "name": "stdout",
     "output_type": "stream",
     "text": [
      "Restoring model weights from the end of the best epoch: 68.\n",
      "Epoch 83: early stopping\n",
      "0.41116708517074585\n",
      "training model 18\n"
     ]
    },
    {
     "name": "stderr",
     "output_type": "stream",
     "text": [
      "2024-09-24 00:54:51.764764: I tensorflow/core/common_runtime/executor.cc:1197] [/device:CPU:0] (DEBUG INFO) Executor start aborting (this does not indicate an error and you can ignore this message): INVALID_ARGUMENT: You must feed a value for placeholder tensor 'Placeholder/_0' with dtype string and shape [3]\n",
      "\t [[{{node Placeholder/_0}}]]\n",
      "2024-09-24 00:54:51.908501: I tensorflow/core/common_runtime/executor.cc:1197] [/device:CPU:0] (DEBUG INFO) Executor start aborting (this does not indicate an error and you can ignore this message): INVALID_ARGUMENT: You must feed a value for placeholder tensor 'Placeholder/_0' with dtype string and shape [3]\n",
      "\t [[{{node Placeholder/_0}}]]\n",
      "2024-09-24 00:54:52.050686: I tensorflow/core/common_runtime/executor.cc:1197] [/device:CPU:0] (DEBUG INFO) Executor start aborting (this does not indicate an error and you can ignore this message): INVALID_ARGUMENT: You must feed a value for placeholder tensor 'Placeholder/_0' with dtype string and shape [1]\n",
      "\t [[{{node Placeholder/_0}}]]\n",
      "2024-09-24 00:54:52.135663: I tensorflow/core/common_runtime/executor.cc:1197] [/device:CPU:0] (DEBUG INFO) Executor start aborting (this does not indicate an error and you can ignore this message): INVALID_ARGUMENT: You must feed a value for placeholder tensor 'Placeholder/_0' with dtype string and shape [1]\n",
      "\t [[{{node Placeholder/_0}}]]\n"
     ]
    },
    {
     "name": "stdout",
     "output_type": "stream",
     "text": [
      "Restoring model weights from the end of the best epoch: 48.\n",
      "Epoch 63: early stopping\n",
      "0.41204366087913513\n",
      "training model 19\n"
     ]
    },
    {
     "name": "stderr",
     "output_type": "stream",
     "text": [
      "2024-09-24 00:55:09.347541: I tensorflow/core/common_runtime/executor.cc:1197] [/device:CPU:0] (DEBUG INFO) Executor start aborting (this does not indicate an error and you can ignore this message): INVALID_ARGUMENT: You must feed a value for placeholder tensor 'Placeholder/_0' with dtype string and shape [3]\n",
      "\t [[{{node Placeholder/_0}}]]\n",
      "2024-09-24 00:55:09.494392: I tensorflow/core/common_runtime/executor.cc:1197] [/device:CPU:0] (DEBUG INFO) Executor start aborting (this does not indicate an error and you can ignore this message): INVALID_ARGUMENT: You must feed a value for placeholder tensor 'Placeholder/_0' with dtype string and shape [3]\n",
      "\t [[{{node Placeholder/_0}}]]\n",
      "2024-09-24 00:55:09.643917: I tensorflow/core/common_runtime/executor.cc:1197] [/device:CPU:0] (DEBUG INFO) Executor start aborting (this does not indicate an error and you can ignore this message): INVALID_ARGUMENT: You must feed a value for placeholder tensor 'Placeholder/_0' with dtype string and shape [1]\n",
      "\t [[{{node Placeholder/_0}}]]\n",
      "2024-09-24 00:55:09.732072: I tensorflow/core/common_runtime/executor.cc:1197] [/device:CPU:0] (DEBUG INFO) Executor start aborting (this does not indicate an error and you can ignore this message): INVALID_ARGUMENT: You must feed a value for placeholder tensor 'Placeholder/_0' with dtype string and shape [1]\n",
      "\t [[{{node Placeholder/_0}}]]\n"
     ]
    },
    {
     "name": "stdout",
     "output_type": "stream",
     "text": [
      "Restoring model weights from the end of the best epoch: 44.\n",
      "Epoch 59: early stopping\n",
      "0.41145408153533936\n",
      "CPU times: user 3h 18min 45s, sys: 27min 25s, total: 3h 46min 11s\n",
      "Wall time: 5min 32s\n"
     ]
    }
   ],
   "source": [
    "%%time\n",
    "n_models = 20\n",
    "\n",
    "ensemble_model_dict = {}\n",
    "metric_dict = {}\n",
    "\n",
    "for k in range (n_models):\n",
    "    print(f'training model {k}')\n",
    "          \n",
    "    # for each model, start from model definition \n",
    "    \n",
    "    input_seq = tf.keras.Input(shape=(seq_len, 4), name='input_seq')\n",
    "    \n",
    "    input_seq_1, input_seq_2, input_seq_3, input_seq_4 = tf.split(input_seq, input_sequence_split, axis=1)\n",
    "   \n",
    "    inputs_seq = {}\n",
    "\n",
    "    inputs_seq[0] = tf.keras.layers.Masking(mask_value=0)(input_seq_1)\n",
    "    inputs_seq[1] = tf.keras.layers.Masking(mask_value=0)(input_seq_2)\n",
    "    inputs_seq[2] = tf.keras.layers.Masking(mask_value=0)(input_seq_3)\n",
    "    inputs_seq[3] = tf.keras.layers.Masking(mask_value=0)(input_seq_4)\n",
    "    \n",
    "    orig_models = {}\n",
    "    input_layers = {}\n",
    "    output_layers = {}\n",
    "    base_models = {}\n",
    "    currents = {}\n",
    "    \n",
    "    for i, model in enumerate(([i for i in glob.glob(model_path + 'Results/Encode_models/K562/*.h5') if 'seq' in i]\n",
    "                                  # [i for i in glob.glob(model_path + 'Results/Encode_models/HepG2/*.h5') if 'seq' in i]\n",
    "                              )):\n",
    "        \n",
    "        orig_models[i] = tf.keras.models.load_model(model, custom_objects = custom_objects, compile=False)\n",
    "\n",
    "        for j in range(input_sequence_split):\n",
    "        \n",
    "            input_layers[i,j] = orig_models[i].inputs[0]\n",
    "\n",
    "            output_layers[i,j] = orig_models[i].get_layer('output').output\n",
    "\n",
    "            base_models[i,j] = tf.keras.Model(inputs=input_layers[i,j], outputs=output_layers[i,j])\n",
    "\n",
    "            base_models[i,j].trainable = False\n",
    "\n",
    "            currents[i,j] = base_models[i,j](inputs_seq[j], training=False)\n",
    "\n",
    "    \n",
    "    current = tf.concat(currents.values(), axis=1)\n",
    "    \n",
    "    output = tf.keras.layers.Dense(n_tasks, #kernel_initializer='HeUniform'\n",
    "                                    )(current)\n",
    "\n",
    "    ensemble_model_dict[k] = tf.keras.Model(input_seq, output, name=f'deepripe_explainn_{k}')\n",
    "    \n",
    "          \n",
    "    num_targets = ensemble_model_dict[k].output_shape[-1]\n",
    "    model_metrics = [PearsonR(num_targets)]\n",
    "    optimizer = tf.keras.optimizers.Adam(learning_rate=0.001)\n",
    "\n",
    "          \n",
    "    ensemble_model_dict[k].compile(optimizer=optimizer, \n",
    "                      loss='mse',\n",
    "                      metrics=model_metrics\n",
    "                     )\n",
    "\n",
    "\n",
    "    early_stop=tf.keras.callbacks.EarlyStopping(monitor='val_pearsonr',  min_delta=1e-4,  mode='max', \n",
    "                                                patience=15, restore_best_weights=True,  verbose=1)\n",
    "\n",
    "\n",
    "    lradjust = tf.keras.callbacks.ReduceLROnPlateau(factor=0.5, patience=12, cooldown=1)\n",
    "    \n",
    "    # history = ensemble_model_dict[k].fit(x=[train_data[0].numpy()[0][0][:,0,:,:],train_data[0].numpy()[0][1][:,0,:,:]],\n",
    "    #                 y=train_data[0].numpy()[1].squeeze(axis=1),\n",
    "    #                 epochs=1000,\n",
    "    #                 validation_data=([eval_data[0].numpy()[0][0][:,0,:,:],eval_data[0].numpy()[0][1][:,0,:,:]],\n",
    "    #                 eval_data[0].numpy()[1].squeeze(axis=1)),\n",
    "    #                 verbose=0,\n",
    "    #                     callbacks=[\n",
    "    #                      #  save_best, \n",
    "    #                        early_stop,\n",
    "    #                        # lradjust, \n",
    "    #                              ]  \n",
    "    #          )\n",
    "    \n",
    "\n",
    "    history = ensemble_model_dict[k].fit(x=train_data[0].numpy()[0][:,0,:,:],\n",
    "                    y=train_data[0].numpy()[1].squeeze(axis=1),\n",
    "                    epochs=1000,\n",
    "                    validation_data=(eval_data[0].numpy()[0][:,0,:,:],\n",
    "                            eval_data[0].numpy()[1].squeeze(axis=1)),\n",
    "                        callbacks=[\n",
    "                          # save_best, \n",
    "                           early_stop,\n",
    "                           # lradjust, \n",
    "                                 ],\n",
    "                    verbose=0\n",
    "                         )\n",
    "    \n",
    "    max_pearsonr = max(history.history['val_pearsonr'])\n",
    "    print(max_pearsonr)\n",
    "    \n",
    "    metric_dict[k] = max_pearsonr"
   ]
  },
  {
   "cell_type": "code",
   "execution_count": null,
   "id": "492831d6-235d-4615-8b46-5533e4a65374",
   "metadata": {},
   "outputs": [],
   "source": [
    "    # history = ensemble_model_dict[k].fit(x=[train_data[0].numpy()[0][0][:,0,:,:],train_data[0].numpy()[0][1][:,0,:,:]],\n",
    "    #                 y=train_data[0].numpy()[1].squeeze(axis=1),\n",
    "    #                 epochs=1000,\n",
    "    #                 validation_data=([eval_data[0].numpy()[0][0][:,0,:,:],eval_data[0].numpy()[0][1][:,0,:,:]],\n",
    "    #                 eval_data[0].numpy()[1].squeeze(axis=1)),\n",
    "    #                 verbose=0,\n",
    "    #                     callbacks=[\n",
    "    #                      #  save_best, \n",
    "    #                        early_stop,\n",
    "    #                        # lradjust, \n",
    "    #                              ]  \n",
    "    #          )\n"
   ]
  },
  {
   "cell_type": "code",
   "execution_count": 639,
   "id": "64eac6c3-92cc-40cd-a25f-3af6ca907ec4",
   "metadata": {},
   "outputs": [],
   "source": [
    "metric_dict_sorted = {k: v for k, v in sorted(metric_dict.items(), key=lambda item: item[1], reverse=True)}"
   ]
  },
  {
   "cell_type": "code",
   "execution_count": 640,
   "id": "bcad1c44-8797-4267-aeaa-effc47177be6",
   "metadata": {},
   "outputs": [],
   "source": [
    "ensemble_model_dict_sorted = [(key, ensemble_model_dict[key]) for key in metric_dict_sorted.keys() if key in ensemble_model_dict]"
   ]
  },
  {
   "cell_type": "code",
   "execution_count": 641,
   "id": "180ec198-9d63-4fb6-9fe5-f1cb514a9bc6",
   "metadata": {},
   "outputs": [],
   "source": [
    "ensemble_model_dict_sorted = dict(ensemble_model_dict_sorted)"
   ]
  },
  {
   "cell_type": "code",
   "execution_count": 643,
   "id": "43dd9c28-4676-4dc2-888a-36225decf44c",
   "metadata": {},
   "outputs": [
    {
     "data": {
      "text/plain": [
       "[10, 11, 5, 6, 12, 8, 15, 7, 9, 16, 4, 1, 18, 3, 19, 17, 0, 14, 13, 2]"
      ]
     },
     "execution_count": 643,
     "metadata": {},
     "output_type": "execute_result"
    }
   ],
   "source": [
    "list(ensemble_model_dict_sorted.keys())"
   ]
  },
  {
   "cell_type": "code",
   "execution_count": 673,
   "id": "179ffc62-5535-4c49-9467-f0743d643b80",
   "metadata": {},
   "outputs": [
    {
     "data": {
      "text/plain": [
       "{10: 0.4678376019001007,\n",
       " 11: 0.45433151721954346,\n",
       " 5: 0.45062294602394104,\n",
       " 6: 0.43854743242263794,\n",
       " 12: 0.4363223612308502,\n",
       " 8: 0.4291011691093445,\n",
       " 15: 0.4270956814289093,\n",
       " 7: 0.42527538537979126,\n",
       " 9: 0.42338454723358154,\n",
       " 16: 0.4222641587257385,\n",
       " 4: 0.4180794060230255,\n",
       " 1: 0.41758912801742554,\n",
       " 18: 0.41204366087913513,\n",
       " 3: 0.4120391607284546,\n",
       " 19: 0.41145408153533936,\n",
       " 17: 0.41116708517074585,\n",
       " 0: 0.40907198190689087,\n",
       " 14: 0.4046750068664551,\n",
       " 13: 0.40115851163864136,\n",
       " 2: 0.3912607431411743}"
      ]
     },
     "execution_count": 673,
     "metadata": {},
     "output_type": "execute_result"
    }
   ],
   "source": [
    "metric_dict_sorted"
   ]
  },
  {
   "cell_type": "code",
   "execution_count": null,
   "id": "62d23954-4914-4e80-bbea-727eabff434f",
   "metadata": {},
   "outputs": [],
   "source": []
  },
  {
   "cell_type": "code",
   "execution_count": 668,
   "id": "81cbc3ec-1d7e-4feb-acd2-b0a63d2d65b3",
   "metadata": {},
   "outputs": [],
   "source": [
    "tokens = list(ensemble_model_dict_sorted.values()).copy()\n",
    "tokens = list(reversed(tokens))"
   ]
  },
  {
   "cell_type": "code",
   "execution_count": null,
   "id": "650bb27b-ac56-4769-af43-e8e1935f8825",
   "metadata": {},
   "outputs": [],
   "source": []
  },
  {
   "cell_type": "code",
   "execution_count": null,
   "id": "8f38006e-ab1e-42d5-802e-5a49eb64e4af",
   "metadata": {},
   "outputs": [],
   "source": []
  },
  {
   "cell_type": "code",
   "execution_count": 669,
   "id": "bffb0e11-aec4-49c4-aa32-75d321e15d25",
   "metadata": {},
   "outputs": [
    {
     "name": "stdout",
     "output_type": "stream",
     "text": [
      "0\n",
      "getting pearson r for ensemble 0\n"
     ]
    },
    {
     "name": "stderr",
     "output_type": "stream",
     "text": [
      "2024-09-24 01:40:55.631742: I tensorflow/core/common_runtime/executor.cc:1197] [/device:CPU:0] (DEBUG INFO) Executor start aborting (this does not indicate an error and you can ignore this message): INVALID_ARGUMENT: You must feed a value for placeholder tensor 'Placeholder/_0' with dtype string and shape [1]\n",
      "\t [[{{node Placeholder/_0}}]]\n"
     ]
    },
    {
     "name": "stdout",
     "output_type": "stream",
     "text": [
      "6/6 [==============================] - 1s 11ms/step\n",
      "0.4715463769319254\n",
      "1\n"
     ]
    },
    {
     "name": "stderr",
     "output_type": "stream",
     "text": [
      "2024-09-24 01:40:56.885849: I tensorflow/core/common_runtime/executor.cc:1197] [/device:CPU:0] (DEBUG INFO) Executor start aborting (this does not indicate an error and you can ignore this message): INVALID_ARGUMENT: You must feed a value for placeholder tensor 'Placeholder/_0' with dtype string and shape [1]\n",
      "\t [[{{node Placeholder/_0}}]]\n"
     ]
    },
    {
     "name": "stdout",
     "output_type": "stream",
     "text": [
      "getting pearson r for ensemble 1\n"
     ]
    },
    {
     "name": "stderr",
     "output_type": "stream",
     "text": [
      "2024-09-24 01:40:57.984410: I tensorflow/core/common_runtime/executor.cc:1197] [/device:CPU:0] (DEBUG INFO) Executor start aborting (this does not indicate an error and you can ignore this message): INVALID_ARGUMENT: You must feed a value for placeholder tensor 'Placeholder/_0' with dtype string and shape [1]\n",
      "\t [[{{node Placeholder/_0}}]]\n"
     ]
    },
    {
     "name": "stdout",
     "output_type": "stream",
     "text": [
      "6/6 [==============================] - 3s 15ms/step\n",
      "0.4736234459813868\n",
      "2\n"
     ]
    },
    {
     "name": "stderr",
     "output_type": "stream",
     "text": [
      "2024-09-24 01:41:01.538839: I tensorflow/core/common_runtime/executor.cc:1197] [/device:CPU:0] (DEBUG INFO) Executor start aborting (this does not indicate an error and you can ignore this message): INVALID_ARGUMENT: You must feed a value for placeholder tensor 'Placeholder/_0' with dtype string and shape [1]\n",
      "\t [[{{node Placeholder/_0}}]]\n"
     ]
    },
    {
     "name": "stdout",
     "output_type": "stream",
     "text": [
      "getting pearson r for ensemble 2\n"
     ]
    },
    {
     "name": "stderr",
     "output_type": "stream",
     "text": [
      "2024-09-24 01:41:02.957108: I tensorflow/core/common_runtime/executor.cc:1197] [/device:CPU:0] (DEBUG INFO) Executor start aborting (this does not indicate an error and you can ignore this message): INVALID_ARGUMENT: You must feed a value for placeholder tensor 'Placeholder/_0' with dtype string and shape [1]\n",
      "\t [[{{node Placeholder/_0}}]]\n"
     ]
    },
    {
     "name": "stdout",
     "output_type": "stream",
     "text": [
      "6/6 [==============================] - 2s 21ms/step\n",
      "0.47688135601104087\n",
      "3\n"
     ]
    },
    {
     "name": "stderr",
     "output_type": "stream",
     "text": [
      "2024-09-24 01:41:05.467153: I tensorflow/core/common_runtime/executor.cc:1197] [/device:CPU:0] (DEBUG INFO) Executor start aborting (this does not indicate an error and you can ignore this message): INVALID_ARGUMENT: You must feed a value for placeholder tensor 'Placeholder/_0' with dtype string and shape [1]\n",
      "\t [[{{node Placeholder/_0}}]]\n"
     ]
    },
    {
     "name": "stdout",
     "output_type": "stream",
     "text": [
      "getting pearson r for ensemble 3\n"
     ]
    },
    {
     "name": "stderr",
     "output_type": "stream",
     "text": [
      "2024-09-24 01:41:07.230392: I tensorflow/core/common_runtime/executor.cc:1197] [/device:CPU:0] (DEBUG INFO) Executor start aborting (this does not indicate an error and you can ignore this message): INVALID_ARGUMENT: You must feed a value for placeholder tensor 'Placeholder/_0' with dtype string and shape [1]\n",
      "\t [[{{node Placeholder/_0}}]]\n"
     ]
    },
    {
     "name": "stdout",
     "output_type": "stream",
     "text": [
      "6/6 [==============================] - 3s 24ms/step\n",
      "0.48636055340947565\n",
      "4\n"
     ]
    },
    {
     "name": "stderr",
     "output_type": "stream",
     "text": [
      "2024-09-24 01:41:10.220169: I tensorflow/core/common_runtime/executor.cc:1197] [/device:CPU:0] (DEBUG INFO) Executor start aborting (this does not indicate an error and you can ignore this message): INVALID_ARGUMENT: You must feed a value for placeholder tensor 'Placeholder/_0' with dtype string and shape [1]\n",
      "\t [[{{node Placeholder/_0}}]]\n"
     ]
    },
    {
     "name": "stdout",
     "output_type": "stream",
     "text": [
      "getting pearson r for ensemble 4\n"
     ]
    },
    {
     "name": "stderr",
     "output_type": "stream",
     "text": [
      "2024-09-24 01:41:12.314031: I tensorflow/core/common_runtime/executor.cc:1197] [/device:CPU:0] (DEBUG INFO) Executor start aborting (this does not indicate an error and you can ignore this message): INVALID_ARGUMENT: You must feed a value for placeholder tensor 'Placeholder/_0' with dtype string and shape [1]\n",
      "\t [[{{node Placeholder/_0}}]]\n"
     ]
    },
    {
     "name": "stdout",
     "output_type": "stream",
     "text": [
      "6/6 [==============================] - 3s 28ms/step\n",
      "0.4710329091797656\n",
      "final pearson R: 0.48636055340947565\n"
     ]
    },
    {
     "name": "stderr",
     "output_type": "stream",
     "text": [
      "2024-09-24 01:41:15.894735: I tensorflow/core/common_runtime/executor.cc:1197] [/device:CPU:0] (DEBUG INFO) Executor start aborting (this does not indicate an error and you can ignore this message): INVALID_ARGUMENT: You must feed a value for placeholder tensor 'Placeholder/_0' with dtype string and shape [1]\n",
      "\t [[{{node Placeholder/_0}}]]\n"
     ]
    }
   ],
   "source": [
    "current_R = 0\n",
    "\n",
    "for l in range(len(tokens)):\n",
    "    print(l)\n",
    "    mod_list = []\n",
    "\n",
    "    for i in range(2):\n",
    "        temp = tokens.pop()\n",
    "\n",
    "        mod_list.append(temp)\n",
    "\n",
    "          \n",
    "    model_input = tf.keras.Input(shape=(None,4))\n",
    "    model_outputs = [model(model_input) for model in mod_list]\n",
    "\n",
    "    ensemble_output = tf.keras.layers.Average()(model_outputs)\n",
    "\n",
    "    ensemble_model_ = tf.keras.Model(inputs=model_input, outputs=ensemble_output)\n",
    "    \n",
    "    print(f'getting pearson r for ensemble {l}')\n",
    "    preds = ensemble_model_.predict(eval_data[0].numpy()[0][:,0,:,:])\n",
    "    \n",
    "    x=eval_data[0].numpy()[1].squeeze()\n",
    "    y=preds.squeeze()\n",
    "    \n",
    "    pearson = pearsonr(x[:,0],y[:,0])[0]\n",
    "    print(pearson)\n",
    "    # if pearson larger than saved value, overwrite ensemble model and break loop\n",
    "    \n",
    "    if pearson > current_R:\n",
    "        \n",
    "        current_R = pearson\n",
    "        \n",
    "        ensemble_model = ensemble_model_\n",
    "        \n",
    "        tokens.append(ensemble_model)\n",
    "    \n",
    "    else:\n",
    "        break\n",
    "        \n",
    "\n",
    "        \n",
    "print(f'final pearson R: {current_R}')\n",
    "    \n"
   ]
  },
  {
   "cell_type": "code",
   "execution_count": null,
   "id": "38510cbc-c21f-487f-9405-e7b03d557053",
   "metadata": {},
   "outputs": [],
   "source": []
  },
  {
   "cell_type": "code",
   "execution_count": null,
   "id": "96f185bc-74e4-4616-9b78-6189bf31155c",
   "metadata": {},
   "outputs": [],
   "source": []
  },
  {
   "cell_type": "code",
   "execution_count": null,
   "id": "17d1954b-808e-480d-b607-c29937ef83ed",
   "metadata": {},
   "outputs": [],
   "source": []
  },
  {
   "cell_type": "code",
   "execution_count": null,
   "id": "563918f4-8e08-4f23-8088-a6459db4f4e4",
   "metadata": {},
   "outputs": [],
   "source": []
  },
  {
   "cell_type": "code",
   "execution_count": null,
   "id": "35bab906-9ceb-45ee-a506-4eba99bc272e",
   "metadata": {},
   "outputs": [],
   "source": []
  },
  {
   "cell_type": "code",
   "execution_count": null,
   "id": "d407ea58-a74c-46b0-9842-a59669db86db",
   "metadata": {},
   "outputs": [],
   "source": []
  },
  {
   "cell_type": "code",
   "execution_count": null,
   "id": "5d12639b-702c-44e2-989e-0e6ba5f58319",
   "metadata": {},
   "outputs": [],
   "source": []
  },
  {
   "cell_type": "code",
   "execution_count": null,
   "id": "a1a1cf7d-27f4-4778-bdf2-f3dcc73dad90",
   "metadata": {},
   "outputs": [],
   "source": []
  },
  {
   "cell_type": "code",
   "execution_count": null,
   "id": "306dd33e-dd1f-457e-b28d-08910e54e0c1",
   "metadata": {},
   "outputs": [],
   "source": []
  },
  {
   "cell_type": "code",
   "execution_count": null,
   "id": "33bbce78-2402-4fe1-a88c-7204324ff90e",
   "metadata": {},
   "outputs": [],
   "source": []
  },
  {
   "cell_type": "code",
   "execution_count": 143,
   "id": "1089b0bc-99b0-479c-806a-433967f036c9",
   "metadata": {},
   "outputs": [],
   "source": [
    "import matplotlib.pyplot as plt\n",
    "import seaborn as sns\n",
    "\n",
    "import tensorflow_probability as tfp"
   ]
  },
  {
   "cell_type": "code",
   "execution_count": 651,
   "id": "d0e08794-7ec4-4be2-b9d9-793222f3f3c1",
   "metadata": {},
   "outputs": [
    {
     "name": "stderr",
     "output_type": "stream",
     "text": [
      "2024-09-24 01:11:38.109113: I tensorflow/core/common_runtime/executor.cc:1197] [/device:CPU:0] (DEBUG INFO) Executor start aborting (this does not indicate an error and you can ignore this message): INVALID_ARGUMENT: You must feed a value for placeholder tensor 'Placeholder/_0' with dtype string and shape [1]\n",
      "\t [[{{node Placeholder/_0}}]]\n"
     ]
    }
   ],
   "source": [
    "y=test_data[0].numpy()[1].squeeze(axis=1)"
   ]
  },
  {
   "cell_type": "code",
   "execution_count": 653,
   "id": "c54c71e3-2227-4225-97d9-c41eec8b0732",
   "metadata": {},
   "outputs": [
    {
     "name": "stderr",
     "output_type": "stream",
     "text": [
      "2024-09-24 01:12:05.203581: I tensorflow/core/common_runtime/executor.cc:1197] [/device:CPU:0] (DEBUG INFO) Executor start aborting (this does not indicate an error and you can ignore this message): INVALID_ARGUMENT: You must feed a value for placeholder tensor 'Placeholder/_0' with dtype string and shape [1]\n",
      "\t [[{{node Placeholder/_0}}]]\n"
     ]
    },
    {
     "name": "stdout",
     "output_type": "stream",
     "text": [
      "1/1 [==============================] - 3s 3s/step\n"
     ]
    }
   ],
   "source": [
    "# pred = model.predict([eval_data[0].numpy()[0][0][:,0,:,:],eval_data[0].numpy()[0][1][:,0,:,:]])\n",
    "\n",
    "    \n",
    "pred = ensemble_model.predict([test_data[0].numpy()[0][:,0,:,:]])\n"
   ]
  },
  {
   "cell_type": "code",
   "execution_count": null,
   "id": "d7de2411-7969-4119-acc9-1f0d9f64c441",
   "metadata": {},
   "outputs": [],
   "source": []
  },
  {
   "cell_type": "code",
   "execution_count": 654,
   "id": "3583d783-66d7-4bb8-9247-a31781f08416",
   "metadata": {},
   "outputs": [
    {
     "name": "stdout",
     "output_type": "stream",
     "text": [
      "[[1.         0.28884299]\n",
      " [0.28884299 1.        ]]\n",
      "[[1.         0.25363164]\n",
      " [0.25363164 1.        ]]\n"
     ]
    }
   ],
   "source": [
    "print(np.corrcoef(y[:,0], pred[:,0]))\n",
    "print(np.corrcoef(y[:,1], pred[:,1]))"
   ]
  },
  {
   "cell_type": "code",
   "execution_count": null,
   "id": "6fe85283-81ff-470a-9472-77268933220c",
   "metadata": {},
   "outputs": [],
   "source": []
  },
  {
   "cell_type": "code",
   "execution_count": 31,
   "id": "5d281fe4-19e3-4137-a685-dc6759c105a3",
   "metadata": {},
   "outputs": [
    {
     "data": {
      "text/plain": [
       "PearsonRResult(statistic=0.2825524123214446, pvalue=0.00012152211757772819)"
      ]
     },
     "execution_count": 31,
     "metadata": {},
     "output_type": "execute_result"
    }
   ],
   "source": [
    "pearsonr(y[:,0], pred[:,0])"
   ]
  },
  {
   "cell_type": "code",
   "execution_count": null,
   "id": "35310cee-93f5-46df-b94e-7173d778017d",
   "metadata": {},
   "outputs": [
    {
     "data": {
      "image/png": "[encoded data removed]",
      "text/plain": [
       "<Figure size 650x300 with 2 Axes>"
      ]
     },
     "metadata": {},
     "output_type": "display_data"
    }
   ],
   "source": [
    "fig, ax = plt.subplots(1,2, figsize=(6.5,3))\n",
    "\n",
    "axes = ax.ravel()\n",
    "\n",
    "for i in range(2):\n",
    "    \n",
    "\n",
    "    sns.regplot(x=y[:,i],\n",
    "               y=pred[:,i], \n",
    "               ax=axes[i],\n",
    "                color=sns.palettes.SEABORN_PALETTES['deep'][i],\n",
    "                scatter_kws={\"s\": 5}, line_kws={\"lw\":2}\n",
    "               \n",
    "               )\n",
    "               "
   ]
  },
  {
   "cell_type": "code",
   "execution_count": null,
   "id": "6f514a97-bd80-4200-92ab-9cf357d038cf",
   "metadata": {},
   "outputs": [],
   "source": []
  },
  {
   "cell_type": "code",
   "execution_count": 108,
   "id": "e3b1b117-86c6-4abc-a664-4c2617aeafdd",
   "metadata": {},
   "outputs": [],
   "source": [
    "# glob.glob(model_path + 'Results/PARCLIP_models/*.h5')"
   ]
  },
  {
   "cell_type": "code",
   "execution_count": null,
   "id": "6363b2ca-f99a-4bdb-a926-99ecbf285c64",
   "metadata": {},
   "outputs": [],
   "source": [
    "RBPnames_low=np.array(['MBNL1', 'P53_NONO', 'PUM2', 'QKI', 'AGO3', 'FUS', 'TAF15', 'ZFP36', 'DICER1', 'EIF3A', 'EIF3D', 'EIF3G', 'SSB', 'PAPD5', 'CPSF4', 'CPSF3', 'RTCB', 'FXR1', 'NOP58', 'NOP56', 'FBL', 'LIN28A', 'LIN28B', 'UPF1', 'G35', 'G45', 'XPO5'])\n",
    "RBPnames_med=np.array(['TARDBP', 'ELAVL2', 'ELAVL3', 'ELAVL4', 'RBM20', 'IGF2BP1', 'IGF2BP2', 'IGF2BP3', 'EWSR1', 'HNRNPD', 'RBPMS', 'SRRM4', 'AGO2', 'NUDT21', 'FIP1L1', 'CAPRIN1', 'FMR1iso7', 'FXR2', 'AGO1', 'L1RE1', 'ORF1'])\n",
    "RBPnames_high=np.array(['DND1', 'CPSF7', 'CPSF6', 'CPSF1', 'CSTF2', 'CSTF2T', 'ZC3H7B', 'FMR1iso1', 'RBM10', 'MOV10', 'ELAVL1'])\n"
   ]
  },
  {
   "cell_type": "code",
   "execution_count": null,
   "id": "36c46b46-4741-47df-b926-541925ea59e5",
   "metadata": {},
   "outputs": [],
   "source": []
  },
  {
   "cell_type": "code",
   "execution_count": null,
   "id": "f7eb8884-2f56-48d3-b50c-3df9b66e5791",
   "metadata": {},
   "outputs": [],
   "source": [
    "np.reshape(ensemble_modelmodel.weights[-1]"
   ]
  },
  {
   "cell_type": "code",
   "execution_count": 109,
   "id": "aec9e779-5141-4e3e-af48-8d5a5dcf35fa",
   "metadata": {},
   "outputs": [],
   "source": [
    "# linear_weights = pd.DataFrame(model.weights[-2:-1][0], columns=['Neurons','Glia'])"
   ]
  },
  {
   "cell_type": "code",
   "execution_count": 131,
   "id": "656bcaed-e324-48cf-8f1c-e1c8c5859939",
   "metadata": {},
   "outputs": [],
   "source": [
    "from scipy.interpolate import UnivariateSpline\n",
    "from scipy.cluster.hierarchy import linkage, leaves_list, dendrogram, set_link_color_palette\n",
    "\n",
    "import fastcluster\n",
    "import plotly.express as px"
   ]
  },
  {
   "cell_type": "code",
   "execution_count": null,
   "id": "68280289-795d-4d3d-a4c9-f8a07448e5e9",
   "metadata": {},
   "outputs": [],
   "source": []
  },
  {
   "cell_type": "code",
   "execution_count": null,
   "id": "9edc96e6-23d8-4a86-9e45-aa76c1ef53f0",
   "metadata": {},
   "outputs": [],
   "source": []
  },
  {
   "cell_type": "code",
   "execution_count": 116,
   "id": "7948ba3b-8725-4307-a452-54037d545960",
   "metadata": {},
   "outputs": [],
   "source": [
    "weights_reshaped = np.reshape(ensemble_model.weights[-2:-1][0][:,0],(-1,4))"
   ]
  },
  {
   "cell_type": "code",
   "execution_count": null,
   "id": "3414506f-4c0a-4028-badd-663827a9c879",
   "metadata": {},
   "outputs": [],
   "source": []
  },
  {
   "cell_type": "code",
   "execution_count": 82,
   "id": "acc1cd04-73ce-45ef-9cc1-73bb9ced5bc8",
   "metadata": {},
   "outputs": [],
   "source": [
    "clustering_linkage = fastcluster.linkage(weights_reshaped,\n",
    "                    metric='euclidean',\n",
    "                    method='ward',\n",
    "                    preserve_input=True\n",
    "                   )\n",
    "\n",
    "new_row_idx = leaves_list(clustering_linkage)"
   ]
  },
  {
   "cell_type": "code",
   "execution_count": null,
   "id": "65ce07f2-c05b-488a-9c80-fd9d6777f139",
   "metadata": {},
   "outputs": [],
   "source": []
  },
  {
   "cell_type": "code",
   "execution_count": null,
   "id": "50400928-df02-4752-b7c8-f910724d18e7",
   "metadata": {},
   "outputs": [],
   "source": []
  },
  {
   "cell_type": "code",
   "execution_count": 154,
   "id": "49eea3a9-9c15-4edc-9b59-1f88549d1b53",
   "metadata": {},
   "outputs": [
    {
     "data": {
      "image/png": "[encoded data removed]",
      "text/plain": [
       "<Figure size 200x1000 with 2 Axes>"
      ]
     },
     "metadata": {},
     "output_type": "display_data"
    }
   ],
   "source": [
    "fig, (ax1, ax2) = plt.subplots(1,2,figsize=(2,10), gridspec_kw={'width_ratios':[1,2]})\n",
    "fig.subplots_adjust(wspace=0)\n",
    "\n",
    "sns.heatmap(weights_reshaped[new_row_idx],\n",
    "               #    standard_scale='rows',\n",
    "               #    figsize=(3,6),\n",
    "                cmap=\"RdBu_r\",\n",
    "                vmax=0.3,\n",
    "                vmin=-0.3, \n",
    "                xticklabels=False,\n",
    "                yticklabels=False,\n",
    "                cbar=False,\n",
    "                ax=ax2,\n",
    "                linewidths=0.3, linecolor='white'\n",
    "              )\n",
    "\n",
    "#g.axes.set(yticks=use_ticks, yticklabels=use_labels,)\n",
    "\n",
    "\n",
    "set_link_color_palette(['#%02x%02x%02x' % tuple(map(int, px.colors.unlabel_rgb(i))) for i in px.colors.qualitative.Vivid])\n",
    "\n",
    "#set_link_color_palette(px.colors.sequential.Plasma_r)\n",
    "    \n",
    "dendro_clusters = dendrogram(clustering_linkage,\n",
    "               # truncate_mode='level',\n",
    "               # p=3\n",
    "               color_threshold=0.5,\n",
    "               no_labels=True,\n",
    "               above_threshold_color='k',\n",
    "               ax = ax1,\n",
    "               orientation='left'\n",
    "              )\n",
    "\n",
    "ax1.set_frame_on(False)"
   ]
  },
  {
   "cell_type": "code",
   "execution_count": null,
   "id": "1ece485a-ddce-45cc-899d-fa8c4c0134b6",
   "metadata": {},
   "outputs": [],
   "source": []
  },
  {
   "cell_type": "code",
   "execution_count": null,
   "id": "933ea299-6ac9-4da2-8959-c55d169a38f6",
   "metadata": {},
   "outputs": [],
   "source": []
  },
  {
   "cell_type": "code",
   "execution_count": null,
   "id": "9d118293-4978-4c77-ac56-af8c9c85ddd4",
   "metadata": {},
   "outputs": [],
   "source": []
  },
  {
   "cell_type": "code",
   "execution_count": 76,
   "id": "8bfcd27c-d89b-4dee-9651-5eade815efb0",
   "metadata": {},
   "outputs": [
    {
     "data": {
      "text/plain": [
       "<seaborn.matrix.ClusterGrid at 0x7f99b93efbe0>"
      ]
     },
     "execution_count": 76,
     "metadata": {},
     "output_type": "execute_result"
    },
    {
     "data": {
      "image/png": "[encoded data removed]",
      "text/plain": [
       "<Figure size 200x1200 with 4 Axes>"
      ]
     },
     "metadata": {},
     "output_type": "display_data"
    }
   ],
   "source": [
    "# fig, ax = plt.subplots(figsize=(2,20))\n",
    "\n",
    "sns.clustermap(\n",
    "  #  np.reshape(ensemble_model.weights[-1][:,0], (-1,4)),\n",
    "     np.reshape(ensemble_model.weights[-2:-1][0][:,0],(-1,4)),\n",
    "     # ax=ax,\n",
    "    cmap='coolwarm',\n",
    "    vmax=0.5,\n",
    "    vmin=-0.5, \n",
    "    figsize=(2,12),\n",
    "    col_cluster=False,\n",
    "    cbar_pos=(1, .2, .1, .05),\n",
    "    # yticklabels=np.concatenate([RBPnames_high,RBPnames_low,RBPnames_med])\n",
    ")"
   ]
  },
  {
   "cell_type": "code",
   "execution_count": null,
   "id": "4df8c49c-690d-4450-8e8f-f2ffe76ba175",
   "metadata": {},
   "outputs": [],
   "source": []
  },
  {
   "cell_type": "code",
   "execution_count": null,
   "id": "06a9b116-123e-491a-8ba3-6f4aad9d40c9",
   "metadata": {},
   "outputs": [],
   "source": []
  },
  {
   "cell_type": "code",
   "execution_count": null,
   "id": "d9976a3f-b040-4bfd-b0c6-af594a167fd7",
   "metadata": {},
   "outputs": [],
   "source": []
  },
  {
   "cell_type": "code",
   "execution_count": null,
   "id": "3aa44d47-88d1-4fb0-a443-7df32187d98d",
   "metadata": {},
   "outputs": [],
   "source": [
    "import igrads\n",
    "import metamotif\n",
    "import logomaker"
   ]
  },
  {
   "cell_type": "code",
   "execution_count": null,
   "id": "3418e674-256f-4e43-b6c4-61b8c4c03c97",
   "metadata": {},
   "outputs": [],
   "source": [
    "def running_mean(x, k):\n",
    "    cumsum = np.cumsum(np.insert(x, 0, 0)) \n",
    "    return (cumsum[k:] - cumsum[:-k]) / float(k)\n",
    "\n",
    "def extract_argmax_kmer(sequence, attribution, k=5):\n",
    "    i = np.argmax(running_mean(attribution, k=k))\n",
    "    return int(i), sequence[i:(i+k)], np.sum(attribution[i:(i+k)])\n",
    "\n",
    "def onehot2sequence_(onehot):\n",
    "    sequence = ''\n",
    "    \n",
    "    for base in onehot:\n",
    "        \n",
    "        if base.sum() == 0:\n",
    "            nt = 'N'\n",
    "        elif base[0] == 1:\n",
    "            nt = 'A'\n",
    "        elif base[1] == 1:\n",
    "            nt = 'C'\n",
    "        elif base[2] == 1:\n",
    "            nt = 'G'\n",
    "        elif base[3] == 1:\n",
    "            nt = 'T'\n",
    "    \n",
    "        sequence=sequence+nt\n",
    "        "
   ]
  },
  {
   "cell_type": "code",
   "execution_count": null,
   "id": "53273cb3-4892-43f2-a980-79d766f1db7f",
   "metadata": {},
   "outputs": [],
   "source": []
  },
  {
   "cell_type": "code",
   "execution_count": null,
   "id": "a2d7ad7c-67ad-4631-81c3-edfffc82b138",
   "metadata": {},
   "outputs": [],
   "source": []
  },
  {
   "cell_type": "code",
   "execution_count": null,
   "id": "5e78b565-318e-4ecd-a6ac-d302ec48d75a",
   "metadata": {},
   "outputs": [],
   "source": []
  },
  {
   "cell_type": "code",
   "execution_count": null,
   "id": "a7c8a1f0-c0c9-4f50-b593-1ffcae40dd79",
   "metadata": {},
   "outputs": [],
   "source": [
    "import shap"
   ]
  },
  {
   "cell_type": "code",
   "execution_count": null,
   "id": "fdfa1958-ca28-4d23-bf17-4fdb7128accf",
   "metadata": {},
   "outputs": [],
   "source": [
    "onehot_data = eval_data[0].numpy()[0][:,0,:,:]"
   ]
  },
  {
   "cell_type": "code",
   "execution_count": null,
   "id": "dad76410-230a-4b6a-8622-5eb1f5bbaea0",
   "metadata": {},
   "outputs": [],
   "source": [
    "model.input.set_shape((1, 300, 4))\n",
    "\n",
    "model.output['RBFOX2_HepG2_profile'].set_shape([1,300])\n",
    "model.output['RBFOX2_HepG2_profile_control'].set_shape([1,300])\n",
    "model.output['RBFOX2_HepG2_profile_target'].set_shape([1,300])"
   ]
  },
  {
   "cell_type": "code",
   "execution_count": null,
   "id": "19f8a465-0cf9-46f0-bb09-46e9c6c24291",
   "metadata": {},
   "outputs": [],
   "source": [
    "model.output"
   ]
  },
  {
   "cell_type": "code",
   "execution_count": null,
   "id": "6e920660-3145-4d4b-93eb-4bbbddce9404",
   "metadata": {},
   "outputs": [],
   "source": []
  },
  {
   "cell_type": "code",
   "execution_count": null,
   "id": "72c2fa0d-a5e5-4aac-af8a-34d7cb33a7a0",
   "metadata": {},
   "outputs": [],
   "source": [
    "from deeplift.dinuc_shuffle import dinuc_shuffle\n",
    "\n",
    "def shuffle_several_times(s):\n",
    "    s = np.squeeze(s)\n",
    "    return dinuc_shuffle(s, num_shufs=100)"
   ]
  },
  {
   "cell_type": "code",
   "execution_count": null,
   "id": "d9d34024-0d72-456d-93d5-5a4e177a7c5e",
   "metadata": {},
   "outputs": [],
   "source": [
    "%%time\n",
    "\n",
    "seqs_to_explain = onehot_data[[3, 4, 5]] \n",
    "\n",
    "dinuc_shuff_explainer = shap.DeepExplainer(\n",
    "                                          (model.input, model.output), \n",
    "                                           shuffle_several_times\n",
    "                                          )\n"
   ]
  },
  {
   "cell_type": "code",
   "execution_count": null,
   "id": "12e9f692-9526-49d6-a887-cc2013a6507e",
   "metadata": {},
   "outputs": [],
   "source": [
    "seqs_to_explain[0].shape[0]"
   ]
  },
  {
   "cell_type": "code",
   "execution_count": null,
   "id": "14069173-1217-426c-8374-2bbd15ad8944",
   "metadata": {},
   "outputs": [],
   "source": [
    "raw_shap_explanations = dinuc_shuff_explainer.shap_values(\n",
    "                                        seqs_to_explain,\n",
    "                                        check_additivity=False\n",
    "                                        )"
   ]
  },
  {
   "cell_type": "code",
   "execution_count": null,
   "id": "9a2e77d0-8806-48a8-8870-80b609dfc4b8",
   "metadata": {},
   "outputs": [],
   "source": [
    "from deeplift.visualization import viz_sequence\n",
    "\n",
    "# project the importance at each position onto the base that's actually present\n",
    "dinuc_shuff_explanations = np.squeeze(np.sum(raw_shap_explanations, axis=-1)[:, :, None]) * seqs_to_explain\n",
    "\n",
    "\n",
    "\n",
    "for idx, dinuc_shuff_explanation in zip([3, 4, 5], dinuc_shuff_explanations):\n",
    "    print(\"Scores for example\", idx)\n",
    "    \n",
    "    \n",
    "    \n",
    "    # highlight = {\n",
    "    #     \"blue\": [\n",
    "    #         (embedding.startPos, embedding.startPos + len(embedding.what))\n",
    "    #         for embedding in data.embeddings[idx]\n",
    "    #         if \"GATA_disc1\" in embedding.what.getDescription()\n",
    "    #     ],\n",
    "    #     \"green\": [\n",
    "    #         (embedding.startPos, embedding.startPos + len(embedding.what))\n",
    "    #         for embedding in data.embeddings[idx]\n",
    "    #         if \"TAL1_known1\" in embedding.what.getDescription()\n",
    "    #     ],\n",
    "    # }\n",
    "    \n",
    "    \n",
    "    \n",
    "    viz_sequence.plot_weights(dinuc_shuff_explanation,\n",
    "                              subticks_frequency=20,\n",
    "                            #  highlight=highlight\n",
    "                             )"
   ]
  },
  {
   "cell_type": "code",
   "execution_count": null,
   "id": "e4ac3f8c-84b5-44b3-a7e7-a6d9814611d7",
   "metadata": {},
   "outputs": [],
   "source": []
  },
  {
   "cell_type": "code",
   "execution_count": null,
   "id": "ddf44ffe-a7b4-47d2-a1c1-68f778cc417a",
   "metadata": {},
   "outputs": [],
   "source": []
  }
 ],
 "metadata": {
  "kernelspec": {
   "display_name": "Python 3 (ipykernel)",
   "language": "python",
   "name": "python3"
  },
  "language_info": {
   "codemirror_mode": {
    "name": "ipython",
    "version": 3
   },
   "file_extension": ".py",
   "mimetype": "text/x-python",
   "name": "python",
   "nbconvert_exporter": "python",
   "pygments_lexer": "ipython3",
   "version": "3.10.14"
  }
 },
 "nbformat": 4,
 "nbformat_minor": 5
}
