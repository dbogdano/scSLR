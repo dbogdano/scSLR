{
 "cells": [
  {
   "cell_type": "markdown",
   "id": "16d58b35-d55f-4588-84b2-c68c80431289",
   "metadata": {},
   "source": [
    "## ENCODE eCLIP data processing"
   ]
  },
  {
   "cell_type": "code",
   "execution_count": 1,
   "id": "038ebc29-1437-4a9a-8047-ea4e96a1bbf9",
   "metadata": {},
   "outputs": [
    {
     "name": "stdout",
     "output_type": "stream",
     "text": [
      "Mon Dec  4 14:13:43 PST 2023\n"
     ]
    }
   ],
   "source": [
    "!date"
   ]
  },
  {
   "cell_type": "code",
   "execution_count": 2,
   "id": "43532722-97ee-41a6-b697-9d1b8b75d420",
   "metadata": {},
   "outputs": [
    {
     "name": "stdout",
     "output_type": "stream",
     "text": [
      "/c4/home/derek/miniconda3/envs/deepripe\n"
     ]
    }
   ],
   "source": [
    "!echo $CONDA_PREFIX"
   ]
  },
  {
   "cell_type": "code",
   "execution_count": null,
   "id": "c6d1bb9d-151e-4c8d-988c-be0c7594236c",
   "metadata": {},
   "outputs": [],
   "source": []
  },
  {
   "cell_type": "code",
   "execution_count": 3,
   "id": "50ab2259-938c-4bad-b3b3-3397a08bf6d7",
   "metadata": {},
   "outputs": [],
   "source": [
    "import pandas as pd\n",
    "import os\n",
    "import numpy as np\n",
    "import gzip\n",
    "import seaborn as sns"
   ]
  },
  {
   "cell_type": "code",
   "execution_count": 4,
   "id": "5ee2e081-2541-4ce1-ab62-687fff5b9ee1",
   "metadata": {},
   "outputs": [],
   "source": [
    "import pybedtools"
   ]
  },
  {
   "cell_type": "code",
   "execution_count": 5,
   "id": "14cef3bf-20aa-4f4b-8e06-3480fb032347",
   "metadata": {},
   "outputs": [],
   "source": [
    "#!xargs -L 1 curl -O -J -L < files.txt"
   ]
  },
  {
   "cell_type": "code",
   "execution_count": 6,
   "id": "128a4da1-4846-4fe6-8da0-9111afd8ac5b",
   "metadata": {},
   "outputs": [],
   "source": [
    "input_dir = \"/c4/home/derek/data1/derek/reference/clip_data/encode/batch_download/\""
   ]
  },
  {
   "cell_type": "code",
   "execution_count": null,
   "id": "ced67375-9b34-4bd0-9f72-fef902448bdc",
   "metadata": {},
   "outputs": [],
   "source": []
  },
  {
   "cell_type": "code",
   "execution_count": null,
   "id": "bfd0b77a-3519-428d-8813-8cad7ed13694",
   "metadata": {},
   "outputs": [],
   "source": []
  },
  {
   "cell_type": "code",
   "execution_count": null,
   "id": "3a81e36a-756c-44df-93aa-19d39a084d99",
   "metadata": {},
   "outputs": [],
   "source": []
  },
  {
   "cell_type": "code",
   "execution_count": 7,
   "id": "250dce84-bb5a-4f03-8489-61b87366027f",
   "metadata": {},
   "outputs": [],
   "source": [
    "meta = pd.read_csv(input_dir+'metadata.tsv',sep='\\t')\n",
    "meta = meta[meta['Biological replicate(s)'] == '1, 2'].reset_index(drop=True)\n",
    "meta['target'] = meta['Experiment target'].str.split('-').str[0]"
   ]
  },
  {
   "cell_type": "code",
   "execution_count": null,
   "id": "f414f1aa-80c5-4cb9-9241-bca54a3a2ae0",
   "metadata": {},
   "outputs": [],
   "source": []
  },
  {
   "cell_type": "code",
   "execution_count": null,
   "id": "0c95c162-d119-4b2b-8971-51fcc6ffb19c",
   "metadata": {},
   "outputs": [],
   "source": []
  },
  {
   "cell_type": "code",
   "execution_count": 8,
   "id": "83050847-9beb-42fc-84f4-253d430c8ee0",
   "metadata": {},
   "outputs": [
    {
     "name": "stdout",
     "output_type": "stream",
     "text": [
      "CPU times: user 4.52 s, sys: 512 ms, total: 5.03 s\n",
      "Wall time: 5.75 s\n"
     ]
    }
   ],
   "source": [
    "%%time\n",
    "# get number of peaks for each bed file \n",
    "\n",
    "line_nums = {}\n",
    "IDs = {}\n",
    "\n",
    "for acc in meta['File accession'].tolist():\n",
    "    file = acc+'.bed.gz'\n",
    "    with gzip.open(input_dir+file, 'rb') as f:\n",
    "        for i, l in enumerate(f):\n",
    "            pass\n",
    "    #print(\"File {1} contain {0} lines\".format(i + 1, file))\n",
    "    line_nums[acc] = i+1\n",
    "    \n",
    "    ID = pd.read_csv(input_dir+file,sep='\\t',header=None)[3].unique()[0]\n",
    "    IDs[acc] = ID\n",
    "    \n",
    "    \n",
    "    \n",
    "    "
   ]
  },
  {
   "cell_type": "code",
   "execution_count": 9,
   "id": "c6fa44b7-0f30-4aa2-aa91-66dff427d7f9",
   "metadata": {
    "tags": []
   },
   "outputs": [
    {
     "name": "stdout",
     "output_type": "stream",
     "text": [
      "CPU times: user 15.4 s, sys: 466 ms, total: 15.9 s\n",
      "Wall time: 16.8 s\n"
     ]
    }
   ],
   "source": [
    "%%time\n",
    "# replace missing IDs in bed file\n",
    "\n",
    "for acc in meta['File accession'].tolist():\n",
    "    file = acc+'.bed.gz'\n",
    "    \n",
    "    df=pd.read_csv(input_dir+file, sep='\\t',header=None)\n",
    "    \n",
    "    meta_line = meta[meta['File accession'] == acc]\n",
    "    \n",
    "    target = meta_line['target']\n",
    "    \n",
    "    cell_line = meta_line['Biosample term name']\n",
    "    \n",
    "    new_ID = target.astype(str) +'_'+cell_line.astype(str)+'_IDR'\n",
    "    \n",
    "    df[3] = new_ID.values[0]\n",
    "    \n",
    "    with gzip.open(input_dir+file, 'w') as f:\n",
    "        df.to_csv(f, index=False, sep='\\t', header=None)\n",
    "    "
   ]
  },
  {
   "cell_type": "code",
   "execution_count": 10,
   "id": "08d58d37-0012-4b7d-bac7-d65dec875ff0",
   "metadata": {},
   "outputs": [],
   "source": [
    "#update meta \n",
    "meta = pd.read_csv(input_dir+'metadata.tsv',sep='\\t')\n",
    "meta = meta[meta['Biological replicate(s)'] == '1, 2'].reset_index(drop=True)\n",
    "meta['target'] = meta['Experiment target'].str.split('-').str[0]"
   ]
  },
  {
   "cell_type": "code",
   "execution_count": 11,
   "id": "b8b45bbe-1c3c-402b-aad2-9ec7cc43ebf2",
   "metadata": {},
   "outputs": [],
   "source": [
    "meta['n_peaks'] = meta['File accession'].map(line_nums)\n",
    "meta['ID'] = meta['File accession'].map(IDs)"
   ]
  },
  {
   "cell_type": "code",
   "execution_count": 12,
   "id": "ba2b1894-c478-4d98-81f9-8b0f901671d3",
   "metadata": {},
   "outputs": [],
   "source": [
    "##remove uneeded columns\n",
    "meta = meta.drop(['File format', 'File type', 'File format type','Output type', 'File assembly',\n",
    "        'Assay','Donor(s)', 'Biosample term id','Biosample type',\n",
    "        'Biosample organism', 'Biosample treatments',\n",
    "       'Biosample treatments amount', 'Biosample treatments duration',\n",
    "       'Biosample genetic modifications methods',\n",
    "       'Biosample genetic modifications categories',\n",
    "       'Biosample genetic modifications targets',\n",
    "       'Biosample genetic modifications gene targets',\n",
    "       'Biosample genetic modifications site coordinates',\n",
    "       'Biosample genetic modifications zygosity',\n",
    "        'Library made from', 'Library depleted in', 'Library extraction method',\n",
    "       'Library lysis method', 'Library crosslinking method','Project',\n",
    "       'RBNS protein concentration', 'Library fragmentation method',\n",
    "       'Library size range','Read length', 'Mapped read length',\n",
    "       'Run type', 'Paired end', 'Paired with','Index of', 'Derived from',\n",
    "        'Lab', 'md5sum', 'dbxrefs', 'File download URL',\n",
    "       'Genome annotation', 'Platform', 'Controlled by', 'File Status',\n",
    "       's3_uri', 'Azure URL', 'File analysis title', 'File analysis status',\n",
    "          'Audit NOT_COMPLIANT','Audit ERROR'],\n",
    "          axis=1)"
   ]
  },
  {
   "cell_type": "code",
   "execution_count": 15,
   "id": "070c8fb0-46fd-41fc-8784-4364031a52f7",
   "metadata": {},
   "outputs": [
    {
     "data": {
      "text/html": [
       "<div>\n",
       "<style scoped>\n",
       "    .dataframe tbody tr th:only-of-type {\n",
       "        vertical-align: middle;\n",
       "    }\n",
       "\n",
       "    .dataframe tbody tr th {\n",
       "        vertical-align: top;\n",
       "    }\n",
       "\n",
       "    .dataframe thead th {\n",
       "        text-align: right;\n",
       "    }\n",
       "</style>\n",
       "<table border=\"1\" class=\"dataframe\">\n",
       "  <thead>\n",
       "    <tr style=\"text-align: right;\">\n",
       "      <th></th>\n",
       "      <th>File accession</th>\n",
       "      <th>Experiment accession</th>\n",
       "      <th>Biosample term name</th>\n",
       "      <th>Experiment target</th>\n",
       "      <th>Library strand specific</th>\n",
       "      <th>Experiment date released</th>\n",
       "      <th>Biological replicate(s)</th>\n",
       "      <th>Technical replicate(s)</th>\n",
       "      <th>Size</th>\n",
       "      <th>Audit WARNING</th>\n",
       "      <th>target</th>\n",
       "      <th>n_peaks</th>\n",
       "      <th>ID</th>\n",
       "    </tr>\n",
       "  </thead>\n",
       "  <tbody>\n",
       "    <tr>\n",
       "      <th>28</th>\n",
       "      <td>ENCFF771QAU</td>\n",
       "      <td>ENCSR366DGX</td>\n",
       "      <td>HepG2</td>\n",
       "      <td>KHSRP-human</td>\n",
       "      <td>strand-specific</td>\n",
       "      <td>2018-08-30</td>\n",
       "      <td>1, 2</td>\n",
       "      <td>1_1, 2_1</td>\n",
       "      <td>108513</td>\n",
       "      <td>NaN</td>\n",
       "      <td>KHSRP</td>\n",
       "      <td>5301</td>\n",
       "      <td>KHSRP_HepG2_IDR</td>\n",
       "    </tr>\n",
       "    <tr>\n",
       "      <th>165</th>\n",
       "      <td>ENCFF031FMO</td>\n",
       "      <td>ENCSR438GZQ</td>\n",
       "      <td>K562</td>\n",
       "      <td>KHSRP-human</td>\n",
       "      <td>strand-specific</td>\n",
       "      <td>2015-12-16</td>\n",
       "      <td>1, 2</td>\n",
       "      <td>1_1, 2_1</td>\n",
       "      <td>523786</td>\n",
       "      <td>mixed read lengths</td>\n",
       "      <td>KHSRP</td>\n",
       "      <td>23206</td>\n",
       "      <td>KHSRP_K562_IDR</td>\n",
       "    </tr>\n",
       "  </tbody>\n",
       "</table>\n",
       "</div>"
      ],
      "text/plain": [
       "    File accession Experiment accession Biosample term name Experiment target  \\\n",
       "28     ENCFF771QAU          ENCSR366DGX               HepG2       KHSRP-human   \n",
       "165    ENCFF031FMO          ENCSR438GZQ                K562       KHSRP-human   \n",
       "\n",
       "    Library strand specific Experiment date released Biological replicate(s)  \\\n",
       "28          strand-specific               2018-08-30                    1, 2   \n",
       "165         strand-specific               2015-12-16                    1, 2   \n",
       "\n",
       "    Technical replicate(s)    Size       Audit WARNING target  n_peaks  \\\n",
       "28                1_1, 2_1  108513                 NaN  KHSRP     5301   \n",
       "165               1_1, 2_1  523786  mixed read lengths  KHSRP    23206   \n",
       "\n",
       "                  ID  \n",
       "28   KHSRP_HepG2_IDR  \n",
       "165   KHSRP_K562_IDR  "
      ]
     },
     "execution_count": 15,
     "metadata": {},
     "output_type": "execute_result"
    }
   ],
   "source": [
    "meta[meta.target == 'KHSRP']"
   ]
  },
  {
   "cell_type": "code",
   "execution_count": 17,
   "id": "192fe246-0bb4-4a7b-b452-7287ed55c2b8",
   "metadata": {},
   "outputs": [
    {
     "data": {
      "text/html": [
       "<div>\n",
       "<style scoped>\n",
       "    .dataframe tbody tr th:only-of-type {\n",
       "        vertical-align: middle;\n",
       "    }\n",
       "\n",
       "    .dataframe tbody tr th {\n",
       "        vertical-align: top;\n",
       "    }\n",
       "\n",
       "    .dataframe thead th {\n",
       "        text-align: right;\n",
       "    }\n",
       "</style>\n",
       "<table border=\"1\" class=\"dataframe\">\n",
       "  <thead>\n",
       "    <tr style=\"text-align: right;\">\n",
       "      <th></th>\n",
       "      <th>File accession</th>\n",
       "      <th>Experiment accession</th>\n",
       "      <th>Biosample term name</th>\n",
       "      <th>Experiment target</th>\n",
       "      <th>Library strand specific</th>\n",
       "      <th>Experiment date released</th>\n",
       "      <th>Biological replicate(s)</th>\n",
       "      <th>Technical replicate(s)</th>\n",
       "      <th>Size</th>\n",
       "      <th>Audit WARNING</th>\n",
       "      <th>target</th>\n",
       "      <th>n_peaks</th>\n",
       "      <th>ID</th>\n",
       "    </tr>\n",
       "  </thead>\n",
       "  <tbody>\n",
       "    <tr>\n",
       "      <th>0</th>\n",
       "      <td>ENCFF318RSO</td>\n",
       "      <td>ENCSR953ZOA</td>\n",
       "      <td>K562</td>\n",
       "      <td>HNRNPK-human</td>\n",
       "      <td>reverse</td>\n",
       "      <td>2022-07-19</td>\n",
       "      <td>1, 2</td>\n",
       "      <td>1_1, 2_1</td>\n",
       "      <td>110713</td>\n",
       "      <td>NaN</td>\n",
       "      <td>HNRNPK</td>\n",
       "      <td>4919</td>\n",
       "      <td>HNRNPK_K562_IDR</td>\n",
       "    </tr>\n",
       "    <tr>\n",
       "      <th>39</th>\n",
       "      <td>ENCFF918XJQ</td>\n",
       "      <td>ENCSR268ETU</td>\n",
       "      <td>K562</td>\n",
       "      <td>HNRNPK-human</td>\n",
       "      <td>strand-specific</td>\n",
       "      <td>2015-11-09</td>\n",
       "      <td>1, 2</td>\n",
       "      <td>1_1, 2_1</td>\n",
       "      <td>63842</td>\n",
       "      <td>mixed read lengths</td>\n",
       "      <td>HNRNPK</td>\n",
       "      <td>3004</td>\n",
       "      <td>HNRNPK_K562_IDR</td>\n",
       "    </tr>\n",
       "    <tr>\n",
       "      <th>97</th>\n",
       "      <td>ENCFF855CPQ</td>\n",
       "      <td>ENCSR828ZID</td>\n",
       "      <td>HepG2</td>\n",
       "      <td>HNRNPK-human</td>\n",
       "      <td>strand-specific</td>\n",
       "      <td>2015-11-09</td>\n",
       "      <td>1, 2</td>\n",
       "      <td>1_1, 2_1</td>\n",
       "      <td>123250</td>\n",
       "      <td>NaN</td>\n",
       "      <td>HNRNPK</td>\n",
       "      <td>5707</td>\n",
       "      <td>HNRNPK_HepG2_IDR</td>\n",
       "    </tr>\n",
       "  </tbody>\n",
       "</table>\n",
       "</div>"
      ],
      "text/plain": [
       "   File accession Experiment accession Biosample term name Experiment target  \\\n",
       "0     ENCFF318RSO          ENCSR953ZOA                K562      HNRNPK-human   \n",
       "39    ENCFF918XJQ          ENCSR268ETU                K562      HNRNPK-human   \n",
       "97    ENCFF855CPQ          ENCSR828ZID               HepG2      HNRNPK-human   \n",
       "\n",
       "   Library strand specific Experiment date released Biological replicate(s)  \\\n",
       "0                  reverse               2022-07-19                    1, 2   \n",
       "39         strand-specific               2015-11-09                    1, 2   \n",
       "97         strand-specific               2015-11-09                    1, 2   \n",
       "\n",
       "   Technical replicate(s)    Size       Audit WARNING  target  n_peaks  \\\n",
       "0                1_1, 2_1  110713                 NaN  HNRNPK     4919   \n",
       "39               1_1, 2_1   63842  mixed read lengths  HNRNPK     3004   \n",
       "97               1_1, 2_1  123250                 NaN  HNRNPK     5707   \n",
       "\n",
       "                  ID  \n",
       "0    HNRNPK_K562_IDR  \n",
       "39   HNRNPK_K562_IDR  \n",
       "97  HNRNPK_HepG2_IDR  "
      ]
     },
     "execution_count": 17,
     "metadata": {},
     "output_type": "execute_result"
    }
   ],
   "source": [
    "meta[meta.target == 'HNRNPK']"
   ]
  },
  {
   "cell_type": "code",
   "execution_count": null,
   "id": "3b1f3ba9-0f5d-4da9-92fb-b2ec5a335716",
   "metadata": {},
   "outputs": [],
   "source": []
  },
  {
   "cell_type": "code",
   "execution_count": null,
   "id": "d1dfa4e4-c220-4257-9e51-a7d8ec8fa88a",
   "metadata": {},
   "outputs": [],
   "source": []
  },
  {
   "cell_type": "code",
   "execution_count": null,
   "id": "db872add-c30e-4930-b782-59abfd3a783a",
   "metadata": {},
   "outputs": [],
   "source": []
  },
  {
   "cell_type": "code",
   "execution_count": null,
   "id": "8472129b-5591-4ab2-adf1-6cf5499c0401",
   "metadata": {},
   "outputs": [],
   "source": []
  },
  {
   "cell_type": "code",
   "execution_count": 14,
   "id": "00d828f2-07f0-4c38-bcd8-d394930881d9",
   "metadata": {},
   "outputs": [],
   "source": [
    "merge_dict={}\n",
    "\n",
    "for target in meta['target']:\n",
    "    \n",
    "    merge_dict[target] = (input_dir+meta[meta['target'] == target]['File accession'].astype(str)+'.bed.gz').tolist()"
   ]
  },
  {
   "cell_type": "code",
   "execution_count": 15,
   "id": "62d678c5-438e-4ad7-a7ef-230f15bc3581",
   "metadata": {},
   "outputs": [
    {
     "data": {
      "text/plain": [
       "'/c4/home/derek/data1/derek/reference/clip_data/encode/batch_download/'"
      ]
     },
     "execution_count": 15,
     "metadata": {},
     "output_type": "execute_result"
    }
   ],
   "source": [
    "input_dir"
   ]
  },
  {
   "cell_type": "code",
   "execution_count": 16,
   "id": "27b37989-b540-43fe-9513-1b11d755507f",
   "metadata": {},
   "outputs": [
    {
     "name": "stdout",
     "output_type": "stream",
     "text": [
      "CPU times: user 18.4 s, sys: 1.3 s, total: 19.7 s\n",
      "Wall time: 45.7 s\n"
     ]
    }
   ],
   "source": [
    "%%time\n",
    "\n",
    "if not os.path.exists(input_dir+'merged'):\n",
    "    os.mkdir(input_dir+'merged')\n",
    "\n",
    "post_merge_dict = {}\n",
    "\n",
    "for key in merge_dict.keys():\n",
    "    \n",
    "    bedframe = pd.concat([pd.read_csv(i,sep='\\t',header=None) for i in merge_dict[key]])\n",
    "    bedframe[3] = key\n",
    "    \n",
    "    bed = pybedtools.BedTool.from_dataframe(bedframe.iloc[:,:6])\n",
    "    bed = bed.sort().merge(s=True, c=[4,5,6], o=['first'])\n",
    "        \n",
    "    bed.saveas(input_dir+f'merged/{key}.bed.gz')\n",
    "    \n"
   ]
  },
  {
   "cell_type": "code",
   "execution_count": 19,
   "id": "10af626c-91ca-43e4-9d36-e5b8f8448c91",
   "metadata": {},
   "outputs": [
    {
     "name": "stdout",
     "output_type": "stream",
     "text": [
      "CPU times: user 2.16 s, sys: 270 ms, total: 2.43 s\n",
      "Wall time: 2.9 s\n"
     ]
    }
   ],
   "source": [
    "%%time\n",
    "# get number of peaks for each bed file \n",
    "\n",
    "line_nums = {}\n",
    "IDs = {}\n",
    "\n",
    "for file in os.listdir(input_dir+'merged/'):\n",
    "    with gzip.open(input_dir+'merged/'+file, 'rb') as f:\n",
    "        for i, l in enumerate(f):\n",
    "            pass\n",
    "    #print(\"File {1} contain {0} lines\".format(i + 1, file))\n",
    "\n",
    "    ID = pd.read_csv(input_dir+'merged/'+file,sep='\\t',header=None)[3].unique()[0]\n",
    "    line_nums[ID] = i+1"
   ]
  },
  {
   "cell_type": "code",
   "execution_count": 23,
   "id": "0d325793-519e-4c7a-a76a-d229a63d1a8a",
   "metadata": {},
   "outputs": [
    {
     "data": {
      "text/plain": [
       "['HNRNPK', 'HNRNPC', 'HNRNPU', 'HNRNPL', 'HNRNPUL1', 'HNRNPM', 'HNRNPA1']"
      ]
     },
     "execution_count": 23,
     "metadata": {},
     "output_type": "execute_result"
    }
   ],
   "source": [
    "[i for i in line_nums.keys() if i.startswith('HNRN')]"
   ]
  },
  {
   "cell_type": "code",
   "execution_count": 32,
   "id": "cdbae94f-7b6b-4e04-85a0-e74584473159",
   "metadata": {},
   "outputs": [
    {
     "data": {
      "text/plain": [
       "dict_keys(['HNRNPK', 'AQR', 'EXOSC5', 'G3BP1', 'YBX3', 'ELAC2', 'GRWD1', 'PRPF4', 'KHSRP', 'AKAP1', 'UPF1', 'PTBP1', 'TARDBP', 'SRSF1', 'QKI', 'PPIG', 'LIN28B', 'GTF2F1', 'SUGP2', 'SF3B4', 'AGGF1', 'BUD13', 'HNRNPL', 'RBM15', 'RPS3', 'UCHL5', 'U2AF2', 'PCBP2', 'RBFOX2', 'DDX43', 'BCLAF1', 'FXR2', 'MATR3', 'DDX3X', 'EFTUD2', 'IGF2BP1', 'PRPF8', 'TIA1', 'ELAVL1', 'CSTF2T', 'DDX24', 'FAM120A', 'ZNF622', 'HNRNPM', 'ILF3', 'SND1', 'NONO', 'EWSR1'])"
      ]
     },
     "execution_count": 32,
     "metadata": {},
     "output_type": "execute_result"
    }
   ],
   "source": [
    "{k:v for (k,v) in line_nums.items() if v > 5000}.keys()"
   ]
  },
  {
   "cell_type": "code",
   "execution_count": null,
   "id": "b95f8cf0-f768-4eea-8edb-29a9db5db09f",
   "metadata": {},
   "outputs": [],
   "source": []
  },
  {
   "cell_type": "code",
   "execution_count": null,
   "id": "6bce3812-5cc4-47ea-a222-19d34d31af18",
   "metadata": {},
   "outputs": [],
   "source": [
    "##RBPS grouped into 5 groups:\n",
    "## 10000+ peaks\n",
    "## 7000 - 10000 peaks\n",
    "## 4000-7000 peaks\n",
    "## 2000-4000 peaks\n",
    "## 1000-2000 peaks\n"
   ]
  },
  {
   "cell_type": "code",
   "execution_count": 102,
   "id": "73e53130-a325-4dae-b7c7-7483f58f64d4",
   "metadata": {},
   "outputs": [],
   "source": [
    "meta=meta[meta.n_peaks > 1000].reset_index(drop=True)"
   ]
  },
  {
   "cell_type": "code",
   "execution_count": 103,
   "id": "6d80fecf-12e4-49cf-8840-fcc04244c1e5",
   "metadata": {},
   "outputs": [],
   "source": [
    "def n_peak_grouping(row):\n",
    "   if row['n_peaks'] > 10000:\n",
    "      return 'high2'\n",
    "   if (row['n_peaks'] < 10000) & (row['n_peaks'] > 7000):\n",
    "      return 'high1'\n",
    "   if (row['n_peaks'] < 7000) & (row['n_peaks'] > 4000):\n",
    "      return 'mid2'\n",
    "   if (row['n_peaks'] < 4000) & (row['n_peaks'] > 2000):\n",
    "      return 'mid1'\n",
    "   if row['n_peaks'] < 2000:\n",
    "      return 'low'\n",
    "   return 'Other'"
   ]
  },
  {
   "cell_type": "code",
   "execution_count": 104,
   "id": "f7fb6650-baa3-49c4-ac6e-0d8feb948b4f",
   "metadata": {},
   "outputs": [],
   "source": [
    "meta['grouping'] = meta.apply(n_peak_grouping, axis=1)"
   ]
  },
  {
   "cell_type": "code",
   "execution_count": null,
   "id": "f76dad80-be14-42c7-b840-60cf171ef914",
   "metadata": {},
   "outputs": [],
   "source": []
  },
  {
   "cell_type": "code",
   "execution_count": 106,
   "id": "0219d47e-c88f-499f-a5a4-219e9bc903ba",
   "metadata": {},
   "outputs": [],
   "source": [
    "meta_ = meta[['File accession','target','n_peaks','Biosample term name','grouping']]"
   ]
  },
  {
   "cell_type": "code",
   "execution_count": 26,
   "id": "89fa24f9-e345-49e2-8f18-6f781cb15e72",
   "metadata": {},
   "outputs": [],
   "source": [
    "#meta_.to_csv('encode_RBP_groupings.csv')"
   ]
  },
  {
   "cell_type": "code",
   "execution_count": null,
   "id": "348bdb87-fe80-45ef-8349-2684b2782abb",
   "metadata": {},
   "outputs": [],
   "source": []
  },
  {
   "cell_type": "code",
   "execution_count": null,
   "id": "b02c4550-f288-4b3c-890c-b32ffedc8cb3",
   "metadata": {},
   "outputs": [],
   "source": []
  },
  {
   "cell_type": "code",
   "execution_count": 37,
   "id": "4d377585-769b-4cdb-9a26-3844d11add8c",
   "metadata": {},
   "outputs": [
    {
     "name": "stdout",
     "output_type": "stream",
     "text": [
      "# packages in environment at /c4/home/derek/miniconda3/envs/deepripe_2:\n",
      "#\n",
      "# Name                    Version                   Build  Channel\n",
      "_libgcc_mutex             0.1                 conda_forge    conda-forge\n",
      "_openmp_mutex             4.5                       2_gnu    conda-forge\n",
      "absl-py                   1.3.0           py310h06a4308_0    anaconda\n",
      "aiohttp                   3.7.4.post0     py310h7f8727e_2    anaconda\n",
      "alsa-lib                  1.2.9                hd590300_0    conda-forge\n",
      "anyio                     3.5.0           py310h06a4308_0    anaconda\n",
      "appdirs                   1.4.4              pyhd3eb1b0_0    anaconda\n",
      "argon2-cffi               21.3.0             pyhd3eb1b0_0    anaconda\n",
      "argon2-cffi-bindings      21.2.0          py310h7f8727e_0    anaconda\n",
      "asttokens                 2.0.5              pyhd3eb1b0_0    anaconda\n",
      "astunparse                1.6.3                      py_0    anaconda\n",
      "async-timeout             3.0.1                   py_1000    conda-forge\n",
      "attr                      2.5.1                h166bdaf_1    conda-forge\n",
      "attrs                     22.1.0          py310h06a4308_0    anaconda\n",
      "babel                     2.11.0          py310h06a4308_0    anaconda\n",
      "backcall                  0.2.0              pyhd3eb1b0_0    anaconda\n",
      "beautifulsoup4            4.11.1          py310h06a4308_0    anaconda\n",
      "bedtools                  2.31.0               hf5e1c6e_3    bioconda\n",
      "blas                      1.0                    openblas    anaconda\n",
      "bleach                    4.1.0              pyhd3eb1b0_0    anaconda\n",
      "blinker                   1.4             py310h06a4308_0    anaconda\n",
      "boltons                   23.0.0             pyhd8ed1ab_0    conda-forge\n",
      "bottleneck                1.3.5           py310ha9d4c09_0    anaconda\n",
      "brotli                    1.0.9                he6710b0_2    anaconda\n",
      "brotli-python             1.1.0           py310hc6cd4ac_0    conda-forge\n",
      "bzip2                     1.0.8                h7f98852_4    conda-forge\n",
      "c-ares                    1.19.1               hd590300_0    conda-forge\n",
      "ca-certificates           2023.7.22            hbcca054_0    conda-forge\n",
      "cachetools                4.2.2              pyhd3eb1b0_0    anaconda\n",
      "cairo                     1.16.0               hb05425b_3    anaconda\n",
      "certifi                   2023.7.22          pyhd8ed1ab_0    conda-forge\n",
      "cffi                      1.15.1          py310h2fee648_5    conda-forge\n",
      "chardet                   4.0.0           py310h06a4308_1003    anaconda\n",
      "charset-normalizer        3.2.0              pyhd8ed1ab_0    conda-forge\n",
      "click                     8.0.4           py310h06a4308_0    anaconda\n",
      "colorama                  0.4.6              pyhd8ed1ab_0    conda-forge\n",
      "comm                      0.1.2           py310h06a4308_0    anaconda\n",
      "conda                     23.7.4          py310hff52083_0    conda-forge\n",
      "conda-package-handling    2.2.0              pyh38be061_0    conda-forge\n",
      "conda-package-streaming   0.9.0              pyhd8ed1ab_0    conda-forge\n",
      "contourpy                 1.0.5           py310hdb19cb5_0    anaconda\n",
      "cryptography              41.0.4          py310h75e40e8_0    conda-forge\n",
      "cuda-version              11.3                 hbc958af_2    conda-forge\n",
      "cudatoolkit               11.3.1               h2bc3f7f_2    anaconda\n",
      "cudnn                     8.8.0.121            h838ba91_3    conda-forge\n",
      "cycler                    0.11.0             pyhd3eb1b0_0    anaconda\n",
      "dbus                      1.13.18              hb2f20db_0    anaconda\n",
      "debugpy                   1.5.1           py310h295c915_0    anaconda\n",
      "decorator                 5.1.1              pyhd3eb1b0_0    anaconda\n",
      "defusedxml                0.7.1              pyhd3eb1b0_0    anaconda\n",
      "entrypoints               0.4             py310h06a4308_0    anaconda\n",
      "executing                 0.8.3              pyhd3eb1b0_0    anaconda\n",
      "expat                     2.5.0                hcb278e6_1    conda-forge\n",
      "fftw                      3.3.9                h27cfd23_1    anaconda\n",
      "flatbuffers               23.5.26              h59595ed_1    conda-forge\n",
      "flit-core                 3.6.0              pyhd3eb1b0_0    anaconda\n",
      "fmt                       10.1.1               h00ab1b0_0    conda-forge\n",
      "font-ttf-dejavu-sans-mono 2.37                 hd3eb1b0_0    anaconda\n",
      "font-ttf-inconsolata      2.001                hcb22688_0    anaconda\n",
      "font-ttf-source-code-pro  2.030                hd3eb1b0_0    anaconda\n",
      "font-ttf-ubuntu           0.83                 h8b1ccd4_0    anaconda\n",
      "fontconfig                2.14.2               h14ed4e7_0    conda-forge\n",
      "fonts-anaconda            1                    h8fa9717_0    anaconda\n",
      "fonts-conda-ecosystem     1                    hd3eb1b0_0    anaconda\n",
      "fonttools                 4.25.0             pyhd3eb1b0_0    anaconda\n",
      "freetype                  2.12.1               h4a9f257_0    anaconda\n",
      "gast                      0.4.0              pyhd3eb1b0_0    anaconda\n",
      "gettext                   0.21.1               h27087fc_0    conda-forge\n",
      "giflib                    5.2.1                h5eee18b_1    anaconda\n",
      "glib                      2.78.0               hfc55251_0    conda-forge\n",
      "glib-tools                2.78.0               hfc55251_0    conda-forge\n",
      "google-auth               2.6.0              pyhd3eb1b0_0    anaconda\n",
      "google-auth-oauthlib      0.5.2           py310h06a4308_0    anaconda\n",
      "google-pasta              0.2.0              pyhd3eb1b0_0    anaconda\n",
      "graphite2                 1.3.14               h295c915_1    anaconda\n",
      "grpcio                    1.54.3          py310heca2aa9_0    conda-forge\n",
      "gst-plugins-base          1.22.5               hf7dbed1_0    conda-forge\n",
      "gstreamer                 1.22.5               h98fc4e7_0    conda-forge\n",
      "h5py                      3.7.0           py310he06866b_0    anaconda\n",
      "harfbuzz                  7.3.0                hdb3a94d_0    conda-forge\n",
      "hdf5                      1.10.6               h3ffc7dd_1    anaconda\n",
      "icu                       72.1                 hcb278e6_0    conda-forge\n",
      "idna                      3.4                pyhd8ed1ab_0    conda-forge\n",
      "ipykernel                 6.19.2          py310h2f386ee_0    anaconda\n",
      "ipython                   8.8.0           py310h06a4308_0    anaconda\n",
      "ipython_genutils          0.2.0              pyhd3eb1b0_1    anaconda\n",
      "ipywidgets                7.6.5              pyhd3eb1b0_1    anaconda\n",
      "jax                       0.3.25          py310h06a4308_0    anaconda\n",
      "jaxlib                    0.3.25          py310h6a678d5_1    anaconda\n",
      "jedi                      0.18.1          py310h06a4308_1    anaconda\n",
      "jinja2                    3.1.2           py310h06a4308_0    anaconda\n",
      "joblib                    1.1.1           py310h06a4308_0    anaconda\n",
      "json5                     0.9.6              pyhd3eb1b0_0    anaconda\n",
      "jsonpatch                 1.33               pyhd8ed1ab_0    conda-forge\n",
      "jsonpointer               2.4             py310hff52083_3    conda-forge\n",
      "jsonschema                4.16.0          py310h06a4308_0    anaconda\n",
      "jupyter                   1.0.0           py310h06a4308_8    anaconda\n",
      "jupyter-resource-usage    0.7.1              pyhd8ed1ab_0    conda-forge\n",
      "jupyter_client            7.4.8           py310h06a4308_0    anaconda\n",
      "jupyter_console           6.4.4           py310h06a4308_0    anaconda\n",
      "jupyter_core              5.1.1           py310h06a4308_0    anaconda\n",
      "jupyter_server            1.23.4          py310h06a4308_0    anaconda\n",
      "jupyterlab                3.5.3           py310h06a4308_0    anaconda\n",
      "jupyterlab_pygments       0.1.2                      py_0    anaconda\n",
      "jupyterlab_server         2.16.5          py310h06a4308_0    anaconda\n",
      "jupyterlab_widgets        1.0.0              pyhd3eb1b0_1    anaconda\n",
      "keras                     2.12.0             pyhd8ed1ab_0    conda-forge\n",
      "keras-preprocessing       1.1.2              pyhd3eb1b0_0    anaconda\n",
      "keyutils                  1.6.1                h166bdaf_0    conda-forge\n",
      "kiwisolver                1.4.4           py310h6a678d5_0    anaconda\n",
      "krb5                      1.21.2               h659d440_0    conda-forge\n",
      "lame                      3.100                h7b6447c_0    anaconda\n",
      "lcms2                     2.15                 h7f713cb_2    conda-forge\n",
      "ld_impl_linux-64          2.40                 h41732ed_0    conda-forge\n",
      "lerc                      4.0.0                h27087fc_0    conda-forge\n",
      "libabseil                 20230125.3      cxx17_h59595ed_0    conda-forge\n",
      "libarchive                3.6.2                h039dbb9_1    conda-forge\n",
      "libcap                    2.69                 h0f662aa_0    conda-forge\n",
      "libclang                  15.0.7          default_h7634d5b_3    conda-forge\n",
      "libclang13                15.0.7          default_h9986a30_3    conda-forge\n",
      "libcups                   2.3.3                h4637d8d_4    conda-forge\n",
      "libcurl                   8.3.0                hca28451_0    conda-forge\n",
      "libdeflate                1.18                 h0b41bf4_0    conda-forge\n",
      "libedit                   3.1.20191231         he28a2e2_2    conda-forge\n",
      "libev                     4.33                 h516909a_1    conda-forge\n",
      "libevent                  2.1.12               hf998b51_1    conda-forge\n",
      "libexpat                  2.5.0                hcb278e6_1    conda-forge\n",
      "libffi                    3.4.2                h7f98852_5    conda-forge\n",
      "libflac                   1.4.3                h59595ed_0    conda-forge\n",
      "libgcc-ng                 13.2.0               h807b86a_2    conda-forge\n",
      "libgcrypt                 1.10.1               h166bdaf_0    conda-forge\n",
      "libgfortran-ng            11.2.0               h00389a5_1    anaconda\n",
      "libgfortran5              11.2.0               h1234567_1    anaconda\n",
      "libglib                   2.78.0               hebfc3b9_0    conda-forge\n",
      "libgomp                   13.2.0               h807b86a_2    conda-forge\n",
      "libgpg-error              1.47                 h71f35ed_0    conda-forge\n",
      "libgrpc                   1.54.3               hb20ce57_0    conda-forge\n",
      "libiconv                  1.17                 h166bdaf_0    conda-forge\n",
      "libjpeg-turbo             2.1.5.1              hd590300_1    conda-forge\n",
      "libllvm15                 15.0.7               h5cf9203_3    conda-forge\n",
      "libmamba                  1.5.1                h744094f_0    conda-forge\n",
      "libmambapy                1.5.1           py310h39ff949_0    conda-forge\n",
      "libnghttp2                1.52.0               h61bc06f_0    conda-forge\n",
      "libnsl                    2.0.0                hd590300_1    conda-forge\n",
      "libogg                    1.3.5                h27cfd23_1    anaconda\n",
      "libopenblas               0.3.21               h043d6bf_0    anaconda\n",
      "libopus                   1.3.1                h7b6447c_0    anaconda\n",
      "libpng                    1.6.39               h753d276_0    conda-forge\n",
      "libpq                     15.4                 hfc447b1_1    conda-forge\n",
      "libprotobuf               3.21.12              hfc55251_2    conda-forge\n",
      "libsndfile                1.2.2                hc60ed4a_1    conda-forge\n",
      "libsodium                 1.0.18               h7b6447c_0    anaconda\n",
      "libsolv                   0.7.24               hfc55251_4    conda-forge\n",
      "libsqlite                 3.43.0               h2797004_0    conda-forge\n",
      "libssh2                   1.11.0               h0841786_0    conda-forge\n",
      "libstdcxx-ng              13.2.0               h7e041cc_2    conda-forge\n",
      "libsystemd0               254                  h3516f8a_0    conda-forge\n",
      "libtiff                   4.6.0                h8b53f26_0    conda-forge\n",
      "libuuid                   2.38.1               h0b41bf4_0    conda-forge\n",
      "libvorbis                 1.3.7                h7b6447c_0    anaconda\n",
      "libwebp-base              1.3.2                hd590300_0    conda-forge\n",
      "libxcb                    1.15                 h7f8727e_0    anaconda\n",
      "libxkbcommon              1.5.0                h5d7e998_3    conda-forge\n",
      "libxml2                   2.11.5               h0d562d8_0    conda-forge\n",
      "libxslt                   1.1.37               h0054252_1    conda-forge\n",
      "libzlib                   1.2.13               hd590300_5    conda-forge\n",
      "lxml                      4.9.3           py310h9b7343a_1    conda-forge\n",
      "lz4-c                     1.9.4                hcb278e6_0    conda-forge\n",
      "lzo                       2.10              h516909a_1000    conda-forge\n",
      "mamba                     1.5.1           py310h51d5547_0    conda-forge\n",
      "markdown                  3.4.1           py310h06a4308_0    anaconda\n",
      "markupsafe                2.1.1           py310h7f8727e_0    anaconda\n",
      "matplotlib-base           3.6.2           py310h945d387_0    anaconda\n",
      "matplotlib-inline         0.1.6           py310h06a4308_0    anaconda\n",
      "mistune                   0.8.4           py310h7f8727e_1000    anaconda\n",
      "mpg123                    1.32.2               h59595ed_0    conda-forge\n",
      "multidict                 6.0.2           py310h5eee18b_0    anaconda\n",
      "munkres                   1.1.4                      py_0    anaconda\n",
      "mysql-common              8.0.33               hf1915f5_4    conda-forge\n",
      "mysql-libs                8.0.33               hca2cd23_4    conda-forge\n",
      "nbclassic                 0.4.8           py310h06a4308_0    anaconda\n",
      "nbclient                  0.5.13          py310h06a4308_0    anaconda\n",
      "nbconvert                 6.5.4           py310h06a4308_0    anaconda\n",
      "nbformat                  5.7.0           py310h06a4308_0    anaconda\n",
      "nccl                      2.18.5.1             h0800d71_1    conda-forge\n",
      "ncurses                   6.4                  hcb278e6_0    conda-forge\n",
      "nest-asyncio              1.5.6           py310h06a4308_0    anaconda\n",
      "notebook                  6.5.2           py310h06a4308_0    anaconda\n",
      "notebook-shim             0.2.2           py310h06a4308_0    anaconda\n",
      "nspr                      4.35                 h27087fc_0    conda-forge\n",
      "nss                       3.92                 h1d7d5a4_0    conda-forge\n",
      "numexpr                   2.8.4           py310h757a811_0    anaconda\n",
      "numpy                     1.23.5          py310hac523dd_0    anaconda\n",
      "numpy-base                1.23.5          py310h375b286_0    anaconda\n",
      "oauthlib                  3.2.1           py310h06a4308_0    anaconda\n",
      "openjpeg                  2.5.0                h488ebb8_3    conda-forge\n",
      "openssl                   3.1.3                hd590300_0    conda-forge\n",
      "opt_einsum                3.3.0              pyhd3eb1b0_1    anaconda\n",
      "packaging                 23.1               pyhd8ed1ab_0    conda-forge\n",
      "pandas                    1.5.2           py310h1128e8f_0    anaconda\n",
      "pandocfilters             1.5.0              pyhd3eb1b0_0    anaconda\n",
      "parso                     0.8.3              pyhd3eb1b0_0    anaconda\n",
      "pcre2                     10.40                hc3806b6_0    conda-forge\n",
      "pexpect                   4.8.0              pyhd3eb1b0_3    anaconda\n",
      "pickleshare               0.7.5           pyhd3eb1b0_1003    anaconda\n",
      "pillow                    10.0.1          py310h29da1c1_1    conda-forge\n",
      "pip                       23.2.1             pyhd8ed1ab_0    conda-forge\n",
      "pixman                    0.40.0               h7f8727e_1    anaconda\n",
      "platformdirs              2.5.2           py310h06a4308_0    anaconda\n",
      "pluggy                    1.3.0              pyhd8ed1ab_0    conda-forge\n",
      "ply                       3.11            py310h06a4308_0    anaconda\n",
      "pooch                     1.4.0              pyhd3eb1b0_0    anaconda\n",
      "prometheus_client         0.14.1          py310h06a4308_0    anaconda\n",
      "prompt-toolkit            3.0.20             pyhd3eb1b0_0    anaconda\n",
      "prompt_toolkit            3.0.20               hd3eb1b0_0    anaconda\n",
      "protobuf                  4.21.12         py310heca2aa9_0    conda-forge\n",
      "psutil                    5.9.0           py310h5eee18b_0    anaconda\n",
      "ptyprocess                0.7.0              pyhd3eb1b0_2    anaconda\n",
      "pulseaudio-client         16.1                 hb77b528_5    conda-forge\n",
      "pure_eval                 0.2.2              pyhd3eb1b0_0    anaconda\n",
      "pyasn1                    0.4.8              pyhd3eb1b0_0    anaconda\n",
      "pyasn1-modules            0.2.8                      py_0    anaconda\n",
      "pybedtools                0.9.1           py310h2b6aa90_0    bioconda\n",
      "pybigwig                  0.3.22          py310h79000e5_1    bioconda\n",
      "pybind11-abi              4                    hd8ed1ab_3    conda-forge\n",
      "pycosat                   0.6.4           py310h2372a71_2    conda-forge\n",
      "pycparser                 2.21               pyhd8ed1ab_0    conda-forge\n",
      "pygments                  2.11.2             pyhd3eb1b0_0    anaconda\n",
      "pyjwt                     2.4.0           py310h06a4308_0    anaconda\n",
      "pyopenssl                 23.2.0             pyhd8ed1ab_1    conda-forge\n",
      "pyparsing                 3.0.9           py310h06a4308_0    anaconda\n",
      "pyqt                      5.15.9          py310h04931ad_5    conda-forge\n",
      "pyqt5-sip                 12.12.2         py310hc6cd4ac_5    conda-forge\n",
      "pyrsistent                0.18.0          py310h7f8727e_0    anaconda\n",
      "pysam                     0.21.0          py310h41dec4a_1    bioconda\n",
      "pysocks                   1.7.1              pyha2e5f31_6    conda-forge\n",
      "python                    3.10.12         hd12c33a_0_cpython    conda-forge\n",
      "python-dateutil           2.8.2              pyhd3eb1b0_0    anaconda\n",
      "python-fastjsonschema     2.16.2          py310h06a4308_0    anaconda\n",
      "python-flatbuffers        2.0                pyhd3eb1b0_0    anaconda\n",
      "python_abi                3.10                    4_cp310    conda-forge\n",
      "pytz                      2022.7          py310h06a4308_0    anaconda\n",
      "pyzmq                     23.2.0          py310h6a678d5_0    anaconda\n",
      "qt-main                   5.15.8              h7fe3ca9_15    conda-forge\n",
      "qtconsole                 5.4.0           py310h06a4308_0    anaconda\n",
      "qtpy                      2.2.0           py310h06a4308_0    anaconda\n",
      "re2                       2023.03.02           h8c504da_0    conda-forge\n",
      "readline                  8.2                  h8228510_1    conda-forge\n",
      "reproc                    14.2.4               h0b41bf4_0    conda-forge\n",
      "reproc-cpp                14.2.4               hcb278e6_0    conda-forge\n",
      "requests                  2.31.0             pyhd8ed1ab_0    conda-forge\n",
      "requests-oauthlib         1.3.0                      py_0    anaconda\n",
      "rsa                       4.7.2              pyhd3eb1b0_1    anaconda\n",
      "ruamel.yaml               0.17.33         py310h2372a71_0    conda-forge\n",
      "ruamel.yaml.clib          0.2.7           py310h1fa729e_1    conda-forge\n",
      "scikit-learn              1.2.0           py310h6a678d5_1    anaconda\n",
      "scipy                     1.9.3           py310heeff2f4_0    anaconda\n",
      "seaborn                   0.12.2          py310h06a4308_0    anaconda\n",
      "send2trash                1.8.0              pyhd3eb1b0_1    anaconda\n",
      "setuptools                68.2.2             pyhd8ed1ab_0    conda-forge\n",
      "sip                       6.7.11          py310hc6cd4ac_1    conda-forge\n",
      "six                       1.16.0             pyhd3eb1b0_1    anaconda\n",
      "snappy                    1.1.10               h9fff704_0    conda-forge\n",
      "sniffio                   1.2.0           py310h06a4308_1    anaconda\n",
      "soupsieve                 2.3.2.post1     py310h06a4308_0    anaconda\n",
      "stack_data                0.2.0              pyhd3eb1b0_0    anaconda\n",
      "tensorboard               2.12.3             pyhd8ed1ab_0    conda-forge\n",
      "tensorboard-data-server   0.7.0           py310h75e40e8_1    conda-forge\n",
      "tensorflow                2.12.1          cuda112py310h457873b_0    conda-forge\n",
      "tensorflow-base           2.12.1          cuda112py310h622e808_0    conda-forge\n",
      "tensorflow-estimator      2.12.1          cuda112py310ha5e6de5_0    conda-forge\n",
      "tensorflow-gpu            2.12.1          cuda112py310h0bbbad9_0    conda-forge\n",
      "tensorflow-hub            0.14.0             pyha3310fb_0    conda-forge\n",
      "termcolor                 2.1.0           py310h06a4308_0    anaconda\n",
      "terminado                 0.17.1          py310h06a4308_0    anaconda\n",
      "threadpoolctl             2.2.0              pyh0d69192_0    anaconda\n",
      "tinycss2                  1.2.1           py310h06a4308_0    anaconda\n",
      "tk                        8.6.13               h2797004_0    conda-forge\n",
      "toml                      0.10.2             pyhd3eb1b0_0    anaconda\n",
      "tomli                     2.0.1           py310h06a4308_0    anaconda\n",
      "toolz                     0.12.0             pyhd8ed1ab_0    conda-forge\n",
      "tornado                   6.2             py310h5eee18b_0    anaconda\n",
      "tqdm                      4.66.1             pyhd8ed1ab_0    conda-forge\n",
      "traitlets                 5.7.1           py310h06a4308_0    anaconda\n",
      "typing-extensions         4.4.0           py310h06a4308_0    anaconda\n",
      "typing_extensions         4.4.0           py310h06a4308_0    anaconda\n",
      "tzdata                    2023c                h71feb2d_0    conda-forge\n",
      "urllib3                   2.0.5              pyhd8ed1ab_0    conda-forge\n",
      "wcwidth                   0.2.5              pyhd3eb1b0_0    anaconda\n",
      "webencodings              0.5.1           py310h06a4308_1    anaconda\n",
      "websocket-client          0.58.0          py310h06a4308_4    anaconda\n",
      "werkzeug                  2.2.2           py310h06a4308_0    anaconda\n",
      "wheel                     0.41.2             pyhd8ed1ab_0    conda-forge\n",
      "widgetsnbextension        3.5.2           py310h06a4308_0    anaconda\n",
      "wrapt                     1.14.1          py310h5eee18b_0    anaconda\n",
      "xcb-util                  0.4.0                hd590300_1    conda-forge\n",
      "xcb-util-image            0.4.0                h8ee46fc_1    conda-forge\n",
      "xcb-util-keysyms          0.4.0                h8ee46fc_1    conda-forge\n",
      "xcb-util-renderutil       0.3.9                hd590300_1    conda-forge\n",
      "xcb-util-wm               0.4.1                h8ee46fc_1    conda-forge\n",
      "xkeyboard-config          2.39                 hd590300_0    conda-forge\n",
      "xorg-kbproto              1.0.7             h7f98852_1002    conda-forge\n",
      "xorg-libice               1.1.1                hd590300_0    conda-forge\n",
      "xorg-libsm                1.2.4                h7391055_0    conda-forge\n",
      "xorg-libx11               1.8.6                h8ee46fc_0    conda-forge\n",
      "xorg-libxau               1.0.11               hd590300_0    conda-forge\n",
      "xorg-libxext              1.3.4                h0b41bf4_2    conda-forge\n",
      "xorg-libxrender           0.9.11               hd590300_0    conda-forge\n",
      "xorg-renderproto          0.11.1            h7f98852_1002    conda-forge\n",
      "xorg-xextproto            7.3.0             h0b41bf4_1003    conda-forge\n",
      "xorg-xf86vidmodeproto     2.3.1             h7f98852_1002    conda-forge\n",
      "xorg-xproto               7.0.31            h27cfd23_1007    anaconda\n",
      "xz                        5.2.6                h166bdaf_0    conda-forge\n",
      "yaml-cpp                  0.7.0                h59595ed_3    conda-forge\n",
      "yarl                      1.8.1           py310h5eee18b_0    anaconda\n",
      "zeromq                    4.3.4                h2531618_0    anaconda\n",
      "zlib                      1.2.13               hd590300_5    conda-forge\n",
      "zstandard                 0.21.0          py310h1275a96_1    conda-forge\n",
      "zstd                      1.5.5                hfc55251_0    conda-forge\n"
     ]
    }
   ],
   "source": [
    "!conda list"
   ]
  },
  {
   "cell_type": "code",
   "execution_count": null,
   "id": "7eebf399-eb27-458c-9058-61e00ae7e0d8",
   "metadata": {},
   "outputs": [],
   "source": []
  }
 ],
 "metadata": {
  "kernelspec": {
   "display_name": "Python 3 (ipykernel)",
   "language": "python",
   "name": "python3"
  },
  "language_info": {
   "codemirror_mode": {
    "name": "ipython",
    "version": 3
   },
   "file_extension": ".py",
   "mimetype": "text/x-python",
   "name": "python",
   "nbconvert_exporter": "python",
   "pygments_lexer": "ipython3",
   "version": "3.11.6"
  }
 },
 "nbformat": 4,
 "nbformat_minor": 5
}
