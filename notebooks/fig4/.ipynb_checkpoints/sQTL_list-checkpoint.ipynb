{
 "cells": [
  {
   "cell_type": "code",
   "execution_count": 2,
   "id": "cd1ae2c3-3e96-434c-8630-327e6c52c17c",
   "metadata": {},
   "outputs": [
    {
     "name": "stdout",
     "output_type": "stream",
     "text": [
      "Wed Feb  1 01:57:26 PST 2023\n"
     ]
    }
   ],
   "source": [
    "!date"
   ]
  },
  {
   "cell_type": "code",
   "execution_count": 3,
   "id": "d7f4f185-50d5-4848-b6ee-bbdf00f2d361",
   "metadata": {},
   "outputs": [
    {
     "name": "stdout",
     "output_type": "stream",
     "text": [
      "/c4/home/derek/miniconda3/envs/scquint_3\n"
     ]
    }
   ],
   "source": [
    "!echo $CONDA_PREFIX"
   ]
  },
  {
   "cell_type": "code",
   "execution_count": 4,
   "id": "86db3ce9-dbda-4407-a71e-796d911e6ca6",
   "metadata": {},
   "outputs": [],
   "source": [
    "import pandas as pd\n",
    "import sys"
   ]
  },
  {
   "cell_type": "code",
   "execution_count": null,
   "id": "1cd8d2d9-fa69-4186-a0c4-f6872a8e4f1e",
   "metadata": {},
   "outputs": [],
   "source": []
  },
  {
   "cell_type": "code",
   "execution_count": null,
   "id": "247fbe56-1a39-4f81-a8a1-573c1fd72cc5",
   "metadata": {
    "tags": []
   },
   "outputs": [],
   "source": []
  },
  {
   "cell_type": "code",
   "execution_count": null,
   "id": "331b6200-d455-4c35-890b-08ba369bb022",
   "metadata": {},
   "outputs": [],
   "source": []
  },
  {
   "cell_type": "code",
   "execution_count": 13,
   "id": "42c4b4af-e137-44cc-90c4-0134cea93f6d",
   "metadata": {},
   "outputs": [],
   "source": [
    "sQTL = pd.read_csv('/c4/home/derek/data1/derek/data_scSLR/prenatal_brain/ncomms14519-s2.csv',\n",
    "            header=1,\n",
    "           index_col=0)[:-1]"
   ]
  },
  {
   "cell_type": "code",
   "execution_count": 20,
   "id": "7e2f3c77-578b-4a7a-8669-a0a911c6563b",
   "metadata": {},
   "outputs": [
    {
     "data": {
      "text/html": [
       "<div>\n",
       "<style scoped>\n",
       "    .dataframe tbody tr th:only-of-type {\n",
       "        vertical-align: middle;\n",
       "    }\n",
       "\n",
       "    .dataframe tbody tr th {\n",
       "        vertical-align: top;\n",
       "    }\n",
       "\n",
       "    .dataframe thead th {\n",
       "        text-align: right;\n",
       "    }\n",
       "</style>\n",
       "<table border=\"1\" class=\"dataframe\">\n",
       "  <thead>\n",
       "    <tr style=\"text-align: right;\">\n",
       "      <th></th>\n",
       "      <th>sQTL SNP_ID</th>\n",
       "      <th>Alternative_IDa</th>\n",
       "      <th>Double-corrected_P</th>\n",
       "      <th>FDR_corrected_P</th>\n",
       "      <th>SNP_position(hg19)</th>\n",
       "      <th>Ref</th>\n",
       "      <th>Alt(all_observed_alleles)</th>\n",
       "      <th>Function</th>\n",
       "      <th>Associated_AS_IDb</th>\n",
       "      <th>AS_type</th>\n",
       "      <th>AS_position(hg19)c</th>\n",
       "      <th>Gene</th>\n",
       "    </tr>\n",
       "    <tr>\n",
       "      <th>Rank</th>\n",
       "      <th></th>\n",
       "      <th></th>\n",
       "      <th></th>\n",
       "      <th></th>\n",
       "      <th></th>\n",
       "      <th></th>\n",
       "      <th></th>\n",
       "      <th></th>\n",
       "      <th></th>\n",
       "      <th></th>\n",
       "      <th></th>\n",
       "      <th></th>\n",
       "    </tr>\n",
       "  </thead>\n",
       "  <tbody>\n",
       "    <tr>\n",
       "      <th>1</th>\n",
       "      <td>rs7724759</td>\n",
       "      <td>NaN</td>\n",
       "      <td>8.950000e-135</td>\n",
       "      <td>1.630000e-136</td>\n",
       "      <td>chr5:96076487</td>\n",
       "      <td>G</td>\n",
       "      <td>A</td>\n",
       "      <td>splice_region_variant&amp;synonymous_variant</td>\n",
       "      <td>HsaEX0012625</td>\n",
       "      <td>Alternative exon skipping</td>\n",
       "      <td>chr5:96076449-96076487</td>\n",
       "      <td>CAST</td>\n",
       "    </tr>\n",
       "    <tr>\n",
       "      <th>2</th>\n",
       "      <td>rs508386</td>\n",
       "      <td>NaN</td>\n",
       "      <td>8.310000e-104</td>\n",
       "      <td>1.660000e-104</td>\n",
       "      <td>chr8:102899450</td>\n",
       "      <td>T</td>\n",
       "      <td>C</td>\n",
       "      <td>5_prime_UTR_variant</td>\n",
       "      <td>HsaEX0041904</td>\n",
       "      <td>Alternative exon skipping</td>\n",
       "      <td>chr8:102899369-102899455</td>\n",
       "      <td>NCALD</td>\n",
       "    </tr>\n",
       "    <tr>\n",
       "      <th>3</th>\n",
       "      <td>rs13422340</td>\n",
       "      <td>NaN</td>\n",
       "      <td>2.180000e-101</td>\n",
       "      <td>4.940000e-103</td>\n",
       "      <td>chr2:170457994</td>\n",
       "      <td>A</td>\n",
       "      <td>G</td>\n",
       "      <td>intron_variant</td>\n",
       "      <td>HsaALTD0004977</td>\n",
       "      <td>Alternative usage of splice sites at the donor...</td>\n",
       "      <td>chr2:170441000+170441007</td>\n",
       "      <td>PPIG</td>\n",
       "    </tr>\n",
       "    <tr>\n",
       "      <th>4</th>\n",
       "      <td>rs2276611</td>\n",
       "      <td>NaN</td>\n",
       "      <td>2.720000e-101</td>\n",
       "      <td>4.940000e-103</td>\n",
       "      <td>chr2:170441001</td>\n",
       "      <td>G</td>\n",
       "      <td>A</td>\n",
       "      <td>splice_donor_variant&amp;intron_variant</td>\n",
       "      <td>HsaALTD0004977</td>\n",
       "      <td>Alternative usage of splice sites at the donor...</td>\n",
       "      <td>chr2:170441000+170441007</td>\n",
       "      <td>PPIG</td>\n",
       "    </tr>\n",
       "    <tr>\n",
       "      <th>5</th>\n",
       "      <td>rs10465799</td>\n",
       "      <td>NaN</td>\n",
       "      <td>4.420000e-100</td>\n",
       "      <td>8.830000e-101</td>\n",
       "      <td>chr1:39518006</td>\n",
       "      <td>G</td>\n",
       "      <td>A</td>\n",
       "      <td>intergenic_region</td>\n",
       "      <td>HsaALTD0004255</td>\n",
       "      <td>Alternative usage of splice sites at the donor...</td>\n",
       "      <td>chr1:39492070+39492074</td>\n",
       "      <td>NDUFS5</td>\n",
       "    </tr>\n",
       "  </tbody>\n",
       "</table>\n",
       "</div>"
      ],
      "text/plain": [
       "     sQTL SNP_ID Alternative_IDa  Double-corrected_P  FDR_corrected_P  \\\n",
       "Rank                                                                    \n",
       "1      rs7724759             NaN       8.950000e-135    1.630000e-136   \n",
       "2       rs508386             NaN       8.310000e-104    1.660000e-104   \n",
       "3     rs13422340             NaN       2.180000e-101    4.940000e-103   \n",
       "4      rs2276611             NaN       2.720000e-101    4.940000e-103   \n",
       "5     rs10465799             NaN       4.420000e-100    8.830000e-101   \n",
       "\n",
       "     SNP_position(hg19) Ref Alt(all_observed_alleles)  \\\n",
       "Rank                                                    \n",
       "1         chr5:96076487   G                         A   \n",
       "2        chr8:102899450   T                         C   \n",
       "3        chr2:170457994   A                         G   \n",
       "4        chr2:170441001   G                         A   \n",
       "5         chr1:39518006   G                         A   \n",
       "\n",
       "                                      Function Associated_AS_IDb  \\\n",
       "Rank                                                               \n",
       "1     splice_region_variant&synonymous_variant      HsaEX0012625   \n",
       "2                          5_prime_UTR_variant      HsaEX0041904   \n",
       "3                               intron_variant    HsaALTD0004977   \n",
       "4          splice_donor_variant&intron_variant    HsaALTD0004977   \n",
       "5                            intergenic_region    HsaALTD0004255   \n",
       "\n",
       "                                                AS_type  \\\n",
       "Rank                                                      \n",
       "1                             Alternative exon skipping   \n",
       "2                             Alternative exon skipping   \n",
       "3     Alternative usage of splice sites at the donor...   \n",
       "4     Alternative usage of splice sites at the donor...   \n",
       "5     Alternative usage of splice sites at the donor...   \n",
       "\n",
       "            AS_position(hg19)c    Gene  \n",
       "Rank                                    \n",
       "1       chr5:96076449-96076487    CAST  \n",
       "2     chr8:102899369-102899455   NCALD  \n",
       "3     chr2:170441000+170441007    PPIG  \n",
       "4     chr2:170441000+170441007    PPIG  \n",
       "5       chr1:39492070+39492074  NDUFS5  "
      ]
     },
     "execution_count": 20,
     "metadata": {},
     "output_type": "execute_result"
    }
   ],
   "source": [
    "sQTL.head()"
   ]
  },
  {
   "cell_type": "code",
   "execution_count": 17,
   "id": "3dcaabce-0e85-46fc-bbb0-642d7c4ada02",
   "metadata": {},
   "outputs": [],
   "source": [
    "introns = pd.read_csv('/c4/home/derek/data1/derek/data_scSLR/prenatal_brain/diff_introns.csv',\n",
    "           index_col=0)"
   ]
  },
  {
   "cell_type": "code",
   "execution_count": 23,
   "id": "186fe4fe-74c2-44cb-a36d-0ad1c1888426",
   "metadata": {},
   "outputs": [
    {
     "data": {
      "text/plain": [
       "False    15718\n",
       "True      3324\n",
       "Name: gene_name, dtype: int64"
      ]
     },
     "execution_count": 23,
     "metadata": {},
     "output_type": "execute_result"
    }
   ],
   "source": [
    "introns.gene_name.isin(sQTL.Gene).value_counts()"
   ]
  },
  {
   "cell_type": "code",
   "execution_count": 30,
   "id": "94d13945-7389-4a35-8001-561c6dbfcbfe",
   "metadata": {},
   "outputs": [
    {
     "data": {
      "text/plain": [
       "array(['CAST', 'NCALD', 'PPIG', 'NDUFS5', 'APIP', 'NDUFB2', 'SAT2',\n",
       "       'ACSL3', 'KIAA1841', 'ARL16', 'CCDC7', 'DST', 'KHDRBS3', 'MRAS',\n",
       "       'PAK1', 'CUTA', 'AHI1', 'ODF2L', 'COX16', 'WSB1', 'MARCH1',\n",
       "       'RARS2', 'CHD9', 'CAMLG', 'ZRANB3', 'IFI27L1', 'RAP1GDS1',\n",
       "       'COMMD6', 'PSD3', 'SLC25A26', 'CLUAP1', 'PCM1', 'DLG1', 'N4BP2L2',\n",
       "       'MRPL21', 'AKAP9', 'TMEM14A', 'SRP9', 'ENC1', 'CCDC66', 'ARHGEF12',\n",
       "       'MAP2', 'ZDHHC21', 'ERC1', 'ANKRD36B', 'NKAIN4', 'ACADM', 'VRK1',\n",
       "       'SPATA7', 'THUMPD3', 'VHL', 'ARL4A', 'DTNA', 'TNRC6B', 'SPAG16',\n",
       "       'ASPH', 'BAZ2B', 'C6orf89', 'U2AF1L4', 'ADD3', 'ZFYVE16', 'ELF2',\n",
       "       'SMAD5', 'KLHL5', 'ERCC1', 'TRIP12', 'RSRC2', 'FEZ2', 'CAMTA1',\n",
       "       'STARD3NL', 'MRPL36', 'STX2', 'APBB2', 'SMAP1', 'TJP1', 'ICA1L',\n",
       "       'UBAP2', 'PTPRA', 'BTRC', 'PLEKHA1', 'PKIA', 'MFF', 'ZBTB38',\n",
       "       'APLP2', 'ELMO1', 'AKAP11', 'TRIM2', 'XPO1', 'ALDH3A2', 'RIMS2',\n",
       "       'TFDP2', 'PTPRZ1', 'MIA3', 'INTS10', 'GPBP1', 'ANK2', 'ROBO2',\n",
       "       'SMARCA2', 'CADM3', 'GTF3A', 'LYRM1', 'MACF1', 'CCNT2', 'CPNE3',\n",
       "       'HNRNPK', 'SHPRH', 'OCIAD2', 'PTK2', 'ZNF708', 'IFI44', 'USP33',\n",
       "       'LMO3', 'ZNF326', 'LMO7', 'LARP7', 'P4HTM', 'MYO6', 'CNTNAP2',\n",
       "       'TBL1XR1', 'PTPRD', 'KTN1', 'MAP4K5', 'NFIB', 'C1orf61', 'HAGH',\n",
       "       'C7orf50', 'PSAP', 'MRPS17', 'TIAM2', 'SNHG8', 'SNCA', 'CPLX2',\n",
       "       'MAP2K4', 'ITGB1BP1', 'SGCE', 'AP2S1', 'ZC3H13', 'DEF8', 'FAM49B',\n",
       "       'ZNF664', 'LARP1B', 'AMN1', 'TXNL4A', 'NSMCE1', 'PPHLN1',\n",
       "       'FAM172A', 'CLCC1', 'GNAL', 'RBM26', 'CAMK2N1', 'RBFOX1', 'NBAS',\n",
       "       'GSK3B', 'BTBD8', 'RASAL2', 'ASXL3', 'CTNND2'], dtype=object)"
      ]
     },
     "execution_count": 30,
     "metadata": {},
     "output_type": "execute_result"
    }
   ],
   "source": [
    "sQTL[sQTL.Gene.isin(introns.gene_name)]['Gene'].unique()"
   ]
  },
  {
   "cell_type": "code",
   "execution_count": null,
   "id": "700cea85-17c9-4140-b424-c953073149e6",
   "metadata": {},
   "outputs": [],
   "source": []
  },
  {
   "cell_type": "code",
   "execution_count": null,
   "id": "00f19693-02b4-47bd-839a-1c6ed7cc284f",
   "metadata": {},
   "outputs": [],
   "source": []
  },
  {
   "cell_type": "code",
   "execution_count": null,
   "id": "940f664c-40c7-4ca9-b7a3-2659a80d4387",
   "metadata": {},
   "outputs": [],
   "source": []
  },
  {
   "cell_type": "code",
   "execution_count": null,
   "id": "57a98923-a5e5-45cc-9679-6f8d86cac379",
   "metadata": {},
   "outputs": [],
   "source": []
  },
  {
   "cell_type": "code",
   "execution_count": null,
   "id": "1c9ac177-bb26-4732-9be9-0d57116acb6f",
   "metadata": {},
   "outputs": [],
   "source": [
    "\n"
   ]
  }
 ],
 "metadata": {
  "kernelspec": {
   "display_name": "Python 3 (ipykernel)",
   "language": "python",
   "name": "python3"
  },
  "language_info": {
   "codemirror_mode": {
    "name": "ipython",
    "version": 3
   },
   "file_extension": ".py",
   "mimetype": "text/x-python",
   "name": "python",
   "nbconvert_exporter": "python",
   "pygments_lexer": "ipython3",
   "version": "3.10.8"
  }
 },
 "nbformat": 4,
 "nbformat_minor": 5
}
