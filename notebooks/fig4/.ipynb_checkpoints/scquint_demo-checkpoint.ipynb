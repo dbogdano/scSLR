{
 "cells": [
  {
   "cell_type": "code",
   "execution_count": 1,
   "id": "17a6b609-7d08-4eb7-bfea-4d04ea6b2f08",
   "metadata": {},
   "outputs": [
    {
     "name": "stdout",
     "output_type": "stream",
     "text": [
      "Fri Jan 20 00:51:18 PST 2023\n"
     ]
    }
   ],
   "source": [
    "!date"
   ]
  },
  {
   "cell_type": "code",
   "execution_count": 2,
   "id": "81c0025c-b273-4983-bf72-f224f8ae3621",
   "metadata": {},
   "outputs": [
    {
     "name": "stdout",
     "output_type": "stream",
     "text": [
      "/c4/home/derek/miniconda3/envs/squint_2\n"
     ]
    }
   ],
   "source": [
    "!echo $CONDA_PREFIX"
   ]
  },
  {
   "cell_type": "code",
   "execution_count": 3,
   "id": "b35718e9-d47e-424c-8f66-8bcbec722bbe",
   "metadata": {},
   "outputs": [],
   "source": [
    "import anndata\n",
    "\n",
    "import pandas as pd\n",
    "import scanpy as sc\n",
    "import numpy as np\n",
    "import seaborn as sns\n",
    "import matplotlib.pyplot as plt\n",
    "import matplotlib"
   ]
  },
  {
   "cell_type": "code",
   "execution_count": 4,
   "id": "f5bbf158-b8d9-4a4c-a9b5-c4e9ecc1d9b0",
   "metadata": {},
   "outputs": [
    {
     "name": "stderr",
     "output_type": "stream",
     "text": [
      "/c4/home/derek/miniconda3/envs/squint_2/lib/python3.10/site-packages/tqdm/auto.py:22: TqdmWarning: IProgress not found. Please update jupyter and ipywidgets. See https://ipywidgets.readthedocs.io/en/stable/user_install.html\n",
      "  from .autonotebook import tqdm as notebook_tqdm\n"
     ]
    }
   ],
   "source": [
    "from scquint.differential_splicing import run_differential_splicing\n",
    "from scquint.data import calculate_PSI"
   ]
  },
  {
   "cell_type": "code",
   "execution_count": 5,
   "id": "f0335d69-6518-4878-9cf7-a9a3494f0a96",
   "metadata": {},
   "outputs": [],
   "source": [
    "from scquint.data import calculate_PSI\n",
    "from scquint.differential_splicing import run_differential_splicing, run_differential_splicing_for_each_group, find_marker_introns, mask_PSI\n",
    "from scquint.dimensionality_reduction.pca import run_pca"
   ]
  },
  {
   "cell_type": "code",
   "execution_count": 6,
   "id": "fc383740-87a6-4bb4-87f5-47edd13c5936",
   "metadata": {},
   "outputs": [],
   "source": [
    "from joblib import Parallel, delayed\n",
    "from scquint.differential_splicing import DirichletMultinomialGLM, fit_model, lrtest, alr\n",
    "from scquint.data import make_intron_group_summation_cpu, filter_min_cells_per_feature, filter_min_cells_per_intron_group, regroup, filter_min_global_proportion\n",
    "from statsmodels.stats.multitest import multipletests\n",
    "from collections import defaultdict\n",
    "from tqdm import tqdm"
   ]
  },
  {
   "cell_type": "code",
   "execution_count": null,
   "id": "7c684feb-01d5-4046-be7d-7b88c03a6798",
   "metadata": {},
   "outputs": [],
   "source": []
  },
  {
   "cell_type": "code",
   "execution_count": null,
   "id": "41e84e49-9c6d-4f75-8cee-9ac27eb6814b",
   "metadata": {},
   "outputs": [],
   "source": []
  },
  {
   "cell_type": "code",
   "execution_count": 11,
   "id": "3a035b17-d719-4508-950e-e18846012e33",
   "metadata": {},
   "outputs": [],
   "source": [
    "input_dir='/c4/home/derek/data1/derek/data_scSLR/reference/scquint/'"
   ]
  },
  {
   "cell_type": "code",
   "execution_count": null,
   "id": "01814361-2703-4749-b304-4f33eaa1f667",
   "metadata": {},
   "outputs": [],
   "source": []
  },
  {
   "cell_type": "code",
   "execution_count": null,
   "id": "f73cb73a-91f8-4b08-a030-67cadb58bd69",
   "metadata": {},
   "outputs": [],
   "source": []
  },
  {
   "cell_type": "code",
   "execution_count": 10,
   "id": "3b575a4a-d847-40e9-8325-4639530d6f6c",
   "metadata": {},
   "outputs": [],
   "source": [
    "adata_exp = anndata.read_h5ad(input_dir+'adata_exp.h5ad')\n",
    "adata_exp.var[\"feature_type\"] = \"Expression\"\n",
    "adata_spl = anndata.read_h5ad(input_dir+'adata_spl.h5ad')\n",
    "adata_spl.var[\"feature_type\"] = \"Splicing\"\n",
    "adata_spl.var[\"id\"] = adata_spl.var.gene_id.astype(str) + \"_\" + adata_spl.var.chromosome.astype(str) + \":\" + adata_spl.var.start.astype(str) + \"-\" + adata_spl.var.end.astype(str)\n",
    "adata_spl.var[\"intron\"] = adata_spl.var.chromosome.astype(str) + \":\" + adata_spl.var.start.astype(str) + \"-\" + adata_spl.var.end.astype(str)\n",
    "adata_spl.var[\"length\"] = adata_spl.var.end - adata_spl.var.start\n",
    "adata_spl.var = adata_spl.var.set_index(\"id\")\n",
    "assert((adata_exp.obs.index == adata_spl.obs.index).all())"
   ]
  },
  {
   "cell_type": "code",
   "execution_count": null,
   "id": "7cc39683-8e3c-4937-b2d5-34ec1450d3cb",
   "metadata": {},
   "outputs": [],
   "source": []
  },
  {
   "cell_type": "code",
   "execution_count": 13,
   "id": "bcdcb347-c2b6-4b2f-bdcb-d59e594a2480",
   "metadata": {},
   "outputs": [
    {
     "name": "stderr",
     "output_type": "stream",
     "text": [
      "/scratch/derek/ipykernel_15402/4166117060.py:1: FutureWarning: In a future version of pandas all arguments of read_csv except for the argument 'filepath_or_buffer' will be keyword-only.\n",
      "  clusters = pd.read_csv(input_dir + '/output/cell_clusters_200.tsv', \"\\t\", index_col=0)\n"
     ]
    }
   ],
   "source": [
    "clusters = pd.read_csv(input_dir + '/output/cell_clusters_200.tsv', \"\\t\", index_col=0)"
   ]
  },
  {
   "cell_type": "code",
   "execution_count": 14,
   "id": "d6ac1aeb-4709-4579-85a0-a9706f5c3273",
   "metadata": {},
   "outputs": [
    {
     "data": {
      "text/html": [
       "<div>\n",
       "<style scoped>\n",
       "    .dataframe tbody tr th:only-of-type {\n",
       "        vertical-align: middle;\n",
       "    }\n",
       "\n",
       "    .dataframe tbody tr th {\n",
       "        vertical-align: top;\n",
       "    }\n",
       "\n",
       "    .dataframe thead th {\n",
       "        text-align: right;\n",
       "    }\n",
       "</style>\n",
       "<table border=\"1\" class=\"dataframe\">\n",
       "  <thead>\n",
       "    <tr style=\"text-align: right;\">\n",
       "      <th></th>\n",
       "      <th>cluster</th>\n",
       "    </tr>\n",
       "  </thead>\n",
       "  <tbody>\n",
       "    <tr>\n",
       "      <th>SM-DAIFT_S23_E1-50</th>\n",
       "      <td>L6_CT-31</td>\n",
       "    </tr>\n",
       "    <tr>\n",
       "      <th>SM-D9E5X_S38_E1-50</th>\n",
       "      <td>L6_CT-42</td>\n",
       "    </tr>\n",
       "    <tr>\n",
       "      <th>SM-D9D7X_S94_E1-50</th>\n",
       "      <td>L6_CT-40</td>\n",
       "    </tr>\n",
       "    <tr>\n",
       "      <th>SM-D9E5O_S53_E1-50</th>\n",
       "      <td>L6_CT-1</td>\n",
       "    </tr>\n",
       "    <tr>\n",
       "      <th>SM-D9D7V_S33_E1-50</th>\n",
       "      <td>L6_CT-2</td>\n",
       "    </tr>\n",
       "    <tr>\n",
       "      <th>...</th>\n",
       "      <td>...</td>\n",
       "    </tr>\n",
       "    <tr>\n",
       "      <th>LS-15521_S14_E1-50</th>\n",
       "      <td>L5slash6_NP-43</td>\n",
       "    </tr>\n",
       "    <tr>\n",
       "      <th>SM-DAIFS_S34_E1-50</th>\n",
       "      <td>L5slash6_NP-18</td>\n",
       "    </tr>\n",
       "    <tr>\n",
       "      <th>SM-DAIG6_S58_E1-50</th>\n",
       "      <td>L5slash6_NP-47</td>\n",
       "    </tr>\n",
       "    <tr>\n",
       "      <th>LS-15520_S48_E1-50</th>\n",
       "      <td>L5slash6_NP-22</td>\n",
       "    </tr>\n",
       "    <tr>\n",
       "      <th>SM-DAIG7_S43_E1-50</th>\n",
       "      <td>L5slash6_NP-15</td>\n",
       "    </tr>\n",
       "  </tbody>\n",
       "</table>\n",
       "<p>6220 rows × 1 columns</p>\n",
       "</div>"
      ],
      "text/plain": [
       "                           cluster\n",
       "SM-DAIFT_S23_E1-50        L6_CT-31\n",
       "SM-D9E5X_S38_E1-50        L6_CT-42\n",
       "SM-D9D7X_S94_E1-50        L6_CT-40\n",
       "SM-D9E5O_S53_E1-50         L6_CT-1\n",
       "SM-D9D7V_S33_E1-50         L6_CT-2\n",
       "...                            ...\n",
       "LS-15521_S14_E1-50  L5slash6_NP-43\n",
       "SM-DAIFS_S34_E1-50  L5slash6_NP-18\n",
       "SM-DAIG6_S58_E1-50  L5slash6_NP-47\n",
       "LS-15520_S48_E1-50  L5slash6_NP-22\n",
       "SM-DAIG7_S43_E1-50  L5slash6_NP-15\n",
       "\n",
       "[6220 rows x 1 columns]"
      ]
     },
     "execution_count": 14,
     "metadata": {},
     "output_type": "execute_result"
    }
   ],
   "source": [
    "clusters"
   ]
  },
  {
   "cell_type": "code",
   "execution_count": 15,
   "id": "29573432-3fa3-4805-a2da-148d7a7e71c8",
   "metadata": {},
   "outputs": [],
   "source": [
    "adata_exp.obs = adata_exp.obs.merge(clusters, how=\"left\", left_index=True, right_index=True)\n",
    "adata_spl.obs = adata_spl.obs.merge(clusters, how=\"left\", left_index=True, right_index=True)"
   ]
  },
  {
   "cell_type": "code",
   "execution_count": 16,
   "id": "17e0bf1c-6105-4b75-89c1-b6f4e1e7d234",
   "metadata": {},
   "outputs": [],
   "source": [
    "sc.pp.normalize_total(adata_exp, target_sum=1e4)\n",
    "sc.pp.filter_genes(adata_exp, min_cells=100)\n",
    "sc.pp.log1p(adata_exp)"
   ]
  },
  {
   "cell_type": "code",
   "execution_count": null,
   "id": "0b4810bb-1f2d-43f3-afa1-4485a099951e",
   "metadata": {},
   "outputs": [],
   "source": []
  },
  {
   "cell_type": "code",
   "execution_count": 19,
   "id": "7d64f14d-5de1-4084-bde0-c604d5f99f9a",
   "metadata": {},
   "outputs": [],
   "source": [
    "import os"
   ]
  },
  {
   "cell_type": "code",
   "execution_count": 32,
   "id": "27112217-7f2e-439b-9929-9a663fbcf5a8",
   "metadata": {},
   "outputs": [],
   "source": [
    "input_dir_ = '/c4/home/derek/data1/derek/data_scSLR/reference/scquint-analysis/cortex/output/diff_spl/subclass_label/'\n",
    "\n",
    "introns = pd.DataFrame()\n",
    "    \n",
    "for f in os.listdir(input_dir_):\n",
    "    introns_file = pd.read_csv(input_dir_+f+'/splicing.introns.tsv',sep='\\t',index_col=0)\n",
    "    introns = pd.concat([introns, introns_file])"
   ]
  },
  {
   "cell_type": "code",
   "execution_count": 35,
   "id": "25404434-7325-48aa-960f-37aaf531748c",
   "metadata": {},
   "outputs": [
    {
     "data": {
      "text/html": [
       "<div>\n",
       "<style scoped>\n",
       "    .dataframe tbody tr th:only-of-type {\n",
       "        vertical-align: middle;\n",
       "    }\n",
       "\n",
       "    .dataframe tbody tr th {\n",
       "        vertical-align: top;\n",
       "    }\n",
       "\n",
       "    .dataframe thead th {\n",
       "        text-align: right;\n",
       "    }\n",
       "</style>\n",
       "<table border=\"1\" class=\"dataframe\">\n",
       "  <thead>\n",
       "    <tr style=\"text-align: right;\">\n",
       "      <th></th>\n",
       "      <th>chromosome</th>\n",
       "      <th>start</th>\n",
       "      <th>end</th>\n",
       "      <th>cluster</th>\n",
       "      <th>left_exon_count</th>\n",
       "      <th>left_genes</th>\n",
       "      <th>right_exon_count</th>\n",
       "      <th>right_genes</th>\n",
       "      <th>genes</th>\n",
       "      <th>n_genes</th>\n",
       "      <th>...</th>\n",
       "      <th>original_cluster</th>\n",
       "      <th>n_start</th>\n",
       "      <th>strand</th>\n",
       "      <th>cluster_type</th>\n",
       "      <th>psi_a</th>\n",
       "      <th>psi_b</th>\n",
       "      <th>delta_psi</th>\n",
       "      <th>lfc_psi</th>\n",
       "      <th>abs_delta_psi</th>\n",
       "      <th>abs_lfc_psi</th>\n",
       "    </tr>\n",
       "  </thead>\n",
       "  <tbody>\n",
       "    <tr>\n",
       "      <th>0</th>\n",
       "      <td>chr1</td>\n",
       "      <td>4777649</td>\n",
       "      <td>4778748</td>\n",
       "      <td>0</td>\n",
       "      <td>6</td>\n",
       "      <td>['ENSMUSG00000033845']</td>\n",
       "      <td>0</td>\n",
       "      <td>[]</td>\n",
       "      <td>['ENSMUSG00000033845']</td>\n",
       "      <td>1</td>\n",
       "      <td>...</td>\n",
       "      <td>0</td>\n",
       "      <td>1</td>\n",
       "      <td>-</td>\n",
       "      <td>shared_acceptor</td>\n",
       "      <td>0.011077</td>\n",
       "      <td>0.009742</td>\n",
       "      <td>0.001335</td>\n",
       "      <td>0.185329</td>\n",
       "      <td>0.001335</td>\n",
       "      <td>0.185329</td>\n",
       "    </tr>\n",
       "    <tr>\n",
       "      <th>1</th>\n",
       "      <td>chr1</td>\n",
       "      <td>4777649</td>\n",
       "      <td>4782568</td>\n",
       "      <td>0</td>\n",
       "      <td>6</td>\n",
       "      <td>['ENSMUSG00000033845']</td>\n",
       "      <td>8</td>\n",
       "      <td>['ENSMUSG00000033845']</td>\n",
       "      <td>['ENSMUSG00000033845']</td>\n",
       "      <td>1</td>\n",
       "      <td>...</td>\n",
       "      <td>0</td>\n",
       "      <td>1</td>\n",
       "      <td>-</td>\n",
       "      <td>shared_acceptor</td>\n",
       "      <td>0.988923</td>\n",
       "      <td>0.990258</td>\n",
       "      <td>-0.001335</td>\n",
       "      <td>-0.001947</td>\n",
       "      <td>0.001335</td>\n",
       "      <td>0.001947</td>\n",
       "    </tr>\n",
       "    <tr>\n",
       "      <th>2</th>\n",
       "      <td>chr1</td>\n",
       "      <td>4782734</td>\n",
       "      <td>4783951</td>\n",
       "      <td>1</td>\n",
       "      <td>8</td>\n",
       "      <td>['ENSMUSG00000033845']</td>\n",
       "      <td>7</td>\n",
       "      <td>['ENSMUSG00000033845']</td>\n",
       "      <td>['ENSMUSG00000033845']</td>\n",
       "      <td>1</td>\n",
       "      <td>...</td>\n",
       "      <td>1</td>\n",
       "      <td>1</td>\n",
       "      <td>-</td>\n",
       "      <td>shared_acceptor</td>\n",
       "      <td>0.995630</td>\n",
       "      <td>0.993565</td>\n",
       "      <td>0.002065</td>\n",
       "      <td>0.002996</td>\n",
       "      <td>0.002065</td>\n",
       "      <td>0.002996</td>\n",
       "    </tr>\n",
       "    <tr>\n",
       "      <th>3</th>\n",
       "      <td>chr1</td>\n",
       "      <td>4782734</td>\n",
       "      <td>4785573</td>\n",
       "      <td>1</td>\n",
       "      <td>8</td>\n",
       "      <td>['ENSMUSG00000033845']</td>\n",
       "      <td>10</td>\n",
       "      <td>['ENSMUSG00000033845']</td>\n",
       "      <td>['ENSMUSG00000033845']</td>\n",
       "      <td>1</td>\n",
       "      <td>...</td>\n",
       "      <td>1</td>\n",
       "      <td>1</td>\n",
       "      <td>-</td>\n",
       "      <td>shared_acceptor</td>\n",
       "      <td>0.004370</td>\n",
       "      <td>0.006435</td>\n",
       "      <td>-0.002065</td>\n",
       "      <td>-0.558440</td>\n",
       "      <td>0.002065</td>\n",
       "      <td>0.558440</td>\n",
       "    </tr>\n",
       "    <tr>\n",
       "      <th>4</th>\n",
       "      <td>chr1</td>\n",
       "      <td>4784106</td>\n",
       "      <td>4785573</td>\n",
       "      <td>2</td>\n",
       "      <td>8</td>\n",
       "      <td>['ENSMUSG00000033845']</td>\n",
       "      <td>10</td>\n",
       "      <td>['ENSMUSG00000033845']</td>\n",
       "      <td>['ENSMUSG00000033845']</td>\n",
       "      <td>1</td>\n",
       "      <td>...</td>\n",
       "      <td>2</td>\n",
       "      <td>1</td>\n",
       "      <td>-</td>\n",
       "      <td>shared_acceptor</td>\n",
       "      <td>0.999329</td>\n",
       "      <td>0.998332</td>\n",
       "      <td>0.000997</td>\n",
       "      <td>0.001440</td>\n",
       "      <td>0.000997</td>\n",
       "      <td>0.001440</td>\n",
       "    </tr>\n",
       "    <tr>\n",
       "      <th>...</th>\n",
       "      <td>...</td>\n",
       "      <td>...</td>\n",
       "      <td>...</td>\n",
       "      <td>...</td>\n",
       "      <td>...</td>\n",
       "      <td>...</td>\n",
       "      <td>...</td>\n",
       "      <td>...</td>\n",
       "      <td>...</td>\n",
       "      <td>...</td>\n",
       "      <td>...</td>\n",
       "      <td>...</td>\n",
       "      <td>...</td>\n",
       "      <td>...</td>\n",
       "      <td>...</td>\n",
       "      <td>...</td>\n",
       "      <td>...</td>\n",
       "      <td>...</td>\n",
       "      <td>...</td>\n",
       "      <td>...</td>\n",
       "      <td>...</td>\n",
       "    </tr>\n",
       "    <tr>\n",
       "      <th>26735</th>\n",
       "      <td>chrY</td>\n",
       "      <td>1012170</td>\n",
       "      <td>1014634</td>\n",
       "      <td>11176</td>\n",
       "      <td>4</td>\n",
       "      <td>['ENSMUSG00000069049']</td>\n",
       "      <td>5</td>\n",
       "      <td>['ENSMUSG00000069049']</td>\n",
       "      <td>['ENSMUSG00000069049']</td>\n",
       "      <td>1</td>\n",
       "      <td>...</td>\n",
       "      <td>33356</td>\n",
       "      <td>3</td>\n",
       "      <td>+</td>\n",
       "      <td>shared_acceptor</td>\n",
       "      <td>0.496712</td>\n",
       "      <td>0.453444</td>\n",
       "      <td>0.043268</td>\n",
       "      <td>0.131485</td>\n",
       "      <td>0.043268</td>\n",
       "      <td>0.131485</td>\n",
       "    </tr>\n",
       "    <tr>\n",
       "      <th>26736</th>\n",
       "      <td>chrY</td>\n",
       "      <td>1013474</td>\n",
       "      <td>1014634</td>\n",
       "      <td>11176</td>\n",
       "      <td>3</td>\n",
       "      <td>['ENSMUSG00000069049']</td>\n",
       "      <td>5</td>\n",
       "      <td>['ENSMUSG00000069049']</td>\n",
       "      <td>['ENSMUSG00000069049']</td>\n",
       "      <td>1</td>\n",
       "      <td>...</td>\n",
       "      <td>33356</td>\n",
       "      <td>3</td>\n",
       "      <td>+</td>\n",
       "      <td>shared_acceptor</td>\n",
       "      <td>0.492426</td>\n",
       "      <td>0.527932</td>\n",
       "      <td>-0.035505</td>\n",
       "      <td>-0.100443</td>\n",
       "      <td>0.035505</td>\n",
       "      <td>0.100443</td>\n",
       "    </tr>\n",
       "    <tr>\n",
       "      <th>26737</th>\n",
       "      <td>chrY</td>\n",
       "      <td>1014320</td>\n",
       "      <td>1014634</td>\n",
       "      <td>11176</td>\n",
       "      <td>0</td>\n",
       "      <td>[]</td>\n",
       "      <td>5</td>\n",
       "      <td>['ENSMUSG00000069049']</td>\n",
       "      <td>['ENSMUSG00000069049']</td>\n",
       "      <td>1</td>\n",
       "      <td>...</td>\n",
       "      <td>33356</td>\n",
       "      <td>3</td>\n",
       "      <td>+</td>\n",
       "      <td>shared_acceptor</td>\n",
       "      <td>0.010862</td>\n",
       "      <td>0.018625</td>\n",
       "      <td>-0.007762</td>\n",
       "      <td>-0.777902</td>\n",
       "      <td>0.007762</td>\n",
       "      <td>0.777902</td>\n",
       "    </tr>\n",
       "    <tr>\n",
       "      <th>26738</th>\n",
       "      <td>chrY</td>\n",
       "      <td>1016685</td>\n",
       "      <td>1017364</td>\n",
       "      <td>11177</td>\n",
       "      <td>2</td>\n",
       "      <td>['ENSMUSG00000069049']</td>\n",
       "      <td>2</td>\n",
       "      <td>['ENSMUSG00000069049']</td>\n",
       "      <td>['ENSMUSG00000069049']</td>\n",
       "      <td>1</td>\n",
       "      <td>...</td>\n",
       "      <td>33358</td>\n",
       "      <td>2</td>\n",
       "      <td>+</td>\n",
       "      <td>shared_acceptor</td>\n",
       "      <td>0.949618</td>\n",
       "      <td>0.930003</td>\n",
       "      <td>0.019615</td>\n",
       "      <td>0.030112</td>\n",
       "      <td>0.019615</td>\n",
       "      <td>0.030112</td>\n",
       "    </tr>\n",
       "    <tr>\n",
       "      <th>26739</th>\n",
       "      <td>chrY</td>\n",
       "      <td>1017103</td>\n",
       "      <td>1017364</td>\n",
       "      <td>11177</td>\n",
       "      <td>0</td>\n",
       "      <td>[]</td>\n",
       "      <td>2</td>\n",
       "      <td>['ENSMUSG00000069049']</td>\n",
       "      <td>['ENSMUSG00000069049']</td>\n",
       "      <td>1</td>\n",
       "      <td>...</td>\n",
       "      <td>33358</td>\n",
       "      <td>2</td>\n",
       "      <td>+</td>\n",
       "      <td>shared_acceptor</td>\n",
       "      <td>0.050382</td>\n",
       "      <td>0.069997</td>\n",
       "      <td>-0.019615</td>\n",
       "      <td>-0.474392</td>\n",
       "      <td>0.019615</td>\n",
       "      <td>0.474392</td>\n",
       "    </tr>\n",
       "  </tbody>\n",
       "</table>\n",
       "<p>295701 rows × 24 columns</p>\n",
       "</div>"
      ],
      "text/plain": [
       "      chromosome    start      end  cluster  left_exon_count  \\\n",
       "0           chr1  4777649  4778748        0                6   \n",
       "1           chr1  4777649  4782568        0                6   \n",
       "2           chr1  4782734  4783951        1                8   \n",
       "3           chr1  4782734  4785573        1                8   \n",
       "4           chr1  4784106  4785573        2                8   \n",
       "...          ...      ...      ...      ...              ...   \n",
       "26735       chrY  1012170  1014634    11176                4   \n",
       "26736       chrY  1013474  1014634    11176                3   \n",
       "26737       chrY  1014320  1014634    11176                0   \n",
       "26738       chrY  1016685  1017364    11177                2   \n",
       "26739       chrY  1017103  1017364    11177                0   \n",
       "\n",
       "                   left_genes  right_exon_count             right_genes  \\\n",
       "0      ['ENSMUSG00000033845']                 0                      []   \n",
       "1      ['ENSMUSG00000033845']                 8  ['ENSMUSG00000033845']   \n",
       "2      ['ENSMUSG00000033845']                 7  ['ENSMUSG00000033845']   \n",
       "3      ['ENSMUSG00000033845']                10  ['ENSMUSG00000033845']   \n",
       "4      ['ENSMUSG00000033845']                10  ['ENSMUSG00000033845']   \n",
       "...                       ...               ...                     ...   \n",
       "26735  ['ENSMUSG00000069049']                 5  ['ENSMUSG00000069049']   \n",
       "26736  ['ENSMUSG00000069049']                 5  ['ENSMUSG00000069049']   \n",
       "26737                      []                 5  ['ENSMUSG00000069049']   \n",
       "26738  ['ENSMUSG00000069049']                 2  ['ENSMUSG00000069049']   \n",
       "26739                      []                 2  ['ENSMUSG00000069049']   \n",
       "\n",
       "                        genes  n_genes  ... original_cluster  n_start  strand  \\\n",
       "0      ['ENSMUSG00000033845']        1  ...                0        1       -   \n",
       "1      ['ENSMUSG00000033845']        1  ...                0        1       -   \n",
       "2      ['ENSMUSG00000033845']        1  ...                1        1       -   \n",
       "3      ['ENSMUSG00000033845']        1  ...                1        1       -   \n",
       "4      ['ENSMUSG00000033845']        1  ...                2        1       -   \n",
       "...                       ...      ...  ...              ...      ...     ...   \n",
       "26735  ['ENSMUSG00000069049']        1  ...            33356        3       +   \n",
       "26736  ['ENSMUSG00000069049']        1  ...            33356        3       +   \n",
       "26737  ['ENSMUSG00000069049']        1  ...            33356        3       +   \n",
       "26738  ['ENSMUSG00000069049']        1  ...            33358        2       +   \n",
       "26739  ['ENSMUSG00000069049']        1  ...            33358        2       +   \n",
       "\n",
       "          cluster_type     psi_a     psi_b delta_psi   lfc_psi  abs_delta_psi  \\\n",
       "0      shared_acceptor  0.011077  0.009742  0.001335  0.185329       0.001335   \n",
       "1      shared_acceptor  0.988923  0.990258 -0.001335 -0.001947       0.001335   \n",
       "2      shared_acceptor  0.995630  0.993565  0.002065  0.002996       0.002065   \n",
       "3      shared_acceptor  0.004370  0.006435 -0.002065 -0.558440       0.002065   \n",
       "4      shared_acceptor  0.999329  0.998332  0.000997  0.001440       0.000997   \n",
       "...                ...       ...       ...       ...       ...            ...   \n",
       "26735  shared_acceptor  0.496712  0.453444  0.043268  0.131485       0.043268   \n",
       "26736  shared_acceptor  0.492426  0.527932 -0.035505 -0.100443       0.035505   \n",
       "26737  shared_acceptor  0.010862  0.018625 -0.007762 -0.777902       0.007762   \n",
       "26738  shared_acceptor  0.949618  0.930003  0.019615  0.030112       0.019615   \n",
       "26739  shared_acceptor  0.050382  0.069997 -0.019615 -0.474392       0.019615   \n",
       "\n",
       "       abs_lfc_psi  \n",
       "0         0.185329  \n",
       "1         0.001947  \n",
       "2         0.002996  \n",
       "3         0.558440  \n",
       "4         0.001440  \n",
       "...            ...  \n",
       "26735     0.131485  \n",
       "26736     0.100443  \n",
       "26737     0.777902  \n",
       "26738     0.030112  \n",
       "26739     0.474392  \n",
       "\n",
       "[295701 rows x 24 columns]"
      ]
     },
     "execution_count": 35,
     "metadata": {},
     "output_type": "execute_result"
    }
   ],
   "source": [
    "introns = introns[introns.n_genes == 1]"
   ]
  },
  {
   "cell_type": "code",
   "execution_count": 53,
   "id": "774474a1-bca9-4667-80b4-a2a756932ab3",
   "metadata": {},
   "outputs": [],
   "source": [
    "introns = introns.reset_index(drop=True)"
   ]
  },
  {
   "cell_type": "code",
   "execution_count": null,
   "id": "5126fc4f-e275-4b8d-8080-e18539fa8f1d",
   "metadata": {},
   "outputs": [],
   "source": []
  },
  {
   "cell_type": "code",
   "execution_count": 78,
   "id": "7dca462f-cd99-4992-be13-c146471b6ec7",
   "metadata": {},
   "outputs": [],
   "source": [
    "gene_list = [''.join(map(str, l)) for l in introns['genes']]\n",
    "gene_list = [e[2:] for e in gene_list]\n",
    "gene_list = [e[:-2] for e in gene_list]"
   ]
  },
  {
   "cell_type": "code",
   "execution_count": 79,
   "id": "bbb31e12-1f8c-412b-8029-72ca905043aa",
   "metadata": {},
   "outputs": [],
   "source": [
    "introns['gene'] = gene_list"
   ]
  },
  {
   "cell_type": "code",
   "execution_count": 85,
   "id": "b674751e-a4cd-46d8-b8fb-621c97f5e2ff",
   "metadata": {},
   "outputs": [],
   "source": [
    "introns.index = introns['gene'] + '_' + introns['chromosome'] + ':' + introns['start'].astype(str) + '-' + introns['end'].astype(str)"
   ]
  },
  {
   "cell_type": "code",
   "execution_count": 92,
   "id": "39c92f12-6fd0-44ec-aef9-e02595c2aeaa",
   "metadata": {},
   "outputs": [
    {
     "data": {
      "text/plain": [
       "Index(['ENSMUSG00000033845_chr1:4777649-4778748',\n",
       "       'ENSMUSG00000033845_chr1:4777649-4782568',\n",
       "       'ENSMUSG00000033845_chr1:4782734-4783951',\n",
       "       'ENSMUSG00000033845_chr1:4782734-4785573',\n",
       "       'ENSMUSG00000033845_chr1:4784106-4785573',\n",
       "       'ENSMUSG00000033845_chr1:4784106-4785618',\n",
       "       'ENSMUSG00000002459_chr1:4912549-4916825',\n",
       "       'ENSMUSG00000002459_chr1:4912549-4916897',\n",
       "       'ENSMUSG00000002459_chr1:4916981-4923822',\n",
       "       'ENSMUSG00000002459_chr1:4916981-4923847',\n",
       "       ...\n",
       "       'ENSMUSG00000022708_chr16:43569782-43577030',\n",
       "       'ENSMUSG00000022708_chr16:43571792-43577030',\n",
       "       'ENSMUSG00000039903_chr16:90831433-90869566',\n",
       "       'ENSMUSG00000039903_chr16:90866452-90869566',\n",
       "       'ENSMUSG00000041911_chr2:71529199-71529628',\n",
       "       'ENSMUSG00000041911_chr2:71529415-71529628',\n",
       "       'ENSMUSG00000038451_chr6:124808796-124809227',\n",
       "       'ENSMUSG00000038451_chr6:124809031-124809227',\n",
       "       'ENSMUSG00000031618_chr8:76900261-76906593',\n",
       "       'ENSMUSG00000031618_chr8:76902541-76906593'],\n",
       "      dtype='object', length=34194)"
      ]
     },
     "execution_count": 92,
     "metadata": {},
     "output_type": "execute_result"
    }
   ],
   "source": [
    "introns.index.unique()"
   ]
  },
  {
   "cell_type": "code",
   "execution_count": 93,
   "id": "6e83066b-34c4-4b09-8382-20bd0a85abd9",
   "metadata": {},
   "outputs": [],
   "source": [
    "#diff_spl_genes = pd.read_csv(input[2], header=None).values.astype(str).ravel()\n",
    "diff_spl_genes = introns.index.unique()"
   ]
  },
  {
   "cell_type": "code",
   "execution_count": null,
   "id": "04b06bfd-571b-49a7-aba9-5ed38c476e26",
   "metadata": {},
   "outputs": [],
   "source": [
    "input_genes = pd.read_csv(input[3]).values.astype(str).ravel()\n",
    "input_genes = [x for x in input_genes if x in adata_exp.var.index.values]\n",
    "target_genes = list(set(diff_spl_genes) - set(input_genes))"
   ]
  },
  {
   "cell_type": "code",
   "execution_count": null,
   "id": "7acdbac6-4dfc-4c20-8ad8-c5485292d8bd",
   "metadata": {},
   "outputs": [],
   "source": []
  },
  {
   "cell_type": "code",
   "execution_count": 42,
   "id": "cc9bc19e-0c52-49b5-aacb-47aabe202b10",
   "metadata": {},
   "outputs": [
    {
     "data": {
      "text/plain": [
       "Index(['ENSMUSG00000033845_chr1:4777649-4778748',\n",
       "       'ENSMUSG00000033845_chr1:4777649-4782568',\n",
       "       'ENSMUSG00000033845_chr1:4782734-4783951',\n",
       "       'ENSMUSG00000033845_chr1:4782734-4785573',\n",
       "       'ENSMUSG00000033845_chr1:4784106-4785573',\n",
       "       'ENSMUSG00000033845_chr1:4784106-4785618',\n",
       "       'ENSMUSG00000002459_chr1:4912549-4916825',\n",
       "       'ENSMUSG00000002459_chr1:4912549-4916897',\n",
       "       'ENSMUSG00000002459_chr1:4916981-4923822',\n",
       "       'ENSMUSG00000002459_chr1:4916981-4923847',\n",
       "       ...\n",
       "       'ENSMUSG00000079317_chrX:166450715-166452137',\n",
       "       'ENSMUSG00000056673_chrY:897900-898550',\n",
       "       'ENSMUSG00000056673_chrY:898116-898550',\n",
       "       'ENSMUSG00000069049_chrY:1012170-1014634',\n",
       "       'ENSMUSG00000069049_chrY:1013474-1014634',\n",
       "       'ENSMUSG00000069049_chrY:1014320-1014634',\n",
       "       'ENSMUSG00000069049_chrY:1016192-1017467',\n",
       "       'ENSMUSG00000069049_chrY:1016685-1017467',\n",
       "       'ENSMUSG00000069049_chrY:1016685-1017364',\n",
       "       'ENSMUSG00000069049_chrY:1017103-1017364'],\n",
       "      dtype='object', name='id', length=39357)"
      ]
     },
     "execution_count": 42,
     "metadata": {},
     "output_type": "execute_result"
    }
   ],
   "source": [
    "adata_spl.var_names"
   ]
  },
  {
   "cell_type": "code",
   "execution_count": null,
   "id": "d7da0de1-187f-4065-a587-dd12b96aecba",
   "metadata": {},
   "outputs": [],
   "source": [
    "adata_exp.var[\"gene_id\"] = adata_exp.var.index.values\n",
    "adata_exp = adata_exp[:, input_genes]\n",
    "adata_spl_input = adata_spl[:, (adata_spl.var.gene_id.isin(input_genes)) & (adata_spl.var.gene_id.isin(diff_spl_genes))]\n",
    "adata_spl_output = adata_spl[:, adata_spl.var.gene_id.isin(target_genes)]"
   ]
  },
  {
   "cell_type": "code",
   "execution_count": null,
   "id": "31b96cd6-d437-4466-a814-aaf6afaea826",
   "metadata": {},
   "outputs": [],
   "source": []
  },
  {
   "cell_type": "code",
   "execution_count": null,
   "id": "620a0a8d-8fbf-4d4f-aba0-c8786f61a2b0",
   "metadata": {},
   "outputs": [],
   "source": [
    "adata_spl_input = filter_min_cells_per_feature(adata_spl_input, 100)\n",
    "adata_spl_input.X = group_normalize(adata_spl_input.X.toarray(), adata_spl_input.var.cluster.values, smooth=True)\n",
    "adata_spl_input.var[\"variance\"] = np.nanvar(adata_spl_input.X, axis=0)\n",
    "adata_spl_input.var[\"priority\"] = False\n",
    "priority_introns = [\n",
    "    \"ENSMUSG00000022332_chr15:68929658-68995052\",\n",
    "    \"ENSMUSG00000008658_chr16:5763912-6173605\",\n",
    "]\n",
    "adata_spl_input.var.loc[priority_introns, \"priority\"] = True\n",
    "chosen_indices = adata_spl_input.var.sort_values([\"priority\", \"variance\", \"annotated\", \"length\"], ascending=[False, False, True, True]).groupby(\"cluster\").head(1).sort_values(\"cluster\").index.values\n",
    "adata_spl_input = adata_spl_input[:, chosen_indices]"
   ]
  },
  {
   "cell_type": "code",
   "execution_count": null,
   "id": "b57398f5-e00f-430e-8318-2748a7a6c3a7",
   "metadata": {},
   "outputs": [],
   "source": []
  },
  {
   "cell_type": "code",
   "execution_count": null,
   "id": "3219cdfc-8bf7-4b40-aa12-9d398f35e7ff",
   "metadata": {},
   "outputs": [],
   "source": [
    "adata_spl_output = filter_min_cells_per_feature(adata_spl_output, 100)\n",
    "SE_introns = np.unique(pd.read_csv(input[4], header=None).values.ravel())\n",
    "adata_spl_output = adata_spl_output[:, adata_spl_output.var.intron.isin(SE_introns)]\n",
    "adata_spl_output = filter_singletons(adata_spl_output)\n",
    "cluster_counts = adata_spl_output.var.cluster.value_counts()\n",
    "correct_clusters = cluster_counts[cluster_counts==2].index.values\n",
    "adata_spl_output = adata_spl_output[:, adata_spl_output.var.cluster.isin(correct_clusters)]\n",
    "adata_spl_output = filter_singletons(adata_spl_output)\n",
    "adata_output_counts = adata_spl_output.copy()\n",
    "adata_spl_output.X = group_normalize(adata_spl_output.X.toarray(), adata_spl_output.var.cluster.values, smooth=False)"
   ]
  },
  {
   "cell_type": "code",
   "execution_count": null,
   "id": "7a637d42-fd32-49dd-a4ab-60e267561c03",
   "metadata": {},
   "outputs": [],
   "source": []
  },
  {
   "cell_type": "code",
   "execution_count": null,
   "id": "085c10ab-6de8-4392-bb66-4df2288017e1",
   "metadata": {},
   "outputs": [],
   "source": [
    "chosen_indices = adata_spl_output.var.groupby(\"cluster\").length.idxmin()\n",
    "adata_spl_output = adata_spl_output[:, chosen_indices]\n",
    "adata_output = adata_spl_output"
   ]
  },
  {
   "cell_type": "code",
   "execution_count": null,
   "id": "cfdbd4e8-40a3-497a-b6f3-bcdf288d160a",
   "metadata": {},
   "outputs": [],
   "source": [
    "adata_output_counts = adata_output_counts[:, (adata_output_counts.var.sort_values([\"cluster\", \"length\"])).index.values]"
   ]
  },
  {
   "cell_type": "code",
   "execution_count": null,
   "id": "131094c1-73bf-40f7-9e68-c0f6879f2555",
   "metadata": {},
   "outputs": [],
   "source": []
  },
  {
   "cell_type": "code",
   "execution_count": null,
   "id": "40d94459-5871-4892-a390-fc17b5edbddd",
   "metadata": {},
   "outputs": [],
   "source": []
  },
  {
   "cell_type": "code",
   "execution_count": null,
   "id": "b01ce92d-aebb-471d-8e73-181cc65dc6e9",
   "metadata": {},
   "outputs": [],
   "source": []
  },
  {
   "cell_type": "code",
   "execution_count": null,
   "id": "b41afe2a-6585-4dc1-b7b2-730f4e93d49f",
   "metadata": {},
   "outputs": [],
   "source": []
  },
  {
   "cell_type": "code",
   "execution_count": null,
   "id": "6ae81bde-9e65-437d-8a40-ccba49cf0673",
   "metadata": {},
   "outputs": [],
   "source": []
  },
  {
   "cell_type": "code",
   "execution_count": null,
   "id": "33a4403f-bfe3-42c7-953f-01ebe4f061ac",
   "metadata": {},
   "outputs": [],
   "source": []
  },
  {
   "cell_type": "code",
   "execution_count": null,
   "id": "e4c812dc-449f-471f-9724-b08f9292a133",
   "metadata": {},
   "outputs": [],
   "source": []
  },
  {
   "cell_type": "code",
   "execution_count": null,
   "id": "eb9e6e0b-976f-4710-bd60-ce8fdb0023b2",
   "metadata": {},
   "outputs": [],
   "source": []
  },
  {
   "cell_type": "code",
   "execution_count": null,
   "id": "65936128-81fd-42b2-bc61-1be887a6d1e9",
   "metadata": {},
   "outputs": [],
   "source": []
  },
  {
   "cell_type": "code",
   "execution_count": null,
   "id": "2cf08921-93a7-4ede-ac91-a1f854a104a4",
   "metadata": {},
   "outputs": [],
   "source": []
  },
  {
   "cell_type": "code",
   "execution_count": null,
   "id": "346e3c3a-bde9-4cef-b8f7-68624db6163f",
   "metadata": {},
   "outputs": [],
   "source": []
  },
  {
   "cell_type": "code",
   "execution_count": null,
   "id": "05e2791a-1fc3-410b-9205-5092fb1a18b1",
   "metadata": {},
   "outputs": [],
   "source": []
  },
  {
   "cell_type": "code",
   "execution_count": null,
   "id": "7069dcf9-90d1-4e9c-8328-f9e0b323991a",
   "metadata": {},
   "outputs": [],
   "source": []
  },
  {
   "cell_type": "code",
   "execution_count": null,
   "id": "8373eeef-b351-44c6-b72c-a722ada85036",
   "metadata": {},
   "outputs": [],
   "source": []
  },
  {
   "cell_type": "code",
   "execution_count": null,
   "id": "d1a69815-121b-45cb-a887-c0d38b625dc8",
   "metadata": {},
   "outputs": [],
   "source": []
  },
  {
   "cell_type": "code",
   "execution_count": null,
   "id": "a26ef251-c9b7-4652-a9c6-b729ced7e921",
   "metadata": {},
   "outputs": [],
   "source": []
  },
  {
   "cell_type": "code",
   "execution_count": null,
   "id": "8c078364-8f6a-4dda-9408-c603ffd132be",
   "metadata": {},
   "outputs": [],
   "source": []
  },
  {
   "cell_type": "code",
   "execution_count": null,
   "id": "be2cb46f-ff44-4c02-90fe-685729f472b8",
   "metadata": {},
   "outputs": [],
   "source": []
  },
  {
   "cell_type": "code",
   "execution_count": null,
   "id": "2746a61e-1dd3-4965-a2be-4c61c47f78b8",
   "metadata": {},
   "outputs": [],
   "source": []
  },
  {
   "cell_type": "code",
   "execution_count": null,
   "id": "f2d6ebd0-caff-4c3d-b4dd-580fa211cc85",
   "metadata": {},
   "outputs": [],
   "source": []
  },
  {
   "cell_type": "code",
   "execution_count": null,
   "id": "845d7685-b585-46be-a7c1-18ddb20c11d2",
   "metadata": {},
   "outputs": [],
   "source": []
  },
  {
   "cell_type": "code",
   "execution_count": null,
   "id": "8d8aa9d1-e034-43dd-bc2a-b240411f741c",
   "metadata": {},
   "outputs": [],
   "source": []
  },
  {
   "cell_type": "code",
   "execution_count": null,
   "id": "5d6aead6-cbda-4a2a-a9ec-bb4fdfd35d44",
   "metadata": {},
   "outputs": [],
   "source": []
  },
  {
   "cell_type": "code",
   "execution_count": null,
   "id": "437a8501-b2da-4c2f-92a4-5b19ff1f1b9d",
   "metadata": {},
   "outputs": [],
   "source": []
  },
  {
   "cell_type": "code",
   "execution_count": null,
   "id": "d7383ad7-dcfb-41c5-aede-bf5110943c91",
   "metadata": {},
   "outputs": [],
   "source": []
  },
  {
   "cell_type": "code",
   "execution_count": null,
   "id": "15b153f7-a2ca-4d55-b067-6a4bcf4e73d4",
   "metadata": {},
   "outputs": [],
   "source": []
  },
  {
   "cell_type": "code",
   "execution_count": null,
   "id": "da478771-b1b1-4b04-a1c9-7891cf7f81a8",
   "metadata": {},
   "outputs": [],
   "source": []
  },
  {
   "cell_type": "code",
   "execution_count": null,
   "id": "3a03bd01-ecdd-4bbb-ba8e-686982ac2911",
   "metadata": {},
   "outputs": [],
   "source": []
  },
  {
   "cell_type": "code",
   "execution_count": null,
   "id": "1d403bf4-56c1-44ef-9d2c-15535037db12",
   "metadata": {},
   "outputs": [],
   "source": []
  },
  {
   "cell_type": "code",
   "execution_count": null,
   "id": "a3391aa1-98ca-4d59-ad8b-2257b81352bc",
   "metadata": {},
   "outputs": [],
   "source": []
  },
  {
   "cell_type": "code",
   "execution_count": null,
   "id": "e7c70153-5365-4a08-b3c7-95dadf053aa4",
   "metadata": {},
   "outputs": [],
   "source": []
  },
  {
   "cell_type": "code",
   "execution_count": null,
   "id": "c0c0f3dd-66e2-4b14-b7a2-a5d74b90228f",
   "metadata": {},
   "outputs": [],
   "source": []
  },
  {
   "cell_type": "code",
   "execution_count": null,
   "id": "1d8d0030-bf3a-4c86-b029-49ec46af2584",
   "metadata": {},
   "outputs": [],
   "source": []
  },
  {
   "cell_type": "code",
   "execution_count": null,
   "id": "ba58af2a-0fab-4488-81bb-c4547300f0e6",
   "metadata": {},
   "outputs": [],
   "source": []
  },
  {
   "cell_type": "code",
   "execution_count": null,
   "id": "5262b351-925c-4dcf-8c7f-1fa4c139a0d8",
   "metadata": {},
   "outputs": [],
   "source": []
  },
  {
   "cell_type": "code",
   "execution_count": null,
   "id": "d3d49f3d-8487-4c89-be4b-beab2de54fd2",
   "metadata": {},
   "outputs": [],
   "source": []
  },
  {
   "cell_type": "code",
   "execution_count": null,
   "id": "161694da-60e0-47ea-91ff-3635b95aa914",
   "metadata": {},
   "outputs": [],
   "source": []
  },
  {
   "cell_type": "code",
   "execution_count": null,
   "id": "dda54bf7-c972-410a-a1e3-777e8ef97131",
   "metadata": {},
   "outputs": [],
   "source": []
  },
  {
   "cell_type": "code",
   "execution_count": null,
   "id": "995f6073-a6d1-4923-b468-a02b06b48c90",
   "metadata": {},
   "outputs": [],
   "source": []
  },
  {
   "cell_type": "code",
   "execution_count": null,
   "id": "74daa522-1ccb-427f-9e59-41389fc1f82c",
   "metadata": {},
   "outputs": [],
   "source": []
  },
  {
   "cell_type": "code",
   "execution_count": null,
   "id": "97162990-5f1a-4418-ae07-81360c72c042",
   "metadata": {},
   "outputs": [],
   "source": []
  },
  {
   "cell_type": "code",
   "execution_count": null,
   "id": "ff9a1743-222b-47aa-aff8-27dc30def576",
   "metadata": {},
   "outputs": [],
   "source": []
  },
  {
   "cell_type": "code",
   "execution_count": null,
   "id": "85e96093-517b-4ee8-b44c-e19175452dbe",
   "metadata": {},
   "outputs": [],
   "source": []
  },
  {
   "cell_type": "code",
   "execution_count": null,
   "id": "41d1cd5a-47be-42cb-97a7-c738562e555b",
   "metadata": {},
   "outputs": [],
   "source": []
  },
  {
   "cell_type": "code",
   "execution_count": null,
   "id": "77438a49-607f-431c-9485-6d5c9f073d7f",
   "metadata": {},
   "outputs": [],
   "source": []
  },
  {
   "cell_type": "code",
   "execution_count": null,
   "id": "39ee4543-02d9-4b76-849c-db7005df4144",
   "metadata": {},
   "outputs": [],
   "source": []
  },
  {
   "cell_type": "code",
   "execution_count": null,
   "id": "cdadc85c-b404-4610-8015-83b81a3cb4f7",
   "metadata": {},
   "outputs": [],
   "source": []
  },
  {
   "cell_type": "code",
   "execution_count": null,
   "id": "22135a9d-b90d-4685-bd66-f865f26e7c3d",
   "metadata": {},
   "outputs": [],
   "source": []
  },
  {
   "cell_type": "code",
   "execution_count": null,
   "id": "3f0f9b7f-6005-4a64-8440-8cabddf89368",
   "metadata": {},
   "outputs": [],
   "source": []
  },
  {
   "cell_type": "code",
   "execution_count": null,
   "id": "f9335b8e-c964-444a-97cf-2774aa5a3b9e",
   "metadata": {},
   "outputs": [],
   "source": []
  },
  {
   "cell_type": "code",
   "execution_count": null,
   "id": "ff06c588-af1f-4f1b-bc22-92499d7fafa3",
   "metadata": {},
   "outputs": [],
   "source": []
  },
  {
   "cell_type": "code",
   "execution_count": null,
   "id": "1708ae6b-3802-426c-9e3e-ada8e403844c",
   "metadata": {},
   "outputs": [],
   "source": []
  },
  {
   "cell_type": "code",
   "execution_count": null,
   "id": "edf598f3-6a20-4c2e-a173-f7420577d3f8",
   "metadata": {},
   "outputs": [],
   "source": []
  },
  {
   "cell_type": "code",
   "execution_count": null,
   "id": "895779d2-08e9-4c37-b6cb-e5fde9b3af63",
   "metadata": {},
   "outputs": [],
   "source": []
  },
  {
   "cell_type": "code",
   "execution_count": null,
   "id": "2a476264-c462-46a7-a51b-ab9a9828661f",
   "metadata": {},
   "outputs": [],
   "source": []
  },
  {
   "cell_type": "code",
   "execution_count": null,
   "id": "8487a1ea-2008-494b-af1c-4e6269e3a7f0",
   "metadata": {},
   "outputs": [],
   "source": []
  },
  {
   "cell_type": "code",
   "execution_count": null,
   "id": "dec9d77c-c598-497e-a618-e71bb70a97bb",
   "metadata": {},
   "outputs": [],
   "source": []
  },
  {
   "cell_type": "code",
   "execution_count": null,
   "id": "58195a08-9bf3-4c1f-b8fe-c029d106ca25",
   "metadata": {},
   "outputs": [],
   "source": []
  },
  {
   "cell_type": "code",
   "execution_count": null,
   "id": "0d3b7aa8-495b-41f2-a5c1-89581eb6feb4",
   "metadata": {},
   "outputs": [],
   "source": []
  },
  {
   "cell_type": "code",
   "execution_count": null,
   "id": "1185dd67-93f7-47fd-83ac-59e91a03a4c0",
   "metadata": {},
   "outputs": [],
   "source": []
  },
  {
   "cell_type": "code",
   "execution_count": null,
   "id": "5ddb221e-0f7a-4865-81ca-46343305db81",
   "metadata": {},
   "outputs": [],
   "source": []
  },
  {
   "cell_type": "code",
   "execution_count": null,
   "id": "4086dddc-30c3-43c7-8380-01f8201363c7",
   "metadata": {},
   "outputs": [],
   "source": []
  },
  {
   "cell_type": "code",
   "execution_count": null,
   "id": "5a465f6d-e8ae-495d-89b3-f7e4c5fd7d22",
   "metadata": {},
   "outputs": [],
   "source": []
  },
  {
   "cell_type": "code",
   "execution_count": null,
   "id": "aa4fc5e6-2caf-4db5-ad8f-1746643d86b1",
   "metadata": {},
   "outputs": [],
   "source": []
  },
  {
   "cell_type": "code",
   "execution_count": null,
   "id": "67024682-1387-4ef7-ab2d-20fb308c265e",
   "metadata": {},
   "outputs": [],
   "source": []
  },
  {
   "cell_type": "code",
   "execution_count": null,
   "id": "509450be-8f51-42bb-8ab3-df3e474da5de",
   "metadata": {},
   "outputs": [],
   "source": []
  },
  {
   "cell_type": "code",
   "execution_count": null,
   "id": "37d59979-af84-484b-9325-6509cb8d2e59",
   "metadata": {},
   "outputs": [],
   "source": []
  },
  {
   "cell_type": "code",
   "execution_count": null,
   "id": "ab1b5d68-a9cf-4fea-8c1e-76ce87ffd279",
   "metadata": {},
   "outputs": [],
   "source": []
  },
  {
   "cell_type": "code",
   "execution_count": null,
   "id": "c70d968c-7f19-4c54-90d4-78bd3f428e8d",
   "metadata": {},
   "outputs": [],
   "source": []
  },
  {
   "cell_type": "code",
   "execution_count": null,
   "id": "3a0885a6-070b-4336-998b-9d930edaf0ad",
   "metadata": {},
   "outputs": [],
   "source": []
  }
 ],
 "metadata": {
  "kernelspec": {
   "display_name": "Python 3 (ipykernel)",
   "language": "python",
   "name": "python3"
  },
  "language_info": {
   "codemirror_mode": {
    "name": "ipython",
    "version": 3
   },
   "file_extension": ".py",
   "mimetype": "text/x-python",
   "name": "python",
   "nbconvert_exporter": "python",
   "pygments_lexer": "ipython3",
   "version": "3.10.8"
  }
 },
 "nbformat": 4,
 "nbformat_minor": 5
}
