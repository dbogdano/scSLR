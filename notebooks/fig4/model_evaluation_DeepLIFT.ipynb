{
 "cells": [
  {
   "cell_type": "code",
   "execution_count": 207,
   "id": "2414f820-8868-4c5e-b40f-309e1674f2e8",
   "metadata": {},
   "outputs": [
    {
     "name": "stdout",
     "output_type": "stream",
     "text": [
      "Mon Oct 28 03:40:37 PDT 2024\n"
     ]
    }
   ],
   "source": [
    "!date"
   ]
  },
  {
   "cell_type": "code",
   "execution_count": 208,
   "id": "5cfe33ee-644a-43eb-9715-867a297475cc",
   "metadata": {},
   "outputs": [
    {
     "data": {
      "text/plain": [
       "'/c4/home/derek/miniconda3/envs/deepripe'"
      ]
     },
     "execution_count": 208,
     "metadata": {},
     "output_type": "execute_result"
    }
   ],
   "source": [
    "%env CONDA_PREFIX"
   ]
  },
  {
   "cell_type": "markdown",
   "id": "ed83973d-80e4-4fbb-ad69-b4e1a0daae9b",
   "metadata": {},
   "source": [
    "# Model Attribution plots with DeepLift/DeepShap"
   ]
  },
  {
   "cell_type": "code",
   "execution_count": 209,
   "id": "1976e444-851f-463f-b9ac-0e6f8127456c",
   "metadata": {},
   "outputs": [],
   "source": [
    "import numpy as np\n",
    "np.random.seed(1)\n",
    "\n",
    "import os\n",
    "import random\n",
    "import sys\n",
    "import glob\n",
    "import tqdm\n",
    "\n",
    "os.environ['TF_CPP_MIN_LOG_LEVEL']='2'"
   ]
  },
  {
   "cell_type": "code",
   "execution_count": 271,
   "id": "2a3c49f5-c8f7-418f-84e7-ddcdbcfc32d5",
   "metadata": {},
   "outputs": [],
   "source": [
    "import pandas as pd\n",
    "import scipy as sci\n",
    "import seaborn as sns\n",
    "import matplotlib.pyplot as plt\n",
    "from deeplift.visualization import viz_sequence\n",
    "import logomaker\n",
    "\n",
    "\n",
    "\n",
    "from pathlib import Path\n",
    "import json\n",
    "import shutil\n",
    "\n",
    "\n",
    "import pysam \n",
    "from scipy.stats import pearsonr, spearmanr\n",
    "\n",
    "\n",
    "#import modified basenji modules \n",
    "sys.path.append(\"/nowakowskilab/data1/derek/data_scSLR/prenatal_brain/deep_splicing\")\n",
    "from basenji_.basenji.dna_io import dna_1hot\n",
    "\n",
    "import tensorflow as tf\n",
    "from keras import regularizers"
   ]
  },
  {
   "cell_type": "code",
   "execution_count": 272,
   "id": "3c88252e-efb6-48fe-8fbd-69a9ad979779",
   "metadata": {},
   "outputs": [
    {
     "name": "stdout",
     "output_type": "stream",
     "text": [
      "Num GPUs Available:  1\n"
     ]
    }
   ],
   "source": [
    "print(\"Num GPUs Available: \", len(tf.config.list_physical_devices('GPU')))"
   ]
  },
  {
   "cell_type": "code",
   "execution_count": 273,
   "id": "71066b15-7c31-4545-8152-995963a17f7d",
   "metadata": {},
   "outputs": [],
   "source": [
    "##set memory usage \n",
    "\n",
    "gpus = tf.config.experimental.list_physical_devices('GPU')\n",
    "for gpu in gpus:\n",
    "  tf.config.experimental.set_memory_growth(gpu, True)"
   ]
  },
  {
   "cell_type": "code",
   "execution_count": 274,
   "id": "5eb71851-2947-49e2-9e57-260f02bfdb1c",
   "metadata": {},
   "outputs": [
    {
     "data": {
      "text/plain": [
       "'/nowakowskilab/data1/derek/data_scSLR/prenatal_brain/deep_splicing/ExplaiNN'"
      ]
     },
     "execution_count": 274,
     "metadata": {},
     "output_type": "execute_result"
    }
   ],
   "source": [
    "pwd"
   ]
  },
  {
   "cell_type": "markdown",
   "id": "70a41b8d-c8ee-4b89-98be-c60d88581844",
   "metadata": {},
   "source": [
    "## generate and train ExplaiNN model "
   ]
  },
  {
   "cell_type": "code",
   "execution_count": 275,
   "id": "d914b2ea-45b3-4f59-9a1b-ce4fca6bffca",
   "metadata": {},
   "outputs": [],
   "source": [
    "model_path = '/nowakowskilab/data1/derek/data_scSLR/prenatal_brain/deep_splicing/DeepRiPe/'"
   ]
  },
  {
   "cell_type": "code",
   "execution_count": 276,
   "id": "87c9dc23-045f-4138-a4ee-238a970e54e3",
   "metadata": {},
   "outputs": [],
   "source": [
    "sys.path.append(model_path+'Scripts/')\n",
    "\n",
    "from util_funcs import precision, recall\n",
    "\n",
    "custom_objects={'precision':precision,\n",
    "                'recall':recall,\n",
    "                  }"
   ]
  },
  {
   "cell_type": "code",
   "execution_count": 277,
   "id": "79c9e273-6312-41cc-b529-9d265f6a1a94",
   "metadata": {},
   "outputs": [],
   "source": [
    "seq_len = 800\n",
    "region_len = 1000\n",
    "input_sequence_split = 4\n",
    "n_tasks = 1"
   ]
  },
  {
   "cell_type": "code",
   "execution_count": 278,
   "id": "ea976397-d2a0-4ca3-a8ba-d621eab92ff5",
   "metadata": {},
   "outputs": [],
   "source": [
    "input_seq = tf.keras.Input(shape=(seq_len, 4), name='input_seq')\n",
    "input_region = tf.keras.Input(shape=(region_len, 4), name='input_region')\n",
    "                           \n",
    "input_seq_1, input_seq_2, input_seq_3, input_seq_4 = tf.split(input_seq, input_sequence_split, axis=1)\n",
    "input_region_1, input_region_2, input_region_3, input_region_4 = tf.split(input_region, input_sequence_split, axis=1)\n",
    "                              \n",
    "inputs_seq = {}\n",
    "inputs_region = {}\n",
    "\n",
    "inputs_seq[0] = tf.keras.layers.Masking(mask_value=0)(input_seq_1)\n",
    "inputs_seq[1] = tf.keras.layers.Masking(mask_value=0)(input_seq_2)\n",
    "inputs_seq[2] = tf.keras.layers.Masking(mask_value=0)(input_seq_3)\n",
    "inputs_seq[3] = tf.keras.layers.Masking(mask_value=0)(input_seq_4)\n",
    "\n",
    "inputs_region[0] = tf.keras.layers.Masking(mask_value=0)(input_region_1)\n",
    "inputs_region[1] = tf.keras.layers.Masking(mask_value=0)(input_region_2)\n",
    "inputs_region[2] = tf.keras.layers.Masking(mask_value=0)(input_region_3)\n",
    "inputs_region[3] = tf.keras.layers.Masking(mask_value=0)(input_region_4)"
   ]
  },
  {
   "cell_type": "code",
   "execution_count": null,
   "id": "1370a162-a277-4aff-bbc5-e59d0c886da3",
   "metadata": {},
   "outputs": [],
   "source": []
  },
  {
   "cell_type": "code",
   "execution_count": null,
   "id": "c07468ec-a1b0-4fd0-a19e-d67de3dbd383",
   "metadata": {},
   "outputs": [],
   "source": []
  },
  {
   "cell_type": "code",
   "execution_count": null,
   "id": "c8dc5430-a5ac-4bfe-a53f-be05222fd25f",
   "metadata": {},
   "outputs": [],
   "source": []
  },
  {
   "cell_type": "code",
   "execution_count": null,
   "id": "fddd046b-6fd0-4538-aeac-89db01450020",
   "metadata": {},
   "outputs": [],
   "source": []
  },
  {
   "cell_type": "code",
   "execution_count": null,
   "id": "54ed9b5b-b8fa-46b0-8f10-769ad0b8a697",
   "metadata": {},
   "outputs": [],
   "source": []
  },
  {
   "cell_type": "code",
   "execution_count": 279,
   "id": "24ff8c12-c18c-402e-8e1a-528316c14018",
   "metadata": {},
   "outputs": [],
   "source": [
    "orig_models = {}\n",
    "input_layers = {}\n",
    "output_layers = {}\n",
    "base_models = {}\n",
    "currents = {}\n",
    "# \n",
    "\n",
    "# for i, model in enumerate(glob.glob(model_path + 'Results/PARCLIP_models/hek293/*.h5')):\n",
    "\n",
    "for i, model in enumerate(([i for i in glob.glob(model_path + 'Results/Encode_models/K562/*.h5') if 'seq' in i] + \n",
    "                            [i for i in glob.glob(model_path + 'Results/Encode_models/HepG2/*.h5') if 'seq' in i]\n",
    "                            )\n",
    "):\n",
    "    \n",
    "    orig_models[i] = tf.keras.models.load_model(model, custom_objects = custom_objects, compile=False)\n",
    "    \n",
    "    for j in range(input_sequence_split):\n",
    "        \n",
    "        input_layers[i,j] = orig_models[i].inputs[0]\n",
    "        # input_layers[i,j] = orig_models[i].inputs\n",
    "        \n",
    "        output_layers[i,j] = orig_models[i].get_layer('output').output\n",
    "        \n",
    "        base_models[i,j] = tf.keras.Model(inputs=input_layers[i,j], outputs=output_layers[i,j])\n",
    "        \n",
    "        base_models[i,j].trainable = False\n",
    "        \n",
    "        currents[i,j] = base_models[i,j](inputs_seq[j], training=False)\n",
    "        # currents[i,j] = base_models[i,j]([inputs_seq[j], inputs_region[j]], training=False)\n",
    "        \n",
    "        \n",
    "        "
   ]
  },
  {
   "cell_type": "code",
   "execution_count": null,
   "id": "6ac016e4-b867-450e-baad-33e8d8cbb90f",
   "metadata": {},
   "outputs": [],
   "source": []
  },
  {
   "cell_type": "code",
   "execution_count": null,
   "id": "72d52738-fec8-48a5-8338-a4daf97bd26f",
   "metadata": {},
   "outputs": [],
   "source": []
  },
  {
   "cell_type": "code",
   "execution_count": 280,
   "id": "8a95ef25-8413-4c9d-89aa-79c2ff297b90",
   "metadata": {},
   "outputs": [],
   "source": [
    "current = tf.concat(currents.values(), axis=1)\n",
    "\n",
    "output = tf.keras.layers.Dense(n_tasks, #kernel_initializer='HeUniform',\n",
    "                               # kernel_constraint= tf.keras.constraints.MaxNorm(max_value=0.05, axis=0),\n",
    "                              )(current)\n",
    "\n",
    "model = tf.keras.Model(input_seq, output, name='deepripe_explainn')\n",
    "# model = tf.keras.Model((input_seq, input_region), output, name='deepripe_explainn')\n"
   ]
  },
  {
   "cell_type": "code",
   "execution_count": null,
   "id": "993e5ae5-c264-469a-9865-3ac8463804dc",
   "metadata": {},
   "outputs": [],
   "source": []
  },
  {
   "cell_type": "markdown",
   "id": "a1aa111c-0e47-4950-8887-0ec8e888999f",
   "metadata": {},
   "source": [
    "## get data "
   ]
  },
  {
   "cell_type": "code",
   "execution_count": 281,
   "id": "5842cbdd-b7fb-40da-bfe2-2849d76d7ff2",
   "metadata": {},
   "outputs": [],
   "source": [
    "#import modified basenji modules \n",
    "sys.path.append(\"/nowakowskilab/data1/derek/data_scSLR/prenatal_brain/deep_splicing/basenji_/\")\n",
    "\n",
    "from basenji_.basenji import dataset\n",
    "\n",
    "from basenji_.basenji.metrics import PearsonR"
   ]
  },
  {
   "cell_type": "code",
   "execution_count": 282,
   "id": "042b50c5-1a3c-4b2d-8be8-d33637fcca9e",
   "metadata": {},
   "outputs": [],
   "source": [
    "out_dir = '/nowakowskilab/data1/derek/data_scSLR/prenatal_brain/deep_splicing/ExplaiNN/data_out/EN_RG_multitask_DeltaPSI_sig_0.1_train_valid_deepripe/'\n",
    "\n",
    "data_dir = [glob.glob(out_dir+'/fold*/')[3]] \n",
    "params_file = data_dir[0]+'params.json'"
   ]
  },
  {
   "cell_type": "code",
   "execution_count": 283,
   "id": "52bb16d4-1033-4f33-babc-51ff62347475",
   "metadata": {},
   "outputs": [
    {
     "data": {
      "text/plain": [
       "['/nowakowskilab/data1/derek/data_scSLR/prenatal_brain/deep_splicing/ExplaiNN/data_out/EN_RG_multitask_DeltaPSI_sig_0.1_train_valid_deepripe/fold3/']"
      ]
     },
     "execution_count": 283,
     "metadata": {},
     "output_type": "execute_result"
    }
   ],
   "source": [
    "data_dir"
   ]
  },
  {
   "cell_type": "code",
   "execution_count": 284,
   "id": "72fe9491-0cce-4b20-bb28-2ca8c0164a55",
   "metadata": {},
   "outputs": [],
   "source": [
    "with open(params_file) as params_open:\n",
    "          params = json.load(params_open)\n",
    "params_model = params['model']\n",
    "params_train = params['train']\n",
    "os.makedirs(out_dir, exist_ok=True)\n",
    "if params_file != '%s/params.json' % out_dir:\n",
    "    shutil.copy(params_file, '%s/params.json' % out_dir)"
   ]
  },
  {
   "cell_type": "code",
   "execution_count": 285,
   "id": "7411763d-0ecf-452b-a545-2bf25d2d1196",
   "metadata": {},
   "outputs": [],
   "source": [
    "#read datasets\n",
    "train_data = []\n",
    "eval_data = []\n",
    "test_data = []\n",
    "\n",
    "\n",
    "seq_track=True\n",
    "\n",
    "\n",
    "for data_dir in data_dir:\n",
    "    # load train data\n",
    "    train_data.append(dataset.ExonDataset(data_dir,\n",
    "        split_label='train',\n",
    "        batch_size=params_train['batch_size'],\n",
    "        shuffle_buffer=params_train.get('shuffle_buffer', params_model['seq_length']),\n",
    "        mode='train',\n",
    "        splice_track=False,\n",
    "             # annotation_tracks=True\n",
    "                                         ))\n",
    "\n",
    "    # load eval data\n",
    "    eval_data.append(dataset.ExonDataset(data_dir,\n",
    "      split_label='valid',\n",
    "      batch_size=params_train['batch_size'],\n",
    "      mode='eval',\n",
    "      splice_track=False,\n",
    "            # annotation_tracks=True\n",
    "                                        ))\n",
    "    \n",
    "    # # load test data\n",
    "    # test_data.append(dataset.ExonDataset(data_dir, \n",
    "    #     split_label='test',\n",
    "    #   batch_size=params_train['batch_size'],\n",
    "    #   mode='eval',\n",
    "    #   splice_track=False\n",
    "    #                                      ))\n",
    "            \n",
    "        \n",
    "if seq_track == 0:\n",
    "    params_model['seq_depth'] -= 4\n",
    "# if splice_track == 0:"
   ]
  },
  {
   "cell_type": "code",
   "execution_count": null,
   "id": "5372ae47-fcec-4742-ab84-0c1781c34b33",
   "metadata": {},
   "outputs": [],
   "source": []
  },
  {
   "cell_type": "markdown",
   "id": "6ace3ddf-3d57-4831-a6f4-8d3b5e85cc03",
   "metadata": {},
   "source": [
    "## train model"
   ]
  },
  {
   "cell_type": "code",
   "execution_count": 286,
   "id": "6d32df99-d149-4ef1-90d0-63b548352015",
   "metadata": {},
   "outputs": [],
   "source": [
    "num_targets = model.output_shape[-1]\n",
    "\n",
    "model_metrics = [PearsonR(num_targets)\n",
    "                ]\n",
    "\n",
    "optimizer = tf.keras.optimizers.Adam(learning_rate=0.001,\n",
    "                                    beta_1=0.9, beta_2=0.999)"
   ]
  },
  {
   "cell_type": "code",
   "execution_count": 287,
   "id": "1ebf7447-1f6a-4ab9-8dc3-9e795389cb5f",
   "metadata": {},
   "outputs": [],
   "source": [
    "# define callbacks\n",
    "save_best=tf.keras.callbacks.ModelCheckpoint('%s/model_best.h5'%out_dir,\n",
    "                                            save_best_only=True, \n",
    "                                             monitor='val_pearsonr',\n",
    "                                             mode='max', \n",
    "                                             verbose=1)\n",
    "\n",
    "\n",
    "lradjust = tf.keras.callbacks.ReduceLROnPlateau(monitor='val_loss', factor=0.5, patience=12, cooldown=1)\n",
    "\n",
    "early_stop=tf.keras.callbacks.EarlyStopping(monitor='val_pearsonr', min_delta=1e-4, patience=15, mode='max',restore_best_weights=True, verbose=1\n",
    "                                             )"
   ]
  },
  {
   "cell_type": "code",
   "execution_count": 288,
   "id": "7ba4b921-2f3b-4c14-9608-8c46e65232cc",
   "metadata": {},
   "outputs": [],
   "source": [
    "model.compile(optimizer=optimizer, \n",
    "                  loss='mse',\n",
    "                  metrics=model_metrics\n",
    "                 )"
   ]
  },
  {
   "cell_type": "code",
   "execution_count": 289,
   "id": "2b151250-fa00-4a55-be83-13e353ba5dbc",
   "metadata": {},
   "outputs": [
    {
     "data": {
      "text/plain": [
       "array([[-0.12595961,  0.12595924],\n",
       "       [ 0.27208598, -0.27208584],\n",
       "       [-0.15505696,  0.15505741],\n",
       "       ...,\n",
       "       [ 0.10242543, -0.10242539],\n",
       "       [-0.14761091,  0.14761029],\n",
       "       [ 0.52372065, -0.52372066]])"
      ]
     },
     "execution_count": 289,
     "metadata": {},
     "output_type": "execute_result"
    }
   ],
   "source": [
    "train_data[0].numpy()[1].squeeze(axis=1)"
   ]
  },
  {
   "cell_type": "code",
   "execution_count": null,
   "id": "462d99e1-ac20-45f1-8ec4-61d36b6df3a7",
   "metadata": {},
   "outputs": [],
   "source": []
  },
  {
   "cell_type": "code",
   "execution_count": null,
   "id": "72c5b8ef-a78a-472c-b18a-827ef1459e8f",
   "metadata": {},
   "outputs": [],
   "source": []
  },
  {
   "cell_type": "code",
   "execution_count": 290,
   "id": "a972bcd1-6f0f-4c18-86ab-04cd03a81475",
   "metadata": {},
   "outputs": [],
   "source": [
    "# %%time\n",
    "\n",
    "\n",
    "# history = model.fit(x=(train_data[0].numpy()[0][0][:,0,:,:],train_data[0].numpy()[0][1][:,0,:,:]),\n",
    "#                     y=train_data[0].numpy()[1].squeeze(axis=1)[:,0],\n",
    "#                       epochs=1000,\n",
    "#                     validation_data=((eval_data[0].numpy()[0][0][:,0,:,:],eval_data[0].numpy()[0][1][:,0,:,:]),\n",
    "#                             eval_data[0].numpy()[1].squeeze(axis=1)[:,0]),\n",
    "#                         callbacks=[\n",
    "#                          #  save_best, \n",
    "#                            early_stop,\n",
    "#                             lradjust, \n",
    "#                                  ]\n",
    "#              )"
   ]
  },
  {
   "cell_type": "code",
   "execution_count": 291,
   "id": "241c86c3-934f-4ac5-94ac-72984cf22e1c",
   "metadata": {
    "tags": []
   },
   "outputs": [
    {
     "name": "stdout",
     "output_type": "stream",
     "text": [
      "Epoch 1/1000\n",
      "23/23 [==============================] - 5s 71ms/step - loss: 0.1345 - pearsonr: 0.2202 - val_loss: 0.0999 - val_pearsonr: 0.3549 - lr: 0.0010\n",
      "Epoch 2/1000\n",
      "23/23 [==============================] - 0s 15ms/step - loss: 0.1105 - pearsonr: 0.2711 - val_loss: 0.0905 - val_pearsonr: 0.3689 - lr: 0.0010\n",
      "Epoch 3/1000\n",
      "23/23 [==============================] - 0s 15ms/step - loss: 0.1045 - pearsonr: 0.3091 - val_loss: 0.0863 - val_pearsonr: 0.3917 - lr: 0.0010\n",
      "Epoch 4/1000\n",
      "23/23 [==============================] - 0s 15ms/step - loss: 0.1001 - pearsonr: 0.3305 - val_loss: 0.0822 - val_pearsonr: 0.3877 - lr: 0.0010\n",
      "Epoch 5/1000\n",
      "23/23 [==============================] - 0s 15ms/step - loss: 0.0947 - pearsonr: 0.3716 - val_loss: 0.0802 - val_pearsonr: 0.4161 - lr: 0.0010\n",
      "Epoch 6/1000\n",
      "23/23 [==============================] - 0s 15ms/step - loss: 0.0927 - pearsonr: 0.3883 - val_loss: 0.0779 - val_pearsonr: 0.4220 - lr: 0.0010\n",
      "Epoch 7/1000\n",
      "23/23 [==============================] - 0s 14ms/step - loss: 0.0923 - pearsonr: 0.3921 - val_loss: 0.0834 - val_pearsonr: 0.4129 - lr: 0.0010\n",
      "Epoch 8/1000\n",
      "23/23 [==============================] - 0s 15ms/step - loss: 0.0882 - pearsonr: 0.4232 - val_loss: 0.0767 - val_pearsonr: 0.4356 - lr: 0.0010\n",
      "Epoch 9/1000\n",
      "23/23 [==============================] - 0s 15ms/step - loss: 0.0856 - pearsonr: 0.4473 - val_loss: 0.0744 - val_pearsonr: 0.4519 - lr: 0.0010\n",
      "Epoch 10/1000\n",
      "23/23 [==============================] - 0s 15ms/step - loss: 0.0836 - pearsonr: 0.4658 - val_loss: 0.0736 - val_pearsonr: 0.4589 - lr: 0.0010\n",
      "Epoch 11/1000\n",
      "23/23 [==============================] - 0s 15ms/step - loss: 0.0824 - pearsonr: 0.4785 - val_loss: 0.0735 - val_pearsonr: 0.4602 - lr: 0.0010\n",
      "Epoch 12/1000\n",
      "23/23 [==============================] - 0s 15ms/step - loss: 0.0841 - pearsonr: 0.4623 - val_loss: 0.0733 - val_pearsonr: 0.4614 - lr: 0.0010\n",
      "Epoch 13/1000\n",
      "23/23 [==============================] - 0s 15ms/step - loss: 0.0798 - pearsonr: 0.4985 - val_loss: 0.0720 - val_pearsonr: 0.4727 - lr: 0.0010\n",
      "Epoch 14/1000\n",
      "23/23 [==============================] - 0s 16ms/step - loss: 0.0779 - pearsonr: 0.5145 - val_loss: 0.0722 - val_pearsonr: 0.4737 - lr: 0.0010\n",
      "Epoch 15/1000\n",
      "23/23 [==============================] - 0s 15ms/step - loss: 0.0758 - pearsonr: 0.5332 - val_loss: 0.0711 - val_pearsonr: 0.4817 - lr: 0.0010\n",
      "Epoch 16/1000\n",
      "23/23 [==============================] - 0s 15ms/step - loss: 0.0759 - pearsonr: 0.5321 - val_loss: 0.0712 - val_pearsonr: 0.4805 - lr: 0.0010\n",
      "Epoch 17/1000\n",
      "23/23 [==============================] - 0s 15ms/step - loss: 0.0739 - pearsonr: 0.5498 - val_loss: 0.0717 - val_pearsonr: 0.4795 - lr: 0.0010\n",
      "Epoch 18/1000\n",
      "23/23 [==============================] - 0s 15ms/step - loss: 0.0742 - pearsonr: 0.5468 - val_loss: 0.0706 - val_pearsonr: 0.4892 - lr: 0.0010\n",
      "Epoch 19/1000\n",
      "23/23 [==============================] - 0s 15ms/step - loss: 0.0715 - pearsonr: 0.5703 - val_loss: 0.0700 - val_pearsonr: 0.4920 - lr: 0.0010\n",
      "Epoch 20/1000\n",
      "23/23 [==============================] - 0s 15ms/step - loss: 0.0729 - pearsonr: 0.5597 - val_loss: 0.0711 - val_pearsonr: 0.5025 - lr: 0.0010\n",
      "Epoch 21/1000\n",
      "23/23 [==============================] - 0s 15ms/step - loss: 0.0702 - pearsonr: 0.5814 - val_loss: 0.0703 - val_pearsonr: 0.4916 - lr: 0.0010\n",
      "Epoch 22/1000\n",
      "23/23 [==============================] - 0s 15ms/step - loss: 0.0690 - pearsonr: 0.5918 - val_loss: 0.0703 - val_pearsonr: 0.4906 - lr: 0.0010\n",
      "Epoch 23/1000\n",
      "23/23 [==============================] - 0s 14ms/step - loss: 0.0686 - pearsonr: 0.5958 - val_loss: 0.0698 - val_pearsonr: 0.4950 - lr: 0.0010\n",
      "Epoch 24/1000\n",
      "23/23 [==============================] - 0s 15ms/step - loss: 0.0687 - pearsonr: 0.5937 - val_loss: 0.0693 - val_pearsonr: 0.4992 - lr: 0.0010\n",
      "Epoch 25/1000\n",
      "23/23 [==============================] - 0s 15ms/step - loss: 0.0664 - pearsonr: 0.6130 - val_loss: 0.0697 - val_pearsonr: 0.4959 - lr: 0.0010\n",
      "Epoch 26/1000\n",
      "23/23 [==============================] - 0s 15ms/step - loss: 0.0666 - pearsonr: 0.6103 - val_loss: 0.0753 - val_pearsonr: 0.4823 - lr: 0.0010\n",
      "Epoch 27/1000\n",
      "23/23 [==============================] - 0s 15ms/step - loss: 0.0659 - pearsonr: 0.6182 - val_loss: 0.0703 - val_pearsonr: 0.4959 - lr: 0.0010\n",
      "Epoch 28/1000\n",
      "23/23 [==============================] - 0s 15ms/step - loss: 0.0652 - pearsonr: 0.6232 - val_loss: 0.0714 - val_pearsonr: 0.4891 - lr: 0.0010\n",
      "Epoch 29/1000\n",
      "23/23 [==============================] - 0s 15ms/step - loss: 0.0637 - pearsonr: 0.6337 - val_loss: 0.0749 - val_pearsonr: 0.5088 - lr: 0.0010\n",
      "Epoch 30/1000\n",
      "23/23 [==============================] - 0s 15ms/step - loss: 0.0649 - pearsonr: 0.6239 - val_loss: 0.0747 - val_pearsonr: 0.4829 - lr: 0.0010\n",
      "Epoch 31/1000\n",
      "23/23 [==============================] - 0s 15ms/step - loss: 0.0641 - pearsonr: 0.6316 - val_loss: 0.0710 - val_pearsonr: 0.5037 - lr: 0.0010\n",
      "Epoch 32/1000\n",
      "23/23 [==============================] - 0s 15ms/step - loss: 0.0635 - pearsonr: 0.6344 - val_loss: 0.0700 - val_pearsonr: 0.4963 - lr: 0.0010\n",
      "Epoch 33/1000\n",
      "23/23 [==============================] - 0s 14ms/step - loss: 0.0620 - pearsonr: 0.6469 - val_loss: 0.0703 - val_pearsonr: 0.4946 - lr: 0.0010\n",
      "Epoch 34/1000\n",
      "23/23 [==============================] - 0s 15ms/step - loss: 0.0612 - pearsonr: 0.6535 - val_loss: 0.0701 - val_pearsonr: 0.4948 - lr: 0.0010\n",
      "Epoch 35/1000\n",
      "23/23 [==============================] - 0s 15ms/step - loss: 0.0620 - pearsonr: 0.6475 - val_loss: 0.0721 - val_pearsonr: 0.4973 - lr: 0.0010\n",
      "Epoch 36/1000\n",
      "23/23 [==============================] - 0s 14ms/step - loss: 0.0606 - pearsonr: 0.6571 - val_loss: 0.0709 - val_pearsonr: 0.4925 - lr: 0.0010\n",
      "Epoch 37/1000\n",
      "23/23 [==============================] - 0s 14ms/step - loss: 0.0595 - pearsonr: 0.6664 - val_loss: 0.0713 - val_pearsonr: 0.4963 - lr: 5.0000e-04\n",
      "Epoch 38/1000\n",
      "23/23 [==============================] - 0s 15ms/step - loss: 0.0597 - pearsonr: 0.6650 - val_loss: 0.0715 - val_pearsonr: 0.4932 - lr: 5.0000e-04\n",
      "Epoch 39/1000\n",
      "23/23 [==============================] - 0s 14ms/step - loss: 0.0590 - pearsonr: 0.6698 - val_loss: 0.0711 - val_pearsonr: 0.4873 - lr: 5.0000e-04\n",
      "Epoch 40/1000\n",
      "23/23 [==============================] - 0s 15ms/step - loss: 0.0590 - pearsonr: 0.6702 - val_loss: 0.0714 - val_pearsonr: 0.4959 - lr: 5.0000e-04\n",
      "Epoch 41/1000\n",
      "23/23 [==============================] - 0s 15ms/step - loss: 0.0590 - pearsonr: 0.6703 - val_loss: 0.0708 - val_pearsonr: 0.4905 - lr: 5.0000e-04\n",
      "Epoch 42/1000\n",
      "23/23 [==============================] - 0s 15ms/step - loss: 0.0587 - pearsonr: 0.6726 - val_loss: 0.0711 - val_pearsonr: 0.4872 - lr: 5.0000e-04\n",
      "Epoch 43/1000\n",
      "23/23 [==============================] - 0s 15ms/step - loss: 0.0590 - pearsonr: 0.6676 - val_loss: 0.0742 - val_pearsonr: 0.4795 - lr: 5.0000e-04\n",
      "Epoch 44/1000\n",
      "21/23 [==========================>...] - ETA: 0s - loss: 0.0593 - pearsonr: 0.6608Restoring model weights from the end of the best epoch: 29.\n",
      "23/23 [==============================] - 0s 16ms/step - loss: 0.0599 - pearsonr: 0.6625 - val_loss: 0.0713 - val_pearsonr: 0.4853 - lr: 5.0000e-04\n",
      "Epoch 44: early stopping\n",
      "CPU times: user 19.2 s, sys: 1.18 s, total: 20.4 s\n",
      "Wall time: 20.3 s\n"
     ]
    }
   ],
   "source": [
    "%%time\n",
    "\n",
    "\n",
    "history = model.fit(x=train_data[0].numpy()[0][:,0,:,:],\n",
    "                    y=train_data[0].numpy()[1].squeeze(axis=1)[:,0],\n",
    "                      epochs=1000,\n",
    "                    validation_data=(eval_data[0].numpy()[0][:,0,:,:],\n",
    "                            eval_data[0].numpy()[1].squeeze(axis=1)[:,0]),\n",
    "                        callbacks=[\n",
    "                         #  save_best, \n",
    "                           early_stop,\n",
    "                            lradjust, \n",
    "                                 ]\n",
    "             )"
   ]
  },
  {
   "cell_type": "code",
   "execution_count": 292,
   "id": "b5b5f766-5401-4043-a609-66f3811288d8",
   "metadata": {},
   "outputs": [],
   "source": [
    "# model.save('best_PTBP1')"
   ]
  },
  {
   "cell_type": "code",
   "execution_count": null,
   "id": "ade28743-e677-468d-9e40-0f0d9b62fe03",
   "metadata": {},
   "outputs": [],
   "source": []
  },
  {
   "cell_type": "markdown",
   "id": "652ca502-d4c4-4483-9fca-b796b3d0cfa8",
   "metadata": {},
   "source": [
    "# Shap model interpretation"
   ]
  },
  {
   "cell_type": "code",
   "execution_count": 293,
   "id": "0115b8a4-c5f2-41a9-b64d-7211e5fe1f5e",
   "metadata": {},
   "outputs": [
    {
     "data": {
      "text/plain": [
       "'/nowakowskilab/data1/derek/data_scSLR/prenatal_brain/deep_splicing/ExplaiNN/data_out/EN_RG_multitask_DeltaPSI_sig_0.1_train_valid_deepripe/fold3/'"
      ]
     },
     "execution_count": 293,
     "metadata": {},
     "output_type": "execute_result"
    }
   ],
   "source": [
    "data_dir"
   ]
  },
  {
   "cell_type": "code",
   "execution_count": null,
   "id": "8aabb40b-754d-4ee6-997c-f405f70a2f16",
   "metadata": {},
   "outputs": [],
   "source": []
  },
  {
   "cell_type": "code",
   "execution_count": 294,
   "id": "99ce1e28-7a80-411f-a4f9-b234b3593c5a",
   "metadata": {},
   "outputs": [],
   "source": [
    "# %%time\n",
    "# # get gene names for training exons\n",
    "# import requests\n",
    "\n",
    "# genes = pd.read_csv(data_dir+'genes.csv')\n",
    "# genes['ID'] = genes['Unnamed: 0'].str.split('_',expand=True)[3]\n",
    "\n",
    "\n",
    "\n",
    "# server = \"http://rest.ensembl.org\"\n",
    "\n",
    "# names_dict = {}\n",
    "\n",
    "# for ID in genes['ID']:\n",
    "\n",
    "#     ext = f\"/lookup/id/{ID}?expand=1\"\n",
    "\n",
    "#     r = requests.get(server+ext, headers={ \"Content-Type\" : \"application/json\"})\n",
    "#     if not r.ok:\n",
    "#           r.raise_for_status()\n",
    "#           sys.exit()\n",
    "\n",
    "#     decoded = r.json()\n",
    "    \n",
    "#     names_dict[ID] = decoded['display_name']\n",
    "\n",
    "# genes['name'] = genes.ID.map(names_dict)\n",
    "\n",
    "# genes.to_csv(data_dir+'genes_named.csv',index=False)\n",
    "\n",
    "genes = pd.read_csv('/nowakowskilab/data1/derek/data_scSLR/prenatal_brain/deep_splicing/ExplaiNN/data_out/EN_RG_multitask_DeltaPSI_sig_0.1_train_valid_deepripe/'+'genes_named.csv')\n",
    "\n",
    "genes_valid = genes[genes.split == 'valid']"
   ]
  },
  {
   "cell_type": "code",
   "execution_count": null,
   "id": "e1a440b0-1a9e-43e2-b688-8cf731826af6",
   "metadata": {},
   "outputs": [],
   "source": []
  },
  {
   "cell_type": "code",
   "execution_count": 295,
   "id": "b1731b04-fef2-443f-b125-1fa1d7c2d93a",
   "metadata": {},
   "outputs": [],
   "source": [
    "from deeplift.dinuc_shuffle import dinuc_shuffle\n",
    "\n",
    "def shuffle_several_times(s):\n",
    "    s = np.squeeze(s)\n",
    "    return dinuc_shuffle(s, num_shufs=100, \n",
    "                        rng=np.random.RandomState(1)\n",
    "    )\n",
    "\n",
    "import shap\n",
    "shap.explainers._deep.deep_tf.op_handlers[\"Split\"] = shap.explainers._deep.deep_tf.passthrough\n",
    "\n",
    "np.random.seed(1)"
   ]
  },
  {
   "cell_type": "code",
   "execution_count": 296,
   "id": "8cf72f84-a4fd-4d47-ab19-286ee09cb41d",
   "metadata": {},
   "outputs": [
    {
     "name": "stderr",
     "output_type": "stream",
     "text": [
      "/c4/home/derek/miniconda3/envs/deepripe/lib/python3.10/site-packages/shap/explainers/_deep/deep_tf.py:99: UserWarning: Your TensorFlow version is newer than 2.4.0 and so graph support has been removed in eager mode and some static graphs may not be supported. See PR #1483 for discussion.\n",
      "  warnings.warn(\"Your TensorFlow version is newer than 2.4.0 and so graph support has been removed in eager mode and some static graphs may not be supported. See PR #1483 for discussion.\")\n"
     ]
    }
   ],
   "source": [
    "dinuc_shuff_explainer = shap.DeepExplainer(model, shuffle_several_times)"
   ]
  },
  {
   "cell_type": "code",
   "execution_count": 297,
   "id": "0afe426c-6503-4c2c-a407-c21b97abffe8",
   "metadata": {},
   "outputs": [],
   "source": [
    "seqs_to_explain = eval_data[0].numpy()[0][:,0,:,:]"
   ]
  },
  {
   "cell_type": "code",
   "execution_count": 298,
   "id": "0fc4ac50-ebaf-4f0a-8e73-9707d6efa654",
   "metadata": {},
   "outputs": [
    {
     "name": "stderr",
     "output_type": "stream",
     "text": [
      "/c4/home/derek/miniconda3/envs/deepripe/lib/python3.10/site-packages/keras/backend.py:451: UserWarning: `tf.keras.backend.set_learning_phase` is deprecated and will be removed after 2020-10-11. To update it, simply pass a True/False value to the `training` argument of the `__call__` method of your layer or model.\n",
      "  warnings.warn(\n"
     ]
    }
   ],
   "source": [
    "raw_shap_explanations = dinuc_shuff_explainer.shap_values(seqs_to_explain, check_additivity=False)"
   ]
  },
  {
   "cell_type": "code",
   "execution_count": 299,
   "id": "e95de27d-9c46-45fa-b062-2ac0404d9e7c",
   "metadata": {},
   "outputs": [],
   "source": [
    "dinuc_shuff_explanations = np.sum(raw_shap_explanations, axis=-1) * seqs_to_explain"
   ]
  },
  {
   "cell_type": "code",
   "execution_count": 300,
   "id": "88e8d583-eefd-4242-98bc-80796ec7695b",
   "metadata": {},
   "outputs": [],
   "source": [
    "# dinuc_shuff_explanations_glia = dinuc_shuff_explanations.copy()"
   ]
  },
  {
   "cell_type": "code",
   "execution_count": 301,
   "id": "103d5d24-6595-4ed7-9aab-79c19875931c",
   "metadata": {},
   "outputs": [
    {
     "name": "stdout",
     "output_type": "stream",
     "text": [
      "SCRIB\n",
      "ENSG00000180900\n",
      "0.6558755557690148\n",
      "chr8_143791666_143791740_ENSG00000180900_-\n",
      "idx: 90\n"
     ]
    },
    {
     "data": {
      "image/png": "[encoded data removed]",
      "text/plain": [
       "<Figure size 2000x100 with 1 Axes>"
      ]
     },
     "metadata": {},
     "output_type": "display_data"
    }
   ],
   "source": [
    "# # project the importance at each position onto the base that's actually present\n",
    "for idx, dinuc_shuff_explanation in zip(list(range(dinuc_shuff_explanations.shape[0])), dinuc_shuff_explanations):\n",
    "    \n",
    "    if idx == 90:\n",
    "        \n",
    "        print(genes_valid.iloc[idx]['name'])\n",
    "        print(genes_valid.iloc[idx]['ID'])\n",
    "        print(genes_valid.iloc[idx]['0'])\n",
    "        print(genes_valid.iloc[idx]['Unnamed: 0'])\n",
    "        print(f\"idx: {idx}\")\n",
    "            \n",
    "        logo = logomaker.Logo(pd.DataFrame(dinuc_shuff_explanation[600:800,:], columns=['A', 'C', 'G', 'U']),\n",
    "                                          shade_below=.5,\n",
    "                                        fade_below=.5,\n",
    "                                        # font_name='Arial Rounded MT Bold',\n",
    "                                       show_spines=False,\n",
    "                                        figsize=(20, 1),\n",
    "                      )\n",
    "        \n",
    "        plt.show()"
   ]
  },
  {
   "cell_type": "code",
   "execution_count": null,
   "id": "0a20cec7-0c3a-44d4-81d5-3b3988ce84d5",
   "metadata": {},
   "outputs": [],
   "source": []
  },
  {
   "cell_type": "code",
   "execution_count": null,
   "id": "60b83ec6-a376-428e-8f42-d120d89f67f9",
   "metadata": {},
   "outputs": [],
   "source": []
  },
  {
   "cell_type": "code",
   "execution_count": null,
   "id": "80619a04-2a8a-4728-9404-f0ed9d7e79e4",
   "metadata": {},
   "outputs": [],
   "source": []
  },
  {
   "cell_type": "code",
   "execution_count": null,
   "id": "600929ef-7c95-4253-a132-3993deca4731",
   "metadata": {},
   "outputs": [],
   "source": []
  },
  {
   "cell_type": "code",
   "execution_count": null,
   "id": "581b70cd-244b-4584-9a55-f6303ce7161b",
   "metadata": {},
   "outputs": [],
   "source": []
  },
  {
   "cell_type": "code",
   "execution_count": null,
   "id": "b1ab502a-974b-467c-9416-7e13d2d9ca04",
   "metadata": {},
   "outputs": [],
   "source": [
    "break"
   ]
  },
  {
   "cell_type": "code",
   "execution_count": 157,
   "id": "4d726ba6-0fca-41f4-8e62-25d2a5423da0",
   "metadata": {},
   "outputs": [
    {
     "name": "stderr",
     "output_type": "stream",
     "text": [
      "/scratch/derek/ipykernel_387137/422997286.py:41: UserWarning: set_ticklabels() should only be used with a fixed number of ticks, i.e. after set_ticks() or using a FixedLocator.\n",
      "  axes[1].set(xticklabels=['-220','-200','-180','-160','-140','-120','-100','-80','-60','-40','-20','0'])\n"
     ]
    },
    {
     "data": {
      "image/png": "[encoded data removed]",
      "text/plain": [
       "<Figure size 1400x400 with 2 Axes>"
      ]
     },
     "metadata": {},
     "output_type": "display_data"
    }
   ],
   "source": [
    "fig, axes = plt.subplots(nrows=2, figsize=(14, 4))\n",
    "\n",
    "fig.subplots_adjust(hspace=0.2)\n",
    "\n",
    "\n",
    "\n",
    "logomaker.Logo(pd.DataFrame(dinuc_shuff_explanations_neurons[36,0:200,:], columns=['A', 'C', 'G', 'U']),\n",
    "                                      shade_below=.5,\n",
    "                                    fade_below=.5,\n",
    "                                    # font_name='Arial Rounded MT Bold',\n",
    "                                   ax = axes[0],\n",
    "                                   show_spines=True\n",
    "                                  )\n",
    "\n",
    "axes[0].spines['right'].set_visible(False)\n",
    "axes[0].spines['top'].set_visible(False)\n",
    "axes[0].spines['bottom'].set_visible(False)\n",
    "\n",
    "axes[0].set_ylim([-0.012, 0.012])\n",
    "\n",
    "axes[0].get_xaxis().set_ticks([])\n",
    "\n",
    "axes[0].set(ylabel=\"Importance\")\n",
    "\n",
    "\n",
    "logomaker.Logo(pd.DataFrame(dinuc_shuff_explanations_glia[36,0:200,:], columns=['A', 'C', 'G', 'U']),\n",
    "                             \n",
    "                                      shade_below=.5,\n",
    "                                    fade_below=.5,\n",
    "                                    # font_name='Arial Rounded MT Bold',\n",
    "                                   ax = axes[1],\n",
    "                                   show_spines=True\n",
    "                                  )\n",
    "\n",
    "# ax.set_xlim([xmin, xmax])\n",
    "axes[1].set_ylim([-0.012, 0.012])\n",
    "\n",
    "axes[1].spines['right'].set_visible(False)\n",
    "axes[1].spines['top'].set_visible(False)\n",
    "\n",
    "axes[1].set(xticklabels=['-220','-200','-180','-160','-140','-120','-100','-80','-60','-40','-20','0'])\n",
    "\n",
    "axes[1].xaxis.set_major_locator(plt.MaxNLocator(11))\n",
    "\n",
    "# axes[1].set(xticklabels=['-10','0','10','20','30','40','50','60','70','80','90','100'])\n",
    "\n",
    "\n",
    "axes[1].set(xlabel=\"Distance from 5' splice site (bp)\")\n",
    "\n",
    "axes[1].set(ylabel=\"Importance\")\n",
    "\n",
    "\n",
    "fig.savefig('deepshap_PKM_.pdf')\n"
   ]
  },
  {
   "cell_type": "code",
   "execution_count": null,
   "id": "6721d178-2eee-4148-ad2a-02db960c161a",
   "metadata": {},
   "outputs": [],
   "source": []
  },
  {
   "cell_type": "code",
   "execution_count": null,
   "id": "7f703a85-1545-485c-bb3f-6053849f97fc",
   "metadata": {},
   "outputs": [],
   "source": []
  },
  {
   "cell_type": "code",
   "execution_count": null,
   "id": "129db151-49cf-443a-8407-7bcc59fa629e",
   "metadata": {},
   "outputs": [],
   "source": []
  },
  {
   "cell_type": "code",
   "execution_count": null,
   "id": "4a7ddb89-6b6b-40ec-8d13-18c8e44f3f5b",
   "metadata": {},
   "outputs": [],
   "source": []
  },
  {
   "cell_type": "code",
   "execution_count": null,
   "id": "32f1d955-ab93-4cc5-a831-c8c619085255",
   "metadata": {},
   "outputs": [],
   "source": []
  },
  {
   "cell_type": "code",
   "execution_count": null,
   "id": "875e3c3b-bff2-474b-8c5e-b8654fe54b00",
   "metadata": {},
   "outputs": [],
   "source": []
  },
  {
   "cell_type": "code",
   "execution_count": null,
   "id": "fc435513-c31f-4b35-be57-7550e751a95d",
   "metadata": {},
   "outputs": [],
   "source": []
  },
  {
   "cell_type": "markdown",
   "id": "fee9b4b5-0ef0-4868-9ad5-4e9b64f1ab8a",
   "metadata": {},
   "source": [
    "# Sequentially Plot all Tracks"
   ]
  },
  {
   "cell_type": "code",
   "execution_count": null,
   "id": "c5460d5f-f1c6-4dee-aebe-75df7751a68f",
   "metadata": {},
   "outputs": [],
   "source": []
  },
  {
   "cell_type": "code",
   "execution_count": null,
   "id": "2fa1c9a7-4660-4053-8e9d-1236f61f4fc3",
   "metadata": {},
   "outputs": [],
   "source": [
    "# # project the importance at each position onto the base that's actually present\n",
    "for idx, dinuc_shuff_explanation in zip(list(range(dinuc_shuff_explanations.shape[0])), dinuc_shuff_explanations):\n",
    "    \n",
    "    print(genes_valid.iloc[idx]['name'])\n",
    "    print(genes_valid.iloc[idx]['ID'])\n",
    "    print(f\"idx: {idx}\")\n",
    "        \n",
    "    logo = logomaker.Logo(pd.DataFrame(dinuc_shuff_explanation[0:seq_len,:], columns=['A', 'C', 'G', 'U']),\n",
    "                                      shade_below=.5,\n",
    "                                    fade_below=.5,\n",
    "                                    # font_name='Arial Rounded MT Bold',\n",
    "                                   show_spines=False,\n",
    "                                    figsize=(60, 1),\n",
    "                  )\n",
    "    plt.vlines(x=(200,600), ymin= logo.ax.get_ylim()[0], ymax= logo.ax.get_ylim()[1] )\n",
    "    \n",
    "    plt.show()"
   ]
  },
  {
   "cell_type": "code",
   "execution_count": null,
   "id": "e022df10-b684-44c1-991d-80ad34292f85",
   "metadata": {},
   "outputs": [],
   "source": [
    "break"
   ]
  },
  {
   "cell_type": "code",
   "execution_count": null,
   "id": "d2e3a38b-ee8f-4e5e-af18-41b917c9144a",
   "metadata": {},
   "outputs": [],
   "source": []
  },
  {
   "cell_type": "code",
   "execution_count": null,
   "id": "dcbc2550-5a82-4b82-b145-9d8e4c24271d",
   "metadata": {},
   "outputs": [],
   "source": []
  },
  {
   "cell_type": "code",
   "execution_count": null,
   "id": "63de324b-68ea-483f-8054-e90513a6321e",
   "metadata": {},
   "outputs": [],
   "source": [
    "eval_data[0].numpy()[0][]"
   ]
  },
  {
   "cell_type": "code",
   "execution_count": null,
   "id": "7fc1f22c-1feb-4069-a470-8f6c463ef85f",
   "metadata": {},
   "outputs": [],
   "source": [
    "seqs_to_explain"
   ]
  },
  {
   "cell_type": "code",
   "execution_count": null,
   "id": "a6700e15-8ddc-4f12-88c4-daa21bc440f1",
   "metadata": {},
   "outputs": [],
   "source": [
    "# dinuc_shuff_explanations = np.sum(raw_shap_explanations_glia, axis=-1) * seqs_to_explain\n"
   ]
  },
  {
   "cell_type": "code",
   "execution_count": null,
   "id": "3fbf6229-6c5e-4d3c-849a-aff53fc3e723",
   "metadata": {},
   "outputs": [],
   "source": []
  },
  {
   "cell_type": "code",
   "execution_count": null,
   "id": "d666d8b8-9296-4c56-89c1-0a9f76c720f6",
   "metadata": {},
   "outputs": [],
   "source": [
    "fig, ax = plt.subplots(nrows=1, figsize=(20, 1.5))\n",
    "\n",
    "\n",
    "logomaker.Logo(pd.DataFrame(dinuc_shuff_explanations[90,600:800,:], columns=['A', 'C', 'G', 'U']),\n",
    "                                      shade_below=.5,\n",
    "                                    fade_below=.5,\n",
    "                                    # font_name='Arial Rounded MT Bold',\n",
    "                                   ax = ax,\n",
    "                                   show_spines=True\n",
    "                                  )\n",
    "\n",
    "# ax.set_xlim([xmin, xmax])\n",
    "ax.set_ylim([-0.013, 0.013])\n",
    "\n",
    "ax.spines['right'].set_visible(False)\n",
    "ax.spines['top'].set_visible(False)\n",
    "\n"
   ]
  },
  {
   "cell_type": "code",
   "execution_count": null,
   "id": "9dfe6e78-be65-4c92-82fe-60426d1d9561",
   "metadata": {},
   "outputs": [],
   "source": [
    "170"
   ]
  },
  {
   "cell_type": "code",
   "execution_count": null,
   "id": "c04c31b0-4114-4939-9860-cc5c1cdf38d6",
   "metadata": {},
   "outputs": [],
   "source": [
    "# dinuc_shuff_explanations_neurons = dinuc_shuff_explanations.copy()"
   ]
  },
  {
   "cell_type": "code",
   "execution_count": null,
   "id": "f2249780-f65d-4a0b-8ebe-dfcfee08f586",
   "metadata": {},
   "outputs": [],
   "source": [
    "pd.DataFrame(dinuc_shuff_explanations_neurons[70,0:200,:], columns=['A', 'C', 'G', 'U'])"
   ]
  },
  {
   "cell_type": "code",
   "execution_count": null,
   "id": "d2f8c79f-9300-4fcc-948b-3b1390ea6151",
   "metadata": {},
   "outputs": [],
   "source": []
  },
  {
   "cell_type": "code",
   "execution_count": null,
   "id": "7f81ad98-49f0-4254-905e-16c56ac2dbd4",
   "metadata": {},
   "outputs": [],
   "source": [
    "fig, axes = plt.subplots(nrows=2, figsize=(22, 2))\n",
    "\n",
    "fig.subplots_adjust(hspace=0.2)\n",
    "\n",
    "\n",
    "\n",
    "logomaker.Logo(pd.DataFrame(dinuc_shuff_explanations_neurons[70,0:200,:], columns=['A', 'C', 'G', 'U']),\n",
    "                                      shade_below=.5,\n",
    "                                    fade_below=.5,\n",
    "                                    # font_name='Arial Rounded MT Bold',\n",
    "                                   ax = axes[0],\n",
    "                                   show_spines=True\n",
    "                                  )\n",
    "\n",
    "axes[0].spines['right'].set_visible(False)\n",
    "axes[0].spines['top'].set_visible(False)\n",
    "axes[0].spines['bottom'].set_visible(True)\n",
    "\n",
    "axes[0].set_ylim([0, 0.015])\n",
    "\n",
    "axes[0].get_xaxis().set_ticks([])\n",
    "\n",
    "axes[0].set(ylabel=\"Importance\")\n",
    "\n",
    "\n",
    "logomaker.Logo(pd.DataFrame(dinuc_shuff_explanations[70,0:200,:], columns=['A', 'C', 'G', 'U']),\n",
    "                             \n",
    "                                      shade_below=.5,\n",
    "                                    fade_below=1,\n",
    "                                    # font_name='Arial Rounded MT Bold',\n",
    "                                   ax = axes[1],\n",
    "                                   show_spines=True\n",
    "                                  )\n",
    "\n",
    "# ax.set_xlim([xmin, xmax])\n",
    "axes[1].set_ylim([0, 0.015])\n",
    "\n",
    "axes[1].spines['right'].set_visible(False)\n",
    "axes[1].spines['top'].set_visible(False)\n",
    "\n",
    "axes[1].set(xticklabels=['-220','-200','-180','-160','-140','-120','-100','-80','-60'])\n",
    "\n",
    "# axes[1].xaxis.set_major_locator(plt.MaxNLocator(10))\n",
    "\n",
    "# axes[1].set(xticklabels=['-10','0','10','20','30','40','50','60','70','80','90','100'])\n",
    "\n",
    "\n",
    "axes[1].set(xlabel=\"Distance from 5' splice site (bp)\")\n",
    "\n",
    "axes[1].set(ylabel=\"Importance\")\n",
    "\n",
    "\n",
    "# fig.savefig('deepshap_SCRIB_.pdf')\n",
    "\n"
   ]
  },
  {
   "cell_type": "code",
   "execution_count": null,
   "id": "d955fdc6-d3db-497f-9a7e-72262cd81305",
   "metadata": {},
   "outputs": [],
   "source": []
  },
  {
   "cell_type": "code",
   "execution_count": null,
   "id": "c4f4b750-91e0-40ee-9ba9-50043dbfaa18",
   "metadata": {},
   "outputs": [],
   "source": [
    "break"
   ]
  },
  {
   "cell_type": "code",
   "execution_count": null,
   "id": "5b0d8b3b-8c9b-4c1f-b896-925bbd000d61",
   "metadata": {},
   "outputs": [],
   "source": []
  },
  {
   "cell_type": "markdown",
   "id": "5556e63e-056d-4ca8-83f3-1bf632453403",
   "metadata": {},
   "source": [
    "# TF-MoDisco motif clustering"
   ]
  },
  {
   "cell_type": "code",
   "execution_count": null,
   "id": "c61a50ee-fa0a-4868-938a-3af55ae52b5a",
   "metadata": {},
   "outputs": [],
   "source": [
    "pwd"
   ]
  },
  {
   "cell_type": "code",
   "execution_count": null,
   "id": "ea41d01d-ec4e-40e8-81a9-1ebe4a44e9e4",
   "metadata": {},
   "outputs": [],
   "source": [
    "if not os.path.exists('./eval'):\n",
    "    os.makedirs('./eval')\n",
    "    \n",
    "if not os.path.exists(f'./eval/modisco_outs'):\n",
    "    os.makedirs(f'./eval/modisco_outs')\n",
    "    \n",
    "modisco_outs = f'./eval/modisco_outs/'"
   ]
  },
  {
   "cell_type": "code",
   "execution_count": null,
   "id": "5acae545-3ca4-41fa-b5d8-505e204caf96",
   "metadata": {},
   "outputs": [],
   "source": [
    "# import vizsequence\n",
    "import h5py as h5\n",
    "\n",
    "# from vizsequence.viz_sequence import plot_a, plot_c, plot_g, plot_u, rna_plot_funcs"
   ]
  },
  {
   "cell_type": "code",
   "execution_count": null,
   "id": "e4ca2d78-affd-473a-906c-7834038f94d3",
   "metadata": {},
   "outputs": [],
   "source": []
  },
  {
   "cell_type": "code",
   "execution_count": null,
   "id": "6cb9f702-e353-4ece-80c9-5e8209c21a30",
   "metadata": {},
   "outputs": [],
   "source": []
  },
  {
   "cell_type": "code",
   "execution_count": null,
   "id": "318e8046-915e-4047-b2cd-38692d657505",
   "metadata": {},
   "outputs": [],
   "source": [
    "np.save(modisco_outs+'ohe.npy', onehot_data.transpose(0, 2, 1))\n",
    "\n",
    "np.save(modisco_outs+'ig.npy', dinuc_shuff_explanations.transpose(0, 2, 1))"
   ]
  },
  {
   "cell_type": "code",
   "execution_count": null,
   "id": "53cc8ed6-0f67-4711-9775-2bd4f176d932",
   "metadata": {},
   "outputs": [],
   "source": []
  },
  {
   "cell_type": "code",
   "execution_count": null,
   "id": "d5789fb5-e7e3-408d-9cf1-f95fb44cb6a3",
   "metadata": {},
   "outputs": [],
   "source": []
  },
  {
   "cell_type": "code",
   "execution_count": null,
   "id": "66d837dc-a63e-4bc7-baa7-ec4ff794e475",
   "metadata": {},
   "outputs": [],
   "source": [
    "import sys\n",
    "!{sys.executable} -m pip install modisco-lite"
   ]
  },
  {
   "cell_type": "code",
   "execution_count": null,
   "id": "a0443b9c-3efe-40db-91c8-a6be51b48247",
   "metadata": {},
   "outputs": [],
   "source": [
    "%%bash\n",
    "\n",
    "modisco motifs -h"
   ]
  },
  {
   "cell_type": "code",
   "execution_count": null,
   "id": "19b9c93d-0b38-4ac3-a5b0-a6eab4351171",
   "metadata": {},
   "outputs": [],
   "source": [
    "%%bash\n",
    "\n",
    "modisco motifs -s ./eval/modisco_outs/ohe.npy \\\n",
    "                -a ./eval/modisco_outs/ig.npy \\\n",
    "                -n 2000 \\\n",
    "                -w 250 \\\n",
    "                -o modisco_results.h5 \\"
   ]
  },
  {
   "cell_type": "code",
   "execution_count": null,
   "id": "9150f4fd-2290-4fa0-be04-02c9eadd5ada",
   "metadata": {},
   "outputs": [],
   "source": [
    "%%bash\n",
    "\n",
    "modisco report -i ./modisco_results.h5 \\\n",
    "               -o ./modisco_report/ \\\n",
    "               -s ./modisco_report/ \\\n",
    "                # -m ./motifs.ttx"
   ]
  },
  {
   "cell_type": "code",
   "execution_count": null,
   "id": "457a3174-cddc-4842-be7b-0b932edd3f43",
   "metadata": {},
   "outputs": [],
   "source": []
  },
  {
   "cell_type": "code",
   "execution_count": null,
   "id": "d34e56e7-89dd-4d65-a6f1-73a8a06ea0c7",
   "metadata": {},
   "outputs": [],
   "source": []
  },
  {
   "cell_type": "code",
   "execution_count": null,
   "id": "736c9d48-ff59-4b8a-b74d-6a1c27e5d0b8",
   "metadata": {},
   "outputs": [],
   "source": []
  },
  {
   "cell_type": "code",
   "execution_count": null,
   "id": "976a6b5b-a1b9-4bde-92e2-2400b48afcfe",
   "metadata": {},
   "outputs": [],
   "source": []
  },
  {
   "cell_type": "code",
   "execution_count": null,
   "id": "5d5dda76-a97e-41a4-95f0-410523c9c052",
   "metadata": {},
   "outputs": [],
   "source": []
  },
  {
   "cell_type": "code",
   "execution_count": null,
   "id": "ac0a919b-41d4-490a-8fed-7947235205d8",
   "metadata": {},
   "outputs": [],
   "source": []
  },
  {
   "cell_type": "code",
   "execution_count": null,
   "id": "d565cfa0-c3bc-4509-8716-2c8869f19ea4",
   "metadata": {},
   "outputs": [],
   "source": []
  },
  {
   "cell_type": "code",
   "execution_count": null,
   "id": "013eb699-1f31-4c27-b00b-66f16b19f74f",
   "metadata": {},
   "outputs": [],
   "source": []
  },
  {
   "cell_type": "code",
   "execution_count": null,
   "id": "4dd81a0c-6968-4c99-8b11-c137fccc326a",
   "metadata": {},
   "outputs": [],
   "source": []
  }
 ],
 "metadata": {
  "kernelspec": {
   "display_name": "Python 3 (ipykernel)",
   "language": "python",
   "name": "python3"
  },
  "language_info": {
   "codemirror_mode": {
    "name": "ipython",
    "version": 3
   },
   "file_extension": ".py",
   "mimetype": "text/x-python",
   "name": "python",
   "nbconvert_exporter": "python",
   "pygments_lexer": "ipython3",
   "version": "3.9.15"
  }
 },
 "nbformat": 4,
 "nbformat_minor": 5
}
