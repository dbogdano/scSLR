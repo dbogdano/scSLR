{
 "cells": [
  {
   "cell_type": "code",
   "execution_count": 1,
   "id": "8f7d210b-af8d-46cf-b2ec-89dbc7f018b9",
   "metadata": {},
   "outputs": [
    {
     "name": "stdout",
     "output_type": "stream",
     "text": [
      "Mon Oct 28 02:08:26 PDT 2024\n"
     ]
    }
   ],
   "source": [
    "!date"
   ]
  },
  {
   "cell_type": "code",
   "execution_count": 2,
   "id": "ccb605a4-3863-4f46-9262-df1381330a46",
   "metadata": {},
   "outputs": [
    {
     "data": {
      "text/plain": [
       "'/c4/home/derek/miniconda3/envs/deepripe'"
      ]
     },
     "execution_count": 2,
     "metadata": {},
     "output_type": "execute_result"
    }
   ],
   "source": [
    "%env CONDA_PREFIX"
   ]
  },
  {
   "cell_type": "code",
   "execution_count": null,
   "id": "1e36cd29-d7ef-4573-bfd0-4649c876d7b8",
   "metadata": {},
   "outputs": [],
   "source": []
  },
  {
   "cell_type": "markdown",
   "id": "d92fa589-bffa-47b4-bc3d-9a918621c421",
   "metadata": {},
   "source": [
    "# Motifs from DeepRipe Models"
   ]
  },
  {
   "cell_type": "code",
   "execution_count": 3,
   "id": "86aeec92-16aa-4ec2-8120-9f5935c8e580",
   "metadata": {},
   "outputs": [],
   "source": [
    "import numpy as np\n",
    "np.random.seed(1)\n",
    "\n",
    "import os\n",
    "import random\n",
    "import sys\n",
    "import glob\n",
    "import tqdm\n",
    "\n",
    "os.environ['TF_CPP_MIN_LOG_LEVEL']='2'"
   ]
  },
  {
   "cell_type": "code",
   "execution_count": 4,
   "id": "97c243af-fcab-4547-96ea-f1825da07e3c",
   "metadata": {},
   "outputs": [],
   "source": [
    "import pandas as pd\n",
    "import scipy as sci\n",
    "import seaborn as sns\n",
    "import matplotlib.pyplot as plt\n",
    "import logomaker\n",
    "\n",
    "\n",
    "from pathlib import Path\n",
    "import json\n",
    "import shutil\n",
    "import h5py as h5\n",
    "\n",
    "\n",
    "import pysam \n",
    "from scipy.stats import pearsonr, spearmanr\n",
    "\n",
    "\n",
    "#import modified basenji modules \n",
    "sys.path.append(\"/nowakowskilab/data1/derek/data_scSLR/prenatal_brain/deep_splicing\")\n",
    "from basenji_.basenji.dna_io import dna_1hot\n",
    "\n",
    "import tensorflow as tf\n",
    "from keras import regularizers"
   ]
  },
  {
   "cell_type": "code",
   "execution_count": 5,
   "id": "2870dc94-7080-41a4-a3d4-4b703bd550de",
   "metadata": {},
   "outputs": [
    {
     "name": "stdout",
     "output_type": "stream",
     "text": [
      "Num GPUs Available:  1\n"
     ]
    }
   ],
   "source": [
    "print(\"Num GPUs Available: \", len(tf.config.list_physical_devices('GPU')))"
   ]
  },
  {
   "cell_type": "code",
   "execution_count": 5,
   "id": "751ac677-9a5a-48df-a645-b27d73ecf9d2",
   "metadata": {},
   "outputs": [],
   "source": [
    "##set memory usage \n",
    "\n",
    "gpus = tf.config.experimental.list_physical_devices('GPU')\n",
    "for gpu in gpus:\n",
    "  tf.config.experimental.set_memory_growth(gpu, True)"
   ]
  },
  {
   "cell_type": "markdown",
   "id": "3b96f88b-758f-4c27-8a1e-a76215988c32",
   "metadata": {},
   "source": [
    "## get DeepRipe Model"
   ]
  },
  {
   "cell_type": "code",
   "execution_count": 6,
   "id": "476ce92c-0f09-4442-9caa-10c315d195ab",
   "metadata": {},
   "outputs": [],
   "source": [
    "model_path = '/nowakowskilab/data1/derek/data_scSLR/prenatal_brain/deep_splicing/DeepRiPe/'"
   ]
  },
  {
   "cell_type": "code",
   "execution_count": 7,
   "id": "35bc5b9f-a849-4a72-8d4e-3f8753159b74",
   "metadata": {},
   "outputs": [],
   "source": [
    "sys.path.append(model_path+'Scripts/')\n",
    "\n",
    "from util_funcs import precision, recall\n",
    "\n",
    "custom_objects={'precision':precision,\n",
    "                'recall':recall,\n",
    "                  }"
   ]
  },
  {
   "cell_type": "code",
   "execution_count": null,
   "id": "1c781ee3-8e02-4f13-a80d-b3e3d6da55cc",
   "metadata": {},
   "outputs": [],
   "source": []
  },
  {
   "cell_type": "code",
   "execution_count": 8,
   "id": "aea5df9f-2317-4458-8cf3-cfa5ba9d675a",
   "metadata": {},
   "outputs": [],
   "source": [
    "model_low = tf.keras.models.load_model(model_path+'Results/PARCLIP_models/hek293/parclip_model_parclip_hek293_low_region.h5',\n",
    "                                   custom_objects = custom_objects, compile=True)"
   ]
  },
  {
   "cell_type": "code",
   "execution_count": 8,
   "id": "0c879f10-a1b0-4432-90c6-67317167656e",
   "metadata": {},
   "outputs": [],
   "source": [
    "model_mid1 = tf.keras.models.load_model(model_path+'Results/Encode_models/K562/eclip_model_encode_K562_mid1_seq.h5',\n",
    "                                   custom_objects = custom_objects, compile=True)"
   ]
  },
  {
   "cell_type": "code",
   "execution_count": 9,
   "id": "6e938a45-e1b0-4480-8a9c-bca28e16a311",
   "metadata": {},
   "outputs": [
    {
     "data": {
      "text/plain": [
       "[<KerasTensor: shape=(None, 27) dtype=float32 (created by layer 'output')>]"
      ]
     },
     "execution_count": 9,
     "metadata": {},
     "output_type": "execute_result"
    }
   ],
   "source": [
    "model_low.outputs"
   ]
  },
  {
   "cell_type": "code",
   "execution_count": null,
   "id": "9ba31d6d-d284-4393-a91a-12a0915ae091",
   "metadata": {},
   "outputs": [],
   "source": []
  },
  {
   "cell_type": "markdown",
   "id": "233532ac-0e7b-4c88-8cf1-a85c14e1b3f5",
   "metadata": {},
   "source": [
    "## get data"
   ]
  },
  {
   "cell_type": "code",
   "execution_count": 11,
   "id": "ba0eadd9-50ab-464c-8f6f-c9c1ace932cf",
   "metadata": {},
   "outputs": [],
   "source": [
    "# for motif identifcation, use all cassette exons from MAJIQ annotation, 31713 cassette exons"
   ]
  },
  {
   "cell_type": "code",
   "execution_count": 14,
   "id": "caaab87d-fddf-4034-9a6e-bf4022e35402",
   "metadata": {},
   "outputs": [],
   "source": [
    "#import modified basenji modules \n",
    "sys.path.append(\"/nowakowskilab/data1/derek/data_scSLR/prenatal_brain/deep_splicing/basenji_/\")\n",
    "\n",
    "from basenji_.basenji import dataset, dataset_\n",
    "\n",
    "from basenji_.basenji.metrics import PearsonR"
   ]
  },
  {
   "cell_type": "code",
   "execution_count": 19,
   "id": "8bd1455d-b96f-405f-ad31-9f8b4dd34f99",
   "metadata": {},
   "outputs": [],
   "source": [
    "out_dir = '/nowakowskilab/data1/derek/data_scSLR/prenatal_brain/deep_splicing/transfer_learning//data_out/ALL_CASSETTE_PARCLIP_tfrecord/'\n",
    "\n",
    "data_dir = [out_dir+'/fold1/']\n",
    "params_file = data_dir[0]+'params.json'"
   ]
  },
  {
   "cell_type": "code",
   "execution_count": 20,
   "id": "df0a2fee-9350-4233-a3be-d0df8d3f2a1a",
   "metadata": {},
   "outputs": [
    {
     "data": {
      "text/plain": [
       "['/nowakowskilab/data1/derek/data_scSLR/prenatal_brain/deep_splicing/transfer_learning//data_out/ALL_CASSETTE_PARCLIP_tfrecord//fold1/']"
      ]
     },
     "execution_count": 20,
     "metadata": {},
     "output_type": "execute_result"
    }
   ],
   "source": [
    "data_dir"
   ]
  },
  {
   "cell_type": "code",
   "execution_count": 21,
   "id": "2dd39f44-3ad0-4873-bc5d-f17b3191e6a0",
   "metadata": {},
   "outputs": [],
   "source": [
    "with open(params_file) as params_open:\n",
    "          params = json.load(params_open)\n",
    "params_model = params['model']\n",
    "params_train = params['train']\n",
    "os.makedirs(out_dir, exist_ok=True)\n",
    "if params_file != '%s/params.json' % out_dir:\n",
    "    shutil.copy(params_file, '%s/params.json' % out_dir)"
   ]
  },
  {
   "cell_type": "code",
   "execution_count": 22,
   "id": "2070a27c-2779-44ea-9c18-c3cb7ebcc1bc",
   "metadata": {},
   "outputs": [],
   "source": [
    "#read datasets\n",
    "train_data = []\n",
    "\n",
    "seq_track=True\n",
    "\n",
    "\n",
    "for data_dir in data_dir:\n",
    "    # load train data\n",
    "    train_data.append(dataset_.ExonDataset(data_dir,\n",
    "        split_label='train',\n",
    "        batch_size=params_train['batch_size'],\n",
    "        shuffle_buffer=params_train.get('shuffle_buffer', params_model['seq_length']),\n",
    "        mode='train',\n",
    "        splice_track=False,\n",
    "        annotation_tracks=True\n",
    "                                         ))"
   ]
  },
  {
   "cell_type": "code",
   "execution_count": null,
   "id": "c48eb4a1-0d5b-49f5-b486-9a4c61244f0b",
   "metadata": {},
   "outputs": [],
   "source": []
  },
  {
   "cell_type": "code",
   "execution_count": null,
   "id": "cc9a5ce4-91bf-4ce1-9e74-54ed5f1e6730",
   "metadata": {},
   "outputs": [],
   "source": []
  },
  {
   "cell_type": "code",
   "execution_count": 23,
   "id": "9a37641f-4e22-4964-bbc1-bbebe2fb2e85",
   "metadata": {},
   "outputs": [],
   "source": [
    "onehot_data = train_data[0].numpy()[0][0][:,0,:,:]"
   ]
  },
  {
   "cell_type": "code",
   "execution_count": 24,
   "id": "0047a6a0-d0f8-4f84-83c5-2be4fe6bf684",
   "metadata": {},
   "outputs": [],
   "source": [
    "onehot_region = train_data[0].numpy()[0][1][:,0,:,:]"
   ]
  },
  {
   "cell_type": "code",
   "execution_count": null,
   "id": "6e55b280-19ea-4628-8966-52f3425c0221",
   "metadata": {},
   "outputs": [],
   "source": []
  },
  {
   "cell_type": "code",
   "execution_count": null,
   "id": "a3cf666c-9ffd-4e89-8fd0-487d4437c4c8",
   "metadata": {},
   "outputs": [],
   "source": []
  },
  {
   "cell_type": "code",
   "execution_count": 26,
   "id": "70e441f2-8ec5-44e8-be80-33acb1e9eaf3",
   "metadata": {},
   "outputs": [],
   "source": [
    "from deeplift.dinuc_shuffle import dinuc_shuffle\n",
    "\n",
    "def shuffle_several_times(s):\n",
    "    s = np.squeeze(s)\n",
    "    return dinuc_shuffle(s, num_shufs=100)"
   ]
  },
  {
   "cell_type": "code",
   "execution_count": 27,
   "id": "afff0121-1304-430d-9dfc-4eb19fd2d22e",
   "metadata": {},
   "outputs": [
    {
     "name": "stderr",
     "output_type": "stream",
     "text": [
      "/c4/home/derek/miniconda3/envs/deepripe/lib/python3.10/site-packages/tqdm/auto.py:21: TqdmWarning: IProgress not found. Please update jupyter and ipywidgets. See https://ipywidgets.readthedocs.io/en/stable/user_install.html\n",
      "  from .autonotebook import tqdm as notebook_tqdm\n",
      "/c4/home/derek/miniconda3/envs/deepripe/lib/python3.10/site-packages/shap/explainers/_deep/deep_tf.py:99: UserWarning: Your TensorFlow version is newer than 2.4.0 and so graph support has been removed in eager mode and some static graphs may not be supported. See PR #1483 for discussion.\n",
      "  warnings.warn(\"Your TensorFlow version is newer than 2.4.0 and so graph support has been removed in eager mode and some static graphs may not be supported. See PR #1483 for discussion.\")\n"
     ]
    }
   ],
   "source": [
    "import shap\n",
    "shap.explainers._deep.deep_tf.op_handlers[\"Split\"] = shap.explainers._deep.deep_tf.passthrough\n",
    "\n",
    "np.random.seed(1)\n",
    "\n",
    "seqs_to_explain = onehot_data\n",
    "dinuc_shuff_explainer = shap.DeepExplainer(model_low, shuffle_several_times)"
   ]
  },
  {
   "cell_type": "code",
   "execution_count": 20,
   "id": "ab14a23e-f4dd-4a1c-950e-526d629315af",
   "metadata": {},
   "outputs": [],
   "source": [
    "seqs_to_explain_subet = seqs_to_explain[:5000,600:800,:]"
   ]
  },
  {
   "cell_type": "code",
   "execution_count": 21,
   "id": "e755d254-8700-4f8e-9afa-b03aa3b91258",
   "metadata": {},
   "outputs": [
    {
     "data": {
      "text/plain": [
       "(5000, 200, 4)"
      ]
     },
     "execution_count": 21,
     "metadata": {},
     "output_type": "execute_result"
    }
   ],
   "source": [
    "seqs_to_explain_subet.shape"
   ]
  },
  {
   "cell_type": "code",
   "execution_count": 22,
   "id": "645892cc-3b4a-4dfc-8f0e-a12c0e04a0a9",
   "metadata": {},
   "outputs": [
    {
     "name": "stderr",
     "output_type": "stream",
     "text": [
      "/c4/home/derek/miniconda3/envs/deepripe/lib/python3.10/site-packages/keras/backend.py:451: UserWarning: `tf.keras.backend.set_learning_phase` is deprecated and will be removed after 2020-10-11. To update it, simply pass a True/False value to the `training` argument of the `__call__` method of your layer or model.\n",
      "  warnings.warn(\n"
     ]
    },
    {
     "name": "stdout",
     "output_type": "stream",
     "text": [
      "WARNING:tensorflow:From /c4/home/derek/miniconda3/envs/deepripe/lib/python3.10/site-packages/tensorflow/python/autograph/pyct/static_analysis/liveness.py:83: Analyzer.lamba_check (from tensorflow.python.autograph.pyct.static_analysis.liveness) is deprecated and will be removed after 2023-09-23.\n",
      "Instructions for updating:\n",
      "Lambda fuctions will be no more assumed to be used in the statement where they are used, or at least in the same block. https://github.com/tensorflow/tensorflow/issues/56089\n",
      "CPU times: user 22min 21s, sys: 4.13 s, total: 22min 26s\n",
      "Wall time: 22min 42s\n"
     ]
    }
   ],
   "source": [
    "%%time\n",
    "raw_shap_explanations_mid1 = dinuc_shuff_explainer.shap_values(seqs_to_explain_subet, check_additivity=False)"
   ]
  },
  {
   "cell_type": "code",
   "execution_count": 36,
   "id": "706a854d-af14-4ac4-8a99-fe4de4190bcd",
   "metadata": {},
   "outputs": [
    {
     "data": {
      "text/plain": [
       "(2500, 1000, 4)"
      ]
     },
     "execution_count": 36,
     "metadata": {},
     "output_type": "execute_result"
    }
   ],
   "source": [
    "onehot_region.shape"
   ]
  },
  {
   "cell_type": "code",
   "execution_count": 32,
   "id": "2b23b797-cff7-4680-9e6b-ea9ee9d38784",
   "metadata": {},
   "outputs": [
    {
     "ename": "AssertionError",
     "evalue": "Expected a list of model inputs!",
     "output_type": "error",
     "traceback": [
      "\u001b[0;31m---------------------------------------------------------------------------\u001b[0m",
      "\u001b[0;31mAssertionError\u001b[0m                            Traceback (most recent call last)",
      "File \u001b[0;32m<timed exec>:1\u001b[0m\n",
      "File \u001b[0;32m~/miniconda3/envs/deepripe/lib/python3.10/site-packages/shap/explainers/_deep/__init__.py:159\u001b[0m, in \u001b[0;36mDeepExplainer.shap_values\u001b[0;34m(self, X, ranked_outputs, output_rank_order, check_additivity)\u001b[0m\n\u001b[1;32m    115\u001b[0m \u001b[38;5;28;01mdef\u001b[39;00m \u001b[38;5;21mshap_values\u001b[39m(\u001b[38;5;28mself\u001b[39m, X, ranked_outputs\u001b[38;5;241m=\u001b[39m\u001b[38;5;28;01mNone\u001b[39;00m, output_rank_order\u001b[38;5;241m=\u001b[39m\u001b[38;5;124m'\u001b[39m\u001b[38;5;124mmax\u001b[39m\u001b[38;5;124m'\u001b[39m, check_additivity\u001b[38;5;241m=\u001b[39m\u001b[38;5;28;01mTrue\u001b[39;00m):\n\u001b[1;32m    116\u001b[0m \u001b[38;5;250m    \u001b[39m\u001b[38;5;124;03m\"\"\"Return approximate SHAP values for the model applied to the data given by X.\u001b[39;00m\n\u001b[1;32m    117\u001b[0m \n\u001b[1;32m    118\u001b[0m \u001b[38;5;124;03m    Parameters\u001b[39;00m\n\u001b[0;32m   (...)\u001b[0m\n\u001b[1;32m    157\u001b[0m \n\u001b[1;32m    158\u001b[0m \u001b[38;5;124;03m    \"\"\"\u001b[39;00m\n\u001b[0;32m--> 159\u001b[0m     \u001b[38;5;28;01mreturn\u001b[39;00m \u001b[38;5;28;43mself\u001b[39;49m\u001b[38;5;241;43m.\u001b[39;49m\u001b[43mexplainer\u001b[49m\u001b[38;5;241;43m.\u001b[39;49m\u001b[43mshap_values\u001b[49m\u001b[43m(\u001b[49m\u001b[43mX\u001b[49m\u001b[43m,\u001b[49m\u001b[43m \u001b[49m\u001b[43mranked_outputs\u001b[49m\u001b[43m,\u001b[49m\u001b[43m \u001b[49m\u001b[43moutput_rank_order\u001b[49m\u001b[43m,\u001b[49m\u001b[43m \u001b[49m\u001b[43mcheck_additivity\u001b[49m\u001b[38;5;241;43m=\u001b[39;49m\u001b[43mcheck_additivity\u001b[49m\u001b[43m)\u001b[49m\n",
      "File \u001b[0;32m~/miniconda3/envs/deepripe/lib/python3.10/site-packages/shap/explainers/_deep/deep_tf.py:265\u001b[0m, in \u001b[0;36mTFDeep.shap_values\u001b[0;34m(self, X, ranked_outputs, output_rank_order, check_additivity)\u001b[0m\n\u001b[1;32m    263\u001b[0m         X \u001b[38;5;241m=\u001b[39m [X]\n\u001b[1;32m    264\u001b[0m \u001b[38;5;28;01melse\u001b[39;00m:\n\u001b[0;32m--> 265\u001b[0m     \u001b[38;5;28;01massert\u001b[39;00m \u001b[38;5;28misinstance\u001b[39m(X, \u001b[38;5;28mlist\u001b[39m), \u001b[38;5;124m\"\u001b[39m\u001b[38;5;124mExpected a list of model inputs!\u001b[39m\u001b[38;5;124m\"\u001b[39m\n\u001b[1;32m    266\u001b[0m \u001b[38;5;28;01massert\u001b[39;00m \u001b[38;5;28mlen\u001b[39m(\u001b[38;5;28mself\u001b[39m\u001b[38;5;241m.\u001b[39mmodel_inputs) \u001b[38;5;241m==\u001b[39m \u001b[38;5;28mlen\u001b[39m(X), \u001b[38;5;124m\"\u001b[39m\u001b[38;5;124mNumber of model inputs (\u001b[39m\u001b[38;5;132;01m%d\u001b[39;00m\u001b[38;5;124m) does not match the number given (\u001b[39m\u001b[38;5;132;01m%d\u001b[39;00m\u001b[38;5;124m)!\u001b[39m\u001b[38;5;124m\"\u001b[39m \u001b[38;5;241m%\u001b[39m (\u001b[38;5;28mlen\u001b[39m(\u001b[38;5;28mself\u001b[39m\u001b[38;5;241m.\u001b[39mmodel_inputs), \u001b[38;5;28mlen\u001b[39m(X))\n\u001b[1;32m    268\u001b[0m \u001b[38;5;66;03m# rank and determine the model outputs that we will explain\u001b[39;00m\n",
      "\u001b[0;31mAssertionError\u001b[0m: Expected a list of model inputs!"
     ]
    }
   ],
   "source": [
    "%%time\n",
    "raw_shap_explanations_mid1 = dinuc_shuff_explainer.shap_values((onehot_data, onehot_region), check_additivity=False)"
   ]
  },
  {
   "cell_type": "code",
   "execution_count": null,
   "id": "f2a26bed-649b-4d3f-bfbd-6c225290c781",
   "metadata": {},
   "outputs": [],
   "source": []
  },
  {
   "cell_type": "code",
   "execution_count": 24,
   "id": "229687ce-4b4a-4aa1-9aa0-0acd03a383fe",
   "metadata": {},
   "outputs": [],
   "source": [
    "raw_shap_explanations_mid1_QKI = raw_shap_explanations_mid1[:,:,:,15:16]"
   ]
  },
  {
   "cell_type": "code",
   "execution_count": 25,
   "id": "793970a4-9151-4883-8fa2-1e5b15272e92",
   "metadata": {},
   "outputs": [
    {
     "data": {
      "text/plain": [
       "'/nowakowskilab/data1/derek/data_scSLR/prenatal_brain/deep_splicing/ExplaiNN'"
      ]
     },
     "execution_count": 25,
     "metadata": {},
     "output_type": "execute_result"
    }
   ],
   "source": [
    "pwd"
   ]
  },
  {
   "cell_type": "code",
   "execution_count": null,
   "id": "1cc76a53-1f30-453f-a27e-d88622ca42db",
   "metadata": {},
   "outputs": [],
   "source": []
  },
  {
   "cell_type": "code",
   "execution_count": 27,
   "id": "2cd244e0-ab97-40b8-b86a-fcab251cab0b",
   "metadata": {},
   "outputs": [],
   "source": [
    "from deeplift.visualization import viz_sequence\n",
    "import logomaker\n",
    "\n",
    "seq_len=200\n",
    "\n",
    "# project the importance at each position onto the base that's actually present\n",
    "dinuc_shuff_explanations = np.sum(raw_shap_explanations_mid1_QKI, axis=-1) * seqs_to_explain_subet\n",
    "# for idx, dinuc_shuff_explanation in zip(list(range(dinuc_shuff_explanations.shape[0])), dinuc_shuff_explanations):\n",
    "    \n",
    "#     print(\"Scores for example\", idx)\n",
    "\n",
    "        \n",
    "#     logo = logomaker.Logo(pd.DataFrame(dinuc_shuff_explanation[0:seq_len,:], columns=['A', 'C', 'G', 'U']),\n",
    "#                                       shade_below=.5,\n",
    "#                                     fade_below=.5,\n",
    "#                                     # font_name='Arial Rounded MT Bold',\n",
    "#                                    show_spines=False,\n",
    "#                                     figsize=(60, 1),\n",
    "#                   )\n",
    "#     plt.vlines(x=(0,200), ymin= logo.ax.get_ylim()[0], ymax= logo.ax.get_ylim()[1] )\n",
    "    \n",
    "#     plt.show()"
   ]
  },
  {
   "cell_type": "code",
   "execution_count": 28,
   "id": "ef4c54a2-fe07-419b-9599-7de0270f0394",
   "metadata": {},
   "outputs": [
    {
     "ename": "SyntaxError",
     "evalue": "'break' outside loop (668683560.py, line 1)",
     "output_type": "error",
     "traceback": [
      "\u001b[0;36m  Cell \u001b[0;32mIn[28], line 1\u001b[0;36m\u001b[0m\n\u001b[0;31m    break\u001b[0m\n\u001b[0m    ^\u001b[0m\n\u001b[0;31mSyntaxError\u001b[0m\u001b[0;31m:\u001b[0m 'break' outside loop\n"
     ]
    }
   ],
   "source": [
    "break"
   ]
  },
  {
   "cell_type": "markdown",
   "id": "2ee0ff15-0de7-41be-b563-ef283dda4739",
   "metadata": {},
   "source": [
    "## TF-MoDisco motif clustering"
   ]
  },
  {
   "cell_type": "code",
   "execution_count": 29,
   "id": "1a6928b8-1995-4595-bd5b-a39c92a316e5",
   "metadata": {},
   "outputs": [],
   "source": [
    "RBP='QKI'"
   ]
  },
  {
   "cell_type": "code",
   "execution_count": null,
   "id": "a3aca4cb-e999-48da-87cf-264a528326f5",
   "metadata": {},
   "outputs": [],
   "source": []
  },
  {
   "cell_type": "code",
   "execution_count": 30,
   "id": "d468867c-6b72-46a1-9174-6a1e14199416",
   "metadata": {},
   "outputs": [],
   "source": [
    "if not os.path.exists('./eval'):\n",
    "    os.makedirs('./eval')\n",
    "    \n",
    "if not os.path.exists(f'./eval/modisco_outs_{RBP}'):\n",
    "    os.makedirs(f'./eval/modisco_outs_{RBP}')\n",
    "    \n",
    "modisco_outs = f'./eval/modisco_outs_{RBP}/'"
   ]
  },
  {
   "cell_type": "code",
   "execution_count": 31,
   "id": "542a62fe-659d-4fa0-a607-b1a243173645",
   "metadata": {},
   "outputs": [
    {
     "data": {
      "text/plain": [
       "(5000, 200, 4)"
      ]
     },
     "execution_count": 31,
     "metadata": {},
     "output_type": "execute_result"
    }
   ],
   "source": [
    "seqs_to_explain_subet.shape"
   ]
  },
  {
   "cell_type": "code",
   "execution_count": 32,
   "id": "a9f37c91-4eec-4144-ad66-2e194fd999a9",
   "metadata": {},
   "outputs": [
    {
     "data": {
      "text/plain": [
       "(5000, 200, 4)"
      ]
     },
     "execution_count": 32,
     "metadata": {},
     "output_type": "execute_result"
    }
   ],
   "source": [
    "dinuc_shuff_explanations.shape"
   ]
  },
  {
   "cell_type": "code",
   "execution_count": 33,
   "id": "d3288748-af06-4140-9dc0-9a310cffd66c",
   "metadata": {},
   "outputs": [],
   "source": [
    "np.save(modisco_outs+'ohe.npy', seqs_to_explain_subet.transpose(0, 2, 1))\n",
    "\n",
    "np.save(modisco_outs+'ig.npy', dinuc_shuff_explanations.transpose(0, 2, 1))"
   ]
  },
  {
   "cell_type": "code",
   "execution_count": 34,
   "id": "b315bff8-ac15-4d4e-a652-7003dad2d09e",
   "metadata": {},
   "outputs": [],
   "source": [
    "# !modisco motifs  -h"
   ]
  },
  {
   "cell_type": "code",
   "execution_count": 35,
   "id": "267c7886-572d-43f5-a779-b44eea718a5f",
   "metadata": {},
   "outputs": [],
   "source": [
    "# !modisco report -h"
   ]
  },
  {
   "cell_type": "code",
   "execution_count": 36,
   "id": "3202f5b0-5dee-49db-b806-47e9d215b093",
   "metadata": {},
   "outputs": [
    {
     "data": {
      "text/plain": [
       "'QKI'"
      ]
     },
     "execution_count": 36,
     "metadata": {},
     "output_type": "execute_result"
    }
   ],
   "source": [
    "RBP"
   ]
  },
  {
   "cell_type": "code",
   "execution_count": 37,
   "id": "1e352fd7-bcfc-4f5d-b945-c1a7567d4662",
   "metadata": {},
   "outputs": [],
   "source": [
    "%%bash -s {RBP}\n",
    "\n",
    "RBP=$1\n",
    "\n",
    "\n",
    "\n",
    "modisco motifs -s ./eval/modisco_outs_${RBP}/ohe.npy \\\n",
    "                -a ./eval/modisco_outs_${RBP}/ig.npy \\\n",
    "                -n 2000 \\\n",
    "                -w 200 \\\n",
    "                -o ./eval/modisco_outs_${RBP}/modisco_results.h5 \\"
   ]
  },
  {
   "cell_type": "code",
   "execution_count": null,
   "id": "91244a80-54e6-4d75-9f52-7e096153f087",
   "metadata": {},
   "outputs": [],
   "source": []
  },
  {
   "cell_type": "code",
   "execution_count": 40,
   "id": "d5c999b7-2be9-401f-82b7-677fd236d295",
   "metadata": {
    "scrolled": true
   },
   "outputs": [
    {
     "name": "stdout",
     "output_type": "stream",
     "text": [
      "\n",
      "Looking for: ['meme']\n",
      "\n",
      "\u001b[?25l\u001b[2K\u001b[0G[+] 0.0s\n",
      "\u001b[2K\u001b[1A\u001b[2K\u001b[0G[+] 0.1s\n",
      "bioconda/linux-64 (check zst) \u001b[33m━━━━━━━━━━━━━━━\u001b[0m   0.0 B @  ??.?MB/s Checking  0.1s\u001b[2K\u001b[1A\u001b[2K\u001b[0G[+] 0.2s\n",
      "bioconda/linux-64 (check zst) \u001b[33m━━━━━━━━━━━━━━━\u001b[0m   0.0 B @  ??.?MB/s Checking  0.2s\u001b[2K\u001b[1A\u001b[2K\u001b[0G[+] 0.3s\n",
      "bioconda/linux-64 (check zst) \u001b[33m━━━━━━━━━━━━━━━\u001b[0m   0.0 B @  ??.?MB/s Checking  0.3s\u001b[2K\u001b[1A\u001b[2K\u001b[0Gbioconda/linux-64 (check zst)                       Checked  0.4s\n",
      "\u001b[?25h\u001b[?25l\u001b[2K\u001b[0G[+] 0.0s\n",
      "\u001b[2K\u001b[1A\u001b[2K\u001b[0Gbioconda/noarch (check zst)                        Checked  0.0s\n",
      "\u001b[?25h\u001b[?25l\u001b[2K\u001b[0G\u001b[?25h\u001b[?25l\u001b[2K\u001b[0G\u001b[?25h\u001b[?25l\u001b[2K\u001b[0G[+] 0.0s\n",
      "pkgs/main/linux-64 (check zst) \u001b[90m━━━━╸\u001b[0m\u001b[33m━━━━━━━━━━━━━━━╸\u001b[0m\u001b[90m━━━━━\u001b[0m   0.0 B Checking  0.0s\u001b[2K\u001b[1A\u001b[2K\u001b[0Gpkgs/main/linux-64 (check zst)                      Checked  0.1s\n",
      "\u001b[?25h\u001b[?25l\u001b[2K\u001b[0G[+] 0.0s\n",
      "\u001b[2K\u001b[1A\u001b[2K\u001b[0Gpkgs/main/noarch (check zst)                       Checked  0.0s\n",
      "\u001b[?25h\u001b[?25l\u001b[2K\u001b[0G[+] 0.0s\n",
      "pkgs/r/linux-64 (check zst) \u001b[90m╸\u001b[0m\u001b[33m━━━━━━━━━━━━━━━━\u001b[0m   0.0 B @  ??.?MB/s Checking  0.0s\u001b[2K\u001b[1A\u001b[2K\u001b[0Gpkgs/r/linux-64 (check zst)                         Checked  0.0s\n",
      "\u001b[?25h\u001b[?25l\u001b[2K\u001b[0G[+] 0.0s\n",
      "pkgs/r/noarch (check zst) \u001b[90m━━━━━━╸\u001b[0m\u001b[33m━━━━━━━━━━━━\u001b[0m   0.0 B @  ??.?MB/s Checking  0.0s\u001b[2K\u001b[1A\u001b[2K\u001b[0Gpkgs/r/noarch (check zst)                           Checked  0.0s\n",
      "\u001b[?25h\u001b[?25l\u001b[2K\u001b[0G[+] 0.0s\n",
      "bcbio/linux-64 (check zst) \u001b[90m╸\u001b[0m\u001b[33m━━━━━━━━━━━━━━━╸\u001b[0m\u001b[90m━\u001b[0m   0.0 B @  ??.?MB/s Checking  0.0s\u001b[2K\u001b[1A\u001b[2K\u001b[0G[+] 0.1s\n",
      "bcbio/linux-64 (check zst) \u001b[90m╸\u001b[0m\u001b[33m━━━━━━━━━━━━━━━╸\u001b[0m\u001b[90m━\u001b[0m   0.0 B @  ??.?MB/s Checking  0.1s\u001b[2K\u001b[1A\u001b[2K\u001b[0Gbcbio/linux-64 (check zst)                          Checked  0.2s\n",
      "\u001b[?25h\u001b[?25l\u001b[2K\u001b[0G[+] 0.0s\n",
      "\u001b[2K\u001b[1A\u001b[2K\u001b[0G[+] 0.1s\n",
      "bcbio/noarch (check zst) \u001b[90m━━━━━╸\u001b[0m\u001b[33m━━━━━━━━━━━━━━\u001b[0m   0.0 B @  ??.?MB/s Checking  0.1s\u001b[2K\u001b[1A\u001b[2K\u001b[0Gbcbio/noarch (check zst)                            Checked  0.2s\n",
      "\u001b[?25h\u001b[?25l\u001b[2K\u001b[0G[+] 0.0s\n",
      "conda-forge/linux-64 \u001b[33m━━━━━━━━━━╸\u001b[0m\u001b[90m━━━━━━━━━━━━\u001b[0m   0.0 B /  ??.?MB @  ??.?MB/s  0.0s\n",
      "bioconda/linux-64    \u001b[90m━━━━╸\u001b[0m\u001b[33m━━━━━━━━━━━━━━━╸\u001b[0m\u001b[90m━━\u001b[0m   0.0 B /  ??.?MB @  ??.?MB/s  0.0s\n",
      "bioconda/noarch      \u001b[90m━━━━━━━━━━╸\u001b[0m\u001b[33m━━━━━━━━━━━━\u001b[0m   0.0 B /  ??.?MB @  ??.?MB/s  0.0s\u001b[2K\u001b[1A\u001b[2K\u001b[1A\u001b[2K\u001b[1A\u001b[2K\u001b[0G[+] 0.1s\n",
      "conda-forge/linux-64 \u001b[33m━━━━━━━━━━━╸\u001b[0m\u001b[90m━━━━━━━━━━━\u001b[0m   0.0 B /  ??.?MB @  ??.?MB/s  0.1s\n",
      "conda-forge/noarch   \u001b[33m━━━━━━━━━━━━━━╸\u001b[0m\u001b[90m━━━━━━━━\u001b[0m   0.0 B /  ??.?MB @  ??.?MB/s  0.1s\n",
      "bioconda/linux-64    \u001b[90m━━━━━━━━━━━━━━━━━━━━━━━\u001b[0m  14.1kB /   4.7MB @ 190.3kB/s  0.1s\n",
      "bioconda/noarch      \u001b[90m━━━━━━━━━━━╸\u001b[0m\u001b[33m━━━━━━━━━━━\u001b[0m   0.0 B /  ??.?MB @  ??.?MB/s  0.1s\n",
      "pkgs/main/linux-64   \u001b[90m━━━━━━━━━━━━━━━━━━━━━━━\u001b[0m  14.1kB /   6.6MB @ 190.2kB/s  0.1s\u001b[2K\u001b[1A\u001b[2K\u001b[1A\u001b[2K\u001b[1A\u001b[2K\u001b[1A\u001b[2K\u001b[1A\u001b[2K\u001b[0G[+] 0.2s\n",
      "conda-forge/linux-64 \u001b[90m━━━━━━━━━━━━━━━━━━━━━━━\u001b[0m   1.4kB /  38.9MB @   7.8kB/s  0.2s\n",
      "conda-forge/noarch   \u001b[90m╸\u001b[0m\u001b[33m━━━━━━━━━━━━━━━╸\u001b[0m\u001b[90m━━━━━━\u001b[0m   0.0 B /  ??.?MB @  ??.?MB/s  0.2s\n",
      "bioconda/linux-64    \u001b[90m━━━━━━━━━━━━━━━━━━━━━━━\u001b[0m 212.5kB /   4.7MB @   1.2MB/s  0.2s\n",
      "bioconda/noarch      \u001b[90m━━━━━━━━━━━━━━━━━━━━━━━\u001b[0m  31.7kB /   4.4MB @ 179.9kB/s  0.2s\n",
      "pkgs/main/linux-64   ━╸\u001b[90m━━━━━━━━━━━━━━━━━━━━━\u001b[0m 784.7kB /   6.6MB @   4.4MB/s  0.2s\u001b[2K\u001b[1A\u001b[2K\u001b[1A\u001b[2K\u001b[1A\u001b[2K\u001b[1A\u001b[2K\u001b[1A\u001b[2K\u001b[0G[+] 0.3s\n",
      "conda-forge/linux-64 \u001b[90m━━━━━━━━━━━━━━━━━━━━━━━\u001b[0m   1.4kB /  38.9MB @   4.9kB/s  0.3s\n",
      "conda-forge/noarch   \u001b[90m━━━╸\u001b[0m\u001b[33m━━━━━━━━━━━━━━━╸\u001b[0m\u001b[90m━━━\u001b[0m   0.0 B /  ??.?MB @  ??.?MB/s  0.3s\n",
      "bioconda/linux-64    ━━━╸\u001b[90m━━━━━━━━━━━━━━━━━━━\u001b[0m 920.8kB /   4.7MB @   3.3MB/s  0.3s\n",
      "bioconda/noarch      ╸\u001b[90m━━━━━━━━━━━━━━━━━━━━━━\u001b[0m 293.9kB /   4.4MB @   1.1MB/s  0.3s\n",
      "pkgs/main/linux-64   ━━━━━╸\u001b[90m━━━━━━━━━━━━━━━━━\u001b[0m   2.0MB /   6.6MB @   7.2MB/s  0.3s\u001b[2K\u001b[1A\u001b[2K\u001b[1A\u001b[2K\u001b[1A\u001b[2K\u001b[1A\u001b[2K\u001b[1A\u001b[2K\u001b[0G[+] 0.4s\n",
      "conda-forge/linux-64 \u001b[90m━━━━━━━━━━━━━━━━━━━━━━━\u001b[0m   8.2kB /  38.9MB @  21.7kB/s  0.4s\n",
      "conda-forge/noarch   \u001b[90m━━━━━╸\u001b[0m\u001b[33m━━━━━━━━━━━━━━━╸\u001b[0m\u001b[90m━\u001b[0m   0.0 B /  ??.?MB @  ??.?MB/s  0.4s\n",
      "bioconda/linux-64    ━━━━━━━╸\u001b[90m━━━━━━━━━━━━━━━\u001b[0m   1.7MB /   4.7MB @   4.6MB/s  0.4s\n",
      "bioconda/noarch      ━━╸\u001b[90m━━━━━━━━━━━━━━━━━━━━\u001b[0m 744.7kB /   4.4MB @   2.0MB/s  0.4s\n",
      "pkgs/main/linux-64   ━━━━━━━━━━━╸\u001b[90m━━━━━━━━━━━\u001b[0m   3.5MB /   6.6MB @   9.3MB/s  0.4s\u001b[2K\u001b[1A\u001b[2K\u001b[1A\u001b[2K\u001b[1A\u001b[2K\u001b[1A\u001b[2K\u001b[1A\u001b[2K\u001b[0G[+] 0.5s\n",
      "conda-forge/linux-64 ╸\u001b[90m━━━━━━━━━━━━━━━━━━━━━━\u001b[0m   2.0MB /  38.9MB @   4.1MB/s  0.5s\n",
      "conda-forge/noarch   \u001b[90m━━━━━━━╸\u001b[0m\u001b[33m━━━━━━━━━━━━━━━\u001b[0m   0.0 B /  ??.?MB @  ??.?MB/s  0.5s\n",
      "bioconda/linux-64    ━━━━━━━━━━╸\u001b[90m━━━━━━━━━━━━\u001b[0m   2.4MB /   4.7MB @   5.0MB/s  0.5s\n",
      "bioconda/noarch      ━━━━╸\u001b[90m━━━━━━━━━━━━━━━━━━\u001b[0m   1.1MB /   4.4MB @   2.2MB/s  0.5s\n",
      "pkgs/main/linux-64   ━━━━━━━━━━━━━━╸\u001b[90m━━━━━━━━\u001b[0m   4.3MB /   6.6MB @   9.1MB/s  0.5s\u001b[2K\u001b[1A\u001b[2K\u001b[1A\u001b[2K\u001b[1A\u001b[2K\u001b[1A\u001b[2K\u001b[1A\u001b[2K\u001b[0G[+] 0.6s\n",
      "conda-forge/linux-64 ━━━╸\u001b[90m━━━━━━━━━━━━━━━━━━━\u001b[0m   8.1MB /  38.9MB @  14.0MB/s  0.6s\n",
      "conda-forge/noarch   \u001b[90m━━━━━━━━━╸\u001b[0m\u001b[33m━━━━━━━━━━━━━\u001b[0m   0.0 B /  ??.?MB @  ??.?MB/s  0.6s\n",
      "bioconda/linux-64    ━━━━━━━━━━━━━╸\u001b[90m━━━━━━━━━\u001b[0m   2.9MB /   4.7MB @   4.9MB/s  0.6s\n",
      "bioconda/noarch      ━━━━━╸\u001b[90m━━━━━━━━━━━━━━━━━\u001b[0m   1.3MB /   4.4MB @   2.3MB/s  0.6s\n",
      "pkgs/main/linux-64   ━━━━━━━━━━━━━━╸\u001b[90m━━━━━━━━\u001b[0m   4.5MB /   6.6MB @   7.8MB/s  0.6s\u001b[2K\u001b[1A\u001b[2K\u001b[1A\u001b[2K\u001b[1A\u001b[2K\u001b[1A\u001b[2K\u001b[1A\u001b[2K\u001b[0G[+] 0.7s\n",
      "conda-forge/linux-64 ━━━━━━━━╸\u001b[90m━━━━━━━━━━━━━━\u001b[0m  16.7MB /  38.9MB @  24.6MB/s  0.7s\n",
      "conda-forge/noarch   \u001b[90m━━━━━━━━━━━╸\u001b[0m\u001b[33m━━━━━━━━━━━\u001b[0m   0.0 B /  ??.?MB @  ??.?MB/s  0.7s\n",
      "bioconda/linux-64    ━━━━━━━━━━━━━━╸\u001b[90m━━━━━━━━\u001b[0m   3.2MB /   4.7MB @   4.7MB/s  0.7s\n",
      "bioconda/noarch      ━━━━━╸\u001b[90m━━━━━━━━━━━━━━━━━\u001b[0m   1.3MB /   4.4MB @   2.0MB/s  0.7s\n",
      "pkgs/main/linux-64   ━━━━━━━━━━━━━━╸\u001b[90m━━━━━━━━\u001b[0m   4.5MB /   6.6MB @   6.7MB/s  0.7s\u001b[2K\u001b[1A\u001b[2K\u001b[1A\u001b[2K\u001b[1A\u001b[2K\u001b[1A\u001b[2K\u001b[1A\u001b[2K\u001b[0G[+] 0.8s\n",
      "conda-forge/linux-64 ━━━━━━━━━━━━━╸\u001b[90m━━━━━━━━━\u001b[0m  24.6MB /  38.9MB @  31.5MB/s  0.8s\n",
      "conda-forge/noarch   \u001b[33m━━━━━━━━╸\u001b[0m\u001b[90m━━━━━━━━━━━━━━\u001b[0m   0.0 B /  ??.?MB @  ??.?MB/s  0.8s\n",
      "bioconda/linux-64    ━━━━━━━━━━━━━━╸\u001b[90m━━━━━━━━\u001b[0m   3.2MB /   4.7MB @   4.1MB/s  0.8s\n",
      "bioconda/noarch      ━━━━━╸\u001b[90m━━━━━━━━━━━━━━━━━\u001b[0m   1.3MB /   4.4MB @   1.7MB/s  0.8s\n",
      "pkgs/main/linux-64   ━━━━━━━━━━━━━━╸\u001b[90m━━━━━━━━\u001b[0m   4.5MB /   6.6MB @   5.8MB/s  0.8s\u001b[2K\u001b[1A\u001b[2K\u001b[1A\u001b[2K\u001b[1A\u001b[2K\u001b[1A\u001b[2K\u001b[1A\u001b[2K\u001b[0G[+] 0.9s\n",
      "conda-forge/linux-64 ━━━━━━━━━━━━━━━━━╸\u001b[90m━━━━━\u001b[0m  31.4MB /  38.9MB @  35.7MB/s  0.9s\n",
      "conda-forge/noarch   \u001b[90m━━━━━━━━━━━━━━━━━━━━━━━\u001b[0m 249.1kB /  16.8MB @ 283.4kB/s  0.9s\n",
      "bioconda/linux-64    ━━━━━━━━━━━━━━╸\u001b[90m━━━━━━━━\u001b[0m   3.2MB /   4.7MB @   3.6MB/s  0.9s\n",
      "bioconda/noarch      ━━━━━╸\u001b[90m━━━━━━━━━━━━━━━━━\u001b[0m   1.3MB /   4.4MB @   1.5MB/s  0.9s\n",
      "pkgs/main/linux-64   ━━━━━━━━━━━━━━╸\u001b[90m━━━━━━━━\u001b[0m   4.5MB /   6.6MB @   5.2MB/s  0.9s\u001b[2K\u001b[1A\u001b[2K\u001b[1A\u001b[2K\u001b[1A\u001b[2K\u001b[1A\u001b[2K\u001b[1A\u001b[2K\u001b[0G[+] 1.0s\n",
      "conda-forge/linux-64 ━━━━━━━━━━━━━━━━━━━╸\u001b[90m━━━\u001b[0m  35.2MB /  38.9MB @  36.0MB/s  1.0s\n",
      "conda-forge/noarch   ━━━╸\u001b[90m━━━━━━━━━━━━━━━━━━━\u001b[0m   3.6MB /  16.8MB @   3.7MB/s  1.0s\n",
      "bioconda/linux-64    ━━━━━━━━━━━━━━━╸\u001b[90m━━━━━━━\u001b[0m   3.4MB /   4.7MB @   3.4MB/s  1.0s\n",
      "bioconda/noarch      ━━━━━━━╸\u001b[90m━━━━━━━━━━━━━━━\u001b[0m   1.5MB /   4.4MB @   1.6MB/s  1.0s\n",
      "pkgs/main/linux-64   ━━━━━━━━━━━━━━╸\u001b[90m━━━━━━━━\u001b[0m   4.5MB /   6.6MB @   4.6MB/s  1.0s\u001b[2K\u001b[1A\u001b[2K\u001b[1A\u001b[2K\u001b[1A\u001b[2K\u001b[1A\u001b[2K\u001b[1A\u001b[2K\u001b[0G[+] 1.1s\n",
      "conda-forge/linux-64 ━━━━━━━━━━━━━━━━━━━━━╸\u001b[90m━\u001b[0m  37.8MB /  38.9MB @  35.0MB/s  1.1s\n",
      "conda-forge/noarch   ━━━━━━━━━━━━━╸\u001b[90m━━━━━━━━━\u001b[0m  10.4MB /  16.8MB @   9.6MB/s  1.1s\n",
      "bioconda/linux-64    ━━━━━━━━━━━━━━━━╸\u001b[90m━━━━━━\u001b[0m   3.7MB /   4.7MB @   3.4MB/s  1.1s\n",
      "bioconda/noarch      ━━━━━━━╸\u001b[90m━━━━━━━━━━━━━━━\u001b[0m   1.7MB /   4.4MB @   1.6MB/s  1.1s\n",
      "pkgs/main/linux-64   ━━━━━━━━━━━━━━╸\u001b[90m━━━━━━━━\u001b[0m   4.5MB /   6.6MB @   4.2MB/s  1.1s\u001b[2K\u001b[1A\u001b[2K\u001b[1A\u001b[2K\u001b[1A\u001b[2K\u001b[1A\u001b[2K\u001b[1A\u001b[2K\u001b[0G[+] 1.2s\n",
      "conda-forge/linux-64 ━━━━━━━━━━━━━━━━━━━━━╸\u001b[90m━\u001b[0m  38.7MB /  38.9MB @  34.3MB/s  1.2s\n",
      "conda-forge/noarch   ━━━━━━━━━━━━━━━━━╸\u001b[90m━━━━━\u001b[0m  13.7MB /  16.8MB @  12.1MB/s  1.2s\n",
      "bioconda/linux-64    ━━━━━━━━━━━━━━━━━━╸\u001b[90m━━━━\u001b[0m   3.9MB /   4.7MB @   3.4MB/s  1.2s\n",
      "bioconda/noarch      ━━━━━━━━━╸\u001b[90m━━━━━━━━━━━━━\u001b[0m   1.9MB /   4.4MB @   1.7MB/s  1.2s\n",
      "pkgs/main/linux-64   ━━━━━━━━━━━━━━╸\u001b[90m━━━━━━━━\u001b[0m   4.5MB /   6.6MB @   4.0MB/s  1.2s\n",
      "bcbio/linux-64       \u001b[90m━━━━╸\u001b[0m\u001b[33m━━━━━━━━━━━━━━━╸\u001b[0m\u001b[90m━━\u001b[0m   0.0 B /  ??.?MB @  ??.?MB/s  0.1s\u001b[2K\u001b[1A\u001b[2K\u001b[1A\u001b[2K\u001b[1A\u001b[2K\u001b[1A\u001b[2K\u001b[1A\u001b[2K\u001b[1A\u001b[2K\u001b[0G[+] 1.3s\n",
      "conda-forge/linux-64 ━━━━━━━━━━━━━━━━━━━━━╸\u001b[90m━\u001b[0m  38.7MB /  38.9MB @  34.3MB/s  1.3s\n",
      "conda-forge/noarch   ━━━━━━━━━━━━━━━━━╸\u001b[90m━━━━━\u001b[0m  13.7MB /  16.8MB @  12.1MB/s  1.3s\n",
      "bioconda/linux-64    ━━━━━━━━━━━━━━━━━━╸\u001b[90m━━━━\u001b[0m   3.9MB /   4.7MB @   3.4MB/s  1.3s\n",
      "bioconda/noarch      ━━━━━━━━━╸\u001b[90m━━━━━━━━━━━━━\u001b[0m   1.9MB /   4.4MB @   1.7MB/s  1.3s\n",
      "pkgs/main/linux-64   ━━━━━━━━━━━━━━╸\u001b[90m━━━━━━━━\u001b[0m   4.5MB /   6.6MB @   4.0MB/s  1.3s\n",
      "bcbio/linux-64       \u001b[90m━━━━╸\u001b[0m\u001b[33m━━━━━━━━━━━━━━━╸\u001b[0m\u001b[90m━━\u001b[0m   0.0 B /  ??.?MB @  ??.?MB/s  0.2s\u001b[2K\u001b[1A\u001b[2K\u001b[1A\u001b[2K\u001b[1A\u001b[2K\u001b[1A\u001b[2K\u001b[1A\u001b[2K\u001b[1A\u001b[2K\u001b[0G[+] 1.4s\n",
      "conda-forge/linux-64 ━━━━━━━━━━━━━━━━━━━━━╸\u001b[90m━\u001b[0m  38.7MB /  38.9MB @  34.3MB/s  1.4s\n",
      "conda-forge/noarch   ━━━━━━━━━━━━━━━━━╸\u001b[90m━━━━━\u001b[0m  13.7MB /  16.8MB @  12.1MB/s  1.4s\n",
      "bioconda/linux-64    ━━━━━━━━━━━━━━━━━━╸\u001b[90m━━━━\u001b[0m   3.9MB /   4.7MB @   3.4MB/s  1.4s\n",
      "bioconda/noarch      ━━━━━━━━━╸\u001b[90m━━━━━━━━━━━━━\u001b[0m   1.9MB /   4.4MB @   1.7MB/s  1.4s\n",
      "pkgs/main/linux-64   ━━━━━━━━━━━━━━╸\u001b[90m━━━━━━━━\u001b[0m   4.5MB /   6.6MB @   4.0MB/s  1.4s\n",
      "bcbio/linux-64       \u001b[90m━━━━╸\u001b[0m\u001b[33m━━━━━━━━━━━━━━━╸\u001b[0m\u001b[90m━━\u001b[0m   0.0 B /  ??.?MB @  ??.?MB/s  0.3s\u001b[2K\u001b[1A\u001b[2K\u001b[1A\u001b[2K\u001b[1A\u001b[2K\u001b[1A\u001b[2K\u001b[1A\u001b[2K\u001b[1A\u001b[2K\u001b[0Gconda-forge/linux-64                                38.9MB @  34.2MB/s  1.5s\n",
      "[+] 1.5s\n",
      "conda-forge/noarch ━━━━━━━━━━━━━━━━━━━╸\u001b[90m━━━━\u001b[0m  14.4MB @   9.7MB/s             1.5s\n",
      "bioconda/linux-64  ━━━━━━━━━━━━━━━━━━━╸\u001b[90m━━━━\u001b[0m   4.1MB @   2.8MB/s             1.5s\n",
      "bioconda/noarch    ━━━━━━━━━━╸\u001b[90m━━━━━━━━━━━━━\u001b[0m   2.1MB @   1.4MB/s             1.5s\n",
      "pkgs/main/linux-64 ━━━━━━━━━━━━━━━╸\u001b[90m━━━━━━━━\u001b[0m   4.6MB @   3.1MB/s             1.5s\n",
      "bcbio/linux-64     ━━━━━━━━━━━━━━━━━━━━━━━━   0.0 B @  ??.?MB/s Downloaded  0.4s\n",
      "bcbio/noarch       \u001b[33m━━━━━━━━━━━━━━━╸\u001b[0m\u001b[90m━━━━━━━━\u001b[0m   0.0 B @  ??.?MB/s             0.0s\u001b[2K\u001b[1A\u001b[2K\u001b[1A\u001b[2K\u001b[1A\u001b[2K\u001b[1A\u001b[2K\u001b[1A\u001b[2K\u001b[1A\u001b[2K\u001b[0Gbcbio/linux-64                                                No change\n",
      "bioconda/linux-64                                  @   3.1MB/s  1.6s\n",
      "[+] 1.6s\n",
      "conda-forge/noarch ━━━━━━━━━━━━━━━━━━━━━╸\u001b[90m━━━\u001b[0m  15.2MB /  16.8MB @   9.7MB/s  1.6s\n",
      "bioconda/noarch    ━━━━━━━━━━━━━━━━╸\u001b[90m━━━━━━━━\u001b[0m   3.0MB /   4.4MB @   1.9MB/s  1.6s\n",
      "pkgs/main/linux-64 ━━━━━━━━━━━━━━━━╸\u001b[90m━━━━━━━━\u001b[0m   4.6MB /   6.6MB @   2.9MB/s  1.6s\n",
      "pkgs/r/linux-64    \u001b[33m━━━━━━━━━━━╸\u001b[0m\u001b[90m━━━━━━━━━━━━━\u001b[0m   0.0 B /  ??.?MB @  ??.?MB/s  0.1s\n",
      "pkgs/r/noarch      \u001b[90m━━━━━━━╸\u001b[0m\u001b[33m━━━━━━━━━━━━━━━╸\u001b[0m\u001b[90m━\u001b[0m   0.0 B /  ??.?MB @  ??.?MB/s  0.0s\n",
      "bcbio/noarch       \u001b[90m╸\u001b[0m\u001b[33m━━━━━━━━━━━━━━━╸\u001b[0m\u001b[90m━━━━━━━━\u001b[0m   0.0 B /  ??.?MB @  ??.?MB/s  0.1s\u001b[2K\u001b[1A\u001b[2K\u001b[1A\u001b[2K\u001b[1A\u001b[2K\u001b[1A\u001b[2K\u001b[1A\u001b[2K\u001b[1A\u001b[2K\u001b[0G[+] 1.7s\n",
      "conda-forge/noarch ━━━━━━━━━━━━━━━━━━━━━╸\u001b[90m━━━\u001b[0m  15.2MB /  16.8MB @   9.7MB/s  1.7s\n",
      "bioconda/noarch    ━━━━━━━━━━━━━━━━╸\u001b[90m━━━━━━━━\u001b[0m   3.0MB /   4.4MB @   1.9MB/s  1.7s\n",
      "pkgs/main/linux-64 ━━━━━━━━━━━━━━━━╸\u001b[90m━━━━━━━━\u001b[0m   4.6MB /   6.6MB @   2.9MB/s  1.7s\n",
      "pkgs/r/linux-64    \u001b[33m━━━━━━━━━━━╸\u001b[0m\u001b[90m━━━━━━━━━━━━━\u001b[0m   0.0 B /  ??.?MB @  ??.?MB/s  0.2s\n",
      "pkgs/r/noarch      \u001b[90m━━━━━━━╸\u001b[0m\u001b[33m━━━━━━━━━━━━━━━╸\u001b[0m\u001b[90m━\u001b[0m   0.0 B /  ??.?MB @  ??.?MB/s  0.1s\n",
      "bcbio/noarch       \u001b[90m╸\u001b[0m\u001b[33m━━━━━━━━━━━━━━━╸\u001b[0m\u001b[90m━━━━━━━━\u001b[0m   0.0 B /  ??.?MB @  ??.?MB/s  0.2s\u001b[2K\u001b[1A\u001b[2K\u001b[1A\u001b[2K\u001b[1A\u001b[2K\u001b[1A\u001b[2K\u001b[1A\u001b[2K\u001b[1A\u001b[2K\u001b[0Gconda-forge/noarch                                  16.8MB @  10.6MB/s  1.7s\n",
      "bcbio/noarch                                                  No change\n",
      "pkgs/r/linux-64                                               No change\n",
      "[+] 1.8s\n",
      "bioconda/noarch    ━━━━━━━━━━━━━━━━━━━━━╸\u001b[90m━━━\u001b[0m   4.0MB /   4.4MB @   2.2MB/s  1.8s\n",
      "pkgs/main/linux-64 ━━━━━━━━━━━━━━━━╸\u001b[90m━━━━━━━━\u001b[0m   4.7MB /   6.6MB @   2.6MB/s  1.8s\n",
      "pkgs/main/noarch   \u001b[33m━━━━━━━━━╸\u001b[0m\u001b[90m━━━━━━━━━━━━━━━\u001b[0m   0.0 B /  ??.?MB @  ??.?MB/s  0.1s\n",
      "pkgs/r/noarch      \u001b[90m━━━━━━━━━━╸\u001b[0m\u001b[33m━━━━━━━━━━━━━━\u001b[0m   0.0 B /  ??.?MB @  ??.?MB/s  0.2s\u001b[2K\u001b[1A\u001b[2K\u001b[1A\u001b[2K\u001b[1A\u001b[2K\u001b[1A\u001b[2K\u001b[0Gbioconda/noarch                                      4.4MB @   2.4MB/s  1.8s\n",
      "[+] 1.9s\n",
      "pkgs/main/linux-64 ━━━━━━━━━━━━━━━━━╸\u001b[90m━━━━━━━\u001b[0m   4.9MB /   6.6MB @   2.6MB/s  1.9s\n",
      "pkgs/main/noarch   \u001b[33m━━━━━━━━━━╸\u001b[0m\u001b[90m━━━━━━━━━━━━━━\u001b[0m   0.0 B /  ??.?MB @  ??.?MB/s  0.2s\n",
      "pkgs/r/noarch      \u001b[90m━━━━━━━━━━━╸\u001b[0m\u001b[33m━━━━━━━━━━━━━\u001b[0m   0.0 B /  ??.?MB @  ??.?MB/s  0.3s\u001b[2K\u001b[1A\u001b[2K\u001b[1A\u001b[2K\u001b[1A\u001b[2K\u001b[0Gpkgs/main/noarch                                   716.7kB @ 369.1kB/s  0.2s\n",
      "pkgs/r/noarch                                                 No change\n",
      "[+] 2.0s\n",
      "pkgs/main/linux-64 ━━━━━━━━━━━━━━━━━━╸\u001b[90m━━━━━━\u001b[0m   5.1MB /   6.6MB @   2.6MB/s  2.0s\u001b[2K\u001b[1A\u001b[2K\u001b[0G[+] 2.1s\n",
      "pkgs/main/linux-64 ━━━━━━━━━━━━━━━━━━━━╸\u001b[90m━━━━\u001b[0m   5.6MB /   6.6MB @   2.7MB/s  2.1s\u001b[2K\u001b[1A\u001b[2K\u001b[0G[+] 2.2s\n",
      "pkgs/main/linux-64 ━━━━━━━━━━━━━━━━━━━━━━╸\u001b[90m━━\u001b[0m   6.1MB /   6.6MB @   2.8MB/s  2.2s\u001b[2K\u001b[1A\u001b[2K\u001b[0G[+] 2.3s\n",
      "pkgs/main/linux-64 ━━━━━━━━━━━━━━━━━━━━━━━╸\u001b[90m━\u001b[0m   6.4MB /   6.6MB @   2.9MB/s  2.3s\u001b[2K\u001b[1A\u001b[2K\u001b[0Gpkgs/main/linux-64                                   6.6MB @   2.9MB/s  2.3s\n",
      "\u001b[?25h\n",
      "Pinned packages:\n",
      "  - python 3.10.*\n",
      "\n",
      "\n",
      "Transaction\n",
      "\n",
      "  Prefix: /c4/home/derek/miniconda3/envs/deepripe\n",
      "\n",
      "  Updating specs:\n",
      "\n",
      "   - meme\n",
      "   - ca-certificates\n",
      "   - certifi\n",
      "   - openssl\n",
      "\n",
      "\n",
      "  Package                              Version  Build                Channel          Size\n",
      "────────────────────────────────────────────────────────────────────────────────────────────\n",
      "  Install:\n",
      "────────────────────────────────────────────────────────────────────────────────────────────\n",
      "\n",
      "  \u001b[32m+ libxslt                     \u001b[0m        1.1.37  h873f0b0_0           conda-forge     258kB\n",
      "  \u001b[32m+ libuv                       \u001b[0m        1.44.2  hd590300_1           conda-forge     824kB\n",
      "  \u001b[32m+ libexpat                    \u001b[0m         2.6.3  h5888daf_0           conda-forge      74kB\n",
      "  \u001b[32m+ perl                        \u001b[0m        5.32.1  7_hd590300_perl5     conda-forge      13MB\n",
      "  \u001b[32m+ mpi                         \u001b[0m           1.0  openmpi              conda-forge       4kB\n",
      "  \u001b[32m+ nodejs                      \u001b[0m       18.15.0  h8d033a5_0           conda-forge      15MB\n",
      "  \u001b[32m+ expat                       \u001b[0m         2.6.3  h5888daf_0           conda-forge     138kB\n",
      "  \u001b[32m+ perl-unix-processors        \u001b[0m         2.046  pl5321h7f98852_1001  conda-forge      14kB\n",
      "  \u001b[32m+ openmpi                     \u001b[0m         4.1.6  hc5af2df_101         conda-forge       4MB\n",
      "  \u001b[32m+ perl-xml-parser             \u001b[0m       2.44_01  pl5321hc3e0081_1003  conda-forge     168kB\n",
      "  \u001b[32m+ perl-module-load            \u001b[0m          0.34  pl5321hdfd78af_0     bioconda          6kB\n",
      "  \u001b[32m+ perl-common-sense           \u001b[0m          3.75  pl5321hdfd78af_0     bioconda         14kB\n",
      "  \u001b[32m+ perl-json-pp                \u001b[0m          4.11  pl5321hdfd78af_0     bioconda         34kB\n",
      "  \u001b[32m+ perl-params-check           \u001b[0m          0.38  pl5321hdfd78af_2     bioconda          6kB\n",
      "  \u001b[32m+ perl-locale-maketext-simple \u001b[0m          0.21  pl5321hdfd78af_3     bioconda         11kB\n",
      "  \u001b[32m+ perl-io-html                \u001b[0m         1.004  pl5321hdfd78af_0     bioconda         16kB\n",
      "  \u001b[32m+ perl-timedate               \u001b[0m          2.33  pl5321hdfd78af_2     bioconda         32kB\n",
      "  \u001b[32m+ perl-getopt-long            \u001b[0m          2.58  pl5321hdfd78af_0     bioconda         34kB\n",
      "  \u001b[32m+ perl-extutils-manifest      \u001b[0m          1.73  pl5321hdfd78af_0     bioconda         15kB\n",
      "  \u001b[32m+ perl-yaml                   \u001b[0m          1.30  pl5321hdfd78af_0     bioconda         44kB\n",
      "  \u001b[32m+ perl-test-nowarnings        \u001b[0m          1.06  pl5321hdfd78af_0     bioconda         13kB\n",
      "  \u001b[32m+ perl-base                   \u001b[0m          2.23  pl5321hdfd78af_2     bioconda         12kB\n",
      "  \u001b[32m+ perl-file-spec              \u001b[0m       3.48_01  pl5321hdfd78af_2     bioconda          6kB\n",
      "  \u001b[32m+ perl-xml-sax-base           \u001b[0m          1.09  pl5321hdfd78af_1     bioconda         22kB\n",
      "  \u001b[32m+ perl-parent                 \u001b[0m         0.236  pl5321hdfd78af_2     bioconda          8kB\n",
      "  \u001b[32m+ perl-exporter               \u001b[0m          5.72  pl5321hdfd78af_2     bioconda         16kB\n",
      "  \u001b[32m+ perl-constant               \u001b[0m          1.33  pl5321hdfd78af_2     bioconda         12kB\n",
      "  \u001b[32m+ perl-html-tagset            \u001b[0m          3.20  pl5321hdfd78af_4     bioconda         14kB\n",
      "  \u001b[32m+ perl-types-serialiser       \u001b[0m          1.01  pl5321hdfd78af_0     bioconda         13kB\n",
      "  \u001b[32m+ perl-text-abbrev            \u001b[0m          1.02  pl5321hdfd78af_1     bioconda          8kB\n",
      "  \u001b[32m+ perl-perl-ostype            \u001b[0m         1.010  pl5321hdfd78af_2     bioconda          9kB\n",
      "  \u001b[32m+ perl-xml-namespacesupport   \u001b[0m          1.12  pl5321hdfd78af_1     bioconda         14kB\n",
      "  \u001b[32m+ perl-compress-raw-zlib      \u001b[0m         2.105  pl5321h87f3376_0     bioconda         77kB\n",
      "  \u001b[32m+ perl-dbi                    \u001b[0m         1.643  pl5321hec16e2b_1     bioconda        619kB\n",
      "  \u001b[32m+ perl-version                \u001b[0m        0.9924  pl5321hec16e2b_2     bioconda         25kB\n",
      "  \u001b[32m+ perl-mime-base64            \u001b[0m          3.16  pl5321hec16e2b_2     bioconda         18kB\n",
      "  \u001b[32m+ perl-data-dumper            \u001b[0m         2.183  pl5321hec16e2b_1     bioconda         38kB\n",
      "  \u001b[32m+ perl-math-cdf               \u001b[0m           0.1  pl5321h031d066_9     bioconda         71kB\n",
      "  \u001b[32m+ perl-url-encode             \u001b[0m          0.03  pl5321h9ee0642_0     bioconda         15kB\n",
      "  \u001b[32m+ perl-scalar-list-utils      \u001b[0m          1.62  pl5321hec16e2b_1     bioconda         45kB\n",
      "  \u001b[32m+ perl-digest-md5             \u001b[0m          2.58  pl5321hec16e2b_1     bioconda         20kB\n",
      "  \u001b[32m+ perl-encode                 \u001b[0m          3.19  pl5321hec16e2b_1     bioconda          2MB\n",
      "  \u001b[32m+ perl-json-xs                \u001b[0m          4.03  pl5321h4ac6f70_3     bioconda         77kB\n",
      "  \u001b[32m+ perl-file-which             \u001b[0m          1.24  pl5321hd8ed1ab_0     conda-forge      17kB\n",
      "  \u001b[32m+ perl-extutils-makemaker     \u001b[0m          7.70  pl5321hd8ed1ab_0     conda-forge     157kB\n",
      "  \u001b[32m+ perl-app-cpanminus          \u001b[0m        1.7047  pl5321hd8ed1ab_0     conda-forge     230kB\n",
      "  \u001b[32m+ perl-file-path              \u001b[0m          2.18  pl5321hd8ed1ab_0     conda-forge      22kB\n",
      "  \u001b[32m+ perl-module-corelist        \u001b[0m    5.20220620  pl5321hdfd78af_0     bioconda         67kB\n",
      "  \u001b[32m+ perl-text-parsewords        \u001b[0m          3.31  pl5321hdfd78af_0     bioconda         10kB\n",
      "  \u001b[32m+ perl-text-template-simple   \u001b[0m          0.91  pl5321hdfd78af_1     bioconda         53kB\n",
      "  \u001b[32m+ perl-encode-locale          \u001b[0m          1.05  pl5321hdfd78af_7     bioconda         14kB\n",
      "  \u001b[32m+ perl-json                   \u001b[0m          4.10  pl5321hdfd78af_1     bioconda         58kB\n",
      "  \u001b[32m+ perl-carp                   \u001b[0m          1.38  pl5321hdfd78af_4     bioconda         17kB\n",
      "  \u001b[32m+ perl-log-log4perl           \u001b[0m          1.55  pl5321hdfd78af_0     bioconda        212kB\n",
      "  \u001b[32m+ perl-sys-info-base          \u001b[0m        0.7807  pl5321hdfd78af_1     bioconda         22kB\n",
      "  \u001b[32m+ perl-business-isbn-data     \u001b[0m  20210112.006  pl5321hdfd78af_0     bioconda         21kB\n",
      "  \u001b[32m+ perl-cpan-meta-yaml         \u001b[0m         0.018  pl5321hdfd78af_1     bioconda         14kB\n",
      "  \u001b[32m+ perl-cpan-meta-requirements \u001b[0m         2.143  pl5321hdfd78af_0     bioconda         18kB\n",
      "  \u001b[32m+ perl-time-local             \u001b[0m          1.35  pl5321hdfd78af_0     bioconda         14kB\n",
      "  \u001b[32m+ perl-module-metadata        \u001b[0m      1.000038  pl5321hdfd78af_0     bioconda         19kB\n",
      "  \u001b[32m+ perl-lwp-mediatypes         \u001b[0m          6.04  pl5321hdfd78af_1     bioconda         24kB\n",
      "  \u001b[32m+ perl-business-isbn          \u001b[0m         3.007  pl5321hdfd78af_0     bioconda         18kB\n",
      "  \u001b[32m+ perl-cpan-meta              \u001b[0m      2.150010  pl5321hdfd78af_1     bioconda          6kB\n",
      "  \u001b[32m+ perl-http-date              \u001b[0m          6.06  pl5321hdfd78af_0     bioconda         15kB\n",
      "  \u001b[32m+ perl-module-load-conditional\u001b[0m          0.68  pl5321hdfd78af_3     bioconda         12kB\n",
      "  \u001b[32m+ perl-uri                    \u001b[0m          5.12  pl5321hdfd78af_0     bioconda         61kB\n",
      "  \u001b[32m+ perl-http-message           \u001b[0m          6.36  pl5321hdfd78af_0     bioconda         56kB\n",
      "  \u001b[32m+ perl-pathtools              \u001b[0m          3.75  pl5321hec16e2b_3     bioconda         43kB\n",
      "  \u001b[32m+ perl-html-parser            \u001b[0m          3.81  pl5321h4ac6f70_1     bioconda         70kB\n",
      "  \u001b[32m+ perl-file-temp              \u001b[0m        0.2304  pl5321hd8ed1ab_0     conda-forge      32kB\n",
      "  \u001b[32m+ perl-config-general         \u001b[0m          2.65  pl5321hdfd78af_0     bioconda         45kB\n",
      "  \u001b[32m+ perl-html-tree              \u001b[0m          5.07  pl5321hdfd78af_2     bioconda        133kB\n",
      "  \u001b[32m+ perl-ipc-cmd                \u001b[0m          1.04  pl5321hdfd78af_0     bioconda         25kB\n",
      "  \u001b[32m+ perl-xml-sax                \u001b[0m          1.02  pl5321hdfd78af_1     bioconda         38kB\n",
      "  \u001b[32m+ perl-sys-info-driver-linux  \u001b[0m        0.7905  pl5321hdfd78af_1     bioconda         21kB\n",
      "  \u001b[32m+ perl-extutils-cbuilder      \u001b[0m      0.280230  pl5321hdfd78af_2     bioconda         23kB\n",
      "  \u001b[32m+ perl-xml-sax-expat          \u001b[0m          0.51  pl5321hdfd78af_4     bioconda         12kB\n",
      "  \u001b[32m+ perl-sys-info               \u001b[0m        0.7811  pl5321hdfd78af_1     bioconda         11kB\n",
      "  \u001b[32m+ perl-extutils-parsexs       \u001b[0m          3.44  pl5321hdfd78af_0     bioconda         42kB\n",
      "  \u001b[32m+ perl-xml-simple             \u001b[0m          2.25  pl5321hdfd78af_2     bioconda         50kB\n",
      "  \u001b[32m+ perl-module-build           \u001b[0m        0.4231  pl5321hdfd78af_0     bioconda        131kB\n",
      "  \u001b[32m+ perl-cgi                    \u001b[0m          4.56  pl5321h031d066_1     bioconda        123kB\n",
      "  \u001b[32m+ perl-html-template          \u001b[0m          2.97  pl5321hdfd78af_2     bioconda         48kB\n",
      "  \u001b[32m+ meme                        \u001b[0m         5.5.3  pl5321h7346fca_0     bioconda         33MB\n",
      "\n",
      "  Summary:\n",
      "\n",
      "  Install: 84 packages\n",
      "\n",
      "  Total download: 73MB\n",
      "\n",
      "────────────────────────────────────────────────────────────────────────────────────────────\n",
      "\n",
      "\n",
      "\u001b[?25l\u001b[2K\u001b[0G[+] 0.0s\n",
      "Downloading      \u001b[90m━━━━━━━━━━━━━━━━━━━━━━━\u001b[0m   0.0 B                            0.0s\n",
      "Extracting       \u001b[90m━━━━━━━━━━━━━━━━━━━━━━━\u001b[0m       0                            0.0s\u001b[2K\u001b[1A\u001b[2K\u001b[1A\u001b[2K\u001b[0G[+] 0.1s\n",
      "Downloading  (5) \u001b[33m━━━╸\u001b[0m\u001b[90m━━━━━━━━━━━━━━━━━━━\u001b[0m   0.0 B libexpat                   0.0s\n",
      "Extracting       \u001b[90m━━━━━━━━━━━━━━━━━━━━━━━\u001b[0m       0                            0.0s\u001b[2K\u001b[1A\u001b[2K\u001b[1A\u001b[2K\u001b[0G[+] 0.2s\n",
      "Downloading  (5) \u001b[33m━━━╸\u001b[0m\u001b[90m━━━━━━━━━━━━━━━━━━━\u001b[0m   0.0 B libexpat                   0.1s\n",
      "Extracting       \u001b[90m━━━━━━━━━━━━━━━━━━━━━━━\u001b[0m       0                            0.0s\u001b[2K\u001b[1A\u001b[2K\u001b[1A\u001b[2K\u001b[0G[+] 0.3s\n",
      "Downloading  (5) \u001b[33m━━━╸\u001b[0m\u001b[90m━━━━━━━━━━━━━━━━━━━\u001b[0m   4.2kB libexpat                   0.2s\n",
      "Extracting       \u001b[90m━━━━━━━━━━━━━━━━━━━━━━━\u001b[0m       0                            0.0s\u001b[2K\u001b[1A\u001b[2K\u001b[1A\u001b[2K\u001b[0Gmpi                                                  4.2kB @  16.8kB/s  0.3s\n",
      "libexpat                                            73.6kB @ 220.7kB/s  0.4s\n",
      "libxslt                                            257.5kB @ 729.4kB/s  0.4s\n",
      "[+] 0.4s\n",
      "Downloading  (5) \u001b[33m━━━╸\u001b[0m\u001b[90m━━━━━━━━━━━━━━━━━━━\u001b[0m 362.0kB libuv                      0.3s\n",
      "Extracting   (3) \u001b[33m━━━━━━━━╸\u001b[0m\u001b[90m━━━━━━━━━━━━━━\u001b[0m       0 libexpat                   0.0s\u001b[2K\u001b[1A\u001b[2K\u001b[1A\u001b[2K\u001b[0Gperl-params-check                                    6.1kB @  15.2kB/s  0.1s\n",
      "libuv                                              823.9kB @   2.0MB/s  0.4s\n",
      "perl-getopt-long                                    33.8kB @  74.2kB/s  0.1s\n",
      "perl-xml-parser                                    167.5kB @ 367.3kB/s  0.1s\n",
      "perl-file-spec                                       5.8kB @  12.2kB/s  0.1s\n",
      "[+] 0.5s\n",
      "Downloading  (5) \u001b[33m━━━╸\u001b[0m\u001b[90m━━━━━━━━━━━━━━━━━━━\u001b[0m   1.4MB perl                       0.4s\n",
      "Extracting   (7) \u001b[33m━━━━━━━━━╸\u001b[0m\u001b[90m━━━━━━━━━━━━━\u001b[0m       1 libexpat                   0.1s\u001b[2K\u001b[1A\u001b[2K\u001b[1A\u001b[2K\u001b[0Gperl-xml-sax-base                                   21.8kB @  40.3kB/s  0.1s\n",
      "perl-types-serialiser                               13.1kB @  24.3kB/s  0.1s\n",
      "perl-text-abbrev                                     7.5kB @  13.3kB/s  0.1s\n",
      "[+] 0.6s\n",
      "Downloading  (5) ╸\u001b[33m━━╸\u001b[0m\u001b[90m━━━━━━━━━━━━━━━━━━━\u001b[0m   5.6MB perl                       0.5s\n",
      "Extracting  (11) \u001b[33m━━━━━━━━━━╸\u001b[0m\u001b[90m━━━━━━━━━━━━\u001b[0m       1 libexpat                   0.2s\u001b[2K\u001b[1A\u001b[2K\u001b[1A\u001b[2K\u001b[0Gperl-mime-base64                                    17.5kB @  29.3kB/s  0.1s\n",
      "perl-version                                        25.1kB @  41.8kB/s  0.1s\n",
      "perl-digest-md5                                     19.9kB @  31.8kB/s  0.1s\n",
      "perl-file-which                                     17.3kB @  25.9kB/s  0.1s\n",
      "perl-extutils-makemaker                            157.3kB @ 234.7kB/s  0.1s\n",
      "[+] 0.7s\n",
      "Downloading  (6) ━━╸\u001b[33m╸\u001b[0m\u001b[90m━━━━━━━━━━━━━━━━━━━\u001b[0m  12.6MB perl                       0.6s\n",
      "Extracting  (14) \u001b[33m━━━━━━━━━━━╸\u001b[0m\u001b[90m━━━━━━━━━━━\u001b[0m       2 libexpat                   0.3s\u001b[2K\u001b[1A\u001b[2K\u001b[1A\u001b[2K\u001b[0Gperl-text-parsewords                                 9.8kB @  14.1kB/s  0.1s\n",
      "perl-carp                                           17.1kB @  23.4kB/s  0.1s\n",
      "perl-cpan-meta-requirements                         18.5kB @  25.2kB/s  0.0s\n",
      "perl-timedate                                       32.1kB @  42.6kB/s  0.4s\n",
      "perl-log-log4perl                                  212.4kB @ 281.8kB/s  0.1s\n",
      "perl                                                13.3MB @  17.6MB/s  0.8s\n",
      "[+] 0.8s\n",
      "Downloading  (5) ━━━╸\u001b[90m━━━━━━━━━━━━━━━━━━━\u001b[0m  15.3MB perl-business-isbn         0.7s\n",
      "Extracting  (19) \u001b[33m━━━━━━━━━━━━╸\u001b[0m\u001b[90m━━━━━━━━━━\u001b[0m       3 libuv                      0.4s\u001b[2K\u001b[1A\u001b[2K\u001b[1A\u001b[2K\u001b[0Gperl-business-isbn                                  18.1kB @  21.9kB/s  0.2s\n",
      "[+] 0.9s\n",
      "Downloading  (9) ━━━╸\u001b[90m━━━━━━━━━━━━━━━━━━━\u001b[0m  15.5MB perl-cpan-meta             0.8s\n",
      "Extracting  (19) ╸\u001b[33m━━━━━╸\u001b[0m\u001b[90m━━━━━━━━━━━━━━━━\u001b[0m       4 libuv                      0.5s\u001b[2K\u001b[1A\u001b[2K\u001b[1A\u001b[2K\u001b[0Gperl-cpan-meta                                       5.7kB @   6.9kB/s  0.2s\n",
      "perl-uri                                            60.8kB @  72.9kB/s  0.2s\n",
      "perl-http-message                                   55.6kB @  64.2kB/s  0.2s\n",
      "perl-xml-sax                                        38.4kB @  43.0kB/s  0.2s\n",
      "[+] 1.0s\n",
      "Downloading  (5) ━━━╸\u001b[90m━━━━━━━━━━━━━━━━━━━\u001b[0m  15.5MB perl-extutils-parsexs      0.9s\n",
      "Extracting  (23) ╸\u001b[33m━━━━━━╸\u001b[0m\u001b[90m━━━━━━━━━━━━━━━\u001b[0m       4 libuv                      0.6s\u001b[2K\u001b[1A\u001b[2K\u001b[1A\u001b[2K\u001b[0Gperl-xml-sax-expat                                  12.1kB @  12.0kB/s  0.1s\n",
      "perl-sys-info                                       10.6kB @  10.5kB/s  0.1s\n",
      "perl-extutils-parsexs                               42.1kB @  41.6kB/s  0.1s\n",
      "perl-xml-simple                                     50.5kB @  49.8kB/s  0.2s\n",
      "perl-module-build                                  131.1kB @ 129.2kB/s  0.2s\n",
      "[+] 1.1s\n",
      "Downloading  (5) ━━━╸\u001b[33m━╸\u001b[0m\u001b[90m━━━━━━━━━━━━━━━━━\u001b[0m  15.9MB openmpi                    1.0s\n",
      "Extracting  (28) ╸\u001b[33m━━━━━━━╸\u001b[0m\u001b[90m━━━━━━━━━━━━━━\u001b[0m       4 libuv                      0.7s\u001b[2K\u001b[1A\u001b[2K\u001b[1A\u001b[2K\u001b[0Gperl-unix-processors                                14.4kB @  13.1kB/s  0.1s\n",
      "perl-module-load                                     5.9kB @   5.3kB/s  0.1s\n",
      "perl-common-sense                                   13.6kB @  12.2kB/s  0.1s\n",
      "perl-json-pp                                        33.9kB @  30.4kB/s  0.2s\n",
      "[+] 1.2s\n",
      "Downloading  (5) ━━━━╸\u001b[33m╸\u001b[0m\u001b[90m━━━━━━━━━━━━━━━━━\u001b[0m  16.1MB openmpi                    1.1s\n",
      "Extracting  (32) ╸\u001b[33m━━━━━━━━╸\u001b[0m\u001b[90m━━━━━━━━━━━━━\u001b[0m       4 libxslt                    0.8s\u001b[2K\u001b[1A\u001b[2K\u001b[1A\u001b[2K\u001b[0Gperl-perl-ostype                                     8.6kB @   7.2kB/s  0.2s\n",
      "perl-xml-namespacesupport                           14.3kB @  11.6kB/s  0.2s\n",
      "perl-compress-raw-zlib                              77.2kB @  61.6kB/s  0.2s\n",
      "perl-dbi                                           619.1kB @ 480.1kB/s  0.2s\n",
      "[+] 1.3s\n",
      "Downloading  (6) ━━━━╸\u001b[33m╸\u001b[0m\u001b[90m━━━━━━━━━━━━━━━━━\u001b[0m  17.0MB openmpi                    1.2s\n",
      "Extracting  (36) ╸\u001b[33m━━━━━━━━━╸\u001b[0m\u001b[90m━━━━━━━━━━━━\u001b[0m       4 libxslt                    0.9s\u001b[2K\u001b[1A\u001b[2K\u001b[1A\u001b[2K\u001b[0Gopenmpi                                              4.1MB @   3.1MB/s  0.3s\n",
      "perl-text-template-simple                           52.5kB @  39.7kB/s  0.1s\n",
      "perl-encode-locale                                  13.5kB @  10.2kB/s  0.1s\n",
      "perl-json                                           57.7kB @  43.2kB/s  0.1s\n",
      "perl-file-temp                                      31.5kB @  23.6kB/s  0.1s\n",
      "perl-ipc-cmd                                        25.2kB @  18.3kB/s  0.1s\n",
      "perl-cgi                                           122.6kB @  88.7kB/s  0.0s\n",
      "[+] 1.4s\n",
      "Downloading  (5) ━━━━━╸\u001b[90m━━━━━━━━━━━━━━━━━\u001b[0m  20.9MB perl-extutils-cbuilder     1.3s\n",
      "Extracting  (38) ━╸\u001b[33m━━━━━━━━━━╸\u001b[0m\u001b[90m━━━━━━━━━━\u001b[0m       9 libxslt                    1.0s\u001b[2K\u001b[1A\u001b[2K\u001b[1A\u001b[2K\u001b[0Gperl-sys-info-driver-linux                          21.2kB @  15.2kB/s  0.1s\n",
      "perl-extutils-cbuilder                              22.9kB @  16.1kB/s  0.1s\n",
      "perl-html-template                                  47.7kB @  33.5kB/s  0.1s\n",
      "perl-test-nowarnings                                12.6kB @   8.8kB/s  0.1s\n",
      "[+] 1.5s\n",
      "Downloading  (5) ━━━━━╸\u001b[33m╸\u001b[0m\u001b[90m━━━━━━━━━━━━━━━━\u001b[0m  21.0MB perl-encode                1.4s\n",
      "Extracting  (39) ━━╸\u001b[33m━━━━━━━━━━╸\u001b[0m\u001b[90m━━━━━━━━━\u001b[0m      12 libxslt                    1.1s\u001b[2K\u001b[1A\u001b[2K\u001b[1A\u001b[2K\u001b[0G[+] 1.6s\n",
      "Downloading  (5) ━━━━━╸\u001b[33m╸\u001b[0m\u001b[90m━━━━━━━━━━━━━━━━\u001b[0m  21.2MB perl-encode                1.5s\n",
      "Extracting  (38) ━━╸\u001b[33m━━━━━━━━━━╸\u001b[0m\u001b[90m━━━━━━━━━\u001b[0m      13 openmpi                    1.2s\u001b[2K\u001b[1A\u001b[2K\u001b[1A\u001b[2K\u001b[0Gperl-yaml                                           43.6kB @  29.4kB/s  0.2s\n",
      "perl-math-cdf                                       71.2kB @  45.6kB/s  0.2s\n",
      "perl-url-encode                                     15.0kB @   9.5kB/s  0.2s\n",
      "perl-scalar-list-utils                              44.7kB @  28.1kB/s  0.2s\n",
      "perl-cpan-meta-yaml                                 13.6kB @   8.3kB/s  0.0s\n",
      "perl-time-local                                     13.9kB @   8.4kB/s  0.0s\n",
      "perl-lwp-mediatypes                                 24.2kB @  14.7kB/s  0.1s\n",
      "perl-io-html                                        16.4kB @   9.7kB/s  0.0s\n",
      "[+] 1.7s\n",
      "Downloading  (5) ━━━━━━╸\u001b[90m━━━━━━━━━━━━━━━━\u001b[0m  23.4MB expat                      1.6s\n",
      "Extracting  (37) ━━━━━╸\u001b[33m━━━━━━━━━━╸\u001b[0m\u001b[90m━━━━━━\u001b[0m      23 openmpi                    1.3s\u001b[2K\u001b[1A\u001b[2K\u001b[1A\u001b[2K\u001b[0Gperl-encode                                          2.2MB @   1.3MB/s  0.3s\n",
      "perl-module-metadata                                18.7kB @  11.0kB/s  0.1s\n",
      "expat                                              137.9kB @  80.5kB/s  0.1s\n",
      "perl-locale-maketext-simple                         10.6kB @   6.2kB/s  0.1s\n",
      "perl-module-corelist                                67.5kB @  38.6kB/s  0.1s\n",
      "perl-http-date                                      14.6kB @   8.3kB/s  0.1s\n",
      "perl-pathtools                                      43.1kB @  24.3kB/s  0.1s\n",
      "perl-module-load-conditional                        12.1kB @   6.8kB/s  0.1s\n",
      "[+] 1.8s\n",
      "Downloading  (5) ━━━━━━╸\u001b[90m━━━━━━━━━━━━━━━━\u001b[0m  23.7MB perl-base                  1.7s\n",
      "Extracting  (39) ━━━━━━╸\u001b[33m━━━━━━━━━━━╸\u001b[0m\u001b[90m━━━━\u001b[0m      29 openmpi                    1.4s\u001b[2K\u001b[1A\u001b[2K\u001b[1A\u001b[2K\u001b[0Gperl-base                                           11.9kB @   6.6kB/s  0.1s\n",
      "perl-parent                                          7.9kB @   4.4kB/s  0.1s\n",
      "perl-sys-info-base                                  21.8kB @  11.8kB/s  0.1s\n",
      "perl-business-isbn-data                             21.3kB @  11.6kB/s  0.1s\n",
      "[+] 1.9s\n",
      "Downloading  (5) ━━━━━━╸\u001b[33m━━━━╸\u001b[0m\u001b[90m━━━━━━━━━━━\u001b[0m  24.0MB nodejs                     1.8s\n",
      "Extracting  (37) ━━━━━━━━╸\u001b[33m━━━━━━━━━━╸\u001b[0m\u001b[90m━━━\u001b[0m      34 openmpi                    1.5s\u001b[2K\u001b[1A\u001b[2K\u001b[1A\u001b[2K\u001b[0G[+] 2.0s\n",
      "Downloading  (5) ━━━━━━╸\u001b[33m━━━━╸\u001b[0m\u001b[90m━━━━━━━━━━━\u001b[0m  24.0MB nodejs                     1.9s\n",
      "Extracting  (37) ━━━━━━━━╸\u001b[33m━━━━━━━━━━╸\u001b[0m\u001b[90m━━━\u001b[0m      34 perl                       1.6s\u001b[2K\u001b[1A\u001b[2K\u001b[1A\u001b[2K\u001b[0Gperl-file-path                                      22.4kB @  11.0kB/s  0.2s\n",
      "perl-html-parser                                    69.6kB @  34.0kB/s  0.4s\n",
      "perl-extutils-manifest                              14.9kB @   7.2kB/s  0.3s\n",
      "[+] 2.1s\n",
      "Downloading  (5) ━━━━━━━╸\u001b[33m━━━╸\u001b[0m\u001b[90m━━━━━━━━━━━\u001b[0m  28.9MB nodejs                     2.0s\n",
      "Extracting  (37) ━━━━━━━━━╸\u001b[33m━━━━━━━━━━╸\u001b[0m\u001b[90m━━\u001b[0m      37 perl                       1.7s\u001b[2K\u001b[1A\u001b[2K\u001b[1A\u001b[2K\u001b[0Gperl-data-dumper                                    38.5kB @  18.2kB/s  0.0s\n",
      "perl-constant                                       12.5kB @   5.8kB/s  0.1s\n",
      "perl-html-tagset                                    13.9kB @   6.5kB/s  0.1s\n",
      "perl-config-general                                 44.6kB @  20.6kB/s  0.1s\n",
      "[+] 2.2s\n",
      "Downloading  (5) ━━━━━━━━╸\u001b[33m━━━━━━━━━━━━╸\u001b[0m\u001b[90m━\u001b[0m  30.3MB nodejs                     2.1s\n",
      "Extracting  (25) ━━━━━━━━━━━━━╸\u001b[33m━━━━━━━╸\u001b[0m\u001b[90m━\u001b[0m      53 perl                       1.8s\u001b[2K\u001b[1A\u001b[2K\u001b[1A\u001b[2K\u001b[0Gperl-json-xs                                        76.7kB @  34.8kB/s  0.1s\n",
      "perl-app-cpanminus                                 230.2kB @ 103.4kB/s  0.4s\n",
      "perl-html-tree                                     133.1kB @  59.2kB/s  0.0s\n",
      "perl-exporter                                       15.9kB @   7.0kB/s  0.1s\n",
      "[+] 2.3s\n",
      "Downloading  (2) ━━━━━━━━━╸\u001b[33m━━━━━━━━━━━━━\u001b[0m  33.7MB meme                       2.2s\n",
      "Extracting  (23) ━━━━━━━━━━━━━━━╸\u001b[33m━━━━━━━\u001b[0m      59 perl                       1.9s\u001b[2K\u001b[1A\u001b[2K\u001b[1A\u001b[2K\u001b[0G[+] 2.4s\n",
      "Downloading  (2) ━━━━━━━━━━╸\u001b[33m━━━━━━━━━━━━\u001b[0m  37.0MB meme                       2.3s\n",
      "Extracting  (14) ━━━━━━━━━━━━━━━━━╸\u001b[33m━━━━━\u001b[0m      68 perl-app-cpanminus         2.0s\u001b[2K\u001b[1A\u001b[2K\u001b[1A\u001b[2K\u001b[0Gnodejs                                              15.5MB @   6.4MB/s  0.6s\n",
      "[+] 2.5s\n",
      "Downloading  (1) ━━━━━━━━━━━╸\u001b[33m━━━━━━━━━━━\u001b[0m  39.9MB meme                       2.4s\n",
      "Extracting   (7) ━━━━━━━━━━━━━━━━━━━╸\u001b[33m━━━\u001b[0m      76 perl-app-cpanminus         2.1s\u001b[2K\u001b[1A\u001b[2K\u001b[1A\u001b[2K\u001b[0G[+] 2.6s\n",
      "Downloading  (1) ━━━━━━━━━━━╸\u001b[33m━━━━━━━━━━━\u001b[0m  39.9MB meme                       2.5s\n",
      "Extracting   (5) ━━━━━━━━━━━━━━━━━━━━╸\u001b[33m━━\u001b[0m      78 nodejs                     2.2s\u001b[2K\u001b[1A\u001b[2K\u001b[1A\u001b[2K\u001b[0G[+] 2.7s\n",
      "Downloading  (1) ━━━━━━━━━━━╸\u001b[33m━━━━━━━━━━━\u001b[0m  40.0MB meme                       2.6s\n",
      "Extracting   (5) ━━━━━━━━━━━━━━━━━━━━╸\u001b[33m━━\u001b[0m      78 nodejs                     2.3s\u001b[2K\u001b[1A\u001b[2K\u001b[1A\u001b[2K\u001b[0G[+] 2.8s\n",
      "Downloading  (1) ━━━━━━━━━━━╸\u001b[33m━━━━━━━━━━━\u001b[0m  40.2MB meme                       2.7s\n",
      "Extracting   (5) ━━━━━━━━━━━━━━━━━━━━╸\u001b[33m━━\u001b[0m      78 nodejs                     2.4s\u001b[2K\u001b[1A\u001b[2K\u001b[1A\u001b[2K\u001b[0G[+] 2.9s\n",
      "Downloading  (1) ━━━━━━━━━━━╸\u001b[33m━━━━━━━━━━━\u001b[0m  40.3MB meme                       2.8s\n",
      "Extracting   (3) ━━━━━━━━━━━━━━━━━━━━╸\u001b[33m━━\u001b[0m      80 nodejs                     2.5s\u001b[2K\u001b[1A\u001b[2K\u001b[1A\u001b[2K\u001b[0G[+] 3.0s\n",
      "Downloading  (1) ━━━━━━━━━━━╸\u001b[33m━━━━━━━━━━━\u001b[0m  40.5MB meme                       2.9s\n",
      "Extracting   (3) ━━━━━━━━━━━━━━━━━━━━╸\u001b[33m━━\u001b[0m      80 openmpi                    2.6s\u001b[2K\u001b[1A\u001b[2K\u001b[1A\u001b[2K\u001b[0G[+] 3.1s\n",
      "Downloading  (1) ━━━━━━━━━━━╸\u001b[33m━━━━━━━━━━━\u001b[0m  40.7MB meme                       3.0s\n",
      "Extracting   (3) ━━━━━━━━━━━━━━━━━━━━╸\u001b[33m━━\u001b[0m      80 openmpi                    2.7s\u001b[2K\u001b[1A\u001b[2K\u001b[1A\u001b[2K\u001b[0G[+] 3.2s\n",
      "Downloading  (1) ━━━━━━━━━━━╸\u001b[33m━━━━━━━━━━━\u001b[0m  40.8MB meme                       3.1s\n",
      "Extracting   (3) ━━━━━━━━━━━━━━━━━━━━╸\u001b[33m━━\u001b[0m      80 openmpi                    2.8s\u001b[2K\u001b[1A\u001b[2K\u001b[1A\u001b[2K\u001b[0G[+] 3.3s\n",
      "Downloading  (1) ━━━━━━━━━━━╸\u001b[33m━━━━━━━━━━━\u001b[0m  41.1MB meme                       3.2s\n",
      "Extracting   (3) ━━━━━━━━━━━━━━━━━━━━╸\u001b[33m━━\u001b[0m      80 openmpi                    2.9s\u001b[2K\u001b[1A\u001b[2K\u001b[1A\u001b[2K\u001b[0G[+] 3.4s\n",
      "Downloading  (1) ━━━━━━━━━━━╸\u001b[33m━━━━━━━━━━━\u001b[0m  41.2MB meme                       3.3s\n",
      "Extracting   (3) ━━━━━━━━━━━━━━━━━━━━╸\u001b[33m━━\u001b[0m      80 perl                       3.0s\u001b[2K\u001b[1A\u001b[2K\u001b[1A\u001b[2K\u001b[0G[+] 3.5s\n",
      "Downloading  (1) ━━━━━━━━━━━╸\u001b[33m━━━━━━━━━━━\u001b[0m  41.6MB meme                       3.4s\n",
      "Extracting   (3) ━━━━━━━━━━━━━━━━━━━━╸\u001b[33m━━\u001b[0m      80 perl                       3.1s\u001b[2K\u001b[1A\u001b[2K\u001b[1A\u001b[2K\u001b[0G[+] 3.6s\n",
      "Downloading  (1) ━━━━━━━━━━━━╸\u001b[33m━━━━━━━━━━\u001b[0m  41.9MB meme                       3.5s\n",
      "Extracting   (3) ━━━━━━━━━━━━━━━━━━━━╸\u001b[33m━━\u001b[0m      80 perl                       3.2s\u001b[2K\u001b[1A\u001b[2K\u001b[1A\u001b[2K\u001b[0G[+] 3.7s\n",
      "Downloading  (1) ━━━━━━━━━━━━╸\u001b[33m━━━━━━━━━━\u001b[0m  42.1MB meme                       3.6s\n",
      "Extracting   (3) ━━━━━━━━━━━━━━━━━━━━╸\u001b[33m━━\u001b[0m      80 perl                       3.3s\u001b[2K\u001b[1A\u001b[2K\u001b[1A\u001b[2K\u001b[0G[+] 3.8s\n",
      "Downloading  (1) ━━━━━━━━━━━━╸\u001b[33m━━━━━━━━━━\u001b[0m  42.5MB meme                       3.7s\n",
      "Extracting   (3) ━━━━━━━━━━━━━━━━━━━━╸\u001b[33m━━\u001b[0m      80 nodejs                     3.4s\u001b[2K\u001b[1A\u001b[2K\u001b[1A\u001b[2K\u001b[0G[+] 3.9s\n",
      "Downloading  (1) ━━━━━━━━━━━━╸\u001b[33m━━━━━━━━━━\u001b[0m  42.9MB meme                       3.8s\n",
      "Extracting   (3) ━━━━━━━━━━━━━━━━━━━━╸\u001b[33m━━\u001b[0m      80 nodejs                     3.5s\u001b[2K\u001b[1A\u001b[2K\u001b[1A\u001b[2K\u001b[0G[+] 4.0s\n",
      "Downloading  (1) ━━━━━━━━━━━━╸\u001b[33m━━━━━━━━━━\u001b[0m  43.1MB meme                       3.9s\n",
      "Extracting   (3) ━━━━━━━━━━━━━━━━━━━━╸\u001b[33m━━\u001b[0m      80 nodejs                     3.6s\u001b[2K\u001b[1A\u001b[2K\u001b[1A\u001b[2K\u001b[0G[+] 4.1s\n",
      "Downloading  (1) ━━━━━━━━━━━━╸\u001b[33m━━━━━━━━━━\u001b[0m  43.5MB meme                       4.0s\n",
      "Extracting   (3) ━━━━━━━━━━━━━━━━━━━━╸\u001b[33m━━\u001b[0m      80 nodejs                     3.7s\u001b[2K\u001b[1A\u001b[2K\u001b[1A\u001b[2K\u001b[0G[+] 4.2s\n",
      "Downloading  (1) ━━━━━━━━━━━━╸\u001b[33m━━━━━━━━━━\u001b[0m  44.1MB meme                       4.1s\n",
      "Extracting   (3) ━━━━━━━━━━━━━━━━━━━━╸\u001b[33m━━\u001b[0m      80 openmpi                    3.8s\u001b[2K\u001b[1A\u001b[2K\u001b[1A\u001b[2K\u001b[0G[+] 4.3s\n",
      "Downloading  (1) ━━━━━━━━━━━━━╸\u001b[33m━━━━━━━━━\u001b[0m  44.8MB meme                       4.2s\n",
      "Extracting   (2) ━━━━━━━━━━━━━━━━━━━━━╸\u001b[33m━\u001b[0m      81 nodejs                     3.9s\u001b[2K\u001b[1A\u001b[2K\u001b[1A\u001b[2K\u001b[0G[+] 4.4s\n",
      "Downloading  (1) ━━━━━━━━━━━━━╸\u001b[33m━━━━━━━━━\u001b[0m  45.5MB meme                       4.3s\n",
      "Extracting   (2) ━━━━━━━━━━━━━━━━━━━━━╸\u001b[33m━\u001b[0m      81 nodejs                     4.0s\u001b[2K\u001b[1A\u001b[2K\u001b[1A\u001b[2K\u001b[0G[+] 4.5s\n",
      "Downloading  (1) ━━━━━━━━━━━━━╸\u001b[33m━━━━━━━━━\u001b[0m  46.7MB meme                       4.4s\n",
      "Extracting   (2) ━━━━━━━━━━━━━━━━━━━━━╸\u001b[33m━\u001b[0m      81 nodejs                     4.1s\u001b[2K\u001b[1A\u001b[2K\u001b[1A\u001b[2K\u001b[0G[+] 4.6s\n",
      "Downloading  (1) ━━━━━━━━━━━━━╸\u001b[33m━━━━━━━━━\u001b[0m  47.7MB meme                       4.5s\n",
      "Extracting   (2) ━━━━━━━━━━━━━━━━━━━━━╸\u001b[33m━\u001b[0m      81 nodejs                     4.2s\u001b[2K\u001b[1A\u001b[2K\u001b[1A\u001b[2K\u001b[0G[+] 4.7s\n",
      "Downloading  (1) ━━━━━━━━━━━━━━╸\u001b[33m━━━━━━━━\u001b[0m  49.1MB meme                       4.6s\n",
      "Extracting   (2) ━━━━━━━━━━━━━━━━━━━━━╸\u001b[33m━\u001b[0m      81 perl                       4.3s\u001b[2K\u001b[1A\u001b[2K\u001b[1A\u001b[2K\u001b[0G[+] 4.8s\n",
      "Downloading  (1) ━━━━━━━━━━━━━━╸\u001b[33m━━━━━━━━\u001b[0m  50.2MB meme                       4.7s\n",
      "Extracting   (2) ━━━━━━━━━━━━━━━━━━━━━╸\u001b[33m━\u001b[0m      81 perl                       4.4s\u001b[2K\u001b[1A\u001b[2K\u001b[1A\u001b[2K\u001b[0G[+] 4.9s\n",
      "Downloading  (1) ━━━━━━━━━━━━━━━╸\u001b[33m━━━━━━━\u001b[0m  51.2MB meme                       4.8s\n",
      "Extracting   (2) ━━━━━━━━━━━━━━━━━━━━━╸\u001b[33m━\u001b[0m      81 perl                       4.5s\u001b[2K\u001b[1A\u001b[2K\u001b[1A\u001b[2K\u001b[0G[+] 5.0s\n",
      "Downloading  (1) ━━━━━━━━━━━━━━━╸\u001b[33m━━━━━━━\u001b[0m  51.9MB meme                       4.9s\n",
      "Extracting   (2) ━━━━━━━━━━━━━━━━━━━━━╸\u001b[33m━\u001b[0m      81 perl                       4.6s\u001b[2K\u001b[1A\u001b[2K\u001b[1A\u001b[2K\u001b[0G[+] 5.1s\n",
      "Downloading  (1) ━━━━━━━━━━━━━━━╸\u001b[33m━━━━━━━\u001b[0m  53.3MB meme                       5.0s\n",
      "Extracting   (2) ━━━━━━━━━━━━━━━━━━━━━╸\u001b[33m━\u001b[0m      81 nodejs                     4.7s\u001b[2K\u001b[1A\u001b[2K\u001b[1A\u001b[2K\u001b[0G[+] 5.2s\n",
      "Downloading  (1) ━━━━━━━━━━━━━━━━╸\u001b[33m━━━━━━\u001b[0m  54.5MB meme                       5.1s\n",
      "Extracting   (2) ━━━━━━━━━━━━━━━━━━━━━╸\u001b[33m━\u001b[0m      81 nodejs                     4.8s\u001b[2K\u001b[1A\u001b[2K\u001b[1A\u001b[2K\u001b[0G[+] 5.3s\n",
      "Downloading  (1) ━━━━━━━━━━━━━━━━╸\u001b[33m━━━━━━\u001b[0m  56.2MB meme                       5.2s\n",
      "Extracting   (2) ━━━━━━━━━━━━━━━━━━━━━╸\u001b[33m━\u001b[0m      81 nodejs                     4.9s\u001b[2K\u001b[1A\u001b[2K\u001b[1A\u001b[2K\u001b[0G[+] 5.4s\n",
      "Downloading  (1) ━━━━━━━━━━━━━━━━╸\u001b[33m━━━━━━\u001b[0m  57.6MB meme                       5.3s\n",
      "Extracting   (2) ━━━━━━━━━━━━━━━━━━━━━╸\u001b[33m━\u001b[0m      81 nodejs                     5.0s\u001b[2K\u001b[1A\u001b[2K\u001b[1A\u001b[2K\u001b[0G[+] 5.5s\n",
      "Downloading  (1) ━━━━━━━━━━━━━━━━━╸\u001b[33m━━━━━\u001b[0m  59.9MB meme                       5.4s\n",
      "Extracting   (2) ━━━━━━━━━━━━━━━━━━━━━╸\u001b[33m━\u001b[0m      81 perl                       5.1s\u001b[2K\u001b[1A\u001b[2K\u001b[1A\u001b[2K\u001b[0G[+] 5.6s\n",
      "Downloading  (1) ━━━━━━━━━━━━━━━━━━╸\u001b[33m━━━━\u001b[0m  61.7MB meme                       5.5s\n",
      "Extracting   (2) ━━━━━━━━━━━━━━━━━━━━━╸\u001b[33m━\u001b[0m      81 perl                       5.2s\u001b[2K\u001b[1A\u001b[2K\u001b[1A\u001b[2K\u001b[0G[+] 5.7s\n",
      "Downloading  (1) ━━━━━━━━━━━━━━━━━━━╸\u001b[33m━━━\u001b[0m  64.7MB meme                       5.6s\n",
      "Extracting   (2) ━━━━━━━━━━━━━━━━━━━━━╸\u001b[33m━\u001b[0m      81 perl                       5.3s\u001b[2K\u001b[1A\u001b[2K\u001b[1A\u001b[2K\u001b[0G[+] 5.8s\n",
      "Downloading  (1) ━━━━━━━━━━━━━━━━━━━━╸\u001b[33m━━\u001b[0m  68.0MB meme                       5.7s\n",
      "Extracting   (2) ━━━━━━━━━━━━━━━━━━━━━╸\u001b[33m━\u001b[0m      81 perl                       5.4s\u001b[2K\u001b[1A\u001b[2K\u001b[1A\u001b[2K\u001b[0G[+] 5.9s\n",
      "Downloading  (1) ━━━━━━━━━━━━━━━━━━━━━╸\u001b[33m━\u001b[0m  71.9MB meme                       5.8s\n",
      "Extracting   (2) ━━━━━━━━━━━━━━━━━━━━━╸\u001b[33m━\u001b[0m      81 nodejs                     5.5s\u001b[2K\u001b[1A\u001b[2K\u001b[1A\u001b[2K\u001b[0Gmeme                                                33.0MB @   5.6MB/s  3.8s\n",
      "[+] 6.0s\n",
      "Downloading      ━━━━━━━━━━━━━━━━━━━━━━━  73.0MB                            5.9s\n",
      "Extracting   (3) ━━━━━━━━━━━━━━━━━━━━━╸\u001b[33m━\u001b[0m      81 nodejs                     5.6s\u001b[2K\u001b[1A\u001b[2K\u001b[1A\u001b[2K\u001b[0G[+] 6.1s\n",
      "Downloading      ━━━━━━━━━━━━━━━━━━━━━━━  73.0MB                            5.9s\n",
      "Extracting   (3) ━━━━━━━━━━━━━━━━━━━━━╸\u001b[33m━\u001b[0m      81 nodejs                     5.7s\u001b[2K\u001b[1A\u001b[2K\u001b[1A\u001b[2K\u001b[0G[+] 6.2s\n",
      "Downloading      ━━━━━━━━━━━━━━━━━━━━━━━  73.0MB                            5.9s\n",
      "Extracting   (3) ━━━━━━━━━━━━━━━━━━━━━╸\u001b[33m━\u001b[0m      81 nodejs                     5.8s\u001b[2K\u001b[1A\u001b[2K\u001b[1A\u001b[2K\u001b[0G[+] 6.3s\n",
      "Downloading      ━━━━━━━━━━━━━━━━━━━━━━━  73.0MB                            5.9s\n",
      "Extracting   (3) ━━━━━━━━━━━━━━━━━━━━━╸\u001b[33m━\u001b[0m      81 perl                       5.9s\u001b[2K\u001b[1A\u001b[2K\u001b[1A\u001b[2K\u001b[0G[+] 6.4s\n",
      "Downloading      ━━━━━━━━━━━━━━━━━━━━━━━  73.0MB                            5.9s\n",
      "Extracting   (3) ━━━━━━━━━━━━━━━━━━━━━╸\u001b[33m━\u001b[0m      81 perl                       6.0s\u001b[2K\u001b[1A\u001b[2K\u001b[1A\u001b[2K\u001b[0G[+] 6.5s\n",
      "Downloading      ━━━━━━━━━━━━━━━━━━━━━━━  73.0MB                            5.9s\n",
      "Extracting   (3) ━━━━━━━━━━━━━━━━━━━━━╸\u001b[33m━\u001b[0m      81 perl                       6.1s\u001b[2K\u001b[1A\u001b[2K\u001b[1A\u001b[2K\u001b[0G[+] 6.6s\n",
      "Downloading      ━━━━━━━━━━━━━━━━━━━━━━━  73.0MB                            5.9s\n",
      "Extracting   (3) ━━━━━━━━━━━━━━━━━━━━━╸\u001b[33m━\u001b[0m      81 perl                       6.2s\u001b[2K\u001b[1A\u001b[2K\u001b[1A\u001b[2K\u001b[0G[+] 6.7s\n",
      "Downloading      ━━━━━━━━━━━━━━━━━━━━━━━  73.0MB                            5.9s\n",
      "Extracting   (3) ━━━━━━━━━━━━━━━━━━━━━╸\u001b[33m━\u001b[0m      81 meme                       6.3s\u001b[2K\u001b[1A\u001b[2K\u001b[1A\u001b[2K\u001b[0G[+] 6.8s\n",
      "Downloading      ━━━━━━━━━━━━━━━━━━━━━━━  73.0MB                            5.9s\n",
      "Extracting   (3) ━━━━━━━━━━━━━━━━━━━━━╸\u001b[33m━\u001b[0m      81 meme                       6.4s\u001b[2K\u001b[1A\u001b[2K\u001b[1A\u001b[2K\u001b[0G[+] 6.9s\n",
      "Downloading      ━━━━━━━━━━━━━━━━━━━━━━━  73.0MB                            5.9s\n",
      "Extracting   (3) ━━━━━━━━━━━━━━━━━━━━━╸\u001b[33m━\u001b[0m      81 meme                       6.5s\u001b[2K\u001b[1A\u001b[2K\u001b[1A\u001b[2K\u001b[0G[+] 7.0s\n",
      "Downloading      ━━━━━━━━━━━━━━━━━━━━━━━  73.0MB                            5.9s\n",
      "Extracting   (3) ━━━━━━━━━━━━━━━━━━━━━╸\u001b[33m━\u001b[0m      81 meme                       6.6s\u001b[2K\u001b[1A\u001b[2K\u001b[1A\u001b[2K\u001b[0G[+] 7.1s\n",
      "Downloading      ━━━━━━━━━━━━━━━━━━━━━━━  73.0MB                            5.9s\n",
      "Extracting   (3) ━━━━━━━━━━━━━━━━━━━━━╸\u001b[33m━\u001b[0m      81 nodejs                     6.7s\u001b[2K\u001b[1A\u001b[2K\u001b[1A\u001b[2K\u001b[0G[+] 7.2s\n",
      "Downloading      ━━━━━━━━━━━━━━━━━━━━━━━  73.0MB                            5.9s\n",
      "Extracting   (3) ━━━━━━━━━━━━━━━━━━━━━╸\u001b[33m━\u001b[0m      81 nodejs                     6.8s\u001b[2K\u001b[1A\u001b[2K\u001b[1A\u001b[2K\u001b[0G[+] 7.3s\n",
      "Downloading      ━━━━━━━━━━━━━━━━━━━━━━━  73.0MB                            5.9s\n",
      "Extracting   (3) ━━━━━━━━━━━━━━━━━━━━━╸\u001b[33m━\u001b[0m      81 nodejs                     6.9s\u001b[2K\u001b[1A\u001b[2K\u001b[1A\u001b[2K\u001b[0G[+] 7.4s\n",
      "Downloading      ━━━━━━━━━━━━━━━━━━━━━━━  73.0MB                            5.9s\n",
      "Extracting   (3) ━━━━━━━━━━━━━━━━━━━━━╸\u001b[33m━\u001b[0m      81 nodejs                     7.0s\u001b[2K\u001b[1A\u001b[2K\u001b[1A\u001b[2K\u001b[0G[+] 7.5s\n",
      "Downloading      ━━━━━━━━━━━━━━━━━━━━━━━  73.0MB                            5.9s\n",
      "Extracting   (3) ━━━━━━━━━━━━━━━━━━━━━╸\u001b[33m━\u001b[0m      81 perl                       7.1s\u001b[2K\u001b[1A\u001b[2K\u001b[1A\u001b[2K\u001b[0G[+] 7.6s\n",
      "Downloading      ━━━━━━━━━━━━━━━━━━━━━━━  73.0MB                            5.9s\n",
      "Extracting   (3) ━━━━━━━━━━━━━━━━━━━━━╸\u001b[33m━\u001b[0m      81 perl                       7.2s\u001b[2K\u001b[1A\u001b[2K\u001b[1A\u001b[2K\u001b[0G[+] 7.7s\n",
      "Downloading      ━━━━━━━━━━━━━━━━━━━━━━━  73.0MB                            5.9s\n",
      "Extracting   (3) ━━━━━━━━━━━━━━━━━━━━━╸\u001b[33m━\u001b[0m      81 perl                       7.3s\u001b[2K\u001b[1A\u001b[2K\u001b[1A\u001b[2K\u001b[0G[+] 7.8s\n",
      "Downloading      ━━━━━━━━━━━━━━━━━━━━━━━  73.0MB                            5.9s\n",
      "Extracting   (3) ━━━━━━━━━━━━━━━━━━━━━╸\u001b[33m━\u001b[0m      81 perl                       7.4s\u001b[2K\u001b[1A\u001b[2K\u001b[1A\u001b[2K\u001b[0G[+] 7.9s\n",
      "Downloading      ━━━━━━━━━━━━━━━━━━━━━━━  73.0MB                            5.9s\n",
      "Extracting   (3) ━━━━━━━━━━━━━━━━━━━━━╸\u001b[33m━\u001b[0m      81 meme                       7.5s\u001b[2K\u001b[1A\u001b[2K\u001b[1A\u001b[2K\u001b[0G[+] 8.0s\n",
      "Downloading      ━━━━━━━━━━━━━━━━━━━━━━━  73.0MB                            5.9s\n",
      "Extracting   (3) ━━━━━━━━━━━━━━━━━━━━━╸\u001b[33m━\u001b[0m      81 meme                       7.6s\u001b[2K\u001b[1A\u001b[2K\u001b[1A\u001b[2K\u001b[0G[+] 8.1s\n",
      "Downloading      ━━━━━━━━━━━━━━━━━━━━━━━  73.0MB                            5.9s\n",
      "Extracting   (3) ━━━━━━━━━━━━━━━━━━━━━╸\u001b[33m━\u001b[0m      81 meme                       7.7s\u001b[2K\u001b[1A\u001b[2K\u001b[1A\u001b[2K\u001b[0G[+] 8.2s\n",
      "Downloading      ━━━━━━━━━━━━━━━━━━━━━━━  73.0MB                            5.9s\n",
      "Extracting   (3) ━━━━━━━━━━━━━━━━━━━━━╸\u001b[33m━\u001b[0m      81 meme                       7.8s\u001b[2K\u001b[1A\u001b[2K\u001b[1A\u001b[2K\u001b[0G[+] 8.3s\n",
      "Downloading      ━━━━━━━━━━━━━━━━━━━━━━━  73.0MB                            5.9s\n",
      "Extracting   (3) ━━━━━━━━━━━━━━━━━━━━━╸\u001b[33m━\u001b[0m      81 nodejs                     7.9s\u001b[2K\u001b[1A\u001b[2K\u001b[1A\u001b[2K\u001b[0G[+] 8.4s\n",
      "Downloading      ━━━━━━━━━━━━━━━━━━━━━━━  73.0MB                            5.9s\n",
      "Extracting   (2) ━━━━━━━━━━━━━━━━━━━━━╸\u001b[33m━\u001b[0m      82 nodejs                     8.0s\u001b[2K\u001b[1A\u001b[2K\u001b[1A\u001b[2K\u001b[0G[+] 8.5s\n",
      "Downloading      ━━━━━━━━━━━━━━━━━━━━━━━  73.0MB                            5.9s\n",
      "Extracting   (2) ━━━━━━━━━━━━━━━━━━━━━╸\u001b[33m━\u001b[0m      82 nodejs                     8.1s\u001b[2K\u001b[1A\u001b[2K\u001b[1A\u001b[2K\u001b[0G[+] 8.6s\n",
      "Downloading      ━━━━━━━━━━━━━━━━━━━━━━━  73.0MB                            5.9s\n",
      "Extracting   (2) ━━━━━━━━━━━━━━━━━━━━━╸\u001b[33m━\u001b[0m      82 nodejs                     8.2s\u001b[2K\u001b[1A\u001b[2K\u001b[1A\u001b[2K\u001b[0G[+] 8.7s\n",
      "Downloading      ━━━━━━━━━━━━━━━━━━━━━━━  73.0MB                            5.9s\n",
      "Extracting   (2) ━━━━━━━━━━━━━━━━━━━━━╸\u001b[33m━\u001b[0m      82 meme                       8.3s\u001b[2K\u001b[1A\u001b[2K\u001b[1A\u001b[2K\u001b[0G[+] 8.8s\n",
      "Downloading      ━━━━━━━━━━━━━━━━━━━━━━━  73.0MB                            5.9s\n",
      "Extracting   (2) ━━━━━━━━━━━━━━━━━━━━━╸\u001b[33m━\u001b[0m      82 meme                       8.4s\u001b[2K\u001b[1A\u001b[2K\u001b[1A\u001b[2K\u001b[0G[+] 8.9s\n",
      "Downloading      ━━━━━━━━━━━━━━━━━━━━━━━  73.0MB                            5.9s\n",
      "Extracting   (2) ━━━━━━━━━━━━━━━━━━━━━╸\u001b[33m━\u001b[0m      82 meme                       8.5s\u001b[2K\u001b[1A\u001b[2K\u001b[1A\u001b[2K\u001b[0G[+] 9.0s\n",
      "Downloading      ━━━━━━━━━━━━━━━━━━━━━━━  73.0MB                            5.9s\n",
      "Extracting   (2) ━━━━━━━━━━━━━━━━━━━━━╸\u001b[33m━\u001b[0m      82 meme                       8.6s\u001b[2K\u001b[1A\u001b[2K\u001b[1A\u001b[2K\u001b[0G[+] 9.1s\n",
      "Downloading      ━━━━━━━━━━━━━━━━━━━━━━━  73.0MB                            5.9s\n",
      "Extracting   (2) ━━━━━━━━━━━━━━━━━━━━━╸\u001b[33m━\u001b[0m      82 nodejs                     8.7s\u001b[2K\u001b[1A\u001b[2K\u001b[1A\u001b[2K\u001b[0G[+] 9.2s\n",
      "Downloading      ━━━━━━━━━━━━━━━━━━━━━━━  73.0MB                            5.9s\n",
      "Extracting   (2) ━━━━━━━━━━━━━━━━━━━━━╸\u001b[33m━\u001b[0m      82 nodejs                     8.8s\u001b[2K\u001b[1A\u001b[2K\u001b[1A\u001b[2K\u001b[0G[+] 9.3s\n",
      "Downloading      ━━━━━━━━━━━━━━━━━━━━━━━  73.0MB                            5.9s\n",
      "Extracting   (2) ━━━━━━━━━━━━━━━━━━━━━╸\u001b[33m━\u001b[0m      82 nodejs                     8.9s\u001b[2K\u001b[1A\u001b[2K\u001b[1A\u001b[2K\u001b[0G[+] 9.4s\n",
      "Downloading      ━━━━━━━━━━━━━━━━━━━━━━━  73.0MB                            5.9s\n",
      "Extracting   (2) ━━━━━━━━━━━━━━━━━━━━━╸\u001b[33m━\u001b[0m      82 nodejs                     9.0s\u001b[2K\u001b[1A\u001b[2K\u001b[1A\u001b[2K\u001b[0G[+] 9.5s\n",
      "Downloading      ━━━━━━━━━━━━━━━━━━━━━━━  73.0MB                            5.9s\n",
      "Extracting   (2) ━━━━━━━━━━━━━━━━━━━━━╸\u001b[33m━\u001b[0m      82 meme                       9.1s\u001b[2K\u001b[1A\u001b[2K\u001b[1A\u001b[2K\u001b[0G[+] 9.6s\n",
      "Downloading      ━━━━━━━━━━━━━━━━━━━━━━━  73.0MB                            5.9s\n",
      "Extracting   (2) ━━━━━━━━━━━━━━━━━━━━━╸\u001b[33m━\u001b[0m      82 meme                       9.2s\u001b[2K\u001b[1A\u001b[2K\u001b[1A\u001b[2K\u001b[0G[+] 9.7s\n",
      "Downloading      ━━━━━━━━━━━━━━━━━━━━━━━  73.0MB                            5.9s\n",
      "Extracting   (2) ━━━━━━━━━━━━━━━━━━━━━╸\u001b[33m━\u001b[0m      82 meme                       9.3s\u001b[2K\u001b[1A\u001b[2K\u001b[1A\u001b[2K\u001b[0G[+] 9.8s\n",
      "Downloading      ━━━━━━━━━━━━━━━━━━━━━━━  73.0MB                            5.9s\n",
      "Extracting   (2) ━━━━━━━━━━━━━━━━━━━━━╸\u001b[33m━\u001b[0m      82 meme                       9.4s\u001b[2K\u001b[1A\u001b[2K\u001b[1A\u001b[2K\u001b[0G[+] 9.9s\n",
      "Downloading      ━━━━━━━━━━━━━━━━━━━━━━━  73.0MB                            5.9s\n",
      "Extracting   (2) ━━━━━━━━━━━━━━━━━━━━━╸\u001b[33m━\u001b[0m      82 nodejs                     9.5s\u001b[2K\u001b[1A\u001b[2K\u001b[1A\u001b[2K\u001b[0G[+] 10.0s\n",
      "Downloading      ━━━━━━━━━━━━━━━━━━━━━━━  73.0MB                            5.9s\n",
      "Extracting   (2) ━━━━━━━━━━━━━━━━━━━━━╸\u001b[33m━\u001b[0m      82 nodejs                     9.6s\u001b[2K\u001b[1A\u001b[2K\u001b[1A\u001b[2K\u001b[0G[+] 10.1s\n",
      "Downloading      ━━━━━━━━━━━━━━━━━━━━━━━  73.0MB                            5.9s\n",
      "Extracting   (2) ━━━━━━━━━━━━━━━━━━━━━╸\u001b[33m━\u001b[0m      82 nodejs                     9.7s\u001b[2K\u001b[1A\u001b[2K\u001b[1A\u001b[2K\u001b[0G[+] 10.2s\n",
      "Downloading      ━━━━━━━━━━━━━━━━━━━━━━━  73.0MB                            5.9s\n",
      "Extracting   (2) ━━━━━━━━━━━━━━━━━━━━━╸\u001b[33m━\u001b[0m      82 nodejs                     9.8s\u001b[2K\u001b[1A\u001b[2K\u001b[1A\u001b[2K\u001b[0G[+] 10.3s\n",
      "Downloading      ━━━━━━━━━━━━━━━━━━━━━━━  73.0MB                            5.9s\n",
      "Extracting   (1) ━━━━━━━━━━━━━━━━━━━━━╸\u001b[33m━\u001b[0m      83 meme                       9.9s\u001b[2K\u001b[1A\u001b[2K\u001b[1A\u001b[2K\u001b[0G[+] 10.4s\n",
      "Downloading      ━━━━━━━━━━━━━━━━━━━━━━━  73.0MB                            5.9s\n",
      "Extracting   (1) ━━━━━━━━━━━━━━━━━━━━━╸\u001b[33m━\u001b[0m      83 meme                      10.0s\u001b[2K\u001b[1A\u001b[2K\u001b[1A\u001b[2K\u001b[0G[+] 10.5s\n",
      "Downloading      ━━━━━━━━━━━━━━━━━━━━━━━  73.0MB                            5.9s\n",
      "Extracting   (1) ━━━━━━━━━━━━━━━━━━━━━╸\u001b[33m━\u001b[0m      83 meme                      10.1s\u001b[2K\u001b[1A\u001b[2K\u001b[1A\u001b[2K\u001b[0G[+] 10.6s\n",
      "Downloading      ━━━━━━━━━━━━━━━━━━━━━━━  73.0MB                            5.9s\n",
      "Extracting   (1) ━━━━━━━━━━━━━━━━━━━━━╸\u001b[33m━\u001b[0m      83 meme                      10.2s\u001b[2K\u001b[1A\u001b[2K\u001b[1A\u001b[2K\u001b[0G[+] 10.7s\n",
      "Downloading      ━━━━━━━━━━━━━━━━━━━━━━━  73.0MB                            5.9s\n",
      "Extracting   (1) ━━━━━━━━━━━━━━━━━━━━━╸\u001b[33m━\u001b[0m      83 meme                      10.3s\u001b[2K\u001b[1A\u001b[2K\u001b[1A\u001b[2K\u001b[0G[+] 10.8s\n",
      "Downloading      ━━━━━━━━━━━━━━━━━━━━━━━  73.0MB                            5.9s\n",
      "Extracting   (1) ━━━━━━━━━━━━━━━━━━━━━╸\u001b[33m━\u001b[0m      83 meme                      10.4s\u001b[2K\u001b[1A\u001b[2K\u001b[1A\u001b[2K\u001b[0G[+] 10.9s\n",
      "Downloading      ━━━━━━━━━━━━━━━━━━━━━━━  73.0MB                            5.9s\n",
      "Extracting   (1) ━━━━━━━━━━━━━━━━━━━━━╸\u001b[33m━\u001b[0m      83 meme                      10.5s\u001b[2K\u001b[1A\u001b[2K\u001b[1A\u001b[2K\u001b[0G[+] 11.0s\n",
      "Downloading      ━━━━━━━━━━━━━━━━━━━━━━━  73.0MB                            5.9s\n",
      "Extracting   (1) ━━━━━━━━━━━━━━━━━━━━━╸\u001b[33m━\u001b[0m      83 meme                      10.6s\u001b[2K\u001b[1A\u001b[2K\u001b[1A\u001b[2K\u001b[0G[+] 11.1s\n",
      "Downloading      ━━━━━━━━━━━━━━━━━━━━━━━  73.0MB                            5.9s\n",
      "Extracting   (1) ━━━━━━━━━━━━━━━━━━━━━╸\u001b[33m━\u001b[0m      83 meme                      10.7s\u001b[2K\u001b[1A\u001b[2K\u001b[1A\u001b[2K\u001b[0G[+] 11.2s\n",
      "Downloading      ━━━━━━━━━━━━━━━━━━━━━━━  73.0MB                            5.9s\n",
      "Extracting   (1) ━━━━━━━━━━━━━━━━━━━━━╸\u001b[33m━\u001b[0m      83 meme                      10.8s\u001b[2K\u001b[1A\u001b[2K\u001b[1A\u001b[2K\u001b[0G[+] 11.3s\n",
      "Downloading      ━━━━━━━━━━━━━━━━━━━━━━━  73.0MB                            5.9s\n",
      "Extracting   (1) ━━━━━━━━━━━━━━━━━━━━━╸\u001b[33m━\u001b[0m      83 meme                      10.9s\u001b[2K\u001b[1A\u001b[2K\u001b[1A\u001b[2K\u001b[0G[+] 11.4s\n",
      "Downloading      ━━━━━━━━━━━━━━━━━━━━━━━  73.0MB                            5.9s\n",
      "Extracting   (1) ━━━━━━━━━━━━━━━━━━━━━╸\u001b[33m━\u001b[0m      83 meme                      11.0s\u001b[2K\u001b[1A\u001b[2K\u001b[1A\u001b[2K\u001b[0G[+] 11.5s\n",
      "Downloading      ━━━━━━━━━━━━━━━━━━━━━━━  73.0MB                            5.9s\n",
      "Extracting   (1) ━━━━━━━━━━━━━━━━━━━━━╸\u001b[33m━\u001b[0m      83 meme                      11.1s\u001b[2K\u001b[1A\u001b[2K\u001b[1A\u001b[2K\u001b[0G[+] 11.6s\n",
      "Downloading      ━━━━━━━━━━━━━━━━━━━━━━━  73.0MB                            5.9s\n",
      "Extracting   (1) ━━━━━━━━━━━━━━━━━━━━━╸\u001b[33m━\u001b[0m      83 meme                      11.2s\u001b[2K\u001b[1A\u001b[2K\u001b[1A\u001b[2K\u001b[0G[+] 11.7s\n",
      "Downloading      ━━━━━━━━━━━━━━━━━━━━━━━  73.0MB                            5.9s\n",
      "Extracting   (1) ━━━━━━━━━━━━━━━━━━━━━╸\u001b[33m━\u001b[0m      83 meme                      11.3s\u001b[2K\u001b[1A\u001b[2K\u001b[1A\u001b[2K\u001b[0G[+] 11.8s\n",
      "Downloading      ━━━━━━━━━━━━━━━━━━━━━━━  73.0MB                            5.9s\n",
      "Extracting   (1) ━━━━━━━━━━━━━━━━━━━━━╸\u001b[33m━\u001b[0m      83 meme                      11.4s\u001b[2K\u001b[1A\u001b[2K\u001b[1A\u001b[2K\u001b[0G[+] 11.9s\n",
      "Downloading      ━━━━━━━━━━━━━━━━━━━━━━━  73.0MB                            5.9s\n",
      "Extracting   (1) ━━━━━━━━━━━━━━━━━━━━━╸\u001b[33m━\u001b[0m      83 meme                      11.5s\u001b[2K\u001b[1A\u001b[2K\u001b[1A\u001b[2K\u001b[0G[+] 12.0s\n",
      "Downloading      ━━━━━━━━━━━━━━━━━━━━━━━  73.0MB                            5.9s\n",
      "Extracting   (1) ━━━━━━━━━━━━━━━━━━━━━╸\u001b[33m━\u001b[0m      83 meme                      11.6s\u001b[2K\u001b[1A\u001b[2K\u001b[1A\u001b[2K\u001b[0G[+] 12.1s\n",
      "Downloading      ━━━━━━━━━━━━━━━━━━━━━━━  73.0MB                            5.9s\n",
      "Extracting   (1) ━━━━━━━━━━━━━━━━━━━━━╸\u001b[33m━\u001b[0m      83 meme                      11.7s\u001b[2K\u001b[1A\u001b[2K\u001b[1A\u001b[2K\u001b[0G[+] 12.2s\n",
      "Downloading      ━━━━━━━━━━━━━━━━━━━━━━━  73.0MB                            5.9s\n",
      "Extracting   (1) ━━━━━━━━━━━━━━━━━━━━━╸\u001b[33m━\u001b[0m      83 meme                      11.8s\u001b[2K\u001b[1A\u001b[2K\u001b[1A\u001b[2K\u001b[0G[+] 12.3s\n",
      "Downloading      ━━━━━━━━━━━━━━━━━━━━━━━  73.0MB                            5.9s\n",
      "Extracting   (1) ━━━━━━━━━━━━━━━━━━━━━╸\u001b[33m━\u001b[0m      83 meme                      11.9s\u001b[2K\u001b[1A\u001b[2K\u001b[1A\u001b[2K\u001b[0G[+] 12.4s\n",
      "Downloading      ━━━━━━━━━━━━━━━━━━━━━━━  73.0MB                            5.9s\n",
      "Extracting   (1) ━━━━━━━━━━━━━━━━━━━━━╸\u001b[33m━\u001b[0m      83 meme                      12.0s\u001b[2K\u001b[1A\u001b[2K\u001b[1A\u001b[2K\u001b[0G[+] 12.5s\n",
      "Downloading      ━━━━━━━━━━━━━━━━━━━━━━━  73.0MB                            5.9s\n",
      "Extracting   (1) ━━━━━━━━━━━━━━━━━━━━━╸\u001b[33m━\u001b[0m      83 meme                      12.1s\u001b[2K\u001b[1A\u001b[2K\u001b[1A\u001b[2K\u001b[0G[+] 12.6s\n",
      "Downloading      ━━━━━━━━━━━━━━━━━━━━━━━  73.0MB                            5.9s\n",
      "Extracting   (1) ━━━━━━━━━━━━━━━━━━━━━╸\u001b[33m━\u001b[0m      83 meme                      12.2s\u001b[2K\u001b[1A\u001b[2K\u001b[1A\u001b[2K\u001b[0G[+] 12.7s\n",
      "Downloading      ━━━━━━━━━━━━━━━━━━━━━━━  73.0MB                            5.9s\n",
      "Extracting   (1) ━━━━━━━━━━━━━━━━━━━━━╸\u001b[33m━\u001b[0m      83 meme                      12.3s\u001b[2K\u001b[1A\u001b[2K\u001b[1A\u001b[2K\u001b[0G[+] 12.8s\n",
      "Downloading      ━━━━━━━━━━━━━━━━━━━━━━━  73.0MB                            5.9s\n",
      "Extracting   (1) ━━━━━━━━━━━━━━━━━━━━━╸\u001b[33m━\u001b[0m      83 meme                      12.4s\u001b[2K\u001b[1A\u001b[2K\u001b[1A\u001b[2K\u001b[0G[+] 12.9s\n",
      "Downloading      ━━━━━━━━━━━━━━━━━━━━━━━  73.0MB                            5.9s\n",
      "Extracting   (1) ━━━━━━━━━━━━━━━━━━━━━╸\u001b[33m━\u001b[0m      83 meme                      12.5s\u001b[2K\u001b[1A\u001b[2K\u001b[1A\u001b[2K\u001b[0G[+] 13.0s\n",
      "Downloading      ━━━━━━━━━━━━━━━━━━━━━━━  73.0MB                            5.9s\n",
      "Extracting   (1) ━━━━━━━━━━━━━━━━━━━━━╸\u001b[33m━\u001b[0m      83 meme                      12.6s\u001b[2K\u001b[1A\u001b[2K\u001b[1A\u001b[2K\u001b[0G[+] 13.1s\n",
      "Downloading      ━━━━━━━━━━━━━━━━━━━━━━━  73.0MB                            5.9s\n",
      "Extracting   (1) ━━━━━━━━━━━━━━━━━━━━━╸\u001b[33m━\u001b[0m      83 meme                      12.7s\u001b[2K\u001b[1A\u001b[2K\u001b[1A\u001b[2K\u001b[0G[+] 13.2s\n",
      "Downloading      ━━━━━━━━━━━━━━━━━━━━━━━  73.0MB                            5.9s\n",
      "Extracting   (1) ━━━━━━━━━━━━━━━━━━━━━╸\u001b[33m━\u001b[0m      83 meme                      12.8s\u001b[2K\u001b[1A\u001b[2K\u001b[1A\u001b[2K\u001b[0G[+] 13.3s\n",
      "Downloading      ━━━━━━━━━━━━━━━━━━━━━━━  73.0MB                            5.9s\n",
      "Extracting   (1) ━━━━━━━━━━━━━━━━━━━━━╸\u001b[33m━\u001b[0m      83 meme                      12.9s\u001b[2K\u001b[1A\u001b[2K\u001b[1A\u001b[2K\u001b[0G[+] 13.4s\n",
      "Downloading      ━━━━━━━━━━━━━━━━━━━━━━━  73.0MB                            5.9s\n",
      "Extracting   (1) ━━━━━━━━━━━━━━━━━━━━━╸\u001b[33m━\u001b[0m      83 meme                      13.0s\u001b[2K\u001b[1A\u001b[2K\u001b[1A\u001b[2K\u001b[0G\u001b[?25h\n",
      "Downloading and Extracting Packages\n",
      "\n",
      "Preparing transaction: done\n",
      "Verifying transaction: done\n",
      "Executing transaction: \\ By downloading and using the CUDA Toolkit conda packages, you accept the terms and conditions of the CUDA End User License Agreement (EULA): https://docs.nvidia.com/cuda/eula/index.html\n",
      "By downloading and using the cuDNN conda packages, you accept the terms and conditions of the NVIDIA cuDNN EULA -\n",
      "  https://docs.nvidia.com/deeplearning/cudnn/sla/index.html\n",
      " \n",
      "For Linux 64, Open MPI is built with CUDA awareness but this support is disabled by default.\n",
      "To enable it, please set the environment variable OMPI_MCA_opal_cuda_support=true before\n",
      "launching your MPI processes. Equivalently, you can set the MCA parameter in the command line:\n",
      "mpiexec --mca opal_cuda_support 1 ...\n",
      " \n",
      "In addition, the UCX support is also built but disabled by default.\n",
      "To enable it, first install UCX (conda install -c conda-forge ucx). Then, set the environment\n",
      "variables OMPI_MCA_pml=\"ucx\" OMPI_MCA_osc=\"ucx\" before launching your MPI processes.\n",
      "Equivalently, you can set the MCA parameters in the command line:\n",
      "mpiexec --mca pml ucx --mca osc ucx ...\n",
      "Note that you might also need to set UCX_MEMTYPE_CACHE=n for CUDA awareness via UCX.\n",
      "Please consult UCX's documentation for detail.\n",
      " \n",
      "\n",
      "done\n"
     ]
    }
   ],
   "source": [
    "# import sys\n",
    "# !mamba install -c bioconda --yes --prefix {sys.prefix} meme"
   ]
  },
  {
   "cell_type": "code",
   "execution_count": null,
   "id": "c6efbcfb-8c33-4fae-95c0-9623bb635b23",
   "metadata": {},
   "outputs": [],
   "source": []
  },
  {
   "cell_type": "code",
   "execution_count": null,
   "id": "c06a7bf8-9171-469c-8ba4-52a3ab4ca514",
   "metadata": {},
   "outputs": [],
   "source": []
  },
  {
   "cell_type": "code",
   "execution_count": null,
   "id": "d0592dfc-c51f-4b43-b68a-89bb080840e0",
   "metadata": {},
   "outputs": [],
   "source": []
  },
  {
   "cell_type": "code",
   "execution_count": 41,
   "id": "b239ce16-aca0-4694-9f79-6d94a39e0ab9",
   "metadata": {},
   "outputs": [
    {
     "name": "stderr",
     "output_type": "stream",
     "text": [
      "FATAL: Motif file '/c4/home/derek/bin/concise/concise/resources/attract_pwm.txt' uses a 'undefined' alphabet when a 'DNA' alphabet was expected.\n",
      "\n",
      "Traceback (most recent call last):\n",
      "  File \"/c4/home/derek/miniconda3/envs/deepripe/bin/modisco\", line 215, in <module>\n",
      "    modiscolite.report.report_motifs(args.h5py, args.output,\n",
      "  File \"/c4/home/derek/miniconda3/envs/deepripe/lib/python3.10/site-packages/modiscolite/report.py\", line 285, in report_motifs\n",
      "    tomtom_df = generate_tomtom_dataframe(modisco_h5py, output_dir, meme_motif_db,\n",
      "  File \"/c4/home/derek/miniconda3/envs/deepripe/lib/python3.10/site-packages/modiscolite/report.py\", line 157, in generate_tomtom_dataframe\n",
      "    r = fetch_tomtom_matches(ppm, cwm,\n",
      "  File \"/c4/home/derek/miniconda3/envs/deepripe/lib/python3.10/site-packages/modiscolite/report.py\", line 116, in fetch_tomtom_matches\n",
      "    tomtom_results = pandas.read_csv(tomtom_fname, sep=\"\\t\", usecols=(1, 5))\n",
      "  File \"/c4/home/derek/miniconda3/envs/deepripe/lib/python3.10/site-packages/pandas/io/parsers/readers.py\", line 1026, in read_csv\n",
      "    return _read(filepath_or_buffer, kwds)\n",
      "  File \"/c4/home/derek/miniconda3/envs/deepripe/lib/python3.10/site-packages/pandas/io/parsers/readers.py\", line 620, in _read\n",
      "    parser = TextFileReader(filepath_or_buffer, **kwds)\n",
      "  File \"/c4/home/derek/miniconda3/envs/deepripe/lib/python3.10/site-packages/pandas/io/parsers/readers.py\", line 1620, in __init__\n",
      "    self._engine = self._make_engine(f, self.engine)\n",
      "  File \"/c4/home/derek/miniconda3/envs/deepripe/lib/python3.10/site-packages/pandas/io/parsers/readers.py\", line 1898, in _make_engine\n",
      "    return mapping[engine](f, **self.options)\n",
      "  File \"/c4/home/derek/miniconda3/envs/deepripe/lib/python3.10/site-packages/pandas/io/parsers/c_parser_wrapper.py\", line 93, in __init__\n",
      "    self._reader = parsers.TextReader(src, **kwds)\n",
      "  File \"parsers.pyx\", line 581, in pandas._libs.parsers.TextReader.__cinit__\n",
      "pandas.errors.EmptyDataError: No columns to parse from file\n"
     ]
    },
    {
     "ename": "CalledProcessError",
     "evalue": "Command 'b'\\nRBP=$1\\n\\nmodisco report -i ./eval/modisco_outs_${RBP}/modisco_results.h5 \\\\\\n               -o ./eval/modisco_outs_${RBP}/modisco_report/ \\\\\\n               -s ./eval/modisco_outs_${RBP}/modisco_report/ \\\\\\n               -m /c4/home/derek/bin/concise/concise/resources/attract_pwm.txt\\n'' returned non-zero exit status 1.",
     "output_type": "error",
     "traceback": [
      "\u001b[0;31m---------------------------------------------------------------------------\u001b[0m",
      "\u001b[0;31mCalledProcessError\u001b[0m                        Traceback (most recent call last)",
      "Cell \u001b[0;32mIn[41], line 1\u001b[0m\n\u001b[0;32m----> 1\u001b[0m \u001b[43mget_ipython\u001b[49m\u001b[43m(\u001b[49m\u001b[43m)\u001b[49m\u001b[38;5;241;43m.\u001b[39;49m\u001b[43mrun_cell_magic\u001b[49m\u001b[43m(\u001b[49m\u001b[38;5;124;43m'\u001b[39;49m\u001b[38;5;124;43mbash\u001b[39;49m\u001b[38;5;124;43m'\u001b[39;49m\u001b[43m,\u001b[49m\u001b[43m \u001b[49m\u001b[38;5;124;43m'\u001b[39;49m\u001b[38;5;124;43m-s \u001b[39;49m\u001b[38;5;132;43;01m{RBP}\u001b[39;49;00m\u001b[38;5;124;43m'\u001b[39;49m\u001b[43m,\u001b[49m\u001b[43m \u001b[49m\u001b[38;5;124;43m'\u001b[39;49m\u001b[38;5;130;43;01m\\n\u001b[39;49;00m\u001b[38;5;124;43mRBP=$1\u001b[39;49m\u001b[38;5;130;43;01m\\n\u001b[39;49;00m\u001b[38;5;130;43;01m\\n\u001b[39;49;00m\u001b[38;5;124;43mmodisco report -i ./eval/modisco_outs_$\u001b[39;49m\u001b[38;5;132;43;01m{RBP}\u001b[39;49;00m\u001b[38;5;124;43m/modisco_results.h5 \u001b[39;49m\u001b[38;5;130;43;01m\\\\\u001b[39;49;00m\u001b[38;5;130;43;01m\\n\u001b[39;49;00m\u001b[38;5;124;43m               -o ./eval/modisco_outs_$\u001b[39;49m\u001b[38;5;132;43;01m{RBP}\u001b[39;49;00m\u001b[38;5;124;43m/modisco_report/ \u001b[39;49m\u001b[38;5;130;43;01m\\\\\u001b[39;49;00m\u001b[38;5;130;43;01m\\n\u001b[39;49;00m\u001b[38;5;124;43m               -s ./eval/modisco_outs_$\u001b[39;49m\u001b[38;5;132;43;01m{RBP}\u001b[39;49;00m\u001b[38;5;124;43m/modisco_report/ \u001b[39;49m\u001b[38;5;130;43;01m\\\\\u001b[39;49;00m\u001b[38;5;130;43;01m\\n\u001b[39;49;00m\u001b[38;5;124;43m               -m /c4/home/derek/bin/concise/concise/resources/attract_pwm.txt\u001b[39;49m\u001b[38;5;130;43;01m\\n\u001b[39;49;00m\u001b[38;5;124;43m'\u001b[39;49m\u001b[43m)\u001b[49m\n",
      "File \u001b[0;32m~/miniconda3/envs/deepripe/lib/python3.10/site-packages/IPython/core/interactiveshell.py:2541\u001b[0m, in \u001b[0;36mInteractiveShell.run_cell_magic\u001b[0;34m(self, magic_name, line, cell)\u001b[0m\n\u001b[1;32m   2539\u001b[0m \u001b[38;5;28;01mwith\u001b[39;00m \u001b[38;5;28mself\u001b[39m\u001b[38;5;241m.\u001b[39mbuiltin_trap:\n\u001b[1;32m   2540\u001b[0m     args \u001b[38;5;241m=\u001b[39m (magic_arg_s, cell)\n\u001b[0;32m-> 2541\u001b[0m     result \u001b[38;5;241m=\u001b[39m \u001b[43mfn\u001b[49m\u001b[43m(\u001b[49m\u001b[38;5;241;43m*\u001b[39;49m\u001b[43margs\u001b[49m\u001b[43m,\u001b[49m\u001b[43m \u001b[49m\u001b[38;5;241;43m*\u001b[39;49m\u001b[38;5;241;43m*\u001b[39;49m\u001b[43mkwargs\u001b[49m\u001b[43m)\u001b[49m\n\u001b[1;32m   2543\u001b[0m \u001b[38;5;66;03m# The code below prevents the output from being displayed\u001b[39;00m\n\u001b[1;32m   2544\u001b[0m \u001b[38;5;66;03m# when using magics with decorator @output_can_be_silenced\u001b[39;00m\n\u001b[1;32m   2545\u001b[0m \u001b[38;5;66;03m# when the last Python token in the expression is a ';'.\u001b[39;00m\n\u001b[1;32m   2546\u001b[0m \u001b[38;5;28;01mif\u001b[39;00m \u001b[38;5;28mgetattr\u001b[39m(fn, magic\u001b[38;5;241m.\u001b[39mMAGIC_OUTPUT_CAN_BE_SILENCED, \u001b[38;5;28;01mFalse\u001b[39;00m):\n",
      "File \u001b[0;32m~/miniconda3/envs/deepripe/lib/python3.10/site-packages/IPython/core/magics/script.py:155\u001b[0m, in \u001b[0;36mScriptMagics._make_script_magic.<locals>.named_script_magic\u001b[0;34m(line, cell)\u001b[0m\n\u001b[1;32m    153\u001b[0m \u001b[38;5;28;01melse\u001b[39;00m:\n\u001b[1;32m    154\u001b[0m     line \u001b[38;5;241m=\u001b[39m script\n\u001b[0;32m--> 155\u001b[0m \u001b[38;5;28;01mreturn\u001b[39;00m \u001b[38;5;28;43mself\u001b[39;49m\u001b[38;5;241;43m.\u001b[39;49m\u001b[43mshebang\u001b[49m\u001b[43m(\u001b[49m\u001b[43mline\u001b[49m\u001b[43m,\u001b[49m\u001b[43m \u001b[49m\u001b[43mcell\u001b[49m\u001b[43m)\u001b[49m\n",
      "File \u001b[0;32m~/miniconda3/envs/deepripe/lib/python3.10/site-packages/IPython/core/magics/script.py:315\u001b[0m, in \u001b[0;36mScriptMagics.shebang\u001b[0;34m(self, line, cell)\u001b[0m\n\u001b[1;32m    310\u001b[0m \u001b[38;5;28;01mif\u001b[39;00m args\u001b[38;5;241m.\u001b[39mraise_error \u001b[38;5;129;01mand\u001b[39;00m p\u001b[38;5;241m.\u001b[39mreturncode \u001b[38;5;241m!=\u001b[39m \u001b[38;5;241m0\u001b[39m:\n\u001b[1;32m    311\u001b[0m     \u001b[38;5;66;03m# If we get here and p.returncode is still None, we must have\u001b[39;00m\n\u001b[1;32m    312\u001b[0m     \u001b[38;5;66;03m# killed it but not yet seen its return code. We don't wait for it,\u001b[39;00m\n\u001b[1;32m    313\u001b[0m     \u001b[38;5;66;03m# in case it's stuck in uninterruptible sleep. -9 = SIGKILL\u001b[39;00m\n\u001b[1;32m    314\u001b[0m     rc \u001b[38;5;241m=\u001b[39m p\u001b[38;5;241m.\u001b[39mreturncode \u001b[38;5;129;01mor\u001b[39;00m \u001b[38;5;241m-\u001b[39m\u001b[38;5;241m9\u001b[39m\n\u001b[0;32m--> 315\u001b[0m     \u001b[38;5;28;01mraise\u001b[39;00m CalledProcessError(rc, cell)\n",
      "\u001b[0;31mCalledProcessError\u001b[0m: Command 'b'\\nRBP=$1\\n\\nmodisco report -i ./eval/modisco_outs_${RBP}/modisco_results.h5 \\\\\\n               -o ./eval/modisco_outs_${RBP}/modisco_report/ \\\\\\n               -s ./eval/modisco_outs_${RBP}/modisco_report/ \\\\\\n               -m /c4/home/derek/bin/concise/concise/resources/attract_pwm.txt\\n'' returned non-zero exit status 1."
     ]
    }
   ],
   "source": [
    "%%bash -s {RBP}\n",
    "\n",
    "RBP=$1\n",
    "\n",
    "modisco report -i ./eval/modisco_outs_${RBP}/modisco_results.h5 \\\n",
    "               -o ./eval/modisco_outs_${RBP}/modisco_report/ \\\n",
    "               -s ./eval/modisco_outs_${RBP}/modisco_report/ \\\n",
    "               -m /c4/home/derek/bin/concise/concise/resources/attract_pwm.txt"
   ]
  },
  {
   "cell_type": "code",
   "execution_count": null,
   "id": "dec7072e-9d43-4682-a6e8-010e04cd94ac",
   "metadata": {},
   "outputs": [],
   "source": []
  },
  {
   "cell_type": "markdown",
   "id": "a241f79d-1324-43e8-99ae-f39be4dae414",
   "metadata": {},
   "source": [
    "## Plotting Motifs"
   ]
  },
  {
   "cell_type": "code",
   "execution_count": 158,
   "id": "0017393a-b87c-4b0b-940d-d1e883efe888",
   "metadata": {},
   "outputs": [],
   "source": [
    "RBP = 'QKI'"
   ]
  },
  {
   "cell_type": "code",
   "execution_count": 128,
   "id": "7b13feb2-0852-4471-8e3b-d98a8773e01b",
   "metadata": {},
   "outputs": [
    {
     "name": "stdout",
     "output_type": "stream",
     "text": [
      "usage: modisco meme [-h] [-i H5PY] -t {PFM,CWM,hCWM,CWM-PFM,hCWM-PFM}\n",
      "                    [-o OUTPUT] [-q]\n",
      "\n",
      "options:\n",
      "  -h, --help            show this help message and exit\n",
      "  -i H5PY, --h5py H5PY  An HDF5 file containing the output from modiscolite.\n",
      "  -t {PFM,CWM,hCWM,CWM-PFM,hCWM-PFM}, --datatype {PFM,CWM,hCWM,CWM-PFM,hCWM-PFM}\n",
      "                        A case-sensitive string specifying the desired data of the output file.,\n",
      "                        The options are as follows:\n",
      "                        - 'PFM':      The position-frequency matrix.\n",
      "                        - 'CWM':      The contribution-weight matrix.\n",
      "                        - 'hCWM':     The hypothetical contribution-weight matrix; hypothetical\n",
      "                                      contribution scores are the contributions of nucleotides not encoded\n",
      "                                      by the one-hot encoding sequence. \n",
      "                        - 'CWM-PFM':  The softmax of the contribution-weight matrix.\n",
      "                        - 'hCWM-PFM': The softmax of the hypothetical contribution-weight matrix.\n",
      "  -o OUTPUT, --output OUTPUT\n",
      "                        The path to the output file.\n",
      "  -q, --quiet           Suppress output to stdout.\n",
      "\u001b[0m"
     ]
    }
   ],
   "source": [
    "!modisco meme --help\n"
   ]
  },
  {
   "cell_type": "code",
   "execution_count": 159,
   "id": "f9e99811-fd0a-4143-a8cd-4c0949b3c539",
   "metadata": {},
   "outputs": [],
   "source": [
    "%%bash -s {RBP}\n",
    "\n",
    "RBP=$1\n",
    "\n",
    "modisco meme -i ./eval/modisco_outs_${RBP}/modisco_results.h5 \\\n",
    "            -t 'CWM' \\\n",
    "            -o ./eval/modisco_outs_${RBP}/modisco_report/meme_${RBP}_CWM \\\n",
    "            -q"
   ]
  },
  {
   "cell_type": "code",
   "execution_count": null,
   "id": "2ee7496c-8581-4520-8378-c0fe7aab17a1",
   "metadata": {},
   "outputs": [],
   "source": []
  },
  {
   "cell_type": "code",
   "execution_count": 162,
   "id": "6999395a-f0d0-42b0-aac6-21ed3d52dc86",
   "metadata": {},
   "outputs": [],
   "source": [
    "RBP = 'PTBP1'"
   ]
  },
  {
   "cell_type": "code",
   "execution_count": 164,
   "id": "a2cbf35c-85d2-4060-a12d-42eef7e799ab",
   "metadata": {},
   "outputs": [],
   "source": [
    "#RBFOX2\n",
    "\n",
    "#QKI: skiprows=42, nrows=30\n",
    "#PTBP1: skiprows=9, nrows=30,\n",
    "\n",
    "\n",
    "PWM = pd.read_csv(f'./eval/modisco_outs_{RBP}/modisco_report/meme_{RBP}_CWM', skiprows=9, nrows=30, sep =' ', header=None)\n",
    "\n",
    "PWM.columns = ['A', 'C', 'G', 'U']"
   ]
  },
  {
   "cell_type": "code",
   "execution_count": null,
   "id": "ac4071c6-1652-47c5-b615-f1d536ba043e",
   "metadata": {},
   "outputs": [],
   "source": []
  },
  {
   "cell_type": "code",
   "execution_count": 166,
   "id": "81ff69d9-a2cf-46a7-b5d3-32fbc60625f2",
   "metadata": {},
   "outputs": [
    {
     "data": {
      "image/png": "[encoded data removed]",
      "text/plain": [
       "<Figure size 1000x250 with 1 Axes>"
      ]
     },
     "metadata": {},
     "output_type": "display_data"
    }
   ],
   "source": [
    "fig, ax = plt.subplots(figsize = (10,2.5))\n",
    "\n",
    "logomaker.Logo(PWM,#.iloc[8:16],\n",
    "              show_spines=False,\n",
    "              fade_below=1.0, \n",
    "              ax=ax)\n",
    "\n",
    "ax.set_xticks([])\n",
    "ax.set_yticks([])\n",
    "\n",
    "fig.savefig('PTBP1_top_modisco.pdf')"
   ]
  },
  {
   "cell_type": "code",
   "execution_count": null,
   "id": "b5cf7e44-15a8-4f8f-9ed9-6f8ab87f5980",
   "metadata": {},
   "outputs": [],
   "source": []
  },
  {
   "cell_type": "code",
   "execution_count": null,
   "id": "2ab171c9-828c-4100-8502-e48cc1d80016",
   "metadata": {},
   "outputs": [],
   "source": []
  },
  {
   "cell_type": "code",
   "execution_count": 161,
   "id": "d8579950-b9a7-4306-9fbf-d29779c70b4d",
   "metadata": {},
   "outputs": [
    {
     "data": {
      "image/png": "[encoded data removed]",
      "text/plain": [
       "<Figure size 1000x250 with 1 Axes>"
      ]
     },
     "metadata": {},
     "output_type": "display_data"
    }
   ],
   "source": [
    "fig, ax = plt.subplots(figsize = (10,2.5))\n",
    "\n",
    "logomaker.Logo(PWM,#.iloc[8:16],\n",
    "              show_spines=False,\n",
    "              fade_below=1.0, \n",
    "              ax=ax)\n",
    "\n",
    "ax.set_xticks([])\n",
    "ax.set_yticks([])\n",
    "\n",
    "fig.savefig('QKI_top_modisco.pdf')"
   ]
  },
  {
   "cell_type": "code",
   "execution_count": null,
   "id": "d9e8a9c9-cac3-4773-807a-4093d5ff73f4",
   "metadata": {},
   "outputs": [],
   "source": []
  },
  {
   "cell_type": "code",
   "execution_count": 124,
   "id": "05542bef-0483-4dbd-88c2-5e4fa6fe3f12",
   "metadata": {},
   "outputs": [
    {
     "data": {
      "text/plain": [
       "[]"
      ]
     },
     "execution_count": 124,
     "metadata": {},
     "output_type": "execute_result"
    },
    {
     "data": {
      "image/png": "[encoded data removed]",
      "text/plain": [
       "<Figure size 1000x250 with 1 Axes>"
      ]
     },
     "metadata": {},
     "output_type": "display_data"
    }
   ],
   "source": [
    "fig, ax = plt.subplots(figsize = (10,2.5))\n",
    "logomaker.Logo(PWM,#.iloc[8:16],\n",
    "              show_spines=False,\n",
    "              fade_below=1.0, \n",
    "              ax=ax)\n",
    "\n",
    "\n",
    "\n",
    "ax.set_xticks([])\n",
    "ax.set_yticks([])\n",
    "\n",
    "#fig.savefig"
   ]
  },
  {
   "cell_type": "code",
   "execution_count": null,
   "id": "32e4bbd7-6639-4dcf-bbc6-0f5b986ec542",
   "metadata": {},
   "outputs": [],
   "source": []
  },
  {
   "cell_type": "code",
   "execution_count": null,
   "id": "ac8f0191-4a1f-4164-897b-3a287ed00a25",
   "metadata": {},
   "outputs": [],
   "source": []
  },
  {
   "cell_type": "code",
   "execution_count": null,
   "id": "96031d00-54f3-4e34-bb25-00e301f274bb",
   "metadata": {},
   "outputs": [],
   "source": []
  },
  {
   "cell_type": "code",
   "execution_count": null,
   "id": "db990352-f2f0-4f11-af78-7b273c0a114d",
   "metadata": {},
   "outputs": [],
   "source": []
  },
  {
   "cell_type": "code",
   "execution_count": null,
   "id": "d4927184-ba68-4a34-add1-7fc04b40f411",
   "metadata": {},
   "outputs": [],
   "source": []
  },
  {
   "cell_type": "code",
   "execution_count": null,
   "id": "500cb527-9694-42aa-9bda-1a970c2448ef",
   "metadata": {},
   "outputs": [],
   "source": []
  },
  {
   "cell_type": "code",
   "execution_count": null,
   "id": "91d06b3b-d4eb-4992-adce-fc64d7b63a32",
   "metadata": {},
   "outputs": [],
   "source": []
  }
 ],
 "metadata": {
  "kernelspec": {
   "display_name": "Python 3 (ipykernel)",
   "language": "python",
   "name": "python3"
  },
  "language_info": {
   "codemirror_mode": {
    "name": "ipython",
    "version": 3
   },
   "file_extension": ".py",
   "mimetype": "text/x-python",
   "name": "python",
   "nbconvert_exporter": "python",
   "pygments_lexer": "ipython3",
   "version": "3.9.15"
  }
 },
 "nbformat": 4,
 "nbformat_minor": 5
}
