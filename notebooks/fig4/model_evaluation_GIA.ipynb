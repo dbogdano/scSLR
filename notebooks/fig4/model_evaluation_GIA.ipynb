{
 "cells": [
  {
   "cell_type": "code",
   "execution_count": 49,
   "id": "2414f820-8868-4c5e-b40f-309e1674f2e8",
   "metadata": {},
   "outputs": [
    {
     "name": "stdout",
     "output_type": "stream",
     "text": [
      "Mon Oct 28 00:20:44 PDT 2024\n"
     ]
    }
   ],
   "source": [
    "!date"
   ]
  },
  {
   "cell_type": "code",
   "execution_count": 50,
   "id": "5cfe33ee-644a-43eb-9715-867a297475cc",
   "metadata": {},
   "outputs": [
    {
     "data": {
      "text/plain": [
       "'/c4/home/derek/miniconda3/envs/deepripe'"
      ]
     },
     "execution_count": 50,
     "metadata": {},
     "output_type": "execute_result"
    }
   ],
   "source": [
    "%env CONDA_PREFIX"
   ]
  },
  {
   "cell_type": "markdown",
   "id": "ed83973d-80e4-4fbb-ad69-b4e1a0daae9b",
   "metadata": {},
   "source": [
    "# Model Evalutation with GIA and weight vis"
   ]
  },
  {
   "cell_type": "code",
   "execution_count": 51,
   "id": "1976e444-851f-463f-b9ac-0e6f8127456c",
   "metadata": {},
   "outputs": [],
   "source": [
    "import numpy as np\n",
    "np.random.seed(1)\n",
    "\n",
    "import os\n",
    "import random\n",
    "import sys\n",
    "import glob\n",
    "import tqdm\n",
    "\n",
    "os.environ['TF_CPP_MIN_LOG_LEVEL']='2'"
   ]
  },
  {
   "cell_type": "code",
   "execution_count": 251,
   "id": "2a3c49f5-c8f7-418f-84e7-ddcdbcfc32d5",
   "metadata": {},
   "outputs": [],
   "source": [
    "import pandas as pd\n",
    "import scipy as sci\n",
    "import seaborn as sns\n",
    "import matplotlib.pyplot as plt\n",
    "\n",
    "\n",
    "from pathlib import Path\n",
    "import json\n",
    "import shutil\n",
    "\n",
    "\n",
    "import pysam \n",
    "from scipy.stats import pearsonr, spearmanr\n",
    "\n",
    "\n",
    "#import modified basenji modules \n",
    "sys.path.append(\"/nowakowskilab/data1/derek/data_scSLR/prenatal_brain/deep_splicing\")\n",
    "from basenji_.basenji.dna_io import dna_1hot\n",
    "\n",
    "import tensorflow as tf\n",
    "from keras import regularizers\n",
    "\n",
    "from scipy.ndimage import gaussian_filter1d"
   ]
  },
  {
   "cell_type": "code",
   "execution_count": 252,
   "id": "3c88252e-efb6-48fe-8fbd-69a9ad979779",
   "metadata": {},
   "outputs": [
    {
     "name": "stdout",
     "output_type": "stream",
     "text": [
      "Num GPUs Available:  1\n"
     ]
    }
   ],
   "source": [
    "print(\"Num GPUs Available: \", len(tf.config.list_physical_devices('GPU')))"
   ]
  },
  {
   "cell_type": "code",
   "execution_count": 253,
   "id": "5eb71851-2947-49e2-9e57-260f02bfdb1c",
   "metadata": {},
   "outputs": [
    {
     "ename": "RuntimeError",
     "evalue": "Physical devices cannot be modified after being initialized",
     "output_type": "error",
     "traceback": [
      "\u001b[0;31m---------------------------------------------------------------------------\u001b[0m",
      "\u001b[0;31mRuntimeError\u001b[0m                              Traceback (most recent call last)",
      "Cell \u001b[0;32mIn[253], line 5\u001b[0m\n\u001b[1;32m      3\u001b[0m gpus \u001b[38;5;241m=\u001b[39m tf\u001b[38;5;241m.\u001b[39mconfig\u001b[38;5;241m.\u001b[39mexperimental\u001b[38;5;241m.\u001b[39mlist_physical_devices(\u001b[38;5;124m'\u001b[39m\u001b[38;5;124mGPU\u001b[39m\u001b[38;5;124m'\u001b[39m)\n\u001b[1;32m      4\u001b[0m \u001b[38;5;28;01mfor\u001b[39;00m gpu \u001b[38;5;129;01min\u001b[39;00m gpus:\n\u001b[0;32m----> 5\u001b[0m   \u001b[43mtf\u001b[49m\u001b[38;5;241;43m.\u001b[39;49m\u001b[43mconfig\u001b[49m\u001b[38;5;241;43m.\u001b[39;49m\u001b[43mexperimental\u001b[49m\u001b[38;5;241;43m.\u001b[39;49m\u001b[43mset_memory_growth\u001b[49m\u001b[43m(\u001b[49m\u001b[43mgpu\u001b[49m\u001b[43m,\u001b[49m\u001b[43m \u001b[49m\u001b[38;5;28;43;01mTrue\u001b[39;49;00m\u001b[43m)\u001b[49m\n",
      "File \u001b[0;32m~/miniconda3/envs/deepripe/lib/python3.10/site-packages/tensorflow/python/framework/config.py:716\u001b[0m, in \u001b[0;36mset_memory_growth\u001b[0;34m(device, enable)\u001b[0m\n\u001b[1;32m    691\u001b[0m \u001b[38;5;129m@tf_export\u001b[39m(\u001b[38;5;124m'\u001b[39m\u001b[38;5;124mconfig.experimental.set_memory_growth\u001b[39m\u001b[38;5;124m'\u001b[39m)\n\u001b[1;32m    692\u001b[0m \u001b[38;5;28;01mdef\u001b[39;00m \u001b[38;5;21mset_memory_growth\u001b[39m(device, enable):\n\u001b[1;32m    693\u001b[0m \u001b[38;5;250m  \u001b[39m\u001b[38;5;124;03m\"\"\"Set if memory growth should be enabled for a `PhysicalDevice`.\u001b[39;00m\n\u001b[1;32m    694\u001b[0m \n\u001b[1;32m    695\u001b[0m \u001b[38;5;124;03m  If memory growth is enabled for a `PhysicalDevice`, the runtime initialization\u001b[39;00m\n\u001b[0;32m   (...)\u001b[0m\n\u001b[1;32m    714\u001b[0m \u001b[38;5;124;03m    RuntimeError: Runtime is already initialized.\u001b[39;00m\n\u001b[1;32m    715\u001b[0m \u001b[38;5;124;03m  \"\"\"\u001b[39;00m\n\u001b[0;32m--> 716\u001b[0m   \u001b[43mcontext\u001b[49m\u001b[38;5;241;43m.\u001b[39;49m\u001b[43mcontext\u001b[49m\u001b[43m(\u001b[49m\u001b[43m)\u001b[49m\u001b[38;5;241;43m.\u001b[39;49m\u001b[43mset_memory_growth\u001b[49m\u001b[43m(\u001b[49m\u001b[43mdevice\u001b[49m\u001b[43m,\u001b[49m\u001b[43m \u001b[49m\u001b[43menable\u001b[49m\u001b[43m)\u001b[49m\n",
      "File \u001b[0;32m~/miniconda3/envs/deepripe/lib/python3.10/site-packages/tensorflow/python/eager/context.py:1643\u001b[0m, in \u001b[0;36mContext.set_memory_growth\u001b[0;34m(self, dev, enable)\u001b[0m\n\u001b[1;32m   1640\u001b[0m   \u001b[38;5;28;01mreturn\u001b[39;00m\n\u001b[1;32m   1642\u001b[0m \u001b[38;5;28;01mif\u001b[39;00m \u001b[38;5;28mself\u001b[39m\u001b[38;5;241m.\u001b[39m_context_handle \u001b[38;5;129;01mis\u001b[39;00m \u001b[38;5;129;01mnot\u001b[39;00m \u001b[38;5;28;01mNone\u001b[39;00m:\n\u001b[0;32m-> 1643\u001b[0m   \u001b[38;5;28;01mraise\u001b[39;00m \u001b[38;5;167;01mRuntimeError\u001b[39;00m(\n\u001b[1;32m   1644\u001b[0m       \u001b[38;5;124m\"\u001b[39m\u001b[38;5;124mPhysical devices cannot be modified after being initialized\u001b[39m\u001b[38;5;124m\"\u001b[39m)\n\u001b[1;32m   1646\u001b[0m \u001b[38;5;28mself\u001b[39m\u001b[38;5;241m.\u001b[39m_memory_growth_map[dev] \u001b[38;5;241m=\u001b[39m enable\n",
      "\u001b[0;31mRuntimeError\u001b[0m: Physical devices cannot be modified after being initialized"
     ]
    }
   ],
   "source": [
    "##set memory usage \n",
    "\n",
    "gpus = tf.config.experimental.list_physical_devices('GPU')\n",
    "for gpu in gpus:\n",
    "  tf.config.experimental.set_memory_growth(gpu, True)"
   ]
  },
  {
   "cell_type": "markdown",
   "id": "70a41b8d-c8ee-4b89-98be-c60d88581844",
   "metadata": {},
   "source": [
    "## generate and train ExplaiNN model "
   ]
  },
  {
   "cell_type": "code",
   "execution_count": 288,
   "id": "d914b2ea-45b3-4f59-9a1b-ce4fca6bffca",
   "metadata": {},
   "outputs": [],
   "source": [
    "model_path = '/nowakowskilab/data1/derek/data_scSLR/prenatal_brain/deep_splicing/DeepRiPe/'"
   ]
  },
  {
   "cell_type": "code",
   "execution_count": 289,
   "id": "87c9dc23-045f-4138-a4ee-238a970e54e3",
   "metadata": {},
   "outputs": [],
   "source": [
    "sys.path.append(model_path+'Scripts/')\n",
    "\n",
    "from util_funcs import precision, recall\n",
    "\n",
    "custom_objects={'precision':precision,\n",
    "                'recall':recall,\n",
    "                  }"
   ]
  },
  {
   "cell_type": "code",
   "execution_count": 290,
   "id": "79c9e273-6312-41cc-b529-9d265f6a1a94",
   "metadata": {},
   "outputs": [],
   "source": [
    "seq_len = 600\n",
    "region_len = 1000\n",
    "input_sequence_split = 4\n",
    "n_tasks = 2"
   ]
  },
  {
   "cell_type": "code",
   "execution_count": 291,
   "id": "ea976397-d2a0-4ca3-a8ba-d621eab92ff5",
   "metadata": {},
   "outputs": [],
   "source": [
    "input_seq = tf.keras.Input(shape=(seq_len, 4), name='input_seq')\n",
    "input_region = tf.keras.Input(shape=(region_len, 4), name='input_region')\n",
    "                           \n",
    "input_seq_1, input_seq_2, input_seq_3, input_seq_4 = tf.split(input_seq, input_sequence_split, axis=1)\n",
    "input_region_1, input_region_2, input_region_3, input_region_4 = tf.split(input_region, input_sequence_split, axis=1)\n",
    "                              \n",
    "inputs_seq = {}\n",
    "inputs_region = {}\n",
    "\n",
    "inputs_seq[0] = tf.keras.layers.Masking(mask_value=0)(input_seq_1)\n",
    "inputs_seq[1] = tf.keras.layers.Masking(mask_value=0)(input_seq_2)\n",
    "inputs_seq[2] = tf.keras.layers.Masking(mask_value=0)(input_seq_3)\n",
    "inputs_seq[3] = tf.keras.layers.Masking(mask_value=0)(input_seq_4)\n",
    "\n",
    "inputs_region[0] = tf.keras.layers.Masking(mask_value=0)(input_region_1)\n",
    "inputs_region[1] = tf.keras.layers.Masking(mask_value=0)(input_region_2)\n",
    "inputs_region[2] = tf.keras.layers.Masking(mask_value=0)(input_region_3)\n",
    "inputs_region[3] = tf.keras.layers.Masking(mask_value=0)(input_region_4)"
   ]
  },
  {
   "cell_type": "code",
   "execution_count": null,
   "id": "53bc970b-aa2a-4ef7-8e0c-6c22fe8c5941",
   "metadata": {},
   "outputs": [],
   "source": []
  },
  {
   "cell_type": "code",
   "execution_count": 292,
   "id": "24ff8c12-c18c-402e-8e1a-528316c14018",
   "metadata": {},
   "outputs": [],
   "source": [
    "orig_models = {}\n",
    "input_layers = {}\n",
    "output_layers = {}\n",
    "base_models = {}\n",
    "currents = {}\n",
    "# \n",
    "\n",
    "for i, model in enumerate(glob.glob(model_path + 'Results/PARCLIP_models/hek293/*.h5')):\n",
    "\n",
    "\n",
    "# for i, model in enumerate(\n",
    "#                              ( [i for i in glob.glob(model_path + 'Results/Encode_models/K562/*.h5') if 'seq' in i] + \n",
    "#                               [i for i in glob.glob(model_path + 'Results/Encode_models/HepG2/*.h5') if 'seq' in i]\n",
    "#                             )\n",
    "#                          ):\n",
    "\n",
    "    \n",
    "    orig_models[i] = tf.keras.models.load_model(model, custom_objects = custom_objects, compile=False)\n",
    "\n",
    "    \n",
    "    for j in range(input_sequence_split):\n",
    "            \n",
    "        # input_layers[i,j] = orig_models[i].inputs[0]\n",
    "        input_layers[i,j] = orig_models[i].inputs\n",
    "        \n",
    "        output_layers[i,j] = orig_models[i].get_layer('output').output\n",
    "        \n",
    "        base_models[i,j] = tf.keras.Model(inputs=input_layers[i,j], outputs=output_layers[i,j], name= '_'.join(model.split('/')[-1].split('_')[3:5]+[str(j)]))\n",
    "        \n",
    "        base_models[i,j].trainable = False\n",
    "        \n",
    "        # currents[i,j] = base_models[i,j](inputs_seq[j], training=False)\n",
    "        currents[i,j] = base_models[i,j]([inputs_seq[j], inputs_region[j]], training=False)\n",
    "\n",
    "        \n",
    "        \n",
    "        "
   ]
  },
  {
   "cell_type": "code",
   "execution_count": 293,
   "id": "8a95ef25-8413-4c9d-89aa-79c2ff297b90",
   "metadata": {},
   "outputs": [],
   "source": [
    "current = tf.concat(currents.values(), axis=1)\n",
    "\n",
    "\n",
    "output = tf.keras.layers.Dense(n_tasks, \n",
    "                               kernel_constraint=tf.keras.constraints.MaxNorm(max_value=0.25, axis=0),\n",
    "                               use_bias= True,\n",
    "                              )(current)\n",
    "\n",
    "\n",
    "# model = tf.keras.Model(input_seq, output, name='deepripe_explainn')\n",
    "model = tf.keras.Model((input_seq, input_region), output, name='deepripe_explainn')"
   ]
  },
  {
   "cell_type": "code",
   "execution_count": null,
   "id": "4ef6a560-37a8-4374-b5d1-c149e6cdf4f8",
   "metadata": {},
   "outputs": [],
   "source": []
  },
  {
   "cell_type": "code",
   "execution_count": null,
   "id": "6744623e-c96b-416d-b124-ae84fe2bb9bc",
   "metadata": {},
   "outputs": [],
   "source": []
  },
  {
   "cell_type": "markdown",
   "id": "a1aa111c-0e47-4950-8887-0ec8e888999f",
   "metadata": {},
   "source": [
    "## get data "
   ]
  },
  {
   "cell_type": "code",
   "execution_count": 294,
   "id": "5842cbdd-b7fb-40da-bfe2-2849d76d7ff2",
   "metadata": {},
   "outputs": [],
   "source": [
    "#import modified basenji modules \n",
    "sys.path.append(\"/nowakowskilab/data1/derek/data_scSLR/prenatal_brain/deep_splicing/basenji_/\")\n",
    "\n",
    "from basenji_.basenji import dataset, dataset_\n",
    "from basenji_.basenji.metrics import PearsonR"
   ]
  },
  {
   "cell_type": "code",
   "execution_count": 295,
   "id": "042b50c5-1a3c-4b2d-8be8-d33637fcca9e",
   "metadata": {},
   "outputs": [],
   "source": [
    "# out_dir = '/nowakowskilab/data1/derek/data_scSLR/prenatal_brain/deep_splicing/ExplaiNN/data_out/EN_RG_multitask_DeltaPSI_sig_0.1_train_valid_deepripe/'\n",
    "out_dir = '/nowakowskilab/data1/derek/data_scSLR/prenatal_brain/deep_splicing/ExplaiNN/data_out/EN_RG_multitask_DeltaPSI_sig_0.1_train_valid_deepripe_PARCLIP//'\n",
    "\n",
    "data_dir = [glob.glob(out_dir+'/fold*/')[4]] \n",
    "params_file = data_dir[0]+'params.json'"
   ]
  },
  {
   "cell_type": "code",
   "execution_count": 296,
   "id": "52bb16d4-1033-4f33-babc-51ff62347475",
   "metadata": {},
   "outputs": [
    {
     "data": {
      "text/plain": [
       "['/nowakowskilab/data1/derek/data_scSLR/prenatal_brain/deep_splicing/ExplaiNN/data_out/EN_RG_multitask_DeltaPSI_sig_0.1_train_valid_deepripe_PARCLIP/fold4/']"
      ]
     },
     "execution_count": 296,
     "metadata": {},
     "output_type": "execute_result"
    }
   ],
   "source": [
    "data_dir"
   ]
  },
  {
   "cell_type": "code",
   "execution_count": 297,
   "id": "cdb2c520-cf52-427b-8560-307d72bcf355",
   "metadata": {},
   "outputs": [
    {
     "data": {
      "text/plain": [
       "'/nowakowskilab/data1/derek/data_scSLR/prenatal_brain/deep_splicing/ExplaiNN/data_out/EN_RG_multitask_DeltaPSI_sig_0.1_train_valid_deepripe_PARCLIP/fold4/params.json'"
      ]
     },
     "execution_count": 297,
     "metadata": {},
     "output_type": "execute_result"
    }
   ],
   "source": [
    "params_file"
   ]
  },
  {
   "cell_type": "code",
   "execution_count": 298,
   "id": "72fe9491-0cce-4b20-bb28-2ca8c0164a55",
   "metadata": {},
   "outputs": [],
   "source": [
    "with open(params_file) as params_open:\n",
    "          params = json.load(params_open)\n",
    "params_model = params['model']\n",
    "params_train = params['train']\n",
    "os.makedirs(out_dir, exist_ok=True)\n",
    "if params_file != '%s/params.json' % out_dir:\n",
    "    shutil.copy(params_file, '%s/params.json' % out_dir)"
   ]
  },
  {
   "cell_type": "code",
   "execution_count": 299,
   "id": "86968272-fd29-4e76-9ec1-ee2df3e00b77",
   "metadata": {},
   "outputs": [
    {
     "data": {
      "text/plain": [
       "['/nowakowskilab/data1/derek/data_scSLR/prenatal_brain/deep_splicing/ExplaiNN/data_out/EN_RG_multitask_DeltaPSI_sig_0.1_train_valid_deepripe_PARCLIP/fold4/']"
      ]
     },
     "execution_count": 299,
     "metadata": {},
     "output_type": "execute_result"
    }
   ],
   "source": [
    "data_dir"
   ]
  },
  {
   "cell_type": "code",
   "execution_count": 300,
   "id": "7411763d-0ecf-452b-a545-2bf25d2d1196",
   "metadata": {},
   "outputs": [],
   "source": [
    "#read datasets\n",
    "train_data = []\n",
    "eval_data = []\n",
    "test_data = []\n",
    "\n",
    "\n",
    "seq_track=True\n",
    "\n",
    "\n",
    "for data_dir in data_dir:\n",
    "    # load train data\n",
    "    train_data.append(dataset_.ExonDataset(data_dir,\n",
    "        split_label='train',\n",
    "        batch_size=params_train['batch_size'],\n",
    "        shuffle_buffer=params_train.get('shuffle_buffer', params_model['seq_length']),\n",
    "        mode='train',\n",
    "        splice_track=False,\n",
    "        annotation_tracks=True\n",
    "                                         ))\n",
    "\n",
    "    # load eval data\n",
    "    eval_data.append(dataset_.ExonDataset(data_dir,\n",
    "      split_label='valid',\n",
    "      batch_size=params_train['batch_size'],\n",
    "      mode='eval',\n",
    "      splice_track=False,\n",
    "      annotation_tracks=True\n",
    "                                        ))\n",
    "    \n",
    "    # # load test data\n",
    "    # test_data.append(dataset.ExonDataset(data_dir, \n",
    "    #     split_label='test',\n",
    "    #   batch_size=params_train['batch_size'],\n",
    "    #   mode='eval',\n",
    "    #   splice_track=False\n",
    "    #                                      ))\n",
    "            \n",
    "        \n",
    "if seq_track == 0:\n",
    "    params_model['seq_depth'] -= 4\n",
    "# if splice_track == 0:"
   ]
  },
  {
   "cell_type": "code",
   "execution_count": null,
   "id": "5372ae47-fcec-4742-ab84-0c1781c34b33",
   "metadata": {},
   "outputs": [],
   "source": []
  },
  {
   "cell_type": "markdown",
   "id": "6ace3ddf-3d57-4831-a6f4-8d3b5e85cc03",
   "metadata": {},
   "source": [
    "## train model"
   ]
  },
  {
   "cell_type": "code",
   "execution_count": 301,
   "id": "6d32df99-d149-4ef1-90d0-63b548352015",
   "metadata": {},
   "outputs": [],
   "source": [
    "num_targets = model.output_shape[-1]\n",
    "\n",
    "model_metrics = [PearsonR(num_targets)\n",
    "                ]\n",
    "\n",
    "optimizer = tf.keras.optimizers.Adam(learning_rate=0.01,\n",
    "                                    beta_1=0.9, beta_2=0.999)"
   ]
  },
  {
   "cell_type": "code",
   "execution_count": 302,
   "id": "1ebf7447-1f6a-4ab9-8dc3-9e795389cb5f",
   "metadata": {},
   "outputs": [],
   "source": [
    "# define callbacks\n",
    "save_best=tf.keras.callbacks.ModelCheckpoint('%s/model_best.h5'%out_dir,\n",
    "                                            save_best_only=True, \n",
    "                                             monitor='val_pearsonr',\n",
    "                                             mode='max', \n",
    "                                             verbose=1)\n",
    "\n",
    "\n",
    "lradjust = tf.keras.callbacks.ReduceLROnPlateau(monitor='val_loss', factor=0.5, patience=12, cooldown=1)\n",
    "\n",
    "early_stop=tf.keras.callbacks.EarlyStopping(monitor='val_pearsonr', min_delta=1e-4, patience=15, mode='max',restore_best_weights=True, verbose=1\n",
    "                                             )"
   ]
  },
  {
   "cell_type": "code",
   "execution_count": 303,
   "id": "7ba4b921-2f3b-4c14-9608-8c46e65232cc",
   "metadata": {},
   "outputs": [],
   "source": [
    "model.compile(optimizer=optimizer, \n",
    "                  loss='mse',\n",
    "                  metrics=model_metrics\n",
    "                 )"
   ]
  },
  {
   "cell_type": "code",
   "execution_count": null,
   "id": "2b151250-fa00-4a55-be83-13e353ba5dbc",
   "metadata": {},
   "outputs": [],
   "source": []
  },
  {
   "cell_type": "code",
   "execution_count": 304,
   "id": "241c86c3-934f-4ac5-94ac-72984cf22e1c",
   "metadata": {
    "tags": []
   },
   "outputs": [
    {
     "name": "stdout",
     "output_type": "stream",
     "text": [
      "Epoch 1/1000\n",
      "23/23 [==============================] - 3s 36ms/step - loss: 0.0941 - pearsonr: 0.2572 - val_loss: 0.1095 - val_pearsonr: 0.3869 - lr: 0.0100\n",
      "Epoch 2/1000\n",
      "23/23 [==============================] - 0s 9ms/step - loss: 0.0897 - pearsonr: 0.3343 - val_loss: 0.0974 - val_pearsonr: 0.4024 - lr: 0.0100\n",
      "Epoch 3/1000\n",
      "23/23 [==============================] - 0s 10ms/step - loss: 0.0876 - pearsonr: 0.3839 - val_loss: 0.0992 - val_pearsonr: 0.4044 - lr: 0.0100\n",
      "Epoch 4/1000\n",
      "23/23 [==============================] - 0s 9ms/step - loss: 0.0870 - pearsonr: 0.3917 - val_loss: 0.0975 - val_pearsonr: 0.4072 - lr: 0.0100\n",
      "Epoch 5/1000\n",
      "23/23 [==============================] - 0s 9ms/step - loss: 0.0894 - pearsonr: 0.3331 - val_loss: 0.0989 - val_pearsonr: 0.3965 - lr: 0.0100\n",
      "Epoch 6/1000\n",
      "23/23 [==============================] - 0s 9ms/step - loss: 0.0889 - pearsonr: 0.3516 - val_loss: 0.0988 - val_pearsonr: 0.4041 - lr: 0.0100\n",
      "Epoch 7/1000\n",
      "23/23 [==============================] - 0s 9ms/step - loss: 0.0864 - pearsonr: 0.4135 - val_loss: 0.1006 - val_pearsonr: 0.4043 - lr: 0.0100\n",
      "Epoch 8/1000\n",
      "23/23 [==============================] - 0s 10ms/step - loss: 0.0873 - pearsonr: 0.3818 - val_loss: 0.1054 - val_pearsonr: 0.4077 - lr: 0.0100\n",
      "Epoch 9/1000\n",
      "23/23 [==============================] - 0s 9ms/step - loss: 0.0878 - pearsonr: 0.3690 - val_loss: 0.0991 - val_pearsonr: 0.3978 - lr: 0.0100\n",
      "Epoch 10/1000\n",
      "23/23 [==============================] - 0s 9ms/step - loss: 0.0865 - pearsonr: 0.3926 - val_loss: 0.0978 - val_pearsonr: 0.3975 - lr: 0.0100\n",
      "Epoch 11/1000\n",
      "23/23 [==============================] - 0s 9ms/step - loss: 0.0883 - pearsonr: 0.3577 - val_loss: 0.1001 - val_pearsonr: 0.3922 - lr: 0.0100\n",
      "Epoch 12/1000\n",
      "23/23 [==============================] - 0s 9ms/step - loss: 0.0872 - pearsonr: 0.3845 - val_loss: 0.1007 - val_pearsonr: 0.4028 - lr: 0.0100\n",
      "Epoch 13/1000\n",
      "23/23 [==============================] - 0s 9ms/step - loss: 0.0868 - pearsonr: 0.3874 - val_loss: 0.1075 - val_pearsonr: 0.3985 - lr: 0.0100\n",
      "Epoch 14/1000\n",
      "23/23 [==============================] - 0s 10ms/step - loss: 0.0884 - pearsonr: 0.3596 - val_loss: 0.0988 - val_pearsonr: 0.4109 - lr: 0.0100\n",
      "Epoch 15/1000\n",
      "23/23 [==============================] - 0s 9ms/step - loss: 0.0880 - pearsonr: 0.3570 - val_loss: 0.0996 - val_pearsonr: 0.4090 - lr: 0.0050\n",
      "Epoch 16/1000\n",
      "23/23 [==============================] - 0s 9ms/step - loss: 0.0864 - pearsonr: 0.4065 - val_loss: 0.0983 - val_pearsonr: 0.4095 - lr: 0.0050\n",
      "Epoch 17/1000\n",
      "23/23 [==============================] - 0s 9ms/step - loss: 0.0854 - pearsonr: 0.4185 - val_loss: 0.0982 - val_pearsonr: 0.4071 - lr: 0.0050\n",
      "Epoch 18/1000\n",
      "23/23 [==============================] - 0s 9ms/step - loss: 0.0859 - pearsonr: 0.4085 - val_loss: 0.0977 - val_pearsonr: 0.4070 - lr: 0.0050\n",
      "Epoch 19/1000\n",
      "23/23 [==============================] - 0s 9ms/step - loss: 0.0852 - pearsonr: 0.4360 - val_loss: 0.0974 - val_pearsonr: 0.4176 - lr: 0.0050\n",
      "Epoch 20/1000\n",
      "23/23 [==============================] - 0s 9ms/step - loss: 0.0858 - pearsonr: 0.4130 - val_loss: 0.0976 - val_pearsonr: 0.4058 - lr: 0.0050\n",
      "Epoch 21/1000\n",
      "23/23 [==============================] - 0s 9ms/step - loss: 0.0862 - pearsonr: 0.4102 - val_loss: 0.0991 - val_pearsonr: 0.4072 - lr: 0.0050\n",
      "Epoch 22/1000\n",
      "23/23 [==============================] - 0s 9ms/step - loss: 0.0858 - pearsonr: 0.4164 - val_loss: 0.0973 - val_pearsonr: 0.4108 - lr: 0.0050\n",
      "Epoch 23/1000\n",
      "23/23 [==============================] - 0s 9ms/step - loss: 0.0853 - pearsonr: 0.4145 - val_loss: 0.0972 - val_pearsonr: 0.4041 - lr: 0.0050\n",
      "Epoch 24/1000\n",
      "23/23 [==============================] - 0s 9ms/step - loss: 0.0862 - pearsonr: 0.3967 - val_loss: 0.0987 - val_pearsonr: 0.4072 - lr: 0.0050\n",
      "Epoch 25/1000\n",
      "23/23 [==============================] - 0s 9ms/step - loss: 0.0872 - pearsonr: 0.3756 - val_loss: 0.0975 - val_pearsonr: 0.4198 - lr: 0.0050\n",
      "Epoch 26/1000\n",
      "23/23 [==============================] - 0s 9ms/step - loss: 0.0871 - pearsonr: 0.3856 - val_loss: 0.0974 - val_pearsonr: 0.4064 - lr: 0.0050\n",
      "Epoch 27/1000\n",
      "23/23 [==============================] - 0s 9ms/step - loss: 0.0861 - pearsonr: 0.4095 - val_loss: 0.0970 - val_pearsonr: 0.4138 - lr: 0.0050\n",
      "Epoch 28/1000\n",
      "23/23 [==============================] - 0s 9ms/step - loss: 0.0862 - pearsonr: 0.4087 - val_loss: 0.0990 - val_pearsonr: 0.4019 - lr: 0.0050\n",
      "Epoch 29/1000\n",
      "23/23 [==============================] - 0s 9ms/step - loss: 0.0860 - pearsonr: 0.4128 - val_loss: 0.0984 - val_pearsonr: 0.4117 - lr: 0.0050\n",
      "Epoch 30/1000\n",
      "23/23 [==============================] - 0s 9ms/step - loss: 0.0859 - pearsonr: 0.4231 - val_loss: 0.0987 - val_pearsonr: 0.4106 - lr: 0.0050\n",
      "Epoch 31/1000\n",
      "23/23 [==============================] - 0s 9ms/step - loss: 0.0852 - pearsonr: 0.4210 - val_loss: 0.0979 - val_pearsonr: 0.4009 - lr: 0.0050\n",
      "Epoch 32/1000\n",
      "23/23 [==============================] - 0s 9ms/step - loss: 0.0866 - pearsonr: 0.3921 - val_loss: 0.0973 - val_pearsonr: 0.4170 - lr: 0.0050\n",
      "Epoch 33/1000\n",
      "23/23 [==============================] - 0s 9ms/step - loss: 0.0868 - pearsonr: 0.3872 - val_loss: 0.1003 - val_pearsonr: 0.4082 - lr: 0.0050\n",
      "Epoch 34/1000\n",
      "23/23 [==============================] - 0s 9ms/step - loss: 0.0855 - pearsonr: 0.4191 - val_loss: 0.0972 - val_pearsonr: 0.4141 - lr: 0.0050\n",
      "Epoch 35/1000\n",
      "23/23 [==============================] - 0s 9ms/step - loss: 0.0872 - pearsonr: 0.3814 - val_loss: 0.0987 - val_pearsonr: 0.4053 - lr: 0.0050\n",
      "Epoch 36/1000\n",
      "23/23 [==============================] - 0s 9ms/step - loss: 0.0846 - pearsonr: 0.4296 - val_loss: 0.0984 - val_pearsonr: 0.4209 - lr: 0.0050\n",
      "Epoch 37/1000\n",
      "23/23 [==============================] - 0s 9ms/step - loss: 0.0870 - pearsonr: 0.3865 - val_loss: 0.1001 - val_pearsonr: 0.4034 - lr: 0.0050\n",
      "Epoch 38/1000\n",
      "23/23 [==============================] - 0s 9ms/step - loss: 0.0852 - pearsonr: 0.4149 - val_loss: 0.0980 - val_pearsonr: 0.4105 - lr: 0.0050\n",
      "Epoch 39/1000\n",
      "23/23 [==============================] - 0s 9ms/step - loss: 0.0861 - pearsonr: 0.4031 - val_loss: 0.0974 - val_pearsonr: 0.4078 - lr: 0.0050\n",
      "Epoch 40/1000\n",
      "23/23 [==============================] - 0s 9ms/step - loss: 0.0850 - pearsonr: 0.4319 - val_loss: 0.0982 - val_pearsonr: 0.4070 - lr: 0.0025\n",
      "Epoch 41/1000\n",
      "23/23 [==============================] - 0s 9ms/step - loss: 0.0848 - pearsonr: 0.4394 - val_loss: 0.0973 - val_pearsonr: 0.4071 - lr: 0.0025\n",
      "Epoch 42/1000\n",
      "23/23 [==============================] - 0s 9ms/step - loss: 0.0848 - pearsonr: 0.4374 - val_loss: 0.0970 - val_pearsonr: 0.4110 - lr: 0.0025\n",
      "Epoch 43/1000\n",
      "23/23 [==============================] - 0s 9ms/step - loss: 0.0857 - pearsonr: 0.4270 - val_loss: 0.0978 - val_pearsonr: 0.4067 - lr: 0.0025\n",
      "Epoch 44/1000\n",
      "23/23 [==============================] - 0s 9ms/step - loss: 0.0848 - pearsonr: 0.4399 - val_loss: 0.0995 - val_pearsonr: 0.4075 - lr: 0.0025\n",
      "Epoch 45/1000\n",
      "23/23 [==============================] - 0s 9ms/step - loss: 0.0867 - pearsonr: 0.3890 - val_loss: 0.0993 - val_pearsonr: 0.4077 - lr: 0.0025\n",
      "Epoch 46/1000\n",
      "23/23 [==============================] - 0s 9ms/step - loss: 0.0861 - pearsonr: 0.3945 - val_loss: 0.0998 - val_pearsonr: 0.4100 - lr: 0.0025\n",
      "Epoch 47/1000\n",
      "23/23 [==============================] - 0s 9ms/step - loss: 0.0855 - pearsonr: 0.4124 - val_loss: 0.0980 - val_pearsonr: 0.4034 - lr: 0.0025\n",
      "Epoch 48/1000\n",
      "23/23 [==============================] - 0s 9ms/step - loss: 0.0850 - pearsonr: 0.4328 - val_loss: 0.0970 - val_pearsonr: 0.4117 - lr: 0.0025\n",
      "Epoch 49/1000\n",
      "23/23 [==============================] - 0s 9ms/step - loss: 0.0867 - pearsonr: 0.3836 - val_loss: 0.0972 - val_pearsonr: 0.4089 - lr: 0.0025\n",
      "Epoch 50/1000\n",
      "23/23 [==============================] - 0s 9ms/step - loss: 0.0854 - pearsonr: 0.4210 - val_loss: 0.0985 - val_pearsonr: 0.4064 - lr: 0.0025\n",
      "Epoch 51/1000\n",
      "19/23 [=======================>......] - ETA: 0s - loss: 0.0869 - pearsonr: 0.4131Restoring model weights from the end of the best epoch: 36.\n",
      "23/23 [==============================] - 0s 10ms/step - loss: 0.0861 - pearsonr: 0.4081 - val_loss: 0.0973 - val_pearsonr: 0.4070 - lr: 0.0025\n",
      "Epoch 51: early stopping\n",
      "CPU times: user 14.7 s, sys: 1.76 s, total: 16.4 s\n",
      "Wall time: 14 s\n"
     ]
    }
   ],
   "source": [
    "%%time\n",
    "\n",
    "history = model.fit(x=(train_data[0].numpy()[0][0][:,0,:,:],train_data[0].numpy()[0][1][:,0,:,:]),\n",
    "                    y=train_data[0].numpy()[1].squeeze(axis=1)[:,:],\n",
    "                      epochs=1000,\n",
    "                    validation_data=((eval_data[0].numpy()[0][0][:,0,:,:],eval_data[0].numpy()[0][1][:,0,:,:]),\n",
    "                            eval_data[0].numpy()[1].squeeze(axis=1)[:,:]),\n",
    "                        callbacks=[\n",
    "                         #  save_best, \n",
    "                           early_stop,\n",
    "                            lradjust, \n",
    "                                 ]\n",
    "             )\n",
    "\n",
    "\n",
    "\n",
    "\n",
    "# history = model.fit(x=train_data[0].numpy()[0][:,0,:,:],\n",
    "#                     y=train_data[0].numpy()[1].squeeze(axis=1),\n",
    "#                       epochs=1000,\n",
    "#                     validation_data=(eval_data[0].numpy()[0][:,0,:,:],\n",
    "#                             eval_data[0].numpy()[1].squeeze(axis=1)),\n",
    "#                         callbacks=[\n",
    "#                          #  save_best, \n",
    "#                            early_stop,\n",
    "#                             lradjust, \n",
    "#                                  ]\n",
    "#              )"
   ]
  },
  {
   "cell_type": "code",
   "execution_count": null,
   "id": "b5b5f766-5401-4043-a609-66f3811288d8",
   "metadata": {},
   "outputs": [],
   "source": []
  },
  {
   "cell_type": "code",
   "execution_count": null,
   "id": "2049f753-5811-418f-9916-737b894b21c9",
   "metadata": {},
   "outputs": [],
   "source": []
  },
  {
   "cell_type": "code",
   "execution_count": null,
   "id": "77215b33-de2f-4e01-b3cb-3ccc45b743ab",
   "metadata": {},
   "outputs": [],
   "source": []
  },
  {
   "cell_type": "markdown",
   "id": "b3578f23-3bd9-496c-88a4-d110d894b9a1",
   "metadata": {},
   "source": [
    "# GIA Possitional "
   ]
  },
  {
   "cell_type": "code",
   "execution_count": 305,
   "id": "f220c848-e7c2-44b7-bbb5-0f348a7909b5",
   "metadata": {},
   "outputs": [],
   "source": [
    "import json\n",
    "import shutil\n",
    "sys.path.append(\"/nowakowskilab/data1/derek/data_scSLR/prenatal_brain/deep_splicing/\")\n",
    "\n",
    "from basenji_.basenji import trainer\n",
    "from basenji_.basenji import dataset"
   ]
  },
  {
   "cell_type": "code",
   "execution_count": 306,
   "id": "235635b5-4e2e-4bbb-8bc1-f363edfb0e28",
   "metadata": {},
   "outputs": [],
   "source": [
    "def RNA_1hot(seq, seq_len=None, n_uniform=False, n_sample=False):\n",
    "    \"\"\" RNA_1hot\n",
    "\n",
    "    Args:\n",
    "      seq:       nucleotide sequence.\n",
    "      seq_len:   length to extend/trim sequences to.\n",
    "      n_uniform: represent N's as 0.25, forcing float16,\n",
    "      n_sample:  sample ACGT for N\n",
    "\n",
    "    Returns:\n",
    "      seq_code: length by nucleotides array representation.\n",
    "    \"\"\"\n",
    "    if seq_len is None:\n",
    "        seq_len = len(seq)\n",
    "        seq_start = 0\n",
    "    else:\n",
    "        if seq_len <= len(seq):\n",
    "            # trim the sequence\n",
    "            seq_trim = (len(seq) - seq_len) // 2\n",
    "            seq = seq[seq_trim:seq_trim + seq_len]\n",
    "            seq_start = 0\n",
    "        else:\n",
    "            seq_start = (seq_len - len(seq)) // 2\n",
    "\n",
    "    seq = seq.upper()\n",
    "\n",
    "    # map nt's to a matrix len(seq)x4 of 0's and 1's.\n",
    "    if n_uniform:\n",
    "        seq_code = np.zeros((seq_len, 4), dtype='float16')\n",
    "    else:\n",
    "        seq_code = np.zeros((seq_len, 4), dtype='bool')\n",
    "    \n",
    "    for i in range(seq_len):\n",
    "        if i >= seq_start and i - seq_start < len(seq):\n",
    "            nt = seq[i - seq_start]\n",
    "            if nt == 'A':\n",
    "                seq_code[i, 0] = 1\n",
    "            elif nt == 'C':\n",
    "                seq_code[i, 1] = 1\n",
    "            elif nt == 'G':\n",
    "                seq_code[i, 2] = 1\n",
    "            elif nt == 'U':\n",
    "                seq_code[i, 3] = 1\n",
    "            else:\n",
    "                if n_uniform: \n",
    "                    seq_code[i, :] = 0.25\n",
    "                elif n_sample:\n",
    "                    ni = random.randint(0,3)\n",
    "                    seq_code[i, ni] = 1\n",
    "                else:\n",
    "                    seq_code[i, :] = 0\n",
    "            \n",
    "\n",
    "    return seq_code"
   ]
  },
  {
   "cell_type": "code",
   "execution_count": null,
   "id": "fb4d77e9-3b5c-47bd-9a74-9410b875b10c",
   "metadata": {},
   "outputs": [],
   "source": []
  },
  {
   "cell_type": "code",
   "execution_count": 307,
   "id": "fc70adbd-02bf-446e-a85d-6e6c54842c48",
   "metadata": {},
   "outputs": [],
   "source": [
    "sys.path.append(\"/c4/home/derek/bin/residualbind/\")\n",
    "from residualbind import GlobalImportance"
   ]
  },
  {
   "cell_type": "code",
   "execution_count": 308,
   "id": "e2908d25-e742-4b14-b377-14eac04a29ab",
   "metadata": {},
   "outputs": [],
   "source": [
    "null_dirs = ['../transfer_learning/data_out/ALL_CASSETTE_PARCLIP_tfrecord/fold1/']  \n",
    "# null_dirs = ['../transfer_learning/data_out/NULL_tfrecord/fold1/']  \n",
    "params_file = null_dirs[0]+'params.json'\n",
    "\n",
    "with open(params_file) as params_open:\n",
    "          params = json.load(params_open)\n",
    "        \n",
    "params_model = params['model']\n",
    "params_null = params['train']"
   ]
  },
  {
   "cell_type": "code",
   "execution_count": null,
   "id": "2c37e521-002e-4461-aa51-b8dcd24abf45",
   "metadata": {},
   "outputs": [],
   "source": []
  },
  {
   "cell_type": "code",
   "execution_count": 309,
   "id": "3f4f58a1-a4b6-4411-9e83-ba6b14fa2037",
   "metadata": {},
   "outputs": [
    {
     "data": {
      "text/plain": [
       "600"
      ]
     },
     "execution_count": 309,
     "metadata": {},
     "output_type": "execute_result"
    }
   ],
   "source": [
    "params_model['seq_length']"
   ]
  },
  {
   "cell_type": "code",
   "execution_count": null,
   "id": "fd6faec8-4a0b-4c70-80f0-efff51a6e970",
   "metadata": {},
   "outputs": [],
   "source": []
  },
  {
   "cell_type": "code",
   "execution_count": 310,
   "id": "7ea5b402-977e-41d7-ab5b-a06c9ce792b2",
   "metadata": {},
   "outputs": [],
   "source": [
    "#read datasets\n",
    "null_data = []\n",
    "\n",
    "rbp_track = False\n",
    "splice_track = False\n",
    "seq_track=True\n",
    "\n",
    "for data_dir in null_dirs:\n",
    "    # load null data\n",
    "    null_data.append(dataset_.ExonDataset(data_dir,\n",
    "        split_label='train',\n",
    "        batch_size=params_null['batch_size'],\n",
    "        shuffle_buffer=params_null.get('shuffle_buffer', params_model['seq_length']),\n",
    "        mode='train',\n",
    "        splice_track=False,\n",
    "        annotation_tracks=True\n",
    "            ))"
   ]
  },
  {
   "cell_type": "code",
   "execution_count": null,
   "id": "26131bbe-1c6f-4636-a43e-0680adddb752",
   "metadata": {},
   "outputs": [],
   "source": []
  },
  {
   "cell_type": "code",
   "execution_count": null,
   "id": "0d11db86-6dd5-4d9c-b29a-ee41ffd3d3e6",
   "metadata": {},
   "outputs": [],
   "source": []
  },
  {
   "cell_type": "code",
   "execution_count": null,
   "id": "e5468110-cc1b-4b68-9871-6eaef04b8983",
   "metadata": {},
   "outputs": [],
   "source": []
  },
  {
   "cell_type": "code",
   "execution_count": null,
   "id": "6fa8cd29-5566-497f-b844-45ed27b7bc9f",
   "metadata": {},
   "outputs": [],
   "source": []
  },
  {
   "cell_type": "code",
   "execution_count": 311,
   "id": "31b8497a-b5bd-4f35-bfac-ff8342196871",
   "metadata": {},
   "outputs": [],
   "source": [
    "#rewrite embed_patterns function for GlobalImportance class to skip 0 padded sequence\n",
    "\n",
    "def embed_patterns_(self, patterns):\n",
    "    \"\"\"embed patterns in null sequences\"\"\"\n",
    "    if not isinstance(patterns, list):\n",
    "        patterns = [patterns]\n",
    "\n",
    "    x = np.copy(self.x_null)\n",
    "    x_orig = x.copy()\n",
    "    for pattern, position in patterns:\n",
    "\n",
    "        # embed pattern \n",
    "\n",
    "        for i, base in enumerate(x[:,position]):\n",
    "            if base.sum() == 0:\n",
    "                continue\n",
    "            else:\n",
    "                \n",
    "                x[:,position:position+len(pattern)][i] = RNA_1hot(pattern).astype('float32')\n",
    "                      \n",
    "    # # reapply mask\n",
    "    # for i in range(x_orig.shape[0]):\n",
    "    #     mask_index = [y for y in range(x_orig.shape[1]) if x_orig[:,y][i].sum() == 0]\n",
    "\n",
    "    #     if len(mask_index) > 0:\n",
    "    #         x[:,mask_index[0]:mask_index[-1]+1][i] = np.zeros(shape=(len(mask_index),4), dtype='float32')\n",
    "    #     else:\n",
    "    #         continue\n",
    "\n",
    "            \n",
    "    return x\n",
    "\n",
    "    \n",
    "\n",
    "GlobalImportance.embed_patterns = embed_patterns_"
   ]
  },
  {
   "cell_type": "code",
   "execution_count": 312,
   "id": "93ddccb7-de02-4cb0-9a2a-772349573d9b",
   "metadata": {},
   "outputs": [],
   "source": [
    "def predict_null_(self, class_index=0):\n",
    "    \"\"\"perform GIA on null sequences\"\"\"\n",
    "    self.null_scores = self.model.predict([self.x_null,self.x_region])[:, class_index]\n",
    "    self.mean_null_score = np.mean(self.null_scores)\n",
    "    \n",
    "GlobalImportance.predict_null = predict_null_\n",
    "\n",
    "def predict_effect_(self, one_hot, class_index=0):\n",
    "    \"\"\"Measure effect size of sequences versus null sequences\"\"\"\n",
    "    predictions = self.model.predict([one_hot,self.x_region])[:, class_index]\n",
    "    return predictions - self.null_scores\n",
    "\n",
    "GlobalImportance.predict_effect_ = predict_effect_\n",
    "\n",
    "def embed_predict_effect_(self, patterns, class_index=0):\n",
    "    \"\"\"embed pattern in null sequences and get their predictions\"\"\"\n",
    "    one_hot = self.embed_patterns(patterns)\n",
    "    return self.model.predict([one_hot,self.x_region])[:, class_index] - self.null_scores\n",
    "\n",
    "GlobalImportance.embed_predict_effect = embed_predict_effect_"
   ]
  },
  {
   "cell_type": "code",
   "execution_count": null,
   "id": "9de22695-d6b4-4a6c-bdc8-5a646d7b321c",
   "metadata": {},
   "outputs": [],
   "source": []
  },
  {
   "cell_type": "code",
   "execution_count": null,
   "id": "3efd6845-6e3d-43de-afde-33f8af403743",
   "metadata": {},
   "outputs": [],
   "source": []
  },
  {
   "cell_type": "code",
   "execution_count": null,
   "id": "0fd48be0-d08b-4847-a56d-c844d1fba99a",
   "metadata": {},
   "outputs": [],
   "source": []
  },
  {
   "cell_type": "markdown",
   "id": "9d4135ee-65fe-4c1d-8639-0f72de3d36a7",
   "metadata": {},
   "source": [
    "## Run GIA"
   ]
  },
  {
   "cell_type": "code",
   "execution_count": 313,
   "id": "7d711171-efb3-401f-adeb-82ad4fb02179",
   "metadata": {},
   "outputs": [
    {
     "data": {
      "text/plain": [
       "'/nowakowskilab/data1/derek/data_scSLR/prenatal_brain/deep_splicing/ExplaiNN'"
      ]
     },
     "execution_count": 313,
     "metadata": {},
     "output_type": "execute_result"
    }
   ],
   "source": [
    "pwd"
   ]
  },
  {
   "cell_type": "code",
   "execution_count": 314,
   "id": "29ad7c49-a7ee-4b5f-9fbd-f5d6fd54b339",
   "metadata": {},
   "outputs": [],
   "source": [
    "#QKI \"ACUAAY\"               'ACUAAY|CUAACK|CACUAAC'\n",
    "#RBFOX \"UGCAUG\"\n",
    "#SRRM4 'UGCUGC','CUGCUG','GCUGCC','GCUGCU'\n",
    "#CELF \"UG\n",
    "#PTBP1 'UCUUUC','CUUUCU','UCUCUC','CUCUCU'\n",
    "#MBNL1 \"YGCY\"\n",
    "#NOVA1 \"UCAU\"CAUUUCA\n",
    "#TDP43 \"UUGUU\"\n",
    "#polyG \"GGGGGG\"\n",
    "\n",
    "    # 'AAAUAAA'\n",
    "\n",
    "#SRSF9 \"CUGGA\" \n",
    "\n",
    "    # 'AGGUA'\n",
    "\n",
    "#CELF2 \"UCUGUC\" GUGCG"
   ]
  },
  {
   "cell_type": "code",
   "execution_count": null,
   "id": "407ee0be-d7da-421a-8ce8-02fa6dc9a726",
   "metadata": {},
   "outputs": [],
   "source": []
  },
  {
   "cell_type": "code",
   "execution_count": 353,
   "id": "f3d9faa3-81f1-4ee2-8e81-8ea0f56c8b29",
   "metadata": {},
   "outputs": [
    {
     "name": "stdout",
     "output_type": "stream",
     "text": [
      "79/79 [==============================] - 0s 5ms/step\n",
      "79/79 [==============================] - 0s 5ms/step\n",
      "79/79 [==============================] - 0s 5ms/step\n",
      "79/79 [==============================] - 0s 5ms/step\n",
      "79/79 [==============================] - 0s 5ms/step\n",
      "79/79 [==============================] - 0s 5ms/step\n",
      "79/79 [==============================] - 0s 5ms/step\n",
      "79/79 [==============================] - 0s 5ms/step\n",
      "79/79 [==============================] - 0s 5ms/step\n",
      "79/79 [==============================] - 0s 5ms/step\n",
      "79/79 [==============================] - 0s 5ms/step\n",
      "79/79 [==============================] - 0s 5ms/step\n",
      "79/79 [==============================] - 0s 5ms/step\n",
      "79/79 [==============================] - 0s 5ms/step\n",
      "79/79 [==============================] - 0s 5ms/step\n",
      "79/79 [==============================] - 0s 5ms/step\n",
      "79/79 [==============================] - 0s 5ms/step\n",
      "79/79 [==============================] - 0s 5ms/step\n",
      "79/79 [==============================] - 0s 5ms/step\n",
      "79/79 [==============================] - 0s 5ms/step\n",
      "79/79 [==============================] - 0s 5ms/step\n",
      "79/79 [==============================] - 0s 5ms/step\n",
      "79/79 [==============================] - 0s 5ms/step\n",
      "79/79 [==============================] - 0s 5ms/step\n",
      "79/79 [==============================] - 0s 5ms/step\n",
      "79/79 [==============================] - 0s 5ms/step\n",
      "79/79 [==============================] - 0s 5ms/step\n",
      "79/79 [==============================] - 0s 5ms/step\n",
      "79/79 [==============================] - 0s 5ms/step\n",
      "79/79 [==============================] - 0s 5ms/step\n",
      "79/79 [==============================] - 0s 5ms/step\n",
      "processing 0\n",
      "CPU times: user 19.4 s, sys: 2.12 s, total: 21.5 s\n",
      "Wall time: 16.6 s\n"
     ]
    }
   ],
   "source": [
    "%%time\n",
    "\n",
    "class_index = 0\n",
    "\n",
    "motifs = [\"UUCCUUCC\"]\n",
    "\n",
    "frame = pd.DataFrame()\n",
    "\n",
    "scores_dict = {}\n",
    "\n",
    "    \n",
    "for motif in motifs:\n",
    "\n",
    "    for i, model_ in enumerate([model]):\n",
    "         \n",
    "    \n",
    "        # instantiate global importance\n",
    "        gi = GlobalImportance(model_, alphabet='ACGU')\n",
    "\n",
    "        gi.x_null = null_data[0].numpy()[0][:,0,:,:] \n",
    "        \n",
    "        # gi.x_null = null_data[0].numpy()[0][0][:,0,:,:] \n",
    "        # gi.x_region = null_data[0].numpy()[0][1][:,0,:,:] \n",
    "    \n",
    "        gi.x_null_index = np.argmax(gi.x_null, axis=2)\n",
    "        gi.predict_null(class_index=class_index)\n",
    "        \n",
    "        scores_dict[i] = gi.positional_bias(motif=motif, \n",
    "                                positions = np.linspace(0,(seq_len - len(motif)), int(seq_len/20),dtype=int).tolist(),   \n",
    "                                class_index=class_index ##\n",
    "                               )\n",
    "        print(f'processing {i}')\n",
    "        \n",
    "        temp_frame = pd.DataFrame(scores_dict[i]).stack().reset_index().drop('level_1',axis=1)\n",
    "        \n",
    "        temp_frame.columns = ['level_0',f'model_{i}_{motif}']\n",
    "        \n",
    "        frame = pd.concat([frame, temp_frame.T],ignore_index=False)"
   ]
  },
  {
   "cell_type": "code",
   "execution_count": null,
   "id": "b5438396-bb8a-4ada-b435-9109d0177973",
   "metadata": {},
   "outputs": [],
   "source": []
  },
  {
   "cell_type": "code",
   "execution_count": 354,
   "id": "69a337cd-c152-4aa4-b62a-93f17720e421",
   "metadata": {},
   "outputs": [],
   "source": [
    "frame_ = frame.T.loc[:,~frame.T.columns.duplicated()].copy()\n",
    "\n",
    "frame_['mean'] = frame_.iloc[:,1:].median(axis=1)\n",
    "frame = frame_.copy()"
   ]
  },
  {
   "cell_type": "code",
   "execution_count": null,
   "id": "81e9c653-be4b-40a7-b005-949cc2c691da",
   "metadata": {},
   "outputs": [],
   "source": []
  },
  {
   "cell_type": "code",
   "execution_count": 355,
   "id": "cb222468-a375-49eb-9d18-f73e837b54a7",
   "metadata": {},
   "outputs": [
    {
     "name": "stderr",
     "output_type": "stream",
     "text": [
      "/scratch/derek/ipykernel_330376/2197661511.py:36: UserWarning: set_ticklabels() should only be used with a fixed number of ticks, i.e. after set_ticks() or using a FixedLocator.\n",
      "  ax.set(xticklabels=[0,'-200','+200'])\n"
     ]
    },
    {
     "data": {
      "text/plain": [
       "(None,)"
      ]
     },
     "execution_count": 355,
     "metadata": {},
     "output_type": "execute_result"
    },
    {
     "data": {
      "text/plain": [
       "<Figure size 640x480 with 0 Axes>"
      ]
     },
     "metadata": {},
     "output_type": "display_data"
    },
    {
     "data": {
      "image/png": "[encoded data removed]",
      "text/plain": [
       "<Figure size 400x200 with 1 Axes>"
      ]
     },
     "metadata": {},
     "output_type": "display_data"
    }
   ],
   "source": [
    "plt.subplots_adjust(left=0.1, right=0.9, top=0.9, bottom=0.1)\n",
    "fig, ax = plt.subplots(1,1, figsize = (4,2))\n",
    "\n",
    "\n",
    "sns.lineplot(gaussian_filter1d(frame_.groupby('level_0')['mean'].mean(), sigma=0.5), \n",
    "            # x='level_0',\n",
    "            # y='mean',\n",
    "             ax=ax,\n",
    "            linewidth=3,\n",
    "             \n",
    "            )\n",
    "\n",
    "# c1 = frame_['level_0'].quantile(q=0.25)\n",
    "# c2 = frame_['level_0'].quantile(q=0.5)\n",
    "# c3 = frame_['level_0'].quantile(q=0.75)\n",
    "\n",
    "# c1 = 10\n",
    "# c2 = 20\n",
    "# c3 = 30\n",
    "\n",
    "c1 = 7.5\n",
    "c2 = 15\n",
    "c3 = 22.5\n",
    "\n",
    "\n",
    "ax.axvline(x=c1, linewidth=2,\n",
    "           color='grey')\n",
    "ax.axvline(x=c3, linewidth=2, color='grey')\n",
    "\n",
    "ax.axvline(x=c2, linewidth=2, color='grey', ls=':')\n",
    "\n",
    "ax.set(xlabel='', ylabel='Importance')\n",
    "\n",
    "ax.xaxis.set_major_locator(plt.MaxNLocator(1))\n",
    "\n",
    "ax.set(xticklabels=[0,'-200','+200'])\n",
    "\n",
    "fig.tight_layout(),\n",
    "\n",
    "# fig.savefig('MBNL1_profile.pdf')"
   ]
  },
  {
   "cell_type": "code",
   "execution_count": 340,
   "id": "7f1d71b9-43cb-4c12-98e1-d451d92e8634",
   "metadata": {},
   "outputs": [
    {
     "ename": "SyntaxError",
     "evalue": "'break' outside loop (668683560.py, line 1)",
     "output_type": "error",
     "traceback": [
      "\u001b[0;36m  Cell \u001b[0;32mIn[340], line 1\u001b[0;36m\u001b[0m\n\u001b[0;31m    break\u001b[0m\n\u001b[0m    ^\u001b[0m\n\u001b[0;31mSyntaxError\u001b[0m\u001b[0;31m:\u001b[0m 'break' outside loop\n"
     ]
    }
   ],
   "source": [
    "break"
   ]
  },
  {
   "cell_type": "code",
   "execution_count": null,
   "id": "6dee9523-4a07-45a2-9cad-ea29186587b9",
   "metadata": {},
   "outputs": [],
   "source": []
  },
  {
   "cell_type": "code",
   "execution_count": null,
   "id": "4affb21e-7732-4c1d-86af-c5ea33348d98",
   "metadata": {},
   "outputs": [],
   "source": [
    "fig, (ax1, ax2) = plt.subplots(1,2, figsize = (3,2))\n",
    "\n",
    "\n",
    "frame_upstream = frame[frame['level_0'] > 0]\n",
    "frame_downstream = frame[frame['level_0'] > 0]\n",
    "\n",
    "frame_upstream = frame\n",
    "frame_downstream = frame\n",
    "\n",
    "\n",
    "sns.lineplot(gaussian_filter1d(frame_upstream.groupby('level_0')['mean'].mean(), sigma=1.01)[:20], \n",
    "            # x='level_0',\n",
    "            # y='mean',\n",
    "             ax=ax1,\n",
    "             linewidth=3\n",
    "            )\n",
    "\n",
    "sns.lineplot(gaussian_filter1d(frame_upstream.groupby('level_0')['mean'].mean(), sigma=1.01)[20:], \n",
    "            # x='level_0',\n",
    "            # y='mean',\n",
    "             ax=ax2, \n",
    "             linewidth=3\n",
    "            )\n",
    "\n",
    "# ymin = -0.05\n",
    "# ymax = 0.05\n",
    "\n",
    "\n",
    "# ax1.set_ylim([ymin,ymax])\n",
    "# ax2.set_ylim([ymin,ymax])\n",
    "\n",
    "ax2.get_yaxis().set_visible(False)\n",
    "\n",
    "ax1.get_xaxis().set_visible(False)\n",
    "ax2.get_xaxis().set_visible(False)\n",
    "\n",
    "\n",
    "ax1.spines['right'].set_visible(False)\n",
    "ax2.spines['left'].set_visible(False)\n",
    "\n",
    "\n",
    "\n",
    "fig.subplots_adjust(wspace=0, hspace=0)\n",
    "\n",
    "\n",
    "\n",
    "ax1.axvline(x=c1, linewidth=3, color='grey', ls=':')\n",
    "ax2.axvline(x=c1, linewidth=3, color='grey', ls=':')\n"
   ]
  },
  {
   "cell_type": "code",
   "execution_count": null,
   "id": "8fd13b98-e633-4039-b389-72d20540b700",
   "metadata": {},
   "outputs": [],
   "source": []
  },
  {
   "cell_type": "code",
   "execution_count": null,
   "id": "976a6b5b-a1b9-4bde-92e2-2400b48afcfe",
   "metadata": {},
   "outputs": [],
   "source": []
  },
  {
   "cell_type": "code",
   "execution_count": null,
   "id": "47a0783d-7679-4a98-b24e-b12ebc1f3c09",
   "metadata": {},
   "outputs": [],
   "source": []
  },
  {
   "cell_type": "code",
   "execution_count": null,
   "id": "e0df2323-cdc1-451b-ac9d-887088f1e0b5",
   "metadata": {},
   "outputs": [],
   "source": []
  },
  {
   "cell_type": "markdown",
   "id": "4a5339d6-fb10-4bf2-aed2-ab573c9fa43a",
   "metadata": {},
   "source": [
    "# Model Weight Plotting"
   ]
  },
  {
   "cell_type": "code",
   "execution_count": null,
   "id": "5548c88d-0783-4a9b-93e0-8af4b87b3a72",
   "metadata": {},
   "outputs": [],
   "source": [
    "# from ExplaiNN: For visualization, for each unit, we only included the products from correctly predicted sequences activating that unit’s filter by ≥ 50% of its maximum activation value. "
   ]
  },
  {
   "cell_type": "code",
   "execution_count": null,
   "id": "ac0a919b-41d4-490a-8fed-7947235205d8",
   "metadata": {},
   "outputs": [],
   "source": [
    "from scipy.interpolate import UnivariateSpline\n",
    "from scipy.cluster.hierarchy import linkage, leaves_list, dendrogram, set_link_color_palette\n",
    "\n",
    "import fastcluster\n",
    "import plotly.express as px"
   ]
  },
  {
   "cell_type": "code",
   "execution_count": null,
   "id": "6d333058-41f1-43e3-bfeb-b7c7d67059ac",
   "metadata": {},
   "outputs": [],
   "source": [
    "pwd"
   ]
  },
  {
   "cell_type": "code",
   "execution_count": null,
   "id": "d565cfa0-c3bc-4509-8716-2c8869f19ea4",
   "metadata": {},
   "outputs": [],
   "source": []
  },
  {
   "cell_type": "code",
   "execution_count": null,
   "id": "4330d974-ce93-4af6-b247-de8c5a53182a",
   "metadata": {},
   "outputs": [],
   "source": [
    "# RBP_dict = {}\n",
    "\n",
    "\n",
    "# # # model_hek293_list_names = model_RBPslow.h5, model_RBPsmed.h5, model_RBPshigh.h5\n",
    "# RBP_dict['hek293_low'] = np.array(['MBNL1', 'P53_NONO', 'PUM2', 'QKI', 'AGO3', 'FUS', 'TAF15', 'ZFP36', 'DICER1', 'EIF3A', 'EIF3D', 'EIF3G', 'SSB', 'PAPD5', 'CPSF4', 'CPSF3', 'RTCB', 'FXR1', 'NOP58', 'NOP56', 'FBL', 'LIN28A', 'LIN28B', 'UPF1', 'G35', 'G45', 'XPO5'])\n",
    "# RBP_dict['hek293_med'] = np.array(['TARDBP', 'ELAVL2', 'ELAVL3', 'ELAVL4', 'RBM20', 'IGF2BP1', 'IGF2BP2', 'IGF2BP3', 'EWSR1', 'HNRNPD', 'RBPMS', 'SRRM4', 'AGO2', 'NUDT21', 'FIP1L1', 'CAPRIN1', 'FMR1iso7', 'FXR2', 'AGO1', 'L1RE1', 'ORF1'])\n",
    "# RBP_dict['hek293_high'] = np.array(['DND1', 'CPSF7', 'CPSF6', 'CPSF1', 'CSTF2', 'CSTF2T', 'ZC3H7B', 'FMR1iso1', 'RBM10', 'MOV10', 'ELAVL1'])"
   ]
  },
  {
   "cell_type": "code",
   "execution_count": null,
   "id": "672517dd-ed59-484a-825d-0426895a6c54",
   "metadata": {},
   "outputs": [],
   "source": [
    "RBP_dict = {}\n",
    "\n",
    "RBP_dict['HepG2_low']= np.array(['RBM22', 'GRSF1', 'CDC40', 'NOLC1', 'FKBP4', 'DGCR8', 'ZC3H11A', 'XRN2', 'SLTM', 'DDX55', 'TIA1', 'SRSF1', 'U2AF1', 'RBM15'])\n",
    "RBP_dict['HepG2_mid1'] = np.array(['LSM11', 'NKRF', 'SUB1', 'NCBP2', 'UCHL5', 'LIN28B', 'IGF2BP3', 'SF3A3', 'AGGF1', 'DROSHA', 'DDX59', 'CSTF2', 'DKC1', 'EIF3H', 'FUBP3', 'SFPQ', 'HNRNPC', 'ILF3', 'TIAL1', 'HLTF', 'ZNF800', 'PABPN1', 'YBX3', 'FXR2'])\n",
    "RBP_dict['HepG2_mid2'] = np.array(['GTF2F1', 'IGF2BP1', 'HNRNPK', 'XPO5', 'RPS3', 'SF3B4', 'LARP4', 'BUD13', 'SND1', 'G3BP1', 'AKAP1', 'KHSRP'])\n",
    "RBP_dict['HepG2_high1'] = np.array(['DDX3X', 'PCBP2', 'FAM120A', 'HNRNPL', 'RBFOX2', 'PTBP1', 'MATR3', 'EFTUD2', 'PRPF4', 'UPF1'])\n",
    "RBP_dict['HepG2_high2'] = np.array(['GRWD1', 'PRPF8', 'PPIG', 'CSTF2T', 'QKI', 'U2AF2', 'SUGP2', 'HNRNPM', 'AQR', 'BCLAF1'])"
   ]
  },
  {
   "cell_type": "code",
   "execution_count": null,
   "id": "013eb699-1f31-4c27-b00b-66f16b19f74f",
   "metadata": {},
   "outputs": [],
   "source": [
    "# RBP_dict = {}\n",
    "\n",
    "RBP_dict['K562_low'] = np.array(['MTPAP', 'RBM22', 'DHX30', 'DDX6', 'DDX55', 'TRA2A', 'XRN2', 'U2AF1', 'LSM11', 'ZC3H11A', 'NOLC1', 'KHDRBS1', 'GPKOW', 'DGCR8', 'AKAP1', 'FXR1', 'DDX52', 'AATF'])\n",
    "RBP_dict['K562_mid1'] = np.array(['U2AF2', 'AKAP8L', 'METAP2', 'SMNDC1', 'GEMIN5', 'HNRNPK', 'SLTM', 'SRSF1', 'FMR1', 'SAFB2', 'DROSHA', 'RPS3', 'IGF2BP2', 'ILF3', 'RBFOX2', 'QKI', 'PCBP1', 'ZNF800', 'PUM1'])\n",
    "RBP_dict['K562_mid2'] = np.array(['EFTUD2', 'LIN28B', 'AGGF1', 'HNRNPL', 'SND1', 'GTF2F1', 'EIF4G2', 'TIA1', 'TARDBP', 'FXR2', 'HNRNPM', 'IGF2BP1', 'PUM2', 'FAM120A', 'DDX3X', 'MATR3', 'FUS', 'GRWD1', 'PABPC4'])\n",
    "RBP_dict['K562_high1'] = np.array(['BUD13', 'PTBP1', 'DDX24', 'EWSR1', 'RBM15'])\n",
    "RBP_dict['K562_high2'] = np.array(['SF3B4', 'YBX3', 'UCHL5', 'KHSRP', 'ZNF622', 'NONO', 'EXOSC5', 'PRPF8', 'CSTF2T', 'AQR', 'UPF1'])"
   ]
  },
  {
   "cell_type": "code",
   "execution_count": null,
   "id": "af565210-de21-4372-9b1b-f109f7d46ab8",
   "metadata": {},
   "outputs": [],
   "source": [
    "first_RBP_int = 0\n",
    "\n",
    "weight_dict = {}\n",
    "\n",
    "\n",
    "for i, input_ in enumerate(model.layers[-2].input): # for each sub model's outputs ..\n",
    "\n",
    "    \n",
    "    n_RBPs = int(str(input_).split(',')[1].lstrip()[:-1]) # get number of RBPs in each multitask\n",
    "\n",
    "    last_RBP_int = first_RBP_int + n_RBPs\n",
    "\n",
    "    sub_name = str(input_).split(',')[5].split(\"'\")[1]\n",
    "\n",
    "    spatial_int = int(sub_name[-1])\n",
    "    model_name = sub_name[:-2]\n",
    "\n",
    "    # for each model input, get the weights \n",
    "\n",
    "    model_weights = model.weights[-2][:,0][first_RBP_int:last_RBP_int].numpy()\n",
    "\n",
    "\n",
    "    # mutliply model weights by activation \n",
    "    # act = activations[first_RBP_int:last_RBP_int]\n",
    "\n",
    "    # model_weights = model_weights*act\n",
    "\n",
    "    first_RBP_int = last_RBP_int\n",
    "\n",
    "    weight_dict[(model_name, spatial_int)] = model_weights"
   ]
  },
  {
   "cell_type": "code",
   "execution_count": 42,
   "id": "ed389f4b-ece2-4449-82ab-0e451b61149c",
   "metadata": {},
   "outputs": [
    {
     "data": {
      "text/plain": [
       "<KerasTensor: shape=(None, 10) dtype=float32 (created by layer 'HepG2_high2_3')>"
      ]
     },
     "execution_count": 42,
     "metadata": {},
     "output_type": "execute_result"
    }
   ],
   "source": [
    "input_"
   ]
  },
  {
   "cell_type": "code",
   "execution_count": null,
   "id": "b8227b3d-a077-4758-8795-7b5c9ffc555e",
   "metadata": {},
   "outputs": [],
   "source": []
  },
  {
   "cell_type": "code",
   "execution_count": null,
   "id": "573c557a-9822-4d08-a796-15968adf9b35",
   "metadata": {},
   "outputs": [],
   "source": []
  },
  {
   "cell_type": "code",
   "execution_count": null,
   "id": "6c60f7b8-567f-46d0-9694-2e1f997f0f78",
   "metadata": {},
   "outputs": [],
   "source": []
  },
  {
   "cell_type": "code",
   "execution_count": 43,
   "id": "016c48d5-5451-493c-b0fc-6dbc73cc2d52",
   "metadata": {},
   "outputs": [],
   "source": [
    "first_RBP_int = 0\n",
    "\n",
    "weight_dict = {}\n",
    "\n",
    "\n",
    "for i, input_ in enumerate(model.layers[-2].input): # for each sub model's outputs ..\n",
    "    \n",
    "    n_RBPs = int(str(input_).split(',')[1].lstrip()[:-1]) # get number of RBPs in each multitask\n",
    "\n",
    "    last_RBP_int = first_RBP_int + n_RBPs\n",
    "\n",
    "    sub_name = str(input_).split(',')[5].split(\"'\")[1]\n",
    "\n",
    "    spatial_int = int(sub_name[-1])\n",
    "    model_name = sub_name[:-2]\n",
    "\n",
    "    # for each model input, get the weights \n",
    "\n",
    "    model_weights = model.weights[-2][:,0][first_RBP_int:last_RBP_int].numpy()\n",
    "\n",
    "\n",
    "    # mutliply model weights by activation \n",
    "    # act = activations[first_RBP_int:last_RBP_int]\n",
    "    # model_weights = model_weights*act\n",
    "\n",
    "    first_RBP_int = last_RBP_int\n",
    "\n",
    "    weight_dict[(model_name, spatial_int)] = model_weights"
   ]
  },
  {
   "cell_type": "code",
   "execution_count": 44,
   "id": "a8eded50-2ad8-4a23-b271-b0f0f2a28cc5",
   "metadata": {},
   "outputs": [
    {
     "data": {
      "text/plain": [
       "{'HepG2_low': array(['RBM22', 'GRSF1', 'CDC40', 'NOLC1', 'FKBP4', 'DGCR8', 'ZC3H11A',\n",
       "        'XRN2', 'SLTM', 'DDX55', 'TIA1', 'SRSF1', 'U2AF1', 'RBM15'],\n",
       "       dtype='<U7'),\n",
       " 'HepG2_mid1': array(['LSM11', 'NKRF', 'SUB1', 'NCBP2', 'UCHL5', 'LIN28B', 'IGF2BP3',\n",
       "        'SF3A3', 'AGGF1', 'DROSHA', 'DDX59', 'CSTF2', 'DKC1', 'EIF3H',\n",
       "        'FUBP3', 'SFPQ', 'HNRNPC', 'ILF3', 'TIAL1', 'HLTF', 'ZNF800',\n",
       "        'PABPN1', 'YBX3', 'FXR2'], dtype='<U7'),\n",
       " 'HepG2_mid2': array(['GTF2F1', 'IGF2BP1', 'HNRNPK', 'XPO5', 'RPS3', 'SF3B4', 'LARP4',\n",
       "        'BUD13', 'SND1', 'G3BP1', 'AKAP1', 'KHSRP'], dtype='<U7'),\n",
       " 'HepG2_high1': array(['DDX3X', 'PCBP2', 'FAM120A', 'HNRNPL', 'RBFOX2', 'PTBP1', 'MATR3',\n",
       "        'EFTUD2', 'PRPF4', 'UPF1'], dtype='<U7'),\n",
       " 'HepG2_high2': array(['GRWD1', 'PRPF8', 'PPIG', 'CSTF2T', 'QKI', 'U2AF2', 'SUGP2',\n",
       "        'HNRNPM', 'AQR', 'BCLAF1'], dtype='<U6'),\n",
       " 'K562_low': array(['MTPAP', 'RBM22', 'DHX30', 'DDX6', 'DDX55', 'TRA2A', 'XRN2',\n",
       "        'U2AF1', 'LSM11', 'ZC3H11A', 'NOLC1', 'KHDRBS1', 'GPKOW', 'DGCR8',\n",
       "        'AKAP1', 'FXR1', 'DDX52', 'AATF'], dtype='<U7'),\n",
       " 'K562_mid1': array(['U2AF2', 'AKAP8L', 'METAP2', 'SMNDC1', 'GEMIN5', 'HNRNPK', 'SLTM',\n",
       "        'SRSF1', 'FMR1', 'SAFB2', 'DROSHA', 'RPS3', 'IGF2BP2', 'ILF3',\n",
       "        'RBFOX2', 'QKI', 'PCBP1', 'ZNF800', 'PUM1'], dtype='<U7'),\n",
       " 'K562_mid2': array(['EFTUD2', 'LIN28B', 'AGGF1', 'HNRNPL', 'SND1', 'GTF2F1', 'EIF4G2',\n",
       "        'TIA1', 'TARDBP', 'FXR2', 'HNRNPM', 'IGF2BP1', 'PUM2', 'FAM120A',\n",
       "        'DDX3X', 'MATR3', 'FUS', 'GRWD1', 'PABPC4'], dtype='<U7'),\n",
       " 'K562_high1': array(['BUD13', 'PTBP1', 'DDX24', 'EWSR1', 'RBM15'], dtype='<U5'),\n",
       " 'K562_high2': array(['SF3B4', 'YBX3', 'UCHL5', 'KHSRP', 'ZNF622', 'NONO', 'EXOSC5',\n",
       "        'PRPF8', 'CSTF2T', 'AQR', 'UPF1'], dtype='<U6')}"
      ]
     },
     "execution_count": 44,
     "metadata": {},
     "output_type": "execute_result"
    }
   ],
   "source": [
    "RBP_dict"
   ]
  },
  {
   "cell_type": "code",
   "execution_count": 45,
   "id": "6081045f-7f07-4f09-a106-fee1ba45aea4",
   "metadata": {},
   "outputs": [],
   "source": [
    "df_dict = {}\n",
    "\n",
    "for i in range(4):\n",
    "    \n",
    "    df_dict[i] = pd.DataFrame()\n",
    "\n",
    "\n",
    "for key, value in weight_dict.items():\n",
    "    \n",
    "    spatial_id = key[1]\n",
    "\n",
    "    weight_df = pd.DataFrame(value)\n",
    "    weight_df.set_index(RBP_dict[key[0]], inplace = True)\n",
    "    \n",
    "    df_dict[spatial_id] = pd.concat([df_dict[spatial_id], weight_df])"
   ]
  },
  {
   "cell_type": "code",
   "execution_count": 46,
   "id": "47cac79c-e673-476f-a484-3e7f31b59677",
   "metadata": {},
   "outputs": [],
   "source": [
    "weights_reshaped = pd.concat([df_dict[0], df_dict[1], df_dict[2], df_dict[3]], axis=1)"
   ]
  },
  {
   "cell_type": "code",
   "execution_count": null,
   "id": "8065cd8c-1e73-4f37-a748-a69f6e160292",
   "metadata": {},
   "outputs": [],
   "source": []
  },
  {
   "cell_type": "code",
   "execution_count": 47,
   "id": "1d32f720-ee96-4e8d-bc8d-34d08238d564",
   "metadata": {},
   "outputs": [],
   "source": [
    "weights_reshaped_ = (weights_reshaped.reset_index()\n",
    "        .drop_duplicates(subset='index', keep='last')\n",
    "        .set_index('index').sort_index())"
   ]
  },
  {
   "cell_type": "code",
   "execution_count": 48,
   "id": "87b456cd-b11e-4785-b9ea-7e90bc987306",
   "metadata": {},
   "outputs": [
    {
     "data": {
      "text/html": [
       "<div>\n",
       "<style scoped>\n",
       "    .dataframe tbody tr th:only-of-type {\n",
       "        vertical-align: middle;\n",
       "    }\n",
       "\n",
       "    .dataframe tbody tr th {\n",
       "        vertical-align: top;\n",
       "    }\n",
       "\n",
       "    .dataframe thead th {\n",
       "        text-align: right;\n",
       "    }\n",
       "</style>\n",
       "<table border=\"1\" class=\"dataframe\">\n",
       "  <thead>\n",
       "    <tr style=\"text-align: right;\">\n",
       "      <th></th>\n",
       "      <th>0</th>\n",
       "      <th>0</th>\n",
       "      <th>0</th>\n",
       "      <th>0</th>\n",
       "    </tr>\n",
       "    <tr>\n",
       "      <th>index</th>\n",
       "      <th></th>\n",
       "      <th></th>\n",
       "      <th></th>\n",
       "      <th></th>\n",
       "    </tr>\n",
       "  </thead>\n",
       "  <tbody>\n",
       "    <tr>\n",
       "      <th>AATF</th>\n",
       "      <td>-0.007945</td>\n",
       "      <td>0.001410</td>\n",
       "      <td>0.007983</td>\n",
       "      <td>0.011587</td>\n",
       "    </tr>\n",
       "    <tr>\n",
       "      <th>AGGF1</th>\n",
       "      <td>-0.012182</td>\n",
       "      <td>0.003054</td>\n",
       "      <td>-0.000858</td>\n",
       "      <td>-0.011470</td>\n",
       "    </tr>\n",
       "    <tr>\n",
       "      <th>AKAP1</th>\n",
       "      <td>-0.009558</td>\n",
       "      <td>0.003620</td>\n",
       "      <td>0.002065</td>\n",
       "      <td>-0.005549</td>\n",
       "    </tr>\n",
       "    <tr>\n",
       "      <th>AKAP8L</th>\n",
       "      <td>-0.018162</td>\n",
       "      <td>0.010063</td>\n",
       "      <td>0.005974</td>\n",
       "      <td>0.002502</td>\n",
       "    </tr>\n",
       "    <tr>\n",
       "      <th>AQR</th>\n",
       "      <td>-0.020190</td>\n",
       "      <td>-0.005072</td>\n",
       "      <td>-0.020606</td>\n",
       "      <td>0.001432</td>\n",
       "    </tr>\n",
       "  </tbody>\n",
       "</table>\n",
       "</div>"
      ],
      "text/plain": [
       "               0         0         0         0\n",
       "index                                         \n",
       "AATF   -0.007945  0.001410  0.007983  0.011587\n",
       "AGGF1  -0.012182  0.003054 -0.000858 -0.011470\n",
       "AKAP1  -0.009558  0.003620  0.002065 -0.005549\n",
       "AKAP8L -0.018162  0.010063  0.005974  0.002502\n",
       "AQR    -0.020190 -0.005072 -0.020606  0.001432"
      ]
     },
     "execution_count": 48,
     "metadata": {},
     "output_type": "execute_result"
    }
   ],
   "source": [
    "weights_reshaped_.head()"
   ]
  },
  {
   "cell_type": "code",
   "execution_count": 49,
   "id": "82dc3409-9572-4daf-b3d8-3af41d25ba7e",
   "metadata": {},
   "outputs": [],
   "source": [
    "weights_reshaped_ = weights_reshaped_.drop('ZC3H11A')"
   ]
  },
  {
   "cell_type": "code",
   "execution_count": null,
   "id": "eab1fda3-e438-48a9-af7c-e91fac4ec702",
   "metadata": {},
   "outputs": [],
   "source": []
  },
  {
   "cell_type": "code",
   "execution_count": 50,
   "id": "b7f37de6-0201-457c-be60-81f072d3fff2",
   "metadata": {},
   "outputs": [],
   "source": [
    "clustering_linkage = fastcluster.linkage(weights_reshaped_,\n",
    "                    metric='euclidean',\n",
    "                    method='ward',\n",
    "                    preserve_input=True\n",
    "                   )\n",
    "\n",
    "new_row_idx = leaves_list(clustering_linkage)"
   ]
  },
  {
   "cell_type": "code",
   "execution_count": null,
   "id": "75ab373f-eb80-427b-bf29-2ba98192d81f",
   "metadata": {},
   "outputs": [],
   "source": []
  },
  {
   "cell_type": "code",
   "execution_count": null,
   "id": "7a647a3a-8ed8-4db7-8ceb-3394efce1b23",
   "metadata": {},
   "outputs": [],
   "source": []
  },
  {
   "cell_type": "code",
   "execution_count": null,
   "id": "abffcc5f-d265-4691-9bee-94a69867df14",
   "metadata": {},
   "outputs": [],
   "source": []
  },
  {
   "cell_type": "code",
   "execution_count": 51,
   "id": "89caf325-9fda-4b1a-a918-7287f117c18c",
   "metadata": {},
   "outputs": [
    {
     "data": {
      "text/plain": [
       "<Axes: ylabel='index'>"
      ]
     },
     "execution_count": 51,
     "metadata": {},
     "output_type": "execute_result"
    },
    {
     "data": {
      "image/png": "[encoded data removed]",
      "text/plain": [
       "<Figure size 200x2000 with 2 Axes>"
      ]
     },
     "metadata": {},
     "output_type": "display_data"
    }
   ],
   "source": [
    "fig, ax1 = plt.subplots(1,1, figsize=(2,20))\n",
    "\n",
    "\n",
    "sns.heatmap(weights_reshaped_.iloc[new_row_idx],\n",
    "               #    standard_scale='rows',\n",
    "               #    figsize=(3,6),\n",
    "                cmap=\"RdBu_r\",\n",
    "                vmax=0.05,\n",
    "                vmin=-0.05, \n",
    "                xticklabels=False,\n",
    "                # yticklabels=RBP_names_array[new_row_idx],\n",
    "                cbar=True,\n",
    "                ax=ax1,\n",
    "                linewidths=0.8, linecolor='white',\n",
    "                cbar_kws={'shrink': 0.20, 'aspect':4, 'label':'Weight'}\n",
    "           )"
   ]
  },
  {
   "cell_type": "code",
   "execution_count": 52,
   "id": "4c790c18-33a3-45b5-acbc-9e414abb5500",
   "metadata": {},
   "outputs": [],
   "source": [
    "par_weights = pd.read_csv('./PARCLIP_weights.csv', index_col=0) \n",
    "par_weights.columns = [0,0,0,0]"
   ]
  },
  {
   "cell_type": "code",
   "execution_count": null,
   "id": "61d7984f-0d97-44f8-97f0-25722b1c5f73",
   "metadata": {},
   "outputs": [],
   "source": []
  },
  {
   "cell_type": "code",
   "execution_count": 53,
   "id": "e36d83fa-25f1-4820-929e-4d46db893473",
   "metadata": {},
   "outputs": [],
   "source": [
    "weights_ = pd.concat([weights_reshaped_, par_weights],axis=0)"
   ]
  },
  {
   "cell_type": "code",
   "execution_count": 54,
   "id": "79ceb0bc-b8fa-463f-aeed-0902e97c9db7",
   "metadata": {},
   "outputs": [],
   "source": [
    "weights_ = weights_.reset_index().drop_duplicates(subset='index', keep='first').set_index('index')"
   ]
  },
  {
   "cell_type": "code",
   "execution_count": 55,
   "id": "6c4197dd-eb98-449d-948d-96d86c1d621e",
   "metadata": {},
   "outputs": [
    {
     "ename": "SyntaxError",
     "evalue": "'break' outside loop (668683560.py, line 1)",
     "output_type": "error",
     "traceback": [
      "\u001b[0;36m  Cell \u001b[0;32mIn[55], line 1\u001b[0;36m\u001b[0m\n\u001b[0;31m    break\u001b[0m\n\u001b[0m    ^\u001b[0m\n\u001b[0;31mSyntaxError\u001b[0m\u001b[0;31m:\u001b[0m 'break' outside loop\n"
     ]
    }
   ],
   "source": [
    "break"
   ]
  },
  {
   "cell_type": "code",
   "execution_count": null,
   "id": "7fba8ff6-b608-4c2d-8658-c71a66de453d",
   "metadata": {},
   "outputs": [],
   "source": []
  },
  {
   "cell_type": "code",
   "execution_count": null,
   "id": "129f8d81-5de9-4fd5-8133-7ec9575edbb0",
   "metadata": {},
   "outputs": [],
   "source": [
    "de = pd.read_csv('/c4/home/derek/data1/derek/data_scSLR/prenatal_brain/SCVI_differnetial_expression.csv', index_col=0)"
   ]
  },
  {
   "cell_type": "code",
   "execution_count": null,
   "id": "581fa1f6-5862-4c6f-9457-5621844c3635",
   "metadata": {},
   "outputs": [],
   "source": [
    "de = de[de.index.isin(weights_.index)]"
   ]
  },
  {
   "cell_type": "code",
   "execution_count": null,
   "id": "bcbbdd0e-34c0-4fd0-bf9c-60b390999d26",
   "metadata": {},
   "outputs": [],
   "source": [
    "weights_ = weights_[weights_.index.isin(de.index)]"
   ]
  },
  {
   "cell_type": "code",
   "execution_count": null,
   "id": "5be102f1-5f6a-459b-8522-5a5076bfdc00",
   "metadata": {},
   "outputs": [],
   "source": [
    "de__=de[np.abs(de['lfc_mean']) > 0.25]"
   ]
  },
  {
   "cell_type": "code",
   "execution_count": null,
   "id": "82879a70-a1ec-4267-a990-cd82b969bafe",
   "metadata": {},
   "outputs": [],
   "source": [
    "weights__ = weights_.loc[de[np.abs(de['lfc_mean']) > 0.25].index]"
   ]
  },
  {
   "cell_type": "code",
   "execution_count": null,
   "id": "d5bb391f-7080-4001-9f1e-85f228b88849",
   "metadata": {},
   "outputs": [],
   "source": []
  },
  {
   "cell_type": "code",
   "execution_count": null,
   "id": "b05699eb-4fcb-460e-b8e8-5ba7780c6f96",
   "metadata": {},
   "outputs": [],
   "source": []
  },
  {
   "cell_type": "code",
   "execution_count": null,
   "id": "38987812-985d-42a4-ab43-d01868a49050",
   "metadata": {},
   "outputs": [],
   "source": [
    "clustering_linkage = fastcluster.linkage(weights__,\n",
    "                    metric='euclidean',\n",
    "                    method='ward',\n",
    "                    preserve_input=True\n",
    "                   )\n",
    "\n",
    "new_row_idx = leaves_list(clustering_linkage)"
   ]
  },
  {
   "cell_type": "code",
   "execution_count": null,
   "id": "41071fb4-e401-4e1e-b671-114a64a0f4b7",
   "metadata": {},
   "outputs": [],
   "source": [
    "from matplotlib import gridspec \n",
    "import matplotlib.colors as mcolors"
   ]
  },
  {
   "cell_type": "code",
   "execution_count": null,
   "id": "8a3ec117-f2f5-4207-bf7c-f8ccae73ed7d",
   "metadata": {},
   "outputs": [],
   "source": []
  },
  {
   "cell_type": "code",
   "execution_count": null,
   "id": "c9389966-bf9d-489e-ab7f-851f4a318373",
   "metadata": {},
   "outputs": [],
   "source": []
  },
  {
   "cell_type": "code",
   "execution_count": null,
   "id": "b8afa20d-556a-4941-8c74-f51c73c616e9",
   "metadata": {},
   "outputs": [],
   "source": [
    "# # sample the colormaps that you want to use. Use 128 from each so we get 256\n",
    "# # colors in total\n",
    "# colors1 = plt.cm.viridis_r(np.linspace(0., 1, 128))\n",
    "# colors2 = plt.cm.magma(np.linspace(0, 1, 128))\n",
    "\n",
    "# # combine them and build a new colormap\n",
    "# colors = np.vstack((colors1, colors2))\n",
    "# mymap = mcolors.LinearSegmentedColormap.from_list('my_colormap', colors)"
   ]
  },
  {
   "cell_type": "code",
   "execution_count": null,
   "id": "16b1fdcc-1667-4579-a1ab-c13a7234988d",
   "metadata": {},
   "outputs": [],
   "source": []
  },
  {
   "cell_type": "code",
   "execution_count": null,
   "id": "ee48ed12-f5ff-4dce-8a79-46992a560767",
   "metadata": {},
   "outputs": [],
   "source": [
    "def _plot():\n",
    "\n",
    "    fig = plt.figure(figsize=(3,15))\n",
    "\n",
    "    # Setup axes\n",
    "    gs = gridspec.GridSpec(3,3,width_ratios=[1,0.15,0.1],wspace=0.2)\n",
    "    axs = {}\n",
    "    axs['1'] = fig.add_subplot(gs[:,0])\n",
    "    axs['2'] = fig.add_subplot(gs[:,1])\n",
    "        \n",
    "    # Annual value\n",
    "    plots = {}\n",
    "    plots['heatmap_weights'] = sns.heatmap(weights__.iloc[new_row_idx],\n",
    "               #    standard_scale='rows',\n",
    "               #    figsize=(3,6),\n",
    "                cmap=\"RdBu_r\",\n",
    "                vmax=0.05,\n",
    "                vmin=-0.05, \n",
    "                xticklabels=False,\n",
    "                cbar=False,\n",
    "                ax=axs['1'],\n",
    "                linewidths=0.8, linecolor='white',\n",
    "           )\n",
    "\n",
    "    axs['1'].tick_params(bottom=False, labelbottom=False, left=True, labelleft=True)\n",
    "    axs['1'].set_ylabel('')\n",
    "\n",
    "\n",
    "    plots['heatmap_exp'] = sns.heatmap(de__[['lfc_mean']].loc[weights__.iloc[new_row_idx].index],\n",
    "               #    standard_scale='rows',\n",
    "               #    figsize=(3,6),\n",
    "                cmap='viridis',\n",
    "                vmax=0.5,\n",
    "                vmin=-0.5, \n",
    "                xticklabels=True,\n",
    "                yticklabels=False,\n",
    "                cbar=False,\n",
    "                ax=axs['2'],\n",
    "                linewidths=0.8, linecolor='white',\n",
    "           )\n",
    "    \n",
    "    axs['2'].tick_params(bottom=False, labelbottom=True, left=False, labelleft=False)\n",
    "    axs['2'].set_ylabel('')\n",
    "\n",
    "    \n",
    "    \n",
    "\n",
    "    # Colour bars\n",
    "    cbar_gs = gridspec.GridSpecFromSubplotSpec(10,1, subplot_spec=gs[:,2])\n",
    "    cax_1 = fig.add_subplot(cbar_gs[4,0])\n",
    "    cax_2 = fig.add_subplot(cbar_gs[6,0])\n",
    "    plt.colorbar(plots['heatmap_weights'].collections[0], cax_1, label= 'Weight')\n",
    "    plt.colorbar(plots['heatmap_exp'].collections[0], cax_2, label= 'Δ Expression')\n",
    "\n",
    "\n",
    "    fig.savefig('./heatmap_RBP.pdf')\n",
    "_plot()\n",
    "\n"
   ]
  },
  {
   "cell_type": "code",
   "execution_count": null,
   "id": "61ca75e7-cd25-4b27-8599-d93680a4f019",
   "metadata": {},
   "outputs": [],
   "source": [
    "# fig, (ax1, ax2) = plt.subplots(1,2, figsize=(2,30), gridspec_kw={'width_ratios': (5,1)})\n",
    "\n",
    "# fig.subplots_adjust(wspace=0, hspace=0)\n",
    "\n",
    "# w = sns.heatmap(weights_.iloc[new_row_idx],\n",
    "#                #    standard_scale='rows',\n",
    "#                #    figsize=(3,6),\n",
    "#                 cmap=\"RdBu_r\",\n",
    "#                 vmax=0.05,\n",
    "#                 vmin=-0.05, \n",
    "#                 xticklabels=False,\n",
    "#                 # yticklabels=RBP_names_array[new_row_idx],\n",
    "#                 cbar=False,\n",
    "#                 ax=ax1,\n",
    "#                 linewidths=0.8, linecolor='white',\n",
    "#                 cbar_kws={'shrink': 0.20, 'aspect':4, 'label':'Weight', 'anchor': (0.0, 0.5)}\n",
    "#            )\n",
    "\n",
    "\n",
    "\n",
    "# e = sns.heatmap(de[['lfc_mean']].loc[weights_.iloc[new_row_idx].index],\n",
    "#                #    standard_scale='rows',\n",
    "#                #    figsize=(3,6),\n",
    "#                 cmap=\"viridis\",\n",
    "#                 vmax=1,\n",
    "#                 vmin=-1, \n",
    "#                 xticklabels=True,\n",
    "#                 yticklabels=False,\n",
    "#                 cbar=False,\n",
    "#                 ax=ax2,\n",
    "#                 linewidths=0.8, linecolor='white',\n",
    "#                 cbar_kws={'shrink': 0.20, 'aspect':4, 'label':'Weight', 'anchor': (0.5, 0.5)}\n",
    "#            )\n",
    "\n",
    "# ax1.set_ylabel('')\n",
    "# ax2.set_ylabel('')\n",
    "\n",
    "\n",
    "# cax1 = fig.add_subplot()\n",
    "# fig.colorbar(w, cax=cax1, orientation='horizontal')\n",
    "\n",
    "# cax2 = fig.add_subplot()\n",
    "# fig.colorbar(e, cax=cax2, orientation='horizontal', extend='max')\n",
    "\n",
    "\n"
   ]
  },
  {
   "cell_type": "code",
   "execution_count": null,
   "id": "ab132694-3c67-4cc5-8f8f-cc2201913a18",
   "metadata": {},
   "outputs": [],
   "source": []
  },
  {
   "cell_type": "code",
   "execution_count": null,
   "id": "c0438915-1aa3-42ac-9d9e-1e70ba26a0c8",
   "metadata": {},
   "outputs": [],
   "source": []
  },
  {
   "cell_type": "code",
   "execution_count": null,
   "id": "797a3854-2d22-4b21-b5b2-d420e9acdc6a",
   "metadata": {},
   "outputs": [],
   "source": []
  },
  {
   "cell_type": "code",
   "execution_count": null,
   "id": "da7bc958-57dd-4074-8cf0-b82fe00c97cd",
   "metadata": {},
   "outputs": [],
   "source": []
  },
  {
   "cell_type": "code",
   "execution_count": null,
   "id": "77b584ab-1b78-4b73-a24a-7a065ee6e971",
   "metadata": {},
   "outputs": [],
   "source": []
  },
  {
   "cell_type": "code",
   "execution_count": null,
   "id": "cd160b1b-a2a0-47ca-b6de-da737b23ec29",
   "metadata": {},
   "outputs": [],
   "source": []
  },
  {
   "cell_type": "code",
   "execution_count": null,
   "id": "abb7e173-5b8b-42c6-95b8-ee4f4e347665",
   "metadata": {},
   "outputs": [],
   "source": [
    "# getting activations for individual units. - create new truncated model,\n",
    "# ending with lyer at which the sub-models are combined - \n",
    "# get outputs multiplied by weights..."
   ]
  },
  {
   "cell_type": "code",
   "execution_count": null,
   "id": "1f449a52-729b-42e5-b162-8e64c95f6e80",
   "metadata": {},
   "outputs": [],
   "source": [
    "# for each layer in currents, generate a model and get outputs "
   ]
  },
  {
   "cell_type": "code",
   "execution_count": null,
   "id": "88fc19d2-8300-4306-865c-1fe4dd5f4547",
   "metadata": {},
   "outputs": [],
   "source": [
    "value[-1]"
   ]
  },
  {
   "cell_type": "code",
   "execution_count": null,
   "id": "c1006624-87ba-44c1-b8d9-b7d499eda2c6",
   "metadata": {},
   "outputs": [],
   "source": [
    "for key, value in currents.items():\n",
    "    pass\n",
    "    "
   ]
  },
  {
   "cell_type": "code",
   "execution_count": null,
   "id": "51e2eef5-0c8d-46c9-87ec-f10b9a5cf4e8",
   "metadata": {},
   "outputs": [],
   "source": []
  },
  {
   "cell_type": "code",
   "execution_count": null,
   "id": "fa51ce69-4c08-4642-8915-09bb7d62c4cf",
   "metadata": {},
   "outputs": [],
   "source": [
    "model = tf.keras.Model(input_seq, output, name='deepripe_explainn')"
   ]
  },
  {
   "cell_type": "code",
   "execution_count": null,
   "id": "80c36cff-a261-4228-9743-26f8942ce98f",
   "metadata": {},
   "outputs": [],
   "source": [
    "base_models.items()"
   ]
  },
  {
   "cell_type": "code",
   "execution_count": null,
   "id": "e0beb71c-fc75-478b-ac75-a107cc5ba281",
   "metadata": {},
   "outputs": [],
   "source": []
  },
  {
   "cell_type": "code",
   "execution_count": null,
   "id": "61c13c8b-a5e6-4099-a878-2a57a809aa39",
   "metadata": {},
   "outputs": [],
   "source": []
  },
  {
   "cell_type": "code",
   "execution_count": null,
   "id": "ccaaac2a-17a4-4ec6-8a8f-8391e8b744b0",
   "metadata": {},
   "outputs": [],
   "source": [
    "input_dict = dict(zip(range(4),\n",
    "         np.array_split(train_data[0].numpy()[0][:,0,:,:], input_sequence_split, axis=1)\n",
    "        )\n",
    "        )"
   ]
  },
  {
   "cell_type": "code",
   "execution_count": null,
   "id": "1c622f07-1e4d-4462-b9da-38b43b0f5150",
   "metadata": {},
   "outputs": [],
   "source": [
    "train_data[0]."
   ]
  },
  {
   "cell_type": "code",
   "execution_count": null,
   "id": "8dc76ece-3951-4c83-b955-bb75f806a9de",
   "metadata": {},
   "outputs": [],
   "source": [
    "base_models.items()"
   ]
  },
  {
   "cell_type": "code",
   "execution_count": null,
   "id": "8130120f-2c22-4af0-8f4b-09ee73d11bad",
   "metadata": {},
   "outputs": [],
   "source": []
  },
  {
   "cell_type": "code",
   "execution_count": null,
   "id": "1145c227-e72f-4210-8297-598a6f85a069",
   "metadata": {},
   "outputs": [],
   "source": [
    "model__.name"
   ]
  },
  {
   "cell_type": "code",
   "execution_count": null,
   "id": "03e15f66-2d46-410a-b31c-fd06aaeb05e5",
   "metadata": {},
   "outputs": [],
   "source": [
    "np.nanmedian"
   ]
  },
  {
   "cell_type": "code",
   "execution_count": null,
   "id": "0fe46192-de6b-4e45-87a2-29a1897e52c0",
   "metadata": {},
   "outputs": [],
   "source": [
    "arr_list = []\n",
    "\n",
    "for i, model__ in  base_models.items():\n",
    "\n",
    "\n",
    "    print(i)\n",
    "    input_data = input_dict[i[1]]\n",
    "\n",
    "    #get acitivies for all input sequences for sub model\n",
    "    activities = model__.predict(input_data)\n",
    "\n",
    "\n",
    "    max_per_RBP = activities.max(axis=0)\n",
    "\n",
    "    mask = (activities >= (max_per_RBP*0.5))\n",
    "    \n",
    "    arr_list.append(np.nanmedian(np.where(mask, activities, np.nan), axis=0))\n"
   ]
  },
  {
   "cell_type": "code",
   "execution_count": null,
   "id": "95a050fa-2db0-4102-a734-11828890da1e",
   "metadata": {},
   "outputs": [],
   "source": [
    "activations = np.concatenate(arr_list)"
   ]
  },
  {
   "cell_type": "code",
   "execution_count": null,
   "id": "b4b16707-6a17-4c4f-bbba-c4cbd4fa773f",
   "metadata": {},
   "outputs": [],
   "source": [
    "activations.shape"
   ]
  },
  {
   "cell_type": "code",
   "execution_count": null,
   "id": "bfe4a49f-0f6a-4686-ad26-39bbaedd73df",
   "metadata": {},
   "outputs": [],
   "source": [
    "\n",
    "\n",
    "max_per_RBP = activities.max(axis=0)\n",
    "\n",
    "mask = (activities >= (max_per_RBP*0.5))\n",
    "\n",
    "np.nanmean(np.where(mask, activities, np.nan), axis=0)"
   ]
  },
  {
   "cell_type": "code",
   "execution_count": null,
   "id": "f79496f9-b5db-4848-811e-3d57d58de2e3",
   "metadata": {},
   "outputs": [],
   "source": []
  },
  {
   "cell_type": "code",
   "execution_count": null,
   "id": "3444d6d5-b295-43cd-a35b-275eec732664",
   "metadata": {},
   "outputs": [],
   "source": [
    "np.nanmean(np.where(mask, activities, np.nan), axis=0).shape"
   ]
  },
  {
   "cell_type": "code",
   "execution_count": null,
   "id": "60936929-4e25-4ee4-85c5-e1b35ce385aa",
   "metadata": {},
   "outputs": [],
   "source": [
    "arr = np.empty()"
   ]
  },
  {
   "cell_type": "code",
   "execution_count": null,
   "id": "8ea49619-046b-45b6-b567-ed2b7c5a927b",
   "metadata": {},
   "outputs": [],
   "source": []
  },
  {
   "cell_type": "code",
   "execution_count": null,
   "id": "a9429132-50b8-439b-a78f-82f12aa76470",
   "metadata": {},
   "outputs": [],
   "source": []
  },
  {
   "cell_type": "code",
   "execution_count": null,
   "id": "418b82d7-88f1-4d0f-9d0e-182e2f177c6c",
   "metadata": {},
   "outputs": [],
   "source": []
  },
  {
   "cell_type": "code",
   "execution_count": null,
   "id": "098cc846-4899-4465-89e4-19f399ad77b6",
   "metadata": {},
   "outputs": [],
   "source": []
  },
  {
   "cell_type": "code",
   "execution_count": null,
   "id": "dfc150a2-eed5-4058-ac6e-96df5786a00a",
   "metadata": {},
   "outputs": [],
   "source": []
  },
  {
   "cell_type": "code",
   "execution_count": null,
   "id": "4c0a1f3e-6c07-4203-ab21-30aba834f341",
   "metadata": {},
   "outputs": [],
   "source": []
  }
 ],
 "metadata": {
  "kernelspec": {
   "display_name": "Python 3 (ipykernel)",
   "language": "python",
   "name": "python3"
  },
  "language_info": {
   "codemirror_mode": {
    "name": "ipython",
    "version": 3
   },
   "file_extension": ".py",
   "mimetype": "text/x-python",
   "name": "python",
   "nbconvert_exporter": "python",
   "pygments_lexer": "ipython3",
   "version": "3.9.15"
  }
 },
 "nbformat": 4,
 "nbformat_minor": 5
}
