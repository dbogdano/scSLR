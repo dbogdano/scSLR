{
 "cells": [
  {
   "cell_type": "markdown",
   "id": "567515cf-ccd4-4734-b322-67e43e56ccec",
   "metadata": {
    "tags": []
   },
   "source": [
    "# MAJIQ to PSI_pred input - Cassette Exons"
   ]
  },
  {
   "cell_type": "code",
   "execution_count": 1,
   "id": "889ee119-3a3f-499f-8135-1c4f01044bf6",
   "metadata": {},
   "outputs": [
    {
     "name": "stdout",
     "output_type": "stream",
     "text": [
      "Sat Oct 26 22:04:19 PDT 2024\n",
      "c4-dev3\n"
     ]
    }
   ],
   "source": [
    "!date\n",
    "!hostname"
   ]
  },
  {
   "cell_type": "code",
   "execution_count": 2,
   "id": "df399b55-d3f0-41d2-a640-9d244fd91315",
   "metadata": {},
   "outputs": [
    {
     "data": {
      "text/plain": [
       "'/c4/home/derek/miniconda3/envs/scquint_4'"
      ]
     },
     "execution_count": 2,
     "metadata": {},
     "output_type": "execute_result"
    }
   ],
   "source": [
    "%env CONDA_PREFIX"
   ]
  },
  {
   "cell_type": "code",
   "execution_count": null,
   "id": "812a4d3f-932e-42f4-ad53-9377d1c572ed",
   "metadata": {},
   "outputs": [],
   "source": []
  },
  {
   "cell_type": "code",
   "execution_count": 3,
   "id": "5bef72fb-4156-47c1-aa73-2fd138100d0d",
   "metadata": {
    "tags": []
   },
   "outputs": [],
   "source": [
    "##notebook for associating splice junctions with MAJIQ Voila output"
   ]
  },
  {
   "cell_type": "code",
   "execution_count": 4,
   "id": "d7214e83-30c6-4762-82eb-2d83fb3acf71",
   "metadata": {
    "tags": []
   },
   "outputs": [],
   "source": [
    "# import sys\n",
    "# !mamba install --yes --prefix {sys.prefix} sympy"
   ]
  },
  {
   "cell_type": "code",
   "execution_count": 5,
   "id": "d6d40f55-7b9d-4a42-aaec-c3cfbea19e00",
   "metadata": {},
   "outputs": [],
   "source": [
    "import sys\n",
    "import os\n",
    "import operator\n",
    "from collections import Counter\n",
    "\n",
    "import numpy as np\n",
    "import pandas as pd\n",
    "import scipy\n",
    "from sympy import Interval, Union\n",
    "\n",
    "import matplotlib.pyplot as plt\n",
    "import seaborn as sns\n",
    "\n",
    "import scanpy as sc\n",
    "import anndata as ad\n",
    "\n",
    "\n",
    "from scquint.data import calculate_PSI"
   ]
  },
  {
   "cell_type": "code",
   "execution_count": 6,
   "id": "31aac555-1aab-48d2-b101-5e23298ece69",
   "metadata": {},
   "outputs": [],
   "source": [
    "pd.set_option('display.max_columns', None)"
   ]
  },
  {
   "cell_type": "code",
   "execution_count": 7,
   "id": "4d92f886-f700-45f8-9b2e-562735e0ddfb",
   "metadata": {},
   "outputs": [],
   "source": [
    "## define processing functions\n",
    "\n",
    "#https://stackoverflow.com/questions/46250830/why-function-returns-only-one-max-value-python3\n",
    "def max_all(iterable, *, key):\n",
    "    it = iter(iterable)\n",
    "    max_values = [next(it)]\n",
    "    max_key = key(max_values[0])\n",
    "\n",
    "    for x in it:\n",
    "        x_key = key(x)\n",
    "\n",
    "        if x_key > max_key:\n",
    "            max_values = [x]\n",
    "            max_key = x_key\n",
    "        elif x_key == max_key:\n",
    "            max_values.append(x)\n",
    "\n",
    "    return max_values\n",
    "\n",
    "#from https://stackoverflow.com/questions/48243507/group-rows-by-overlapping-ranges\n",
    "\n",
    "def union(data):\n",
    "    \"\"\" Union of a list of intervals e.g. [(1,2),(3,4)] \"\"\"\n",
    "    intervals = [Interval(begin, end) for (begin, end) in data]\n",
    "    u = Union(*intervals)\n",
    "    return [u] if isinstance(u, Interval) \\\n",
    "        else list(u.args)"
   ]
  },
  {
   "cell_type": "code",
   "execution_count": null,
   "id": "db0f1454-c025-4b71-b457-4ad5c14b7bd4",
   "metadata": {},
   "outputs": [],
   "source": []
  },
  {
   "cell_type": "markdown",
   "id": "a6cedd49-7f3e-4a85-8704-82c08b368c1f",
   "metadata": {
    "tags": []
   },
   "source": [
    "### get splicing and cassette exon datas "
   ]
  },
  {
   "cell_type": "code",
   "execution_count": 8,
   "id": "479b5587-e197-4511-9cd6-0a38f753aed0",
   "metadata": {},
   "outputs": [],
   "source": [
    "output_dir='/c4/home/derek/data1/derek/data_scSLR/prenatal_brain/'"
   ]
  },
  {
   "cell_type": "code",
   "execution_count": null,
   "id": "fb13793d-d139-403d-84e5-b56bd74e359f",
   "metadata": {},
   "outputs": [],
   "source": []
  },
  {
   "cell_type": "code",
   "execution_count": 9,
   "id": "9e7e14c1-953f-4200-bbec-66e63c1e7dcb",
   "metadata": {
    "tags": []
   },
   "outputs": [],
   "source": [
    "adata_3prime = sc.read_h5ad(output_dir+'3prime_grouped_spl_bc.h5ad')\n",
    "adata_3prime.var['junc'] = (adata_3prime.var['start']-1).astype(str)+'-'+(adata_3prime.var['end']+1).astype(str)\n",
    "\n",
    "adata_5prime = sc.read_h5ad(output_dir+'5prime_grouped_spl_bc.h5ad')\n",
    "adata_5prime.var['junc'] = (adata_5prime.var['start']-1).astype(str)+'-'+(adata_5prime.var['end']+1).astype(str)"
   ]
  },
  {
   "cell_type": "markdown",
   "id": "130cd3d4-dd34-4a6e-b6bf-40139052efea",
   "metadata": {},
   "source": [
    "### load cassette exon annotation from MAJIQ"
   ]
  },
  {
   "cell_type": "code",
   "execution_count": 10,
   "id": "ed51e6e2-757e-45f7-92d3-a7c139d56f00",
   "metadata": {
    "tags": []
   },
   "outputs": [
    {
     "name": "stderr",
     "output_type": "stream",
     "text": [
      "/scratch/derek/ipykernel_3274021/3976852381.py:3: DtypeWarning: Columns (15,16) have mixed types. Specify dtype option on import or set low_memory=False.\n",
      "  cass = pd.read_csv(input_dir+'cassette.tsv',sep='\\t',comment='#')\n"
     ]
    }
   ],
   "source": [
    "input_dir ='/c4/home/derek/data1//derek/data_scSLR/prenatal_brain/majiq/voila_modulize_out_PSI_0.01_wConstitutive/'\n",
    "\n",
    "cass = pd.read_csv(input_dir+'cassette.tsv',sep='\\t',comment='#')"
   ]
  },
  {
   "cell_type": "code",
   "execution_count": 11,
   "id": "a96cd60a-bad2-401a-8acc-794f703a110b",
   "metadata": {},
   "outputs": [
    {
     "data": {
      "text/html": [
       "<div>\n",
       "<style scoped>\n",
       "    .dataframe tbody tr th:only-of-type {\n",
       "        vertical-align: middle;\n",
       "    }\n",
       "\n",
       "    .dataframe tbody tr th {\n",
       "        vertical-align: top;\n",
       "    }\n",
       "\n",
       "    .dataframe thead th {\n",
       "        text-align: right;\n",
       "    }\n",
       "</style>\n",
       "<table border=\"1\" class=\"dataframe\">\n",
       "  <thead>\n",
       "    <tr style=\"text-align: right;\">\n",
       "      <th></th>\n",
       "      <th>module_id</th>\n",
       "      <th>gene_id</th>\n",
       "      <th>gene_name</th>\n",
       "      <th>seqid</th>\n",
       "      <th>strand</th>\n",
       "      <th>lsv_id</th>\n",
       "      <th>event_id</th>\n",
       "      <th>complex</th>\n",
       "      <th>denovo</th>\n",
       "      <th>reference_exon_coord</th>\n",
       "      <th>spliced_with</th>\n",
       "      <th>spliced_with_coord</th>\n",
       "      <th>junction_name</th>\n",
       "      <th>junction_coord</th>\n",
       "      <th>event_size</th>\n",
       "      <th>event_non_changing</th>\n",
       "      <th>event_changing</th>\n",
       "      <th>junction_changing</th>\n",
       "      <th>merged_complete_median_reads</th>\n",
       "      <th>merged_complete_median_psi</th>\n",
       "      <th>merged_complete_var_psi</th>\n",
       "    </tr>\n",
       "  </thead>\n",
       "  <tbody>\n",
       "    <tr>\n",
       "      <th>0</th>\n",
       "      <td>ENSG00000088888.18_1</td>\n",
       "      <td>ENSG00000088888.18</td>\n",
       "      <td>MAVS</td>\n",
       "      <td>chr20</td>\n",
       "      <td>+</td>\n",
       "      <td>ENSG00000088888.18:s:3846799-3846903</td>\n",
       "      <td>ENSG00000088888.18_1_CE_1</td>\n",
       "      <td>True</td>\n",
       "      <td>True</td>\n",
       "      <td>3846799-3846903</td>\n",
       "      <td>C2</td>\n",
       "      <td>3857635-3857809</td>\n",
       "      <td>C1_C2</td>\n",
       "      <td>3846903-3857635</td>\n",
       "      <td>184</td>\n",
       "      <td>NaN</td>\n",
       "      <td>NaN</td>\n",
       "      <td>NaN</td>\n",
       "      <td>10</td>\n",
       "      <td>0.02482</td>\n",
       "      <td>0.000172</td>\n",
       "    </tr>\n",
       "    <tr>\n",
       "      <th>1</th>\n",
       "      <td>ENSG00000088888.18_1</td>\n",
       "      <td>ENSG00000088888.18</td>\n",
       "      <td>MAVS</td>\n",
       "      <td>chr20</td>\n",
       "      <td>+</td>\n",
       "      <td>ENSG00000088888.18:s:3846799-3846903</td>\n",
       "      <td>ENSG00000088888.18_1_CE_1</td>\n",
       "      <td>True</td>\n",
       "      <td>False</td>\n",
       "      <td>3846799-3846903</td>\n",
       "      <td>A</td>\n",
       "      <td>3854558-3854741</td>\n",
       "      <td>C1_A</td>\n",
       "      <td>3846903-3854558</td>\n",
       "      <td>184</td>\n",
       "      <td>NaN</td>\n",
       "      <td>NaN</td>\n",
       "      <td>NaN</td>\n",
       "      <td>791</td>\n",
       "      <td>0.97520</td>\n",
       "      <td>0.000172</td>\n",
       "    </tr>\n",
       "    <tr>\n",
       "      <th>2</th>\n",
       "      <td>ENSG00000088888.18_1</td>\n",
       "      <td>ENSG00000088888.18</td>\n",
       "      <td>MAVS</td>\n",
       "      <td>chr20</td>\n",
       "      <td>+</td>\n",
       "      <td>ENSG00000088888.18:t:3857635-3857809</td>\n",
       "      <td>ENSG00000088888.18_1_CE_1</td>\n",
       "      <td>True</td>\n",
       "      <td>True</td>\n",
       "      <td>3857635-3857809</td>\n",
       "      <td>C1</td>\n",
       "      <td>3846799-3846903</td>\n",
       "      <td>C2_C1</td>\n",
       "      <td>3846903-3857635</td>\n",
       "      <td>184</td>\n",
       "      <td>NaN</td>\n",
       "      <td>NaN</td>\n",
       "      <td>NaN</td>\n",
       "      <td>10</td>\n",
       "      <td>0.04305</td>\n",
       "      <td>0.000304</td>\n",
       "    </tr>\n",
       "    <tr>\n",
       "      <th>3</th>\n",
       "      <td>ENSG00000088888.18_1</td>\n",
       "      <td>ENSG00000088888.18</td>\n",
       "      <td>MAVS</td>\n",
       "      <td>chr20</td>\n",
       "      <td>+</td>\n",
       "      <td>ENSG00000088888.18:t:3857635-3857809</td>\n",
       "      <td>ENSG00000088888.18_1_CE_1</td>\n",
       "      <td>True</td>\n",
       "      <td>False</td>\n",
       "      <td>3857635-3857809</td>\n",
       "      <td>A</td>\n",
       "      <td>3854558-3854741</td>\n",
       "      <td>C2_A</td>\n",
       "      <td>3854741-3857635</td>\n",
       "      <td>184</td>\n",
       "      <td>NaN</td>\n",
       "      <td>NaN</td>\n",
       "      <td>NaN</td>\n",
       "      <td>384</td>\n",
       "      <td>0.95700</td>\n",
       "      <td>0.000304</td>\n",
       "    </tr>\n",
       "    <tr>\n",
       "      <th>4</th>\n",
       "      <td>ENSG00000088888.18_1</td>\n",
       "      <td>ENSG00000088888.18</td>\n",
       "      <td>MAVS</td>\n",
       "      <td>chr20</td>\n",
       "      <td>+</td>\n",
       "      <td>ENSG00000088888.18:s:3854558-3854741</td>\n",
       "      <td>ENSG00000088888.18_1_CE_2</td>\n",
       "      <td>True</td>\n",
       "      <td>False</td>\n",
       "      <td>3854558-3854741</td>\n",
       "      <td>C2</td>\n",
       "      <td>3861332-3861504</td>\n",
       "      <td>C1_C2</td>\n",
       "      <td>3854741-3861332</td>\n",
       "      <td>175</td>\n",
       "      <td>NaN</td>\n",
       "      <td>NaN</td>\n",
       "      <td>NaN</td>\n",
       "      <td>22</td>\n",
       "      <td>0.06898</td>\n",
       "      <td>0.001343</td>\n",
       "    </tr>\n",
       "    <tr>\n",
       "      <th>...</th>\n",
       "      <td>...</td>\n",
       "      <td>...</td>\n",
       "      <td>...</td>\n",
       "      <td>...</td>\n",
       "      <td>...</td>\n",
       "      <td>...</td>\n",
       "      <td>...</td>\n",
       "      <td>...</td>\n",
       "      <td>...</td>\n",
       "      <td>...</td>\n",
       "      <td>...</td>\n",
       "      <td>...</td>\n",
       "      <td>...</td>\n",
       "      <td>...</td>\n",
       "      <td>...</td>\n",
       "      <td>...</td>\n",
       "      <td>...</td>\n",
       "      <td>...</td>\n",
       "      <td>...</td>\n",
       "      <td>...</td>\n",
       "      <td>...</td>\n",
       "    </tr>\n",
       "    <tr>\n",
       "      <th>169507</th>\n",
       "      <td>ENSG00000154839.10_2</td>\n",
       "      <td>ENSG00000154839.10</td>\n",
       "      <td>SKA1</td>\n",
       "      <td>chr18</td>\n",
       "      <td>+</td>\n",
       "      <td>ENSG00000154839.10:t:50382129-50382226</td>\n",
       "      <td>ENSG00000154839.10_2_CE_1</td>\n",
       "      <td>False</td>\n",
       "      <td>False</td>\n",
       "      <td>50382129-50382226</td>\n",
       "      <td>A</td>\n",
       "      <td>50380126-50380250</td>\n",
       "      <td>C2_A</td>\n",
       "      <td>50380250-50382129</td>\n",
       "      <td>125</td>\n",
       "      <td>NaN</td>\n",
       "      <td>NaN</td>\n",
       "      <td>NaN</td>\n",
       "      <td>337</td>\n",
       "      <td>0.96480</td>\n",
       "      <td>0.000305</td>\n",
       "    </tr>\n",
       "    <tr>\n",
       "      <th>169508</th>\n",
       "      <td>ENSG00000077097.17_19</td>\n",
       "      <td>ENSG00000077097.17</td>\n",
       "      <td>TOP2B</td>\n",
       "      <td>chr3</td>\n",
       "      <td>-</td>\n",
       "      <td>ENSG00000077097.17:s:25618654-25618849</td>\n",
       "      <td>ENSG00000077097.17_19_CE_1</td>\n",
       "      <td>True</td>\n",
       "      <td>False</td>\n",
       "      <td>25618654-25618849</td>\n",
       "      <td>C2</td>\n",
       "      <td>25615431-25615586</td>\n",
       "      <td>C1_C2</td>\n",
       "      <td>25615586-25618654</td>\n",
       "      <td>92</td>\n",
       "      <td>NaN</td>\n",
       "      <td>NaN</td>\n",
       "      <td>NaN</td>\n",
       "      <td>160</td>\n",
       "      <td>0.03117</td>\n",
       "      <td>0.000087</td>\n",
       "    </tr>\n",
       "    <tr>\n",
       "      <th>169509</th>\n",
       "      <td>ENSG00000077097.17_19</td>\n",
       "      <td>ENSG00000077097.17</td>\n",
       "      <td>TOP2B</td>\n",
       "      <td>chr3</td>\n",
       "      <td>-</td>\n",
       "      <td>ENSG00000077097.17:s:25618654-25618849</td>\n",
       "      <td>ENSG00000077097.17_19_CE_1</td>\n",
       "      <td>True</td>\n",
       "      <td>False</td>\n",
       "      <td>25618654-25618849</td>\n",
       "      <td>A</td>\n",
       "      <td>25618418-25618509</td>\n",
       "      <td>C1_A</td>\n",
       "      <td>25618509-25618654</td>\n",
       "      <td>92</td>\n",
       "      <td>NaN</td>\n",
       "      <td>NaN</td>\n",
       "      <td>NaN</td>\n",
       "      <td>7534</td>\n",
       "      <td>0.96880</td>\n",
       "      <td>0.000086</td>\n",
       "    </tr>\n",
       "    <tr>\n",
       "      <th>169510</th>\n",
       "      <td>ENSG00000077097.17_19</td>\n",
       "      <td>ENSG00000077097.17</td>\n",
       "      <td>TOP2B</td>\n",
       "      <td>chr3</td>\n",
       "      <td>-</td>\n",
       "      <td>ENSG00000077097.17:t:25615431-25615586</td>\n",
       "      <td>ENSG00000077097.17_19_CE_1</td>\n",
       "      <td>True</td>\n",
       "      <td>False</td>\n",
       "      <td>25615431-25615586</td>\n",
       "      <td>C1</td>\n",
       "      <td>25618654-25618849</td>\n",
       "      <td>C2_C1</td>\n",
       "      <td>25615586-25618654</td>\n",
       "      <td>92</td>\n",
       "      <td>NaN</td>\n",
       "      <td>NaN</td>\n",
       "      <td>NaN</td>\n",
       "      <td>160</td>\n",
       "      <td>0.03676</td>\n",
       "      <td>0.000049</td>\n",
       "    </tr>\n",
       "    <tr>\n",
       "      <th>169511</th>\n",
       "      <td>ENSG00000077097.17_19</td>\n",
       "      <td>ENSG00000077097.17</td>\n",
       "      <td>TOP2B</td>\n",
       "      <td>chr3</td>\n",
       "      <td>-</td>\n",
       "      <td>ENSG00000077097.17:t:25615431-25615586</td>\n",
       "      <td>ENSG00000077097.17_19_CE_1</td>\n",
       "      <td>True</td>\n",
       "      <td>False</td>\n",
       "      <td>25615431-25615586</td>\n",
       "      <td>A</td>\n",
       "      <td>25618418-25618509</td>\n",
       "      <td>C2_A</td>\n",
       "      <td>25615586-25618418</td>\n",
       "      <td>92</td>\n",
       "      <td>NaN</td>\n",
       "      <td>NaN</td>\n",
       "      <td>NaN</td>\n",
       "      <td>6581</td>\n",
       "      <td>0.96020</td>\n",
       "      <td>0.000092</td>\n",
       "    </tr>\n",
       "  </tbody>\n",
       "</table>\n",
       "<p>169512 rows × 21 columns</p>\n",
       "</div>"
      ],
      "text/plain": [
       "                    module_id             gene_id gene_name  seqid strand  \\\n",
       "0        ENSG00000088888.18_1  ENSG00000088888.18      MAVS  chr20      +   \n",
       "1        ENSG00000088888.18_1  ENSG00000088888.18      MAVS  chr20      +   \n",
       "2        ENSG00000088888.18_1  ENSG00000088888.18      MAVS  chr20      +   \n",
       "3        ENSG00000088888.18_1  ENSG00000088888.18      MAVS  chr20      +   \n",
       "4        ENSG00000088888.18_1  ENSG00000088888.18      MAVS  chr20      +   \n",
       "...                       ...                 ...       ...    ...    ...   \n",
       "169507   ENSG00000154839.10_2  ENSG00000154839.10      SKA1  chr18      +   \n",
       "169508  ENSG00000077097.17_19  ENSG00000077097.17     TOP2B   chr3      -   \n",
       "169509  ENSG00000077097.17_19  ENSG00000077097.17     TOP2B   chr3      -   \n",
       "169510  ENSG00000077097.17_19  ENSG00000077097.17     TOP2B   chr3      -   \n",
       "169511  ENSG00000077097.17_19  ENSG00000077097.17     TOP2B   chr3      -   \n",
       "\n",
       "                                        lsv_id                    event_id  \\\n",
       "0         ENSG00000088888.18:s:3846799-3846903   ENSG00000088888.18_1_CE_1   \n",
       "1         ENSG00000088888.18:s:3846799-3846903   ENSG00000088888.18_1_CE_1   \n",
       "2         ENSG00000088888.18:t:3857635-3857809   ENSG00000088888.18_1_CE_1   \n",
       "3         ENSG00000088888.18:t:3857635-3857809   ENSG00000088888.18_1_CE_1   \n",
       "4         ENSG00000088888.18:s:3854558-3854741   ENSG00000088888.18_1_CE_2   \n",
       "...                                        ...                         ...   \n",
       "169507  ENSG00000154839.10:t:50382129-50382226   ENSG00000154839.10_2_CE_1   \n",
       "169508  ENSG00000077097.17:s:25618654-25618849  ENSG00000077097.17_19_CE_1   \n",
       "169509  ENSG00000077097.17:s:25618654-25618849  ENSG00000077097.17_19_CE_1   \n",
       "169510  ENSG00000077097.17:t:25615431-25615586  ENSG00000077097.17_19_CE_1   \n",
       "169511  ENSG00000077097.17:t:25615431-25615586  ENSG00000077097.17_19_CE_1   \n",
       "\n",
       "        complex  denovo reference_exon_coord spliced_with spliced_with_coord  \\\n",
       "0          True    True      3846799-3846903           C2    3857635-3857809   \n",
       "1          True   False      3846799-3846903            A    3854558-3854741   \n",
       "2          True    True      3857635-3857809           C1    3846799-3846903   \n",
       "3          True   False      3857635-3857809            A    3854558-3854741   \n",
       "4          True   False      3854558-3854741           C2    3861332-3861504   \n",
       "...         ...     ...                  ...          ...                ...   \n",
       "169507    False   False    50382129-50382226            A  50380126-50380250   \n",
       "169508     True   False    25618654-25618849           C2  25615431-25615586   \n",
       "169509     True   False    25618654-25618849            A  25618418-25618509   \n",
       "169510     True   False    25615431-25615586           C1  25618654-25618849   \n",
       "169511     True   False    25615431-25615586            A  25618418-25618509   \n",
       "\n",
       "       junction_name     junction_coord  event_size event_non_changing  \\\n",
       "0              C1_C2    3846903-3857635         184                NaN   \n",
       "1               C1_A    3846903-3854558         184                NaN   \n",
       "2              C2_C1    3846903-3857635         184                NaN   \n",
       "3               C2_A    3854741-3857635         184                NaN   \n",
       "4              C1_C2    3854741-3861332         175                NaN   \n",
       "...              ...                ...         ...                ...   \n",
       "169507          C2_A  50380250-50382129         125                NaN   \n",
       "169508         C1_C2  25615586-25618654          92                NaN   \n",
       "169509          C1_A  25618509-25618654          92                NaN   \n",
       "169510         C2_C1  25615586-25618654          92                NaN   \n",
       "169511          C2_A  25615586-25618418          92                NaN   \n",
       "\n",
       "       event_changing  junction_changing  merged_complete_median_reads  \\\n",
       "0                 NaN                NaN                            10   \n",
       "1                 NaN                NaN                           791   \n",
       "2                 NaN                NaN                            10   \n",
       "3                 NaN                NaN                           384   \n",
       "4                 NaN                NaN                            22   \n",
       "...               ...                ...                           ...   \n",
       "169507            NaN                NaN                           337   \n",
       "169508            NaN                NaN                           160   \n",
       "169509            NaN                NaN                          7534   \n",
       "169510            NaN                NaN                           160   \n",
       "169511            NaN                NaN                          6581   \n",
       "\n",
       "        merged_complete_median_psi  merged_complete_var_psi  \n",
       "0                          0.02482                 0.000172  \n",
       "1                          0.97520                 0.000172  \n",
       "2                          0.04305                 0.000304  \n",
       "3                          0.95700                 0.000304  \n",
       "4                          0.06898                 0.001343  \n",
       "...                            ...                      ...  \n",
       "169507                     0.96480                 0.000305  \n",
       "169508                     0.03117                 0.000087  \n",
       "169509                     0.96880                 0.000086  \n",
       "169510                     0.03676                 0.000049  \n",
       "169511                     0.96020                 0.000092  \n",
       "\n",
       "[169512 rows x 21 columns]"
      ]
     },
     "execution_count": 11,
     "metadata": {},
     "output_type": "execute_result"
    }
   ],
   "source": [
    "cass"
   ]
  },
  {
   "cell_type": "code",
   "execution_count": null,
   "id": "f80cc8c4-23b8-4b6e-87e7-dd69658388e0",
   "metadata": {},
   "outputs": [],
   "source": []
  },
  {
   "cell_type": "code",
   "execution_count": null,
   "id": "4433f683-8fa8-4260-b754-bd0080aa737e",
   "metadata": {},
   "outputs": [],
   "source": []
  },
  {
   "cell_type": "code",
   "execution_count": 12,
   "id": "7758cfb7-f3d8-4bd2-923d-ee3f507c7697",
   "metadata": {},
   "outputs": [],
   "source": [
    "cass['var_name'] = cass['gene_name'] + '_' + cass['seqid'] + ':' + (cass.junction_coord.str.split('-',expand=True)[0].astype(int)+1).astype(str) + '-' + (cass.junction_coord.str.split('-',expand=True)[1].astype(int)-1).astype(str)"
   ]
  },
  {
   "cell_type": "code",
   "execution_count": null,
   "id": "cb823935-a78a-4c6a-9370-ecbf715039ab",
   "metadata": {},
   "outputs": [],
   "source": []
  },
  {
   "cell_type": "markdown",
   "id": "3a12d3af-97c0-4178-bffd-bf41f71429ee",
   "metadata": {},
   "source": [
    "### get concoordinate junctions between MAJIQ annotation and scQuint adatas"
   ]
  },
  {
   "cell_type": "code",
   "execution_count": 13,
   "id": "1247c961-850b-4378-8466-ab65c3263ed5",
   "metadata": {},
   "outputs": [],
   "source": [
    "#filter the MAJIQ cassette output for junctions that show up in the scquint processed 3prime and 5prime anndatas, and therefore  #require meeting certain read depth thresholds and requirements of pairing from shared donor/acceptor "
   ]
  },
  {
   "cell_type": "code",
   "execution_count": 14,
   "id": "a1f7f612-aaba-4697-9ff4-7a0552a00835",
   "metadata": {},
   "outputs": [
    {
     "name": "stdout",
     "output_type": "stream",
     "text": [
      "CPU times: user 2min 1s, sys: 196 ms, total: 2min 1s\n",
      "Wall time: 2min 1s\n"
     ]
    }
   ],
   "source": [
    "%%time\n",
    "\n",
    "junc_dict = {}\n",
    "\n",
    "\n",
    "for index, row in cass.iterrows():\n",
    "    \n",
    "    if row['junction_name'].startswith('C1'):\n",
    "        \n",
    "        if row['strand'] == '+':\n",
    "            intron_group = row['gene_name'] + '_' +row['seqid']+'_'+ str(int(row['junction_coord'].split('-')[0])+1) +'_'+row['strand']\n",
    "            junc = adata_5prime.var.loc[(adata_5prime.var['intron_group'] == intron_group) & (adata_5prime.var['end'] == int(row['junction_coord'].split('-')[1])-1)]\n",
    "            \n",
    "        else:\n",
    "            intron_group = row['gene_name'] + '_' +row['seqid']+'_'+ str(int(row['junction_coord'].split('-')[1])-1) +'_'+row['strand']\n",
    "            junc = adata_5prime.var.loc[(adata_5prime.var['intron_group'] == intron_group) & (adata_5prime.var['start'] == int(row['junction_coord'].split('-')[0])+1)]\n",
    "            \n",
    "        if junc.size != 0:\n",
    "            junc_dict[index] = [junc.index[0], row['event_id'], row['junction_name'], row['spliced_with'], row['spliced_with_coord'], row['seqid'], row['strand'],\n",
    "                                row.merged_complete_median_reads, junc.n_cells.values[0]]\n",
    "            \n",
    "    elif row['junction_name'].startswith('C2'):\n",
    "        \n",
    "        if row['strand'] == '+':\n",
    "            intron_group = row['gene_name'] + '_' +row['seqid']+'_'+ str(int(row['junction_coord'].split('-')[1])-1) +'_'+row['strand']\n",
    "            junc = adata_3prime.var.loc[(adata_3prime.var['intron_group'] == intron_group) & (adata_3prime.var['start'] == int(row['junction_coord'].split('-')[0])+1)]\n",
    "        else:\n",
    "            intron_group = row['gene_name'] + '_' +row['seqid']+'_'+ str(int(row['junction_coord'].split('-')[0])+1) +'_'+row['strand']\n",
    "            junc = adata_3prime.var.loc[(adata_3prime.var['intron_group'] == intron_group) & (adata_3prime.var['end'] == int(row['junction_coord'].split('-')[1])-1)]\n",
    "        \n",
    "        if junc.size != 0:\n",
    "            junc_dict[index] = [junc.index[0], row['event_id'], row['junction_name'], row['spliced_with'], row['spliced_with_coord'], row['seqid'], row['strand'],\n",
    "                                row.merged_complete_median_reads, junc.n_cells.values[0]]\n",
    "\n",
    "            \n",
    "junc_frame = pd.DataFrame.from_dict(junc_dict).T\n",
    "\n",
    "junc_frame.columns = ['var_name','MAJIQ_event_id','MAJIQ_event_name','MAJIQ_spliced_with','MAJIQ_spliced_with_coord',\n",
    "                        'chromosome','strand','n_fragments','n_cells']\n",
    "\n"
   ]
  },
  {
   "cell_type": "code",
   "execution_count": null,
   "id": "7d6744a2-dbf4-4677-b8e2-43d3b6b4cb14",
   "metadata": {},
   "outputs": [],
   "source": []
  },
  {
   "cell_type": "code",
   "execution_count": 15,
   "id": "254bec90-8c0d-4e2a-b25f-d4b2cc395cf9",
   "metadata": {},
   "outputs": [
    {
     "data": {
      "text/plain": [
       "0.5835103119543159"
      ]
     },
     "execution_count": 15,
     "metadata": {},
     "output_type": "execute_result"
    }
   ],
   "source": [
    "#filtering on anndatas removes ~40% of junctions\n",
    "len(junc_frame) / len(cass)"
   ]
  },
  {
   "cell_type": "code",
   "execution_count": null,
   "id": "d704e444-242d-4629-b3e5-32dc6eba195a",
   "metadata": {
    "scrolled": true
   },
   "outputs": [],
   "source": []
  },
  {
   "cell_type": "markdown",
   "id": "1f9aa351-678d-45ab-a7bd-a319e77a8b90",
   "metadata": {},
   "source": [
    "#### remove MAJIQ events missing component junctions"
   ]
  },
  {
   "cell_type": "code",
   "execution_count": 16,
   "id": "a419dc21-afbb-4e74-af21-71e83f750fbd",
   "metadata": {},
   "outputs": [
    {
     "name": "stdout",
     "output_type": "stream",
     "text": [
      "CPU times: user 8min 41s, sys: 61.5 ms, total: 8min 41s\n",
      "Wall time: 8min 42s\n"
     ]
    }
   ],
   "source": [
    "%%time\n",
    "\n",
    "black_list = {}\n",
    "\n",
    "for event_id in junc_frame.MAJIQ_event_id:\n",
    "    event_list = junc_frame[junc_frame.MAJIQ_event_id == event_id].MAJIQ_event_name.tolist()\n",
    "    \n",
    "    if sorted(event_list) != sorted(['C1_C2','C1_A','C2_A','C2_C1']):\n",
    "        black_list[event_id] = event_list"
   ]
  },
  {
   "cell_type": "code",
   "execution_count": 17,
   "id": "c949c8ca-deb7-4303-a4b1-28dc6e1bd722",
   "metadata": {},
   "outputs": [
    {
     "data": {
      "text/plain": [
       "11835"
      ]
     },
     "execution_count": 17,
     "metadata": {},
     "output_type": "execute_result"
    }
   ],
   "source": [
    "len(black_list.keys())"
   ]
  },
  {
   "cell_type": "code",
   "execution_count": 18,
   "id": "90f313a3-cfbe-41bc-a755-e7197e6d28b8",
   "metadata": {},
   "outputs": [],
   "source": [
    "junc_frame=junc_frame[~junc_frame.MAJIQ_event_id.isin(black_list.keys())]"
   ]
  },
  {
   "cell_type": "code",
   "execution_count": 19,
   "id": "99b71997-7432-49cc-9b9b-9e783bcd36f2",
   "metadata": {},
   "outputs": [
    {
     "data": {
      "text/plain": [
       "C1_C2    19195\n",
       "C1_A     19195\n",
       "C2_C1    19195\n",
       "C2_A     19195\n",
       "Name: MAJIQ_event_name, dtype: int64"
      ]
     },
     "execution_count": 19,
     "metadata": {},
     "output_type": "execute_result"
    }
   ],
   "source": [
    "junc_frame.MAJIQ_event_name.value_counts()"
   ]
  },
  {
   "cell_type": "code",
   "execution_count": 20,
   "id": "3f980bc2-3486-4a2a-82da-ad6a43276012",
   "metadata": {},
   "outputs": [
    {
     "data": {
      "text/plain": [
       "76780"
      ]
     },
     "execution_count": 20,
     "metadata": {},
     "output_type": "execute_result"
    }
   ],
   "source": [
    "len(junc_frame)"
   ]
  },
  {
   "cell_type": "markdown",
   "id": "01a88bfe-d945-4a8a-b7a6-c23ade73005b",
   "metadata": {},
   "source": [
    "#### double check cassette exons"
   ]
  },
  {
   "cell_type": "code",
   "execution_count": 21,
   "id": "91efbb89-35bb-46d7-8f4a-0ad361874ce1",
   "metadata": {
    "tags": []
   },
   "outputs": [
    {
     "name": "stdout",
     "output_type": "stream",
     "text": [
      "CPU times: user 3min 8s, sys: 39.9 ms, total: 3min 8s\n",
      "Wall time: 3min 8s\n"
     ]
    }
   ],
   "source": [
    "%%time\n",
    "temp_dict = {}\n",
    "\n",
    "#for each MAJIQ event, make sure junctions C1_C2 == C2_C1\n",
    "for event in junc_frame.MAJIQ_event_id.unique():\n",
    "    event_juncs = junc_frame[junc_frame.MAJIQ_event_id == event]\n",
    "    \n",
    "    assert event_juncs[event_juncs.MAJIQ_event_name == 'C1_C2']['var_name'].values[0] == event_juncs[event_juncs.MAJIQ_event_name == 'C2_C1']['var_name'].values[0]\n",
    "\n",
    "\n",
    "temp_dict = {}\n",
    "\n",
    "#for each MAJIQ event, make sure the var_names define the cassette exon\n",
    "\n",
    "for event in junc_frame.MAJIQ_event_id.unique():\n",
    "    event_juncs = junc_frame[junc_frame.MAJIQ_event_id == event]\n",
    "    \n",
    "    \n",
    "    if event_juncs[event_juncs.MAJIQ_event_name == 'C1_A']['strand'].values[0] == '+':\n",
    "        exon_start = str(int(event_juncs[event_juncs.MAJIQ_event_name == 'C1_A']['var_name'].values[0].split(':')[1].split('-')[1])+1)\n",
    "    \n",
    "        exon_end =  str(int(event_juncs[event_juncs.MAJIQ_event_name == 'C2_A']['var_name'].values[0].split(':')[1].split('-')[0])-1)\n",
    "    \n",
    "        \n",
    "    \n",
    "    else:\n",
    "        exon_start = str(int(event_juncs[event_juncs.MAJIQ_event_name == 'C2_A']['var_name'].values[0].split(':')[1].split('-')[1])+1)\n",
    "    \n",
    "        exon_end =  str(int(event_juncs[event_juncs.MAJIQ_event_name == 'C1_A']['var_name'].values[0].split(':')[1].split('-')[0])-1)\n",
    "\n",
    "            \n",
    "    assert (exon_start + '-' + exon_end) == event_juncs[event_juncs.MAJIQ_event_name == 'C1_A']['MAJIQ_spliced_with_coord'].values[0]\n",
    "    \n",
    "    "
   ]
  },
  {
   "cell_type": "code",
   "execution_count": 22,
   "id": "84b5bbbd-b53e-451e-85c3-8398668a2833",
   "metadata": {},
   "outputs": [
    {
     "data": {
      "text/html": [
       "<div>\n",
       "<style scoped>\n",
       "    .dataframe tbody tr th:only-of-type {\n",
       "        vertical-align: middle;\n",
       "    }\n",
       "\n",
       "    .dataframe tbody tr th {\n",
       "        vertical-align: top;\n",
       "    }\n",
       "\n",
       "    .dataframe thead th {\n",
       "        text-align: right;\n",
       "    }\n",
       "</style>\n",
       "<table border=\"1\" class=\"dataframe\">\n",
       "  <thead>\n",
       "    <tr style=\"text-align: right;\">\n",
       "      <th></th>\n",
       "      <th>var_name</th>\n",
       "      <th>MAJIQ_event_id</th>\n",
       "      <th>MAJIQ_event_name</th>\n",
       "      <th>MAJIQ_spliced_with</th>\n",
       "      <th>MAJIQ_spliced_with_coord</th>\n",
       "      <th>chromosome</th>\n",
       "      <th>strand</th>\n",
       "      <th>n_fragments</th>\n",
       "      <th>n_cells</th>\n",
       "    </tr>\n",
       "  </thead>\n",
       "  <tbody>\n",
       "    <tr>\n",
       "      <th>0</th>\n",
       "      <td>MAVS_chr20:3846904-3857634</td>\n",
       "      <td>ENSG00000088888.18_1_CE_1</td>\n",
       "      <td>C1_C2</td>\n",
       "      <td>C2</td>\n",
       "      <td>3857635-3857809</td>\n",
       "      <td>chr20</td>\n",
       "      <td>+</td>\n",
       "      <td>10</td>\n",
       "      <td>14</td>\n",
       "    </tr>\n",
       "    <tr>\n",
       "      <th>1</th>\n",
       "      <td>MAVS_chr20:3846904-3854557</td>\n",
       "      <td>ENSG00000088888.18_1_CE_1</td>\n",
       "      <td>C1_A</td>\n",
       "      <td>A</td>\n",
       "      <td>3854558-3854741</td>\n",
       "      <td>chr20</td>\n",
       "      <td>+</td>\n",
       "      <td>791</td>\n",
       "      <td>345</td>\n",
       "    </tr>\n",
       "    <tr>\n",
       "      <th>2</th>\n",
       "      <td>MAVS_chr20:3846904-3857634</td>\n",
       "      <td>ENSG00000088888.18_1_CE_1</td>\n",
       "      <td>C2_C1</td>\n",
       "      <td>C1</td>\n",
       "      <td>3846799-3846903</td>\n",
       "      <td>chr20</td>\n",
       "      <td>+</td>\n",
       "      <td>10</td>\n",
       "      <td>14</td>\n",
       "    </tr>\n",
       "    <tr>\n",
       "      <th>3</th>\n",
       "      <td>MAVS_chr20:3854742-3857634</td>\n",
       "      <td>ENSG00000088888.18_1_CE_1</td>\n",
       "      <td>C2_A</td>\n",
       "      <td>A</td>\n",
       "      <td>3854558-3854741</td>\n",
       "      <td>chr20</td>\n",
       "      <td>+</td>\n",
       "      <td>384</td>\n",
       "      <td>128</td>\n",
       "    </tr>\n",
       "    <tr>\n",
       "      <th>20</th>\n",
       "      <td>PANK2_chr20:3908279-3910576</td>\n",
       "      <td>ENSG00000125779.24_1_CE_4</td>\n",
       "      <td>C1_C2</td>\n",
       "      <td>C2</td>\n",
       "      <td>3910577-3910830</td>\n",
       "      <td>chr20</td>\n",
       "      <td>+</td>\n",
       "      <td>734</td>\n",
       "      <td>300</td>\n",
       "    </tr>\n",
       "    <tr>\n",
       "      <th>...</th>\n",
       "      <td>...</td>\n",
       "      <td>...</td>\n",
       "      <td>...</td>\n",
       "      <td>...</td>\n",
       "      <td>...</td>\n",
       "      <td>...</td>\n",
       "      <td>...</td>\n",
       "      <td>...</td>\n",
       "      <td>...</td>\n",
       "    </tr>\n",
       "    <tr>\n",
       "      <th>169503</th>\n",
       "      <td>TNPO1_chr5:72900082-72900973</td>\n",
       "      <td>ENSG00000083312.19_3_CE_2</td>\n",
       "      <td>C2_A</td>\n",
       "      <td>A</td>\n",
       "      <td>72900045-72900081</td>\n",
       "      <td>chr5</td>\n",
       "      <td>+</td>\n",
       "      <td>4814</td>\n",
       "      <td>1604</td>\n",
       "    </tr>\n",
       "    <tr>\n",
       "      <th>169508</th>\n",
       "      <td>TOP2B_chr3:25615587-25618653</td>\n",
       "      <td>ENSG00000077097.17_19_CE_1</td>\n",
       "      <td>C1_C2</td>\n",
       "      <td>C2</td>\n",
       "      <td>25615431-25615586</td>\n",
       "      <td>chr3</td>\n",
       "      <td>-</td>\n",
       "      <td>160</td>\n",
       "      <td>41</td>\n",
       "    </tr>\n",
       "    <tr>\n",
       "      <th>169509</th>\n",
       "      <td>TOP2B_chr3:25618510-25618653</td>\n",
       "      <td>ENSG00000077097.17_19_CE_1</td>\n",
       "      <td>C1_A</td>\n",
       "      <td>A</td>\n",
       "      <td>25618418-25618509</td>\n",
       "      <td>chr3</td>\n",
       "      <td>-</td>\n",
       "      <td>7534</td>\n",
       "      <td>1768</td>\n",
       "    </tr>\n",
       "    <tr>\n",
       "      <th>169510</th>\n",
       "      <td>TOP2B_chr3:25615587-25618653</td>\n",
       "      <td>ENSG00000077097.17_19_CE_1</td>\n",
       "      <td>C2_C1</td>\n",
       "      <td>C1</td>\n",
       "      <td>25618654-25618849</td>\n",
       "      <td>chr3</td>\n",
       "      <td>-</td>\n",
       "      <td>160</td>\n",
       "      <td>41</td>\n",
       "    </tr>\n",
       "    <tr>\n",
       "      <th>169511</th>\n",
       "      <td>TOP2B_chr3:25615587-25618417</td>\n",
       "      <td>ENSG00000077097.17_19_CE_1</td>\n",
       "      <td>C2_A</td>\n",
       "      <td>A</td>\n",
       "      <td>25618418-25618509</td>\n",
       "      <td>chr3</td>\n",
       "      <td>-</td>\n",
       "      <td>6581</td>\n",
       "      <td>1551</td>\n",
       "    </tr>\n",
       "  </tbody>\n",
       "</table>\n",
       "<p>76780 rows × 9 columns</p>\n",
       "</div>"
      ],
      "text/plain": [
       "                            var_name              MAJIQ_event_id  \\\n",
       "0         MAVS_chr20:3846904-3857634   ENSG00000088888.18_1_CE_1   \n",
       "1         MAVS_chr20:3846904-3854557   ENSG00000088888.18_1_CE_1   \n",
       "2         MAVS_chr20:3846904-3857634   ENSG00000088888.18_1_CE_1   \n",
       "3         MAVS_chr20:3854742-3857634   ENSG00000088888.18_1_CE_1   \n",
       "20       PANK2_chr20:3908279-3910576   ENSG00000125779.24_1_CE_4   \n",
       "...                              ...                         ...   \n",
       "169503  TNPO1_chr5:72900082-72900973   ENSG00000083312.19_3_CE_2   \n",
       "169508  TOP2B_chr3:25615587-25618653  ENSG00000077097.17_19_CE_1   \n",
       "169509  TOP2B_chr3:25618510-25618653  ENSG00000077097.17_19_CE_1   \n",
       "169510  TOP2B_chr3:25615587-25618653  ENSG00000077097.17_19_CE_1   \n",
       "169511  TOP2B_chr3:25615587-25618417  ENSG00000077097.17_19_CE_1   \n",
       "\n",
       "       MAJIQ_event_name MAJIQ_spliced_with MAJIQ_spliced_with_coord  \\\n",
       "0                 C1_C2                 C2          3857635-3857809   \n",
       "1                  C1_A                  A          3854558-3854741   \n",
       "2                 C2_C1                 C1          3846799-3846903   \n",
       "3                  C2_A                  A          3854558-3854741   \n",
       "20                C1_C2                 C2          3910577-3910830   \n",
       "...                 ...                ...                      ...   \n",
       "169503             C2_A                  A        72900045-72900081   \n",
       "169508            C1_C2                 C2        25615431-25615586   \n",
       "169509             C1_A                  A        25618418-25618509   \n",
       "169510            C2_C1                 C1        25618654-25618849   \n",
       "169511             C2_A                  A        25618418-25618509   \n",
       "\n",
       "       chromosome strand n_fragments n_cells  \n",
       "0           chr20      +          10      14  \n",
       "1           chr20      +         791     345  \n",
       "2           chr20      +          10      14  \n",
       "3           chr20      +         384     128  \n",
       "20          chr20      +         734     300  \n",
       "...           ...    ...         ...     ...  \n",
       "169503       chr5      +        4814    1604  \n",
       "169508       chr3      -         160      41  \n",
       "169509       chr3      -        7534    1768  \n",
       "169510       chr3      -         160      41  \n",
       "169511       chr3      -        6581    1551  \n",
       "\n",
       "[76780 rows x 9 columns]"
      ]
     },
     "execution_count": 22,
     "metadata": {},
     "output_type": "execute_result"
    }
   ],
   "source": [
    "junc_frame"
   ]
  },
  {
   "cell_type": "code",
   "execution_count": null,
   "id": "3d7bec46-89d2-49fd-a8b1-309e2741c530",
   "metadata": {
    "tags": []
   },
   "outputs": [],
   "source": []
  },
  {
   "cell_type": "code",
   "execution_count": null,
   "id": "7e88393a-ed75-4667-be95-d0f04cb5500d",
   "metadata": {},
   "outputs": [],
   "source": []
  },
  {
   "cell_type": "code",
   "execution_count": null,
   "id": "6f515209-82d0-4e5e-87c2-64417398f298",
   "metadata": {},
   "outputs": [],
   "source": []
  },
  {
   "cell_type": "code",
   "execution_count": null,
   "id": "700c12f9-e874-4af4-9503-e6b0e21e9611",
   "metadata": {},
   "outputs": [],
   "source": []
  },
  {
   "cell_type": "code",
   "execution_count": null,
   "id": "3b2945b6-7209-4549-af5c-5f6aa7967108",
   "metadata": {},
   "outputs": [],
   "source": []
  },
  {
   "cell_type": "markdown",
   "id": "d8e0a1ad-515a-4265-ae0e-8cf8871001c3",
   "metadata": {},
   "source": [
    "### define cassette exon and flanking exon coordinates for each event"
   ]
  },
  {
   "cell_type": "code",
   "execution_count": 23,
   "id": "1da88159-47b7-44b9-a3df-1df9068a0f6d",
   "metadata": {},
   "outputs": [
    {
     "name": "stdout",
     "output_type": "stream",
     "text": [
      "CPU times: user 6.62 s, sys: 11 ms, total: 6.64 s\n",
      "Wall time: 6.69 s\n"
     ]
    }
   ],
   "source": [
    "%%time\n",
    "junc_dict = {}\n",
    "\n",
    "for name, group in junc_frame.groupby('MAJIQ_event_id'):\n",
    "    \n",
    "    \n",
    "    CE = group[group['MAJIQ_spliced_with'] == 'A'].MAJIQ_spliced_with_coord.unique()[0]\n",
    "    \n",
    "    junc_dict[name] = CE\n",
    "\n",
    "junc_frame['exon'] = junc_frame.MAJIQ_event_id.map(junc_dict)"
   ]
  },
  {
   "cell_type": "code",
   "execution_count": null,
   "id": "ce5ed05d-211c-4365-9c8c-b49c60bec5a9",
   "metadata": {},
   "outputs": [],
   "source": []
  },
  {
   "cell_type": "code",
   "execution_count": null,
   "id": "8fc551aa-1879-49dc-b187-a8b18b6011cc",
   "metadata": {},
   "outputs": [],
   "source": []
  },
  {
   "cell_type": "code",
   "execution_count": 24,
   "id": "52b0b3af-19c6-4b95-9f5f-3b380d8c724a",
   "metadata": {},
   "outputs": [
    {
     "name": "stdout",
     "output_type": "stream",
     "text": [
      "CPU times: user 11.8 s, sys: 11.7 ms, total: 11.8 s\n",
      "Wall time: 11.9 s\n"
     ]
    }
   ],
   "source": [
    "%%time\n",
    "upstream_exon_dict = {}\n",
    "downstream_exon_dict = {}\n",
    "\n",
    "\n",
    "for name, group in junc_frame.groupby('MAJIQ_event_id'):\n",
    "    strand = group['strand']\n",
    "        \n",
    "    #upstream = C1, downstream = C2\n",
    "    \n",
    "    flanking_exons = group[group['MAJIQ_event_name'] == 'C1_C2']['var_name'].str.split(':',expand=True)[1].values[0]\n",
    "    \n",
    "    upstream_exon_dict[name] = flanking_exons.split('-')[0]\n",
    "    \n",
    "    downstream_exon_dict[name] = flanking_exons.split('-')[1]\n",
    "\n",
    "    \n",
    "    \n",
    "junc_frame['upstream_exon'] = junc_frame.MAJIQ_event_id.map(upstream_exon_dict)\n",
    "\n",
    "junc_frame['downstream_exon'] = junc_frame.MAJIQ_event_id.map(downstream_exon_dict)\n",
    "\n",
    "    "
   ]
  },
  {
   "cell_type": "code",
   "execution_count": null,
   "id": "76e81291-61e6-4895-836e-d79e28e6ae64",
   "metadata": {},
   "outputs": [],
   "source": []
  },
  {
   "cell_type": "code",
   "execution_count": 25,
   "id": "f6237557-bd84-46a1-9d95-00636c9deab7",
   "metadata": {},
   "outputs": [],
   "source": [
    "junc_frame['gene_name'] = junc_frame.var_name.str.split('_',expand=True)[0]\n",
    "\n",
    "junc_frame['exon_start'] = junc_frame.exon.str.split('-').str[0]\n",
    "junc_frame['exon_end'] = junc_frame.exon.str.split('-').str[1]\n",
    "\n",
    "junc_frame['exon_length'] = pd.DataFrame(junc_frame['exon_end'].astype(int) - junc_frame['exon_start'].astype(int))"
   ]
  },
  {
   "cell_type": "code",
   "execution_count": 26,
   "id": "16568f2c-0ed4-418d-ae0a-046f5f00ab93",
   "metadata": {},
   "outputs": [
    {
     "data": {
      "text/plain": [
       "(76780, 16)"
      ]
     },
     "execution_count": 26,
     "metadata": {},
     "output_type": "execute_result"
    }
   ],
   "source": [
    "junc_frame.shape\n"
   ]
  },
  {
   "cell_type": "code",
   "execution_count": 27,
   "id": "63e81ef2-0b6b-4ecc-8527-c3a5e0860882",
   "metadata": {},
   "outputs": [],
   "source": [
    "junc_frame = junc_frame[junc_frame.exon_length > 0]\n"
   ]
  },
  {
   "cell_type": "code",
   "execution_count": 28,
   "id": "1a838fcd-703c-4d5c-ba3d-b5668c8288c5",
   "metadata": {},
   "outputs": [
    {
     "data": {
      "text/plain": [
       "19168.0"
      ]
     },
     "execution_count": 28,
     "metadata": {},
     "output_type": "execute_result"
    }
   ],
   "source": [
    "len(junc_frame) / 4"
   ]
  },
  {
   "cell_type": "code",
   "execution_count": 29,
   "id": "e120eef8-fd48-4fc9-b3b2-22dd58e14bed",
   "metadata": {},
   "outputs": [],
   "source": [
    "#junc_frame.to_csv('/nowakowskilab/data1/derek/data_scSLR/prenatal_brain/'+'cassette_junction_frame.csv')"
   ]
  },
  {
   "cell_type": "markdown",
   "id": "538bb843-f9ad-417f-94e6-783c37e85683",
   "metadata": {},
   "source": [
    "### associate the annotated junctions with the splicing count matrix"
   ]
  },
  {
   "cell_type": "code",
   "execution_count": 30,
   "id": "271e4790-0a6d-44aa-9173-940713913b01",
   "metadata": {},
   "outputs": [],
   "source": [
    "input_dir = '/nowakowskilab/data1/derek/scSLR/notebooks/fig3/'\n",
    "adata = sc.read_h5ad(input_dir+'singlets_spl_.h5ad') #includes singlet junctions, not just paired\n"
   ]
  },
  {
   "cell_type": "code",
   "execution_count": 31,
   "id": "c01df3a8-fc66-48f1-bb4b-a45e50f10793",
   "metadata": {},
   "outputs": [],
   "source": [
    "var = adata.var.copy()\n",
    "\n",
    "var['var_name'] = var.index\n",
    "\n",
    "adata.var['var_name'] = var.index"
   ]
  },
  {
   "cell_type": "code",
   "execution_count": null,
   "id": "dec4e48b-2be1-498d-b065-e30c61c6ae4c",
   "metadata": {},
   "outputs": [],
   "source": []
  },
  {
   "cell_type": "code",
   "execution_count": null,
   "id": "68a9de45-8ace-46d2-ad0e-c7afec811c17",
   "metadata": {},
   "outputs": [],
   "source": []
  },
  {
   "cell_type": "code",
   "execution_count": 32,
   "id": "5ceee6b3-d803-4ff7-a785-33fe28fe3f3e",
   "metadata": {},
   "outputs": [
    {
     "name": "stdout",
     "output_type": "stream",
     "text": [
      "CPU times: user 3min 21s, sys: 138 ms, total: 3min 22s\n",
      "Wall time: 3min 22s\n"
     ]
    }
   ],
   "source": [
    "%%time\n",
    "\n",
    "var_dict = {}\n",
    "\n",
    "# for each intron group in adata\n",
    "for intron_group in var.intron_group.unique():\n",
    "   \n",
    "    #get the introns associated with the intron group\n",
    "    subgroup = var[var.intron_group == intron_group]\n",
    "    \n",
    "    \n",
    "    #get the set of introns, to take into account junctions listed multiple times\n",
    "    var_set = set(subgroup.var_name)\n",
    "    \n",
    "    \n",
    "\n",
    "    #get the gene name associated with the intron group\n",
    "    gene = subgroup.gene_name.iloc[0]\n",
    "    \n",
    "    #get the MAJIQ junctions associated with the gene\n",
    "    junc_frame_gene = junc_frame[junc_frame.gene_name == gene]\n",
    "    \n",
    "    #get the set of MAJIQ junctions\n",
    "    junc_sets_gene = junc_frame_gene.groupby('MAJIQ_event_id')['var_name'].aggregate(lambda x: set(x))\n",
    "    \n",
    "    \n",
    "    #get set-intersections betweeen the MAJIQ junctions and the sig-diff var_set\n",
    "    junc_dict = {}\n",
    "    \n",
    "    \n",
    "    for event_id, junc_set in junc_sets_gene.items():\n",
    "        \n",
    "        #print(event_id)\n",
    "        #print(junc_set)\n",
    "        count = len(var_set.intersection(junc_set))\n",
    "        \n",
    "        #need to share at least 2 junctions between the MAJIQ event and the junctions in the intron_group\n",
    "        if (count > 1): \n",
    "            junc_dict[event_id] = count\n",
    "        \n",
    "        else:\n",
    "            pass\n",
    "\n",
    "    \n",
    "    if bool(junc_dict):\n",
    "        var_dict[intron_group] = max_all(junc_dict.keys(), key=operator.itemgetter(1))\n",
    "    else:\n",
    "        var_dict[intron_group] = []"
   ]
  },
  {
   "cell_type": "code",
   "execution_count": 33,
   "id": "db8a3609-d357-4890-b3b4-8de4f4290a6c",
   "metadata": {
    "tags": []
   },
   "outputs": [
    {
     "data": {
      "text/plain": [
       "UBE2J2_chr1:1263387-1264782    UBE2J2_chr1_1263387_-\n",
       "UBE2J2_chr1:1263387-1267732    UBE2J2_chr1_1263387_-\n",
       "UBE2J2_chr1:1263387-1267861    UBE2J2_chr1_1263387_-\n",
       "UBE2J2_chr1:1263387-1273665    UBE2J2_chr1_1263387_-\n",
       "Name: intron_group, dtype: category\n",
       "Categories (42577, object): ['A1BG-AS1_chr19_58347845_+', 'AAAS_chr12_53307714_-', 'AAAS_chr12_53308051_-', 'AAAS_chr12_53308959_-', ..., 'ZYX_chr7_143381410_+', 'ZYX_chr7_143388218_+', 'ZYX_chr7_143388488_+', 'ZZEF1_chr17_4070925_-']"
      ]
     },
     "execution_count": 33,
     "metadata": {},
     "output_type": "execute_result"
    }
   ],
   "source": [
    "var.intron_group[var.intron_group == 'UBE2J2_chr1_1263387_-']"
   ]
  },
  {
   "cell_type": "code",
   "execution_count": null,
   "id": "cb844959-90cb-4302-97bd-b58b9b770bc2",
   "metadata": {
    "tags": []
   },
   "outputs": [],
   "source": []
  },
  {
   "cell_type": "code",
   "execution_count": 34,
   "id": "b21ff080-e118-4ca2-88be-bc125cb5b9f5",
   "metadata": {},
   "outputs": [],
   "source": [
    "#remove empty items from var_dict\n",
    "var_dict_ = {key:val for key, val in var_dict.items() if val != []}\n",
    "\n",
    "\n",
    "var_df = pd.DataFrame([var_dict_]).T\n",
    "var_df.columns = ['MAJIQ_IDS']\n",
    "\n"
   ]
  },
  {
   "cell_type": "code",
   "execution_count": 35,
   "id": "8dc34215-685d-4e5e-ad22-4aae173cd080",
   "metadata": {},
   "outputs": [
    {
     "data": {
      "text/html": [
       "<div>\n",
       "<style scoped>\n",
       "    .dataframe tbody tr th:only-of-type {\n",
       "        vertical-align: middle;\n",
       "    }\n",
       "\n",
       "    .dataframe tbody tr th {\n",
       "        vertical-align: top;\n",
       "    }\n",
       "\n",
       "    .dataframe thead th {\n",
       "        text-align: right;\n",
       "    }\n",
       "</style>\n",
       "<table border=\"1\" class=\"dataframe\">\n",
       "  <thead>\n",
       "    <tr style=\"text-align: right;\">\n",
       "      <th></th>\n",
       "      <th>MAJIQ_IDS</th>\n",
       "    </tr>\n",
       "  </thead>\n",
       "  <tbody>\n",
       "    <tr>\n",
       "      <th>LINC01128_chr1_851926_+</th>\n",
       "      <td>[ENSG00000228794.12_2_CE_3]</td>\n",
       "    </tr>\n",
       "    <tr>\n",
       "      <th>HES4_chr1_999614_-</th>\n",
       "      <td>[ENSG00000188290.11_1_CE_1]</td>\n",
       "    </tr>\n",
       "    <tr>\n",
       "      <th>UBE2J2_chr1_1263387_-</th>\n",
       "      <td>[ENSG00000160087.21_1_CE_3, ENSG00000160087.21...</td>\n",
       "    </tr>\n",
       "    <tr>\n",
       "      <th>INTS11_chr1_1312369_-</th>\n",
       "      <td>[ENSG00000127054.22_3_CE_1]</td>\n",
       "    </tr>\n",
       "    <tr>\n",
       "      <th>DVL1_chr1_1336516_-</th>\n",
       "      <td>[ENSG00000107404.21_12_CE_1]</td>\n",
       "    </tr>\n",
       "    <tr>\n",
       "      <th>...</th>\n",
       "      <td>...</td>\n",
       "    </tr>\n",
       "    <tr>\n",
       "      <th>ARMCX6_chrX_101617884_-</th>\n",
       "      <td>[ENSG00000198960.11_1_CE_3]</td>\n",
       "    </tr>\n",
       "    <tr>\n",
       "      <th>TCEAL4_chrX_103585625_+</th>\n",
       "      <td>[ENSG00000133142.19_1_CE_4, ENSG00000133142.19...</td>\n",
       "    </tr>\n",
       "    <tr>\n",
       "      <th>UPF3B_chrX_119843190_-</th>\n",
       "      <td>[ENSG00000125351.14_1_CE_1]</td>\n",
       "    </tr>\n",
       "    <tr>\n",
       "      <th>UPF3B_chrX_119845197_-</th>\n",
       "      <td>[ENSG00000125351.14_1_CE_2]</td>\n",
       "    </tr>\n",
       "    <tr>\n",
       "      <th>FGF13_chrX_139204058_-</th>\n",
       "      <td>[ENSG00000129682.16_2_CE_1]</td>\n",
       "    </tr>\n",
       "  </tbody>\n",
       "</table>\n",
       "<p>12349 rows × 1 columns</p>\n",
       "</div>"
      ],
      "text/plain": [
       "                                                                 MAJIQ_IDS\n",
       "LINC01128_chr1_851926_+                        [ENSG00000228794.12_2_CE_3]\n",
       "HES4_chr1_999614_-                             [ENSG00000188290.11_1_CE_1]\n",
       "UBE2J2_chr1_1263387_-    [ENSG00000160087.21_1_CE_3, ENSG00000160087.21...\n",
       "INTS11_chr1_1312369_-                          [ENSG00000127054.22_3_CE_1]\n",
       "DVL1_chr1_1336516_-                           [ENSG00000107404.21_12_CE_1]\n",
       "...                                                                    ...\n",
       "ARMCX6_chrX_101617884_-                        [ENSG00000198960.11_1_CE_3]\n",
       "TCEAL4_chrX_103585625_+  [ENSG00000133142.19_1_CE_4, ENSG00000133142.19...\n",
       "UPF3B_chrX_119843190_-                         [ENSG00000125351.14_1_CE_1]\n",
       "UPF3B_chrX_119845197_-                         [ENSG00000125351.14_1_CE_2]\n",
       "FGF13_chrX_139204058_-                         [ENSG00000129682.16_2_CE_1]\n",
       "\n",
       "[12349 rows x 1 columns]"
      ]
     },
     "execution_count": 35,
     "metadata": {},
     "output_type": "execute_result"
    }
   ],
   "source": [
    "var_df"
   ]
  },
  {
   "cell_type": "code",
   "execution_count": 36,
   "id": "b57df8ff-cdcd-4770-944c-17246af2838a",
   "metadata": {},
   "outputs": [],
   "source": [
    "var_df_ = pd.DataFrame(var_df.MAJIQ_IDS.explode())\n"
   ]
  },
  {
   "cell_type": "code",
   "execution_count": 37,
   "id": "381d196f-cf50-4d2b-8905-6996e7dff7d8",
   "metadata": {},
   "outputs": [],
   "source": [
    "# var_df_.to_csv('cassette_SJ.tsv', sep='\\t')\n",
    "               "
   ]
  },
  {
   "cell_type": "code",
   "execution_count": 38,
   "id": "9b586cb9-82ac-4302-a7d5-7a1738cb1061",
   "metadata": {
    "tags": []
   },
   "outputs": [
    {
     "data": {
      "text/plain": [
       "0         183\n",
       "1         183\n",
       "2         183\n",
       "3         183\n",
       "20        233\n",
       "         ... \n",
       "169503     36\n",
       "169508     91\n",
       "169509     91\n",
       "169510     91\n",
       "169511     91\n",
       "Name: exon_length, Length: 76672, dtype: int64"
      ]
     },
     "execution_count": 38,
     "metadata": {},
     "output_type": "execute_result"
    }
   ],
   "source": [
    "junc_frame.exon_length"
   ]
  },
  {
   "cell_type": "code",
   "execution_count": null,
   "id": "645ef072-55de-4598-b36d-a167ca343ae9",
   "metadata": {
    "tags": []
   },
   "outputs": [],
   "source": []
  },
  {
   "cell_type": "code",
   "execution_count": 39,
   "id": "bc6368cd-0f71-4cc2-b21c-70c735471b0b",
   "metadata": {
    "tags": []
   },
   "outputs": [
    {
     "name": "stderr",
     "output_type": "stream",
     "text": [
      "/scratch/derek/ipykernel_3274021/4280350618.py:3: UserWarning: \n",
      "\n",
      "`distplot` is a deprecated function and will be removed in seaborn v0.14.0.\n",
      "\n",
      "Please adapt your code to use either `displot` (a figure-level function with\n",
      "similar flexibility) or `histplot` (an axes-level function for histograms).\n",
      "\n",
      "For a guide to updating your code to use the new functions, please see\n",
      "https://gist.github.com/mwaskom/de44147ed2974457ad6372750bbe5751\n",
      "\n",
      "  sns.distplot(junc_frame[junc_frame.exon_length <= 30].exon_length, kde=False, bins=30,\n"
     ]
    },
    {
     "data": {
      "text/plain": [
       "<Axes: xlabel='exon_length'>"
      ]
     },
     "execution_count": 39,
     "metadata": {},
     "output_type": "execute_result"
    },
    {
     "data": {
      "image/png": "[encoded data removed]",
      "text/plain": [
       "<Figure size 400x400 with 1 Axes>"
      ]
     },
     "metadata": {},
     "output_type": "display_data"
    }
   ],
   "source": [
    "fig, ax = plt.subplots(figsize=(4,4)) \n",
    "\n",
    "sns.distplot(junc_frame[junc_frame.exon_length <= 30].exon_length, kde=False, bins=30, \n",
    "            ax=ax)"
   ]
  },
  {
   "cell_type": "code",
   "execution_count": null,
   "id": "0392c1ce-a510-4913-aedb-6d94e1bf86c1",
   "metadata": {},
   "outputs": [],
   "source": []
  },
  {
   "cell_type": "code",
   "execution_count": null,
   "id": "1a9b6e18-0a58-4a72-aa8e-a74c02e46d8d",
   "metadata": {},
   "outputs": [],
   "source": []
  },
  {
   "cell_type": "code",
   "execution_count": 40,
   "id": "0060b9eb-772e-4ebb-9d47-c4fc1b77edf1",
   "metadata": {
    "tags": []
   },
   "outputs": [
    {
     "name": "stdout",
     "output_type": "stream",
     "text": [
      "CPU times: user 1min 34s, sys: 42.9 ms, total: 1min 34s\n",
      "Wall time: 1min 35s\n"
     ]
    }
   ],
   "source": [
    "%%time\n",
    "# from each group of introns, select the var_name associated with cassette exons (C2_A or C1_A depending on grouping polarity)\n",
    "\n",
    "junc_dict = {}\n",
    "\n",
    "# for each intron group\n",
    "for intron_group, majiq_id in var_df_.iterrows():\n",
    "    \n",
    "    #get the introns belonging to that intron group\n",
    "    var_intron_group = var[var.intron_group == intron_group]\n",
    "    \n",
    "    #get the MAJIQ event based on MAJIQ event id\n",
    "    event = junc_frame[junc_frame.MAJIQ_event_id == majiq_id['MAJIQ_IDS']]\n",
    "    \n",
    "    # if grouping is by threeprime\n",
    "    if (var_intron_group.grouping.iloc[0] == 'three_prime'):\n",
    "        \n",
    "        #cassette inclusion event is C2_A\n",
    "        event_A = event[event.MAJIQ_event_name == 'C2_A']\n",
    "        \n",
    "        var_name = var_intron_group[var_intron_group.var_name == event_A.var_name.values[0]]\n",
    "        \n",
    "        junc_dict[var_name['var_name'].values[0]] = majiq_id.values[0]\n",
    "        \n",
    "    elif (var_intron_group.grouping.iloc[0] == 'five_prime'):       \n",
    "        event_A = event[event.MAJIQ_event_name == 'C1_A']\n",
    "        \n",
    "        var_name = var_intron_group[var_intron_group.var_name == event_A.var_name.values[0]]\n",
    "        \n",
    "        junc_dict[var_name['var_name'].values[0]] = majiq_id.values[0]\n"
   ]
  },
  {
   "cell_type": "code",
   "execution_count": 41,
   "id": "f62a7a24-41ad-4efc-b415-1cffb11c619e",
   "metadata": {},
   "outputs": [
    {
     "ename": "SyntaxError",
     "evalue": "'break' outside loop (668683560.py, line 1)",
     "output_type": "error",
     "traceback": [
      "\u001b[0;36m  Cell \u001b[0;32mIn[41], line 1\u001b[0;36m\u001b[0m\n\u001b[0;31m    break\u001b[0m\n\u001b[0m    ^\u001b[0m\n\u001b[0;31mSyntaxError\u001b[0m\u001b[0;31m:\u001b[0m 'break' outside loop\n"
     ]
    }
   ],
   "source": [
    "break"
   ]
  },
  {
   "cell_type": "code",
   "execution_count": null,
   "id": "0ae8cff8-3ffb-4b70-84ab-ac3e27c8ac37",
   "metadata": {},
   "outputs": [],
   "source": [
    "len(junc_dict)"
   ]
  },
  {
   "cell_type": "code",
   "execution_count": null,
   "id": "f873f34d-de2e-4d82-aecf-b493891c15f2",
   "metadata": {
    "tags": []
   },
   "outputs": [],
   "source": [
    "# junc_frame.to_csv('cassette_SJ.tsv', sep='\\t')"
   ]
  },
  {
   "cell_type": "code",
   "execution_count": null,
   "id": "eefcaae3-f94c-4fba-b0bd-c06413cdf503",
   "metadata": {},
   "outputs": [],
   "source": [
    "junc_frame"
   ]
  },
  {
   "cell_type": "code",
   "execution_count": 42,
   "id": "94145cf8-b205-430e-ba7d-6d25a64fc570",
   "metadata": {},
   "outputs": [
    {
     "data": {
      "text/plain": [
       "'/nowakowskilab/data1/derek/data_scSLR/prenatal_brain/deep_splicing/transfer_learning'"
      ]
     },
     "execution_count": 42,
     "metadata": {},
     "output_type": "execute_result"
    }
   ],
   "source": [
    "pwd"
   ]
  },
  {
   "cell_type": "code",
   "execution_count": null,
   "id": "8a657644-27ad-41ee-804c-db0c548a203c",
   "metadata": {},
   "outputs": [],
   "source": []
  },
  {
   "cell_type": "code",
   "execution_count": null,
   "id": "100cd6c1-0003-472a-9065-13c42850a5ba",
   "metadata": {},
   "outputs": [],
   "source": []
  },
  {
   "cell_type": "markdown",
   "id": "097b6e1b-262f-4025-bdab-2ae7b33a581e",
   "metadata": {},
   "source": [
    "# get MAJIQ motif analysis exons "
   ]
  },
  {
   "cell_type": "code",
   "execution_count": 43,
   "id": "00973597-856c-47a9-a562-c345f25f1edc",
   "metadata": {
    "tags": []
   },
   "outputs": [],
   "source": [
    "# current workflow uses significant differentially spliced exons at delta PSI of 0.1, utlizing the file \n",
    "# '/nowakowskilab/data1/derek/scSLR/notebooks/fig3/sig_dif_0.1.csv'"
   ]
  },
  {
   "cell_type": "code",
   "execution_count": null,
   "id": "48112174-1af4-4055-9dbd-725b46dbb519",
   "metadata": {},
   "outputs": [],
   "source": []
  },
  {
   "cell_type": "code",
   "execution_count": null,
   "id": "3cfc7ab2-e0c6-4eeb-8c67-6c7fe5ce3e81",
   "metadata": {},
   "outputs": [],
   "source": []
  },
  {
   "cell_type": "code",
   "execution_count": 44,
   "id": "445e49c6-1ae4-4308-9c6a-5896f95597c6",
   "metadata": {
    "tags": []
   },
   "outputs": [],
   "source": [
    "# get scquint DS results between celltypes\n",
    "sig_dif = pd.read_csv('/nowakowskilab/data1/derek/data_scSLR/prenatal_brain/dif_RG_EN.csv',index_col=0)"
   ]
  },
  {
   "cell_type": "code",
   "execution_count": 45,
   "id": "ac318e97-87b7-466f-9083-6dd1e4f2be4b",
   "metadata": {
    "tags": []
   },
   "outputs": [
    {
     "data": {
      "text/plain": [
       "EN    45485\n",
       "RG    45485\n",
       "Name: test_group, dtype: int64"
      ]
     },
     "execution_count": 45,
     "metadata": {},
     "output_type": "execute_result"
    }
   ],
   "source": [
    "sig_dif.test_group.value_counts()"
   ]
  },
  {
   "cell_type": "code",
   "execution_count": 46,
   "id": "203277a9-ec9d-4f40-b552-a95316fe6f11",
   "metadata": {
    "tags": []
   },
   "outputs": [],
   "source": [
    "sig_dif_intron_groups = pd.read_csv('/nowakowskilab/data1/derek/data_scSLR/prenatal_brain/dif_intron_groups_RG_EN.csv',index_col=0)"
   ]
  },
  {
   "cell_type": "code",
   "execution_count": 47,
   "id": "b3fd1a88-3196-412a-92db-c4fb1db9ba1a",
   "metadata": {
    "tags": []
   },
   "outputs": [
    {
     "data": {
      "text/html": [
       "<div>\n",
       "<style scoped>\n",
       "    .dataframe tbody tr th:only-of-type {\n",
       "        vertical-align: middle;\n",
       "    }\n",
       "\n",
       "    .dataframe tbody tr th {\n",
       "        vertical-align: top;\n",
       "    }\n",
       "\n",
       "    .dataframe thead th {\n",
       "        text-align: right;\n",
       "    }\n",
       "</style>\n",
       "<table border=\"1\" class=\"dataframe\">\n",
       "  <thead>\n",
       "    <tr style=\"text-align: right;\">\n",
       "      <th></th>\n",
       "      <th>p_value</th>\n",
       "      <th>ll_null</th>\n",
       "      <th>ll</th>\n",
       "      <th>n_classes</th>\n",
       "      <th>gene_id</th>\n",
       "      <th>gene_name</th>\n",
       "      <th>max_abs_delta_psi</th>\n",
       "      <th>max_abs_lfc_psi</th>\n",
       "      <th>ranking</th>\n",
       "      <th>p_value_adj</th>\n",
       "      <th>test_group</th>\n",
       "      <th>name</th>\n",
       "    </tr>\n",
       "  </thead>\n",
       "  <tbody>\n",
       "    <tr>\n",
       "      <th>0</th>\n",
       "      <td>0.000000e+00</td>\n",
       "      <td>-2590.125947</td>\n",
       "      <td>-1607.275283</td>\n",
       "      <td>4</td>\n",
       "      <td>ENSG00000185942</td>\n",
       "      <td>NKAIN3</td>\n",
       "      <td>7.239330e-01</td>\n",
       "      <td>3.275057</td>\n",
       "      <td>0</td>\n",
       "      <td>0.000000e+00</td>\n",
       "      <td>EN</td>\n",
       "      <td>NKAIN3_chr8_62965353_+</td>\n",
       "    </tr>\n",
       "    <tr>\n",
       "      <th>1</th>\n",
       "      <td>0.000000e+00</td>\n",
       "      <td>-12173.814438</td>\n",
       "      <td>-11457.575189</td>\n",
       "      <td>2</td>\n",
       "      <td>ENSG00000245910</td>\n",
       "      <td>SNHG6</td>\n",
       "      <td>2.565948e-01</td>\n",
       "      <td>1.318461</td>\n",
       "      <td>1</td>\n",
       "      <td>0.000000e+00</td>\n",
       "      <td>EN</td>\n",
       "      <td>SNHG6_chr8_66922115_-</td>\n",
       "    </tr>\n",
       "    <tr>\n",
       "      <th>2</th>\n",
       "      <td>0.000000e+00</td>\n",
       "      <td>-1285.864723</td>\n",
       "      <td>-553.625026</td>\n",
       "      <td>2</td>\n",
       "      <td>ENSG00000047932</td>\n",
       "      <td>GOPC</td>\n",
       "      <td>6.763550e-01</td>\n",
       "      <td>5.672242</td>\n",
       "      <td>2</td>\n",
       "      <td>0.000000e+00</td>\n",
       "      <td>EN</td>\n",
       "      <td>GOPC_chr6_117578899_-</td>\n",
       "    </tr>\n",
       "    <tr>\n",
       "      <th>3</th>\n",
       "      <td>1.206608e-236</td>\n",
       "      <td>-10799.703811</td>\n",
       "      <td>-10260.200156</td>\n",
       "      <td>2</td>\n",
       "      <td>ENSG00000092841</td>\n",
       "      <td>MYL6</td>\n",
       "      <td>1.837367e-01</td>\n",
       "      <td>1.321217</td>\n",
       "      <td>3</td>\n",
       "      <td>5.746167e-233</td>\n",
       "      <td>EN</td>\n",
       "      <td>MYL6_chr12_56161386_+</td>\n",
       "    </tr>\n",
       "    <tr>\n",
       "      <th>4</th>\n",
       "      <td>2.979914e-200</td>\n",
       "      <td>-2169.850458</td>\n",
       "      <td>-1714.059809</td>\n",
       "      <td>2</td>\n",
       "      <td>ENSG00000046653</td>\n",
       "      <td>GPM6B</td>\n",
       "      <td>3.891799e-01</td>\n",
       "      <td>3.049499</td>\n",
       "      <td>4</td>\n",
       "      <td>1.135288e-196</td>\n",
       "      <td>EN</td>\n",
       "      <td>GPM6B_chrX_13776237_-</td>\n",
       "    </tr>\n",
       "    <tr>\n",
       "      <th>...</th>\n",
       "      <td>...</td>\n",
       "      <td>...</td>\n",
       "      <td>...</td>\n",
       "      <td>...</td>\n",
       "      <td>...</td>\n",
       "      <td>...</td>\n",
       "      <td>...</td>\n",
       "      <td>...</td>\n",
       "      <td>...</td>\n",
       "      <td>...</td>\n",
       "      <td>...</td>\n",
       "      <td>...</td>\n",
       "    </tr>\n",
       "    <tr>\n",
       "      <th>38093</th>\n",
       "      <td>1.000000e+00</td>\n",
       "      <td>-107.106151</td>\n",
       "      <td>-107.106151</td>\n",
       "      <td>2</td>\n",
       "      <td>ENSG00000169255</td>\n",
       "      <td>B3GALNT1</td>\n",
       "      <td>4.973996e-06</td>\n",
       "      <td>0.000115</td>\n",
       "      <td>19044</td>\n",
       "      <td>1.000000e+00</td>\n",
       "      <td>RG</td>\n",
       "      <td>B3GALNT1_chr3_161104318_-</td>\n",
       "    </tr>\n",
       "    <tr>\n",
       "      <th>38094</th>\n",
       "      <td>1.000000e+00</td>\n",
       "      <td>-70.834484</td>\n",
       "      <td>-70.834485</td>\n",
       "      <td>2</td>\n",
       "      <td>ENSG00000186522</td>\n",
       "      <td>SEPTIN10</td>\n",
       "      <td>1.432516e-05</td>\n",
       "      <td>0.000207</td>\n",
       "      <td>19045</td>\n",
       "      <td>1.000000e+00</td>\n",
       "      <td>RG</td>\n",
       "      <td>SEPTIN10_chr2_109613797_-</td>\n",
       "    </tr>\n",
       "    <tr>\n",
       "      <th>38095</th>\n",
       "      <td>1.000000e+00</td>\n",
       "      <td>-108.034553</td>\n",
       "      <td>-108.034553</td>\n",
       "      <td>2</td>\n",
       "      <td>ENSG00000126226</td>\n",
       "      <td>PCID2</td>\n",
       "      <td>1.385728e-07</td>\n",
       "      <td>0.000006</td>\n",
       "      <td>19046</td>\n",
       "      <td>1.000000e+00</td>\n",
       "      <td>RG</td>\n",
       "      <td>PCID2_chr13_113178288_-</td>\n",
       "    </tr>\n",
       "    <tr>\n",
       "      <th>38096</th>\n",
       "      <td>1.000000e+00</td>\n",
       "      <td>-40.032194</td>\n",
       "      <td>-40.032194</td>\n",
       "      <td>2</td>\n",
       "      <td>ENSG00000247950</td>\n",
       "      <td>SEC24B-AS1</td>\n",
       "      <td>2.783323e-07</td>\n",
       "      <td>0.000002</td>\n",
       "      <td>19047</td>\n",
       "      <td>1.000000e+00</td>\n",
       "      <td>RG</td>\n",
       "      <td>SEC24B-AS1_chr4_109431747_-</td>\n",
       "    </tr>\n",
       "    <tr>\n",
       "      <th>38097</th>\n",
       "      <td>1.000000e+00</td>\n",
       "      <td>-41.621472</td>\n",
       "      <td>-41.621473</td>\n",
       "      <td>2</td>\n",
       "      <td>ENSG00000196305</td>\n",
       "      <td>IARS</td>\n",
       "      <td>1.648026e-05</td>\n",
       "      <td>0.000309</td>\n",
       "      <td>19048</td>\n",
       "      <td>1.000000e+00</td>\n",
       "      <td>RG</td>\n",
       "      <td>IARS_chr9_92285840_-</td>\n",
       "    </tr>\n",
       "  </tbody>\n",
       "</table>\n",
       "<p>38098 rows × 12 columns</p>\n",
       "</div>"
      ],
      "text/plain": [
       "             p_value       ll_null            ll  n_classes          gene_id  \\\n",
       "0       0.000000e+00  -2590.125947  -1607.275283          4  ENSG00000185942   \n",
       "1       0.000000e+00 -12173.814438 -11457.575189          2  ENSG00000245910   \n",
       "2       0.000000e+00  -1285.864723   -553.625026          2  ENSG00000047932   \n",
       "3      1.206608e-236 -10799.703811 -10260.200156          2  ENSG00000092841   \n",
       "4      2.979914e-200  -2169.850458  -1714.059809          2  ENSG00000046653   \n",
       "...              ...           ...           ...        ...              ...   \n",
       "38093   1.000000e+00   -107.106151   -107.106151          2  ENSG00000169255   \n",
       "38094   1.000000e+00    -70.834484    -70.834485          2  ENSG00000186522   \n",
       "38095   1.000000e+00   -108.034553   -108.034553          2  ENSG00000126226   \n",
       "38096   1.000000e+00    -40.032194    -40.032194          2  ENSG00000247950   \n",
       "38097   1.000000e+00    -41.621472    -41.621473          2  ENSG00000196305   \n",
       "\n",
       "        gene_name  max_abs_delta_psi  max_abs_lfc_psi  ranking    p_value_adj  \\\n",
       "0          NKAIN3       7.239330e-01         3.275057        0   0.000000e+00   \n",
       "1           SNHG6       2.565948e-01         1.318461        1   0.000000e+00   \n",
       "2            GOPC       6.763550e-01         5.672242        2   0.000000e+00   \n",
       "3            MYL6       1.837367e-01         1.321217        3  5.746167e-233   \n",
       "4           GPM6B       3.891799e-01         3.049499        4  1.135288e-196   \n",
       "...           ...                ...              ...      ...            ...   \n",
       "38093    B3GALNT1       4.973996e-06         0.000115    19044   1.000000e+00   \n",
       "38094    SEPTIN10       1.432516e-05         0.000207    19045   1.000000e+00   \n",
       "38095       PCID2       1.385728e-07         0.000006    19046   1.000000e+00   \n",
       "38096  SEC24B-AS1       2.783323e-07         0.000002    19047   1.000000e+00   \n",
       "38097        IARS       1.648026e-05         0.000309    19048   1.000000e+00   \n",
       "\n",
       "      test_group                         name  \n",
       "0             EN       NKAIN3_chr8_62965353_+  \n",
       "1             EN        SNHG6_chr8_66922115_-  \n",
       "2             EN        GOPC_chr6_117578899_-  \n",
       "3             EN        MYL6_chr12_56161386_+  \n",
       "4             EN        GPM6B_chrX_13776237_-  \n",
       "...          ...                          ...  \n",
       "38093         RG    B3GALNT1_chr3_161104318_-  \n",
       "38094         RG    SEPTIN10_chr2_109613797_-  \n",
       "38095         RG      PCID2_chr13_113178288_-  \n",
       "38096         RG  SEC24B-AS1_chr4_109431747_-  \n",
       "38097         RG         IARS_chr9_92285840_-  \n",
       "\n",
       "[38098 rows x 12 columns]"
      ]
     },
     "execution_count": 47,
     "metadata": {},
     "output_type": "execute_result"
    }
   ],
   "source": [
    "sig_dif_intron_groups"
   ]
  },
  {
   "cell_type": "code",
   "execution_count": 48,
   "id": "4b3e30a7-dc86-4101-ae9a-b35acfb356dd",
   "metadata": {
    "tags": []
   },
   "outputs": [],
   "source": [
    "sig_dif['MAJIQ_event_id'] = sig_dif.name.map(junc_dict)"
   ]
  },
  {
   "cell_type": "code",
   "execution_count": 49,
   "id": "269b25a8-bd8a-4c52-aced-7833a8df99d1",
   "metadata": {
    "tags": []
   },
   "outputs": [
    {
     "data": {
      "text/html": [
       "<div>\n",
       "<style scoped>\n",
       "    .dataframe tbody tr th:only-of-type {\n",
       "        vertical-align: middle;\n",
       "    }\n",
       "\n",
       "    .dataframe tbody tr th {\n",
       "        vertical-align: top;\n",
       "    }\n",
       "\n",
       "    .dataframe thead th {\n",
       "        text-align: right;\n",
       "    }\n",
       "</style>\n",
       "<table border=\"1\" class=\"dataframe\">\n",
       "  <thead>\n",
       "    <tr style=\"text-align: right;\">\n",
       "      <th></th>\n",
       "      <th>chromosome</th>\n",
       "      <th>start</th>\n",
       "      <th>end</th>\n",
       "      <th>strand</th>\n",
       "      <th>intron_motif</th>\n",
       "      <th>n_cells</th>\n",
       "      <th>gene_id_start</th>\n",
       "      <th>gene_id_end</th>\n",
       "      <th>n_genes</th>\n",
       "      <th>gene_id</th>\n",
       "      <th>gene_name</th>\n",
       "      <th>size</th>\n",
       "      <th>intron_group</th>\n",
       "      <th>intron_group_size</th>\n",
       "      <th>n_genes_per_intron_group</th>\n",
       "      <th>grouping</th>\n",
       "      <th>psi_a</th>\n",
       "      <th>psi_b</th>\n",
       "      <th>delta_psi</th>\n",
       "      <th>lfc_psi</th>\n",
       "      <th>abs_delta_psi</th>\n",
       "      <th>abs_lfc_psi</th>\n",
       "      <th>test_group</th>\n",
       "      <th>name</th>\n",
       "      <th>MAJIQ_event_id</th>\n",
       "    </tr>\n",
       "  </thead>\n",
       "  <tbody>\n",
       "    <tr>\n",
       "      <th>0</th>\n",
       "      <td>chr1</td>\n",
       "      <td>944801</td>\n",
       "      <td>945041</td>\n",
       "      <td>-</td>\n",
       "      <td>2</td>\n",
       "      <td>77</td>\n",
       "      <td>ENSG00000188976</td>\n",
       "      <td>ENSG00000188976</td>\n",
       "      <td>1</td>\n",
       "      <td>ENSG00000188976</td>\n",
       "      <td>NOC2L</td>\n",
       "      <td>240</td>\n",
       "      <td>NOC2L_chr1_944801_-</td>\n",
       "      <td>2</td>\n",
       "      <td>1</td>\n",
       "      <td>three_prime</td>\n",
       "      <td>0.227723</td>\n",
       "      <td>0.212122</td>\n",
       "      <td>0.015601</td>\n",
       "      <td>0.102388</td>\n",
       "      <td>0.015601</td>\n",
       "      <td>0.102388</td>\n",
       "      <td>EN</td>\n",
       "      <td>NOC2L_chr1:944801-945041</td>\n",
       "      <td>NaN</td>\n",
       "    </tr>\n",
       "    <tr>\n",
       "      <th>1</th>\n",
       "      <td>chr1</td>\n",
       "      <td>944801</td>\n",
       "      <td>945056</td>\n",
       "      <td>-</td>\n",
       "      <td>2</td>\n",
       "      <td>244</td>\n",
       "      <td>ENSG00000188976</td>\n",
       "      <td>ENSG00000188976</td>\n",
       "      <td>1</td>\n",
       "      <td>ENSG00000188976</td>\n",
       "      <td>NOC2L</td>\n",
       "      <td>255</td>\n",
       "      <td>NOC2L_chr1_944801_-</td>\n",
       "      <td>2</td>\n",
       "      <td>1</td>\n",
       "      <td>three_prime</td>\n",
       "      <td>0.772277</td>\n",
       "      <td>0.787878</td>\n",
       "      <td>-0.015601</td>\n",
       "      <td>-0.028855</td>\n",
       "      <td>0.015601</td>\n",
       "      <td>0.028855</td>\n",
       "      <td>EN</td>\n",
       "      <td>NOC2L_chr1:944801-945056</td>\n",
       "      <td>NaN</td>\n",
       "    </tr>\n",
       "    <tr>\n",
       "      <th>2</th>\n",
       "      <td>chr1</td>\n",
       "      <td>999433</td>\n",
       "      <td>999525</td>\n",
       "      <td>-</td>\n",
       "      <td>2</td>\n",
       "      <td>1790</td>\n",
       "      <td>ENSG00000188290</td>\n",
       "      <td>ENSG00000188290</td>\n",
       "      <td>1</td>\n",
       "      <td>ENSG00000188290</td>\n",
       "      <td>HES4</td>\n",
       "      <td>92</td>\n",
       "      <td>HES4_chr1_999433_-</td>\n",
       "      <td>2</td>\n",
       "      <td>1</td>\n",
       "      <td>three_prime</td>\n",
       "      <td>0.965646</td>\n",
       "      <td>0.975540</td>\n",
       "      <td>-0.009894</td>\n",
       "      <td>-0.014707</td>\n",
       "      <td>0.009894</td>\n",
       "      <td>0.014707</td>\n",
       "      <td>EN</td>\n",
       "      <td>HES4_chr1:999433-999525</td>\n",
       "      <td>NaN</td>\n",
       "    </tr>\n",
       "    <tr>\n",
       "      <th>3</th>\n",
       "      <td>chr1</td>\n",
       "      <td>999433</td>\n",
       "      <td>999532</td>\n",
       "      <td>-</td>\n",
       "      <td>2</td>\n",
       "      <td>63</td>\n",
       "      <td>ENSG00000188290</td>\n",
       "      <td>NaN</td>\n",
       "      <td>1</td>\n",
       "      <td>ENSG00000188290</td>\n",
       "      <td>HES4</td>\n",
       "      <td>99</td>\n",
       "      <td>HES4_chr1_999433_-</td>\n",
       "      <td>2</td>\n",
       "      <td>1</td>\n",
       "      <td>three_prime</td>\n",
       "      <td>0.034354</td>\n",
       "      <td>0.024460</td>\n",
       "      <td>0.009894</td>\n",
       "      <td>0.490074</td>\n",
       "      <td>0.009894</td>\n",
       "      <td>0.490074</td>\n",
       "      <td>EN</td>\n",
       "      <td>HES4_chr1:999433-999532</td>\n",
       "      <td>NaN</td>\n",
       "    </tr>\n",
       "    <tr>\n",
       "      <th>4</th>\n",
       "      <td>chr1</td>\n",
       "      <td>999614</td>\n",
       "      <td>999691</td>\n",
       "      <td>-</td>\n",
       "      <td>2</td>\n",
       "      <td>724</td>\n",
       "      <td>ENSG00000188290</td>\n",
       "      <td>ENSG00000188290</td>\n",
       "      <td>1</td>\n",
       "      <td>ENSG00000188290</td>\n",
       "      <td>HES4</td>\n",
       "      <td>77</td>\n",
       "      <td>HES4_chr1_999614_-</td>\n",
       "      <td>2</td>\n",
       "      <td>1</td>\n",
       "      <td>three_prime</td>\n",
       "      <td>0.781873</td>\n",
       "      <td>0.759705</td>\n",
       "      <td>0.022168</td>\n",
       "      <td>0.041494</td>\n",
       "      <td>0.022168</td>\n",
       "      <td>0.041494</td>\n",
       "      <td>EN</td>\n",
       "      <td>HES4_chr1:999614-999691</td>\n",
       "      <td>ENSG00000188290.11_1_CE_1</td>\n",
       "    </tr>\n",
       "    <tr>\n",
       "      <th>...</th>\n",
       "      <td>...</td>\n",
       "      <td>...</td>\n",
       "      <td>...</td>\n",
       "      <td>...</td>\n",
       "      <td>...</td>\n",
       "      <td>...</td>\n",
       "      <td>...</td>\n",
       "      <td>...</td>\n",
       "      <td>...</td>\n",
       "      <td>...</td>\n",
       "      <td>...</td>\n",
       "      <td>...</td>\n",
       "      <td>...</td>\n",
       "      <td>...</td>\n",
       "      <td>...</td>\n",
       "      <td>...</td>\n",
       "      <td>...</td>\n",
       "      <td>...</td>\n",
       "      <td>...</td>\n",
       "      <td>...</td>\n",
       "      <td>...</td>\n",
       "      <td>...</td>\n",
       "      <td>...</td>\n",
       "      <td>...</td>\n",
       "      <td>...</td>\n",
       "    </tr>\n",
       "    <tr>\n",
       "      <th>90965</th>\n",
       "      <td>chrX</td>\n",
       "      <td>119841779</td>\n",
       "      <td>119843190</td>\n",
       "      <td>-</td>\n",
       "      <td>2</td>\n",
       "      <td>3102</td>\n",
       "      <td>ENSG00000125351</td>\n",
       "      <td>ENSG00000125351</td>\n",
       "      <td>1</td>\n",
       "      <td>ENSG00000125351</td>\n",
       "      <td>UPF3B</td>\n",
       "      <td>1411</td>\n",
       "      <td>UPF3B_chrX_119843190_-</td>\n",
       "      <td>2</td>\n",
       "      <td>1</td>\n",
       "      <td>five_prime</td>\n",
       "      <td>0.972346</td>\n",
       "      <td>0.971372</td>\n",
       "      <td>0.000974</td>\n",
       "      <td>0.001446</td>\n",
       "      <td>0.000974</td>\n",
       "      <td>0.001446</td>\n",
       "      <td>RG</td>\n",
       "      <td>UPF3B_chrX:119841779-119843190</td>\n",
       "      <td>ENSG00000125351.14_1_CE_1</td>\n",
       "    </tr>\n",
       "    <tr>\n",
       "      <th>90966</th>\n",
       "      <td>chrX</td>\n",
       "      <td>129447234</td>\n",
       "      <td>129448332</td>\n",
       "      <td>-</td>\n",
       "      <td>2</td>\n",
       "      <td>460</td>\n",
       "      <td>ENSG00000102038</td>\n",
       "      <td>ENSG00000102038</td>\n",
       "      <td>1</td>\n",
       "      <td>ENSG00000102038</td>\n",
       "      <td>SMARCA1</td>\n",
       "      <td>1098</td>\n",
       "      <td>SMARCA1_chrX_129448332_-</td>\n",
       "      <td>2</td>\n",
       "      <td>1</td>\n",
       "      <td>five_prime</td>\n",
       "      <td>0.764646</td>\n",
       "      <td>0.822617</td>\n",
       "      <td>-0.057971</td>\n",
       "      <td>-0.105429</td>\n",
       "      <td>0.057971</td>\n",
       "      <td>0.105429</td>\n",
       "      <td>RG</td>\n",
       "      <td>SMARCA1_chrX:129447234-129448332</td>\n",
       "      <td>NaN</td>\n",
       "    </tr>\n",
       "    <tr>\n",
       "      <th>90967</th>\n",
       "      <td>chrX</td>\n",
       "      <td>129447302</td>\n",
       "      <td>129448332</td>\n",
       "      <td>-</td>\n",
       "      <td>2</td>\n",
       "      <td>120</td>\n",
       "      <td>ENSG00000102038</td>\n",
       "      <td>ENSG00000102038</td>\n",
       "      <td>1</td>\n",
       "      <td>ENSG00000102038</td>\n",
       "      <td>SMARCA1</td>\n",
       "      <td>1030</td>\n",
       "      <td>SMARCA1_chrX_129448332_-</td>\n",
       "      <td>2</td>\n",
       "      <td>1</td>\n",
       "      <td>five_prime</td>\n",
       "      <td>0.235354</td>\n",
       "      <td>0.177383</td>\n",
       "      <td>0.057971</td>\n",
       "      <td>0.407964</td>\n",
       "      <td>0.057971</td>\n",
       "      <td>0.407964</td>\n",
       "      <td>RG</td>\n",
       "      <td>SMARCA1_chrX:129447302-129448332</td>\n",
       "      <td>NaN</td>\n",
       "    </tr>\n",
       "    <tr>\n",
       "      <th>90968</th>\n",
       "      <td>chrX</td>\n",
       "      <td>138708929</td>\n",
       "      <td>139204058</td>\n",
       "      <td>-</td>\n",
       "      <td>2</td>\n",
       "      <td>223</td>\n",
       "      <td>ENSG00000129682</td>\n",
       "      <td>ENSG00000129682</td>\n",
       "      <td>1</td>\n",
       "      <td>ENSG00000129682</td>\n",
       "      <td>FGF13</td>\n",
       "      <td>495129</td>\n",
       "      <td>FGF13_chrX_139204058_-</td>\n",
       "      <td>2</td>\n",
       "      <td>1</td>\n",
       "      <td>five_prime</td>\n",
       "      <td>0.178572</td>\n",
       "      <td>0.271627</td>\n",
       "      <td>-0.093056</td>\n",
       "      <td>-0.605125</td>\n",
       "      <td>0.093056</td>\n",
       "      <td>0.605125</td>\n",
       "      <td>RG</td>\n",
       "      <td>FGF13_chrX:138708929-139204058</td>\n",
       "      <td>NaN</td>\n",
       "    </tr>\n",
       "    <tr>\n",
       "      <th>90969</th>\n",
       "      <td>chrX</td>\n",
       "      <td>138857680</td>\n",
       "      <td>139204058</td>\n",
       "      <td>-</td>\n",
       "      <td>2</td>\n",
       "      <td>611</td>\n",
       "      <td>ENSG00000129682</td>\n",
       "      <td>ENSG00000129682</td>\n",
       "      <td>1</td>\n",
       "      <td>ENSG00000129682</td>\n",
       "      <td>FGF13</td>\n",
       "      <td>346378</td>\n",
       "      <td>FGF13_chrX_139204058_-</td>\n",
       "      <td>2</td>\n",
       "      <td>1</td>\n",
       "      <td>five_prime</td>\n",
       "      <td>0.821428</td>\n",
       "      <td>0.728373</td>\n",
       "      <td>0.093056</td>\n",
       "      <td>0.173458</td>\n",
       "      <td>0.093056</td>\n",
       "      <td>0.173458</td>\n",
       "      <td>RG</td>\n",
       "      <td>FGF13_chrX:138857680-139204058</td>\n",
       "      <td>ENSG00000129682.16_2_CE_1</td>\n",
       "    </tr>\n",
       "  </tbody>\n",
       "</table>\n",
       "<p>90970 rows × 25 columns</p>\n",
       "</div>"
      ],
      "text/plain": [
       "      chromosome      start        end strand  intron_motif  n_cells  \\\n",
       "0           chr1     944801     945041      -             2       77   \n",
       "1           chr1     944801     945056      -             2      244   \n",
       "2           chr1     999433     999525      -             2     1790   \n",
       "3           chr1     999433     999532      -             2       63   \n",
       "4           chr1     999614     999691      -             2      724   \n",
       "...          ...        ...        ...    ...           ...      ...   \n",
       "90965       chrX  119841779  119843190      -             2     3102   \n",
       "90966       chrX  129447234  129448332      -             2      460   \n",
       "90967       chrX  129447302  129448332      -             2      120   \n",
       "90968       chrX  138708929  139204058      -             2      223   \n",
       "90969       chrX  138857680  139204058      -             2      611   \n",
       "\n",
       "         gene_id_start      gene_id_end  n_genes          gene_id gene_name  \\\n",
       "0      ENSG00000188976  ENSG00000188976        1  ENSG00000188976     NOC2L   \n",
       "1      ENSG00000188976  ENSG00000188976        1  ENSG00000188976     NOC2L   \n",
       "2      ENSG00000188290  ENSG00000188290        1  ENSG00000188290      HES4   \n",
       "3      ENSG00000188290              NaN        1  ENSG00000188290      HES4   \n",
       "4      ENSG00000188290  ENSG00000188290        1  ENSG00000188290      HES4   \n",
       "...                ...              ...      ...              ...       ...   \n",
       "90965  ENSG00000125351  ENSG00000125351        1  ENSG00000125351     UPF3B   \n",
       "90966  ENSG00000102038  ENSG00000102038        1  ENSG00000102038   SMARCA1   \n",
       "90967  ENSG00000102038  ENSG00000102038        1  ENSG00000102038   SMARCA1   \n",
       "90968  ENSG00000129682  ENSG00000129682        1  ENSG00000129682     FGF13   \n",
       "90969  ENSG00000129682  ENSG00000129682        1  ENSG00000129682     FGF13   \n",
       "\n",
       "         size              intron_group  intron_group_size  \\\n",
       "0         240       NOC2L_chr1_944801_-                  2   \n",
       "1         255       NOC2L_chr1_944801_-                  2   \n",
       "2          92        HES4_chr1_999433_-                  2   \n",
       "3          99        HES4_chr1_999433_-                  2   \n",
       "4          77        HES4_chr1_999614_-                  2   \n",
       "...       ...                       ...                ...   \n",
       "90965    1411    UPF3B_chrX_119843190_-                  2   \n",
       "90966    1098  SMARCA1_chrX_129448332_-                  2   \n",
       "90967    1030  SMARCA1_chrX_129448332_-                  2   \n",
       "90968  495129    FGF13_chrX_139204058_-                  2   \n",
       "90969  346378    FGF13_chrX_139204058_-                  2   \n",
       "\n",
       "       n_genes_per_intron_group     grouping     psi_a     psi_b  delta_psi  \\\n",
       "0                             1  three_prime  0.227723  0.212122   0.015601   \n",
       "1                             1  three_prime  0.772277  0.787878  -0.015601   \n",
       "2                             1  three_prime  0.965646  0.975540  -0.009894   \n",
       "3                             1  three_prime  0.034354  0.024460   0.009894   \n",
       "4                             1  three_prime  0.781873  0.759705   0.022168   \n",
       "...                         ...          ...       ...       ...        ...   \n",
       "90965                         1   five_prime  0.972346  0.971372   0.000974   \n",
       "90966                         1   five_prime  0.764646  0.822617  -0.057971   \n",
       "90967                         1   five_prime  0.235354  0.177383   0.057971   \n",
       "90968                         1   five_prime  0.178572  0.271627  -0.093056   \n",
       "90969                         1   five_prime  0.821428  0.728373   0.093056   \n",
       "\n",
       "        lfc_psi  abs_delta_psi  abs_lfc_psi test_group  \\\n",
       "0      0.102388       0.015601     0.102388         EN   \n",
       "1     -0.028855       0.015601     0.028855         EN   \n",
       "2     -0.014707       0.009894     0.014707         EN   \n",
       "3      0.490074       0.009894     0.490074         EN   \n",
       "4      0.041494       0.022168     0.041494         EN   \n",
       "...         ...            ...          ...        ...   \n",
       "90965  0.001446       0.000974     0.001446         RG   \n",
       "90966 -0.105429       0.057971     0.105429         RG   \n",
       "90967  0.407964       0.057971     0.407964         RG   \n",
       "90968 -0.605125       0.093056     0.605125         RG   \n",
       "90969  0.173458       0.093056     0.173458         RG   \n",
       "\n",
       "                                   name             MAJIQ_event_id  \n",
       "0              NOC2L_chr1:944801-945041                        NaN  \n",
       "1              NOC2L_chr1:944801-945056                        NaN  \n",
       "2               HES4_chr1:999433-999525                        NaN  \n",
       "3               HES4_chr1:999433-999532                        NaN  \n",
       "4               HES4_chr1:999614-999691  ENSG00000188290.11_1_CE_1  \n",
       "...                                 ...                        ...  \n",
       "90965    UPF3B_chrX:119841779-119843190  ENSG00000125351.14_1_CE_1  \n",
       "90966  SMARCA1_chrX:129447234-129448332                        NaN  \n",
       "90967  SMARCA1_chrX:129447302-129448332                        NaN  \n",
       "90968    FGF13_chrX:138708929-139204058                        NaN  \n",
       "90969    FGF13_chrX:138857680-139204058  ENSG00000129682.16_2_CE_1  \n",
       "\n",
       "[90970 rows x 25 columns]"
      ]
     },
     "execution_count": 49,
     "metadata": {},
     "output_type": "execute_result"
    }
   ],
   "source": [
    "sig_dif"
   ]
  },
  {
   "cell_type": "code",
   "execution_count": 50,
   "id": "12e21856-2461-43c7-baa8-1271674f4162",
   "metadata": {
    "tags": []
   },
   "outputs": [],
   "source": [
    "sig_dif = sig_dif[~sig_dif.MAJIQ_event_id.isna()]"
   ]
  },
  {
   "cell_type": "code",
   "execution_count": 51,
   "id": "09f58b29-5fcf-407a-a079-67a995acb971",
   "metadata": {
    "tags": []
   },
   "outputs": [
    {
     "data": {
      "text/html": [
       "<div>\n",
       "<style scoped>\n",
       "    .dataframe tbody tr th:only-of-type {\n",
       "        vertical-align: middle;\n",
       "    }\n",
       "\n",
       "    .dataframe tbody tr th {\n",
       "        vertical-align: top;\n",
       "    }\n",
       "\n",
       "    .dataframe thead th {\n",
       "        text-align: right;\n",
       "    }\n",
       "</style>\n",
       "<table border=\"1\" class=\"dataframe\">\n",
       "  <thead>\n",
       "    <tr style=\"text-align: right;\">\n",
       "      <th></th>\n",
       "      <th>chromosome</th>\n",
       "      <th>start</th>\n",
       "      <th>end</th>\n",
       "      <th>strand</th>\n",
       "      <th>intron_motif</th>\n",
       "      <th>n_cells</th>\n",
       "      <th>gene_id_start</th>\n",
       "      <th>gene_id_end</th>\n",
       "      <th>n_genes</th>\n",
       "      <th>gene_id</th>\n",
       "      <th>gene_name</th>\n",
       "      <th>size</th>\n",
       "      <th>intron_group</th>\n",
       "      <th>intron_group_size</th>\n",
       "      <th>n_genes_per_intron_group</th>\n",
       "      <th>grouping</th>\n",
       "      <th>psi_a</th>\n",
       "      <th>psi_b</th>\n",
       "      <th>delta_psi</th>\n",
       "      <th>lfc_psi</th>\n",
       "      <th>abs_delta_psi</th>\n",
       "      <th>abs_lfc_psi</th>\n",
       "      <th>test_group</th>\n",
       "      <th>name</th>\n",
       "      <th>MAJIQ_event_id</th>\n",
       "    </tr>\n",
       "  </thead>\n",
       "  <tbody>\n",
       "    <tr>\n",
       "      <th>4</th>\n",
       "      <td>chr1</td>\n",
       "      <td>999614</td>\n",
       "      <td>999691</td>\n",
       "      <td>-</td>\n",
       "      <td>2</td>\n",
       "      <td>724</td>\n",
       "      <td>ENSG00000188290</td>\n",
       "      <td>ENSG00000188290</td>\n",
       "      <td>1</td>\n",
       "      <td>ENSG00000188290</td>\n",
       "      <td>HES4</td>\n",
       "      <td>77</td>\n",
       "      <td>HES4_chr1_999614_-</td>\n",
       "      <td>2</td>\n",
       "      <td>1</td>\n",
       "      <td>three_prime</td>\n",
       "      <td>0.781873</td>\n",
       "      <td>7.597054e-01</td>\n",
       "      <td>0.022168</td>\n",
       "      <td>0.041494</td>\n",
       "      <td>0.022168</td>\n",
       "      <td>0.041494</td>\n",
       "      <td>EN</td>\n",
       "      <td>HES4_chr1:999614-999691</td>\n",
       "      <td>ENSG00000188290.11_1_CE_1</td>\n",
       "    </tr>\n",
       "    <tr>\n",
       "      <th>8</th>\n",
       "      <td>chr1</td>\n",
       "      <td>1263387</td>\n",
       "      <td>1264782</td>\n",
       "      <td>-</td>\n",
       "      <td>2</td>\n",
       "      <td>15</td>\n",
       "      <td>ENSG00000160087</td>\n",
       "      <td>ENSG00000160087</td>\n",
       "      <td>1</td>\n",
       "      <td>ENSG00000160087</td>\n",
       "      <td>UBE2J2</td>\n",
       "      <td>1395</td>\n",
       "      <td>UBE2J2_chr1_1263387_-</td>\n",
       "      <td>4</td>\n",
       "      <td>1</td>\n",
       "      <td>three_prime</td>\n",
       "      <td>0.033113</td>\n",
       "      <td>2.984164e-19</td>\n",
       "      <td>0.033113</td>\n",
       "      <td>24.980873</td>\n",
       "      <td>0.033113</td>\n",
       "      <td>24.980873</td>\n",
       "      <td>EN</td>\n",
       "      <td>UBE2J2_chr1:1263387-1264782</td>\n",
       "      <td>ENSG00000160087.21_1_CE_3</td>\n",
       "    </tr>\n",
       "    <tr>\n",
       "      <th>9</th>\n",
       "      <td>chr1</td>\n",
       "      <td>1263387</td>\n",
       "      <td>1267732</td>\n",
       "      <td>-</td>\n",
       "      <td>2</td>\n",
       "      <td>18</td>\n",
       "      <td>ENSG00000160087</td>\n",
       "      <td>ENSG00000160087</td>\n",
       "      <td>1</td>\n",
       "      <td>ENSG00000160087</td>\n",
       "      <td>UBE2J2</td>\n",
       "      <td>4345</td>\n",
       "      <td>UBE2J2_chr1_1263387_-</td>\n",
       "      <td>4</td>\n",
       "      <td>1</td>\n",
       "      <td>three_prime</td>\n",
       "      <td>0.039735</td>\n",
       "      <td>4.997765e-20</td>\n",
       "      <td>0.039735</td>\n",
       "      <td>25.243907</td>\n",
       "      <td>0.039735</td>\n",
       "      <td>25.243907</td>\n",
       "      <td>EN</td>\n",
       "      <td>UBE2J2_chr1:1263387-1267732</td>\n",
       "      <td>ENSG00000160087.21_1_CE_4</td>\n",
       "    </tr>\n",
       "    <tr>\n",
       "      <th>10</th>\n",
       "      <td>chr1</td>\n",
       "      <td>1263387</td>\n",
       "      <td>1267861</td>\n",
       "      <td>-</td>\n",
       "      <td>2</td>\n",
       "      <td>442</td>\n",
       "      <td>ENSG00000160087</td>\n",
       "      <td>ENSG00000160087</td>\n",
       "      <td>1</td>\n",
       "      <td>ENSG00000160087</td>\n",
       "      <td>UBE2J2</td>\n",
       "      <td>4474</td>\n",
       "      <td>UBE2J2_chr1_1263387_-</td>\n",
       "      <td>4</td>\n",
       "      <td>1</td>\n",
       "      <td>three_prime</td>\n",
       "      <td>0.857616</td>\n",
       "      <td>8.852461e-01</td>\n",
       "      <td>-0.027630</td>\n",
       "      <td>-0.045747</td>\n",
       "      <td>0.027630</td>\n",
       "      <td>0.045747</td>\n",
       "      <td>EN</td>\n",
       "      <td>UBE2J2_chr1:1263387-1267861</td>\n",
       "      <td>ENSG00000160087.21_1_CE_5</td>\n",
       "    </tr>\n",
       "    <tr>\n",
       "      <th>12</th>\n",
       "      <td>chr1</td>\n",
       "      <td>1312369</td>\n",
       "      <td>1312439</td>\n",
       "      <td>-</td>\n",
       "      <td>2</td>\n",
       "      <td>412</td>\n",
       "      <td>ENSG00000127054</td>\n",
       "      <td>ENSG00000127054</td>\n",
       "      <td>1</td>\n",
       "      <td>ENSG00000127054</td>\n",
       "      <td>INTS11</td>\n",
       "      <td>70</td>\n",
       "      <td>INTS11_chr1_1312369_-</td>\n",
       "      <td>2</td>\n",
       "      <td>1</td>\n",
       "      <td>three_prime</td>\n",
       "      <td>0.965958</td>\n",
       "      <td>9.531250e-01</td>\n",
       "      <td>0.012833</td>\n",
       "      <td>0.019295</td>\n",
       "      <td>0.012833</td>\n",
       "      <td>0.019295</td>\n",
       "      <td>EN</td>\n",
       "      <td>INTS11_chr1:1312369-1312439</td>\n",
       "      <td>ENSG00000127054.22_3_CE_1</td>\n",
       "    </tr>\n",
       "    <tr>\n",
       "      <th>...</th>\n",
       "      <td>...</td>\n",
       "      <td>...</td>\n",
       "      <td>...</td>\n",
       "      <td>...</td>\n",
       "      <td>...</td>\n",
       "      <td>...</td>\n",
       "      <td>...</td>\n",
       "      <td>...</td>\n",
       "      <td>...</td>\n",
       "      <td>...</td>\n",
       "      <td>...</td>\n",
       "      <td>...</td>\n",
       "      <td>...</td>\n",
       "      <td>...</td>\n",
       "      <td>...</td>\n",
       "      <td>...</td>\n",
       "      <td>...</td>\n",
       "      <td>...</td>\n",
       "      <td>...</td>\n",
       "      <td>...</td>\n",
       "      <td>...</td>\n",
       "      <td>...</td>\n",
       "      <td>...</td>\n",
       "      <td>...</td>\n",
       "      <td>...</td>\n",
       "    </tr>\n",
       "    <tr>\n",
       "      <th>90949</th>\n",
       "      <td>chr9</td>\n",
       "      <td>133356321</td>\n",
       "      <td>133356399</td>\n",
       "      <td>-</td>\n",
       "      <td>2</td>\n",
       "      <td>1196</td>\n",
       "      <td>ENSG00000148290</td>\n",
       "      <td>ENSG00000148290</td>\n",
       "      <td>1</td>\n",
       "      <td>ENSG00000148290</td>\n",
       "      <td>SURF1</td>\n",
       "      <td>78</td>\n",
       "      <td>SURF1_chr9_133356399_-</td>\n",
       "      <td>3</td>\n",
       "      <td>1</td>\n",
       "      <td>five_prime</td>\n",
       "      <td>0.931204</td>\n",
       "      <td>9.075911e-01</td>\n",
       "      <td>0.023613</td>\n",
       "      <td>0.037055</td>\n",
       "      <td>0.023613</td>\n",
       "      <td>0.037055</td>\n",
       "      <td>RG</td>\n",
       "      <td>SURF1_chr9:133356321-133356399</td>\n",
       "      <td>ENSG00000148290.10_1_CE_2</td>\n",
       "    </tr>\n",
       "    <tr>\n",
       "      <th>90953</th>\n",
       "      <td>chrX</td>\n",
       "      <td>23833613</td>\n",
       "      <td>23840312</td>\n",
       "      <td>-</td>\n",
       "      <td>2</td>\n",
       "      <td>1650</td>\n",
       "      <td>ENSG00000184831</td>\n",
       "      <td>ENSG00000184831</td>\n",
       "      <td>1</td>\n",
       "      <td>ENSG00000184831</td>\n",
       "      <td>APOO</td>\n",
       "      <td>6699</td>\n",
       "      <td>APOO_chrX_23840312_-</td>\n",
       "      <td>2</td>\n",
       "      <td>1</td>\n",
       "      <td>five_prime</td>\n",
       "      <td>0.541744</td>\n",
       "      <td>6.003338e-01</td>\n",
       "      <td>-0.058590</td>\n",
       "      <td>-0.148154</td>\n",
       "      <td>0.058590</td>\n",
       "      <td>0.148154</td>\n",
       "      <td>RG</td>\n",
       "      <td>APOO_chrX:23833613-23840312</td>\n",
       "      <td>ENSG00000184831.14_3_CE_1</td>\n",
       "    </tr>\n",
       "    <tr>\n",
       "      <th>90954</th>\n",
       "      <td>chrX</td>\n",
       "      <td>73944466</td>\n",
       "      <td>73944583</td>\n",
       "      <td>+</td>\n",
       "      <td>1</td>\n",
       "      <td>1925</td>\n",
       "      <td>ENSG00000225470</td>\n",
       "      <td>ENSG00000225470</td>\n",
       "      <td>1</td>\n",
       "      <td>ENSG00000225470</td>\n",
       "      <td>JPX</td>\n",
       "      <td>117</td>\n",
       "      <td>JPX_chrX_73944466_+</td>\n",
       "      <td>2</td>\n",
       "      <td>1</td>\n",
       "      <td>five_prime</td>\n",
       "      <td>0.996753</td>\n",
       "      <td>9.724139e-01</td>\n",
       "      <td>0.024339</td>\n",
       "      <td>0.035666</td>\n",
       "      <td>0.024339</td>\n",
       "      <td>0.035666</td>\n",
       "      <td>RG</td>\n",
       "      <td>JPX_chrX:73944466-73944583</td>\n",
       "      <td>ENSG00000225470.9_1_CE_2</td>\n",
       "    </tr>\n",
       "    <tr>\n",
       "      <th>90965</th>\n",
       "      <td>chrX</td>\n",
       "      <td>119841779</td>\n",
       "      <td>119843190</td>\n",
       "      <td>-</td>\n",
       "      <td>2</td>\n",
       "      <td>3102</td>\n",
       "      <td>ENSG00000125351</td>\n",
       "      <td>ENSG00000125351</td>\n",
       "      <td>1</td>\n",
       "      <td>ENSG00000125351</td>\n",
       "      <td>UPF3B</td>\n",
       "      <td>1411</td>\n",
       "      <td>UPF3B_chrX_119843190_-</td>\n",
       "      <td>2</td>\n",
       "      <td>1</td>\n",
       "      <td>five_prime</td>\n",
       "      <td>0.972346</td>\n",
       "      <td>9.713725e-01</td>\n",
       "      <td>0.000974</td>\n",
       "      <td>0.001446</td>\n",
       "      <td>0.000974</td>\n",
       "      <td>0.001446</td>\n",
       "      <td>RG</td>\n",
       "      <td>UPF3B_chrX:119841779-119843190</td>\n",
       "      <td>ENSG00000125351.14_1_CE_1</td>\n",
       "    </tr>\n",
       "    <tr>\n",
       "      <th>90969</th>\n",
       "      <td>chrX</td>\n",
       "      <td>138857680</td>\n",
       "      <td>139204058</td>\n",
       "      <td>-</td>\n",
       "      <td>2</td>\n",
       "      <td>611</td>\n",
       "      <td>ENSG00000129682</td>\n",
       "      <td>ENSG00000129682</td>\n",
       "      <td>1</td>\n",
       "      <td>ENSG00000129682</td>\n",
       "      <td>FGF13</td>\n",
       "      <td>346378</td>\n",
       "      <td>FGF13_chrX_139204058_-</td>\n",
       "      <td>2</td>\n",
       "      <td>1</td>\n",
       "      <td>five_prime</td>\n",
       "      <td>0.821428</td>\n",
       "      <td>7.283728e-01</td>\n",
       "      <td>0.093056</td>\n",
       "      <td>0.173458</td>\n",
       "      <td>0.093056</td>\n",
       "      <td>0.173458</td>\n",
       "      <td>RG</td>\n",
       "      <td>FGF13_chrX:138857680-139204058</td>\n",
       "      <td>ENSG00000129682.16_2_CE_1</td>\n",
       "    </tr>\n",
       "  </tbody>\n",
       "</table>\n",
       "<p>23586 rows × 25 columns</p>\n",
       "</div>"
      ],
      "text/plain": [
       "      chromosome      start        end strand  intron_motif  n_cells  \\\n",
       "4           chr1     999614     999691      -             2      724   \n",
       "8           chr1    1263387    1264782      -             2       15   \n",
       "9           chr1    1263387    1267732      -             2       18   \n",
       "10          chr1    1263387    1267861      -             2      442   \n",
       "12          chr1    1312369    1312439      -             2      412   \n",
       "...          ...        ...        ...    ...           ...      ...   \n",
       "90949       chr9  133356321  133356399      -             2     1196   \n",
       "90953       chrX   23833613   23840312      -             2     1650   \n",
       "90954       chrX   73944466   73944583      +             1     1925   \n",
       "90965       chrX  119841779  119843190      -             2     3102   \n",
       "90969       chrX  138857680  139204058      -             2      611   \n",
       "\n",
       "         gene_id_start      gene_id_end  n_genes          gene_id gene_name  \\\n",
       "4      ENSG00000188290  ENSG00000188290        1  ENSG00000188290      HES4   \n",
       "8      ENSG00000160087  ENSG00000160087        1  ENSG00000160087    UBE2J2   \n",
       "9      ENSG00000160087  ENSG00000160087        1  ENSG00000160087    UBE2J2   \n",
       "10     ENSG00000160087  ENSG00000160087        1  ENSG00000160087    UBE2J2   \n",
       "12     ENSG00000127054  ENSG00000127054        1  ENSG00000127054    INTS11   \n",
       "...                ...              ...      ...              ...       ...   \n",
       "90949  ENSG00000148290  ENSG00000148290        1  ENSG00000148290     SURF1   \n",
       "90953  ENSG00000184831  ENSG00000184831        1  ENSG00000184831      APOO   \n",
       "90954  ENSG00000225470  ENSG00000225470        1  ENSG00000225470       JPX   \n",
       "90965  ENSG00000125351  ENSG00000125351        1  ENSG00000125351     UPF3B   \n",
       "90969  ENSG00000129682  ENSG00000129682        1  ENSG00000129682     FGF13   \n",
       "\n",
       "         size            intron_group  intron_group_size  \\\n",
       "4          77      HES4_chr1_999614_-                  2   \n",
       "8        1395   UBE2J2_chr1_1263387_-                  4   \n",
       "9        4345   UBE2J2_chr1_1263387_-                  4   \n",
       "10       4474   UBE2J2_chr1_1263387_-                  4   \n",
       "12         70   INTS11_chr1_1312369_-                  2   \n",
       "...       ...                     ...                ...   \n",
       "90949      78  SURF1_chr9_133356399_-                  3   \n",
       "90953    6699    APOO_chrX_23840312_-                  2   \n",
       "90954     117     JPX_chrX_73944466_+                  2   \n",
       "90965    1411  UPF3B_chrX_119843190_-                  2   \n",
       "90969  346378  FGF13_chrX_139204058_-                  2   \n",
       "\n",
       "       n_genes_per_intron_group     grouping     psi_a         psi_b  \\\n",
       "4                             1  three_prime  0.781873  7.597054e-01   \n",
       "8                             1  three_prime  0.033113  2.984164e-19   \n",
       "9                             1  three_prime  0.039735  4.997765e-20   \n",
       "10                            1  three_prime  0.857616  8.852461e-01   \n",
       "12                            1  three_prime  0.965958  9.531250e-01   \n",
       "...                         ...          ...       ...           ...   \n",
       "90949                         1   five_prime  0.931204  9.075911e-01   \n",
       "90953                         1   five_prime  0.541744  6.003338e-01   \n",
       "90954                         1   five_prime  0.996753  9.724139e-01   \n",
       "90965                         1   five_prime  0.972346  9.713725e-01   \n",
       "90969                         1   five_prime  0.821428  7.283728e-01   \n",
       "\n",
       "       delta_psi    lfc_psi  abs_delta_psi  abs_lfc_psi test_group  \\\n",
       "4       0.022168   0.041494       0.022168     0.041494         EN   \n",
       "8       0.033113  24.980873       0.033113    24.980873         EN   \n",
       "9       0.039735  25.243907       0.039735    25.243907         EN   \n",
       "10     -0.027630  -0.045747       0.027630     0.045747         EN   \n",
       "12      0.012833   0.019295       0.012833     0.019295         EN   \n",
       "...          ...        ...            ...          ...        ...   \n",
       "90949   0.023613   0.037055       0.023613     0.037055         RG   \n",
       "90953  -0.058590  -0.148154       0.058590     0.148154         RG   \n",
       "90954   0.024339   0.035666       0.024339     0.035666         RG   \n",
       "90965   0.000974   0.001446       0.000974     0.001446         RG   \n",
       "90969   0.093056   0.173458       0.093056     0.173458         RG   \n",
       "\n",
       "                                 name             MAJIQ_event_id  \n",
       "4             HES4_chr1:999614-999691  ENSG00000188290.11_1_CE_1  \n",
       "8         UBE2J2_chr1:1263387-1264782  ENSG00000160087.21_1_CE_3  \n",
       "9         UBE2J2_chr1:1263387-1267732  ENSG00000160087.21_1_CE_4  \n",
       "10        UBE2J2_chr1:1263387-1267861  ENSG00000160087.21_1_CE_5  \n",
       "12        INTS11_chr1:1312369-1312439  ENSG00000127054.22_3_CE_1  \n",
       "...                               ...                        ...  \n",
       "90949  SURF1_chr9:133356321-133356399  ENSG00000148290.10_1_CE_2  \n",
       "90953     APOO_chrX:23833613-23840312  ENSG00000184831.14_3_CE_1  \n",
       "90954      JPX_chrX:73944466-73944583   ENSG00000225470.9_1_CE_2  \n",
       "90965  UPF3B_chrX:119841779-119843190  ENSG00000125351.14_1_CE_1  \n",
       "90969  FGF13_chrX:138857680-139204058  ENSG00000129682.16_2_CE_1  \n",
       "\n",
       "[23586 rows x 25 columns]"
      ]
     },
     "execution_count": 51,
     "metadata": {},
     "output_type": "execute_result"
    }
   ],
   "source": [
    "sig_dif"
   ]
  },
  {
   "cell_type": "code",
   "execution_count": 52,
   "id": "316b367d-9c07-43f9-bad3-3f54c194363f",
   "metadata": {
    "tags": []
   },
   "outputs": [
    {
     "name": "stderr",
     "output_type": "stream",
     "text": [
      "/scratch/derek/ipykernel_3274021/507649069.py:1: SettingWithCopyWarning: \n",
      "A value is trying to be set on a copy of a slice from a DataFrame.\n",
      "Try using .loc[row_indexer,col_indexer] = value instead\n",
      "\n",
      "See the caveats in the documentation: https://pandas.pydata.org/pandas-docs/stable/user_guide/indexing.html#returning-a-view-versus-a-copy\n",
      "  sig_dif['exon'] = sig_dif['MAJIQ_event_id'].map(dict(zip(junc_frame['MAJIQ_event_id'],junc_frame['exon'])))\n"
     ]
    }
   ],
   "source": [
    "sig_dif['exon'] = sig_dif['MAJIQ_event_id'].map(dict(zip(junc_frame['MAJIQ_event_id'],junc_frame['exon'])))"
   ]
  },
  {
   "cell_type": "code",
   "execution_count": 53,
   "id": "16128983-5cf1-4459-9832-dc987c5604d6",
   "metadata": {
    "tags": []
   },
   "outputs": [
    {
     "data": {
      "text/html": [
       "<div>\n",
       "<style scoped>\n",
       "    .dataframe tbody tr th:only-of-type {\n",
       "        vertical-align: middle;\n",
       "    }\n",
       "\n",
       "    .dataframe tbody tr th {\n",
       "        vertical-align: top;\n",
       "    }\n",
       "\n",
       "    .dataframe thead th {\n",
       "        text-align: right;\n",
       "    }\n",
       "</style>\n",
       "<table border=\"1\" class=\"dataframe\">\n",
       "  <thead>\n",
       "    <tr style=\"text-align: right;\">\n",
       "      <th></th>\n",
       "      <th>p_value</th>\n",
       "      <th>ll_null</th>\n",
       "      <th>ll</th>\n",
       "      <th>n_classes</th>\n",
       "      <th>gene_id</th>\n",
       "      <th>gene_name</th>\n",
       "      <th>max_abs_delta_psi</th>\n",
       "      <th>max_abs_lfc_psi</th>\n",
       "      <th>ranking</th>\n",
       "      <th>p_value_adj</th>\n",
       "      <th>test_group</th>\n",
       "      <th>name</th>\n",
       "    </tr>\n",
       "  </thead>\n",
       "  <tbody>\n",
       "    <tr>\n",
       "      <th>0</th>\n",
       "      <td>0.000000e+00</td>\n",
       "      <td>-2590.125947</td>\n",
       "      <td>-1607.275283</td>\n",
       "      <td>4</td>\n",
       "      <td>ENSG00000185942</td>\n",
       "      <td>NKAIN3</td>\n",
       "      <td>7.239330e-01</td>\n",
       "      <td>3.275057</td>\n",
       "      <td>0</td>\n",
       "      <td>0.000000e+00</td>\n",
       "      <td>EN</td>\n",
       "      <td>NKAIN3_chr8_62965353_+</td>\n",
       "    </tr>\n",
       "    <tr>\n",
       "      <th>1</th>\n",
       "      <td>0.000000e+00</td>\n",
       "      <td>-12173.814438</td>\n",
       "      <td>-11457.575189</td>\n",
       "      <td>2</td>\n",
       "      <td>ENSG00000245910</td>\n",
       "      <td>SNHG6</td>\n",
       "      <td>2.565948e-01</td>\n",
       "      <td>1.318461</td>\n",
       "      <td>1</td>\n",
       "      <td>0.000000e+00</td>\n",
       "      <td>EN</td>\n",
       "      <td>SNHG6_chr8_66922115_-</td>\n",
       "    </tr>\n",
       "    <tr>\n",
       "      <th>2</th>\n",
       "      <td>0.000000e+00</td>\n",
       "      <td>-1285.864723</td>\n",
       "      <td>-553.625026</td>\n",
       "      <td>2</td>\n",
       "      <td>ENSG00000047932</td>\n",
       "      <td>GOPC</td>\n",
       "      <td>6.763550e-01</td>\n",
       "      <td>5.672242</td>\n",
       "      <td>2</td>\n",
       "      <td>0.000000e+00</td>\n",
       "      <td>EN</td>\n",
       "      <td>GOPC_chr6_117578899_-</td>\n",
       "    </tr>\n",
       "    <tr>\n",
       "      <th>3</th>\n",
       "      <td>1.206608e-236</td>\n",
       "      <td>-10799.703811</td>\n",
       "      <td>-10260.200156</td>\n",
       "      <td>2</td>\n",
       "      <td>ENSG00000092841</td>\n",
       "      <td>MYL6</td>\n",
       "      <td>1.837367e-01</td>\n",
       "      <td>1.321217</td>\n",
       "      <td>3</td>\n",
       "      <td>5.746167e-233</td>\n",
       "      <td>EN</td>\n",
       "      <td>MYL6_chr12_56161386_+</td>\n",
       "    </tr>\n",
       "    <tr>\n",
       "      <th>4</th>\n",
       "      <td>2.979914e-200</td>\n",
       "      <td>-2169.850458</td>\n",
       "      <td>-1714.059809</td>\n",
       "      <td>2</td>\n",
       "      <td>ENSG00000046653</td>\n",
       "      <td>GPM6B</td>\n",
       "      <td>3.891799e-01</td>\n",
       "      <td>3.049499</td>\n",
       "      <td>4</td>\n",
       "      <td>1.135288e-196</td>\n",
       "      <td>EN</td>\n",
       "      <td>GPM6B_chrX_13776237_-</td>\n",
       "    </tr>\n",
       "    <tr>\n",
       "      <th>...</th>\n",
       "      <td>...</td>\n",
       "      <td>...</td>\n",
       "      <td>...</td>\n",
       "      <td>...</td>\n",
       "      <td>...</td>\n",
       "      <td>...</td>\n",
       "      <td>...</td>\n",
       "      <td>...</td>\n",
       "      <td>...</td>\n",
       "      <td>...</td>\n",
       "      <td>...</td>\n",
       "      <td>...</td>\n",
       "    </tr>\n",
       "    <tr>\n",
       "      <th>38093</th>\n",
       "      <td>1.000000e+00</td>\n",
       "      <td>-107.106151</td>\n",
       "      <td>-107.106151</td>\n",
       "      <td>2</td>\n",
       "      <td>ENSG00000169255</td>\n",
       "      <td>B3GALNT1</td>\n",
       "      <td>4.973996e-06</td>\n",
       "      <td>0.000115</td>\n",
       "      <td>19044</td>\n",
       "      <td>1.000000e+00</td>\n",
       "      <td>RG</td>\n",
       "      <td>B3GALNT1_chr3_161104318_-</td>\n",
       "    </tr>\n",
       "    <tr>\n",
       "      <th>38094</th>\n",
       "      <td>1.000000e+00</td>\n",
       "      <td>-70.834484</td>\n",
       "      <td>-70.834485</td>\n",
       "      <td>2</td>\n",
       "      <td>ENSG00000186522</td>\n",
       "      <td>SEPTIN10</td>\n",
       "      <td>1.432516e-05</td>\n",
       "      <td>0.000207</td>\n",
       "      <td>19045</td>\n",
       "      <td>1.000000e+00</td>\n",
       "      <td>RG</td>\n",
       "      <td>SEPTIN10_chr2_109613797_-</td>\n",
       "    </tr>\n",
       "    <tr>\n",
       "      <th>38095</th>\n",
       "      <td>1.000000e+00</td>\n",
       "      <td>-108.034553</td>\n",
       "      <td>-108.034553</td>\n",
       "      <td>2</td>\n",
       "      <td>ENSG00000126226</td>\n",
       "      <td>PCID2</td>\n",
       "      <td>1.385728e-07</td>\n",
       "      <td>0.000006</td>\n",
       "      <td>19046</td>\n",
       "      <td>1.000000e+00</td>\n",
       "      <td>RG</td>\n",
       "      <td>PCID2_chr13_113178288_-</td>\n",
       "    </tr>\n",
       "    <tr>\n",
       "      <th>38096</th>\n",
       "      <td>1.000000e+00</td>\n",
       "      <td>-40.032194</td>\n",
       "      <td>-40.032194</td>\n",
       "      <td>2</td>\n",
       "      <td>ENSG00000247950</td>\n",
       "      <td>SEC24B-AS1</td>\n",
       "      <td>2.783323e-07</td>\n",
       "      <td>0.000002</td>\n",
       "      <td>19047</td>\n",
       "      <td>1.000000e+00</td>\n",
       "      <td>RG</td>\n",
       "      <td>SEC24B-AS1_chr4_109431747_-</td>\n",
       "    </tr>\n",
       "    <tr>\n",
       "      <th>38097</th>\n",
       "      <td>1.000000e+00</td>\n",
       "      <td>-41.621472</td>\n",
       "      <td>-41.621473</td>\n",
       "      <td>2</td>\n",
       "      <td>ENSG00000196305</td>\n",
       "      <td>IARS</td>\n",
       "      <td>1.648026e-05</td>\n",
       "      <td>0.000309</td>\n",
       "      <td>19048</td>\n",
       "      <td>1.000000e+00</td>\n",
       "      <td>RG</td>\n",
       "      <td>IARS_chr9_92285840_-</td>\n",
       "    </tr>\n",
       "  </tbody>\n",
       "</table>\n",
       "<p>38098 rows × 12 columns</p>\n",
       "</div>"
      ],
      "text/plain": [
       "             p_value       ll_null            ll  n_classes          gene_id  \\\n",
       "0       0.000000e+00  -2590.125947  -1607.275283          4  ENSG00000185942   \n",
       "1       0.000000e+00 -12173.814438 -11457.575189          2  ENSG00000245910   \n",
       "2       0.000000e+00  -1285.864723   -553.625026          2  ENSG00000047932   \n",
       "3      1.206608e-236 -10799.703811 -10260.200156          2  ENSG00000092841   \n",
       "4      2.979914e-200  -2169.850458  -1714.059809          2  ENSG00000046653   \n",
       "...              ...           ...           ...        ...              ...   \n",
       "38093   1.000000e+00   -107.106151   -107.106151          2  ENSG00000169255   \n",
       "38094   1.000000e+00    -70.834484    -70.834485          2  ENSG00000186522   \n",
       "38095   1.000000e+00   -108.034553   -108.034553          2  ENSG00000126226   \n",
       "38096   1.000000e+00    -40.032194    -40.032194          2  ENSG00000247950   \n",
       "38097   1.000000e+00    -41.621472    -41.621473          2  ENSG00000196305   \n",
       "\n",
       "        gene_name  max_abs_delta_psi  max_abs_lfc_psi  ranking    p_value_adj  \\\n",
       "0          NKAIN3       7.239330e-01         3.275057        0   0.000000e+00   \n",
       "1           SNHG6       2.565948e-01         1.318461        1   0.000000e+00   \n",
       "2            GOPC       6.763550e-01         5.672242        2   0.000000e+00   \n",
       "3            MYL6       1.837367e-01         1.321217        3  5.746167e-233   \n",
       "4           GPM6B       3.891799e-01         3.049499        4  1.135288e-196   \n",
       "...           ...                ...              ...      ...            ...   \n",
       "38093    B3GALNT1       4.973996e-06         0.000115    19044   1.000000e+00   \n",
       "38094    SEPTIN10       1.432516e-05         0.000207    19045   1.000000e+00   \n",
       "38095       PCID2       1.385728e-07         0.000006    19046   1.000000e+00   \n",
       "38096  SEC24B-AS1       2.783323e-07         0.000002    19047   1.000000e+00   \n",
       "38097        IARS       1.648026e-05         0.000309    19048   1.000000e+00   \n",
       "\n",
       "      test_group                         name  \n",
       "0             EN       NKAIN3_chr8_62965353_+  \n",
       "1             EN        SNHG6_chr8_66922115_-  \n",
       "2             EN        GOPC_chr6_117578899_-  \n",
       "3             EN        MYL6_chr12_56161386_+  \n",
       "4             EN        GPM6B_chrX_13776237_-  \n",
       "...          ...                          ...  \n",
       "38093         RG    B3GALNT1_chr3_161104318_-  \n",
       "38094         RG    SEPTIN10_chr2_109613797_-  \n",
       "38095         RG      PCID2_chr13_113178288_-  \n",
       "38096         RG  SEC24B-AS1_chr4_109431747_-  \n",
       "38097         RG         IARS_chr9_92285840_-  \n",
       "\n",
       "[38098 rows x 12 columns]"
      ]
     },
     "execution_count": 53,
     "metadata": {},
     "output_type": "execute_result"
    }
   ],
   "source": [
    "sig_dif_intron_groups"
   ]
  },
  {
   "cell_type": "code",
   "execution_count": null,
   "id": "2bb99032-1789-4d25-9cf6-ac5e186e201a",
   "metadata": {},
   "outputs": [],
   "source": []
  },
  {
   "cell_type": "code",
   "execution_count": 54,
   "id": "05b1f5c9-a0bf-41ed-8220-ee7280c97ede",
   "metadata": {
    "tags": []
   },
   "outputs": [
    {
     "name": "stderr",
     "output_type": "stream",
     "text": [
      "/scratch/derek/ipykernel_3274021/1067513121.py:1: SettingWithCopyWarning: \n",
      "A value is trying to be set on a copy of a slice from a DataFrame.\n",
      "Try using .loc[row_indexer,col_indexer] = value instead\n",
      "\n",
      "See the caveats in the documentation: https://pandas.pydata.org/pandas-docs/stable/user_guide/indexing.html#returning-a-view-versus-a-copy\n",
      "  sig_dif['pval'] = sig_dif['intron_group'].map(dict(zip(sig_dif_intron_groups['name'],sig_dif_intron_groups['p_value_adj'])))\n"
     ]
    }
   ],
   "source": [
    "sig_dif['pval'] = sig_dif['intron_group'].map(dict(zip(sig_dif_intron_groups['name'],sig_dif_intron_groups['p_value_adj'])))"
   ]
  },
  {
   "cell_type": "code",
   "execution_count": 55,
   "id": "42d13c06-9c1e-40b2-aae9-f47155f592a8",
   "metadata": {
    "tags": []
   },
   "outputs": [],
   "source": [
    "sig_dif_EN = sig_dif[sig_dif.test_group == 'EN']"
   ]
  },
  {
   "cell_type": "code",
   "execution_count": null,
   "id": "80f4cfd5-dc3f-4319-bbce-7be3838ded41",
   "metadata": {
    "tags": []
   },
   "outputs": [],
   "source": []
  },
  {
   "cell_type": "code",
   "execution_count": 56,
   "id": "7d060415-1c73-43e3-979b-c6561df16a87",
   "metadata": {
    "tags": []
   },
   "outputs": [
    {
     "name": "stderr",
     "output_type": "stream",
     "text": [
      "/scratch/derek/ipykernel_3274021/616062283.py:1: SettingWithCopyWarning: \n",
      "A value is trying to be set on a copy of a slice from a DataFrame.\n",
      "Try using .loc[row_indexer,col_indexer] = value instead\n",
      "\n",
      "See the caveats in the documentation: https://pandas.pydata.org/pandas-docs/stable/user_guide/indexing.html#returning-a-view-versus-a-copy\n",
      "  sig_dif_EN['include'] = ((sig_dif_EN['pval'] <= 0.05) & (sig_dif_EN.abs_delta_psi >= 0.1)).astype(str)\n"
     ]
    }
   ],
   "source": [
    "# sig_dif_EN['include'] = ((sig_dif_EN['pval'] <= 0.05) & (sig_dif_EN.abs_delta_psi >= 0.1)).astype(str)"
   ]
  },
  {
   "cell_type": "code",
   "execution_count": null,
   "id": "abef29f9-05c5-40ac-b916-02f25c9385fe",
   "metadata": {},
   "outputs": [],
   "source": [
    "sig_dif_EN"
   ]
  },
  {
   "cell_type": "code",
   "execution_count": 95,
   "id": "5b810605-72c8-4e0f-9fb5-7243300c4d31",
   "metadata": {
    "tags": []
   },
   "outputs": [],
   "source": [
    "conditions = [\n",
    "    ((sig_dif_EN['pval'] <= 0.05) & (sig_dif_EN.delta_psi >= 0.1)),\n",
    "    ((sig_dif_EN['pval'] <= 0.05) & (sig_dif_EN.delta_psi <= -0.1)),\n",
    "    ((sig_dif_EN['pval'] > 0.05) | (sig_dif_EN.abs_delta_psi < 0.1))\n",
    "]\n",
    "\n",
    "values = ['neuron', 'glia', 'unsig']\n",
    "\n",
    "sig_dif_EN['include'] = np.select(conditions, values)\n"
   ]
  },
  {
   "cell_type": "code",
   "execution_count": null,
   "id": "0c03d7f7-7c1b-417d-b677-40597f526a21",
   "metadata": {
    "tags": []
   },
   "outputs": [],
   "source": []
  },
  {
   "cell_type": "code",
   "execution_count": null,
   "id": "dc3b4449-964d-43c0-aeb9-d7f875a0ba0d",
   "metadata": {},
   "outputs": [],
   "source": []
  },
  {
   "cell_type": "code",
   "execution_count": 96,
   "id": "f198f3ea-1017-42e8-8c1b-9db4fea6e792",
   "metadata": {
    "tags": []
   },
   "outputs": [],
   "source": [
    "sig_dif_EN = sig_dif_EN.sort_values(by='include')"
   ]
  },
  {
   "cell_type": "code",
   "execution_count": 58,
   "id": "a693ed79-a27b-439f-8006-9b47dabad59b",
   "metadata": {
    "tags": []
   },
   "outputs": [
    {
     "data": {
      "text/html": [
       "<div>\n",
       "<style scoped>\n",
       "    .dataframe tbody tr th:only-of-type {\n",
       "        vertical-align: middle;\n",
       "    }\n",
       "\n",
       "    .dataframe tbody tr th {\n",
       "        vertical-align: top;\n",
       "    }\n",
       "\n",
       "    .dataframe thead th {\n",
       "        text-align: right;\n",
       "    }\n",
       "</style>\n",
       "<table border=\"1\" class=\"dataframe\">\n",
       "  <thead>\n",
       "    <tr style=\"text-align: right;\">\n",
       "      <th></th>\n",
       "      <th>chromosome</th>\n",
       "      <th>start</th>\n",
       "      <th>end</th>\n",
       "      <th>strand</th>\n",
       "      <th>intron_motif</th>\n",
       "      <th>n_cells</th>\n",
       "      <th>gene_id_start</th>\n",
       "      <th>gene_id_end</th>\n",
       "      <th>n_genes</th>\n",
       "      <th>gene_id</th>\n",
       "      <th>gene_name</th>\n",
       "      <th>size</th>\n",
       "      <th>intron_group</th>\n",
       "      <th>intron_group_size</th>\n",
       "      <th>n_genes_per_intron_group</th>\n",
       "      <th>grouping</th>\n",
       "      <th>psi_a</th>\n",
       "      <th>psi_b</th>\n",
       "      <th>delta_psi</th>\n",
       "      <th>lfc_psi</th>\n",
       "      <th>abs_delta_psi</th>\n",
       "      <th>abs_lfc_psi</th>\n",
       "      <th>test_group</th>\n",
       "      <th>name</th>\n",
       "      <th>MAJIQ_event_id</th>\n",
       "      <th>exon</th>\n",
       "      <th>pval</th>\n",
       "      <th>include</th>\n",
       "    </tr>\n",
       "  </thead>\n",
       "  <tbody>\n",
       "    <tr>\n",
       "      <th>4</th>\n",
       "      <td>chr1</td>\n",
       "      <td>999614</td>\n",
       "      <td>999691</td>\n",
       "      <td>-</td>\n",
       "      <td>2</td>\n",
       "      <td>724</td>\n",
       "      <td>ENSG00000188290</td>\n",
       "      <td>ENSG00000188290</td>\n",
       "      <td>1</td>\n",
       "      <td>ENSG00000188290</td>\n",
       "      <td>HES4</td>\n",
       "      <td>77</td>\n",
       "      <td>HES4_chr1_999614_-</td>\n",
       "      <td>2</td>\n",
       "      <td>1</td>\n",
       "      <td>three_prime</td>\n",
       "      <td>0.781873</td>\n",
       "      <td>0.759705</td>\n",
       "      <td>0.022168</td>\n",
       "      <td>0.041494</td>\n",
       "      <td>0.022168</td>\n",
       "      <td>0.041494</td>\n",
       "      <td>EN</td>\n",
       "      <td>HES4_chr1:999614-999691</td>\n",
       "      <td>ENSG00000188290.11_1_CE_1</td>\n",
       "      <td>999692-999787</td>\n",
       "      <td>7.761442e-01</td>\n",
       "      <td>False</td>\n",
       "    </tr>\n",
       "    <tr>\n",
       "      <th>30866</th>\n",
       "      <td>chr16</td>\n",
       "      <td>53222756</td>\n",
       "      <td>53223449</td>\n",
       "      <td>+</td>\n",
       "      <td>1</td>\n",
       "      <td>288</td>\n",
       "      <td>ENSG00000177200</td>\n",
       "      <td>ENSG00000177200</td>\n",
       "      <td>1</td>\n",
       "      <td>ENSG00000177200</td>\n",
       "      <td>CHD9</td>\n",
       "      <td>693</td>\n",
       "      <td>CHD9_chr16_53222756_+</td>\n",
       "      <td>3</td>\n",
       "      <td>1</td>\n",
       "      <td>five_prime</td>\n",
       "      <td>0.058458</td>\n",
       "      <td>0.079626</td>\n",
       "      <td>-0.021168</td>\n",
       "      <td>-0.445848</td>\n",
       "      <td>0.021168</td>\n",
       "      <td>0.445848</td>\n",
       "      <td>EN</td>\n",
       "      <td>CHD9_chr16:53222756-53223449</td>\n",
       "      <td>ENSG00000177200.18_1_CE_13</td>\n",
       "      <td>53223450-53223507</td>\n",
       "      <td>2.956613e-01</td>\n",
       "      <td>False</td>\n",
       "    </tr>\n",
       "    <tr>\n",
       "      <th>30889</th>\n",
       "      <td>chr16</td>\n",
       "      <td>56625880</td>\n",
       "      <td>56626465</td>\n",
       "      <td>+</td>\n",
       "      <td>1</td>\n",
       "      <td>521</td>\n",
       "      <td>ENSG00000169715</td>\n",
       "      <td>ENSG00000169715</td>\n",
       "      <td>1</td>\n",
       "      <td>ENSG00000169715</td>\n",
       "      <td>MT1E</td>\n",
       "      <td>585</td>\n",
       "      <td>MT1E_chr16_56625880_+</td>\n",
       "      <td>2</td>\n",
       "      <td>1</td>\n",
       "      <td>five_prime</td>\n",
       "      <td>0.954833</td>\n",
       "      <td>0.965289</td>\n",
       "      <td>-0.010456</td>\n",
       "      <td>-0.015712</td>\n",
       "      <td>0.010456</td>\n",
       "      <td>0.015712</td>\n",
       "      <td>EN</td>\n",
       "      <td>MT1E_chr16:56625880-56626465</td>\n",
       "      <td>ENSG00000169715.15_1_CE_1</td>\n",
       "      <td>56626466-56626531</td>\n",
       "      <td>8.214110e-01</td>\n",
       "      <td>False</td>\n",
       "    </tr>\n",
       "    <tr>\n",
       "      <th>30891</th>\n",
       "      <td>chr16</td>\n",
       "      <td>56682569</td>\n",
       "      <td>56683164</td>\n",
       "      <td>+</td>\n",
       "      <td>1</td>\n",
       "      <td>926</td>\n",
       "      <td>ENSG00000187193</td>\n",
       "      <td>ENSG00000187193</td>\n",
       "      <td>1</td>\n",
       "      <td>ENSG00000187193</td>\n",
       "      <td>MT1X</td>\n",
       "      <td>595</td>\n",
       "      <td>MT1X_chr16_56682569_+</td>\n",
       "      <td>2</td>\n",
       "      <td>1</td>\n",
       "      <td>five_prime</td>\n",
       "      <td>0.963229</td>\n",
       "      <td>0.994052</td>\n",
       "      <td>-0.030823</td>\n",
       "      <td>-0.045443</td>\n",
       "      <td>0.030823</td>\n",
       "      <td>0.045443</td>\n",
       "      <td>EN</td>\n",
       "      <td>MT1X_chr16:56682569-56683164</td>\n",
       "      <td>ENSG00000187193.9_1_CE_1</td>\n",
       "      <td>56683165-56683230</td>\n",
       "      <td>3.225908e-02</td>\n",
       "      <td>False</td>\n",
       "    </tr>\n",
       "    <tr>\n",
       "      <th>30898</th>\n",
       "      <td>chr16</td>\n",
       "      <td>56935313</td>\n",
       "      <td>56935403</td>\n",
       "      <td>+</td>\n",
       "      <td>1</td>\n",
       "      <td>81</td>\n",
       "      <td>ENSG00000051108</td>\n",
       "      <td>ENSG00000051108</td>\n",
       "      <td>1</td>\n",
       "      <td>ENSG00000051108</td>\n",
       "      <td>HERPUD1</td>\n",
       "      <td>90</td>\n",
       "      <td>HERPUD1_chr16_56935313_+</td>\n",
       "      <td>3</td>\n",
       "      <td>1</td>\n",
       "      <td>five_prime</td>\n",
       "      <td>0.065746</td>\n",
       "      <td>0.103466</td>\n",
       "      <td>-0.037720</td>\n",
       "      <td>-0.654182</td>\n",
       "      <td>0.037720</td>\n",
       "      <td>0.654182</td>\n",
       "      <td>EN</td>\n",
       "      <td>HERPUD1_chr16:56935313-56935403</td>\n",
       "      <td>ENSG00000051108.15_1_CE_3</td>\n",
       "      <td>56935404-56935475</td>\n",
       "      <td>4.064704e-02</td>\n",
       "      <td>False</td>\n",
       "    </tr>\n",
       "    <tr>\n",
       "      <th>...</th>\n",
       "      <td>...</td>\n",
       "      <td>...</td>\n",
       "      <td>...</td>\n",
       "      <td>...</td>\n",
       "      <td>...</td>\n",
       "      <td>...</td>\n",
       "      <td>...</td>\n",
       "      <td>...</td>\n",
       "      <td>...</td>\n",
       "      <td>...</td>\n",
       "      <td>...</td>\n",
       "      <td>...</td>\n",
       "      <td>...</td>\n",
       "      <td>...</td>\n",
       "      <td>...</td>\n",
       "      <td>...</td>\n",
       "      <td>...</td>\n",
       "      <td>...</td>\n",
       "      <td>...</td>\n",
       "      <td>...</td>\n",
       "      <td>...</td>\n",
       "      <td>...</td>\n",
       "      <td>...</td>\n",
       "      <td>...</td>\n",
       "      <td>...</td>\n",
       "      <td>...</td>\n",
       "      <td>...</td>\n",
       "      <td>...</td>\n",
       "    </tr>\n",
       "    <tr>\n",
       "      <th>20042</th>\n",
       "      <td>chr8</td>\n",
       "      <td>62918514</td>\n",
       "      <td>62965353</td>\n",
       "      <td>+</td>\n",
       "      <td>1</td>\n",
       "      <td>3354</td>\n",
       "      <td>ENSG00000185942</td>\n",
       "      <td>ENSG00000185942</td>\n",
       "      <td>1</td>\n",
       "      <td>ENSG00000185942</td>\n",
       "      <td>NKAIN3</td>\n",
       "      <td>46839</td>\n",
       "      <td>NKAIN3_chr8_62965353_+</td>\n",
       "      <td>4</td>\n",
       "      <td>1</td>\n",
       "      <td>three_prime</td>\n",
       "      <td>0.892739</td>\n",
       "      <td>0.181934</td>\n",
       "      <td>0.710805</td>\n",
       "      <td>2.294821</td>\n",
       "      <td>0.710805</td>\n",
       "      <td>2.294821</td>\n",
       "      <td>EN</td>\n",
       "      <td>NKAIN3_chr8:62918514-62965353</td>\n",
       "      <td>ENSG00000185942.13_1_CE_5</td>\n",
       "      <td>62918453-62918513</td>\n",
       "      <td>0.000000e+00</td>\n",
       "      <td>True</td>\n",
       "    </tr>\n",
       "    <tr>\n",
       "      <th>15170</th>\n",
       "      <td>chr3</td>\n",
       "      <td>181715293</td>\n",
       "      <td>181739568</td>\n",
       "      <td>+</td>\n",
       "      <td>1</td>\n",
       "      <td>853</td>\n",
       "      <td>ENSG00000242808</td>\n",
       "      <td>ENSG00000242808</td>\n",
       "      <td>1</td>\n",
       "      <td>ENSG00000242808</td>\n",
       "      <td>SOX2-OT</td>\n",
       "      <td>24275</td>\n",
       "      <td>SOX2-OT_chr3_181739568_+</td>\n",
       "      <td>3</td>\n",
       "      <td>1</td>\n",
       "      <td>three_prime</td>\n",
       "      <td>0.657379</td>\n",
       "      <td>0.516045</td>\n",
       "      <td>0.141333</td>\n",
       "      <td>0.349226</td>\n",
       "      <td>0.141333</td>\n",
       "      <td>0.349226</td>\n",
       "      <td>EN</td>\n",
       "      <td>SOX2-OT_chr3:181715293-181739568</td>\n",
       "      <td>ENSG00000242808.12_1_CE_28</td>\n",
       "      <td>181715185-181715292</td>\n",
       "      <td>2.248355e-02</td>\n",
       "      <td>True</td>\n",
       "    </tr>\n",
       "    <tr>\n",
       "      <th>20039</th>\n",
       "      <td>chr8</td>\n",
       "      <td>62953973</td>\n",
       "      <td>62965353</td>\n",
       "      <td>+</td>\n",
       "      <td>1</td>\n",
       "      <td>1690</td>\n",
       "      <td>ENSG00000185942</td>\n",
       "      <td>ENSG00000185942</td>\n",
       "      <td>1</td>\n",
       "      <td>ENSG00000185942</td>\n",
       "      <td>NKAIN3</td>\n",
       "      <td>11380</td>\n",
       "      <td>NKAIN3_chr8_62965353_+</td>\n",
       "      <td>4</td>\n",
       "      <td>1</td>\n",
       "      <td>three_prime</td>\n",
       "      <td>0.083399</td>\n",
       "      <td>0.807332</td>\n",
       "      <td>-0.723933</td>\n",
       "      <td>-3.275057</td>\n",
       "      <td>0.723933</td>\n",
       "      <td>3.275057</td>\n",
       "      <td>EN</td>\n",
       "      <td>NKAIN3_chr8:62953973-62965353</td>\n",
       "      <td>ENSG00000185942.13_1_CE_8</td>\n",
       "      <td>62953902-62953972</td>\n",
       "      <td>0.000000e+00</td>\n",
       "      <td>True</td>\n",
       "    </tr>\n",
       "    <tr>\n",
       "      <th>36742</th>\n",
       "      <td>chr3</td>\n",
       "      <td>342083</td>\n",
       "      <td>342983</td>\n",
       "      <td>+</td>\n",
       "      <td>1</td>\n",
       "      <td>473</td>\n",
       "      <td>ENSG00000134121</td>\n",
       "      <td>ENSG00000134121</td>\n",
       "      <td>1</td>\n",
       "      <td>ENSG00000134121</td>\n",
       "      <td>CHL1</td>\n",
       "      <td>900</td>\n",
       "      <td>CHL1_chr3_342083_+</td>\n",
       "      <td>2</td>\n",
       "      <td>1</td>\n",
       "      <td>five_prime</td>\n",
       "      <td>0.089753</td>\n",
       "      <td>0.612423</td>\n",
       "      <td>-0.522670</td>\n",
       "      <td>-2.770501</td>\n",
       "      <td>0.522670</td>\n",
       "      <td>2.770501</td>\n",
       "      <td>EN</td>\n",
       "      <td>CHL1_chr3:342083-342983</td>\n",
       "      <td>ENSG00000134121.10_1_CE_5</td>\n",
       "      <td>342984-343031</td>\n",
       "      <td>4.762374e-58</td>\n",
       "      <td>True</td>\n",
       "    </tr>\n",
       "    <tr>\n",
       "      <th>18062</th>\n",
       "      <td>chr6</td>\n",
       "      <td>87500668</td>\n",
       "      <td>87501157</td>\n",
       "      <td>+</td>\n",
       "      <td>1</td>\n",
       "      <td>425</td>\n",
       "      <td>ENSG00000164414</td>\n",
       "      <td>ENSG00000164414</td>\n",
       "      <td>1</td>\n",
       "      <td>ENSG00000164414</td>\n",
       "      <td>SLC35A1</td>\n",
       "      <td>489</td>\n",
       "      <td>SLC35A1_chr6_87501157_+</td>\n",
       "      <td>3</td>\n",
       "      <td>1</td>\n",
       "      <td>three_prime</td>\n",
       "      <td>0.782833</td>\n",
       "      <td>0.945454</td>\n",
       "      <td>-0.162622</td>\n",
       "      <td>-0.272304</td>\n",
       "      <td>0.162622</td>\n",
       "      <td>0.272304</td>\n",
       "      <td>EN</td>\n",
       "      <td>SLC35A1_chr6:87500668-87501157</td>\n",
       "      <td>ENSG00000164414.19_1_CE_5</td>\n",
       "      <td>87500508-87500667</td>\n",
       "      <td>1.787324e-02</td>\n",
       "      <td>True</td>\n",
       "    </tr>\n",
       "  </tbody>\n",
       "</table>\n",
       "<p>11793 rows × 28 columns</p>\n",
       "</div>"
      ],
      "text/plain": [
       "      chromosome      start        end strand  intron_motif  n_cells  \\\n",
       "4           chr1     999614     999691      -             2      724   \n",
       "30866      chr16   53222756   53223449      +             1      288   \n",
       "30889      chr16   56625880   56626465      +             1      521   \n",
       "30891      chr16   56682569   56683164      +             1      926   \n",
       "30898      chr16   56935313   56935403      +             1       81   \n",
       "...          ...        ...        ...    ...           ...      ...   \n",
       "20042       chr8   62918514   62965353      +             1     3354   \n",
       "15170       chr3  181715293  181739568      +             1      853   \n",
       "20039       chr8   62953973   62965353      +             1     1690   \n",
       "36742       chr3     342083     342983      +             1      473   \n",
       "18062       chr6   87500668   87501157      +             1      425   \n",
       "\n",
       "         gene_id_start      gene_id_end  n_genes          gene_id gene_name  \\\n",
       "4      ENSG00000188290  ENSG00000188290        1  ENSG00000188290      HES4   \n",
       "30866  ENSG00000177200  ENSG00000177200        1  ENSG00000177200      CHD9   \n",
       "30889  ENSG00000169715  ENSG00000169715        1  ENSG00000169715      MT1E   \n",
       "30891  ENSG00000187193  ENSG00000187193        1  ENSG00000187193      MT1X   \n",
       "30898  ENSG00000051108  ENSG00000051108        1  ENSG00000051108   HERPUD1   \n",
       "...                ...              ...      ...              ...       ...   \n",
       "20042  ENSG00000185942  ENSG00000185942        1  ENSG00000185942    NKAIN3   \n",
       "15170  ENSG00000242808  ENSG00000242808        1  ENSG00000242808   SOX2-OT   \n",
       "20039  ENSG00000185942  ENSG00000185942        1  ENSG00000185942    NKAIN3   \n",
       "36742  ENSG00000134121  ENSG00000134121        1  ENSG00000134121      CHL1   \n",
       "18062  ENSG00000164414  ENSG00000164414        1  ENSG00000164414   SLC35A1   \n",
       "\n",
       "        size              intron_group  intron_group_size  \\\n",
       "4         77        HES4_chr1_999614_-                  2   \n",
       "30866    693     CHD9_chr16_53222756_+                  3   \n",
       "30889    585     MT1E_chr16_56625880_+                  2   \n",
       "30891    595     MT1X_chr16_56682569_+                  2   \n",
       "30898     90  HERPUD1_chr16_56935313_+                  3   \n",
       "...      ...                       ...                ...   \n",
       "20042  46839    NKAIN3_chr8_62965353_+                  4   \n",
       "15170  24275  SOX2-OT_chr3_181739568_+                  3   \n",
       "20039  11380    NKAIN3_chr8_62965353_+                  4   \n",
       "36742    900        CHL1_chr3_342083_+                  2   \n",
       "18062    489   SLC35A1_chr6_87501157_+                  3   \n",
       "\n",
       "       n_genes_per_intron_group     grouping     psi_a     psi_b  delta_psi  \\\n",
       "4                             1  three_prime  0.781873  0.759705   0.022168   \n",
       "30866                         1   five_prime  0.058458  0.079626  -0.021168   \n",
       "30889                         1   five_prime  0.954833  0.965289  -0.010456   \n",
       "30891                         1   five_prime  0.963229  0.994052  -0.030823   \n",
       "30898                         1   five_prime  0.065746  0.103466  -0.037720   \n",
       "...                         ...          ...       ...       ...        ...   \n",
       "20042                         1  three_prime  0.892739  0.181934   0.710805   \n",
       "15170                         1  three_prime  0.657379  0.516045   0.141333   \n",
       "20039                         1  three_prime  0.083399  0.807332  -0.723933   \n",
       "36742                         1   five_prime  0.089753  0.612423  -0.522670   \n",
       "18062                         1  three_prime  0.782833  0.945454  -0.162622   \n",
       "\n",
       "        lfc_psi  abs_delta_psi  abs_lfc_psi test_group  \\\n",
       "4      0.041494       0.022168     0.041494         EN   \n",
       "30866 -0.445848       0.021168     0.445848         EN   \n",
       "30889 -0.015712       0.010456     0.015712         EN   \n",
       "30891 -0.045443       0.030823     0.045443         EN   \n",
       "30898 -0.654182       0.037720     0.654182         EN   \n",
       "...         ...            ...          ...        ...   \n",
       "20042  2.294821       0.710805     2.294821         EN   \n",
       "15170  0.349226       0.141333     0.349226         EN   \n",
       "20039 -3.275057       0.723933     3.275057         EN   \n",
       "36742 -2.770501       0.522670     2.770501         EN   \n",
       "18062 -0.272304       0.162622     0.272304         EN   \n",
       "\n",
       "                                   name              MAJIQ_event_id  \\\n",
       "4               HES4_chr1:999614-999691   ENSG00000188290.11_1_CE_1   \n",
       "30866      CHD9_chr16:53222756-53223449  ENSG00000177200.18_1_CE_13   \n",
       "30889      MT1E_chr16:56625880-56626465   ENSG00000169715.15_1_CE_1   \n",
       "30891      MT1X_chr16:56682569-56683164    ENSG00000187193.9_1_CE_1   \n",
       "30898   HERPUD1_chr16:56935313-56935403   ENSG00000051108.15_1_CE_3   \n",
       "...                                 ...                         ...   \n",
       "20042     NKAIN3_chr8:62918514-62965353   ENSG00000185942.13_1_CE_5   \n",
       "15170  SOX2-OT_chr3:181715293-181739568  ENSG00000242808.12_1_CE_28   \n",
       "20039     NKAIN3_chr8:62953973-62965353   ENSG00000185942.13_1_CE_8   \n",
       "36742           CHL1_chr3:342083-342983   ENSG00000134121.10_1_CE_5   \n",
       "18062    SLC35A1_chr6:87500668-87501157   ENSG00000164414.19_1_CE_5   \n",
       "\n",
       "                      exon          pval include  \n",
       "4            999692-999787  7.761442e-01   False  \n",
       "30866    53223450-53223507  2.956613e-01   False  \n",
       "30889    56626466-56626531  8.214110e-01   False  \n",
       "30891    56683165-56683230  3.225908e-02   False  \n",
       "30898    56935404-56935475  4.064704e-02   False  \n",
       "...                    ...           ...     ...  \n",
       "20042    62918453-62918513  0.000000e+00    True  \n",
       "15170  181715185-181715292  2.248355e-02    True  \n",
       "20039    62953902-62953972  0.000000e+00    True  \n",
       "36742        342984-343031  4.762374e-58    True  \n",
       "18062    87500508-87500667  1.787324e-02    True  \n",
       "\n",
       "[11793 rows x 28 columns]"
      ]
     },
     "execution_count": 58,
     "metadata": {},
     "output_type": "execute_result"
    }
   ],
   "source": [
    "sig_dif_EN"
   ]
  },
  {
   "cell_type": "code",
   "execution_count": 59,
   "id": "6001daba-757c-4787-a3b8-d0689c682740",
   "metadata": {
    "tags": []
   },
   "outputs": [
    {
     "data": {
      "text/plain": [
       "0        0.022168\n",
       "1       -0.021168\n",
       "2       -0.010456\n",
       "3       -0.030823\n",
       "4       -0.037720\n",
       "           ...   \n",
       "11788    0.710805\n",
       "11789    0.141333\n",
       "11790   -0.723933\n",
       "11791   -0.522670\n",
       "11792   -0.162622\n",
       "Name: delta_psi, Length: 11793, dtype: float64"
      ]
     },
     "execution_count": 59,
     "metadata": {},
     "output_type": "execute_result"
    }
   ],
   "source": [
    "sig_dif_EN['delta_psi'].reset_index(drop=True)"
   ]
  },
  {
   "cell_type": "code",
   "execution_count": 79,
   "id": "3794e3b4-c09e-42fa-9122-002e8095622d",
   "metadata": {
    "tags": []
   },
   "outputs": [
    {
     "name": "stderr",
     "output_type": "stream",
     "text": [
      "/scratch/derek/ipykernel_3274021/1654204275.py:3: UserWarning: \n",
      "\n",
      "`distplot` is a deprecated function and will be removed in seaborn v0.14.0.\n",
      "\n",
      "Please adapt your code to use either `displot` (a figure-level function with\n",
      "similar flexibility) or `histplot` (an axes-level function for histograms).\n",
      "\n",
      "For a guide to updating your code to use the new functions, please see\n",
      "https://gist.github.com/mwaskom/de44147ed2974457ad6372750bbe5751\n",
      "\n",
      "  sns.distplot(sig_dif_EN['delta_psi'].reset_index(drop=True),\n"
     ]
    },
    {
     "data": {
      "text/plain": [
       "<Axes: xlabel='delta_psi'>"
      ]
     },
     "execution_count": 79,
     "metadata": {},
     "output_type": "execute_result"
    },
    {
     "data": {
      "image/png": "[encoded data removed]",
      "text/plain": [
       "<Figure size 600x100 with 1 Axes>"
      ]
     },
     "metadata": {},
     "output_type": "display_data"
    }
   ],
   "source": [
    "fig, ax = plt.subplots(1,1,figsize=(6,1))\n",
    "\n",
    "sns.distplot(sig_dif_EN['delta_psi'].reset_index(drop=True),\n",
    "             hist=True,\n",
    "             kde=False,\n",
    "             bins=100,\n",
    "             ax=ax\n",
    "            )"
   ]
  },
  {
   "cell_type": "code",
   "execution_count": null,
   "id": "83665f98-82b8-419a-a862-672f1d6c09b5",
   "metadata": {
    "tags": []
   },
   "outputs": [],
   "source": []
  },
  {
   "cell_type": "code",
   "execution_count": null,
   "id": "a606b9f5-b6e5-4c62-ac5d-735910301054",
   "metadata": {
    "tags": []
   },
   "outputs": [],
   "source": []
  },
  {
   "cell_type": "code",
   "execution_count": 110,
   "id": "fe00b464-d53d-4082-a4d6-c3526ec8f6d9",
   "metadata": {
    "tags": []
   },
   "outputs": [
    {
     "name": "stderr",
     "output_type": "stream",
     "text": [
      "/c4/home/derek/miniconda3/envs/scquint_4/lib/python3.10/site-packages/pandas/core/arraylike.py:402: RuntimeWarning: divide by zero encountered in log10\n",
      "  result = getattr(ufunc, method)(*inputs, **kwargs)\n",
      "/scratch/derek/ipykernel_3274021/576526433.py:22: UserWarning: \n",
      "\n",
      "`distplot` is a deprecated function and will be removed in seaborn v0.14.0.\n",
      "\n",
      "Please adapt your code to use either `displot` (a figure-level function with\n",
      "similar flexibility) or `histplot` (an axes-level function for histograms).\n",
      "\n",
      "For a guide to updating your code to use the new functions, please see\n",
      "https://gist.github.com/mwaskom/de44147ed2974457ad6372750bbe5751\n",
      "\n",
      "  sns.distplot(sig_dif_EN['delta_psi'].reset_index(drop=True),\n"
     ]
    },
    {
     "data": {
      "image/png": "[encoded data removed]",
      "text/plain": [
       "<Figure size 500x600 with 2 Axes>"
      ]
     },
     "metadata": {},
     "output_type": "display_data"
    }
   ],
   "source": [
    "fig, (ax1, ax2) = plt.subplots(2,1,figsize=(5,6), gridspec_kw={'height_ratios': [1.5, 5]})\n",
    "\n",
    "fig.subplots_adjust(wspace=0, hspace=0)\n",
    "\n",
    "sns.scatterplot(x = sig_dif_EN['delta_psi'],\n",
    "                y= -np.log10(sig_dif_EN['pval']),\n",
    "                s=5,\n",
    "                linewidth=0,\n",
    "                hue=sig_dif_EN['include'],\n",
    "                ax=ax2\n",
    "               )\n",
    "\n",
    "ax2.axvline(x=-0.1, color='black', linestyle='--')\n",
    "\n",
    "ax2.axvline(x=0.1, color='black', linestyle='--')\n",
    "\n",
    "ax2.set(ylabel='-log(FDR)', xlabel='delta PSI')\n",
    "\n",
    "\n",
    "\n",
    "\n",
    "sns.distplot(sig_dif_EN['delta_psi'].reset_index(drop=True),\n",
    "             kde=False,\n",
    "             hist=True,\n",
    "             bins=100,\n",
    "             ax=ax1\n",
    "            )\n",
    "\n",
    "ax1.spines['right'].set_visible(False)\n",
    "ax1.spines['left'].set_visible(True)\n",
    "ax1.spines['top'].set_visible(False)\n",
    "\n",
    "\n",
    "ax1.set_xticks([], minor=False)\n",
    "\n",
    "fig.savefig('./included_exons.pdf')\n",
    "\n",
    "\n"
   ]
  },
  {
   "cell_type": "code",
   "execution_count": null,
   "id": "a6c4cddd-5b7f-44af-98c8-e3fb8ff5788b",
   "metadata": {},
   "outputs": [],
   "source": []
  },
  {
   "cell_type": "code",
   "execution_count": null,
   "id": "1253bdfc-fae7-432c-b019-0096e256075c",
   "metadata": {},
   "outputs": [],
   "source": []
  },
  {
   "cell_type": "code",
   "execution_count": null,
   "id": "bebea552-cd82-4370-b6cd-dc2359e24923",
   "metadata": {},
   "outputs": [],
   "source": []
  },
  {
   "cell_type": "code",
   "execution_count": null,
   "id": "28a5c477-cd4b-46d4-8b19-cdba0fd6747f",
   "metadata": {},
   "outputs": [],
   "source": []
  },
  {
   "cell_type": "code",
   "execution_count": null,
   "id": "31c0bd95-f497-4290-9a1b-fe27bcddbb2f",
   "metadata": {
    "tags": []
   },
   "outputs": [],
   "source": [
    "sig_dif_EN = sig_dif[sig_dif['test_group'] == 'EN']\n",
    "\n",
    "# sig_dif_EN = sig_dif_EN[sig_dif_EN['abs_delta_psi'] > 0.1]\n",
    "\n",
    "sig_dif_EN['MAJIQ_event_id'] = sig_dif_EN.name.map(junc_dict)\n",
    "\n",
    "sig_dif_EN = sig_dif_EN[~sig_dif_EN.MAJIQ_event_id.isna()]\n",
    "\n",
    "sig_dif_EN['exon'] = sig_dif_EN['MAJIQ_event_id'].map(dict(zip(junc_frame['MAJIQ_event_id'],junc_frame['exon'])))"
   ]
  },
  {
   "cell_type": "code",
   "execution_count": null,
   "id": "548d8d40-27e8-4eb2-97bf-00223f8ab1c6",
   "metadata": {
    "tags": []
   },
   "outputs": [],
   "source": []
  },
  {
   "cell_type": "code",
   "execution_count": null,
   "id": "0fc3a573-103a-4e9e-b346-341760512de3",
   "metadata": {
    "tags": []
   },
   "outputs": [],
   "source": [
    "# sig_dif_EN_ = sig_dif_EN.name.map(junc_dict)\n",
    "\n",
    "# sig_dif_EN_ = sig_dif_EN_[~sig_dif_EN_.isna()]"
   ]
  },
  {
   "cell_type": "code",
   "execution_count": null,
   "id": "5d2fe58f-cbe3-4b48-915a-740f03df1a8e",
   "metadata": {
    "tags": []
   },
   "outputs": [],
   "source": [
    "sig_dif_EN.shape"
   ]
  },
  {
   "cell_type": "code",
   "execution_count": null,
   "id": "d89f3df0-c2a5-4757-bcd4-6172e1cebd1b",
   "metadata": {
    "tags": []
   },
   "outputs": [],
   "source": [
    "sig_dif_EN[['exon_start','exon_end']] = sig_dif_EN['exon'].str.split('-',expand=True)\n",
    "\n",
    "sig_dif_EN['model_input'] = sig_dif_EN['chromosome']+'_'+sig_dif_EN['exon_start']+'_'+sig_dif_EN['exon_end']+'_'+sig_dif_EN['gene_id']+'_'+sig_dif_EN['strand']"
   ]
  },
  {
   "cell_type": "code",
   "execution_count": null,
   "id": "5611c236-c313-4a97-a19e-8f4915c6b468",
   "metadata": {},
   "outputs": [],
   "source": []
  },
  {
   "cell_type": "code",
   "execution_count": null,
   "id": "b87cdbf6-404f-4682-9534-e10adc743cf5",
   "metadata": {},
   "outputs": [],
   "source": []
  },
  {
   "cell_type": "code",
   "execution_count": null,
   "id": "67b7a019-fa63-4c27-b275-0402d31c7d88",
   "metadata": {},
   "outputs": [],
   "source": []
  },
  {
   "cell_type": "code",
   "execution_count": null,
   "id": "796cebcc-b776-4262-adf8-49532828c368",
   "metadata": {},
   "outputs": [],
   "source": []
  },
  {
   "cell_type": "code",
   "execution_count": null,
   "id": "44442b3b-f526-4610-90e2-c08d7823c91d",
   "metadata": {},
   "outputs": [],
   "source": []
  },
  {
   "cell_type": "code",
   "execution_count": null,
   "id": "62af9c74-8689-4253-b20a-5f2d024776f2",
   "metadata": {},
   "outputs": [],
   "source": []
  },
  {
   "cell_type": "code",
   "execution_count": null,
   "id": "c15b6c74-f650-4afc-ace3-755c555fab61",
   "metadata": {},
   "outputs": [],
   "source": []
  },
  {
   "cell_type": "code",
   "execution_count": null,
   "id": "14b28865-1d61-4672-88f6-41e36e4cb513",
   "metadata": {},
   "outputs": [],
   "source": []
  },
  {
   "cell_type": "code",
   "execution_count": null,
   "id": "6b5a62cf-fe3f-40bc-8c9b-230cd562ff90",
   "metadata": {},
   "outputs": [],
   "source": [
    "sig_dif_RG = sig_dif[sig_dif['test_group'] == 'RG']\n",
    "\n",
    "sig_dif_RG = sig_dif_RG[sig_dif_RG['abs_delta_psi'] > 0.1]\n",
    "\n",
    "sig_dif_RG['MAJIQ_event_id'] = sig_dif_RG.name.map(junc_dict)\n",
    "\n",
    "sig_dif_RG = sig_dif_RG[~sig_dif_RG.MAJIQ_event_id.isna()]\n",
    "\n",
    "sig_dif_RG['exon'] = sig_dif_RG['MAJIQ_event_id'].map(dict(zip(junc_frame['MAJIQ_event_id'],junc_frame['exon'])))"
   ]
  },
  {
   "cell_type": "code",
   "execution_count": null,
   "id": "44a7adce-2e6f-49ea-ab5a-4c876261615f",
   "metadata": {},
   "outputs": [],
   "source": [
    "# sig_dif_RG_ = sig_dif_RG.name.map(junc_dict)\n",
    "\n",
    "# sig_dif_RG_ = sig_dif_RG_[~sig_dif_RG_.isna()]"
   ]
  },
  {
   "cell_type": "code",
   "execution_count": null,
   "id": "a9bdc5e2-8bfa-49ba-84c2-297cb928fabb",
   "metadata": {
    "tags": []
   },
   "outputs": [],
   "source": [
    "sig_dif_RG.shape"
   ]
  },
  {
   "cell_type": "code",
   "execution_count": null,
   "id": "6f34e99c-6828-4635-8466-02b642478810",
   "metadata": {
    "tags": []
   },
   "outputs": [],
   "source": [
    "sig_dif_RG[['exon_start','exon_end']] = sig_dif_RG['exon'].str.split('-',expand=True)\n",
    "\n",
    "sig_dif_RG['model_input'] = sig_dif_RG['chromosome']+'_'+sig_dif_RG['exon_start']+'_'+sig_dif_RG['exon_end']+'_'+sig_dif_RG['gene_id']+'_'+sig_dif_RG['strand']"
   ]
  },
  {
   "cell_type": "code",
   "execution_count": null,
   "id": "4c845ef2-191e-4127-ab16-b422d9d8151a",
   "metadata": {
    "tags": []
   },
   "outputs": [],
   "source": [
    "# sig_dif_RG.to_csv('sig_dif_RG_table_0.1_.csv')\n",
    "# sig_dif_EN.to_csv('sig_dif_EN_table_0.1_.csv')"
   ]
  },
  {
   "cell_type": "code",
   "execution_count": null,
   "id": "287faaf1-2719-4baf-ad36-6521e97996fb",
   "metadata": {
    "tags": []
   },
   "outputs": [],
   "source": [
    "sig_dif_EN.head(1)"
   ]
  },
  {
   "cell_type": "code",
   "execution_count": null,
   "id": "2b6c4d2b-74f9-465d-8307-baaacc2c5104",
   "metadata": {
    "tags": []
   },
   "outputs": [],
   "source": [
    "sig_dif_RG.head(1)"
   ]
  },
  {
   "cell_type": "code",
   "execution_count": null,
   "id": "77c2deb9-ffe6-46b0-954b-74fd2be25083",
   "metadata": {},
   "outputs": [],
   "source": []
  },
  {
   "cell_type": "code",
   "execution_count": null,
   "id": "e34301a8-6f93-446c-b5ab-e74b79ec8ef9",
   "metadata": {
    "tags": []
   },
   "outputs": [],
   "source": [
    "break"
   ]
  },
  {
   "cell_type": "markdown",
   "id": "e4728e54-8b7f-4321-ba4e-6f7ba0804b32",
   "metadata": {},
   "source": [
    "## generate exon table with lower thresholds"
   ]
  },
  {
   "cell_type": "code",
   "execution_count": null,
   "id": "85a2acd9-fe69-4c0c-887a-f2360210bf89",
   "metadata": {},
   "outputs": [],
   "source": [
    "# get scquint DS results between celltypes\n",
    "sig_dif = pd.read_csv('/nowakowskilab/data1/derek/scSLR/notebooks/fig3/sig_dif_RG_EN_0.05.csv',index_col=0)"
   ]
  },
  {
   "cell_type": "code",
   "execution_count": null,
   "id": "b2ef89b1-efc5-49fd-a938-8ba17ee74f39",
   "metadata": {
    "tags": []
   },
   "outputs": [],
   "source": [
    "sig_dif_EN = sig_dif[sig_dif['test_group'] == 'EN']\n",
    "\n",
    "sig_dif_EN = sig_dif_EN[sig_dif_EN['abs_delta_psi'] > 0.05]\n",
    "\n",
    "sig_dif_EN['MAJIQ_event_id'] = sig_dif_EN.name.map(junc_dict)\n",
    "\n",
    "sig_dif_EN = sig_dif_EN[~sig_dif_EN.MAJIQ_event_id.isna()]\n",
    "\n",
    "sig_dif_EN['exon'] = sig_dif_EN['MAJIQ_event_id'].map(dict(zip(junc_frame['MAJIQ_event_id'],junc_frame['exon'])))"
   ]
  },
  {
   "cell_type": "code",
   "execution_count": null,
   "id": "3737b280-427b-4e3e-a07d-c874c9be2a1f",
   "metadata": {
    "tags": []
   },
   "outputs": [],
   "source": [
    "sig_dif_EN.shape"
   ]
  },
  {
   "cell_type": "code",
   "execution_count": null,
   "id": "a2e3a7f6-e6e4-4b91-bd66-2beb0c4f2f82",
   "metadata": {
    "tags": []
   },
   "outputs": [],
   "source": [
    "sig_dif_EN[['exon_start','exon_end']] = sig_dif_EN['exon'].str.split('-',expand=True)\n",
    "\n",
    "sig_dif_EN['model_input'] = sig_dif_EN['chromosome']+'_'+sig_dif_EN['exon_start']+'_'+sig_dif_EN['exon_end']+'_'+sig_dif_EN['gene_id']+'_'+sig_dif_EN['strand']"
   ]
  },
  {
   "cell_type": "code",
   "execution_count": null,
   "id": "5d2449da-6af6-4e40-992f-4d2538d40a2f",
   "metadata": {},
   "outputs": [],
   "source": [
    "sig_dif_RG = sig_dif[sig_dif['test_group'] == 'RG']\n",
    "\n",
    "sig_dif_RG = sig_dif_RG[sig_dif_RG['abs_delta_psi'] > 0.05]\n",
    "\n",
    "sig_dif_RG['MAJIQ_event_id'] = sig_dif_RG.name.map(junc_dict)\n",
    "\n",
    "sig_dif_RG = sig_dif_RG[~sig_dif_RG.MAJIQ_event_id.isna()]\n",
    "\n",
    "sig_dif_RG['exon'] = sig_dif_RG['MAJIQ_event_id'].map(dict(zip(junc_frame['MAJIQ_event_id'],junc_frame['exon'])))"
   ]
  },
  {
   "cell_type": "code",
   "execution_count": null,
   "id": "ea791c0d-4f0a-4ea3-8088-ecb16d87983f",
   "metadata": {},
   "outputs": [],
   "source": [
    "sig_dif_RG.shape"
   ]
  },
  {
   "cell_type": "code",
   "execution_count": null,
   "id": "037f5e70-5360-4a5e-8159-e49e2f115983",
   "metadata": {},
   "outputs": [],
   "source": [
    "sig_dif_RG[['exon_start','exon_end']] = sig_dif_RG['exon'].str.split('-',expand=True)\n",
    "\n",
    "sig_dif_RG['model_input'] = sig_dif_RG['chromosome']+'_'+sig_dif_RG['exon_start']+'_'+sig_dif_RG['exon_end']+'_'+sig_dif_RG['gene_id']+'_'+sig_dif_RG['strand']"
   ]
  },
  {
   "cell_type": "code",
   "execution_count": null,
   "id": "02f71679-efae-4be4-92a4-9706a2d5ae88",
   "metadata": {},
   "outputs": [],
   "source": [
    "# sig_dif_RG.to_csv('sig_dif_RG_table_0.05_.csv')\n",
    "# sig_dif_EN.to_csv('sig_dif_EN_table_0.05_.csv')"
   ]
  },
  {
   "cell_type": "code",
   "execution_count": null,
   "id": "3855642a-3618-47b5-8afc-bc6aac8bf19c",
   "metadata": {},
   "outputs": [],
   "source": []
  },
  {
   "cell_type": "code",
   "execution_count": null,
   "id": "0c7f0272-1233-47b3-ad05-53a45595767a",
   "metadata": {},
   "outputs": [],
   "source": []
  },
  {
   "cell_type": "code",
   "execution_count": null,
   "id": "0461edcb-f166-41d3-8d29-fc9e7f675e10",
   "metadata": {},
   "outputs": [],
   "source": []
  },
  {
   "cell_type": "code",
   "execution_count": null,
   "id": "5ee3cee5-d81b-47ee-a4d4-62c0783d95ef",
   "metadata": {},
   "outputs": [],
   "source": []
  },
  {
   "cell_type": "code",
   "execution_count": null,
   "id": "e4209cb9-1692-42cd-83e3-f31d23e32985",
   "metadata": {},
   "outputs": [],
   "source": []
  },
  {
   "cell_type": "code",
   "execution_count": null,
   "id": "68066caa-3db6-4b29-b9ba-1bd09a039c7f",
   "metadata": {},
   "outputs": [],
   "source": [
    "# get scquint DS results between celltypes\n",
    "unsig_dif = pd.read_csv('/nowakowskilab/data1/derek/scSLR/notebooks/fig3/unsig_dif_RG_EN.csv',index_col=0)"
   ]
  },
  {
   "cell_type": "code",
   "execution_count": null,
   "id": "93766084-a11b-45d8-8c50-f559334e1e4e",
   "metadata": {},
   "outputs": [],
   "source": []
  },
  {
   "cell_type": "code",
   "execution_count": null,
   "id": "0aac4b58-c1dc-480c-acfa-cd746cb52429",
   "metadata": {},
   "outputs": [],
   "source": [
    "unsig_dif_EN = unsig_dif[unsig_dif['test_group'] == 'EN']\n",
    "\n",
    "# sig_dif_EN = sig_dif_EN[sig_dif_EN['delta_psi'] > 0.1]"
   ]
  },
  {
   "cell_type": "code",
   "execution_count": null,
   "id": "291971ae-29a9-4422-a319-516a627309bb",
   "metadata": {},
   "outputs": [],
   "source": [
    "unsig_dif_EN['MAJIQ_event_id'] = unsig_dif_EN.name.map(junc_dict)\n",
    "\n",
    "unsig_dif_EN = unsig_dif_EN[~unsig_dif_EN.MAJIQ_event_id.isna()]\n",
    "\n",
    "unsig_dif_EN['exon'] = unsig_dif_EN['MAJIQ_event_id'].map(dict(zip(junc_frame['MAJIQ_event_id'],junc_frame['exon'])))"
   ]
  },
  {
   "cell_type": "code",
   "execution_count": null,
   "id": "5afdb942-b460-4baa-98ff-5b93ed621f26",
   "metadata": {},
   "outputs": [],
   "source": [
    "unsig_dif_EN[['exon_start','exon_end']] = unsig_dif_EN['exon'].str.split('-',expand=True)\n",
    "\n",
    "unsig_dif_EN['model_input'] = unsig_dif_EN['chromosome']+'_'+unsig_dif_EN['exon_start']+'_'+unsig_dif_EN['exon_end']+'_'+unsig_dif_EN['gene_id']+'_'+unsig_dif_EN['strand']"
   ]
  },
  {
   "cell_type": "code",
   "execution_count": null,
   "id": "8eafa0ea-8956-40a3-a242-bddc6fcc2596",
   "metadata": {},
   "outputs": [],
   "source": [
    "unsig_dif_RG = unsig_dif[unsig_dif['test_group'] == 'RG']\n",
    "\n",
    "# sig_dif_RG = sig_dif_RG[sig_dif_RG['delta_psi'] > 0.1]"
   ]
  },
  {
   "cell_type": "code",
   "execution_count": null,
   "id": "08cf6d0f-d4f6-4920-b228-9e0dd6b1ec1d",
   "metadata": {},
   "outputs": [],
   "source": [
    "unsig_dif_RG['MAJIQ_event_id'] = unsig_dif_RG.name.map(junc_dict)\n",
    "\n",
    "unsig_dif_RG = unsig_dif_RG[~unsig_dif_RG.MAJIQ_event_id.isna()]\n",
    "\n",
    "unsig_dif_RG['exon'] = unsig_dif_RG['MAJIQ_event_id'].map(dict(zip(junc_frame['MAJIQ_event_id'],junc_frame['exon'])))"
   ]
  },
  {
   "cell_type": "code",
   "execution_count": null,
   "id": "376544dd-8154-4fcf-8d3b-c0f65852f137",
   "metadata": {},
   "outputs": [],
   "source": [
    "unsig_dif_RG[['exon_start','exon_end']] = unsig_dif_RG['exon'].str.split('-',expand=True)\n",
    "\n",
    "unsig_dif_RG['model_input'] = unsig_dif_RG['chromosome']+'_'+unsig_dif_RG['exon_start']+'_'+unsig_dif_RG['exon_end']+'_'+unsig_dif_RG['gene_id']+'_'+unsig_dif_RG['strand']"
   ]
  },
  {
   "cell_type": "code",
   "execution_count": null,
   "id": "8e8769ad-cbad-46e5-bbaa-9952a0b8ece3",
   "metadata": {
    "tags": []
   },
   "outputs": [],
   "source": [
    "# sig_dif_EN_.to_csv('/nowakowskilab/data1/derek/scSLR/notebooks/fig4/sig_dif_EN_0.2.txt', header=None, index=False)\n",
    "\n",
    "# sig_dif_RG_.to_csv('/nowakowskilab/data1/derek/scSLR/notebooks/fig4/sig_dif_RG_0.2.txt', header=None, index=False)"
   ]
  },
  {
   "cell_type": "code",
   "execution_count": null,
   "id": "78d14f4e-d1a2-40f0-9686-4a1ff3a9c768",
   "metadata": {},
   "outputs": [],
   "source": [
    "unsig_dif_EN"
   ]
  },
  {
   "cell_type": "code",
   "execution_count": null,
   "id": "a2fb910b-ed31-44de-b8ac-24749deffd73",
   "metadata": {},
   "outputs": [],
   "source": [
    "set(sig_dif_RG.model_input).intersection(unsig_dif_RG.model_input)"
   ]
  },
  {
   "cell_type": "code",
   "execution_count": null,
   "id": "5db46a67-ae3e-4744-b666-878b18f001fe",
   "metadata": {},
   "outputs": [],
   "source": [
    "unsig_dif_RG = unsig_dif_RG[~unsig_dif_RG.model_input.isin(set(sig_dif_RG.model_input).intersection(unsig_dif_RG.model_input))]"
   ]
  },
  {
   "cell_type": "code",
   "execution_count": null,
   "id": "7df43c0e-1024-4fdc-84e5-4860275f956c",
   "metadata": {},
   "outputs": [],
   "source": [
    "set(sig_dif_EN.model_input).intersection(unsig_dif_EN.model_input)"
   ]
  },
  {
   "cell_type": "code",
   "execution_count": null,
   "id": "6e21aef6-8eb9-40e4-9675-cf6d17e603a3",
   "metadata": {},
   "outputs": [],
   "source": [
    "unsig_dif_EN = unsig_dif_EN[~unsig_dif_EN.model_input.isin(set(sig_dif_EN.model_input).intersection(unsig_dif_EN.model_input))]"
   ]
  },
  {
   "cell_type": "code",
   "execution_count": null,
   "id": "1a47c137-81bd-42f8-a722-c007f3e5af38",
   "metadata": {},
   "outputs": [],
   "source": []
  },
  {
   "cell_type": "code",
   "execution_count": null,
   "id": "cb9c9ce9-dfe0-446b-89cb-463d66a21feb",
   "metadata": {},
   "outputs": [],
   "source": [
    "NULL = unsig_dif_EN[unsig_dif_EN.model_input.isin(set(unsig_dif_RG.model_input).intersection(unsig_dif_EN.model_input)\n",
    "                                          )]"
   ]
  },
  {
   "cell_type": "code",
   "execution_count": null,
   "id": "b2d7383c-0cb3-438f-91d3-a239d5090c7e",
   "metadata": {},
   "outputs": [],
   "source": [
    "NULL.to_csv('/nowakowskilab/data1/derek/data_scSLR/prenatal_brain/deep_splicing/transfer_learning/sig_dif_NULL_table.csv', \n",
    "       #     header=None, index=False\n",
    "           )"
   ]
  },
  {
   "cell_type": "code",
   "execution_count": null,
   "id": "c31e2d6f-d88f-4078-91ba-9325fab3b3d0",
   "metadata": {},
   "outputs": [],
   "source": []
  },
  {
   "cell_type": "code",
   "execution_count": null,
   "id": "c289432e-38ed-4391-8cd4-67988bb89810",
   "metadata": {},
   "outputs": [],
   "source": [
    "NULL"
   ]
  },
  {
   "cell_type": "code",
   "execution_count": null,
   "id": "26d2100b-75c9-4ef8-a488-c75af86c64fa",
   "metadata": {},
   "outputs": [],
   "source": []
  },
  {
   "cell_type": "code",
   "execution_count": null,
   "id": "bd84ef1d-0429-4442-a98d-47160c19e3d4",
   "metadata": {},
   "outputs": [],
   "source": []
  },
  {
   "cell_type": "code",
   "execution_count": null,
   "id": "3b42ab8b-c74b-4d5d-bcfc-3557713994cd",
   "metadata": {},
   "outputs": [],
   "source": []
  },
  {
   "cell_type": "code",
   "execution_count": null,
   "id": "38047b5d-d8db-44b0-83f4-2a723682e38b",
   "metadata": {},
   "outputs": [],
   "source": []
  },
  {
   "cell_type": "code",
   "execution_count": null,
   "id": "0c132f0a-2ceb-481d-80f0-7e84cdab2a76",
   "metadata": {},
   "outputs": [],
   "source": []
  },
  {
   "cell_type": "markdown",
   "id": "1585da12-d999-4e2d-a15f-4d2d8b0ec715",
   "metadata": {},
   "source": [
    "# get PSI values from scquint anndata"
   ]
  },
  {
   "cell_type": "code",
   "execution_count": null,
   "id": "55a7c589-0538-49d8-b943-7b9e669f188a",
   "metadata": {},
   "outputs": [],
   "source": [
    "var_df_"
   ]
  },
  {
   "cell_type": "code",
   "execution_count": null,
   "id": "643370a6-9c0b-4335-9eb1-fb0f2c576f4b",
   "metadata": {},
   "outputs": [],
   "source": [
    "%%time\n",
    "adata.var['MAJIQ_IDS'] = adata.var_names.map(junc_dict)\n",
    "\n",
    "adata_ = adata[:,adata.var.intron_group.isin(var_df_.index)]\n",
    "\n",
    "adata_.layers[\"PSI_raw\"] = calculate_PSI(adata_, smooth=False)"
   ]
  },
  {
   "cell_type": "code",
   "execution_count": null,
   "id": "73abb8a0-1d3c-448b-bb75-49b44f6f5570",
   "metadata": {},
   "outputs": [],
   "source": []
  },
  {
   "cell_type": "code",
   "execution_count": null,
   "id": "99ea37c4-3638-47f5-bf38-092c6333ba42",
   "metadata": {},
   "outputs": [],
   "source": [
    "#adata_.write_h5ad('MAJIQ_cassette.h5ad')\n",
    "#adata_ = sc.read_h5ad('MAJIQ_cassette.h5ad')"
   ]
  },
  {
   "cell_type": "code",
   "execution_count": null,
   "id": "d3d3d677-0c5d-406e-8240-15a1f5a1bd73",
   "metadata": {},
   "outputs": [],
   "source": []
  },
  {
   "cell_type": "code",
   "execution_count": null,
   "id": "2dcd3710-302d-43ac-95a8-8b73e80cf8df",
   "metadata": {},
   "outputs": [],
   "source": [
    "var_df = adata_.var"
   ]
  },
  {
   "cell_type": "code",
   "execution_count": null,
   "id": "4ef69ab3-4d36-4162-bada-2b1c205e01b7",
   "metadata": {},
   "outputs": [],
   "source": [
    "var_df['intron'] = var_df.index\n",
    "var_df['exon'] = var_df.MAJIQ_IDS.map(dict(zip(junc_frame.MAJIQ_event_id,junc_frame.exon)))\n",
    "\n",
    "var_df['upstream_exon'] = var_df.MAJIQ_IDS.map(dict(zip(junc_frame.MAJIQ_event_id,junc_frame.upstream_exon)))\n",
    "var_df['downstream_exon'] = var_df.MAJIQ_IDS.map(dict(zip(junc_frame.MAJIQ_event_id,junc_frame.downstream_exon)))\n",
    "\n",
    "var_df= var_df[~var_df['MAJIQ_IDS'].isna()]"
   ]
  },
  {
   "cell_type": "code",
   "execution_count": null,
   "id": "153a45fa-08a1-4866-b3da-c50ed742a45a",
   "metadata": {},
   "outputs": [],
   "source": []
  },
  {
   "cell_type": "code",
   "execution_count": null,
   "id": "717b8957-b1f0-485f-be2b-f0594c04b83a",
   "metadata": {},
   "outputs": [],
   "source": [
    "adata = adata_[:,var_df['intron']]"
   ]
  },
  {
   "cell_type": "code",
   "execution_count": null,
   "id": "70545be5-8905-4bf2-beda-3c97c7c85205",
   "metadata": {},
   "outputs": [],
   "source": [
    "adata.var[['exon_start','exon_end']] = adata.var.exon.str.split('-',expand =True )"
   ]
  },
  {
   "cell_type": "code",
   "execution_count": null,
   "id": "6b796534-f750-4eb0-95d9-191d4eaeafe3",
   "metadata": {},
   "outputs": [],
   "source": []
  },
  {
   "cell_type": "code",
   "execution_count": null,
   "id": "eef2a8e7-9481-4852-a20b-8cac2179bb61",
   "metadata": {},
   "outputs": [],
   "source": [
    "adata.var['exon'] = adata.var.index.map((dict(zip(var_df.intron,var_df.exon))))\n",
    "adata.var['MAJIQ_IDS'] = adata.var.index.map((dict(zip(var_df.intron,var_df.MAJIQ_IDS))))\n",
    "\n",
    "adata.var['upstream_exon'] = adata.var.index.map((dict(zip(var_df.intron,var_df.upstream_exon))))\n",
    "adata.var['downstream_exon'] = adata.var.index.map((dict(zip(var_df.intron,var_df.downstream_exon))))"
   ]
  },
  {
   "cell_type": "code",
   "execution_count": null,
   "id": "97ea9b6d-6acb-4e8d-98e5-68023bb422fc",
   "metadata": {},
   "outputs": [],
   "source": [
    "simplify_dict = {'Astrocyte': 'RG',\n",
    " 'EN-PFC': 'EN',\n",
    " 'EN-V1': 'EN',\n",
    " 'Endothelial': 'Endothelial',\n",
    " 'Glyc': 'Glyc',\n",
    " 'IN-CTX-CGE': 'IN',\n",
    " 'IN-CTX-MGE': 'IN',\n",
    " 'IN-STR': 'IN',\n",
    " 'IPC-div': 'IPC-nEN',\n",
    " 'IPC-nEN': 'IPC-nEN',\n",
    " 'MGE-IPC': 'MGE-IPC',\n",
    " 'MGE-RG': 'MGE-RG',\n",
    " 'MGE-div': 'MGE-RG',\n",
    " 'Microglia': 'Microglia',\n",
    " 'Mural': 'Mural',\n",
    " 'OPC': 'RG',\n",
    " 'RG': 'RG',\n",
    " 'RG-div': 'RG',\n",
    " 'RBC': 'RBC',\n",
    " 'nEN': 'EN',\n",
    " 'nIN': 'nIN'}\n",
    "\n",
    "\n",
    "# grouping MGE RG with RG\n",
    "\n",
    "# simplify_dict = {'Astrocyte': 'RG',\n",
    "#  'EN-PFC': 'EN',\n",
    "#  'EN-V1': 'EN',\n",
    "#  'Endothelial': 'Endothelial',\n",
    "#  'Glyc': 'Glyc',\n",
    "#  'IN-CTX-CGE': 'IN-CTX-CGE',\n",
    "#  'IN-CTX-MGE': 'IN-CTX-MGE',\n",
    "#  'IN-STR': 'IN-STR',\n",
    "#  'IPC-div': 'IPC-nEN',\n",
    "#  'IPC-nEN': 'IPC-nEN',\n",
    "#  'MGE-IPC': 'MGE-IPC',\n",
    "#  'MGE-RG': 'RG',\n",
    "#  'MGE-div': 'RG',\n",
    "#  'Microglia': 'Microglia',\n",
    "#  'Mural': 'Mural',\n",
    "#  'OPC': 'RG',\n",
    "#  'RG': 'RG',\n",
    "#  'RG-div': 'RG',\n",
    "#  'RBC': 'RBC',\n",
    "#  'nEN': 'EN',\n",
    "#  'nIN': 'nIN'}"
   ]
  },
  {
   "cell_type": "code",
   "execution_count": null,
   "id": "7594b056-3294-411c-8050-272f84377e1d",
   "metadata": {},
   "outputs": [],
   "source": [
    "adata.obs['C_scANVI_simple'] = adata.obs.C_scANVI_simple.map(simplify_dict)"
   ]
  },
  {
   "cell_type": "code",
   "execution_count": null,
   "id": "0a067200-f2d2-4a23-926e-1942dcdbf8f0",
   "metadata": {},
   "outputs": [],
   "source": [
    "adata.obs['C_scANVI_simple'].value_counts()"
   ]
  },
  {
   "cell_type": "code",
   "execution_count": null,
   "id": "3ee5efb6-baf1-40fb-b86e-c3768001e370",
   "metadata": {},
   "outputs": [],
   "source": [
    "adata"
   ]
  },
  {
   "cell_type": "code",
   "execution_count": null,
   "id": "3907ef88-57c2-46d9-8360-9dd086640d5a",
   "metadata": {},
   "outputs": [],
   "source": []
  },
  {
   "cell_type": "code",
   "execution_count": null,
   "id": "a25b7920-2cea-410d-86f6-878ff0e410f1",
   "metadata": {},
   "outputs": [],
   "source": [
    "#adata.var.to_csv('cass_var.csv')"
   ]
  },
  {
   "cell_type": "code",
   "execution_count": null,
   "id": "8c236cd2-f25c-4b81-9d46-fb2f0dfe02a1",
   "metadata": {},
   "outputs": [],
   "source": [
    "diff_spliced = pd.read_csv(output_dir+'diff_spliced_introns_EN_RG.csv', index_col=0)\n",
    "\n",
    "diff_spliced = diff_spliced[diff_spliced['test_group'] == 'EN']\n",
    "\n",
    "temp = pd.merge(adata.var, diff_spliced[['name','abs_delta_psi']], left_on='var_name',right_on='name')"
   ]
  },
  {
   "cell_type": "code",
   "execution_count": null,
   "id": "55ca34be-877d-4b92-83bb-24c35ff4cfdd",
   "metadata": {},
   "outputs": [],
   "source": [
    "temp"
   ]
  },
  {
   "cell_type": "code",
   "execution_count": null,
   "id": "72f91e5a-495d-4422-882f-386e84a9f644",
   "metadata": {},
   "outputs": [],
   "source": [
    "temp[temp.abs_delta_psi >0.05].shape"
   ]
  },
  {
   "cell_type": "code",
   "execution_count": null,
   "id": "041ef69a-999a-433e-bdd9-e1a3c90ab6db",
   "metadata": {},
   "outputs": [],
   "source": [
    "temp_ = temp[temp.abs_delta_psi >0.1]"
   ]
  },
  {
   "cell_type": "code",
   "execution_count": null,
   "id": "87ef0f1a-cd31-4800-a50e-6b7b534ca595",
   "metadata": {},
   "outputs": [],
   "source": [
    "temp_"
   ]
  },
  {
   "cell_type": "code",
   "execution_count": null,
   "id": "d7557cc8-1a61-4494-a2b9-8a09621b22f6",
   "metadata": {},
   "outputs": [],
   "source": [
    "# PSI_annot = adata.var.loc[PSI.index]"
   ]
  },
  {
   "cell_type": "code",
   "execution_count": null,
   "id": "84e2d5a9-c87d-4ef7-b17e-329fccd1e8c6",
   "metadata": {},
   "outputs": [],
   "source": [
    "# temp_ = temp['chromosome'].astype(str)  + '_' + temp['exon_start'].astype(str) + '_' + \\\n",
    "#         temp['exon_end'].astype(str) + '_' + temp['gene_id'].astype(str) + '_' + temp['strand'].astype(str)\n",
    "\n",
    "# PSI_annot = adata.var.loc[PSI.index]\n",
    "# temp.index = temp_\n",
    "# temp_deltaPsi = temp[['abs_delta_psi']]"
   ]
  },
  {
   "cell_type": "code",
   "execution_count": null,
   "id": "b569430d-5f2a-496c-944e-37461c372388",
   "metadata": {},
   "outputs": [],
   "source": [
    "#pd.read_csv('/c4/home/derek/data1/derek/scSLR/notebooks/fig3/sig_dfc_introns_PT_annotated.cs')"
   ]
  },
  {
   "cell_type": "code",
   "execution_count": null,
   "id": "b3f19901-3341-416e-b42e-d7d5226eee80",
   "metadata": {},
   "outputs": [],
   "source": [
    "adata = adata[:,adata.var_names.isin(temp_.name)]"
   ]
  },
  {
   "cell_type": "code",
   "execution_count": null,
   "id": "6256d3c7-c1a2-4105-af2c-05ff64c37d57",
   "metadata": {},
   "outputs": [],
   "source": []
  },
  {
   "cell_type": "code",
   "execution_count": null,
   "id": "eedd58ca-8fe1-4f0d-afe9-032bc6b4f275",
   "metadata": {},
   "outputs": [],
   "source": [
    "# temp_deltaPsi.to_csv('deltaPsi.csv')"
   ]
  },
  {
   "cell_type": "code",
   "execution_count": null,
   "id": "c476625b-2640-47d5-9563-ca0deadcfe64",
   "metadata": {},
   "outputs": [],
   "source": [
    "adata"
   ]
  },
  {
   "cell_type": "code",
   "execution_count": null,
   "id": "e043573f-5a55-499c-ae09-5750c1d05b96",
   "metadata": {},
   "outputs": [],
   "source": [
    "genedf = sc.get.obs_df(\n",
    "        adata,\n",
    "        layer = 'PSI_raw',\n",
    "        keys=[\"C_scANVI_simple\", *adata.var.index]\n",
    "    )\n",
    "\n",
    "grouped = genedf.groupby(\"C_scANVI_simple\")\n",
    "mean, var = grouped.mean(), grouped.var()"
   ]
  },
  {
   "cell_type": "code",
   "execution_count": null,
   "id": "1d0f9691-b18b-4086-a6de-3ff29ddeed94",
   "metadata": {},
   "outputs": [],
   "source": [
    "# #get logit mean PSI for each event\n",
    "# logit_mean = scipy.special.logit(\n",
    "#     genedf.iloc[:,1:].mean()\n",
    "# )"
   ]
  },
  {
   "cell_type": "code",
   "execution_count": null,
   "id": "d6dad4d6-052d-4117-8181-ed1aa680f7c6",
   "metadata": {},
   "outputs": [],
   "source": []
  },
  {
   "cell_type": "code",
   "execution_count": null,
   "id": "7390238e-be46-4362-9d3e-baab9ccf1d5a",
   "metadata": {},
   "outputs": [],
   "source": [
    "#mean_ =  pd.DataFrame(mean.T['EN'])\n",
    "\n",
    "mean_ = mean.T[['EN','RG']]"
   ]
  },
  {
   "cell_type": "code",
   "execution_count": null,
   "id": "fc702d2d-7fc9-44c4-8caf-e68c03307609",
   "metadata": {},
   "outputs": [],
   "source": [
    "PSI = mean_#.dropna()"
   ]
  },
  {
   "cell_type": "code",
   "execution_count": null,
   "id": "df85deea-dfb9-4695-bc5e-61814a1215e7",
   "metadata": {},
   "outputs": [],
   "source": [
    "# #get event PSI for a single cell type\n",
    "# PSI = pd.DataFrame(mean.T['OPC'][mean.T['OPC'].notnull()])\n",
    "\n",
    "# # logit_mean = logit_mean.loc[PSI.index]"
   ]
  },
  {
   "cell_type": "code",
   "execution_count": null,
   "id": "a4402152-fb8c-4eff-bab5-bce750c7ac9c",
   "metadata": {},
   "outputs": [],
   "source": [
    "PSI_annot = adata.var.loc[PSI.index]\n",
    "\n",
    "PSI_annot = PSI_annot['chromosome'].astype(str)  + '_' + PSI_annot['exon_start'].astype(str) + '_' + \\\n",
    "        PSI_annot['exon_end'].astype(str) + '_' + PSI_annot['gene_id'].astype(str) + '_' + PSI_annot['strand'].astype(str)"
   ]
  },
  {
   "cell_type": "code",
   "execution_count": null,
   "id": "b5061ccd-91ca-4511-b137-df4a05b4097b",
   "metadata": {},
   "outputs": [],
   "source": [
    "PSI#_annot"
   ]
  },
  {
   "cell_type": "code",
   "execution_count": null,
   "id": "f3c90b3b-81f9-4327-9fa1-5cf51cf36685",
   "metadata": {},
   "outputs": [],
   "source": [
    "PSI = PSI.set_index(PSI_annot)\n",
    "# logit_mean.index = PSI_annot\n",
    "\n",
    "# PSI.columns = [0]\n",
    "# PSI['logit_mean'] = logit_mean"
   ]
  },
  {
   "cell_type": "code",
   "execution_count": null,
   "id": "ec679799-4413-401e-b7d2-ea0133de7785",
   "metadata": {},
   "outputs": [],
   "source": [
    "PSI = PSI.dropna()\n",
    "#PSI.columns = [0]\n"
   ]
  },
  {
   "cell_type": "code",
   "execution_count": null,
   "id": "32bff8f6-835a-4a13-9e3b-a3bda2dcd0b8",
   "metadata": {},
   "outputs": [],
   "source": [
    "PSI"
   ]
  },
  {
   "cell_type": "code",
   "execution_count": null,
   "id": "a7a9e78e-6d07-4048-9591-cc3d810b5b36",
   "metadata": {},
   "outputs": [],
   "source": [
    "# sns.histplot(scipy.special.logit(PSI[0])) - (PSI['logit_mean'])"
   ]
  },
  {
   "cell_type": "code",
   "execution_count": null,
   "id": "89fb3b5f-06cd-4e23-ad6c-6b6f0b59e645",
   "metadata": {},
   "outputs": [],
   "source": [
    "PSI.to_csv(output_dir+'EN_RG_var_PSI_mean.tsv',sep='\\t')"
   ]
  },
  {
   "cell_type": "code",
   "execution_count": null,
   "id": "652c390f-68a2-4cbb-9422-e667d944eda1",
   "metadata": {},
   "outputs": [],
   "source": [
    "#PSI.to_csv(output_dir+'multitask_PSI_mean.tsv',sep='\\t')"
   ]
  },
  {
   "cell_type": "code",
   "execution_count": null,
   "id": "38e73d98-dd43-4dc0-9492-413f53d90d18",
   "metadata": {},
   "outputs": [],
   "source": []
  },
  {
   "cell_type": "code",
   "execution_count": null,
   "id": "2612a36e-a88d-4497-92eb-4b1e0a040711",
   "metadata": {},
   "outputs": [],
   "source": [
    "!conda list"
   ]
  },
  {
   "cell_type": "code",
   "execution_count": null,
   "id": "0de292d1-5b6f-410e-a0dd-e2dcb024bc22",
   "metadata": {},
   "outputs": [],
   "source": []
  },
  {
   "cell_type": "code",
   "execution_count": null,
   "id": "fc8e90b4-19d2-4ff7-a8b8-772260371272",
   "metadata": {},
   "outputs": [],
   "source": []
  }
 ],
 "metadata": {
  "kernelspec": {
   "display_name": "Python 3 (ipykernel)",
   "language": "python",
   "name": "python3"
  },
  "language_info": {
   "codemirror_mode": {
    "name": "ipython",
    "version": 3
   },
   "file_extension": ".py",
   "mimetype": "text/x-python",
   "name": "python",
   "nbconvert_exporter": "python",
   "pygments_lexer": "ipython3",
   "version": "3.9.15"
  }
 },
 "nbformat": 4,
 "nbformat_minor": 5
}
