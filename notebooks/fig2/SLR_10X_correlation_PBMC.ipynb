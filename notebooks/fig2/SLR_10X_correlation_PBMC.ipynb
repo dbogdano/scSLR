{
 "cells": [
  {
   "cell_type": "markdown",
   "id": "9a2cf39f-d9fb-46c9-99a5-08b609959e95",
   "metadata": {},
   "source": [
    "# SLR 10X correlation and comparison"
   ]
  },
  {
   "cell_type": "code",
   "execution_count": 1,
   "id": "dbea3472-0f98-45f3-a255-3ed72f5620c5",
   "metadata": {},
   "outputs": [
    {
     "name": "stdout",
     "output_type": "stream",
     "text": [
      "Tue Aug 20 11:56:18 PDT 2024\n"
     ]
    }
   ],
   "source": [
    "!date"
   ]
  },
  {
   "cell_type": "code",
   "execution_count": 2,
   "id": "8f5a7ba9-92a9-4a20-b6de-da458ed6d690",
   "metadata": {},
   "outputs": [
    {
     "name": "stdout",
     "output_type": "stream",
     "text": [
      "/c4/home/derek/miniconda3/envs/scquint_4\n"
     ]
    }
   ],
   "source": [
    "!echo $CONDA_PREFIX"
   ]
  },
  {
   "cell_type": "code",
   "execution_count": 3,
   "id": "3547f0f1-c210-42c7-800f-6bcd5e3d5d77",
   "metadata": {},
   "outputs": [],
   "source": [
    "import pandas as pd\n",
    "import numpy as np\n",
    "import scanpy as sc\n",
    "from scipy import stats\n",
    "\n",
    "import seaborn as sns\n",
    "import matplotlib.pyplot as plt"
   ]
  },
  {
   "cell_type": "code",
   "execution_count": 4,
   "id": "91f2ffcb-3b59-449b-981a-5e2889733062",
   "metadata": {},
   "outputs": [],
   "source": [
    "#adata_10X = sc.read_h5ad('/c4/home/derek/data1/HDD-2/derek/SLR_temp/CAT_20220904_PBMC/concat.3.new.h5ad')"
   ]
  },
  {
   "cell_type": "code",
   "execution_count": null,
   "id": "d40aab6d-26f3-4113-a98b-77e31b1f563b",
   "metadata": {
    "tags": []
   },
   "outputs": [],
   "source": []
  },
  {
   "cell_type": "code",
   "execution_count": null,
   "id": "dffc6c2d-e424-4375-948b-c5e995eaa3de",
   "metadata": {},
   "outputs": [],
   "source": []
  },
  {
   "cell_type": "code",
   "execution_count": 5,
   "id": "d41dcb40-a169-4491-80b1-6784e59c05a0",
   "metadata": {},
   "outputs": [
    {
     "name": "stderr",
     "output_type": "stream",
     "text": [
      "/c4/home/derek/miniconda3/envs/scquint_4/lib/python3.10/site-packages/anndata/_core/anndata.py:1830: UserWarning: Variable names are not unique. To make them unique, call `.var_names_make_unique`.\n",
      "  utils.warn_names_duplicates(\"var\")\n"
     ]
    }
   ],
   "source": [
    "## cellranger input\n",
    "adata_10X = sc.read_10x_h5('/c4/home/derek/data1/derek/data_scSLR/PBMC/10X/cellranger_outs/PBMC_sample_1/outs/raw_feature_bc_matrix.h5')"
   ]
  },
  {
   "cell_type": "code",
   "execution_count": 6,
   "id": "41744584-93f4-4b22-bf7e-b6acdb00de2e",
   "metadata": {
    "tags": []
   },
   "outputs": [],
   "source": [
    "## STAR solo input\n",
    "adata_10X = sc.read_mtx('/c4/home/derek/data1/derek/data_scSLR/PBMC/10X/STAR_outs/sample_2/StarOut_10X/Solo.out/GeneFull/raw/matrix.mtx').T\n",
    "\n",
    "adata_10X.var_names = pd.read_csv('/c4/home/derek/data1/derek/data_scSLR/PBMC/10X/STAR_outs/sample_2/StarOut_10X/Solo.out/GeneFull/raw/features.tsv',\n",
    "            sep='\\t',header=None)[1]\n",
    "\n",
    "adata_10X.obs_names = pd.read_csv('/c4/home/derek/data1/derek/data_scSLR/PBMC/10X/STAR_outs/sample_2/StarOut_10X/Solo.out/GeneFull/raw/barcodes.tsv',\n",
    "            sep='\\t',header=None)[0]"
   ]
  },
  {
   "cell_type": "code",
   "execution_count": 7,
   "id": "0745ee97-bcfc-449d-a19b-3061bf81e147",
   "metadata": {},
   "outputs": [
    {
     "data": {
      "text/plain": [
       "AnnData object with n_obs × n_vars = 737280 × 36385"
      ]
     },
     "execution_count": 7,
     "metadata": {},
     "output_type": "execute_result"
    }
   ],
   "source": [
    "adata_10X"
   ]
  },
  {
   "cell_type": "code",
   "execution_count": null,
   "id": "2ee41c2b-971a-4d09-8691-a2295c55e8b8",
   "metadata": {},
   "outputs": [],
   "source": []
  },
  {
   "cell_type": "code",
   "execution_count": 8,
   "id": "57b63470-5494-4cc3-b5d7-f166ff5a1967",
   "metadata": {},
   "outputs": [],
   "source": [
    "# adata_10X = adata_10X[:,adata_10X.var['feature_types'] == 'Gene Expression']"
   ]
  },
  {
   "cell_type": "code",
   "execution_count": 9,
   "id": "7ae4eb82-c8de-4ba7-8adb-a2726f69b609",
   "metadata": {},
   "outputs": [],
   "source": [
    "adata_SLR = sc.read_mtx('/c4/home/derek/data1/derek/data_scSLR/PBMC/STAR_outs/sample_2/StarOut_5prime/Solo.out/GeneFull/raw/matrix.mtx').T\n",
    "\n",
    "adata_SLR.var_names = pd.read_csv('/c4/home/derek/data1/derek/data_scSLR/PBMC/STAR_outs/sample_2/StarOut_5prime/Solo.out/GeneFull/raw/features.tsv',\n",
    "            sep='\\t',header=None)[1]\n",
    "\n",
    "adata_SLR.obs_names = pd.read_csv('/c4/home/derek/data1/derek/data_scSLR/PBMC/STAR_outs/sample_2/StarOut_5prime/Solo.out/GeneFull/raw/barcodes.tsv',\n",
    "            sep='\\t',header=None)[0]"
   ]
  },
  {
   "cell_type": "code",
   "execution_count": 10,
   "id": "b953e4d9-eaa2-4021-993d-1540c2b2302a",
   "metadata": {},
   "outputs": [
    {
     "data": {
      "text/plain": [
       "Index(['AAACCTGAGAAACCAT', 'AAACCTGAGAAACCGC', 'AAACCTGAGAAACCTA',\n",
       "       'AAACCTGAGAAACGAG', 'AAACCTGAGAAACGCC', 'AAACCTGAGAAAGTGG',\n",
       "       'AAACCTGAGAACAACT', 'AAACCTGAGAACAATC', 'AAACCTGAGAACTCGG',\n",
       "       'AAACCTGAGAACTGTA',\n",
       "       ...\n",
       "       'TTTGTCATCTTGGGTA', 'TTTGTCATCTTGTACT', 'TTTGTCATCTTGTATC',\n",
       "       'TTTGTCATCTTGTCAT', 'TTTGTCATCTTGTTTG', 'TTTGTCATCTTTACAC',\n",
       "       'TTTGTCATCTTTACGT', 'TTTGTCATCTTTAGGG', 'TTTGTCATCTTTAGTC',\n",
       "       'TTTGTCATCTTTCCTC'],\n",
       "      dtype='object', length=737280)"
      ]
     },
     "execution_count": 10,
     "metadata": {},
     "output_type": "execute_result"
    }
   ],
   "source": [
    "adata_10X.obs_names"
   ]
  },
  {
   "cell_type": "code",
   "execution_count": 11,
   "id": "e683c478-206c-4f6d-bf07-d4270245fa24",
   "metadata": {},
   "outputs": [
    {
     "data": {
      "text/plain": [
       "Index(['AAACCTGAGAAACCAT', 'AAACCTGAGAAACCGC', 'AAACCTGAGAAACCTA',\n",
       "       'AAACCTGAGAAACGAG', 'AAACCTGAGAAACGCC', 'AAACCTGAGAAAGTGG',\n",
       "       'AAACCTGAGAACAACT', 'AAACCTGAGAACAATC', 'AAACCTGAGAACTCGG',\n",
       "       'AAACCTGAGAACTGTA',\n",
       "       ...\n",
       "       'TTTGTCATCTTGGGTA', 'TTTGTCATCTTGTACT', 'TTTGTCATCTTGTATC',\n",
       "       'TTTGTCATCTTGTCAT', 'TTTGTCATCTTGTTTG', 'TTTGTCATCTTTACAC',\n",
       "       'TTTGTCATCTTTACGT', 'TTTGTCATCTTTAGGG', 'TTTGTCATCTTTAGTC',\n",
       "       'TTTGTCATCTTTCCTC'],\n",
       "      dtype='object', length=737280)"
      ]
     },
     "execution_count": 11,
     "metadata": {},
     "output_type": "execute_result"
    }
   ],
   "source": [
    "adata_SLR.obs_names"
   ]
  },
  {
   "cell_type": "code",
   "execution_count": null,
   "id": "5c64b349-6983-43b5-87b8-7cac4df234c4",
   "metadata": {},
   "outputs": [],
   "source": []
  },
  {
   "cell_type": "code",
   "execution_count": null,
   "id": "0baaafa6-a483-4678-92fe-187b87b3cb3a",
   "metadata": {},
   "outputs": [],
   "source": []
  },
  {
   "cell_type": "code",
   "execution_count": 12,
   "id": "d4e04d68-03bd-42f0-ac73-9b2e7a155040",
   "metadata": {},
   "outputs": [],
   "source": [
    "#adata_10X = adata_10X[adata_10X.obs_names.str.endswith('-1-22')]\n",
    "#adata_10X.obs_names = adata_10X.obs_names.str[:-2]"
   ]
  },
  {
   "cell_type": "code",
   "execution_count": 13,
   "id": "b0128b08-07c9-47dc-82a6-c31156ee5da8",
   "metadata": {},
   "outputs": [],
   "source": [
    "adata_SLR= adata_SLR[adata_SLR.obs_names.isin(adata_10X.obs_names)]"
   ]
  },
  {
   "cell_type": "code",
   "execution_count": 14,
   "id": "f4d693f2-59c7-4c43-934c-386428ee949d",
   "metadata": {},
   "outputs": [
    {
     "name": "stderr",
     "output_type": "stream",
     "text": [
      "/c4/home/derek/miniconda3/envs/scquint_4/lib/python3.10/site-packages/anndata/_core/anndata.py:1830: UserWarning: Variable names are not unique. To make them unique, call `.var_names_make_unique`.\n",
      "  utils.warn_names_duplicates(\"var\")\n"
     ]
    }
   ],
   "source": [
    "adata_10X.var_names_make_unique()\n",
    "adata_SLR.var_names_make_unique()"
   ]
  },
  {
   "cell_type": "code",
   "execution_count": null,
   "id": "e752572d-a1cc-4373-a7e3-51b7c59e0174",
   "metadata": {},
   "outputs": [],
   "source": []
  },
  {
   "cell_type": "code",
   "execution_count": 19,
   "id": "f4ea164c-29d0-4abc-b8f7-05a0aeefc581",
   "metadata": {},
   "outputs": [],
   "source": [
    "adata_SLR = adata_SLR[:,adata_SLR.var_names.isin(adata_10X.var_names)]\n",
    "adata_10X = adata_10X[:,adata_10X.var_names.isin(adata_SLR.var_names)]"
   ]
  },
  {
   "cell_type": "code",
   "execution_count": 20,
   "id": "df3e0e21-e478-4261-82f9-33dc848b615a",
   "metadata": {},
   "outputs": [],
   "source": [
    "# filter cells by name\n",
    "\n",
    "cells_used = pd.read_csv('/c4/home/derek/data1/derek/data_scSLR/PBMC/PBMC_sample_2_idents.csv',header=None,sep='\\t')[0]\n",
    "\n",
    "adata_SLR = adata_SLR[adata_SLR.obs_names.isin(cells_used)]\n",
    "adata_10X = adata_10X[adata_10X.obs_names.isin(cells_used)]"
   ]
  },
  {
   "cell_type": "code",
   "execution_count": null,
   "id": "0d01bfe8-b048-49b5-a1f3-2cc6aa0dfb67",
   "metadata": {
    "tags": []
   },
   "outputs": [],
   "source": []
  },
  {
   "cell_type": "code",
   "execution_count": null,
   "id": "7c6f9f8d-c41e-420f-bf8c-235ac5444d7f",
   "metadata": {},
   "outputs": [],
   "source": []
  },
  {
   "cell_type": "code",
   "execution_count": 21,
   "id": "d86e9cd4-91e1-49c4-abd7-7d89189ef2b7",
   "metadata": {},
   "outputs": [
    {
     "name": "stderr",
     "output_type": "stream",
     "text": [
      "/c4/home/derek/miniconda3/envs/scquint_4/lib/python3.10/site-packages/scanpy/preprocessing/_qc.py:135: ImplicitModificationWarning: Trying to modify attribute `.obs` of view, initializing view as actual.\n",
      "  adata.obs[obs_metrics.columns] = obs_metrics\n",
      "/c4/home/derek/miniconda3/envs/scquint_4/lib/python3.10/site-packages/scanpy/preprocessing/_qc.py:135: ImplicitModificationWarning: Trying to modify attribute `.obs` of view, initializing view as actual.\n",
      "  adata.obs[obs_metrics.columns] = obs_metrics\n"
     ]
    }
   ],
   "source": [
    "sc.pp.calculate_qc_metrics(adata_10X,inplace=True)\n",
    "sc.pp.calculate_qc_metrics(adata_SLR,inplace=True)"
   ]
  },
  {
   "cell_type": "code",
   "execution_count": 22,
   "id": "d788d33a-bdb0-490a-a7dc-b7be121b9803",
   "metadata": {},
   "outputs": [
    {
     "data": {
      "text/plain": [
       "matrix([[1., 2., 0., ..., 0., 5., 0.]], dtype=float32)"
      ]
     },
     "execution_count": 22,
     "metadata": {},
     "output_type": "execute_result"
    }
   ],
   "source": [
    "adata_10X.X.sum(axis=0)"
   ]
  },
  {
   "cell_type": "code",
   "execution_count": 31,
   "id": "1e3a6e02-c209-4122-a000-ce29a0cf47fa",
   "metadata": {},
   "outputs": [],
   "source": [
    "comp = pd.concat([adata_10X.obs.n_genes_by_counts, adata_SLR.obs.n_genes_by_counts],axis=1)\n",
    "comp.columns = ['10X','scSLR']"
   ]
  },
  {
   "cell_type": "code",
   "execution_count": 32,
   "id": "4c292831-0f97-4325-87fc-2863a8893d55",
   "metadata": {
    "tags": []
   },
   "outputs": [
    {
     "data": {
      "text/html": [
       "<div>\n",
       "<style scoped>\n",
       "    .dataframe tbody tr th:only-of-type {\n",
       "        vertical-align: middle;\n",
       "    }\n",
       "\n",
       "    .dataframe tbody tr th {\n",
       "        vertical-align: top;\n",
       "    }\n",
       "\n",
       "    .dataframe thead th {\n",
       "        text-align: right;\n",
       "    }\n",
       "</style>\n",
       "<table border=\"1\" class=\"dataframe\">\n",
       "  <thead>\n",
       "    <tr style=\"text-align: right;\">\n",
       "      <th></th>\n",
       "      <th>10X</th>\n",
       "      <th>scSLR</th>\n",
       "    </tr>\n",
       "  </thead>\n",
       "  <tbody>\n",
       "    <tr>\n",
       "      <th>AAACCTGAGAGTACAT</th>\n",
       "      <td>2916</td>\n",
       "      <td>2007</td>\n",
       "    </tr>\n",
       "    <tr>\n",
       "      <th>AAACCTGAGAGTGACC</th>\n",
       "      <td>1468</td>\n",
       "      <td>933</td>\n",
       "    </tr>\n",
       "    <tr>\n",
       "      <th>AAACCTGAGATGTTAG</th>\n",
       "      <td>2263</td>\n",
       "      <td>1498</td>\n",
       "    </tr>\n",
       "    <tr>\n",
       "      <th>AAACCTGAGCAGCCTC</th>\n",
       "      <td>1371</td>\n",
       "      <td>896</td>\n",
       "    </tr>\n",
       "    <tr>\n",
       "      <th>AAACCTGAGCGTTCCG</th>\n",
       "      <td>1090</td>\n",
       "      <td>676</td>\n",
       "    </tr>\n",
       "    <tr>\n",
       "      <th>...</th>\n",
       "      <td>...</td>\n",
       "      <td>...</td>\n",
       "    </tr>\n",
       "    <tr>\n",
       "      <th>TTTGTCAGTGTTGAGG</th>\n",
       "      <td>1546</td>\n",
       "      <td>998</td>\n",
       "    </tr>\n",
       "    <tr>\n",
       "      <th>TTTGTCAGTTGGACCC</th>\n",
       "      <td>2486</td>\n",
       "      <td>1660</td>\n",
       "    </tr>\n",
       "    <tr>\n",
       "      <th>TTTGTCAGTTGTACAC</th>\n",
       "      <td>1265</td>\n",
       "      <td>832</td>\n",
       "    </tr>\n",
       "    <tr>\n",
       "      <th>TTTGTCATCCGGGTGT</th>\n",
       "      <td>1190</td>\n",
       "      <td>777</td>\n",
       "    </tr>\n",
       "    <tr>\n",
       "      <th>TTTGTCATCTACTATC</th>\n",
       "      <td>3662</td>\n",
       "      <td>2430</td>\n",
       "    </tr>\n",
       "  </tbody>\n",
       "</table>\n",
       "<p>10173 rows × 2 columns</p>\n",
       "</div>"
      ],
      "text/plain": [
       "                   10X  scSLR\n",
       "AAACCTGAGAGTACAT  2916   2007\n",
       "AAACCTGAGAGTGACC  1468    933\n",
       "AAACCTGAGATGTTAG  2263   1498\n",
       "AAACCTGAGCAGCCTC  1371    896\n",
       "AAACCTGAGCGTTCCG  1090    676\n",
       "...                ...    ...\n",
       "TTTGTCAGTGTTGAGG  1546    998\n",
       "TTTGTCAGTTGGACCC  2486   1660\n",
       "TTTGTCAGTTGTACAC  1265    832\n",
       "TTTGTCATCCGGGTGT  1190    777\n",
       "TTTGTCATCTACTATC  3662   2430\n",
       "\n",
       "[10173 rows x 2 columns]"
      ]
     },
     "execution_count": 32,
     "metadata": {},
     "output_type": "execute_result"
    }
   ],
   "source": [
    "comp"
   ]
  },
  {
   "cell_type": "code",
   "execution_count": null,
   "id": "e7ae9189-789f-4789-a427-90ff398fbecf",
   "metadata": {
    "tags": []
   },
   "outputs": [],
   "source": []
  },
  {
   "cell_type": "code",
   "execution_count": null,
   "id": "c033e99e-0393-401f-b9bd-433c1ca3db81",
   "metadata": {},
   "outputs": [],
   "source": []
  },
  {
   "cell_type": "markdown",
   "id": "ea7a259a-9b2a-4884-afa2-3379274cb06c",
   "metadata": {},
   "source": [
    "# Plot correlation between library types"
   ]
  },
  {
   "cell_type": "code",
   "execution_count": null,
   "id": "67fecf52-9f7a-405f-93b6-46eede0aa497",
   "metadata": {},
   "outputs": [],
   "source": [
    "values = np.vstack([adata_SLR.var.log1p_total_counts,\n",
    "                    adata_10X.var.log1p_total_counts])\n",
    "kernel = stats.gaussian_kde(values)(values)\n"
   ]
  },
  {
   "cell_type": "code",
   "execution_count": null,
   "id": "13f11699-ac81-452e-9e17-9627f61f8100",
   "metadata": {},
   "outputs": [],
   "source": []
  },
  {
   "cell_type": "code",
   "execution_count": null,
   "id": "27af33d5-1c31-4038-844a-bf4014bc97f8",
   "metadata": {},
   "outputs": [],
   "source": []
  },
  {
   "cell_type": "code",
   "execution_count": null,
   "id": "9d8cde52-ef28-4d85-a91e-f772b0aec8c9",
   "metadata": {},
   "outputs": [],
   "source": [
    "corr = stats.pearsonr(x=adata_SLR.var.log1p_total_counts,\n",
    "            y=adata_10X.var.log1p_total_counts,)"
   ]
  },
  {
   "cell_type": "code",
   "execution_count": null,
   "id": "cc284f10-b8f0-456e-bed9-0ddfbdd38db2",
   "metadata": {},
   "outputs": [],
   "source": [
    "corr"
   ]
  },
  {
   "cell_type": "code",
   "execution_count": null,
   "id": "7368597f-e630-4528-a89e-fd88716f351f",
   "metadata": {},
   "outputs": [],
   "source": [
    "%matplotlib inline\n",
    "\n",
    "fig, ax = plt.subplots(figsize=(6, 6))\n",
    "\n",
    "n = sns.scatterplot(x=values[1],\n",
    "            y=values[0],\n",
    "            s=10,\n",
    "            linewidth=0,\n",
    "            hue=kernel,\n",
    "            palette='plasma',\n",
    "            ax=ax,\n",
    "            hue_norm = (0,0.1)\n",
    "           )\n",
    "\n",
    "ax.get_legend().remove()\n",
    "# ax.figure.colorbar(n)\n",
    "\n",
    "ax.spines.right.set_visible(False)\n",
    "ax.spines.top.set_visible(False)\n",
    "\n",
    "ax.spines.bottom.set_linewidth(2)\n",
    "ax.spines.left.set_linewidth(2)\n",
    "\n",
    "ax.set_title(f'r = {round(corr[0],4)}',loc='left',fontsize=16)\n",
    "\n",
    "ax.set_xlabel(\"log(total counts) 10X 5'\", fontsize=16)\n",
    "ax.set_ylabel(\"log(total counts) scSLR-seq 5'\", fontsize=16)\n",
    "\n",
    "ax.tick_params(axis='both', which='major', labelsize=12)\n",
    "# fig.savefig('./plots/SLR_10X_corr_PBMC.pdf')"
   ]
  },
  {
   "cell_type": "code",
   "execution_count": null,
   "id": "9f88d592-9f32-49dd-97ca-ae5ab6af1a8a",
   "metadata": {
    "tags": []
   },
   "outputs": [],
   "source": []
  },
  {
   "cell_type": "markdown",
   "id": "d323bf1c-551f-4709-9c17-3c9c2612d84a",
   "metadata": {},
   "source": [
    "# Plot correlation between SLR read types"
   ]
  },
  {
   "cell_type": "code",
   "execution_count": null,
   "id": "33cd3420-d282-462f-8059-95e6c797f9f0",
   "metadata": {
    "tags": []
   },
   "outputs": [],
   "source": [
    "adata_SLR_int = sc.read_mtx('/c4/home/derek/data1/derek/data_scSLR/PBMC/STAR_outs/sample_2/StarOut_internal/Solo.out/GeneFull/raw/matrix.mtx').T\n",
    "\n",
    "adata_SLR_int.var_names = pd.read_csv('/c4/home/derek/data1/derek/data_scSLR/PBMC/STAR_outs/sample_2/StarOut_internal/Solo.out/GeneFull/raw/features.tsv',\n",
    "            sep='\\t',header=None)[1]\n",
    "\n",
    "adata_SLR_int.obs_names = pd.read_csv('/c4/home/derek/data1/derek/data_scSLR/PBMC/STAR_outs/sample_2/StarOut_internal/Solo.out/GeneFull/raw/barcodes.tsv',\n",
    "            sep='\\t',header=None)[0]"
   ]
  },
  {
   "cell_type": "code",
   "execution_count": null,
   "id": "cec3baad-627b-4269-85eb-c8bb928ca82f",
   "metadata": {
    "tags": []
   },
   "outputs": [],
   "source": [
    "adata_SLR_int.var_names_make_unique()"
   ]
  },
  {
   "cell_type": "code",
   "execution_count": null,
   "id": "9aedffe8-9137-4630-a77b-e4db4c987273",
   "metadata": {
    "tags": []
   },
   "outputs": [],
   "source": [
    "adata_SLR_int = adata_SLR_int[:,adata_SLR_int.var_names.isin(adata_SLR.var_names)]\n",
    "adata_SLR_5p = adata_SLR[:,adata_SLR.var_names.isin(adata_SLR_int.var_names)]\n",
    "\n"
   ]
  },
  {
   "cell_type": "code",
   "execution_count": null,
   "id": "0387e378-bc41-4e9f-9bab-858179d3b1a9",
   "metadata": {
    "tags": []
   },
   "outputs": [],
   "source": [
    "sc.pp.calculate_qc_metrics(adata_SLR_int,inplace=True)\n",
    "sc.pp.calculate_qc_metrics(adata_SLR_5p,inplace=True)"
   ]
  },
  {
   "cell_type": "code",
   "execution_count": null,
   "id": "32532292-4fe9-4aac-b2ad-49e8d8633a91",
   "metadata": {
    "tags": []
   },
   "outputs": [],
   "source": [
    "values = np.vstack([adata_SLR_5p.var.log1p_total_counts,\n",
    "                    adata_SLR_int.var.log1p_total_counts])\n",
    "kernel = stats.gaussian_kde(values)(values)\n"
   ]
  },
  {
   "cell_type": "code",
   "execution_count": null,
   "id": "ca79a484-0c54-4197-bd9e-173a634f1705",
   "metadata": {
    "tags": []
   },
   "outputs": [],
   "source": [
    "corr = stats.pearsonr(x=adata_SLR_5p.var.log1p_total_counts,\n",
    "            y=adata_SLR_int.var.log1p_total_counts,)"
   ]
  },
  {
   "cell_type": "code",
   "execution_count": null,
   "id": "990ab613-55ae-47a2-b238-37518e0f60bc",
   "metadata": {
    "tags": []
   },
   "outputs": [],
   "source": [
    "corr"
   ]
  },
  {
   "cell_type": "code",
   "execution_count": null,
   "id": "ff1ed391-0ed9-4580-a0f9-2b3e2a946dc9",
   "metadata": {
    "tags": []
   },
   "outputs": [],
   "source": [
    "%matplotlib inline\n",
    "\n",
    "fig, ax = plt.subplots(figsize=(6, 6))\n",
    "\n",
    "n = sns.scatterplot(x=values[1],\n",
    "            y=values[0],\n",
    "            s=10,\n",
    "            linewidth=0,\n",
    "            hue=kernel,\n",
    "            palette='plasma',\n",
    "            ax=ax,\n",
    "            hue_norm = (0,0.1)\n",
    "           )\n",
    "\n",
    "ax.get_legend().remove()\n",
    "# ax.figure.colorbar(n)\n",
    "\n",
    "ax.spines.right.set_visible(False)\n",
    "ax.spines.top.set_visible(False)\n",
    "\n",
    "ax.spines.bottom.set_linewidth(2)\n",
    "ax.spines.left.set_linewidth(2)\n",
    "\n",
    "ax.set_title(f'r = {round(corr[0],4)}',loc='left',fontsize=16)\n",
    "\n",
    "ax.set_xlabel(\"log(total counts) scSLR-seq 5'\", fontsize=16)\n",
    "ax.set_ylabel('log(total counts) scSLR-seq internal', fontsize=16)\n",
    "\n",
    "ax.tick_params(axis='both', which='major', labelsize=12)\n",
    "# fig.savefig('./plots/SLR_lib_portion_corr_PBMC.pdf')"
   ]
  },
  {
   "cell_type": "code",
   "execution_count": null,
   "id": "86f7dff3-d391-47b7-ad11-0cfd537d8532",
   "metadata": {},
   "outputs": [],
   "source": []
  },
  {
   "cell_type": "markdown",
   "id": "31a75e5a-4f99-4e71-a925-7ee96acf419c",
   "metadata": {},
   "source": [
    "# Plot correlation between biological replicates"
   ]
  },
  {
   "cell_type": "code",
   "execution_count": null,
   "id": "1014e2e4-9727-417b-b670-502d90332cd9",
   "metadata": {
    "tags": []
   },
   "outputs": [],
   "source": [
    "adata_SLR_s1 = sc.read_mtx('/c4/home/derek/data1/derek/data_scSLR/PBMC/STAR_outs/sample_1/StarOut_5prime/Solo.out/GeneFull/raw/matrix.mtx').T\n",
    "\n",
    "adata_SLR_s1.var_names = pd.read_csv('/c4/home/derek/data1/derek/data_scSLR/PBMC/STAR_outs/sample_1/StarOut_5prime/Solo.out/GeneFull/raw/features.tsv',\n",
    "            sep='\\t',header=None)[1]\n",
    "\n",
    "adata_SLR_s1.obs_names = pd.read_csv('/c4/home/derek/data1/derek/data_scSLR/PBMC/STAR_outs/sample_1/StarOut_5prime/Solo.out/GeneFull/raw/barcodes.tsv',\n",
    "            sep='\\t',header=None)[0]"
   ]
  },
  {
   "cell_type": "code",
   "execution_count": null,
   "id": "1a1c12db-dcec-4cf0-9afa-6983a5912d3c",
   "metadata": {
    "tags": []
   },
   "outputs": [],
   "source": [
    "adata_SLR_s1.var_names_make_unique()"
   ]
  },
  {
   "cell_type": "code",
   "execution_count": null,
   "id": "e5f040a0-41eb-4d7b-bc30-4bc40ec8e55d",
   "metadata": {
    "tags": []
   },
   "outputs": [],
   "source": [
    "adata_SLR_s1 = adata_SLR_s1[:,adata_SLR_s1.var_names.isin(adata_SLR.var_names)]\n",
    "adata_SLR_s2 = adata_SLR[:,adata_SLR.var_names.isin(adata_SLR_s1.var_names)]\n"
   ]
  },
  {
   "cell_type": "code",
   "execution_count": null,
   "id": "947e9fb3-5aea-403b-b3ca-660bcf1bc761",
   "metadata": {
    "tags": []
   },
   "outputs": [],
   "source": [
    "sc.pp.calculate_qc_metrics(adata_SLR_s1,inplace=True)\n",
    "sc.pp.calculate_qc_metrics(adata_SLR_s2,inplace=True)"
   ]
  },
  {
   "cell_type": "code",
   "execution_count": null,
   "id": "1aa91840-3f81-4d62-ab87-9f4cc242f55c",
   "metadata": {
    "tags": []
   },
   "outputs": [],
   "source": [
    "values = np.vstack([adata_SLR_s1.var.log1p_total_counts,\n",
    "                    adata_SLR_s2.var.log1p_total_counts])\n",
    "kernel = stats.gaussian_kde(values)(values)"
   ]
  },
  {
   "cell_type": "code",
   "execution_count": null,
   "id": "3475a9d6-0b33-48ef-951f-f50066d05971",
   "metadata": {
    "tags": []
   },
   "outputs": [],
   "source": [
    "corr = stats.pearsonr(x=adata_SLR_s1.var.log1p_total_counts,\n",
    "            y=adata_SLR_s2.var.log1p_total_counts,)"
   ]
  },
  {
   "cell_type": "code",
   "execution_count": null,
   "id": "acd6032a-1ef4-4f8a-9a10-34c709ecdb71",
   "metadata": {
    "tags": []
   },
   "outputs": [],
   "source": [
    "corr"
   ]
  },
  {
   "cell_type": "code",
   "execution_count": null,
   "id": "af3a9767-9e02-4e76-a7e2-f970faa4bc2a",
   "metadata": {
    "tags": []
   },
   "outputs": [],
   "source": [
    "%matplotlib inline\n",
    "\n",
    "fig, ax = plt.subplots(figsize=(6, 6))\n",
    "\n",
    "n = sns.scatterplot(x=values[1],\n",
    "            y=values[0],\n",
    "            s=10,\n",
    "            linewidth=0,\n",
    "            hue=kernel,\n",
    "            palette='plasma',\n",
    "            ax=ax,\n",
    "            hue_norm = (0,0.2)\n",
    "           )\n",
    "\n",
    "ax.get_legend().remove()\n",
    "# ax.figure.colorbar(n)\n",
    "\n",
    "ax.spines.right.set_visible(False)\n",
    "ax.spines.top.set_visible(False)\n",
    "\n",
    "ax.spines.bottom.set_linewidth(2)\n",
    "ax.spines.left.set_linewidth(2)\n",
    "\n",
    "ax.set_title(f'r = {round(corr[0],4)}',loc='left',fontsize=16)\n",
    "\n",
    "ax.set_xlabel(\"log(total counts) scSLR-seq 5' sample 1'\", fontsize=16)\n",
    "ax.set_ylabel(\"log(total counts) scSLR-seq 5' sample 2'\", fontsize=16)\n",
    "\n",
    "ax.tick_params(axis='both', which='major', labelsize=12)\n",
    "# fig.savefig('./plots/SLR_lib_replicate_corr_PBMC.pdf')"
   ]
  },
  {
   "cell_type": "code",
   "execution_count": null,
   "id": "cd95e7a7-59d7-4532-b923-5ccb85177dbd",
   "metadata": {},
   "outputs": [],
   "source": []
  },
  {
   "cell_type": "code",
   "execution_count": null,
   "id": "a0f62608-ea5b-4b69-bcab-99feafbbbf7f",
   "metadata": {},
   "outputs": [],
   "source": []
  },
  {
   "cell_type": "code",
   "execution_count": null,
   "id": "4a6d9438-2cf2-40a8-8d5c-e7c2c1b649ee",
   "metadata": {},
   "outputs": [],
   "source": [
    "break"
   ]
  },
  {
   "cell_type": "code",
   "execution_count": null,
   "id": "dc6833f6-bbcc-4565-871e-2afda7b73f9a",
   "metadata": {},
   "outputs": [],
   "source": [
    "values"
   ]
  },
  {
   "cell_type": "code",
   "execution_count": null,
   "id": "36125215-8a20-4591-b658-daa0c552c7dc",
   "metadata": {},
   "outputs": [],
   "source": [
    "residual = values[1]-values[0]"
   ]
  },
  {
   "cell_type": "code",
   "execution_count": null,
   "id": "0ef1e92c-defa-446e-8cba-8a6c07a01ae0",
   "metadata": {},
   "outputs": [],
   "source": [
    "residual"
   ]
  },
  {
   "cell_type": "code",
   "execution_count": null,
   "id": "1f5fb7d6-174d-4833-a1f4-e077fafd4a62",
   "metadata": {},
   "outputs": [],
   "source": []
  },
  {
   "cell_type": "code",
   "execution_count": null,
   "id": "45d72d75-48b0-4e0d-8ecf-2877d3ea72fd",
   "metadata": {},
   "outputs": [],
   "source": [
    "fig, axes = plt.subplots(1,2,figsize=(4, 2),sharey=True)\n",
    "\n",
    "\n",
    "n = sns.scatterplot(x=values[1],\n",
    "            y=values[0],\n",
    "            s=10,\n",
    "            linewidth=0,\n",
    "            hue=residual,\n",
    "            palette='plasma',\n",
    "            ax=axes[0],\n",
    "           )\n",
    "\n",
    "n = sns.scatterplot(x=values[1],\n",
    "            y=values[0],\n",
    "            s=10,\n",
    "            linewidth=0,\n",
    "            hue=np.abs(residual),\n",
    "            palette='inferno',\n",
    "            ax=axes[1],\n",
    "           )\n",
    "\n",
    "\n",
    "axes[0].get_legend().remove()\n",
    "axes[1].get_legend().remove()\n",
    "\n",
    "\n",
    "# ax.set_title(f'r = {round(corr[0],4)}',loc='left',fontsize=8)\n",
    "\n",
    "# ax.set_ylabel(\"log(total counts) 10X 5'\", fontsize=8)\n",
    "# ax.set_xlabel('log(total counts) scSLR-seq', fontsize=8)\n",
    "\n",
    "# #fig.savefig('SLR_10X_corr_PBMC.pdf')"
   ]
  },
  {
   "cell_type": "code",
   "execution_count": null,
   "id": "14b30bb4-eb0b-4cee-a712-90c850ac5df7",
   "metadata": {},
   "outputs": [],
   "source": []
  },
  {
   "cell_type": "code",
   "execution_count": null,
   "id": "0f69dc1a-ee80-431a-8bce-6c6cfa247535",
   "metadata": {
    "tags": []
   },
   "outputs": [],
   "source": []
  },
  {
   "cell_type": "code",
   "execution_count": null,
   "id": "7a2672e2-090b-4811-b00d-cd762bfa79d5",
   "metadata": {
    "tags": []
   },
   "outputs": [],
   "source": [
    "%matplotlib inline\n",
    "\n",
    "fig, ax = plt.subplots(figsize=(5, 4))\n",
    "\n",
    "n = sns.scatterplot(x=values[1],\n",
    "            y=values[0],\n",
    "            s=20,\n",
    "            linewidth=0,\n",
    "            hue=np.abs(residual),\n",
    "            palette='inferno',\n",
    "            ax=ax,\n",
    "           )\n",
    "\n",
    "# ax.get_legend().remove()\n",
    "# ax.figure.colorbar(n)\n",
    "\n",
    "ax.spines.right.set_visible(False)\n",
    "ax.spines.top.set_visible(False)\n",
    "\n",
    "# ax.spines.bottom.set_linewidth(2)\n",
    "# ax.spines.left.set_linewidth(2)\n",
    "\n",
    "# ax.set_title(f'r = {round(corr[0],4)}',loc='left')\n",
    "\n",
    "ax.set_xlabel(\"log(total counts) 10X 5'\", fontsize=16)\n",
    "ax.set_ylabel('log(total counts) scSLR-seq', fontsize=16)\n",
    "\n",
    "\n",
    "norm = plt.Normalize(residual.min(), residual.max())\n",
    "sm = plt.cm.ScalarMappable(cmap=\"inferno\", norm=norm)\n",
    "sm.set_array([])\n",
    "\n",
    "#Remove the legend and add a colorbar\n",
    "ax.get_legend().remove()\n",
    "\n",
    "ax.figure.colorbar(sm, shrink=0.4, aspect=4)\n",
    "\n",
    "\n",
    "\n",
    "#fig.savefig('./plots/SLR_10X_corr_residuals_PBMC.pdf')"
   ]
  },
  {
   "cell_type": "code",
   "execution_count": null,
   "id": "8b9a53e9-4b28-4fcd-8c5a-128a08974801",
   "metadata": {},
   "outputs": [],
   "source": []
  },
  {
   "cell_type": "code",
   "execution_count": null,
   "id": "4c5f9cfe-a25a-4dd2-a19c-57cd2e531479",
   "metadata": {},
   "outputs": [],
   "source": []
  },
  {
   "cell_type": "code",
   "execution_count": null,
   "id": "e434167a-c8dd-476c-a431-9a5c961d5cd8",
   "metadata": {},
   "outputs": [],
   "source": []
  },
  {
   "cell_type": "code",
   "execution_count": null,
   "id": "7531e85c-29ed-4766-b6f3-9d45c3931b16",
   "metadata": {},
   "outputs": [],
   "source": []
  },
  {
   "cell_type": "markdown",
   "id": "281c2db1-36fa-44da-b04e-d46f0d163481",
   "metadata": {},
   "source": [
    "### collisions vs counts"
   ]
  },
  {
   "cell_type": "code",
   "execution_count": null,
   "id": "0e53760a-8816-48cb-bf34-e802f127f9a9",
   "metadata": {
    "tags": []
   },
   "outputs": [],
   "source": [
    "input_dir='/c4/home/derek/data1/derek/data_scSLR/PBMC/'"
   ]
  },
  {
   "cell_type": "code",
   "execution_count": null,
   "id": "df8dd8dc-c2ac-4064-9430-867c44102f6d",
   "metadata": {},
   "outputs": [],
   "source": [
    "collisions = pd.read_csv(input_dir+'sample_2_collisions_table.csv')"
   ]
  },
  {
   "cell_type": "code",
   "execution_count": null,
   "id": "c5f772bd-8f81-4c66-a802-a38324a6a71a",
   "metadata": {},
   "outputs": [],
   "source": [
    "df_residual = pd.DataFrame(residual).rename({0:'residual'},axis=1)"
   ]
  },
  {
   "cell_type": "code",
   "execution_count": null,
   "id": "e345cf96-2681-4553-b75c-c6a93fb3dcc7",
   "metadata": {
    "tags": []
   },
   "outputs": [],
   "source": [
    "df_residual['gene_id'] = adata_10X.var_names"
   ]
  },
  {
   "cell_type": "code",
   "execution_count": null,
   "id": "d83ad94e-9a12-44a9-ad61-8bf193b39b92",
   "metadata": {
    "tags": []
   },
   "outputs": [],
   "source": [
    "df_residual.sort_values(by='residual',ascending=False).head(50)"
   ]
  },
  {
   "cell_type": "code",
   "execution_count": null,
   "id": "c9a5e557-f7dc-41e5-90d5-9168e9fd3175",
   "metadata": {
    "tags": []
   },
   "outputs": [],
   "source": [
    "collisions"
   ]
  },
  {
   "cell_type": "code",
   "execution_count": null,
   "id": "48b794ba-5ca4-4134-9a3f-6cd197a66bda",
   "metadata": {
    "tags": []
   },
   "outputs": [],
   "source": [
    "adata_10X.var"
   ]
  },
  {
   "cell_type": "code",
   "execution_count": null,
   "id": "af50fba7-c8a8-4fb1-adcb-fdd8d6fede78",
   "metadata": {
    "tags": []
   },
   "outputs": [],
   "source": [
    "df_residual"
   ]
  },
  {
   "cell_type": "code",
   "execution_count": null,
   "id": "c66e3a08-669f-4f4f-9a11-c494d7e5f724",
   "metadata": {
    "tags": []
   },
   "outputs": [],
   "source": [
    "df_residual['collision'] = df_residual.gene_id.map(dict(zip(collisions['gene_ID'],collisions['True'])))"
   ]
  },
  {
   "cell_type": "code",
   "execution_count": null,
   "id": "a7f647b0-3129-44ea-9cf8-af4d7cf94a66",
   "metadata": {
    "tags": []
   },
   "outputs": [],
   "source": [
    "df_residual.sort_values(by = 'collision', ascending=False)"
   ]
  },
  {
   "cell_type": "code",
   "execution_count": null,
   "id": "39587e73-3726-4f09-ba89-67dda9f17955",
   "metadata": {
    "tags": []
   },
   "outputs": [],
   "source": [
    "sns.scatterplot(data=df_residual,\n",
    "                x='collision',\n",
    "                y='residual'\n",
    "               )"
   ]
  },
  {
   "cell_type": "code",
   "execution_count": null,
   "id": "35548abc-73ae-4090-9834-01652e6f0ff6",
   "metadata": {},
   "outputs": [],
   "source": []
  },
  {
   "cell_type": "code",
   "execution_count": null,
   "id": "8fba479d-eb2c-483c-a64a-9c66fa7b613b",
   "metadata": {},
   "outputs": [],
   "source": []
  },
  {
   "cell_type": "code",
   "execution_count": null,
   "id": "82043f4d-a9a6-402f-a9a0-a73fcb7e778b",
   "metadata": {},
   "outputs": [],
   "source": []
  },
  {
   "cell_type": "code",
   "execution_count": null,
   "id": "c3091706-a5f2-45e6-9787-c99f9107bd4f",
   "metadata": {},
   "outputs": [],
   "source": [
    "adata_SLR = adata_SLR[:,adata_SLR.var.gene_id.isin(collisions.gene_ID)]\n",
    "adata_10X = adata_10X[:,adata_10X.var.gene_id.isin(collisions.gene_ID)]"
   ]
  },
  {
   "cell_type": "code",
   "execution_count": null,
   "id": "3d847788-4f5e-41a6-b36f-9bda60d54b67",
   "metadata": {},
   "outputs": [],
   "source": []
  },
  {
   "cell_type": "code",
   "execution_count": null,
   "id": "d3aa9283-1a9a-4b6a-8e72-851868293eea",
   "metadata": {},
   "outputs": [],
   "source": [
    "values = np.vstack([adata_SLR.var.log1p_total_counts,\n",
    "                    adata_10X.var.log1p_total_counts])"
   ]
  },
  {
   "cell_type": "code",
   "execution_count": null,
   "id": "790ad9e5-4c0d-4966-a3e6-707862617e04",
   "metadata": {},
   "outputs": [],
   "source": [
    "collisions = collisions.set_index('gene_name').reindex(index=adata_SLR.var_names)"
   ]
  },
  {
   "cell_type": "code",
   "execution_count": null,
   "id": "20dde4c5-d0a5-4f20-a855-2af334e93fda",
   "metadata": {},
   "outputs": [],
   "source": [
    "collisions['True_rate'].to_numpy()"
   ]
  },
  {
   "cell_type": "code",
   "execution_count": null,
   "id": "f1ae0d1d-90e3-4caa-a952-12d5a100a763",
   "metadata": {
    "tags": []
   },
   "outputs": [],
   "source": []
  },
  {
   "cell_type": "code",
   "execution_count": null,
   "id": "e3983ccf-902a-4391-a3ab-c0a1e030e51a",
   "metadata": {},
   "outputs": [],
   "source": [
    "break"
   ]
  },
  {
   "cell_type": "code",
   "execution_count": null,
   "id": "51e04e34-382e-42af-a1d6-fbab90cd6065",
   "metadata": {},
   "outputs": [],
   "source": [
    "#pd.DataFrame(dict(zip(adata_10X.var.gene_ids, residual)), index=[0],).T.to_csv(input_dir+'correlation_residuals.csv',header=None)"
   ]
  },
  {
   "cell_type": "code",
   "execution_count": null,
   "id": "90ea8cbc-1a7a-406e-8c25-ef3b75cf2978",
   "metadata": {},
   "outputs": [],
   "source": [
    "res_df = pd.DataFrame(dict(zip(adata_10X.var.gene_ids, residual)), index=[0],).T\n",
    "res_df.columns=['residual']"
   ]
  },
  {
   "cell_type": "code",
   "execution_count": null,
   "id": "cd87f205-2f51-4f52-b507-b80f008b13e7",
   "metadata": {
    "tags": []
   },
   "outputs": [],
   "source": [
    "res_df = res_df.sort_values(by='residual',ascending=False).reset_index().rename({'index':'gene_id'}, axis=1)"
   ]
  },
  {
   "cell_type": "code",
   "execution_count": null,
   "id": "74d58283-7ca8-458b-b688-083806de1e50",
   "metadata": {
    "tags": []
   },
   "outputs": [],
   "source": [
    "res_df_ = res_df[res_df.residual >= 8]"
   ]
  },
  {
   "cell_type": "code",
   "execution_count": null,
   "id": "87cec4f4-8b79-4199-8862-5884085275a7",
   "metadata": {
    "tags": []
   },
   "outputs": [],
   "source": [
    "res_df_"
   ]
  },
  {
   "cell_type": "code",
   "execution_count": null,
   "id": "aa58521c-4f30-4394-b6d2-b0494cd087e7",
   "metadata": {
    "tags": []
   },
   "outputs": [],
   "source": [
    "from pybiomart import Dataset\n",
    "\n",
    "dataset = Dataset(name='hsapiens_gene_ensembl',\n",
    "                  host='http://www.ensembl.org')\n",
    "\n",
    "genes = dataset.query(attributes=['ensembl_gene_id','external_gene_name','chromosome_name','start_position','end_position'],\n",
    "              )"
   ]
  },
  {
   "cell_type": "code",
   "execution_count": null,
   "id": "a2d7d32c-2152-4810-9550-f2ecdb154f33",
   "metadata": {
    "tags": []
   },
   "outputs": [],
   "source": []
  },
  {
   "cell_type": "code",
   "execution_count": null,
   "id": "c4e86143-0854-4e66-a49b-c2e6036c56b8",
   "metadata": {},
   "outputs": [],
   "source": []
  },
  {
   "cell_type": "code",
   "execution_count": null,
   "id": "dbd2e503-ede7-453c-a4aa-3698ae387fd1",
   "metadata": {
    "tags": []
   },
   "outputs": [],
   "source": [
    "res_df_.gene_id.map(dict(zip(genes['Gene stable ID'],genes['Gene name']))).head(60)"
   ]
  },
  {
   "cell_type": "code",
   "execution_count": null,
   "id": "5ccc7778-937f-43f4-8ba7-43b90b3c9906",
   "metadata": {
    "tags": []
   },
   "outputs": [],
   "source": []
  },
  {
   "cell_type": "code",
   "execution_count": null,
   "id": "698feb51-625e-4adb-bb68-50566750b731",
   "metadata": {},
   "outputs": [],
   "source": []
  },
  {
   "cell_type": "code",
   "execution_count": null,
   "id": "17bcbaf1-f1bb-461d-9c72-a2c0c16a0b2a",
   "metadata": {},
   "outputs": [],
   "source": []
  },
  {
   "cell_type": "code",
   "execution_count": null,
   "id": "fe3701ef-19f1-446a-aa53-f18ab93ec910",
   "metadata": {},
   "outputs": [],
   "source": [
    "echo !conda list"
   ]
  },
  {
   "cell_type": "code",
   "execution_count": null,
   "id": "6f578409-eea8-4a9a-ba86-f86cce58ee0a",
   "metadata": {},
   "outputs": [],
   "source": []
  },
  {
   "cell_type": "code",
   "execution_count": null,
   "id": "5eb87a7e-883b-4617-a2e8-938025348ea1",
   "metadata": {},
   "outputs": [],
   "source": []
  }
 ],
 "metadata": {
  "kernelspec": {
   "display_name": "Python 3 (ipykernel)",
   "language": "python",
   "name": "python3"
  },
  "language_info": {
   "codemirror_mode": {
    "name": "ipython",
    "version": 3
   },
   "file_extension": ".py",
   "mimetype": "text/x-python",
   "name": "python",
   "nbconvert_exporter": "python",
   "pygments_lexer": "ipython3",
   "version": "3.10.10"
  }
 },
 "nbformat": 4,
 "nbformat_minor": 5
}
