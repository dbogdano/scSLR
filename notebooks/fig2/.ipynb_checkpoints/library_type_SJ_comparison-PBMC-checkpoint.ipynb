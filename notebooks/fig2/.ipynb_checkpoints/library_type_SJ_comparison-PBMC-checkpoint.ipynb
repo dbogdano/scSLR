{
 "cells": [
  {
   "cell_type": "markdown",
   "id": "f9fe0048-0aed-4037-b340-7e77a816eec5",
   "metadata": {},
   "source": [
    "## library type SJ comparison"
   ]
  },
  {
   "cell_type": "code",
   "execution_count": null,
   "id": "ca9ad3c2-d07d-4f04-9fc5-efe6b4ba1f2b",
   "metadata": {},
   "outputs": [],
   "source": []
  },
  {
   "cell_type": "code",
   "execution_count": 1,
   "id": "4fe791f3-46c0-4c3a-8f83-7a2c323e22db",
   "metadata": {},
   "outputs": [
    {
     "name": "stdout",
     "output_type": "stream",
     "text": [
      "Sun Jan 15 03:13:31 PST 2023\n"
     ]
    }
   ],
   "source": [
    "!date"
   ]
  },
  {
   "cell_type": "code",
   "execution_count": 2,
   "id": "4469280b-1aa5-4e76-a759-65fc517af725",
   "metadata": {},
   "outputs": [
    {
     "name": "stdout",
     "output_type": "stream",
     "text": [
      "/c4/home/derek/miniconda3/envs/squint_2\n"
     ]
    }
   ],
   "source": [
    "!echo $CONDA_PREFIX"
   ]
  },
  {
   "cell_type": "code",
   "execution_count": 3,
   "id": "decbf3bf-b242-434f-82ff-68d1a683f047",
   "metadata": {},
   "outputs": [],
   "source": [
    "import pandas as pd\n",
    "import scanpy as sc\n",
    "import anndata\n",
    "\n",
    "import matplotlib.pyplot as plt\n",
    "import seaborn as sns\n",
    "import numpy as np\n",
    "import os\n",
    "\n",
    "sc.set_figure_params(dpi=160)"
   ]
  },
  {
   "cell_type": "code",
   "execution_count": 4,
   "id": "f11a56a6-4fed-4d1a-bbf9-858fe1c264bc",
   "metadata": {},
   "outputs": [],
   "source": [
    "input_dir = '/c4/home/derek/data1/derek/data_scSLR/PBMC/STAR_outs/'"
   ]
  },
  {
   "cell_type": "code",
   "execution_count": 5,
   "id": "0bc88c19-2b31-453d-be12-12a97e1f52ce",
   "metadata": {},
   "outputs": [],
   "source": [
    "output_dir = '/c4/home/derek/data1/derek/scSLR/notebooks/fig2/plots/'\n",
    "os.makedirs(output_dir, exist_ok=True)"
   ]
  },
  {
   "cell_type": "code",
   "execution_count": null,
   "id": "41915c22-6559-4ec9-a853-35210e093177",
   "metadata": {},
   "outputs": [],
   "source": []
  },
  {
   "cell_type": "code",
   "execution_count": null,
   "id": "88090735-37e2-4f9f-967a-aca9033c04d9",
   "metadata": {},
   "outputs": [],
   "source": []
  },
  {
   "cell_type": "code",
   "execution_count": null,
   "id": "e089a0ff-4a13-4765-adec-45df1dad5dca",
   "metadata": {},
   "outputs": [],
   "source": []
  },
  {
   "cell_type": "code",
   "execution_count": null,
   "id": "ce618919-cf25-4161-93ff-f41ac5b8f712",
   "metadata": {},
   "outputs": [],
   "source": []
  },
  {
   "cell_type": "code",
   "execution_count": null,
   "id": "073e444e-9f63-47f1-95a5-99ac336e47dd",
   "metadata": {},
   "outputs": [],
   "source": []
  },
  {
   "cell_type": "code",
   "execution_count": 6,
   "id": "6d1b5072-1d41-44f3-a5f5-32a5d0402d00",
   "metadata": {},
   "outputs": [],
   "source": [
    "input_dir_internal_1= '/c4/home/derek/data1/derek/data_scSLR/PBMC/STAR_outs/sample_1/StarOut_internal/Solo.out/SJ/raw/'\n",
    "\n",
    "adata_internal_1 = sc.read_mtx(input_dir_internal_1 + 'matrix.mtx').T\n",
    "adata_internal_1.obs_names = pd.read_csv(input_dir_internal_1+'barcodes.tsv',header=None)[0]\n",
    "annot = pd.read_csv(input_dir_internal_1+'SJ.out.tab',header=None,sep='\\t')\n",
    "\n",
    "adata_internal_1.var_names = annot[0].astype('str') + ':' + annot[1].astype('str') + '-' + annot[2].astype('str')"
   ]
  },
  {
   "cell_type": "code",
   "execution_count": null,
   "id": "e71e8b60-f79a-43ca-a431-4439cb17fc35",
   "metadata": {},
   "outputs": [],
   "source": [
    "input_dir_internal_2= '/c4/home/derek/data1/derek/data_scSLR/PBMC/STAR_outs/sample_2/StarOut_internal/Solo.out/SJ/raw/'\n",
    "\n",
    "adata_internal_2 = sc.read_mtx(input_dir_internal_2 + 'matrix.mtx').T\n",
    "adata_internal_2.obs_names = pd.read_csv(input_dir_internal_2+'barcodes.tsv',header=None)[0]\n",
    "annot = pd.read_csv(input_dir_internal_2+'SJ.out.tab',header=None,sep='\\t')\n",
    "\n",
    "adata_internal_2.var_names = annot[0].astype('str') + ':' + annot[1].astype('str') + '-' + annot[2].astype('str')"
   ]
  },
  {
   "cell_type": "code",
   "execution_count": null,
   "id": "2cd7da4b-95b1-47f2-8886-8b74c13daf21",
   "metadata": {},
   "outputs": [],
   "source": []
  },
  {
   "cell_type": "code",
   "execution_count": null,
   "id": "9b85c4ff-b053-4629-be73-b4a9598379aa",
   "metadata": {},
   "outputs": [],
   "source": [
    "input_dir_5prime_1= '/c4/home/derek/data1/derek/data_scSLR/PBMC/STAR_outs/sample_1/StarOut_5prime/Solo.out/SJ/raw/'\n",
    "\n",
    "adata_5prime_1 = sc.read_mtx(input_dir_5prime_1 + 'matrix.mtx').T\n",
    "adata_5prime_1.obs_names = pd.read_csv(input_dir_5prime_1+'barcodes.tsv',header=None)[0]\n",
    "annot = pd.read_csv(input_dir_5prime_1+'SJ.out.tab',header=None,sep='\\t')\n",
    "\n",
    "adata_5prime_1.var_names = annot[0].astype('str') + ':' + annot[1].astype('str') + '-' + annot[2].astype('str')"
   ]
  },
  {
   "cell_type": "code",
   "execution_count": null,
   "id": "5277709a-c15f-472b-addc-4ba25980eaeb",
   "metadata": {},
   "outputs": [],
   "source": [
    "input_dir_5prime_2= '/c4/home/derek/data1/derek/data_scSLR/PBMC/STAR_outs/sample_2/StarOut_5prime/Solo.out/SJ/raw/'\n",
    "\n",
    "adata_5prime_2 = sc.read_mtx(input_dir_5prime_2 + 'matrix.mtx').T\n",
    "adata_5prime_2.obs_names = pd.read_csv(input_dir_5prime_2+'barcodes.tsv',header=None)[0]\n",
    "annot = pd.read_csv(input_dir_5prime_2+'SJ.out.tab',header=None,sep='\\t')\n",
    "\n",
    "adata_5prime_2.var_names = annot[0].astype('str') + ':' + annot[1].astype('str') + '-' + annot[2].astype('str')"
   ]
  },
  {
   "cell_type": "code",
   "execution_count": null,
   "id": "bccebe84-b0ea-4568-b5c0-041be8cbcdd2",
   "metadata": {},
   "outputs": [],
   "source": []
  },
  {
   "cell_type": "code",
   "execution_count": null,
   "id": "097ca45c-b02c-4ef0-871e-6040bcf07fe2",
   "metadata": {},
   "outputs": [],
   "source": [
    "adata_internal_1.var_names_make_unique()\n",
    "adata_internal_2.var_names_make_unique()\n",
    "\n",
    "adata_5prime_1.var_names_make_unique()\n",
    "adata_5prime_2.var_names_make_unique()"
   ]
  },
  {
   "cell_type": "code",
   "execution_count": null,
   "id": "f5f1c7d4-de80-49a6-997e-5984ce16538b",
   "metadata": {},
   "outputs": [],
   "source": []
  },
  {
   "cell_type": "code",
   "execution_count": null,
   "id": "44e2f059-3240-484e-976c-2f93e178aa54",
   "metadata": {},
   "outputs": [],
   "source": [
    "annotations_1 = pd.read_csv('/c4/home/derek/data1/derek/data_scSLR/PBMC/PBMC_sample_1_idents.csv',sep='\\t',header=None,index_col=0,names=['celltype'])\n",
    "annotations_2 = pd.read_csv('/c4/home/derek/data1/derek/data_scSLR/PBMC/PBMC_sample_2_idents.csv',sep='\\t',header=None,index_col=0,names=['celltype'])"
   ]
  },
  {
   "cell_type": "code",
   "execution_count": null,
   "id": "531250fc-a6a6-44d5-b971-c527b6a63516",
   "metadata": {},
   "outputs": [],
   "source": [
    "adata_internal_1 = adata_internal_1[adata_internal_1.obs_names.isin(annotations_1.index)]\n",
    "adata_internal_2 = adata_internal_2[adata_internal_2.obs_names.isin(annotations_2.index)]\n",
    "\n",
    "adata_internal_1.obs['celltype'] = annotations_1['celltype']\n",
    "adata_internal_2.obs['celltype'] = annotations_2['celltype']\n",
    "\n",
    "adata_5prime_1 = adata_5prime_1[adata_5prime_1.obs_names.isin(annotations_1.index)]\n",
    "adata_5prime_2 = adata_5prime_2[adata_5prime_2.obs_names.isin(annotations_2.index)]\n",
    "\n",
    "adata_5prime_1.obs['celltype'] = annotations_1['celltype']\n",
    "adata_5prime_2.obs['celltype'] = annotations_2['celltype']"
   ]
  },
  {
   "cell_type": "code",
   "execution_count": null,
   "id": "dce21e77-8c1e-4e9f-945e-bc8368c5cba9",
   "metadata": {},
   "outputs": [],
   "source": []
  },
  {
   "cell_type": "code",
   "execution_count": null,
   "id": "c0b2ecac-b71f-4c70-a3c5-c549fed56806",
   "metadata": {},
   "outputs": [],
   "source": [
    "adata_internal = adata_internal_1.concatenate(adata_internal_2)\n",
    "adata_5prime = adata_5prime_1.concatenate(adata_5prime_2)"
   ]
  },
  {
   "cell_type": "code",
   "execution_count": null,
   "id": "fe5dd990-3029-4554-9075-9e4125634f10",
   "metadata": {},
   "outputs": [],
   "source": [
    "adata = adata_internal.concatenate([adata_5prime],\n",
    "                                 batch_categories=['internal','5prime']\n",
    "                                )"
   ]
  },
  {
   "cell_type": "code",
   "execution_count": null,
   "id": "907a7849-179a-4a0e-b1a2-248f5e8ce64d",
   "metadata": {},
   "outputs": [],
   "source": [
    "#sc.pp.filter_cells(adata,min_counts=200)\n",
    "sc.pp.filter_cells(adata,min_genes=1)"
   ]
  },
  {
   "cell_type": "code",
   "execution_count": null,
   "id": "e966287e-74c0-4473-a19e-722f2e93db98",
   "metadata": {},
   "outputs": [],
   "source": []
  },
  {
   "cell_type": "code",
   "execution_count": null,
   "id": "2275da49-1483-4655-ab8e-08805036afd9",
   "metadata": {},
   "outputs": [],
   "source": []
  },
  {
   "cell_type": "code",
   "execution_count": null,
   "id": "9e408522-4d38-4b5a-9185-76221468db9f",
   "metadata": {},
   "outputs": [],
   "source": [
    "fig, axes = plt.subplots(1, 2, figsize=(8, 2))\n",
    "\n",
    "plt.subplots_adjust(wspace=0.5)\n",
    "\n",
    "for i, ax in zip(adata.obs.batch.cat.categories.tolist(), axes.ravel()):\n",
    "    sns.histplot(adata[adata.obs[\"batch\"] == i].obs[\"n_genes\"],ax=ax,\n",
    "                 bins=100, kde=False, log_scale =True).set(title=i)"
   ]
  },
  {
   "cell_type": "code",
   "execution_count": null,
   "id": "5762fe9d-e1a7-49d2-96f9-005d2710a3bd",
   "metadata": {},
   "outputs": [],
   "source": [
    "sc.pp.calculate_qc_metrics(adata_internal,inplace=True)\n",
    "sc.pp.calculate_qc_metrics(adata_5prime,inplace=True)\n",
    "\n"
   ]
  },
  {
   "cell_type": "code",
   "execution_count": null,
   "id": "f72005bb-0e0a-4267-9770-8c608e883dd3",
   "metadata": {},
   "outputs": [],
   "source": [
    "sc.pp.calculate_qc_metrics(adata,inplace=True)\n",
    "\n"
   ]
  },
  {
   "cell_type": "code",
   "execution_count": null,
   "id": "ac673d1e-dbeb-4a92-ad18-c9d55703ea84",
   "metadata": {},
   "outputs": [],
   "source": []
  },
  {
   "cell_type": "code",
   "execution_count": null,
   "id": "81310f33-c017-4df8-a00e-10ef54e6431b",
   "metadata": {},
   "outputs": [],
   "source": [
    "adata.obs['log10_n_genes'] = np.log10(adata.obs.n_genes)\n",
    "adata_5prime.obs['log10_n_genes'] = np.log10(adata_5prime.obs.n_genes_by_counts)\n",
    "adata_internal.obs['log10_n_genes'] = np.log10(adata_internal.obs.n_genes_by_counts)"
   ]
  },
  {
   "cell_type": "code",
   "execution_count": null,
   "id": "c56b5e1b-0c4e-4732-a9e4-3b510ea37e74",
   "metadata": {},
   "outputs": [],
   "source": [
    "fig, ax = plt.subplots(1,1)\n",
    "\n",
    "\n",
    "\n",
    "sns.scatterplot(data=adata_5prime.obs,\n",
    "                x='total_counts',\n",
    "                y='log10_n_genes',\n",
    "                s=1,\n",
    "                linewidth=0,\n",
    "                alpha=.25,\n",
    "                ax=ax\n",
    "               )\n",
    "\n",
    "sns.scatterplot(data=adata_internal.obs,\n",
    "                x='total_counts',\n",
    "                y='log10_n_genes',\n",
    "                s=1,\n",
    "                linewidth=0,\n",
    "                alpha=.25,\n",
    "                ax=ax,\n",
    "               )"
   ]
  },
  {
   "cell_type": "code",
   "execution_count": null,
   "id": "e73adf3f-0481-4815-b9fb-1cc50642b05c",
   "metadata": {},
   "outputs": [],
   "source": []
  },
  {
   "cell_type": "code",
   "execution_count": null,
   "id": "1193eb10-7390-45bf-a00e-a4b73bfb6c3e",
   "metadata": {},
   "outputs": [],
   "source": [
    "sc.pp.normalize_total(adata, target_sum=1e4)\n",
    "sc.pp.log1p(adata)"
   ]
  },
  {
   "cell_type": "code",
   "execution_count": null,
   "id": "da6f2699-15cc-4683-b703-df4e192485cf",
   "metadata": {},
   "outputs": [],
   "source": [
    "sc.pp.calculate_qc_metrics(adata,inplace=True)"
   ]
  },
  {
   "cell_type": "code",
   "execution_count": null,
   "id": "90500347-6708-4cac-9668-65718d4048db",
   "metadata": {},
   "outputs": [],
   "source": [
    "adata.obs['ratio'] = adata.obs.n_genes_by_counts/adata.obs.total_counts"
   ]
  },
  {
   "cell_type": "code",
   "execution_count": null,
   "id": "bcd61a65-9df8-456b-8a72-9463529f9ac5",
   "metadata": {},
   "outputs": [],
   "source": []
  },
  {
   "cell_type": "code",
   "execution_count": null,
   "id": "6bcef3ea-cb14-408d-9b4e-6165ae641458",
   "metadata": {},
   "outputs": [],
   "source": [
    "fig, ax = plt.subplots(1,1)\n",
    "\n",
    "sns.violinplot(data=adata.obs, x='batch', y='ratio', ax=ax)\n",
    "\n",
    "# sns.stripplot(data=adata.obs,\n",
    "#             x=\"batch\", \n",
    "#             y=\"ratio\", \n",
    "#                    color=\"black\", edgecolor=\"gray\",\n",
    "#               size=.5,\n",
    "#               ax=ax\n",
    "#          )\n",
    "\n",
    "\n",
    "ax.grid(False)\n",
    "\n",
    "ax.set_xticklabels(['Internal', '5prime'],fontsize=12)\n",
    "ax.set_yticklabels(['0.2','0.4','0.6','0.8','1.0'],fontsize=12)\n",
    "\n",
    "\n",
    "\n",
    "ax.set_ylabel(\"Unique splice juntions \\n by counts \", fontsize=12)\n",
    "ax.set_xlabel('Library type', fontsize=12)\n",
    "\n",
    "#fig.savefig(output_dir + 'comparison_SJ_ratio_violins.pdf')"
   ]
  },
  {
   "cell_type": "code",
   "execution_count": null,
   "id": "58f42785-8030-4caa-ba9e-ba8933b23a03",
   "metadata": {},
   "outputs": [],
   "source": []
  },
  {
   "cell_type": "code",
   "execution_count": null,
   "id": "52dec0c0-0d55-4089-a0e4-44031c2ed956",
   "metadata": {},
   "outputs": [],
   "source": [
    "fig, ax = plt.subplots(1,1)\n",
    "\n",
    "sns.violinplot(data=adata.obs, x='batch', y='log1p_total_counts', ax=ax)\n",
    "\n",
    "# sns.stripplot(data=adata.obs,\n",
    "#             x=\"batch\", \n",
    "#             y=\"log1p_total_counts\", \n",
    "#                    color=\"black\", edgecolor=\"gray\",\n",
    "#               size=.5,\n",
    "#               ax=ax\n",
    "#          )\n",
    "\n",
    "ax.grid(False)\n",
    "\n",
    "ax.set_xticklabels(['Internal', '5prime'],fontsize=12)\n",
    "ax.set_yticklabels(['2.0','4.0','6.0','8.0','10'],fontsize=12)\n",
    "\n",
    "\n",
    "ax.set_ylabel('Log total counts', fontsize=12)\n",
    "ax.set_xlabel('Library type', fontsize=12)\n",
    "\n",
    "fig.savefig(output_dir + 'comparison_SJ_counts_violins.pdf')"
   ]
  },
  {
   "cell_type": "code",
   "execution_count": null,
   "id": "096f6243-7944-42d1-bf0f-8555617740a0",
   "metadata": {},
   "outputs": [],
   "source": []
  },
  {
   "cell_type": "code",
   "execution_count": null,
   "id": "cea4b177-c520-48e2-a20e-cbc83234801b",
   "metadata": {},
   "outputs": [],
   "source": [
    "adata.var_names"
   ]
  },
  {
   "cell_type": "code",
   "execution_count": null,
   "id": "804134d8-a254-4300-b629-ddb1e32d80d5",
   "metadata": {},
   "outputs": [],
   "source": []
  },
  {
   "cell_type": "code",
   "execution_count": null,
   "id": "03538b4a-aa93-409d-ad4f-58d8202109d7",
   "metadata": {},
   "outputs": [],
   "source": []
  },
  {
   "cell_type": "code",
   "execution_count": null,
   "id": "1c6094f3-747b-4212-be37-2ca0b48de73f",
   "metadata": {},
   "outputs": [],
   "source": []
  },
  {
   "cell_type": "code",
   "execution_count": null,
   "id": "9db79e9a-23b5-468f-abca-716d3e3de4a2",
   "metadata": {},
   "outputs": [],
   "source": []
  },
  {
   "cell_type": "code",
   "execution_count": null,
   "id": "9e0ee1a9-9443-412d-8fef-6068e3c52bef",
   "metadata": {},
   "outputs": [],
   "source": []
  },
  {
   "cell_type": "code",
   "execution_count": null,
   "id": "2e545374-ac48-4554-8e5a-2c4e3e3f78cf",
   "metadata": {},
   "outputs": [],
   "source": []
  },
  {
   "cell_type": "code",
   "execution_count": null,
   "id": "60e96860-4331-4cff-b1eb-1c969c83f7d7",
   "metadata": {},
   "outputs": [],
   "source": []
  },
  {
   "cell_type": "code",
   "execution_count": null,
   "id": "6cbc3fae-8dc4-4fb5-af34-2db9c48db3c1",
   "metadata": {},
   "outputs": [],
   "source": []
  },
  {
   "cell_type": "code",
   "execution_count": null,
   "id": "15f35e67-9f61-42df-aa4e-4ca6ca0b3da8",
   "metadata": {},
   "outputs": [],
   "source": []
  },
  {
   "cell_type": "code",
   "execution_count": null,
   "id": "58fffb0b-27ad-40ed-a262-521da7e4ddcb",
   "metadata": {},
   "outputs": [],
   "source": []
  },
  {
   "cell_type": "code",
   "execution_count": null,
   "id": "70a16a7b-94e8-4a93-959b-0558612deae9",
   "metadata": {},
   "outputs": [],
   "source": [
    "adata_internal_sample"
   ]
  },
  {
   "cell_type": "code",
   "execution_count": null,
   "id": "3899587a-50fa-4c20-86fc-9b326d8e1b6d",
   "metadata": {},
   "outputs": [],
   "source": [
    "input_dir= \"/nowakowskilab/data1/HDD-2/derek/SLR_temp/CAT_20220904_PBMC/\"\n",
    "\n",
    "adata = sc.read_h5ad(input_dir+'/concat.3.new.h5ad')"
   ]
  },
  {
   "cell_type": "code",
   "execution_count": null,
   "id": "a7f2bd67-d9d3-4147-8845-c554d0f6c2de",
   "metadata": {},
   "outputs": [],
   "source": [
    "adata = adata[(adata.obs['pool_well'] == '5_1') | (adata.obs['pool_well'] == '5_2')]"
   ]
  },
  {
   "cell_type": "code",
   "execution_count": null,
   "id": "82d3a209-e708-46fd-aa69-9ff98f469231",
   "metadata": {},
   "outputs": [],
   "source": [
    "# adata.obs"
   ]
  },
  {
   "cell_type": "code",
   "execution_count": null,
   "id": "bdabd183-571d-433a-a9a7-d20050656649",
   "metadata": {},
   "outputs": [],
   "source": []
  },
  {
   "cell_type": "code",
   "execution_count": null,
   "id": "71b4bebd-0ed1-4562-a4a1-c7aaaf67e291",
   "metadata": {},
   "outputs": [],
   "source": []
  },
  {
   "cell_type": "code",
   "execution_count": null,
   "id": "f64ed8fb-8fcc-4f1e-a166-cabdcb194ff7",
   "metadata": {},
   "outputs": [],
   "source": []
  },
  {
   "cell_type": "code",
   "execution_count": null,
   "id": "1852e36a-42ac-4fdb-86bd-8de55bf7922a",
   "metadata": {},
   "outputs": [],
   "source": []
  },
  {
   "cell_type": "code",
   "execution_count": null,
   "id": "652dce43-148f-4040-bae4-487eeca6719d",
   "metadata": {},
   "outputs": [],
   "source": []
  },
  {
   "cell_type": "code",
   "execution_count": null,
   "id": "27fcc919-4d57-4fd6-b974-7d0512115d1c",
   "metadata": {},
   "outputs": [],
   "source": []
  },
  {
   "cell_type": "code",
   "execution_count": null,
   "id": "e04ce1fc-1ca8-4a77-a64c-ab2b7995a577",
   "metadata": {},
   "outputs": [],
   "source": []
  },
  {
   "cell_type": "code",
   "execution_count": null,
   "id": "74d83d88-d655-46a4-9fce-209e0204f0ac",
   "metadata": {},
   "outputs": [],
   "source": []
  },
  {
   "cell_type": "code",
   "execution_count": null,
   "id": "30fb1c4d-2250-4dbe-91f5-f69f20540ec5",
   "metadata": {},
   "outputs": [],
   "source": []
  },
  {
   "cell_type": "code",
   "execution_count": null,
   "id": "5ddbfdd8-d0ab-4368-83aa-5ecc96050f11",
   "metadata": {},
   "outputs": [],
   "source": []
  },
  {
   "cell_type": "code",
   "execution_count": null,
   "id": "91b7809f-731b-40cb-87a9-0c2201ac555d",
   "metadata": {},
   "outputs": [],
   "source": []
  },
  {
   "cell_type": "code",
   "execution_count": null,
   "id": "444e3989-0cde-46db-9dd7-1b5f9ac91177",
   "metadata": {},
   "outputs": [],
   "source": []
  },
  {
   "cell_type": "code",
   "execution_count": null,
   "id": "02cd7ea3-8914-4fb4-93c4-7714428f65f5",
   "metadata": {},
   "outputs": [],
   "source": []
  },
  {
   "cell_type": "code",
   "execution_count": null,
   "id": "5c073489-11d6-444b-b4e9-9078b358cd2b",
   "metadata": {},
   "outputs": [],
   "source": []
  },
  {
   "cell_type": "code",
   "execution_count": null,
   "id": "4f091b82-aa4c-41bb-a141-0c6697c511b5",
   "metadata": {},
   "outputs": [],
   "source": []
  },
  {
   "cell_type": "code",
   "execution_count": null,
   "id": "02486976-332b-4293-88aa-5991a92a4d75",
   "metadata": {},
   "outputs": [],
   "source": []
  },
  {
   "cell_type": "code",
   "execution_count": null,
   "id": "bacd69a5-d2d5-4c10-bb4c-1e2b1f5cd852",
   "metadata": {},
   "outputs": [],
   "source": []
  },
  {
   "cell_type": "code",
   "execution_count": null,
   "id": "c3145c4a-609c-4737-93fb-9eee90d29d87",
   "metadata": {},
   "outputs": [],
   "source": []
  },
  {
   "cell_type": "code",
   "execution_count": null,
   "id": "815ea478-0694-4bdb-9568-937c5a0e9e2b",
   "metadata": {},
   "outputs": [],
   "source": []
  },
  {
   "cell_type": "code",
   "execution_count": null,
   "id": "b083bad0-4c40-4f65-b630-6ac2271cdcfc",
   "metadata": {},
   "outputs": [],
   "source": []
  },
  {
   "cell_type": "code",
   "execution_count": null,
   "id": "5736d1cd-7cbe-42a6-afee-6c0916879011",
   "metadata": {},
   "outputs": [],
   "source": []
  },
  {
   "cell_type": "code",
   "execution_count": null,
   "id": "291a254f-2ee1-4f4f-8e08-debad26927a9",
   "metadata": {},
   "outputs": [],
   "source": []
  },
  {
   "cell_type": "code",
   "execution_count": null,
   "id": "ba0ed910-1c66-40ac-b1dc-7dfeb232bd44",
   "metadata": {},
   "outputs": [],
   "source": []
  },
  {
   "cell_type": "code",
   "execution_count": null,
   "id": "cd825421-a663-4fb1-94f6-034894634d93",
   "metadata": {},
   "outputs": [],
   "source": []
  },
  {
   "cell_type": "code",
   "execution_count": null,
   "id": "9d56b7e0-ce3e-43bc-8b1f-ce81a66bcd50",
   "metadata": {},
   "outputs": [],
   "source": []
  }
 ],
 "metadata": {
  "kernelspec": {
   "display_name": "Python 3 (ipykernel)",
   "language": "python",
   "name": "python3"
  },
  "language_info": {
   "codemirror_mode": {
    "name": "ipython",
    "version": 3
   },
   "file_extension": ".py",
   "mimetype": "text/x-python",
   "name": "python",
   "nbconvert_exporter": "python",
   "pygments_lexer": "ipython3",
   "version": "3.10.8"
  }
 },
 "nbformat": 4,
 "nbformat_minor": 5
}
