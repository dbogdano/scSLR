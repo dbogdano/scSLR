{
 "cells": [
  {
   "cell_type": "code",
   "execution_count": 24,
   "id": "dbea3472-0f98-45f3-a255-3ed72f5620c5",
   "metadata": {},
   "outputs": [
    {
     "name": "stdout",
     "output_type": "stream",
     "text": [
      "Wed Jan  4 16:10:20 PST 2023\n"
     ]
    }
   ],
   "source": [
    "!date"
   ]
  },
  {
   "cell_type": "code",
   "execution_count": 3,
   "id": "8f5a7ba9-92a9-4a20-b6de-da458ed6d690",
   "metadata": {},
   "outputs": [
    {
     "name": "stdout",
     "output_type": "stream",
     "text": [
      "/c4/home/derek/miniconda3/envs/scquint\n"
     ]
    }
   ],
   "source": [
    "!echo $CONDA_PREFIX"
   ]
  },
  {
   "cell_type": "code",
   "execution_count": 4,
   "id": "3547f0f1-c210-42c7-800f-6bcd5e3d5d77",
   "metadata": {},
   "outputs": [],
   "source": [
    "import pandas as pd\n",
    "import numpy as np\n",
    "import scanpy as sc\n",
    "from scipy import stats\n",
    "\n",
    "import seaborn as sns\n",
    "import matplotlib.pyplot as plt"
   ]
  },
  {
   "cell_type": "code",
   "execution_count": 5,
   "id": "91f2ffcb-3b59-449b-981a-5e2889733062",
   "metadata": {},
   "outputs": [],
   "source": [
    "#adata_10X = sc.read_h5ad('/c4/home/derek/data1/HDD-2/derek/SLR_temp/CAT_20220904_PBMC/concat.3.new.h5ad')"
   ]
  },
  {
   "cell_type": "code",
   "execution_count": 6,
   "id": "d41dcb40-a169-4491-80b1-6784e59c05a0",
   "metadata": {},
   "outputs": [
    {
     "name": "stderr",
     "output_type": "stream",
     "text": [
      "/c4/home/derek/miniconda3/envs/scquint/lib/python3.10/site-packages/anndata/_core/anndata.py:1830: UserWarning: Variable names are not unique. To make them unique, call `.var_names_make_unique`.\n",
      "  utils.warn_names_duplicates(\"var\")\n"
     ]
    }
   ],
   "source": [
    "adata_10X = sc.read_10x_h5('/c4/home/derek/data1/derek/data_scSLR/PBMC/fastqs/PBMC/outs/raw_feature_bc_matrix.h5')"
   ]
  },
  {
   "cell_type": "code",
   "execution_count": 7,
   "id": "0745ee97-bcfc-449d-a19b-3061bf81e147",
   "metadata": {},
   "outputs": [
    {
     "data": {
      "text/plain": [
       "AnnData object with n_obs × n_vars = 16473 × 36601\n",
       "    var: 'gene_ids', 'feature_types', 'genome'"
      ]
     },
     "execution_count": 7,
     "metadata": {},
     "output_type": "execute_result"
    }
   ],
   "source": [
    "adata_10X"
   ]
  },
  {
   "cell_type": "code",
   "execution_count": null,
   "id": "ce74a001-3cab-44b6-833c-18f61ffad623",
   "metadata": {},
   "outputs": [],
   "source": []
  },
  {
   "cell_type": "code",
   "execution_count": 8,
   "id": "57b63470-5494-4cc3-b5d7-f166ff5a1967",
   "metadata": {},
   "outputs": [],
   "source": [
    "adata_10X = adata_10X[:,adata_10X.var['feature_types'] == 'Gene Expression']"
   ]
  },
  {
   "cell_type": "code",
   "execution_count": 9,
   "id": "7ae4eb82-c8de-4ba7-8adb-a2726f69b609",
   "metadata": {},
   "outputs": [],
   "source": [
    "adata_SLR = sc.read_mtx('/c4/home/derek/data1/derek/data_scSLR/PBMC/STAR_outs/sample_1/StarOut_5prime/Solo.out/GeneFull/raw/matrix.mtx').T\n",
    "\n",
    "adata_SLR.var_names = pd.read_csv('/c4/home/derek/data1/derek/data_scSLR/PBMC/STAR_outs/sample_1/StarOut_5prime/Solo.out/GeneFull/raw/features.tsv',\n",
    "            sep='\\t',header=None)[1]\n",
    "\n",
    "adata_SLR.obs_names = pd.read_csv('/c4/home/derek/data1/derek/data_scSLR/PBMC/STAR_outs/sample_1/StarOut_5prime/Solo.out/GeneFull/raw/barcodes.tsv',\n",
    "            sep='\\t',header=None)[0]"
   ]
  },
  {
   "cell_type": "code",
   "execution_count": 10,
   "id": "b953e4d9-eaa2-4021-993d-1540c2b2302a",
   "metadata": {},
   "outputs": [
    {
     "data": {
      "text/plain": [
       "Index(['AAACCTGAGACAAGCC-1', 'AAACCTGAGATATGCA-1', 'AAACCTGAGATCCTGT-1',\n",
       "       'AAACCTGAGCTGATAA-1', 'AAACCTGAGGATGGTC-1', 'AAACCTGAGGTCGGAT-1',\n",
       "       'AAACCTGAGTACGTTC-1', 'AAACCTGAGTCAAGCG-1', 'AAACCTGAGTCGAGTG-1',\n",
       "       'AAACCTGAGTCGCCGT-1',\n",
       "       ...\n",
       "       'TTTGTCAGTTAAGAAC-1', 'TTTGTCAGTTCACCTC-1', 'TTTGTCAGTTCAGCGC-1',\n",
       "       'TTTGTCAGTTCGTGAT-1', 'TTTGTCAGTTCTGAAC-1', 'TTTGTCAGTTGATTGC-1',\n",
       "       'TTTGTCAGTTTACTCT-1', 'TTTGTCATCAGGCGAA-1', 'TTTGTCATCGGCATCG-1',\n",
       "       'TTTGTCATCTGAGGGA-1'],\n",
       "      dtype='object', length=16473)"
      ]
     },
     "execution_count": 10,
     "metadata": {},
     "output_type": "execute_result"
    }
   ],
   "source": [
    "adata_10X.obs_names"
   ]
  },
  {
   "cell_type": "code",
   "execution_count": 11,
   "id": "e683c478-206c-4f6d-bf07-d4270245fa24",
   "metadata": {},
   "outputs": [
    {
     "data": {
      "text/plain": [
       "AnnData object with n_obs × n_vars = 737280 × 36385"
      ]
     },
     "execution_count": 11,
     "metadata": {},
     "output_type": "execute_result"
    }
   ],
   "source": [
    "adata_SLR"
   ]
  },
  {
   "cell_type": "code",
   "execution_count": 12,
   "id": "c68b34c4-0bdd-48a6-b293-baf0e2095cbb",
   "metadata": {},
   "outputs": [
    {
     "data": {
      "text/plain": [
       "View of AnnData object with n_obs × n_vars = 16473 × 36601\n",
       "    var: 'gene_ids', 'feature_types', 'genome'"
      ]
     },
     "execution_count": 12,
     "metadata": {},
     "output_type": "execute_result"
    }
   ],
   "source": [
    "adata_10X"
   ]
  },
  {
   "cell_type": "code",
   "execution_count": null,
   "id": "5c64b349-6983-43b5-87b8-7cac4df234c4",
   "metadata": {},
   "outputs": [],
   "source": []
  },
  {
   "cell_type": "code",
   "execution_count": null,
   "id": "e0cd5457-066c-4a62-90b8-83fbe9d5f67a",
   "metadata": {},
   "outputs": [],
   "source": []
  },
  {
   "cell_type": "code",
   "execution_count": null,
   "id": "ee42c838-3926-4b8c-a66e-c0700328f69b",
   "metadata": {},
   "outputs": [],
   "source": []
  },
  {
   "cell_type": "code",
   "execution_count": 13,
   "id": "0baaafa6-a483-4678-92fe-187b87b3cb3a",
   "metadata": {},
   "outputs": [
    {
     "data": {
      "text/plain": [
       "Index(['AAACCTGAGACAAGCC-1', 'AAACCTGAGATATGCA-1', 'AAACCTGAGATCCTGT-1',\n",
       "       'AAACCTGAGCTGATAA-1', 'AAACCTGAGGATGGTC-1', 'AAACCTGAGGTCGGAT-1',\n",
       "       'AAACCTGAGTACGTTC-1', 'AAACCTGAGTCAAGCG-1', 'AAACCTGAGTCGAGTG-1',\n",
       "       'AAACCTGAGTCGCCGT-1',\n",
       "       ...\n",
       "       'TTTGTCAGTTAAGAAC-1', 'TTTGTCAGTTCACCTC-1', 'TTTGTCAGTTCAGCGC-1',\n",
       "       'TTTGTCAGTTCGTGAT-1', 'TTTGTCAGTTCTGAAC-1', 'TTTGTCAGTTGATTGC-1',\n",
       "       'TTTGTCAGTTTACTCT-1', 'TTTGTCATCAGGCGAA-1', 'TTTGTCATCGGCATCG-1',\n",
       "       'TTTGTCATCTGAGGGA-1'],\n",
       "      dtype='object', length=16473)"
      ]
     },
     "execution_count": 13,
     "metadata": {},
     "output_type": "execute_result"
    }
   ],
   "source": [
    "adata_10X.obs_names"
   ]
  },
  {
   "cell_type": "code",
   "execution_count": 14,
   "id": "d4e04d68-03bd-42f0-ac73-9b2e7a155040",
   "metadata": {},
   "outputs": [
    {
     "name": "stderr",
     "output_type": "stream",
     "text": [
      "/c4/home/derek/miniconda3/envs/scquint/lib/python3.10/site-packages/anndata/_core/anndata.py:1830: UserWarning: Variable names are not unique. To make them unique, call `.var_names_make_unique`.\n",
      "  utils.warn_names_duplicates(\"var\")\n"
     ]
    }
   ],
   "source": [
    "#adata_10X = adata_10X[adata_10X.obs_names.str.endswith('-1-22')]\n",
    "adata_10X.obs_names = adata_10X.obs_names.str[:-2]"
   ]
  },
  {
   "cell_type": "code",
   "execution_count": 15,
   "id": "b0128b08-07c9-47dc-82a6-c31156ee5da8",
   "metadata": {},
   "outputs": [],
   "source": [
    "adata_SLR= adata_SLR[adata_SLR.obs_names.isin(adata_10X.obs_names)]"
   ]
  },
  {
   "cell_type": "code",
   "execution_count": 16,
   "id": "f4d693f2-59c7-4c43-934c-386428ee949d",
   "metadata": {},
   "outputs": [],
   "source": [
    "adata_10X.var_names_make_unique()\n",
    "adata_SLR.var_names_make_unique()"
   ]
  },
  {
   "cell_type": "code",
   "execution_count": null,
   "id": "e752572d-a1cc-4373-a7e3-51b7c59e0174",
   "metadata": {},
   "outputs": [],
   "source": []
  },
  {
   "cell_type": "code",
   "execution_count": null,
   "id": "85741662-ecdc-495f-afdf-c0066822599d",
   "metadata": {},
   "outputs": [],
   "source": []
  },
  {
   "cell_type": "code",
   "execution_count": 17,
   "id": "f4ea164c-29d0-4abc-b8f7-05a0aeefc581",
   "metadata": {},
   "outputs": [],
   "source": [
    "adata_SLR = adata_SLR[:,adata_SLR.var_names.isin(adata_10X.var_names)]\n",
    "adata_10X = adata_10X[:,adata_10X.var_names.isin(adata_SLR.var_names)]"
   ]
  },
  {
   "cell_type": "code",
   "execution_count": null,
   "id": "df3e0e21-e478-4261-82f9-33dc848b615a",
   "metadata": {},
   "outputs": [],
   "source": []
  },
  {
   "cell_type": "code",
   "execution_count": 18,
   "id": "d86e9cd4-91e1-49c4-abd7-7d89189ef2b7",
   "metadata": {},
   "outputs": [
    {
     "name": "stderr",
     "output_type": "stream",
     "text": [
      "/c4/home/derek/miniconda3/envs/scquint/lib/python3.10/site-packages/scanpy/preprocessing/_qc.py:133: ImplicitModificationWarning: Trying to modify attribute `.obs` of view, initializing view as actual.\n",
      "  adata.obs[obs_metrics.columns] = obs_metrics\n",
      "/c4/home/derek/miniconda3/envs/scquint/lib/python3.10/site-packages/scanpy/preprocessing/_qc.py:133: ImplicitModificationWarning: Trying to modify attribute `.obs` of view, initializing view as actual.\n",
      "  adata.obs[obs_metrics.columns] = obs_metrics\n"
     ]
    }
   ],
   "source": [
    "sc.pp.calculate_qc_metrics(adata_10X,inplace=True)\n",
    "sc.pp.calculate_qc_metrics(adata_SLR,inplace=True)"
   ]
  },
  {
   "cell_type": "code",
   "execution_count": 19,
   "id": "d788d33a-bdb0-490a-a7dc-b7be121b9803",
   "metadata": {},
   "outputs": [
    {
     "data": {
      "text/plain": [
       "matrix([[ 0., 18.,  0., ...,  0.,  9.,  2.]], dtype=float32)"
      ]
     },
     "execution_count": 19,
     "metadata": {},
     "output_type": "execute_result"
    }
   ],
   "source": [
    "adata_10X.X.sum(axis=0)"
   ]
  },
  {
   "cell_type": "code",
   "execution_count": null,
   "id": "1e3a6e02-c209-4122-a000-ce29a0cf47fa",
   "metadata": {},
   "outputs": [],
   "source": []
  },
  {
   "cell_type": "code",
   "execution_count": 20,
   "id": "67fecf52-9f7a-405f-93b6-46eede0aa497",
   "metadata": {},
   "outputs": [],
   "source": [
    "values = np.vstack([adata_SLR.var.log1p_total_counts,\n",
    "                    adata_10X.var.log1p_total_counts])\n",
    "kernel = stats.gaussian_kde(values)(values)\n"
   ]
  },
  {
   "cell_type": "code",
   "execution_count": null,
   "id": "13f11699-ac81-452e-9e17-9627f61f8100",
   "metadata": {},
   "outputs": [],
   "source": []
  },
  {
   "cell_type": "code",
   "execution_count": 26,
   "id": "7368597f-e630-4528-a89e-fd88716f351f",
   "metadata": {},
   "outputs": [
    {
     "ename": "AttributeError",
     "evalue": "'collections.OrderedDict' object has no attribute 'right'",
     "output_type": "error",
     "traceback": [
      "\u001b[0;31m---------------------------------------------------------------------------\u001b[0m",
      "\u001b[0;31mAttributeError\u001b[0m                            Traceback (most recent call last)",
      "Cell \u001b[0;32mIn[26], line 17\u001b[0m\n\u001b[1;32m     14\u001b[0m ax\u001b[38;5;241m.\u001b[39mget_legend()\u001b[38;5;241m.\u001b[39mremove()\n\u001b[1;32m     15\u001b[0m \u001b[38;5;66;03m# ax.figure.colorbar(n)\u001b[39;00m\n\u001b[0;32m---> 17\u001b[0m \u001b[43max\u001b[49m\u001b[38;5;241;43m.\u001b[39;49m\u001b[43mspines\u001b[49m\u001b[38;5;241;43m.\u001b[39;49m\u001b[43mright\u001b[49m\u001b[38;5;241m.\u001b[39mset_visible(\u001b[38;5;28;01mFalse\u001b[39;00m)\n\u001b[1;32m     18\u001b[0m ax\u001b[38;5;241m.\u001b[39mspines\u001b[38;5;241m.\u001b[39mtop\u001b[38;5;241m.\u001b[39mset_visible(\u001b[38;5;28;01mFalse\u001b[39;00m)\n\u001b[1;32m     20\u001b[0m \u001b[38;5;66;03m# ax.spines.bottom.set_linewidth(2)\u001b[39;00m\n\u001b[1;32m     21\u001b[0m \u001b[38;5;66;03m# ax.spines.left.set_linewidth(2)\u001b[39;00m\n",
      "\u001b[0;31mAttributeError\u001b[0m: 'collections.OrderedDict' object has no attribute 'right'"
     ]
    },
    {
     "data": {
      "image/png": "[encoded data removed]",
      "text/plain": [
       "<Figure size 600x600 with 1 Axes>"
      ]
     },
     "metadata": {},
     "output_type": "display_data"
    }
   ],
   "source": [
    "%matplotlib inline\n",
    "\n",
    "fig, ax = plt.subplots(figsize=(6, 6))\n",
    "\n",
    "n = sns.scatterplot(x=values[0],\n",
    "            y=values[1],\n",
    "            s=10,\n",
    "            linewidth=0,\n",
    "            hue=kernel,\n",
    "            palette='plasma',\n",
    "            ax=ax,\n",
    "           )\n",
    "\n",
    "ax.get_legend().remove()\n",
    "# ax.figure.colorbar(n)\n",
    "\n",
    "ax.spines.right.set_visible(False)\n",
    "ax.spines.top.set_visible(False)\n",
    "\n",
    "# ax.spines.bottom.set_linewidth(2)\n",
    "# ax.spines.left.set_linewidth(2)\n",
    "\n",
    "ax.set_title('r = 0.863',loc='left')\n",
    "\n",
    "ax.set_ylabel(\"log(total counts) 10X 5'\", fontsize=16)\n",
    "ax.set_xlabel('log(total counts) scSLR-seq', fontsize=16)\n"
   ]
  },
  {
   "cell_type": "code",
   "execution_count": 25,
   "id": "5ae48832-a1d6-46e7-add9-f5a3c2f9d60c",
   "metadata": {},
   "outputs": [
    {
     "data": {
      "text/plain": [
       "PearsonRResult(statistic=0.8633545264420999, pvalue=0.0)"
      ]
     },
     "execution_count": 25,
     "metadata": {},
     "output_type": "execute_result"
    }
   ],
   "source": [
    "stats.pearsonr(x=adata_SLR.var.log1p_total_counts,\n",
    "            y=adata_10X.var.log1p_total_counts,)"
   ]
  },
  {
   "cell_type": "code",
   "execution_count": null,
   "id": "01dbe63a-7f3c-472d-b048-d5c0e61843b7",
   "metadata": {},
   "outputs": [],
   "source": []
  },
  {
   "cell_type": "code",
   "execution_count": null,
   "id": "b9242be0-58a2-4821-ae7b-8fbb8d9cfe41",
   "metadata": {},
   "outputs": [],
   "source": []
  },
  {
   "cell_type": "code",
   "execution_count": null,
   "id": "fbc1b0f1-6675-4889-9ab8-433e3e3f1926",
   "metadata": {},
   "outputs": [],
   "source": []
  },
  {
   "cell_type": "code",
   "execution_count": null,
   "id": "095504ce-be73-4822-8a51-3b3900d32acf",
   "metadata": {},
   "outputs": [],
   "source": []
  },
  {
   "cell_type": "code",
   "execution_count": null,
   "id": "95b943c2-3590-43a1-8d01-6f53e9a5aa23",
   "metadata": {},
   "outputs": [],
   "source": []
  },
  {
   "cell_type": "code",
   "execution_count": null,
   "id": "4c28f55f-0276-4b12-8ec8-6aeb0f77a288",
   "metadata": {},
   "outputs": [],
   "source": []
  },
  {
   "cell_type": "code",
   "execution_count": null,
   "id": "6ff600ab-1ae8-49cf-8ffb-c6ae59af617a",
   "metadata": {},
   "outputs": [],
   "source": []
  },
  {
   "cell_type": "code",
   "execution_count": null,
   "id": "1cadd3ac-0b0a-43e6-85a8-07addb0b61c7",
   "metadata": {},
   "outputs": [],
   "source": []
  },
  {
   "cell_type": "code",
   "execution_count": null,
   "id": "66278201-6795-4224-9c0d-c1eae7e00dc5",
   "metadata": {},
   "outputs": [],
   "source": []
  },
  {
   "cell_type": "code",
   "execution_count": null,
   "id": "135211a6-ea93-40e8-9011-11e2fce3027f",
   "metadata": {},
   "outputs": [],
   "source": []
  },
  {
   "cell_type": "code",
   "execution_count": null,
   "id": "ea3ab085-d197-456b-92d2-c628ae43052c",
   "metadata": {},
   "outputs": [],
   "source": []
  },
  {
   "cell_type": "code",
   "execution_count": null,
   "id": "9a00432e-2c31-4aa9-88e2-7deac784132b",
   "metadata": {},
   "outputs": [],
   "source": []
  },
  {
   "cell_type": "code",
   "execution_count": null,
   "id": "339ea427-dd11-4250-ad28-cd499e6b9027",
   "metadata": {},
   "outputs": [],
   "source": []
  },
  {
   "cell_type": "code",
   "execution_count": null,
   "id": "8bc10e9e-de3a-4d7e-a106-20f3d7e7571d",
   "metadata": {},
   "outputs": [],
   "source": []
  },
  {
   "cell_type": "code",
   "execution_count": null,
   "id": "13f3d1b5-f6c4-4cb6-8a04-51cf5a751ad4",
   "metadata": {},
   "outputs": [],
   "source": []
  },
  {
   "cell_type": "code",
   "execution_count": null,
   "id": "7fcc399d-c821-46d3-9023-c09fe26d1ea5",
   "metadata": {},
   "outputs": [],
   "source": []
  },
  {
   "cell_type": "code",
   "execution_count": null,
   "id": "d535dfc8-d374-4eb1-b1e7-42d787cb7b42",
   "metadata": {},
   "outputs": [],
   "source": []
  },
  {
   "cell_type": "code",
   "execution_count": null,
   "id": "1f87b73d-dadc-44e6-aaff-820df38d5ac5",
   "metadata": {},
   "outputs": [],
   "source": []
  },
  {
   "cell_type": "code",
   "execution_count": null,
   "id": "c50545e8-4f9f-4851-8e29-4d55050b7e47",
   "metadata": {},
   "outputs": [],
   "source": []
  },
  {
   "cell_type": "code",
   "execution_count": null,
   "id": "73ac2f57-4178-4f9c-bb58-b56dc8d34ada",
   "metadata": {},
   "outputs": [],
   "source": []
  },
  {
   "cell_type": "code",
   "execution_count": null,
   "id": "3a561466-9a61-475a-8031-acf4b78c8e30",
   "metadata": {},
   "outputs": [],
   "source": []
  },
  {
   "cell_type": "code",
   "execution_count": null,
   "id": "d178a2ca-7b6f-4919-9cc4-761c3048a6a2",
   "metadata": {},
   "outputs": [],
   "source": []
  },
  {
   "cell_type": "code",
   "execution_count": null,
   "id": "a0e550d5-456d-469a-86c8-0b98446f9987",
   "metadata": {},
   "outputs": [],
   "source": []
  },
  {
   "cell_type": "code",
   "execution_count": null,
   "id": "1aa6c6f7-0c2e-4e26-a1e2-83cea6251a4a",
   "metadata": {},
   "outputs": [],
   "source": []
  },
  {
   "cell_type": "code",
   "execution_count": null,
   "id": "9958e046-e3de-407e-b1c8-aa740d2dbde9",
   "metadata": {},
   "outputs": [],
   "source": []
  },
  {
   "cell_type": "code",
   "execution_count": null,
   "id": "8a402eb7-a88a-448b-9013-174a1cee6543",
   "metadata": {},
   "outputs": [],
   "source": []
  },
  {
   "cell_type": "code",
   "execution_count": null,
   "id": "e843b3aa-fc81-442c-81d4-51934c9b23e9",
   "metadata": {},
   "outputs": [],
   "source": []
  }
 ],
 "metadata": {
  "kernelspec": {
   "display_name": "Python 3 (ipykernel)",
   "language": "python",
   "name": "python3"
  },
  "language_info": {
   "codemirror_mode": {
    "name": "ipython",
    "version": 3
   },
   "file_extension": ".py",
   "mimetype": "text/x-python",
   "name": "python",
   "nbconvert_exporter": "python",
   "pygments_lexer": "ipython3",
   "version": "3.10.8"
  }
 },
 "nbformat": 4,
 "nbformat_minor": 5
}
