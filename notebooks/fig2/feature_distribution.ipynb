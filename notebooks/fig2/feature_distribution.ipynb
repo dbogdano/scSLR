{
 "cells": [
  {
   "cell_type": "code",
   "execution_count": 3,
   "id": "03411bf6-88ea-43f1-85e0-94c9b09264fd",
   "metadata": {
    "tags": []
   },
   "outputs": [
    {
     "name": "stdout",
     "output_type": "stream",
     "text": [
      "Thu Oct 17 14:03:21 PDT 2024\n"
     ]
    }
   ],
   "source": [
    "!date"
   ]
  },
  {
   "cell_type": "code",
   "execution_count": 4,
   "id": "14e7ef6e-3a0a-4d09-9fa0-1f88da7900d4",
   "metadata": {
    "tags": []
   },
   "outputs": [
    {
     "data": {
      "text/plain": [
       "'/c4/home/derek/miniconda3/envs/py310'"
      ]
     },
     "execution_count": 4,
     "metadata": {},
     "output_type": "execute_result"
    }
   ],
   "source": [
    "%env CONDA_PREFIX"
   ]
  },
  {
   "cell_type": "code",
   "execution_count": 37,
   "id": "9171c44c-ec58-4d57-aeeb-4899435c8bee",
   "metadata": {
    "tags": []
   },
   "outputs": [],
   "source": [
    "import pandas as pd\n",
    "import os\n",
    "\n",
    "import matplotlib.pyplot as plt\n",
    "import matplotlib as mpl\n",
    "import plotly.express as px\n",
    "import seaborn as sns\n",
    "import numpy as np\n"
   ]
  },
  {
   "cell_type": "code",
   "execution_count": null,
   "id": "8deca53f-b3e8-4a38-a282-8a1eb57208ad",
   "metadata": {},
   "outputs": [],
   "source": []
  },
  {
   "cell_type": "code",
   "execution_count": 49,
   "id": "d9b27841-c64b-4031-9caa-24eaca971a43",
   "metadata": {
    "tags": []
   },
   "outputs": [],
   "source": [
    "input_SLR = '/c4/home/derek/data1/derek/data_scSLR/PBMC/STAR_outs/sample_2/'\n",
    "\n",
    "input_10x = '/c4/home/derek/data1/derek/data_scSLR/PBMC/10X/STAR_outs/sample_2/StarOut_10X/'\n",
    "\n",
    "input_VASA = '/c4/home/derek/data1/derek/reference/VASA/'\n",
    "\n",
    "input_SS3_noUMI = '/c4/home/derek/data1/derek/data_scSLR/reference/SS3_PBMC/solo_outs_noUMI/'\n",
    "\n",
    "input_SS3_yesUMI = '/c4/home/derek/data1/derek/data_scSLR/reference/SS3_PBMC/solo_outs_yesUMI/'\n",
    "\n",
    "\n",
    "output_dir = './plots/'"
   ]
  },
  {
   "cell_type": "code",
   "execution_count": 50,
   "id": "3236f9c6-511f-4149-a311-221cca693109",
   "metadata": {},
   "outputs": [
    {
     "data": {
      "text/plain": [
       "'/nowakowskilab/data1/derek/scSLR/notebooks/fig2'"
      ]
     },
     "execution_count": 50,
     "metadata": {},
     "output_type": "execute_result"
    }
   ],
   "source": [
    "pwd"
   ]
  },
  {
   "cell_type": "code",
   "execution_count": 51,
   "id": "b93647c4-fb74-413f-bcb5-c84dc57a451a",
   "metadata": {
    "tags": []
   },
   "outputs": [],
   "source": [
    "internal = pd.read_fwf(input_SLR+'read_distribution_internal.txt', \n",
    "            skiprows=list(range(0,7))+list(range(12,19)),\n",
    "           )\n",
    "\n",
    "\n",
    "fiveprime = pd.read_fwf(input_SLR+'read_distribution_5prime.txt', \n",
    "            skiprows=list(range(0,7))+list(range(12,19)),\n",
    "           )\n",
    "\n",
    "tenex = pd.read_fwf(input_10x+'read_distribution_10X.txt',\n",
    "                    skiprows=list(range(0,7))+list(range(12,19)),\n",
    "                   )\n",
    "\n",
    "\n",
    "vasa = pd.read_fwf(input_VASA+'read_distribution_VASA.txt',\n",
    "                    skiprows=list(range(0,7))+list(range(12,19)),\n",
    "                   )\n",
    "\n",
    "\n",
    "SS3_noUMI = pd.read_fwf(input_SS3_noUMI+'read_distribution_SS3_noUMI.txt',\n",
    "                    skiprows=list(range(0,4))+list(range(9,19)),\n",
    "                   )\n",
    "\n",
    "SS3_yesUMI = pd.read_fwf(input_SS3_yesUMI+'read_distribution_SS3_yesUMI.txt',\n",
    "                    skiprows=list(range(0,4))+list(range(9,19)),\n",
    "                   )"
   ]
  },
  {
   "cell_type": "code",
   "execution_count": 52,
   "id": "370c95cb-4088-4f95-98b3-9c1404f4852f",
   "metadata": {},
   "outputs": [],
   "source": [
    "# internal.index.name = None\n",
    "# fiveprime.index.name = None"
   ]
  },
  {
   "cell_type": "code",
   "execution_count": 30,
   "id": "2cc58822-f633-4602-ac44-820d67e9eda0",
   "metadata": {},
   "outputs": [
    {
     "data": {
      "text/html": [
       "<div>\n",
       "<style scoped>\n",
       "    .dataframe tbody tr th:only-of-type {\n",
       "        vertical-align: middle;\n",
       "    }\n",
       "\n",
       "    .dataframe tbody tr th {\n",
       "        vertical-align: top;\n",
       "    }\n",
       "\n",
       "    .dataframe thead th {\n",
       "        text-align: right;\n",
       "    }\n",
       "</style>\n",
       "<table border=\"1\" class=\"dataframe\">\n",
       "  <thead>\n",
       "    <tr style=\"text-align: right;\">\n",
       "      <th></th>\n",
       "      <th>Group</th>\n",
       "      <th>Total_bases</th>\n",
       "      <th>Tag_count</th>\n",
       "      <th>Tags/Kb</th>\n",
       "      <th>Tag_count_percent</th>\n",
       "      <th>library</th>\n",
       "    </tr>\n",
       "  </thead>\n",
       "  <tbody>\n",
       "    <tr>\n",
       "      <th>0</th>\n",
       "      <td>CDS_Exons</td>\n",
       "      <td>39659589</td>\n",
       "      <td>327271</td>\n",
       "      <td>8.25</td>\n",
       "      <td>0.307191</td>\n",
       "      <td>SS3 noUMI</td>\n",
       "    </tr>\n",
       "    <tr>\n",
       "      <th>1</th>\n",
       "      <td>5'UTR_Exons</td>\n",
       "      <td>26883670</td>\n",
       "      <td>23226</td>\n",
       "      <td>0.86</td>\n",
       "      <td>0.021801</td>\n",
       "      <td>SS3 noUMI</td>\n",
       "    </tr>\n",
       "    <tr>\n",
       "      <th>2</th>\n",
       "      <td>3'UTR_Exons</td>\n",
       "      <td>60399893</td>\n",
       "      <td>223468</td>\n",
       "      <td>3.70</td>\n",
       "      <td>0.209757</td>\n",
       "      <td>SS3 noUMI</td>\n",
       "    </tr>\n",
       "    <tr>\n",
       "      <th>3</th>\n",
       "      <td>Introns</td>\n",
       "      <td>1635215869</td>\n",
       "      <td>491402</td>\n",
       "      <td>0.30</td>\n",
       "      <td>0.461251</td>\n",
       "      <td>SS3 noUMI</td>\n",
       "    </tr>\n",
       "  </tbody>\n",
       "</table>\n",
       "</div>"
      ],
      "text/plain": [
       "         Group  Total_bases  Tag_count  Tags/Kb  Tag_count_percent    library\n",
       "0    CDS_Exons     39659589     327271     8.25           0.307191  SS3 noUMI\n",
       "1  5'UTR_Exons     26883670      23226     0.86           0.021801  SS3 noUMI\n",
       "2  3'UTR_Exons     60399893     223468     3.70           0.209757  SS3 noUMI\n",
       "3      Introns   1635215869     491402     0.30           0.461251  SS3 noUMI"
      ]
     },
     "execution_count": 30,
     "metadata": {},
     "output_type": "execute_result"
    }
   ],
   "source": [
    "SS3_noUMI"
   ]
  },
  {
   "cell_type": "code",
   "execution_count": 53,
   "id": "7231d680-bd95-402b-8fa6-b0fbfd770329",
   "metadata": {},
   "outputs": [],
   "source": [
    "internal['Tag_count_percent'] = internal.Tag_count.apply(lambda x: (x) / (internal.Tag_count.sum()))\n",
    "\n",
    "fiveprime['Tag_count_percent'] = fiveprime.Tag_count.apply(lambda x: (x) / (fiveprime.Tag_count.sum()))\n",
    "\n",
    "tenex['Tag_count_percent'] = tenex.Tag_count.apply(lambda x: (x) / (tenex.Tag_count.sum()))\n",
    "\n",
    "vasa['Tag_count_percent'] = vasa.Tag_count.apply(lambda x: (x) / (vasa.Tag_count.sum()))\n",
    "\n",
    "SS3_noUMI['Tag_count_percent'] = SS3_noUMI.Tag_count.apply(lambda x: (x) / (SS3_noUMI.Tag_count.sum()))\n",
    "\n",
    "SS3_yesUMI['Tag_count_percent'] = SS3_yesUMI.Tag_count.apply(lambda x: (x) / (SS3_yesUMI.Tag_count.sum()))\n",
    "\n",
    "\n",
    "internal['library'] = 'internal'\n",
    "fiveprime['library'] = '5prime'\n",
    "tenex['library'] = '10X'\n",
    "vasa['library'] = 'VASA'\n",
    "SS3_noUMI['library'] = 'SS3 noUMI'\n",
    "SS3_yesUMI['library'] = 'SS3 yesUMI'"
   ]
  },
  {
   "cell_type": "code",
   "execution_count": 54,
   "id": "ef9ccd4a-d980-4de2-8353-559dd5b5b5b5",
   "metadata": {},
   "outputs": [],
   "source": [
    "df = pd.concat([internal, fiveprime, tenex, vasa, SS3_noUMI, SS3_yesUMI])"
   ]
  },
  {
   "cell_type": "code",
   "execution_count": 55,
   "id": "9e64e594-e6ad-4ff7-a403-639dce92d589",
   "metadata": {},
   "outputs": [],
   "source": [
    "pivot = df[['Group','Tag_count_percent','library']].pivot(index='Group',columns='library',values='Tag_count_percent').T"
   ]
  },
  {
   "cell_type": "code",
   "execution_count": 56,
   "id": "0bc5c7d1-9d5b-4e0f-99b9-95a5689e4936",
   "metadata": {
    "tags": []
   },
   "outputs": [],
   "source": [
    "# ratios to percentages\n",
    "pivot=pivot*100"
   ]
  },
  {
   "cell_type": "code",
   "execution_count": 68,
   "id": "258c4c01-78a6-4c1c-ab38-ffaa8bb44071",
   "metadata": {
    "tags": []
   },
   "outputs": [],
   "source": [
    "pivot = pivot.reindex(['10X', '5prime', 'internal', 'SS3 yesUMI', 'SS3 noUMI', 'VASA'])"
   ]
  },
  {
   "cell_type": "code",
   "execution_count": null,
   "id": "eb51c953-f5b2-4bd9-9bfc-87e83d9c2c2c",
   "metadata": {},
   "outputs": [],
   "source": []
  },
  {
   "cell_type": "code",
   "execution_count": 69,
   "id": "704aef3c-7998-46c5-a6f3-f17ea546373e",
   "metadata": {
    "tags": []
   },
   "outputs": [],
   "source": [
    "from ast import literal_eval\n",
    "\n",
    "def rgb_to_hex(rgb):\n",
    "    return '#%02x%02x%02x' % rgb\n",
    "\n",
    "plotly_map = [rgb_to_hex(literal_eval(px.colors.qualitative.Prism[i][3:])) for i in range(len(px.colors.qualitative.Vivid))] "
   ]
  },
  {
   "cell_type": "code",
   "execution_count": 70,
   "id": "af6d8058-923a-4da0-9870-0f3c0ead3267",
   "metadata": {},
   "outputs": [
    {
     "data": {
      "text/plain": [
       "['#5f4690',\n",
       " '#1d6996',\n",
       " '#38a6a5',\n",
       " '#0f8554',\n",
       " '#73af48',\n",
       " '#edad08',\n",
       " '#e17c05',\n",
       " '#cc503e',\n",
       " '#94346e',\n",
       " '#6f4070',\n",
       " '#666666']"
      ]
     },
     "execution_count": 70,
     "metadata": {},
     "output_type": "execute_result"
    }
   ],
   "source": [
    "plotly_map"
   ]
  },
  {
   "cell_type": "code",
   "execution_count": 83,
   "id": "067f9f5e-87c5-4a46-8716-98f6d32def58",
   "metadata": {
    "tags": []
   },
   "outputs": [
    {
     "name": "stderr",
     "output_type": "stream",
     "text": [
      "/scratch/derek/ipykernel_632060/1833417853.py:20: UserWarning: set_ticklabels() should only be used with a fixed number of ticks, i.e. after set_ticks() or using a FixedLocator.\n",
      "  ax[0].set_xticklabels([\"10X 5'\",\"scSLR 5'\", \"scSLR internal\", \"SS3 w/ UMI\", \"SS3 w/o UMI\", \"VASA-seq\"])\n"
     ]
    },
    {
     "data": {
      "image/png": "[encoded data removed]",
      "text/plain": [
       "<Figure size 800x400 with 2 Axes>"
      ]
     },
     "metadata": {},
     "output_type": "display_data"
    }
   ],
   "source": [
    "fig, ax = plt.subplots(1, 2, figsize=(8,4), gridspec_kw={'width_ratios': [3, 3]})\n",
    "\n",
    "width = 0.85     # the width of the bars: can also be len(x) sequence\n",
    "\n",
    "#palette = sns.color_palette(palette='Blues',n_colors=6)\n",
    "palette = plotly_map[5:]\n",
    "\n",
    "\n",
    "ax[0].bar(pivot.index, pivot[\"3'UTR_Exons\"], width, color=palette[0])\n",
    "ax[0].bar(pivot.index, pivot[\"5'UTR_Exons\"], width, bottom=pivot[\"3'UTR_Exons\"], color=palette[1])\n",
    "ax[0].bar(pivot.index, pivot[\"CDS_Exons\"], width, bottom=sum([pivot[\"3'UTR_Exons\"], pivot[\"5'UTR_Exons\"]]), color=palette[2])\n",
    "ax[0].bar(pivot.index, pivot[\"Introns\"], width, bottom=sum([pivot[\"3'UTR_Exons\"], pivot[\"5'UTR_Exons\"],pivot[\"CDS_Exons\"]]), color=palette[3])\n",
    "\n",
    "\n",
    "ax[0].spines.right.set_visible(False)\n",
    "ax[0].spines.top.set_visible(False)\n",
    "\n",
    "ax[0].set_ylabel('Reads %', fontsize=11)\n",
    "\n",
    "ax[0].set_xticklabels([\"10X 5'\",\"scSLR 5'\", \"scSLR internal\", \"SS3 w/ UMI\", \"SS3 w/o UMI\", \"VASA-seq\"])\n",
    "ax[0].tick_params(axis='x', labelrotation=45) \n",
    "\n",
    "\n",
    "colors = {\"3'UTR Exons\":palette[0], \n",
    "          \"5'UTR Exons\":palette[1],\n",
    "          \"CDS Exons\":palette[2],\n",
    "          \"Introns\":palette[3]\n",
    "         }         \n",
    "labels = list(colors.keys())\n",
    "handles = [plt.Rectangle((0,0),1,1, color=colors[label]) for label in labels]\n",
    "\n",
    "ax[1].legend(handles, labels, bbox_to_anchor=(-0.2, 0.15, 0.5, 0.5))\n",
    "\n",
    "ax[1].spines.right.set_visible(False)\n",
    "ax[1].spines.top.set_visible(False)\n",
    "ax[1].spines.bottom.set_visible(False)\n",
    "ax[1].spines.left.set_visible(False)\n",
    "\n",
    "ax[1].tick_params( \n",
    "    bottom=False,        \n",
    "    labelbottom=False, \n",
    "    left=False,\n",
    "    labelleft=False, \n",
    "            ) \n",
    "\n",
    "fig.savefig(output_dir+'read_distribution.pdf')\n"
   ]
  },
  {
   "cell_type": "code",
   "execution_count": null,
   "id": "f940cd8e-ee8a-4a6a-91d3-cea95af30e2c",
   "metadata": {
    "tags": []
   },
   "outputs": [],
   "source": []
  },
  {
   "cell_type": "code",
   "execution_count": null,
   "id": "21ecd25b-f2eb-4ffd-bd25-eb1c4d62be8a",
   "metadata": {
    "tags": []
   },
   "outputs": [],
   "source": []
  },
  {
   "cell_type": "code",
   "execution_count": null,
   "id": "d90f6c72-7793-40f3-ae30-4550a49b897d",
   "metadata": {
    "tags": []
   },
   "outputs": [],
   "source": []
  },
  {
   "cell_type": "code",
   "execution_count": null,
   "id": "f1084c74-1844-4dc6-95ad-503a9200be32",
   "metadata": {
    "tags": []
   },
   "outputs": [],
   "source": []
  },
  {
   "cell_type": "code",
   "execution_count": null,
   "id": "858e125b-c47f-4909-bcf3-2004c18ccb65",
   "metadata": {},
   "outputs": [],
   "source": []
  },
  {
   "cell_type": "code",
   "execution_count": null,
   "id": "dba01d49-03a6-4bf1-888d-92b577667a5b",
   "metadata": {},
   "outputs": [],
   "source": []
  },
  {
   "cell_type": "code",
   "execution_count": null,
   "id": "a12e9ab6-8ffd-42cc-9728-22812d3ba28c",
   "metadata": {},
   "outputs": [],
   "source": [
    "\n"
   ]
  }
 ],
 "metadata": {
  "kernelspec": {
   "display_name": "Python 3 (ipykernel)",
   "language": "python",
   "name": "python3"
  },
  "language_info": {
   "codemirror_mode": {
    "name": "ipython",
    "version": 3
   },
   "file_extension": ".py",
   "mimetype": "text/x-python",
   "name": "python",
   "nbconvert_exporter": "python",
   "pygments_lexer": "ipython3",
   "version": "3.10.10"
  }
 },
 "nbformat": 4,
 "nbformat_minor": 5
}
