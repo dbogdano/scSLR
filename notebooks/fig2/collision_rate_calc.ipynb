{
 "cells": [
  {
   "cell_type": "markdown",
   "id": "8e1dfa85-a437-4332-9bb8-0ff5b330b60d",
   "metadata": {},
   "source": [
    "# Collision Rate Calculation"
   ]
  },
  {
   "cell_type": "code",
   "execution_count": 18,
   "id": "387e98b6-eb1b-409e-84c1-7bee57d2c65b",
   "metadata": {},
   "outputs": [
    {
     "name": "stdout",
     "output_type": "stream",
     "text": [
      "Sun Oct 20 15:52:38 PDT 2024\n"
     ]
    }
   ],
   "source": [
    "!date"
   ]
  },
  {
   "cell_type": "code",
   "execution_count": 2,
   "id": "9fc2c705-1fe3-45e6-ad6f-1748c9e5480c",
   "metadata": {
    "tags": []
   },
   "outputs": [
    {
     "data": {
      "text/plain": [
       "'/c4/home/derek/miniconda3/envs/scquint_4'"
      ]
     },
     "execution_count": 2,
     "metadata": {},
     "output_type": "execute_result"
    }
   ],
   "source": [
    "%env CONDA_PREFIX"
   ]
  },
  {
   "cell_type": "code",
   "execution_count": 56,
   "id": "f85962ed-29a7-436d-a52a-c9c5e1971e17",
   "metadata": {},
   "outputs": [],
   "source": [
    "import pandas as pd\n",
    "import numpy as np\n",
    "\n",
    "import seaborn as sns\n",
    "import matplotlib as mpl\n",
    "import matplotlib.pyplot as plt\n",
    "import plotly.express as px\n",
    "\n",
    "from scipy import stats\n",
    "\n",
    "\n"
   ]
  },
  {
   "cell_type": "code",
   "execution_count": 4,
   "id": "178a29d2-6029-4642-8bc2-6beff511e267",
   "metadata": {},
   "outputs": [],
   "source": [
    "import sys\n",
    "import os\n",
    "import glob"
   ]
  },
  {
   "cell_type": "code",
   "execution_count": null,
   "id": "5a8d7335-1c96-44ae-bae1-2539aa0297d3",
   "metadata": {},
   "outputs": [],
   "source": []
  },
  {
   "cell_type": "code",
   "execution_count": 5,
   "id": "b424ffd1-70c0-4947-9253-b4f56df90e59",
   "metadata": {},
   "outputs": [],
   "source": [
    "#prenatal samples\n",
    "\n",
    "# barcodes = pd.read_csv('/c4/home/derek/data1/derek/data_scSLR/prenatal_brain/GW23_1_barcodes.csv',header=None)\n",
    "\n",
    "# input_dir = '/c4/home/derek/data1/derek/data_scSLR/prenatal_brain/processing/'\n",
    "\n",
    "# output_dir = '/c4/home/derek/data1/derek/data_scSLR/prenatal_brain/'"
   ]
  },
  {
   "cell_type": "code",
   "execution_count": null,
   "id": "1b16fde7-74cb-4b9d-936b-654f11a6f0ec",
   "metadata": {},
   "outputs": [],
   "source": []
  },
  {
   "cell_type": "code",
   "execution_count": 6,
   "id": "26ec9db0-7720-427c-81a9-3699202c09e4",
   "metadata": {},
   "outputs": [],
   "source": [
    "output_dir = '/c4/home/derek/data1/derek/data_scSLR/PBMC/'\n",
    "\n",
    "samples = [\n",
    "    'sample_1', \n",
    "    'sample_2'\n",
    "]"
   ]
  },
  {
   "cell_type": "code",
   "execution_count": 7,
   "id": "2e8e3a74-2e0b-47a2-bc0a-995d02ea9a48",
   "metadata": {
    "tags": []
   },
   "outputs": [
    {
     "name": "stdout",
     "output_type": "stream",
     "text": [
      "chrY.barcoded.sort.bam_collision_table.csv\n",
      "chrY.barcoded.sort.bam_collision_table.csv processed\n",
      "chr18.barcoded.sort.bam_collision_table.csv\n",
      "chr18.barcoded.sort.bam_collision_table.csv processed\n",
      "chr19.barcoded.sort.bam_collision_table.csv\n",
      "chr19.barcoded.sort.bam_collision_table.csv processed\n",
      "chr12.barcoded.sort.bam_collision_table.csv\n",
      "chr12.barcoded.sort.bam_collision_table.csv processed\n",
      "chr6.barcoded.sort.bam_collision_table.csv\n",
      "chr6.barcoded.sort.bam_collision_table.csv processed\n",
      "chr9.barcoded.sort.bam_collision_table.csv\n",
      "chr9.barcoded.sort.bam_collision_table.csv processed\n",
      "chr20.barcoded.sort.bam_collision_table.csv\n",
      "chr20.barcoded.sort.bam_collision_table.csv processed\n",
      "chr13.barcoded.sort.bam_collision_table.csv\n",
      "chr13.barcoded.sort.bam_collision_table.csv processed\n",
      "chr22.barcoded.sort.bam_collision_table.csv\n",
      "chr22.barcoded.sort.bam_collision_table.csv processed\n",
      "chr14.barcoded.sort.bam_collision_table.csv\n",
      "chr14.barcoded.sort.bam_collision_table.csv processed\n",
      "chr17.barcoded.sort.bam_collision_table.csv\n",
      "chr17.barcoded.sort.bam_collision_table.csv processed\n",
      "chr3.barcoded.sort.bam_collision_table.csv\n",
      "chr3.barcoded.sort.bam_collision_table.csv processed\n",
      "chr11.barcoded.sort.bam_collision_table.csv\n",
      "chr11.barcoded.sort.bam_collision_table.csv processed\n",
      "chr21.barcoded.sort.bam_collision_table.csv\n",
      "chr21.barcoded.sort.bam_collision_table.csv processed\n",
      "chr4.barcoded.sort.bam_collision_table.csv\n",
      "chr4.barcoded.sort.bam_collision_table.csv processed\n",
      "chr10.barcoded.sort.bam_collision_table.csv\n",
      "chr10.barcoded.sort.bam_collision_table.csv processed\n",
      "chrX.barcoded.sort.bam_collision_table.csv\n",
      "chrX.barcoded.sort.bam_collision_table.csv processed\n",
      "chr15.barcoded.sort.bam_collision_table.csv\n",
      "chr15.barcoded.sort.bam_collision_table.csv processed\n",
      "chrM.barcoded.sort.bam_collision_table.csv\n",
      "chrM.barcoded.sort.bam_collision_table.csv processed\n",
      "chr7.barcoded.sort.bam_collision_table.csv\n",
      "chr7.barcoded.sort.bam_collision_table.csv processed\n",
      "chr8.barcoded.sort.bam_collision_table.csv\n",
      "chr8.barcoded.sort.bam_collision_table.csv processed\n",
      "chr5.barcoded.sort.bam_collision_table.csv\n",
      "chr5.barcoded.sort.bam_collision_table.csv processed\n",
      "chr16.barcoded.sort.bam_collision_table.csv\n",
      "chr16.barcoded.sort.bam_collision_table.csv processed\n",
      "chr2.barcoded.sort.bam_collision_table.csv\n",
      "chr2.barcoded.sort.bam_collision_table.csv processed\n",
      "chr1.barcoded.sort.bam_collision_table.csv\n",
      "chr1.barcoded.sort.bam_collision_table.csv processed\n",
      "chr1.barcoded.sort.bam_collision_table.csv\n",
      "chr1.barcoded.sort.bam_collision_table.csv processed\n",
      "chrM.barcoded.sort.bam_collision_table.csv\n",
      "chrM.barcoded.sort.bam_collision_table.csv processed\n",
      "chrY.barcoded.sort.bam_collision_table.csv\n",
      "chrY.barcoded.sort.bam_collision_table.csv processed\n",
      "chr18.barcoded.sort.bam_collision_table.csv\n",
      "chr18.barcoded.sort.bam_collision_table.csv processed\n",
      "chr5.barcoded.sort.bam_collision_table.csv\n",
      "chr5.barcoded.sort.bam_collision_table.csv processed\n",
      "chr7.barcoded.sort.bam_collision_table.csv\n",
      "chr7.barcoded.sort.bam_collision_table.csv processed\n",
      "chr17.barcoded.sort.bam_collision_table.csv\n",
      "chr17.barcoded.sort.bam_collision_table.csv processed\n",
      "chr20.barcoded.sort.bam_collision_table.csv\n",
      "chr20.barcoded.sort.bam_collision_table.csv processed\n",
      "chr22.barcoded.sort.bam_collision_table.csv\n",
      "chr22.barcoded.sort.bam_collision_table.csv processed\n",
      "chr13.barcoded.sort.bam_collision_table.csv\n",
      "chr13.barcoded.sort.bam_collision_table.csv processed\n",
      "chr21.barcoded.sort.bam_collision_table.csv\n",
      "chr21.barcoded.sort.bam_collision_table.csv processed\n",
      "chr9.barcoded.sort.bam_collision_table.csv\n",
      "chr9.barcoded.sort.bam_collision_table.csv processed\n",
      "chr14.barcoded.sort.bam_collision_table.csv\n",
      "chr14.barcoded.sort.bam_collision_table.csv processed\n",
      "chr4.barcoded.sort.bam_collision_table.csv\n",
      "chr4.barcoded.sort.bam_collision_table.csv processed\n",
      "chr8.barcoded.sort.bam_collision_table.csv\n",
      "chr8.barcoded.sort.bam_collision_table.csv processed\n",
      "chr11.barcoded.sort.bam_collision_table.csv\n",
      "chr11.barcoded.sort.bam_collision_table.csv processed\n",
      "chr10.barcoded.sort.bam_collision_table.csv\n",
      "chr10.barcoded.sort.bam_collision_table.csv processed\n",
      "chr16.barcoded.sort.bam_collision_table.csv\n",
      "chr16.barcoded.sort.bam_collision_table.csv processed\n",
      "chrX.barcoded.sort.bam_collision_table.csv\n",
      "chrX.barcoded.sort.bam_collision_table.csv processed\n",
      "chr15.barcoded.sort.bam_collision_table.csv\n",
      "chr15.barcoded.sort.bam_collision_table.csv processed\n",
      "chr19.barcoded.sort.bam_collision_table.csv\n",
      "chr19.barcoded.sort.bam_collision_table.csv processed\n",
      "chr3.barcoded.sort.bam_collision_table.csv\n",
      "chr3.barcoded.sort.bam_collision_table.csv processed\n",
      "chr2.barcoded.sort.bam_collision_table.csv\n",
      "chr2.barcoded.sort.bam_collision_table.csv processed\n",
      "chr12.barcoded.sort.bam_collision_table.csv\n",
      "chr12.barcoded.sort.bam_collision_table.csv processed\n",
      "chr6.barcoded.sort.bam_collision_table.csv\n",
      "chr6.barcoded.sort.bam_collision_table.csv processed\n",
      "CPU times: user 1h 50min 49s, sys: 9min 13s, total: 2h 3s\n",
      "Wall time: 2h 8min 15s\n"
     ]
    }
   ],
   "source": [
    "%%time \n",
    "\n",
    "barcodes = {}\n",
    "collision_tables = {}\n",
    "\n",
    "\n",
    "\n",
    "for sample in samples:\n",
    "    \n",
    "    barcodes[sample] = pd.read_csv(f'/c4/home/derek/data1/derek/data_scSLR/PBMC/PBMC_{sample}_idents.csv',header=None,sep='\\t')\n",
    "\n",
    "    input_dir = f'/c4/home/derek/data1/derek/data_scSLR/immune_fastqs/{sample}/split/'\n",
    "\n",
    "    collision_tables[sample] = pd.DataFrame()\n",
    "    \n",
    "    for file in os.listdir(input_dir):\n",
    "        if file.endswith('collision_table.csv'):\n",
    "            print(file)\n",
    "            \n",
    "            \n",
    "            df = pd.read_csv(input_dir+file, index_col=0)\n",
    "\n",
    "            #remove non gene aligned reads \n",
    "            df = df[df['gene_ID'] != '-']\n",
    "\n",
    "            ##remove polyG beads\n",
    "            df = df[df['bead_ID'] != 1]\n",
    "\n",
    "            #include only reads aligning to cells\n",
    "            df = df[df.cell.isin(barcodes[sample][0])]\n",
    "\n",
    "            #get per-gene values\n",
    "            df = df.groupby('gene_ID')['collision'].value_counts(normalize=True).unstack().fillna(0)\n",
    "\n",
    "            #remove index name\n",
    "            df = df.rename_axis(None, axis=1)\n",
    "\n",
    "            collision_tables[sample] = pd.concat([collision_tables[sample],df])\n",
    "\n",
    "            del df \n",
    "            print(file+\" processed\")\n",
    "        else:\n",
    "            pass\n",
    "\n",
    "\n",
    "    \n",
    "    "
   ]
  },
  {
   "cell_type": "code",
   "execution_count": null,
   "id": "1e7010f3-b1e2-44e5-9b58-23da0950ce0b",
   "metadata": {},
   "outputs": [],
   "source": []
  },
  {
   "cell_type": "code",
   "execution_count": 8,
   "id": "482c1968-26d4-442e-8a3b-b26b395019db",
   "metadata": {
    "tags": []
   },
   "outputs": [],
   "source": [
    "# collision_tables['sample_1'] = collision_tables['sample_1_rerun']\n",
    "# del collision_tables['sample_1_rerun']\n",
    "\n",
    "# barcodes['sample_1'] = barcodes['sample_1_rerun']\n",
    "# del barcodes['sample_1_rerun']"
   ]
  },
  {
   "cell_type": "code",
   "execution_count": 9,
   "id": "88440e9d-7092-4b80-8b94-f51c0f6d39ca",
   "metadata": {
    "tags": []
   },
   "outputs": [],
   "source": [
    "#collision_tables[sample] = collision_tables[sample][~collision_tables[sample].index.str.startswith('__')]"
   ]
  },
  {
   "cell_type": "code",
   "execution_count": null,
   "id": "b2554663-d7a8-48e2-946a-f8b353c8db50",
   "metadata": {
    "tags": []
   },
   "outputs": [],
   "source": []
  },
  {
   "cell_type": "code",
   "execution_count": 19,
   "id": "80a1512a-3f56-4e4a-bf1d-ecad8fda9cc5",
   "metadata": {
    "tags": []
   },
   "outputs": [],
   "source": [
    "# check scatter\n",
    "\n",
    "ct_1= collision_tables['sample_1']\n",
    "ct_2= collision_tables['sample_2']\n",
    "\n",
    "ct_1.index.name = None\n",
    "ct_2.index.name = None\n",
    "\n",
    "ct_1 = ct_1[~ct_1.index.str.startswith('__')]\n",
    "ct_2 = ct_2[~ct_2.index.str.startswith('__')]\n",
    "\n",
    "ct_1 = ct_1[ct_1.index.isin(ct_2.index)]\n",
    "ct_2 = ct_2[ct_2.index.isin(ct_1.index)]\n",
    "\n",
    "ct_2= ct_2.reindex(ct_1.index)"
   ]
  },
  {
   "cell_type": "code",
   "execution_count": null,
   "id": "c7129772-caec-4aab-b40e-713410924b9c",
   "metadata": {
    "tags": []
   },
   "outputs": [],
   "source": []
  },
  {
   "cell_type": "code",
   "execution_count": 20,
   "id": "35b018e0-09c1-4324-9598-fe98d7ea757e",
   "metadata": {
    "tags": []
   },
   "outputs": [],
   "source": [
    "pd.testing.assert_index_equal(ct_1.index,\n",
    "                              ct_2.index,\n",
    "                             )\n"
   ]
  },
  {
   "cell_type": "code",
   "execution_count": 21,
   "id": "a6cd58a7-bbbc-418a-b81d-d53d6a97da3e",
   "metadata": {
    "tags": []
   },
   "outputs": [
    {
     "data": {
      "text/plain": [
       "(-0.001, 1.0)"
      ]
     },
     "execution_count": 21,
     "metadata": {},
     "output_type": "execute_result"
    },
    {
     "data": {
      "image/png": "[encoded data removed]",
      "text/plain": [
       "<Figure size 500x500 with 1 Axes>"
      ]
     },
     "metadata": {},
     "output_type": "display_data"
    }
   ],
   "source": [
    "fig, ax = plt.subplots(1,1,figsize = (5,5))\n",
    "\n",
    "sns.scatterplot(x=ct_1[True],\n",
    "                y=ct_2[True], \n",
    "                ax=ax,\n",
    "                s=25, \n",
    "                linewidth =0\n",
    "               )\n",
    "\n",
    "ax.set_xlim(-0.001,1)\n",
    "ax.set_ylim(-0.001,1)"
   ]
  },
  {
   "cell_type": "code",
   "execution_count": null,
   "id": "6ff8d274-dd6a-4956-a39c-9cfefefca5af",
   "metadata": {
    "tags": []
   },
   "outputs": [],
   "source": []
  },
  {
   "cell_type": "code",
   "execution_count": 22,
   "id": "2f6b164b-36c6-4ece-9b07-016b7ffe955c",
   "metadata": {},
   "outputs": [],
   "source": [
    "import scanpy as sc"
   ]
  },
  {
   "cell_type": "code",
   "execution_count": 23,
   "id": "29b0154c-dfb8-4d7b-b81c-c55f4a345bc8",
   "metadata": {},
   "outputs": [],
   "source": [
    "sc_input_dir = '/c4/home/derek/data1/derek/data_scSLR/PBMC/STAR_outs/'# sample_1/StarOut_merged/Solo.out/GeneFull/raw/'\n"
   ]
  },
  {
   "cell_type": "code",
   "execution_count": 28,
   "id": "dc6fca92-4756-4c23-be36-a26b263de8ec",
   "metadata": {},
   "outputs": [],
   "source": [
    "# .reindex(df_HVG_.index)"
   ]
  },
  {
   "cell_type": "code",
   "execution_count": 29,
   "id": "64ece88c-2631-46d0-a2c5-2396140aacaa",
   "metadata": {
    "tags": []
   },
   "outputs": [],
   "source": [
    "# collision_tables[sample][collision_tables[sample].index.isin(df_HVG_.index)]"
   ]
  },
  {
   "cell_type": "code",
   "execution_count": 30,
   "id": "c1aaee82-ab79-43fd-8b7a-4f718126365d",
   "metadata": {
    "tags": []
   },
   "outputs": [],
   "source": [
    "# pd.Series(df_HVG_.index.duplicated()).value_counts()"
   ]
  },
  {
   "cell_type": "code",
   "execution_count": 27,
   "id": "3536325d-9e2c-4e35-b79d-482d9cd33cad",
   "metadata": {
    "tags": []
   },
   "outputs": [
    {
     "name": "stderr",
     "output_type": "stream",
     "text": [
      "/c4/home/derek/miniconda3/envs/scquint_4/lib/python3.10/site-packages/scanpy/preprocessing/_normalization.py:170: UserWarning: Received a view of an AnnData. Making a copy.\n",
      "  view_to_actual(adata)\n",
      "/c4/home/derek/miniconda3/envs/scquint_4/lib/python3.10/site-packages/scanpy/preprocessing/_normalization.py:170: UserWarning: Received a view of an AnnData. Making a copy.\n",
      "  view_to_actual(adata)\n"
     ]
    },
    {
     "name": "stdout",
     "output_type": "stream",
     "text": [
      "CPU times: user 1min 41s, sys: 1.35 s, total: 1min 43s\n",
      "Wall time: 1min 45s\n"
     ]
    }
   ],
   "source": [
    "%%time\n",
    "adatas = {}\n",
    "\n",
    "dfs_collisions = {}\n",
    "\n",
    "samples = ['sample_1',\n",
    "           'sample_2'\n",
    "          ]\n",
    "\n",
    "for sample in samples:\n",
    "    sample_dir = sc_input_dir+sample+'/StarOut_merged/Solo.out/GeneFull/raw/'\n",
    "\n",
    "    adatas[sample] = sc.read_mtx(sample_dir + 'matrix.mtx').T\n",
    "    adatas[sample].obs_names = pd.read_csv(sample_dir+'barcodes.tsv',header=None)[0]\n",
    "    adatas[sample].var_names = pd.read_csv(sample_dir+'features.tsv',header=None,sep='\\t')[0]\n",
    "    \n",
    "    adatas[sample].var_names_make_unique()\n",
    "\n",
    "    adatas[sample]=adatas[sample][adatas[sample].obs_names.isin(barcodes[sample][0])]\n",
    "\n",
    "    sc.pp.normalize_total(adatas[sample], target_sum=1e4)\n",
    "    sc.pp.log1p(adatas[sample])\n",
    "    \n",
    "    df_HVG = sc.pp.highly_variable_genes(adatas[sample], min_mean=0.0125, max_mean=3, min_disp=0.5, inplace=False)\n",
    "    ID_dict = dict(zip(pd.read_csv(sample_dir+'features.tsv',header=None,sep='\\t')[0],\n",
    "         pd.read_csv(sample_dir+'features.tsv',header=None,sep='\\t')[1])\n",
    "        )\n",
    "    \n",
    "    df_HVG.index = adatas[sample].var_names \n",
    "    df_HVG['gene_name'] = df_HVG.index.map(ID_dict)\n",
    "    \n",
    "    df_HVG_ = df_HVG[df_HVG.index.isin(collision_tables[sample].index)]\n",
    "    #collision_tables[sample] = collision_tables[sample].reindex(df_HVG_.index)\n",
    "    \n",
    "    collision_tables[sample] = collision_tables[sample][collision_tables[sample].index.isin(df_HVG_.index)]\n",
    "    # collision_tables[sample].rename_axis(None, axis=1)\n",
    "    \n",
    "    \n",
    "    \n",
    "    dfs_collisions[sample] = pd.concat([df_HVG_,collision_tables[sample]],axis=1)\n",
    "    dfs_collisions[sample].columns = ['means','dispersions','mean_bin','dispersions_norm', 'highly_variable','gene_name','False_rate','True_rate']\n",
    "    dfs_collisions[sample] = dfs_collisions[sample].sort_values(by='True_rate')\n",
    "\n",
    "    "
   ]
  },
  {
   "cell_type": "code",
   "execution_count": null,
   "id": "2411dc18-47ff-4fd6-bd7a-586f507d4848",
   "metadata": {},
   "outputs": [],
   "source": []
  },
  {
   "cell_type": "code",
   "execution_count": null,
   "id": "b8643a05-3374-4276-b962-c1d45d83152d",
   "metadata": {},
   "outputs": [],
   "source": []
  },
  {
   "cell_type": "code",
   "execution_count": null,
   "id": "72636745-3e57-4088-a60a-bc447a9f4082",
   "metadata": {},
   "outputs": [],
   "source": []
  },
  {
   "cell_type": "code",
   "execution_count": 31,
   "id": "67710e49-3e31-456d-926d-1f0e3f96f729",
   "metadata": {
    "tags": []
   },
   "outputs": [
    {
     "data": {
      "text/plain": [
       "<Axes: xlabel='True_rate', ylabel='True_rate'>"
      ]
     },
     "execution_count": 31,
     "metadata": {},
     "output_type": "execute_result"
    },
    {
     "data": {
      "image/png": "[encoded data removed]",
      "text/plain": [
       "<Figure size 640x480 with 1 Axes>"
      ]
     },
     "metadata": {},
     "output_type": "display_data"
    }
   ],
   "source": [
    "sns.scatterplot(\n",
    "x=dfs_collisions['sample_1']['True_rate'],\n",
    "y=dfs_collisions['sample_2']['True_rate']\n",
    ")"
   ]
  },
  {
   "cell_type": "code",
   "execution_count": null,
   "id": "941bc853-2225-4542-bada-776a354152b9",
   "metadata": {
    "tags": []
   },
   "outputs": [],
   "source": []
  },
  {
   "cell_type": "code",
   "execution_count": 32,
   "id": "d14f33d1-da27-4bf6-91e7-886a9f041af9",
   "metadata": {
    "tags": []
   },
   "outputs": [],
   "source": [
    "collisions_Scatter = pd.concat([\n",
    "    dfs_collisions['sample_1']['True_rate'],\n",
    "    dfs_collisions['sample_2']['True_rate']],\n",
    "    axis=1,\n",
    "    join='inner', \n",
    ")\n",
    "collisions_Scatter.columns = ['sample_1','sample_2']"
   ]
  },
  {
   "cell_type": "code",
   "execution_count": 33,
   "id": "942c68b2-756f-4085-8e6c-9d01cfc46d43",
   "metadata": {
    "tags": []
   },
   "outputs": [
    {
     "data": {
      "text/plain": [
       "<Axes: xlabel='sample_1', ylabel='sample_2'>"
      ]
     },
     "execution_count": 33,
     "metadata": {},
     "output_type": "execute_result"
    },
    {
     "data": {
      "image/png": "[encoded data removed]",
      "text/plain": [
       "<Figure size 640x480 with 1 Axes>"
      ]
     },
     "metadata": {},
     "output_type": "display_data"
    }
   ],
   "source": [
    "sns.scatterplot(collisions_Scatter, \n",
    "               x='sample_1',\n",
    "               y='sample_2')"
   ]
  },
  {
   "cell_type": "code",
   "execution_count": null,
   "id": "18d6d2e0-a8c6-4a4e-9ddd-44ed9e3d21d5",
   "metadata": {
    "tags": []
   },
   "outputs": [],
   "source": []
  },
  {
   "cell_type": "code",
   "execution_count": 34,
   "id": "45f3206b-24b4-4af6-b346-da4902be9bb9",
   "metadata": {
    "tags": []
   },
   "outputs": [],
   "source": [
    "collisions_Scatter['mean_expression_sample1'] =  dfs_collisions['sample_1'].reindex(collisions_Scatter.index)['means']\n",
    "collisions_Scatter['mean_expression_sample2'] =  dfs_collisions['sample_2'].reindex(collisions_Scatter.index)['means']\n",
    "\n",
    "collisions_Scatter['gene_name'] =  dfs_collisions['sample_1'].reindex(collisions_Scatter.index)['gene_name']"
   ]
  },
  {
   "cell_type": "code",
   "execution_count": 35,
   "id": "6f262778-5d45-4659-834d-0d33fe8a24a2",
   "metadata": {
    "tags": []
   },
   "outputs": [],
   "source": [
    "collisions_Scatter = collisions_Scatter.sort_values(by='sample_2')"
   ]
  },
  {
   "cell_type": "code",
   "execution_count": 36,
   "id": "6e79f0d7-1d16-4970-9046-51e6a3b41568",
   "metadata": {
    "tags": []
   },
   "outputs": [],
   "source": [
    "#temp_ = temp[(temp['sample_1'] > 0) & (temp['sample_2'] > 0)]\n",
    "collisions_Scatter_ = collisions_Scatter[(collisions_Scatter['mean_expression_sample1'] > 1.0e-5) & (collisions_Scatter['mean_expression_sample2'] > 1.0e-5)]"
   ]
  },
  {
   "cell_type": "code",
   "execution_count": 37,
   "id": "132421a5-6a71-48f4-98cb-e76768f19f52",
   "metadata": {
    "tags": []
   },
   "outputs": [
    {
     "name": "stdout",
     "output_type": "stream",
     "text": [
      "(20378, 5)\n",
      "(20378, 5)\n"
     ]
    }
   ],
   "source": [
    "print(collisions_Scatter_.shape)\n",
    "print(collisions_Scatter_.shape)"
   ]
  },
  {
   "cell_type": "code",
   "execution_count": 38,
   "id": "f9ec64f8-3913-4710-ba3a-c8de2ed965f3",
   "metadata": {
    "tags": []
   },
   "outputs": [
    {
     "name": "stdout",
     "output_type": "stream",
     "text": [
      "CPU times: user 184 ms, sys: 510 ms, total: 694 ms\n",
      "Wall time: 33.5 ms\n"
     ]
    },
    {
     "data": {
      "text/plain": [
       "PearsonRResult(statistic=0.4324278251938667, pvalue=0.0)"
      ]
     },
     "execution_count": 38,
     "metadata": {},
     "output_type": "execute_result"
    }
   ],
   "source": [
    "%%time\n",
    "corr = stats.pearsonr(x=collisions_Scatter_['sample_1'],\n",
    "                        y=collisions_Scatter_['sample_2']          \n",
    "                     )\n",
    "\n",
    "corr"
   ]
  },
  {
   "cell_type": "code",
   "execution_count": null,
   "id": "ffd9680e-c853-4959-887e-3044a2abd981",
   "metadata": {
    "tags": []
   },
   "outputs": [],
   "source": []
  },
  {
   "cell_type": "code",
   "execution_count": null,
   "id": "dc2047ce-b3c8-4ec3-bbc3-4c06a680c8ea",
   "metadata": {
    "tags": []
   },
   "outputs": [],
   "source": []
  },
  {
   "cell_type": "code",
   "execution_count": 39,
   "id": "53ab0e2c-8471-4dd2-8464-b02b6ee35db0",
   "metadata": {
    "tags": []
   },
   "outputs": [
    {
     "data": {
      "text/plain": [
       "array([2.94727905e-04, 4.47264979e-04, 8.58550796e-04, ...,\n",
       "       1.79406439e-01, 2.60066823e+00, 2.49241835e-03])"
      ]
     },
     "execution_count": 39,
     "metadata": {},
     "output_type": "execute_result"
    }
   ],
   "source": [
    "np.mean([collisions_Scatter_['mean_expression_sample1'],collisions_Scatter_['mean_expression_sample2']],axis=0)"
   ]
  },
  {
   "cell_type": "code",
   "execution_count": 40,
   "id": "9d7b438b-6e86-4f73-b95c-f317f2d12e29",
   "metadata": {
    "tags": []
   },
   "outputs": [
    {
     "data": {
      "text/plain": [
       "Text(0, 0.5, 'mean percent collisions \\n scSLR-seq rep 2.')"
      ]
     },
     "execution_count": 40,
     "metadata": {},
     "output_type": "execute_result"
    },
    {
     "data": {
      "image/png": "[encoded data removed]",
      "text/plain": [
       "<Figure size 500x500 with 2 Axes>"
      ]
     },
     "metadata": {},
     "output_type": "display_data"
    }
   ],
   "source": [
    "fig, ax = plt.subplots(1,1,figsize = (5,5))\n",
    "\n",
    "n = sns.scatterplot(data=collisions_Scatter, \n",
    "                x='sample_1',\n",
    "                y='sample_2', \n",
    "                hue=np.mean([collisions_Scatter['mean_expression_sample1'],collisions_Scatter['mean_expression_sample2']],axis=0),\n",
    "                ax=ax,\n",
    "                s=10, \n",
    "                linewidth =0, \n",
    "                palette='viridis'\n",
    "               )\n",
    "\n",
    "\n",
    "# for line in range((temp.sort_values(by ='sample_1',ascending=True).shape[0]-100),\n",
    "#                   temp.sort_values(by ='sample_1',ascending=True).shape[0]\n",
    "#                  ):\n",
    "    \n",
    "#     n.text(x=temp.sort_values(by ='mean_expression_sample1',ascending=True).sample_1[line]+0.01,\n",
    "#            y=temp.sort_values(by ='mean_expression_sample1',ascending=True).sample_2[line], \n",
    "#              s = temp.sort_values(by ='sample_1',ascending=True).gene_name[line],\n",
    "#              horizontalalignment='left', \n",
    "             \n",
    "#              size='medium', \n",
    "#              color='black', \n",
    "#              # weight='semibold'\n",
    "#             )\n",
    "\n",
    "\n",
    "norm = plt.Normalize(collisions_Scatter['sample_1'].min(), \n",
    "                     collisions_Scatter['sample_2'].max())\n",
    "\n",
    "sm = plt.cm.ScalarMappable(cmap=\"viridis\", norm=norm)\n",
    "sm.set_array([])\n",
    "\n",
    "cbar_ax = fig.add_axes([0.92, 0.4, 0.03, 0.2])\n",
    "\n",
    "\n",
    "fig.colorbar(sm, cax=cbar_ax, label='normalized expression')\n",
    "\n",
    "ax.get_legend().remove()\n",
    "\n",
    "ax.set_xlim(-0.005,1)\n",
    "ax.set_ylim(-0.005,1)\n",
    "\n",
    "ax.spines.right.set_visible(False)\n",
    "ax.spines.top.set_visible(False)\n",
    "\n",
    "ax.spines.bottom.set_linewidth(1)\n",
    "ax.spines.left.set_linewidth(1)\n",
    "\n",
    "ax.set_xlabel('mean percent collisions \\n scSLR-seq rep 1.',fontsize=12)\n",
    "ax.set_ylabel('mean percent collisions \\n scSLR-seq rep 2.',fontsize=12)\n",
    "\n",
    "# fig.savefig('./plots/collision_rate_corr.pdf')"
   ]
  },
  {
   "cell_type": "code",
   "execution_count": null,
   "id": "58f88288-135c-483d-9124-bea7b2ce5e58",
   "metadata": {},
   "outputs": [],
   "source": []
  },
  {
   "cell_type": "code",
   "execution_count": null,
   "id": "53a256f5-04a1-4af3-bbd5-e7ada0e14a2c",
   "metadata": {},
   "outputs": [],
   "source": []
  },
  {
   "cell_type": "markdown",
   "id": "c16ab6fc-4394-496a-8679-c099494764c5",
   "metadata": {},
   "source": [
    "# Plot single sample metrics "
   ]
  },
  {
   "cell_type": "code",
   "execution_count": 41,
   "id": "506ffc8b-f9b0-4148-af05-aea3eb09d18e",
   "metadata": {},
   "outputs": [],
   "source": [
    "df_collisions = dfs_collisions['sample_1']#.reindex(temp.index)"
   ]
  },
  {
   "cell_type": "code",
   "execution_count": null,
   "id": "17a707b1-c9a0-472d-a97f-74a6196e88c9",
   "metadata": {},
   "outputs": [],
   "source": [
    "    "
   ]
  },
  {
   "cell_type": "code",
   "execution_count": 42,
   "id": "8ca8739a-233b-4ad3-a058-0ff932de73ab",
   "metadata": {},
   "outputs": [],
   "source": [
    "lengths_transcripts = pd.read_csv('/c4/home/derek/data1/derek/reference/human_hp3_reference/genes.gtf.genelength',sep='\\t',\n",
    "                                 index_col=0)"
   ]
  },
  {
   "cell_type": "code",
   "execution_count": 43,
   "id": "cbe5bf0c-5a05-4379-9a90-10582b09a7fa",
   "metadata": {},
   "outputs": [],
   "source": [
    "lengths_transcripts = lengths_transcripts[lengths_transcripts.index.isin(df_collisions.index)]"
   ]
  },
  {
   "cell_type": "code",
   "execution_count": 44,
   "id": "c35d188e-7eb9-452b-9daf-0f86e9700656",
   "metadata": {},
   "outputs": [],
   "source": [
    "df_collisions = df_collisions[df_collisions.index.isin(lengths_transcripts.index)]"
   ]
  },
  {
   "cell_type": "code",
   "execution_count": 45,
   "id": "6e0e1d21-5d1a-46c5-a6a5-e1e14f9dd038",
   "metadata": {
    "tags": []
   },
   "outputs": [
    {
     "data": {
      "text/html": [
       "<div>\n",
       "<style scoped>\n",
       "    .dataframe tbody tr th:only-of-type {\n",
       "        vertical-align: middle;\n",
       "    }\n",
       "\n",
       "    .dataframe tbody tr th {\n",
       "        vertical-align: top;\n",
       "    }\n",
       "\n",
       "    .dataframe thead th {\n",
       "        text-align: right;\n",
       "    }\n",
       "</style>\n",
       "<table border=\"1\" class=\"dataframe\">\n",
       "  <thead>\n",
       "    <tr style=\"text-align: right;\">\n",
       "      <th></th>\n",
       "      <th>means</th>\n",
       "      <th>dispersions</th>\n",
       "      <th>mean_bin</th>\n",
       "      <th>dispersions_norm</th>\n",
       "      <th>highly_variable</th>\n",
       "      <th>gene_name</th>\n",
       "      <th>False_rate</th>\n",
       "      <th>True_rate</th>\n",
       "    </tr>\n",
       "  </thead>\n",
       "  <tbody>\n",
       "    <tr>\n",
       "      <th>ENSG00000243485</th>\n",
       "      <td>2.028295e-04</td>\n",
       "      <td>0.756087</td>\n",
       "      <td>(-0.005, 0.25]</td>\n",
       "      <td>-1.405559</td>\n",
       "      <td>False</td>\n",
       "      <td>MIR1302-2HG</td>\n",
       "      <td>1.000000</td>\n",
       "      <td>0.000000</td>\n",
       "    </tr>\n",
       "    <tr>\n",
       "      <th>ENSG00000255171</th>\n",
       "      <td>1.725513e-03</td>\n",
       "      <td>1.269874</td>\n",
       "      <td>(-0.005, 0.25]</td>\n",
       "      <td>-0.176618</td>\n",
       "      <td>False</td>\n",
       "      <td>LINC01499</td>\n",
       "      <td>1.000000</td>\n",
       "      <td>0.000000</td>\n",
       "    </tr>\n",
       "    <tr>\n",
       "      <th>ENSG00000255279</th>\n",
       "      <td>1.000000e-12</td>\n",
       "      <td>NaN</td>\n",
       "      <td>(-0.005, 0.25]</td>\n",
       "      <td>0.000000</td>\n",
       "      <td>False</td>\n",
       "      <td>AC023442.3</td>\n",
       "      <td>1.000000</td>\n",
       "      <td>0.000000</td>\n",
       "    </tr>\n",
       "    <tr>\n",
       "      <th>ENSG00000255300</th>\n",
       "      <td>1.897552e-03</td>\n",
       "      <td>1.532515</td>\n",
       "      <td>(-0.005, 0.25]</td>\n",
       "      <td>0.451599</td>\n",
       "      <td>False</td>\n",
       "      <td>LINC02745</td>\n",
       "      <td>1.000000</td>\n",
       "      <td>0.000000</td>\n",
       "    </tr>\n",
       "    <tr>\n",
       "      <th>ENSG00000255109</th>\n",
       "      <td>9.801707e-04</td>\n",
       "      <td>1.366111</td>\n",
       "      <td>(-0.005, 0.25]</td>\n",
       "      <td>0.053573</td>\n",
       "      <td>False</td>\n",
       "      <td>LINC02740</td>\n",
       "      <td>1.000000</td>\n",
       "      <td>0.000000</td>\n",
       "    </tr>\n",
       "    <tr>\n",
       "      <th>...</th>\n",
       "      <td>...</td>\n",
       "      <td>...</td>\n",
       "      <td>...</td>\n",
       "      <td>...</td>\n",
       "      <td>...</td>\n",
       "      <td>...</td>\n",
       "      <td>...</td>\n",
       "      <td>...</td>\n",
       "    </tr>\n",
       "    <tr>\n",
       "      <th>ENSG00000244734</th>\n",
       "      <td>2.605880e+00</td>\n",
       "      <td>2.856075</td>\n",
       "      <td>(2.498, 2.748]</td>\n",
       "      <td>0.671858</td>\n",
       "      <td>True</td>\n",
       "      <td>HBB</td>\n",
       "      <td>0.187689</td>\n",
       "      <td>0.812311</td>\n",
       "    </tr>\n",
       "    <tr>\n",
       "      <th>ENSG00000182459</th>\n",
       "      <td>2.572889e-04</td>\n",
       "      <td>0.509358</td>\n",
       "      <td>(-0.005, 0.25]</td>\n",
       "      <td>-1.995716</td>\n",
       "      <td>False</td>\n",
       "      <td>TEX19</td>\n",
       "      <td>0.111111</td>\n",
       "      <td>0.888889</td>\n",
       "    </tr>\n",
       "    <tr>\n",
       "      <th>ENSG00000274248</th>\n",
       "      <td>3.542456e-04</td>\n",
       "      <td>1.313788</td>\n",
       "      <td>(-0.005, 0.25]</td>\n",
       "      <td>-0.071581</td>\n",
       "      <td>False</td>\n",
       "      <td>AJ011932.1</td>\n",
       "      <td>0.000000</td>\n",
       "      <td>1.000000</td>\n",
       "    </tr>\n",
       "    <tr>\n",
       "      <th>ENSG00000274918</th>\n",
       "      <td>6.497162e-04</td>\n",
       "      <td>1.227671</td>\n",
       "      <td>(-0.005, 0.25]</td>\n",
       "      <td>-0.277566</td>\n",
       "      <td>False</td>\n",
       "      <td>AC116447.1</td>\n",
       "      <td>0.000000</td>\n",
       "      <td>1.000000</td>\n",
       "    </tr>\n",
       "    <tr>\n",
       "      <th>ENSG00000229495</th>\n",
       "      <td>2.764149e-04</td>\n",
       "      <td>1.065661</td>\n",
       "      <td>(-0.005, 0.25]</td>\n",
       "      <td>-0.665081</td>\n",
       "      <td>False</td>\n",
       "      <td>AL450327.1</td>\n",
       "      <td>0.000000</td>\n",
       "      <td>1.000000</td>\n",
       "    </tr>\n",
       "  </tbody>\n",
       "</table>\n",
       "<p>26056 rows × 8 columns</p>\n",
       "</div>"
      ],
      "text/plain": [
       "                        means  dispersions        mean_bin  dispersions_norm  \\\n",
       "ENSG00000243485  2.028295e-04     0.756087  (-0.005, 0.25]         -1.405559   \n",
       "ENSG00000255171  1.725513e-03     1.269874  (-0.005, 0.25]         -0.176618   \n",
       "ENSG00000255279  1.000000e-12          NaN  (-0.005, 0.25]          0.000000   \n",
       "ENSG00000255300  1.897552e-03     1.532515  (-0.005, 0.25]          0.451599   \n",
       "ENSG00000255109  9.801707e-04     1.366111  (-0.005, 0.25]          0.053573   \n",
       "...                       ...          ...             ...               ...   \n",
       "ENSG00000244734  2.605880e+00     2.856075  (2.498, 2.748]          0.671858   \n",
       "ENSG00000182459  2.572889e-04     0.509358  (-0.005, 0.25]         -1.995716   \n",
       "ENSG00000274248  3.542456e-04     1.313788  (-0.005, 0.25]         -0.071581   \n",
       "ENSG00000274918  6.497162e-04     1.227671  (-0.005, 0.25]         -0.277566   \n",
       "ENSG00000229495  2.764149e-04     1.065661  (-0.005, 0.25]         -0.665081   \n",
       "\n",
       "                 highly_variable    gene_name  False_rate  True_rate  \n",
       "ENSG00000243485            False  MIR1302-2HG    1.000000   0.000000  \n",
       "ENSG00000255171            False    LINC01499    1.000000   0.000000  \n",
       "ENSG00000255279            False   AC023442.3    1.000000   0.000000  \n",
       "ENSG00000255300            False    LINC02745    1.000000   0.000000  \n",
       "ENSG00000255109            False    LINC02740    1.000000   0.000000  \n",
       "...                          ...          ...         ...        ...  \n",
       "ENSG00000244734             True          HBB    0.187689   0.812311  \n",
       "ENSG00000182459            False        TEX19    0.111111   0.888889  \n",
       "ENSG00000274248            False   AJ011932.1    0.000000   1.000000  \n",
       "ENSG00000274918            False   AC116447.1    0.000000   1.000000  \n",
       "ENSG00000229495            False   AL450327.1    0.000000   1.000000  \n",
       "\n",
       "[26056 rows x 8 columns]"
      ]
     },
     "execution_count": 45,
     "metadata": {},
     "output_type": "execute_result"
    }
   ],
   "source": [
    "df_collisions"
   ]
  },
  {
   "cell_type": "code",
   "execution_count": 46,
   "id": "84fca52e-41b0-40a9-b6c9-32f986633f0c",
   "metadata": {},
   "outputs": [],
   "source": [
    "lengths_transcripts = lengths_transcripts.reindex(df_collisions.index)"
   ]
  },
  {
   "cell_type": "code",
   "execution_count": 47,
   "id": "4f836611-d763-440f-9525-817068b676f2",
   "metadata": {},
   "outputs": [
    {
     "name": "stderr",
     "output_type": "stream",
     "text": [
      "/scratch/derek/ipykernel_1149726/3327041963.py:1: SettingWithCopyWarning: \n",
      "A value is trying to be set on a copy of a slice from a DataFrame.\n",
      "Try using .loc[row_indexer,col_indexer] = value instead\n",
      "\n",
      "See the caveats in the documentation: https://pandas.pydata.org/pandas-docs/stable/user_guide/indexing.html#returning-a-view-versus-a-copy\n",
      "  df_collisions['length_mean'] = lengths_transcripts['mean']\n",
      "/scratch/derek/ipykernel_1149726/3327041963.py:2: SettingWithCopyWarning: \n",
      "A value is trying to be set on a copy of a slice from a DataFrame.\n",
      "Try using .loc[row_indexer,col_indexer] = value instead\n",
      "\n",
      "See the caveats in the documentation: https://pandas.pydata.org/pandas-docs/stable/user_guide/indexing.html#returning-a-view-versus-a-copy\n",
      "  df_collisions['length_median'] = lengths_transcripts['median']\n",
      "/scratch/derek/ipykernel_1149726/3327041963.py:3: SettingWithCopyWarning: \n",
      "A value is trying to be set on a copy of a slice from a DataFrame.\n",
      "Try using .loc[row_indexer,col_indexer] = value instead\n",
      "\n",
      "See the caveats in the documentation: https://pandas.pydata.org/pandas-docs/stable/user_guide/indexing.html#returning-a-view-versus-a-copy\n",
      "  df_collisions['length_longest_isoform'] = lengths_transcripts['longest_isoform']\n",
      "/scratch/derek/ipykernel_1149726/3327041963.py:4: SettingWithCopyWarning: \n",
      "A value is trying to be set on a copy of a slice from a DataFrame.\n",
      "Try using .loc[row_indexer,col_indexer] = value instead\n",
      "\n",
      "See the caveats in the documentation: https://pandas.pydata.org/pandas-docs/stable/user_guide/indexing.html#returning-a-view-versus-a-copy\n",
      "  df_collisions['length_merged'] = lengths_transcripts['merged']\n"
     ]
    }
   ],
   "source": [
    "df_collisions['length_mean'] = lengths_transcripts['mean']\n",
    "df_collisions['length_median'] = lengths_transcripts['median']\n",
    "df_collisions['length_longest_isoform'] = lengths_transcripts['longest_isoform']\n",
    "df_collisions['length_merged'] = lengths_transcripts['merged']"
   ]
  },
  {
   "cell_type": "code",
   "execution_count": 48,
   "id": "22a6c479-4fd4-408d-a2e2-cb9b53e96d87",
   "metadata": {},
   "outputs": [
    {
     "name": "stderr",
     "output_type": "stream",
     "text": [
      "/scratch/derek/ipykernel_1149726/779766503.py:1: SettingWithCopyWarning: \n",
      "A value is trying to be set on a copy of a slice from a DataFrame.\n",
      "Try using .loc[row_indexer,col_indexer] = value instead\n",
      "\n",
      "See the caveats in the documentation: https://pandas.pydata.org/pandas-docs/stable/user_guide/indexing.html#returning-a-view-versus-a-copy\n",
      "  df_collisions['True_clipped'] = df_collisions['True_rate'].clip(upper=0.1)\n"
     ]
    }
   ],
   "source": [
    "df_collisions['True_clipped'] = df_collisions['True_rate'].clip(upper=0.1)"
   ]
  },
  {
   "cell_type": "code",
   "execution_count": 49,
   "id": "d3ba6f74-5c0b-43ed-a617-be0e5700d28d",
   "metadata": {},
   "outputs": [],
   "source": [
    "df_collisions = df_collisions.sort_index()"
   ]
  },
  {
   "cell_type": "code",
   "execution_count": 50,
   "id": "2fc24933-0423-4d17-93dc-e3d953ff4588",
   "metadata": {},
   "outputs": [],
   "source": [
    "# from matplotlib.colors import LinearSegmentedColormap\n"
   ]
  },
  {
   "cell_type": "code",
   "execution_count": 60,
   "id": "55feeebe-f0c6-4cff-82a6-d5e90da95265",
   "metadata": {
    "tags": []
   },
   "outputs": [],
   "source": [
    "cm_data = [[0.2422, 0.1504, 0.6603],\n",
    "[0.2444, 0.1534, 0.6728],\n",
    "[0.2464, 0.1569, 0.6847],\n",
    "[0.2484, 0.1607, 0.6961],\n",
    "[0.2503, 0.1648, 0.7071],\n",
    "[0.2522, 0.1689, 0.7179],\n",
    "[0.254, 0.1732, 0.7286],\n",
    "[0.2558, 0.1773, 0.7393],\n",
    "[0.2576, 0.1814, 0.7501],\n",
    "[0.2594, 0.1854, 0.761],\n",
    "[0.2611, 0.1893, 0.7719],\n",
    "[0.2628, 0.1932, 0.7828],\n",
    "[0.2645, 0.1972, 0.7937],\n",
    "[0.2661, 0.2011, 0.8043],\n",
    "[0.2676, 0.2052, 0.8148],\n",
    "[0.2691, 0.2094, 0.8249],\n",
    "[0.2704, 0.2138, 0.8346],\n",
    "[0.2717, 0.2184, 0.8439],\n",
    "[0.2729, 0.2231, 0.8528],\n",
    "[0.274, 0.228, 0.8612],\n",
    "[0.2749, 0.233, 0.8692],\n",
    "[0.2758, 0.2382, 0.8767],\n",
    "[0.2766, 0.2435, 0.884],\n",
    "[0.2774, 0.2489, 0.8908],\n",
    "[0.2781, 0.2543, 0.8973],\n",
    "[0.2788, 0.2598, 0.9035],\n",
    "[0.2794, 0.2653, 0.9094],\n",
    "[0.2798, 0.2708, 0.915],\n",
    "[0.2802, 0.2764, 0.9204],\n",
    "[0.2806, 0.2819, 0.9255],\n",
    "[0.2809, 0.2875, 0.9305],\n",
    "[0.2811, 0.293, 0.9352],\n",
    "[0.2813, 0.2985, 0.9397],\n",
    "[0.2814, 0.304, 0.9441],\n",
    "[0.2814, 0.3095, 0.9483],\n",
    "[0.2813, 0.315, 0.9524],\n",
    "[0.2811, 0.3204, 0.9563],\n",
    "[0.2809, 0.3259, 0.96],\n",
    "[0.2807, 0.3313, 0.9636],\n",
    "[0.2803, 0.3367, 0.967],\n",
    "[0.2798, 0.3421, 0.9702],\n",
    "[0.2791, 0.3475, 0.9733],\n",
    "[0.2784, 0.3529, 0.9763],\n",
    "[0.2776, 0.3583, 0.9791],\n",
    "[0.2766, 0.3638, 0.9817],\n",
    "[0.2754, 0.3693, 0.984],\n",
    "[0.2741, 0.3748, 0.9862],\n",
    "[0.2726, 0.3804, 0.9881],\n",
    "[0.271, 0.386, 0.9898],\n",
    "[0.2691, 0.3916, 0.9912],\n",
    "[0.267, 0.3973, 0.9924],\n",
    "[0.2647, 0.403, 0.9935],\n",
    "[0.2621, 0.4088, 0.9946],\n",
    "[0.2591, 0.4145, 0.9955],\n",
    "[0.2556, 0.4203, 0.9965],\n",
    "[0.2517, 0.4261, 0.9974],\n",
    "[0.2473, 0.4319, 0.9983],\n",
    "[0.2424, 0.4378, 0.9991],\n",
    "[0.2369, 0.4437, 0.9996],\n",
    "[0.2311, 0.4497, 0.9995],\n",
    "[0.225, 0.4559, 0.9985],\n",
    "[0.2189, 0.462, 0.9968],\n",
    "[0.2128, 0.4682, 0.9948],\n",
    "[0.2066, 0.4743, 0.9926],\n",
    "[0.2006, 0.4803, 0.9906],\n",
    "[0.195, 0.4861, 0.9887],\n",
    "[0.1903, 0.4919, 0.9867],\n",
    "[0.1869, 0.4975, 0.9844],\n",
    "[0.1847, 0.503, 0.9819],\n",
    "[0.1831, 0.5084, 0.9793],\n",
    "[0.1818, 0.5138, 0.9766],\n",
    "[0.1806, 0.5191, 0.9738],\n",
    "[0.1795, 0.5244, 0.9709],\n",
    "[0.1785, 0.5296, 0.9677],\n",
    "[0.1778, 0.5349, 0.9641],\n",
    "[0.1773, 0.5401, 0.9602],\n",
    "[0.1768, 0.5452, 0.956],\n",
    "[0.1764, 0.5504, 0.9516],\n",
    "[0.1755, 0.5554, 0.9473],\n",
    "[0.174, 0.5605, 0.9432],\n",
    "[0.1716, 0.5655, 0.9393],\n",
    "[0.1686, 0.5705, 0.9357],\n",
    "[0.1649, 0.5755, 0.9323],\n",
    "[0.161, 0.5805, 0.9289],\n",
    "[0.1573, 0.5854, 0.9254],\n",
    "[0.154, 0.5902, 0.9218],\n",
    "[0.1513, 0.595, 0.9182],\n",
    "[0.1492, 0.5997, 0.9147],\n",
    "[0.1475, 0.6043, 0.9113],\n",
    "[0.1461, 0.6089, 0.908],\n",
    "[0.1446, 0.6135, 0.905],\n",
    "[0.1429, 0.618, 0.9022],\n",
    "[0.1408, 0.6226, 0.8998],\n",
    "[0.1383, 0.6272, 0.8975],\n",
    "[0.1354, 0.6317, 0.8953],\n",
    "[0.1321, 0.6363, 0.8932],\n",
    "[0.1288, 0.6408, 0.891],\n",
    "[0.1253, 0.6453, 0.8887],\n",
    "[0.1219, 0.6497, 0.8862],\n",
    "[0.1185, 0.6541, 0.8834],\n",
    "[0.1152, 0.6584, 0.8804],\n",
    "[0.1119, 0.6627, 0.877],\n",
    "[0.1085, 0.6669, 0.8734],\n",
    "[0.1048, 0.671, 0.8695],\n",
    "[0.1009, 0.675, 0.8653],\n",
    "[0.0964, 0.6789, 0.8609],\n",
    "[0.0914, 0.6828, 0.8562],\n",
    "[0.0855, 0.6865, 0.8513],\n",
    "[0.0789, 0.6902, 0.8462],\n",
    "[0.0713, 0.6938, 0.8409],\n",
    "[0.0628, 0.6972, 0.8355],\n",
    "[0.0535, 0.7006, 0.8299],\n",
    "[0.0433, 0.7039, 0.8242],\n",
    "[0.0328, 0.7071, 0.8183],\n",
    "[0.0234, 0.7103, 0.8124],\n",
    "[0.0155, 0.7133, 0.8064],\n",
    "[0.0091, 0.7163, 0.8003],\n",
    "[0.0046, 0.7192, 0.7941],\n",
    "[0.0019, 0.722, 0.7878],\n",
    "[0.0009, 0.7248, 0.7815],\n",
    "[0.0018, 0.7275, 0.7752],\n",
    "[0.0046, 0.7301, 0.7688],\n",
    "[0.0094, 0.7327, 0.7623],\n",
    "[0.0162, 0.7352, 0.7558],\n",
    "[0.0253, 0.7376, 0.7492],\n",
    "[0.0369, 0.74, 0.7426],\n",
    "[0.0504, 0.7423, 0.7359],\n",
    "[0.0638, 0.7446, 0.7292],\n",
    "[0.077, 0.7468, 0.7224],\n",
    "[0.0899, 0.7489, 0.7156],\n",
    "[0.1023, 0.751, 0.7088],\n",
    "[0.1141, 0.7531, 0.7019],\n",
    "[0.1252, 0.7552, 0.695],\n",
    "[0.1354, 0.7572, 0.6881],\n",
    "[0.1448, 0.7593, 0.6812],\n",
    "[0.1532, 0.7614, 0.6741],\n",
    "[0.1609, 0.7635, 0.6671],\n",
    "[0.1678, 0.7656, 0.6599],\n",
    "[0.1741, 0.7678, 0.6527],\n",
    "[0.1799, 0.7699, 0.6454],\n",
    "[0.1853, 0.7721, 0.6379],\n",
    "[0.1905, 0.7743, 0.6303],\n",
    "[0.1954, 0.7765, 0.6225],\n",
    "[0.2003, 0.7787, 0.6146],\n",
    "[0.2061, 0.7808, 0.6065],\n",
    "[0.2118, 0.7828, 0.5983],\n",
    "[0.2178, 0.7849, 0.5899],\n",
    "[0.2244, 0.7869, 0.5813],\n",
    "[0.2318, 0.7887, 0.5725],\n",
    "[0.2401, 0.7905, 0.5636],\n",
    "[0.2491, 0.7922, 0.5546],\n",
    "[0.2589, 0.7937, 0.5454],\n",
    "[0.2695, 0.7951, 0.536],\n",
    "[0.2809, 0.7964, 0.5266],\n",
    "[0.2929, 0.7975, 0.517],\n",
    "[0.3052, 0.7985, 0.5074],\n",
    "[0.3176, 0.7994, 0.4975],\n",
    "[0.3301, 0.8002, 0.4876],\n",
    "[0.3424, 0.8009, 0.4774],\n",
    "[0.3548, 0.8016, 0.4669],\n",
    "[0.3671, 0.8021, 0.4563],\n",
    "[0.3795, 0.8026, 0.4454],\n",
    "[0.3921, 0.8029, 0.4344],\n",
    "[0.405, 0.8031, 0.4233],\n",
    "[0.4184, 0.803, 0.4122],\n",
    "[0.4322, 0.8028, 0.4013],\n",
    "[0.4463, 0.8024, 0.3904],\n",
    "[0.4608, 0.8018, 0.3797],\n",
    "[0.4753, 0.8011, 0.3691],\n",
    "[0.4899, 0.8002, 0.3586],\n",
    "[0.5044, 0.7993, 0.348],\n",
    "[0.5187, 0.7982, 0.3374],\n",
    "[0.5329, 0.797, 0.3267],\n",
    "[0.547, 0.7957, 0.3159],\n",
    "[0.5609, 0.7943, 0.305],\n",
    "[0.5748, 0.7929, 0.2941],\n",
    "[0.5886, 0.7913, 0.2833],\n",
    "[0.6024, 0.7896, 0.2726],\n",
    "[0.6161, 0.7878, 0.2622],\n",
    "[0.6297, 0.7859, 0.2521],\n",
    "[0.6433, 0.7839, 0.2423],\n",
    "[0.6567, 0.7818, 0.2329],\n",
    "[0.6701, 0.7796, 0.2239],\n",
    "[0.6833, 0.7773, 0.2155],\n",
    "[0.6963, 0.775, 0.2075],\n",
    "[0.7091, 0.7727, 0.1998],\n",
    "[0.7218, 0.7703, 0.1924],\n",
    "[0.7344, 0.7679, 0.1852],\n",
    "[0.7468, 0.7654, 0.1782],\n",
    "[0.759, 0.7629, 0.1717],\n",
    "[0.771, 0.7604, 0.1658],\n",
    "[0.7829, 0.7579, 0.1608],\n",
    "[0.7945, 0.7554, 0.157],\n",
    "[0.806, 0.7529, 0.1546],\n",
    "[0.8172, 0.7505, 0.1535],\n",
    "[0.8281, 0.7481, 0.1536],\n",
    "[0.8389, 0.7457, 0.1546],\n",
    "[0.8495, 0.7435, 0.1564],\n",
    "[0.86, 0.7413, 0.1587],\n",
    "[0.8703, 0.7392, 0.1615],\n",
    "[0.8804, 0.7372, 0.165],\n",
    "[0.8903, 0.7353, 0.1695],\n",
    "[0.9, 0.7336, 0.1749],\n",
    "[0.9093, 0.7321, 0.1815],\n",
    "[0.9184, 0.7308, 0.189],\n",
    "[0.9272, 0.7298, 0.1973],\n",
    "[0.9357, 0.729, 0.2061],\n",
    "[0.944, 0.7285, 0.2151],\n",
    "[0.9523, 0.7284, 0.2237],\n",
    "[0.9606, 0.7285, 0.2312],\n",
    "[0.9689, 0.7292, 0.2373],\n",
    "[0.977, 0.7304, 0.2418],\n",
    "[0.9842, 0.733, 0.2446],\n",
    "[0.99, 0.7365, 0.2429],\n",
    "[0.9946, 0.7407, 0.2394],\n",
    "[0.9966, 0.7458, 0.2351],\n",
    "[0.9971, 0.7513, 0.2309],\n",
    "[0.9972, 0.7569, 0.2267],\n",
    "[0.9971, 0.7626, 0.2224],\n",
    "[0.9969, 0.7683, 0.2181],\n",
    "[0.9966, 0.774, 0.2138],\n",
    "[0.9962, 0.7798, 0.2095],\n",
    "[0.9957, 0.7856, 0.2053],\n",
    "[0.9949, 0.7915, 0.2012],\n",
    "[0.9938, 0.7974, 0.1974],\n",
    "[0.9923, 0.8034, 0.1939],\n",
    "[0.9906, 0.8095, 0.1906],\n",
    "[0.9885, 0.8156, 0.1875],\n",
    "[0.9861, 0.8218, 0.1846],\n",
    "[0.9835, 0.828, 0.1817],\n",
    "[0.9807, 0.8342, 0.1787],\n",
    "[0.9778, 0.8404, 0.1757],\n",
    "[0.9748, 0.8467, 0.1726],\n",
    "[0.972, 0.8529, 0.1695],\n",
    "[0.9694, 0.8591, 0.1665],\n",
    "[0.9671, 0.8654, 0.1636],\n",
    "[0.9651, 0.8716, 0.1608],\n",
    "[0.9634, 0.8778, 0.1582],\n",
    "[0.9619, 0.884, 0.1557],\n",
    "[0.9608, 0.8902, 0.1532],\n",
    "[0.9601, 0.8963, 0.1507],\n",
    "[0.9596, 0.9023, 0.148],\n",
    "[0.9595, 0.9084, 0.145],\n",
    "[0.9597, 0.9143, 0.1418],\n",
    "[0.9601, 0.9203, 0.1382],\n",
    "[0.9608, 0.9262, 0.1344],\n",
    "[0.9618, 0.932, 0.1304],\n",
    "[0.9629, 0.9379, 0.1261],\n",
    "[0.9642, 0.9437, 0.1216],\n",
    "[0.9657, 0.9494, 0.1168],\n",
    "[0.9674, 0.9552, 0.1116],\n",
    "[0.9692, 0.9609, 0.1061],\n",
    "[0.9711, 0.9667, 0.1001],\n",
    "[0.973, 0.9724, 0.0938],\n",
    "[0.9749, 0.9782, 0.0872],\n",
    "[0.9769, 0.9839, 0.0805]]"
   ]
  },
  {
   "cell_type": "code",
   "execution_count": null,
   "id": "7d07ff70-470b-49a7-b592-0f458f12a8bf",
   "metadata": {},
   "outputs": [],
   "source": []
  },
  {
   "cell_type": "code",
   "execution_count": 61,
   "id": "6c3f836b-1fba-43cf-bd63-8f311c372da3",
   "metadata": {
    "tags": []
   },
   "outputs": [],
   "source": [
    "parula_map = mpl.colors.LinearSegmentedColormap.from_list('parula', cm_data)"
   ]
  },
  {
   "cell_type": "code",
   "execution_count": 88,
   "id": "07f093d8-1e96-4160-88d1-b704bc9b2dd3",
   "metadata": {},
   "outputs": [
    {
     "data": {
      "image/png": "[encoded data removed]",
      "text/html": [
       "<div style=\"vertical-align: middle;\"><strong>parula</strong> </div><div class=\"cmap\"><img alt=\"parula colormap\" title=\"parula\" style=\"border: 1px solid #555;\" src=\"data:image/png;base64,iVBORw0KGgoAAAANSUhEUgAAAgAAAABACAYAAABsv8+/AAAAFXRFWHRUaXRsZQBwYXJ1bGEgY29sb3JtYXDWRS4zAAAAG3RFWHREZXNjcmlwdGlvbgBwYXJ1bGEgY29sb3JtYXCf0jbXAAAAMHRFWHRBdXRob3IATWF0cGxvdGxpYiB2My44LjAsIGh0dHBzOi8vbWF0cGxvdGxpYi5vcmefc/hPAAAAMnRFWHRTb2Z0d2FyZQBNYXRwbG90bGliIHYzLjguMCwgaHR0cHM6Ly9tYXRwbG90bGliLm9yZ7HVZ2gAAAJ9SURBVHic7dZLsuMgEARAhHyWucXcdy5pMwsDDmET9r4yN4puWhLvI6KOv3/+tVJKOY6zlFJK6dej9Lr2eq7X8nH+y/prri79db6v17rMX/uzPo5eXuuy1vP+Y5lb6l3/x7nWy/f7S1+/1rv7Rt3m3Kg/rz9+rttP9Ws/o27Lvtd+u/TL0m9rf9y/WV/78+fdzL3tZzt/7W+fe6xzu319vj5m/XjW5dq/j/5S38f95bE893G5ljL2+6yPPnf0++oxrs/+2ftn799mfV2/Hde52t/zqj+vH8v6rv51rs6f477Uj8t+a7lf9nOOulzr25f19Xpb5m6b9dv6nvatvzynfZ6b713qsy37aY9lvn3sz3qsj79rW66l9Pp5rUt99g+r9g/kHNfRn+u192vv10t/1v2N4745P8718bzx/z2P8/4d/Hj+7M6Lb+vzvNjMteXc3J2Xb+fkrr85Z48v+15/H6/563c17nt9ZwBAHAEAAAIJAAAQSAAAgEACAAAEEgAAIJAAAACBBAAACCQAAEAgAQAAAgkAABBIAACAQAIAAAQSAAAgkAAAAIEEAAAIJAAAQCABAAACCQAAEEgAAIBAAgAABBIAACCQAAAAgQQAAAgkAABAIAEAAAIJAAAQSAAAgEACAAAEEgAAIJAAAACBBAAACCQAAEAgAQAAAgkAABBIAACAQAIAAAQSAAAgkAAAAIEEAAAIJAAAQCABAAACCQAAEEgAAIBAAgAABBIAACCQAAAAgQQAAAgkAABAIAEAAAIJAAAQSAAAgEACAAAEEgAAIJAAAACBBAAACCQAAEAgAQAAAgkAABBIAACAQAIAAAQSAAAgkAAAAIH+A3q394YrZPXUAAAAAElFTkSuQmCC\"></div><div style=\"vertical-align: middle; max-width: 514px; display: flex; justify-content: space-between;\"><div style=\"float: left;\"><div title=\"#3e26a8ff\" style=\"display: inline-block; width: 1em; height: 1em; margin: 0; vertical-align: middle; border: 1px solid #555; background-color: #3e26a8ff;\"></div> under</div><div style=\"margin: 0 auto; display: inline-block;\">bad <div title=\"#00000000\" style=\"display: inline-block; width: 1em; height: 1em; margin: 0; vertical-align: middle; border: 1px solid #555; background-color: #00000000;\"></div></div><div style=\"float: right;\">over <div title=\"#f9fb15ff\" style=\"display: inline-block; width: 1em; height: 1em; margin: 0; vertical-align: middle; border: 1px solid #555; background-color: #f9fb15ff;\"></div></div>"
      ],
      "text/plain": [
       "<matplotlib.colors.LinearSegmentedColormap at 0x7f18546cdd80>"
      ]
     },
     "execution_count": 88,
     "metadata": {},
     "output_type": "execute_result"
    }
   ],
   "source": [
    "parula_map"
   ]
  },
  {
   "cell_type": "code",
   "execution_count": 111,
   "id": "3b35e57b-7c83-4c95-a032-c103ac6cc3f2",
   "metadata": {
    "tags": []
   },
   "outputs": [],
   "source": [
    "SAMPLES=256\n",
    "\n",
    "protland = px.colors.sample_colorscale(px.colors.diverging.Portland, 256, low=0.2, high=1)\n",
    "rgb = [px.colors.unconvert_from_RGB_255(px.colors.unlabel_rgb(c)) for c in protland]\n",
    "\n",
    "portland_map = mpl.colors.ListedColormap(rgb, name='Portland', N=256)"
   ]
  },
  {
   "cell_type": "code",
   "execution_count": 112,
   "id": "719e0f79-6ccc-487c-b8a8-9657206fe9a3",
   "metadata": {
    "tags": []
   },
   "outputs": [
    {
     "data": {
      "image/png": "[encoded data removed]",
      "text/html": [
       "<div style=\"vertical-align: middle;\"><strong>Portland</strong> </div><div class=\"cmap\"><img alt=\"Portland colormap\" title=\"Portland\" style=\"border: 1px solid #555;\" src=\"data:image/png;base64,iVBORw0KGgoAAAANSUhEUgAAAgAAAABACAYAAABsv8+/AAAAF3RFWHRUaXRsZQBQb3J0bGFuZCBjb2xvcm1hcH0OrYsAAAAddEVYdERlc2NyaXB0aW9uAFBvcnRsYW5kIGNvbG9ybWFwVHBKogAAADB0RVh0QXV0aG9yAE1hdHBsb3RsaWIgdjMuOC4wLCBodHRwczovL21hdHBsb3RsaWIub3Jnn3P4TwAAADJ0RVh0U29mdHdhcmUATWF0cGxvdGxpYiB2My44LjAsIGh0dHBzOi8vbWF0cGxvdGxpYi5vcmex1WdoAAABzklEQVR4nO3WQW6jMABAUSfd9cI91twQuihSFdOUkGqk6fz3NgQHGxOy+JfXtz/rGGOMy2V8HMe4PT8Yvz45bxp/uSzbcZ3Ovx+/zuPj3Pz9+Lqt++z8e/u4Pb8+ua+j63brjr+07tn9j++v373Hs7/3o+9xzM/1cb4NHx/Hg9f9tnn/+v7+899jXbcPy/T9sm7fH4xP89bl6//1bnyZ7r9bb7vPj/d1Z50n1/98ntt1Pp/nYHxe5+T6p+c9ut8H93X03u79n+b3fx0AQI4AAIAgAQAAQQIAAIIEAAAECQAACBIAABAkAAAgSAAAQJAAAIAgAQAAQQIAAIIEAAAECQAACBIAABAkAAAgSAAAQJAAAIAgAQAAQQIAAIIEAAAECQAACBIAABAkAAAgSAAAQJAAAIAgAQAAQQIAAIIEAAAECQAACBIAABAkAAAgSAAAQJAAAIAgAQAAQQIAAIIEAAAECQAACBIAABAkAAAgSAAAQJAAAIAgAQAAQQIAAIIEAAAECQAACBIAABAkAAAgSAAAQJAAAIAgAQAAQQIAAIIEAAAECQAACBIAABAkAAAgSAAAQJAAAIAgAQAAQQIAAIIEAAAECQAACBIAABD0DgWLGaNjtZHaAAAAAElFTkSuQmCC\"></div><div style=\"vertical-align: middle; max-width: 514px; display: flex; justify-content: space-between;\"><div style=\"float: left;\"><div title=\"#0a77afff\" style=\"display: inline-block; width: 1em; height: 1em; margin: 0; vertical-align: middle; border: 1px solid #555; background-color: #0a77afff;\"></div> under</div><div style=\"margin: 0 auto; display: inline-block;\">bad <div title=\"#00000000\" style=\"display: inline-block; width: 1em; height: 1em; margin: 0; vertical-align: middle; border: 1px solid #555; background-color: #00000000;\"></div></div><div style=\"float: right;\">over <div title=\"#d91e1eff\" style=\"display: inline-block; width: 1em; height: 1em; margin: 0; vertical-align: middle; border: 1px solid #555; background-color: #d91e1eff;\"></div></div>"
      ],
      "text/plain": [
       "<matplotlib.colors.ListedColormap at 0x7f18312ca080>"
      ]
     },
     "execution_count": 112,
     "metadata": {},
     "output_type": "execute_result"
    }
   ],
   "source": [
    "portland_map"
   ]
  },
  {
   "cell_type": "code",
   "execution_count": null,
   "id": "f7ba7c51-74cb-4b2b-94dc-49d3efcb34d5",
   "metadata": {
    "tags": []
   },
   "outputs": [],
   "source": []
  },
  {
   "cell_type": "code",
   "execution_count": null,
   "id": "26428498-9281-4cd8-bdb0-6a97c96ec056",
   "metadata": {},
   "outputs": [],
   "source": []
  },
  {
   "cell_type": "code",
   "execution_count": 121,
   "id": "14fa4ebb-9cce-4c38-8676-f08f220ba2d7",
   "metadata": {
    "tags": []
   },
   "outputs": [
    {
     "name": "stderr",
     "output_type": "stream",
     "text": [
      "/scratch/derek/ipykernel_1149726/364012772.py:40: UserWarning: set_ticklabels() should only be used with a fixed number of ticks, i.e. after set_ticks() or using a FixedLocator.\n",
      "  ax[0].set_xticklabels(['-1','0','1','2','3','4','5'],fontsize=12)\n",
      "/scratch/derek/ipykernel_1149726/364012772.py:41: UserWarning: set_ticklabels() should only be used with a fixed number of ticks, i.e. after set_ticks() or using a FixedLocator.\n",
      "  ax[0].set_yticklabels(['0','1','2','3','4','5'], fontsize=12)\n"
     ]
    },
    {
     "data": {
      "image/png": "[encoded data removed]",
      "text/plain": [
       "<Figure size 600x400 with 2 Axes>"
      ]
     },
     "metadata": {},
     "output_type": "display_data"
    }
   ],
   "source": [
    "plt.rcParams['figure.figsize'] = 6,4\n",
    "fig, ax = plt.subplots(1,2, gridspec_kw={'width_ratios':[5,1]})\n",
    "\n",
    "cmap = portland_map\n",
    "\n",
    "sm = sns.scatterplot(data=df_collisions.sort_values(by ='True_rate',ascending=True),\n",
    "                x=df_collisions.means, \n",
    "                y=np.log10(df_collisions.length_median),\n",
    "                s=20,\n",
    "                linewidth=0,\n",
    "                hue=df_collisions.True_rate,\n",
    "                palette=cmap,\n",
    "                alpha=1,\n",
    "                ax=ax[0],\n",
    "               )\n",
    "\n",
    "\n",
    "\n",
    "norm = plt.Normalize(df_collisions['True_rate'].min(), df_collisions['True_rate'].max())\n",
    "sm = plt.cm.ScalarMappable(cmap=cmap,norm=norm)\n",
    "sm.set_array([])\n",
    "\n",
    "ax[0].get_legend().remove()\n",
    "\n",
    "fig.figure.colorbar(sm,shrink=.25,aspect=6,\n",
    "                     #orientation='horizontal',\n",
    "                     label='mean percent collisions',\n",
    "                     cax=ax[1]\n",
    "                     )\n",
    "\n",
    "# axes.spines.right.set_visible(False)\n",
    "# axes.spines.top.set_visible(False)\n",
    "\n",
    "# axes.spines.bottom.set_linewidth(1)\n",
    "# axes.spines.left.set_linewidth(1)\n",
    "\n",
    "ax[0].set_xlabel('mean expression \\n (log normalized)',fontsize=12)\n",
    "ax[0].set_ylabel('log$_{10}$ transcript length (bp)',fontsize=12)\n",
    "\n",
    "ax[0].set_xticklabels(['-1','0','1','2','3','4','5'],fontsize=12)\n",
    "ax[0].set_yticklabels(['0','1','2','3','4','5'], fontsize=12)\n",
    "\n",
    "\n",
    "fig.savefig('plots/collision_rates_length_2.pdf')"
   ]
  },
  {
   "cell_type": "code",
   "execution_count": null,
   "id": "a8ba28a1-07c6-4148-9af6-729ce3fc9a06",
   "metadata": {},
   "outputs": [],
   "source": []
  },
  {
   "cell_type": "code",
   "execution_count": 115,
   "id": "3ab3134e-acf6-41ae-a511-e37cf03bca95",
   "metadata": {
    "tags": []
   },
   "outputs": [
    {
     "ename": "ValueError",
     "evalue": "Unable to determine Axes to steal space for Colorbar. Either provide the *cax* argument to use as the Axes for the Colorbar, provide the *ax* argument to steal space from it, or add *mappable* to an Axes.",
     "output_type": "error",
     "traceback": [
      "\u001b[0;31m---------------------------------------------------------------------------\u001b[0m",
      "\u001b[0;31mValueError\u001b[0m                                Traceback (most recent call last)",
      "Cell \u001b[0;32mIn[115], line 46\u001b[0m\n\u001b[1;32m     43\u001b[0m \u001b[38;5;66;03m### format Axes ####\u001b[39;00m\n\u001b[1;32m     45\u001b[0m axes\u001b[38;5;241m.\u001b[39mget_legend()\u001b[38;5;241m.\u001b[39mremove()\n\u001b[0;32m---> 46\u001b[0m \u001b[43maxes\u001b[49m\u001b[38;5;241;43m.\u001b[39;49m\u001b[43mfigure\u001b[49m\u001b[38;5;241;43m.\u001b[39;49m\u001b[43mcolorbar\u001b[49m\u001b[43m(\u001b[49m\u001b[43msm\u001b[49m\u001b[43m,\u001b[49m\u001b[43mshrink\u001b[49m\u001b[38;5;241;43m=\u001b[39;49m\u001b[38;5;241;43m.25\u001b[39;49m\u001b[43m,\u001b[49m\u001b[43maspect\u001b[49m\u001b[38;5;241;43m=\u001b[39;49m\u001b[38;5;241;43m6\u001b[39;49m\u001b[43m,\u001b[49m\n\u001b[1;32m     47\u001b[0m \u001b[43m                     \u001b[49m\u001b[43morientation\u001b[49m\u001b[38;5;241;43m=\u001b[39;49m\u001b[38;5;124;43m'\u001b[39;49m\u001b[38;5;124;43mhorizontal\u001b[39;49m\u001b[38;5;124;43m'\u001b[39;49m\u001b[43m,\u001b[49m\n\u001b[1;32m     48\u001b[0m \u001b[43m                     \u001b[49m\u001b[43mlabel\u001b[49m\u001b[38;5;241;43m=\u001b[39;49m\u001b[38;5;124;43m'\u001b[39;49m\u001b[38;5;124;43mmean percent collisions\u001b[39;49m\u001b[38;5;124;43m'\u001b[39;49m\u001b[43m)\u001b[49m\n\u001b[1;32m     52\u001b[0m axes\u001b[38;5;241m.\u001b[39mspines\u001b[38;5;241m.\u001b[39mright\u001b[38;5;241m.\u001b[39mset_visible(\u001b[38;5;28;01mFalse\u001b[39;00m)\n\u001b[1;32m     53\u001b[0m axes\u001b[38;5;241m.\u001b[39mspines\u001b[38;5;241m.\u001b[39mtop\u001b[38;5;241m.\u001b[39mset_visible(\u001b[38;5;28;01mFalse\u001b[39;00m)\n",
      "File \u001b[0;32m~/miniconda3/envs/scquint_4/lib/python3.10/site-packages/matplotlib/figure.py:1285\u001b[0m, in \u001b[0;36mFigureBase.colorbar\u001b[0;34m(self, mappable, cax, ax, use_gridspec, **kwargs)\u001b[0m\n\u001b[1;32m   1283\u001b[0m \u001b[38;5;28;01mif\u001b[39;00m cax \u001b[38;5;129;01mis\u001b[39;00m \u001b[38;5;28;01mNone\u001b[39;00m:\n\u001b[1;32m   1284\u001b[0m     \u001b[38;5;28;01mif\u001b[39;00m ax \u001b[38;5;129;01mis\u001b[39;00m \u001b[38;5;28;01mNone\u001b[39;00m:\n\u001b[0;32m-> 1285\u001b[0m         \u001b[38;5;28;01mraise\u001b[39;00m \u001b[38;5;167;01mValueError\u001b[39;00m(\n\u001b[1;32m   1286\u001b[0m             \u001b[38;5;124m'\u001b[39m\u001b[38;5;124mUnable to determine Axes to steal space for Colorbar. \u001b[39m\u001b[38;5;124m'\u001b[39m\n\u001b[1;32m   1287\u001b[0m             \u001b[38;5;124m'\u001b[39m\u001b[38;5;124mEither provide the *cax* argument to use as the Axes for \u001b[39m\u001b[38;5;124m'\u001b[39m\n\u001b[1;32m   1288\u001b[0m             \u001b[38;5;124m'\u001b[39m\u001b[38;5;124mthe Colorbar, provide the *ax* argument to steal space \u001b[39m\u001b[38;5;124m'\u001b[39m\n\u001b[1;32m   1289\u001b[0m             \u001b[38;5;124m'\u001b[39m\u001b[38;5;124mfrom it, or add *mappable* to an Axes.\u001b[39m\u001b[38;5;124m'\u001b[39m)\n\u001b[1;32m   1290\u001b[0m     fig \u001b[38;5;241m=\u001b[39m (  \u001b[38;5;66;03m# Figure of first axes; logic copied from make_axes.\u001b[39;00m\n\u001b[1;32m   1291\u001b[0m         [\u001b[38;5;241m*\u001b[39max\u001b[38;5;241m.\u001b[39mflat] \u001b[38;5;28;01mif\u001b[39;00m \u001b[38;5;28misinstance\u001b[39m(ax, np\u001b[38;5;241m.\u001b[39mndarray)\n\u001b[1;32m   1292\u001b[0m         \u001b[38;5;28;01melse\u001b[39;00m [\u001b[38;5;241m*\u001b[39max] \u001b[38;5;28;01mif\u001b[39;00m np\u001b[38;5;241m.\u001b[39miterable(ax)\n\u001b[1;32m   1293\u001b[0m         \u001b[38;5;28;01melse\u001b[39;00m [ax])[\u001b[38;5;241m0\u001b[39m]\u001b[38;5;241m.\u001b[39mfigure\n\u001b[1;32m   1294\u001b[0m     current_ax \u001b[38;5;241m=\u001b[39m fig\u001b[38;5;241m.\u001b[39mgca()\n",
      "\u001b[0;31mValueError\u001b[0m: Unable to determine Axes to steal space for Colorbar. Either provide the *cax* argument to use as the Axes for the Colorbar, provide the *ax* argument to steal space from it, or add *mappable* to an Axes."
     ]
    },
    {
     "data": {
      "image/png": "[encoded data removed]",
      "text/plain": [
       "<Figure size 500x700 with 1 Axes>"
      ]
     },
     "metadata": {},
     "output_type": "display_data"
    }
   ],
   "source": [
    "fig, axes = plt.subplots(1,1, figsize = (5,7))\n",
    "\n",
    "sm = sns.scatterplot(data=df_collisions.sort_values(by ='True_rate',ascending=True),\n",
    "                x=df_collisions.means, \n",
    "                y=np.log10(df_collisions.length_median),\n",
    "                s=20,\n",
    "                linewidth=0,\n",
    "                hue=df_collisions.True_rate,\n",
    "                palette='Spectral_r',\n",
    "                alpha=1,\n",
    "                ax=axes,\n",
    "               )\n",
    "\n",
    "\n",
    "\n",
    "### make point labels ####\n",
    "\n",
    "\n",
    "for line in range((df_collisions.sort_values(by ='True_rate',ascending=True).shape[0]-15),\n",
    "                  df_collisions.sort_values(by ='True_rate',ascending=True).shape[0]\n",
    "                 ):\n",
    "    \n",
    "    sm.text(x=df_collisions.sort_values(by ='True_rate',ascending=True).means[line]+0.01,\n",
    "             y=np.log10(df_collisions.sort_values(by ='True_rate',ascending=True).length_median[line]), \n",
    "             s = df_collisions.sort_values(by ='True_rate',ascending=True).gene_name[line],\n",
    "             horizontalalignment='left', \n",
    "             \n",
    "             size='medium', \n",
    "             color='black', \n",
    "             # weight='semibold'\n",
    "            )\n",
    "    \n",
    "\n",
    "### make colorbar ####\n",
    "\n",
    "    \n",
    "norm = plt.Normalize(df_collisions['True_rate'].min(), df_collisions['True_rate'].max())\n",
    "sm = plt.cm.ScalarMappable(cmap=\"Spectral_r\",norm=norm)\n",
    "sm.set_array([])\n",
    "\n",
    "\n",
    "\n",
    "### format Axes ####\n",
    "\n",
    "axes.get_legend().remove()\n",
    "axes.figure.colorbar(sm,shrink=.25,aspect=6,\n",
    "                     orientation='horizontal',\n",
    "                     label='mean percent collisions')\n",
    "\n",
    "\n",
    "\n",
    "axes.spines.right.set_visible(False)\n",
    "axes.spines.top.set_visible(False)\n",
    "\n",
    "axes.spines.bottom.set_linewidth(1)\n",
    "axes.spines.left.set_linewidth(1)\n",
    "\n",
    "\n",
    "axes.set_xlabel('mean expression \\n (log normalized)',fontsize=12)\n",
    "axes.set_ylabel('log$_{10}$ transcript length (bp)',fontsize=12)\n",
    "\n",
    "axes.set_xticklabels(['-1','0','1','2','3','4','5'],fontsize=12)\n",
    "axes.set_yticklabels(['0','1','2','3','4','5'], fontsize=12)\n",
    "\n",
    "\n",
    "# fig.savefig('./plots/collision_rates_length.pdf')"
   ]
  },
  {
   "cell_type": "code",
   "execution_count": null,
   "id": "4ab7c3fc-3ba7-4c81-8274-7d2f6753ad62",
   "metadata": {},
   "outputs": [],
   "source": []
  },
  {
   "cell_type": "code",
   "execution_count": null,
   "id": "aad129e9-622d-444a-8b3c-38fde5345329",
   "metadata": {},
   "outputs": [],
   "source": [
    "df_collisions[df_collisions.gene_name == 'MALAT1']"
   ]
  },
  {
   "cell_type": "code",
   "execution_count": null,
   "id": "dd411427-4c05-4e5f-93e9-d421418e16da",
   "metadata": {},
   "outputs": [],
   "source": []
  },
  {
   "cell_type": "code",
   "execution_count": 116,
   "id": "2cffea8c-db7e-4e0d-a72d-154db1bbe372",
   "metadata": {},
   "outputs": [
    {
     "ename": "ValueError",
     "evalue": "Unable to determine Axes to steal space for Colorbar. Either provide the *cax* argument to use as the Axes for the Colorbar, provide the *ax* argument to steal space from it, or add *mappable* to an Axes.",
     "output_type": "error",
     "traceback": [
      "\u001b[0;31m---------------------------------------------------------------------------\u001b[0m",
      "\u001b[0;31mValueError\u001b[0m                                Traceback (most recent call last)",
      "Cell \u001b[0;32mIn[116], line 23\u001b[0m\n\u001b[1;32m     19\u001b[0m sm\u001b[38;5;241m.\u001b[39mset_array([])\n\u001b[1;32m     22\u001b[0m axes\u001b[38;5;241m.\u001b[39mget_legend()\u001b[38;5;241m.\u001b[39mremove()\n\u001b[0;32m---> 23\u001b[0m \u001b[43maxes\u001b[49m\u001b[38;5;241;43m.\u001b[39;49m\u001b[43mfigure\u001b[49m\u001b[38;5;241;43m.\u001b[39;49m\u001b[43mcolorbar\u001b[49m\u001b[43m(\u001b[49m\u001b[43msm\u001b[49m\u001b[43m,\u001b[49m\u001b[43mshrink\u001b[49m\u001b[38;5;241;43m=\u001b[39;49m\u001b[38;5;241;43m.25\u001b[39;49m\u001b[43m,\u001b[49m\u001b[43maspect\u001b[49m\u001b[38;5;241;43m=\u001b[39;49m\u001b[38;5;241;43m6\u001b[39;49m\u001b[43m,\u001b[49m\n\u001b[1;32m     24\u001b[0m \u001b[43m                    \u001b[49m\u001b[38;5;66;43;03m# orientation='horizontal',\u001b[39;49;00m\n\u001b[1;32m     25\u001b[0m \u001b[43m                     \u001b[49m\u001b[43mlabel\u001b[49m\u001b[38;5;241;43m=\u001b[39;49m\u001b[38;5;124;43m'\u001b[39;49m\u001b[38;5;124;43mmean percent collisions\u001b[39;49m\u001b[38;5;124;43m'\u001b[39;49m\u001b[43m,\u001b[49m\n\u001b[1;32m     26\u001b[0m \u001b[43m                    \u001b[49m\u001b[43mextend\u001b[49m\u001b[38;5;241;43m=\u001b[39;49m\u001b[38;5;124;43m'\u001b[39;49m\u001b[38;5;124;43mmax\u001b[39;49m\u001b[38;5;124;43m'\u001b[39;49m\u001b[43m,\u001b[49m\n\u001b[1;32m     27\u001b[0m \u001b[43m                     \u001b[49m\u001b[43mextendfrac\u001b[49m\u001b[38;5;241;43m=\u001b[39;49m\u001b[38;5;241;43m.2\u001b[39;49m\n\u001b[1;32m     28\u001b[0m \u001b[43m                    \u001b[49m\u001b[43m)\u001b[49m\n\u001b[1;32m     30\u001b[0m \u001b[38;5;66;03m# axes.spines.right.set_visible(False)\u001b[39;00m\n\u001b[1;32m     31\u001b[0m \u001b[38;5;66;03m# axes.spines.top.set_visible(False)\u001b[39;00m\n\u001b[1;32m     32\u001b[0m \n\u001b[1;32m     33\u001b[0m \u001b[38;5;66;03m# axes.spines.bottom.set_linewidth(1)\u001b[39;00m\n\u001b[1;32m     34\u001b[0m \u001b[38;5;66;03m# axes.spines.left.set_linewidth(1)\u001b[39;00m\n\u001b[1;32m     36\u001b[0m axes\u001b[38;5;241m.\u001b[39mset_xlabel(\u001b[38;5;124m'\u001b[39m\u001b[38;5;124mmean expression \u001b[39m\u001b[38;5;130;01m\\n\u001b[39;00m\u001b[38;5;124m (normalized)\u001b[39m\u001b[38;5;124m'\u001b[39m)\n",
      "File \u001b[0;32m~/miniconda3/envs/scquint_4/lib/python3.10/site-packages/matplotlib/figure.py:1285\u001b[0m, in \u001b[0;36mFigureBase.colorbar\u001b[0;34m(self, mappable, cax, ax, use_gridspec, **kwargs)\u001b[0m\n\u001b[1;32m   1283\u001b[0m \u001b[38;5;28;01mif\u001b[39;00m cax \u001b[38;5;129;01mis\u001b[39;00m \u001b[38;5;28;01mNone\u001b[39;00m:\n\u001b[1;32m   1284\u001b[0m     \u001b[38;5;28;01mif\u001b[39;00m ax \u001b[38;5;129;01mis\u001b[39;00m \u001b[38;5;28;01mNone\u001b[39;00m:\n\u001b[0;32m-> 1285\u001b[0m         \u001b[38;5;28;01mraise\u001b[39;00m \u001b[38;5;167;01mValueError\u001b[39;00m(\n\u001b[1;32m   1286\u001b[0m             \u001b[38;5;124m'\u001b[39m\u001b[38;5;124mUnable to determine Axes to steal space for Colorbar. \u001b[39m\u001b[38;5;124m'\u001b[39m\n\u001b[1;32m   1287\u001b[0m             \u001b[38;5;124m'\u001b[39m\u001b[38;5;124mEither provide the *cax* argument to use as the Axes for \u001b[39m\u001b[38;5;124m'\u001b[39m\n\u001b[1;32m   1288\u001b[0m             \u001b[38;5;124m'\u001b[39m\u001b[38;5;124mthe Colorbar, provide the *ax* argument to steal space \u001b[39m\u001b[38;5;124m'\u001b[39m\n\u001b[1;32m   1289\u001b[0m             \u001b[38;5;124m'\u001b[39m\u001b[38;5;124mfrom it, or add *mappable* to an Axes.\u001b[39m\u001b[38;5;124m'\u001b[39m)\n\u001b[1;32m   1290\u001b[0m     fig \u001b[38;5;241m=\u001b[39m (  \u001b[38;5;66;03m# Figure of first axes; logic copied from make_axes.\u001b[39;00m\n\u001b[1;32m   1291\u001b[0m         [\u001b[38;5;241m*\u001b[39max\u001b[38;5;241m.\u001b[39mflat] \u001b[38;5;28;01mif\u001b[39;00m \u001b[38;5;28misinstance\u001b[39m(ax, np\u001b[38;5;241m.\u001b[39mndarray)\n\u001b[1;32m   1292\u001b[0m         \u001b[38;5;28;01melse\u001b[39;00m [\u001b[38;5;241m*\u001b[39max] \u001b[38;5;28;01mif\u001b[39;00m np\u001b[38;5;241m.\u001b[39miterable(ax)\n\u001b[1;32m   1293\u001b[0m         \u001b[38;5;28;01melse\u001b[39;00m [ax])[\u001b[38;5;241m0\u001b[39m]\u001b[38;5;241m.\u001b[39mfigure\n\u001b[1;32m   1294\u001b[0m     current_ax \u001b[38;5;241m=\u001b[39m fig\u001b[38;5;241m.\u001b[39mgca()\n",
      "\u001b[0;31mValueError\u001b[0m: Unable to determine Axes to steal space for Colorbar. Either provide the *cax* argument to use as the Axes for the Colorbar, provide the *ax* argument to steal space from it, or add *mappable* to an Axes."
     ]
    },
    {
     "data": {
      "image/png": "[encoded data removed]",
      "text/plain": [
       "<Figure size 500x400 with 1 Axes>"
      ]
     },
     "metadata": {},
     "output_type": "display_data"
    }
   ],
   "source": [
    "plt.rcParams['figure.figsize'] = 5,4\n",
    "fig, axes = plt.subplots(1,1)\n",
    "\n",
    "sm = sns.scatterplot(data=df_collisions,\n",
    "                x=df_collisions.means, \n",
    "                y=np.log10(df_collisions.length_median),\n",
    "                s=25,\n",
    "                linewidth=0,\n",
    "                hue=df_collisions.True_clipped,\n",
    "                palette='viridis',\n",
    "                alpha=1,\n",
    "                ax=axes,\n",
    "               )\n",
    "\n",
    "\n",
    "\n",
    "norm = plt.Normalize(df_collisions['True_clipped'].min(), df_collisions['True_clipped'].max())\n",
    "sm = plt.cm.ScalarMappable(cmap='viridis',norm=norm)\n",
    "sm.set_array([])\n",
    "\n",
    "\n",
    "axes.get_legend().remove()\n",
    "axes.figure.colorbar(sm,shrink=.25,aspect=6,\n",
    "                    # orientation='horizontal',\n",
    "                     label='mean percent collisions',\n",
    "                    extend='max',\n",
    "                     extendfrac=.2\n",
    "                    )\n",
    "\n",
    "# axes.spines.right.set_visible(False)\n",
    "# axes.spines.top.set_visible(False)\n",
    "\n",
    "# axes.spines.bottom.set_linewidth(1)\n",
    "# axes.spines.left.set_linewidth(1)\n",
    "\n",
    "axes.set_xlabel('mean expression \\n (normalized)')\n",
    "axes.set_ylabel('log$_{10}$ transcript length (bp)')"
   ]
  },
  {
   "cell_type": "code",
   "execution_count": null,
   "id": "bbef45ad-cb61-49e8-874b-f9df8a4508aa",
   "metadata": {},
   "outputs": [],
   "source": []
  },
  {
   "cell_type": "code",
   "execution_count": null,
   "id": "d815d02b-8de8-4610-b8ce-8dff964c43b1",
   "metadata": {},
   "outputs": [],
   "source": []
  },
  {
   "cell_type": "code",
   "execution_count": null,
   "id": "99e59660-c4b8-4f6f-acfd-738f046aaeb8",
   "metadata": {},
   "outputs": [],
   "source": []
  },
  {
   "cell_type": "code",
   "execution_count": null,
   "id": "95a80928-0f5c-46e9-a515-7eaf3d5491c8",
   "metadata": {},
   "outputs": [],
   "source": []
  },
  {
   "cell_type": "code",
   "execution_count": null,
   "id": "0fceaaee-8b7a-4568-936a-12cc6f482efb",
   "metadata": {
    "tags": []
   },
   "outputs": [],
   "source": [
    "collision_table_sample1 = pd.read_csv(output_dir+'sample_1_collisions_table.csv',index_col=0)\n",
    "\n",
    "collision_table_sample1_adj= pd.read_csv(output_dir+'collision_table_sample1_adj2',index_col=0)\n",
    "\n",
    "\n",
    "collision_table_sample1 = collision_table_sample1[collision_table_sample1.index.isin(collision_table_sample1_adj.index)]\n",
    "\n",
    "collision_table_sample1_adj = collision_table_sample1_adj[collision_table_sample1_adj.index.isin(collision_table_sample1.index)]\n",
    "\n"
   ]
  },
  {
   "cell_type": "code",
   "execution_count": null,
   "id": "a537da79-ab36-488e-9261-8389c460df95",
   "metadata": {
    "tags": []
   },
   "outputs": [],
   "source": [
    "collision_table_sample1['True']"
   ]
  },
  {
   "cell_type": "code",
   "execution_count": null,
   "id": "65f24eaa-ca91-4475-8c8e-e74fede27dbc",
   "metadata": {},
   "outputs": [],
   "source": []
  },
  {
   "cell_type": "code",
   "execution_count": null,
   "id": "931928c6-34f8-486a-b090-aafab4c10d77",
   "metadata": {
    "tags": []
   },
   "outputs": [],
   "source": [
    "collision_table_sample1_adj[collision_table_sample1_adj.index.isin(collision_table_sample1.index)]"
   ]
  },
  {
   "cell_type": "code",
   "execution_count": null,
   "id": "c2d729cc-07c3-41a8-91d3-3d443252e96d",
   "metadata": {
    "tags": []
   },
   "outputs": [],
   "source": [
    "collision_table_sample1[collision_table_sample1.index.isin(collision_table_sample1_adj.index)]"
   ]
  },
  {
   "cell_type": "code",
   "execution_count": null,
   "id": "9e8ff1ad-9507-4636-a83f-dc5d133a52ab",
   "metadata": {},
   "outputs": [],
   "source": []
  },
  {
   "cell_type": "code",
   "execution_count": null,
   "id": "215c21e0-ea39-473e-b54c-b4d2a0454aa5",
   "metadata": {
    "tags": []
   },
   "outputs": [],
   "source": [
    "collision_table_sample1_adj[collision_table_sample1_adj.index.isin(collision_table_sample1.index)]"
   ]
  },
  {
   "cell_type": "code",
   "execution_count": null,
   "id": "1f3b7449-5260-4e8f-a3f0-090c02034dd1",
   "metadata": {},
   "outputs": [],
   "source": []
  },
  {
   "cell_type": "code",
   "execution_count": null,
   "id": "c1542af1-2b56-4c47-931c-f283e581a5bb",
   "metadata": {},
   "outputs": [],
   "source": []
  },
  {
   "cell_type": "code",
   "execution_count": null,
   "id": "8172cc79-4116-4f28-bdfb-51d4ed17fd11",
   "metadata": {
    "tags": []
   },
   "outputs": [],
   "source": [
    "df_collisions_ = df_collisions[df_collisions.index.isin(collision_table_sample1.index)]\n",
    "df_collisions_ = df_collisions_.reindex(collision_table_sample1.index)"
   ]
  },
  {
   "cell_type": "code",
   "execution_count": null,
   "id": "a73ec693-4f18-4b43-81bf-f9ea39f3ec17",
   "metadata": {
    "tags": []
   },
   "outputs": [],
   "source": []
  },
  {
   "cell_type": "code",
   "execution_count": null,
   "id": "b87430ee-6448-4838-90e7-1e30088ba50e",
   "metadata": {
    "tags": []
   },
   "outputs": [],
   "source": [
    "fig, ax = plt.subplots(figsize=(4,4))\n",
    "\n",
    "sns.scatterplot(x=collision_table_sample1['True'],\n",
    "                y=collision_table_sample1_adj['True'],\n",
    "                ax=ax,\n",
    "                linewidth = 0,\n",
    "                size=5,\n",
    "                # hue = df_collisions_.means\n",
    "               )"
   ]
  },
  {
   "cell_type": "code",
   "execution_count": null,
   "id": "212cbcd9-13f9-473c-862c-812fe75f0bc8",
   "metadata": {
    "tags": []
   },
   "outputs": [],
   "source": [
    "df = pd.concat([collision_table_sample1['True'], collision_table_sample1_adj['True']], axis=1)\n",
    "df.columns = ['sample_1','sample_1_adj']"
   ]
  },
  {
   "cell_type": "code",
   "execution_count": null,
   "id": "3f755889-2063-4e5c-a84f-2e45d7d2f689",
   "metadata": {
    "tags": []
   },
   "outputs": [],
   "source": [
    "df['exp'] = df_collisions_.means"
   ]
  },
  {
   "cell_type": "code",
   "execution_count": null,
   "id": "85d86021-a953-4b0b-91db-2dd2f65463f6",
   "metadata": {
    "tags": []
   },
   "outputs": [],
   "source": [
    "df.exp.sort_values().tai"
   ]
  },
  {
   "cell_type": "code",
   "execution_count": null,
   "id": "b2eeac51-0196-4c9f-9879-3cfb43522804",
   "metadata": {
    "tags": []
   },
   "outputs": [],
   "source": [
    "df.loc['ENSG00000251562']"
   ]
  },
  {
   "cell_type": "code",
   "execution_count": null,
   "id": "174afd58-b348-4148-9db0-91ec3891698c",
   "metadata": {
    "tags": []
   },
   "outputs": [],
   "source": [
    "fig, ax = plt.subplots(figsize=(4,4))\n",
    "\n",
    "sns.scatterplot(data = df,\n",
    "                x='sample_1',\n",
    "                y='sample_1_adj',\n",
    "                ax=ax,\n",
    "                linewidth = 0,\n",
    "                size=20,\n",
    "                hue='exp',\n",
    "                # alpha=0.2,\n",
    "                palette='plasma',\n",
    "               )"
   ]
  },
  {
   "cell_type": "code",
   "execution_count": null,
   "id": "9edfff74-0e48-43e0-a718-6ad6c282b836",
   "metadata": {},
   "outputs": [],
   "source": []
  },
  {
   "cell_type": "code",
   "execution_count": null,
   "id": "e085443d-bfe0-4f7f-9f18-15f157f9fb2a",
   "metadata": {},
   "outputs": [],
   "source": []
  },
  {
   "cell_type": "code",
   "execution_count": null,
   "id": "38c3310c-c58d-41fa-b707-fddd77d3d76b",
   "metadata": {},
   "outputs": [],
   "source": []
  },
  {
   "cell_type": "code",
   "execution_count": null,
   "id": "e9211828-32ce-41c9-86d1-9e4993d2decd",
   "metadata": {},
   "outputs": [],
   "source": []
  },
  {
   "cell_type": "code",
   "execution_count": null,
   "id": "75dee4c1-6202-4247-ac7e-95ba4db439c0",
   "metadata": {},
   "outputs": [],
   "source": []
  },
  {
   "cell_type": "code",
   "execution_count": null,
   "id": "5e0be8f0-fd98-4f9a-b2f4-a2e3df3ec146",
   "metadata": {},
   "outputs": [],
   "source": []
  },
  {
   "cell_type": "code",
   "execution_count": null,
   "id": "fbe3a389-a5fa-43f9-bc4e-b98997e9dd8d",
   "metadata": {},
   "outputs": [],
   "source": []
  },
  {
   "cell_type": "code",
   "execution_count": null,
   "id": "f1e074f1-28b0-408a-aede-6afcc889937f",
   "metadata": {},
   "outputs": [],
   "source": []
  },
  {
   "cell_type": "code",
   "execution_count": null,
   "id": "988b9c20-182e-45c3-8df1-0469077384b5",
   "metadata": {},
   "outputs": [],
   "source": []
  },
  {
   "cell_type": "code",
   "execution_count": null,
   "id": "27b7cc84-c219-40ff-9c01-b4483de97b1e",
   "metadata": {},
   "outputs": [],
   "source": []
  },
  {
   "cell_type": "code",
   "execution_count": null,
   "id": "cc1d81b1-9da5-40cd-8363-05cc3d77d1f1",
   "metadata": {},
   "outputs": [],
   "source": []
  },
  {
   "cell_type": "code",
   "execution_count": null,
   "id": "ee76c54e-0f77-436b-8809-80d763e48879",
   "metadata": {},
   "outputs": [],
   "source": []
  },
  {
   "cell_type": "code",
   "execution_count": null,
   "id": "3908c701-f4d1-493d-a267-79ca6372fa4a",
   "metadata": {},
   "outputs": [],
   "source": []
  },
  {
   "cell_type": "code",
   "execution_count": null,
   "id": "c1121491-67e9-4a93-ab89-987a1c32b826",
   "metadata": {},
   "outputs": [],
   "source": []
  },
  {
   "cell_type": "code",
   "execution_count": null,
   "id": "820f5de0-45d0-4139-8858-e99784cb784e",
   "metadata": {},
   "outputs": [],
   "source": []
  },
  {
   "cell_type": "code",
   "execution_count": null,
   "id": "f73124a3-5e8b-468f-8fce-f0fdd5ca4732",
   "metadata": {},
   "outputs": [],
   "source": []
  },
  {
   "cell_type": "code",
   "execution_count": null,
   "id": "1ca433e8-fd1c-45d7-934e-41e71468c0ce",
   "metadata": {},
   "outputs": [],
   "source": []
  },
  {
   "cell_type": "code",
   "execution_count": null,
   "id": "99acc486-7120-4e77-8d63-af7cc4957365",
   "metadata": {
    "tags": []
   },
   "outputs": [],
   "source": [
    "input_dir='/c4/home/derek/data1/derek/data_scSLR/prenatal_brain/'"
   ]
  },
  {
   "cell_type": "code",
   "execution_count": null,
   "id": "0bc7d0de-ddf4-4969-8256-d9a64625cd75",
   "metadata": {},
   "outputs": [],
   "source": [
    "\n",
    "residuals=pd.read_csv(input_dir+'correlation_residuals.csv',header=None,index_col=0)\n",
    "residuals.columns = ['residual']"
   ]
  },
  {
   "cell_type": "code",
   "execution_count": null,
   "id": "3f30465e-0d92-45d8-abe8-12bfa1887963",
   "metadata": {
    "tags": []
   },
   "outputs": [],
   "source": []
  },
  {
   "cell_type": "code",
   "execution_count": null,
   "id": "ad0673b8-099c-4229-9b63-a6c2231fd12d",
   "metadata": {
    "tags": []
   },
   "outputs": [],
   "source": [
    "df_collisions = df_collisions.join(residuals)"
   ]
  },
  {
   "cell_type": "code",
   "execution_count": null,
   "id": "ef2fb928-eb81-4827-8cac-955ab3aadd11",
   "metadata": {
    "tags": []
   },
   "outputs": [],
   "source": []
  },
  {
   "cell_type": "code",
   "execution_count": null,
   "id": "44eab890-a248-4add-aba3-88f8c532b271",
   "metadata": {},
   "outputs": [],
   "source": [
    "plt.rcParams['figure.figsize'] = 5,4\n",
    "fig, axes = plt.subplots(1,1)\n",
    "\n",
    "sm = sns.scatterplot(data=df_collisions.sort_values(by ='True_rate',ascending=True),\n",
    "                x=df_collisions.sort_values(by ='True_rate',ascending=True).means, \n",
    "                y=df_collisions.sort_values(by ='True_rate',ascending=True).dispersions,\n",
    "                s=5,\n",
    "                linewidth=0,\n",
    "                hue=df_collisions.sort_values(by ='True_rate',ascending=True).residual,\n",
    "                palette='Spectral_r',\n",
    "                alpha=1,\n",
    "                ax=axes,\n",
    "               )\n",
    "\n",
    "\n",
    "\n",
    "norm = plt.Normalize(df_collisions['True_rate'].min(), df_collisions['True_rate'].max())\n",
    "sm = plt.cm.ScalarMappable(cmap=\"Spectral_r\",norm=norm)\n",
    "sm.set_array([])\n",
    "\n",
    "\n",
    "axes.get_legend().remove()\n",
    "axes.figure.colorbar(sm,shrink=.25,aspect=6,\n",
    "                    # orientation='horizontal',\n",
    "                     label='mean percent collisions')\n",
    "\n",
    "# axes.spines.right.set_visible(False)\n",
    "# axes.spines.top.set_visible(False)\n",
    "\n",
    "# axes.spines.bottom.set_linewidth(1)\n",
    "# axes.spines.left.set_linewidth(1)\n",
    "\n",
    "axes.set_xlabel('mean expression \\n (normalized)')\n",
    "axes.set_ylabel('Dispersion')\n",
    "\n",
    "#fig.savefig('collision_rates.pdf')"
   ]
  },
  {
   "cell_type": "code",
   "execution_count": null,
   "id": "9090f7ad-eb1a-466b-93c5-ee77a745388b",
   "metadata": {},
   "outputs": [],
   "source": []
  },
  {
   "cell_type": "code",
   "execution_count": null,
   "id": "6b532e9e-ada7-40e6-90ed-9d1d8e3c6048",
   "metadata": {
    "tags": []
   },
   "outputs": [],
   "source": [
    "plt.rcParams['figure.figsize'] = 5,4\n",
    "fig, axes = plt.subplots(1,1)\n",
    "\n",
    "sm = sns.scatterplot(data=df_collisions,\n",
    "                x=df_collisions.means, \n",
    "                y=df_collisions.True_rate,\n",
    "                s=15,\n",
    "                linewidth=0,\n",
    "              #  hue=df_collisions.True_rate,\n",
    "              #  palette='Spectral_r',\n",
    "                alpha=1,\n",
    "                ax=axes,\n",
    "               )\n",
    "\n",
    "\n",
    "\n",
    "#norm = plt.Normalize(df_collisions['True_rate'].min(), df_collisions['True_rate'].max())\n",
    "# sm = plt.cm.ScalarMappable(cmap=\"Spectral_r\",norm=norm)\n",
    "# sm.set_array([])\n",
    "\n",
    "\n",
    "#axes.get_legend().remove()\n",
    "axes.figure.colorbar(sm,shrink=.25,aspect=6,\n",
    "                    # orientation='horizontal',\n",
    "                     label='mean percent collisions')\n",
    "\n",
    "# axes.spines.right.set_visible(False)\n",
    "# axes.spines.top.set_visible(False)\n",
    "\n",
    "# axes.spines.bottom.set_linewidth(1)\n",
    "# axes.spines.left.set_linewidth(1)\n",
    "\n",
    "axes.set_xlabel('mean expression \\n (normalized)')\n",
    "axes.set_ylabel('Dispersion')\n",
    "\n",
    "#fig.savefig('collision_rates.pdf')"
   ]
  },
  {
   "cell_type": "code",
   "execution_count": null,
   "id": "b0998651-b57f-4b7f-addb-8081e336dc67",
   "metadata": {},
   "outputs": [],
   "source": []
  },
  {
   "cell_type": "code",
   "execution_count": null,
   "id": "5bb8279f-3457-4594-9ed0-ad1f873df6e8",
   "metadata": {},
   "outputs": [],
   "source": [
    "df_collisions[df_collisions.True_rate > .5]"
   ]
  },
  {
   "cell_type": "code",
   "execution_count": null,
   "id": "fd30b624-bb76-4a5d-b0e8-3663b7bc1cf3",
   "metadata": {},
   "outputs": [],
   "source": []
  },
  {
   "cell_type": "code",
   "execution_count": null,
   "id": "e12b3cfb-630a-4bab-9df3-e42e05e06e1a",
   "metadata": {},
   "outputs": [],
   "source": [
    "plt.rcParams['figure.figsize'] = 5,4\n",
    "fig, axes = plt.subplots(1,1)\n",
    "\n",
    "sm = sns.scatterplot(data=df_collisions,\n",
    "                x=df_collisions.means, \n",
    "                y=df_collisions.dispersions,\n",
    "                s=10,\n",
    "                linewidth=0,\n",
    "                hue=df_collisions.True_clipped,\n",
    "                palette='viridis',\n",
    "                alpha=1,\n",
    "                ax=axes,\n",
    "               )\n",
    "\n",
    "norm = plt.Normalize(df_collisions['True_clipped'].min(), df_collisions['True_clipped'].max())\n",
    "sm = plt.cm.ScalarMappable(cmap=\"viridis\",norm=norm)\n",
    "sm.set_array([])\n",
    "\n",
    "\n",
    "axes.get_legend().remove()\n",
    "axes.figure.colorbar(sm,shrink=.25,aspect=4,\n",
    "                    # orientation='horizontal',\n",
    "                     label='mean percent collisions \\n 0.1 clipped')\n",
    "\n",
    "# axes.spines.right.set_visible(False)\n",
    "# axes.spines.top.set_visible(False)\n",
    "\n",
    "# axes.spines.bottom.set_linewidth(1)\n",
    "# axes.spines.left.set_linewidth(1)\n",
    "\n",
    "axes.set_xlabel('mean expression \\n (normalized)')\n",
    "axes.set_ylabel('Dispersion')\n"
   ]
  },
  {
   "cell_type": "code",
   "execution_count": null,
   "id": "8b7a125c-d1f2-483d-9a49-612458deb1fc",
   "metadata": {},
   "outputs": [],
   "source": []
  },
  {
   "cell_type": "code",
   "execution_count": null,
   "id": "c5550562-1081-4616-b60c-1aa677ffb4a0",
   "metadata": {},
   "outputs": [],
   "source": []
  },
  {
   "cell_type": "code",
   "execution_count": null,
   "id": "92ac9381-7bfc-4c1d-b7a9-b30003628f06",
   "metadata": {},
   "outputs": [],
   "source": []
  },
  {
   "cell_type": "code",
   "execution_count": null,
   "id": "2bc19a31-4f8a-4e30-ae83-ef6aa0a63152",
   "metadata": {},
   "outputs": [],
   "source": [
    "%%time\n",
    "collision_table = pd.DataFrame()\n",
    "\n",
    "for file in os.listdir(input_dir):\n",
    "    df = pd.read_csv(input_dir+file, index_col=0)\n",
    "    \n",
    "    #remove non gene aligned reads \n",
    "    df = df[df['gene_ID'] != '-']\n",
    "    \n",
    "    ##remove polyG beads\n",
    "    df = df[df['bead_ID'] != 1]\n",
    "    \n",
    "    #include only reads aligning to cells\n",
    "    df = df[df.cell.isin(barcodes[0])]\n",
    "    \n",
    "    #get per-gene values\n",
    "    df = df.groupby('gene_ID')['collision'].value_counts(normalize=True).unstack().fillna(0)\n",
    "    \n",
    "    #remove index name\n",
    "    df = df.rename_axis(None, axis=1)\n",
    "    \n",
    "    collision_table = pd.concat([collision_table,df])\n",
    "    \n",
    "    del df \n",
    "    print(file+\" processed\")"
   ]
  },
  {
   "cell_type": "code",
   "execution_count": null,
   "id": "cf77c134-020b-4f6f-bc0b-f7cf303bbf29",
   "metadata": {},
   "outputs": [],
   "source": []
  },
  {
   "cell_type": "code",
   "execution_count": null,
   "id": "5d4294c6-3994-42e0-a577-097192d8dabc",
   "metadata": {},
   "outputs": [],
   "source": [
    "df = pd.read_csv(input_dir+file, index_col=0)"
   ]
  },
  {
   "cell_type": "code",
   "execution_count": null,
   "id": "340fbebb-ab94-410d-9a23-89b0222435f3",
   "metadata": {
    "tags": []
   },
   "outputs": [],
   "source": [
    "df"
   ]
  },
  {
   "cell_type": "code",
   "execution_count": null,
   "id": "850b2973-4893-4ecf-8044-fb038767a7e3",
   "metadata": {
    "tags": []
   },
   "outputs": [],
   "source": [
    "df = df[df['gene_ID'] != '-']"
   ]
  },
  {
   "cell_type": "code",
   "execution_count": null,
   "id": "a40893af-21d8-4114-a7f6-6d4773434bee",
   "metadata": {
    "tags": []
   },
   "outputs": [],
   "source": [
    "df = df[df['bead_ID'] != 1]"
   ]
  },
  {
   "cell_type": "code",
   "execution_count": null,
   "id": "38aac0e0-eba4-4f42-ad46-3bf810906203",
   "metadata": {
    "tags": []
   },
   "outputs": [],
   "source": [
    "df = df[df['UMI'] != '-']"
   ]
  },
  {
   "cell_type": "code",
   "execution_count": null,
   "id": "0002d3a2-fc33-40b0-b48d-6757e6146981",
   "metadata": {
    "tags": []
   },
   "outputs": [],
   "source": [
    "df['bead_ID'] = df['bead_ID'].astype(str)"
   ]
  },
  {
   "cell_type": "code",
   "execution_count": null,
   "id": "43cb906b-5d22-48c2-8414-d0b208ca09db",
   "metadata": {
    "tags": []
   },
   "outputs": [],
   "source": []
  },
  {
   "cell_type": "code",
   "execution_count": null,
   "id": "b5f4bc62-4257-4145-abd3-1cca6c22f07d",
   "metadata": {
    "tags": []
   },
   "outputs": [],
   "source": [
    "temp = df.groupby(['gene_ID','UMI','cell'])['bead_ID'].nunique()"
   ]
  },
  {
   "cell_type": "code",
   "execution_count": null,
   "id": "600f4d0b-ea2a-4020-8d3d-f3a919566ca2",
   "metadata": {
    "tags": []
   },
   "outputs": [],
   "source": [
    "temp\n",
    "temp.index = temp.index.map('_'.join)"
   ]
  },
  {
   "cell_type": "code",
   "execution_count": null,
   "id": "dc848326-d619-4cad-b85f-a37562dfc250",
   "metadata": {
    "tags": []
   },
   "outputs": [],
   "source": [
    "temp.value_counts().to_frame().sum()"
   ]
  },
  {
   "cell_type": "code",
   "execution_count": null,
   "id": "88c6ffe2-5a47-4d53-a433-6b8d1284fb14",
   "metadata": {
    "tags": []
   },
   "outputs": [],
   "source": [
    "temp.value_counts()"
   ]
  },
  {
   "cell_type": "code",
   "execution_count": null,
   "id": "64ef435d-8c4f-4eaf-b467-38c7a066e0a8",
   "metadata": {
    "tags": []
   },
   "outputs": [],
   "source": [
    "(283853-102672)/283853"
   ]
  },
  {
   "cell_type": "code",
   "execution_count": null,
   "id": "3add48c2-5511-49ad-b43b-000f39e9deed",
   "metadata": {},
   "outputs": [],
   "source": []
  },
  {
   "cell_type": "code",
   "execution_count": null,
   "id": "dd6a222f-052d-459e-9380-bebeeb0bb241",
   "metadata": {
    "tags": []
   },
   "outputs": [],
   "source": [
    "sns.barplot(np.log10(temp.value_counts()).to_frame().T)"
   ]
  },
  {
   "cell_type": "code",
   "execution_count": null,
   "id": "c122e7e8-dca1-47c3-b136-79efd648f61a",
   "metadata": {
    "tags": []
   },
   "outputs": [],
   "source": [
    "sns.barplot(temp.value_counts().to_frame().T)"
   ]
  },
  {
   "cell_type": "code",
   "execution_count": null,
   "id": "2ea237a9-dd50-4491-a226-d73b78b5e270",
   "metadata": {},
   "outputs": [],
   "source": []
  },
  {
   "cell_type": "code",
   "execution_count": null,
   "id": "cc4a29a6-bc56-4166-b156-ead49b2c65c7",
   "metadata": {
    "tags": []
   },
   "outputs": [],
   "source": [
    "df"
   ]
  },
  {
   "cell_type": "code",
   "execution_count": null,
   "id": "5b2f45f7-ce31-46ed-8e7a-47f7f9b224a2",
   "metadata": {},
   "outputs": [],
   "source": []
  },
  {
   "cell_type": "code",
   "execution_count": null,
   "id": "81191e95-0a92-4a7a-a179-66e8eb0e2e9d",
   "metadata": {},
   "outputs": [],
   "source": []
  },
  {
   "cell_type": "code",
   "execution_count": null,
   "id": "c9d8c3d0-f4ce-4671-8da6-d68908cd6957",
   "metadata": {},
   "outputs": [],
   "source": []
  },
  {
   "cell_type": "code",
   "execution_count": null,
   "id": "59688b17-fea9-4d18-831b-25a71edbebfb",
   "metadata": {},
   "outputs": [],
   "source": []
  },
  {
   "cell_type": "code",
   "execution_count": null,
   "id": "1146da55-9d72-4da1-a11c-5e2200f1fea6",
   "metadata": {},
   "outputs": [],
   "source": []
  },
  {
   "cell_type": "code",
   "execution_count": null,
   "id": "6b1a2313-e13a-430d-b190-68782819196c",
   "metadata": {},
   "outputs": [],
   "source": []
  },
  {
   "cell_type": "code",
   "execution_count": null,
   "id": "c9cc0d30-fb5a-487f-95a1-ecf632c33503",
   "metadata": {},
   "outputs": [],
   "source": [
    "!conda list"
   ]
  },
  {
   "cell_type": "code",
   "execution_count": null,
   "id": "4599796b-50b8-4c33-a8ed-cd76043dd518",
   "metadata": {},
   "outputs": [],
   "source": []
  }
 ],
 "metadata": {
  "kernelspec": {
   "display_name": "Python 3 (ipykernel)",
   "language": "python",
   "name": "python3"
  },
  "language_info": {
   "codemirror_mode": {
    "name": "ipython",
    "version": 3
   },
   "file_extension": ".py",
   "mimetype": "text/x-python",
   "name": "python",
   "nbconvert_exporter": "python",
   "pygments_lexer": "ipython3",
   "version": "3.10.15"
  }
 },
 "nbformat": 4,
 "nbformat_minor": 5
}
