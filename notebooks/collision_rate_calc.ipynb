{
 "cells": [
  {
   "cell_type": "code",
   "execution_count": 1,
   "id": "387e98b6-eb1b-409e-84c1-7bee57d2c65b",
   "metadata": {},
   "outputs": [
    {
     "name": "stdout",
     "output_type": "stream",
     "text": [
      "Mon Jan 23 11:09:42 PST 2023\n"
     ]
    }
   ],
   "source": [
    "!date"
   ]
  },
  {
   "cell_type": "code",
   "execution_count": 2,
   "id": "9fc2c705-1fe3-45e6-ad6f-1748c9e5480c",
   "metadata": {},
   "outputs": [
    {
     "name": "stdout",
     "output_type": "stream",
     "text": [
      "/c4/home/derek/miniconda3/envs/squint_2\n"
     ]
    }
   ],
   "source": [
    "!echo $CONDA_PREFIX"
   ]
  },
  {
   "cell_type": "code",
   "execution_count": 3,
   "id": "f85962ed-29a7-436d-a52a-c9c5e1971e17",
   "metadata": {},
   "outputs": [],
   "source": [
    "import pandas as pd\n",
    "import numpy as np\n",
    "\n",
    "import seaborn as sns\n",
    "import matplotlib.pyplot as plt"
   ]
  },
  {
   "cell_type": "code",
   "execution_count": 4,
   "id": "178a29d2-6029-4642-8bc2-6beff511e267",
   "metadata": {},
   "outputs": [],
   "source": [
    "import sys\n",
    "import os"
   ]
  },
  {
   "cell_type": "code",
   "execution_count": null,
   "id": "5a8d7335-1c96-44ae-bae1-2539aa0297d3",
   "metadata": {},
   "outputs": [],
   "source": []
  },
  {
   "cell_type": "code",
   "execution_count": 5,
   "id": "b424ffd1-70c0-4947-9253-b4f56df90e59",
   "metadata": {},
   "outputs": [],
   "source": [
    "barcodes = pd.read_csv('/c4/home/derek/data1/derek/data_scSLR/prenatal_brain/GW16_2_barcodes.csv',header=None)"
   ]
  },
  {
   "cell_type": "code",
   "execution_count": 6,
   "id": "847dec29-c4fd-4c98-9d6d-8cdf6158c3bd",
   "metadata": {},
   "outputs": [],
   "source": [
    "input_dir = '/c4/home/derek/data1/HDD-2/derek/SLR_temp/GW16_2/split/collision_tables/'"
   ]
  },
  {
   "cell_type": "code",
   "execution_count": 7,
   "id": "8f332bbe-80db-4df6-a284-8578729f1e2b",
   "metadata": {},
   "outputs": [],
   "source": [
    "output_dir = '/c4/home/derek/data1/derek/data_scSLR/prenatal_brain/'"
   ]
  },
  {
   "cell_type": "code",
   "execution_count": null,
   "id": "822f3929-1931-487d-9e88-2edd42d897d9",
   "metadata": {},
   "outputs": [],
   "source": []
  },
  {
   "cell_type": "code",
   "execution_count": null,
   "id": "d2c03409-9b77-4959-b7b7-4332fb3129c5",
   "metadata": {
    "tags": []
   },
   "outputs": [
    {
     "name": "stdout",
     "output_type": "stream",
     "text": [
      "chr22.barcoded.sort.bam_collision_table.csv processed\n",
      "chr18.barcoded.sort.bam_collision_table.csv processed\n",
      "chr5.barcoded.sort.bam_collision_table.csv processed\n",
      "chr15.barcoded.sort.bam_collision_table.csv processed\n"
     ]
    }
   ],
   "source": [
    "%%time\n",
    "collision_table = pd.DataFrame()\n",
    "\n",
    "for file in os.listdir(input_dir):\n",
    "    df = pd.read_csv(input_dir+file, index_col=0)\n",
    "    \n",
    "    #remove non gene aligned reads \n",
    "    df = df[df['gene_ID'] != '-']\n",
    "    \n",
    "    ##remove polyG beads\n",
    "    df = df[df['bead_ID'] != 1]\n",
    "    \n",
    "    #include only reads aligning to cells\n",
    "    df = df[df.cell.isin(barcodes[0])]\n",
    "    \n",
    "    #get per-gene values\n",
    "    df = df.groupby('gene_ID')['collision'].value_counts(normalize=True).unstack().fillna(0)\n",
    "    \n",
    "    #remove index name\n",
    "    df = df.rename_axis(None, axis=1)\n",
    "    \n",
    "    collision_table = pd.concat([collision_table,df])\n",
    "    \n",
    "    del df \n",
    "    print(file+\" processed\")\n",
    "\n",
    "    "
   ]
  },
  {
   "cell_type": "code",
   "execution_count": null,
   "id": "041f0ebb-7b81-4f84-aebe-4de03614b907",
   "metadata": {},
   "outputs": [],
   "source": [
    "collision_table.to_csv(output_dir+'collision_table')"
   ]
  },
  {
   "cell_type": "code",
   "execution_count": null,
   "id": "4bff4e5c-48d9-43bf-b97e-749ed62300f6",
   "metadata": {},
   "outputs": [],
   "source": []
  },
  {
   "cell_type": "code",
   "execution_count": null,
   "id": "4af44ca1-8072-4e41-b3ca-e912f3668f19",
   "metadata": {},
   "outputs": [],
   "source": []
  },
  {
   "cell_type": "code",
   "execution_count": null,
   "id": "2f6b164b-36c6-4ece-9b07-016b7ffe955c",
   "metadata": {},
   "outputs": [],
   "source": [
    "import scanpy as sc"
   ]
  },
  {
   "cell_type": "code",
   "execution_count": null,
   "id": "d2713a3b-158e-475d-b8f7-f6a8080ad0e2",
   "metadata": {},
   "outputs": [],
   "source": [
    "sc_input_dir = '/c4/home/derek/data1/derek/data_scSLR/prenatal_brain/STAR_outs/GW16_2/StarOut/Solo.out/GeneFull/raw/'"
   ]
  },
  {
   "cell_type": "code",
   "execution_count": null,
   "id": "fd574c70-ba0a-4972-a53f-75b2d50ece56",
   "metadata": {},
   "outputs": [],
   "source": [
    "adata = sc.read_mtx(sc_input_dir + 'matrix.mtx').T\n",
    "adata.obs_names = pd.read_csv(sc_input_dir+'barcodes.tsv',header=None)[0]\n",
    "adata.var_names = pd.read_csv(sc_input_dir+'features.tsv',header=None,sep='\\t')[0]"
   ]
  },
  {
   "cell_type": "code",
   "execution_count": null,
   "id": "3aca72f3-0e06-4acf-b4d1-de9c4059e74e",
   "metadata": {},
   "outputs": [],
   "source": [
    "adata=adata[adata.obs_names.isin(barcodes[0])]"
   ]
  },
  {
   "cell_type": "code",
   "execution_count": null,
   "id": "02170829-6a3f-4849-9818-2f3a03fcab63",
   "metadata": {},
   "outputs": [],
   "source": [
    "adata"
   ]
  },
  {
   "cell_type": "code",
   "execution_count": null,
   "id": "b0048a18-da31-4261-b4c5-01287e18b971",
   "metadata": {},
   "outputs": [],
   "source": []
  },
  {
   "cell_type": "code",
   "execution_count": null,
   "id": "24586847-2829-4ee4-a9be-8390a76e650e",
   "metadata": {},
   "outputs": [],
   "source": [
    "sc.pp.normalize_total(adata, target_sum=1e4)\n",
    "sc.pp.log1p(adata)\n"
   ]
  },
  {
   "cell_type": "code",
   "execution_count": null,
   "id": "6a702444-91ca-40f7-a497-62bd39c1fc01",
   "metadata": {},
   "outputs": [],
   "source": []
  },
  {
   "cell_type": "code",
   "execution_count": null,
   "id": "8e8c2501-ade1-4d0f-ae91-fb1af41d146f",
   "metadata": {},
   "outputs": [],
   "source": [
    "df_HVG = sc.pp.highly_variable_genes(adata, min_mean=0.0125, max_mean=3, min_disp=0.5, inplace=False)\n"
   ]
  },
  {
   "cell_type": "code",
   "execution_count": null,
   "id": "d85359b0-844d-423c-9041-51d22a835535",
   "metadata": {},
   "outputs": [],
   "source": [
    "df_HVG.head()"
   ]
  },
  {
   "cell_type": "code",
   "execution_count": null,
   "id": "782e70a2-68fd-4172-b60f-1ee1f3e64f3f",
   "metadata": {},
   "outputs": [],
   "source": [
    "sns.scatterplot(data=df_HVG,\n",
    "                x=df_HVG.means, \n",
    "                y=df_HVG.dispersions,\n",
    "                s=1,\n",
    "                linewidth=0\n",
    "               )"
   ]
  },
  {
   "cell_type": "code",
   "execution_count": null,
   "id": "aa108ebe-0924-4575-abde-63f1570c7908",
   "metadata": {},
   "outputs": [],
   "source": [
    "ID_dict = dict(zip(pd.read_csv(sc_input_dir+'features.tsv',header=None,sep='\\t')[0],\n",
    "         pd.read_csv(sc_input_dir+'features.tsv',header=None,sep='\\t')[1])\n",
    "    )"
   ]
  },
  {
   "cell_type": "code",
   "execution_count": null,
   "id": "1272b92f-553f-431c-ae8b-ba9ef97f7eca",
   "metadata": {},
   "outputs": [],
   "source": []
  },
  {
   "cell_type": "code",
   "execution_count": null,
   "id": "5bb78302-9388-40a0-bd24-407d3a86ba28",
   "metadata": {},
   "outputs": [],
   "source": [
    "df_HVG.index = adata.var_names "
   ]
  },
  {
   "cell_type": "code",
   "execution_count": null,
   "id": "67256386-0ce8-469e-a839-eb340402e287",
   "metadata": {},
   "outputs": [],
   "source": [
    "df_HVG['gene_name'] = df_HVG.index.map(ID_dict)"
   ]
  },
  {
   "cell_type": "code",
   "execution_count": null,
   "id": "ad9b2d0f-f17d-4e20-8383-9b54202e58df",
   "metadata": {},
   "outputs": [],
   "source": [
    "df_HVG.head()"
   ]
  },
  {
   "cell_type": "code",
   "execution_count": null,
   "id": "e5bcace0-74ac-48ba-80e8-75fcf13a0470",
   "metadata": {},
   "outputs": [],
   "source": [
    "df_HVG_ = df_HVG[df_HVG.index.isin(collision_table.index)]"
   ]
  },
  {
   "cell_type": "code",
   "execution_count": null,
   "id": "f454eb57-25fb-4d4b-9404-b16af742b60e",
   "metadata": {},
   "outputs": [],
   "source": [
    "df_HVG_"
   ]
  },
  {
   "cell_type": "code",
   "execution_count": null,
   "id": "d2043057-69c6-4c05-814a-d0eefb5f0acc",
   "metadata": {},
   "outputs": [],
   "source": [
    "collision_table = collision_table.reindex(df_HVG_.index)"
   ]
  },
  {
   "cell_type": "code",
   "execution_count": null,
   "id": "a1500d1e-0974-4c16-943c-93f757e63654",
   "metadata": {},
   "outputs": [],
   "source": [
    "collision_table"
   ]
  },
  {
   "cell_type": "code",
   "execution_count": null,
   "id": "31958c18-9b2d-40b8-828f-1cdc3de4651e",
   "metadata": {},
   "outputs": [],
   "source": [
    "collision_table = collision_table.rename_axis(None, axis=1)"
   ]
  },
  {
   "cell_type": "code",
   "execution_count": null,
   "id": "aa3b459e-8363-44c6-9e84-f0d92e0d4988",
   "metadata": {},
   "outputs": [],
   "source": []
  },
  {
   "cell_type": "code",
   "execution_count": null,
   "id": "2e097719-974d-4ac6-91c6-69cd2de50484",
   "metadata": {},
   "outputs": [],
   "source": [
    "df_collisions = pd.concat([df_HVG_,collision_table],axis=1)"
   ]
  },
  {
   "cell_type": "code",
   "execution_count": null,
   "id": "ece94d81-b73f-43f0-8e65-1ba0c9a5b502",
   "metadata": {},
   "outputs": [],
   "source": [
    "df_collisions"
   ]
  },
  {
   "cell_type": "code",
   "execution_count": null,
   "id": "6c44b19f-ceb6-475a-a275-da1c530647bc",
   "metadata": {},
   "outputs": [],
   "source": [
    "df_collisions.columns = ['means','dispersions','mean_bin','dispersions_norm', 'highly_variable','gene_name','False_rate','True_rate']"
   ]
  },
  {
   "cell_type": "code",
   "execution_count": null,
   "id": "22b7f9d3-aaef-489b-8c0d-7561f3b5baff",
   "metadata": {},
   "outputs": [],
   "source": [
    "df_collisions = df_collisions.sort_values(by='True_rate')"
   ]
  },
  {
   "cell_type": "code",
   "execution_count": null,
   "id": "8ca8739a-233b-4ad3-a058-0ff932de73ab",
   "metadata": {},
   "outputs": [],
   "source": [
    "lengths_transcripts = pd.read_csv('/c4/home/derek/data1/HDD-2/derek/reference/human_hp3_reference/genes.gtf.genelength',sep='\\t',\n",
    "                                 index_col=0)"
   ]
  },
  {
   "cell_type": "code",
   "execution_count": null,
   "id": "66538767-0da2-42b5-a444-228af8603e7f",
   "metadata": {},
   "outputs": [],
   "source": [
    "lengths_transcripts"
   ]
  },
  {
   "cell_type": "code",
   "execution_count": null,
   "id": "bf1a2656-9eb5-4743-80fe-6d84eaafef20",
   "metadata": {},
   "outputs": [],
   "source": [
    "lengths_transcripts.index.name = None "
   ]
  },
  {
   "cell_type": "code",
   "execution_count": null,
   "id": "6396a021-23b9-4d40-8ec0-c3098f1c893e",
   "metadata": {},
   "outputs": [],
   "source": [
    "lengths_transcripts"
   ]
  },
  {
   "cell_type": "code",
   "execution_count": null,
   "id": "cbe5bf0c-5a05-4379-9a90-10582b09a7fa",
   "metadata": {},
   "outputs": [],
   "source": [
    "lengths_transcripts = lengths_transcripts[lengths_transcripts.index.isin(df_collisions.index)]"
   ]
  },
  {
   "cell_type": "code",
   "execution_count": null,
   "id": "117ce9e9-e33b-4e06-8cbb-0e87cf2efafd",
   "metadata": {},
   "outputs": [],
   "source": [
    "lengths_transcripts"
   ]
  },
  {
   "cell_type": "code",
   "execution_count": null,
   "id": "c35d188e-7eb9-452b-9daf-0f86e9700656",
   "metadata": {},
   "outputs": [],
   "source": [
    "df_collisions = df_collisions[df_collisions.index.isin(lengths_transcripts.index)]"
   ]
  },
  {
   "cell_type": "code",
   "execution_count": null,
   "id": "1ab35b2c-1878-4952-94fb-d48c0f2c1501",
   "metadata": {},
   "outputs": [],
   "source": [
    "df_collisions"
   ]
  },
  {
   "cell_type": "code",
   "execution_count": null,
   "id": "84fca52e-41b0-40a9-b6c9-32f986633f0c",
   "metadata": {},
   "outputs": [],
   "source": [
    "lengths_transcripts = lengths_transcripts.reindex(df_collisions.index)"
   ]
  },
  {
   "cell_type": "code",
   "execution_count": null,
   "id": "4f836611-d763-440f-9525-817068b676f2",
   "metadata": {},
   "outputs": [],
   "source": [
    "df_collisions['length_mean'] = lengths_transcripts['mean']\n",
    "df_collisions['length_merged'] = lengths_transcripts['merged']"
   ]
  },
  {
   "cell_type": "code",
   "execution_count": null,
   "id": "22a6c479-4fd4-408d-a2e2-cb9b53e96d87",
   "metadata": {},
   "outputs": [],
   "source": [
    "df_collisions['True_clipped'] = df_collisions['True_rate'].clip(upper=0.1)"
   ]
  },
  {
   "cell_type": "code",
   "execution_count": null,
   "id": "d3ba6f74-5c0b-43ed-a617-be0e5700d28d",
   "metadata": {},
   "outputs": [],
   "source": [
    "df_collisions = df_collisions.sort_index()"
   ]
  },
  {
   "cell_type": "code",
   "execution_count": null,
   "id": "2fc24933-0423-4d17-93dc-e3d953ff4588",
   "metadata": {},
   "outputs": [],
   "source": [
    "df_collisions"
   ]
  },
  {
   "cell_type": "code",
   "execution_count": null,
   "id": "6f9e1b8b-075a-4012-9f6d-f0d69407307e",
   "metadata": {},
   "outputs": [],
   "source": []
  },
  {
   "cell_type": "code",
   "execution_count": null,
   "id": "e0029832-c8c6-4aef-8973-c8df3fe69756",
   "metadata": {},
   "outputs": [],
   "source": []
  },
  {
   "cell_type": "code",
   "execution_count": null,
   "id": "c9f922ca-12ca-40a3-8e1c-17328cc27c77",
   "metadata": {},
   "outputs": [],
   "source": []
  },
  {
   "cell_type": "code",
   "execution_count": null,
   "id": "fe85a6c0-170c-4d8a-985a-cc21d69ba75a",
   "metadata": {},
   "outputs": [],
   "source": [
    "plt.rcParams['figure.figsize'] = 5,4\n",
    "fig, axes = plt.subplots(1,1)\n",
    "\n",
    "sm = sns.scatterplot(data=df_collisions,\n",
    "                x=df_collisions.means, \n",
    "                y=df_collisions.dispersions,\n",
    "                s=15,\n",
    "                linewidth=0,\n",
    "                hue=df_collisions.True_rate,\n",
    "                palette='Spectral_r',\n",
    "                alpha=1,\n",
    "                ax=axes,\n",
    "               )\n",
    "\n",
    "\n",
    "\n",
    "norm = plt.Normalize(df_collisions['True_rate'].min(), df_collisions['True_rate'].max())\n",
    "sm = plt.cm.ScalarMappable(cmap=\"Spectral_r\",norm=norm)\n",
    "sm.set_array([])\n",
    "\n",
    "\n",
    "axes.get_legend().remove()\n",
    "axes.figure.colorbar(sm,shrink=.25,aspect=6,\n",
    "                    # orientation='horizontal',\n",
    "                     label='mean percent collisions')\n",
    "\n",
    "# axes.spines.right.set_visible(False)\n",
    "# axes.spines.top.set_visible(False)\n",
    "\n",
    "# axes.spines.bottom.set_linewidth(1)\n",
    "# axes.spines.left.set_linewidth(1)\n",
    "\n",
    "axes.set_xlabel('mean expression \\n (normalized)')\n",
    "axes.set_ylabel('Dispersion')\n",
    "\n",
    "#fig.savefig('collision_rates.pdf')"
   ]
  },
  {
   "cell_type": "code",
   "execution_count": null,
   "id": "5bb8279f-3457-4594-9ed0-ad1f873df6e8",
   "metadata": {},
   "outputs": [],
   "source": [
    "df_collisions[df_collisions.True_rate > .5]"
   ]
  },
  {
   "cell_type": "code",
   "execution_count": null,
   "id": "fd30b624-bb76-4a5d-b0e8-3663b7bc1cf3",
   "metadata": {},
   "outputs": [],
   "source": []
  },
  {
   "cell_type": "code",
   "execution_count": null,
   "id": "e12b3cfb-630a-4bab-9df3-e42e05e06e1a",
   "metadata": {},
   "outputs": [],
   "source": [
    "plt.rcParams['figure.figsize'] = 5,4\n",
    "fig, axes = plt.subplots(1,1)\n",
    "\n",
    "sm = sns.scatterplot(data=df_collisions,\n",
    "                x=df_collisions.means, \n",
    "                y=df_collisions.dispersions,\n",
    "                s=10,\n",
    "                linewidth=0,\n",
    "                hue=df_collisions.True_clipped,\n",
    "                palette='viridis',\n",
    "                alpha=1,\n",
    "                ax=axes,\n",
    "               )\n",
    "\n",
    "norm = plt.Normalize(df_collisions['True_clipped'].min(), df_collisions['True_clipped'].max())\n",
    "sm = plt.cm.ScalarMappable(cmap=\"viridis\",norm=norm)\n",
    "sm.set_array([])\n",
    "\n",
    "\n",
    "axes.get_legend().remove()\n",
    "axes.figure.colorbar(sm,shrink=.25,aspect=4,\n",
    "                    # orientation='horizontal',\n",
    "                     label='mean percent collisions \\n 0.1 clipped')\n",
    "\n",
    "# axes.spines.right.set_visible(False)\n",
    "# axes.spines.top.set_visible(False)\n",
    "\n",
    "# axes.spines.bottom.set_linewidth(1)\n",
    "# axes.spines.left.set_linewidth(1)\n",
    "\n",
    "axes.set_xlabel('mean expression \\n (normalized)')\n",
    "axes.set_ylabel('Dispersion')\n"
   ]
  },
  {
   "cell_type": "code",
   "execution_count": null,
   "id": "8b7a125c-d1f2-483d-9a49-612458deb1fc",
   "metadata": {},
   "outputs": [],
   "source": []
  },
  {
   "cell_type": "code",
   "execution_count": null,
   "id": "c5550562-1081-4616-b60c-1aa677ffb4a0",
   "metadata": {},
   "outputs": [],
   "source": []
  },
  {
   "cell_type": "code",
   "execution_count": null,
   "id": "92ac9381-7bfc-4c1d-b7a9-b30003628f06",
   "metadata": {},
   "outputs": [],
   "source": []
  },
  {
   "cell_type": "code",
   "execution_count": null,
   "id": "2bc19a31-4f8a-4e30-ae83-ef6aa0a63152",
   "metadata": {},
   "outputs": [],
   "source": []
  },
  {
   "cell_type": "code",
   "execution_count": null,
   "id": "cf77c134-020b-4f6f-bc0b-f7cf303bbf29",
   "metadata": {},
   "outputs": [],
   "source": []
  },
  {
   "cell_type": "code",
   "execution_count": null,
   "id": "5d4294c6-3994-42e0-a577-097192d8dabc",
   "metadata": {},
   "outputs": [],
   "source": []
  },
  {
   "cell_type": "code",
   "execution_count": null,
   "id": "c9cc0d30-fb5a-487f-95a1-ecf632c33503",
   "metadata": {},
   "outputs": [],
   "source": [
    "!conda list"
   ]
  },
  {
   "cell_type": "code",
   "execution_count": null,
   "id": "4599796b-50b8-4c33-a8ed-cd76043dd518",
   "metadata": {},
   "outputs": [],
   "source": []
  }
 ],
 "metadata": {
  "kernelspec": {
   "display_name": "Python 3 (ipykernel)",
   "language": "python",
   "name": "python3"
  },
  "language_info": {
   "codemirror_mode": {
    "name": "ipython",
    "version": 3
   },
   "file_extension": ".py",
   "mimetype": "text/x-python",
   "name": "python",
   "nbconvert_exporter": "python",
   "pygments_lexer": "ipython3",
   "version": "3.10.8"
  }
 },
 "nbformat": 4,
 "nbformat_minor": 5
}
