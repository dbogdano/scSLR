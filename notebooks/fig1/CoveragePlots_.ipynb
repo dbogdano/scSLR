{
 "cells": [
  {
   "cell_type": "code",
   "execution_count": 1,
   "id": "d580cbf6-4ce8-40c7-a345-5dc5bfded360",
   "metadata": {
    "tags": []
   },
   "outputs": [
    {
     "name": "stdout",
     "output_type": "stream",
     "text": [
      "Sat Oct 19 19:59:34 PDT 2024\n"
     ]
    }
   ],
   "source": [
    "!date"
   ]
  },
  {
   "cell_type": "code",
   "execution_count": 2,
   "id": "0cdf2c2e-066d-4591-8db3-17f8d226350e",
   "metadata": {
    "tags": []
   },
   "outputs": [
    {
     "name": "stdout",
     "output_type": "stream",
     "text": [
      "/c4/home/derek/miniconda3/envs/scquint_4\n"
     ]
    }
   ],
   "source": [
    "!echo $CONDA_PREFIX"
   ]
  },
  {
   "cell_type": "code",
   "execution_count": 3,
   "id": "23d05dc0-df4d-4ba3-ab5e-dc72416e9e7f",
   "metadata": {
    "tags": []
   },
   "outputs": [],
   "source": [
    "import pandas as pd\n",
    "import seaborn as sns\n",
    "import numpy as np\n",
    "import matplotlib.pyplot as plt\n",
    "import plotly.express as px\n",
    "\n",
    "from matplotlib import colors as mcolors"
   ]
  },
  {
   "cell_type": "code",
   "execution_count": 4,
   "id": "5d5131ba-c154-4d9a-957b-40074abd5749",
   "metadata": {
    "tags": []
   },
   "outputs": [],
   "source": [
    "import seaborn.objects as so"
   ]
  },
  {
   "cell_type": "code",
   "execution_count": null,
   "id": "fa22e0de-fcdd-4c44-8d24-4e3e71cfe1bb",
   "metadata": {},
   "outputs": [],
   "source": []
  },
  {
   "cell_type": "code",
   "execution_count": null,
   "id": "d5389e50-ca45-4be1-acd5-e06a0d413f6c",
   "metadata": {},
   "outputs": [],
   "source": []
  },
  {
   "cell_type": "code",
   "execution_count": null,
   "id": "a534083f-042e-47dd-b5d8-b11f03ee0069",
   "metadata": {},
   "outputs": [],
   "source": []
  },
  {
   "cell_type": "code",
   "execution_count": 5,
   "id": "1421b0ba-5941-4d6c-b6da-906225fda3fd",
   "metadata": {},
   "outputs": [],
   "source": [
    "# %%bash\n",
    "# geneBody_coverage.py -i /c4/home/derek/data1/HDD-2/derek/SLR_temp/CAT_20220904_PBMC/sample_1/merged/merged_complete_internal_mod4.bam -r ./hg38.HouseKeepingGenes.bed -o aggregate_merged"
   ]
  },
  {
   "cell_type": "code",
   "execution_count": 6,
   "id": "e67ca6ed-bb75-4708-90f6-ab614e7465c4",
   "metadata": {},
   "outputs": [
    {
     "name": "stdout",
     "output_type": "stream",
     "text": [
      "total 448\n",
      "-rw-r--r-- 1 derek nowakowskilab 105093 Oct 19 19:03 CoveragePlots_.ipynb\n",
      "-rw-r--r-- 1 derek nowakowskilab  21617 Oct 17 13:46 genebody_plot_techs.pdf\n",
      "-rw-r--r-- 1 derek nowakowskilab  96050 Oct 14 01:00 CoveragePlots.ipynb\n",
      "-rw-r--r-- 1 derek nowakowskilab 120819 Aug 17 00:30 GenomeTracks.ipynb\n",
      "-rw-r--r-- 1 derek nowakowskilab   1648 Aug 16 14:56 bigwig_initial_test.ini\n",
      "drwxr-xr-x 3 derek nowakowskilab    258 Jul 22 12:20 \u001b[0m\u001b[38;5;33mplots\u001b[0m/\n",
      "-rw-r--r-- 1 derek nowakowskilab  11705 Jul  2 12:01 bigwig_CD20.pdf\n",
      "-rw-r--r-- 1 derek nowakowskilab  19547 Jul 10  2023 bigwig_PTPRC.pdf\n",
      "-rw-r--r-- 1 derek nowakowskilab  41507 May 22  2023 \u001b[38;5;13mbigwig_GAPDH.png\u001b[0m\n",
      "-rw-r--r-- 1 derek nowakowskilab  24352 May 16  2023 \u001b[38;5;13mbigwig_PTPRC.png\u001b[0m\n"
     ]
    }
   ],
   "source": [
    "ls -lt"
   ]
  },
  {
   "cell_type": "code",
   "execution_count": null,
   "id": "9f407ee9-857e-42a0-9619-4d9eb015c21f",
   "metadata": {},
   "outputs": [],
   "source": []
  },
  {
   "cell_type": "markdown",
   "id": "50650278-38ea-4b9f-8bc6-966076040465",
   "metadata": {},
   "source": [
    "## Plot Gene body coverage per technology"
   ]
  },
  {
   "cell_type": "code",
   "execution_count": 27,
   "id": "d507924b-a3c1-4247-9b12-f8b599a300f8",
   "metadata": {
    "tags": []
   },
   "outputs": [],
   "source": [
    "df_SLR_internal=pd.read_csv('/c4/home/derek/data1/derek/data_scSLR/PBMC/STAR_outs/sample_2/gene_body_plots/internal_subsample.geneBodyCoverage.txt',\n",
    "           sep='\\t',\n",
    "             index_col=0,\n",
    "            header=None,\n",
    "           ).T\n",
    "df_SLR_internal.columns = ['percentile','density']\n",
    "df_SLR_internal['tech'] = 'scSLR_internal'\n",
    "\n",
    "df_SLR_5prime=pd.read_csv('/c4/home/derek/data1/derek/data_scSLR/PBMC/STAR_outs/sample_2/gene_body_plots/5prime_subsample.geneBodyCoverage.txt',\n",
    "           sep='\\t',\n",
    "             index_col=0,\n",
    "            header=None,\n",
    "           ).T\n",
    "df_SLR_5prime.columns = ['percentile','density']\n",
    "df_SLR_5prime['tech'] = 'scSLR_5prime'\n",
    "\n",
    "\n",
    "df_10X=pd.read_csv('/c4/home/derek/data1/derek/data_scSLR/PBMC/10X/gene_body_plots/10X_subsample.geneBodyCoverage.txt',\n",
    "           sep='\\t',\n",
    "             index_col=0,\n",
    "            header=None,\n",
    "           ).T\n",
    "\n",
    "df_10X.columns = ['percentile','density']\n",
    "df_10X['tech'] = '10X_5prime'\n",
    "\n",
    "\n",
    "\n",
    "df_SS3_UMI =pd.read_csv('/c4/home/derek/data1/derek/data_scSLR/reference/SS3_PBMC/solo_outs_yesUMI/SS3_yesUMI_subsample.geneBodyCoverage.txt',\n",
    "           sep='\\t',\n",
    "             index_col=0,\n",
    "            header=None,\n",
    "           ).T\n",
    "\n",
    "df_SS3_UMI.columns = ['percentile','density']\n",
    "df_SS3_UMI['tech'] = 'SS3_UMI'\n",
    "\n",
    "\n",
    "df_SS3_noUMI=pd.read_csv('/c4/home/derek/data1/derek/data_scSLR/reference/SS3_PBMC/solo_outs_noUMI/SS3_noUMI_subsample.geneBodyCoverage.txt',\n",
    "           sep='\\t',\n",
    "             index_col=0,\n",
    "            header=None,\n",
    "           ).T\n",
    "df_SS3_noUMI.columns = ['percentile','density']\n",
    "df_SS3_noUMI['tech'] = 'SS3_noUMI'\n",
    "\n",
    "df_VASA=pd.read_csv('/c4/home/derek/data1/derek/reference/VASA/SRR14783059_STAR_outs/VASA_subsample.geneBodyCoverage.txt',\n",
    "           sep='\\t',\n",
    "             index_col=0,\n",
    "            header=None,\n",
    "           ).T\n",
    "df_VASA.columns = ['percentile','density']\n",
    "df_VASA['tech'] = 'VASA'\n"
   ]
  },
  {
   "cell_type": "code",
   "execution_count": null,
   "id": "603486a5-2679-4dd8-a4c7-e5dffb0c3895",
   "metadata": {},
   "outputs": [],
   "source": []
  },
  {
   "cell_type": "code",
   "execution_count": 28,
   "id": "31adcecc-8529-4b7f-9957-834934b3eb4e",
   "metadata": {
    "tags": []
   },
   "outputs": [],
   "source": [
    "df = pd.concat([df_SLR_internal,\n",
    "                df_SLR_5prime,\n",
    "                # df_10X, \n",
    "                # df_SS3_UMI,\n",
    "                # df_SS3_noUMI,\n",
    "                # df_VASA\n",
    "               ], ignore_index=True\n",
    "       \n",
    "               # names = ['Percentile','scSLR_internal','scSLR_5prime','10X_5prime','SS3_UMI','SS3_noUMI']\n",
    "         )"
   ]
  },
  {
   "cell_type": "code",
   "execution_count": null,
   "id": "7a6ca672-95e7-4caf-bcef-f8a0c1fef701",
   "metadata": {},
   "outputs": [],
   "source": []
  },
  {
   "cell_type": "code",
   "execution_count": 7,
   "id": "2cd3dc92-7906-4815-bbe7-12102b90ee55",
   "metadata": {
    "tags": []
   },
   "outputs": [],
   "source": [
    "from ast import literal_eval\n",
    "\n",
    "def rgb_to_hex(rgb):\n",
    "    return '#%02x%02x%02x' % rgb\n",
    "\n",
    "plotly_map = [rgb_to_hex(literal_eval(px.colors.qualitative.Safe[i][3:])) for i in range(len(px.colors.qualitative.Vivid))] "
   ]
  },
  {
   "cell_type": "code",
   "execution_count": null,
   "id": "bcf019c8-301d-409a-aeb6-13d1abc25315",
   "metadata": {},
   "outputs": [],
   "source": []
  },
  {
   "cell_type": "code",
   "execution_count": null,
   "id": "a962fe91-6327-4ef6-8b66-efbe72eadf93",
   "metadata": {},
   "outputs": [],
   "source": []
  },
  {
   "cell_type": "code",
   "execution_count": 9,
   "id": "75a050a4-1a7e-4631-a02a-cad55ef8c0e4",
   "metadata": {
    "tags": []
   },
   "outputs": [],
   "source": [
    "fig, ax = plt.subplots(1,1,figsize = (5,5))\n",
    "\n",
    "sns.lineplot(data=df,\n",
    "            x=\"percentile\",\n",
    "            y='density',\n",
    "            hue='tech',\n",
    "             linewidth = 3,\n",
    "            palette=plotly_map,\n",
    "             alpha=0.8,\n",
    "             ax = ax,\n",
    "              # style='tech'\n",
    "\n",
    "            )\n",
    "\n",
    "# ax.yaxis.set_major_locator(plt.MaxNLocator(6))\n",
    "\n",
    "ax.spines.right.set_visible(False)\n",
    "ax.spines.top.set_visible(False)\n",
    "\n",
    "ax.set_ylabel(\"Read coverage\")\n",
    "ax.set_xlabel(\"Gene body percentile (5'−>3')\")\n",
    "\n",
    "handles, labels = ax.get_legend_handles_labels()\n",
    "ax.legend(handles, [\"scSLR internal\", \n",
    "                    \"scSLR 5'\", \n",
    "                    \"10X 5'\", \n",
    "                    \"SS3 UMI reads\", \n",
    "                    \"SS3 w/o UMI\", \n",
    "                    \"VASA-seq\"\n",
    "                   ])\n",
    "\n",
    "# fig.savefig('genebody_plot_techs.pdf')"
   ]
  },
  {
   "cell_type": "code",
   "execution_count": null,
   "id": "54943ca6-3586-46be-b302-435f5c8b43ef",
   "metadata": {},
   "outputs": [],
   "source": []
  },
  {
   "cell_type": "code",
   "execution_count": null,
   "id": "9c184a51-0543-4605-a1b2-f938d9b64961",
   "metadata": {},
   "outputs": [],
   "source": []
  },
  {
   "cell_type": "code",
   "execution_count": null,
   "id": "f1295369-268c-47f5-9b9c-21efa6156ee6",
   "metadata": {},
   "outputs": [],
   "source": []
  },
  {
   "cell_type": "markdown",
   "id": "89a60f79-c979-4f36-981d-e009e2394b4d",
   "metadata": {},
   "source": [
    "## Plot Genebody coverage per scSLR library portion "
   ]
  },
  {
   "cell_type": "code",
   "execution_count": 10,
   "id": "d1481ca2-fa7d-4ea8-b717-53bb96cebc5f",
   "metadata": {
    "tags": []
   },
   "outputs": [],
   "source": [
    "input_dir = '/c4/home/derek/data1/derek/data_scSLR/prenatal_brain/STAR_outs/GW17_1/StarOut/'"
   ]
  },
  {
   "cell_type": "code",
   "execution_count": 11,
   "id": "49d0d87c-28c0-42a1-a68a-755700a19e8c",
   "metadata": {
    "tags": []
   },
   "outputs": [],
   "source": [
    "df_SLR_internal=pd.read_csv(input_dir+'subsample_internal.geneBodyCoverage.txt',\n",
    "           sep='\\t',\n",
    "             index_col=0,\n",
    "            header=None,\n",
    "           ).T\n",
    "df_SLR_internal.columns = ['percentile','density']\n",
    "df_SLR_internal['tech'] = 'scSLR_internal'\n",
    "\n",
    "\n",
    "df_SLR_5prime=pd.read_csv(input_dir+'subsample_5prime.geneBodyCoverage.txt',\n",
    "           sep='\\t',\n",
    "             index_col=0,\n",
    "            header=None,\n",
    "           ).T\n",
    "df_SLR_5prime.columns = ['percentile','density']\n",
    "df_SLR_5prime['tech'] = 'scSLR_5prime'\n",
    "\n",
    "\n",
    "df_SLR_3prime=pd.read_csv(input_dir+'subsample_3prime.geneBodyCoverage.txt',\n",
    "           sep='\\t',\n",
    "             index_col=0,\n",
    "            header=None,\n",
    "           ).T\n",
    "df_SLR_3prime.columns = ['percentile','density']\n",
    "df_SLR_3prime['tech'] = 'scSLR_3prime'"
   ]
  },
  {
   "cell_type": "code",
   "execution_count": 12,
   "id": "2eeee7c8-b499-45da-a960-1becf9dc93fe",
   "metadata": {
    "tags": []
   },
   "outputs": [],
   "source": [
    "df = pd.concat([df_SLR_internal, \n",
    "                df_SLR_5prime,\n",
    "               df_SLR_3prime\n",
    "               ], ignore_index=True\n",
    "\n",
    "         )"
   ]
  },
  {
   "cell_type": "code",
   "execution_count": null,
   "id": "6a6b3d19-8fc5-4393-87cc-3008bf611fe4",
   "metadata": {
    "tags": []
   },
   "outputs": [],
   "source": []
  },
  {
   "cell_type": "code",
   "execution_count": 13,
   "id": "c4de142b-1050-4071-aa37-6bfbc3293ce3",
   "metadata": {
    "tags": []
   },
   "outputs": [
    {
     "name": "stderr",
     "output_type": "stream",
     "text": [
      "/scratch/derek/ipykernel_1402051/2617328723.py:3: UserWarning: The palette list has more values (11) than needed (3), which may not be intended.\n",
      "  sns.lineplot(data=df,\n"
     ]
    },
    {
     "data": {
      "text/plain": [
       "<matplotlib.legend.Legend at 0x7f5b54a511b0>"
      ]
     },
     "execution_count": 13,
     "metadata": {},
     "output_type": "execute_result"
    },
    {
     "data": {
      "image/png": "[encoded data removed]",
      "text/plain": [
       "<Figure size 500x500 with 1 Axes>"
      ]
     },
     "metadata": {},
     "output_type": "display_data"
    }
   ],
   "source": [
    "fig, ax = plt.subplots(1,1,figsize = (5,5))\n",
    "\n",
    "sns.lineplot(data=df,\n",
    "            x=\"percentile\",\n",
    "            y='density',\n",
    "            hue='tech',\n",
    "             linewidth = 3,\n",
    "            palette=plotly_map,\n",
    "             alpha=0.8,\n",
    "             ax = ax,\n",
    "              # style='tech'\n",
    "\n",
    "            )\n",
    "\n",
    "# ax.yaxis.set_major_locator(plt.MaxNLocator(6))\n",
    "\n",
    "ax.spines.right.set_visible(False)\n",
    "ax.spines.top.set_visible(False)\n",
    "\n",
    "ax.set_ylabel(\"Read coverage\")\n",
    "ax.set_xlabel(\"Gene body percentile (5'−>3')\")\n",
    "\n",
    "handles, labels = ax.get_legend_handles_labels()\n",
    "\n",
    "ax.legend(handles, [\"scSLR internal\", \n",
    "                    \"scSLR 5'\", \n",
    "                   \"scSLR 3'\"\n",
    "                   ])\n",
    "\n",
    "# fig.savefig('genebody_plot_techs.pdf')"
   ]
  },
  {
   "cell_type": "code",
   "execution_count": null,
   "id": "201d2f45-22bd-40f8-b494-ed35880c54bd",
   "metadata": {},
   "outputs": [],
   "source": []
  },
  {
   "cell_type": "code",
   "execution_count": null,
   "id": "4b7e8d85-f08d-4f94-a8ef-2d9f3e37a90e",
   "metadata": {},
   "outputs": [],
   "source": []
  },
  {
   "cell_type": "code",
   "execution_count": null,
   "id": "8ecadf0e-5fc1-447d-8cce-2381ff7765d2",
   "metadata": {},
   "outputs": [],
   "source": []
  },
  {
   "cell_type": "code",
   "execution_count": 18,
   "id": "6ad67706-2715-4b92-8de8-bf5227e934e1",
   "metadata": {},
   "outputs": [],
   "source": [
    "input_dir = '/c4/home/derek/data1/derek/data_scSLR/PBMC/STAR_outs/sample_2/UMItools_dedup_orig/'"
   ]
  },
  {
   "cell_type": "code",
   "execution_count": 20,
   "id": "1cecf024-49f8-4c26-92bd-f547890f19aa",
   "metadata": {},
   "outputs": [],
   "source": [
    "df_SLR_internal=pd.read_csv(input_dir+'/UMItools_internal_outs/internal_dedup.geneBodyCoverage.txt',\n",
    "           sep='\\t',\n",
    "             index_col=0,\n",
    "            header=None,\n",
    "           ).T\n",
    "df_SLR_internal.columns = ['percentile','density']\n",
    "df_SLR_internal['tech'] = 'scSLR_internal'\n",
    "\n",
    "\n",
    "df_SLR_5prime=pd.read_csv(input_dir+'/UMItools_5prime_outs/5prime_dedup.geneBodyCoverage.txt',\n",
    "           sep='\\t',\n",
    "             index_col=0,\n",
    "            header=None,\n",
    "           ).T\n",
    "df_SLR_5prime.columns = ['percentile','density']\n",
    "df_SLR_5prime['tech'] = 'scSLR_5prime'\n",
    "\n"
   ]
  },
  {
   "cell_type": "code",
   "execution_count": 21,
   "id": "0c1c3609-2344-447e-8c48-6aaff8262a2f",
   "metadata": {},
   "outputs": [],
   "source": [
    "df = pd.concat([df_SLR_internal, \n",
    "                df_SLR_5prime,\n",
    "               ], ignore_index=True\n",
    "\n",
    "         )"
   ]
  },
  {
   "cell_type": "code",
   "execution_count": 22,
   "id": "6f6a6ccf-fa03-4c12-902d-a1e03d8cc545",
   "metadata": {},
   "outputs": [
    {
     "name": "stderr",
     "output_type": "stream",
     "text": [
      "/scratch/derek/ipykernel_1402051/3981815242.py:3: UserWarning: The palette list has more values (11) than needed (2), which may not be intended.\n",
      "  sns.lineplot(data=df,\n"
     ]
    },
    {
     "data": {
      "text/plain": [
       "<matplotlib.legend.Legend at 0x7f5b54b0c700>"
      ]
     },
     "execution_count": 22,
     "metadata": {},
     "output_type": "execute_result"
    },
    {
     "data": {
      "image/png": "[encoded data removed]",
      "text/plain": [
       "<Figure size 500x500 with 1 Axes>"
      ]
     },
     "metadata": {},
     "output_type": "display_data"
    }
   ],
   "source": [
    "fig, ax = plt.subplots(1,1,figsize = (5,5))\n",
    "\n",
    "sns.lineplot(data=df,\n",
    "            x=\"percentile\",\n",
    "            y='density',\n",
    "            hue='tech',\n",
    "             linewidth = 3,\n",
    "            palette=plotly_map,\n",
    "             alpha=0.8,\n",
    "             ax = ax,\n",
    "              # style='tech'\n",
    "\n",
    "            )\n",
    "\n",
    "# ax.yaxis.set_major_locator(plt.MaxNLocator(6))\n",
    "\n",
    "ax.spines.right.set_visible(False)\n",
    "ax.spines.top.set_visible(False)\n",
    "\n",
    "ax.set_ylabel(\"Read coverage\")\n",
    "ax.set_xlabel(\"Gene body percentile (5'−>3')\")\n",
    "\n",
    "handles, labels = ax.get_legend_handles_labels()\n",
    "\n",
    "ax.legend(handles, [\"scSLR internal\", \n",
    "                    \"scSLR 5'\", \n",
    "                   ])"
   ]
  },
  {
   "cell_type": "code",
   "execution_count": null,
   "id": "8939aee0-3f56-41d7-955c-e4bda0ce1dcc",
   "metadata": {},
   "outputs": [],
   "source": []
  },
  {
   "cell_type": "code",
   "execution_count": null,
   "id": "0efdd9ed-3b6a-46f3-b883-b086401c4121",
   "metadata": {},
   "outputs": [],
   "source": []
  },
  {
   "cell_type": "code",
   "execution_count": null,
   "id": "e8ad1c8c-e59c-4298-8a90-9fff9a8cbbad",
   "metadata": {},
   "outputs": [],
   "source": []
  },
  {
   "cell_type": "code",
   "execution_count": null,
   "id": "3b08c064-a03c-43ff-b40b-0d2f90c60332",
   "metadata": {},
   "outputs": [],
   "source": []
  },
  {
   "cell_type": "code",
   "execution_count": null,
   "id": "d3e18991-ae63-4649-b372-1f03d5cc11ee",
   "metadata": {},
   "outputs": [],
   "source": []
  },
  {
   "cell_type": "code",
   "execution_count": null,
   "id": "2a08e184-4185-41c3-9164-049841185e77",
   "metadata": {},
   "outputs": [],
   "source": []
  },
  {
   "cell_type": "code",
   "execution_count": null,
   "id": "1ea37659-30d2-4cf5-9fba-a9f3a4d9b0f3",
   "metadata": {},
   "outputs": [],
   "source": []
  },
  {
   "cell_type": "code",
   "execution_count": null,
   "id": "cd98d7ad-6287-493e-a86d-30e332192b1f",
   "metadata": {},
   "outputs": [],
   "source": []
  },
  {
   "cell_type": "code",
   "execution_count": null,
   "id": "9508d403-45aa-4826-9b01-61a604eac366",
   "metadata": {},
   "outputs": [],
   "source": []
  },
  {
   "cell_type": "code",
   "execution_count": null,
   "id": "ae015669-a79b-464a-b544-5c353beece09",
   "metadata": {},
   "outputs": [],
   "source": []
  },
  {
   "cell_type": "code",
   "execution_count": null,
   "id": "a7a570ee-283f-4523-825a-b6ec0dd1023b",
   "metadata": {},
   "outputs": [],
   "source": []
  },
  {
   "cell_type": "code",
   "execution_count": null,
   "id": "ef3bc2ed-0d13-4cb0-b311-ca456f1469bd",
   "metadata": {},
   "outputs": [],
   "source": []
  }
 ],
 "metadata": {
  "kernelspec": {
   "display_name": "Python 3 (ipykernel)",
   "language": "python",
   "name": "python3"
  },
  "language_info": {
   "codemirror_mode": {
    "name": "ipython",
    "version": 3
   },
   "file_extension": ".py",
   "mimetype": "text/x-python",
   "name": "python",
   "nbconvert_exporter": "python",
   "pygments_lexer": "ipython3",
   "version": "3.10.15"
  }
 },
 "nbformat": 4,
 "nbformat_minor": 5
}
