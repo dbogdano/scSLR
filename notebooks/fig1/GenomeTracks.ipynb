{
 "cells": [
  {
   "cell_type": "markdown",
   "id": "360abef0-db75-426c-8bf7-126508524132",
   "metadata": {},
   "source": [
    "# QC experiments Genome Tracks "
   ]
  },
  {
   "cell_type": "code",
   "execution_count": 1,
   "id": "4b7b256f-07c0-4a7e-8970-70783bc83c36",
   "metadata": {},
   "outputs": [
    {
     "name": "stdout",
     "output_type": "stream",
     "text": [
      "Fri Aug 16 14:38:43 PDT 2024\n"
     ]
    }
   ],
   "source": [
    "!date"
   ]
  },
  {
   "cell_type": "code",
   "execution_count": 2,
   "id": "5c3090f2-6179-4ffe-a425-fa24de77223d",
   "metadata": {},
   "outputs": [
    {
     "name": "stdout",
     "output_type": "stream",
     "text": [
      "/c4/home/derek/miniconda3/envs/pygenometracks_2\n"
     ]
    }
   ],
   "source": [
    "!echo $CONDA_PREFIX"
   ]
  },
  {
   "cell_type": "code",
   "execution_count": 3,
   "id": "749f8e77-58a0-4728-b152-cf354e9c54ce",
   "metadata": {},
   "outputs": [],
   "source": [
    "import pandas as pd\n",
    "import numpy as np\n",
    "\n",
    "import seaborn as sns\n",
    "import matplotlib.pyplot as plt\n",
    "from pygenometracks import tracks\n",
    "\n",
    "import scanpy as sc"
   ]
  },
  {
   "cell_type": "code",
   "execution_count": null,
   "id": "884e4aa8-ab90-4840-9bed-f20a9554e75d",
   "metadata": {},
   "outputs": [],
   "source": []
  },
  {
   "cell_type": "code",
   "execution_count": 34,
   "id": "bf422e4b-eaae-4024-9f5e-40d0ea3c4d78",
   "metadata": {},
   "outputs": [],
   "source": [
    "# GTF_input='/c4/home/derek/data1/derek/reference/human_hp3_reference/genes/genes.gtf'\n",
    "\n",
    "GTF_input='/c4/home/derek/data1/derek/reference/refdata-gex-GRCm39-2024-A/genes/genes.gtf'\n",
    "\n",
    "GTF = pd.read_csv(GTF_input,sep='\\t',comment='#',header=None,names=['seqname', 'source', 'feature', 'start' , 'end', 'score', 'strand', 'frame', 'attribute'])\n",
    "\n",
    "\n",
    "coord_dict = {}\n",
    "\n",
    "for index, line in GTF.iterrows():\n",
    "    if line['feature'] == 'gene':\n",
    "\n",
    "        attribute_list = line['attribute'].split(';')\n",
    "    \n",
    "        gene_name = [i for i in attribute_list if i.startswith(' gene_name')][0].split('\"')[1]\n",
    "    \n",
    "        coordinate = str(line['seqname'])+':'+str(line['start'])+'-'+str(line['end'])\n",
    "    \n",
    "        coord_dict[gene_name] = coordinate\n",
    "    else:\n",
    "        pass"
   ]
  },
  {
   "cell_type": "code",
   "execution_count": 5,
   "id": "36d40600-e237-4079-b94f-a8bd7b0dcbf8",
   "metadata": {},
   "outputs": [],
   "source": [
    "# %%bash\n",
    "# working_dir=/media/chang/HDD-4/derek/SLR/data/20210707/sinto_outs/\n",
    "\n",
    "# ##get bed file of exons\n",
    "# exon_bedfile=/home/derek/analysis_4/SLR/resources/exons.bed\n",
    "\n",
    "\n",
    "# ##only output alignments overlapping the exon bedfile \n",
    "# samtools view -bh -L $exon_bedfile $working_dir/OPC.bam> $working_dir/OPC.exons.bam ; samtools index $working_dir/OPC.exons.bam"
   ]
  },
  {
   "cell_type": "code",
   "execution_count": 6,
   "id": "f650a0c7-edbd-4be5-9732-cf9db8f7803e",
   "metadata": {},
   "outputs": [],
   "source": [
    "# %%bash\n",
    "# generate bigwig files from bams\n",
    "\n",
    "# working_dir=./T4_Mem_outs/\n",
    "\n",
    "# bamCoverage\\\n",
    "#     --bam $working_dir/T4_Mem.bam \\\n",
    "#     --outFileName $working_dir/T4_Mem_CD45.bw \\\n",
    "#     --ignoreDuplicates \\\n",
    "#     --binSize 1 \\\n",
    "#     --region chr1:198638457:198757476\n"
   ]
  },
  {
   "cell_type": "code",
   "execution_count": null,
   "id": "e692ea4c-7577-448f-b28c-a3f8f4249cff",
   "metadata": {
    "tags": []
   },
   "outputs": [],
   "source": []
  },
  {
   "cell_type": "code",
   "execution_count": 7,
   "id": "61667cd3-4c2a-43b5-a02a-a28952b220ae",
   "metadata": {},
   "outputs": [],
   "source": [
    "##create pyGenomeTracks configuration file"
   ]
  },
  {
   "cell_type": "code",
   "execution_count": 19,
   "id": "5d919103-c403-44d4-9eb5-222445a09b76",
   "metadata": {},
   "outputs": [
    {
     "data": {
      "text/plain": [
       "'/nowakowskilab/data1/derek/scSLR/notebooks/fig1'"
      ]
     },
     "execution_count": 19,
     "metadata": {},
     "output_type": "execute_result"
    }
   ],
   "source": [
    "pwd"
   ]
  },
  {
   "cell_type": "code",
   "execution_count": 9,
   "id": "7c290b3f-8ef5-4fd0-9e58-2e1bb5895828",
   "metadata": {},
   "outputs": [
    {
     "data": {
      "text/html": [
       "<svg  width=\"550\" height=\"55\"><rect x=\"0\" y=\"0\" width=\"55\" height=\"55\" style=\"fill:#023eff;stroke-width:2;stroke:rgb(255,255,255)\"/><rect x=\"55\" y=\"0\" width=\"55\" height=\"55\" style=\"fill:#ff7c00;stroke-width:2;stroke:rgb(255,255,255)\"/><rect x=\"110\" y=\"0\" width=\"55\" height=\"55\" style=\"fill:#1ac938;stroke-width:2;stroke:rgb(255,255,255)\"/><rect x=\"165\" y=\"0\" width=\"55\" height=\"55\" style=\"fill:#e8000b;stroke-width:2;stroke:rgb(255,255,255)\"/><rect x=\"220\" y=\"0\" width=\"55\" height=\"55\" style=\"fill:#8b2be2;stroke-width:2;stroke:rgb(255,255,255)\"/><rect x=\"275\" y=\"0\" width=\"55\" height=\"55\" style=\"fill:#9f4800;stroke-width:2;stroke:rgb(255,255,255)\"/><rect x=\"330\" y=\"0\" width=\"55\" height=\"55\" style=\"fill:#f14cc1;stroke-width:2;stroke:rgb(255,255,255)\"/><rect x=\"385\" y=\"0\" width=\"55\" height=\"55\" style=\"fill:#a3a3a3;stroke-width:2;stroke:rgb(255,255,255)\"/><rect x=\"440\" y=\"0\" width=\"55\" height=\"55\" style=\"fill:#ffc400;stroke-width:2;stroke:rgb(255,255,255)\"/><rect x=\"495\" y=\"0\" width=\"55\" height=\"55\" style=\"fill:#00d7ff;stroke-width:2;stroke:rgb(255,255,255)\"/></svg>"
      ],
      "text/plain": [
       "[(0.00784313725490196, 0.24313725490196078, 1.0),\n",
       " (1.0, 0.48627450980392156, 0.0),\n",
       " (0.10196078431372549, 0.788235294117647, 0.2196078431372549),\n",
       " (0.9098039215686274, 0.0, 0.043137254901960784),\n",
       " (0.5450980392156862, 0.16862745098039217, 0.8862745098039215),\n",
       " (0.6235294117647059, 0.2823529411764706, 0.0),\n",
       " (0.9450980392156862, 0.2980392156862745, 0.7568627450980392),\n",
       " (0.6392156862745098, 0.6392156862745098, 0.6392156862745098),\n",
       " (1.0, 0.7686274509803922, 0.0),\n",
       " (0.0, 0.8431372549019608, 1.0)]"
      ]
     },
     "execution_count": 9,
     "metadata": {},
     "output_type": "execute_result"
    }
   ],
   "source": [
    "sns.color_palette(\"bright\")"
   ]
  },
  {
   "cell_type": "code",
   "execution_count": 10,
   "id": "7117a42d-c7cf-4a1c-b643-b3981f62f71f",
   "metadata": {},
   "outputs": [
    {
     "data": {
      "text/plain": [
       "(0.00784313725490196, 0.24313725490196078, 1.0)"
      ]
     },
     "execution_count": 10,
     "metadata": {},
     "output_type": "execute_result"
    }
   ],
   "source": [
    "sns.color_palette(\"bright\")[0]"
   ]
  },
  {
   "cell_type": "code",
   "execution_count": 11,
   "id": "45a39f81-f2f8-4c5c-a227-2556c0f06d2e",
   "metadata": {},
   "outputs": [],
   "source": [
    "#merged_complete_5prime_dedup.bedgraph "
   ]
  },
  {
   "cell_type": "code",
   "execution_count": 12,
   "id": "14e601b5-6f3e-45fe-90eb-634f98d5640b",
   "metadata": {},
   "outputs": [
    {
     "name": "stdout",
     "output_type": "stream",
     "text": [
      "total 1256744\n",
      "drwxr-xr-x 2 derek nowakowskilab      4096 Jul  8 12:46 \u001b[0m\u001b[38;5;33mno_dedup\u001b[0m/\n",
      "-rw-r--r-- 1 derek nowakowskilab 542686138 Mar 24  2023 merged_complete_internal_dedup.bedgraph\n",
      "-rw-r--r-- 1 derek nowakowskilab 471792658 Mar 24  2023 merged_complete_5prime_dedup.bedgraph\n",
      "-rw-r--r-- 1 derek nowakowskilab  75450829 Mar 24  2023 sample2_complete_internal_dedup.bw\n",
      "-rw-r--r-- 1 derek nowakowskilab  64516916 Mar 24  2023 sample2_complete_5prime_dedup.bw\n",
      "-rw-r--r-- 1 derek nowakowskilab  66922361 Jan 10  2023 sample1_complete_5prime_dedup.bw\n",
      "-rw-r--r-- 1 derek nowakowskilab  65521540 Jan 10  2023 sample1_complete_internal_dedup.bw\n"
     ]
    }
   ],
   "source": [
    "ls -lt /c4/home/derek/data1/derek/data_scSLR/PBMC/BIGWIG_files/"
   ]
  },
  {
   "cell_type": "code",
   "execution_count": 13,
   "id": "11139132-12a3-4d64-bc58-373f374eb08d",
   "metadata": {},
   "outputs": [],
   "source": [
    "#/c4/home/derek/data1/derek/data_scSLR/PBMC/STAR_outs/sample_2/UMItools_dedup_outs/5prime/merged_complete_shared_5prime.bw"
   ]
  },
  {
   "cell_type": "code",
   "execution_count": 49,
   "id": "9673d4b0-1a46-4236-9258-bde7d2f352e7",
   "metadata": {
    "tags": []
   },
   "outputs": [
    {
     "name": "stdout",
     "output_type": "stream",
     "text": [
      "Overwriting bigwig_initial_test.ini\n"
     ]
    }
   ],
   "source": [
    "%%writefile bigwig_initial_test.ini\n",
    "\n",
    "\n",
    "[spacer]\n",
    "height = 0.1\n",
    "\n",
    "# [bigwig file test]\n",
    "# file = /c4/home/derek/data1/derek/data_scSLR/PBMC/BIGWIG_files/no_dedup/sample2_5prime_merged_dedup.bw\n",
    "# color = (0.00784313725490196, 0.24313725490196078, 1.0)\n",
    "# # height of the track in cm (optional value)\n",
    "# height = 4\n",
    "# #title = 5prime\n",
    "# min_value = 0\n",
    "# # max_value = 25000\n",
    "# alpha = 1\n",
    "# #operation = log10((1 + file))\n",
    "# # overlay_previous = share-y\n",
    "# type = line:2\n",
    "# #type = fill\n",
    "# use_middle = true\n",
    "\n",
    "\n",
    "# [bigwig file test]\n",
    "# file =  /c4/home/derek/data1/derek/data_scSLR/PBMC/BIGWIG_files/no_dedup/sample2_internal_merged_dedup.bw\n",
    "# color = (0.9098039215686274, 0.0, 0.043137254901960784) \n",
    "# # height of the track in cm (optional value)\n",
    "# height = 4\n",
    "# #title = internal\n",
    "# min_value = 0\n",
    "# # max_value = 10000000\n",
    "# alpha = 1\n",
    "# #operation = log10((1 + file))\n",
    "# overlay_previous = share-y\n",
    "# type = line:2\n",
    "# #type = fill\n",
    "# use_middle = true\n",
    "\n",
    "\n",
    "[bigwig file test]\n",
    "file =  /c4/home/derek/data1/derek/reference/VASA/SRR14783082_STAR_outs/Aligned.sortedByCoord.sort.bw\n",
    "color = (0.9098039215686274, 0.0, 0.043137254901960784) \n",
    "# height of the track in cm (optional value)\n",
    "height = 4\n",
    "#title = internal\n",
    "# min_value = 0\n",
    "# max_value = 10000000\n",
    "# alpha = 1\n",
    "#operation = log10((1 + file))\n",
    "# overlay_previous = share-y\n",
    "# type = line:2\n",
    "type = fill\n",
    "use_middle = true\n",
    "\n",
    "\n",
    "# [spacer]\n",
    "# height = 1\n",
    "\n",
    "\n",
    "\n",
    "\n",
    "\n",
    "[spacer]\n",
    "height = 0.5\n",
    "\n",
    "[genes]\n",
    "color = black  \n",
    "# file = /c4/home/derek/data1/HDD-2/derek/reference/refdata-gex-GRCh38-2020-A/genes/genes.gtf\n",
    "file = /c4/home/derek/data1/derek/reference/refdata-gex-GRCm39-2024-A/genes/genes.gtf\n",
    "height = 3\n",
    "# title = gtf\n",
    "fontsize = 8\n",
    "file_type = gtf\n",
    "gene_rows = 10\n",
    "\n",
    "[x-axis]\n",
    "fontsize=10\n"
   ]
  },
  {
   "cell_type": "code",
   "execution_count": 80,
   "id": "858d0bb8-4e54-40ad-938c-7c6307a03f82",
   "metadata": {
    "tags": []
   },
   "outputs": [
    {
     "data": {
      "text/plain": [
       "['Kif3b', 'Kif3a', 'Kif3c']"
      ]
     },
     "execution_count": 80,
     "metadata": {},
     "output_type": "execute_result"
    }
   ],
   "source": [
    "[i for i in coord_dict.keys() if i.startswith('Kif3')]"
   ]
  },
  {
   "cell_type": "code",
   "execution_count": 44,
   "id": "a6afc0b7-2e3d-4086-aabc-73f81c15066b",
   "metadata": {},
   "outputs": [],
   "source": [
    "#PTPRC 'chr1:198638457-198757476'"
   ]
  },
  {
   "cell_type": "code",
   "execution_count": null,
   "id": "12d3390f-771c-4f62-b567-823480dd622a",
   "metadata": {},
   "outputs": [],
   "source": []
  },
  {
   "cell_type": "code",
   "execution_count": 85,
   "id": "8c3149cf-e845-4640-83f4-bb75132a97e4",
   "metadata": {},
   "outputs": [],
   "source": [
    "coord = coord_dict['Kif3b']"
   ]
  },
  {
   "cell_type": "code",
   "execution_count": 86,
   "id": "ab5008b7-cbb5-4a19-b66e-69301f4cd469",
   "metadata": {
    "tags": []
   },
   "outputs": [],
   "source": [
    "# coord = 'chr12:6536500-6538374'"
   ]
  },
  {
   "cell_type": "code",
   "execution_count": 87,
   "id": "58653f27-41ca-4a59-99ec-1c77db968ff6",
   "metadata": {
    "tags": []
   },
   "outputs": [
    {
     "name": "stderr",
     "output_type": "stream",
     "text": [
      "WARNING:pygenometracks.tracksClass:In section 2. [bigwig file test], these parameters are unused:['use_middle'].\n",
      "\n",
      "WARNING:pygenometracks.tracksClass:title not set for section 2. [bigwig file test]\n",
      "\n",
      "WARNING:pygenometracks.tracksClass:title not set for section 4. [genes]\n",
      "\n",
      "INFO:pygenometracks.tracksClass:initialize 1. [spacer]\n",
      "INFO:pygenometracks.tracksClass:initialize 2. [bigwig file test]\n",
      "INFO:pygenometracks.tracksClass:initialize 3. [spacer]\n",
      "INFO:pygenometracks.tracksClass:initialize 4. [genes]\n",
      "100%|██████████| 33/33 [00:00<00:00, 1118.24it/s]\n",
      "INFO:pygenometracks.tracksClass:initialize 5. [x-axis]\n",
      "INFO:pygenometracks.tracksClass:time initializing track(s):\n",
      "INFO:pygenometracks.tracksClass:4.727173566818237\n",
      "DEBUG:pygenometracks.tracksClass:Figure size in cm is 40 x 12.606382978723405. Dpi is set to 72\n",
      "\n",
      "INFO:pygenometracks.tracksClass:plotting 1. [spacer]\n",
      "INFO:pygenometracks.tracksClass:plotting 2. [bigwig file test]\n",
      "INFO:pygenometracks.tracksClass:plotting 3. [spacer]\n",
      "INFO:pygenometracks.tracksClass:plotting 4. [genes]\n",
      "DEBUG:pygenometracks.tracks.GenomeTrack:ylim 24.08,-0.08\n",
      "INFO:pygenometracks.tracksClass:plotting 5. [x-axis]\n"
     ]
    }
   ],
   "source": [
    "%%bash -s \"$coord\"\n",
    "\n",
    "coord=$1\n",
    "\n",
    "pyGenomeTracks --tracks bigwig_initial_test.ini \\\n",
    "               --region $coord \\\n",
    "               -o bigwig_test.png \\\n",
    "                # --decreasingXAxis"
   ]
  },
  {
   "cell_type": "code",
   "execution_count": 88,
   "id": "badc8a64-7e32-4a92-881e-c8ed94872a70",
   "metadata": {},
   "outputs": [
    {
     "data": {
      "image/png": "[encoded data removed]",
      "text/plain": [
       "<IPython.core.display.Image object>"
      ]
     },
     "execution_count": 88,
     "metadata": {},
     "output_type": "execute_result"
    }
   ],
   "source": [
    "from IPython.display import Image\n",
    "Image(filename='bigwig_test.png')"
   ]
  },
  {
   "cell_type": "code",
   "execution_count": null,
   "id": "a1f77779-9488-4bc7-a8a6-236d60ab3691",
   "metadata": {},
   "outputs": [],
   "source": []
  },
  {
   "cell_type": "code",
   "execution_count": 89,
   "id": "0c683baf-fd87-4371-997c-ffaa1b8e091b",
   "metadata": {},
   "outputs": [
    {
     "name": "stderr",
     "output_type": "stream",
     "text": [
      "WARNING:pygenometracks.tracksClass:In section 2. [bigwig file test], these parameters are unused:['use_middle'].\n",
      "\n",
      "WARNING:pygenometracks.tracksClass:title not set for section 2. [bigwig file test]\n",
      "\n",
      "WARNING:pygenometracks.tracksClass:title not set for section 4. [genes]\n",
      "\n",
      "INFO:pygenometracks.tracksClass:initialize 1. [spacer]\n",
      "INFO:pygenometracks.tracksClass:initialize 2. [bigwig file test]\n",
      "INFO:pygenometracks.tracksClass:initialize 3. [spacer]\n",
      "INFO:pygenometracks.tracksClass:initialize 4. [genes]\n",
      "0it [00:00, ?it/s]\n",
      "WARNING:pygenometracks.tracks.GenomeTrack:No valid intervals were found in file /c4/home/derek/data1/derek/reference/refdata-gex-GRCm39-2024-A/genes/genes.gtf.\n",
      "\n",
      "INFO:pygenometracks.tracksClass:initialize 5. [x-axis]\n",
      "INFO:pygenometracks.tracksClass:time initializing track(s):\n",
      "INFO:pygenometracks.tracksClass:4.422418594360352\n",
      "DEBUG:pygenometracks.tracksClass:Figure size in cm is 40 x 12.606382978723405. Dpi is set to 72\n",
      "\n",
      "INFO:pygenometracks.tracksClass:plotting 1. [spacer]\n",
      "INFO:pygenometracks.tracksClass:plotting 2. [bigwig file test]\n",
      "INFO:pygenometracks.tracksClass:plotting 3. [spacer]\n",
      "INFO:pygenometracks.tracksClass:plotting 4. [genes]\n",
      "WARNING:pygenometracks.tracks.GenomeTrack:*Warning*\n",
      "No interval was found when overlapping with both chr5:133002554-133204864 and 5:133002554-133204864 inside the bed file. This will generate an empty track!!\n",
      "\n",
      "INFO:pygenometracks.tracksClass:plotting 5. [x-axis]\n"
     ]
    }
   ],
   "source": [
    "%%bash -s \"$coord\"\n",
    "\n",
    "coord=$1\n",
    "\n",
    "pyGenomeTracks --tracks bigwig_initial_test.ini \\\n",
    "               --region chr5:133102554-133104864 \\\n",
    "               -o bigwig_test.png \\\n",
    "                --decreasingXAxis"
   ]
  },
  {
   "cell_type": "raw",
   "id": "04747bd6-c9c8-43e2-9415-702ce3b70bc1",
   "metadata": {},
   "source": [
    "from IPython.display import Image\n",
    "Image(filename='bigwig_test.png')"
   ]
  },
  {
   "cell_type": "code",
   "execution_count": null,
   "id": "f31d3cfb-114d-4a97-a54f-3eed8194a87e",
   "metadata": {},
   "outputs": [],
   "source": []
  },
  {
   "cell_type": "code",
   "execution_count": null,
   "id": "11f62620-8cf0-4def-89b3-2e55a6125d30",
   "metadata": {},
   "outputs": [],
   "source": []
  },
  {
   "cell_type": "code",
   "execution_count": 22,
   "id": "ee2ee6fe-b7b1-4e2c-8e42-f07606258bcf",
   "metadata": {},
   "outputs": [
    {
     "name": "stderr",
     "output_type": "stream",
     "text": [
      "WARNING:pygenometracks.tracksClass:In section 2. [bigwig file test], these parameters are unused:['use_middle'].\n",
      "\n",
      "WARNING:pygenometracks.tracksClass:title not set for section 2. [bigwig file test]\n",
      "\n",
      "WARNING:pygenometracks.tracksClass:In section 3. [bigwig file test], these parameters are unused:['use_middle'].\n",
      "\n",
      "WARNING:pygenometracks.tracksClass:title not set for section 5. [genes]\n",
      "\n",
      "INFO:pygenometracks.tracksClass:initialize 1. [spacer]\n",
      "INFO:pygenometracks.tracksClass:initialize 2. [bigwig file test]\n",
      "INFO:pygenometracks.tracksClass:initialize 3. [bigwig file test]\n",
      "INFO:pygenometracks.tracksClass:initialize 4. [spacer]\n",
      "INFO:pygenometracks.tracksClass:initialize 5. [genes]\n",
      "100%|██████████| 166/166 [00:00<00:00, 738.95it/s]\n",
      "INFO:pygenometracks.tracksClass:initialize 6. [x-axis]\n",
      "INFO:pygenometracks.tracksClass:time initializing track(s):\n",
      "INFO:pygenometracks.tracksClass:7.691610336303711\n",
      "DEBUG:pygenometracks.tracksClass:Figure size in cm is 40 x 9.414893617021276. Dpi is set to 72\n",
      "\n",
      "INFO:pygenometracks.tracksClass:plotting 1. [spacer]\n",
      "INFO:pygenometracks.tracksClass:plotting 2. [bigwig file test]\n",
      "INFO:pygenometracks.tracksClass:plotting 3. [bigwig file test]\n",
      "INFO:pygenometracks.tracksClass:plotting 4. [spacer]\n",
      "INFO:pygenometracks.tracksClass:plotting 5. [genes]\n",
      "DEBUG:pygenometracks.tracks.GenomeTrack:ylim 24.08,-0.08\n",
      "INFO:pygenometracks.tracksClass:plotting 6. [x-axis]\n"
     ]
    }
   ],
   "source": [
    "%%bash -s \"$coord\"\n",
    "\n",
    "coord=$1\n",
    "\n",
    "pyGenomeTracks --tracks bigwig_initial_test.ini \\\n",
    "               --region  $coord \\\n",
    "               -o ./plots/HNRNPA1.pdf \\\n",
    "                # --decreasingXAxis"
   ]
  },
  {
   "cell_type": "code",
   "execution_count": 23,
   "id": "21c741a5-0cd1-474f-9439-b9088e5e72af",
   "metadata": {
    "tags": []
   },
   "outputs": [],
   "source": [
    "# from IPython.display import Image\n",
    "# Image(filename='bigwig_GAPDH.png',)"
   ]
  },
  {
   "cell_type": "code",
   "execution_count": null,
   "id": "abf57343-71ed-4d15-b022-d685bed547ce",
   "metadata": {},
   "outputs": [],
   "source": []
  },
  {
   "cell_type": "code",
   "execution_count": null,
   "id": "a7e3c0f1-529b-43f3-a6d5-2993e1eaf576",
   "metadata": {},
   "outputs": [],
   "source": []
  },
  {
   "cell_type": "code",
   "execution_count": null,
   "id": "83897f63-6125-46f9-bc8f-78bb7dc117ce",
   "metadata": {},
   "outputs": [],
   "source": []
  },
  {
   "cell_type": "code",
   "execution_count": 24,
   "id": "2e9b91d0-4a29-4f1f-8c0b-eadfdf978f0a",
   "metadata": {},
   "outputs": [
    {
     "name": "stderr",
     "output_type": "stream",
     "text": [
      "WARNING:pygenometracks.tracksClass:In section 2. [bigwig file test], these parameters are unused:['use_middle'].\n",
      "\n",
      "WARNING:pygenometracks.tracksClass:title not set for section 2. [bigwig file test]\n",
      "\n",
      "WARNING:pygenometracks.tracksClass:In section 3. [bigwig file test], these parameters are unused:['use_middle'].\n",
      "\n",
      "WARNING:pygenometracks.tracksClass:title not set for section 5. [genes]\n",
      "\n",
      "INFO:pygenometracks.tracksClass:initialize 1. [spacer]\n",
      "INFO:pygenometracks.tracksClass:initialize 2. [bigwig file test]\n",
      "INFO:pygenometracks.tracksClass:initialize 3. [bigwig file test]\n",
      "INFO:pygenometracks.tracksClass:initialize 4. [spacer]\n",
      "INFO:pygenometracks.tracksClass:initialize 5. [genes]\n",
      "100%|██████████| 166/166 [00:00<00:00, 740.61it/s]\n",
      "INFO:pygenometracks.tracksClass:initialize 6. [x-axis]\n",
      "INFO:pygenometracks.tracksClass:time initializing track(s):\n",
      "INFO:pygenometracks.tracksClass:7.66900897026062\n",
      "DEBUG:pygenometracks.tracksClass:Figure size in cm is 40 x 9.414893617021276. Dpi is set to 72\n",
      "\n",
      "INFO:pygenometracks.tracksClass:plotting 1. [spacer]\n",
      "INFO:pygenometracks.tracksClass:plotting 2. [bigwig file test]\n",
      "INFO:pygenometracks.tracksClass:plotting 3. [bigwig file test]\n",
      "INFO:pygenometracks.tracksClass:plotting 4. [spacer]\n",
      "INFO:pygenometracks.tracksClass:plotting 5. [genes]\n",
      "DEBUG:pygenometracks.tracks.GenomeTrack:ylim 24.08,-0.08\n",
      "INFO:pygenometracks.tracksClass:plotting 6. [x-axis]\n"
     ]
    }
   ],
   "source": [
    "%%bash\n",
    "pyGenomeTracks --tracks bigwig_initial_test.ini --region 'chr12:6534512-6538374' -o bigwig_test.png   \n",
    "\n",
    "#pyGenomeTracks --tracks bigwig_initial_test.ini --region 'chr1:198692000-198704000' -o bigwig_PTPRC.png "
   ]
  },
  {
   "cell_type": "code",
   "execution_count": 25,
   "id": "75c96a29-ea03-42bf-b995-57a11940e7f9",
   "metadata": {},
   "outputs": [
    {
     "data": {
      "image/png": "[encoded data removed]",
      "text/plain": [
       "<IPython.core.display.Image object>"
      ]
     },
     "execution_count": 25,
     "metadata": {},
     "output_type": "execute_result"
    }
   ],
   "source": [
    "from IPython.display import Image\n",
    "Image(filename='bigwig_test.png',)"
   ]
  },
  {
   "cell_type": "code",
   "execution_count": null,
   "id": "9d02397f-68eb-4681-9bb2-45f5aa581e35",
   "metadata": {},
   "outputs": [],
   "source": []
  },
  {
   "cell_type": "code",
   "execution_count": 26,
   "id": "4165fa75-f006-4350-a5c4-af88c8072e7a",
   "metadata": {},
   "outputs": [
    {
     "name": "stderr",
     "output_type": "stream",
     "text": [
      "WARNING:pygenometracks.tracksClass:In section 2. [bigwig file test], these parameters are unused:['use_middle'].\n",
      "\n",
      "WARNING:pygenometracks.tracksClass:title not set for section 2. [bigwig file test]\n",
      "\n",
      "WARNING:pygenometracks.tracksClass:In section 3. [bigwig file test], these parameters are unused:['use_middle'].\n",
      "\n",
      "WARNING:pygenometracks.tracksClass:title not set for section 5. [genes]\n",
      "\n",
      "INFO:pygenometracks.tracksClass:initialize 1. [spacer]\n",
      "INFO:pygenometracks.tracksClass:initialize 2. [bigwig file test]\n",
      "INFO:pygenometracks.tracksClass:initialize 3. [bigwig file test]\n",
      "INFO:pygenometracks.tracksClass:initialize 4. [spacer]\n",
      "INFO:pygenometracks.tracksClass:initialize 5. [genes]\n",
      "100%|██████████| 26/26 [00:00<00:00, 884.92it/s]\n",
      "INFO:pygenometracks.tracksClass:initialize 6. [x-axis]\n",
      "INFO:pygenometracks.tracksClass:time initializing track(s):\n",
      "INFO:pygenometracks.tracksClass:6.135711431503296\n",
      "DEBUG:pygenometracks.tracksClass:Figure size in cm is 40 x 9.414893617021276. Dpi is set to 72\n",
      "\n",
      "INFO:pygenometracks.tracksClass:plotting 1. [spacer]\n",
      "INFO:pygenometracks.tracksClass:plotting 2. [bigwig file test]\n",
      "INFO:pygenometracks.tracksClass:plotting 3. [bigwig file test]\n",
      "INFO:pygenometracks.tracksClass:plotting 4. [spacer]\n",
      "INFO:pygenometracks.tracksClass:plotting 5. [genes]\n",
      "DEBUG:pygenometracks.tracks.GenomeTrack:ylim 24.08,-0.08\n",
      "INFO:pygenometracks.tracksClass:plotting 6. [x-axis]\n"
     ]
    }
   ],
   "source": [
    "%%bash\n",
    "pyGenomeTracks --tracks bigwig_initial_test.ini --region 'chr1:198638457-198725000' -o bigwig_test.png "
   ]
  },
  {
   "cell_type": "code",
   "execution_count": null,
   "id": "f9ce6e33-dd6e-4f6f-a71e-b6ef4a47732a",
   "metadata": {},
   "outputs": [],
   "source": []
  },
  {
   "cell_type": "code",
   "execution_count": null,
   "id": "c569270b-4aa0-4244-bbb8-bfd517040711",
   "metadata": {},
   "outputs": [],
   "source": []
  },
  {
   "cell_type": "code",
   "execution_count": null,
   "id": "6205a1c1-e89e-49f7-b30d-49f014bf9234",
   "metadata": {},
   "outputs": [],
   "source": []
  },
  {
   "cell_type": "code",
   "execution_count": null,
   "id": "d63a51ab-7a67-4585-8c9e-ca6ad275951a",
   "metadata": {},
   "outputs": [],
   "source": []
  },
  {
   "cell_type": "code",
   "execution_count": null,
   "id": "2b91ea88-a7e5-4b34-ae6c-da5a861544c9",
   "metadata": {},
   "outputs": [],
   "source": []
  },
  {
   "cell_type": "code",
   "execution_count": 27,
   "id": "03993f5c-04dd-4299-b547-75a7aee8e7e5",
   "metadata": {},
   "outputs": [
    {
     "name": "stdout",
     "output_type": "stream",
     "text": [
      "# packages in environment at /c4/home/derek/miniconda3/envs/pygenometracks_2:\n",
      "#\n",
      "# Name                    Version                   Build  Channel\n",
      "_libgcc_mutex             0.1                 conda_forge    conda-forge\n",
      "_openmp_mutex             4.5                       2_gnu    conda-forge\n",
      "aiofiles                  22.1.0             pyhd8ed1ab_0    conda-forge\n",
      "aiosqlite                 0.19.0             pyhd8ed1ab_0    conda-forge\n",
      "anndata                   0.8.0                    pypi_0    pypi\n",
      "anyio                     3.7.1              pyhd8ed1ab_0    conda-forge\n",
      "argcomplete               3.0.8              pyhd8ed1ab_0    conda-forge\n",
      "argh                      0.27.2             pyhd8ed1ab_0    conda-forge\n",
      "argon2-cffi               23.1.0             pyhd8ed1ab_0    conda-forge\n",
      "argon2-cffi-bindings      21.2.0           py37h540881e_2    conda-forge\n",
      "arrow                     1.2.3              pyhd8ed1ab_0    conda-forge\n",
      "asciitree                 0.3.3                      py_2    conda-forge\n",
      "attrs                     23.1.0             pyh71513ae_1    conda-forge\n",
      "babel                     2.12.1             pyhd8ed1ab_1    conda-forge\n",
      "backcall                  0.2.0              pyh9f0ad1d_0    conda-forge\n",
      "backports                 1.0                pyhd8ed1ab_3    conda-forge\n",
      "backports.functools_lru_cache 1.6.5              pyhd8ed1ab_0    conda-forge\n",
      "beautifulsoup4            4.12.2             pyha770c72_0    conda-forge\n",
      "bedtools                  2.31.0               hf5e1c6e_2    bioconda\n",
      "biopython                 1.79             py37h540881e_2    conda-forge\n",
      "bleach                    6.0.0              pyhd8ed1ab_0    conda-forge\n",
      "blosc                     1.21.4               h0f2a231_0    conda-forge\n",
      "bokeh                     2.4.3              pyhd8ed1ab_3    conda-forge\n",
      "bottleneck                1.3.5            py37hda87dfa_0    conda-forge\n",
      "brotli                    1.0.9                h166bdaf_9    conda-forge\n",
      "brotli-bin                1.0.9                h166bdaf_9    conda-forge\n",
      "brotli-python             1.0.9            py37hd23a5d3_7    conda-forge\n",
      "bx-python                 0.9.0            py37hfa8f21c_1    bioconda\n",
      "bzip2                     1.0.8                h7f98852_4    conda-forge\n",
      "c-ares                    1.19.1               hd590300_0    conda-forge\n",
      "ca-certificates           2023.7.22            hbcca054_0    conda-forge\n",
      "cached-property           1.5.2                hd8ed1ab_1    conda-forge\n",
      "cached_property           1.5.2              pyha770c72_1    conda-forge\n",
      "cattrs                    23.1.2                   pypi_0    pypi\n",
      "certifi                   2023.7.22          pyhd8ed1ab_0    conda-forge\n",
      "cffi                      1.15.1           py37h43b0acd_1    conda-forge\n",
      "charset-normalizer        3.2.0              pyhd8ed1ab_0    conda-forge\n",
      "click                     8.1.3            py37h89c1867_0    conda-forge\n",
      "cloudpickle               2.2.1              pyhd8ed1ab_0    conda-forge\n",
      "colorama                  0.4.6              pyhd8ed1ab_0    conda-forge\n",
      "conda                     22.9.0           py37h89c1867_1    conda-forge\n",
      "conda-package-handling    2.2.0              pyh38be061_0    conda-forge\n",
      "conda-package-streaming   0.9.0              pyhd8ed1ab_0    conda-forge\n",
      "cooler                    0.9.2              pyh7cba7a3_0    bioconda\n",
      "cryptography              38.0.2           py37h38fbfac_1    conda-forge\n",
      "cycler                    0.11.0             pyhd8ed1ab_0    conda-forge\n",
      "cytoolz                   0.12.0           py37h540881e_0    conda-forge\n",
      "dask                      2021.10.0          pyhd8ed1ab_0    conda-forge\n",
      "dask-core                 2021.10.0          pyhd3eb1b0_0  \n",
      "debugpy                   1.6.3            py37hd23a5d3_0    conda-forge\n",
      "decorator                 5.1.1              pyhd8ed1ab_0    conda-forge\n",
      "defusedxml                0.7.1              pyhd8ed1ab_0    conda-forge\n",
      "dill                      0.3.7              pyhd8ed1ab_0    conda-forge\n",
      "distributed               2021.10.0        py37h06a4308_0  \n",
      "entrypoints               0.4                pyhd8ed1ab_0    conda-forge\n",
      "exceptiongroup            1.1.3              pyhd8ed1ab_0    conda-forge\n",
      "fonttools                 4.38.0           py37h540881e_0    conda-forge\n",
      "fqdn                      1.5.1              pyhd8ed1ab_0    conda-forge\n",
      "freetype                  2.12.1               hca18f0e_1    conda-forge\n",
      "fsspec                    2023.1.0           pyhd8ed1ab_0    conda-forge\n",
      "future                    0.18.2           py37h89c1867_5    conda-forge\n",
      "gffutils                  0.12               pyh7cba7a3_0    bioconda\n",
      "gmp                       6.2.1                h58526e2_0    conda-forge\n",
      "h5py                      3.7.0           nompi_py37hf1ce037_101    conda-forge\n",
      "hdf5                      1.12.2          nompi_h2386368_101    conda-forge\n",
      "heapdict                  1.0.1                      py_0    conda-forge\n",
      "hicmatrix                 17                 pyhdfd78af_0    bioconda\n",
      "htslib                    1.17                 h6bc39ce_1    bioconda\n",
      "icu                       72.1                 hcb278e6_0    conda-forge\n",
      "idna                      3.4                pyhd8ed1ab_0    conda-forge\n",
      "importlib-metadata        4.11.4           py37h89c1867_0    conda-forge\n",
      "importlib_metadata        4.11.4               hd8ed1ab_0    conda-forge\n",
      "importlib_resources       6.0.0              pyhd8ed1ab_0    conda-forge\n",
      "intervaltree              3.1.0              pyhd8ed1ab_1    conda-forge\n",
      "ipykernel                 6.16.2             pyh210e3f2_0    conda-forge\n",
      "ipython                   7.33.0           py37h89c1867_0    conda-forge\n",
      "ipython_genutils          0.2.0                      py_1    conda-forge\n",
      "isoduration               20.11.0            pyhd8ed1ab_0    conda-forge\n",
      "jedi                      0.19.0             pyhd8ed1ab_0    conda-forge\n",
      "jinja2                    3.1.2              pyhd8ed1ab_1    conda-forge\n",
      "joblib                    1.3.2                    pypi_0    pypi\n",
      "jpeg                      9e                   h0b41bf4_3    conda-forge\n",
      "json5                     0.9.14             pyhd8ed1ab_0    conda-forge\n",
      "jsonpointer               2.0                        py_0    conda-forge\n",
      "jsonschema                4.17.3             pyhd8ed1ab_0    conda-forge\n",
      "jsonschema-with-format-nongpl 4.17.3             pyhd8ed1ab_0    conda-forge\n",
      "jupyter_client            7.4.9              pyhd8ed1ab_0    conda-forge\n",
      "jupyter_core              4.11.1           py37h89c1867_0    conda-forge\n",
      "jupyter_events            0.6.3              pyhd8ed1ab_1    conda-forge\n",
      "jupyter_server            1.23.4             pyhd8ed1ab_0    conda-forge\n",
      "jupyter_server_fileid     0.9.0              pyhd8ed1ab_0    conda-forge\n",
      "jupyter_server_ydoc       0.8.0              pyhd8ed1ab_0    conda-forge\n",
      "jupyter_ydoc              0.2.4              pyhd8ed1ab_0    conda-forge\n",
      "jupyterlab                3.6.5              pyhd8ed1ab_0    conda-forge\n",
      "jupyterlab_pygments       0.2.2              pyhd8ed1ab_0    conda-forge\n",
      "jupyterlab_server         2.24.0             pyhd8ed1ab_0    conda-forge\n",
      "keyutils                  1.6.1                h166bdaf_0    conda-forge\n",
      "kiwisolver                1.4.4            py37h7cecad7_0    conda-forge\n",
      "krb5                      1.20.1               hf9c8cef_0    conda-forge\n",
      "lcms2                     2.14                 h6ed2654_0    conda-forge\n",
      "ld_impl_linux-64          2.40                 h41732ed_0    conda-forge\n",
      "lerc                      4.0.0                h27087fc_0    conda-forge\n",
      "libaec                    1.0.6                hcb278e6_1    conda-forge\n",
      "libarchive                3.5.2                hb890918_3    conda-forge\n",
      "libblas                   3.9.0           17_linux64_openblas    conda-forge\n",
      "libbrotlicommon           1.0.9                h166bdaf_9    conda-forge\n",
      "libbrotlidec              1.0.9                h166bdaf_9    conda-forge\n",
      "libbrotlienc              1.0.9                h166bdaf_9    conda-forge\n",
      "libcblas                  3.9.0           17_linux64_openblas    conda-forge\n",
      "libcurl                   7.87.0               h6312ad2_0    conda-forge\n",
      "libdeflate                1.13                 h166bdaf_0    conda-forge\n",
      "libedit                   3.1.20191231         he28a2e2_2    conda-forge\n",
      "libev                     4.33                 h516909a_1    conda-forge\n",
      "libffi                    3.4.2                h7f98852_5    conda-forge\n",
      "libgcc-ng                 13.1.0               he5830b7_0    conda-forge\n",
      "libgfortran-ng            13.1.0               h69a702a_0    conda-forge\n",
      "libgfortran5              13.1.0               h15d22d2_0    conda-forge\n",
      "libgomp                   13.1.0               he5830b7_0    conda-forge\n",
      "libiconv                  1.17                 h166bdaf_0    conda-forge\n",
      "liblapack                 3.9.0           17_linux64_openblas    conda-forge\n",
      "libmamba                  0.27.0               h0dd8ff0_0    conda-forge\n",
      "libmambapy                0.27.0           py37h1ee4b26_0    conda-forge\n",
      "libnghttp2                1.51.0               hdcd2b5c_0    conda-forge\n",
      "libnsl                    2.0.0                h7f98852_0    conda-forge\n",
      "libopenblas               0.3.23          pthreads_h80387f5_0    conda-forge\n",
      "libpng                    1.6.39               h753d276_0    conda-forge\n",
      "libsodium                 1.0.18               h36c2ea0_1    conda-forge\n",
      "libsolv                   0.7.24               hfc55251_3    conda-forge\n",
      "libsqlite                 3.43.0               h2797004_0    conda-forge\n",
      "libssh2                   1.10.0               haa6b8db_3    conda-forge\n",
      "libstdcxx-ng              13.1.0               hfd8a6a1_0    conda-forge\n",
      "libtiff                   4.4.0                h0e0dad5_3    conda-forge\n",
      "libwebp-base              1.3.1                hd590300_0    conda-forge\n",
      "libxcb                    1.13              h7f98852_1004    conda-forge\n",
      "libxml2                   2.10.4               hfdac1af_0    conda-forge\n",
      "libzlib                   1.2.13               hd590300_5    conda-forge\n",
      "llvmlite                  0.39.1                   pypi_0    pypi\n",
      "locket                    1.0.0              pyhd8ed1ab_0    conda-forge\n",
      "lz4-c                     1.9.4                hcb278e6_0    conda-forge\n",
      "lzo                       2.10              h516909a_1000    conda-forge\n",
      "mamba                     0.27.0           py37h6dacc13_0    conda-forge\n",
      "markupsafe                2.1.1            py37h540881e_1    conda-forge\n",
      "matplotlib-base           3.5.3            py37hf395dca_2    conda-forge\n",
      "matplotlib-inline         0.1.6              pyhd8ed1ab_0    conda-forge\n",
      "mistune                   3.0.1              pyhd8ed1ab_0    conda-forge\n",
      "msgpack-python            1.0.4            py37h7cecad7_0    conda-forge\n",
      "multiprocess              0.70.14          py37h540881e_0    conda-forge\n",
      "munkres                   1.1.4              pyh9f0ad1d_0    conda-forge\n",
      "natsort                   8.4.0                    pypi_0    pypi\n",
      "nbclassic                 1.0.0              pyhb4ecaf3_1    conda-forge\n",
      "nbclient                  0.7.0              pyhd8ed1ab_0    conda-forge\n",
      "nbconvert                 7.6.0              pyhd8ed1ab_0    conda-forge\n",
      "nbconvert-core            7.6.0              pyhd8ed1ab_0    conda-forge\n",
      "nbconvert-pandoc          7.6.0              pyhd8ed1ab_0    conda-forge\n",
      "nbformat                  5.8.0              pyhd8ed1ab_0    conda-forge\n",
      "ncurses                   6.4                  hcb278e6_0    conda-forge\n",
      "nest-asyncio              1.5.6              pyhd8ed1ab_0    conda-forge\n",
      "networkx                  2.6.3                    pypi_0    pypi\n",
      "nomkl                     1.0                  h5ca1d4c_0    conda-forge\n",
      "notebook                  6.5.5              pyha770c72_0    conda-forge\n",
      "notebook-shim             0.2.3              pyhd8ed1ab_0    conda-forge\n",
      "numba                     0.56.4                   pypi_0    pypi\n",
      "numexpr                   2.8.3           py37h85a3170_100    conda-forge\n",
      "numpy                     1.21.6           py37h976b520_0    conda-forge\n",
      "openjpeg                  2.5.0                h7d73246_1    conda-forge\n",
      "openssl                   1.1.1v               hd590300_0    conda-forge\n",
      "packaging                 23.1               pyhd8ed1ab_0    conda-forge\n",
      "pairix                    0.3.7            py37ha26db04_4    bioconda\n",
      "pandas                    1.3.5            py37h8c16a72_0  \n",
      "pandoc                    3.1.3                h32600fe_0    conda-forge\n",
      "pandocfilters             1.5.0              pyhd8ed1ab_0    conda-forge\n",
      "parso                     0.8.3              pyhd8ed1ab_0    conda-forge\n",
      "partd                     1.4.0              pyhd8ed1ab_0    conda-forge\n",
      "patsy                     0.5.3                    pypi_0    pypi\n",
      "pexpect                   4.8.0              pyh1a96a4e_2    conda-forge\n",
      "pickleshare               0.7.5                   py_1003    conda-forge\n",
      "pillow                    9.2.0            py37h850a105_2    conda-forge\n",
      "pip                       23.2.1             pyhd8ed1ab_0    conda-forge\n",
      "pkgutil-resolve-name      1.3.10             pyhd8ed1ab_0    conda-forge\n",
      "platformdirs              3.10.0                   pypi_0    pypi\n",
      "prometheus_client         0.17.1             pyhd8ed1ab_0    conda-forge\n",
      "prompt-toolkit            3.0.39             pyha770c72_0    conda-forge\n",
      "psutil                    5.9.3            py37h540881e_0    conda-forge\n",
      "pthread-stubs             0.4               h36c2ea0_1001    conda-forge\n",
      "ptyprocess                0.7.0              pyhd3deb0d_0    conda-forge\n",
      "pybedtools                0.9.0            py37h595c7a6_1    bioconda\n",
      "pybigwig                  0.3.18           py37hdc12a6d_2    bioconda\n",
      "pybind11-abi              4                    hd8ed1ab_3    conda-forge\n",
      "pybiomart                 0.2.0                    pypi_0    pypi\n",
      "pycosat                   0.6.4            py37h540881e_0    conda-forge\n",
      "pycparser                 2.21               pyhd8ed1ab_0    conda-forge\n",
      "pyfaidx                   0.7.2.1            pyh7cba7a3_1    bioconda\n",
      "pygenometracks            3.8                pyhdfd78af_0    bioconda\n",
      "pygments                  2.16.1             pyhd8ed1ab_0    conda-forge\n",
      "pynndescent               0.5.10                   pypi_0    pypi\n",
      "pyopenssl                 23.2.0             pyhd8ed1ab_1    conda-forge\n",
      "pyparsing                 3.1.1              pyhd8ed1ab_0    conda-forge\n",
      "pyrsistent                0.18.1           py37h540881e_1    conda-forge\n",
      "pysam                     0.21.0           py37hee149a5_0    bioconda\n",
      "pysocks                   1.7.1            py37h89c1867_5    conda-forge\n",
      "pytables                  3.7.0            py37h7d129aa_2    conda-forge\n",
      "python                    3.7.12          hb7a2778_100_cpython    conda-forge\n",
      "python-dateutil           2.8.2              pyhd8ed1ab_0    conda-forge\n",
      "python-fastjsonschema     2.18.0             pyhd8ed1ab_0    conda-forge\n",
      "python-json-logger        2.0.7              pyhd8ed1ab_0    conda-forge\n",
      "python-lzo                1.14             py37hd06c622_1    conda-forge\n",
      "python_abi                3.7                     3_cp37m    conda-forge\n",
      "pytz                      2023.3             pyhd8ed1ab_0    conda-forge\n",
      "pyvcf3                    1.0.3              pyhdfd78af_0    bioconda\n",
      "pyyaml                    6.0              py37h540881e_4    conda-forge\n",
      "pyzmq                     24.0.1           py37h0c0c2a8_0    conda-forge\n",
      "readline                  8.2                  h8228510_1    conda-forge\n",
      "reproc                    14.2.4               h0b41bf4_0    conda-forge\n",
      "reproc-cpp                14.2.4               hcb278e6_0    conda-forge\n",
      "requests                  2.31.0             pyhd8ed1ab_0    conda-forge\n",
      "requests-cache            1.1.0                    pypi_0    pypi\n",
      "rfc3339-validator         0.1.4              pyhd8ed1ab_0    conda-forge\n",
      "rfc3986-validator         0.1.1              pyh9f0ad1d_0    conda-forge\n",
      "ruamel_yaml               0.15.80         py37h540881e_1007    conda-forge\n",
      "scanpy                    1.9.3                    pypi_0    pypi\n",
      "scikit-learn              1.0.2                    pypi_0    pypi\n",
      "scipy                     1.7.3            py37hf2a6cf1_0    conda-forge\n",
      "seaborn                   0.12.2           py37h06a4308_0    anaconda\n",
      "send2trash                1.8.2              pyh41d4057_0    conda-forge\n",
      "session-info              1.0.0                    pypi_0    pypi\n",
      "setuptools                68.1.2             pyhd8ed1ab_0    conda-forge\n",
      "simplejson                3.17.6           py37h540881e_1    conda-forge\n",
      "six                       1.16.0             pyh6c4a22f_0    conda-forge\n",
      "snappy                    1.1.10               h9fff704_0    conda-forge\n",
      "sniffio                   1.3.0              pyhd8ed1ab_0    conda-forge\n",
      "sortedcontainers          2.4.0              pyhd8ed1ab_0    conda-forge\n",
      "soupsieve                 2.3.2.post1        pyhd8ed1ab_0    conda-forge\n",
      "sqlite                    3.43.0               h2c6b66d_0    conda-forge\n",
      "statsmodels               0.13.5                   pypi_0    pypi\n",
      "stdlib-list               0.9.0                    pypi_0    pypi\n",
      "tblib                     1.7.0              pyhd8ed1ab_0    conda-forge\n",
      "terminado                 0.17.1             pyh41d4057_0    conda-forge\n",
      "threadpoolctl             3.1.0                    pypi_0    pypi\n",
      "tinycss2                  1.2.1              pyhd8ed1ab_0    conda-forge\n",
      "tk                        8.6.12               h27826a3_0    conda-forge\n",
      "tomli                     2.0.1              pyhd8ed1ab_0    conda-forge\n",
      "toolz                     0.12.0             pyhd8ed1ab_0    conda-forge\n",
      "tornado                   6.2              py37h540881e_0    conda-forge\n",
      "tqdm                      4.66.1             pyhd8ed1ab_0    conda-forge\n",
      "traitlets                 5.9.0              pyhd8ed1ab_0    conda-forge\n",
      "typing-extensions         4.7.1                hd8ed1ab_0    conda-forge\n",
      "typing_extensions         4.7.1              pyha770c72_0    conda-forge\n",
      "umap-learn                0.5.3                    pypi_0    pypi\n",
      "unicodedata2              14.0.0           py37h540881e_1    conda-forge\n",
      "uri-template              1.3.0              pyhd8ed1ab_0    conda-forge\n",
      "url-normalize             1.4.3                    pypi_0    pypi\n",
      "urllib3                   2.0.4              pyhd8ed1ab_0    conda-forge\n",
      "wcwidth                   0.2.6              pyhd8ed1ab_0    conda-forge\n",
      "webcolors                 1.13               pyhd8ed1ab_0    conda-forge\n",
      "webencodings              0.5.1                      py_1    conda-forge\n",
      "websocket-client          1.6.1              pyhd8ed1ab_0    conda-forge\n",
      "wheel                     0.41.2             pyhd8ed1ab_0    conda-forge\n",
      "xorg-libxau               1.0.11               hd590300_0    conda-forge\n",
      "xorg-libxdmcp             1.1.3                h7f98852_0    conda-forge\n",
      "xz                        5.2.6                h166bdaf_0    conda-forge\n",
      "y-py                      0.5.4            py37hbd0741f_0    conda-forge\n",
      "yaml                      0.2.5                h7f98852_2    conda-forge\n",
      "yaml-cpp                  0.7.0                h27087fc_2    conda-forge\n",
      "ypy-websocket             0.8.2              pyhd8ed1ab_0    conda-forge\n",
      "zeromq                    4.3.4                h9c3ff4c_1    conda-forge\n",
      "zict                      2.2.0              pyhd8ed1ab_0    conda-forge\n",
      "zipp                      3.15.0             pyhd8ed1ab_0    conda-forge\n",
      "zlib                      1.2.13               hd590300_5    conda-forge\n",
      "zstandard                 0.18.0           py37h540881e_0    conda-forge\n",
      "zstd                      1.5.5                hfc55251_0    conda-forge\n"
     ]
    }
   ],
   "source": [
    "!conda list"
   ]
  },
  {
   "cell_type": "code",
   "execution_count": null,
   "id": "0bb182b3-e6a6-432c-8543-646d25167800",
   "metadata": {},
   "outputs": [],
   "source": []
  }
 ],
 "metadata": {
  "kernelspec": {
   "display_name": "Python 3 (ipykernel)",
   "language": "python",
   "name": "python3"
  },
  "language_info": {
   "codemirror_mode": {
    "name": "ipython",
    "version": 3
   },
   "file_extension": ".py",
   "mimetype": "text/x-python",
   "name": "python",
   "nbconvert_exporter": "python",
   "pygments_lexer": "ipython3",
   "version": "3.10.10"
  }
 },
 "nbformat": 4,
 "nbformat_minor": 5
}
