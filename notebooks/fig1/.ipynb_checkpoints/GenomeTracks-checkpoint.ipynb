{
 "cells": [
  {
   "cell_type": "code",
   "execution_count": 1,
   "id": "4b7b256f-07c0-4a7e-8970-70783bc83c36",
   "metadata": {},
   "outputs": [
    {
     "name": "stdout",
     "output_type": "stream",
     "text": [
      "Wed Jan 11 13:11:44 PST 2023\n"
     ]
    }
   ],
   "source": [
    "!date"
   ]
  },
  {
   "cell_type": "code",
   "execution_count": 2,
   "id": "5c3090f2-6179-4ffe-a425-fa24de77223d",
   "metadata": {},
   "outputs": [
    {
     "name": "stdout",
     "output_type": "stream",
     "text": [
      "/c4/home/derek/miniconda3/envs/pygenometracks\n"
     ]
    }
   ],
   "source": [
    "!echo $CONDA_PREFIX"
   ]
  },
  {
   "cell_type": "code",
   "execution_count": 3,
   "id": "749f8e77-58a0-4728-b152-cf354e9c54ce",
   "metadata": {},
   "outputs": [],
   "source": [
    "import pandas as pd\n",
    "import numpy as np\n",
    "\n",
    "import seaborn as sns\n",
    "import matplotlib.pyplot as plt\n",
    "from pygenometracks import tracks\n",
    "\n",
    "import scanpy as sc"
   ]
  },
  {
   "cell_type": "code",
   "execution_count": null,
   "id": "884e4aa8-ab90-4840-9bed-f20a9554e75d",
   "metadata": {},
   "outputs": [],
   "source": []
  },
  {
   "cell_type": "code",
   "execution_count": 4,
   "id": "bf422e4b-eaae-4024-9f5e-40d0ea3c4d78",
   "metadata": {},
   "outputs": [],
   "source": [
    "GTF_input='/c4/home/derek/data1/HDD-2/derek/reference/human_hp3_reference/genes/genes.gtf'\n",
    "\n",
    "GTF = pd.read_csv(GTF_input,sep='\\t',comment='#',header=None,names=['seqname', 'source', 'feature', 'start' , 'end', 'score', 'strand', 'frame', 'attribute'])\n",
    "\n",
    "\n",
    "coord_dict = {}\n",
    "\n",
    "for index, line in GTF.iterrows():\n",
    "    if line['feature'] == 'gene':\n",
    "\n",
    "        attribute_list = line['attribute'].split(';')\n",
    "    \n",
    "        gene_name = [i for i in attribute_list if i.startswith(' gene_name')][0].split('\"')[1]\n",
    "    \n",
    "        coordinate = str(line['seqname'])+':'+str(line['start'])+'-'+str(line['end'])\n",
    "    \n",
    "        coord_dict[gene_name] = coordinate\n",
    "    else:\n",
    "        pass"
   ]
  },
  {
   "cell_type": "code",
   "execution_count": 5,
   "id": "36d40600-e237-4079-b94f-a8bd7b0dcbf8",
   "metadata": {},
   "outputs": [],
   "source": [
    "# %%bash\n",
    "# working_dir=/media/chang/HDD-4/derek/SLR/data/20210707/sinto_outs/\n",
    "\n",
    "# ##get bed file of exons\n",
    "# exon_bedfile=/home/derek/analysis_4/SLR/resources/exons.bed\n",
    "\n",
    "\n",
    "# ##only output alignments overlapping the exon bedfile \n",
    "# samtools view -bh -L $exon_bedfile $working_dir/OPC.bam> $working_dir/OPC.exons.bam ; samtools index $working_dir/OPC.exons.bam"
   ]
  },
  {
   "cell_type": "code",
   "execution_count": 6,
   "id": "f650a0c7-edbd-4be5-9732-cf9db8f7803e",
   "metadata": {},
   "outputs": [],
   "source": [
    "# %%bash\n",
    "# generate bigwig files of\n",
    "\n",
    "# working_dir=./T4_Mem_outs/\n",
    "\n",
    "# bamCoverage\\\n",
    "#     --bam $working_dir/T4_Mem.bam \\\n",
    "#     --outFileName $working_dir/T4_Mem_CD45.bw \\\n",
    "#     --ignoreDuplicates \\\n",
    "#     --binSize 1 \\\n",
    "#     --region chr1:198638457:198757476\n"
   ]
  },
  {
   "cell_type": "code",
   "execution_count": null,
   "id": "e692ea4c-7577-448f-b28c-a3f8f4249cff",
   "metadata": {
    "tags": []
   },
   "outputs": [],
   "source": []
  },
  {
   "cell_type": "code",
   "execution_count": 7,
   "id": "61667cd3-4c2a-43b5-a02a-a28952b220ae",
   "metadata": {},
   "outputs": [],
   "source": [
    "##create pyGenomeTracks configuration file"
   ]
  },
  {
   "cell_type": "code",
   "execution_count": 8,
   "id": "5d919103-c403-44d4-9eb5-222445a09b76",
   "metadata": {},
   "outputs": [
    {
     "data": {
      "text/plain": [
       "'/nowakowskilab/data1/derek/scSLR/notebooks/fig1'"
      ]
     },
     "execution_count": 8,
     "metadata": {},
     "output_type": "execute_result"
    }
   ],
   "source": [
    "pwd"
   ]
  },
  {
   "cell_type": "code",
   "execution_count": 9,
   "id": "7c290b3f-8ef5-4fd0-9e58-2e1bb5895828",
   "metadata": {},
   "outputs": [
    {
     "data": {
      "text/html": [
       "<svg  width=\"550\" height=\"55\"><rect x=\"0\" y=\"0\" width=\"55\" height=\"55\" style=\"fill:#023eff;stroke-width:2;stroke:rgb(255,255,255)\"/><rect x=\"55\" y=\"0\" width=\"55\" height=\"55\" style=\"fill:#ff7c00;stroke-width:2;stroke:rgb(255,255,255)\"/><rect x=\"110\" y=\"0\" width=\"55\" height=\"55\" style=\"fill:#1ac938;stroke-width:2;stroke:rgb(255,255,255)\"/><rect x=\"165\" y=\"0\" width=\"55\" height=\"55\" style=\"fill:#e8000b;stroke-width:2;stroke:rgb(255,255,255)\"/><rect x=\"220\" y=\"0\" width=\"55\" height=\"55\" style=\"fill:#8b2be2;stroke-width:2;stroke:rgb(255,255,255)\"/><rect x=\"275\" y=\"0\" width=\"55\" height=\"55\" style=\"fill:#9f4800;stroke-width:2;stroke:rgb(255,255,255)\"/><rect x=\"330\" y=\"0\" width=\"55\" height=\"55\" style=\"fill:#f14cc1;stroke-width:2;stroke:rgb(255,255,255)\"/><rect x=\"385\" y=\"0\" width=\"55\" height=\"55\" style=\"fill:#a3a3a3;stroke-width:2;stroke:rgb(255,255,255)\"/><rect x=\"440\" y=\"0\" width=\"55\" height=\"55\" style=\"fill:#ffc400;stroke-width:2;stroke:rgb(255,255,255)\"/><rect x=\"495\" y=\"0\" width=\"55\" height=\"55\" style=\"fill:#00d7ff;stroke-width:2;stroke:rgb(255,255,255)\"/></svg>"
      ],
      "text/plain": [
       "[(0.00784313725490196, 0.24313725490196078, 1.0),\n",
       " (1.0, 0.48627450980392156, 0.0),\n",
       " (0.10196078431372549, 0.788235294117647, 0.2196078431372549),\n",
       " (0.9098039215686274, 0.0, 0.043137254901960784),\n",
       " (0.5450980392156862, 0.16862745098039217, 0.8862745098039215),\n",
       " (0.6235294117647059, 0.2823529411764706, 0.0),\n",
       " (0.9450980392156862, 0.2980392156862745, 0.7568627450980392),\n",
       " (0.6392156862745098, 0.6392156862745098, 0.6392156862745098),\n",
       " (1.0, 0.7686274509803922, 0.0),\n",
       " (0.0, 0.8431372549019608, 1.0)]"
      ]
     },
     "execution_count": 9,
     "metadata": {},
     "output_type": "execute_result"
    }
   ],
   "source": [
    "sns.color_palette(\"bright\")"
   ]
  },
  {
   "cell_type": "code",
   "execution_count": 62,
   "id": "7117a42d-c7cf-4a1c-b643-b3981f62f71f",
   "metadata": {},
   "outputs": [
    {
     "data": {
      "text/plain": [
       "(0.00784313725490196, 0.24313725490196078, 1.0)"
      ]
     },
     "execution_count": 62,
     "metadata": {},
     "output_type": "execute_result"
    }
   ],
   "source": [
    "sns.color_palette(\"bright\")[0]"
   ]
  },
  {
   "cell_type": "code",
   "execution_count": null,
   "id": "45a39f81-f2f8-4c5c-a227-2556c0f06d2e",
   "metadata": {},
   "outputs": [],
   "source": []
  },
  {
   "cell_type": "code",
   "execution_count": 67,
   "id": "9673d4b0-1a46-4236-9258-bde7d2f352e7",
   "metadata": {
    "tags": []
   },
   "outputs": [
    {
     "name": "stdout",
     "output_type": "stream",
     "text": [
      "Overwriting bigwig_initial_test.ini\n"
     ]
    }
   ],
   "source": [
    "%%writefile bigwig_initial_test.ini\n",
    "\n",
    "\n",
    "\n",
    "[spacer]\n",
    "height = 0.1\n",
    "\n",
    "[bigwig file test]\n",
    "file = /c4/home/derek/data1/HDD-2/derek/SLR_temp/CAT_20220904_PBMC/sample_1/merged/UMItools_outs/merged_complete_internal_dedup.bw\n",
    "color = (0.00784313725490196, 0.24313725490196078, 1.0) \n",
    "# height of the track in cm (optional value)\n",
    "height = 7\n",
    "#title = internal\n",
    "min_value = 0\n",
    "max_value = 10000\n",
    "alpha = 0.5\n",
    "#type = line:5\n",
    "\n",
    "# [spacer]\n",
    "# height = 1\n",
    "\n",
    "[bigwig file test]\n",
    "file = /c4/home/derek/data1/HDD-2/derek/SLR_temp/CAT_20220904_PBMC/sample_1/merged/UMItools_5prime_outs/merged_complete_5prime_dedup.bw\n",
    "color = (0.9098039215686274, 0.0, 0.043137254901960784)\n",
    "# height of the track in cm (optional value)\n",
    "height = 7\n",
    "#title = 5prime\n",
    "# min_value = 0\n",
    "# max_value = 5000\n",
    "alpha = 0.5\n",
    "overlay_previous = share-y\n",
    "#type = line:5\n",
    "\n",
    "\n",
    "\n",
    "[spacer]\n",
    "height = 0.5\n",
    "\n",
    "[genes]\n",
    "color = black  \n",
    "file = /c4/home/derek/data1/HDD-2/derek/reference/refdata-gex-GRCh38-2020-A/genes/genes.gtf\n",
    "height = 2\n",
    "# title = gtf\n",
    "fontsize = 10\n",
    "file_type = gtf\n",
    "gene_rows = 3\n",
    "\n",
    "[x-axis]\n",
    "fontsize=15\n"
   ]
  },
  {
   "cell_type": "code",
   "execution_count": null,
   "id": "a6afc0b7-2e3d-4086-aabc-73f81c15066b",
   "metadata": {},
   "outputs": [],
   "source": []
  },
  {
   "cell_type": "code",
   "execution_count": 68,
   "id": "8c3149cf-e845-4640-83f4-bb75132a97e4",
   "metadata": {},
   "outputs": [],
   "source": [
    "#coord_dict['GAPDH']"
   ]
  },
  {
   "cell_type": "code",
   "execution_count": 69,
   "id": "58653f27-41ca-4a59-99ec-1c77db968ff6",
   "metadata": {
    "tags": []
   },
   "outputs": [
    {
     "name": "stderr",
     "output_type": "stream",
     "text": [
      "WARNING:pygenometracks.tracksClass:title not set for section 2. [bigwig file test]\n",
      "\n",
      "WARNING:pygenometracks.tracksClass:title not set for section 5. [genes]\n",
      "\n",
      "INFO:pygenometracks.tracksClass:initialize 1. [spacer]\n",
      "INFO:pygenometracks.tracksClass:initialize 2. [bigwig file test]\n",
      "INFO:pygenometracks.tracksClass:initialize 3. [bigwig file test]\n",
      "INFO:pygenometracks.tracksClass:initialize 4. [spacer]\n",
      "INFO:pygenometracks.tracksClass:initialize 5. [genes]\n",
      "100%|██████████| 166/166 [00:00<00:00, 366.40it/s]\n",
      "INFO:pygenometracks.tracksClass:initialize 6. [x-axis]\n",
      "INFO:pygenometracks.tracksClass:time initializing track(s):\n",
      "INFO:pygenometracks.tracksClass:8.76284384727478\n",
      "DEBUG:pygenometracks.tracksClass:Figure size in cm is 40 x 12.207446808510639. Dpi is set to 72\n",
      "\n",
      "INFO:pygenometracks.tracksClass:plotting 1. [spacer]\n",
      "INFO:pygenometracks.tracksClass:plotting 2. [bigwig file test]\n",
      "INFO:pygenometracks.tracksClass:plotting 3. [bigwig file test]\n",
      "INFO:pygenometracks.tracksClass:plotting 4. [spacer]\n",
      "INFO:pygenometracks.tracksClass:plotting 5. [genes]\n",
      "DEBUG:pygenometracks.tracks.GenomeTrack:ylim 7.9799999999999995,-0.08\n",
      "INFO:pygenometracks.tracksClass:plotting 6. [x-axis]\n"
     ]
    }
   ],
   "source": [
    "%%bash\n",
    "pyGenomeTracks --tracks bigwig_initial_test.ini --region 'chr12:6534512-6538374' -o bigwig_GAPDH.png   "
   ]
  },
  {
   "cell_type": "code",
   "execution_count": 70,
   "id": "21c741a5-0cd1-474f-9439-b9088e5e72af",
   "metadata": {
    "tags": []
   },
   "outputs": [
    {
     "data": {
      "image/png": "[encoded data removed]",
      "text/plain": [
       "<IPython.core.display.Image object>"
      ]
     },
     "execution_count": 70,
     "metadata": {},
     "output_type": "execute_result"
    }
   ],
   "source": [
    "from IPython.display import Image\n",
    "Image(filename='bigwig_GAPDH.png',)"
   ]
  },
  {
   "cell_type": "code",
   "execution_count": null,
   "id": "abf57343-71ed-4d15-b022-d685bed547ce",
   "metadata": {},
   "outputs": [],
   "source": []
  },
  {
   "cell_type": "code",
   "execution_count": null,
   "id": "a7e3c0f1-529b-43f3-a6d5-2993e1eaf576",
   "metadata": {},
   "outputs": [],
   "source": []
  },
  {
   "cell_type": "code",
   "execution_count": null,
   "id": "83897f63-6125-46f9-bc8f-78bb7dc117ce",
   "metadata": {},
   "outputs": [],
   "source": []
  },
  {
   "cell_type": "code",
   "execution_count": 71,
   "id": "2e9b91d0-4a29-4f1f-8c0b-eadfdf978f0a",
   "metadata": {},
   "outputs": [
    {
     "name": "stderr",
     "output_type": "stream",
     "text": [
      "WARNING:pygenometracks.tracksClass:title not set for section 2. [bigwig file test]\n",
      "\n",
      "WARNING:pygenometracks.tracksClass:title not set for section 5. [genes]\n",
      "\n",
      "INFO:pygenometracks.tracksClass:initialize 1. [spacer]\n",
      "INFO:pygenometracks.tracksClass:initialize 2. [bigwig file test]\n",
      "INFO:pygenometracks.tracksClass:initialize 3. [bigwig file test]\n",
      "INFO:pygenometracks.tracksClass:initialize 4. [spacer]\n",
      "INFO:pygenometracks.tracksClass:initialize 5. [genes]\n",
      "100%|██████████| 166/166 [00:00<00:00, 365.10it/s]\n",
      "INFO:pygenometracks.tracksClass:initialize 6. [x-axis]\n",
      "INFO:pygenometracks.tracksClass:time initializing track(s):\n",
      "INFO:pygenometracks.tracksClass:8.678382158279419\n",
      "DEBUG:pygenometracks.tracksClass:Figure size in cm is 40 x 12.207446808510639. Dpi is set to 72\n",
      "\n",
      "INFO:pygenometracks.tracksClass:plotting 1. [spacer]\n",
      "INFO:pygenometracks.tracksClass:plotting 2. [bigwig file test]\n",
      "INFO:pygenometracks.tracksClass:plotting 3. [bigwig file test]\n",
      "INFO:pygenometracks.tracksClass:plotting 4. [spacer]\n",
      "INFO:pygenometracks.tracksClass:plotting 5. [genes]\n",
      "DEBUG:pygenometracks.tracks.GenomeTrack:ylim 7.9799999999999995,-0.08\n",
      "INFO:pygenometracks.tracksClass:plotting 6. [x-axis]\n"
     ]
    }
   ],
   "source": [
    "%%bash\n",
    "pyGenomeTracks --tracks bigwig_initial_test.ini --region 'chr12:6534512-6538374' -o bigwig_GAPDH.pdf "
   ]
  },
  {
   "cell_type": "code",
   "execution_count": null,
   "id": "75c96a29-ea03-42bf-b995-57a11940e7f9",
   "metadata": {},
   "outputs": [],
   "source": []
  },
  {
   "cell_type": "code",
   "execution_count": null,
   "id": "4165fa75-f006-4350-a5c4-af88c8072e7a",
   "metadata": {},
   "outputs": [],
   "source": []
  },
  {
   "cell_type": "code",
   "execution_count": null,
   "id": "f9ce6e33-dd6e-4f6f-a71e-b6ef4a47732a",
   "metadata": {},
   "outputs": [],
   "source": []
  },
  {
   "cell_type": "code",
   "execution_count": null,
   "id": "c569270b-4aa0-4244-bbb8-bfd517040711",
   "metadata": {},
   "outputs": [],
   "source": []
  },
  {
   "cell_type": "code",
   "execution_count": null,
   "id": "6205a1c1-e89e-49f7-b30d-49f014bf9234",
   "metadata": {},
   "outputs": [],
   "source": []
  },
  {
   "cell_type": "code",
   "execution_count": null,
   "id": "d63a51ab-7a67-4585-8c9e-ca6ad275951a",
   "metadata": {},
   "outputs": [],
   "source": []
  },
  {
   "cell_type": "code",
   "execution_count": null,
   "id": "2b91ea88-a7e5-4b34-ae6c-da5a861544c9",
   "metadata": {},
   "outputs": [],
   "source": []
  },
  {
   "cell_type": "code",
   "execution_count": 72,
   "id": "03993f5c-04dd-4299-b547-75a7aee8e7e5",
   "metadata": {},
   "outputs": [
    {
     "name": "stdout",
     "output_type": "stream",
     "text": [
      "# packages in environment at /c4/home/derek/miniconda3/envs/pygenometracks:\n",
      "#\n",
      "# Name                    Version                   Build  Channel\n",
      "_libgcc_mutex             0.1                 conda_forge    conda-forge\n",
      "_openmp_mutex             4.5                  2_kmp_llvm    conda-forge\n",
      "anndata                   0.8.0                    pypi_0    pypi\n",
      "anyio                     3.5.0            py39h06a4308_0  \n",
      "argcomplete               1.12.3             pyhd3eb1b0_0  \n",
      "argh                      0.26.2           py39h06a4308_0  \n",
      "argon2-cffi               21.3.0             pyhd3eb1b0_0  \n",
      "argon2-cffi-bindings      21.2.0           py39h7f8727e_0  \n",
      "asciitree                 0.3.3                      py_2  \n",
      "asttokens                 2.0.5              pyhd3eb1b0_0  \n",
      "attrs                     22.1.0           py39h06a4308_0  \n",
      "babel                     2.11.0           py39h06a4308_0  \n",
      "backcall                  0.2.0              pyhd3eb1b0_0  \n",
      "beautifulsoup4            4.11.1           py39h06a4308_0  \n",
      "bedtools                  2.30.0               h7d7f7ad_2    bioconda\n",
      "biopython                 1.78             py39h7f8727e_0  \n",
      "blas                      1.0                         mkl  \n",
      "bleach                    4.1.0              pyhd3eb1b0_0  \n",
      "blosc                     1.21.0               h4ff587b_1  \n",
      "bokeh                     2.4.3            py39h06a4308_0  \n",
      "bottleneck                1.3.5            py39h7deecbd_0  \n",
      "brotli                    1.0.9                h5eee18b_7  \n",
      "brotli-bin                1.0.9                h5eee18b_7  \n",
      "brotlipy                  0.7.0           py39hb9d737c_1005    conda-forge\n",
      "bzip2                     1.0.8                h7f98852_4    conda-forge\n",
      "c-ares                    1.18.1               h7f98852_0    conda-forge\n",
      "ca-certificates           2022.12.7            ha878542_0    conda-forge\n",
      "certifi                   2022.12.7          pyhd8ed1ab_0    conda-forge\n",
      "cffi                      1.15.1           py39he91dace_3    conda-forge\n",
      "charset-normalizer        2.1.1              pyhd8ed1ab_0    conda-forge\n",
      "click                     8.0.4            py39h06a4308_0  \n",
      "cloudpickle               2.0.0              pyhd3eb1b0_0  \n",
      "colorama                  0.4.6              pyhd8ed1ab_0    conda-forge\n",
      "conda                     22.11.1          py39hf3d152e_1    conda-forge\n",
      "conda-package-handling    2.0.2              pyh38be061_0    conda-forge\n",
      "conda-package-streaming   0.7.0              pyhd8ed1ab_1    conda-forge\n",
      "contourpy                 1.0.5            py39hdb19cb5_0  \n",
      "cooler                    0.8.11             pyh5e36f6f_1    bioconda\n",
      "cryptography              38.0.4           py39hd97740a_0    conda-forge\n",
      "cycler                    0.11.0             pyhd3eb1b0_0  \n",
      "cytoolz                   0.12.0           py39h5eee18b_0  \n",
      "dask                      2022.5.0         py39h06a4308_0  \n",
      "dask-core                 2022.5.0         py39h06a4308_0  \n",
      "debugpy                   1.5.1            py39h295c915_0  \n",
      "decorator                 5.1.1              pyhd3eb1b0_0  \n",
      "deeptools                 3.5.1                      py_0    bioconda\n",
      "deeptoolsintervals        0.1.9            py39hbf8eff0_4    bioconda\n",
      "defusedxml                0.7.1              pyhd3eb1b0_0  \n",
      "dill                      0.3.6            py39h06a4308_0  \n",
      "distributed               2022.5.0         py39h06a4308_0  \n",
      "entrypoints               0.4              py39h06a4308_0  \n",
      "executing                 0.8.3              pyhd3eb1b0_0  \n",
      "fftw                      3.3.9                h27cfd23_1  \n",
      "flit-core                 3.6.0              pyhd3eb1b0_0  \n",
      "fmt                       9.1.0                h924138e_0    conda-forge\n",
      "fonttools                 4.25.0             pyhd3eb1b0_0  \n",
      "freetype                  2.12.1               h4a9f257_0  \n",
      "fsspec                    2022.11.0        py39h06a4308_0  \n",
      "future                    0.18.2           py39h06a4308_1  \n",
      "gffutils                  0.11.1             pyh7cba7a3_0    bioconda\n",
      "giflib                    5.2.1                h7b6447c_0  \n",
      "h5py                      3.7.0            py39h737f45e_0  \n",
      "hdf5                      1.10.6               h3ffc7dd_1  \n",
      "heapdict                  1.0.1              pyhd3eb1b0_0  \n",
      "hicmatrix                 16                 pyhdfd78af_0    bioconda\n",
      "htslib                    1.13                 h9093b5e_0    bioconda\n",
      "icu                       58.2              hf484d3e_1000    conda-forge\n",
      "idna                      3.4                pyhd8ed1ab_0    conda-forge\n",
      "importlib-metadata        4.11.3           py39h06a4308_0  \n",
      "importlib_metadata        4.11.3               hd3eb1b0_0  \n",
      "intel-openmp              2021.4.0          h06a4308_3561  \n",
      "intervaltree              3.1.0              pyhd3eb1b0_0  \n",
      "ipykernel                 6.15.2           py39h06a4308_0  \n",
      "ipython                   8.7.0            py39h06a4308_0  \n",
      "ipython_genutils          0.2.0              pyhd3eb1b0_1  \n",
      "jedi                      0.18.1           py39h06a4308_1  \n",
      "jinja2                    3.1.2            py39h06a4308_0  \n",
      "joblib                    1.2.0                    pypi_0    pypi\n",
      "jpeg                      9e                   h7f8727e_0  \n",
      "json5                     0.9.6              pyhd3eb1b0_0  \n",
      "jsonschema                4.16.0           py39h06a4308_0  \n",
      "jupyter_client            7.4.8            py39h06a4308_0  \n",
      "jupyter_core              4.11.2           py39h06a4308_0  \n",
      "jupyter_server            1.23.4           py39h06a4308_0  \n",
      "jupyterlab                3.5.2            py39h06a4308_0  \n",
      "jupyterlab_pygments       0.1.2                      py_0  \n",
      "jupyterlab_server         2.16.5           py39h06a4308_0  \n",
      "keyutils                  1.6.1                h166bdaf_0    conda-forge\n",
      "kiwisolver                1.4.2            py39h295c915_0  \n",
      "krb5                      1.19.3               h3790be6_0    conda-forge\n",
      "lcms2                     2.12                 h3be6417_0  \n",
      "ld_impl_linux-64          2.38                 h1181459_1  \n",
      "libarchive                3.5.2                hccf745f_1    conda-forge\n",
      "libbrotlicommon           1.0.9                h5eee18b_7  \n",
      "libbrotlidec              1.0.9                h5eee18b_7  \n",
      "libbrotlienc              1.0.9                h5eee18b_7  \n",
      "libcurl                   7.86.0               h91b91d3_0  \n",
      "libdeflate                1.7                  h27cfd23_5  \n",
      "libedit                   3.1.20191231         he28a2e2_2    conda-forge\n",
      "libev                     4.33                 h516909a_1    conda-forge\n",
      "libffi                    3.4.2                h6a678d5_6  \n",
      "libgcc-ng                 12.2.0              h65d4601_19    conda-forge\n",
      "libgfortran-ng            11.2.0               h00389a5_1  \n",
      "libgfortran5              11.2.0               h1234567_1  \n",
      "libiconv                  1.17                 h166bdaf_0    conda-forge\n",
      "libmamba                  1.1.0                h2c5f835_2    conda-forge\n",
      "libmambapy                1.1.0            py39he50db72_2    conda-forge\n",
      "libnghttp2                1.46.0               hce63b2e_0  \n",
      "libpng                    1.6.37               hbc83047_0  \n",
      "libsodium                 1.0.18               h7b6447c_0  \n",
      "libsolv                   0.7.22               he621ea3_0  \n",
      "libssh2                   1.10.0               ha56f1ee_2    conda-forge\n",
      "libstdcxx-ng              12.2.0              h46fd767_19    conda-forge\n",
      "libtiff                   4.2.0                hecacb30_2  \n",
      "libwebp                   1.2.4                h11a3e52_0  \n",
      "libwebp-base              1.2.4                h5eee18b_0  \n",
      "libxml2                   2.9.14               h74e7548_0  \n",
      "libxslt                   1.1.35               h4e12654_0  \n",
      "llvm-openmp               14.0.6               h9e868ea_0  \n",
      "llvmlite                  0.39.1                   pypi_0    pypi\n",
      "locket                    1.0.0            py39h06a4308_0  \n",
      "lxml                      4.9.1            py39h1edc446_0  \n",
      "lz4                       3.1.3            py39h27cfd23_0  \n",
      "lz4-c                     1.9.3                h9c3ff4c_1    conda-forge\n",
      "lzo                       2.10              h516909a_1000    conda-forge\n",
      "mamba                     1.1.0            py39hfa8f2c8_2    conda-forge\n",
      "markupsafe                2.1.1            py39h7f8727e_0  \n",
      "matplotlib                3.6.2                    pypi_0    pypi\n",
      "matplotlib-inline         0.1.6            py39h06a4308_0  \n",
      "mistune                   0.8.4           py39h27cfd23_1000  \n",
      "mkl                       2021.4.0           h06a4308_640  \n",
      "mkl-service               2.4.0            py39h7f8727e_0  \n",
      "mkl_fft                   1.3.1            py39hd3c417c_0  \n",
      "mkl_random                1.2.2            py39h51133e4_0  \n",
      "mock                      4.0.3              pyhd3eb1b0_0  \n",
      "msgpack-python            1.0.3            py39hd09550d_0  \n",
      "multiprocess              0.70.14          py39h06a4308_0  \n",
      "munkres                   1.0.7                      py_1    bioconda\n",
      "natsort                   8.2.0                    pypi_0    pypi\n",
      "nbclassic                 0.4.8            py39h06a4308_0  \n",
      "nbclient                  0.5.13           py39h06a4308_0  \n",
      "nbconvert                 6.5.4            py39h06a4308_0  \n",
      "nbformat                  5.7.0            py39h06a4308_0  \n",
      "ncurses                   6.3                  h5eee18b_3  \n",
      "nest-asyncio              1.5.5            py39h06a4308_0  \n",
      "networkx                  2.8.8                    pypi_0    pypi\n",
      "notebook                  6.5.2            py39h06a4308_0  \n",
      "notebook-shim             0.2.2            py39h06a4308_0  \n",
      "numba                     0.56.4                   pypi_0    pypi\n",
      "numexpr                   2.8.4            py39he184ba9_0  \n",
      "numpy                     1.23.4           py39h14f4228_0  \n",
      "numpy-base                1.23.4           py39h31eccc5_0  \n",
      "openssl                   1.1.1s               h0b41bf4_1    conda-forge\n",
      "packaging                 22.0             py39h06a4308_0  \n",
      "pairix                    0.3.7            py39hd1f1204_3    bioconda\n",
      "pandas                    1.5.2            py39h417a72b_0  \n",
      "pandocfilters             1.5.0              pyhd3eb1b0_0  \n",
      "parso                     0.8.3              pyhd3eb1b0_0  \n",
      "partd                     1.2.0              pyhd3eb1b0_1  \n",
      "patsy                     0.5.3                    pypi_0    pypi\n",
      "pcre2                     10.37                h032f7d1_0    conda-forge\n",
      "pexpect                   4.8.0              pyhd3eb1b0_3  \n",
      "pickleshare               0.7.5           pyhd3eb1b0_1003  \n",
      "pillow                    9.3.0            py39hace64e9_1  \n",
      "pip                       22.3.1           py39h06a4308_0  \n",
      "plotly                    5.9.0            py39h06a4308_0  \n",
      "pluggy                    1.0.0              pyhd8ed1ab_5    conda-forge\n",
      "prometheus_client         0.14.1           py39h06a4308_0  \n",
      "prompt-toolkit            3.0.20             pyhd3eb1b0_0  \n",
      "psutil                    5.9.0            py39h5eee18b_0  \n",
      "ptyprocess                0.7.0              pyhd3eb1b0_2  \n",
      "pure_eval                 0.2.2              pyhd3eb1b0_0  \n",
      "py2bit                    0.3.0            py39hbf8eff0_6    bioconda\n",
      "pybedtools                0.8.2            py39h39abbe0_1    bioconda\n",
      "pybigwig                  0.3.18           py39h015b436_1    bioconda\n",
      "pybind11-abi              4                    hd8ed1ab_3    conda-forge\n",
      "pycosat                   0.6.4            py39hb9d737c_1    conda-forge\n",
      "pycparser                 2.21               pyhd8ed1ab_0    conda-forge\n",
      "pyfaidx                   0.7.1              pyh5e36f6f_0    bioconda\n",
      "pygenometracks            3.6                        py_0    bioconda\n",
      "pygments                  2.11.2             pyhd3eb1b0_0  \n",
      "pynndescent               0.5.8                    pypi_0    pypi\n",
      "pyopenssl                 22.1.0             pyhd8ed1ab_0    conda-forge\n",
      "pyparsing                 3.0.9            py39h06a4308_0  \n",
      "pyrsistent                0.18.0           py39heee7806_0  \n",
      "pysam                     0.17.0           py39h051187c_0    bioconda\n",
      "pysocks                   1.7.1              pyha2e5f31_6    conda-forge\n",
      "pytables                  3.6.1            py39h77479fe_1  \n",
      "python                    3.9.15               h7a1cb2a_2  \n",
      "python-dateutil           2.8.2              pyhd3eb1b0_0  \n",
      "python-fastjsonschema     2.16.2           py39h06a4308_0  \n",
      "python_abi                3.9                      2_cp39    conda-forge\n",
      "pytz                      2022.7           py39h06a4308_0  \n",
      "pyvcf3                    1.0.3              pyhdfd78af_0    bioconda\n",
      "pyyaml                    6.0              py39h5eee18b_1  \n",
      "pyzmq                     23.2.0           py39h6a678d5_0  \n",
      "readline                  8.2                  h5eee18b_0  \n",
      "reproc                    14.2.4               h0b41bf4_0    conda-forge\n",
      "reproc-cpp                14.2.4               hcb278e6_0    conda-forge\n",
      "requests                  2.28.1             pyhd8ed1ab_1    conda-forge\n",
      "ruamel.yaml               0.17.21          py39hb9d737c_2    conda-forge\n",
      "ruamel.yaml.clib          0.2.7            py39h72bdee0_1    conda-forge\n",
      "scanpy                    1.9.1                    pypi_0    pypi\n",
      "scikit-learn              1.2.0                    pypi_0    pypi\n",
      "scipy                     1.9.3            py39h14f4228_0  \n",
      "seaborn                   0.12.1           py39h06a4308_0  \n",
      "send2trash                1.8.0              pyhd3eb1b0_1  \n",
      "session-info              1.0.0                    pypi_0    pypi\n",
      "setuptools                65.5.0           py39h06a4308_0  \n",
      "simplejson                3.17.6           py39h7f8727e_0  \n",
      "sinto                     0.9.0              pyh086e186_0    bioconda\n",
      "six                       1.16.0             pyhd3eb1b0_1  \n",
      "sniffio                   1.2.0            py39h06a4308_1  \n",
      "sortedcontainers          2.4.0              pyhd3eb1b0_0  \n",
      "soupsieve                 2.3.2.post1      py39h06a4308_0  \n",
      "sqlite                    3.40.0               h5082296_0  \n",
      "stack_data                0.2.0              pyhd3eb1b0_0  \n",
      "statsmodels               0.13.5                   pypi_0    pypi\n",
      "stdlib-list               0.8.0                    pypi_0    pypi\n",
      "tblib                     1.7.0              pyhd3eb1b0_0  \n",
      "tenacity                  8.0.1            py39h06a4308_1  \n",
      "terminado                 0.17.1           py39h06a4308_0  \n",
      "threadpoolctl             3.1.0                    pypi_0    pypi\n",
      "tinycss2                  1.2.1            py39h06a4308_0  \n",
      "tk                        8.6.12               h1ccaba5_0  \n",
      "tomli                     2.0.1            py39h06a4308_0  \n",
      "toolz                     0.12.0             pyhd8ed1ab_0    conda-forge\n",
      "tornado                   6.2              py39h5eee18b_0  \n",
      "tqdm                      4.64.1             pyhd8ed1ab_0    conda-forge\n",
      "traitlets                 5.7.1            py39h06a4308_0  \n",
      "typing-extensions         4.4.0            py39h06a4308_0  \n",
      "typing_extensions         4.4.0            py39h06a4308_0  \n",
      "tzdata                    2022g                h04d1e81_0  \n",
      "umap-learn                0.5.3                    pypi_0    pypi\n",
      "urllib3                   1.26.13            pyhd8ed1ab_0    conda-forge\n",
      "wcwidth                   0.2.5              pyhd3eb1b0_0  \n",
      "webencodings              0.5.1            py39h06a4308_1  \n",
      "websocket-client          0.58.0           py39h06a4308_4  \n",
      "wheel                     0.37.1             pyhd3eb1b0_0  \n",
      "xz                        5.2.8                h5eee18b_0  \n",
      "yaml                      0.2.5                h7b6447c_0  \n",
      "yaml-cpp                  0.7.0                h27087fc_2    conda-forge\n",
      "zeromq                    4.3.4                h2531618_0  \n",
      "zict                      2.1.0            py39h06a4308_0  \n",
      "zipp                      3.8.0            py39h06a4308_0  \n",
      "zlib                      1.2.13               h5eee18b_0  \n",
      "zstandard                 0.19.0           py39h29414ee_1    conda-forge\n",
      "zstd                      1.5.2                ha4553b6_0  \n"
     ]
    }
   ],
   "source": [
    "!conda list"
   ]
  },
  {
   "cell_type": "code",
   "execution_count": null,
   "id": "0bb182b3-e6a6-432c-8543-646d25167800",
   "metadata": {},
   "outputs": [],
   "source": []
  }
 ],
 "metadata": {
  "kernelspec": {
   "display_name": "Python 3 (ipykernel)",
   "language": "python",
   "name": "python3"
  },
  "language_info": {
   "codemirror_mode": {
    "name": "ipython",
    "version": 3
   },
   "file_extension": ".py",
   "mimetype": "text/x-python",
   "name": "python",
   "nbconvert_exporter": "python",
   "pygments_lexer": "ipython3",
   "version": "3.9.15"
  }
 },
 "nbformat": 4,
 "nbformat_minor": 5
}
