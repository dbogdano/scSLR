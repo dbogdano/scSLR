{
 "cells": [
  {
   "cell_type": "code",
   "execution_count": 1,
   "id": "4b7b256f-07c0-4a7e-8970-70783bc83c36",
   "metadata": {},
   "outputs": [
    {
     "name": "stdout",
     "output_type": "stream",
     "text": [
      "Mon Jan  9 19:14:31 PST 2023\n"
     ]
    }
   ],
   "source": [
    "!date"
   ]
  },
  {
   "cell_type": "code",
   "execution_count": 2,
   "id": "5c3090f2-6179-4ffe-a425-fa24de77223d",
   "metadata": {},
   "outputs": [
    {
     "name": "stdout",
     "output_type": "stream",
     "text": [
      "/c4/home/derek/miniconda3/envs/pygenometracks\n"
     ]
    }
   ],
   "source": [
    "!echo $CONDA_PREFIX"
   ]
  },
  {
   "cell_type": "code",
   "execution_count": 3,
   "id": "749f8e77-58a0-4728-b152-cf354e9c54ce",
   "metadata": {},
   "outputs": [],
   "source": [
    "import pandas as pd\n",
    "import numpy as np\n",
    "\n",
    "import seaborn as sns\n",
    "import matplotlib.pyplot as plt\n",
    "from pygenometracks import tracks\n",
    "\n",
    "import scanpy as sc"
   ]
  },
  {
   "cell_type": "code",
   "execution_count": null,
   "id": "884e4aa8-ab90-4840-9bed-f20a9554e75d",
   "metadata": {},
   "outputs": [],
   "source": []
  },
  {
   "cell_type": "code",
   "execution_count": 4,
   "id": "bf422e4b-eaae-4024-9f5e-40d0ea3c4d78",
   "metadata": {},
   "outputs": [],
   "source": [
    "GTF_input='/c4/home/derek/data1/HDD-2/derek/reference/human_hp3_reference/genes/genes.gtf'\n",
    "\n",
    "GTF = pd.read_csv(GTF_input,sep='\\t',comment='#',header=None,names=['seqname', 'source', 'feature', 'start' , 'end', 'score', 'strand', 'frame', 'attribute'])\n",
    "\n",
    "\n",
    "coord_dict = {}\n",
    "\n",
    "for index, line in GTF.iterrows():\n",
    "    if line['feature'] == 'gene':\n",
    "\n",
    "        attribute_list = line['attribute'].split(';')\n",
    "    \n",
    "        gene_name = [i for i in attribute_list if i.startswith(' gene_name')][0].split('\"')[1]\n",
    "    \n",
    "        coordinate = str(line['seqname'])+':'+str(line['start'])+'-'+str(line['end'])\n",
    "    \n",
    "        coord_dict[gene_name] = coordinate\n",
    "    else:\n",
    "        pass"
   ]
  },
  {
   "cell_type": "code",
   "execution_count": 5,
   "id": "36d40600-e237-4079-b94f-a8bd7b0dcbf8",
   "metadata": {},
   "outputs": [],
   "source": [
    "# %%bash\n",
    "# working_dir=/media/chang/HDD-4/derek/SLR/data/20210707/sinto_outs/\n",
    "\n",
    "# ##get bed file of exons\n",
    "# exon_bedfile=/home/derek/analysis_4/SLR/resources/exons.bed\n",
    "\n",
    "\n",
    "# ##only output alignments overlapping the exon bedfile \n",
    "# samtools view -bh -L $exon_bedfile $working_dir/OPC.bam> $working_dir/OPC.exons.bam ; samtools index $working_dir/OPC.exons.bam"
   ]
  },
  {
   "cell_type": "code",
   "execution_count": 6,
   "id": "f650a0c7-edbd-4be5-9732-cf9db8f7803e",
   "metadata": {},
   "outputs": [],
   "source": [
    "# %%bash\n",
    "# generate bigwig files of\n",
    "\n",
    "# working_dir=./T4_Mem_outs/\n",
    "\n",
    "# bamCoverage\\\n",
    "#     --bam $working_dir/T4_Mem.bam \\\n",
    "#     --outFileName $working_dir/T4_Mem_CD45.bw \\\n",
    "#     --ignoreDuplicates \\\n",
    "#     --binSize 1 \\\n",
    "#     --region chr1:198638457:198757476\n"
   ]
  },
  {
   "cell_type": "code",
   "execution_count": null,
   "id": "e692ea4c-7577-448f-b28c-a3f8f4249cff",
   "metadata": {
    "tags": []
   },
   "outputs": [],
   "source": []
  },
  {
   "cell_type": "code",
   "execution_count": 7,
   "id": "61667cd3-4c2a-43b5-a02a-a28952b220ae",
   "metadata": {},
   "outputs": [],
   "source": [
    "##create pyGenomeTracks configuration file"
   ]
  },
  {
   "cell_type": "code",
   "execution_count": 8,
   "id": "5d919103-c403-44d4-9eb5-222445a09b76",
   "metadata": {},
   "outputs": [
    {
     "data": {
      "text/plain": [
       "'/nowakowskilab/data1/derek/scSLR/notebooks/fig1'"
      ]
     },
     "execution_count": 8,
     "metadata": {},
     "output_type": "execute_result"
    }
   ],
   "source": [
    "pwd"
   ]
  },
  {
   "cell_type": "code",
   "execution_count": 9,
   "id": "7c290b3f-8ef5-4fd0-9e58-2e1bb5895828",
   "metadata": {},
   "outputs": [
    {
     "data": {
      "text/html": [
       "<svg  width=\"550\" height=\"55\"><rect x=\"0\" y=\"0\" width=\"55\" height=\"55\" style=\"fill:#023eff;stroke-width:2;stroke:rgb(255,255,255)\"/><rect x=\"55\" y=\"0\" width=\"55\" height=\"55\" style=\"fill:#ff7c00;stroke-width:2;stroke:rgb(255,255,255)\"/><rect x=\"110\" y=\"0\" width=\"55\" height=\"55\" style=\"fill:#1ac938;stroke-width:2;stroke:rgb(255,255,255)\"/><rect x=\"165\" y=\"0\" width=\"55\" height=\"55\" style=\"fill:#e8000b;stroke-width:2;stroke:rgb(255,255,255)\"/><rect x=\"220\" y=\"0\" width=\"55\" height=\"55\" style=\"fill:#8b2be2;stroke-width:2;stroke:rgb(255,255,255)\"/><rect x=\"275\" y=\"0\" width=\"55\" height=\"55\" style=\"fill:#9f4800;stroke-width:2;stroke:rgb(255,255,255)\"/><rect x=\"330\" y=\"0\" width=\"55\" height=\"55\" style=\"fill:#f14cc1;stroke-width:2;stroke:rgb(255,255,255)\"/><rect x=\"385\" y=\"0\" width=\"55\" height=\"55\" style=\"fill:#a3a3a3;stroke-width:2;stroke:rgb(255,255,255)\"/><rect x=\"440\" y=\"0\" width=\"55\" height=\"55\" style=\"fill:#ffc400;stroke-width:2;stroke:rgb(255,255,255)\"/><rect x=\"495\" y=\"0\" width=\"55\" height=\"55\" style=\"fill:#00d7ff;stroke-width:2;stroke:rgb(255,255,255)\"/></svg>"
      ],
      "text/plain": [
       "[(0.00784313725490196, 0.24313725490196078, 1.0),\n",
       " (1.0, 0.48627450980392156, 0.0),\n",
       " (0.10196078431372549, 0.788235294117647, 0.2196078431372549),\n",
       " (0.9098039215686274, 0.0, 0.043137254901960784),\n",
       " (0.5450980392156862, 0.16862745098039217, 0.8862745098039215),\n",
       " (0.6235294117647059, 0.2823529411764706, 0.0),\n",
       " (0.9450980392156862, 0.2980392156862745, 0.7568627450980392),\n",
       " (0.6392156862745098, 0.6392156862745098, 0.6392156862745098),\n",
       " (1.0, 0.7686274509803922, 0.0),\n",
       " (0.0, 0.8431372549019608, 1.0)]"
      ]
     },
     "execution_count": 9,
     "metadata": {},
     "output_type": "execute_result"
    }
   ],
   "source": [
    "sns.color_palette(\"bright\")"
   ]
  },
  {
   "cell_type": "code",
   "execution_count": 10,
   "id": "7117a42d-c7cf-4a1c-b643-b3981f62f71f",
   "metadata": {},
   "outputs": [
    {
     "data": {
      "text/plain": [
       "(0.00784313725490196, 0.24313725490196078, 1.0)"
      ]
     },
     "execution_count": 10,
     "metadata": {},
     "output_type": "execute_result"
    }
   ],
   "source": [
    "sns.color_palette(\"bright\")[0]"
   ]
  },
  {
   "cell_type": "code",
   "execution_count": null,
   "id": "45a39f81-f2f8-4c5c-a227-2556c0f06d2e",
   "metadata": {},
   "outputs": [],
   "source": []
  },
  {
   "cell_type": "code",
   "execution_count": 19,
   "id": "9673d4b0-1a46-4236-9258-bde7d2f352e7",
   "metadata": {
    "tags": []
   },
   "outputs": [
    {
     "name": "stdout",
     "output_type": "stream",
     "text": [
      "Overwriting bigwig_initial_test.ini\n"
     ]
    }
   ],
   "source": [
    "%%writefile bigwig_initial_test.ini\n",
    "\n",
    "\n",
    "\n",
    "[spacer]\n",
    "height = 0.1\n",
    "\n",
    "[bigwig file test]\n",
    "file = /c4/home/derek/data1/HDD-2/derek/SLR_temp/CAT_20220904_PBMC/sample_1/merged/merged_complete_internal.bw\n",
    "color = (0.00784313725490196, 0.24313725490196078, 1.0)\n",
    "# height of the track in cm (optional value)\n",
    "height = 5\n",
    "#title = internal\n",
    "min_value = 0\n",
    "max_value = 50000\n",
    "alpha = 0.25\n",
    "#type = line:5\n",
    "\n",
    "# [spacer]\n",
    "# height = 1\n",
    "\n",
    "[bigwig file test]\n",
    "file = /c4/home/derek/data1/HDD-2/derek/SLR_temp/CAT_20220904_PBMC/sample_1/merged/merged_complete_5prime.bw\n",
    "color = (0.9098039215686274, 0.0, 0.043137254901960784)\n",
    "# height of the track in cm (optional value)\n",
    "height = 5\n",
    "#title = 5prime\n",
    "# min_value = 0\n",
    "# max_value = 5000\n",
    "alpha = 0.25\n",
    "overlay_previous = share-y\n",
    "#type = line:5\n",
    "\n",
    "\n",
    "\n",
    "[spacer]\n",
    "height = 0.5\n",
    "\n",
    "[genes]\n",
    "color = black  \n",
    "file = /c4/home/derek/data1/HDD-2/derek/reference/refdata-gex-GRCh38-2020-A/genes/genes.gtf\n",
    "height = 1.5\n",
    "# title = gtf\n",
    "# fontsize = 10\n",
    "file_type = gtf\n",
    "#gene_rows = 10\n",
    "\n",
    "\n",
    "\n",
    "[x-axis]\n",
    "fontsize=15\n"
   ]
  },
  {
   "cell_type": "code",
   "execution_count": null,
   "id": "a6afc0b7-2e3d-4086-aabc-73f81c15066b",
   "metadata": {},
   "outputs": [],
   "source": []
  },
  {
   "cell_type": "code",
   "execution_count": 20,
   "id": "8c3149cf-e845-4640-83f4-bb75132a97e4",
   "metadata": {},
   "outputs": [
    {
     "data": {
      "text/plain": [
       "'chr12:6534512-6538374'"
      ]
     },
     "execution_count": 20,
     "metadata": {},
     "output_type": "execute_result"
    }
   ],
   "source": [
    "coord_dict['GAPDH']"
   ]
  },
  {
   "cell_type": "code",
   "execution_count": 21,
   "id": "58653f27-41ca-4a59-99ec-1c77db968ff6",
   "metadata": {
    "tags": []
   },
   "outputs": [
    {
     "name": "stderr",
     "output_type": "stream",
     "text": [
      "WARNING:pygenometracks.tracksClass:title not set for section 2. [bigwig file test]\n",
      "\n",
      "WARNING:pygenometracks.tracksClass:title not set for section 5. [genes]\n",
      "\n",
      "INFO:pygenometracks.tracksClass:initialize 1. [spacer]\n",
      "INFO:pygenometracks.tracksClass:initialize 2. [bigwig file test]\n",
      "INFO:pygenometracks.tracksClass:initialize 3. [bigwig file test]\n",
      "INFO:pygenometracks.tracksClass:initialize 4. [spacer]\n",
      "INFO:pygenometracks.tracksClass:initialize 5. [genes]\n",
      "100%|██████████| 166/166 [00:00<00:00, 358.26it/s]\n",
      "INFO:pygenometracks.tracksClass:initialize 6. [x-axis]\n",
      "INFO:pygenometracks.tracksClass:time initializing track(s):\n",
      "INFO:pygenometracks.tracksClass:8.62157416343689\n",
      "DEBUG:pygenometracks.tracksClass:Figure size in cm is 40 x 9.547872340425531. Dpi is set to 72\n",
      "\n",
      "INFO:pygenometracks.tracksClass:plotting 1. [spacer]\n",
      "INFO:pygenometracks.tracksClass:plotting 2. [bigwig file test]\n",
      "INFO:pygenometracks.tracksClass:plotting 3. [bigwig file test]\n",
      "INFO:pygenometracks.tracksClass:plotting 4. [spacer]\n",
      "INFO:pygenometracks.tracksClass:plotting 5. [genes]\n",
      "DEBUG:pygenometracks.tracks.GenomeTrack:ylim 24.08,-0.08\n",
      "INFO:pygenometracks.tracksClass:plotting 6. [x-axis]\n"
     ]
    }
   ],
   "source": [
    "%%bash\n",
    "pyGenomeTracks --tracks bigwig_initial_test.ini --region 'chr12:6534512-6538374' -o bigwig_test_.png   "
   ]
  },
  {
   "cell_type": "code",
   "execution_count": 22,
   "id": "21c741a5-0cd1-474f-9439-b9088e5e72af",
   "metadata": {
    "tags": []
   },
   "outputs": [
    {
     "data": {
      "image/png": "[encoded data removed]",
      "text/plain": [
       "<IPython.core.display.Image object>"
      ]
     },
     "execution_count": 22,
     "metadata": {},
     "output_type": "execute_result"
    }
   ],
   "source": [
    "from IPython.display import Image\n",
    "Image(filename='bigwig_test_.png',)"
   ]
  },
  {
   "cell_type": "code",
   "execution_count": null,
   "id": "abf57343-71ed-4d15-b022-d685bed547ce",
   "metadata": {},
   "outputs": [],
   "source": []
  },
  {
   "cell_type": "code",
   "execution_count": null,
   "id": "2e9b91d0-4a29-4f1f-8c0b-eadfdf978f0a",
   "metadata": {},
   "outputs": [],
   "source": []
  },
  {
   "cell_type": "code",
   "execution_count": null,
   "id": "75c96a29-ea03-42bf-b995-57a11940e7f9",
   "metadata": {},
   "outputs": [],
   "source": []
  },
  {
   "cell_type": "code",
   "execution_count": null,
   "id": "4165fa75-f006-4350-a5c4-af88c8072e7a",
   "metadata": {},
   "outputs": [],
   "source": []
  },
  {
   "cell_type": "code",
   "execution_count": null,
   "id": "f9ce6e33-dd6e-4f6f-a71e-b6ef4a47732a",
   "metadata": {},
   "outputs": [],
   "source": []
  },
  {
   "cell_type": "code",
   "execution_count": null,
   "id": "c569270b-4aa0-4244-bbb8-bfd517040711",
   "metadata": {},
   "outputs": [],
   "source": []
  },
  {
   "cell_type": "code",
   "execution_count": null,
   "id": "6205a1c1-e89e-49f7-b30d-49f014bf9234",
   "metadata": {},
   "outputs": [],
   "source": []
  },
  {
   "cell_type": "code",
   "execution_count": null,
   "id": "d63a51ab-7a67-4585-8c9e-ca6ad275951a",
   "metadata": {},
   "outputs": [],
   "source": []
  },
  {
   "cell_type": "code",
   "execution_count": null,
   "id": "2b91ea88-a7e5-4b34-ae6c-da5a861544c9",
   "metadata": {},
   "outputs": [],
   "source": []
  },
  {
   "cell_type": "code",
   "execution_count": null,
   "id": "03993f5c-04dd-4299-b547-75a7aee8e7e5",
   "metadata": {},
   "outputs": [],
   "source": []
  }
 ],
 "metadata": {
  "kernelspec": {
   "display_name": "Python 3 (ipykernel)",
   "language": "python",
   "name": "python3"
  },
  "language_info": {
   "codemirror_mode": {
    "name": "ipython",
    "version": 3
   },
   "file_extension": ".py",
   "mimetype": "text/x-python",
   "name": "python",
   "nbconvert_exporter": "python",
   "pygments_lexer": "ipython3",
   "version": "3.9.15"
  }
 },
 "nbformat": 4,
 "nbformat_minor": 5
}
