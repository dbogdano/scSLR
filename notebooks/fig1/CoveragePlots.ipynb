{
 "cells": [
  {
   "cell_type": "code",
   "execution_count": 1,
   "id": "295acaf1-cba7-434e-bc34-91cd7af7259c",
   "metadata": {
    "tags": []
   },
   "outputs": [
    {
     "name": "stdout",
     "output_type": "stream",
     "text": [
      "Wed Aug 21 11:53:37 PDT 2024\n"
     ]
    }
   ],
   "source": [
    "!date"
   ]
  },
  {
   "cell_type": "code",
   "execution_count": 2,
   "id": "ec88b5d1-adc0-458a-a823-aa78bf464ddf",
   "metadata": {
    "tags": []
   },
   "outputs": [
    {
     "name": "stdout",
     "output_type": "stream",
     "text": [
      "/c4/home/derek/miniconda3/envs/scquint_4\n"
     ]
    }
   ],
   "source": [
    "!echo $CONDA_PREFIX"
   ]
  },
  {
   "cell_type": "code",
   "execution_count": 3,
   "id": "7e73edfd-60eb-464d-86dc-6c3c9f701d93",
   "metadata": {
    "tags": []
   },
   "outputs": [],
   "source": [
    "import seaborn as sns\n",
    "import pandas as pd\n",
    "import matplotlib.pyplot as plt"
   ]
  },
  {
   "cell_type": "code",
   "execution_count": 4,
   "id": "03cd0f45-6959-49aa-9d99-b54e9df022db",
   "metadata": {
    "tags": []
   },
   "outputs": [],
   "source": [
    "import seaborn.objects as so"
   ]
  },
  {
   "cell_type": "code",
   "execution_count": null,
   "id": "8723a542-3d9c-4940-8bec-400f87ede494",
   "metadata": {},
   "outputs": [],
   "source": []
  },
  {
   "cell_type": "code",
   "execution_count": 8,
   "id": "38a07671-bb3e-4e4e-9ff3-0ccc5293462c",
   "metadata": {
    "tags": []
   },
   "outputs": [],
   "source": [
    "# input_dir='/c4/home/derek/data1/derek/data_scSLR/PBMC/STAR_outs/sample_2/UMItools_dedup_outs/internal/'\n",
    "\n",
    "#input_dir='/c4/home/derek/data1/derek/data_scSLR/PBMC/coverage_plots/bigwig_input/'\n",
    "\n",
    "input_dir= '/c4/home/derek/data1/derek/data_scSLR/devBrain_fastqs/GW17_1/merged/genometracks/'"
   ]
  },
  {
   "cell_type": "code",
   "execution_count": 9,
   "id": "61b79d41-7166-4d68-ad96-60c7f233e5ef",
   "metadata": {
    "tags": []
   },
   "outputs": [],
   "source": [
    "#df_5prime = pd.read_csv(input_dir+'5prime_dedup.geneBodyCoverage.txt',sep='\\t')\n",
    "\n",
    "#df_5prime = pd.read_csv(input_dir+'3prime_coverage.geneBodyCoverage.txt',sep='\\t')\n",
    "\n",
    "df_5prime = pd.read_csv(input_dir+'5prime_CB_UMI_dedup_genebody.geneBodyCoverage.txt',sep='\\t')"
   ]
  },
  {
   "cell_type": "code",
   "execution_count": 10,
   "id": "efa98544-e920-4cf5-8a8d-813c43c25c5d",
   "metadata": {
    "tags": []
   },
   "outputs": [
    {
     "data": {
      "text/html": [
       "<div>\n",
       "<style scoped>\n",
       "    .dataframe tbody tr th:only-of-type {\n",
       "        vertical-align: middle;\n",
       "    }\n",
       "\n",
       "    .dataframe tbody tr th {\n",
       "        vertical-align: top;\n",
       "    }\n",
       "\n",
       "    .dataframe thead th {\n",
       "        text-align: right;\n",
       "    }\n",
       "</style>\n",
       "<table border=\"1\" class=\"dataframe\">\n",
       "  <thead>\n",
       "    <tr style=\"text-align: right;\">\n",
       "      <th></th>\n",
       "      <th>percentile</th>\n",
       "      <th>count</th>\n",
       "    </tr>\n",
       "  </thead>\n",
       "  <tbody>\n",
       "    <tr>\n",
       "      <th>0</th>\n",
       "      <td>0</td>\n",
       "      <td>1721704</td>\n",
       "    </tr>\n",
       "    <tr>\n",
       "      <th>1</th>\n",
       "      <td>1</td>\n",
       "      <td>2272123</td>\n",
       "    </tr>\n",
       "    <tr>\n",
       "      <th>2</th>\n",
       "      <td>2</td>\n",
       "      <td>2567964</td>\n",
       "    </tr>\n",
       "    <tr>\n",
       "      <th>3</th>\n",
       "      <td>3</td>\n",
       "      <td>2723846</td>\n",
       "    </tr>\n",
       "    <tr>\n",
       "      <th>4</th>\n",
       "      <td>4</td>\n",
       "      <td>2776992</td>\n",
       "    </tr>\n",
       "    <tr>\n",
       "      <th>...</th>\n",
       "      <td>...</td>\n",
       "      <td>...</td>\n",
       "    </tr>\n",
       "    <tr>\n",
       "      <th>95</th>\n",
       "      <td>95</td>\n",
       "      <td>201036</td>\n",
       "    </tr>\n",
       "    <tr>\n",
       "      <th>96</th>\n",
       "      <td>96</td>\n",
       "      <td>169581</td>\n",
       "    </tr>\n",
       "    <tr>\n",
       "      <th>97</th>\n",
       "      <td>97</td>\n",
       "      <td>127215</td>\n",
       "    </tr>\n",
       "    <tr>\n",
       "      <th>98</th>\n",
       "      <td>98</td>\n",
       "      <td>93509</td>\n",
       "    </tr>\n",
       "    <tr>\n",
       "      <th>99</th>\n",
       "      <td>99</td>\n",
       "      <td>61223</td>\n",
       "    </tr>\n",
       "  </tbody>\n",
       "</table>\n",
       "<p>100 rows × 2 columns</p>\n",
       "</div>"
      ],
      "text/plain": [
       "    percentile    count\n",
       "0            0  1721704\n",
       "1            1  2272123\n",
       "2            2  2567964\n",
       "3            3  2723846\n",
       "4            4  2776992\n",
       "..         ...      ...\n",
       "95          95   201036\n",
       "96          96   169581\n",
       "97          97   127215\n",
       "98          98    93509\n",
       "99          99    61223\n",
       "\n",
       "[100 rows x 2 columns]"
      ]
     },
     "execution_count": 10,
     "metadata": {},
     "output_type": "execute_result"
    }
   ],
   "source": [
    "df_5prime"
   ]
  },
  {
   "cell_type": "code",
   "execution_count": 13,
   "id": "76608b7e-be2d-42dd-acfe-39a0415cb23a",
   "metadata": {
    "tags": []
   },
   "outputs": [],
   "source": [
    "#normalize coverage\n",
    "# df = df_5prime.drop('percentile', axis=1)\n",
    "# cov_5prime = (df-df.min())/(df.max()-df.min())\n",
    "\n",
    "# cov_5prime['percentile'] = df_5prime['percentile']\n",
    "\n",
    "cov_5prime = df_5prime.copy()\n",
    "\n",
    "cov_5prime = cov_5prime.rename(columns={'count':'5prime'})"
   ]
  },
  {
   "cell_type": "code",
   "execution_count": null,
   "id": "8f46fd92-5355-42ec-b749-2ed505bd331f",
   "metadata": {},
   "outputs": [],
   "source": []
  },
  {
   "cell_type": "code",
   "execution_count": 20,
   "id": "62c44631-d678-4fb4-be2f-7b971940d93b",
   "metadata": {
    "tags": []
   },
   "outputs": [],
   "source": [
    "df_3prime = pd.read_csv(input_dir+'3prime_CB_UMI_dedup_genebody.geneBodyCoverage.txt',sep='\\t')\n"
   ]
  },
  {
   "cell_type": "code",
   "execution_count": 21,
   "id": "8f5d1e86-3609-4d08-a60b-63d17b75d2b6",
   "metadata": {
    "tags": []
   },
   "outputs": [
    {
     "data": {
      "text/html": [
       "<div>\n",
       "<style scoped>\n",
       "    .dataframe tbody tr th:only-of-type {\n",
       "        vertical-align: middle;\n",
       "    }\n",
       "\n",
       "    .dataframe tbody tr th {\n",
       "        vertical-align: top;\n",
       "    }\n",
       "\n",
       "    .dataframe thead th {\n",
       "        text-align: right;\n",
       "    }\n",
       "</style>\n",
       "<table border=\"1\" class=\"dataframe\">\n",
       "  <thead>\n",
       "    <tr style=\"text-align: right;\">\n",
       "      <th></th>\n",
       "      <th>percentile</th>\n",
       "      <th>count</th>\n",
       "    </tr>\n",
       "  </thead>\n",
       "  <tbody>\n",
       "    <tr>\n",
       "      <th>0</th>\n",
       "      <td>0</td>\n",
       "      <td>30258</td>\n",
       "    </tr>\n",
       "    <tr>\n",
       "      <th>1</th>\n",
       "      <td>1</td>\n",
       "      <td>45012</td>\n",
       "    </tr>\n",
       "    <tr>\n",
       "      <th>2</th>\n",
       "      <td>2</td>\n",
       "      <td>57639</td>\n",
       "    </tr>\n",
       "    <tr>\n",
       "      <th>3</th>\n",
       "      <td>3</td>\n",
       "      <td>67376</td>\n",
       "    </tr>\n",
       "    <tr>\n",
       "      <th>4</th>\n",
       "      <td>4</td>\n",
       "      <td>84247</td>\n",
       "    </tr>\n",
       "  </tbody>\n",
       "</table>\n",
       "</div>"
      ],
      "text/plain": [
       "   percentile  count\n",
       "0           0  30258\n",
       "1           1  45012\n",
       "2           2  57639\n",
       "3           3  67376\n",
       "4           4  84247"
      ]
     },
     "execution_count": 21,
     "metadata": {},
     "output_type": "execute_result"
    }
   ],
   "source": [
    "df_3prime.head()"
   ]
  },
  {
   "cell_type": "code",
   "execution_count": 22,
   "id": "1f105aad-4ff2-490b-9132-2dfcaee0080a",
   "metadata": {
    "tags": []
   },
   "outputs": [],
   "source": [
    "\n",
    "cov_3prime= df_3prime.copy()\n",
    "\n",
    "\n",
    "cov_3prime = cov_3prime.rename(columns={'count':'3prime'})"
   ]
  },
  {
   "cell_type": "code",
   "execution_count": null,
   "id": "e465e665-afdb-48a5-bd97-ab86bc4e28b3",
   "metadata": {},
   "outputs": [],
   "source": []
  },
  {
   "cell_type": "code",
   "execution_count": 23,
   "id": "3b8ad377-37e3-4571-a8e2-28be384042ca",
   "metadata": {},
   "outputs": [],
   "source": [
    "df_internal = pd.read_csv(input_dir+'internal_CB_UMI_dedup_genebody.geneBodyCoverage.txt',sep='\\t')\n",
    "    "
   ]
  },
  {
   "cell_type": "code",
   "execution_count": 25,
   "id": "e4ea39c2-0d76-4adf-b982-214452a84422",
   "metadata": {
    "tags": []
   },
   "outputs": [],
   "source": [
    "#normalize coverage\n",
    "# df = df_internal.drop('percentile', axis=1)\n",
    "# cov_internal = (df-df.min())/(df.max()-df.min())\n",
    "\n",
    "# cov_internal['percentile'] = df_internal['percentile']\n",
    "\n",
    "cov_internal = df_internal.copy()\n",
    "\n",
    "\n",
    "cov_internal = cov_internal.rename(columns={'count':'internal'})"
   ]
  },
  {
   "cell_type": "code",
   "execution_count": 26,
   "id": "1408a16d-0df1-4939-91fa-9a5673a91ae7",
   "metadata": {
    "tags": []
   },
   "outputs": [
    {
     "data": {
      "text/html": [
       "<div>\n",
       "<style scoped>\n",
       "    .dataframe tbody tr th:only-of-type {\n",
       "        vertical-align: middle;\n",
       "    }\n",
       "\n",
       "    .dataframe tbody tr th {\n",
       "        vertical-align: top;\n",
       "    }\n",
       "\n",
       "    .dataframe thead th {\n",
       "        text-align: right;\n",
       "    }\n",
       "</style>\n",
       "<table border=\"1\" class=\"dataframe\">\n",
       "  <thead>\n",
       "    <tr style=\"text-align: right;\">\n",
       "      <th></th>\n",
       "      <th>percentile</th>\n",
       "      <th>internal</th>\n",
       "    </tr>\n",
       "  </thead>\n",
       "  <tbody>\n",
       "    <tr>\n",
       "      <th>0</th>\n",
       "      <td>0</td>\n",
       "      <td>30258</td>\n",
       "    </tr>\n",
       "    <tr>\n",
       "      <th>1</th>\n",
       "      <td>1</td>\n",
       "      <td>45012</td>\n",
       "    </tr>\n",
       "    <tr>\n",
       "      <th>2</th>\n",
       "      <td>2</td>\n",
       "      <td>57639</td>\n",
       "    </tr>\n",
       "    <tr>\n",
       "      <th>3</th>\n",
       "      <td>3</td>\n",
       "      <td>67376</td>\n",
       "    </tr>\n",
       "    <tr>\n",
       "      <th>4</th>\n",
       "      <td>4</td>\n",
       "      <td>84247</td>\n",
       "    </tr>\n",
       "  </tbody>\n",
       "</table>\n",
       "</div>"
      ],
      "text/plain": [
       "   percentile  internal\n",
       "0           0     30258\n",
       "1           1     45012\n",
       "2           2     57639\n",
       "3           3     67376\n",
       "4           4     84247"
      ]
     },
     "execution_count": 26,
     "metadata": {},
     "output_type": "execute_result"
    }
   ],
   "source": [
    "cov_internal.head()"
   ]
  },
  {
   "cell_type": "code",
   "execution_count": 30,
   "id": "1d3aff82-e544-402a-961c-77ae7883425d",
   "metadata": {
    "tags": []
   },
   "outputs": [],
   "source": [
    "cov = pd.merge(cov_5prime, cov_internal,\n",
    "                on='percentile'\n",
    "               )\n",
    "\n",
    "cov = pd.merge(cov, cov_3prime,\n",
    "                on='percentile'\n",
    "               )\n"
   ]
  },
  {
   "cell_type": "code",
   "execution_count": 31,
   "id": "77d7d4e9-6c3a-49eb-b642-8038ddeb6819",
   "metadata": {
    "tags": []
   },
   "outputs": [
    {
     "data": {
      "text/html": [
       "<div>\n",
       "<style scoped>\n",
       "    .dataframe tbody tr th:only-of-type {\n",
       "        vertical-align: middle;\n",
       "    }\n",
       "\n",
       "    .dataframe tbody tr th {\n",
       "        vertical-align: top;\n",
       "    }\n",
       "\n",
       "    .dataframe thead th {\n",
       "        text-align: right;\n",
       "    }\n",
       "</style>\n",
       "<table border=\"1\" class=\"dataframe\">\n",
       "  <thead>\n",
       "    <tr style=\"text-align: right;\">\n",
       "      <th></th>\n",
       "      <th>percentile</th>\n",
       "      <th>5prime</th>\n",
       "      <th>internal</th>\n",
       "      <th>3prime</th>\n",
       "    </tr>\n",
       "  </thead>\n",
       "  <tbody>\n",
       "    <tr>\n",
       "      <th>0</th>\n",
       "      <td>0</td>\n",
       "      <td>1721704</td>\n",
       "      <td>30258</td>\n",
       "      <td>30258</td>\n",
       "    </tr>\n",
       "    <tr>\n",
       "      <th>1</th>\n",
       "      <td>1</td>\n",
       "      <td>2272123</td>\n",
       "      <td>45012</td>\n",
       "      <td>45012</td>\n",
       "    </tr>\n",
       "    <tr>\n",
       "      <th>2</th>\n",
       "      <td>2</td>\n",
       "      <td>2567964</td>\n",
       "      <td>57639</td>\n",
       "      <td>57639</td>\n",
       "    </tr>\n",
       "    <tr>\n",
       "      <th>3</th>\n",
       "      <td>3</td>\n",
       "      <td>2723846</td>\n",
       "      <td>67376</td>\n",
       "      <td>67376</td>\n",
       "    </tr>\n",
       "    <tr>\n",
       "      <th>4</th>\n",
       "      <td>4</td>\n",
       "      <td>2776992</td>\n",
       "      <td>84247</td>\n",
       "      <td>84247</td>\n",
       "    </tr>\n",
       "    <tr>\n",
       "      <th>...</th>\n",
       "      <td>...</td>\n",
       "      <td>...</td>\n",
       "      <td>...</td>\n",
       "      <td>...</td>\n",
       "    </tr>\n",
       "    <tr>\n",
       "      <th>95</th>\n",
       "      <td>95</td>\n",
       "      <td>201036</td>\n",
       "      <td>984112</td>\n",
       "      <td>984112</td>\n",
       "    </tr>\n",
       "    <tr>\n",
       "      <th>96</th>\n",
       "      <td>96</td>\n",
       "      <td>169581</td>\n",
       "      <td>1072378</td>\n",
       "      <td>1072378</td>\n",
       "    </tr>\n",
       "    <tr>\n",
       "      <th>97</th>\n",
       "      <td>97</td>\n",
       "      <td>127215</td>\n",
       "      <td>1142471</td>\n",
       "      <td>1142471</td>\n",
       "    </tr>\n",
       "    <tr>\n",
       "      <th>98</th>\n",
       "      <td>98</td>\n",
       "      <td>93509</td>\n",
       "      <td>1105713</td>\n",
       "      <td>1105713</td>\n",
       "    </tr>\n",
       "    <tr>\n",
       "      <th>99</th>\n",
       "      <td>99</td>\n",
       "      <td>61223</td>\n",
       "      <td>990420</td>\n",
       "      <td>990420</td>\n",
       "    </tr>\n",
       "  </tbody>\n",
       "</table>\n",
       "<p>100 rows × 4 columns</p>\n",
       "</div>"
      ],
      "text/plain": [
       "    percentile   5prime  internal   3prime\n",
       "0            0  1721704     30258    30258\n",
       "1            1  2272123     45012    45012\n",
       "2            2  2567964     57639    57639\n",
       "3            3  2723846     67376    67376\n",
       "4            4  2776992     84247    84247\n",
       "..         ...      ...       ...      ...\n",
       "95          95   201036    984112   984112\n",
       "96          96   169581   1072378  1072378\n",
       "97          97   127215   1142471  1142471\n",
       "98          98    93509   1105713  1105713\n",
       "99          99    61223    990420   990420\n",
       "\n",
       "[100 rows x 4 columns]"
      ]
     },
     "execution_count": 31,
     "metadata": {},
     "output_type": "execute_result"
    }
   ],
   "source": [
    "cov"
   ]
  },
  {
   "cell_type": "code",
   "execution_count": 42,
   "id": "f2f7483c-4d59-40e2-b334-219c2d4a88e9",
   "metadata": {
    "tags": []
   },
   "outputs": [],
   "source": [
    "cov = cov.melt(id_vars=['percentile'],\n",
    "        var_name='Library', value_name='Coverage')"
   ]
  },
  {
   "cell_type": "code",
   "execution_count": 43,
   "id": "a9676ba5-6304-4eef-82bc-7f905984b03b",
   "metadata": {
    "tags": []
   },
   "outputs": [
    {
     "data": {
      "text/html": [
       "<div>\n",
       "<style scoped>\n",
       "    .dataframe tbody tr th:only-of-type {\n",
       "        vertical-align: middle;\n",
       "    }\n",
       "\n",
       "    .dataframe tbody tr th {\n",
       "        vertical-align: top;\n",
       "    }\n",
       "\n",
       "    .dataframe thead th {\n",
       "        text-align: right;\n",
       "    }\n",
       "</style>\n",
       "<table border=\"1\" class=\"dataframe\">\n",
       "  <thead>\n",
       "    <tr style=\"text-align: right;\">\n",
       "      <th></th>\n",
       "      <th>percentile</th>\n",
       "      <th>Library</th>\n",
       "      <th>Coverage</th>\n",
       "    </tr>\n",
       "  </thead>\n",
       "  <tbody>\n",
       "    <tr>\n",
       "      <th>0</th>\n",
       "      <td>0</td>\n",
       "      <td>5prime</td>\n",
       "      <td>1721704</td>\n",
       "    </tr>\n",
       "    <tr>\n",
       "      <th>1</th>\n",
       "      <td>1</td>\n",
       "      <td>5prime</td>\n",
       "      <td>2272123</td>\n",
       "    </tr>\n",
       "    <tr>\n",
       "      <th>2</th>\n",
       "      <td>2</td>\n",
       "      <td>5prime</td>\n",
       "      <td>2567964</td>\n",
       "    </tr>\n",
       "    <tr>\n",
       "      <th>3</th>\n",
       "      <td>3</td>\n",
       "      <td>5prime</td>\n",
       "      <td>2723846</td>\n",
       "    </tr>\n",
       "    <tr>\n",
       "      <th>4</th>\n",
       "      <td>4</td>\n",
       "      <td>5prime</td>\n",
       "      <td>2776992</td>\n",
       "    </tr>\n",
       "    <tr>\n",
       "      <th>...</th>\n",
       "      <td>...</td>\n",
       "      <td>...</td>\n",
       "      <td>...</td>\n",
       "    </tr>\n",
       "    <tr>\n",
       "      <th>295</th>\n",
       "      <td>95</td>\n",
       "      <td>3prime</td>\n",
       "      <td>984112</td>\n",
       "    </tr>\n",
       "    <tr>\n",
       "      <th>296</th>\n",
       "      <td>96</td>\n",
       "      <td>3prime</td>\n",
       "      <td>1072378</td>\n",
       "    </tr>\n",
       "    <tr>\n",
       "      <th>297</th>\n",
       "      <td>97</td>\n",
       "      <td>3prime</td>\n",
       "      <td>1142471</td>\n",
       "    </tr>\n",
       "    <tr>\n",
       "      <th>298</th>\n",
       "      <td>98</td>\n",
       "      <td>3prime</td>\n",
       "      <td>1105713</td>\n",
       "    </tr>\n",
       "    <tr>\n",
       "      <th>299</th>\n",
       "      <td>99</td>\n",
       "      <td>3prime</td>\n",
       "      <td>990420</td>\n",
       "    </tr>\n",
       "  </tbody>\n",
       "</table>\n",
       "<p>300 rows × 3 columns</p>\n",
       "</div>"
      ],
      "text/plain": [
       "     percentile Library  Coverage\n",
       "0             0  5prime   1721704\n",
       "1             1  5prime   2272123\n",
       "2             2  5prime   2567964\n",
       "3             3  5prime   2723846\n",
       "4             4  5prime   2776992\n",
       "..          ...     ...       ...\n",
       "295          95  3prime    984112\n",
       "296          96  3prime   1072378\n",
       "297          97  3prime   1142471\n",
       "298          98  3prime   1105713\n",
       "299          99  3prime    990420\n",
       "\n",
       "[300 rows x 3 columns]"
      ]
     },
     "execution_count": 43,
     "metadata": {},
     "output_type": "execute_result"
    }
   ],
   "source": [
    "cov"
   ]
  },
  {
   "cell_type": "code",
   "execution_count": 44,
   "id": "dec2699a-6d40-4af3-b3a9-f12e53f1c0c4",
   "metadata": {
    "tags": []
   },
   "outputs": [],
   "source": [
    "color_mode = {'internal':(0.00784313725490196, 0.24313725490196078, 1.0),\n",
    " '5prime':(0.9098039215686274, 0.0, 0.043137254901960784),\n",
    "              '3prime':(0.5, 0.1, 0.1)\n",
    "}\n",
    "\n",
    "#color_5prime = (0.9098039215686274, 0.0, 0.043137254901960784)"
   ]
  },
  {
   "cell_type": "code",
   "execution_count": 45,
   "id": "06ac48bf-db7f-4b59-95b8-dd7fe6b0699f",
   "metadata": {
    "tags": []
   },
   "outputs": [
    {
     "data": {
      "image/png": "[encoded data removed]",
      "text/plain": [
       "<Figure size 300x100 with 1 Axes>"
      ]
     },
     "metadata": {},
     "output_type": "display_data"
    }
   ],
   "source": [
    "sns.palplot(color_mode.values())"
   ]
  },
  {
   "cell_type": "code",
   "execution_count": 46,
   "id": "8b0e7d53-3aa1-4701-9735-08966cd5c40c",
   "metadata": {
    "tags": []
   },
   "outputs": [],
   "source": [
    "cov['color'] = cov['Library'].map(color_mode)"
   ]
  },
  {
   "cell_type": "code",
   "execution_count": 47,
   "id": "dcefb14a-a575-4087-9f2c-7699a9085ea0",
   "metadata": {
    "tags": []
   },
   "outputs": [],
   "source": [
    "p = so.Plot(cov, \"percentile\", \"Coverage\", color=\"Library\",\n",
    "           )"
   ]
  },
  {
   "cell_type": "code",
   "execution_count": 51,
   "id": "4dc0739e-701b-4221-b3fa-51d7d7b83125",
   "metadata": {
    "tags": []
   },
   "outputs": [
    {
     "data": {
      "text/html": [
       "<div>\n",
       "<style scoped>\n",
       "    .dataframe tbody tr th:only-of-type {\n",
       "        vertical-align: middle;\n",
       "    }\n",
       "\n",
       "    .dataframe tbody tr th {\n",
       "        vertical-align: top;\n",
       "    }\n",
       "\n",
       "    .dataframe thead th {\n",
       "        text-align: right;\n",
       "    }\n",
       "</style>\n",
       "<table border=\"1\" class=\"dataframe\">\n",
       "  <thead>\n",
       "    <tr style=\"text-align: right;\">\n",
       "      <th></th>\n",
       "      <th>percentile</th>\n",
       "      <th>Library</th>\n",
       "      <th>Coverage</th>\n",
       "      <th>color</th>\n",
       "    </tr>\n",
       "  </thead>\n",
       "  <tbody>\n",
       "    <tr>\n",
       "      <th>0</th>\n",
       "      <td>0</td>\n",
       "      <td>5prime</td>\n",
       "      <td>1721704</td>\n",
       "      <td>(0.9098039215686274, 0.0, 0.043137254901960784)</td>\n",
       "    </tr>\n",
       "    <tr>\n",
       "      <th>1</th>\n",
       "      <td>1</td>\n",
       "      <td>5prime</td>\n",
       "      <td>2272123</td>\n",
       "      <td>(0.9098039215686274, 0.0, 0.043137254901960784)</td>\n",
       "    </tr>\n",
       "    <tr>\n",
       "      <th>2</th>\n",
       "      <td>2</td>\n",
       "      <td>5prime</td>\n",
       "      <td>2567964</td>\n",
       "      <td>(0.9098039215686274, 0.0, 0.043137254901960784)</td>\n",
       "    </tr>\n",
       "    <tr>\n",
       "      <th>3</th>\n",
       "      <td>3</td>\n",
       "      <td>5prime</td>\n",
       "      <td>2723846</td>\n",
       "      <td>(0.9098039215686274, 0.0, 0.043137254901960784)</td>\n",
       "    </tr>\n",
       "    <tr>\n",
       "      <th>4</th>\n",
       "      <td>4</td>\n",
       "      <td>5prime</td>\n",
       "      <td>2776992</td>\n",
       "      <td>(0.9098039215686274, 0.0, 0.043137254901960784)</td>\n",
       "    </tr>\n",
       "    <tr>\n",
       "      <th>...</th>\n",
       "      <td>...</td>\n",
       "      <td>...</td>\n",
       "      <td>...</td>\n",
       "      <td>...</td>\n",
       "    </tr>\n",
       "    <tr>\n",
       "      <th>295</th>\n",
       "      <td>95</td>\n",
       "      <td>3prime</td>\n",
       "      <td>984112</td>\n",
       "      <td>(0.5, 0.1, 0.1)</td>\n",
       "    </tr>\n",
       "    <tr>\n",
       "      <th>296</th>\n",
       "      <td>96</td>\n",
       "      <td>3prime</td>\n",
       "      <td>1072378</td>\n",
       "      <td>(0.5, 0.1, 0.1)</td>\n",
       "    </tr>\n",
       "    <tr>\n",
       "      <th>297</th>\n",
       "      <td>97</td>\n",
       "      <td>3prime</td>\n",
       "      <td>1142471</td>\n",
       "      <td>(0.5, 0.1, 0.1)</td>\n",
       "    </tr>\n",
       "    <tr>\n",
       "      <th>298</th>\n",
       "      <td>98</td>\n",
       "      <td>3prime</td>\n",
       "      <td>1105713</td>\n",
       "      <td>(0.5, 0.1, 0.1)</td>\n",
       "    </tr>\n",
       "    <tr>\n",
       "      <th>299</th>\n",
       "      <td>99</td>\n",
       "      <td>3prime</td>\n",
       "      <td>990420</td>\n",
       "      <td>(0.5, 0.1, 0.1)</td>\n",
       "    </tr>\n",
       "  </tbody>\n",
       "</table>\n",
       "<p>300 rows × 4 columns</p>\n",
       "</div>"
      ],
      "text/plain": [
       "     percentile Library  Coverage  \\\n",
       "0             0  5prime   1721704   \n",
       "1             1  5prime   2272123   \n",
       "2             2  5prime   2567964   \n",
       "3             3  5prime   2723846   \n",
       "4             4  5prime   2776992   \n",
       "..          ...     ...       ...   \n",
       "295          95  3prime    984112   \n",
       "296          96  3prime   1072378   \n",
       "297          97  3prime   1142471   \n",
       "298          98  3prime   1105713   \n",
       "299          99  3prime    990420   \n",
       "\n",
       "                                               color  \n",
       "0    (0.9098039215686274, 0.0, 0.043137254901960784)  \n",
       "1    (0.9098039215686274, 0.0, 0.043137254901960784)  \n",
       "2    (0.9098039215686274, 0.0, 0.043137254901960784)  \n",
       "3    (0.9098039215686274, 0.0, 0.043137254901960784)  \n",
       "4    (0.9098039215686274, 0.0, 0.043137254901960784)  \n",
       "..                                               ...  \n",
       "295                                  (0.5, 0.1, 0.1)  \n",
       "296                                  (0.5, 0.1, 0.1)  \n",
       "297                                  (0.5, 0.1, 0.1)  \n",
       "298                                  (0.5, 0.1, 0.1)  \n",
       "299                                  (0.5, 0.1, 0.1)  \n",
       "\n",
       "[300 rows x 4 columns]"
      ]
     },
     "execution_count": 51,
     "metadata": {},
     "output_type": "execute_result"
    }
   ],
   "source": [
    "cov"
   ]
  },
  {
   "cell_type": "code",
   "execution_count": null,
   "id": "d7134674-a8ea-4949-9825-16e2fd0ae0b2",
   "metadata": {
    "tags": []
   },
   "outputs": [],
   "source": []
  },
  {
   "cell_type": "code",
   "execution_count": 60,
   "id": "359cbe54-957e-4d59-b7ee-5e1090bc10b1",
   "metadata": {
    "tags": []
   },
   "outputs": [
    {
     "data": {
      "image/png": "[encoded data removed]",
      "text/plain": [
       "<Figure size 900x300 with 1 Axes>"
      ]
     },
     "metadata": {},
     "output_type": "display_data"
    }
   ],
   "source": [
    "from seaborn import axes_style\n",
    "\n",
    "fig, ax = plt.subplots(1,1,figsize=(9,3))\n",
    "\n",
    "p.add(so.Line(linewidth=0,\n",
    "             ), legend=False).add(\n",
    "    so.Area(alpha=.2,edgewidth=0\n",
    "           )).theme(\n",
    "        axes_style({**axes_style(\"whitegrid\"), 'axes.grid': False,})).on(ax).show()\n",
    "\n",
    "\n",
    "#.save('./plots/Coverage.pdf')\n",
    "\n",
    "\n"
   ]
  },
  {
   "cell_type": "code",
   "execution_count": 57,
   "id": "b2bde152-12d2-4f5d-a2cb-56e380872be4",
   "metadata": {
    "tags": []
   },
   "outputs": [
    {
     "data": {
      "image/png": "[encoded data removed]",
      "text/plain": [
       "<Figure size 400x300 with 1 Axes>"
      ]
     },
     "metadata": {},
     "output_type": "display_data"
    }
   ],
   "source": [
    "from seaborn import axes_style\n",
    "\n",
    "fig, ax = plt.subplots(figsize=(4,3))\n",
    "\n",
    "\n",
    "\n",
    "p.add(so.Line(linewidth=3,\n",
    "             )).theme(\n",
    "    axes_style({**axes_style(\"whitegrid\"), 'axes.grid': False,})).on(ax).show()\n",
    "\n",
    "\n",
    "\n",
    "\n",
    "\n",
    "\n",
    "\n",
    "\n",
    "# ).save('./plots/Coverage.pdf')"
   ]
  },
  {
   "cell_type": "code",
   "execution_count": 16,
   "id": "5198000a-5cb6-4c2a-b1bd-c2a8afbbc7eb",
   "metadata": {},
   "outputs": [],
   "source": []
  },
  {
   "cell_type": "code",
   "execution_count": null,
   "id": "11ee3cb4-b838-45cd-8972-92479f537a80",
   "metadata": {},
   "outputs": [],
   "source": []
  },
  {
   "cell_type": "code",
   "execution_count": null,
   "id": "e42481f5-e0a1-4b44-a54e-b9ddb183a435",
   "metadata": {},
   "outputs": [],
   "source": []
  },
  {
   "cell_type": "code",
   "execution_count": null,
   "id": "726227ff-68c5-4839-9eae-12fee1bd28c4",
   "metadata": {},
   "outputs": [],
   "source": []
  },
  {
   "cell_type": "code",
   "execution_count": null,
   "id": "64e95e36-615a-4dcd-9a19-16b145284934",
   "metadata": {},
   "outputs": [],
   "source": []
  },
  {
   "cell_type": "code",
   "execution_count": null,
   "id": "c5a77fd1-8d25-4d10-bc25-d45763fba294",
   "metadata": {},
   "outputs": [],
   "source": []
  },
  {
   "cell_type": "code",
   "execution_count": null,
   "id": "ef90231c-bcd1-4e1e-a8e3-9a26d0145dac",
   "metadata": {},
   "outputs": [],
   "source": []
  },
  {
   "cell_type": "code",
   "execution_count": null,
   "id": "633cca15-f0a1-4a66-b759-9228406c0e37",
   "metadata": {},
   "outputs": [],
   "source": []
  },
  {
   "cell_type": "code",
   "execution_count": null,
   "id": "b73c1476-1203-4dc3-8277-811d6f132ae4",
   "metadata": {},
   "outputs": [],
   "source": []
  },
  {
   "cell_type": "code",
   "execution_count": null,
   "id": "0c8d572c-f888-4ec4-991f-4da0f04cd9c2",
   "metadata": {},
   "outputs": [],
   "source": []
  },
  {
   "cell_type": "code",
   "execution_count": null,
   "id": "40223b76-d039-4cbb-8c08-e5290d754ccb",
   "metadata": {},
   "outputs": [],
   "source": []
  },
  {
   "cell_type": "code",
   "execution_count": null,
   "id": "e5c65f06-8bc8-41f9-9b35-f00e2538c582",
   "metadata": {},
   "outputs": [],
   "source": []
  },
  {
   "cell_type": "code",
   "execution_count": null,
   "id": "809cc3c5-7ec3-404f-b438-7ef3db3741e8",
   "metadata": {},
   "outputs": [],
   "source": []
  },
  {
   "cell_type": "code",
   "execution_count": null,
   "id": "bf67ad04-ffed-4eb1-ab1e-e544ae9459be",
   "metadata": {},
   "outputs": [],
   "source": []
  },
  {
   "cell_type": "code",
   "execution_count": null,
   "id": "2db945e0-48f4-4fb2-9741-e7fb21ef7f5c",
   "metadata": {},
   "outputs": [],
   "source": []
  },
  {
   "cell_type": "code",
   "execution_count": null,
   "id": "0edc4093-340e-4e2b-9e03-826306c7ef05",
   "metadata": {},
   "outputs": [],
   "source": []
  },
  {
   "cell_type": "code",
   "execution_count": null,
   "id": "6979e20c-91aa-45b4-9768-04dacfc4e22d",
   "metadata": {},
   "outputs": [],
   "source": []
  },
  {
   "cell_type": "code",
   "execution_count": null,
   "id": "1626d98a-efea-4e2c-90bf-57f34eb1c3d8",
   "metadata": {},
   "outputs": [],
   "source": []
  },
  {
   "cell_type": "code",
   "execution_count": null,
   "id": "e59c663e-fffb-4d5c-b171-5773d062ce0c",
   "metadata": {},
   "outputs": [],
   "source": []
  },
  {
   "cell_type": "code",
   "execution_count": null,
   "id": "fb1ccea5-8704-4df8-b6e2-4478fed77ece",
   "metadata": {},
   "outputs": [],
   "source": []
  },
  {
   "cell_type": "code",
   "execution_count": null,
   "id": "9cc649dc-ad58-4fce-8c18-da8202ec9fd5",
   "metadata": {},
   "outputs": [],
   "source": []
  },
  {
   "cell_type": "code",
   "execution_count": null,
   "id": "a5820fa8-b9d0-4316-ad4e-5478adb78da9",
   "metadata": {},
   "outputs": [],
   "source": []
  },
  {
   "cell_type": "code",
   "execution_count": null,
   "id": "4c848800-22ab-4d5c-97d6-398e7663877e",
   "metadata": {},
   "outputs": [],
   "source": []
  },
  {
   "cell_type": "code",
   "execution_count": null,
   "id": "43c3c547-4018-43f5-a39f-e325f6bd5adc",
   "metadata": {},
   "outputs": [],
   "source": []
  },
  {
   "cell_type": "code",
   "execution_count": null,
   "id": "4ae6269b-9457-4805-8a52-b7c63980d922",
   "metadata": {},
   "outputs": [],
   "source": []
  },
  {
   "cell_type": "code",
   "execution_count": null,
   "id": "ab486b10-22a8-455f-87fd-229bfd8f6384",
   "metadata": {},
   "outputs": [],
   "source": []
  },
  {
   "cell_type": "code",
   "execution_count": null,
   "id": "9da42ccc-ee8f-407a-bc7e-9ebe4fbf5350",
   "metadata": {},
   "outputs": [],
   "source": []
  },
  {
   "cell_type": "code",
   "execution_count": null,
   "id": "6abb3d98-489a-4570-a121-81cd51ee1121",
   "metadata": {},
   "outputs": [],
   "source": []
  },
  {
   "cell_type": "code",
   "execution_count": null,
   "id": "008a913b-81a0-442e-beb6-159e7dc62109",
   "metadata": {},
   "outputs": [],
   "source": []
  },
  {
   "cell_type": "code",
   "execution_count": null,
   "id": "febff9cf-7efa-4a0d-97a7-ba89503705de",
   "metadata": {},
   "outputs": [],
   "source": []
  },
  {
   "cell_type": "code",
   "execution_count": null,
   "id": "00bc7b1e-869c-4d0b-9aa0-2a43b6af5e2b",
   "metadata": {},
   "outputs": [],
   "source": []
  },
  {
   "cell_type": "code",
   "execution_count": null,
   "id": "6ddc251f-aa94-4de7-a94e-3394d45b1876",
   "metadata": {},
   "outputs": [],
   "source": []
  },
  {
   "cell_type": "code",
   "execution_count": null,
   "id": "0383d84a-3e5d-48cd-90fc-bab7c6eda4d3",
   "metadata": {},
   "outputs": [],
   "source": []
  },
  {
   "cell_type": "code",
   "execution_count": null,
   "id": "00d4e386-90e9-4f8f-ad6b-dabc65555216",
   "metadata": {},
   "outputs": [],
   "source": []
  },
  {
   "cell_type": "code",
   "execution_count": null,
   "id": "49415859-a9b9-49e1-88ab-47c0e9173b42",
   "metadata": {},
   "outputs": [],
   "source": []
  },
  {
   "cell_type": "code",
   "execution_count": null,
   "id": "49ec2b7b-d71b-4724-a320-dfb822d6f3c8",
   "metadata": {},
   "outputs": [],
   "source": []
  },
  {
   "cell_type": "code",
   "execution_count": null,
   "id": "001f72ff-6788-4784-bacb-df5c7327c0c1",
   "metadata": {},
   "outputs": [],
   "source": []
  },
  {
   "cell_type": "code",
   "execution_count": null,
   "id": "589244d0-40c7-4599-b80e-49716f6d6aff",
   "metadata": {},
   "outputs": [],
   "source": []
  },
  {
   "cell_type": "code",
   "execution_count": null,
   "id": "0867b1ee-0d19-48f2-b736-51256afc981d",
   "metadata": {},
   "outputs": [],
   "source": []
  },
  {
   "cell_type": "code",
   "execution_count": null,
   "id": "b8410b60-e7df-447f-b736-34049749589c",
   "metadata": {},
   "outputs": [],
   "source": []
  },
  {
   "cell_type": "code",
   "execution_count": null,
   "id": "1331a218-2306-4c2b-a965-3ec53c388e96",
   "metadata": {},
   "outputs": [],
   "source": []
  },
  {
   "cell_type": "code",
   "execution_count": null,
   "id": "f6d7d4f1-5566-4cc2-9b5e-9ea2f6e2ad07",
   "metadata": {},
   "outputs": [],
   "source": []
  },
  {
   "cell_type": "code",
   "execution_count": null,
   "id": "31f7f9ea-1cc1-4288-8860-2e9e070d59b1",
   "metadata": {},
   "outputs": [],
   "source": []
  },
  {
   "cell_type": "code",
   "execution_count": null,
   "id": "c020fef6-e948-4ccb-9333-414fd773d9a3",
   "metadata": {},
   "outputs": [],
   "source": []
  },
  {
   "cell_type": "code",
   "execution_count": null,
   "id": "5fad0800-e14b-4d01-bb71-73c3f33ba423",
   "metadata": {},
   "outputs": [],
   "source": []
  },
  {
   "cell_type": "code",
   "execution_count": null,
   "id": "15528b44-6f6b-4f41-8685-2ac1669e3679",
   "metadata": {},
   "outputs": [],
   "source": []
  },
  {
   "cell_type": "code",
   "execution_count": null,
   "id": "2493315f-cfad-4f71-ad47-6325b33bbdb1",
   "metadata": {},
   "outputs": [],
   "source": []
  },
  {
   "cell_type": "code",
   "execution_count": null,
   "id": "297a4f4b-12d4-4fd8-b71c-6d339e898e47",
   "metadata": {},
   "outputs": [],
   "source": []
  },
  {
   "cell_type": "code",
   "execution_count": null,
   "id": "7c6f8c46-5561-4694-9aad-60a62cbabd45",
   "metadata": {},
   "outputs": [],
   "source": []
  },
  {
   "cell_type": "code",
   "execution_count": null,
   "id": "c1b408a9-9dd8-43a3-8f91-98798bea9807",
   "metadata": {},
   "outputs": [],
   "source": []
  },
  {
   "cell_type": "code",
   "execution_count": null,
   "id": "d33ff5da-9f73-4b9f-afb2-d53027d4137f",
   "metadata": {},
   "outputs": [],
   "source": []
  },
  {
   "cell_type": "code",
   "execution_count": null,
   "id": "03d28ebf-11f9-48a9-8069-8058435cc43b",
   "metadata": {},
   "outputs": [],
   "source": []
  },
  {
   "cell_type": "code",
   "execution_count": null,
   "id": "b1fb323a-31d5-44f1-a640-6d3c4caca6f7",
   "metadata": {},
   "outputs": [],
   "source": []
  }
 ],
 "metadata": {
  "kernelspec": {
   "display_name": "Python 3 (ipykernel)",
   "language": "python",
   "name": "python3"
  },
  "language_info": {
   "codemirror_mode": {
    "name": "ipython",
    "version": 3
   },
   "file_extension": ".py",
   "mimetype": "text/x-python",
   "name": "python",
   "nbconvert_exporter": "python",
   "pygments_lexer": "ipython3",
   "version": "3.10.15"
  }
 },
 "nbformat": 4,
 "nbformat_minor": 5
}
